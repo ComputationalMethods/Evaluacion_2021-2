{
 "cells": [
  {
   "cell_type": "markdown",
   "id": "0949b7a5-6d81-4e98-adc7-a7a1867266a3",
   "metadata": {},
   "source": [
    "### Link a éste GitHub en classroom → ClassWork → Examenes\n",
    "\n",
    "A)\n",
    "1. Cree una función en Python que defina la función\n",
    "$$\n",
    "f(\\lambda)=\\int_0^\\infty \\frac{\\sin(\\lambda x)}{\\operatorname{e}^x}\\operatorname{d}x\n",
    "$$\n",
    "1. Gráfique dicha función para $\\lambda$ entre 0 y 100\n",
    "1. Haga un segundo gráfico añadiendo la derivada de la función\n",
    "\n",
    "Sugerencia: Ignore los \"WARNINGS\" de Scipy\n",
    "\n",
    "B)\n",
    "Construya una matriz aleatoria $3\\times 3$ $\\boldsymbol{Y}$ y genere la matrix\n",
    "$$\n",
    "\\boldsymbol{A}=\\boldsymbol{Y}^{\\operatorname{T}}\\boldsymbol{Y}\n",
    "$$\n",
    "\n",
    "1. Obtenga los autovalores y autovectores de $\\boldsymbol{A}$ en orden ascendente en valor absoluto de los autovalores\n",
    "1. Compruebe que los atovalores de $\\boldsymbol{Y}$ corresponden a la raíz cuadrada de los autovalores de  $\\boldsymbol{A}$ y explique porqué"
   ]
  },
  {
   "cell_type": "code",
   "execution_count": 1,
   "id": "c647805c-56ed-4634-8322-d42d229b1673",
   "metadata": {},
   "outputs": [
    {
     "name": "stdout",
     "output_type": "stream",
     "text": [
      "Populating the interactive namespace from numpy and matplotlib\n"
     ]
    }
   ],
   "source": [
    "%pylab inline"
   ]
  },
  {
   "cell_type": "code",
   "execution_count": 1,
   "id": "e522e051-4ed5-49a7-afd8-5ff6029c8730",
   "metadata": {},
   "outputs": [],
   "source": [
    "import numpy as np\n",
    "from scipy import integrate\n",
    "from scipy import misc"
   ]
  },
  {
   "cell_type": "markdown",
   "id": "ec2889ef-0550-405d-a329-40508134636e",
   "metadata": {},
   "source": [
    "A)"
   ]
  },
  {
   "cell_type": "code",
   "execution_count": 7,
   "id": "5f33435f-c98f-4580-9dc9-abf3f860e847",
   "metadata": {},
   "outputs": [],
   "source": [
    "def f(λ):\n",
    "    return integrate.quad(lambda x: np.sin(λ*x)/np.exp(x),0,np.Inf)[0]"
   ]
  },
  {
   "cell_type": "code",
   "execution_count": 8,
   "id": "0d41b62d-152a-41ae-80df-2b033387b73a",
   "metadata": {},
   "outputs": [],
   "source": [
    "f=vectorize(f)"
   ]
  },
  {
   "cell_type": "code",
   "execution_count": 9,
   "id": "f7480e55-5bcb-4e9c-8069-4bfbe1427c1d",
   "metadata": {},
   "outputs": [],
   "source": [
    "derivative=np.vectorize(misc.derivative)"
   ]
  },
  {
   "cell_type": "code",
   "execution_count": 13,
   "id": "417ee8bf-f080-48bf-8811-4f0e23150a70",
   "metadata": {},
   "outputs": [
    {
     "name": "stderr",
     "output_type": "stream",
     "text": [
      "/tmp/ipykernel_2099774/3342305607.py:2: RuntimeWarning: overflow encountered in exp\n",
      "  return integrate.quad(lambda x: np.sin(λ*x)/np.exp(x),0,np.Inf)[0]\n",
      "/tmp/ipykernel_2099774/3342305607.py:2: IntegrationWarning: The maximum number of subdivisions (50) has been achieved.\n",
      "  If increasing the limit yields no improvement it is advised to analyze \n",
      "  the integrand in order to determine the difficulties.  If the position of a \n",
      "  local difficulty can be determined (singularity, discontinuity) one will \n",
      "  probably gain from splitting up the interval and calling the integrator \n",
      "  on the subranges.  Perhaps a special-purpose integrator should be used.\n",
      "  return integrate.quad(lambda x: np.sin(λ*x)/np.exp(x),0,np.Inf)[0]\n",
      "/tmp/ipykernel_2099774/3342305607.py:2: IntegrationWarning: The integral is probably divergent, or slowly convergent.\n",
      "  return integrate.quad(lambda x: np.sin(λ*x)/np.exp(x),0,np.Inf)[0]\n",
      "/tmp/ipykernel_2099774/3342305607.py:2: RuntimeWarning: overflow encountered in exp\n",
      "  return integrate.quad(lambda x: np.sin(λ*x)/np.exp(x),0,np.Inf)[0]\n",
      "/tmp/ipykernel_2099774/3342305607.py:2: IntegrationWarning: The maximum number of subdivisions (50) has been achieved.\n",
      "  If increasing the limit yields no improvement it is advised to analyze \n",
      "  the integrand in order to determine the difficulties.  If the position of a \n",
      "  local difficulty can be determined (singularity, discontinuity) one will \n",
      "  probably gain from splitting up the interval and calling the integrator \n",
      "  on the subranges.  Perhaps a special-purpose integrator should be used.\n",
      "  return integrate.quad(lambda x: np.sin(λ*x)/np.exp(x),0,np.Inf)[0]\n",
      "/tmp/ipykernel_2099774/3342305607.py:2: IntegrationWarning: The integral is probably divergent, or slowly convergent.\n",
      "  return integrate.quad(lambda x: np.sin(λ*x)/np.exp(x),0,np.Inf)[0]\n"
     ]
    },
    {
     "data": {
      "text/plain": [
       "(0.001, 100.0)"
      ]
     },
     "execution_count": 13,
     "metadata": {},
     "output_type": "execute_result"
    },
    {
     "data": {
      "image/png": "[encoded data removed]",
      "text/plain": [
       "<Figure size 432x288 with 1 Axes>"
      ]
     },
     "metadata": {
      "needs_background": "light"
     },
     "output_type": "display_data"
    }
   ],
   "source": [
    "λ=np.logspace(np.log10(1E-3),np.log10(100),1000)\n",
    "plt.semilogx(λ,f(λ),'k-',label=r'$f(\\lambda)$')\n",
    "plt.plot(λ,derivative(f,λ),'r-',label=r\"$f'(\\lambda)$\")\n",
    "plt.grid()\n",
    "plt.xlabel(r'$\\lambda$',size=15)\n",
    "plt.legend(fontsize=15)\n",
    "plt.xlim(λ.min(),λ.max())\n"
   ]
  },
  {
   "cell_type": "markdown",
   "id": "2ac6fbb5-f26c-4ace-8ae1-9499f1a4e0d8",
   "metadata": {},
   "source": [
    "B)"
   ]
  },
  {
   "cell_type": "markdown",
   "id": "267f6ca0-bb1b-4ec1-bb3d-827f63c5b413",
   "metadata": {},
   "source": [
    "1."
   ]
  },
  {
   "cell_type": "code",
   "execution_count": 3,
   "id": "312928b6-d53d-4033-b57a-82180bd15e2f",
   "metadata": {},
   "outputs": [
    {
     "data": {
      "text/plain": [
       "array([[4.17022005e-01, 7.20324493e-01, 1.14374817e-04],\n",
       "       [3.02332573e-01, 1.46755891e-01, 9.23385948e-02],\n",
       "       [1.86260211e-01, 3.45560727e-01, 3.96767474e-01]])"
      ]
     },
     "execution_count": 3,
     "metadata": {},
     "output_type": "execute_result"
    }
   ],
   "source": [
    "np.random.seed(1)\n",
    "Y=np.random.random((3,3))\n",
    "Y"
   ]
  },
  {
   "cell_type": "code",
   "execution_count": 4,
   "id": "fd91abb4-42c9-461e-9c6f-771c54a7c964",
   "metadata": {},
   "outputs": [
    {
     "data": {
      "text/plain": [
       "array([[0.3000052 , 0.40912446, 0.10186666],\n",
       "       [0.40912446, 0.65981688, 0.15074088],\n",
       "       [0.10186666, 0.15074088, 0.16595086]])"
      ]
     },
     "execution_count": 4,
     "metadata": {},
     "output_type": "execute_result"
    }
   ],
   "source": [
    "A=Y.transpose()@Y\n",
    "A"
   ]
  },
  {
   "cell_type": "code",
   "execution_count": 5,
   "id": "502a496a-8211-4958-835e-78a32125a1cf",
   "metadata": {},
   "outputs": [],
   "source": [
    "λ,V=np.linalg.eig(A)"
   ]
  },
  {
   "cell_type": "code",
   "execution_count": 6,
   "id": "29aad7a6-ceb5-4b54-a7a4-3d40d22bbb8c",
   "metadata": {},
   "outputs": [
    {
     "data": {
      "text/plain": [
       "array([1, 2, 0])"
      ]
     },
     "execution_count": 6,
     "metadata": {},
     "output_type": "execute_result"
    }
   ],
   "source": [
    "λo=np.argsort(λ)\n",
    "λo"
   ]
  },
  {
   "cell_type": "code",
   "execution_count": 7,
   "id": "d8e0e404-65ad-492e-9c18-3d505f6d09a2",
   "metadata": {},
   "outputs": [
    {
     "data": {
      "text/plain": [
       "array([[ 0.84038979, -0.09491425,  0.53360687],\n",
       "       [-0.54113268, -0.2020538 ,  0.81630245],\n",
       "       [-0.03033856,  0.97476435,  0.22116515]])"
      ]
     },
     "execution_count": 7,
     "metadata": {},
     "output_type": "execute_result"
    }
   ],
   "source": [
    "U=np.c_[ tuple( np.c_[V[:,λo[i]]] for i in range(3) ) ]\n",
    "U"
   ]
  },
  {
   "cell_type": "code",
   "execution_count": 8,
   "id": "6b453d0f-a80b-4203-adeb-f6e614053dac",
   "metadata": {},
   "outputs": [
    {
     "data": {
      "text/plain": [
       "array([[ 0.03288974, -0.        ,  0.        ],\n",
       "       [-0.        ,  0.12478566, -0.        ],\n",
       "       [ 0.        , -0.        ,  0.96809754]])"
      ]
     },
     "execution_count": 8,
     "metadata": {},
     "output_type": "execute_result"
    }
   ],
   "source": [
    "(U.transpose()@A@U).round(15)"
   ]
  },
  {
   "cell_type": "markdown",
   "id": "5b406afd-d168-42bf-9430-20365ccdb7f7",
   "metadata": {},
   "source": [
    "2."
   ]
  },
  {
   "cell_type": "code",
   "execution_count": 9,
   "id": "499c9034-51ed-4402-a717-a80df97814c4",
   "metadata": {},
   "outputs": [],
   "source": [
    "from scipy import linalg"
   ]
  },
  {
   "cell_type": "code",
   "execution_count": 10,
   "id": "a7dfd8e9-c394-4621-950e-763448a0e2c3",
   "metadata": {},
   "outputs": [],
   "source": [
    "(v,λsqrt,u)=linalg.svd(Y)"
   ]
  },
  {
   "cell_type": "code",
   "execution_count": 11,
   "id": "0a87a204-9abb-4f60-a140-b19938255149",
   "metadata": {},
   "outputs": [
    {
     "data": {
      "text/plain": [
       "array([0.96809754, 0.12478566, 0.03288974])"
      ]
     },
     "execution_count": 11,
     "metadata": {},
     "output_type": "execute_result"
    }
   ],
   "source": [
    "λsqrt**2"
   ]
  },
  {
   "cell_type": "code",
   "execution_count": null,
   "id": "ec755417-bda1-4616-9026-1d14bd1564db",
   "metadata": {},
   "outputs": [],
   "source": [
    "np.linalg.eigvals(Y)"
   ]
  }
 ],
 "metadata": {
  "kernelspec": {
   "display_name": "Python 3 (ipykernel)",
   "language": "python",
   "name": "python3"
  },
  "language_info": {
   "codemirror_mode": {
    "name": "ipython",
    "version": 3
   },
   "file_extension": ".py",
   "mimetype": "text/x-python",
   "name": "python",
   "nbconvert_exporter": "python",
   "pygments_lexer": "ipython3",
   "version": "3.9.2"
  }
 },
 "nbformat": 4,
 "nbformat_minor": 5
}
