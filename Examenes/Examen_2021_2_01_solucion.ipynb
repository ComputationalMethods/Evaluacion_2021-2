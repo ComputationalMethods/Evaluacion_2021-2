{
 "cells": [
  {
   "cell_type": "markdown",
   "metadata": {
    "id": "BmtszDtPpcXm"
   },
   "source": [
    "__Ver enunciado en Classroom → Examenes__:\n",
    "\n",
    "Los siguientes datos fueron extraidos de los datos para la cuarta ola de infecciones por millon de  habitantes (IPMH) de Colombia por la variante Omicrón del Coronavirus\n",
    "\n",
    "A) Genere un data frame de pandas y agregé una nueva columna de IPMH con una incertidubre del 2 por mil aleatoria. Es decir, a cada IPMH sumarle o restarle un número aleatorio en el rango de su 2 por mil.\n",
    "\n",
    "B) Interprete los datos como un problema de caida libre y a partir del ajuste (fit) a la correspondiente ecuación de movimiento, determine (para la columna con incertidumbre)\n",
    "1. La velocidad inicial de IPMH  en `IPMH/día`\n",
    "1. La aceleración constante en `IPMH/día**2`\n",
    "1. El número máximo de IPMH que se alcanzaría\n",
    "1. El número de días en el que se alcanzaría dicho máximo\n",
    "1. Realice una gráfico que muestré el ajuste y la posición del máximo usando los estándares adecuados\n",
    "\n",
    "DATOS\n",
    "```python  \n",
    "[\n",
    "    {'día':1,'IPMH':464},\n",
    "    {'día':2,'IPMH':494},\n",
    "    {'día':3,'IPMH':532},\n",
    "    {'día':4,'IPMH':552},\n",
    "    {'día':5,'IPMH':576},\n",
    "    {'día':6,'IPMH':589}\n",
    "]\n",
    "```"
   ]
  },
  {
   "cell_type": "code",
   "execution_count": 19,
   "metadata": {},
   "outputs": [
    {
     "name": "stdout",
     "output_type": "stream",
     "text": [
      "Populating the interactive namespace from numpy and matplotlib\n"
     ]
    }
   ],
   "source": [
    "%pylab inline"
   ]
  },
  {
   "cell_type": "code",
   "execution_count": 3,
   "metadata": {},
   "outputs": [],
   "source": [
    "import pandas as pd\n",
    "import numpy as np"
   ]
  },
  {
   "cell_type": "code",
   "execution_count": 2,
   "metadata": {},
   "outputs": [
    {
     "data": {
      "text/html": [
       "<div>\n",
       "<style scoped>\n",
       "    .dataframe tbody tr th:only-of-type {\n",
       "        vertical-align: middle;\n",
       "    }\n",
       "\n",
       "    .dataframe tbody tr th {\n",
       "        vertical-align: top;\n",
       "    }\n",
       "\n",
       "    .dataframe thead th {\n",
       "        text-align: right;\n",
       "    }\n",
       "</style>\n",
       "<table border=\"1\" class=\"dataframe\">\n",
       "  <thead>\n",
       "    <tr style=\"text-align: right;\">\n",
       "      <th></th>\n",
       "      <th>día</th>\n",
       "      <th>IPMH</th>\n",
       "    </tr>\n",
       "  </thead>\n",
       "  <tbody>\n",
       "    <tr>\n",
       "      <th>0</th>\n",
       "      <td>1</td>\n",
       "      <td>464</td>\n",
       "    </tr>\n",
       "    <tr>\n",
       "      <th>1</th>\n",
       "      <td>2</td>\n",
       "      <td>494</td>\n",
       "    </tr>\n",
       "    <tr>\n",
       "      <th>2</th>\n",
       "      <td>3</td>\n",
       "      <td>532</td>\n",
       "    </tr>\n",
       "    <tr>\n",
       "      <th>3</th>\n",
       "      <td>4</td>\n",
       "      <td>552</td>\n",
       "    </tr>\n",
       "    <tr>\n",
       "      <th>4</th>\n",
       "      <td>5</td>\n",
       "      <td>576</td>\n",
       "    </tr>\n",
       "    <tr>\n",
       "      <th>5</th>\n",
       "      <td>6</td>\n",
       "      <td>589</td>\n",
       "    </tr>\n",
       "  </tbody>\n",
       "</table>\n",
       "</div>"
      ],
      "text/plain": [
       "   día  IPMH\n",
       "0    1   464\n",
       "1    2   494\n",
       "2    3   532\n",
       "3    4   552\n",
       "4    5   576\n",
       "5    6   589"
      ]
     },
     "execution_count": 2,
     "metadata": {},
     "output_type": "execute_result"
    }
   ],
   "source": [
    "df=pd.DataFrame([\n",
    "    {'día':1,'IPMH':464},\n",
    "    {'día':2,'IPMH':494},\n",
    "    {'día':3,'IPMH':532},\n",
    "    {'día':4,'IPMH':552},\n",
    "    {'día':5,'IPMH':576},\n",
    "    {'día':6,'IPMH':589}\n",
    "   ])\n",
    "df"
   ]
  },
  {
   "cell_type": "code",
   "execution_count": 9,
   "metadata": {},
   "outputs": [],
   "source": [
    "df['IPMHr']=df['IPMH']+np.random.uniform(-0.002,0.002,df.shape[0])"
   ]
  },
  {
   "cell_type": "code",
   "execution_count": 10,
   "metadata": {},
   "outputs": [
    {
     "data": {
      "text/html": [
       "<div>\n",
       "<style scoped>\n",
       "    .dataframe tbody tr th:only-of-type {\n",
       "        vertical-align: middle;\n",
       "    }\n",
       "\n",
       "    .dataframe tbody tr th {\n",
       "        vertical-align: top;\n",
       "    }\n",
       "\n",
       "    .dataframe thead th {\n",
       "        text-align: right;\n",
       "    }\n",
       "</style>\n",
       "<table border=\"1\" class=\"dataframe\">\n",
       "  <thead>\n",
       "    <tr style=\"text-align: right;\">\n",
       "      <th></th>\n",
       "      <th>día</th>\n",
       "      <th>IPMH</th>\n",
       "      <th>IPMHr</th>\n",
       "    </tr>\n",
       "  </thead>\n",
       "  <tbody>\n",
       "    <tr>\n",
       "      <th>0</th>\n",
       "      <td>1</td>\n",
       "      <td>464</td>\n",
       "      <td>464.000586</td>\n",
       "    </tr>\n",
       "    <tr>\n",
       "      <th>1</th>\n",
       "      <td>2</td>\n",
       "      <td>494</td>\n",
       "      <td>494.001162</td>\n",
       "    </tr>\n",
       "    <tr>\n",
       "      <th>2</th>\n",
       "      <td>3</td>\n",
       "      <td>532</td>\n",
       "      <td>531.998096</td>\n",
       "    </tr>\n",
       "    <tr>\n",
       "      <th>3</th>\n",
       "      <td>4</td>\n",
       "      <td>552</td>\n",
       "      <td>551.998534</td>\n",
       "    </tr>\n",
       "    <tr>\n",
       "      <th>4</th>\n",
       "      <td>5</td>\n",
       "      <td>576</td>\n",
       "      <td>576.001506</td>\n",
       "    </tr>\n",
       "    <tr>\n",
       "      <th>5</th>\n",
       "      <td>6</td>\n",
       "      <td>589</td>\n",
       "      <td>588.998647</td>\n",
       "    </tr>\n",
       "  </tbody>\n",
       "</table>\n",
       "</div>"
      ],
      "text/plain": [
       "   día  IPMH       IPMHr\n",
       "0    1   464  464.000586\n",
       "1    2   494  494.001162\n",
       "2    3   532  531.998096\n",
       "3    4   552  551.998534\n",
       "4    5   576  576.001506\n",
       "5    6   589  588.998647"
      ]
     },
     "execution_count": 10,
     "metadata": {},
     "output_type": "execute_result"
    }
   ],
   "source": [
    "df"
   ]
  },
  {
   "cell_type": "code",
   "execution_count": 13,
   "metadata": {},
   "outputs": [],
   "source": [
    "c=np.polyfit(df['día'],df['IPMHr'],2)"
   ]
  },
  {
   "cell_type": "code",
   "execution_count": 17,
   "metadata": {},
   "outputs": [
    {
     "name": "stdout",
     "output_type": "stream",
     "text": [
      "        2\n",
      "-2.518 t + 43.08 t + 421.9\n"
     ]
    }
   ],
   "source": [
    "I=np.poly1d(c,variable='t')\n",
    "print(I)"
   ]
  },
  {
   "cell_type": "markdown",
   "metadata": {},
   "source": [
    "$$ I(t)=\\frac12 a t^2+v_0 t +I_0 $$"
   ]
  },
  {
   "cell_type": "code",
   "execution_count": 51,
   "metadata": {},
   "outputs": [
    {
     "name": "stdout",
     "output_type": "stream",
     "text": [
      "velocidad inicial: v_0= 43.08  IPMH/día\n"
     ]
    }
   ],
   "source": [
    "print(f'velocidad inicial: v_0= {round(c[1],2)}  IPMH/día')"
   ]
  },
  {
   "cell_type": "code",
   "execution_count": 53,
   "metadata": {},
   "outputs": [
    {
     "name": "stdout",
     "output_type": "stream",
     "text": [
      "aceleración: a=-5.04 IPMH/día²\n"
     ]
    }
   ],
   "source": [
    "print(f'aceleración: a={round(c[0],2)*2} IPMH/día²')"
   ]
  },
  {
   "cell_type": "code",
   "execution_count": 35,
   "metadata": {},
   "outputs": [],
   "source": [
    "tmax=I.deriv().roots[0]"
   ]
  },
  {
   "cell_type": "code",
   "execution_count": 55,
   "metadata": {},
   "outputs": [
    {
     "name": "stdout",
     "output_type": "stream",
     "text": [
      "Máximo de infectados 606.2 en 8.56 días\n"
     ]
    }
   ],
   "source": [
    "print(f'Máximo de infectados {round(I(tmax),1)} en {round(tmax,2)} días')"
   ]
  },
  {
   "cell_type": "code",
   "execution_count": 42,
   "metadata": {},
   "outputs": [
    {
     "data": {
      "text/plain": [
       "<matplotlib.legend.Legend at 0x7f0eb81e6f70>"
      ]
     },
     "execution_count": 42,
     "metadata": {},
     "output_type": "execute_result"
    },
    {
     "data": {
      "image/png": "[encoded data removed]",
      "text/plain": [
       "<Figure size 432x288 with 1 Axes>"
      ]
     },
     "metadata": {
      "needs_background": "light"
     },
     "output_type": "display_data"
    }
   ],
   "source": [
    "t=np.linspace(df['día'].min()-1,df['día'].max()+4)\n",
    "plt.plot(df['día'],df['IPMHr'],'ro')\n",
    "plt.plot(t,I(t),'k-')\n",
    "plt.plot(tmax,I(tmax),'y*',markersize=12,label='máximo')\n",
    "plt.grid()\n",
    "plt.xlabel('días',size=15)\n",
    "plt.ylabel('Número de infectados',size=15)\n",
    "plt.legend()"
   ]
  },
  {
   "cell_type": "code",
   "execution_count": null,
   "metadata": {},
   "outputs": [],
   "source": []
  }
 ],
 "metadata": {
  "colab": {
   "include_colab_link": true,
   "name": "Examen_2021_1_02_enunciado.ipynb",
   "provenance": []
  },
  "kernelspec": {
   "display_name": "Python 3 (ipykernel)",
   "language": "python",
   "name": "python3"
  },
  "language_info": {
   "codemirror_mode": {
    "name": "ipython",
    "version": 3
   },
   "file_extension": ".py",
   "mimetype": "text/x-python",
   "name": "python",
   "nbconvert_exporter": "python",
   "pygments_lexer": "ipython3",
   "version": "3.9.2"
  }
 },
 "nbformat": 4,
 "nbformat_minor": 4
}
