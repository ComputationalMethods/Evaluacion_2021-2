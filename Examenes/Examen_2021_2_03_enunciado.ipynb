{
 "cells": [
  {
   "cell_type": "markdown",
   "metadata": {
    "id": "5NJCNfpmrHtj",
    "tags": []
   },
   "source": [
    "## Examen 3\n",
    "\n",
    "1) Determine el espacio de configuraciones: es decir, con todas las condiciones iniciales posibles, en los ejes $(x,v)$, del movimiento horizontal con fricción de una masa de $0.2\\ \\text{Kg}$ atada a un resorte de constante elástica $k=1\\ \\text{N/m}$. $x$ es la posicion y $v$ velocidad. \n",
    "\n",
    "\n"
   ]
  },
  {
   "cell_type": "markdown",
   "metadata": {},
   "source": [
    "2) Considere una muestra de Strontium-90, ${}^{90}_{38}\\text{Sr}$, que contieme inicialmente 1000 núcleos de Strontium-90 sin decaer. En la base de datos: \n",
    "\n",
    "[https://raw.githubusercontent.com/restrepo/ComputationalMethods/master/data/strontium.json](https://raw.githubusercontent.com/restrepo/ComputationalMethods/master/data/strontium.json) \n",
    "\n",
    "se tienen los datos de decaimiento durante 200 años. Despues de 10 años quedan 809 nucleos sin decaer, después de 22 años quedan 564 y así sucesivamente. \n",
    "\n",
    "El decaimiento radiativo está determinado por la formula\n",
    "$$\n",
    "N(t)=N_0 \\operatorname{e}^{-\\lambda t}\\,,\\qquad \\lambda=\\frac{\\ln(2)}{\\tau}\n",
    "$$\n",
    "* $N(t)$ es el número de núcleos radioactivos que qedan despues de un tiempo $t$\n",
    "* $N_0$ es el número inicial de las partículas presentes (es decir, $t=0$)\n",
    "* $\\lambda$ es la constante de decaimiento\n",
    "* $\\tau$ es la vida medía, es decir, el tiempo durante el cual la mitad de la muestra radioactiva ha decaído.\n",
    "\n",
    "(a) Realice un fit a los datos y determine la vida media con su respectivo error.\n",
    "\n",
    "(b) Grafique los datos como puntos en el plano $t$, $N(t)$ y el correspondiente al fit"
   ]
  }
 ],
 "metadata": {
  "colab": {
   "name": "Examen_2020_2_03_enunciado.ipynb",
   "provenance": []
  },
  "kernelspec": {
   "display_name": "Python 3 (ipykernel)",
   "language": "python",
   "name": "python3"
  },
  "language_info": {
   "codemirror_mode": {
    "name": "ipython",
    "version": 3
   },
   "file_extension": ".py",
   "mimetype": "text/x-python",
   "name": "python",
   "nbconvert_exporter": "python",
   "pygments_lexer": "ipython3",
   "version": "3.9.2"
  }
 },
 "nbformat": 4,
 "nbformat_minor": 4
}
