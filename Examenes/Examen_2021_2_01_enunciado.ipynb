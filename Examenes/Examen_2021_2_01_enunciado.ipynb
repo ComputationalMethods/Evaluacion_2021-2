{
 "cells": [
  {
   "cell_type": "markdown",
   "metadata": {
    "id": "BmtszDtPpcXm"
   },
   "source": [
    "__Ver enunciado en Classroom → Examenes__:\n",
    "\n",
    "Los siguientes datos fueron extraidos de los datos para la cuarta ola de infecciones por millon de  habitantes (IPMH) de Colombia por la variante Omicrón del Coronavirus\n",
    "\n",
    "A) Genere un data frame de pandas y agregé una nueva columna de IPMH con una incertidubre del 2 por mil aleatoria. Es decir, a cada IPMH sumarle o restarle un número aleatorio en el rango de su 2 por mil.\n",
    "\n",
    "B) Interprete los datos como un problema de caida libre y a partir del ajuste (fit) a la correspondiente ecuación de movimiento, determine (para la columna con incertidumbre)\n",
    "1. La velocidad inicial de IPMH  en `IPMH/día`\n",
    "1. La aceleración constante en `IPMH/día**2`\n",
    "1. El número máximo de IPMH que se alcanzaría\n",
    "1. El número de días en el que se alcanzaría dicho máximo\n",
    "1. Realice una gráfico que muestré el ajuste y la posición del máximo usando los estándares adecuados\n",
    "\n",
    "DATOS\n",
    "```python  \n",
    "[\n",
    "    {'día':1,'IPMH':464},\n",
    "    {'día':2,'IPMH':494},\n",
    "    {'día':3,'IPMH':532},\n",
    "    {'día':4,'IPMH':552},\n",
    "    {'día':5,'IPMH':576},\n",
    "    {'día':6,'IPMH':589}\n",
    "]\n",
    "```"
   ]
  },
  {
   "cell_type": "code",
   "execution_count": null,
   "metadata": {},
   "outputs": [],
   "source": []
  }
 ],
 "metadata": {
  "colab": {
   "include_colab_link": true,
   "name": "Examen_2021_1_02_enunciado.ipynb",
   "provenance": []
  },
  "kernelspec": {
   "display_name": "Python 3 (ipykernel)",
   "language": "python",
   "name": "python3"
  },
  "language_info": {
   "codemirror_mode": {
    "name": "ipython",
    "version": 3
   },
   "file_extension": ".py",
   "mimetype": "text/x-python",
   "name": "python",
   "nbconvert_exporter": "python",
   "pygments_lexer": "ipython3",
   "version": "3.9.2"
  }
 },
 "nbformat": 4,
 "nbformat_minor": 4
}
