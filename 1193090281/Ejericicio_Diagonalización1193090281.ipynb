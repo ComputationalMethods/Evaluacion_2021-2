{
  "nbformat": 4,
  "nbformat_minor": 0,
  "metadata": {
    "colab": {
      "name": "Ejericicio_Diagonalización1193090281.ipynb",
      "provenance": [],
      "collapsed_sections": []
    },
    "kernelspec": {
      "name": "python3",
      "display_name": "Python 3"
    },
    "language_info": {
      "name": "python"
    }
  },
  "cells": [
    {
      "cell_type": "markdown",
      "source": [
        "ACTIVIDAD DIAGONALIZACIÓN DE MATRICES: REEMPLAZO AL METODO LINGALN.EIG"
      ],
      "metadata": {
        "id": "pKpKhvGpHGjD"
      }
    },
    {
      "cell_type": "code",
      "execution_count": 131,
      "metadata": {
        "colab": {
          "base_uri": "https://localhost:8080/"
        },
        "id": "f2oYYpE-HE-2",
        "outputId": "8c2a4631-9708-461a-a527-f0ea282c2755"
      },
      "outputs": [
        {
          "output_type": "stream",
          "name": "stdout",
          "text": [
            "([5, 6 - sqrt(26), sqrt(26) + 6], Matrix([\n",
            "[ 0,           -4,             0],\n",
            "[-4, 1 + sqrt(26),            -3],\n",
            "[ 0,           -3, -sqrt(26) - 1]]))\n",
            "[5, 6 - sqrt(26), sqrt(26) + 6]\n",
            "Matrix([[0, -4, 0], [-4, 1 + sqrt(26), -3], [0, -3, -sqrt(26) - 1]])\n"
          ]
        }
      ],
      "source": [
        "import numpy as np\n",
        "import sympy as sp\n",
        "\n",
        "mat= np.array([[ 5, -4,  0],[-4,  7, -3],[ 0, -3,  5]])\n",
        "mat= Matrix(mat)\n",
        "\n",
        "\n",
        "id= np.array([[ 1, 0,  0],[0,  1, 0],[ 0, 0,  1]])\n",
        "\n",
        "\n",
        "def funlinalg(x):\n",
        "    \"\"\"\n",
        "    :param x:  Matriz\n",
        "    :return:  valpro: Valores propios de la matriz\n",
        "              matvec: Vectores propios de la matriz \n",
        "    Se define una función que permitirá calcular los valores y vectores propios\n",
        "    de una matriz dada\n",
        "    \"\"\"\n",
        "    lambd= sp.Symbol(\"λ\")\n",
        "    matsid= Matrix(id*lambd)\n",
        "    matdet= Matrix(x-matsid)  \n",
        "    det= matdet.det()\n",
        "    valpro= solve(det)\n",
        "    matfin= Matrix(valpro*id)\n",
        "    matvec= Matrix(mat-matfin)\n",
        "    return  valpro, matvec\n",
        "\n",
        "valpro,matvec= funlinalg(mat)\n",
        "\n",
        "print(funlinalg(mat))\n",
        "print(valpro)\n",
        "print(matvec)\n",
        "\n",
        "\n",
        "\n",
        "\n",
        "\n"
      ]
    }
  ]
}