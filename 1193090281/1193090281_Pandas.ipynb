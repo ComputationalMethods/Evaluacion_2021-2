{
  "cells": [
    {
      "cell_type": "markdown",
      "metadata": {
        "cell_id": "00001-0bfa3d46-76d2-4b2c-ac43-a47b10e8dd42",
        "deepnote_cell_type": "markdown",
        "id": "d8BGX58hxE06"
      },
      "source": [
        "# Pandas\n",
        "<a href=\"https://colab.research.google.com/github/restrepo/ComputationalMethods/blob/master/material/Pandas.ipynb\" target=\"_parent\"><img src=\"https://colab.research.google.com/assets/colab-badge.svg\" alt=\"Open In Colab\"/></a>"
      ]
    },
    {
      "cell_type": "markdown",
      "metadata": {
        "cell_id": "00002-a39b4545-ea8c-4c33-9821-2e035ea68068",
        "deepnote_cell_type": "markdown",
        "id": "zm9tRsn7xE0_"
      },
      "source": [
        "From http://pandas.pydata.org/pandas-docs/stable/\n",
        "\n",
        "pandas is a Python package providing fast, flexible, and expressive data structures designed to make working with “relational” or “labeled” data both easy and intuitive. It aims to be the fundamental high-level building block for doing practical, real world data analysis in Python. Additionally, it has the broader goal of becoming the most powerful and flexible open source data analysis / manipulation tool available in any language. It is already well on its way toward this goal.\n",
        "\n",
        "See also:\n",
        "\n",
        "* https://github.com/restrepo/data-analysis\n",
        "  * https://classroom.github.com/g/sSMBdBqN\n",
        "  * https://classroom.github.com/a/PcbQBE7F\n",
        "* https://github.com/restrepo/PythonTipsAndTricks\n",
        "* https://pbpython.com/excel-pandas-comp.html [[archive.org](https://web.archive.org/web/20201126143453/https://pbpython.com/excel-pandas-comp.html)]"
      ]
    },
    {
      "cell_type": "markdown",
      "metadata": {
        "cell_id": "00003-eedb4370-f372-408b-9c5b-493892545a83",
        "deepnote_cell_type": "markdown",
        "id": "3tmsQZLaJrzf"
      },
      "source": [
        "Good and practice books about `Pandas` possibilities are:\n",
        "\n",
        "\n",
        "[__Python for Data Analysis__](https://drive.google.com/open?id=0BxoOXsn2EUNIWExXbVc4SDN0YTQ)<br/>\n",
        "Data Wrangling with Pandas, NumPy, and IPython<br/>\n",
        "_By William McKinney_\n",
        "\n",
        "\n",
        "This other is about aplications based on `Pandas`:\n",
        "![image.png](https://covers.oreillystatic.com/images/0636920030515/cat.gif) [Introduction to Machine Learning with Python](https://drive.google.com/open?id=0BxoOXsn2EUNISGhrdEZ3S29fS3M)<br/>\n",
        "A Guide for Data Scientists\n",
        "By Sarah Guido, Andreas Müller\n",
        "\n",
        "[Python Books](https://drive.google.com/drive/u/0/folders/0BxoOXsn2EUNIUFFUWUkxd0JSVFk?resourcekey=0-Eo6AxHgut_mZ1-M3vD10oQ)\n",
        "\n",
        "`Pandas` can be used in a similar way to `R`, which is based on similar data structures. `Pandas` also can replace the use of graphical interfaces to access spreadsheets like Excel. In particular, can be used in joint with the module [`xlsxwriter`](https://xlsxwriter.readthedocs.io/tutorial02.html) to produce professional Excel spreadsheets at the programatical level.\n",
        "\n",
        "The similar data structure in Wolfram Alpha and Mathematica is  the `Dataset`, in C++ is the ROOT framework, and in the old Fortran 77 was `paw`. In this way, a dictionary of equivalent commands can be stablished between the several frameworks"
      ]
    },
    {
      "cell_type": "markdown",
      "metadata": {
        "cell_id": "00004-3b86c23e-e896-4ea9-a25d-b66422b19630",
        "deepnote_cell_type": "markdown",
        "id": "zd4jo7KLxE1C"
      },
      "source": [
        "## Standard way to load the module"
      ]
    },
    {
      "cell_type": "code",
      "execution_count": null,
      "metadata": {
        "cell_id": "00005-8f9079dd-73f3-4214-9b12-a007b2b221a9",
        "deepnote_cell_type": "code",
        "deepnote_to_be_reexecuted": false,
        "execution_start": 1627405767098,
        "id": "K3BSlyLBxE1E",
        "source_hash": "9b82ee11"
      },
      "outputs": [],
      "source": [
        "import pandas as pd"
      ]
    },
    {
      "cell_type": "markdown",
      "metadata": {
        "cell_id": "00006-934fccd7-fef5-46fb-aa5b-3763a9df25a2",
        "deepnote_cell_type": "markdown",
        "id": "I7Hbe9JEadOC"
      },
      "source": [
        "## Basic structure: DataFrame"
      ]
    },
    {
      "cell_type": "markdown",
      "metadata": {
        "cell_id": "00007-db7b469d-ba71-4e06-8bbd-d90e212a02d5",
        "deepnote_cell_type": "markdown",
        "id": "IE_Vzycqajls"
      },
      "source": [
        "An flat _spreadsheet_ can be seen in terms of the types of variables of `Python` just as dictionary of lists, where each column of the spreadsheet is a pair key-list of the dictionary \n",
        "\n",
        "|   |  A   |  B   |\n",
        "|---|:----:|:----:|\n",
        "| 1 | even | odd  |\n",
        "| 2 |   0  | 1    |\n",
        "| 3 |   2  | 3    |\n",
        "| 4 |   4  | 5    |\n",
        "| 5 |   6  | 7    |\n",
        "| 6 |   8  | 9    |"
      ]
    },
    {
      "cell_type": "code",
      "execution_count": null,
      "metadata": {
        "cell_id": "00008-28de7f9e-e38f-489f-a753-c739eba5c428",
        "deepnote_cell_type": "code",
        "id": "lxEc0jlHauyc"
      },
      "outputs": [],
      "source": [
        "numbers={\"even\": [0,2,4,6,8],   #  First  key-list\n",
        "         \"odd\" : [1,3,5,7,9] }  #  Second key-list"
      ]
    },
    {
      "cell_type": "markdown",
      "metadata": {
        "cell_id": "00009-3837521f-1c26-475f-91f4-43151fde0224",
        "deepnote_cell_type": "markdown",
        "id": "HeN8rw1JxE1N"
      },
      "source": [
        "## Data structures"
      ]
    },
    {
      "cell_type": "markdown",
      "metadata": {
        "cell_id": "00010-1260af90-44ba-48f6-b514-529cb21a5dd8",
        "deepnote_cell_type": "markdown",
        "id": "UiL0O2SNcCfG"
      },
      "source": [
        "`Pandas` has two new data structures:\n",
        "1. `DataFrame` which are similar to numpy arrays but with some assigned key. For example, for the previous case\n",
        "```python\n",
        "import numpy as np\n",
        "np.array([[0,1],\n",
        "          [2,3],\n",
        "          [4,5],\n",
        "          [6,7],\n",
        "          [8,9] \n",
        "         ])\n",
        "```\n",
        "1. `Series` which are enriched  to dictionaries, as the ones defined for the rows of the previous example: `{'even':0,'odd':1}`.\n",
        "\n"
      ]
    },
    {
      "cell_type": "markdown",
      "metadata": {
        "cell_id": "00011-361a470d-c350-4bba-820a-01338fffcc89",
        "deepnote_cell_type": "markdown",
        "id": "jaWfZyimxE1O"
      },
      "source": [
        "\n",
        "The rows in a two-dimensional `DataFrame` corresponds to `Series` with similar keys, while the columns are also Series with the indices as keys. \n",
        "\n",
        "An example of a  `DataFrame` is a spreadsheet, as the one before."
      ]
    },
    {
      "cell_type": "markdown",
      "metadata": {
        "cell_id": "00012-fbda39d3-0cd0-48b0-ba40-4cfc129f8320",
        "deepnote_cell_type": "markdown",
        "id": "uRdBR4BXc8WY"
      },
      "source": [
        "### `DataFrame`\n",
        "`Pandas` can convert a dictionary of lists, like the `numbers` dictionary before, into a `DataFrame`, which is just an spreadsheet but interpreted at the programming level:\n",
        "\n"
      ]
    },
    {
      "cell_type": "code",
      "execution_count": null,
      "metadata": {
        "cell_id": "00013-8aff6f6f-3fd7-4e99-89eb-ca977338a551",
        "deepnote_cell_type": "code",
        "id": "z1cwOPD3Jrz7",
        "outputId": "25c3d92a-c967-4dab-f6cc-744c37ef340b",
        "colab": {
          "base_uri": "https://localhost:8080/"
        }
      },
      "outputs": [
        {
          "output_type": "execute_result",
          "data": {
            "text/plain": [
              "{'even': [0, 2, 4, 6, 8], 'odd': [1, 3, 5, 7, 9]}"
            ]
          },
          "metadata": {},
          "execution_count": 9
        }
      ],
      "source": [
        "numbers"
      ]
    },
    {
      "cell_type": "code",
      "execution_count": null,
      "metadata": {
        "cell_id": "00014-3e464053-625b-4ee3-b72c-578522966832",
        "colab": {
          "base_uri": "https://localhost:8080/",
          "height": 206
        },
        "deepnote_cell_type": "code",
        "id": "dC00VECAd_Dr",
        "outputId": "dd886009-9dbd-482e-bac6-10a4d24c5737"
      },
      "outputs": [
        {
          "output_type": "execute_result",
          "data": {
            "text/html": [
              "<div>\n",
              "<style scoped>\n",
              "    .dataframe tbody tr th:only-of-type {\n",
              "        vertical-align: middle;\n",
              "    }\n",
              "\n",
              "    .dataframe tbody tr th {\n",
              "        vertical-align: top;\n",
              "    }\n",
              "\n",
              "    .dataframe thead th {\n",
              "        text-align: right;\n",
              "    }\n",
              "</style>\n",
              "<table border=\"1\" class=\"dataframe\">\n",
              "  <thead>\n",
              "    <tr style=\"text-align: right;\">\n",
              "      <th></th>\n",
              "      <th>even</th>\n",
              "      <th>odd</th>\n",
              "    </tr>\n",
              "  </thead>\n",
              "  <tbody>\n",
              "    <tr>\n",
              "      <th>0</th>\n",
              "      <td>0</td>\n",
              "      <td>1</td>\n",
              "    </tr>\n",
              "    <tr>\n",
              "      <th>1</th>\n",
              "      <td>2</td>\n",
              "      <td>3</td>\n",
              "    </tr>\n",
              "    <tr>\n",
              "      <th>2</th>\n",
              "      <td>4</td>\n",
              "      <td>5</td>\n",
              "    </tr>\n",
              "    <tr>\n",
              "      <th>3</th>\n",
              "      <td>6</td>\n",
              "      <td>7</td>\n",
              "    </tr>\n",
              "    <tr>\n",
              "      <th>4</th>\n",
              "      <td>8</td>\n",
              "      <td>9</td>\n",
              "    </tr>\n",
              "  </tbody>\n",
              "</table>\n",
              "</div>"
            ],
            "text/plain": [
              "   even  odd\n",
              "0     0    1\n",
              "1     2    3\n",
              "2     4    5\n",
              "3     6    7\n",
              "4     8    9"
            ]
          },
          "metadata": {},
          "execution_count": 11
        }
      ],
      "source": [
        "import pandas as pd\n",
        "df=pd.DataFrame(numbers)\n",
        "df"
      ]
    },
    {
      "cell_type": "code",
      "execution_count": null,
      "metadata": {
        "id": "W4E3ZOOyJr0A",
        "outputId": "eb2d46d6-3036-4269-f231-85433f3db3f5",
        "colab": {
          "base_uri": "https://localhost:8080/",
          "height": 165
        }
      },
      "outputs": [
        {
          "output_type": "error",
          "ename": "NameError",
          "evalue": "ignored",
          "traceback": [
            "\u001b[0;31m---------------------------------------------------------------------------\u001b[0m",
            "\u001b[0;31mNameError\u001b[0m                                 Traceback (most recent call last)",
            "\u001b[0;32m<ipython-input-12-c5751f263700>\u001b[0m in \u001b[0;36m<module>\u001b[0;34m()\u001b[0m\n\u001b[0;32m----> 1\u001b[0;31m \u001b[0mplt\u001b[0m\u001b[0;34m.\u001b[0m\u001b[0mplot\u001b[0m\u001b[0;34m(\u001b[0m\u001b[0mdf\u001b[0m\u001b[0;34m[\u001b[0m\u001b[0;34m'even'\u001b[0m\u001b[0;34m]\u001b[0m\u001b[0;34m,\u001b[0m\u001b[0mdf\u001b[0m\u001b[0;34m[\u001b[0m\u001b[0;34m'odd'\u001b[0m\u001b[0;34m]\u001b[0m\u001b[0;34m)\u001b[0m\u001b[0;34m\u001b[0m\u001b[0;34m\u001b[0m\u001b[0m\n\u001b[0m",
            "\u001b[0;31mNameError\u001b[0m: name 'plt' is not defined"
          ]
        }
      ],
      "source": [
        "plt.plot(df['even'],df['odd'])"
      ]
    },
    {
      "cell_type": "markdown",
      "metadata": {
        "cell_id": "00015-744b2b59-2ebc-4539-9f00-75d4fa94325b",
        "deepnote_cell_type": "markdown",
        "id": "zUZ1BcuneYQf"
      },
      "source": [
        "It is equivalent to:"
      ]
    },
    {
      "cell_type": "code",
      "execution_count": null,
      "metadata": {
        "cell_id": "00016-e9f7fa78-2c25-4132-862c-697bab37ff78",
        "deepnote_cell_type": "code",
        "id": "1Evugc7FJr0D"
      },
      "outputs": [],
      "source": [
        "df.to_dict()"
      ]
    },
    {
      "cell_type": "code",
      "execution_count": null,
      "metadata": {
        "cell_id": "00017-89105c36-dc20-4ee6-bcb9-f3394d551a6e",
        "deepnote_cell_type": "code",
        "id": "U0UEg-iKJr0F"
      },
      "outputs": [],
      "source": [
        "pd.DataFrame(  {'even': {0: 0, 1: 2, 2: 4, 3: 6, 4: 8}, 'odd': {0: 1, 1: 3, 2: 5, 3: 7, 4: 9}} )\n"
      ]
    },
    {
      "cell_type": "code",
      "execution_count": null,
      "metadata": {
        "cell_id": "00018-81da3a42-7a39-457b-b8db-bac5c401d035",
        "deepnote_cell_type": "code",
        "id": "nqtL07nJecD6"
      },
      "outputs": [],
      "source": [
        "pd.DataFrame.from_dict(numbers)"
      ]
    },
    {
      "cell_type": "markdown",
      "metadata": {
        "cell_id": "00019-e82851df-dc6e-44e5-baf1-f53490dc4a4f",
        "deepnote_cell_type": "markdown",
        "id": "1ftuPJd5eiu6"
      },
      "source": [
        "See below for other possibilities of [creating Pandas DataFrames from lists and dictionaries](https://fisica.udea.edu.co:4443/user/restrepo/notebooks/prog/cursos/data-analysis/Pandas.ipynb#Intialization-from-lists-and-dictionaries)"
      ]
    },
    {
      "cell_type": "markdown",
      "metadata": {
        "cell_id": "00020-7464d85a-cbe8-4ec3-939b-846f627fc238",
        "deepnote_cell_type": "markdown",
        "id": "myuwII1Ed9PE"
      },
      "source": [
        "The main advantage of the `DataFrame`, `df`, is that it can be managed without a graphical interface."
      ]
    },
    {
      "cell_type": "markdown",
      "metadata": {
        "cell_id": "00021-8888b732-743b-4a62-9560-33fac5c21a4b",
        "deepnote_cell_type": "markdown",
        "id": "5A0YScKRehta"
      },
      "source": [
        "We can check the shape of the `DataFrame`"
      ]
    },
    {
      "cell_type": "code",
      "execution_count": null,
      "metadata": {
        "cell_id": "00022-25b27bf8-fc9d-4749-a5b1-c6cb7c67fef0",
        "deepnote_cell_type": "code",
        "id": "RV-ivs5Weyzq"
      },
      "outputs": [],
      "source": [
        "df.shape"
      ]
    },
    {
      "cell_type": "markdown",
      "metadata": {
        "cell_id": "00023-90fd3ae8-8621-4469-8f9c-f89eb0c2bf00",
        "deepnote_cell_type": "markdown",
        "id": "ZMc0puXbe3nD"
      },
      "source": [
        "####  Export DataFrame to other formats\n",
        "* To export to excel:"
      ]
    },
    {
      "cell_type": "code",
      "execution_count": null,
      "metadata": {
        "cell_id": "00024-4a17d6f4-9124-4228-ae9e-983b67419459",
        "deepnote_cell_type": "code",
        "id": "ioWKY1FAe-rK"
      },
      "outputs": [],
      "source": [
        "df.to_excel('example.xlsx',index=False)"
      ]
    },
    {
      "cell_type": "code",
      "execution_count": null,
      "metadata": {
        "cell_id": "00025-0d0d4e5f-471c-4e95-8cc6-cd5b604408c2",
        "deepnote_cell_type": "code",
        "id": "CLDCBV62Jr0P",
        "outputId": "16faf052-41cd-42d1-ac03-4090a380e2a2",
        "colab": {
          "base_uri": "https://localhost:8080/",
          "height": 206
        }
      },
      "outputs": [
        {
          "output_type": "execute_result",
          "data": {
            "text/html": [
              "<div>\n",
              "<style scoped>\n",
              "    .dataframe tbody tr th:only-of-type {\n",
              "        vertical-align: middle;\n",
              "    }\n",
              "\n",
              "    .dataframe tbody tr th {\n",
              "        vertical-align: top;\n",
              "    }\n",
              "\n",
              "    .dataframe thead th {\n",
              "        text-align: right;\n",
              "    }\n",
              "</style>\n",
              "<table border=\"1\" class=\"dataframe\">\n",
              "  <thead>\n",
              "    <tr style=\"text-align: right;\">\n",
              "      <th></th>\n",
              "      <th>even</th>\n",
              "      <th>odd</th>\n",
              "    </tr>\n",
              "  </thead>\n",
              "  <tbody>\n",
              "    <tr>\n",
              "      <th>0</th>\n",
              "      <td>0</td>\n",
              "      <td>1</td>\n",
              "    </tr>\n",
              "    <tr>\n",
              "      <th>1</th>\n",
              "      <td>2</td>\n",
              "      <td>3</td>\n",
              "    </tr>\n",
              "    <tr>\n",
              "      <th>2</th>\n",
              "      <td>4</td>\n",
              "      <td>5</td>\n",
              "    </tr>\n",
              "    <tr>\n",
              "      <th>3</th>\n",
              "      <td>6</td>\n",
              "      <td>7</td>\n",
              "    </tr>\n",
              "    <tr>\n",
              "      <th>4</th>\n",
              "      <td>8</td>\n",
              "      <td>9</td>\n",
              "    </tr>\n",
              "  </tbody>\n",
              "</table>\n",
              "</div>"
            ],
            "text/plain": [
              "   even  odd\n",
              "0     0    1\n",
              "1     2    3\n",
              "2     4    5\n",
              "3     6    7\n",
              "4     8    9"
            ]
          },
          "metadata": {},
          "execution_count": 17
        }
      ],
      "source": [
        "newdf=pd.read_excel('example.xlsx')\n",
        "newdf"
      ]
    },
    {
      "cell_type": "markdown",
      "metadata": {
        "cell_id": "00026-53b72290-ece9-47a0-bf74-45d0b5599a48",
        "deepnote_cell_type": "markdown",
        "id": "yIdeiNi_fBPJ"
      },
      "source": [
        "__Activity__: Open the resulting spreadsheet in Google Drive, publish it and open from the resulting link with Pandas in the next cell"
      ]
    },
    {
      "cell_type": "code",
      "source": [
        "from google.colab import drive\n",
        "drive.mount('/content/drive')"
      ],
      "metadata": {
        "colab": {
          "base_uri": "https://localhost:8080/"
        },
        "id": "a2qwSFwmOXMZ",
        "outputId": "7d9b5ae2-73da-4c7d-956a-10c42ede2ae7"
      },
      "execution_count": null,
      "outputs": [
        {
          "output_type": "stream",
          "name": "stdout",
          "text": [
            "Drive already mounted at /content/drive; to attempt to forcibly remount, call drive.mount(\"/content/drive\", force_remount=True).\n"
          ]
        }
      ]
    },
    {
      "cell_type": "code",
      "execution_count": null,
      "metadata": {
        "cell_id": "00027-afa925cb-92c5-4323-b67d-3fc9b7b06f3c",
        "deepnote_cell_type": "code",
        "id": "ZqIbSbLvf0wm",
        "colab": {
          "base_uri": "https://localhost:8080/",
          "height": 206
        },
        "outputId": "14874056-6a5e-4c96-dd76-96d4be7abb46"
      },
      "outputs": [
        {
          "output_type": "execute_result",
          "data": {
            "text/html": [
              "<div>\n",
              "<style scoped>\n",
              "    .dataframe tbody tr th:only-of-type {\n",
              "        vertical-align: middle;\n",
              "    }\n",
              "\n",
              "    .dataframe tbody tr th {\n",
              "        vertical-align: top;\n",
              "    }\n",
              "\n",
              "    .dataframe thead th {\n",
              "        text-align: right;\n",
              "    }\n",
              "</style>\n",
              "<table border=\"1\" class=\"dataframe\">\n",
              "  <thead>\n",
              "    <tr style=\"text-align: right;\">\n",
              "      <th></th>\n",
              "      <th>even</th>\n",
              "      <th>odd</th>\n",
              "    </tr>\n",
              "  </thead>\n",
              "  <tbody>\n",
              "    <tr>\n",
              "      <th>0</th>\n",
              "      <td>0</td>\n",
              "      <td>1</td>\n",
              "    </tr>\n",
              "    <tr>\n",
              "      <th>1</th>\n",
              "      <td>2</td>\n",
              "      <td>3</td>\n",
              "    </tr>\n",
              "    <tr>\n",
              "      <th>2</th>\n",
              "      <td>4</td>\n",
              "      <td>5</td>\n",
              "    </tr>\n",
              "    <tr>\n",
              "      <th>3</th>\n",
              "      <td>6</td>\n",
              "      <td>7</td>\n",
              "    </tr>\n",
              "    <tr>\n",
              "      <th>4</th>\n",
              "      <td>8</td>\n",
              "      <td>9</td>\n",
              "    </tr>\n",
              "  </tbody>\n",
              "</table>\n",
              "</div>"
            ],
            "text/plain": [
              "   even  odd\n",
              "0     0    1\n",
              "1     2    3\n",
              "2     4    5\n",
              "3     6    7\n",
              "4     8    9"
            ]
          },
          "metadata": {},
          "execution_count": 35
        }
      ],
      "source": [
        "df=pd.read_excel('https://docs.google.com/spreadsheets/d/e/2PACX-1vSB2tDHDVK9fJ37Yxcyh6NXDUBhAJgi-sFbpOzWafRNeeXdkJ4KXePGEBFhRvcRWQ/pub?output=xlsx')\n",
        "df"
      ]
    },
    {
      "cell_type": "markdown",
      "metadata": {
        "cell_id": "00028-ba1fbbbd-e5e4-45b9-bc04-2f23383ef2c5",
        "deepnote_cell_type": "markdown",
        "id": "c_bj3IfLxE1Q"
      },
      "source": [
        "### `Series`"
      ]
    },
    {
      "cell_type": "markdown",
      "metadata": {
        "cell_id": "00029-9fbc4d9c-20bd-486c-9b5b-352ee4e526ac",
        "deepnote_cell_type": "markdown",
        "id": "H2LIeZbCgoL5"
      },
      "source": [
        "Each column of the DataFrame is now an augmented dictionary called `Series`, with the indices as the keys of the `Series`"
      ]
    },
    {
      "cell_type": "markdown",
      "metadata": {
        "cell_id": "00030-6e557bb0-a47f-41c8-8790-5ba070bdfb86",
        "deepnote_cell_type": "markdown",
        "id": "klrbIsoGxE1R"
      },
      "source": [
        "A `Pandas` `Series` object can be just initialized from a `Python` dictionary:"
      ]
    },
    {
      "cell_type": "code",
      "execution_count": null,
      "metadata": {
        "cell_id": "00031-15c221e5-71b6-497b-b552-d78f9fa5c5b4",
        "deepnote_cell_type": "code",
        "id": "FoTT2jkqgrpR"
      },
      "outputs": [],
      "source": [
        "type( df['even'] )"
      ]
    },
    {
      "cell_type": "markdown",
      "metadata": {
        "cell_id": "00032-5bcb5be5-166a-4dcc-a31e-92875d2f81a0",
        "deepnote_cell_type": "markdown",
        "id": "Iy8h3XICgz9w"
      },
      "source": [
        "The keys are the index of the `DataFrame`"
      ]
    },
    {
      "cell_type": "code",
      "execution_count": null,
      "metadata": {
        "cell_id": "00033-000b6c1f-036e-43af-84c0-6dd4b76e7b58",
        "deepnote_cell_type": "code",
        "id": "BTIxbKvhg6m2"
      },
      "outputs": [],
      "source": [
        "#df['even']\n",
        "df.even[4]"
      ]
    },
    {
      "cell_type": "markdown",
      "metadata": {
        "cell_id": "00034-86d1564c-0818-420b-b920-2f004cfd5251",
        "deepnote_cell_type": "markdown",
        "id": "7MIKjfslg7Xx"
      },
      "source": [
        "Each row is also a series"
      ]
    },
    {
      "cell_type": "code",
      "execution_count": null,
      "metadata": {
        "cell_id": "00035-efbe4343-8a4f-4efa-ba2d-7f88b7c8e82d",
        "deepnote_cell_type": "code",
        "id": "rhiEFGhOg-kx"
      },
      "outputs": [],
      "source": [
        "df.loc[0]"
      ]
    },
    {
      "cell_type": "markdown",
      "metadata": {
        "cell_id": "00036-c55a98ad-4590-4466-ab61-9f1a6ea49b83",
        "deepnote_cell_type": "markdown",
        "id": "ki2GW4yohKl5"
      },
      "source": [
        "with keys: `'even'` and `'odd'`"
      ]
    },
    {
      "cell_type": "code",
      "execution_count": null,
      "metadata": {
        "cell_id": "00037-34730af6-4952-4ee0-8375-410cb4392c20",
        "deepnote_cell_type": "code",
        "id": "JPLVdBrAhFCJ"
      },
      "outputs": [],
      "source": [
        "df.loc[0]['even']"
      ]
    },
    {
      "cell_type": "markdown",
      "metadata": {
        "cell_id": "00038-3f514cb9-b08b-416d-9711-6654cb2e6caa",
        "deepnote_cell_type": "markdown",
        "id": "8NuiZ2NIhGjx"
      },
      "source": [
        "or attributes `even` and `odd`"
      ]
    },
    {
      "cell_type": "code",
      "execution_count": null,
      "metadata": {
        "cell_id": "00039-cb23d640-f06f-446e-b942-8be58193f511",
        "deepnote_cell_type": "code",
        "id": "KmY9Jrk_hZyx"
      },
      "outputs": [],
      "source": [
        "df.loc[0].odd"
      ]
    },
    {
      "cell_type": "markdown",
      "metadata": {
        "cell_id": "00040-ac07d690-d4ce-4d3d-af39-c2bb5353c03d",
        "deepnote_cell_type": "markdown",
        "id": "vOxxMKJshhKJ"
      },
      "source": [
        "One specific cell value can be reached with the index and the key:"
      ]
    },
    {
      "cell_type": "code",
      "execution_count": null,
      "metadata": {
        "cell_id": "00041-5ca70a4d-1891-4d24-9d37-f7533cc8e50b",
        "deepnote_cell_type": "code",
        "id": "MexLUmZLhph5"
      },
      "outputs": [],
      "source": [
        "df.loc[2,'odd']"
      ]
    },
    {
      "cell_type": "code",
      "execution_count": null,
      "metadata": {
        "id": "w217l7gLJr00"
      },
      "outputs": [],
      "source": [
        "df.at[2,'even']"
      ]
    },
    {
      "cell_type": "code",
      "execution_count": null,
      "metadata": {
        "cell_id": "00042-e8bd9a00-9b35-45d1-a4a3-72aee9572a2a",
        "deepnote_cell_type": "code",
        "id": "LrhKw9EQxE1T"
      },
      "outputs": [],
      "source": [
        "s=pd.Series({'Name':'Juan Valdez','Nacionality':'Colombia','Age':23})\n",
        "s"
      ]
    },
    {
      "cell_type": "markdown",
      "metadata": {
        "cell_id": "00043-63272df4-c2ec-42ce-bd0b-3af6c0ea4924",
        "deepnote_cell_type": "markdown",
        "id": "TzNtVUV6h36n"
      },
      "source": [
        "*Note* that the key name can be used also as an attribute.\n"
      ]
    },
    {
      "cell_type": "code",
      "execution_count": null,
      "metadata": {
        "cell_id": "00044-32d4c04d-d660-48fd-ab2a-b2bd17ce5f27",
        "deepnote_cell_type": "code",
        "id": "ip9ADEo7h5vA"
      },
      "outputs": [],
      "source": [
        "df.odd"
      ]
    },
    {
      "cell_type": "markdown",
      "metadata": {
        "cell_id": "00045-4cee4939-0326-4d1a-b481-409d3a73e6e8",
        "deepnote_cell_type": "markdown",
        "id": "z5JBXWlkh8Z3"
      },
      "source": [
        "> The __power__ of Pandas rely in that their main data structures: `DataFrames` and `Series`, are enriched with many useful methods and attributes.\n",
        "\n",
        "### [Official definition of Pandas](http://pandas.pydata.org/pandas-docs/stable/)\n",
        "\n",
        "> Pandas is a Python package providing __fast__, __flexible__, and __expressive__ _data structures_ designed to make working with “relational” or “labeled” data both easy and intuitive. It aims to be the fundamental high-level building block for doing practical, real world data analysis in Python. Additionally, it _has the broader goal of becoming the most powerful and flexible open source data analysis / manipulation tool_ available in any language. It is already well on its way toward this goal.\n",
        "\n",
        "* \"relational\": the list of data is identified with some unique index (like a `SQL` table)\n",
        "* \"labeled\": the list is identified with a key, like the previous `odd` or `even` keys.\n"
      ]
    },
    {
      "cell_type": "markdown",
      "metadata": {
        "cell_id": "00046-3daea1f4-914e-406e-a0e6-a12582c78615",
        "deepnote_cell_type": "markdown",
        "id": "sDC5HnPOicTg"
      },
      "source": [
        "For example. A double bracket `[[...]]`, can be used to filter data.\n",
        "\n",
        "A row in a two-dimensional `DataFrame` corresponds to `Series` with the same keys of the `DataFrame`, but with single values instead of a list "
      ]
    },
    {
      "cell_type": "code",
      "execution_count": null,
      "metadata": {
        "cell_id": "00047-924b43dc-7ce3-4ff3-8be4-a21ebbbed12e",
        "deepnote_cell_type": "code",
        "id": "UfyqbhjXigZc"
      },
      "outputs": [],
      "source": [
        "df.loc[[0]]"
      ]
    },
    {
      "cell_type": "code",
      "execution_count": null,
      "metadata": {
        "id": "Gpf9EESaJr08"
      },
      "outputs": [],
      "source": [
        "import pandas as pd\n",
        "df=pd.DataFrame()\n",
        "d={'Name':'Juan Valdez','Nacionality':'Colombia','Age':23}\n",
        "df=df.append(dignore_index=True)"
      ]
    },
    {
      "cell_type": "code",
      "execution_count": null,
      "metadata": {
        "id": "yaz8qLDyJr09"
      },
      "outputs": [],
      "source": [
        "df.iloc[0:1]"
      ]
    },
    {
      "cell_type": "code",
      "execution_count": null,
      "metadata": {
        "cell_id": "00048-e1f9e5dc-6bf0-41d4-b1a3-183192fa678e",
        "deepnote_cell_type": "code",
        "id": "-dANKUEoi78M"
      },
      "outputs": [],
      "source": [
        "print( 'the row has' )\n",
        "print( '                  keys: {} and values: {}'.format( list( df.loc[[0]].keys() ),df.loc[[0]].values[0]  ) )\n",
        "print( \"like the dictionay:\" )\n",
        "print( \"                      { 'even' : 0, 'odd' : 1 }\")"
      ]
    },
    {
      "cell_type": "markdown",
      "metadata": {
        "cell_id": "00049-04942039-b889-4baa-bb10-d3ac7651fbf7",
        "deepnote_cell_type": "markdown",
        "id": "p7MgQWMijI0W"
      },
      "source": [
        "To filter a column:"
      ]
    },
    {
      "cell_type": "code",
      "execution_count": null,
      "metadata": {
        "cell_id": "00050-98830692-b564-4fec-b41d-c800e7ebed14",
        "deepnote_cell_type": "code",
        "id": "nT_SkKMIjMWY"
      },
      "outputs": [],
      "source": [
        "df[['odd']]"
      ]
    },
    {
      "cell_type": "markdown",
      "metadata": {
        "cell_id": "00051-6b0ba5a7-4d42-4397-9f24-7d59a6795943",
        "deepnote_cell_type": "markdown",
        "id": "ElU5h9tnxE1Y"
      },
      "source": [
        "### More on `Series`"
      ]
    },
    {
      "cell_type": "markdown",
      "metadata": {
        "cell_id": "00052-58cd1675-c71a-4c71-b957-e25c8a6ab447",
        "deepnote_cell_type": "markdown",
        "id": "pg20NksOjdQW"
      },
      "source": [
        "A `Pandas` `Series` object can be just initialized from a `Python` dictionary:"
      ]
    },
    {
      "cell_type": "code",
      "execution_count": null,
      "metadata": {
        "cell_id": "00053-5881d053-799d-4191-9112-4d49bf041fa0",
        "deepnote_cell_type": "code",
        "id": "qjuk_nn0jgFH"
      },
      "outputs": [],
      "source": [
        "s=pd.Series({'Name':'Juan Valdez','Nacionality':'Colombia','Age':23})\n",
        "s"
      ]
    },
    {
      "cell_type": "code",
      "execution_count": null,
      "metadata": {
        "cell_id": "00054-997dbe29-5415-4b33-a2c2-320979fb1dcb",
        "deepnote_cell_type": "code",
        "id": "pAtixllExE1Z"
      },
      "outputs": [],
      "source": [
        "s['Name']"
      ]
    },
    {
      "cell_type": "markdown",
      "metadata": {
        "cell_id": "00055-c9c53a1e-7e5c-4360-9714-10f042c7ab91",
        "deepnote_cell_type": "markdown",
        "id": "pYb112eqxE1e"
      },
      "source": [
        "but also as containers of name spaces!"
      ]
    },
    {
      "cell_type": "code",
      "execution_count": null,
      "metadata": {
        "cell_id": "00056-c35a9e02-65ee-4089-8af1-da308c7c33c7",
        "deepnote_cell_type": "code",
        "id": "6_GfsFVwxE1f"
      },
      "outputs": [],
      "source": [
        "s.Name"
      ]
    },
    {
      "cell_type": "markdown",
      "metadata": {
        "cell_id": "00057-25c85b9e-a98a-446e-a2ad-d21be1a344e4",
        "deepnote_cell_type": "markdown",
        "id": "Kab6pfyMxE1k"
      },
      "source": [
        "## `DataFrame` initialization"
      ]
    },
    {
      "cell_type": "markdown",
      "metadata": {
        "cell_id": "00058-c269e732-fb8b-4ffb-8ae1-3df99a8c229d",
        "deepnote_cell_type": "markdown",
        "id": "4zhJVNq1pTTe"
      },
      "source": [
        "### Initization from an existing spreadsheet. \n",
        "This can be locally in your computer o from some downloadable  link"
      ]
    },
    {
      "cell_type": "code",
      "execution_count": null,
      "metadata": {
        "cell_id": "00059-a5e5f2ee-7ef0-4a15-8cf0-1bd63e03a10b",
        "deepnote_cell_type": "code",
        "id": "yM4oF9r-pWsw"
      },
      "outputs": [],
      "source": [
        "df=pd.read_excel('http://bit.ly/spreadsheet_xlsx')\n",
        "df"
      ]
    },
    {
      "cell_type": "markdown",
      "metadata": {
        "cell_id": "00060-a55db9c7-27b6-41fe-ba0e-e41a1e68892e",
        "deepnote_cell_type": "markdown",
        "id": "QM4z4MoXpjLj"
      },
      "source": [
        "To make a downloadable link for any spread sheet in Google Drive, follow the sequence:\n",
        "```\n",
        "File → Publish to the web...→ Entire Document → Web page → Microsoft excel (xlsx)\n",
        "```\n",
        "as illustrated in the figure:\n",
        "![GS](https://github.com/restrepo/data-analysis/blob/master/img/img1.png?raw=1)"
      ]
    },
    {
      "cell_type": "code",
      "execution_count": null,
      "metadata": {
        "cell_id": "00061-11ece2bc-94b9-4f70-b2cf-b55cd69a4f87",
        "deepnote_cell_type": "code",
        "id": "29uXQfWjpx66"
      },
      "outputs": [],
      "source": [
        "df.loc[0,'Edad']=32\n",
        "#df.at[0,'Edad']=32\n",
        "df"
      ]
    },
    {
      "cell_type": "markdown",
      "metadata": {
        "cell_id": "00062-5be08fd6-94b8-4c55-b9f1-03c2ea1cef7b",
        "deepnote_cell_type": "markdown",
        "id": "eeZzLpDUpqbS"
      },
      "source": [
        "*After* some modification"
      ]
    },
    {
      "cell_type": "markdown",
      "metadata": {
        "cell_id": "00063-80bd419a-5bb8-42f6-9cf7-7a9508e7ef58",
        "deepnote_cell_type": "markdown",
        "id": "TRjW0Y4Rpv-i"
      },
      "source": [
        "it can be saved again as an `excel file` with the option to not create a column of indices: `index=False`"
      ]
    },
    {
      "cell_type": "markdown",
      "metadata": {
        "cell_id": "00064-5998e0ac-609c-4fba-b96e-53d70aef8ec5",
        "deepnote_cell_type": "markdown",
        "id": "QZUHeScjp6cC"
      },
      "source": [
        "### Intialization from lists and dictionaries"
      ]
    },
    {
      "cell_type": "markdown",
      "metadata": {
        "cell_id": "00065-e142101b-9b27-4ff5-a1c9-c0cdeab5cdb5",
        "deepnote_cell_type": "markdown",
        "id": "5ulKgKBRxE1m"
      },
      "source": [
        "#### Inizialization from Series\n",
        "We start with an empty `DataFrame`:"
      ]
    },
    {
      "cell_type": "markdown",
      "metadata": {
        "cell_id": "00066-77afb247-50a8-4b43-aabb-eb64da7d31e8",
        "deepnote_cell_type": "markdown",
        "id": "J-F92xHmp8v7"
      },
      "source": [
        "Creating Pandas DataFrame from list and dictionaries [offers many alternatives](http://pbpython.com/pandas-list-dict.html)\n",
        "\n",
        "![creating dataframes](http://pbpython.com/images/pandas-dataframe-shadow.png)\n",
        "\n",
        "#### Row oriented way\n",
        "* In addition to the dictionary of lists [already illustrated at the beginning]() that in this case corresponds to:"
      ]
    },
    {
      "cell_type": "code",
      "execution_count": null,
      "metadata": {
        "cell_id": "00067-617526f9-d3a8-459c-8227-c831c7d13ef6",
        "colab": {
          "base_uri": "https://localhost:8080/",
          "height": 112
        },
        "deepnote_cell_type": "code",
        "id": "7IOuJCeMqBRj",
        "outputId": "261cc900-7996-4ee5-ac9a-768c39894b3c"
      },
      "outputs": [
        {
          "output_type": "execute_result",
          "data": {
            "text/html": [
              "<div>\n",
              "<style scoped>\n",
              "    .dataframe tbody tr th:only-of-type {\n",
              "        vertical-align: middle;\n",
              "    }\n",
              "\n",
              "    .dataframe tbody tr th {\n",
              "        vertical-align: top;\n",
              "    }\n",
              "\n",
              "    .dataframe thead th {\n",
              "        text-align: right;\n",
              "    }\n",
              "</style>\n",
              "<table border=\"1\" class=\"dataframe\">\n",
              "  <thead>\n",
              "    <tr style=\"text-align: right;\">\n",
              "      <th></th>\n",
              "      <th>Nombre</th>\n",
              "      <th>Edad</th>\n",
              "      <th>Compañia</th>\n",
              "    </tr>\n",
              "  </thead>\n",
              "  <tbody>\n",
              "    <tr>\n",
              "      <th>0</th>\n",
              "      <td>Juan Valdez</td>\n",
              "      <td>32</td>\n",
              "      <td>Café de Colombia</td>\n",
              "    </tr>\n",
              "    <tr>\n",
              "      <th>1</th>\n",
              "      <td>Álvaro Uribe Vélez</td>\n",
              "      <td>69</td>\n",
              "      <td>Senado de la República</td>\n",
              "    </tr>\n",
              "  </tbody>\n",
              "</table>\n",
              "</div>"
            ],
            "text/plain": [
              "               Nombre  Edad                Compañia\n",
              "0         Juan Valdez    32        Café de Colombia\n",
              "1  Álvaro Uribe Vélez    69  Senado de la República"
            ]
          },
          "metadata": {},
          "execution_count": 97
        }
      ],
      "source": [
        "pd.DataFrame({'Nombre'   : ['Juan Valdez','Álvaro Uribe Vélez'],\n",
        "              'Edad'     : [32,            69                 ],\n",
        "              'Compañia' : ['Café de Colombia','Senado de la República']})"
      ]
    },
    {
      "cell_type": "markdown",
      "metadata": {
        "cell_id": "00068-f8c10978-b48d-44bd-8207-4330ae7f2280",
        "deepnote_cell_type": "markdown",
        "id": "nJLhj4G4qJZb"
      },
      "source": [
        "* We can obtain the DataFrame from list of items"
      ]
    },
    {
      "cell_type": "code",
      "execution_count": null,
      "metadata": {
        "cell_id": "00069-48e62ebe-c8f3-48e5-9487-20975fa1cff7",
        "deepnote_cell_type": "code",
        "id": "p755U93VqKLC",
        "colab": {
          "base_uri": "https://localhost:8080/",
          "height": 200
        },
        "outputId": "ebe181ab-8a73-43a3-8a3d-afc6fa3c3a42"
      },
      "outputs": [
        {
          "output_type": "error",
          "ename": "AttributeError",
          "evalue": "ignored",
          "traceback": [
            "\u001b[0;31m---------------------------------------------------------------------------\u001b[0m",
            "\u001b[0;31mAttributeError\u001b[0m                            Traceback (most recent call last)",
            "\u001b[0;32m<ipython-input-98-20afcb4a886b>\u001b[0m in \u001b[0;36m<module>\u001b[0;34m()\u001b[0m\n\u001b[0;32m----> 1\u001b[0;31m pd.DataFrame.from_items([ [ 'Nombre'  , ['Juan Valdez','Álvaro Uribe Vélez']],\n\u001b[0m\u001b[1;32m      2\u001b[0m                           \u001b[0;34m[\u001b[0m \u001b[0;34m'Edad'\u001b[0m    \u001b[0;34m,\u001b[0m \u001b[0;34m[\u001b[0m  \u001b[0;36m32\u001b[0m\u001b[0;34m,\u001b[0m            \u001b[0;36m65\u001b[0m               \u001b[0;34m]\u001b[0m\u001b[0;34m]\u001b[0m\u001b[0;34m,\u001b[0m\u001b[0;34m\u001b[0m\u001b[0;34m\u001b[0m\u001b[0m\n\u001b[1;32m      3\u001b[0m                           [ 'Compañia', ['Café de Colombia','Senado de la República']] ])\n",
            "\u001b[0;31mAttributeError\u001b[0m: type object 'DataFrame' has no attribute 'from_items'"
          ]
        }
      ],
      "source": [
        "pd.DataFrame.from_items([ [ 'Nombre'  , ['Juan Valdez','Álvaro Uribe Vélez']],\n",
        "                          [ 'Edad'    , [  32,            65               ]],\n",
        "                          [ 'Compañia', ['Café de Colombia','Senado de la República']] ])"
      ]
    },
    {
      "cell_type": "markdown",
      "metadata": {
        "cell_id": "00070-3da42af6-028d-4bd9-a93b-3b8266c62501",
        "deepnote_cell_type": "markdown",
        "id": "J6tp94TlqO_S"
      },
      "source": [
        "* We can obtain the `DataFrame` from dictionary"
      ]
    },
    {
      "cell_type": "code",
      "execution_count": null,
      "metadata": {
        "cell_id": "00071-6f90ed3f-241c-497b-ac6d-da067e409361",
        "colab": {
          "base_uri": "https://localhost:8080/",
          "height": 112
        },
        "deepnote_cell_type": "code",
        "id": "wx-JJgqIqQAD",
        "outputId": "afd5a4f0-62e8-44e3-a5b0-f50feaec9d42"
      },
      "outputs": [
        {
          "output_type": "execute_result",
          "data": {
            "text/html": [
              "<div>\n",
              "<style scoped>\n",
              "    .dataframe tbody tr th:only-of-type {\n",
              "        vertical-align: middle;\n",
              "    }\n",
              "\n",
              "    .dataframe tbody tr th {\n",
              "        vertical-align: top;\n",
              "    }\n",
              "\n",
              "    .dataframe thead th {\n",
              "        text-align: right;\n",
              "    }\n",
              "</style>\n",
              "<table border=\"1\" class=\"dataframe\">\n",
              "  <thead>\n",
              "    <tr style=\"text-align: right;\">\n",
              "      <th></th>\n",
              "      <th>Nombre</th>\n",
              "      <th>Edad</th>\n",
              "      <th>Compañia</th>\n",
              "    </tr>\n",
              "  </thead>\n",
              "  <tbody>\n",
              "    <tr>\n",
              "      <th>0</th>\n",
              "      <td>Juan Valdez</td>\n",
              "      <td>32</td>\n",
              "      <td>Café de Colombia</td>\n",
              "    </tr>\n",
              "    <tr>\n",
              "      <th>1</th>\n",
              "      <td>Álvaro Uribe Vélez</td>\n",
              "      <td>65</td>\n",
              "      <td>Senado de la República</td>\n",
              "    </tr>\n",
              "  </tbody>\n",
              "</table>\n",
              "</div>"
            ],
            "text/plain": [
              "               Nombre  Edad                Compañia\n",
              "0         Juan Valdez    32        Café de Colombia\n",
              "1  Álvaro Uribe Vélez    65  Senado de la República"
            ]
          },
          "metadata": {},
          "execution_count": 99
        }
      ],
      "source": [
        "pd.DataFrame( [{'Nombre':'Juan Valdez',        'Edad': 32   ,'Compañia':'Café de Colombia'      },\n",
        "              {'Nombre':'Álvaro Uribe Vélez', 'Edad': 65   ,'Compañia':'Senado de la República'}]\n",
        "            )"
      ]
    },
    {
      "cell_type": "code",
      "execution_count": null,
      "metadata": {
        "cell_id": "00072-5dca2e57-28d1-4dee-8a8a-d451188f3084",
        "deepnote_cell_type": "code",
        "id": "jPsRspsXxE1n",
        "outputId": "861229fc-f85e-4bf2-c2df-4da79fc2e020",
        "colab": {
          "base_uri": "https://localhost:8080/",
          "height": 32
        }
      },
      "outputs": [
        {
          "output_type": "execute_result",
          "data": {
            "text/html": [
              "<div>\n",
              "<style scoped>\n",
              "    .dataframe tbody tr th:only-of-type {\n",
              "        vertical-align: middle;\n",
              "    }\n",
              "\n",
              "    .dataframe tbody tr th {\n",
              "        vertical-align: top;\n",
              "    }\n",
              "\n",
              "    .dataframe thead th {\n",
              "        text-align: right;\n",
              "    }\n",
              "</style>\n",
              "<table border=\"1\" class=\"dataframe\">\n",
              "  <thead>\n",
              "    <tr style=\"text-align: right;\">\n",
              "      <th></th>\n",
              "    </tr>\n",
              "  </thead>\n",
              "  <tbody>\n",
              "  </tbody>\n",
              "</table>\n",
              "</div>"
            ],
            "text/plain": [
              "Empty DataFrame\n",
              "Columns: []\n",
              "Index: []"
            ]
          },
          "metadata": {},
          "execution_count": 100
        }
      ],
      "source": [
        "df=pd.DataFrame()\n",
        "df"
      ]
    },
    {
      "cell_type": "markdown",
      "metadata": {
        "cell_id": "00073-0702057c-6782-455f-8481-441f2132c1b1",
        "deepnote_cell_type": "markdown",
        "id": "_ylhD2zjqdby"
      },
      "source": [
        "### Initialization from sequential rows as  Series\n",
        "We start with an empty `DataFrame`:"
      ]
    },
    {
      "cell_type": "code",
      "execution_count": null,
      "metadata": {
        "cell_id": "00074-7ee7b66f-0813-4412-bf3d-2a26f5804cf6",
        "colab": {
          "base_uri": "https://localhost:8080/"
        },
        "deepnote_cell_type": "code",
        "id": "r6V0qilXqxBB",
        "outputId": "53f7321c-9c2a-4538-f86e-df37260e9adf"
      },
      "outputs": [
        {
          "output_type": "execute_result",
          "data": {
            "text/plain": [
              "True"
            ]
          },
          "metadata": {},
          "execution_count": 101
        }
      ],
      "source": [
        "df=pd.DataFrame()\n",
        "df.empty"
      ]
    },
    {
      "cell_type": "markdown",
      "metadata": {
        "cell_id": "00075-51105264-c39a-4fbe-8543-f3b15fca495d",
        "deepnote_cell_type": "markdown",
        "id": "f0OJapjvxE1q"
      },
      "source": [
        "We can append a dictionary (or Series) as a row of the `DataFrame`, provided that we always use the option: `ignore_index=True`"
      ]
    },
    {
      "cell_type": "code",
      "execution_count": null,
      "metadata": {
        "cell_id": "00076-422876c7-62e9-4f28-8ee0-a0b182cd2b02",
        "colab": {
          "base_uri": "https://localhost:8080/",
          "height": 81
        },
        "deepnote_cell_type": "code",
        "id": "AgR5uPbxrA6q",
        "outputId": "44aac136-8155-435e-f954-a5b2080d67c2"
      },
      "outputs": [
        {
          "output_type": "execute_result",
          "data": {
            "text/html": [
              "<div>\n",
              "<style scoped>\n",
              "    .dataframe tbody tr th:only-of-type {\n",
              "        vertical-align: middle;\n",
              "    }\n",
              "\n",
              "    .dataframe tbody tr th {\n",
              "        vertical-align: top;\n",
              "    }\n",
              "\n",
              "    .dataframe thead th {\n",
              "        text-align: right;\n",
              "    }\n",
              "</style>\n",
              "<table border=\"1\" class=\"dataframe\">\n",
              "  <thead>\n",
              "    <tr style=\"text-align: right;\">\n",
              "      <th></th>\n",
              "      <th>Age</th>\n",
              "      <th>Nacionality</th>\n",
              "      <th>Name</th>\n",
              "    </tr>\n",
              "  </thead>\n",
              "  <tbody>\n",
              "    <tr>\n",
              "      <th>0</th>\n",
              "      <td>23.0</td>\n",
              "      <td>Colombia</td>\n",
              "      <td>Juan Valdez</td>\n",
              "    </tr>\n",
              "  </tbody>\n",
              "</table>\n",
              "</div>"
            ],
            "text/plain": [
              "    Age Nacionality         Name\n",
              "0  23.0    Colombia  Juan Valdez"
            ]
          },
          "metadata": {},
          "execution_count": 102
        }
      ],
      "source": [
        "d={'Name':'Juan Valdez','Nacionality':'Colombia','Age':23}\n",
        "df=df.append(d,ignore_index=True)\n",
        "df"
      ]
    },
    {
      "cell_type": "markdown",
      "metadata": {
        "cell_id": "00077-f422375c-a5ad-46f7-b886-82ee1d38274a",
        "deepnote_cell_type": "markdown",
        "id": "32Oh_stDxE1w"
      },
      "source": [
        "We can fix the type of data of the `'Age'` column"
      ]
    },
    {
      "cell_type": "code",
      "execution_count": null,
      "metadata": {
        "cell_id": "00078-d702437e-64eb-4fbd-aafb-649ed8015050",
        "colab": {
          "base_uri": "https://localhost:8080/"
        },
        "deepnote_cell_type": "code",
        "id": "-Jk5bSRGxE1y",
        "outputId": "91a29d99-cd8a-4d59-d9ce-c8bfe285e100"
      },
      "outputs": [
        {
          "output_type": "execute_result",
          "data": {
            "text/plain": [
              "numpy.float64"
            ]
          },
          "metadata": {},
          "execution_count": 82
        }
      ],
      "source": [
        "type(df.Age[0])"
      ]
    },
    {
      "cell_type": "code",
      "execution_count": null,
      "metadata": {
        "cell_id": "00079-d433979a-54d3-44f9-9a56-068126712852",
        "colab": {
          "base_uri": "https://localhost:8080/",
          "height": 81
        },
        "deepnote_cell_type": "code",
        "id": "vl9RKEBXxE12",
        "outputId": "b308bf77-966c-4490-9a99-0b37a7b732fa"
      },
      "outputs": [
        {
          "output_type": "execute_result",
          "data": {
            "text/html": [
              "<div>\n",
              "<style scoped>\n",
              "    .dataframe tbody tr th:only-of-type {\n",
              "        vertical-align: middle;\n",
              "    }\n",
              "\n",
              "    .dataframe tbody tr th {\n",
              "        vertical-align: top;\n",
              "    }\n",
              "\n",
              "    .dataframe thead th {\n",
              "        text-align: right;\n",
              "    }\n",
              "</style>\n",
              "<table border=\"1\" class=\"dataframe\">\n",
              "  <thead>\n",
              "    <tr style=\"text-align: right;\">\n",
              "      <th></th>\n",
              "      <th>Age</th>\n",
              "      <th>Nacionality</th>\n",
              "      <th>Name</th>\n",
              "    </tr>\n",
              "  </thead>\n",
              "  <tbody>\n",
              "    <tr>\n",
              "      <th>0</th>\n",
              "      <td>23</td>\n",
              "      <td>Colombia</td>\n",
              "      <td>Juan Valdez</td>\n",
              "    </tr>\n",
              "  </tbody>\n",
              "</table>\n",
              "</div>"
            ],
            "text/plain": [
              "   Age Nacionality         Name\n",
              "0   23    Colombia  Juan Valdez"
            ]
          },
          "metadata": {},
          "execution_count": 83
        }
      ],
      "source": [
        "df['Age']=df.Age.astype(int)\n",
        "df"
      ]
    },
    {
      "cell_type": "markdown",
      "metadata": {
        "cell_id": "00080-d1b64085-e8ea-45d1-ac27-443875bd044b",
        "deepnote_cell_type": "markdown",
        "id": "npH4wLrNxE17"
      },
      "source": [
        "To add a second file we build another `dict`"
      ]
    },
    {
      "cell_type": "code",
      "execution_count": null,
      "metadata": {
        "cell_id": "00081-3c0893fe-aed8-4d42-8f05-5ce9bee9418f",
        "colab": {
          "base_uri": "https://localhost:8080/"
        },
        "deepnote_cell_type": "code",
        "id": "nTwRmub3xE18",
        "outputId": "2aa7e72b-c84c-4bfd-ad4f-73771f64e762"
      },
      "outputs": [
        {
          "name": "stdout",
          "output_type": "stream",
          "text": [
            "Name:\n",
            "Lucia\n",
            "Nacionality:\n",
            "Hernandez\n",
            "Age:\n",
            "30\n",
            "Company:\n",
            "UdeA\n"
          ]
        }
      ],
      "source": [
        "d={}\n",
        "for k in ['Name','Nacionality','Age','Company']:\n",
        "    var=input('{}:\\n'.format(k))\n",
        "    d[k]=var"
      ]
    },
    {
      "cell_type": "code",
      "execution_count": null,
      "metadata": {
        "id": "jcvY5tEWJr1c",
        "outputId": "18425118-736b-4917-8e64-98b640149bc3",
        "colab": {
          "base_uri": "https://localhost:8080/"
        }
      },
      "outputs": [
        {
          "output_type": "execute_result",
          "data": {
            "text/plain": [
              "{'Age': '60', 'Company': 'UdeA', 'Nacionality': 'Nuñez', 'Name': 'Sofia'}"
            ]
          },
          "metadata": {},
          "execution_count": 85
        }
      ],
      "source": [
        "d"
      ]
    },
    {
      "cell_type": "markdown",
      "metadata": {
        "cell_id": "00082-21c2691e-ed50-43c3-a0a4-3cf199aa0775",
        "deepnote_cell_type": "markdown",
        "id": "t8Xzsb0qxE1-"
      },
      "source": [
        "#### Exercises\n",
        "* Display the resulting `Series` in the screen:"
      ]
    },
    {
      "cell_type": "code",
      "execution_count": null,
      "metadata": {
        "cell_id": "00083-c166b04e-79e9-40ea-ae48-49965f6a1ca1",
        "deepnote_cell_type": "code",
        "id": "Dy6zx2SuJr1f",
        "colab": {
          "base_uri": "https://localhost:8080/"
        },
        "outputId": "658ec6e3-a600-4a61-e4ed-874a73cbc379"
      },
      "outputs": [
        {
          "output_type": "execute_result",
          "data": {
            "text/plain": [
              "Name               Lucia\n",
              "Nacionality    Hernandez\n",
              "Age                   30\n",
              "Company             UdeA\n",
              "dtype: object"
            ]
          },
          "metadata": {},
          "execution_count": 104
        }
      ],
      "source": [
        "pd.Series(d)\n"
      ]
    },
    {
      "cell_type": "markdown",
      "metadata": {
        "cell_id": "00084-b681d4fc-73d5-46ee-bd43-bc82de198660",
        "deepnote_cell_type": "markdown",
        "id": "sSPUdkvtxE2C"
      },
      "source": [
        "* Append to the previous `DataFrame` and visualize it:"
      ]
    },
    {
      "cell_type": "code",
      "execution_count": null,
      "metadata": {
        "cell_id": "00085-2a4e0b9c-c719-41d5-95bc-f277953e179c",
        "deepnote_cell_type": "code",
        "id": "vRRypFa_xE2D",
        "outputId": "811568cd-0b89-4f12-bc9a-d602c4f9f1b9",
        "colab": {
          "base_uri": "https://localhost:8080/",
          "height": 112
        }
      },
      "outputs": [
        {
          "output_type": "execute_result",
          "data": {
            "text/html": [
              "<div>\n",
              "<style scoped>\n",
              "    .dataframe tbody tr th:only-of-type {\n",
              "        vertical-align: middle;\n",
              "    }\n",
              "\n",
              "    .dataframe tbody tr th {\n",
              "        vertical-align: top;\n",
              "    }\n",
              "\n",
              "    .dataframe thead th {\n",
              "        text-align: right;\n",
              "    }\n",
              "</style>\n",
              "<table border=\"1\" class=\"dataframe\">\n",
              "  <thead>\n",
              "    <tr style=\"text-align: right;\">\n",
              "      <th></th>\n",
              "      <th>Age</th>\n",
              "      <th>Nacionality</th>\n",
              "      <th>Name</th>\n",
              "      <th>Company</th>\n",
              "    </tr>\n",
              "  </thead>\n",
              "  <tbody>\n",
              "    <tr>\n",
              "      <th>0</th>\n",
              "      <td>23</td>\n",
              "      <td>Colombia</td>\n",
              "      <td>Juan Valdez</td>\n",
              "      <td>NaN</td>\n",
              "    </tr>\n",
              "    <tr>\n",
              "      <th>1</th>\n",
              "      <td>30</td>\n",
              "      <td>Hernandez</td>\n",
              "      <td>Lucia</td>\n",
              "      <td>UdeA</td>\n",
              "    </tr>\n",
              "  </tbody>\n",
              "</table>\n",
              "</div>"
            ],
            "text/plain": [
              "  Age Nacionality         Name Company\n",
              "0  23    Colombia  Juan Valdez     NaN\n",
              "1  30   Hernandez        Lucia    UdeA"
            ]
          },
          "metadata": {},
          "execution_count": 105
        }
      ],
      "source": [
        "df=df.append(d,ignore_index=True)\n",
        "df"
      ]
    },
    {
      "cell_type": "markdown",
      "metadata": {
        "cell_id": "00086-e7522978-7107-452d-b697-fcdf7b8f948b",
        "deepnote_cell_type": "markdown",
        "id": "wLUED3NWxE2G"
      },
      "source": [
        "* Fill NaN with empty strings"
      ]
    },
    {
      "cell_type": "code",
      "execution_count": null,
      "metadata": {
        "cell_id": "00087-97603f43-2420-46bf-8d24-182840f9b478",
        "deepnote_cell_type": "code",
        "id": "28rp4v3BxE2I",
        "colab": {
          "base_uri": "https://localhost:8080/"
        },
        "outputId": "4434328c-3508-4523-b226-51ae5ba8dc11"
      },
      "outputs": [
        {
          "output_type": "stream",
          "name": "stdout",
          "text": [
            "  Age Nacionality         Name Company\n",
            "0  23    Colombia  Juan Valdez       0\n",
            "1  30   Hernandez        Lucia    UdeA\n"
          ]
        }
      ],
      "source": [
        "df= df.fillna(0)\n",
        "print(df)"
      ]
    },
    {
      "cell_type": "code",
      "execution_count": null,
      "metadata": {
        "id": "p8zColSAJr1k",
        "outputId": "1bbf718d-f353-4940-c8df-66f5c47c4374",
        "colab": {
          "base_uri": "https://localhost:8080/",
          "height": 112
        }
      },
      "outputs": [
        {
          "output_type": "execute_result",
          "data": {
            "text/html": [
              "<div>\n",
              "<style scoped>\n",
              "    .dataframe tbody tr th:only-of-type {\n",
              "        vertical-align: middle;\n",
              "    }\n",
              "\n",
              "    .dataframe tbody tr th {\n",
              "        vertical-align: top;\n",
              "    }\n",
              "\n",
              "    .dataframe thead th {\n",
              "        text-align: right;\n",
              "    }\n",
              "</style>\n",
              "<table border=\"1\" class=\"dataframe\">\n",
              "  <thead>\n",
              "    <tr style=\"text-align: right;\">\n",
              "      <th></th>\n",
              "      <th>Age</th>\n",
              "      <th>Nacionality</th>\n",
              "      <th>Name</th>\n",
              "      <th>Company</th>\n",
              "    </tr>\n",
              "  </thead>\n",
              "  <tbody>\n",
              "    <tr>\n",
              "      <th>0</th>\n",
              "      <td>23</td>\n",
              "      <td>Colombia</td>\n",
              "      <td>Juan Valdez</td>\n",
              "      <td>0</td>\n",
              "    </tr>\n",
              "    <tr>\n",
              "      <th>1</th>\n",
              "      <td>30</td>\n",
              "      <td>Hernandez</td>\n",
              "      <td>Lucia</td>\n",
              "      <td>UdeA</td>\n",
              "    </tr>\n",
              "  </tbody>\n",
              "</table>\n",
              "</div>"
            ],
            "text/plain": [
              "  Age Nacionality         Name Company\n",
              "0  23    Colombia  Juan Valdez       0\n",
              "1  30   Hernandez        Lucia    UdeA"
            ]
          },
          "metadata": {},
          "execution_count": 113
        }
      ],
      "source": [
        "df"
      ]
    },
    {
      "cell_type": "markdown",
      "metadata": {
        "cell_id": "00088-e2c6349b-dfe0-4da6-b6fd-37d2abcfd9a8",
        "deepnote_cell_type": "markdown",
        "id": "K3feFAfYxE2K"
      },
      "source": [
        "* Save `Pandas` `DataFrame` as an Excel file"
      ]
    },
    {
      "cell_type": "code",
      "execution_count": null,
      "metadata": {
        "cell_id": "00089-b9551acb-cdbd-4f31-a95b-24a0070287ea",
        "deepnote_cell_type": "code",
        "id": "fdxuA_FAxE2L"
      },
      "outputs": [],
      "source": [
        "df.to_excel('prof.xlsx',index=False)"
      ]
    },
    {
      "cell_type": "markdown",
      "metadata": {
        "cell_id": "00090-b34d21ca-a22d-42e0-9f5f-0a770830fedd",
        "deepnote_cell_type": "markdown",
        "id": "evWZKwEPxE2O"
      },
      "source": [
        "* Load pandas DataFrame from the saved file in Excel"
      ]
    },
    {
      "cell_type": "code",
      "execution_count": null,
      "metadata": {
        "cell_id": "00091-23d2a6aa-c3bf-4b2c-9b78-7ebed3ae8ec6",
        "deepnote_cell_type": "code",
        "id": "xl7KUNVCxE2P",
        "colab": {
          "base_uri": "https://localhost:8080/",
          "height": 112
        },
        "outputId": "37920448-5d67-4bf7-f9c0-6cd9019975fc"
      },
      "outputs": [
        {
          "output_type": "execute_result",
          "data": {
            "text/html": [
              "<div>\n",
              "<style scoped>\n",
              "    .dataframe tbody tr th:only-of-type {\n",
              "        vertical-align: middle;\n",
              "    }\n",
              "\n",
              "    .dataframe tbody tr th {\n",
              "        vertical-align: top;\n",
              "    }\n",
              "\n",
              "    .dataframe thead th {\n",
              "        text-align: right;\n",
              "    }\n",
              "</style>\n",
              "<table border=\"1\" class=\"dataframe\">\n",
              "  <thead>\n",
              "    <tr style=\"text-align: right;\">\n",
              "      <th></th>\n",
              "      <th>Age</th>\n",
              "      <th>Nacionality</th>\n",
              "      <th>Name</th>\n",
              "      <th>Company</th>\n",
              "    </tr>\n",
              "  </thead>\n",
              "  <tbody>\n",
              "    <tr>\n",
              "      <th>0</th>\n",
              "      <td>23</td>\n",
              "      <td>Colombia</td>\n",
              "      <td>Juan Valdez</td>\n",
              "      <td>0</td>\n",
              "    </tr>\n",
              "    <tr>\n",
              "      <th>1</th>\n",
              "      <td>30</td>\n",
              "      <td>Hernandez</td>\n",
              "      <td>Lucia</td>\n",
              "      <td>UdeA</td>\n",
              "    </tr>\n",
              "  </tbody>\n",
              "</table>\n",
              "</div>"
            ],
            "text/plain": [
              "   Age Nacionality         Name Company\n",
              "0   23    Colombia  Juan Valdez       0\n",
              "1   30   Hernandez        Lucia    UdeA"
            ]
          },
          "metadata": {},
          "execution_count": 116
        }
      ],
      "source": [
        "pd.read_excel('prof.xlsx')"
      ]
    },
    {
      "cell_type": "markdown",
      "metadata": {
        "cell_id": "00092-bbceab54-8e2f-492b-aee9-374786bc9b58",
        "deepnote_cell_type": "markdown",
        "id": "pAZISlqKxE2T"
      },
      "source": [
        "### Common operations upon `DataFrames`\n",
        "See https://github.com/restrepo/PythonTipsAndTricks"
      ]
    },
    {
      "cell_type": "markdown",
      "metadata": {
        "cell_id": "00093-9da49b6e-ecfd-44e1-a27d-e131f56af8b1",
        "deepnote_cell_type": "markdown",
        "id": "IBgQ8cojxE2U"
      },
      "source": [
        "* __To fill a specific cell__"
      ]
    },
    {
      "cell_type": "code",
      "execution_count": null,
      "metadata": {
        "cell_id": "00094-77f3f284-c87f-4cb4-b305-bfa683fe9c52",
        "deepnote_cell_type": "code",
        "id": "a00HZIQhxE2V"
      },
      "outputs": [],
      "source": [
        "df.at[0,'Company']='Federación de Caferos'"
      ]
    },
    {
      "cell_type": "code",
      "execution_count": null,
      "metadata": {
        "cell_id": "00095-b9c2aeff-851c-4719-bb97-908e96da3f07",
        "deepnote_cell_type": "code",
        "id": "g6f2psm3xE2X"
      },
      "outputs": [],
      "source": [
        "df"
      ]
    },
    {
      "cell_type": "markdown",
      "metadata": {
        "cell_id": "00096-34dbb8c6-f80d-4fdd-8b56-bd0fd1fdcd9d",
        "deepnote_cell_type": "markdown",
        "id": "rzAKwxQhxE2a"
      },
      "source": [
        "## Other formats to saving and read files\n",
        "We are interested in format which keeps the tags of the columns, like `'Nombre', 'Edad', 'Compañia'`"
      ]
    },
    {
      "cell_type": "code",
      "execution_count": null,
      "metadata": {
        "id": "raEUKITtJr1r"
      },
      "outputs": [],
      "source": [
        "import pandas as pd"
      ]
    },
    {
      "cell_type": "code",
      "execution_count": null,
      "metadata": {
        "cell_id": "00097-01b06192-00aa-4602-97bb-b72642398c6b",
        "deepnote_cell_type": "code",
        "id": "CbgkbfTKvIkO"
      },
      "outputs": [],
      "source": [
        "df=pd.read_excel('http://bit.ly/spreadsheet_xlsx')\n",
        "df"
      ]
    },
    {
      "cell_type": "code",
      "execution_count": null,
      "metadata": {
        "cell_id": "00098-ac5ccf23-1ed0-4827-8156-2f01ab1e3810",
        "deepnote_cell_type": "code",
        "id": "Tx0NCs3HJr1t"
      },
      "outputs": [],
      "source": [
        "type(df.loc[0,'Edad'])"
      ]
    },
    {
      "cell_type": "markdown",
      "metadata": {
        "cell_id": "00099-9ad55ba4-a969-4bc8-b406-22cd968a0805",
        "deepnote_cell_type": "markdown",
        "id": "w8hdIGOvu3Ee"
      },
      "source": [
        "#### CSV\n",
        "Comma separated values"
      ]
    },
    {
      "cell_type": "code",
      "execution_count": null,
      "metadata": {
        "cell_id": "00100-fe200388-2002-436a-b819-745bad6fcfe0",
        "deepnote_cell_type": "code",
        "id": "90PSoWzUxE2b"
      },
      "outputs": [],
      "source": [
        "df.to_csv('hoja.csv',index=False)"
      ]
    },
    {
      "cell_type": "code",
      "execution_count": null,
      "metadata": {
        "id": "-BdrSRdtJr1y"
      },
      "outputs": [],
      "source": [
        "cat hoja.csv"
      ]
    },
    {
      "cell_type": "markdown",
      "metadata": {
        "cell_id": "00101-cc4612dc-38b1-4330-b264-1d48c027fbb0",
        "deepnote_cell_type": "markdown",
        "id": "ViJ62k6BxfOm"
      },
      "source": [
        "We can check the explicit file format with"
      ]
    },
    {
      "cell_type": "code",
      "execution_count": null,
      "metadata": {
        "cell_id": "00102-5e45759b-2a49-45f9-bf6f-8989d7b9f3a9",
        "deepnote_cell_type": "code",
        "id": "9If9lweOJr10"
      },
      "outputs": [],
      "source": [
        "df.to_csv(None,index=False)"
      ]
    },
    {
      "cell_type": "code",
      "execution_count": null,
      "metadata": {
        "cell_id": "00103-996b76be-2928-47dd-86d0-410595893d67",
        "deepnote_cell_type": "code",
        "id": "fGmx6K8SxRB1"
      },
      "outputs": [],
      "source": [
        "print(df.to_csv(None,index=False))"
      ]
    },
    {
      "cell_type": "code",
      "execution_count": null,
      "metadata": {
        "cell_id": "00104-fbced017-69ab-46a2-9804-6fff4a406112",
        "deepnote_cell_type": "code",
        "id": "6xA9X8W2Jr13"
      },
      "outputs": [],
      "source": [
        "pd.read_csv('hoja.csv')"
      ]
    },
    {
      "cell_type": "markdown",
      "metadata": {
        "cell_id": "00105-5cd6423e-2654-439c-a4e9-943248c7b894",
        "deepnote_cell_type": "markdown",
        "id": "s1rbHbLmuv2g"
      },
      "source": [
        "#### JSON"
      ]
    },
    {
      "cell_type": "markdown",
      "metadata": {
        "cell_id": "00106-ee6abf2e-ef42-41b7-af5a-c98849c33e78",
        "deepnote_cell_type": "markdown",
        "id": "JwWj-SSVv6Aj"
      },
      "source": [
        "This format keeps the Python lists and dictionaries at the storage level"
      ]
    },
    {
      "cell_type": "code",
      "execution_count": null,
      "metadata": {
        "cell_id": "00107-d18f5f63-2e23-4154-aaeb-d832bceaa1b4",
        "deepnote_cell_type": "code",
        "id": "OaMV4GdOwmBo"
      },
      "outputs": [],
      "source": [
        "df=pd.DataFrame([{\"Name\":\"Donald Trump\",\"Age\":74},\n",
        "                 {\"Name\":\"Barak Obama\", \"Age\":59}])\n",
        "df"
      ]
    },
    {
      "cell_type": "markdown",
      "metadata": {
        "cell_id": "00108-51aade1c-59de-4ab8-ab1b-cae65529ef6b",
        "deepnote_cell_type": "markdown",
        "id": "Ajc79wC9z2b0"
      },
      "source": [
        "This format allow us to keep exactly the very same list of dictionaries structure!"
      ]
    },
    {
      "cell_type": "code",
      "execution_count": null,
      "metadata": {
        "cell_id": "00109-a06a153d-a096-4f43-b4fb-e493ef63cdc6",
        "deepnote_cell_type": "code",
        "id": "00a9jBWAzg29"
      },
      "outputs": [],
      "source": [
        "print(df.to_json(None,orient='records'))"
      ]
    },
    {
      "cell_type": "markdown",
      "metadata": {
        "cell_id": "00110-40dfa301-7ac0-4c9a-b94e-3a67bb4a5abb",
        "deepnote_cell_type": "markdown",
        "id": "xwPu1tn30hQ8"
      },
      "source": [
        "__Activity__: \n",
        "* Save to a file instead of `None` and open the file with some editor. "
      ]
    },
    {
      "cell_type": "code",
      "execution_count": null,
      "metadata": {
        "cell_id": "00111-4cb060b6-5095-4bdc-9e15-2025f5da8f4d",
        "deepnote_cell_type": "code",
        "id": "KtKmXfQg1Z4z"
      },
      "outputs": [],
      "source": [
        "df.to_json('File.json',orient='records')"
      ]
    },
    {
      "cell_type": "markdown",
      "metadata": {
        "cell_id": "00112-156a13f9-d5a6-46ce-b2a5-49b78dc5ae44",
        "deepnote_cell_type": "markdown",
        "id": "5S7OR7X11acD"
      },
      "source": [
        "* Add a break-line at the end of the first dictionary and try to\n",
        "load the resulting file with `pd.read_json`"
      ]
    },
    {
      "cell_type": "code",
      "execution_count": null,
      "metadata": {
        "cell_id": "00113-925db647-ab9d-46c1-ad47-35d873eeff39",
        "deepnote_cell_type": "code",
        "id": "xOaIuF_y1b5C",
        "outputId": "d16d2836-4760-4f05-a317-549295de0f9c",
        "colab": {
          "base_uri": "https://localhost:8080/",
          "height": 112
        }
      },
      "outputs": [
        {
          "output_type": "execute_result",
          "data": {
            "text/html": [
              "<div>\n",
              "<style scoped>\n",
              "    .dataframe tbody tr th:only-of-type {\n",
              "        vertical-align: middle;\n",
              "    }\n",
              "\n",
              "    .dataframe tbody tr th {\n",
              "        vertical-align: top;\n",
              "    }\n",
              "\n",
              "    .dataframe thead th {\n",
              "        text-align: right;\n",
              "    }\n",
              "</style>\n",
              "<table border=\"1\" class=\"dataframe\">\n",
              "  <thead>\n",
              "    <tr style=\"text-align: right;\">\n",
              "      <th></th>\n",
              "      <th>Age</th>\n",
              "      <th>Nacionality</th>\n",
              "      <th>Name</th>\n",
              "      <th>Company</th>\n",
              "    </tr>\n",
              "  </thead>\n",
              "  <tbody>\n",
              "    <tr>\n",
              "      <th>0</th>\n",
              "      <td>23</td>\n",
              "      <td>Colombia</td>\n",
              "      <td>Juan Valdez</td>\n",
              "      <td>0</td>\n",
              "    </tr>\n",
              "    <tr>\n",
              "      <th>1</th>\n",
              "      <td>30</td>\n",
              "      <td>Hernandez</td>\n",
              "      <td>Lucia</td>\n",
              "      <td>UdeA</td>\n",
              "    </tr>\n",
              "  </tbody>\n",
              "</table>\n",
              "</div>"
            ],
            "text/plain": [
              "   Age Nacionality         Name Company\n",
              "0   23    Colombia  Juan Valdez       0\n",
              "1   30   Hernandez        Lucia    UdeA"
            ]
          },
          "metadata": {},
          "execution_count": 119
        }
      ],
      "source": [
        "pd.read_json('File.json')"
      ]
    },
    {
      "cell_type": "code",
      "execution_count": null,
      "metadata": {
        "id": "uA6-cjJwJr2C",
        "colab": {
          "base_uri": "https://localhost:8080/"
        },
        "outputId": "9b17b0a2-221c-4e43-f4dd-1dd398a78862"
      },
      "outputs": [
        {
          "output_type": "execute_result",
          "data": {
            "text/plain": [
              "[{'Age': 74, 'Name': 'Donald Trump'}, {'Age': 59, 'Name': 'Barak Obama'}]"
            ]
          },
          "metadata": {},
          "execution_count": 120
        }
      ],
      "source": [
        "# %load presidents.json\n",
        "[{\"Name\":\"Donald Trump\",\"Age\":74},{\"Name\":\"Barak Obama\",\"Age\":59}]"
      ]
    },
    {
      "cell_type": "markdown",
      "metadata": {
        "cell_id": "00114-cabdfd59-d1aa-44c7-9859-f7590ff0bb9e",
        "deepnote_cell_type": "markdown",
        "id": "5vSq9daI0F7R"
      },
      "source": [
        "JSON allows for some flexibility in the break-lines structure:"
      ]
    },
    {
      "cell_type": "code",
      "execution_count": null,
      "metadata": {
        "cell_id": "00115-935cc968-6583-4fad-9839-eabdae7a7016",
        "deepnote_cell_type": "code",
        "id": "ehcTF8V5Jr2E"
      },
      "outputs": [],
      "source": [
        "hm='''\n",
        "hola\n",
        "mundo\n",
        "'''"
      ]
    },
    {
      "cell_type": "code",
      "execution_count": null,
      "metadata": {
        "cell_id": "00116-f120fb15-040a-44e3-b1b1-0919e3c1d7d2",
        "deepnote_cell_type": "code",
        "id": "UpopzTv-Jr2F"
      },
      "outputs": [],
      "source": [
        "hm"
      ]
    },
    {
      "cell_type": "code",
      "execution_count": null,
      "metadata": {
        "id": "JGfhI_m-Jr2F"
      },
      "outputs": [],
      "source": [
        "[\n",
        "    {\"Name\":\n",
        "     \"Donald Trump\",\"Age\":74},{\"Name\": #en cualquier parte\n",
        "                               \"Barak Obama\",\"Age\":59}\n",
        "\n",
        "#Un comentario\n",
        "]"
      ]
    },
    {
      "cell_type": "code",
      "execution_count": null,
      "metadata": {
        "cell_id": "00117-b3d11b0b-ffb3-4fa2-95f1-f1f3a009d9fc",
        "deepnote_cell_type": "code",
        "id": "qT8Lnlrgy0M9"
      },
      "outputs": [],
      "source": [
        "pd.read_json('''\n",
        "             [{\"Name\":\"Donald Trump\",\"Age\":73},\n",
        "              {\"Name\":\"Barak Obama\", \"Age\":58}]\n",
        "            ''')"
      ]
    },
    {
      "cell_type": "markdown",
      "metadata": {
        "cell_id": "00118-33431814-7e28-4599-988c-c692699cd502",
        "deepnote_cell_type": "markdown",
        "id": "w6PyR85f1mfD"
      },
      "source": [
        "For large databases it is convinient just to accumulate dictionaries in a sequential form:"
      ]
    },
    {
      "cell_type": "code",
      "execution_count": null,
      "metadata": {
        "cell_id": "00119-84d25081-6867-41dd-8ba8-55ed6f8fc690",
        "deepnote_cell_type": "code",
        "id": "y2f8y66fyC5S"
      },
      "outputs": [],
      "source": [
        "print(df.to_json(None,orient='records',lines=True))"
      ]
    },
    {
      "cell_type": "code",
      "execution_count": null,
      "metadata": {
        "cell_id": "00120-3df09295-8c42-4b2f-8190-bebc99a29fcd",
        "deepnote_cell_type": "code",
        "id": "Bvhzs_GRzNWM"
      },
      "outputs": [],
      "source": [
        "df=pd.read_json('''\n",
        "             {\"Name\":\"Donald Trump, Junior\",\"Age\":73}\n",
        "             {\"Name\":\"Barak Obama, Senior\", \"Age\":58}\n",
        "            ''',orient='records',lines=True)"
      ]
    },
    {
      "cell_type": "code",
      "execution_count": null,
      "metadata": {
        "id": "1NlvusQgJr2O"
      },
      "outputs": [],
      "source": [
        "df"
      ]
    },
    {
      "cell_type": "code",
      "execution_count": null,
      "metadata": {
        "id": "h0NnFlGxJr2P"
      },
      "outputs": [],
      "source": [
        "df[\"name\"]=df['Name'].str.split(', ').str[0]"
      ]
    },
    {
      "cell_type": "code",
      "execution_count": null,
      "metadata": {
        "id": "ELTf939gJr2Q"
      },
      "outputs": [],
      "source": [
        "df"
      ]
    },
    {
      "cell_type": "markdown",
      "metadata": {
        "cell_id": "00121-1e35d05f-c794-4f1a-8008-f939e469ba6e",
        "deepnote_cell_type": "markdown",
        "id": "sYfWnw1e2wfi"
      },
      "source": [
        "__Activity__: \n",
        "* Save to a file instead of `None`, with options: `orient='records',lines=True`, and open the file with some editor. "
      ]
    },
    {
      "cell_type": "code",
      "execution_count": null,
      "metadata": {
        "cell_id": "00122-4d55c964-e9b3-49e0-8f04-d008caafc148",
        "deepnote_cell_type": "code",
        "id": "S9wv93dM3KER"
      },
      "outputs": [],
      "source": [
        "df.to_json('File.json',orient='records',lines=True)"
      ]
    },
    {
      "cell_type": "code",
      "execution_count": null,
      "metadata": {
        "id": "FcMGbjCqJr2S",
        "outputId": "46a7644e-f629-4843-9ee7-1b0915f81651",
        "colab": {
          "base_uri": "https://localhost:8080/"
        }
      },
      "outputs": [
        {
          "output_type": "stream",
          "name": "stdout",
          "text": [
            "{\"Age\":23.0,\"Nacionality\":\"Colombia\",\"Name\":\"Juan Valdez\",\"Company\":0}\n",
            "{\"Age\":\"30\",\"Nacionality\":\"Hernandez\",\"Name\":\"Lucia\",\"Company\":\"UdeA\"}"
          ]
        }
      ],
      "source": [
        "cat File.json"
      ]
    },
    {
      "cell_type": "markdown",
      "metadata": {
        "cell_id": "00123-5793b240-c88d-4ed8-8a7a-7039b03bb45f",
        "deepnote_cell_type": "markdown",
        "id": "bGYW8Xl-3Kdi"
      },
      "source": [
        "* Add a similar dictionary in the next new line, and try to\n",
        "load the resulting file with `pd.read_json` with options: `orient='records',lines=True`. \n",
        "   * WARNING: Use doble-quotes `\"` to write the keys od the new\n",
        "dictionary"
      ]
    },
    {
      "cell_type": "code",
      "execution_count": null,
      "metadata": {
        "id": "25Et5r8NJr2V",
        "outputId": "5146fd3b-f26c-48ef-c47e-71d4a84fca0d",
        "colab": {
          "base_uri": "https://localhost:8080/",
          "height": 112
        }
      },
      "outputs": [
        {
          "output_type": "execute_result",
          "data": {
            "text/html": [
              "<div>\n",
              "<style scoped>\n",
              "    .dataframe tbody tr th:only-of-type {\n",
              "        vertical-align: middle;\n",
              "    }\n",
              "\n",
              "    .dataframe tbody tr th {\n",
              "        vertical-align: top;\n",
              "    }\n",
              "\n",
              "    .dataframe thead th {\n",
              "        text-align: right;\n",
              "    }\n",
              "</style>\n",
              "<table border=\"1\" class=\"dataframe\">\n",
              "  <thead>\n",
              "    <tr style=\"text-align: right;\">\n",
              "      <th></th>\n",
              "      <th>Age</th>\n",
              "      <th>Nacionality</th>\n",
              "      <th>Name</th>\n",
              "      <th>Company</th>\n",
              "    </tr>\n",
              "  </thead>\n",
              "  <tbody>\n",
              "    <tr>\n",
              "      <th>0</th>\n",
              "      <td>23</td>\n",
              "      <td>Colombia</td>\n",
              "      <td>Juan Valdez</td>\n",
              "      <td>0</td>\n",
              "    </tr>\n",
              "    <tr>\n",
              "      <th>1</th>\n",
              "      <td>30</td>\n",
              "      <td>Hernandez</td>\n",
              "      <td>Lucia</td>\n",
              "      <td>UdeA</td>\n",
              "    </tr>\n",
              "  </tbody>\n",
              "</table>\n",
              "</div>"
            ],
            "text/plain": [
              "   Age Nacionality         Name Company\n",
              "0   23    Colombia  Juan Valdez       0\n",
              "1   30   Hernandez        Lucia    UdeA"
            ]
          },
          "metadata": {},
          "execution_count": 123
        }
      ],
      "source": [
        "pd.read_json('File.json',orient='records',lines=True)"
      ]
    },
    {
      "cell_type": "markdown",
      "metadata": {
        "cell_id": "00124-8fdef546-5acb-4662-a477-79e7e56b5ab0",
        "deepnote_cell_type": "markdown",
        "id": "icGCveT34HDA"
      },
      "source": [
        "Any Python string need to be converted first to double-quotes before to be used as JSON string.\n",
        "\n",
        "__Example__"
      ]
    },
    {
      "cell_type": "code",
      "execution_count": 3,
      "metadata": {
        "cell_id": "00125-8eb6882d-f964-487a-854a-5f26c07b1035",
        "deepnote_cell_type": "code",
        "id": "mPRCSHbG4dRx"
      },
      "outputs": [],
      "source": [
        "numbers={\"even\": [0,2,4,-6,8],   #  First  key-list\n",
        "         \"odd\" : [1,3,-5,7,9] }  #  Second key-list"
      ]
    },
    {
      "cell_type": "code",
      "execution_count": 4,
      "metadata": {
        "cell_id": "00126-8b43f478-80c5-4dde-90c1-56c760b3bbbf",
        "deepnote_cell_type": "code",
        "id": "3Tv9hkCmJr2X",
        "colab": {
          "base_uri": "https://localhost:8080/"
        },
        "outputId": "49d94cf6-c970-49b7-9e00-aafe9ee17f04"
      },
      "outputs": [
        {
          "output_type": "execute_result",
          "data": {
            "text/plain": [
              "{'even': [0, 2, 4, -6, 8], 'odd': [1, 3, -5, 7, 9]}"
            ]
          },
          "metadata": {},
          "execution_count": 4
        }
      ],
      "source": [
        "numbers"
      ]
    },
    {
      "cell_type": "code",
      "execution_count": 5,
      "metadata": {
        "cell_id": "00127-6eed42d7-e148-4fe2-a336-1020b086422d",
        "deepnote_cell_type": "code",
        "id": "An-yzTut4gtw",
        "colab": {
          "base_uri": "https://localhost:8080/",
          "height": 35
        },
        "outputId": "f467ddbb-fa2b-44c9-e6c5-dfa58d348cdd"
      },
      "outputs": [
        {
          "output_type": "execute_result",
          "data": {
            "application/vnd.google.colaboratory.intrinsic+json": {
              "type": "string"
            },
            "text/plain": [
              "\"{'even': [0, 2, 4, -6, 8], 'odd': [1, 3, -5, 7, 9]}\""
            ]
          },
          "metadata": {},
          "execution_count": 5
        }
      ],
      "source": [
        "str(numbers)"
      ]
    },
    {
      "cell_type": "markdown",
      "metadata": {
        "cell_id": "00128-88abc63b-351f-4fd8-98c0-10cb52230870",
        "deepnote_cell_type": "markdown",
        "id": "BFCE3Hq34ktw"
      },
      "source": [
        "This string can be writing in the `JSON` format by replacing the single quotes, ' , by  duoble quotes, \":"
      ]
    },
    {
      "cell_type": "code",
      "execution_count": 6,
      "metadata": {
        "id": "SeAxlkepJr2Z",
        "colab": {
          "base_uri": "https://localhost:8080/",
          "height": 35
        },
        "outputId": "5c94af18-8807-4686-b978-b9fdb2a333fb"
      },
      "outputs": [
        {
          "output_type": "execute_result",
          "data": {
            "application/vnd.google.colaboratory.intrinsic+json": {
              "type": "string"
            },
            "text/plain": [
              "'hola mundo radiante'"
            ]
          },
          "metadata": {},
          "execution_count": 6
        }
      ],
      "source": [
        "\"hola mundo cruel\".replace('cruel','radiante')"
      ]
    },
    {
      "cell_type": "markdown",
      "metadata": {
        "cell_id": "00130-a2a20551-1d74-470a-9923-974394855938",
        "deepnote_cell_type": "markdown",
        "id": "zDssJstU45Qi"
      },
      "source": [
        "and now can be used as an JSON input"
      ]
    },
    {
      "cell_type": "code",
      "execution_count": 9,
      "metadata": {
        "cell_id": "00131-90d378ec-4eb8-4654-a447-0af782b2d942",
        "deepnote_cell_type": "code",
        "id": "HxbaP5T542_h",
        "colab": {
          "base_uri": "https://localhost:8080/",
          "height": 206
        },
        "outputId": "4c93aead-5958-4788-98f3-264509308b92"
      },
      "outputs": [
        {
          "output_type": "execute_result",
          "data": {
            "text/html": [
              "<div>\n",
              "<style scoped>\n",
              "    .dataframe tbody tr th:only-of-type {\n",
              "        vertical-align: middle;\n",
              "    }\n",
              "\n",
              "    .dataframe tbody tr th {\n",
              "        vertical-align: top;\n",
              "    }\n",
              "\n",
              "    .dataframe thead th {\n",
              "        text-align: right;\n",
              "    }\n",
              "</style>\n",
              "<table border=\"1\" class=\"dataframe\">\n",
              "  <thead>\n",
              "    <tr style=\"text-align: right;\">\n",
              "      <th></th>\n",
              "      <th>even</th>\n",
              "      <th>odd</th>\n",
              "    </tr>\n",
              "  </thead>\n",
              "  <tbody>\n",
              "    <tr>\n",
              "      <th>0</th>\n",
              "      <td>0</td>\n",
              "      <td>1</td>\n",
              "    </tr>\n",
              "    <tr>\n",
              "      <th>1</th>\n",
              "      <td>2</td>\n",
              "      <td>3</td>\n",
              "    </tr>\n",
              "    <tr>\n",
              "      <th>2</th>\n",
              "      <td>4</td>\n",
              "      <td>-5</td>\n",
              "    </tr>\n",
              "    <tr>\n",
              "      <th>3</th>\n",
              "      <td>-6</td>\n",
              "      <td>7</td>\n",
              "    </tr>\n",
              "    <tr>\n",
              "      <th>4</th>\n",
              "      <td>8</td>\n",
              "      <td>9</td>\n",
              "    </tr>\n",
              "  </tbody>\n",
              "</table>\n",
              "</div>"
            ],
            "text/plain": [
              "   even  odd\n",
              "0     0    1\n",
              "1     2    3\n",
              "2     4   -5\n",
              "3    -6    7\n",
              "4     8    9"
            ]
          },
          "metadata": {},
          "execution_count": 9
        }
      ],
      "source": [
        "import pandas as pd \n",
        "df=pd.read_json(  str(numbers).replace(\"'\",'\"') )\n",
        "df"
      ]
    },
    {
      "cell_type": "code",
      "execution_count": 7,
      "metadata": {
        "cell_id": "00129-077cac5a-d328-436a-b590-181f5bc5a8d8",
        "deepnote_cell_type": "code",
        "id": "PJVD2Btc4nJx",
        "colab": {
          "base_uri": "https://localhost:8080/",
          "height": 35
        },
        "outputId": "89257800-7dd9-41a4-b307-2e8f0a603b87"
      },
      "outputs": [
        {
          "output_type": "execute_result",
          "data": {
            "application/vnd.google.colaboratory.intrinsic+json": {
              "type": "string"
            },
            "text/plain": [
              "\"{'even': [0, 2, 4, -6, 8], 'odd': [1, 3, -5, 7, 9]}\""
            ]
          },
          "metadata": {},
          "execution_count": 7
        }
      ],
      "source": [
        "str(numbers)"
      ]
    },
    {
      "cell_type": "markdown",
      "metadata": {
        "cell_id": "00132-b0810565-a22d-4f66-b020-f06993aaa79c",
        "deepnote_cell_type": "markdown",
        "id": "EtqUn4t85Hlp"
      },
      "source": [
        "__Activity__: Try to read the string as JSON without make the double-quote replacement"
      ]
    },
    {
      "cell_type": "markdown",
      "metadata": {
        "cell_id": "00133-38528865-2883-419d-a318-6739da40857a",
        "deepnote_cell_type": "markdown",
        "id": "s2uApSIi8PjI"
      },
      "source": [
        "## Filters\n",
        "The main application of labeled data for data analysis is the possibility to make filers, or cuts, to obtain specific reduced datasets to further analysis"
      ]
    },
    {
      "cell_type": "code",
      "execution_count": null,
      "metadata": {
        "id": "JcJDJyl5Jr2d"
      },
      "outputs": [],
      "source": [
        "import pandas as pd"
      ]
    },
    {
      "cell_type": "code",
      "execution_count": null,
      "metadata": {
        "id": "KwhqreLpJr2e"
      },
      "outputs": [],
      "source": [
        "numbers={\"even\": [0,2,4,-6,8],   #  First  key-list\n",
        "         \"odd\" : [1,3,-5,7,9] }  #  Second key-list"
      ]
    },
    {
      "cell_type": "code",
      "execution_count": null,
      "metadata": {
        "id": "ZSGF0oNEJr2f"
      },
      "outputs": [],
      "source": [
        "df=pd.DataFrame(numbers)"
      ]
    },
    {
      "cell_type": "code",
      "execution_count": null,
      "metadata": {
        "cell_id": "00134-ef5b47b0-51cd-47bf-9b8a-19ab931a22e5",
        "deepnote_cell_type": "code",
        "id": "Mnn0EFkLJr2f"
      },
      "outputs": [],
      "source": [
        "df"
      ]
    },
    {
      "cell_type": "markdown",
      "metadata": {
        "id": "k7BBj9jIJr2g"
      },
      "source": [
        "A filter is a list of `True/False` values"
      ]
    },
    {
      "cell_type": "code",
      "execution_count": null,
      "metadata": {
        "id": "lhsRvl85Jr2h"
      },
      "outputs": [],
      "source": [
        "df.even.abs()>4"
      ]
    },
    {
      "cell_type": "code",
      "execution_count": null,
      "metadata": {
        "cell_id": "00135-26b7e2ad-8ed0-4c5c-a903-7dcc2a3d065d",
        "deepnote_cell_type": "code",
        "id": "zt2S0aln8_4s"
      },
      "outputs": [],
      "source": [
        "df[df.even.abs()>4]"
      ]
    },
    {
      "cell_type": "code",
      "execution_count": null,
      "metadata": {
        "cell_id": "00136-02a253ad-bdf0-4501-8cdd-552e09512321",
        "deepnote_cell_type": "code",
        "id": "eVSePCQB9GFe"
      },
      "outputs": [],
      "source": [
        "#and\n",
        "df[(df.even>0) & (df.odd<0)]"
      ]
    },
    {
      "cell_type": "code",
      "execution_count": null,
      "metadata": {
        "cell_id": "00137-922f9b25-8146-4da0-899c-3d49f450c068",
        "deepnote_cell_type": "code",
        "id": "0rAudRHLJr2j"
      },
      "outputs": [],
      "source": [
        "df[~((df.even>0) & (df.odd<0)) ]"
      ]
    },
    {
      "cell_type": "code",
      "execution_count": null,
      "metadata": {
        "cell_id": "00138-ca349084-fa0c-4be5-839c-1eb00d5120e8",
        "deepnote_cell_type": "code",
        "id": "dVktA6ze9wI2"
      },
      "outputs": [],
      "source": [
        "#or\n",
        "df[(df.even<0) | (df.odd<0)]"
      ]
    },
    {
      "cell_type": "markdown",
      "metadata": {
        "cell_id": "00139-ca62a80b-b815-4fd5-bbe8-2fccf72f6a3a",
        "deepnote_cell_type": "markdown",
        "id": "xHsCPml65i54"
      },
      "source": [
        "## The `apply` method\n",
        "The advantage of the spreadsheet paradigm is that the columns can be transformed with functions. All the typical functions avalaible for a spreadsheet are already implemented like the method `.abs()` used before, or the method: `.sum()`"
      ]
    },
    {
      "cell_type": "code",
      "execution_count": 12,
      "metadata": {
        "cell_id": "00140-5bd68707-f972-4a21-ad89-ffc17371d504",
        "deepnote_cell_type": "code",
        "id": "pPLWFFLA6NX4",
        "colab": {
          "base_uri": "https://localhost:8080/"
        },
        "outputId": "09995d40-a419-4544-a476-328c90cf27b6"
      },
      "outputs": [
        {
          "output_type": "execute_result",
          "data": {
            "text/plain": [
              "8"
            ]
          },
          "metadata": {},
          "execution_count": 12
        }
      ],
      "source": [
        "df.even.sum()"
      ]
    },
    {
      "cell_type": "markdown",
      "metadata": {
        "cell_id": "00141-57b10a10-4de8-42f2-a94a-3013e9ef5af6",
        "deepnote_cell_type": "markdown",
        "id": "XCUwgF0f6WFP"
      },
      "source": [
        "__Activity__: Explore the avalaible methods by using the completion system of the notebook after the last semicolon of `df.even.`"
      ]
    },
    {
      "cell_type": "code",
      "execution_count": 10,
      "metadata": {
        "cell_id": "00142-50a685d2-4b25-40b1-9c45-7c9fbcc3875e",
        "deepnote_cell_type": "code",
        "id": "0BQSn1e_Jr2o"
      },
      "outputs": [],
      "source": [
        "kk=df['even']"
      ]
    },
    {
      "cell_type": "code",
      "execution_count": 11,
      "metadata": {
        "id": "_4YTkibMJr2o",
        "colab": {
          "base_uri": "https://localhost:8080/"
        },
        "outputId": "8ce8c1cc-7c91-4427-eb39-d15d4327a9f4"
      },
      "outputs": [
        {
          "output_type": "execute_result",
          "data": {
            "text/plain": [
              "0    0\n",
              "1    2\n",
              "2    4\n",
              "3   -6\n",
              "4    8\n",
              "Name: even, dtype: int64"
            ]
          },
          "metadata": {},
          "execution_count": 11
        }
      ],
      "source": [
        "kk"
      ]
    },
    {
      "cell_type": "markdown",
      "metadata": {
        "cell_id": "00143-62cf460c-f390-49a9-afb3-79a89a598209",
        "deepnote_cell_type": "markdown",
        "id": "JDqDXVoF6mOv"
      },
      "source": [
        "df['even'].ipynb_checkpoints/"
      ]
    },
    {
      "cell_type": "markdown",
      "metadata": {
        "cell_id": "00144-aced47b4-60eb-4b3c-931e-d008d4e89f6d",
        "deepnote_cell_type": "markdown",
        "id": "378RNNb97OQs"
      },
      "source": [
        "### Column-level `apply`\n",
        "We just select the column and apply the direct or implicit function:\n",
        "* Pre-defined function"
      ]
    },
    {
      "cell_type": "code",
      "execution_count": null,
      "metadata": {
        "cell_id": "00145-a74342d5-abd2-4958-8864-fc0db16f5c37",
        "deepnote_cell_type": "code",
        "id": "L210XcRK7qYn"
      },
      "outputs": [],
      "source": [
        "df.even.apply(abs)"
      ]
    },
    {
      "cell_type": "markdown",
      "metadata": {
        "cell_id": "00146-27fa426d-132e-4721-a8bd-ce3d2cd52bcb",
        "deepnote_cell_type": "markdown",
        "id": "JX0nA6swDphj"
      },
      "source": [
        "* Implicit function"
      ]
    },
    {
      "cell_type": "code",
      "execution_count": null,
      "metadata": {
        "cell_id": "00147-b381a3f1-17b5-4e0c-960b-4514c07a753d",
        "deepnote_cell_type": "code",
        "id": "oGEcVFrA72LX"
      },
      "outputs": [],
      "source": [
        "df.even.apply(lambda n:isinstance(n,int))"
      ]
    },
    {
      "cell_type": "code",
      "execution_count": null,
      "metadata": {
        "cell_id": "00148-2e4c0fd3-48e3-4c86-bc26-b51aab4a4efe",
        "deepnote_cell_type": "code",
        "id": "m9yfhWmfJr2t"
      },
      "outputs": [],
      "source": [
        "df.even.apply(lambda n: n**2)"
      ]
    },
    {
      "cell_type": "markdown",
      "metadata": {
        "cell_id": "00149-9f1c7206-da55-4ad4-b589-dc7022a7daba",
        "deepnote_cell_type": "markdown",
        "id": "8wFVd7Sk7irH"
      },
      "source": [
        "### Row-level apply\n",
        "The foll row is passed as dictionary to the explicit or implicit function when `apply` is used for the full `DataFrame` and the option `axis=1` is used at the end"
      ]
    },
    {
      "cell_type": "code",
      "execution_count": null,
      "metadata": {
        "id": "tPCtQOn6Jr2w"
      },
      "outputs": [],
      "source": [
        "df"
      ]
    },
    {
      "cell_type": "code",
      "execution_count": null,
      "metadata": {
        "cell_id": "00150-082c7a02-aa1e-49cb-a4f3-1349b1550535",
        "deepnote_cell_type": "code",
        "id": "ncHrJvEYJr2w"
      },
      "outputs": [],
      "source": [
        "df['even']+df['odd']**2"
      ]
    },
    {
      "cell_type": "code",
      "execution_count": null,
      "metadata": {
        "cell_id": "00151-abb73dae-6242-4c9c-84e4-303bdf29589d",
        "deepnote_cell_type": "code",
        "id": "z6GLMMuEEUwB"
      },
      "outputs": [],
      "source": [
        "df.apply(lambda row: row['even']+row['odd']**2,axis='columns')"
      ]
    },
    {
      "cell_type": "code",
      "execution_count": null,
      "metadata": {
        "id": "CQaGbdwgJr2y"
      },
      "outputs": [],
      "source": [
        "df.apply(lambda row: row.get('even')+row.get('odd')**2,axis='columns')"
      ]
    },
    {
      "cell_type": "markdown",
      "metadata": {
        "cell_id": "00152-09addc01-50ec-4b33-bb8b-0b7e3a0b8af5",
        "deepnote_cell_type": "markdown",
        "id": "QklC6XuLJr2z"
      },
      "source": [
        "## Chain tools for data analysis\n",
        "There are several chain tools for data analyis like the\n",
        "* Spreadsheet based one, like Excel \n",
        "* Relational databases with the use of more advanced SQL tabular data with some data base software like MySQL\n",
        "* Non-relational databases (RAM) with Pandas, R,  Paw,... ( max ~ RAM/8) \n",
        "* Non-relational databases (Disk): Dask, ROOT, MongoDB,...\n",
        "\n",
        "Here we illustrate an example of use fo a non-relational database with Pandas"
      ]
    },
    {
      "cell_type": "markdown",
      "metadata": {
        "cell_id": "00153-31b6cb4c-2040-41f4-9b7d-e226df82dc37",
        "deepnote_cell_type": "markdown",
        "id": "aJEbP8k3Jr20"
      },
      "source": [
        "## Relational databases"
      ]
    },
    {
      "cell_type": "code",
      "execution_count": null,
      "metadata": {
        "id": "ZdoDnAIpJr21"
      },
      "outputs": [],
      "source": [
        "import pandas as pd"
      ]
    },
    {
      "cell_type": "code",
      "execution_count": null,
      "metadata": {
        "cell_id": "00154-21e06109-13d0-40f9-a9a6-1dec1358ab30",
        "deepnote_cell_type": "code",
        "id": "21A9F03tJr21"
      },
      "outputs": [],
      "source": [
        "personas=pd.read_csv('https://raw.githubusercontent.com/restrepo/ComputationalMethods/master/data/personas.csv')\n",
        "#personas=pd.read_csv('../data/personas.csv')\n",
        "personas"
      ]
    },
    {
      "cell_type": "code",
      "execution_count": null,
      "metadata": {
        "cell_id": "00156-95466953-49eb-4a2b-bcce-483b72149659",
        "deepnote_cell_type": "code",
        "id": "XCYTTW_9Jr22"
      },
      "outputs": [],
      "source": [
        "trabajos=pd.read_csv('https://raw.githubusercontent.com/restrepo/ComputationalMethods/master/data/trabajos.csv',na_filter=False)\n",
        "trabajos=pd.read_csv('../data/trabajos.csv',na_filter=False)\n",
        "trabajos"
      ]
    },
    {
      "cell_type": "markdown",
      "metadata": {
        "cell_id": "00157-6c56e4ac-c3b6-4cf0-9bd6-9812ee89832e",
        "deepnote_cell_type": "markdown",
        "id": "yRHoWhmfJr23"
      },
      "source": [
        "![img](https://raw.githubusercontent.com/restrepo/ComputationalMethods/master/material/figures/relation.svg)"
      ]
    },
    {
      "cell_type": "markdown",
      "metadata": {
        "cell_id": "00158-f3332d6e-f5e9-4383-9054-5cc67a0d42bc",
        "deepnote_cell_type": "markdown",
        "id": "FZtYz9s2Jr24"
      },
      "source": [
        "### Activity\n",
        "Obtain the current work of Álavro Uribe Vélez "
      ]
    },
    {
      "cell_type": "code",
      "execution_count": null,
      "metadata": {
        "id": "bOCDMREDJr25"
      },
      "outputs": [],
      "source": [
        "trabajos"
      ]
    },
    {
      "cell_type": "code",
      "execution_count": null,
      "metadata": {
        "id": "EAwQuZRAJr25"
      },
      "outputs": [],
      "source": [
        "import unidecode"
      ]
    },
    {
      "cell_type": "code",
      "execution_count": null,
      "metadata": {
        "id": "WRbMAyesJr26"
      },
      "outputs": [],
      "source": [
        "cc=personas[personas['Nombre'].str.lower().apply(\n",
        "    unidecode.unidecode).str.contains('alvaro uribe velez')].iloc[0].get('id')"
      ]
    },
    {
      "cell_type": "code",
      "execution_count": null,
      "metadata": {
        "id": "7gBdUZl7Jr27"
      },
      "outputs": [],
      "source": [
        "trabajos[trabajos.get('id')==cc]['Cargo'].to_list()"
      ]
    },
    {
      "cell_type": "markdown",
      "metadata": {
        "cell_id": "00160-db50187a-85fc-45f5-9b78-221f038e0794",
        "deepnote_cell_type": "markdown",
        "id": "z2NsLagWs-Jg"
      },
      "source": [
        "## Non-relational databases"
      ]
    },
    {
      "cell_type": "markdown",
      "metadata": {
        "id": "MK8eeafHJr28"
      },
      "source": [
        "Listas de diccionarios anidados con una esquema de datos definido\n",
        "\n",
        "![img](https://raw.githubusercontent.com/restrepo/ComputationalMethods/master/material/figures/personajes.svg)"
      ]
    },
    {
      "cell_type": "code",
      "execution_count": null,
      "metadata": {
        "id": "mKTIl60DJr29"
      },
      "outputs": [],
      "source": [
        "personas['Fecha de Nacimiento']=pd.to_datetime( personas['Fecha de Nacimiento'] )"
      ]
    },
    {
      "cell_type": "code",
      "execution_count": null,
      "metadata": {
        "id": "uXR77WJZJr2-"
      },
      "outputs": [],
      "source": [
        "personas"
      ]
    },
    {
      "cell_type": "markdown",
      "metadata": {
        "id": "PAy8Ss66Jr2-"
      },
      "source": [
        "Extract-Transform-Load: ETL"
      ]
    },
    {
      "cell_type": "code",
      "execution_count": null,
      "metadata": {
        "id": "_mqqkZqEJr2_"
      },
      "outputs": [],
      "source": [
        "from dateutil.relativedelta import relativedelta"
      ]
    },
    {
      "cell_type": "code",
      "execution_count": null,
      "metadata": {
        "id": "2ED7IgzgJr2_"
      },
      "outputs": [],
      "source": [
        "personas['Edad']=personas['Fecha de Nacimiento'].apply(lambda t: \n",
        "                        relativedelta( pd.to_datetime('now'), t).years )"
      ]
    },
    {
      "cell_type": "code",
      "execution_count": null,
      "metadata": {
        "id": "hHIFbIABJr3A"
      },
      "outputs": [],
      "source": [
        "trabajos[trabajos['id']==666].to_dict(orient='records')"
      ]
    },
    {
      "cell_type": "code",
      "execution_count": null,
      "metadata": {
        "id": "e8za-6D9Jr3B"
      },
      "outputs": [],
      "source": [
        "personas"
      ]
    },
    {
      "cell_type": "code",
      "execution_count": null,
      "metadata": {
        "id": "e-LpZ7cBJr3C"
      },
      "outputs": [],
      "source": [
        "personas['id']"
      ]
    },
    {
      "cell_type": "code",
      "execution_count": null,
      "metadata": {
        "id": "Cdf_9FUZJr3D"
      },
      "outputs": [],
      "source": [
        "personas['Trabajos']=personas['id'].apply(lambda i:  trabajos[trabajos['id']==i\n",
        "                                                             ][['Inicio','Fin','Cargo','Compañía']\n",
        "                                                              ].to_dict(orient='records') )"
      ]
    },
    {
      "cell_type": "code",
      "execution_count": null,
      "metadata": {
        "id": "cfai50iGJr3E"
      },
      "outputs": [],
      "source": [
        "personas"
      ]
    },
    {
      "cell_type": "code",
      "execution_count": null,
      "metadata": {
        "id": "hiOEloijJr3E"
      },
      "outputs": [],
      "source": [
        "personajes=personas[['Nombre','Edad','Trabajos']]"
      ]
    },
    {
      "cell_type": "code",
      "execution_count": null,
      "metadata": {
        "id": "3bfbmscbJr3F"
      },
      "outputs": [],
      "source": [
        "personajes"
      ]
    },
    {
      "cell_type": "code",
      "execution_count": null,
      "metadata": {
        "id": "JV_dftwkJr3F"
      },
      "outputs": [],
      "source": [
        "personajes.to_dict(orient='records')"
      ]
    },
    {
      "cell_type": "code",
      "execution_count": null,
      "metadata": {
        "id": "zntHcYBsJr3G"
      },
      "outputs": [],
      "source": [
        "from IPython.display import JSON"
      ]
    },
    {
      "cell_type": "code",
      "execution_count": null,
      "metadata": {
        "cell_id": "00161-c9ac407c-7e37-4992-88ef-1de719aef0e3",
        "deepnote_cell_type": "code",
        "id": "rNk0eHAbJr3H"
      },
      "outputs": [],
      "source": [
        "JSON( personajes.to_dict(orient='records') )"
      ]
    },
    {
      "cell_type": "markdown",
      "metadata": {
        "cell_id": "00165-b49cdbca-5db4-4a8c-9619-c6728a61eda4",
        "deepnote_cell_type": "markdown",
        "id": "1YVIyZElJr3H"
      },
      "source": [
        "### Actividad\n",
        "Obtenga el último trabajo de Álvaro Uribe Vélez"
      ]
    },
    {
      "cell_type": "code",
      "execution_count": null,
      "metadata": {
        "id": "r3AR6xFAJr3I"
      },
      "outputs": [],
      "source": [
        "personajes[personajes['Nombre']=='Álvaro Uribe Vélez'\n",
        "          ].get('Trabajos'\n",
        "          ).apply(lambda l: [d.get('Cargo') for d in l if not d.get('Fin')]\n",
        "          ).str[0].to_list()[0]"
      ]
    },
    {
      "cell_type": "markdown",
      "metadata": {
        "cell_id": "00167-5961be8e-ed89-40b6-b41d-51c96c61be97",
        "deepnote_cell_type": "markdown",
        "id": "2NdcwWa5tuzv"
      },
      "source": [
        "We have shown that the simple two dimensional spreadsheets where each cell values is a simple type like string, integer, or float, can be represented as a dictionary of lists values or a list of dictionary column-value assignment. \n",
        "\n",
        "We can go further and allow to store in the value itself a more general data structure, like nested lists and dictionaries. This allows advanced data-analysis when the `apply` methos is used to operate inside the nested lists or dictionaries.\n",
        "\n",
        "See for example:\n"
      ]
    },
    {
      "cell_type": "markdown",
      "metadata": {
        "cell_id": "00168-eb357193-9719-4e73-b2f7-4f39b6bb9f06",
        "deepnote_cell_type": "markdown",
        "id": "wB4hBVkhoPwR"
      },
      "source": [
        "##  World wide web\n",
        "There are really three kinds of web\n",
        "* The normal web, \n",
        "* The deep web,\n",
        "* _The machine web_. The web for machine readable responses. It is served in `JSON` or `XML`  formats, which preserve programming objects."
      ]
    },
    {
      "cell_type": "markdown",
      "metadata": {
        "cell_id": "00169-83452998-c3f5-4934-af52-088d397ec467",
        "deepnote_cell_type": "markdown",
        "id": "zg_zZkbxJr3M"
      },
      "source": [
        "### Normal web"
      ]
    },
    {
      "cell_type": "code",
      "execution_count": null,
      "metadata": {
        "cell_id": "00170-e0b4c06a-4c1b-4744-95ad-6d44760e3be3",
        "deepnote_cell_type": "code",
        "id": "cQXE4FTdJr3M"
      },
      "outputs": [],
      "source": [
        "pd.read_html('https://en.wikipedia.org/wiki/COVID-19_pandemic_by_country_and_territory')[0][1:]"
      ]
    },
    {
      "cell_type": "markdown",
      "metadata": {
        "cell_id": "00171-4930bd6f-f022-4c0d-825a-c978307d6a96",
        "deepnote_cell_type": "markdown",
        "id": "6YvJo4YcJr3O"
      },
      "source": [
        "Real world example: microsoft academics\n",
        "![img](https://docs.microsoft.com/en-us/academic-services/graph/media/erd/entity-relationship-diagram.png)"
      ]
    },
    {
      "cell_type": "markdown",
      "metadata": {
        "cell_id": "00172-d77428b0-8158-40df-a696-28018c73f4b3",
        "deepnote_cell_type": "markdown",
        "id": "kwlL4T0XJr3O"
      },
      "source": [
        "### Machine web\n",
        "For example, consider the following normal web page:\n",
        "\n",
        "https://inspirehep.net/literature?q=doi:10.1103/PhysRevLett.122.132001\n",
        "\n",
        "about a Scientific paper with people from the University of Antioquia. A _machine web_ version can be easily obtained in JSON just by attaching the extra parameter `&of=recjson`, and direcly loaded from Pandas, which works like a _browser for the third web_:"
      ]
    },
    {
      "cell_type": "code",
      "execution_count": null,
      "metadata": {
        "cell_id": "00173-73ec9ef2-d196-4a39-bd0d-64e4de85db70",
        "deepnote_cell_type": "code",
        "id": "FSAa6g6rJr3P"
      },
      "outputs": [],
      "source": [
        "import pandas as pd"
      ]
    },
    {
      "cell_type": "code",
      "execution_count": null,
      "metadata": {
        "cell_id": "00174-c9b1fdd4-0927-465a-9e06-a54712ff98b5",
        "deepnote_cell_type": "code",
        "id": "-cg2w7wsoo7H"
      },
      "outputs": [],
      "source": [
        "df=pd.read_json('https://inspirehep.net/api/literature?q=doi:10.1103/PhysRevLett.122.132001')"
      ]
    },
    {
      "cell_type": "code",
      "execution_count": null,
      "metadata": {
        "id": "DJOtY8-jJr3Q"
      },
      "outputs": [],
      "source": [
        "df"
      ]
    },
    {
      "cell_type": "markdown",
      "metadata": {
        "cell_id": "00183-b08b0eea-107b-49a8-8340-c12fcbc66e1d",
        "deepnote_cell_type": "markdown",
        "id": "i22ywhohsAVo"
      },
      "source": [
        " We can use all the previous methods to extract the authors from `'Antioquia U.'`:\n",
        " \n",
        " Note: For a dictionary, `d` is safer to use `d.get('key')` instead of just `d['key']` to obtain some `key`, because not error is generated if the requested `key` does not exists at all "
      ]
    },
    {
      "cell_type": "code",
      "execution_count": null,
      "metadata": {
        "cell_id": "00175-483f18ee-8181-46cf-995b-4d1b5abd53b7",
        "deepnote_cell_type": "code",
        "id": "MPiuuciYo90S"
      },
      "outputs": [],
      "source": [
        "df[df['hits'].apply(lambda l: isinstance(l,list))]['hits' # extract cell with list\n",
        "            ].apply(lambda l: [d.get('metadata') for d in l] # metadata of article\n",
        "            ).str[0 #get the matched article dictionary\n",
        "            ].str['authors' # get list of authors → l\n",
        "            ].apply(lambda l: [ f'{d.get(\"first_name\")} {d.get(\"last_name\")}' for d in l  #author is a dictionary → d\n",
        "                               #d.get('affiliations') is a list  of dictionaries → dd                               \n",
        "                               if 'Antioquia U.' in [dd.get('value') for dd in d.get('affiliations')] \n",
        "                              ])"
      ]
    },
    {
      "cell_type": "markdown",
      "metadata": {
        "id": "qV6kJqE4Jr3S"
      },
      "source": [
        "or"
      ]
    },
    {
      "cell_type": "code",
      "execution_count": null,
      "metadata": {
        "id": "GDnPMwSNJr3S"
      },
      "outputs": [],
      "source": [
        "Authors=df[df['hits'].apply(lambda l: isinstance(l,list))]['hits' # extract cell with list\n",
        "            ].apply(lambda articles: [article.get('metadata') for article in articles] # metadata of article\n",
        "            ).str[0 #get the matched article dictionary\n",
        "            ].str['authors' # get list of authors → l\n",
        "            ]"
      ]
    },
    {
      "cell_type": "code",
      "execution_count": null,
      "metadata": {
        "id": "wGVf0t3LJr3T"
      },
      "outputs": [],
      "source": [
        "names=Authors.apply(lambda authors: [ author.get('full_name') for author in authors  #author is a dictionary\n",
        "                               #author.get('affiliations') is a list  of dictionaries → affiliation                              \n",
        "                               if 'Antioquia U.' in [affiliation.get('value') for affiliation in author.get('affiliations')] \n",
        "                              ])\n",
        "names[0]"
      ]
    },
    {
      "cell_type": "markdown",
      "metadata": {
        "cell_id": "00176-771f6078-2bd8-4b8c-bd1e-52d95359760b",
        "deepnote_cell_type": "markdown",
        "id": "SyVgDj1ApPtP"
      },
      "source": [
        "We can see that the column `authors` is quite nested: Is a list of dictionaries with the full information for each one of the authors of the article."
      ]
    },
    {
      "cell_type": "markdown",
      "metadata": {
        "cell_id": "00180-df4514dc-1020-47a8-ae5b-9fa3fe83a913",
        "deepnote_cell_type": "markdown",
        "id": "8zr5Nsxwsikt"
      },
      "source": [
        "__Activity__: Check that the lenght of the auhors list coincides with the `number_of_authors` \n",
        "<!-- df.authors.apply(len),df.number_of_authors.values -->"
      ]
    },
    {
      "cell_type": "code",
      "execution_count": null,
      "metadata": {
        "cell_id": "00181-e6df8982-fca7-4ff2-a8e6-e57c2d3471ee",
        "deepnote_cell_type": "code",
        "id": "uhFXUwTRJr3V"
      },
      "outputs": [],
      "source": [
        ""
      ]
    },
    {
      "cell_type": "markdown",
      "metadata": {
        "cell_id": "00192-fa68bd80-a348-41cb-ad3c-fb0a4cfdb0ae",
        "deepnote_cell_type": "markdown",
        "id": "1Z96Ju2gwQO0"
      },
      "source": [
        "For further details see: https://github.com/restrepo/inspire/blob/master/gfif.ipynb\n"
      ]
    },
    {
      "cell_type": "markdown",
      "metadata": {
        "cell_id": "00193-6e138922-01e4-4ecc-934a-06eee6670c8b",
        "deepnote_cell_type": "markdown",
        "id": "MrPJsOJZJr3W"
      },
      "source": [
        "__Activity__: Repeat the same activity but using directly the JSON file, obtained with `requests`"
      ]
    },
    {
      "cell_type": "code",
      "execution_count": null,
      "metadata": {
        "cell_id": "00195-da97f864-7b1d-4a98-a6d1-885056868278",
        "deepnote_cell_type": "code",
        "id": "u1bwJ9HpJr3W"
      },
      "outputs": [],
      "source": [
        "#See: https://github.com/inspirehep/rest-api-doc/issues/4#issuecomment-645218074\n",
        "import requests                                                                                                                                                      \n",
        "response = requests.get('https://inspirehep.net/api/doi/10.1103/PhysRevLett.122.132001')                                                                              \n",
        "authors = response.json()['metadata']['authors']                                                                                                                     \n",
        "names = [author.get('full_name')\n",
        "              for author in authors \n",
        "               if any(aff.get('value') == 'Antioquia U.' for aff in author.get('affiliations'))]\n",
        "names"
      ]
    },
    {
      "cell_type": "markdown",
      "metadata": {
        "id": "9eNioHPrJr3X"
      },
      "source": [
        "## Summary\n",
        "[Pandas_Cheat_Sheet PDF](https://pandas.pydata.org/Pandas_Cheat_Sheet.pdf)"
      ]
    },
    {
      "cell_type": "markdown",
      "metadata": {
        "cell_id": "00196-e12c3e66-259a-44d2-988d-55ad5e2c68de",
        "deepnote_cell_type": "markdown",
        "id": "D7SNm2ABxE22"
      },
      "source": [
        "##  ACTIVITIES\n",
        "See:\n",
        "* https://github.com/ajcr/100-pandas-puzzles\n",
        "* https://github.com/guipsamora/pandas_exercises\n",
        "* https://rramosp.github.io/ai4eng.v1/content/NOTES%2002.04%20-%20PANDAS.html"
      ]
    },
    {
      "cell_type": "markdown",
      "metadata": {
        "cell_id": "00197-d4ddb4b1-754e-48ea-8b71-75d4272f816c",
        "deepnote_cell_type": "markdown",
        "id": "fWjYdB7LxE23"
      },
      "source": [
        "## Final remarks\n",
        "With basic scripting and Pandas we already have a solid environment to analyse data. We introduce the other libraries motivated with the extending the capabilities of Pandas"
      ]
    },
    {
      "cell_type": "code",
      "execution_count": null,
      "metadata": {
        "cell_id": "00198-34e40bd9-4143-4ae7-aac7-7ff4a1d98cdf",
        "deepnote_cell_type": "code",
        "id": "erRi7J01xE24"
      },
      "outputs": [],
      "source": [
        ""
      ]
    },
    {
      "cell_type": "markdown",
      "metadata": {
        "created_in_deepnote_cell": true,
        "deepnote_cell_type": "markdown",
        "tags": [],
        "id": "NGoLHul3Jr3Z"
      },
      "source": [
        "<a style='text-decoration:none;line-height:16px;display:flex;color:#5B5B62;padding:10px;justify-content:end;' href='https://deepnote.com?utm_source=created-in-deepnote-cell&projectId=f91b818d-f536-4b8f-81de-61752e0979b7' target=\"_blank\">\n",
        "<img alt='Created in deepnote.com' style='display:inline;max-height:16px;margin:0px;margin-right:7.5px;' src='data:image/svg+xml;base64,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' > </img>\n",
        "Created in <span style='font-weight:600;margin-left:4px;'>Deepnote</span></a>"
      ]
    }
  ],
  "metadata": {
    "colab": {
      "name": "1193090281 Pandas.ipynb",
      "provenance": []
    },
    "deepnote": {},
    "deepnote_execution_queue": [],
    "deepnote_notebook_id": "0a9be7a0-3db5-477d-bb7c-1755e22290d0",
    "kernelspec": {
      "display_name": "Python 3 (ipykernel)",
      "language": "python",
      "name": "python3"
    },
    "language_info": {
      "codemirror_mode": {
        "name": "ipython",
        "version": 3
      },
      "file_extension": ".py",
      "mimetype": "text/x-python",
      "name": "python",
      "nbconvert_exporter": "python",
      "pygments_lexer": "ipython3",
      "version": "3.9.2"
    },
    "toc": {
      "colors": {
        "hover_highlight": "#DAA520",
        "running_highlight": "#FF0000",
        "selected_highlight": "#FFD700"
      },
      "moveMenuLeft": true,
      "nav_menu": {},
      "navigate_menu": true,
      "number_sections": true,
      "sideBar": true,
      "threshold": 4,
      "toc_cell": false,
      "toc_section_display": "block",
      "toc_window_display": false
    }
  },
  "nbformat": 4,
  "nbformat_minor": 0
}