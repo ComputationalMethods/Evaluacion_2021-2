{
  "nbformat": 4,
  "nbformat_minor": 0,
  "metadata": {
    "colab": {
      "name": "PARCIAL 1_1193090281ipynb",
      "provenance": [],
      "collapsed_sections": []
    },
    "kernelspec": {
      "name": "python3",
      "display_name": "Python 3"
    },
    "language_info": {
      "name": "python"
    }
  },
  "cells": [
    {
      "cell_type": "markdown",
      "source": [
        "#PARCIAL 1 SARA CARVAJAL 1193090281"
      ],
      "metadata": {
        "id": "IoqHSQsAp91b"
      }
    },
    {
      "cell_type": "code",
      "execution_count": 236,
      "metadata": {
        "colab": {
          "base_uri": "https://localhost:8080/",
          "height": 237
        },
        "id": "6r-eSiEcp9K2",
        "outputId": "dc056c60-eae5-4ec8-f27d-14eaf77e45cb"
      },
      "outputs": [
        {
          "output_type": "execute_result",
          "data": {
            "text/html": [
              "\n",
              "  <div id=\"df-21f3f2fc-591b-45de-9e80-b0f39b2c1af8\">\n",
              "    <div class=\"colab-df-container\">\n",
              "      <div>\n",
              "<style scoped>\n",
              "    .dataframe tbody tr th:only-of-type {\n",
              "        vertical-align: middle;\n",
              "    }\n",
              "\n",
              "    .dataframe tbody tr th {\n",
              "        vertical-align: top;\n",
              "    }\n",
              "\n",
              "    .dataframe thead th {\n",
              "        text-align: right;\n",
              "    }\n",
              "</style>\n",
              "<table border=\"1\" class=\"dataframe\">\n",
              "  <thead>\n",
              "    <tr style=\"text-align: right;\">\n",
              "      <th></th>\n",
              "      <th>Día</th>\n",
              "      <th>IPMH</th>\n",
              "      <th>IPMH +/- 0.002</th>\n",
              "    </tr>\n",
              "  </thead>\n",
              "  <tbody>\n",
              "    <tr>\n",
              "      <th>0</th>\n",
              "      <td>1</td>\n",
              "      <td>464</td>\n",
              "      <td>464.596246</td>\n",
              "    </tr>\n",
              "    <tr>\n",
              "      <th>1</th>\n",
              "      <td>2</td>\n",
              "      <td>494</td>\n",
              "      <td>493.601420</td>\n",
              "    </tr>\n",
              "    <tr>\n",
              "      <th>2</th>\n",
              "      <td>3</td>\n",
              "      <td>532</td>\n",
              "      <td>531.535749</td>\n",
              "    </tr>\n",
              "    <tr>\n",
              "      <th>3</th>\n",
              "      <td>4</td>\n",
              "      <td>552</td>\n",
              "      <td>553.026684</td>\n",
              "    </tr>\n",
              "    <tr>\n",
              "      <th>4</th>\n",
              "      <td>5</td>\n",
              "      <td>576</td>\n",
              "      <td>574.948464</td>\n",
              "    </tr>\n",
              "    <tr>\n",
              "      <th>5</th>\n",
              "      <td>6</td>\n",
              "      <td>589</td>\n",
              "      <td>588.534168</td>\n",
              "    </tr>\n",
              "  </tbody>\n",
              "</table>\n",
              "</div>\n",
              "      <button class=\"colab-df-convert\" onclick=\"convertToInteractive('df-21f3f2fc-591b-45de-9e80-b0f39b2c1af8')\"\n",
              "              title=\"Convert this dataframe to an interactive table.\"\n",
              "              style=\"display:none;\">\n",
              "        \n",
              "  <svg xmlns=\"http://www.w3.org/2000/svg\" height=\"24px\"viewBox=\"0 0 24 24\"\n",
              "       width=\"24px\">\n",
              "    <path d=\"M0 0h24v24H0V0z\" fill=\"none\"/>\n",
              "    <path d=\"M18.56 5.44l.94 2.06.94-2.06 2.06-.94-2.06-.94-.94-2.06-.94 2.06-2.06.94zm-11 1L8.5 8.5l.94-2.06 2.06-.94-2.06-.94L8.5 2.5l-.94 2.06-2.06.94zm10 10l.94 2.06.94-2.06 2.06-.94-2.06-.94-.94-2.06-.94 2.06-2.06.94z\"/><path d=\"M17.41 7.96l-1.37-1.37c-.4-.4-.92-.59-1.43-.59-.52 0-1.04.2-1.43.59L10.3 9.45l-7.72 7.72c-.78.78-.78 2.05 0 2.83L4 21.41c.39.39.9.59 1.41.59.51 0 1.02-.2 1.41-.59l7.78-7.78 2.81-2.81c.8-.78.8-2.07 0-2.86zM5.41 20L4 18.59l7.72-7.72 1.47 1.35L5.41 20z\"/>\n",
              "  </svg>\n",
              "      </button>\n",
              "      \n",
              "  <style>\n",
              "    .colab-df-container {\n",
              "      display:flex;\n",
              "      flex-wrap:wrap;\n",
              "      gap: 12px;\n",
              "    }\n",
              "\n",
              "    .colab-df-convert {\n",
              "      background-color: #E8F0FE;\n",
              "      border: none;\n",
              "      border-radius: 50%;\n",
              "      cursor: pointer;\n",
              "      display: none;\n",
              "      fill: #1967D2;\n",
              "      height: 32px;\n",
              "      padding: 0 0 0 0;\n",
              "      width: 32px;\n",
              "    }\n",
              "\n",
              "    .colab-df-convert:hover {\n",
              "      background-color: #E2EBFA;\n",
              "      box-shadow: 0px 1px 2px rgba(60, 64, 67, 0.3), 0px 1px 3px 1px rgba(60, 64, 67, 0.15);\n",
              "      fill: #174EA6;\n",
              "    }\n",
              "\n",
              "    [theme=dark] .colab-df-convert {\n",
              "      background-color: #3B4455;\n",
              "      fill: #D2E3FC;\n",
              "    }\n",
              "\n",
              "    [theme=dark] .colab-df-convert:hover {\n",
              "      background-color: #434B5C;\n",
              "      box-shadow: 0px 1px 3px 1px rgba(0, 0, 0, 0.15);\n",
              "      filter: drop-shadow(0px 1px 2px rgba(0, 0, 0, 0.3));\n",
              "      fill: #FFFFFF;\n",
              "    }\n",
              "  </style>\n",
              "\n",
              "      <script>\n",
              "        const buttonEl =\n",
              "          document.querySelector('#df-21f3f2fc-591b-45de-9e80-b0f39b2c1af8 button.colab-df-convert');\n",
              "        buttonEl.style.display =\n",
              "          google.colab.kernel.accessAllowed ? 'block' : 'none';\n",
              "\n",
              "        async function convertToInteractive(key) {\n",
              "          const element = document.querySelector('#df-21f3f2fc-591b-45de-9e80-b0f39b2c1af8');\n",
              "          const dataTable =\n",
              "            await google.colab.kernel.invokeFunction('convertToInteractive',\n",
              "                                                     [key], {});\n",
              "          if (!dataTable) return;\n",
              "\n",
              "          const docLinkHtml = 'Like what you see? Visit the ' +\n",
              "            '<a target=\"_blank\" href=https://colab.research.google.com/notebooks/data_table.ipynb>data table notebook</a>'\n",
              "            + ' to learn more about interactive tables.';\n",
              "          element.innerHTML = '';\n",
              "          dataTable['output_type'] = 'display_data';\n",
              "          await google.colab.output.renderOutput(dataTable, element);\n",
              "          const docLink = document.createElement('div');\n",
              "          docLink.innerHTML = docLinkHtml;\n",
              "          element.appendChild(docLink);\n",
              "        }\n",
              "      </script>\n",
              "    </div>\n",
              "  </div>\n",
              "  "
            ],
            "text/plain": [
              "   Día  IPMH  IPMH +/- 0.002\n",
              "0    1   464      464.596246\n",
              "1    2   494      493.601420\n",
              "2    3   532      531.535749\n",
              "3    4   552      553.026684\n",
              "4    5   576      574.948464\n",
              "5    6   589      588.534168"
            ]
          },
          "metadata": {},
          "execution_count": 236
        }
      ],
      "source": [
        "import pandas as pd\n",
        "import numpy as np\n",
        "\n",
        "dia= [1,2,3,4,5,6]\n",
        "ipmh= [464,494,532,552,576,589]\n",
        "cont=1\n",
        "ipmhinc=[]\n",
        "incaleatorias= []\n",
        "for i in range(0,6):\n",
        "  cont= ipmh[i]*0.002\n",
        "  ipmhinc.append(cont)\n",
        "for i in range(0,6):\n",
        "  numero = np.random.uniform(0, ipmhinc[i] )\n",
        "  incaleatorias.append(numero)\n",
        "\n",
        "df = pd.DataFrame({'Día' : dia, 'IPMH' : ipmh}, \n",
        "                               columns=['Día','IPMH'])\n",
        "\n",
        "def suma(a, b):\n",
        "    return a+b\n",
        "\n",
        "def resta(a, b):\n",
        "    return a-b\n",
        "\n",
        "op = [suma, resta]\n",
        "\n",
        "incran= []\n",
        "for i in range(0,6):\n",
        "  ran = np.random.choice(op)( ipmh[i], incaleatorias[i])\n",
        "  incran.append(ran)\n",
        "  \n",
        "\n",
        "df_= pd.DataFrame({'Día' : dia, 'IPMH' : ipmh, 'IPMH +/- 0.002' : incran })\n",
        "\n",
        "df_"
      ]
    },
    {
      "cell_type": "code",
      "source": [
        "import matplotlib.pyplot as plt\n",
        "from scipy import interpolate\n",
        "import sympy as sp\n",
        "import scipy.optimize as opt\n",
        "from sklearn.linear_model import LinearRegression\n",
        "from sklearn.model_selection import train_test_split\n",
        "#PUNTO B\n",
        "#INTERPRETANDO LOS DATOS COMO UNA ECUACIÓN DE MOVIMIENTO SOLO IPMH CON INCERTIDUMBRE\n",
        "\n",
        "df_= pd.DataFrame({'Día' : dia, 'IPMH +/- 0.002' : incran })\n",
        "z = np.polyfit(dia, incran,2)\n",
        "z_=np.poly1d(z)\n",
        "\n",
        "v0= z_(0)\n",
        "a= z[0]*2\n",
        "\n",
        "d1=z_.deriv()\n",
        "root=opt.bisect(d1,0,10) \n",
        "\n",
        "max=z_(root)\n",
        "print(\"El valor de V_0 es:\",v0)\n",
        "print(\"El valor de la Aceleración es:\",a)\n",
        "print(\"El Valor máximo es:\",max)\n",
        "print(\"El numero de días que toma en alcanzar el máximo es:\",root)\n",
        "\n",
        "xp=np.linspace(1,6,10)\n",
        "plt.plot(xp,z_(xp),\"r-\")\n",
        "plt.plot(dia,incran, \"go\")\n",
        "plt.show()\n"
      ],
      "metadata": {
        "colab": {
          "base_uri": "https://localhost:8080/",
          "height": 340
        },
        "id": "fz6v-12ey_QN",
        "outputId": "27cde303-8966-4cb5-977e-6bd5f89b87f9"
      },
      "execution_count": 238,
      "outputs": [
        {
          "output_type": "stream",
          "name": "stdout",
          "text": [
            "El valor de V_0 es: 422.3270297028613\n",
            "El valor de la Aceleración es: -5.040983809422207\n",
            "El Valor máximo es: 605.1739180519916\n",
            "El numero de días que toma en alcanzar el máximo es: 8.517284097239326\n"
          ]
        },
        {
          "output_type": "display_data",
          "data": {
            "image/png": "[encoded data removed]",
            "text/plain": [
              "<Figure size 432x288 with 1 Axes>"
            ]
          },
          "metadata": {
            "needs_background": "light"
          }
        }
      ]
    },
    {
      "cell_type": "markdown",
      "source": [
        "HACIENDO USO DE: \n",
        "![imagen.png](data:image/png;base64,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)"
      ],
      "metadata": {
        "id": "ZthRYD5S63XD"
      }
    }
  ]
}