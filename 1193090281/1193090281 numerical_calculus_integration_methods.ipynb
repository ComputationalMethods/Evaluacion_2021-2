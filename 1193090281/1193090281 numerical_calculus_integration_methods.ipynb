{
  "cells": [
    {
      "cell_type": "markdown",
      "metadata": {
        "id": "6bjRDChJH8dW"
      },
      "source": [
        "# Integration for data points\n",
        "<a href=\"https://colab.research.google.com/github/restrepo/ComputationalMethods/blob/master/material/numerical-calculus-integration-methods.ipynb\" target=\"_parent\"><img src=\"https://colab.research.google.com/assets/colab-badge.svg\" alt=\"Open In Colab\"/></a>"
      ]
    },
    {
      "cell_type": "markdown",
      "metadata": {
        "id": "dvZRcSsnNqCK"
      },
      "source": [
        "## Numerical approximation of integrals"
      ]
    },
    {
      "cell_type": "markdown",
      "metadata": {
        "id": "YIixIlcWNqCM"
      },
      "source": [
        "The methods for numerical approximation that we will study here rely in the idea of approximate \n",
        "$$\\int_a^b f(x)\\operatorname{d}x\\,,$$\n",
        "by using some polinomial $p$, such that\n",
        "$$\\int_a^b f(x)\\operatorname{d}x\\approx \\int_a^b P_n(x)\\operatorname{d}x\\,,$$\n",
        "The integral of a polynomial can be calculated analytically because we know its antiderivative.\n",
        "\n",
        "Since, as we seen in [Lagrange-Polynomial](interpolation.ipynb#Lagrange-Polynomial), the next polynomial of $n$th-degree \n",
        "$$P_n(x) = \\sum_{i=0}^n f(x_i)L_{n,i}(x) = \\sum_{i=0}^n y_iL_{n,i}(x)\\,,$$\n",
        "where \n",
        "$$L_{n,i}(x) = \\prod_{\\begin{smallmatrix}m=0\\\\ m\\neq i\\end{smallmatrix}}^n \\frac{x-x_m}{x_i-x_m} =\\frac{(x-x_0)}{(x_i-x_0)}\\frac{(x-x_1)}{(x_i-x_1)}\\cdots \\frac{(x-x_{i-1})}{(x_i-x_{i-1})}\\underbrace{\\frac{}{}}_{m\\ne i}\n",
        "\\frac{(x-x_{i+1})}{(x_i-x_{i+1})} \\cdots \\frac{(x-x_{n-1})}{(x_i-x_{n-1})}\\frac{(x-x_n)}{(x_i-x_n)}  $$\n",
        "Given a well-behaved function $f(x)$, we have then\n",
        "\n",
        "$$f(x) \\approx \\sum_{k=0}^n f(x_k)L_{n,k}(x)$$\n",
        "\n",
        "\\begin{align}\n",
        "%$$ trick notebook cell\n",
        "\\int_a^b f(x)dx =& \\int_a^b\\sum_{k=0}^n f(x_k)L_{n,k}(x)dx \\\\\n",
        "=&\\sum_{k=0}^n f(x_k) \\int_a^b L_{n,k}(x)dx \\\\\n",
        "=&\\sum_{k=0}^n f(x_k) \\omega_k \\,\n",
        "%$$\n",
        "\\end{align}\n",
        "<!-- http://pages.cs.wisc.edu/~amos/412/lecture-notes/lecture18.pdf -->\n",
        "where $\\omega_k$ is a _weight_ applied to each function value:\n",
        "$$\\omega_k = \\int_a^b L_{n,k}(x) dx= \\int_a^b\\prod_{j=0,\\ j\\neq k}^{n}\\frac{(x-x_j)}{(x_k-x_j)}dx$$\n",
        "Note that, since Lagrange polynomials do not depend on the function, we can calculate analically the weights $\\omega_i$ using only the nodes $[x_0,x_1,\\ldots x_n]$, "
      ]
    },
    {
      "cell_type": "markdown",
      "metadata": {
        "id": "AUS7lq2oNqCM"
      },
      "source": [
        "### Error calculation\n",
        "Including the error, the previous function $f(x)$ can be written as\n",
        "\n",
        "$$f(x) = \\sum_{k=0}^n f(x_k)L_{n,k}(x) + \\frac{(x-x_0)(x-x_1)\\cdots(x-x_n)}{(n+1)!}f^{(n+1)}(\\xi(x))$$\n",
        "\n",
        "with $L_{n,k}(x)$ the lagrange basis functions. Integrating $f(x)$ over $[a,b]$, we obtain the next expression:\n",
        "\n",
        "$$\\int_a^b f(x)dx = \\int_a^b\\sum_{k=0}^n f(x_k)L_{n,k}(x)dx + \\int_a^b\\frac{(x-x_0)(x-x_1)\\cdots(x-x_n)}{(n+1)!}f^{(n+1)}(\\xi(x))dx$$\n",
        "\n",
        "It is worth mentioning this expression is a number, unlike differentiation where we obtained a function.\n",
        "\n",
        "We can readily convert this expression in a weighted summation as\n",
        "\n",
        "$$\\int_a^b f(x)dx = \\sum_{k=0}^n \\omega_i\\,f(x_k) + \\frac{1}{(n+1)!}\\int_a^bf^{(n+1)}(\\xi(x)) \\prod_{k=0}^{n}(x-x_k)dx$$\n",
        "\n",
        "\n",
        "Finally, the quadrature formula or **Newton-Cotes formula** is given by the next expression:\n",
        "\n",
        "$$\\int_a^b f(x) dx = \\sum \\omega_i\\, f(x_i) + E[f]$$\n",
        "\n",
        "where the estimated error is \n",
        "\n",
        "$$E[f] = \\frac{1}{(n+1)!}\\int_a^bf^{(n+1)}(\\xi(x)) \\prod_{k=0}^{n}(x-x_k)dx $$\n",
        "\n",
        "Asumming besides intervals equally spaced such that $x_i = x_0 + i\\times h$, the error formula becomes:\n",
        "\n",
        "$$E[f] = \\frac{h^{n+3}f^{n+2}(\\xi)}{(n+1)!}\\int_0^nt^2(t-1)\\cdots(t-n) $$\n",
        "\n",
        "if $n$ is even and\n",
        "\n",
        "$$E[f] = \\frac{h^{n+2}f^{n+1}(\\xi)}{(n+1)!}\\int_0^nt(t-1)\\cdots(t-n) $$\n",
        "\n",
        "if $n$ is odd.\n",
        "\n",
        "Below is a simple implementation of the quadrature formula or **Newton-Cotes formula** by using the implementation in `scipy` of the Interpolation polynomial in the Lagrangian form of order $n$ discussed in [Interpolation](./interpolation.ipynb#Implementation-in-Scipy) from  `scipy interpolation`"
      ]
    },
    {
      "cell_type": "code",
      "execution_count": 1,
      "metadata": {
        "colab": {
          "base_uri": "https://localhost:8080/"
        },
        "id": "uXlrPfheNqCM",
        "outputId": "afc5c026-798b-428b-c078-92da0a9a565a"
      },
      "outputs": [
        {
          "output_type": "stream",
          "name": "stdout",
          "text": [
            "Populating the interactive namespace from numpy and matplotlib\n"
          ]
        }
      ],
      "source": [
        "%pylab inline\n",
        "import numpy as np\n",
        "from scipy import interpolate\n",
        "import scipy.integrate as integrate"
      ]
    },
    {
      "cell_type": "code",
      "execution_count": 2,
      "metadata": {
        "id": "N-TjG8rwEeIs"
      },
      "outputs": [],
      "source": [
        "def F(Y,X):\n",
        "    '''\n",
        "    Antiderivate approximantion with Lagrange Polynomial \n",
        "    '''\n",
        "    return interpolate.lagrange( X, Y ).integ()"
      ]
    },
    {
      "cell_type": "markdown",
      "metadata": {
        "id": "GS0A0I6DH8dj"
      },
      "source": [
        "$$ F(x)$$ corresponds to\n",
        "$$ \\int_a^b f(x) \\operatorname{d}x=\\left. F(x)\\right|_a^b=F(b)-F(a)$$"
      ]
    },
    {
      "cell_type": "code",
      "execution_count": 3,
      "metadata": {
        "id": "Tnc0_ghcH8dk"
      },
      "outputs": [],
      "source": [
        "def Quadrature(Y,X):\n",
        "    '''\n",
        "    Antiderivate approximantion with Lagrange Polynomial \n",
        "    '''\n",
        "    antif=F(Y,X)\n",
        "    return antif(X[-1])-antif(X[0])"
      ]
    },
    {
      "cell_type": "code",
      "execution_count": 4,
      "metadata": {
        "id": "25AlyuHZNqCO"
      },
      "outputs": [],
      "source": [
        "def PlotQuadrature( f, X, xmin, xmax, ymin, ymax, fig=None, leg=True ):\n",
        "    '''\n",
        "    Implementation of Newton-Cotes formula for A SINGLE INTERVAL\n",
        "    f: Function to integrate in A SINGLE INTERVAL\n",
        "    X: nodes of the Lagrangian interpolation polynomial\n",
        "    xmin,xmax,ymin, ymax: size of the figure\n",
        "    '''\n",
        "    Y = f( X )\n",
        "    \n",
        "    #X array\n",
        "    Xarray = np.linspace( xmin, xmax, 1000 )\n",
        "    #X area\n",
        "    Xarea = np.linspace( X[0], X[-1], 1000 )\n",
        "    #F array\n",
        "    Yarray = f( Xarray )\n",
        "    \n",
        "    #Lagrange polynomial\n",
        "    Ln = interpolate.lagrange( X, Y )\n",
        "    #Interpolated array\n",
        "    Parray = Ln( Xarray )\n",
        "    #Interpolated array for area\n",
        "    Parea = Ln( Xarea )\n",
        "    \n",
        "    #Plotting\n",
        "    if fig==None:\n",
        "        fig = plt.figure( figsize = (8,8) )\n",
        "    ax = fig.add_subplot(111)\n",
        "    #Function\n",
        "    ax.plot( Xarray, Yarray, linewidth = 3, color = \"blue\", label=\"$f(x)$\" )\n",
        "    #Points\n",
        "    ax.plot( X, Y, \"o\", color=\"red\", label=\"points\", zorder = 10 )\n",
        "    #Interpolator\n",
        "    ax.plot( Xarray, Parray, linewidth = 2, color = \"black\", label=\"$P_{%d}(x)$\"%(len(X)-1) )\n",
        "    #Area\n",
        "    ax.fill_between( Xarea, Parea, color=\"green\", alpha=0.5 )\n",
        "    \n",
        "    #Format\n",
        "    ax.set_title( \"%d-point Quadrature\"%(len(X)), fontsize=16 )\n",
        "    ax.set_xlim( (xmin, xmax) )\n",
        "    ax.set_ylim( (0, 4) )\n",
        "    ax.set_xlabel( \"$x$\" )\n",
        "    ax.set_ylabel( \"$y$\" )\n",
        "    if leg:\n",
        "        ax.legend( loc=\"upper left\", fontsize=16 )\n",
        "    ax.grid(1)\n",
        "    \n",
        "    return Quadrature(Y,X)"
      ]
    },
    {
      "cell_type": "markdown",
      "metadata": {
        "id": "P6HKhLRaNqCQ"
      },
      "source": [
        "## Trapezoidal rule\n",
        "Using the previous formula, it is easily to derivate a set of low-order approximations for integration. Asumming a function $f(x)$ and an interval $[x_0,x_1]$, the associated quadrature formula is that obtained from a first-order Lagrange polynomial $P_1(x)$ given by:\n",
        "\n",
        "$$P_1(x) = \\frac{(x-x_1)}{x_0-x_1}f(x_0) + \\frac{(x-x_0)}{(x_1-x_0)}f(x_1)$$\n",
        "\n",
        "Using this, it is readible to obtain the integrate:\n",
        "\n",
        "$$\\int_{x_0}^{x_1}f(x)dx = \\frac{h}{2}[ f(x_0) + f(x_1) ]-\\frac{h^3}{12}f^{''}(\\xi)$$\n",
        "\n",
        "with $\\xi \\in [x_0, x_1]$ and $h = x_1-x_0$."
      ]
    },
    {
      "cell_type": "markdown",
      "metadata": {
        "id": "xlXXFKFiNqCQ"
      },
      "source": [
        "### Simple implementation"
      ]
    },
    {
      "cell_type": "code",
      "execution_count": 5,
      "metadata": {
        "colab": {
          "base_uri": "https://localhost:8080/",
          "height": 534
        },
        "id": "uUTY7ET6NqCR",
        "outputId": "84d888cc-29c6-4525-fd44-d23bb6baddad"
      },
      "outputs": [
        {
          "output_type": "stream",
          "name": "stdout",
          "text": [
            "Full=4.245647748216942, trapezoid=3.775154904633847, rectangle=3.7751549046338475\n"
          ]
        },
        {
          "output_type": "display_data",
          "data": {
            "image/png": "[encoded data removed]",
            "text/plain": [
              "<Figure size 576x576 with 1 Axes>"
            ]
          },
          "metadata": {
            "needs_background": "light"
          }
        }
      ],
      "source": [
        "#Function\n",
        "def f(x):\n",
        "    return 1+np.cos(x)**2+x\n",
        "\n",
        "#Quadrature with 2 points (Trapezoidal rule)\n",
        "a=-0.5\n",
        "b=1.5\n",
        "X = np.array([a,b])\n",
        "Q=PlotQuadrature( f, X, xmin=-1, xmax=2, ymin=0, ymax=4 )\n",
        "print('Full={}, trapezoid={}, rectangle={}'.format( integrate.quad(f,a,b)[0] ,  Quadrature(f(X),X), (b-a)*(f(b)+f(a))/2 ) )"
      ]
    },
    {
      "cell_type": "code",
      "execution_count": 6,
      "metadata": {
        "id": "55mAseLaH8dr",
        "outputId": "c8119bc8-555b-46ff-d99a-a811e5be3e97",
        "colab": {
          "base_uri": "https://localhost:8080/"
        }
      },
      "outputs": [
        {
          "output_type": "execute_result",
          "data": {
            "text/plain": [
              "(2.5403023058681398, 5.010007503399555)"
            ]
          },
          "metadata": {},
          "execution_count": 6
        }
      ],
      "source": [
        "(b-a)*f(a),(b-a)*f(b)"
      ]
    },
    {
      "cell_type": "markdown",
      "metadata": {
        "id": "POKbvzxDNqCc"
      },
      "source": [
        "### [Scipy implementation](https://docs.scipy.org/doc/scipy/reference/generated/scipy.integrate.trapz.html#r78)"
      ]
    },
    {
      "cell_type": "code",
      "execution_count": 7,
      "metadata": {
        "id": "E_CIWH-uNqCc"
      },
      "outputs": [],
      "source": [
        "integrate.trapz?"
      ]
    },
    {
      "cell_type": "markdown",
      "metadata": {
        "id": "m1ajuYEsNqCe"
      },
      "source": [
        "In fact, as expected"
      ]
    },
    {
      "cell_type": "code",
      "execution_count": 8,
      "metadata": {
        "id": "0UsulbbVH8dt",
        "outputId": "ec0ee3d4-b0db-49fc-bf18-c39889324f6c",
        "colab": {
          "base_uri": "https://localhost:8080/"
        }
      },
      "outputs": [
        {
          "output_type": "execute_result",
          "data": {
            "text/plain": [
              "array([-0.5,  1.5])"
            ]
          },
          "metadata": {},
          "execution_count": 8
        }
      ],
      "source": [
        "X"
      ]
    },
    {
      "cell_type": "code",
      "execution_count": 9,
      "metadata": {
        "colab": {
          "base_uri": "https://localhost:8080/"
        },
        "id": "Ne1_PodqNqCf",
        "outputId": "294cf23a-794d-43b7-a804-4fd9cd7ff47f"
      },
      "outputs": [
        {
          "output_type": "execute_result",
          "data": {
            "text/plain": [
              "3.7751549046338475"
            ]
          },
          "metadata": {},
          "execution_count": 9
        }
      ],
      "source": [
        "Y=f(X)\n",
        "integrate.trapz(f(X),X)"
      ]
    },
    {
      "cell_type": "markdown",
      "metadata": {
        "id": "PPxavHSzNqCk"
      },
      "source": [
        "<img src=\"https://upload.wikimedia.org/wikipedia/commons/thumb/4/42/Composite_trapezoidal_rule_illustration.png/1200px-Composite_trapezoidal_rule_illustration.png\" height=\"400\" width=\"400\">"
      ]
    },
    {
      "cell_type": "markdown",
      "metadata": {
        "id": "hEZwaUB3NqCm"
      },
      "source": [
        "For a better approximation we can use more intervals"
      ]
    },
    {
      "cell_type": "code",
      "execution_count": 10,
      "metadata": {
        "colab": {
          "base_uri": "https://localhost:8080/"
        },
        "id": "ccc604ZINqCm",
        "outputId": "b387165c-8486-4845-acf8-e5ec1d49d8b5"
      },
      "outputs": [
        {
          "output_type": "execute_result",
          "data": {
            "text/plain": [
              "4.245647420030478"
            ]
          },
          "metadata": {},
          "execution_count": 10
        }
      ],
      "source": [
        "x=np.linspace( X[0], X[-1], 1000 )\n",
        "integrate.trapz(f(x),x)"
      ]
    },
    {
      "cell_type": "code",
      "execution_count": 11,
      "metadata": {
        "id": "3NA365gXH8dx",
        "outputId": "36661594-0fa1-4b91-b2a3-46e1e5d55494",
        "colab": {
          "base_uri": "https://localhost:8080/"
        }
      },
      "outputs": [
        {
          "output_type": "execute_result",
          "data": {
            "text/plain": [
              "-0.5"
            ]
          },
          "metadata": {},
          "execution_count": 11
        }
      ],
      "source": [
        "X[0]"
      ]
    },
    {
      "cell_type": "code",
      "execution_count": 12,
      "metadata": {
        "id": "8ZoTGwFyH8dx",
        "outputId": "bc083c76-0f90-4350-acb2-9bf3396a8143",
        "colab": {
          "base_uri": "https://localhost:8080/"
        }
      },
      "outputs": [
        {
          "output_type": "execute_result",
          "data": {
            "text/plain": [
              "1.5"
            ]
          },
          "metadata": {},
          "execution_count": 12
        }
      ],
      "source": [
        "X[-1]"
      ]
    },
    {
      "cell_type": "markdown",
      "metadata": {
        "id": "vmoRotdBNqCp"
      },
      "source": [
        "## Simpson's rule"
      ]
    },
    {
      "cell_type": "markdown",
      "metadata": {
        "id": "M2atvwDHNqCp"
      },
      "source": [
        "A slightly better approximation to integration is the Simpson's rule. For this, assume a function $f(x)$ and an interval $[x_0,x_2]$, with a intermediate point $x_1$. The associate second-order Lagrange polynomial is given by: See previous [exercise](./interpolation.ipynb#Exercise-interpolation)\n",
        "\n",
        "$$P_2(x) = \\frac{(x-x_1)(x-x_2)}{(x_0-x_1)(x_0-x_2)}f(x_0) + \\frac{(x-x_0)(x-x_2)}{(x_1-x_0)(x_1-x_2)}f(x_1) + \\frac{(x-x_0)(x-x_1)}{(x_2-x_0)(x_2-x_1)}f(x_2)$$\n",
        "\n",
        "The final expression is then:\n",
        "\n",
        "$$\\int_{x_0}^{x_2} f(x)dx = \\frac{h}{3}[ f(x_0)+4f(x_1)+f(x_2) ]-\\frac{h^5}{90}f^{(4)}(\\xi)$$\n"
      ]
    },
    {
      "cell_type": "code",
      "execution_count": 13,
      "metadata": {
        "colab": {
          "base_uri": "https://localhost:8080/",
          "height": 534
        },
        "id": "kJpW2ZRDNqCq",
        "outputId": "4bd9ff93-a498-4ec3-8b49-69aea0712ef1"
      },
      "outputs": [
        {
          "output_type": "stream",
          "name": "stdout",
          "text": [
            "Full=4.245647748216942, P2=4.285253172123376, rectangle=3.7751549046338475\n"
          ]
        },
        {
          "output_type": "display_data",
          "data": {
            "image/png": "[encoded data removed]",
            "text/plain": [
              "<Figure size 576x576 with 1 Axes>"
            ]
          },
          "metadata": {
            "needs_background": "light"
          }
        }
      ],
      "source": [
        "#Function\n",
        "def f(x):\n",
        "    return 1+np.cos(x)**2+x\n",
        "\n",
        "#Quadrature with 3 points (Simpson's rule)\n",
        "a=-0.5\n",
        "b=1.5\n",
        "x0=0.5\n",
        "X = np.array([a,x0,b])\n",
        "Q=PlotQuadrature( f, X, xmin=-1, xmax=2, ymin=0, ymax=4 )\n",
        "print('Full={}, P2={}, rectangle={}'.format( integrate.quad(f,a,b)[0] ,  Quadrature(f(X),X), (b-a)*(f(b)+f(a))/2 ) )"
      ]
    },
    {
      "cell_type": "markdown",
      "metadata": {
        "id": "D0RkZ1VQNqCz"
      },
      "source": [
        "### Scipy implementation\n",
        "Improves with number of points:\n",
        "![Simpons](https://upload.wikimedia.org/wikipedia/en/thumb/6/67/Simpsonsrule2.gif/220px-Simpsonsrule2.gif)"
      ]
    },
    {
      "cell_type": "code",
      "execution_count": 14,
      "metadata": {
        "id": "QRHBz0LrNqCz"
      },
      "outputs": [],
      "source": [
        "integrate.simps?"
      ]
    },
    {
      "cell_type": "code",
      "execution_count": 15,
      "metadata": {
        "id": "FcjSKqIMH8d1",
        "outputId": "9b91745e-95a5-4c24-e780-85deb00c91a6",
        "colab": {
          "base_uri": "https://localhost:8080/"
        }
      },
      "outputs": [
        {
          "output_type": "execute_result",
          "data": {
            "text/plain": [
              "array([-0.5,  0.5,  1.5])"
            ]
          },
          "metadata": {},
          "execution_count": 15
        }
      ],
      "source": [
        "X"
      ]
    },
    {
      "cell_type": "code",
      "execution_count": 16,
      "metadata": {
        "colab": {
          "base_uri": "https://localhost:8080/"
        },
        "id": "WcNu2wTRNqC1",
        "outputId": "c09f8b4e-db63-4ec5-ce4d-42f40660c141"
      },
      "outputs": [
        {
          "output_type": "execute_result",
          "data": {
            "text/plain": [
              "4.285253172123376"
            ]
          },
          "metadata": {},
          "execution_count": 16
        }
      ],
      "source": [
        "integrate.simps(f(X),X)"
      ]
    },
    {
      "cell_type": "code",
      "execution_count": 17,
      "metadata": {
        "colab": {
          "base_uri": "https://localhost:8080/"
        },
        "id": "61hB8dlxNqC5",
        "outputId": "4ac871a7-454a-47f2-af2d-e27e4df24cb2"
      },
      "outputs": [
        {
          "output_type": "execute_result",
          "data": {
            "text/plain": [
              "(4.245647748184187, 4.245647748216941)"
            ]
          },
          "metadata": {},
          "execution_count": 17
        }
      ],
      "source": [
        "x=np.linspace( X[0], X[-1], 100000 )\n",
        "integrate.trapz(f(x),x),integrate.simps(f(x),x)"
      ]
    },
    {
      "cell_type": "code",
      "execution_count": 18,
      "metadata": {
        "colab": {
          "base_uri": "https://localhost:8080/"
        },
        "id": "3U4m6PAPNqC7",
        "outputId": "cec1c561-e399-494e-f3b5-057ba06bd2f4"
      },
      "outputs": [
        {
          "output_type": "execute_result",
          "data": {
            "text/plain": [
              "4.245647748216942"
            ]
          },
          "metadata": {},
          "execution_count": 18
        }
      ],
      "source": [
        "4.245647748216942"
      ]
    },
    {
      "cell_type": "markdown",
      "metadata": {
        "id": "wDk25AXLH8d3"
      },
      "source": [
        "__Activity__: Implement the Simpson method [here](https://beta.deepnote.com/project/52b463ef-f58d-4842-be84-cc155faa49b9#) or [here](https://repl.it/@restrepo/integration) by generalizing the previous `Quadrature` function to one that accepts lists of any size. Compares with the `Scipy` implementation for the next integral with a linspace of 100 points.\n",
        "\n",
        "_Hint_: Note that the intervals for each 3 points can be obtained by slicing in steps of 2:"
      ]
    },
    {
      "cell_type": "code",
      "execution_count": 19,
      "metadata": {
        "id": "Gtn0uRxFH8d4"
      },
      "outputs": [],
      "source": [
        "def f(x):\n",
        "    x=np.asarray(x)\n",
        "    return x**3"
      ]
    },
    {
      "cell_type": "code",
      "source": [
        "def fun(y):\n",
        "  y=np.asarray(y)\n",
        "  return np.exp(y)\n",
        "\n",
        "Y=[1,2,3,4,5,6,7,8,9,10,11,12]\n",
        "i=0\n",
        "i=i+2\n",
        "i=i+2\n",
        "i=i+2\n",
        "i=i+2\n",
        "\n",
        "plt.semilogy(Y,fun(Y))\n",
        "plt.plot(Y,fun(Y),'ro')\n",
        "\n",
        "Y_step=Y[i:i+3]\n",
        "\n",
        "I=Quadrature(fun(Y_step),Y_step)\n",
        "I=I+Quadrature(fun(Y_step),Y_step)\n",
        "Quadrature(fun(Y_step),Y_step),I\n",
        "integrate.quad(fun,Y[0],Y[-1])"
      ],
      "metadata": {
        "id": "hlFrJOazIwcB",
        "outputId": "889f063d-4f42-4b11-bc05-1eb024f8948f",
        "colab": {
          "base_uri": "https://localhost:8080/",
          "height": 284
        }
      },
      "execution_count": 48,
      "outputs": [
        {
          "output_type": "execute_result",
          "data": {
            "text/plain": [
              "(162752.07313717547, 4.723125943239038e-08)"
            ]
          },
          "metadata": {},
          "execution_count": 48
        },
        {
          "output_type": "display_data",
          "data": {
            "image/png": "[encoded data removed]",
            "text/plain": [
              "<Figure size 432x288 with 1 Axes>"
            ]
          },
          "metadata": {
            "needs_background": "light"
          }
        }
      ]
    },
    {
      "cell_type": "code",
      "execution_count": 20,
      "metadata": {
        "id": "5B-PLpDXH8d4",
        "outputId": "1f4aac40-13a8-4dad-d568-5c3e497f007c",
        "colab": {
          "base_uri": "https://localhost:8080/"
        }
      },
      "outputs": [
        {
          "output_type": "stream",
          "name": "stdout",
          "text": [
            "[1, 2, 3]\n",
            "[3, 4, 5]\n",
            "[5, 6, 7]\n",
            "[7, 8, 9]\n",
            "[9, 10, 11]\n"
          ]
        }
      ],
      "source": [
        "X=[1,2,3,4,5,6,7,8,9,10,11,12]\n",
        "i=0\n",
        "print(X[i:i+3])\n",
        "i=i+2\n",
        "print(X[i:i+3])\n",
        "i=i+2\n",
        "print(X[i:i+3])\n",
        "i=i+2\n",
        "print(X[i:i+3])\n",
        "i=i+2\n",
        "print(X[i:i+3])"
      ]
    },
    {
      "cell_type": "code",
      "execution_count": 21,
      "metadata": {
        "id": "ogCHbgTLH8d5",
        "outputId": "6b78ad56-4b55-41e4-f073-4fea8b82c999",
        "colab": {
          "base_uri": "https://localhost:8080/",
          "height": 284
        }
      },
      "outputs": [
        {
          "output_type": "execute_result",
          "data": {
            "text/plain": [
              "[<matplotlib.lines.Line2D at 0x7f7cf02e2d50>]"
            ]
          },
          "metadata": {},
          "execution_count": 21
        },
        {
          "output_type": "display_data",
          "data": {
            "image/png": "[encoded data removed]",
            "text/plain": [
              "<Figure size 432x288 with 1 Axes>"
            ]
          },
          "metadata": {
            "needs_background": "light"
          }
        }
      ],
      "source": [
        "plt.semilogy(X,f(X))\n",
        "plt.plot(X,f(X),'ro')"
      ]
    },
    {
      "cell_type": "code",
      "execution_count": 22,
      "metadata": {
        "id": "Rnl6KmAkH8d5",
        "outputId": "2bd9b14f-b532-4d0e-c55d-825194656cab",
        "colab": {
          "base_uri": "https://localhost:8080/"
        }
      },
      "outputs": [
        {
          "output_type": "execute_result",
          "data": {
            "text/plain": [
              "[1, 2, 3]"
            ]
          },
          "metadata": {},
          "execution_count": 22
        }
      ],
      "source": [
        "i=0\n",
        "X_step=X[i:i+3]\n",
        "X_step"
      ]
    },
    {
      "cell_type": "code",
      "execution_count": 23,
      "metadata": {
        "id": "3bkssWRiH8d5",
        "outputId": "bba17361-41ab-4e06-9445-b1c56bee7235",
        "colab": {
          "base_uri": "https://localhost:8080/"
        }
      },
      "outputs": [
        {
          "output_type": "execute_result",
          "data": {
            "text/plain": [
              "20.0"
            ]
          },
          "metadata": {},
          "execution_count": 23
        }
      ],
      "source": [
        "I=Quadrature(f(X_step),X_step)\n",
        "I"
      ]
    },
    {
      "cell_type": "code",
      "execution_count": 24,
      "metadata": {
        "id": "acqaYUrfH8d6",
        "outputId": "35a0abd1-4f5e-4d74-9bea-54726768a002",
        "colab": {
          "base_uri": "https://localhost:8080/"
        }
      },
      "outputs": [
        {
          "output_type": "execute_result",
          "data": {
            "text/plain": [
              "[3, 4, 5]"
            ]
          },
          "metadata": {},
          "execution_count": 24
        }
      ],
      "source": [
        "i=i+2\n",
        "X_step=X[i:i+3]\n",
        "X_step"
      ]
    },
    {
      "cell_type": "code",
      "execution_count": 25,
      "metadata": {
        "id": "L-vq3DoHH8d6",
        "outputId": "c120be74-0951-46fb-a9b1-56b4d7041cbb",
        "colab": {
          "base_uri": "https://localhost:8080/"
        }
      },
      "outputs": [
        {
          "output_type": "execute_result",
          "data": {
            "text/plain": [
              "(136.0, 156.0)"
            ]
          },
          "metadata": {},
          "execution_count": 25
        }
      ],
      "source": [
        "I=I+Quadrature(f(X_step),X_step)\n",
        "Quadrature(f(X_step),X_step),I"
      ]
    },
    {
      "cell_type": "code",
      "execution_count": 26,
      "metadata": {
        "id": "hoA24A12H8d7",
        "outputId": "ff8e246a-af46-43ca-b4ae-f944a5669596",
        "colab": {
          "base_uri": "https://localhost:8080/"
        }
      },
      "outputs": [
        {
          "output_type": "execute_result",
          "data": {
            "text/plain": [
              "[5, 6, 7]"
            ]
          },
          "metadata": {},
          "execution_count": 26
        }
      ],
      "source": [
        "i=i+2\n",
        "X_step=X[i:i+3]\n",
        "X_step"
      ]
    },
    {
      "cell_type": "code",
      "execution_count": 27,
      "metadata": {
        "id": "0kUbpoE9H8d8",
        "outputId": "3ebbff85-e3b9-42e6-c701-75c892781fa2",
        "colab": {
          "base_uri": "https://localhost:8080/"
        }
      },
      "outputs": [
        {
          "output_type": "execute_result",
          "data": {
            "text/plain": [
              "(444.0, 600.0)"
            ]
          },
          "metadata": {},
          "execution_count": 27
        }
      ],
      "source": [
        "I=I+Quadrature(f(X_step),X_step)\n",
        "Quadrature(f(X_step),X_step),I"
      ]
    },
    {
      "cell_type": "code",
      "execution_count": 28,
      "metadata": {
        "id": "acQJ7BB2H8d9",
        "outputId": "8ef56b87-721c-463d-aaec-dc4e94f8a1d7",
        "colab": {
          "base_uri": "https://localhost:8080/"
        }
      },
      "outputs": [
        {
          "output_type": "execute_result",
          "data": {
            "text/plain": [
              "[7, 8, 9]"
            ]
          },
          "metadata": {},
          "execution_count": 28
        }
      ],
      "source": [
        "i=i+2\n",
        "X_step=X[i:i+3]\n",
        "X_step"
      ]
    },
    {
      "cell_type": "code",
      "execution_count": 29,
      "metadata": {
        "id": "kyp9F93UH8d_",
        "outputId": "bdd4b2aa-5ede-48a6-df28-b4d699706718",
        "colab": {
          "base_uri": "https://localhost:8080/"
        }
      },
      "outputs": [
        {
          "output_type": "execute_result",
          "data": {
            "text/plain": [
              "(1040.0, 1640.0)"
            ]
          },
          "metadata": {},
          "execution_count": 29
        }
      ],
      "source": [
        "I=I+Quadrature(f(X_step),X_step)\n",
        "Quadrature(f(X_step),X_step),I"
      ]
    },
    {
      "cell_type": "code",
      "execution_count": 30,
      "metadata": {
        "id": "3dW6VbLTH8eB",
        "outputId": "c70eaeef-51fc-4c3c-e224-69cf8f497b38",
        "colab": {
          "base_uri": "https://localhost:8080/"
        }
      },
      "outputs": [
        {
          "output_type": "execute_result",
          "data": {
            "text/plain": [
              "[9, 10, 11]"
            ]
          },
          "metadata": {},
          "execution_count": 30
        }
      ],
      "source": [
        "i=i+2\n",
        "X_step=X[i:i+3]\n",
        "X_step"
      ]
    },
    {
      "cell_type": "code",
      "execution_count": 31,
      "metadata": {
        "id": "RNba8kuqH8eE",
        "outputId": "0cbe0da4-8e79-4eff-81f3-799d6593a172",
        "colab": {
          "base_uri": "https://localhost:8080/"
        }
      },
      "outputs": [
        {
          "output_type": "execute_result",
          "data": {
            "text/plain": [
              "(2020.0, 3660.0)"
            ]
          },
          "metadata": {},
          "execution_count": 31
        }
      ],
      "source": [
        "I=I+Quadrature(f(X_step),X_step)\n",
        "Quadrature(f(X_step),X_step),I"
      ]
    },
    {
      "cell_type": "code",
      "execution_count": 32,
      "metadata": {
        "id": "W11NI9TNH8eG",
        "outputId": "4d5b0d03-119f-45c7-e497-29370dc71068",
        "colab": {
          "base_uri": "https://localhost:8080/"
        }
      },
      "outputs": [
        {
          "output_type": "execute_result",
          "data": {
            "text/plain": [
              "(1, 12)"
            ]
          },
          "metadata": {},
          "execution_count": 32
        }
      ],
      "source": [
        "X[0],X[-1]"
      ]
    },
    {
      "cell_type": "code",
      "execution_count": 33,
      "metadata": {
        "id": "bwCn73z7H8eI",
        "outputId": "dc5b56cf-4b9b-4efa-c1a5-3ebfc517dc81",
        "colab": {
          "base_uri": "https://localhost:8080/"
        }
      },
      "outputs": [
        {
          "output_type": "execute_result",
          "data": {
            "text/plain": [
              "3660.0"
            ]
          },
          "metadata": {},
          "execution_count": 33
        }
      ],
      "source": [
        "I"
      ]
    },
    {
      "cell_type": "code",
      "execution_count": 34,
      "metadata": {
        "id": "hReM4wDFH8eJ",
        "outputId": "8fb6921f-3ea4-423c-899d-27d99bdc31d4",
        "colab": {
          "base_uri": "https://localhost:8080/"
        }
      },
      "outputs": [
        {
          "output_type": "execute_result",
          "data": {
            "text/plain": [
              "(5183.75, 5.755118603900655e-11)"
            ]
          },
          "metadata": {},
          "execution_count": 34
        }
      ],
      "source": [
        "integrate.quad(f,X[0],X[-1])"
      ]
    },
    {
      "cell_type": "markdown",
      "metadata": {
        "id": "YDz18x8sH8eL"
      },
      "source": [
        "In this case the integration with Lagrange interpolation polynomials of degree 3 works much better:"
      ]
    },
    {
      "cell_type": "code",
      "execution_count": 35,
      "metadata": {
        "id": "Pfqz5spmH8eP",
        "outputId": "84051f26-b20c-4818-86a3-a0b3c72fff82",
        "colab": {
          "base_uri": "https://localhost:8080/"
        }
      },
      "outputs": [
        {
          "output_type": "stream",
          "name": "stdout",
          "text": [
            "[1, 2, 3, 4]\n",
            "[4, 5, 6, 7]\n",
            "[7, 8, 9, 10]\n"
          ]
        }
      ],
      "source": [
        "I=0\n",
        "for i in [0,3,6]:\n",
        "    X_step=X[i:i+4]\n",
        "    print(X_step)\n",
        "    I=I+Quadrature(f(X_step),X_step)"
      ]
    },
    {
      "cell_type": "code",
      "execution_count": 36,
      "metadata": {
        "id": "E85h8azRH8eR",
        "outputId": "d1b92316-d55f-49d0-9a34-f47928f00ccf",
        "colab": {
          "base_uri": "https://localhost:8080/"
        }
      },
      "outputs": [
        {
          "output_type": "execute_result",
          "data": {
            "text/plain": [
              "(2499.749999999985, 2499.75)"
            ]
          },
          "metadata": {},
          "execution_count": 36
        }
      ],
      "source": [
        "I,integrate.quad(f,X[0],10)[0]"
      ]
    },
    {
      "cell_type": "markdown",
      "metadata": {
        "id": "Nq79_s77NqC9"
      },
      "source": [
        "## <span style='color:red'>     Activity </span>"
      ]
    },
    {
      "cell_type": "markdown",
      "metadata": {
        "id": "qYLPD5pDNqC9"
      },
      "source": [
        "- Using the trapezoidal and the Simpson's rules, determine the value of the integral (4.24565)\n",
        "\n",
        "$$ \\int_{-0.5}^{1.5}(1+\\cos^2x + x)dx $$\n",
        "\n",
        "- Take the previous routine Quadrature and the above function and explore high-order quadratures. What happends when you increase  the number of points?"
      ]
    },
    {
      "cell_type": "markdown",
      "metadata": {
        "id": "nVo-22H2NqC-"
      },
      "source": [
        "N=20\n",
        "def f(x):\n",
        "    return 1+np.cos(x)**2+x\n",
        "\n",
        "#Quadrature with N points (Simpson's rule)\n",
        "X = np.array(np.linspace(-0.5,1.5,N))\n",
        "Ln=Quadrature( f, X, xmin=-1, xmax=2, ymin=0, ymax=4 )\n",
        "integrate.simps(Ln(X),X)\n",
        "print(poly1d(Ln))"
      ]
    },
    {
      "cell_type": "markdown",
      "metadata": {
        "id": "C-gd__P7NqC-"
      },
      "source": [
        "## <span style='color:red'>     Activity </span>"
      ]
    },
    {
      "cell_type": "markdown",
      "metadata": {
        "id": "SdYG-de9NqC-"
      },
      "source": [
        "Approximate the following integrals using formulas Trapezoidal and Simpson rules. Are the accuracies of\n",
        "the approximations consistent with the error formulas? \n",
        "\n",
        "\\begin{eqnarray*}\n",
        "&\\int_{0}^{0.1}&\\sqrt{1+ x}dx \\\\\n",
        "&\\int_{0}^{\\pi/2}&(\\sin x)^2dx\\\\ \n",
        "&\\int_{1.1}^{1.5}&e^xdx \n",
        "\\end{eqnarray*}"
      ]
    },
    {
      "cell_type": "markdown",
      "metadata": {
        "id": "2x8B12tNNqC_"
      },
      "source": [
        "# Composite Numerical Integration"
      ]
    },
    {
      "cell_type": "markdown",
      "metadata": {
        "id": "6lGCZID2NqDA"
      },
      "source": [
        "Although above-described methods are good enough when we want to integrate along small intervals, larger intervals would require more sampling points, where the resulting Lagrange interpolant will be a high-order polynomial. These interpolant polynomials exihibit usually an oscillatory behaviour (best known as [Runge's phenomenon](http://en.wikipedia.org/wiki/Runge%27s_phenomenon)), being more inaccurate as we increase $n$.\n",
        "\n",
        "An elegant and computationally inexpensive solution to this problem is a *piecewise* approach, where low-order Newton-Cotes formula (like trapezoidal and Simpson's rules) are applied over subdivided intervals. This methods are already implemented in the previous `scipy` trapezoidal and Simpsons implementations. An internal implementation is given in the [Appendix of integration](./Appendix.ipynb#composite-numerical integration), the _Composite Trapezoidal rule_ given by:\n",
        "\n",
        "$$ \\int_a^b f(x) dx = \\frac{h}{2}\\left[ f(a) + 2\\sum_{j=1}^{N-1}f(x_j) + f(b) \\right] - \\frac{b-a}{12}h^2 f^{''}(\\mu)$$\n",
        "\n",
        "and the _Composite Simpson's rule_ given by\n",
        "\n",
        "$$ \\int_a^bf(x)dx = \\frac{h}{3}\\left[ f(a) +2 \\sum_{j=1}^{(n/2)-1}f(x_{2j})+4\\sum_{j=1}^{n/2}f(x_{2j-1})+f(b) \\right] - \\frac{b-a}{180}h^4f^{(4)}(\\mu)$$"
      ]
    },
    {
      "cell_type": "markdown",
      "metadata": {
        "id": "rdJ_FdTLNqDA"
      },
      "source": [
        "## Composite trapezoidal rule"
      ]
    },
    {
      "cell_type": "markdown",
      "metadata": {
        "id": "7ASs3TVKNqDA"
      },
      "source": [
        "This formula is obtained when we subdivide the integration interval $[a,b]$ within sets of two points, such that we can apply the previous Trapezoidal rule to each one.\n",
        "\n",
        "Let $f(x)$ be a well behaved function ($f\\in C^2[a,b]$), defining the interval space as $h = (b-a)/N$, where N is the number of intervals we take, the **Composite Trapezoidal rule** is given by:\n",
        "\n",
        "$$ \\int_a^b f(x) dx = \\frac{h}{2}\\left[ f(a) + 2\\sum_{j=1}^{N-1}f(x_j) + f(b) \\right] - \\frac{b-a}{12}h^2 f^{''}(\\mu)$$\n",
        "\n",
        "for some value $\\mu$ in $(a,b)$."
      ]
    },
    {
      "cell_type": "markdown",
      "metadata": {
        "id": "16ng2p3SNqDA"
      },
      "source": [
        "## <span style='color:red'>     Activity </span>"
      ]
    },
    {
      "cell_type": "markdown",
      "metadata": {
        "id": "tx-M5mBtNqDB"
      },
      "source": [
        "Determine the value of the integral (4.24565)\n",
        "\n",
        "$$ \\int_{-0.5}^{1.5}(1+\\cos^2x + x)dx $$"
      ]
    },
    {
      "cell_type": "markdown",
      "metadata": {
        "id": "TsJmGT2jNqDD"
      },
      "source": [
        "## <span style='color:red'>     Activity </span>"
      ]
    },
    {
      "cell_type": "markdown",
      "metadata": {
        "id": "YmMbbRZ8NqDE"
      },
      "source": [
        "An experiment has measured $dN(t)/dt$, the number of particles entering a counter, per unit time, as a function of time. Your problem is to integrate this spectrum to obtain the number of particles $N(1)$ that entered the counter\n",
        "in the first second\n",
        "\n",
        "$$ N(1) = \\int_0^1 \\frac{dN}{dt} dt$$\n",
        "\n",
        "For the problem it is assumed exponential decay so that there actually is an analytic answer. \n",
        "\n",
        "$$ \\frac{dN}{dt} = e^{-t} $$\n",
        "\n",
        "Compare the relative error for the composite trapezoid and Simpson rules. Try different values of N. Make a logarithmic plot of N vs Error."
      ]
    },
    {
      "cell_type": "markdown",
      "metadata": {
        "id": "_iug5YDlNqDF"
      },
      "source": [
        "- - -"
      ]
    },
    {
      "cell_type": "markdown",
      "metadata": {
        "id": "cQ6TA0ngNqDF"
      },
      "source": [
        "# Adaptive Quadrature Methods"
      ]
    },
    {
      "cell_type": "markdown",
      "metadata": {
        "id": "MQKZXztuNqDG"
      },
      "source": [
        "Calculating the integrate of the function $f(x) = e^{-3x}\\sin(4x)$ within the interval $[0,4]$, we obtain:"
      ]
    },
    {
      "cell_type": "code",
      "execution_count": 37,
      "metadata": {
        "colab": {
          "base_uri": "https://localhost:8080/",
          "height": 428
        },
        "id": "nIRAACLRNqDG",
        "outputId": "37ce6d3a-80cb-41ac-82b0-0d5ff8ca7979"
      },
      "outputs": [
        {
          "output_type": "display_data",
          "data": {
            "image/png": "[encoded data removed]",
            "text/plain": [
              "<Figure size 1008x504 with 1 Axes>"
            ]
          },
          "metadata": {
            "needs_background": "light"
          }
        }
      ],
      "source": [
        "#Function\n",
        "def f(x):\n",
        "    return np.exp(-3*x)*np.sin(4*x)\n",
        "\n",
        "#Plotting\n",
        "X = np.linspace( 0, 4, 200 )\n",
        "Y = f(X)\n",
        "plt.figure( figsize=(14,7) )\n",
        "plt.plot( X, Y, color=\"blue\", lw=3 )\n",
        "plt.fill_between( X, Y, color=\"blue\", alpha=0.5 )\n",
        "plt.xlim( 0,4 )\n",
        "plt.grid()"
      ]
    },
    {
      "cell_type": "markdown",
      "metadata": {
        "id": "O3RYTGfINqDK"
      },
      "source": [
        "Using composite numerical integration is not completely adequate for this problem as the function exhibits different behaviours for differente intervals. For the interval $[0,2]$ the function varies noticeably, requiring a rather small integration interval $h$. However, for the interval $[2,4]$ variations are not considerable and low-order composite integration is enough. This lays a pathological situation where simple composite methods are not efficient. In order to remedy this, we introduce an adaptive quadrature methods, where the integration step $h$ can vary according to the interval. The main advantage of this is a controlable precision of the result."
      ]
    },
    {
      "cell_type": "markdown",
      "metadata": {
        "id": "CfQrHtfMNqDL"
      },
      "source": [
        "## Simpson's adaptive quadrature"
      ]
    },
    {
      "cell_type": "markdown",
      "metadata": {
        "id": "U8iR3lSRNqDL"
      },
      "source": [
        "Although adaptive quadrature can be readily applied to any quadrature method, we illustrate the method with  the Simpson's adaptive quadrature.\n",
        "\n",
        "Let's assume a function $f(x)$. We want to compute the integral within the interval $[a,b]$. Using a simple Simpson's quadrature, we obtain:\n",
        "\n",
        "$$\\int_a^bf(x)dx = S(a,b) - \\frac{h^5}{90}f^{(4)}(\\xi)$$\n",
        "\n",
        "where we introduce the notation:\n",
        "\n",
        "$$S(a,b) = \\frac{h}{3}\\left[ f(a) + 4f(a+h) + f(b) \\right]$$\n",
        "\n",
        "and $h$ is simply $h = (b-a)/2$.\n",
        "\n",
        "![](https://raw.githubusercontent.com/sbustamante/ComputationalMethods/bb0f137366b3d2bbfdd33425ad78be4003716703/material/figures/adaptive_quadrature.png)\n",
        "\n",
        "Now, instead of using an unique Simpson's quadrature, we implement two, by adding a new point in the midle of the interval $[a,b]$, $(a+b)/2$, yielding:\n",
        "\n",
        "$$\\int_a^bf(x)dx = S\\left(a,\\frac{a+b}{2}\\right) + S\\left(\\frac{a+b}{2},b\\right) - \\frac{1}{16}\\left(\\frac{h^5}{90}\\right)f^{(4)}(\\xi)$$\n",
        "\n",
        "For this expression, we reasonably assume an equal fourth-order derivative $f^{(4)}(\\xi) = f^{(4)}(\\xi_1) = f^{(4)}(\\xi_2) $, where $\\xi_1$ is the estimative for the first subtinterval (i.e. $\\xi_1\\in[a,(a+b)/2]$), and $\\xi_2$ for the second one (i.e. $\\xi_1\\in[(a+b)/2, b]$).\n",
        "\n",
        "As both expressions can approximate the real value of the integrate, we can equal them, obtaining:\n",
        "\n",
        "$$\n",
        "\\int_a^bf(x)dx \\begin{cases} \\sim S(a,b) - \\frac{h^5}{90}f^{(4)}(\\xi)\\\\ \n",
        "\\approx S\\left(a,\\frac{a+b}{2}\\right) + S\\left(\\frac{a+b}{2},b\\right) - \\frac{1}{16}\\left(\\frac{h^5}{90}\\right)f^{(4)}(\\xi)\\\\\n",
        "\\end{cases}\n",
        "$$\n",
        "\n",
        "which leads us to a simple way to estimate the error without knowing the fourth-order derivative, i.e.\n",
        "\n",
        "$$\\frac{h^5}{90}f^{(4)}(\\xi) = \\frac{16}{15}\\left| S(a,b) - S\\left(a,\\frac{a+b}{2}\\right) - S\\left(\\frac{a+b}{2},b\\right) \\right|$$\n",
        "\n",
        "If we fix a precision $\\epsilon$, such that the obtained error for the second iteration is smaller\n",
        "\n",
        "$$\\frac{1}{16}\\frac{h^5}{90}f^{(4)}(\\xi) < \\epsilon $$\n",
        "\n",
        "it implies:\n",
        "\n",
        "$$\\left| S(a,b) - S\\left(a,\\frac{a+b}{2}\\right) - S\\left(\\frac{a+b}{2},b\\right) \\right|< 15 \\epsilon$$\n",
        "\n",
        "and \n",
        "\n",
        "$$\\left| \\int_a^bf(x) dx- S\\left(a,\\frac{a+b}{2}\\right) - S\\left(\\frac{a+b}{2},b\\right) \\right|< \\epsilon$$\n",
        "\n",
        "The second iteration is then $15$ times more precise than the first one."
      ]
    },
    {
      "cell_type": "markdown",
      "metadata": {
        "id": "Co2yzdQtNqDM"
      },
      "source": [
        "## Steps Simpson's adaptive quadrature"
      ]
    },
    {
      "cell_type": "markdown",
      "metadata": {
        "id": "toa3EnQkNqDM"
      },
      "source": [
        "**1.** Give the function $f(x)$ to be integrated, the inverval $[a,b]$ and set a desired precision $\\epsilon$.\n",
        "\n",
        "**2.** Compute the next Simpsons's quadratures:\n",
        "\n",
        "$$ S(a,b),\\ S\\left(a,\\frac{a+b}{2}\\right),\\ S\\left(\\frac{a+b}{2},b\\right) $$\n",
        "\n",
        "**3.** If \n",
        "\n",
        "$$\\frac{1}{15}\\left| S(a,b) - S\\left(a,\\frac{a+b}{2}\\right) - S\\left(\\frac{a+b}{2},b\\right) \\right|<\\epsilon$$\n",
        "\n",
        "then the integration is ready and is given by:\n",
        "\n",
        "$$\\int_a^bf(x) dx \\approx S\\left(a,\\frac{a+b}{2}\\right) + S\\left(\\frac{a+b}{2},b\\right) $$\n",
        "\n",
        "within the given precision.\n",
        "\n",
        "**4.** If the previous step is not fulfilled, repeat from step **2** using as new intervals $[a,(a+b)/2]$ and $[(a+b)/2,b]$ and a new precision $\\epsilon_1 = \\epsilon/2$. Repeating until step 3 is fulfilled for all the subintervals."
      ]
    }
  ],
  "metadata": {
    "kernelspec": {
      "display_name": "Python 3 (ipykernel)",
      "language": "python",
      "name": "python3"
    },
    "language_info": {
      "codemirror_mode": {
        "name": "ipython",
        "version": 3
      },
      "file_extension": ".py",
      "mimetype": "text/x-python",
      "name": "python",
      "nbconvert_exporter": "python",
      "pygments_lexer": "ipython3",
      "version": "3.9.2"
    },
    "colab": {
      "name": "numerical-calculus-integration-methods.ipynb",
      "provenance": []
    }
  },
  "nbformat": 4,
  "nbformat_minor": 0
}