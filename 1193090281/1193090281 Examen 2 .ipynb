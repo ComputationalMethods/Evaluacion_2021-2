{
  "cells": [
    {
      "cell_type": "markdown",
      "id": "0949b7a5-6d81-4e98-adc7-a7a1867266a3",
      "metadata": {
        "id": "0949b7a5-6d81-4e98-adc7-a7a1867266a3"
      },
      "source": [
        "A)\n",
        "1. Cree una función en Python que defina la función\n",
        "$$\n",
        "f(\\lambda)=\\int_0^\\infty \\frac{\\sin(\\lambda x)}{\\operatorname{e}^x}\\operatorname{d}x\n",
        "$$\n",
        "1. Gráfique dicha función en 0 y 100\n",
        "1. Haga un segundo gráfico añadiendo la derivada de la función\n",
        "\n",
        "B)\n",
        "Construya una matriz aleatoria $3\\times 3$ $\\boldsymbol{Y}$ y genere la matrix\n",
        "$$\n",
        "\\boldsymbol{A}=\\boldsymbol{Y}^{\\operatorname{T}}\\boldsymbol{Y}\n",
        "$$\n",
        "\n",
        "1. Obtenga los autovalores y autovectores de $\\boldsymbol{A}$ en orden ascendente en valor absoluto\n",
        "1. Compruebe que los atovalores de $\\boldsymbol{Y}$ corresponden a la raíz cuadrado de los autovalores de  $\\boldsymbol{A}$ y explique porqué"
      ]
    },
    {
      "cell_type": "markdown",
      "source": [
        "#PARCIAL 2: SARA ALEJANDRA CARVAJAL CC.1193090281"
      ],
      "metadata": {
        "id": "LDLzMFjs2sj3"
      },
      "id": "LDLzMFjs2sj3"
    },
    {
      "cell_type": "code",
      "execution_count": 47,
      "id": "62cbc669-9ed6-4f54-b4c9-5ac10f7c15d6",
      "metadata": {
        "id": "62cbc669-9ed6-4f54-b4c9-5ac10f7c15d6",
        "outputId": "900a8e33-0291-480a-ca95-26199bd4029c",
        "colab": {
          "base_uri": "https://localhost:8080/",
          "height": 678
        }
      },
      "outputs": [
        {
          "output_type": "stream",
          "name": "stderr",
          "text": [
            "/usr/local/lib/python3.7/dist-packages/ipykernel_launcher.py:7: RuntimeWarning: overflow encountered in exp\n",
            "  import sys\n",
            "/usr/local/lib/python3.7/dist-packages/ipykernel_launcher.py:7: IntegrationWarning: The maximum number of subdivisions (50) has been achieved.\n",
            "  If increasing the limit yields no improvement it is advised to analyze \n",
            "  the integrand in order to determine the difficulties.  If the position of a \n",
            "  local difficulty can be determined (singularity, discontinuity) one will \n",
            "  probably gain from splitting up the interval and calling the integrator \n",
            "  on the subranges.  Perhaps a special-purpose integrator should be used.\n",
            "  import sys\n",
            "/usr/local/lib/python3.7/dist-packages/ipykernel_launcher.py:7: RuntimeWarning: overflow encountered in exp\n",
            "  import sys\n",
            "/usr/local/lib/python3.7/dist-packages/ipykernel_launcher.py:7: IntegrationWarning: The maximum number of subdivisions (50) has been achieved.\n",
            "  If increasing the limit yields no improvement it is advised to analyze \n",
            "  the integrand in order to determine the difficulties.  If the position of a \n",
            "  local difficulty can be determined (singularity, discontinuity) one will \n",
            "  probably gain from splitting up the interval and calling the integrator \n",
            "  on the subranges.  Perhaps a special-purpose integrator should be used.\n",
            "  import sys\n",
            "/usr/local/lib/python3.7/dist-packages/ipykernel_launcher.py:7: IntegrationWarning: The integral is probably divergent, or slowly convergent.\n",
            "  import sys\n"
          ]
        },
        {
          "output_type": "execute_result",
          "data": {
            "text/plain": [
              "[<matplotlib.lines.Line2D at 0x7f315d322bd0>]"
            ]
          },
          "metadata": {},
          "execution_count": 47
        },
        {
          "output_type": "display_data",
          "data": {
            "text/plain": [
              "<Figure size 432x288 with 1 Axes>"
            ],
            "image/png": "[encoded data removed]"
          },
          "metadata": {
            "needs_background": "light"
          }
        }
      ],
      "source": [
        "from scipy import integrate\n",
        "import numpy as np \n",
        "import matplotlib.pyplot as plt\n",
        "import sympy as sp\n",
        "from scipy import misc\n",
        "\n",
        "fun= lambda  λ: integrate.quad(lambda  x: np.sin(λ*x)/ np.exp(x) , 0,np.inf)[0]\n",
        "funv=np.vectorize(fun)\n",
        "\n",
        "λ= np.linspace(0,100,100)\n",
        "y=funv(λ)\n",
        "\n",
        "\n",
        "\n",
        "derivative = lambda x: misc.derivative(funv,x)\n",
        "derv= np.vectorize(derivative)\n",
        "\n",
        "plt.plot(λ, funv(λ), \"r--\")\n",
        "plt.plot(λ,derv(λ),\"g--\")\n",
        "\n",
        "\n",
        "\n",
        "\n",
        "\n",
        "\n"
      ]
    },
    {
      "cell_type": "markdown",
      "source": [
        "#PUNTO B\n"
      ],
      "metadata": {
        "id": "5zXcepyc85Rp"
      },
      "id": "5zXcepyc85Rp"
    },
    {
      "cell_type": "code",
      "source": [
        "import numpy as np\n",
        "Y= np.random.random(size=[3,3])\n",
        "Y\n",
        "\n",
        "A= Y.T@Y\n",
        "autoval= np.abs(np.linalg.eig(A)[0])\n",
        "autovec= np.linalg.eig(A)[1]\n",
        "\n",
        "autoval=autoval.tolist()\n",
        "stautoval=sorted(autoval)\n",
        "stautovec =np.c_[ tuple( [ np.c_[autovec[:,i]] for i in np.abs(autoval).argsort()])]\n",
        "\n",
        "print(\"Los autovalores desordenados son:\",autoval)\n",
        "print(\"Los autovalores ordenados son:\",stautoval)\n",
        "\n",
        "print(\"Los autovectores desordenados son:\\n\", autovec)\n",
        "print(\"Los autovectores ordenados son:\\n\", stautovec)\n"
      ],
      "metadata": {
        "id": "SmAj470d87OY",
        "outputId": "f8829088-3a43-417b-a2df-6e4d146d112d",
        "colab": {
          "base_uri": "https://localhost:8080/"
        }
      },
      "id": "SmAj470d87OY",
      "execution_count": 28,
      "outputs": [
        {
          "output_type": "stream",
          "name": "stdout",
          "text": [
            "Los autovalores desordenados son: [2.9956012881086083, 0.1762096810956143, 0.09504264978731715]\n",
            "Los autovalores ordenados son: [0.09504264978731715, 0.1762096810956143, 2.9956012881086083]\n",
            "Los autovectores desordenados son:\n",
            " [[-0.73416922 -0.61935198 -0.27820618]\n",
            " [-0.55966065  0.78401987 -0.26850101]\n",
            " [-0.3844158   0.04142413  0.92223019]]\n",
            "Los autovectores ordenados son:\n",
            " [[-0.27820618 -0.61935198 -0.73416922]\n",
            " [-0.26850101  0.78401987 -0.55966065]\n",
            " [ 0.92223019  0.04142413 -0.3844158 ]]\n"
          ]
        }
      ]
    },
    {
      "cell_type": "code",
      "source": [
        "autovY= np.linalg.svd(Y)[1]\n",
        "autovY= np.abs(autovY)\n",
        "Autoval= np.linalg.svd(A)[1]\n",
        "\n",
        "print(\"Los autovalores de Y son:\",autovY)\n",
        "sqrtautovA= np.sqrt(Autoval)\n",
        "print(\"La raiz de los autovalores de autovalores de A son:\",sqrtautovA)\n",
        "\n",
        "\n"
      ],
      "metadata": {
        "id": "hEiGx4iqEYDx",
        "outputId": "83100cc3-8390-4dfe-94cf-2cd2a3e66070",
        "colab": {
          "base_uri": "https://localhost:8080/"
        }
      },
      "id": "hEiGx4iqEYDx",
      "execution_count": 45,
      "outputs": [
        {
          "output_type": "stream",
          "name": "stdout",
          "text": [
            "Los autovalores de Y son: [1.73078054 0.41977337 0.30828988]\n",
            "La raiz de los autovalores de autovalores de A son: [1.73078054 0.41977337 0.30828988]\n"
          ]
        }
      ]
    },
    {
      "cell_type": "markdown",
      "source": [
        "Teniendo en cuenta el teorema de parametrización de Casas Ibarra se considera a A una matriz simetrica que cumple con el teorema 1 enunciado en el curso, la matriz cuadrada A se puede escribir como $$\n",
        "\\boldsymbol{A}=\\boldsymbol{Y}^{\\operatorname{T}}\\boldsymbol{Y}\n",
        "$$, se garantiza entonces que para esta matriz exista una matriz ortogonal $\\boldsymbol{H}$ arbitraria, por definicion de matriz ortogonal, su traspuesta es igual a la inversa de $\\boldsymbol{H}$, tomando como punto de partida igualdad dada en el punto, podemos afirmar que $\\boldsymbol{D}_{λ}= \\boldsymbol{D}_\\sqrt{λ}{D}_\\sqrt{λ}= ({D}_\\sqrt{λ})^2 $ realizando esta descomposición y asumiendo que existe una matriz arbitraria R que tambien cumple con las propiedades de H se llega a la conclusión de que  $$\\boldsymbol{Y}_{diag}= \\boldsymbol{R}{D}_\\sqrt{λ}{U^t} $$\n",
        "\n",
        "desde donde se evidencia que los vectores propios de Y son la raiz de los vectores propios de la matriz inicial A"
      ],
      "metadata": {
        "id": "OygBcRPBLkCQ"
      },
      "id": "OygBcRPBLkCQ"
    }
  ],
  "metadata": {
    "kernelspec": {
      "display_name": "Python 3 (ipykernel)",
      "language": "python",
      "name": "python3"
    },
    "language_info": {
      "codemirror_mode": {
        "name": "ipython",
        "version": 3
      },
      "file_extension": ".py",
      "mimetype": "text/x-python",
      "name": "python",
      "nbconvert_exporter": "python",
      "pygments_lexer": "ipython3",
      "version": "3.9.2"
    },
    "colab": {
      "name": "Examen_2021_2_02_enunciado.ipynb",
      "provenance": []
    }
  },
  "nbformat": 4,
  "nbformat_minor": 5
}