{
 "cells": [
  {
   "cell_type": "markdown",
   "id": "3f040841-69ff-4af0-aff6-15bd7130d29d",
   "metadata": {},
   "source": [
    "Write a routine that outputs the real representation for a given float32.\n",
    "\n",
    "$r = (-1)^s\\times \\left( 1 + \\sum_{i=1}^{23}b_{23-i}2^{-i} \\right)\\times 2^{e-127}$\n",
    "\n",
    "where $s$ is the sign, $b_{23-i}$ the fraction bits and $e$ is given by:\n",
    "\n",
    "$e = \\sum_{i=0}^7 b_{23+i}2^i$"
   ]
  },
  {
   "cell_type": "code",
   "execution_count": 9,
   "id": "5614f50d-617d-46ff-af96-59788c3d1495",
   "metadata": {},
   "outputs": [],
   "source": [
    "import numpy as np"
   ]
  },
  {
   "cell_type": "code",
   "execution_count": 18,
   "id": "6df5caaa-9389-4ecc-b699-23f3edabcee0",
   "metadata": {},
   "outputs": [
    {
     "name": "stdout",
     "output_type": "stream",
     "text": [
      "Insert a binary float32 number \n",
      "        (32 digits: first is the sign,\n",
      "        next 8 are the exponent —whole part of the number—,\n",
      "        the rest are the fractional part:  \n"
     ]
    },
    {
     "name": "stdin",
     "output_type": "stream",
     "text": [
      "None 00111110001000000000000000000000\n"
     ]
    }
   ],
   "source": [
    "while True:\n",
    "    try:\n",
    "        fl=input(print('''Insert a binary float32 number \n",
    "        (32 digits: first is the sign,\n",
    "        next 8 are the exponent —whole part of the number—,\n",
    "        the rest are the fractional part:  '''))\n",
    "        #Ask user for a binary float32 number.\n",
    "        if len(fl)!=32:  #If the number is not 32 bits long, ask for another one.    \n",
    "            print('The input is not a binary float32 number, please try again')\n",
    "            pass\n",
    "        elif any(digit in '23456789' for digit in fl):  #If the number is not binary, ask for another one.\n",
    "            print('The input is not a binary float32 number, please try again')\n",
    "            pass\n",
    "        else:\n",
    "            break\n",
    "    except:\n",
    "        print('The input is not a binary float32 number, please try again')"
   ]
  },
  {
   "cell_type": "code",
   "execution_count": 41,
   "id": "931e4ae8-5ba3-480c-8420-fbbc88aaf73f",
   "metadata": {},
   "outputs": [],
   "source": [
    "a='00111110001000000000000000000000'"
   ]
  },
  {
   "cell_type": "code",
   "execution_count": 42,
   "id": "ff469e00-71cb-4e22-846e-2519d9479657",
   "metadata": {},
   "outputs": [],
   "source": [
    "def real32(float32):\n",
    "    float32=float32[::-1]   #Invert the order of the string. \n",
    "    \n",
    "    sign=int(float32[31])   #Select the first digit of the number (last digit of the list). It will determine the sign of the real number.\n",
    "    exponent=np.array([i for i in float32[23:31]]).astype(float)   #Segment the next 8 digits of the list. They will determine the \"exponent\" of the number.\n",
    "    fractional=np.array([i for i in float32[0:23]]).astype(float)  #Segment the next 23 digits of the list. They will determine the fractional part of the number.\n",
    "   \n",
    "    #Define two auxiliar arrays for the sums\n",
    "    sum_e=np.arange(8)   \n",
    "    sum_fract=np.arange(1,24)\n",
    "    \n",
    "    #Define the two sums in the formula\n",
    "    e=np.sum(exponent*(2.0**sum_e))\n",
    "    b=np.sum(fractional[::-1]*2.0**(-sum_fract))\n",
    "    \n",
    "    #Recovers the real number\n",
    "    r=(-1.0)**sign*(1+b)*2.0**(e-127)\n",
    "    return r"
   ]
  },
  {
   "cell_type": "code",
   "execution_count": 44,
   "id": "236dc8e3-b50b-420d-8175-2143db6e0f59",
   "metadata": {},
   "outputs": [
    {
     "data": {
      "text/plain": [
       "0.15625"
      ]
     },
     "execution_count": 44,
     "metadata": {},
     "output_type": "execute_result"
    }
   ],
   "source": [
    "real32(a)"
   ]
  },
  {
   "cell_type": "code",
   "execution_count": null,
   "id": "11841454-abf4-4c29-8a3c-c59fe890e25e",
   "metadata": {},
   "outputs": [],
   "source": []
  }
 ],
 "metadata": {
  "kernelspec": {
   "display_name": "Python 3 (ipykernel)",
   "language": "python",
   "name": "python3"
  },
  "language_info": {
   "codemirror_mode": {
    "name": "ipython",
    "version": 3
   },
   "file_extension": ".py",
   "mimetype": "text/x-python",
   "name": "python",
   "nbconvert_exporter": "python",
   "pygments_lexer": "ipython3",
   "version": "3.9.7"
  }
 },
 "nbformat": 4,
 "nbformat_minor": 5
}
