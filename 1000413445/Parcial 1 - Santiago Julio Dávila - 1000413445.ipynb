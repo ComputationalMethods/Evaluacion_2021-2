{
 "cells": [
  {
   "cell_type": "markdown",
   "id": "aefd261c-9913-4ec1-ac6e-653b301bb086",
   "metadata": {},
   "source": [
    "Parcial 1 - Santiago Julio Dávila - 1000413445\n",
    "\n",
    "Los siguientes datos fueron extraidos de los datos para la cuarta ola de infecciones por millon de habitantes (IPMH) de Colombia por la variante Omicrón del Coronavirus\n",
    "\n",
    "A) Genere un data frame de pandas y agregé una nueva columna de IPMH con una incertidubre del 2‰ aleatoria. Es decir, a cada IPMH sumarle o restarle un número aleatoria en el rango de su 2‰\n",
    "\n",
    "B) Interprete los datos como un problema de caida libre y a partir del ajuste (fit) a la correspondiente ecuación de movimiento, determine (para la columna con incertidumbre)\n",
    "\n",
    "    1. La velocidad inicial de IPMH en IPMH/día\n",
    "    2. La aceleración constante en IPMH/día**2\n",
    "    3. El número máximo de IPMH que se alcanzaría\n",
    "    4. El número de días en el que se alcanzaría dicho máximo\n",
    "    5. Realice una gráfico que muestré el ajuste y la posición del máximo usando los estándares adecuados\n",
    "\n",
    "DATOS\n",
    "\n",
    "\n",
    "    {'día':1,'IPMH':464},\n",
    "    {'día':2,'IPMH':494},\n",
    "    {'día':3,'IPMH':532},\n",
    "    {'día':4,'IPMH':552},\n",
    "    {'día':5,'IPMH':576},\n",
    "    {'día':6,'IPMH':589}\n",
    "\n",
    "\n"
   ]
  },
  {
   "cell_type": "code",
   "execution_count": 1,
   "id": "b8b900ce-4406-4aaa-b531-61d896b1b9be",
   "metadata": {},
   "outputs": [],
   "source": [
    "# Librerías\n",
    "\n",
    "import numpy as np\n",
    "import pandas as pd\n",
    "import matplotlib.pyplot as plt\n",
    "from scipy import optimize\n",
    "from scipy import interpolate"
   ]
  },
  {
   "cell_type": "markdown",
   "id": "cd6e73ef-3eae-4480-acc3-a4405054c04e",
   "metadata": {},
   "source": [
    "Solución punto A."
   ]
  },
  {
   "cell_type": "code",
   "execution_count": 14,
   "id": "f01cedbd-2550-47f3-9cf7-ac8c4d154205",
   "metadata": {},
   "outputs": [
    {
     "data": {
      "text/html": [
       "<div>\n",
       "<style scoped>\n",
       "    .dataframe tbody tr th:only-of-type {\n",
       "        vertical-align: middle;\n",
       "    }\n",
       "\n",
       "    .dataframe tbody tr th {\n",
       "        vertical-align: top;\n",
       "    }\n",
       "\n",
       "    .dataframe thead th {\n",
       "        text-align: right;\n",
       "    }\n",
       "</style>\n",
       "<table border=\"1\" class=\"dataframe\">\n",
       "  <thead>\n",
       "    <tr style=\"text-align: right;\">\n",
       "      <th></th>\n",
       "      <th>día</th>\n",
       "      <th>IPMH</th>\n",
       "    </tr>\n",
       "  </thead>\n",
       "  <tbody>\n",
       "    <tr>\n",
       "      <th>0</th>\n",
       "      <td>1</td>\n",
       "      <td>464</td>\n",
       "    </tr>\n",
       "    <tr>\n",
       "      <th>1</th>\n",
       "      <td>2</td>\n",
       "      <td>494</td>\n",
       "    </tr>\n",
       "    <tr>\n",
       "      <th>2</th>\n",
       "      <td>3</td>\n",
       "      <td>532</td>\n",
       "    </tr>\n",
       "    <tr>\n",
       "      <th>3</th>\n",
       "      <td>4</td>\n",
       "      <td>552</td>\n",
       "    </tr>\n",
       "    <tr>\n",
       "      <th>4</th>\n",
       "      <td>5</td>\n",
       "      <td>576</td>\n",
       "    </tr>\n",
       "    <tr>\n",
       "      <th>5</th>\n",
       "      <td>6</td>\n",
       "      <td>589</td>\n",
       "    </tr>\n",
       "  </tbody>\n",
       "</table>\n",
       "</div>"
      ],
      "text/plain": [
       "   día  IPMH\n",
       "0    1   464\n",
       "1    2   494\n",
       "2    3   532\n",
       "3    4   552\n",
       "4    5   576\n",
       "5    6   589"
      ]
     },
     "execution_count": 14,
     "metadata": {},
     "output_type": "execute_result"
    }
   ],
   "source": [
    "# Diccionario con los días y su respectivo IPMH.\n",
    "\n",
    "IPMH={'día':[i for i in range(1,7)],'IPMH':[464,494,532,552,576,589]}\n",
    "df=pd.DataFrame(IPMH)\n",
    "df"
   ]
  },
  {
   "cell_type": "code",
   "execution_count": 12,
   "id": "f5ac3507-b610-4700-8ff0-9925678405aa",
   "metadata": {},
   "outputs": [],
   "source": [
    "# Agrega la columna con una incertidumbre aleatoria no mayor del 2‰.\n",
    "\n",
    "np.random.seed(1)   # Si desea quitar la semilla para generar valores nuevos cada vez, comente esta línea.\n",
    "inc=lambda x:0.002*x     # Define una función para calcular la incertidumbre del 2‰ de un valor.\n",
    "\n",
    "# Sobre la columna IPMH, suma un valor aleatorio en el rango (-0.002n,0.002n).\n",
    "df['IPMH±2‰']=df.IPMH.apply(lambda n:n+np.random.uniform(-inc(n),inc(n)))   "
   ]
  },
  {
   "cell_type": "code",
   "execution_count": 13,
   "id": "1965b0e8-4166-4a6d-b8fe-da7f59978288",
   "metadata": {},
   "outputs": [
    {
     "data": {
      "text/html": [
       "<div>\n",
       "<style scoped>\n",
       "    .dataframe tbody tr th:only-of-type {\n",
       "        vertical-align: middle;\n",
       "    }\n",
       "\n",
       "    .dataframe tbody tr th {\n",
       "        vertical-align: top;\n",
       "    }\n",
       "\n",
       "    .dataframe thead th {\n",
       "        text-align: right;\n",
       "    }\n",
       "</style>\n",
       "<table border=\"1\" class=\"dataframe\">\n",
       "  <thead>\n",
       "    <tr style=\"text-align: right;\">\n",
       "      <th></th>\n",
       "      <th>día</th>\n",
       "      <th>IPMH</th>\n",
       "      <th>IPMH±2‰</th>\n",
       "    </tr>\n",
       "  </thead>\n",
       "  <tbody>\n",
       "    <tr>\n",
       "      <th>0</th>\n",
       "      <td>1</td>\n",
       "      <td>464</td>\n",
       "      <td>463.845993</td>\n",
       "    </tr>\n",
       "    <tr>\n",
       "      <th>1</th>\n",
       "      <td>2</td>\n",
       "      <td>494</td>\n",
       "      <td>494.435361</td>\n",
       "    </tr>\n",
       "    <tr>\n",
       "      <th>2</th>\n",
       "      <td>3</td>\n",
       "      <td>532</td>\n",
       "      <td>530.936243</td>\n",
       "    </tr>\n",
       "    <tr>\n",
       "      <th>3</th>\n",
       "      <td>4</td>\n",
       "      <td>552</td>\n",
       "      <td>551.563550</td>\n",
       "    </tr>\n",
       "    <tr>\n",
       "      <th>4</th>\n",
       "      <td>5</td>\n",
       "      <td>576</td>\n",
       "      <td>575.186126</td>\n",
       "    </tr>\n",
       "    <tr>\n",
       "      <th>5</th>\n",
       "      <td>6</td>\n",
       "      <td>589</td>\n",
       "      <td>588.039550</td>\n",
       "    </tr>\n",
       "  </tbody>\n",
       "</table>\n",
       "</div>"
      ],
      "text/plain": [
       "   día  IPMH     IPMH±2‰\n",
       "0    1   464  463.845993\n",
       "1    2   494  494.435361\n",
       "2    3   532  530.936243\n",
       "3    4   552  551.563550\n",
       "4    5   576  575.186126\n",
       "5    6   589  588.039550"
      ]
     },
     "execution_count": 13,
     "metadata": {},
     "output_type": "execute_result"
    }
   ],
   "source": [
    "df"
   ]
  },
  {
   "cell_type": "markdown",
   "id": "832ec1a9-182d-4e1c-bf70-fb7fd9714c7e",
   "metadata": {},
   "source": [
    "Solución punto B."
   ]
  },
  {
   "cell_type": "markdown",
   "id": "6623258a-1349-409b-97c0-c7b76eb6093a",
   "metadata": {},
   "source": [
    "Para interpretarlo como un problema de 'caída libre' —o, en general, movimiento acelerado—, es necesario tener en cuenta que se debe llegar a una ecuación de la forma:\n",
    "\n",
    "$$y=y_0+v_0t+\\frac{1}{2}at^2$$\n",
    "\n",
    "Donde los coeficientes $y_0$, $v_0$ y $\\frac{1}{2}a$ serán definidos por el ajuste hecho con `np.polyfit`."
   ]
  },
  {
   "cell_type": "code",
   "execution_count": 31,
   "id": "bae89264-4444-46f5-99d3-ffb3b99deabf",
   "metadata": {},
   "outputs": [
    {
     "name": "stdout",
     "output_type": "stream",
     "text": [
      "        2\n",
      "-2.518 t + 43.08 t + 421.9\n"
     ]
    }
   ],
   "source": [
    "# Define el polinomio de ajuste de grado 2 (caída libre) a partir de los coeficientes dados por np.polyfit.\n",
    "\n",
    "coef=np.polyfit(df.día,df.IPMH,2)\n",
    "pol=np.poly1d(coef,variable='t')\n",
    "print(pol)"
   ]
  },
  {
   "cell_type": "markdown",
   "id": "4ce505dc-826c-41fa-a17b-1b781f275e9b",
   "metadata": {},
   "source": [
    "1. La velocidad está dada por la primera derivada de la posición $v=\\dfrac{\\mathrm d y}{\\mathrm d t}$, calculada con el método `deriv` de los polinomios de numpy. "
   ]
  },
  {
   "cell_type": "code",
   "execution_count": 43,
   "id": "c66d6c35-d422-4f9b-80bf-a8ec785033c0",
   "metadata": {},
   "outputs": [
    {
     "name": "stdout",
     "output_type": "stream",
     "text": [
      " \n",
      "-5.036 t + 43.08\n"
     ]
    }
   ],
   "source": [
    "# Derivada de la posición para obtener la velocidad.\n",
    "\n",
    "v=pol.deriv()\n",
    "v=np.poly1d(v.coef,variable='t')\n",
    "print(v)"
   ]
  },
  {
   "cell_type": "markdown",
   "id": "3ab72fd6-f156-4470-bbb4-973144255e39",
   "metadata": {},
   "source": [
    "La velocidad inicial está dada por $v_0=v(0)$."
   ]
  },
  {
   "cell_type": "code",
   "execution_count": 48,
   "id": "262237f9-ee0f-4be9-8269-272d48f88e5a",
   "metadata": {},
   "outputs": [
    {
     "name": "stdout",
     "output_type": "stream",
     "text": [
      "Velocidad inicial v_0 = 43.082142857142955 IPMH/día\n"
     ]
    }
   ],
   "source": [
    "# Evalúa la velocidad en t=0 para obtener la velocidad inicial.\n",
    "\n",
    "v0=v(0)\n",
    "print(f'Velocidad inicial v_0 = {v0} IPMH/día')"
   ]
  },
  {
   "cell_type": "markdown",
   "id": "9a953974-f58b-4617-9d0d-5b0cb2030095",
   "metadata": {},
   "source": [
    "2. La aceleración constante está dada por la segunda derivada de la posición $a=\\dfrac{\\mathrm d^2 y}{\\mathrm d t^2}$ o la derivada de la velocidad $a=\\dfrac{\\mathrm d v}{\\mathrm d t}$. Se utilizará la segunda."
   ]
  },
  {
   "cell_type": "code",
   "execution_count": 47,
   "id": "792766d9-b290-4290-a138-277121ff9a75",
   "metadata": {},
   "outputs": [
    {
     "name": "stdout",
     "output_type": "stream",
     "text": [
      "Aceleración constante a =  \n",
      "-5.036 IPMH/día²\n"
     ]
    }
   ],
   "source": [
    "# Derivada de la velocidad para obtener la aceleración.\n",
    "\n",
    "a=v.deriv()\n",
    "print(f'Aceleración constante a = {a} IPMH/día²')"
   ]
  },
  {
   "cell_type": "markdown",
   "id": "a04fe8c8-f957-453b-a128-21f368f42314",
   "metadata": {},
   "source": [
    "4. Para calcular el tiempo (número de días) en que se alcanza el máximo de IPMH se debe optimizar la función $y$, para lo cual se encuentra el cero de su derivada, es decir, $v(t_{\\mathrm{máx}})=0$, este valor corresponde al máximo ya que la segunda derivada es negativa para todo $t$. Se hace este punto primero, pues para el punto 3. es necesario conocer el valor de esta optimización."
   ]
  },
  {
   "cell_type": "code",
   "execution_count": 51,
   "id": "c23416ff-e943-4e97-b45d-3898939895d3",
   "metadata": {},
   "outputs": [
    {
     "name": "stdout",
     "output_type": "stream",
     "text": [
      "Número de días en alcanzar el máximo t_máx=8.555319148936125 días\n"
     ]
    }
   ],
   "source": [
    "# Solución de la ecuación v0+at=0 usando el método de Newton.\n",
    "\n",
    "tmax=optimize.newton(v,1)\n",
    "print(f'Número de días en alcanzar el máximo t_máx={tmax} días')"
   ]
  },
  {
   "cell_type": "markdown",
   "id": "24edd2f6-db06-438d-95e8-90e208c9b5eb",
   "metadata": {},
   "source": [
    "3. Para encontrar el IPMH máximo, es necesario evaluar el polinomio de ajuste en el valor de $t_{\\mathrm{máx}}$, esto es, $\\mathrm{IPMH_{máx}}=y(t_{\\mathrm{máx}})$."
   ]
  },
  {
   "cell_type": "code",
   "execution_count": 52,
   "id": "c37f3b05-e4f9-40d3-9d68-3eff76b75228",
   "metadata": {},
   "outputs": [
    {
     "name": "stdout",
     "output_type": "stream",
     "text": [
      "IPMH máximo = 606.1907408814585\n"
     ]
    }
   ],
   "source": [
    "# Valor máximo del IPMH.\n",
    "\n",
    "ymax=pol(tmax)\n",
    "print(f'IPMH máximo = {ymax}')"
   ]
  },
  {
   "cell_type": "markdown",
   "id": "d7c1509b-ff03-42dd-a86b-d6686536ee4d",
   "metadata": {},
   "source": [
    "5. Gráfica."
   ]
  },
  {
   "cell_type": "code",
   "execution_count": 75,
   "id": "ca97344d-eb7c-4696-a46f-7070fd79aff5",
   "metadata": {},
   "outputs": [
    {
     "data": {
      "image/png": "[encoded data removed]",
      "text/plain": [
       "<Figure size 540x360 with 1 Axes>"
      ]
     },
     "metadata": {
      "needs_background": "light"
     },
     "output_type": "display_data"
    }
   ],
   "source": [
    "# Define un intervalo entre 0 y 12 días, y evalúa el polinomio de ajuste en dicho intervalo.\n",
    "\n",
    "t=np.linspace(0,12)\n",
    "y=pol(t)\n",
    "\n",
    "# Crea la gráfica con todos los estándares.\n",
    "\n",
    "plt.figure(figsize=(7.5,5))\n",
    "plt.title('IPMH vs. tiempo')\n",
    "plt.plot(t,y,'deepskyblue',label=r'$-2.518t^2+43.08t+421.9$')\n",
    "plt.plot(df.día,df.IPMH,'r.',label='IPMH con incertidumbre')\n",
    "plt.plot(tmax,ymax,'o',color='darkorange',label='IPMH máximo')\n",
    "plt.xlabel('Tiempo [días]')\n",
    "plt.ylabel('IPMH')\n",
    "plt.grid()\n",
    "plt.legend()\n",
    "plt.show()"
   ]
  },
  {
   "cell_type": "code",
   "execution_count": null,
   "id": "aa60cb8c-f568-4b6a-83a4-910408e9eba5",
   "metadata": {},
   "outputs": [],
   "source": []
  }
 ],
 "metadata": {
  "kernelspec": {
   "display_name": "Python 3 (ipykernel)",
   "language": "python",
   "name": "python3"
  },
  "language_info": {
   "codemirror_mode": {
    "name": "ipython",
    "version": 3
   },
   "file_extension": ".py",
   "mimetype": "text/x-python",
   "name": "python",
   "nbconvert_exporter": "python",
   "pygments_lexer": "ipython3",
   "version": "3.9.7"
  }
 },
 "nbformat": 4,
 "nbformat_minor": 5
}
