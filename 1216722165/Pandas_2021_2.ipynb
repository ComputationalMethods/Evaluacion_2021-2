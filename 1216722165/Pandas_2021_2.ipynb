{
  "cells": [
    {
      "cell_type": "markdown",
      "metadata": {
        "cell_id": "00001-0bfa3d46-76d2-4b2c-ac43-a47b10e8dd42",
        "deepnote_cell_type": "markdown",
        "id": "d8BGX58hxE06"
      },
      "source": [
        "# Pandas\n",
        "<a href=\"https://colab.research.google.com/github/restrepo/ComputationalMethods/blob/master/material/Pandas.ipynb\" target=\"_parent\"><img src=\"https://colab.research.google.com/assets/colab-badge.svg\" alt=\"Open In Colab\"/></a>"
      ]
    },
    {
      "cell_type": "markdown",
      "metadata": {
        "cell_id": "00002-a39b4545-ea8c-4c33-9821-2e035ea68068",
        "deepnote_cell_type": "markdown",
        "id": "zm9tRsn7xE0_"
      },
      "source": [
        "From http://pandas.pydata.org/pandas-docs/stable/\n",
        "\n",
        "pandas is a Python package providing fast, flexible, and expressive data structures designed to make working with “relational” or “labeled” data both easy and intuitive. It aims to be the fundamental high-level building block for doing practical, real world data analysis in Python. Additionally, it has the broader goal of becoming the most powerful and flexible open source data analysis / manipulation tool available in any language. It is already well on its way toward this goal.\n",
        "\n",
        "See also:\n",
        "\n",
        "* https://github.com/restrepo/data-analysis\n",
        "  * https://classroom.github.com/g/sSMBdBqN\n",
        "  * https://classroom.github.com/a/PcbQBE7F\n",
        "* https://github.com/restrepo/PythonTipsAndTricks\n",
        "* https://pbpython.com/excel-pandas-comp.html [[archive.org](https://web.archive.org/web/20201126143453/https://pbpython.com/excel-pandas-comp.html)]"
      ]
    },
    {
      "cell_type": "markdown",
      "metadata": {
        "cell_id": "00003-eedb4370-f372-408b-9c5b-493892545a83",
        "deepnote_cell_type": "markdown",
        "id": "Uxv9n5lA7S7_"
      },
      "source": [
        "A good and practice book about `Pandas` possibilities is:\n",
        "\n",
        "[__Python for Data Analysis__](https://drive.google.com/open?id=0BxoOXsn2EUNIWExXbVc4SDN0YTQ)<br/>\n",
        "Data Wrangling with Pandas, NumPy, and IPython<br/>\n",
        "_By William McKinney_\n",
        "\n",
        "\n",
        "This other is about aplications based on `Pandas`:\n",
        "![image.png](https://covers.oreillystatic.com/images/0636920030515/cat.gif) [Introduction to Machine Learning with Python](https://drive.google.com/open?id=0BxoOXsn2EUNISGhrdEZ3S29fS3M)<br/>\n",
        "A Guide for Data Scientists\n",
        "By Sarah Guido, Andreas Müller\n",
        "\n",
        "`Pandas` can be used in a similar way to `R`, which is based on similar data structures. `Pandas` also can replace the use of graphical interfaces to access spreadsheets like Excel. In particular, can be used in joint with the module [`xlsxwriter`](https://xlsxwriter.readthedocs.io/tutorial02.html) to produce professional Excel spreadsheets at the programatical level.\n",
        "\n",
        "The similar data structure in Wolfram Alpha and Mathematica is  the `Dataset`, in C++ is the ROOT framework, and in the old Fortran 77 was `paw`. In this way, a dictionary of equivalent commands can be stablished between the several frameworks"
      ]
    },
    {
      "cell_type": "markdown",
      "metadata": {
        "cell_id": "00004-3b86c23e-e896-4ea9-a25d-b66422b19630",
        "deepnote_cell_type": "markdown",
        "id": "zd4jo7KLxE1C"
      },
      "source": [
        "## Standard way to load the module"
      ]
    },
    {
      "cell_type": "code",
      "execution_count": null,
      "metadata": {
        "cell_id": "00005-8f9079dd-73f3-4214-9b12-a007b2b221a9",
        "deepnote_cell_type": "code",
        "deepnote_to_be_reexecuted": false,
        "execution_start": 1627405767098,
        "id": "K3BSlyLBxE1E",
        "source_hash": "9b82ee11",
        "colab": {
          "base_uri": "https://localhost:8080/"
        },
        "outputId": "b5805bdc-e4ea-4b06-bba2-a87ab3565c1e"
      },
      "outputs": [
        {
          "output_type": "stream",
          "name": "stdout",
          "text": [
            "Populating the interactive namespace from numpy and matplotlib\n"
          ]
        }
      ],
      "source": [
        "import pandas as pd\n",
        "%pylab inline"
      ]
    },
    {
      "cell_type": "markdown",
      "metadata": {
        "cell_id": "00006-934fccd7-fef5-46fb-aa5b-3763a9df25a2",
        "deepnote_cell_type": "markdown",
        "id": "I7Hbe9JEadOC"
      },
      "source": [
        "## Basic structure: DataFrame"
      ]
    },
    {
      "cell_type": "markdown",
      "metadata": {
        "cell_id": "00007-db7b469d-ba71-4e06-8bbd-d90e212a02d5",
        "deepnote_cell_type": "markdown",
        "id": "IE_Vzycqajls"
      },
      "source": [
        "An flat _spreadsheet_ can be seen in terms of the types of variables of `Python` just as dictionary of lists, where each column of the spreadsheet is a pair key-list of the dictionary \n",
        "\n",
        "|   |  A   |  B   |\n",
        "|---|:----:|:----:|\n",
        "| 1 | even | odd  |\n",
        "| 2 |   0  | 1    |\n",
        "| 3 |   2  | 3    |\n",
        "| 4 |   4  | 5    |\n",
        "| 5 |   6  | 7    |\n",
        "| 6 |   8  | 9    |"
      ]
    },
    {
      "cell_type": "code",
      "execution_count": null,
      "metadata": {
        "cell_id": "00008-28de7f9e-e38f-489f-a753-c739eba5c428",
        "deepnote_cell_type": "code",
        "id": "lxEc0jlHauyc"
      },
      "outputs": [],
      "source": [
        "numbers={\"even\": [0,2,4,6,8],   #  First  key-list\n",
        "         \"odd\" : [1,3,5,7,9] }  #  Second key-list"
      ]
    },
    {
      "cell_type": "markdown",
      "metadata": {
        "cell_id": "00009-3837521f-1c26-475f-91f4-43151fde0224",
        "deepnote_cell_type": "markdown",
        "id": "HeN8rw1JxE1N"
      },
      "source": [
        "## Data structures"
      ]
    },
    {
      "cell_type": "markdown",
      "metadata": {
        "cell_id": "00010-1260af90-44ba-48f6-b514-529cb21a5dd8",
        "deepnote_cell_type": "markdown",
        "id": "UiL0O2SNcCfG"
      },
      "source": [
        "`Pandas` has two new data structures:\n",
        "1. `DataFrame` which are similar to numpy arrays but with some assigned key. For example, for the previous case\n",
        "```python\n",
        "import numpy as np\n",
        "np.array([[0,1],\n",
        "          [2,3],\n",
        "          [4,5],\n",
        "          [6,7],\n",
        "          [8,9] \n",
        "         ])\n",
        "```\n",
        "1. `Series` which are enriched  to dictionaries, as the ones defined for the rows of the previous example: `{'even':0,'odd':1}`.\n",
        "\n"
      ]
    },
    {
      "cell_type": "markdown",
      "metadata": {
        "cell_id": "00011-361a470d-c350-4bba-820a-01338fffcc89",
        "deepnote_cell_type": "markdown",
        "id": "jaWfZyimxE1O"
      },
      "source": [
        "\n",
        "The rows in a two-dimensional `DataFrame` corresponds to `Series` with similar keys, while the columns are also Series with the indices as keys. \n",
        "\n",
        "An example of a  `DataFrame` is a spreadsheet, as the one before."
      ]
    },
    {
      "cell_type": "markdown",
      "metadata": {
        "cell_id": "00012-fbda39d3-0cd0-48b0-ba40-4cfc129f8320",
        "deepnote_cell_type": "markdown",
        "id": "uRdBR4BXc8WY"
      },
      "source": [
        "### `DataFrame`\n",
        "`Pandas` can convert a dictionary of lists, like the `numbers` dictionary before, into a `DataFrame`, which is just an spreadsheet but interpreted at the programming level:\n",
        "\n"
      ]
    },
    {
      "cell_type": "code",
      "execution_count": null,
      "metadata": {
        "cell_id": "00013-8aff6f6f-3fd7-4e99-89eb-ca977338a551",
        "deepnote_cell_type": "code",
        "id": "b9e_1iu_7S8G",
        "outputId": "694572f5-8e47-421c-fa9a-69413f415d9e",
        "colab": {
          "base_uri": "https://localhost:8080/"
        }
      },
      "outputs": [
        {
          "output_type": "execute_result",
          "data": {
            "text/plain": [
              "{'even': [0, 2, 4, 6, 8], 'odd': [1, 3, 5, 7, 9]}"
            ]
          },
          "metadata": {},
          "execution_count": 3
        }
      ],
      "source": [
        "numbers"
      ]
    },
    {
      "cell_type": "code",
      "execution_count": null,
      "metadata": {
        "cell_id": "00014-3e464053-625b-4ee3-b72c-578522966832",
        "colab": {
          "base_uri": "https://localhost:8080/",
          "height": 205
        },
        "deepnote_cell_type": "code",
        "id": "dC00VECAd_Dr",
        "outputId": "57e2aa49-7e37-439a-a830-5036c0960c2b"
      },
      "outputs": [
        {
          "output_type": "execute_result",
          "data": {
            "text/html": [
              "<div>\n",
              "<style scoped>\n",
              "    .dataframe tbody tr th:only-of-type {\n",
              "        vertical-align: middle;\n",
              "    }\n",
              "\n",
              "    .dataframe tbody tr th {\n",
              "        vertical-align: top;\n",
              "    }\n",
              "\n",
              "    .dataframe thead th {\n",
              "        text-align: right;\n",
              "    }\n",
              "</style>\n",
              "<table border=\"1\" class=\"dataframe\">\n",
              "  <thead>\n",
              "    <tr style=\"text-align: right;\">\n",
              "      <th></th>\n",
              "      <th>even</th>\n",
              "      <th>odd</th>\n",
              "    </tr>\n",
              "  </thead>\n",
              "  <tbody>\n",
              "    <tr>\n",
              "      <th>0</th>\n",
              "      <td>0</td>\n",
              "      <td>1</td>\n",
              "    </tr>\n",
              "    <tr>\n",
              "      <th>1</th>\n",
              "      <td>2</td>\n",
              "      <td>3</td>\n",
              "    </tr>\n",
              "    <tr>\n",
              "      <th>2</th>\n",
              "      <td>4</td>\n",
              "      <td>5</td>\n",
              "    </tr>\n",
              "    <tr>\n",
              "      <th>3</th>\n",
              "      <td>6</td>\n",
              "      <td>7</td>\n",
              "    </tr>\n",
              "    <tr>\n",
              "      <th>4</th>\n",
              "      <td>8</td>\n",
              "      <td>9</td>\n",
              "    </tr>\n",
              "  </tbody>\n",
              "</table>\n",
              "</div>"
            ],
            "text/plain": [
              "   even  odd\n",
              "0     0    1\n",
              "1     2    3\n",
              "2     4    5\n",
              "3     6    7\n",
              "4     8    9"
            ]
          },
          "metadata": {},
          "execution_count": 4
        }
      ],
      "source": [
        "import pandas as pd\n",
        "df=pd.DataFrame(numbers)\n",
        "df"
      ]
    },
    {
      "cell_type": "code",
      "execution_count": null,
      "metadata": {
        "id": "wLk9VACo7S8I",
        "outputId": "7d20ce1e-8302-4335-ca5d-ba67ca43debb",
        "colab": {
          "base_uri": "https://localhost:8080/",
          "height": 283
        }
      },
      "outputs": [
        {
          "output_type": "execute_result",
          "data": {
            "text/plain": [
              "[<matplotlib.lines.Line2D at 0x7f472edeadd0>]"
            ]
          },
          "metadata": {},
          "execution_count": 6
        },
        {
          "output_type": "display_data",
          "data": {
            "image/png": "[encoded data removed]",
            "text/plain": [
              "<Figure size 432x288 with 1 Axes>"
            ]
          },
          "metadata": {
            "needs_background": "light"
          }
        }
      ],
      "source": [
        "plt.plot(df['even'],df['odd'])"
      ]
    },
    {
      "cell_type": "markdown",
      "metadata": {
        "cell_id": "00015-744b2b59-2ebc-4539-9f00-75d4fa94325b",
        "deepnote_cell_type": "markdown",
        "id": "zUZ1BcuneYQf"
      },
      "source": [
        "It is equivalent to:"
      ]
    },
    {
      "cell_type": "code",
      "execution_count": null,
      "metadata": {
        "cell_id": "00016-e9f7fa78-2c25-4132-862c-697bab37ff78",
        "deepnote_cell_type": "code",
        "id": "BAhV9G6B7S8J",
        "outputId": "a5dd0c38-dfe1-4f26-d2c1-b1c1542419b8",
        "colab": {
          "base_uri": "https://localhost:8080/"
        }
      },
      "outputs": [
        {
          "output_type": "execute_result",
          "data": {
            "text/plain": [
              "{'even': {0: 0, 1: 2, 2: 4, 3: 6, 4: 8}, 'odd': {0: 1, 1: 3, 2: 5, 3: 7, 4: 9}}"
            ]
          },
          "metadata": {},
          "execution_count": 7
        }
      ],
      "source": [
        "df.to_dict()"
      ]
    },
    {
      "cell_type": "code",
      "execution_count": null,
      "metadata": {
        "cell_id": "00017-89105c36-dc20-4ee6-bcb9-f3394d551a6e",
        "deepnote_cell_type": "code",
        "id": "xqGqwlPt7S8J",
        "outputId": "921ab098-eb7f-4026-e019-48e3bb97a544",
        "colab": {
          "base_uri": "https://localhost:8080/",
          "height": 205
        }
      },
      "outputs": [
        {
          "output_type": "execute_result",
          "data": {
            "text/html": [
              "<div>\n",
              "<style scoped>\n",
              "    .dataframe tbody tr th:only-of-type {\n",
              "        vertical-align: middle;\n",
              "    }\n",
              "\n",
              "    .dataframe tbody tr th {\n",
              "        vertical-align: top;\n",
              "    }\n",
              "\n",
              "    .dataframe thead th {\n",
              "        text-align: right;\n",
              "    }\n",
              "</style>\n",
              "<table border=\"1\" class=\"dataframe\">\n",
              "  <thead>\n",
              "    <tr style=\"text-align: right;\">\n",
              "      <th></th>\n",
              "      <th>even</th>\n",
              "      <th>odd</th>\n",
              "    </tr>\n",
              "  </thead>\n",
              "  <tbody>\n",
              "    <tr>\n",
              "      <th>0</th>\n",
              "      <td>0</td>\n",
              "      <td>1</td>\n",
              "    </tr>\n",
              "    <tr>\n",
              "      <th>1</th>\n",
              "      <td>2</td>\n",
              "      <td>3</td>\n",
              "    </tr>\n",
              "    <tr>\n",
              "      <th>2</th>\n",
              "      <td>4</td>\n",
              "      <td>5</td>\n",
              "    </tr>\n",
              "    <tr>\n",
              "      <th>3</th>\n",
              "      <td>6</td>\n",
              "      <td>7</td>\n",
              "    </tr>\n",
              "    <tr>\n",
              "      <th>4</th>\n",
              "      <td>8</td>\n",
              "      <td>9</td>\n",
              "    </tr>\n",
              "  </tbody>\n",
              "</table>\n",
              "</div>"
            ],
            "text/plain": [
              "   even  odd\n",
              "0     0    1\n",
              "1     2    3\n",
              "2     4    5\n",
              "3     6    7\n",
              "4     8    9"
            ]
          },
          "metadata": {},
          "execution_count": 8
        }
      ],
      "source": [
        "pd.DataFrame(  {'even': {0: 0, 1: 2, 2: 4, 3: 6, 4: 8}, 'odd': {0: 1, 1: 3, 2: 5, 3: 7, 4: 9}} )\n"
      ]
    },
    {
      "cell_type": "code",
      "execution_count": null,
      "metadata": {
        "cell_id": "00018-81da3a42-7a39-457b-b8db-bac5c401d035",
        "colab": {
          "base_uri": "https://localhost:8080/",
          "height": 205
        },
        "deepnote_cell_type": "code",
        "id": "nqtL07nJecD6",
        "outputId": "423befbb-278b-4a0f-a0de-087acca0a620"
      },
      "outputs": [
        {
          "output_type": "execute_result",
          "data": {
            "text/html": [
              "<div>\n",
              "<style scoped>\n",
              "    .dataframe tbody tr th:only-of-type {\n",
              "        vertical-align: middle;\n",
              "    }\n",
              "\n",
              "    .dataframe tbody tr th {\n",
              "        vertical-align: top;\n",
              "    }\n",
              "\n",
              "    .dataframe thead th {\n",
              "        text-align: right;\n",
              "    }\n",
              "</style>\n",
              "<table border=\"1\" class=\"dataframe\">\n",
              "  <thead>\n",
              "    <tr style=\"text-align: right;\">\n",
              "      <th></th>\n",
              "      <th>even</th>\n",
              "      <th>odd</th>\n",
              "    </tr>\n",
              "  </thead>\n",
              "  <tbody>\n",
              "    <tr>\n",
              "      <th>0</th>\n",
              "      <td>0</td>\n",
              "      <td>1</td>\n",
              "    </tr>\n",
              "    <tr>\n",
              "      <th>1</th>\n",
              "      <td>2</td>\n",
              "      <td>3</td>\n",
              "    </tr>\n",
              "    <tr>\n",
              "      <th>2</th>\n",
              "      <td>4</td>\n",
              "      <td>5</td>\n",
              "    </tr>\n",
              "    <tr>\n",
              "      <th>3</th>\n",
              "      <td>6</td>\n",
              "      <td>7</td>\n",
              "    </tr>\n",
              "    <tr>\n",
              "      <th>4</th>\n",
              "      <td>8</td>\n",
              "      <td>9</td>\n",
              "    </tr>\n",
              "  </tbody>\n",
              "</table>\n",
              "</div>"
            ],
            "text/plain": [
              "   even  odd\n",
              "0     0    1\n",
              "1     2    3\n",
              "2     4    5\n",
              "3     6    7\n",
              "4     8    9"
            ]
          },
          "metadata": {},
          "execution_count": 9
        }
      ],
      "source": [
        "pd.DataFrame.from_dict(numbers)"
      ]
    },
    {
      "cell_type": "markdown",
      "metadata": {
        "cell_id": "00019-e82851df-dc6e-44e5-baf1-f53490dc4a4f",
        "deepnote_cell_type": "markdown",
        "id": "1ftuPJd5eiu6"
      },
      "source": [
        "See below for other possibilities of [creating Pandas DataFrames from lists and dictionaries](https://fisica.udea.edu.co:4443/user/restrepo/notebooks/prog/cursos/data-analysis/Pandas.ipynb#Intialization-from-lists-and-dictionaries)"
      ]
    },
    {
      "cell_type": "markdown",
      "metadata": {
        "cell_id": "00020-7464d85a-cbe8-4ec3-939b-846f627fc238",
        "deepnote_cell_type": "markdown",
        "id": "myuwII1Ed9PE"
      },
      "source": [
        "The main advantage of the `DataFrame`, `df`, is that it can be managed without a graphical interface."
      ]
    },
    {
      "cell_type": "markdown",
      "metadata": {
        "cell_id": "00021-8888b732-743b-4a62-9560-33fac5c21a4b",
        "deepnote_cell_type": "markdown",
        "id": "5A0YScKRehta"
      },
      "source": [
        "We can check the shape of the `DataFrame`"
      ]
    },
    {
      "cell_type": "code",
      "execution_count": null,
      "metadata": {
        "cell_id": "00022-25b27bf8-fc9d-4749-a5b1-c6cb7c67fef0",
        "colab": {
          "base_uri": "https://localhost:8080/"
        },
        "deepnote_cell_type": "code",
        "id": "RV-ivs5Weyzq",
        "outputId": "ca53b1df-ac33-4869-8486-ba8c8f5fad4b"
      },
      "outputs": [
        {
          "output_type": "execute_result",
          "data": {
            "text/plain": [
              "(5, 2)"
            ]
          },
          "metadata": {},
          "execution_count": 12
        }
      ],
      "source": [
        "df.shape"
      ]
    },
    {
      "cell_type": "markdown",
      "metadata": {
        "cell_id": "00023-90fd3ae8-8621-4469-8f9c-f89eb0c2bf00",
        "deepnote_cell_type": "markdown",
        "id": "ZMc0puXbe3nD"
      },
      "source": [
        "####  Export DataFrame to other formats\n",
        "* To export to excel:"
      ]
    },
    {
      "cell_type": "code",
      "execution_count": null,
      "metadata": {
        "cell_id": "00024-4a17d6f4-9124-4228-ae9e-983b67419459",
        "deepnote_cell_type": "code",
        "id": "ioWKY1FAe-rK"
      },
      "outputs": [],
      "source": [
        "df.to_excel('example.xlsx',index=False)"
      ]
    },
    {
      "cell_type": "code",
      "execution_count": null,
      "metadata": {
        "cell_id": "00025-0d0d4e5f-471c-4e95-8cc6-cd5b604408c2",
        "deepnote_cell_type": "code",
        "id": "h_kCmZHc7S8M",
        "outputId": "1f94f658-6f88-4aae-8002-2aba743374e3",
        "colab": {
          "base_uri": "https://localhost:8080/",
          "height": 205
        }
      },
      "outputs": [
        {
          "output_type": "execute_result",
          "data": {
            "text/html": [
              "<div>\n",
              "<style scoped>\n",
              "    .dataframe tbody tr th:only-of-type {\n",
              "        vertical-align: middle;\n",
              "    }\n",
              "\n",
              "    .dataframe tbody tr th {\n",
              "        vertical-align: top;\n",
              "    }\n",
              "\n",
              "    .dataframe thead th {\n",
              "        text-align: right;\n",
              "    }\n",
              "</style>\n",
              "<table border=\"1\" class=\"dataframe\">\n",
              "  <thead>\n",
              "    <tr style=\"text-align: right;\">\n",
              "      <th></th>\n",
              "      <th>even</th>\n",
              "      <th>odd</th>\n",
              "    </tr>\n",
              "  </thead>\n",
              "  <tbody>\n",
              "    <tr>\n",
              "      <th>0</th>\n",
              "      <td>0</td>\n",
              "      <td>1</td>\n",
              "    </tr>\n",
              "    <tr>\n",
              "      <th>1</th>\n",
              "      <td>2</td>\n",
              "      <td>3</td>\n",
              "    </tr>\n",
              "    <tr>\n",
              "      <th>2</th>\n",
              "      <td>4</td>\n",
              "      <td>5</td>\n",
              "    </tr>\n",
              "    <tr>\n",
              "      <th>3</th>\n",
              "      <td>6</td>\n",
              "      <td>7</td>\n",
              "    </tr>\n",
              "    <tr>\n",
              "      <th>4</th>\n",
              "      <td>8</td>\n",
              "      <td>9</td>\n",
              "    </tr>\n",
              "  </tbody>\n",
              "</table>\n",
              "</div>"
            ],
            "text/plain": [
              "   even  odd\n",
              "0     0    1\n",
              "1     2    3\n",
              "2     4    5\n",
              "3     6    7\n",
              "4     8    9"
            ]
          },
          "metadata": {},
          "execution_count": 13
        }
      ],
      "source": [
        "newdf=pd.read_excel('example.xlsx')\n",
        "newdf"
      ]
    },
    {
      "cell_type": "markdown",
      "metadata": {
        "cell_id": "00026-53b72290-ece9-47a0-bf74-45d0b5599a48",
        "deepnote_cell_type": "markdown",
        "id": "yIdeiNi_fBPJ"
      },
      "source": [
        "__Activity__: Open the resulting spreadsheet in Google Drive, publish it and open from the resulting link with Pandas in the next cell"
      ]
    },
    {
      "cell_type": "code",
      "execution_count": null,
      "metadata": {
        "cell_id": "00027-afa925cb-92c5-4323-b67d-3fc9b7b06f3c",
        "deepnote_cell_type": "code",
        "id": "ZqIbSbLvf0wm",
        "colab": {
          "base_uri": "https://localhost:8080/",
          "height": 205
        },
        "outputId": "e3825026-e343-4f4b-8c7a-6419a42a5524"
      },
      "outputs": [
        {
          "output_type": "execute_result",
          "data": {
            "text/html": [
              "<div>\n",
              "<style scoped>\n",
              "    .dataframe tbody tr th:only-of-type {\n",
              "        vertical-align: middle;\n",
              "    }\n",
              "\n",
              "    .dataframe tbody tr th {\n",
              "        vertical-align: top;\n",
              "    }\n",
              "\n",
              "    .dataframe thead th {\n",
              "        text-align: right;\n",
              "    }\n",
              "</style>\n",
              "<table border=\"1\" class=\"dataframe\">\n",
              "  <thead>\n",
              "    <tr style=\"text-align: right;\">\n",
              "      <th></th>\n",
              "      <th>even</th>\n",
              "      <th>odd</th>\n",
              "    </tr>\n",
              "  </thead>\n",
              "  <tbody>\n",
              "    <tr>\n",
              "      <th>0</th>\n",
              "      <td>0</td>\n",
              "      <td>1</td>\n",
              "    </tr>\n",
              "    <tr>\n",
              "      <th>1</th>\n",
              "      <td>2</td>\n",
              "      <td>3</td>\n",
              "    </tr>\n",
              "    <tr>\n",
              "      <th>2</th>\n",
              "      <td>4</td>\n",
              "      <td>5</td>\n",
              "    </tr>\n",
              "    <tr>\n",
              "      <th>3</th>\n",
              "      <td>6</td>\n",
              "      <td>7</td>\n",
              "    </tr>\n",
              "    <tr>\n",
              "      <th>4</th>\n",
              "      <td>8</td>\n",
              "      <td>9</td>\n",
              "    </tr>\n",
              "  </tbody>\n",
              "</table>\n",
              "</div>"
            ],
            "text/plain": [
              "   even  odd\n",
              "0     0    1\n",
              "1     2    3\n",
              "2     4    5\n",
              "3     6    7\n",
              "4     8    9"
            ]
          },
          "metadata": {},
          "execution_count": 14
        }
      ],
      "source": [
        "df=pd.read_excel('https://docs.google.com/spreadsheets/d/e/2PACX-1vQDcZrqRFph0NOMz4P76bpsrDEIUTyf7dmSJ-4PDSucgizdBmMTwaPwJaGJhmwGxQ/pub?output=xlsx')\n",
        "df"
      ]
    },
    {
      "cell_type": "markdown",
      "metadata": {
        "cell_id": "00028-ba1fbbbd-e5e4-45b9-bc04-2f23383ef2c5",
        "deepnote_cell_type": "markdown",
        "id": "c_bj3IfLxE1Q"
      },
      "source": [
        "### `Series`"
      ]
    },
    {
      "cell_type": "markdown",
      "metadata": {
        "cell_id": "00029-9fbc4d9c-20bd-486c-9b5b-352ee4e526ac",
        "deepnote_cell_type": "markdown",
        "id": "H2LIeZbCgoL5"
      },
      "source": [
        "Each column of the DataFrame is now an augmented dictionary called `Series`, with the indices as the keys of the `Series`"
      ]
    },
    {
      "cell_type": "markdown",
      "metadata": {
        "cell_id": "00030-6e557bb0-a47f-41c8-8790-5ba070bdfb86",
        "deepnote_cell_type": "markdown",
        "id": "klrbIsoGxE1R"
      },
      "source": [
        "A `Pandas` `Series` object can be just initialized from a `Python` dictionary:"
      ]
    },
    {
      "cell_type": "code",
      "execution_count": null,
      "metadata": {
        "cell_id": "00031-15c221e5-71b6-497b-b552-d78f9fa5c5b4",
        "colab": {
          "base_uri": "https://localhost:8080/"
        },
        "deepnote_cell_type": "code",
        "id": "FoTT2jkqgrpR",
        "outputId": "8f3fa901-a74e-4424-b2da-d9d3fa4e46ce"
      },
      "outputs": [
        {
          "output_type": "execute_result",
          "data": {
            "text/plain": [
              "pandas.core.series.Series"
            ]
          },
          "metadata": {},
          "execution_count": 15
        }
      ],
      "source": [
        "type( df['even'] )"
      ]
    },
    {
      "cell_type": "markdown",
      "metadata": {
        "cell_id": "00032-5bcb5be5-166a-4dcc-a31e-92875d2f81a0",
        "deepnote_cell_type": "markdown",
        "id": "Iy8h3XICgz9w"
      },
      "source": [
        "The keys are the index of the `DataFrame`"
      ]
    },
    {
      "cell_type": "code",
      "source": [
        "df.even"
      ],
      "metadata": {
        "colab": {
          "base_uri": "https://localhost:8080/"
        },
        "id": "FC3C4MVLCAkI",
        "outputId": "f568f261-227d-4f01-cc31-418fe38a7070"
      },
      "execution_count": null,
      "outputs": [
        {
          "output_type": "execute_result",
          "data": {
            "text/plain": [
              "0    0\n",
              "1    2\n",
              "2    4\n",
              "3    6\n",
              "4    8\n",
              "Name: even, dtype: int64"
            ]
          },
          "metadata": {},
          "execution_count": 16
        }
      ]
    },
    {
      "cell_type": "code",
      "execution_count": null,
      "metadata": {
        "cell_id": "00033-000b6c1f-036e-43af-84c0-6dd4b76e7b58",
        "colab": {
          "base_uri": "https://localhost:8080/"
        },
        "deepnote_cell_type": "code",
        "id": "BTIxbKvhg6m2",
        "outputId": "e0bc0429-2553-47e0-9bac-7f410e56e01a"
      },
      "outputs": [
        {
          "output_type": "execute_result",
          "data": {
            "text/plain": [
              "8"
            ]
          },
          "metadata": {},
          "execution_count": 17
        }
      ],
      "source": [
        "#df['even']\n",
        "df.even[4]"
      ]
    },
    {
      "cell_type": "markdown",
      "metadata": {
        "cell_id": "00034-86d1564c-0818-420b-b920-2f004cfd5251",
        "deepnote_cell_type": "markdown",
        "id": "7MIKjfslg7Xx"
      },
      "source": [
        "Each row is also a series"
      ]
    },
    {
      "cell_type": "code",
      "execution_count": null,
      "metadata": {
        "cell_id": "00035-efbe4343-8a4f-4efa-ba2d-7f88b7c8e82d",
        "colab": {
          "base_uri": "https://localhost:8080/"
        },
        "deepnote_cell_type": "code",
        "id": "rhiEFGhOg-kx",
        "outputId": "35995d4c-9a4c-44d1-c659-7dd89bd061d7"
      },
      "outputs": [
        {
          "output_type": "execute_result",
          "data": {
            "text/plain": [
              "even    0\n",
              "odd     1\n",
              "Name: 0, dtype: int64"
            ]
          },
          "metadata": {},
          "execution_count": 18
        }
      ],
      "source": [
        "df.loc[0]"
      ]
    },
    {
      "cell_type": "markdown",
      "metadata": {
        "cell_id": "00036-c55a98ad-4590-4466-ab61-9f1a6ea49b83",
        "deepnote_cell_type": "markdown",
        "id": "ki2GW4yohKl5"
      },
      "source": [
        "with keys: `'even'` and `'odd'`"
      ]
    },
    {
      "cell_type": "code",
      "execution_count": null,
      "metadata": {
        "cell_id": "00037-34730af6-4952-4ee0-8375-410cb4392c20",
        "colab": {
          "base_uri": "https://localhost:8080/"
        },
        "deepnote_cell_type": "code",
        "id": "JPLVdBrAhFCJ",
        "outputId": "2a6558b4-2022-4b34-91fd-a14e2e419438"
      },
      "outputs": [
        {
          "output_type": "execute_result",
          "data": {
            "text/plain": [
              "0"
            ]
          },
          "metadata": {},
          "execution_count": 19
        }
      ],
      "source": [
        "df.loc[0]['even']"
      ]
    },
    {
      "cell_type": "markdown",
      "metadata": {
        "cell_id": "00038-3f514cb9-b08b-416d-9711-6654cb2e6caa",
        "deepnote_cell_type": "markdown",
        "id": "8NuiZ2NIhGjx"
      },
      "source": [
        "or attributes `even` and `odd`"
      ]
    },
    {
      "cell_type": "code",
      "execution_count": null,
      "metadata": {
        "cell_id": "00039-cb23d640-f06f-446e-b942-8be58193f511",
        "colab": {
          "base_uri": "https://localhost:8080/"
        },
        "deepnote_cell_type": "code",
        "id": "KmY9Jrk_hZyx",
        "outputId": "52dc7934-5c5d-4c53-f368-4645f7388807"
      },
      "outputs": [
        {
          "output_type": "execute_result",
          "data": {
            "text/plain": [
              "1"
            ]
          },
          "metadata": {},
          "execution_count": 20
        }
      ],
      "source": [
        "df.loc[0].odd"
      ]
    },
    {
      "cell_type": "markdown",
      "metadata": {
        "cell_id": "00040-ac07d690-d4ce-4d3d-af39-c2bb5353c03d",
        "deepnote_cell_type": "markdown",
        "id": "vOxxMKJshhKJ"
      },
      "source": [
        "One specific cell value can be reached with the index and the key:"
      ]
    },
    {
      "cell_type": "code",
      "execution_count": null,
      "metadata": {
        "cell_id": "00041-5ca70a4d-1891-4d24-9d37-f7533cc8e50b",
        "colab": {
          "base_uri": "https://localhost:8080/"
        },
        "deepnote_cell_type": "code",
        "id": "MexLUmZLhph5",
        "outputId": "d78d8312-02d6-4b7c-b33c-ae28ad66ce7f"
      },
      "outputs": [
        {
          "output_type": "execute_result",
          "data": {
            "text/plain": [
              "5"
            ]
          },
          "metadata": {},
          "execution_count": 21
        }
      ],
      "source": [
        "df.loc[2,'odd']"
      ]
    },
    {
      "cell_type": "code",
      "source": [
        "df.iloc[1:3]"
      ],
      "metadata": {
        "colab": {
          "base_uri": "https://localhost:8080/",
          "height": 112
        },
        "id": "AIwCMN_lC2Vj",
        "outputId": "02398ee9-236e-4cbc-b92d-a0e6f118aa3c"
      },
      "execution_count": null,
      "outputs": [
        {
          "output_type": "execute_result",
          "data": {
            "text/html": [
              "<div>\n",
              "<style scoped>\n",
              "    .dataframe tbody tr th:only-of-type {\n",
              "        vertical-align: middle;\n",
              "    }\n",
              "\n",
              "    .dataframe tbody tr th {\n",
              "        vertical-align: top;\n",
              "    }\n",
              "\n",
              "    .dataframe thead th {\n",
              "        text-align: right;\n",
              "    }\n",
              "</style>\n",
              "<table border=\"1\" class=\"dataframe\">\n",
              "  <thead>\n",
              "    <tr style=\"text-align: right;\">\n",
              "      <th></th>\n",
              "      <th>even</th>\n",
              "      <th>odd</th>\n",
              "    </tr>\n",
              "  </thead>\n",
              "  <tbody>\n",
              "    <tr>\n",
              "      <th>1</th>\n",
              "      <td>2</td>\n",
              "      <td>3</td>\n",
              "    </tr>\n",
              "    <tr>\n",
              "      <th>2</th>\n",
              "      <td>4</td>\n",
              "      <td>5</td>\n",
              "    </tr>\n",
              "  </tbody>\n",
              "</table>\n",
              "</div>"
            ],
            "text/plain": [
              "   even  odd\n",
              "1     2    3\n",
              "2     4    5"
            ]
          },
          "metadata": {},
          "execution_count": 23
        }
      ]
    },
    {
      "cell_type": "code",
      "source": [
        "df.at[2,'odd']"
      ],
      "metadata": {
        "colab": {
          "base_uri": "https://localhost:8080/"
        },
        "id": "fh-8oBPsC-tm",
        "outputId": "889aa623-c7e3-4903-bae5-8a04e2e2c0a7"
      },
      "execution_count": null,
      "outputs": [
        {
          "output_type": "execute_result",
          "data": {
            "text/plain": [
              "5"
            ]
          },
          "metadata": {},
          "execution_count": 24
        }
      ]
    },
    {
      "cell_type": "code",
      "execution_count": null,
      "metadata": {
        "cell_id": "00042-e8bd9a00-9b35-45d1-a4a3-72aee9572a2a",
        "deepnote_cell_type": "code",
        "id": "LrhKw9EQxE1T",
        "outputId": "fafffbba-99f2-46ae-e001-94950db8e287",
        "colab": {
          "base_uri": "https://localhost:8080/"
        }
      },
      "outputs": [
        {
          "output_type": "execute_result",
          "data": {
            "text/plain": [
              "Name           Juan Valdez\n",
              "Nacionality       Colombia\n",
              "Age                     23\n",
              "dtype: object"
            ]
          },
          "metadata": {},
          "execution_count": 22
        }
      ],
      "source": [
        "s=pd.Series({'Name':'Juan Valdez','Nacionality':'Colombia','Age':23})\n",
        "s"
      ]
    },
    {
      "cell_type": "markdown",
      "metadata": {
        "cell_id": "00043-63272df4-c2ec-42ce-bd0b-3af6c0ea4924",
        "deepnote_cell_type": "markdown",
        "id": "TzNtVUV6h36n"
      },
      "source": [
        "*Note* that the key name can be used also as an attribute.\n"
      ]
    },
    {
      "cell_type": "code",
      "execution_count": null,
      "metadata": {
        "cell_id": "00044-32d4c04d-d660-48fd-ab2a-b2bd17ce5f27",
        "colab": {
          "base_uri": "https://localhost:8080/"
        },
        "deepnote_cell_type": "code",
        "id": "ip9ADEo7h5vA",
        "outputId": "9ebf0700-c679-431f-c86f-ebede38ee771"
      },
      "outputs": [
        {
          "output_type": "execute_result",
          "data": {
            "text/plain": [
              "0    1\n",
              "1    3\n",
              "2    5\n",
              "3    7\n",
              "4    9\n",
              "Name: odd, dtype: int64"
            ]
          },
          "metadata": {},
          "execution_count": 25
        }
      ],
      "source": [
        "df.odd"
      ]
    },
    {
      "cell_type": "markdown",
      "metadata": {
        "cell_id": "00045-4cee4939-0326-4d1a-b481-409d3a73e6e8",
        "deepnote_cell_type": "markdown",
        "id": "z5JBXWlkh8Z3"
      },
      "source": [
        "> The __power__ of Pandas rely in that their main data structures: `DataFrames` and `Series`, are enriched with many useful methods and attributes.\n",
        "\n",
        "### [Official definition of Pandas](http://pandas.pydata.org/pandas-docs/stable/)\n",
        "\n",
        "> Pandas is a Python package providing __fast__, __flexible__, and __expressive__ _data structures_ designed to make working with “relational” or “labeled” data both easy and intuitive. It aims to be the fundamental high-level building block for doing practical, real world data analysis in Python. Additionally, it _has the broader goal of becoming the most powerful and flexible open source data analysis / manipulation tool_ available in any language. It is already well on its way toward this goal.\n",
        "\n",
        "* \"relational\": the list of data is identified with some unique index (like a `SQL` table)\n",
        "* \"labeled\": the list is identified with a key, like the previous `odd` or `even` keys.\n"
      ]
    },
    {
      "cell_type": "markdown",
      "metadata": {
        "cell_id": "00046-3daea1f4-914e-406e-a0e6-a12582c78615",
        "deepnote_cell_type": "markdown",
        "id": "sDC5HnPOicTg"
      },
      "source": [
        "For example. A double bracket `[[...]]`, can be used to filter data.\n",
        "\n",
        "A row in a two-dimensional `DataFrame` corresponds to `Series` with the same keys of the `DataFrame`, but with single values instead of a list "
      ]
    },
    {
      "cell_type": "code",
      "execution_count": null,
      "metadata": {
        "cell_id": "00047-924b43dc-7ce3-4ff3-8be4-a21ebbbed12e",
        "colab": {
          "base_uri": "https://localhost:8080/",
          "height": 81
        },
        "deepnote_cell_type": "code",
        "id": "UfyqbhjXigZc",
        "outputId": "d2fbd8b3-e372-4449-f8de-cddc44c82ae2"
      },
      "outputs": [
        {
          "output_type": "execute_result",
          "data": {
            "text/html": [
              "<div>\n",
              "<style scoped>\n",
              "    .dataframe tbody tr th:only-of-type {\n",
              "        vertical-align: middle;\n",
              "    }\n",
              "\n",
              "    .dataframe tbody tr th {\n",
              "        vertical-align: top;\n",
              "    }\n",
              "\n",
              "    .dataframe thead th {\n",
              "        text-align: right;\n",
              "    }\n",
              "</style>\n",
              "<table border=\"1\" class=\"dataframe\">\n",
              "  <thead>\n",
              "    <tr style=\"text-align: right;\">\n",
              "      <th></th>\n",
              "      <th>even</th>\n",
              "      <th>odd</th>\n",
              "    </tr>\n",
              "  </thead>\n",
              "  <tbody>\n",
              "    <tr>\n",
              "      <th>0</th>\n",
              "      <td>0</td>\n",
              "      <td>1</td>\n",
              "    </tr>\n",
              "  </tbody>\n",
              "</table>\n",
              "</div>"
            ],
            "text/plain": [
              "   even  odd\n",
              "0     0    1"
            ]
          },
          "metadata": {},
          "execution_count": 26
        }
      ],
      "source": [
        "df.loc[[0]]"
      ]
    },
    {
      "cell_type": "code",
      "source": [
        "df.iloc[0:1]"
      ],
      "metadata": {
        "colab": {
          "base_uri": "https://localhost:8080/",
          "height": 81
        },
        "id": "Z0nuGu9FEWDo",
        "outputId": "2412aca1-1b92-4f89-f3df-b9d472814bed"
      },
      "execution_count": null,
      "outputs": [
        {
          "output_type": "execute_result",
          "data": {
            "text/html": [
              "<div>\n",
              "<style scoped>\n",
              "    .dataframe tbody tr th:only-of-type {\n",
              "        vertical-align: middle;\n",
              "    }\n",
              "\n",
              "    .dataframe tbody tr th {\n",
              "        vertical-align: top;\n",
              "    }\n",
              "\n",
              "    .dataframe thead th {\n",
              "        text-align: right;\n",
              "    }\n",
              "</style>\n",
              "<table border=\"1\" class=\"dataframe\">\n",
              "  <thead>\n",
              "    <tr style=\"text-align: right;\">\n",
              "      <th></th>\n",
              "      <th>even</th>\n",
              "      <th>odd</th>\n",
              "    </tr>\n",
              "  </thead>\n",
              "  <tbody>\n",
              "    <tr>\n",
              "      <th>0</th>\n",
              "      <td>0</td>\n",
              "      <td>1</td>\n",
              "    </tr>\n",
              "  </tbody>\n",
              "</table>\n",
              "</div>"
            ],
            "text/plain": [
              "   even  odd\n",
              "0     0    1"
            ]
          },
          "metadata": {},
          "execution_count": 27
        }
      ]
    },
    {
      "cell_type": "code",
      "execution_count": null,
      "metadata": {
        "cell_id": "00048-e1f9e5dc-6bf0-41d4-b1a3-183192fa678e",
        "colab": {
          "base_uri": "https://localhost:8080/"
        },
        "deepnote_cell_type": "code",
        "id": "-dANKUEoi78M",
        "outputId": "cbeb555a-83e0-45c9-edbf-b0fe7441fad5"
      },
      "outputs": [
        {
          "output_type": "stream",
          "name": "stdout",
          "text": [
            "the row has\n",
            "                  keys: ['even', 'odd'] and values: [0 1]\n",
            "like the dictionay:\n",
            "                      { 'even' : 0, 'odd' : 1 }\n"
          ]
        }
      ],
      "source": [
        "print( 'the row has' )\n",
        "print( '                  keys: {} and values: {}'.format( list( df.loc[[0]].keys() ),df.loc[[0]].values[0]  ) )\n",
        "print( \"like the dictionay:\" )\n",
        "print( \"                      { 'even' : 0, 'odd' : 1 }\")"
      ]
    },
    {
      "cell_type": "markdown",
      "metadata": {
        "cell_id": "00049-04942039-b889-4baa-bb10-d3ac7651fbf7",
        "deepnote_cell_type": "markdown",
        "id": "p7MgQWMijI0W"
      },
      "source": [
        "To filter a column:"
      ]
    },
    {
      "cell_type": "code",
      "execution_count": null,
      "metadata": {
        "cell_id": "00050-98830692-b564-4fec-b41d-c800e7ebed14",
        "colab": {
          "base_uri": "https://localhost:8080/",
          "height": 205
        },
        "deepnote_cell_type": "code",
        "id": "nT_SkKMIjMWY",
        "outputId": "ea361abf-e6cc-4e38-9613-921108730f9d"
      },
      "outputs": [
        {
          "output_type": "execute_result",
          "data": {
            "text/html": [
              "<div>\n",
              "<style scoped>\n",
              "    .dataframe tbody tr th:only-of-type {\n",
              "        vertical-align: middle;\n",
              "    }\n",
              "\n",
              "    .dataframe tbody tr th {\n",
              "        vertical-align: top;\n",
              "    }\n",
              "\n",
              "    .dataframe thead th {\n",
              "        text-align: right;\n",
              "    }\n",
              "</style>\n",
              "<table border=\"1\" class=\"dataframe\">\n",
              "  <thead>\n",
              "    <tr style=\"text-align: right;\">\n",
              "      <th></th>\n",
              "      <th>odd</th>\n",
              "    </tr>\n",
              "  </thead>\n",
              "  <tbody>\n",
              "    <tr>\n",
              "      <th>0</th>\n",
              "      <td>1</td>\n",
              "    </tr>\n",
              "    <tr>\n",
              "      <th>1</th>\n",
              "      <td>3</td>\n",
              "    </tr>\n",
              "    <tr>\n",
              "      <th>2</th>\n",
              "      <td>5</td>\n",
              "    </tr>\n",
              "    <tr>\n",
              "      <th>3</th>\n",
              "      <td>7</td>\n",
              "    </tr>\n",
              "    <tr>\n",
              "      <th>4</th>\n",
              "      <td>9</td>\n",
              "    </tr>\n",
              "  </tbody>\n",
              "</table>\n",
              "</div>"
            ],
            "text/plain": [
              "   odd\n",
              "0    1\n",
              "1    3\n",
              "2    5\n",
              "3    7\n",
              "4    9"
            ]
          },
          "metadata": {},
          "execution_count": 29
        }
      ],
      "source": [
        "df[['odd']]"
      ]
    },
    {
      "cell_type": "markdown",
      "metadata": {
        "cell_id": "00051-6b0ba5a7-4d42-4397-9f24-7d59a6795943",
        "deepnote_cell_type": "markdown",
        "id": "ElU5h9tnxE1Y"
      },
      "source": [
        "### More on `Series`"
      ]
    },
    {
      "cell_type": "markdown",
      "metadata": {
        "cell_id": "00052-58cd1675-c71a-4c71-b957-e25c8a6ab447",
        "deepnote_cell_type": "markdown",
        "id": "pg20NksOjdQW"
      },
      "source": [
        "A `Pandas` `Series` object can be just initialized from a `Python` dictionary:"
      ]
    },
    {
      "cell_type": "code",
      "execution_count": null,
      "metadata": {
        "cell_id": "00053-5881d053-799d-4191-9112-4d49bf041fa0",
        "colab": {
          "base_uri": "https://localhost:8080/"
        },
        "deepnote_cell_type": "code",
        "id": "qjuk_nn0jgFH",
        "outputId": "7268a4ce-d495-49ec-c7a7-5731a5bc56ed"
      },
      "outputs": [
        {
          "output_type": "execute_result",
          "data": {
            "text/plain": [
              "Name           Juan Valdez\n",
              "Nacionality       Colombia\n",
              "Age                     23\n",
              "dtype: object"
            ]
          },
          "metadata": {},
          "execution_count": 30
        }
      ],
      "source": [
        "s=pd.Series({'Name':'Juan Valdez','Nacionality':'Colombia','Age':23})\n",
        "s"
      ]
    },
    {
      "cell_type": "code",
      "execution_count": null,
      "metadata": {
        "cell_id": "00054-997dbe29-5415-4b33-a2c2-320979fb1dcb",
        "deepnote_cell_type": "code",
        "id": "pAtixllExE1Z",
        "outputId": "7395f19a-1224-4522-82fa-57a4277e5f99",
        "colab": {
          "base_uri": "https://localhost:8080/",
          "height": 35
        }
      },
      "outputs": [
        {
          "output_type": "execute_result",
          "data": {
            "application/vnd.google.colaboratory.intrinsic+json": {
              "type": "string"
            },
            "text/plain": [
              "'Juan Valdez'"
            ]
          },
          "metadata": {},
          "execution_count": 31
        }
      ],
      "source": [
        "s['Name']"
      ]
    },
    {
      "cell_type": "markdown",
      "metadata": {
        "cell_id": "00055-c9c53a1e-7e5c-4360-9714-10f042c7ab91",
        "deepnote_cell_type": "markdown",
        "id": "pYb112eqxE1e"
      },
      "source": [
        "but also as containers of name spaces!"
      ]
    },
    {
      "cell_type": "code",
      "execution_count": null,
      "metadata": {
        "cell_id": "00056-c35a9e02-65ee-4089-8af1-da308c7c33c7",
        "deepnote_cell_type": "code",
        "id": "6_GfsFVwxE1f",
        "outputId": "6927f35e-56f5-4239-baa5-d0c7dbf93600",
        "colab": {
          "base_uri": "https://localhost:8080/",
          "height": 35
        }
      },
      "outputs": [
        {
          "output_type": "execute_result",
          "data": {
            "application/vnd.google.colaboratory.intrinsic+json": {
              "type": "string"
            },
            "text/plain": [
              "'Juan Valdez'"
            ]
          },
          "metadata": {},
          "execution_count": 32
        }
      ],
      "source": [
        "s.Name"
      ]
    },
    {
      "cell_type": "markdown",
      "metadata": {
        "cell_id": "00057-25c85b9e-a98a-446e-a2ad-d21be1a344e4",
        "deepnote_cell_type": "markdown",
        "id": "Kab6pfyMxE1k"
      },
      "source": [
        "## `DataFrame` initialization"
      ]
    },
    {
      "cell_type": "markdown",
      "metadata": {
        "cell_id": "00058-c269e732-fb8b-4ffb-8ae1-3df99a8c229d",
        "deepnote_cell_type": "markdown",
        "id": "4zhJVNq1pTTe"
      },
      "source": [
        "### Initization from an existing spreadsheet. \n",
        "This can be locally in your computer o from some downloadable  link"
      ]
    },
    {
      "cell_type": "code",
      "execution_count": null,
      "metadata": {
        "cell_id": "00059-a5e5f2ee-7ef0-4a15-8cf0-1bd63e03a10b",
        "colab": {
          "base_uri": "https://localhost:8080/",
          "height": 112
        },
        "deepnote_cell_type": "code",
        "id": "yM4oF9r-pWsw",
        "outputId": "73ae2848-20f8-4a9d-bf30-72f59335d744"
      },
      "outputs": [
        {
          "output_type": "execute_result",
          "data": {
            "text/html": [
              "<div>\n",
              "<style scoped>\n",
              "    .dataframe tbody tr th:only-of-type {\n",
              "        vertical-align: middle;\n",
              "    }\n",
              "\n",
              "    .dataframe tbody tr th {\n",
              "        vertical-align: top;\n",
              "    }\n",
              "\n",
              "    .dataframe thead th {\n",
              "        text-align: right;\n",
              "    }\n",
              "</style>\n",
              "<table border=\"1\" class=\"dataframe\">\n",
              "  <thead>\n",
              "    <tr style=\"text-align: right;\">\n",
              "      <th></th>\n",
              "      <th>Nombre</th>\n",
              "      <th>Edad</th>\n",
              "      <th>Compañia</th>\n",
              "    </tr>\n",
              "  </thead>\n",
              "  <tbody>\n",
              "    <tr>\n",
              "      <th>0</th>\n",
              "      <td>Juan Valdez</td>\n",
              "      <td>23</td>\n",
              "      <td>Café de Colombia</td>\n",
              "    </tr>\n",
              "    <tr>\n",
              "      <th>1</th>\n",
              "      <td>Álvaro Uribe Vélez</td>\n",
              "      <td>65</td>\n",
              "      <td>Senado de la República</td>\n",
              "    </tr>\n",
              "  </tbody>\n",
              "</table>\n",
              "</div>"
            ],
            "text/plain": [
              "               Nombre  Edad                Compañia\n",
              "0         Juan Valdez    23        Café de Colombia\n",
              "1  Álvaro Uribe Vélez    65  Senado de la República"
            ]
          },
          "metadata": {},
          "execution_count": 33
        }
      ],
      "source": [
        "df=pd.read_excel('http://bit.ly/spreadsheet_xlsx')\n",
        "df"
      ]
    },
    {
      "cell_type": "markdown",
      "metadata": {
        "cell_id": "00060-a55db9c7-27b6-41fe-ba0e-e41a1e68892e",
        "deepnote_cell_type": "markdown",
        "id": "QM4z4MoXpjLj"
      },
      "source": [
        "To make a downloadable link for any spread sheet in Google Drive, follow the sequence:\n",
        "```\n",
        "File → Publish to the web...→ Entire Document → Web page → Microsoft excel (xlsx)\n",
        "```\n",
        "as illustrated in the figure:\n",
        "![GS](https://github.com/restrepo/data-analysis/blob/master/img/img1.png?raw=1)"
      ]
    },
    {
      "cell_type": "code",
      "execution_count": null,
      "metadata": {
        "cell_id": "00061-11ece2bc-94b9-4f70-b2cf-b55cd69a4f87",
        "colab": {
          "base_uri": "https://localhost:8080/",
          "height": 112
        },
        "deepnote_cell_type": "code",
        "id": "29uXQfWjpx66",
        "outputId": "104a11d6-510a-45f5-d1d7-8034c7629e7a"
      },
      "outputs": [
        {
          "output_type": "execute_result",
          "data": {
            "text/html": [
              "<div>\n",
              "<style scoped>\n",
              "    .dataframe tbody tr th:only-of-type {\n",
              "        vertical-align: middle;\n",
              "    }\n",
              "\n",
              "    .dataframe tbody tr th {\n",
              "        vertical-align: top;\n",
              "    }\n",
              "\n",
              "    .dataframe thead th {\n",
              "        text-align: right;\n",
              "    }\n",
              "</style>\n",
              "<table border=\"1\" class=\"dataframe\">\n",
              "  <thead>\n",
              "    <tr style=\"text-align: right;\">\n",
              "      <th></th>\n",
              "      <th>Nombre</th>\n",
              "      <th>Edad</th>\n",
              "      <th>Compañia</th>\n",
              "    </tr>\n",
              "  </thead>\n",
              "  <tbody>\n",
              "    <tr>\n",
              "      <th>0</th>\n",
              "      <td>Juan Valdez</td>\n",
              "      <td>32</td>\n",
              "      <td>Café de Colombia</td>\n",
              "    </tr>\n",
              "    <tr>\n",
              "      <th>1</th>\n",
              "      <td>Álvaro Uribe Vélez</td>\n",
              "      <td>65</td>\n",
              "      <td>Senado de la República</td>\n",
              "    </tr>\n",
              "  </tbody>\n",
              "</table>\n",
              "</div>"
            ],
            "text/plain": [
              "               Nombre  Edad                Compañia\n",
              "0         Juan Valdez    32        Café de Colombia\n",
              "1  Álvaro Uribe Vélez    65  Senado de la República"
            ]
          },
          "metadata": {},
          "execution_count": 34
        }
      ],
      "source": [
        "df.loc[0,'Edad']=32\n",
        "#df.at[0,'Edad']=32\n",
        "df"
      ]
    },
    {
      "cell_type": "markdown",
      "metadata": {
        "cell_id": "00062-5be08fd6-94b8-4c55-b9f1-03c2ea1cef7b",
        "deepnote_cell_type": "markdown",
        "id": "eeZzLpDUpqbS"
      },
      "source": [
        "*After* some modification"
      ]
    },
    {
      "cell_type": "markdown",
      "metadata": {
        "cell_id": "00063-80bd419a-5bb8-42f6-9cf7-7a9508e7ef58",
        "deepnote_cell_type": "markdown",
        "id": "TRjW0Y4Rpv-i"
      },
      "source": [
        "it can be saved again as an `excel file` with the option to not create a column of indices: `index=False`"
      ]
    },
    {
      "cell_type": "markdown",
      "metadata": {
        "cell_id": "00064-5998e0ac-609c-4fba-b96e-53d70aef8ec5",
        "deepnote_cell_type": "markdown",
        "id": "QZUHeScjp6cC"
      },
      "source": [
        "### Intialization from lists and dictionaries"
      ]
    },
    {
      "cell_type": "markdown",
      "metadata": {
        "cell_id": "00065-e142101b-9b27-4ff5-a1c9-c0cdeab5cdb5",
        "deepnote_cell_type": "markdown",
        "id": "5ulKgKBRxE1m"
      },
      "source": [
        "#### Inizialization from Series\n",
        "We start with an empty `DataFrame`:"
      ]
    },
    {
      "cell_type": "markdown",
      "metadata": {
        "cell_id": "00066-77afb247-50a8-4b43-aabb-eb64da7d31e8",
        "deepnote_cell_type": "markdown",
        "id": "J-F92xHmp8v7"
      },
      "source": [
        "Creating Pandas DataFrame from list and dictionaries [offers many alternatives](http://pbpython.com/pandas-list-dict.html)\n",
        "\n",
        "![creating dataframes](http://pbpython.com/images/pandas-dataframe-shadow.png)\n",
        "\n",
        "#### Row oriented way\n",
        "* In addition to the dictionary of lists [already illustrated at the beginning]() that in this case corresponds to:"
      ]
    },
    {
      "cell_type": "code",
      "execution_count": null,
      "metadata": {
        "cell_id": "00067-617526f9-d3a8-459c-8227-c831c7d13ef6",
        "colab": {
          "base_uri": "https://localhost:8080/",
          "height": 112
        },
        "deepnote_cell_type": "code",
        "id": "7IOuJCeMqBRj",
        "outputId": "1602651e-2722-4a08-f1e7-7f99ac02cea9"
      },
      "outputs": [
        {
          "output_type": "execute_result",
          "data": {
            "text/html": [
              "<div>\n",
              "<style scoped>\n",
              "    .dataframe tbody tr th:only-of-type {\n",
              "        vertical-align: middle;\n",
              "    }\n",
              "\n",
              "    .dataframe tbody tr th {\n",
              "        vertical-align: top;\n",
              "    }\n",
              "\n",
              "    .dataframe thead th {\n",
              "        text-align: right;\n",
              "    }\n",
              "</style>\n",
              "<table border=\"1\" class=\"dataframe\">\n",
              "  <thead>\n",
              "    <tr style=\"text-align: right;\">\n",
              "      <th></th>\n",
              "      <th>Nombre</th>\n",
              "      <th>Edad</th>\n",
              "      <th>Compañia</th>\n",
              "    </tr>\n",
              "  </thead>\n",
              "  <tbody>\n",
              "    <tr>\n",
              "      <th>0</th>\n",
              "      <td>Juan Valdez</td>\n",
              "      <td>32</td>\n",
              "      <td>Café de Colombia</td>\n",
              "    </tr>\n",
              "    <tr>\n",
              "      <th>1</th>\n",
              "      <td>Álvaro Uribe Vélez</td>\n",
              "      <td>69</td>\n",
              "      <td>Senado de la República</td>\n",
              "    </tr>\n",
              "  </tbody>\n",
              "</table>\n",
              "</div>"
            ],
            "text/plain": [
              "               Nombre  Edad                Compañia\n",
              "0         Juan Valdez    32        Café de Colombia\n",
              "1  Álvaro Uribe Vélez    69  Senado de la República"
            ]
          },
          "metadata": {},
          "execution_count": 35
        }
      ],
      "source": [
        "pd.DataFrame({'Nombre'   : ['Juan Valdez','Álvaro Uribe Vélez'],\n",
        "              'Edad'     : [32,            69                 ],\n",
        "              'Compañia' : ['Café de Colombia','Senado de la República']})"
      ]
    },
    {
      "cell_type": "markdown",
      "metadata": {
        "cell_id": "00068-f8c10978-b48d-44bd-8207-4330ae7f2280",
        "deepnote_cell_type": "markdown",
        "id": "nJLhj4G4qJZb"
      },
      "source": [
        "* We can obtain the DataFrame from list of items"
      ]
    },
    {
      "cell_type": "markdown",
      "metadata": {
        "cell_id": "00070-3da42af6-028d-4bd9-a93b-3b8266c62501",
        "deepnote_cell_type": "markdown",
        "id": "J6tp94TlqO_S"
      },
      "source": [
        "* We can obtain the `DataFrame` from dictionary"
      ]
    },
    {
      "cell_type": "code",
      "source": [
        "pd.DataFrame.from_items([ [ 'Nombre'  , ['Juan Valdez','Álvaro Uribe Vélez']],\n",
        "                          [ 'Edad'    , [  32,            65               ]],\n",
        "                          [ 'Compañia', ['Café de Colombia','Senado de la República']] ])"
      ],
      "metadata": {
        "id": "ulMkhSeyHJE0"
      },
      "execution_count": null,
      "outputs": []
    },
    {
      "cell_type": "code",
      "execution_count": null,
      "metadata": {
        "cell_id": "00071-6f90ed3f-241c-497b-ac6d-da067e409361",
        "colab": {
          "base_uri": "https://localhost:8080/",
          "height": 112
        },
        "deepnote_cell_type": "code",
        "id": "wx-JJgqIqQAD",
        "outputId": "4b42751a-4538-4f9f-b6e0-189b9db67114"
      },
      "outputs": [
        {
          "output_type": "execute_result",
          "data": {
            "text/html": [
              "<div>\n",
              "<style scoped>\n",
              "    .dataframe tbody tr th:only-of-type {\n",
              "        vertical-align: middle;\n",
              "    }\n",
              "\n",
              "    .dataframe tbody tr th {\n",
              "        vertical-align: top;\n",
              "    }\n",
              "\n",
              "    .dataframe thead th {\n",
              "        text-align: right;\n",
              "    }\n",
              "</style>\n",
              "<table border=\"1\" class=\"dataframe\">\n",
              "  <thead>\n",
              "    <tr style=\"text-align: right;\">\n",
              "      <th></th>\n",
              "      <th>Nombre</th>\n",
              "      <th>Edad</th>\n",
              "      <th>Compañia</th>\n",
              "    </tr>\n",
              "  </thead>\n",
              "  <tbody>\n",
              "    <tr>\n",
              "      <th>0</th>\n",
              "      <td>Juan Valdez</td>\n",
              "      <td>32</td>\n",
              "      <td>Café de Colombia</td>\n",
              "    </tr>\n",
              "    <tr>\n",
              "      <th>1</th>\n",
              "      <td>Álvaro Uribe Vélez</td>\n",
              "      <td>65</td>\n",
              "      <td>Senado de la República</td>\n",
              "    </tr>\n",
              "  </tbody>\n",
              "</table>\n",
              "</div>"
            ],
            "text/plain": [
              "               Nombre  Edad                Compañia\n",
              "0         Juan Valdez    32        Café de Colombia\n",
              "1  Álvaro Uribe Vélez    65  Senado de la República"
            ]
          },
          "metadata": {},
          "execution_count": 37
        }
      ],
      "source": [
        "pd.DataFrame( [{'Nombre':'Juan Valdez',        'Edad': 32   ,'Compañia':'Café de Colombia'      },\n",
        "              {'Nombre':'Álvaro Uribe Vélez', 'Edad': 65   ,'Compañia':'Senado de la República'}]\n",
        "            )"
      ]
    },
    {
      "cell_type": "code",
      "execution_count": null,
      "metadata": {
        "cell_id": "00072-5dca2e57-28d1-4dee-8a8a-d451188f3084",
        "deepnote_cell_type": "code",
        "id": "jPsRspsXxE1n",
        "outputId": "0b86e4d6-3755-41d9-9126-c4cffe1ba304",
        "colab": {
          "base_uri": "https://localhost:8080/",
          "height": 32
        }
      },
      "outputs": [
        {
          "output_type": "execute_result",
          "data": {
            "text/html": [
              "<div>\n",
              "<style scoped>\n",
              "    .dataframe tbody tr th:only-of-type {\n",
              "        vertical-align: middle;\n",
              "    }\n",
              "\n",
              "    .dataframe tbody tr th {\n",
              "        vertical-align: top;\n",
              "    }\n",
              "\n",
              "    .dataframe thead th {\n",
              "        text-align: right;\n",
              "    }\n",
              "</style>\n",
              "<table border=\"1\" class=\"dataframe\">\n",
              "  <thead>\n",
              "    <tr style=\"text-align: right;\">\n",
              "      <th></th>\n",
              "    </tr>\n",
              "  </thead>\n",
              "  <tbody>\n",
              "  </tbody>\n",
              "</table>\n",
              "</div>"
            ],
            "text/plain": [
              "Empty DataFrame\n",
              "Columns: []\n",
              "Index: []"
            ]
          },
          "metadata": {},
          "execution_count": 64
        }
      ],
      "source": [
        "df=pd.DataFrame()\n",
        "df"
      ]
    },
    {
      "cell_type": "markdown",
      "metadata": {
        "cell_id": "00073-0702057c-6782-455f-8481-441f2132c1b1",
        "deepnote_cell_type": "markdown",
        "id": "_ylhD2zjqdby"
      },
      "source": [
        "### Initialization from sequential rows as  Series\n",
        "We start with an empty `DataFrame`:"
      ]
    },
    {
      "cell_type": "code",
      "execution_count": null,
      "metadata": {
        "cell_id": "00074-7ee7b66f-0813-4412-bf3d-2a26f5804cf6",
        "colab": {
          "base_uri": "https://localhost:8080/"
        },
        "deepnote_cell_type": "code",
        "id": "r6V0qilXqxBB",
        "outputId": "4108956f-ffd7-4d17-e29e-985254ceff49"
      },
      "outputs": [
        {
          "output_type": "execute_result",
          "data": {
            "text/plain": [
              "True"
            ]
          },
          "metadata": {},
          "execution_count": 65
        }
      ],
      "source": [
        "df=pd.DataFrame()\n",
        "df.empty"
      ]
    },
    {
      "cell_type": "markdown",
      "metadata": {
        "cell_id": "00075-51105264-c39a-4fbe-8543-f3b15fca495d",
        "deepnote_cell_type": "markdown",
        "id": "f0OJapjvxE1q"
      },
      "source": [
        "We can append a dictionary (or Series) as a row of the `DataFrame`, provided that we always use the option: `ignore_index=True`"
      ]
    },
    {
      "cell_type": "code",
      "execution_count": null,
      "metadata": {
        "cell_id": "00076-422876c7-62e9-4f28-8ee0-a0b182cd2b02",
        "colab": {
          "base_uri": "https://localhost:8080/",
          "height": 81
        },
        "deepnote_cell_type": "code",
        "id": "AgR5uPbxrA6q",
        "outputId": "7e2d7b11-5b10-44cf-fef3-98c457ce33d2"
      },
      "outputs": [
        {
          "output_type": "execute_result",
          "data": {
            "text/html": [
              "<div>\n",
              "<style scoped>\n",
              "    .dataframe tbody tr th:only-of-type {\n",
              "        vertical-align: middle;\n",
              "    }\n",
              "\n",
              "    .dataframe tbody tr th {\n",
              "        vertical-align: top;\n",
              "    }\n",
              "\n",
              "    .dataframe thead th {\n",
              "        text-align: right;\n",
              "    }\n",
              "</style>\n",
              "<table border=\"1\" class=\"dataframe\">\n",
              "  <thead>\n",
              "    <tr style=\"text-align: right;\">\n",
              "      <th></th>\n",
              "      <th>Age</th>\n",
              "      <th>Nacionality</th>\n",
              "      <th>Name</th>\n",
              "    </tr>\n",
              "  </thead>\n",
              "  <tbody>\n",
              "    <tr>\n",
              "      <th>0</th>\n",
              "      <td>23.0</td>\n",
              "      <td>Colombia</td>\n",
              "      <td>Juan Valdez</td>\n",
              "    </tr>\n",
              "  </tbody>\n",
              "</table>\n",
              "</div>"
            ],
            "text/plain": [
              "    Age Nacionality         Name\n",
              "0  23.0    Colombia  Juan Valdez"
            ]
          },
          "metadata": {},
          "execution_count": 66
        }
      ],
      "source": [
        "d={'Name':'Juan Valdez','Nacionality':'Colombia','Age':23}\n",
        "df=df.append(d,ignore_index=True)\n",
        "df"
      ]
    },
    {
      "cell_type": "markdown",
      "metadata": {
        "cell_id": "00077-f422375c-a5ad-46f7-b886-82ee1d38274a",
        "deepnote_cell_type": "markdown",
        "id": "32Oh_stDxE1w"
      },
      "source": [
        "We can fix the type of data of the `'Age'` column"
      ]
    },
    {
      "cell_type": "code",
      "execution_count": null,
      "metadata": {
        "cell_id": "00078-d702437e-64eb-4fbd-aafb-649ed8015050",
        "colab": {
          "base_uri": "https://localhost:8080/"
        },
        "deepnote_cell_type": "code",
        "id": "-Jk5bSRGxE1y",
        "outputId": "b5696b84-58b1-4266-b798-b6611a7a586e"
      },
      "outputs": [
        {
          "output_type": "execute_result",
          "data": {
            "text/plain": [
              "numpy.float64"
            ]
          },
          "metadata": {},
          "execution_count": 67
        }
      ],
      "source": [
        "type(df.Age[0])"
      ]
    },
    {
      "cell_type": "code",
      "execution_count": null,
      "metadata": {
        "cell_id": "00079-d433979a-54d3-44f9-9a56-068126712852",
        "colab": {
          "base_uri": "https://localhost:8080/",
          "height": 81
        },
        "deepnote_cell_type": "code",
        "id": "vl9RKEBXxE12",
        "outputId": "a643f583-2996-44b4-ddc0-f0e56814575e"
      },
      "outputs": [
        {
          "output_type": "execute_result",
          "data": {
            "text/html": [
              "<div>\n",
              "<style scoped>\n",
              "    .dataframe tbody tr th:only-of-type {\n",
              "        vertical-align: middle;\n",
              "    }\n",
              "\n",
              "    .dataframe tbody tr th {\n",
              "        vertical-align: top;\n",
              "    }\n",
              "\n",
              "    .dataframe thead th {\n",
              "        text-align: right;\n",
              "    }\n",
              "</style>\n",
              "<table border=\"1\" class=\"dataframe\">\n",
              "  <thead>\n",
              "    <tr style=\"text-align: right;\">\n",
              "      <th></th>\n",
              "      <th>Age</th>\n",
              "      <th>Nacionality</th>\n",
              "      <th>Name</th>\n",
              "    </tr>\n",
              "  </thead>\n",
              "  <tbody>\n",
              "    <tr>\n",
              "      <th>0</th>\n",
              "      <td>23</td>\n",
              "      <td>Colombia</td>\n",
              "      <td>Juan Valdez</td>\n",
              "    </tr>\n",
              "  </tbody>\n",
              "</table>\n",
              "</div>"
            ],
            "text/plain": [
              "   Age Nacionality         Name\n",
              "0   23    Colombia  Juan Valdez"
            ]
          },
          "metadata": {},
          "execution_count": 68
        }
      ],
      "source": [
        "df['Age']=df.Age.astype(int)\n",
        "df"
      ]
    },
    {
      "cell_type": "markdown",
      "metadata": {
        "cell_id": "00080-d1b64085-e8ea-45d1-ac27-443875bd044b",
        "deepnote_cell_type": "markdown",
        "id": "npH4wLrNxE17"
      },
      "source": [
        "To add a second file we build another `dict`"
      ]
    },
    {
      "cell_type": "code",
      "execution_count": null,
      "metadata": {
        "cell_id": "00081-3c0893fe-aed8-4d42-8f05-5ce9bee9418f",
        "colab": {
          "base_uri": "https://localhost:8080/"
        },
        "deepnote_cell_type": "code",
        "id": "nTwRmub3xE18",
        "outputId": "4b7f297a-49f2-46b0-9f61-c96744148552"
      },
      "outputs": [
        {
          "name": "stdout",
          "output_type": "stream",
          "text": [
            "Name:\n",
            "Anny Diossa\n",
            "Nacionality:\n",
            "España\n",
            "Age:\n",
            "25\n",
            "Company:\n",
            "UdeA\n"
          ]
        }
      ],
      "source": [
        "d={}\n",
        "for k in ['Name','Nacionality','Age','Company']:\n",
        "    var=input('{}:\\n'.format(k))\n",
        "    d[k]=var"
      ]
    },
    {
      "cell_type": "code",
      "execution_count": null,
      "metadata": {
        "id": "ucX3WSkN7S8e",
        "outputId": "697b395a-3810-4f29-c942-9844916ca5c0",
        "colab": {
          "base_uri": "https://localhost:8080/"
        }
      },
      "outputs": [
        {
          "output_type": "execute_result",
          "data": {
            "text/plain": [
              "{'Age': '25',\n",
              " 'Company': 'UdeA',\n",
              " 'Nacionality': 'España',\n",
              " 'Name': 'Anny Diossa'}"
            ]
          },
          "metadata": {},
          "execution_count": 71
        }
      ],
      "source": [
        "d"
      ]
    },
    {
      "cell_type": "code",
      "execution_count": null,
      "metadata": {
        "id": "bv9xtscR7S8e",
        "outputId": "fe458059-d677-44fe-9587-858e6f08ff84",
        "colab": {
          "base_uri": "https://localhost:8080/",
          "height": 112
        }
      },
      "outputs": [
        {
          "output_type": "execute_result",
          "data": {
            "text/html": [
              "<div>\n",
              "<style scoped>\n",
              "    .dataframe tbody tr th:only-of-type {\n",
              "        vertical-align: middle;\n",
              "    }\n",
              "\n",
              "    .dataframe tbody tr th {\n",
              "        vertical-align: top;\n",
              "    }\n",
              "\n",
              "    .dataframe thead th {\n",
              "        text-align: right;\n",
              "    }\n",
              "</style>\n",
              "<table border=\"1\" class=\"dataframe\">\n",
              "  <thead>\n",
              "    <tr style=\"text-align: right;\">\n",
              "      <th></th>\n",
              "      <th>Age</th>\n",
              "      <th>Nacionality</th>\n",
              "      <th>Name</th>\n",
              "      <th>Company</th>\n",
              "    </tr>\n",
              "  </thead>\n",
              "  <tbody>\n",
              "    <tr>\n",
              "      <th>0</th>\n",
              "      <td>23</td>\n",
              "      <td>Colombia</td>\n",
              "      <td>Juan Valdez</td>\n",
              "      <td>NaN</td>\n",
              "    </tr>\n",
              "    <tr>\n",
              "      <th>1</th>\n",
              "      <td>25</td>\n",
              "      <td>España</td>\n",
              "      <td>Anny Diossa</td>\n",
              "      <td>UdeA</td>\n",
              "    </tr>\n",
              "  </tbody>\n",
              "</table>\n",
              "</div>"
            ],
            "text/plain": [
              "  Age Nacionality         Name Company\n",
              "0  23    Colombia  Juan Valdez     NaN\n",
              "1  25      España  Anny Diossa    UdeA"
            ]
          },
          "metadata": {},
          "execution_count": 72
        }
      ],
      "source": [
        "df.append(d,ignore_index=True)"
      ]
    },
    {
      "cell_type": "markdown",
      "metadata": {
        "cell_id": "00082-21c2691e-ed50-43c3-a0a4-3cf199aa0775",
        "deepnote_cell_type": "markdown",
        "id": "t8Xzsb0qxE1-"
      },
      "source": [
        "#### Exercises\n",
        "* Display the resulting `Series` in the screen:"
      ]
    },
    {
      "cell_type": "code",
      "execution_count": null,
      "metadata": {
        "cell_id": "00083-c166b04e-79e9-40ea-ae48-49965f6a1ca1",
        "deepnote_cell_type": "code",
        "id": "KJhLVs_37S8f",
        "colab": {
          "base_uri": "https://localhost:8080/"
        },
        "outputId": "f7762066-d7ba-4a22-f0a1-8e02b31c42cd"
      },
      "outputs": [
        {
          "output_type": "execute_result",
          "data": {
            "text/plain": [
              "Name           Anny Diossa\n",
              "Nacionality         España\n",
              "Age                     25\n",
              "Company               UdeA\n",
              "dtype: object"
            ]
          },
          "metadata": {},
          "execution_count": 73
        }
      ],
      "source": [
        "pd.Series(d)"
      ]
    },
    {
      "cell_type": "markdown",
      "metadata": {
        "cell_id": "00084-b681d4fc-73d5-46ee-bd43-bc82de198660",
        "deepnote_cell_type": "markdown",
        "id": "sSPUdkvtxE2C"
      },
      "source": [
        "* Append to the previous `DataFrame` and visualize it:"
      ]
    },
    {
      "cell_type": "code",
      "execution_count": null,
      "metadata": {
        "cell_id": "00085-2a4e0b9c-c719-41d5-95bc-f277953e179c",
        "deepnote_cell_type": "code",
        "id": "vRRypFa_xE2D",
        "outputId": "a7d416be-c4d2-4363-9ae2-081e455d40b7",
        "colab": {
          "base_uri": "https://localhost:8080/",
          "height": 112
        }
      },
      "outputs": [
        {
          "output_type": "execute_result",
          "data": {
            "text/html": [
              "<div>\n",
              "<style scoped>\n",
              "    .dataframe tbody tr th:only-of-type {\n",
              "        vertical-align: middle;\n",
              "    }\n",
              "\n",
              "    .dataframe tbody tr th {\n",
              "        vertical-align: top;\n",
              "    }\n",
              "\n",
              "    .dataframe thead th {\n",
              "        text-align: right;\n",
              "    }\n",
              "</style>\n",
              "<table border=\"1\" class=\"dataframe\">\n",
              "  <thead>\n",
              "    <tr style=\"text-align: right;\">\n",
              "      <th></th>\n",
              "      <th>Age</th>\n",
              "      <th>Nacionality</th>\n",
              "      <th>Name</th>\n",
              "      <th>Company</th>\n",
              "    </tr>\n",
              "  </thead>\n",
              "  <tbody>\n",
              "    <tr>\n",
              "      <th>0</th>\n",
              "      <td>23</td>\n",
              "      <td>Colombia</td>\n",
              "      <td>Juan Valdez</td>\n",
              "      <td>NaN</td>\n",
              "    </tr>\n",
              "    <tr>\n",
              "      <th>1</th>\n",
              "      <td>25</td>\n",
              "      <td>España</td>\n",
              "      <td>Anny Diossa</td>\n",
              "      <td>UdeA</td>\n",
              "    </tr>\n",
              "  </tbody>\n",
              "</table>\n",
              "</div>"
            ],
            "text/plain": [
              "  Age Nacionality         Name Company\n",
              "0  23    Colombia  Juan Valdez     NaN\n",
              "1  25      España  Anny Diossa    UdeA"
            ]
          },
          "metadata": {},
          "execution_count": 74
        }
      ],
      "source": [
        "df=df.append(d,ignore_index=True)\n",
        "df"
      ]
    },
    {
      "cell_type": "markdown",
      "metadata": {
        "cell_id": "00086-e7522978-7107-452d-b697-fcdf7b8f948b",
        "deepnote_cell_type": "markdown",
        "id": "wLUED3NWxE2G"
      },
      "source": [
        "* Fill NaN with empty strings"
      ]
    },
    {
      "cell_type": "code",
      "execution_count": null,
      "metadata": {
        "cell_id": "00087-97603f43-2420-46bf-8d24-182840f9b478",
        "deepnote_cell_type": "code",
        "id": "28rp4v3BxE2I"
      },
      "outputs": [],
      "source": [
        "df=df.fillna('')"
      ]
    },
    {
      "cell_type": "code",
      "execution_count": null,
      "metadata": {
        "id": "jICDQiA67S8g",
        "outputId": "66a9d9b4-c393-4b17-f606-435ce90025bb",
        "colab": {
          "base_uri": "https://localhost:8080/",
          "height": 112
        }
      },
      "outputs": [
        {
          "output_type": "execute_result",
          "data": {
            "text/html": [
              "<div>\n",
              "<style scoped>\n",
              "    .dataframe tbody tr th:only-of-type {\n",
              "        vertical-align: middle;\n",
              "    }\n",
              "\n",
              "    .dataframe tbody tr th {\n",
              "        vertical-align: top;\n",
              "    }\n",
              "\n",
              "    .dataframe thead th {\n",
              "        text-align: right;\n",
              "    }\n",
              "</style>\n",
              "<table border=\"1\" class=\"dataframe\">\n",
              "  <thead>\n",
              "    <tr style=\"text-align: right;\">\n",
              "      <th></th>\n",
              "      <th>Age</th>\n",
              "      <th>Nacionality</th>\n",
              "      <th>Name</th>\n",
              "      <th>Company</th>\n",
              "    </tr>\n",
              "  </thead>\n",
              "  <tbody>\n",
              "    <tr>\n",
              "      <th>0</th>\n",
              "      <td>23</td>\n",
              "      <td>Colombia</td>\n",
              "      <td>Juan Valdez</td>\n",
              "      <td></td>\n",
              "    </tr>\n",
              "    <tr>\n",
              "      <th>1</th>\n",
              "      <td>25</td>\n",
              "      <td>España</td>\n",
              "      <td>Anny Diossa</td>\n",
              "      <td>UdeA</td>\n",
              "    </tr>\n",
              "  </tbody>\n",
              "</table>\n",
              "</div>"
            ],
            "text/plain": [
              "  Age Nacionality         Name Company\n",
              "0  23    Colombia  Juan Valdez        \n",
              "1  25      España  Anny Diossa    UdeA"
            ]
          },
          "metadata": {},
          "execution_count": 76
        }
      ],
      "source": [
        "df"
      ]
    },
    {
      "cell_type": "markdown",
      "metadata": {
        "cell_id": "00088-e2c6349b-dfe0-4da6-b6fd-37d2abcfd9a8",
        "deepnote_cell_type": "markdown",
        "id": "K3feFAfYxE2K"
      },
      "source": [
        "* Save `Pandas` `DataFrame` as an Excel file"
      ]
    },
    {
      "cell_type": "code",
      "execution_count": null,
      "metadata": {
        "cell_id": "00089-b9551acb-cdbd-4f31-a95b-24a0070287ea",
        "deepnote_cell_type": "code",
        "id": "fdxuA_FAxE2L"
      },
      "outputs": [],
      "source": [
        "df.to_excel('prof.xlsx',index=False)"
      ]
    },
    {
      "cell_type": "markdown",
      "metadata": {
        "cell_id": "00090-b34d21ca-a22d-42e0-9f5f-0a770830fedd",
        "deepnote_cell_type": "markdown",
        "id": "evWZKwEPxE2O"
      },
      "source": [
        "* Load pandas DataFrame from the saved file in Excel"
      ]
    },
    {
      "cell_type": "code",
      "execution_count": null,
      "metadata": {
        "cell_id": "00091-23d2a6aa-c3bf-4b2c-9b78-7ebed3ae8ec6",
        "deepnote_cell_type": "code",
        "id": "xl7KUNVCxE2P",
        "outputId": "4a644212-2060-46cd-b7ac-3779675b1f39",
        "colab": {
          "base_uri": "https://localhost:8080/",
          "height": 112
        }
      },
      "outputs": [
        {
          "output_type": "execute_result",
          "data": {
            "text/html": [
              "<div>\n",
              "<style scoped>\n",
              "    .dataframe tbody tr th:only-of-type {\n",
              "        vertical-align: middle;\n",
              "    }\n",
              "\n",
              "    .dataframe tbody tr th {\n",
              "        vertical-align: top;\n",
              "    }\n",
              "\n",
              "    .dataframe thead th {\n",
              "        text-align: right;\n",
              "    }\n",
              "</style>\n",
              "<table border=\"1\" class=\"dataframe\">\n",
              "  <thead>\n",
              "    <tr style=\"text-align: right;\">\n",
              "      <th></th>\n",
              "      <th>Age</th>\n",
              "      <th>Nacionality</th>\n",
              "      <th>Name</th>\n",
              "      <th>Company</th>\n",
              "    </tr>\n",
              "  </thead>\n",
              "  <tbody>\n",
              "    <tr>\n",
              "      <th>0</th>\n",
              "      <td>23</td>\n",
              "      <td>Colombia</td>\n",
              "      <td>Juan Valdez</td>\n",
              "      <td>NaN</td>\n",
              "    </tr>\n",
              "    <tr>\n",
              "      <th>1</th>\n",
              "      <td>25</td>\n",
              "      <td>España</td>\n",
              "      <td>Anny Diossa</td>\n",
              "      <td>UdeA</td>\n",
              "    </tr>\n",
              "  </tbody>\n",
              "</table>\n",
              "</div>"
            ],
            "text/plain": [
              "   Age Nacionality         Name Company\n",
              "0   23    Colombia  Juan Valdez     NaN\n",
              "1   25      España  Anny Diossa    UdeA"
            ]
          },
          "metadata": {},
          "execution_count": 78
        }
      ],
      "source": [
        "pd.read_excel('prof.xlsx')"
      ]
    },
    {
      "cell_type": "markdown",
      "metadata": {
        "cell_id": "00092-bbceab54-8e2f-492b-aee9-374786bc9b58",
        "deepnote_cell_type": "markdown",
        "id": "pAZISlqKxE2T"
      },
      "source": [
        "### Common operations upon `DataFrames`\n",
        "See https://github.com/restrepo/PythonTipsAndTricks"
      ]
    },
    {
      "cell_type": "markdown",
      "metadata": {
        "cell_id": "00093-9da49b6e-ecfd-44e1-a27d-e131f56af8b1",
        "deepnote_cell_type": "markdown",
        "id": "IBgQ8cojxE2U"
      },
      "source": [
        "* __To fill a specific cell__"
      ]
    },
    {
      "cell_type": "code",
      "execution_count": null,
      "metadata": {
        "cell_id": "00094-77f3f284-c87f-4cb4-b305-bfa683fe9c52",
        "deepnote_cell_type": "code",
        "id": "a00HZIQhxE2V"
      },
      "outputs": [],
      "source": [
        "df.at[0,'Company']='Federación de Caferos'"
      ]
    },
    {
      "cell_type": "code",
      "execution_count": null,
      "metadata": {
        "cell_id": "00095-b9c2aeff-851c-4719-bb97-908e96da3f07",
        "deepnote_cell_type": "code",
        "id": "g6f2psm3xE2X",
        "outputId": "b208ea56-5136-4251-f1ed-aa9974eba95d",
        "colab": {
          "base_uri": "https://localhost:8080/",
          "height": 112
        }
      },
      "outputs": [
        {
          "output_type": "execute_result",
          "data": {
            "text/html": [
              "<div>\n",
              "<style scoped>\n",
              "    .dataframe tbody tr th:only-of-type {\n",
              "        vertical-align: middle;\n",
              "    }\n",
              "\n",
              "    .dataframe tbody tr th {\n",
              "        vertical-align: top;\n",
              "    }\n",
              "\n",
              "    .dataframe thead th {\n",
              "        text-align: right;\n",
              "    }\n",
              "</style>\n",
              "<table border=\"1\" class=\"dataframe\">\n",
              "  <thead>\n",
              "    <tr style=\"text-align: right;\">\n",
              "      <th></th>\n",
              "      <th>Age</th>\n",
              "      <th>Nacionality</th>\n",
              "      <th>Name</th>\n",
              "      <th>Company</th>\n",
              "    </tr>\n",
              "  </thead>\n",
              "  <tbody>\n",
              "    <tr>\n",
              "      <th>0</th>\n",
              "      <td>23</td>\n",
              "      <td>Colombia</td>\n",
              "      <td>Juan Valdez</td>\n",
              "      <td>Federación de Caferos</td>\n",
              "    </tr>\n",
              "    <tr>\n",
              "      <th>1</th>\n",
              "      <td>25</td>\n",
              "      <td>España</td>\n",
              "      <td>Anny Diossa</td>\n",
              "      <td>UdeA</td>\n",
              "    </tr>\n",
              "  </tbody>\n",
              "</table>\n",
              "</div>"
            ],
            "text/plain": [
              "  Age Nacionality         Name                Company\n",
              "0  23    Colombia  Juan Valdez  Federación de Caferos\n",
              "1  25      España  Anny Diossa                   UdeA"
            ]
          },
          "metadata": {},
          "execution_count": 80
        }
      ],
      "source": [
        "df"
      ]
    },
    {
      "cell_type": "markdown",
      "metadata": {
        "cell_id": "00096-34dbb8c6-f80d-4fdd-8b56-bd0fd1fdcd9d",
        "deepnote_cell_type": "markdown",
        "id": "rzAKwxQhxE2a"
      },
      "source": [
        "## Other formats to saving and read files\n",
        "We are interested in format which keeps the tags of the columns, like `'Nombre', 'Edad', 'Compañia'`"
      ]
    },
    {
      "cell_type": "code",
      "execution_count": null,
      "metadata": {
        "cell_id": "00097-01b06192-00aa-4602-97bb-b72642398c6b",
        "colab": {
          "base_uri": "https://localhost:8080/",
          "height": 112
        },
        "deepnote_cell_type": "code",
        "id": "CbgkbfTKvIkO",
        "outputId": "2f2300fc-b6f4-403c-eb59-fcfd8a621b4b"
      },
      "outputs": [
        {
          "output_type": "execute_result",
          "data": {
            "text/html": [
              "<div>\n",
              "<style scoped>\n",
              "    .dataframe tbody tr th:only-of-type {\n",
              "        vertical-align: middle;\n",
              "    }\n",
              "\n",
              "    .dataframe tbody tr th {\n",
              "        vertical-align: top;\n",
              "    }\n",
              "\n",
              "    .dataframe thead th {\n",
              "        text-align: right;\n",
              "    }\n",
              "</style>\n",
              "<table border=\"1\" class=\"dataframe\">\n",
              "  <thead>\n",
              "    <tr style=\"text-align: right;\">\n",
              "      <th></th>\n",
              "      <th>Nombre</th>\n",
              "      <th>Edad</th>\n",
              "      <th>Compañia</th>\n",
              "    </tr>\n",
              "  </thead>\n",
              "  <tbody>\n",
              "    <tr>\n",
              "      <th>0</th>\n",
              "      <td>Juan Valdez</td>\n",
              "      <td>23</td>\n",
              "      <td>Café de Colombia</td>\n",
              "    </tr>\n",
              "    <tr>\n",
              "      <th>1</th>\n",
              "      <td>Álvaro Uribe Vélez</td>\n",
              "      <td>65</td>\n",
              "      <td>Senado de la República</td>\n",
              "    </tr>\n",
              "  </tbody>\n",
              "</table>\n",
              "</div>"
            ],
            "text/plain": [
              "               Nombre  Edad                Compañia\n",
              "0         Juan Valdez    23        Café de Colombia\n",
              "1  Álvaro Uribe Vélez    65  Senado de la República"
            ]
          },
          "metadata": {},
          "execution_count": 81
        }
      ],
      "source": [
        "df=pd.read_excel('http://bit.ly/spreadsheet_xlsx')\n",
        "df"
      ]
    },
    {
      "cell_type": "code",
      "execution_count": null,
      "metadata": {
        "cell_id": "00098-ac5ccf23-1ed0-4827-8156-2f01ab1e3810",
        "deepnote_cell_type": "code",
        "id": "mMAosmdd7S8i",
        "outputId": "4e197c4a-a0b4-4414-845d-70bdd9a1186a",
        "colab": {
          "base_uri": "https://localhost:8080/"
        }
      },
      "outputs": [
        {
          "output_type": "execute_result",
          "data": {
            "text/plain": [
              "numpy.int64"
            ]
          },
          "metadata": {},
          "execution_count": 82
        }
      ],
      "source": [
        "type(df.loc[0,'Edad'])"
      ]
    },
    {
      "cell_type": "markdown",
      "metadata": {
        "cell_id": "00099-9ad55ba4-a969-4bc8-b406-22cd968a0805",
        "deepnote_cell_type": "markdown",
        "id": "w8hdIGOvu3Ee"
      },
      "source": [
        "#### CSV"
      ]
    },
    {
      "cell_type": "code",
      "execution_count": null,
      "metadata": {
        "cell_id": "00100-fe200388-2002-436a-b819-745bad6fcfe0",
        "deepnote_cell_type": "code",
        "id": "90PSoWzUxE2b"
      },
      "outputs": [],
      "source": [
        "df.to_csv('hoja.csv',index=False)"
      ]
    },
    {
      "cell_type": "markdown",
      "metadata": {
        "cell_id": "00101-cc4612dc-38b1-4330-b264-1d48c027fbb0",
        "deepnote_cell_type": "markdown",
        "id": "ViJ62k6BxfOm"
      },
      "source": [
        "We can check the explicit file format with"
      ]
    },
    {
      "cell_type": "code",
      "execution_count": null,
      "metadata": {
        "cell_id": "00102-5e45759b-2a49-45f9-bf6f-8989d7b9f3a9",
        "deepnote_cell_type": "code",
        "id": "3r1RgwQ47S8j",
        "outputId": "f3225273-2751-4277-9cba-9ee68cc760a3",
        "colab": {
          "base_uri": "https://localhost:8080/",
          "height": 35
        }
      },
      "outputs": [
        {
          "output_type": "execute_result",
          "data": {
            "application/vnd.google.colaboratory.intrinsic+json": {
              "type": "string"
            },
            "text/plain": [
              "'Nombre,Edad,Compañia\\nJuan Valdez,23,Café de Colombia\\nÁlvaro Uribe Vélez,65,Senado de la República\\n'"
            ]
          },
          "metadata": {},
          "execution_count": 84
        }
      ],
      "source": [
        "df.to_csv(None,index=False)"
      ]
    },
    {
      "cell_type": "code",
      "execution_count": null,
      "metadata": {
        "cell_id": "00103-996b76be-2928-47dd-86d0-410595893d67",
        "colab": {
          "base_uri": "https://localhost:8080/"
        },
        "deepnote_cell_type": "code",
        "id": "fGmx6K8SxRB1",
        "outputId": "0102ae89-0256-457b-d2dd-efca962cb433"
      },
      "outputs": [
        {
          "output_type": "stream",
          "name": "stdout",
          "text": [
            "Nombre,Edad,Compañia\n",
            "Juan Valdez,23,Café de Colombia\n",
            "Álvaro Uribe Vélez,65,Senado de la República\n",
            "\n"
          ]
        }
      ],
      "source": [
        "print(df.to_csv(None,index=False))"
      ]
    },
    {
      "cell_type": "code",
      "execution_count": null,
      "metadata": {
        "cell_id": "00104-fbced017-69ab-46a2-9804-6fff4a406112",
        "deepnote_cell_type": "code",
        "id": "fyAEagxE7S8j",
        "outputId": "40f9cd72-8c21-4d10-a5b4-9634e16dea24",
        "colab": {
          "base_uri": "https://localhost:8080/",
          "height": 112
        }
      },
      "outputs": [
        {
          "output_type": "execute_result",
          "data": {
            "text/html": [
              "<div>\n",
              "<style scoped>\n",
              "    .dataframe tbody tr th:only-of-type {\n",
              "        vertical-align: middle;\n",
              "    }\n",
              "\n",
              "    .dataframe tbody tr th {\n",
              "        vertical-align: top;\n",
              "    }\n",
              "\n",
              "    .dataframe thead th {\n",
              "        text-align: right;\n",
              "    }\n",
              "</style>\n",
              "<table border=\"1\" class=\"dataframe\">\n",
              "  <thead>\n",
              "    <tr style=\"text-align: right;\">\n",
              "      <th></th>\n",
              "      <th>Nombre</th>\n",
              "      <th>Edad</th>\n",
              "      <th>Compañia</th>\n",
              "    </tr>\n",
              "  </thead>\n",
              "  <tbody>\n",
              "    <tr>\n",
              "      <th>0</th>\n",
              "      <td>Juan Valdez</td>\n",
              "      <td>23</td>\n",
              "      <td>Café de Colombia</td>\n",
              "    </tr>\n",
              "    <tr>\n",
              "      <th>1</th>\n",
              "      <td>Álvaro Uribe Vélez</td>\n",
              "      <td>65</td>\n",
              "      <td>Senado de la República</td>\n",
              "    </tr>\n",
              "  </tbody>\n",
              "</table>\n",
              "</div>"
            ],
            "text/plain": [
              "               Nombre  Edad                Compañia\n",
              "0         Juan Valdez    23        Café de Colombia\n",
              "1  Álvaro Uribe Vélez    65  Senado de la República"
            ]
          },
          "metadata": {},
          "execution_count": 86
        }
      ],
      "source": [
        "pd.read_csv('hoja.csv')"
      ]
    },
    {
      "cell_type": "markdown",
      "metadata": {
        "cell_id": "00105-5cd6423e-2654-439c-a4e9-943248c7b894",
        "deepnote_cell_type": "markdown",
        "id": "s1rbHbLmuv2g"
      },
      "source": [
        "#### JSON"
      ]
    },
    {
      "cell_type": "markdown",
      "metadata": {
        "cell_id": "00106-ee6abf2e-ef42-41b7-af5a-c98849c33e78",
        "deepnote_cell_type": "markdown",
        "id": "JwWj-SSVv6Aj"
      },
      "source": [
        "This format keeps the Python lists and dictionaries at the storage level"
      ]
    },
    {
      "cell_type": "code",
      "execution_count": null,
      "metadata": {
        "cell_id": "00107-d18f5f63-2e23-4154-aaeb-d832bceaa1b4",
        "colab": {
          "base_uri": "https://localhost:8080/",
          "height": 112
        },
        "deepnote_cell_type": "code",
        "id": "OaMV4GdOwmBo",
        "outputId": "a4efd2bd-fbc6-4cb5-876f-7e0c903aed90"
      },
      "outputs": [
        {
          "output_type": "execute_result",
          "data": {
            "text/html": [
              "<div>\n",
              "<style scoped>\n",
              "    .dataframe tbody tr th:only-of-type {\n",
              "        vertical-align: middle;\n",
              "    }\n",
              "\n",
              "    .dataframe tbody tr th {\n",
              "        vertical-align: top;\n",
              "    }\n",
              "\n",
              "    .dataframe thead th {\n",
              "        text-align: right;\n",
              "    }\n",
              "</style>\n",
              "<table border=\"1\" class=\"dataframe\">\n",
              "  <thead>\n",
              "    <tr style=\"text-align: right;\">\n",
              "      <th></th>\n",
              "      <th>Name</th>\n",
              "      <th>Age</th>\n",
              "    </tr>\n",
              "  </thead>\n",
              "  <tbody>\n",
              "    <tr>\n",
              "      <th>0</th>\n",
              "      <td>Donald Trump</td>\n",
              "      <td>74</td>\n",
              "    </tr>\n",
              "    <tr>\n",
              "      <th>1</th>\n",
              "      <td>Barak Obama</td>\n",
              "      <td>59</td>\n",
              "    </tr>\n",
              "  </tbody>\n",
              "</table>\n",
              "</div>"
            ],
            "text/plain": [
              "           Name  Age\n",
              "0  Donald Trump   74\n",
              "1   Barak Obama   59"
            ]
          },
          "metadata": {},
          "execution_count": 2
        }
      ],
      "source": [
        "df=pd.DataFrame([{\"Name\":\"Donald Trump\",\"Age\":74},\n",
        "                 {\"Name\":\"Barak Obama\", \"Age\":59}])\n",
        "df"
      ]
    },
    {
      "cell_type": "markdown",
      "metadata": {
        "cell_id": "00108-51aade1c-59de-4ab8-ab1b-cae65529ef6b",
        "deepnote_cell_type": "markdown",
        "id": "Ajc79wC9z2b0"
      },
      "source": [
        "This format allow us to keep exactly the very same list of dictionaries structure!"
      ]
    },
    {
      "cell_type": "code",
      "execution_count": null,
      "metadata": {
        "cell_id": "00109-a06a153d-a096-4f43-b4fb-e493ef63cdc6",
        "colab": {
          "base_uri": "https://localhost:8080/"
        },
        "deepnote_cell_type": "code",
        "id": "00a9jBWAzg29",
        "outputId": "370a7922-2bfc-4250-fa95-d22f0ae5cf8b"
      },
      "outputs": [
        {
          "output_type": "stream",
          "name": "stdout",
          "text": [
            "[{\"Name\":\"Donald Trump\",\"Age\":74},{\"Name\":\"Barak Obama\",\"Age\":59}]\n"
          ]
        }
      ],
      "source": [
        "print(df.to_json(None,orient='records'))"
      ]
    },
    {
      "cell_type": "markdown",
      "metadata": {
        "cell_id": "00110-40dfa301-7ac0-4c9a-b94e-3a67bb4a5abb",
        "deepnote_cell_type": "markdown",
        "id": "xwPu1tn30hQ8"
      },
      "source": [
        "__Activity__: \n",
        "* Save to a file instead of `None` and open the file with some editor. "
      ]
    },
    {
      "cell_type": "code",
      "execution_count": null,
      "metadata": {
        "cell_id": "00111-4cb060b6-5095-4bdc-9e15-2025f5da8f4d",
        "deepnote_cell_type": "code",
        "id": "KtKmXfQg1Z4z"
      },
      "outputs": [],
      "source": [
        "df.to_json('presidents.json',orient='records')"
      ]
    },
    {
      "cell_type": "markdown",
      "metadata": {
        "cell_id": "00112-156a13f9-d5a6-46ce-b2a5-49b78dc5ae44",
        "deepnote_cell_type": "markdown",
        "id": "5S7OR7X11acD"
      },
      "source": [
        "* Add a break-line at the end of the first dictionary and try to\n",
        "load the resulting file with `pd.read_json`"
      ]
    },
    {
      "cell_type": "code",
      "execution_count": null,
      "metadata": {
        "cell_id": "00113-925db647-ab9d-46c1-ad47-35d873eeff39",
        "deepnote_cell_type": "code",
        "id": "xOaIuF_y1b5C",
        "outputId": "0743cb02-f1f9-46b9-b12e-77edb7da9f33"
      },
      "outputs": [
        {
          "data": {
            "text/html": [
              "<div>\n",
              "<style scoped>\n",
              "    .dataframe tbody tr th:only-of-type {\n",
              "        vertical-align: middle;\n",
              "    }\n",
              "\n",
              "    .dataframe tbody tr th {\n",
              "        vertical-align: top;\n",
              "    }\n",
              "\n",
              "    .dataframe thead th {\n",
              "        text-align: right;\n",
              "    }\n",
              "</style>\n",
              "<table border=\"1\" class=\"dataframe\">\n",
              "  <thead>\n",
              "    <tr style=\"text-align: right;\">\n",
              "      <th></th>\n",
              "      <th>Name</th>\n",
              "      <th>Age</th>\n",
              "    </tr>\n",
              "  </thead>\n",
              "  <tbody>\n",
              "    <tr>\n",
              "      <th>0</th>\n",
              "      <td>Donald Trump</td>\n",
              "      <td>74</td>\n",
              "    </tr>\n",
              "    <tr>\n",
              "      <th>1</th>\n",
              "      <td>Barak Obama</td>\n",
              "      <td>59</td>\n",
              "    </tr>\n",
              "  </tbody>\n",
              "</table>\n",
              "</div>"
            ],
            "text/plain": [
              "           Name  Age\n",
              "0  Donald Trump   74\n",
              "1   Barak Obama   59"
            ]
          },
          "execution_count": 66,
          "metadata": {},
          "output_type": "execute_result"
        }
      ],
      "source": [
        "pd.read_json('presidents.json')"
      ]
    },
    {
      "cell_type": "code",
      "execution_count": null,
      "metadata": {
        "id": "r522hlMD7S8l",
        "colab": {
          "base_uri": "https://localhost:8080/"
        },
        "outputId": "49aefe78-eb63-413a-d9f1-3803c1776c4d"
      },
      "outputs": [
        {
          "output_type": "execute_result",
          "data": {
            "text/plain": [
              "[{'Age': 74, 'Name': 'Donald Trump'}, {'Age': 59, 'Name': 'Barak Obama'}]"
            ]
          },
          "metadata": {},
          "execution_count": 4
        }
      ],
      "source": [
        "# %load presidents.json\n",
        "[{\"Name\":\"Donald Trump\",\"Age\":74},{\"Name\":\"Barak Obama\",\"Age\":59}]\n"
      ]
    },
    {
      "cell_type": "markdown",
      "metadata": {
        "cell_id": "00114-cabdfd59-d1aa-44c7-9859-f7590ff0bb9e",
        "deepnote_cell_type": "markdown",
        "id": "5vSq9daI0F7R"
      },
      "source": [
        "JSON allows for some flexibility in the break-lines structure:"
      ]
    },
    {
      "cell_type": "code",
      "execution_count": null,
      "metadata": {
        "cell_id": "00115-935cc968-6583-4fad-9839-eabdae7a7016",
        "deepnote_cell_type": "code",
        "id": "h5tYtSys7S8m"
      },
      "outputs": [],
      "source": [
        "hm='''\n",
        "hola\n",
        "mundo\n",
        "'''"
      ]
    },
    {
      "cell_type": "code",
      "execution_count": null,
      "metadata": {
        "cell_id": "00116-f120fb15-040a-44e3-b1b1-0919e3c1d7d2",
        "deepnote_cell_type": "code",
        "id": "iGirXj6a7S8m",
        "outputId": "fdadaa07-5d65-49da-e74e-b74955396567"
      },
      "outputs": [
        {
          "data": {
            "text/plain": [
              "'\\nhola\\nmundo\\n'"
            ]
          },
          "execution_count": 68,
          "metadata": {},
          "output_type": "execute_result"
        }
      ],
      "source": [
        "hm"
      ]
    },
    {
      "cell_type": "code",
      "execution_count": null,
      "metadata": {
        "cell_id": "00117-b3d11b0b-ffb3-4fa2-95f1-f1f3a009d9fc",
        "colab": {
          "base_uri": "https://localhost:8080/",
          "height": 112
        },
        "deepnote_cell_type": "code",
        "id": "qT8Lnlrgy0M9",
        "outputId": "2151fbf0-d42a-4d09-dad0-49b00e013c43"
      },
      "outputs": [
        {
          "output_type": "execute_result",
          "data": {
            "text/html": [
              "<div>\n",
              "<style scoped>\n",
              "    .dataframe tbody tr th:only-of-type {\n",
              "        vertical-align: middle;\n",
              "    }\n",
              "\n",
              "    .dataframe tbody tr th {\n",
              "        vertical-align: top;\n",
              "    }\n",
              "\n",
              "    .dataframe thead th {\n",
              "        text-align: right;\n",
              "    }\n",
              "</style>\n",
              "<table border=\"1\" class=\"dataframe\">\n",
              "  <thead>\n",
              "    <tr style=\"text-align: right;\">\n",
              "      <th></th>\n",
              "      <th>Name</th>\n",
              "      <th>Age</th>\n",
              "    </tr>\n",
              "  </thead>\n",
              "  <tbody>\n",
              "    <tr>\n",
              "      <th>0</th>\n",
              "      <td>Donald Trump</td>\n",
              "      <td>73</td>\n",
              "    </tr>\n",
              "    <tr>\n",
              "      <th>1</th>\n",
              "      <td>Barak Obama</td>\n",
              "      <td>58</td>\n",
              "    </tr>\n",
              "  </tbody>\n",
              "</table>\n",
              "</div>"
            ],
            "text/plain": [
              "           Name  Age\n",
              "0  Donald Trump   73\n",
              "1   Barak Obama   58"
            ]
          },
          "metadata": {},
          "execution_count": 6
        }
      ],
      "source": [
        "pd.read_json('''\n",
        "             [{\"Name\":\"Donald Trump\",\"Age\":73},\n",
        "              {\"Name\":\"Barak Obama\", \"Age\":58}]\n",
        "            ''')"
      ]
    },
    {
      "cell_type": "markdown",
      "metadata": {
        "cell_id": "00118-33431814-7e28-4599-988c-c692699cd502",
        "deepnote_cell_type": "markdown",
        "id": "w6PyR85f1mfD"
      },
      "source": [
        "For large databases it is convinient just to accumulate dictionaries in a sequential form:"
      ]
    },
    {
      "cell_type": "code",
      "execution_count": null,
      "metadata": {
        "cell_id": "00119-84d25081-6867-41dd-8ba8-55ed6f8fc690",
        "colab": {
          "base_uri": "https://localhost:8080/"
        },
        "deepnote_cell_type": "code",
        "id": "y2f8y66fyC5S",
        "outputId": "7ebfc2d4-f036-43cc-9f77-dfe89845f725"
      },
      "outputs": [
        {
          "output_type": "stream",
          "name": "stdout",
          "text": [
            "{\"Name\":\"Donald Trump\",\"Age\":74}\n",
            "{\"Name\":\"Barak Obama\",\"Age\":59}\n"
          ]
        }
      ],
      "source": [
        "print(df.to_json(None,orient='records',lines=True))"
      ]
    },
    {
      "cell_type": "code",
      "execution_count": null,
      "metadata": {
        "cell_id": "00120-3df09295-8c42-4b2f-8190-bebc99a29fcd",
        "colab": {
          "base_uri": "https://localhost:8080/",
          "height": 108
        },
        "deepnote_cell_type": "code",
        "id": "Bvhzs_GRzNWM",
        "outputId": "9b33e582-9589-4005-8d24-6a20bc463c31"
      },
      "outputs": [
        {
          "data": {
            "text/html": [
              "<div>\n",
              "<style scoped>\n",
              "    .dataframe tbody tr th:only-of-type {\n",
              "        vertical-align: middle;\n",
              "    }\n",
              "\n",
              "    .dataframe tbody tr th {\n",
              "        vertical-align: top;\n",
              "    }\n",
              "\n",
              "    .dataframe thead th {\n",
              "        text-align: right;\n",
              "    }\n",
              "</style>\n",
              "<table border=\"1\" class=\"dataframe\">\n",
              "  <thead>\n",
              "    <tr style=\"text-align: right;\">\n",
              "      <th></th>\n",
              "      <th>Name</th>\n",
              "      <th>Age</th>\n",
              "    </tr>\n",
              "  </thead>\n",
              "  <tbody>\n",
              "    <tr>\n",
              "      <th>0</th>\n",
              "      <td>Donald Trump</td>\n",
              "      <td>73</td>\n",
              "    </tr>\n",
              "    <tr>\n",
              "      <th>1</th>\n",
              "      <td>Barak Obama</td>\n",
              "      <td>58</td>\n",
              "    </tr>\n",
              "  </tbody>\n",
              "</table>\n",
              "</div>"
            ],
            "text/plain": [
              "           Name  Age\n",
              "0  Donald Trump   73\n",
              "1   Barak Obama   58"
            ]
          },
          "execution_count": 89,
          "metadata": {},
          "output_type": "execute_result"
        }
      ],
      "source": [
        "pd.read_json('''\n",
        "             {\"Name\":\"Donald Trump\",\"Age\":73}\n",
        "             {\"Name\":\"Barak Obama\", \"Age\":58}\n",
        "            ''',orient='records',lines=True)"
      ]
    },
    {
      "cell_type": "markdown",
      "metadata": {
        "cell_id": "00121-1e35d05f-c794-4f1a-8008-f939e469ba6e",
        "deepnote_cell_type": "markdown",
        "id": "sYfWnw1e2wfi"
      },
      "source": [
        "__Activity__: \n",
        "* Save to a file instead of `None`, with options: `orient='records',lines=True`, and open the file with some editor. "
      ]
    },
    {
      "cell_type": "code",
      "execution_count": null,
      "metadata": {
        "cell_id": "00122-4d55c964-e9b3-49e0-8f04-d008caafc148",
        "deepnote_cell_type": "code",
        "id": "S9wv93dM3KER"
      },
      "outputs": [],
      "source": [
        "df.to_json('presidents.json',orient='records',lines=True)"
      ]
    },
    {
      "cell_type": "code",
      "source": [
        "cat presidents.json"
      ],
      "metadata": {
        "colab": {
          "base_uri": "https://localhost:8080/"
        },
        "id": "sSBVNbI8OQeJ",
        "outputId": "47c331cf-d331-4967-f2b7-9ebbae9b56e5"
      },
      "execution_count": null,
      "outputs": [
        {
          "output_type": "stream",
          "name": "stdout",
          "text": [
            "{\"Name\":\"Donald Trump\",\"Age\":74}\n",
            "{\"Name\":\"Barak Obama\",\"Age\":59}"
          ]
        }
      ]
    },
    {
      "cell_type": "markdown",
      "metadata": {
        "cell_id": "00123-5793b240-c88d-4ed8-8a7a-7039b03bb45f",
        "deepnote_cell_type": "markdown",
        "id": "bGYW8Xl-3Kdi"
      },
      "source": [
        "* Add a similar dictionary in the next new line, and try to\n",
        "load the resulting file with `pd.read_json` with options: `orient='records',lines=True`. \n",
        "   * WARNING: Use doble-quotes `\"` to write the keys od the new\n",
        "dictionary"
      ]
    },
    {
      "cell_type": "code",
      "source": [
        "pd.read_json(presidents.json, origen='records')"
      ],
      "metadata": {
        "id": "Egwxaft_PLwA"
      },
      "execution_count": null,
      "outputs": []
    },
    {
      "cell_type": "markdown",
      "metadata": {
        "cell_id": "00124-8fdef546-5acb-4662-a477-79e7e56b5ab0",
        "deepnote_cell_type": "markdown",
        "id": "icGCveT34HDA"
      },
      "source": [
        "Any Python string need to be converted first to double-quotes before to be used as JSON string.\n",
        "\n",
        "__Example__"
      ]
    },
    {
      "cell_type": "code",
      "execution_count": null,
      "metadata": {
        "cell_id": "00125-8eb6882d-f964-487a-854a-5f26c07b1035",
        "deepnote_cell_type": "code",
        "id": "mPRCSHbG4dRx"
      },
      "outputs": [],
      "source": [
        "numbers={\"even\": [0,2,4,-6,8],   #  First  key-list\n",
        "         \"odd\" : [1,3,-5,7,9] }  #  Second key-list"
      ]
    },
    {
      "cell_type": "code",
      "execution_count": null,
      "metadata": {
        "cell_id": "00126-8b43f478-80c5-4dde-90c1-56c760b3bbbf",
        "deepnote_cell_type": "code",
        "id": "3ulbtZ_87S8o",
        "outputId": "25781f1c-dc81-4287-b23f-94be0e09f69b",
        "colab": {
          "base_uri": "https://localhost:8080/"
        }
      },
      "outputs": [
        {
          "output_type": "execute_result",
          "data": {
            "text/plain": [
              "{'even': [0, 2, 4, -6, 8], 'odd': [1, 3, -5, 7, 9]}"
            ]
          },
          "metadata": {},
          "execution_count": 14
        }
      ],
      "source": [
        "numbers"
      ]
    },
    {
      "cell_type": "code",
      "execution_count": null,
      "metadata": {
        "cell_id": "00127-6eed42d7-e148-4fe2-a336-1020b086422d",
        "colab": {
          "base_uri": "https://localhost:8080/",
          "height": 35
        },
        "deepnote_cell_type": "code",
        "id": "An-yzTut4gtw",
        "outputId": "32d69b2b-5608-4595-f1d2-486a1dd8e474"
      },
      "outputs": [
        {
          "output_type": "execute_result",
          "data": {
            "application/vnd.google.colaboratory.intrinsic+json": {
              "type": "string"
            },
            "text/plain": [
              "\"{'even': [0, 2, 4, -6, 8], 'odd': [1, 3, -5, 7, 9]}\""
            ]
          },
          "metadata": {},
          "execution_count": 15
        }
      ],
      "source": [
        "str(numbers)"
      ]
    },
    {
      "cell_type": "markdown",
      "metadata": {
        "cell_id": "00128-88abc63b-351f-4fd8-98c0-10cb52230870",
        "deepnote_cell_type": "markdown",
        "id": "BFCE3Hq34ktw"
      },
      "source": [
        "This string can be writing in the `JSON` format by replacing the single quotes, ' , by  duoble quotes, \":"
      ]
    },
    {
      "cell_type": "code",
      "source": [
        "\"hola mundo curel\""
      ],
      "metadata": {
        "id": "NdPasuh5QU1F"
      },
      "execution_count": null,
      "outputs": []
    },
    {
      "cell_type": "code",
      "execution_count": null,
      "metadata": {
        "cell_id": "00129-077cac5a-d328-436a-b590-181f5bc5a8d8",
        "colab": {
          "base_uri": "https://localhost:8080/",
          "height": 35
        },
        "deepnote_cell_type": "code",
        "id": "PJVD2Btc4nJx",
        "outputId": "70319d30-a19f-4fe6-b639-5d559964b1aa"
      },
      "outputs": [
        {
          "output_type": "execute_result",
          "data": {
            "application/vnd.google.colaboratory.intrinsic+json": {
              "type": "string"
            },
            "text/plain": [
              "'{\"even\": [0, 2, 4, -6, 8], \"odd\": [1, 3, -5, 7, 9]}'"
            ]
          },
          "metadata": {},
          "execution_count": 16
        }
      ],
      "source": [
        "str(numbers).replace(\"'\",'\"')"
      ]
    },
    {
      "cell_type": "markdown",
      "metadata": {
        "cell_id": "00130-a2a20551-1d74-470a-9923-974394855938",
        "deepnote_cell_type": "markdown",
        "id": "zDssJstU45Qi"
      },
      "source": [
        "and now can be used as an JSON input"
      ]
    },
    {
      "cell_type": "code",
      "execution_count": null,
      "metadata": {
        "cell_id": "00131-90d378ec-4eb8-4654-a447-0af782b2d942",
        "deepnote_cell_type": "code",
        "id": "HxbaP5T542_h",
        "outputId": "089f30c6-f8f2-4e38-87fd-5ad7bf4b1c40",
        "colab": {
          "base_uri": "https://localhost:8080/",
          "height": 205
        }
      },
      "outputs": [
        {
          "output_type": "execute_result",
          "data": {
            "text/html": [
              "<div>\n",
              "<style scoped>\n",
              "    .dataframe tbody tr th:only-of-type {\n",
              "        vertical-align: middle;\n",
              "    }\n",
              "\n",
              "    .dataframe tbody tr th {\n",
              "        vertical-align: top;\n",
              "    }\n",
              "\n",
              "    .dataframe thead th {\n",
              "        text-align: right;\n",
              "    }\n",
              "</style>\n",
              "<table border=\"1\" class=\"dataframe\">\n",
              "  <thead>\n",
              "    <tr style=\"text-align: right;\">\n",
              "      <th></th>\n",
              "      <th>even</th>\n",
              "      <th>odd</th>\n",
              "    </tr>\n",
              "  </thead>\n",
              "  <tbody>\n",
              "    <tr>\n",
              "      <th>0</th>\n",
              "      <td>0</td>\n",
              "      <td>1</td>\n",
              "    </tr>\n",
              "    <tr>\n",
              "      <th>1</th>\n",
              "      <td>2</td>\n",
              "      <td>3</td>\n",
              "    </tr>\n",
              "    <tr>\n",
              "      <th>2</th>\n",
              "      <td>4</td>\n",
              "      <td>-5</td>\n",
              "    </tr>\n",
              "    <tr>\n",
              "      <th>3</th>\n",
              "      <td>-6</td>\n",
              "      <td>7</td>\n",
              "    </tr>\n",
              "    <tr>\n",
              "      <th>4</th>\n",
              "      <td>8</td>\n",
              "      <td>9</td>\n",
              "    </tr>\n",
              "  </tbody>\n",
              "</table>\n",
              "</div>"
            ],
            "text/plain": [
              "   even  odd\n",
              "0     0    1\n",
              "1     2    3\n",
              "2     4   -5\n",
              "3    -6    7\n",
              "4     8    9"
            ]
          },
          "metadata": {},
          "execution_count": 17
        }
      ],
      "source": [
        "df=pd.read_json(  str(numbers).replace(\"'\",'\"') )\n",
        "df"
      ]
    },
    {
      "cell_type": "markdown",
      "metadata": {
        "cell_id": "00132-b0810565-a22d-4f66-b020-f06993aaa79c",
        "deepnote_cell_type": "markdown",
        "id": "EtqUn4t85Hlp"
      },
      "source": [
        "__Activity__: Try to read the string as JSON without make the double-quote replacement"
      ]
    },
    {
      "cell_type": "markdown",
      "metadata": {
        "cell_id": "00133-38528865-2883-419d-a318-6739da40857a",
        "deepnote_cell_type": "markdown",
        "id": "s2uApSIi8PjI"
      },
      "source": [
        "## Filters\n",
        "The main application of labeled data for data analysis is the possibility to make filers, or cuts, to obtain specific reduced datasets to further analysis"
      ]
    },
    {
      "cell_type": "code",
      "execution_count": null,
      "metadata": {
        "id": "zdw7_D2S7S8p"
      },
      "outputs": [],
      "source": [
        "import pandas as pd"
      ]
    },
    {
      "cell_type": "code",
      "execution_count": null,
      "metadata": {
        "id": "tcCZVfNX7S8q"
      },
      "outputs": [],
      "source": [
        "numbers={\"even\": [0,2,4,-6,8],   #  First  key-list\n",
        "         \"odd\" : [1,3,-5,7,9] }  #  Second key-list"
      ]
    },
    {
      "cell_type": "code",
      "execution_count": null,
      "metadata": {
        "id": "-H7JMEvD7S8q"
      },
      "outputs": [],
      "source": [
        "df=pd.DataFrame(numbers)"
      ]
    },
    {
      "cell_type": "code",
      "execution_count": null,
      "metadata": {
        "cell_id": "00134-ef5b47b0-51cd-47bf-9b8a-19ab931a22e5",
        "deepnote_cell_type": "code",
        "id": "2eDXjBHE7S8q",
        "outputId": "6dfadf79-dc21-4c97-ddab-660c766df499",
        "colab": {
          "base_uri": "https://localhost:8080/",
          "height": 205
        }
      },
      "outputs": [
        {
          "output_type": "execute_result",
          "data": {
            "text/html": [
              "<div>\n",
              "<style scoped>\n",
              "    .dataframe tbody tr th:only-of-type {\n",
              "        vertical-align: middle;\n",
              "    }\n",
              "\n",
              "    .dataframe tbody tr th {\n",
              "        vertical-align: top;\n",
              "    }\n",
              "\n",
              "    .dataframe thead th {\n",
              "        text-align: right;\n",
              "    }\n",
              "</style>\n",
              "<table border=\"1\" class=\"dataframe\">\n",
              "  <thead>\n",
              "    <tr style=\"text-align: right;\">\n",
              "      <th></th>\n",
              "      <th>even</th>\n",
              "      <th>odd</th>\n",
              "    </tr>\n",
              "  </thead>\n",
              "  <tbody>\n",
              "    <tr>\n",
              "      <th>0</th>\n",
              "      <td>0</td>\n",
              "      <td>1</td>\n",
              "    </tr>\n",
              "    <tr>\n",
              "      <th>1</th>\n",
              "      <td>2</td>\n",
              "      <td>3</td>\n",
              "    </tr>\n",
              "    <tr>\n",
              "      <th>2</th>\n",
              "      <td>4</td>\n",
              "      <td>-5</td>\n",
              "    </tr>\n",
              "    <tr>\n",
              "      <th>3</th>\n",
              "      <td>-6</td>\n",
              "      <td>7</td>\n",
              "    </tr>\n",
              "    <tr>\n",
              "      <th>4</th>\n",
              "      <td>8</td>\n",
              "      <td>9</td>\n",
              "    </tr>\n",
              "  </tbody>\n",
              "</table>\n",
              "</div>"
            ],
            "text/plain": [
              "   even  odd\n",
              "0     0    1\n",
              "1     2    3\n",
              "2     4   -5\n",
              "3    -6    7\n",
              "4     8    9"
            ]
          },
          "metadata": {},
          "execution_count": 21
        }
      ],
      "source": [
        "df"
      ]
    },
    {
      "cell_type": "markdown",
      "metadata": {
        "id": "m424LA1B7S8q"
      },
      "source": [
        "A filter is a list of `True/False` values"
      ]
    },
    {
      "cell_type": "code",
      "execution_count": null,
      "metadata": {
        "id": "RqQbU4607S8q",
        "outputId": "b4cbf0f3-4fde-4c88-d9e5-ce207f461697",
        "colab": {
          "base_uri": "https://localhost:8080/"
        }
      },
      "outputs": [
        {
          "output_type": "execute_result",
          "data": {
            "text/plain": [
              "0    False\n",
              "1    False\n",
              "2    False\n",
              "3     True\n",
              "4     True\n",
              "Name: even, dtype: bool"
            ]
          },
          "metadata": {},
          "execution_count": 22
        }
      ],
      "source": [
        "df.even.abs()>4"
      ]
    },
    {
      "cell_type": "code",
      "execution_count": null,
      "metadata": {
        "cell_id": "00135-26b7e2ad-8ed0-4c5c-a903-7dcc2a3d065d",
        "colab": {
          "base_uri": "https://localhost:8080/",
          "height": 112
        },
        "deepnote_cell_type": "code",
        "id": "zt2S0aln8_4s",
        "outputId": "da09803f-f1a6-4803-8054-5971a8c17c4e"
      },
      "outputs": [
        {
          "output_type": "execute_result",
          "data": {
            "text/html": [
              "<div>\n",
              "<style scoped>\n",
              "    .dataframe tbody tr th:only-of-type {\n",
              "        vertical-align: middle;\n",
              "    }\n",
              "\n",
              "    .dataframe tbody tr th {\n",
              "        vertical-align: top;\n",
              "    }\n",
              "\n",
              "    .dataframe thead th {\n",
              "        text-align: right;\n",
              "    }\n",
              "</style>\n",
              "<table border=\"1\" class=\"dataframe\">\n",
              "  <thead>\n",
              "    <tr style=\"text-align: right;\">\n",
              "      <th></th>\n",
              "      <th>even</th>\n",
              "      <th>odd</th>\n",
              "    </tr>\n",
              "  </thead>\n",
              "  <tbody>\n",
              "    <tr>\n",
              "      <th>3</th>\n",
              "      <td>-6</td>\n",
              "      <td>7</td>\n",
              "    </tr>\n",
              "    <tr>\n",
              "      <th>4</th>\n",
              "      <td>8</td>\n",
              "      <td>9</td>\n",
              "    </tr>\n",
              "  </tbody>\n",
              "</table>\n",
              "</div>"
            ],
            "text/plain": [
              "   even  odd\n",
              "3    -6    7\n",
              "4     8    9"
            ]
          },
          "metadata": {},
          "execution_count": 23
        }
      ],
      "source": [
        "df[df.even.abs()>4]"
      ]
    },
    {
      "cell_type": "code",
      "execution_count": null,
      "metadata": {
        "cell_id": "00136-02a253ad-bdf0-4501-8cdd-552e09512321",
        "colab": {
          "base_uri": "https://localhost:8080/",
          "height": 81
        },
        "deepnote_cell_type": "code",
        "id": "eVSePCQB9GFe",
        "outputId": "7a9d5c41-1473-46dd-a012-9bbc801e6f18"
      },
      "outputs": [
        {
          "output_type": "execute_result",
          "data": {
            "text/html": [
              "<div>\n",
              "<style scoped>\n",
              "    .dataframe tbody tr th:only-of-type {\n",
              "        vertical-align: middle;\n",
              "    }\n",
              "\n",
              "    .dataframe tbody tr th {\n",
              "        vertical-align: top;\n",
              "    }\n",
              "\n",
              "    .dataframe thead th {\n",
              "        text-align: right;\n",
              "    }\n",
              "</style>\n",
              "<table border=\"1\" class=\"dataframe\">\n",
              "  <thead>\n",
              "    <tr style=\"text-align: right;\">\n",
              "      <th></th>\n",
              "      <th>even</th>\n",
              "      <th>odd</th>\n",
              "    </tr>\n",
              "  </thead>\n",
              "  <tbody>\n",
              "    <tr>\n",
              "      <th>2</th>\n",
              "      <td>4</td>\n",
              "      <td>-5</td>\n",
              "    </tr>\n",
              "  </tbody>\n",
              "</table>\n",
              "</div>"
            ],
            "text/plain": [
              "   even  odd\n",
              "2     4   -5"
            ]
          },
          "metadata": {},
          "execution_count": 24
        }
      ],
      "source": [
        "#and\n",
        "df[(df.even>0) & (df.odd<0)]"
      ]
    },
    {
      "cell_type": "code",
      "execution_count": null,
      "metadata": {
        "cell_id": "00137-922f9b25-8146-4da0-899c-3d49f450c068",
        "deepnote_cell_type": "code",
        "id": "6kMsKGMN7S8r",
        "outputId": "79f16274-b84b-4742-faee-013b31163254",
        "colab": {
          "base_uri": "https://localhost:8080/",
          "height": 175
        }
      },
      "outputs": [
        {
          "output_type": "execute_result",
          "data": {
            "text/html": [
              "<div>\n",
              "<style scoped>\n",
              "    .dataframe tbody tr th:only-of-type {\n",
              "        vertical-align: middle;\n",
              "    }\n",
              "\n",
              "    .dataframe tbody tr th {\n",
              "        vertical-align: top;\n",
              "    }\n",
              "\n",
              "    .dataframe thead th {\n",
              "        text-align: right;\n",
              "    }\n",
              "</style>\n",
              "<table border=\"1\" class=\"dataframe\">\n",
              "  <thead>\n",
              "    <tr style=\"text-align: right;\">\n",
              "      <th></th>\n",
              "      <th>even</th>\n",
              "      <th>odd</th>\n",
              "    </tr>\n",
              "  </thead>\n",
              "  <tbody>\n",
              "    <tr>\n",
              "      <th>0</th>\n",
              "      <td>0</td>\n",
              "      <td>1</td>\n",
              "    </tr>\n",
              "    <tr>\n",
              "      <th>1</th>\n",
              "      <td>2</td>\n",
              "      <td>3</td>\n",
              "    </tr>\n",
              "    <tr>\n",
              "      <th>3</th>\n",
              "      <td>-6</td>\n",
              "      <td>7</td>\n",
              "    </tr>\n",
              "    <tr>\n",
              "      <th>4</th>\n",
              "      <td>8</td>\n",
              "      <td>9</td>\n",
              "    </tr>\n",
              "  </tbody>\n",
              "</table>\n",
              "</div>"
            ],
            "text/plain": [
              "   even  odd\n",
              "0     0    1\n",
              "1     2    3\n",
              "3    -6    7\n",
              "4     8    9"
            ]
          },
          "metadata": {},
          "execution_count": 25
        }
      ],
      "source": [
        "df[~((df.even>0) & (df.odd<0)) ]"
      ]
    },
    {
      "cell_type": "code",
      "execution_count": null,
      "metadata": {
        "cell_id": "00138-ca349084-fa0c-4be5-839c-1eb00d5120e8",
        "colab": {
          "base_uri": "https://localhost:8080/",
          "height": 112
        },
        "deepnote_cell_type": "code",
        "id": "dVktA6ze9wI2",
        "outputId": "202cdfa6-46c9-4419-851c-f2e6ede6caeb"
      },
      "outputs": [
        {
          "output_type": "execute_result",
          "data": {
            "text/html": [
              "<div>\n",
              "<style scoped>\n",
              "    .dataframe tbody tr th:only-of-type {\n",
              "        vertical-align: middle;\n",
              "    }\n",
              "\n",
              "    .dataframe tbody tr th {\n",
              "        vertical-align: top;\n",
              "    }\n",
              "\n",
              "    .dataframe thead th {\n",
              "        text-align: right;\n",
              "    }\n",
              "</style>\n",
              "<table border=\"1\" class=\"dataframe\">\n",
              "  <thead>\n",
              "    <tr style=\"text-align: right;\">\n",
              "      <th></th>\n",
              "      <th>even</th>\n",
              "      <th>odd</th>\n",
              "    </tr>\n",
              "  </thead>\n",
              "  <tbody>\n",
              "    <tr>\n",
              "      <th>2</th>\n",
              "      <td>4</td>\n",
              "      <td>-5</td>\n",
              "    </tr>\n",
              "    <tr>\n",
              "      <th>3</th>\n",
              "      <td>-6</td>\n",
              "      <td>7</td>\n",
              "    </tr>\n",
              "  </tbody>\n",
              "</table>\n",
              "</div>"
            ],
            "text/plain": [
              "   even  odd\n",
              "2     4   -5\n",
              "3    -6    7"
            ]
          },
          "metadata": {},
          "execution_count": 26
        }
      ],
      "source": [
        "#or\n",
        "df[(df.even<0) | (df.odd<0)]"
      ]
    },
    {
      "cell_type": "markdown",
      "metadata": {
        "cell_id": "00139-ca62a80b-b815-4fd5-bbe8-2fccf72f6a3a",
        "deepnote_cell_type": "markdown",
        "id": "xHsCPml65i54"
      },
      "source": [
        "## The `apply` method\n",
        "The advantage of the spreadsheet paradigm is that the columns can be transformed with functions. All the typical functions avalaible for a spreadsheet are already implemented like the method `.abs()` used before, or the method: `.sum()`"
      ]
    },
    {
      "cell_type": "code",
      "execution_count": null,
      "metadata": {
        "cell_id": "00140-5bd68707-f972-4a21-ad89-ffc17371d504",
        "colab": {
          "base_uri": "https://localhost:8080/"
        },
        "deepnote_cell_type": "code",
        "id": "pPLWFFLA6NX4",
        "outputId": "90b2a7b3-1997-4de4-fe4f-a2aafff8187d"
      },
      "outputs": [
        {
          "output_type": "execute_result",
          "data": {
            "text/plain": [
              "8"
            ]
          },
          "metadata": {},
          "execution_count": 27
        }
      ],
      "source": [
        "df.even.sum()"
      ]
    },
    {
      "cell_type": "markdown",
      "metadata": {
        "cell_id": "00141-57b10a10-4de8-42f2-a94a-3013e9ef5af6",
        "deepnote_cell_type": "markdown",
        "id": "XCUwgF0f6WFP"
      },
      "source": [
        "__Activity__: Explore the avalaible methods by using the completion system of the notebook after the last semicolon of `df.even.`"
      ]
    },
    {
      "cell_type": "code",
      "execution_count": null,
      "metadata": {
        "cell_id": "00142-50a685d2-4b25-40b1-9c45-7c9fbcc3875e",
        "deepnote_cell_type": "code",
        "id": "evZ_xjBv7S8s",
        "colab": {
          "base_uri": "https://localhost:8080/"
        },
        "outputId": "abe0bb31-a345-4a16-ab1b-ac5dd3be354e"
      },
      "outputs": [
        {
          "output_type": "execute_result",
          "data": {
            "text/plain": [
              "0    0\n",
              "1    2\n",
              "2    4\n",
              "3    6\n",
              "4    8\n",
              "Name: even, dtype: int64"
            ]
          },
          "metadata": {},
          "execution_count": 30
        }
      ],
      "source": [
        "df.even.abs()"
      ]
    },
    {
      "cell_type": "markdown",
      "metadata": {
        "cell_id": "00143-62cf460c-f390-49a9-afb3-79a89a598209",
        "deepnote_cell_type": "markdown",
        "id": "JDqDXVoF6mOv"
      },
      "source": [
        "In addittion, for the `DataFrame` paradigm, we can easy implement any other function directly at the programming level either along the columns or along the rows"
      ]
    },
    {
      "cell_type": "markdown",
      "metadata": {
        "cell_id": "00144-aced47b4-60eb-4b3c-931e-d008d4e89f6d",
        "deepnote_cell_type": "markdown",
        "id": "378RNNb97OQs"
      },
      "source": [
        "### Column-level `apply`\n",
        "We just select the column and apply the direct or implicit function:\n",
        "* Pre-defined function"
      ]
    },
    {
      "cell_type": "code",
      "execution_count": null,
      "metadata": {
        "cell_id": "00145-a74342d5-abd2-4958-8864-fc0db16f5c37",
        "colab": {
          "base_uri": "https://localhost:8080/"
        },
        "deepnote_cell_type": "code",
        "id": "L210XcRK7qYn",
        "outputId": "c3b3c284-b3b1-4bb9-c20e-f1d6963b49dd"
      },
      "outputs": [
        {
          "output_type": "execute_result",
          "data": {
            "text/plain": [
              "0    0\n",
              "1    2\n",
              "2    4\n",
              "3    6\n",
              "4    8\n",
              "Name: even, dtype: int64"
            ]
          },
          "metadata": {},
          "execution_count": 31
        }
      ],
      "source": [
        "df.even.apply(abs)"
      ]
    },
    {
      "cell_type": "markdown",
      "metadata": {
        "cell_id": "00146-27fa426d-132e-4721-a8bd-ce3d2cd52bcb",
        "deepnote_cell_type": "markdown",
        "id": "JX0nA6swDphj"
      },
      "source": [
        "* Implicit function"
      ]
    },
    {
      "cell_type": "code",
      "execution_count": null,
      "metadata": {
        "cell_id": "00147-b381a3f1-17b5-4e0c-960b-4514c07a753d",
        "colab": {
          "base_uri": "https://localhost:8080/"
        },
        "deepnote_cell_type": "code",
        "id": "oGEcVFrA72LX",
        "outputId": "f3529377-0ac8-4d3c-8af8-07234c7e5bcc"
      },
      "outputs": [
        {
          "output_type": "execute_result",
          "data": {
            "text/plain": [
              "0    True\n",
              "1    True\n",
              "2    True\n",
              "3    True\n",
              "4    True\n",
              "Name: even, dtype: bool"
            ]
          },
          "metadata": {},
          "execution_count": 32
        }
      ],
      "source": [
        "df.even.apply(lambda n:isinstance(n,int))"
      ]
    },
    {
      "cell_type": "code",
      "execution_count": null,
      "metadata": {
        "cell_id": "00148-2e4c0fd3-48e3-4c86-bc26-b51aab4a4efe",
        "deepnote_cell_type": "code",
        "id": "ztbt87vO7S8t",
        "outputId": "2eddaa0e-a603-4a72-8781-af00873d7cd2",
        "colab": {
          "base_uri": "https://localhost:8080/"
        }
      },
      "outputs": [
        {
          "output_type": "execute_result",
          "data": {
            "text/plain": [
              "0     0\n",
              "1     4\n",
              "2    16\n",
              "3    36\n",
              "4    64\n",
              "Name: even, dtype: int64"
            ]
          },
          "metadata": {},
          "execution_count": 33
        }
      ],
      "source": [
        "df.even.apply(lambda n: n**2)"
      ]
    },
    {
      "cell_type": "markdown",
      "metadata": {
        "cell_id": "00149-9f1c7206-da55-4ad4-b589-dc7022a7daba",
        "deepnote_cell_type": "markdown",
        "id": "8wFVd7Sk7irH"
      },
      "source": [
        "### Row-level apply\n",
        "The foll row is passed as dictionary to the explicit or implicit function when `apply` is used for the full `DataFrame` and the option `axis=1` is used at the end"
      ]
    },
    {
      "cell_type": "code",
      "execution_count": null,
      "metadata": {
        "cell_id": "00150-082c7a02-aa1e-49cb-a4f3-1349b1550535",
        "deepnote_cell_type": "code",
        "id": "oJf7BfQB7S8u",
        "outputId": "e1cbc09d-09e0-47e2-fe93-fa4f6d6428a6",
        "colab": {
          "base_uri": "https://localhost:8080/"
        }
      },
      "outputs": [
        {
          "output_type": "execute_result",
          "data": {
            "text/plain": [
              "0     1\n",
              "1     5\n",
              "2    -1\n",
              "3     1\n",
              "4    17\n",
              "dtype: int64"
            ]
          },
          "metadata": {},
          "execution_count": 34
        }
      ],
      "source": [
        "df['even']+df['odd']"
      ]
    },
    {
      "cell_type": "code",
      "execution_count": null,
      "metadata": {
        "cell_id": "00151-abb73dae-6242-4c9c-84e4-303bdf29589d",
        "colab": {
          "base_uri": "https://localhost:8080/"
        },
        "deepnote_cell_type": "code",
        "id": "z6GLMMuEEUwB",
        "outputId": "91edebba-2841-4244-de61-f9e40074f5a5"
      },
      "outputs": [
        {
          "output_type": "execute_result",
          "data": {
            "text/plain": [
              "0     1\n",
              "1    11\n",
              "2    29\n",
              "3    43\n",
              "4    89\n",
              "dtype: int64"
            ]
          },
          "metadata": {},
          "execution_count": 35
        }
      ],
      "source": [
        "df.apply(lambda row: row['even']+row['odd']**2,axis='columns')"
      ]
    },
    {
      "cell_type": "code",
      "source": [
        "df.apply(lambda row: row.get('even')+row.get('odd')**2,axis='columns')"
      ],
      "metadata": {
        "colab": {
          "base_uri": "https://localhost:8080/"
        },
        "id": "hgCNSemaT_sJ",
        "outputId": "0e9e926a-8ece-4bd3-8ff9-19bad6a4e6f4"
      },
      "execution_count": null,
      "outputs": [
        {
          "output_type": "execute_result",
          "data": {
            "text/plain": [
              "0     1\n",
              "1    11\n",
              "2    29\n",
              "3    43\n",
              "4    89\n",
              "dtype: int64"
            ]
          },
          "metadata": {},
          "execution_count": 38
        }
      ]
    },
    {
      "cell_type": "markdown",
      "metadata": {
        "cell_id": "00152-09addc01-50ec-4b33-bb8b-0b7e3a0b8af5",
        "deepnote_cell_type": "markdown",
        "id": "7YlrDxIG7S8u"
      },
      "source": [
        "## Chain tools for data analysis\n",
        "There are several chain tools for data analyis like the\n",
        "* Spreadsheet based one, like Excel \n",
        "* Relational databases with the use of more advanced SQL tabular data with some data base software like MySQL\n",
        "* Non-relational databases (RAM) with Pandas, R,  Paw,... ( max ~ RAM/8) \n",
        "* Non-relational databases (Disk): Dask, ROOT, MongoDB,...\n",
        "\n",
        "Here we illustrate an example of use fo a non-relational database with Pandas"
      ]
    },
    {
      "cell_type": "markdown",
      "metadata": {
        "cell_id": "00153-31b6cb4c-2040-41f4-9b7d-e226df82dc37",
        "deepnote_cell_type": "markdown",
        "id": "-nK8vXQd7S8v"
      },
      "source": [
        "## Relational databases"
      ]
    },
    {
      "cell_type": "code",
      "execution_count": null,
      "metadata": {
        "cell_id": "00154-21e06109-13d0-40f9-a9a6-1dec1358ab30",
        "deepnote_cell_type": "code",
        "id": "LwgQSpNk7S8v",
        "outputId": "d02dc2b3-14e4-42b1-ca7e-c47b9b8deaa8",
        "colab": {
          "base_uri": "https://localhost:8080/",
          "height": 112
        }
      },
      "outputs": [
        {
          "output_type": "execute_result",
          "data": {
            "text/html": [
              "<div>\n",
              "<style scoped>\n",
              "    .dataframe tbody tr th:only-of-type {\n",
              "        vertical-align: middle;\n",
              "    }\n",
              "\n",
              "    .dataframe tbody tr th {\n",
              "        vertical-align: top;\n",
              "    }\n",
              "\n",
              "    .dataframe thead th {\n",
              "        text-align: right;\n",
              "    }\n",
              "</style>\n",
              "<table border=\"1\" class=\"dataframe\">\n",
              "  <thead>\n",
              "    <tr style=\"text-align: right;\">\n",
              "      <th></th>\n",
              "      <th>Nombre</th>\n",
              "      <th>Fecha de Nacimiento</th>\n",
              "      <th>id</th>\n",
              "    </tr>\n",
              "  </thead>\n",
              "  <tbody>\n",
              "    <tr>\n",
              "      <th>0</th>\n",
              "      <td>Juan Valdez</td>\n",
              "      <td>1966-07-04</td>\n",
              "      <td>888</td>\n",
              "    </tr>\n",
              "    <tr>\n",
              "      <th>1</th>\n",
              "      <td>Álvaro Uribe Vélez</td>\n",
              "      <td>1952-07-04</td>\n",
              "      <td>666</td>\n",
              "    </tr>\n",
              "  </tbody>\n",
              "</table>\n",
              "</div>"
            ],
            "text/plain": [
              "               Nombre Fecha de Nacimiento   id\n",
              "0         Juan Valdez          1966-07-04  888\n",
              "1  Álvaro Uribe Vélez          1952-07-04  666"
            ]
          },
          "metadata": {},
          "execution_count": 36
        }
      ],
      "source": [
        "personas=pd.read_csv('https://raw.githubusercontent.com/restrepo/ComputationalMethods/master/data/personas.csv')\n",
        "#personas=pd.read_csv('../data/personas.csv')\n",
        "personas"
      ]
    },
    {
      "cell_type": "code",
      "execution_count": null,
      "metadata": {
        "cell_id": "00156-95466953-49eb-4a2b-bcce-483b72149659",
        "deepnote_cell_type": "code",
        "id": "4qSn9in47S8v",
        "outputId": "7ca4b361-4c2c-498f-c57c-3938ec1c38b8",
        "colab": {
          "base_uri": "https://localhost:8080/",
          "height": 143
        }
      },
      "outputs": [
        {
          "output_type": "execute_result",
          "data": {
            "text/html": [
              "<div>\n",
              "<style scoped>\n",
              "    .dataframe tbody tr th:only-of-type {\n",
              "        vertical-align: middle;\n",
              "    }\n",
              "\n",
              "    .dataframe tbody tr th {\n",
              "        vertical-align: top;\n",
              "    }\n",
              "\n",
              "    .dataframe thead th {\n",
              "        text-align: right;\n",
              "    }\n",
              "</style>\n",
              "<table border=\"1\" class=\"dataframe\">\n",
              "  <thead>\n",
              "    <tr style=\"text-align: right;\">\n",
              "      <th></th>\n",
              "      <th>id</th>\n",
              "      <th>Inicio</th>\n",
              "      <th>Fin</th>\n",
              "      <th>Cargo</th>\n",
              "      <th>Compañía</th>\n",
              "    </tr>\n",
              "  </thead>\n",
              "  <tbody>\n",
              "    <tr>\n",
              "      <th>0</th>\n",
              "      <td>888</td>\n",
              "      <td>2010</td>\n",
              "      <td></td>\n",
              "      <td>Arriero</td>\n",
              "      <td>Café de Colombia</td>\n",
              "    </tr>\n",
              "    <tr>\n",
              "      <th>1</th>\n",
              "      <td>666</td>\n",
              "      <td>2013</td>\n",
              "      <td>2020</td>\n",
              "      <td>Senador</td>\n",
              "      <td>Senado de la República de Colombia</td>\n",
              "    </tr>\n",
              "    <tr>\n",
              "      <th>2</th>\n",
              "      <td>666</td>\n",
              "      <td>2020</td>\n",
              "      <td></td>\n",
              "      <td>Influencer</td>\n",
              "      <td>Twitter</td>\n",
              "    </tr>\n",
              "  </tbody>\n",
              "</table>\n",
              "</div>"
            ],
            "text/plain": [
              "    id  Inicio   Fin       Cargo                            Compañía\n",
              "0  888    2010           Arriero                    Café de Colombia\n",
              "1  666    2013  2020     Senador  Senado de la República de Colombia\n",
              "2  666    2020        Influencer                             Twitter"
            ]
          },
          "metadata": {},
          "execution_count": 39
        }
      ],
      "source": [
        "trabajos=pd.read_csv('https://raw.githubusercontent.com/restrepo/ComputationalMethods/master/data/trabajos.csv',na_filter=False)\n",
        "trabajos=pd.read_csv('../data/trabajos.csv',na_filter=False)\n",
        "trabajos"
      ]
    },
    {
      "cell_type": "markdown",
      "metadata": {
        "cell_id": "00157-6c56e4ac-c3b6-4cf0-9bd6-9812ee89832e",
        "deepnote_cell_type": "markdown",
        "id": "il6Kkceq7S8v"
      },
      "source": [
        "![img](https://raw.githubusercontent.com/restrepo/ComputationalMethods/master/material/figures/relation.svg)"
      ]
    },
    {
      "cell_type": "markdown",
      "metadata": {
        "cell_id": "00158-f3332d6e-f5e9-4383-9054-5cc67a0d42bc",
        "deepnote_cell_type": "markdown",
        "id": "51qrCOUq7S8w"
      },
      "source": [
        "### Activity\n",
        "Obtain the current work of Álavro Uribe Vélez "
      ]
    },
    {
      "cell_type": "code",
      "execution_count": null,
      "metadata": {
        "id": "Ex_0Uk8-7S8w",
        "outputId": "5e5939c0-0ef7-45e5-af51-1a9c99829709",
        "colab": {
          "base_uri": "https://localhost:8080/",
          "height": 143
        }
      },
      "outputs": [
        {
          "output_type": "execute_result",
          "data": {
            "text/html": [
              "<div>\n",
              "<style scoped>\n",
              "    .dataframe tbody tr th:only-of-type {\n",
              "        vertical-align: middle;\n",
              "    }\n",
              "\n",
              "    .dataframe tbody tr th {\n",
              "        vertical-align: top;\n",
              "    }\n",
              "\n",
              "    .dataframe thead th {\n",
              "        text-align: right;\n",
              "    }\n",
              "</style>\n",
              "<table border=\"1\" class=\"dataframe\">\n",
              "  <thead>\n",
              "    <tr style=\"text-align: right;\">\n",
              "      <th></th>\n",
              "      <th>id</th>\n",
              "      <th>Inicio</th>\n",
              "      <th>Fin</th>\n",
              "      <th>Cargo</th>\n",
              "      <th>Compañía</th>\n",
              "    </tr>\n",
              "  </thead>\n",
              "  <tbody>\n",
              "    <tr>\n",
              "      <th>0</th>\n",
              "      <td>888</td>\n",
              "      <td>2010</td>\n",
              "      <td></td>\n",
              "      <td>Arriero</td>\n",
              "      <td>Café de Colombia</td>\n",
              "    </tr>\n",
              "    <tr>\n",
              "      <th>1</th>\n",
              "      <td>666</td>\n",
              "      <td>2013</td>\n",
              "      <td>2020</td>\n",
              "      <td>Senador</td>\n",
              "      <td>Senado de la República de Colombia</td>\n",
              "    </tr>\n",
              "    <tr>\n",
              "      <th>2</th>\n",
              "      <td>666</td>\n",
              "      <td>2020</td>\n",
              "      <td></td>\n",
              "      <td>Influencer</td>\n",
              "      <td>Twitter</td>\n",
              "    </tr>\n",
              "  </tbody>\n",
              "</table>\n",
              "</div>"
            ],
            "text/plain": [
              "    id  Inicio   Fin       Cargo                            Compañía\n",
              "0  888    2010           Arriero                    Café de Colombia\n",
              "1  666    2013  2020     Senador  Senado de la República de Colombia\n",
              "2  666    2020        Influencer                             Twitter"
            ]
          },
          "metadata": {},
          "execution_count": 40
        }
      ],
      "source": [
        "trabajos"
      ]
    },
    {
      "cell_type": "code",
      "source": [
        "import unidecode"
      ],
      "metadata": {
        "colab": {
          "base_uri": "https://localhost:8080/",
          "height": 318
        },
        "id": "NQAO_252W53I",
        "outputId": "ef00bae6-66a2-4fd8-c7c5-c95cfe93fb2b"
      },
      "execution_count": null,
      "outputs": [
        {
          "output_type": "error",
          "ename": "ModuleNotFoundError",
          "evalue": "ignored",
          "traceback": [
            "\u001b[0;31m---------------------------------------------------------------------------\u001b[0m",
            "\u001b[0;31mModuleNotFoundError\u001b[0m                       Traceback (most recent call last)",
            "\u001b[0;32m<ipython-input-44-a3a41c1d9718>\u001b[0m in \u001b[0;36m<module>\u001b[0;34m()\u001b[0m\n\u001b[0;32m----> 1\u001b[0;31m \u001b[0;32mimport\u001b[0m \u001b[0munidecode\u001b[0m\u001b[0;34m\u001b[0m\u001b[0;34m\u001b[0m\u001b[0m\n\u001b[0m",
            "\u001b[0;31mModuleNotFoundError\u001b[0m: No module named 'unidecode'",
            "",
            "\u001b[0;31m---------------------------------------------------------------------------\u001b[0;32m\nNOTE: If your import is failing due to a missing package, you can\nmanually install dependencies using either !pip or !apt.\n\nTo view examples of installing some common dependencies, click the\n\"Open Examples\" button below.\n\u001b[0;31m---------------------------------------------------------------------------\u001b[0m\n"
          ],
          "errorDetails": {
            "actions": [
              {
                "action": "open_url",
                "actionText": "Open Examples",
                "url": "/notebooks/snippets/importing_libraries.ipynb"
              }
            ]
          }
        }
      ]
    },
    {
      "cell_type": "code",
      "source": [
        "personas[personas['Nombre'].str.lower(.apply(unidecode.unidecode).str.contains('alvaro urible velez'))].iloc"
      ],
      "metadata": {
        "colab": {
          "base_uri": "https://localhost:8080/",
          "height": 136
        },
        "id": "mkHQcnjAWt6U",
        "outputId": "5374f4c1-b146-4d3e-dd3c-6aa249396d99"
      },
      "execution_count": null,
      "outputs": [
        {
          "output_type": "error",
          "ename": "SyntaxError",
          "evalue": "ignored",
          "traceback": [
            "\u001b[0;36m  File \u001b[0;32m\"<ipython-input-46-dc4a20a85944>\"\u001b[0;36m, line \u001b[0;32m1\u001b[0m\n\u001b[0;31m    personas['Nombre'].str.lower(.apply(unidecode.unidecode).str.contains('alvaro urible velez'))\u001b[0m\n\u001b[0m                                 ^\u001b[0m\n\u001b[0;31mSyntaxError\u001b[0m\u001b[0;31m:\u001b[0m invalid syntax\n"
          ]
        }
      ]
    },
    {
      "cell_type": "code",
      "source": [
        "cc=persona[persona['Nombre'].str.lower().str.contains('álvaro uribe vélez')].iloc[0].get('id')\n",
        "t=trabajos[trabajos['id']==cc]\n",
        "t[t['Fin']==''].iloc[0]['Cargo']"
      ],
      "metadata": {
        "colab": {
          "base_uri": "https://localhost:8080/",
          "height": 209
        },
        "id": "nBsoB69CWRyz",
        "outputId": "c26d024e-5f46-42c6-fc31-59af2f940fbb"
      },
      "execution_count": null,
      "outputs": [
        {
          "output_type": "error",
          "ename": "NameError",
          "evalue": "ignored",
          "traceback": [
            "\u001b[0;31m---------------------------------------------------------------------------\u001b[0m",
            "\u001b[0;31mNameError\u001b[0m                                 Traceback (most recent call last)",
            "\u001b[0;32m<ipython-input-59-38cff54f790a>\u001b[0m in \u001b[0;36m<module>\u001b[0;34m()\u001b[0m\n\u001b[0;32m----> 1\u001b[0;31m \u001b[0mcc\u001b[0m\u001b[0;34m=\u001b[0m\u001b[0mpersona\u001b[0m\u001b[0;34m[\u001b[0m\u001b[0mpersona\u001b[0m\u001b[0;34m[\u001b[0m\u001b[0;34m'Nombre'\u001b[0m\u001b[0;34m]\u001b[0m\u001b[0;34m.\u001b[0m\u001b[0mstr\u001b[0m\u001b[0;34m.\u001b[0m\u001b[0mlower\u001b[0m\u001b[0;34m(\u001b[0m\u001b[0;34m)\u001b[0m\u001b[0;34m.\u001b[0m\u001b[0mstr\u001b[0m\u001b[0;34m.\u001b[0m\u001b[0mcontains\u001b[0m\u001b[0;34m(\u001b[0m\u001b[0;34m'álvaro uribe vélez'\u001b[0m\u001b[0;34m)\u001b[0m\u001b[0;34m]\u001b[0m\u001b[0;34m.\u001b[0m\u001b[0miloc\u001b[0m\u001b[0;34m[\u001b[0m\u001b[0;36m0\u001b[0m\u001b[0;34m]\u001b[0m\u001b[0;34m.\u001b[0m\u001b[0mget\u001b[0m\u001b[0;34m(\u001b[0m\u001b[0;34m'id'\u001b[0m\u001b[0;34m)\u001b[0m\u001b[0;34m\u001b[0m\u001b[0;34m\u001b[0m\u001b[0m\n\u001b[0m\u001b[1;32m      2\u001b[0m \u001b[0mt\u001b[0m\u001b[0;34m=\u001b[0m\u001b[0mtrabajos\u001b[0m\u001b[0;34m[\u001b[0m\u001b[0mtrabajos\u001b[0m\u001b[0;34m[\u001b[0m\u001b[0;34m'id'\u001b[0m\u001b[0;34m]\u001b[0m\u001b[0;34m==\u001b[0m\u001b[0mcc\u001b[0m\u001b[0;34m]\u001b[0m\u001b[0;34m\u001b[0m\u001b[0;34m\u001b[0m\u001b[0m\n\u001b[1;32m      3\u001b[0m \u001b[0mt\u001b[0m\u001b[0;34m[\u001b[0m\u001b[0mt\u001b[0m\u001b[0;34m[\u001b[0m\u001b[0;34m'Fin'\u001b[0m\u001b[0;34m]\u001b[0m\u001b[0;34m==\u001b[0m\u001b[0;34m''\u001b[0m\u001b[0;34m]\u001b[0m\u001b[0;34m.\u001b[0m\u001b[0miloc\u001b[0m\u001b[0;34m[\u001b[0m\u001b[0;36m0\u001b[0m\u001b[0;34m]\u001b[0m\u001b[0;34m[\u001b[0m\u001b[0;34m'Cargo'\u001b[0m\u001b[0;34m]\u001b[0m\u001b[0;34m\u001b[0m\u001b[0;34m\u001b[0m\u001b[0m\n",
            "\u001b[0;31mNameError\u001b[0m: name 'persona' is not defined"
          ]
        }
      ]
    },
    {
      "cell_type": "markdown",
      "metadata": {
        "cell_id": "00160-db50187a-85fc-45f5-9b78-221f038e0794",
        "deepnote_cell_type": "markdown",
        "id": "z2NsLagWs-Jg"
      },
      "source": [
        "## Non-relational databases"
      ]
    },
    {
      "cell_type": "markdown",
      "metadata": {
        "id": "TrVFoBNq7S8w"
      },
      "source": [
        "Listas de diccionarios anidados con una esquema de datos definido\n",
        "\n",
        "![img](https://raw.githubusercontent.com/restrepo/ComputationalMethods/master/material/figures/personajes.svg)"
      ]
    },
    {
      "cell_type": "code",
      "execution_count": null,
      "metadata": {
        "id": "9h6-PWEY7S8x"
      },
      "outputs": [],
      "source": [
        "personas['Fecha de Nacimiento']=pd.to_datetime( personas['Fecha de Nacimiento'] )"
      ]
    },
    {
      "cell_type": "code",
      "execution_count": null,
      "metadata": {
        "id": "NqtOPY_q7S8x",
        "outputId": "49b7b800-e076-452c-84fb-e4f91d04cc04",
        "colab": {
          "base_uri": "https://localhost:8080/",
          "height": 112
        }
      },
      "outputs": [
        {
          "output_type": "execute_result",
          "data": {
            "text/html": [
              "<div>\n",
              "<style scoped>\n",
              "    .dataframe tbody tr th:only-of-type {\n",
              "        vertical-align: middle;\n",
              "    }\n",
              "\n",
              "    .dataframe tbody tr th {\n",
              "        vertical-align: top;\n",
              "    }\n",
              "\n",
              "    .dataframe thead th {\n",
              "        text-align: right;\n",
              "    }\n",
              "</style>\n",
              "<table border=\"1\" class=\"dataframe\">\n",
              "  <thead>\n",
              "    <tr style=\"text-align: right;\">\n",
              "      <th></th>\n",
              "      <th>Nombre</th>\n",
              "      <th>Fecha de Nacimiento</th>\n",
              "      <th>id</th>\n",
              "      <th>Edad</th>\n",
              "      <th>Trabajos</th>\n",
              "    </tr>\n",
              "  </thead>\n",
              "  <tbody>\n",
              "    <tr>\n",
              "      <th>0</th>\n",
              "      <td>Juan Valdez</td>\n",
              "      <td>1966-07-04</td>\n",
              "      <td>888</td>\n",
              "      <td>55</td>\n",
              "      <td>[{'Inicio': 2010, 'Fin': '', 'Cargo': 'Arriero...</td>\n",
              "    </tr>\n",
              "    <tr>\n",
              "      <th>1</th>\n",
              "      <td>Álvaro Uribe Vélez</td>\n",
              "      <td>1952-07-04</td>\n",
              "      <td>666</td>\n",
              "      <td>69</td>\n",
              "      <td>[{'Inicio': 2013, 'Fin': '2020', 'Cargo': 'Sen...</td>\n",
              "    </tr>\n",
              "  </tbody>\n",
              "</table>\n",
              "</div>"
            ],
            "text/plain": [
              "               Nombre  ...                                           Trabajos\n",
              "0         Juan Valdez  ...  [{'Inicio': 2010, 'Fin': '', 'Cargo': 'Arriero...\n",
              "1  Álvaro Uribe Vélez  ...  [{'Inicio': 2013, 'Fin': '2020', 'Cargo': 'Sen...\n",
              "\n",
              "[2 rows x 5 columns]"
            ]
          },
          "metadata": {},
          "execution_count": 64
        }
      ],
      "source": [
        "personas"
      ]
    },
    {
      "cell_type": "markdown",
      "metadata": {
        "id": "pUJT1_X07S8x"
      },
      "source": [
        "Extract-Transform-Load: ETL"
      ]
    },
    {
      "cell_type": "code",
      "execution_count": null,
      "metadata": {
        "id": "twCXOfka7S8x"
      },
      "outputs": [],
      "source": [
        "# Realizar operaciones sobre fechas\n",
        "from dateutil.relativedelta import relativedelta"
      ]
    },
    {
      "cell_type": "code",
      "execution_count": null,
      "metadata": {
        "id": "NA2z7U8s7S8x"
      },
      "outputs": [],
      "source": [
        "personas['Edad']=personas['Fecha de Nacimiento'].apply(lambda t: \n",
        "                        relativedelta( pd.to_datetime('now'), t).years )"
      ]
    },
    {
      "cell_type": "code",
      "execution_count": null,
      "metadata": {
        "id": "VZVQpJDg7S8y",
        "outputId": "453de768-ed0e-4fff-e92d-b070203ac838",
        "colab": {
          "base_uri": "https://localhost:8080/"
        }
      },
      "outputs": [
        {
          "output_type": "execute_result",
          "data": {
            "text/plain": [
              "[{'Cargo': 'Senador',\n",
              "  'Compañía': 'Senado de la República de Colombia',\n",
              "  'Fin': '2020',\n",
              "  'Inicio': 2013,\n",
              "  'id': 666},\n",
              " {'Cargo': 'Influencer',\n",
              "  'Compañía': 'Twitter',\n",
              "  'Fin': '',\n",
              "  'Inicio': 2020,\n",
              "  'id': 666}]"
            ]
          },
          "metadata": {},
          "execution_count": 55
        }
      ],
      "source": [
        "trabajos[trabajos['id']==666].to_dict(orient='records')"
      ]
    },
    {
      "cell_type": "code",
      "execution_count": null,
      "metadata": {
        "id": "ySZogsiJ7S8y",
        "colab": {
          "base_uri": "https://localhost:8080/",
          "height": 112
        },
        "outputId": "5ad795d2-2561-47b8-fea7-a00b9049061e"
      },
      "outputs": [
        {
          "output_type": "execute_result",
          "data": {
            "text/html": [
              "<div>\n",
              "<style scoped>\n",
              "    .dataframe tbody tr th:only-of-type {\n",
              "        vertical-align: middle;\n",
              "    }\n",
              "\n",
              "    .dataframe tbody tr th {\n",
              "        vertical-align: top;\n",
              "    }\n",
              "\n",
              "    .dataframe thead th {\n",
              "        text-align: right;\n",
              "    }\n",
              "</style>\n",
              "<table border=\"1\" class=\"dataframe\">\n",
              "  <thead>\n",
              "    <tr style=\"text-align: right;\">\n",
              "      <th></th>\n",
              "      <th>Nombre</th>\n",
              "      <th>Fecha de Nacimiento</th>\n",
              "      <th>id</th>\n",
              "      <th>Edad</th>\n",
              "      <th>Trabajos</th>\n",
              "    </tr>\n",
              "  </thead>\n",
              "  <tbody>\n",
              "    <tr>\n",
              "      <th>0</th>\n",
              "      <td>Juan Valdez</td>\n",
              "      <td>1966-07-04</td>\n",
              "      <td>888</td>\n",
              "      <td>55</td>\n",
              "      <td>[{'Inicio': 2010, 'Fin': '', 'Cargo': 'Arriero...</td>\n",
              "    </tr>\n",
              "    <tr>\n",
              "      <th>1</th>\n",
              "      <td>Álvaro Uribe Vélez</td>\n",
              "      <td>1952-07-04</td>\n",
              "      <td>666</td>\n",
              "      <td>69</td>\n",
              "      <td>[{'Inicio': 2013, 'Fin': '2020', 'Cargo': 'Sen...</td>\n",
              "    </tr>\n",
              "  </tbody>\n",
              "</table>\n",
              "</div>"
            ],
            "text/plain": [
              "               Nombre  ...                                           Trabajos\n",
              "0         Juan Valdez  ...  [{'Inicio': 2010, 'Fin': '', 'Cargo': 'Arriero...\n",
              "1  Álvaro Uribe Vélez  ...  [{'Inicio': 2013, 'Fin': '2020', 'Cargo': 'Sen...\n",
              "\n",
              "[2 rows x 5 columns]"
            ]
          },
          "metadata": {},
          "execution_count": 62
        }
      ],
      "source": [
        "personas['Trabajos']=personas['id'].apply(lambda i:  trabajos[trabajos['id']==i\n",
        "                                                             ][['Inicio','Fin','Cargo','Compañía']\n",
        "                                                              ].to_dict(orient='records') )"
      ]
    },
    {
      "cell_type": "code",
      "execution_count": null,
      "metadata": {
        "id": "LHdo8J2P7S8y"
      },
      "outputs": [],
      "source": [
        "personajes=personas[['Nombre','Edad','Trabajos']]"
      ]
    },
    {
      "cell_type": "code",
      "execution_count": null,
      "metadata": {
        "id": "lWbS9d2H7S8y",
        "outputId": "13fe13e6-7e4e-4c4e-ee0f-be42b6c7ebd3",
        "colab": {
          "base_uri": "https://localhost:8080/",
          "height": 112
        }
      },
      "outputs": [
        {
          "output_type": "execute_result",
          "data": {
            "text/html": [
              "<div>\n",
              "<style scoped>\n",
              "    .dataframe tbody tr th:only-of-type {\n",
              "        vertical-align: middle;\n",
              "    }\n",
              "\n",
              "    .dataframe tbody tr th {\n",
              "        vertical-align: top;\n",
              "    }\n",
              "\n",
              "    .dataframe thead th {\n",
              "        text-align: right;\n",
              "    }\n",
              "</style>\n",
              "<table border=\"1\" class=\"dataframe\">\n",
              "  <thead>\n",
              "    <tr style=\"text-align: right;\">\n",
              "      <th></th>\n",
              "      <th>Nombre</th>\n",
              "      <th>Edad</th>\n",
              "      <th>Trabajos</th>\n",
              "    </tr>\n",
              "  </thead>\n",
              "  <tbody>\n",
              "    <tr>\n",
              "      <th>0</th>\n",
              "      <td>Juan Valdez</td>\n",
              "      <td>55</td>\n",
              "      <td>[{'Inicio': 2010, 'Fin': '', 'Cargo': 'Arriero...</td>\n",
              "    </tr>\n",
              "    <tr>\n",
              "      <th>1</th>\n",
              "      <td>Álvaro Uribe Vélez</td>\n",
              "      <td>69</td>\n",
              "      <td>[{'Inicio': 2013, 'Fin': '2020', 'Cargo': 'Sen...</td>\n",
              "    </tr>\n",
              "  </tbody>\n",
              "</table>\n",
              "</div>"
            ],
            "text/plain": [
              "               Nombre  Edad                                           Trabajos\n",
              "0         Juan Valdez    55  [{'Inicio': 2010, 'Fin': '', 'Cargo': 'Arriero...\n",
              "1  Álvaro Uribe Vélez    69  [{'Inicio': 2013, 'Fin': '2020', 'Cargo': 'Sen..."
            ]
          },
          "metadata": {},
          "execution_count": 58
        }
      ],
      "source": [
        "personajes"
      ]
    },
    {
      "cell_type": "code",
      "source": [
        "personajes.to_dict(orient='records')"
      ],
      "metadata": {
        "colab": {
          "base_uri": "https://localhost:8080/"
        },
        "id": "zozOLPPMcVzg",
        "outputId": "904eee8b-13d4-4b29-8bf4-7a50119d1089"
      },
      "execution_count": null,
      "outputs": [
        {
          "output_type": "execute_result",
          "data": {
            "text/plain": [
              "[{'Edad': 55,\n",
              "  'Nombre': 'Juan Valdez',\n",
              "  'Trabajos': [{'Cargo': 'Arriero',\n",
              "    'Compañía': 'Café de Colombia',\n",
              "    'Fin': '',\n",
              "    'Inicio': 2010}]},\n",
              " {'Edad': 69,\n",
              "  'Nombre': 'Álvaro Uribe Vélez',\n",
              "  'Trabajos': [{'Cargo': 'Senador',\n",
              "    'Compañía': 'Senado de la República de Colombia',\n",
              "    'Fin': '2020',\n",
              "    'Inicio': 2013},\n",
              "   {'Cargo': 'Influencer', 'Compañía': 'Twitter', 'Fin': '', 'Inicio': 2020}]}]"
            ]
          },
          "metadata": {},
          "execution_count": 70
        }
      ]
    },
    {
      "cell_type": "code",
      "execution_count": null,
      "metadata": {
        "id": "ekfCI4H67S8z"
      },
      "outputs": [],
      "source": [
        "from IPython.display import JSON"
      ]
    },
    {
      "cell_type": "code",
      "execution_count": null,
      "metadata": {
        "cell_id": "00161-c9ac407c-7e37-4992-88ef-1de719aef0e3",
        "deepnote_cell_type": "code",
        "id": "2SxXz3iW7S8z",
        "outputId": "c1f44563-e7ea-4cee-fba9-ac9f547bd176",
        "colab": {
          "base_uri": "https://localhost:8080/",
          "height": 35
        }
      },
      "outputs": [
        {
          "output_type": "execute_result",
          "data": {
            "application/json": [
              {
                "Edad": 55,
                "Nombre": "Juan Valdez",
                "Trabajos": [
                  {
                    "Cargo": "Arriero",
                    "Fin": "",
                    "Compañía": "Café de Colombia",
                    "Inicio": 2010
                  }
                ]
              },
              {
                "Edad": 69,
                "Nombre": "Álvaro Uribe Vélez",
                "Trabajos": [
                  {
                    "Cargo": "Senador",
                    "Fin": "2020",
                    "Compañía": "Senado de la República de Colombia",
                    "Inicio": 2013
                  },
                  {
                    "Cargo": "Influencer",
                    "Fin": "",
                    "Compañía": "Twitter",
                    "Inicio": 2020
                  }
                ]
              }
            ],
            "text/plain": [
              "<IPython.core.display.JSON object>"
            ]
          },
          "metadata": {},
          "execution_count": 71
        }
      ],
      "source": [
        "JSON( personajes.to_dict(orient='records') )"
      ]
    },
    {
      "cell_type": "code",
      "execution_count": null,
      "metadata": {
        "cell_id": "00162-8106b4c7-3e55-4ca0-b2f5-a4c476c1b656",
        "deepnote_cell_type": "code",
        "id": "OXydDcI67S8z",
        "colab": {
          "base_uri": "https://localhost:8080/",
          "height": 245
        },
        "outputId": "aed1e1d7-726b-41d7-ae46-e02a832fa804"
      },
      "outputs": [
        {
          "output_type": "error",
          "ename": "NameError",
          "evalue": "ignored",
          "traceback": [
            "\u001b[0;31m---------------------------------------------------------------------------\u001b[0m",
            "\u001b[0;31mNameError\u001b[0m                                 Traceback (most recent call last)",
            "\u001b[0;32m<ipython-input-69-1c0c4a4f8263>\u001b[0m in \u001b[0;36m<module>\u001b[0;34m()\u001b[0m\n\u001b[0;32m----> 1\u001b[0;31m \u001b[0mpersona\u001b[0m\u001b[0;34m[\u001b[0m\u001b[0;34m'Trabajo'\u001b[0m\u001b[0;34m]\u001b[0m\u001b[0;34m=\u001b[0m\u001b[0;34m''\u001b[0m\u001b[0;34m\u001b[0m\u001b[0;34m\u001b[0m\u001b[0m\n\u001b[0m\u001b[1;32m      2\u001b[0m \u001b[0;31m#Column need to be converted to object to assign an advance object like a list\u001b[0m\u001b[0;34m\u001b[0m\u001b[0;34m\u001b[0m\u001b[0;34m\u001b[0m\u001b[0m\n\u001b[1;32m      3\u001b[0m \u001b[0mpersona\u001b[0m\u001b[0;34m[\u001b[0m\u001b[0;34m'Trabajo'\u001b[0m\u001b[0;34m]\u001b[0m\u001b[0;34m=\u001b[0m\u001b[0mpersona\u001b[0m\u001b[0;34m[\u001b[0m\u001b[0;34m'Trabajo'\u001b[0m\u001b[0;34m]\u001b[0m\u001b[0;34m.\u001b[0m\u001b[0mastype\u001b[0m\u001b[0;34m(\u001b[0m\u001b[0;34m'object'\u001b[0m\u001b[0;34m)\u001b[0m\u001b[0;34m\u001b[0m\u001b[0;34m\u001b[0m\u001b[0m\n\u001b[1;32m      4\u001b[0m \u001b[0mpersona\u001b[0m\u001b[0;34m.\u001b[0m\u001b[0mat\u001b[0m\u001b[0;34m[\u001b[0m\u001b[0;36m0\u001b[0m\u001b[0;34m,\u001b[0m\u001b[0;34m'Trabajo'\u001b[0m\u001b[0;34m]\u001b[0m\u001b[0;34m=\u001b[0m\u001b[0;34m[\u001b[0m\u001b[0md1\u001b[0m\u001b[0;34m]\u001b[0m\u001b[0;34m\u001b[0m\u001b[0;34m\u001b[0m\u001b[0m\n\u001b[1;32m      5\u001b[0m \u001b[0mpersona\u001b[0m\u001b[0;34m.\u001b[0m\u001b[0mat\u001b[0m\u001b[0;34m[\u001b[0m\u001b[0;36m1\u001b[0m\u001b[0;34m,\u001b[0m\u001b[0;34m'Trabajo'\u001b[0m\u001b[0;34m]\u001b[0m\u001b[0;34m=\u001b[0m\u001b[0;34m[\u001b[0m\u001b[0md2\u001b[0m\u001b[0;34m,\u001b[0m\u001b[0md3\u001b[0m\u001b[0;34m]\u001b[0m\u001b[0;34m\u001b[0m\u001b[0;34m\u001b[0m\u001b[0m\n",
            "\u001b[0;31mNameError\u001b[0m: name 'persona' is not defined"
          ]
        }
      ],
      "source": [
        "persona['Trabajo']=''\n",
        "#Column need to be converted to object to assign an advance object like a list\n",
        "persona['Trabajo']=persona['Trabajo'].astype('object')\n",
        "persona.at[0,'Trabajo']=[d1]\n",
        "persona.at[1,'Trabajo']=[d2,d3]\n"
      ]
    },
    {
      "cell_type": "code",
      "execution_count": null,
      "metadata": {
        "cell_id": "00163-f8b9b948-8628-49e2-becb-00c4ff5e20d6",
        "deepnote_cell_type": "code",
        "id": "hfy-22pf7S8z",
        "outputId": "8d7dc235-5d8f-40a4-c2fc-8cfa2198f697"
      },
      "outputs": [
        {
          "data": {
            "text/html": [
              "<div>\n",
              "<style scoped>\n",
              "    .dataframe tbody tr th:only-of-type {\n",
              "        vertical-align: middle;\n",
              "    }\n",
              "\n",
              "    .dataframe tbody tr th {\n",
              "        vertical-align: top;\n",
              "    }\n",
              "\n",
              "    .dataframe thead th {\n",
              "        text-align: right;\n",
              "    }\n",
              "</style>\n",
              "<table border=\"1\" class=\"dataframe\">\n",
              "  <thead>\n",
              "    <tr style=\"text-align: right;\">\n",
              "      <th></th>\n",
              "      <th>Nombre</th>\n",
              "      <th>Edad</th>\n",
              "      <th>Trabajo</th>\n",
              "    </tr>\n",
              "  </thead>\n",
              "  <tbody>\n",
              "    <tr>\n",
              "      <th>0</th>\n",
              "      <td>Juan Valdez</td>\n",
              "      <td>23</td>\n",
              "      <td>[{'id': 888, 'Inicio': 2010, 'Fin:': None, 'Cargo': 'Arriero', 'Compañía': 'Café de Colombia'}]</td>\n",
              "    </tr>\n",
              "    <tr>\n",
              "      <th>1</th>\n",
              "      <td>Álvaro Uribe Vélez</td>\n",
              "      <td>65</td>\n",
              "      <td>[{'id': 666, 'Inicio': 2013, 'Fin:': 2020, 'Cargo': 'Senador', 'Compañía': 'Senado de la República de Colombia'}, {'id': 666, 'Inicio': 2020, 'Fin:': None, 'Cargo': 'Influencer', 'Compañía': 'Twit...</td>\n",
              "    </tr>\n",
              "  </tbody>\n",
              "</table>\n",
              "</div>"
            ],
            "text/plain": [
              "               Nombre  Edad  \\\n",
              "0         Juan Valdez    23   \n",
              "1  Álvaro Uribe Vélez    65   \n",
              "\n",
              "                                                                                                                                                                                                   Trabajo  \n",
              "0                                                                                                          [{'id': 888, 'Inicio': 2010, 'Fin:': None, 'Cargo': 'Arriero', 'Compañía': 'Café de Colombia'}]  \n",
              "1  [{'id': 666, 'Inicio': 2013, 'Fin:': 2020, 'Cargo': 'Senador', 'Compañía': 'Senado de la República de Colombia'}, {'id': 666, 'Inicio': 2020, 'Fin:': None, 'Cargo': 'Influencer', 'Compañía': 'Twit...  "
            ]
          },
          "execution_count": 193,
          "metadata": {},
          "output_type": "execute_result"
        }
      ],
      "source": [
        "persona"
      ]
    },
    {
      "cell_type": "code",
      "execution_count": null,
      "metadata": {
        "cell_id": "00164-6d851554-71fb-4e37-97ff-3496acd9798a",
        "deepnote_cell_type": "code",
        "id": "M9oQ1SR67S80",
        "outputId": "508ab2b9-7872-4e70-f745-7ff3130a7484"
      },
      "outputs": [
        {
          "data": {
            "text/html": [
              "<div>\n",
              "<style scoped>\n",
              "    .dataframe tbody tr th:only-of-type {\n",
              "        vertical-align: middle;\n",
              "    }\n",
              "\n",
              "    .dataframe tbody tr th {\n",
              "        vertical-align: top;\n",
              "    }\n",
              "\n",
              "    .dataframe thead th {\n",
              "        text-align: right;\n",
              "    }\n",
              "</style>\n",
              "<table border=\"1\" class=\"dataframe\">\n",
              "  <thead>\n",
              "    <tr style=\"text-align: right;\">\n",
              "      <th></th>\n",
              "      <th>id</th>\n",
              "      <th>Inicio</th>\n",
              "      <th>Fin:</th>\n",
              "      <th>Cargo</th>\n",
              "      <th>Compañía</th>\n",
              "    </tr>\n",
              "  </thead>\n",
              "  <tbody>\n",
              "    <tr>\n",
              "      <th>0</th>\n",
              "      <td>666</td>\n",
              "      <td>2013</td>\n",
              "      <td>2020.0</td>\n",
              "      <td>Senador</td>\n",
              "      <td>Senado de la República de Colombia</td>\n",
              "    </tr>\n",
              "    <tr>\n",
              "      <th>1</th>\n",
              "      <td>666</td>\n",
              "      <td>2020</td>\n",
              "      <td>NaN</td>\n",
              "      <td>Influencer</td>\n",
              "      <td>Twitter</td>\n",
              "    </tr>\n",
              "  </tbody>\n",
              "</table>\n",
              "</div>"
            ],
            "text/plain": [
              "    id  Inicio    Fin:       Cargo                            Compañía\n",
              "0  666    2013  2020.0     Senador  Senado de la República de Colombia\n",
              "1  666    2020     NaN  Influencer                             Twitter"
            ]
          },
          "execution_count": 192,
          "metadata": {},
          "output_type": "execute_result"
        }
      ],
      "source": [
        "pd.DataFrame( persona.loc[1,'Trabajo'] )"
      ]
    },
    {
      "cell_type": "code",
      "source": [
        "personajes"
      ],
      "metadata": {
        "colab": {
          "base_uri": "https://localhost:8080/",
          "height": 112
        },
        "id": "Eo78zUlmc9Pa",
        "outputId": "2cf0b42d-9599-4b75-a574-5c6b90eaabce"
      },
      "execution_count": null,
      "outputs": [
        {
          "output_type": "execute_result",
          "data": {
            "text/html": [
              "<div>\n",
              "<style scoped>\n",
              "    .dataframe tbody tr th:only-of-type {\n",
              "        vertical-align: middle;\n",
              "    }\n",
              "\n",
              "    .dataframe tbody tr th {\n",
              "        vertical-align: top;\n",
              "    }\n",
              "\n",
              "    .dataframe thead th {\n",
              "        text-align: right;\n",
              "    }\n",
              "</style>\n",
              "<table border=\"1\" class=\"dataframe\">\n",
              "  <thead>\n",
              "    <tr style=\"text-align: right;\">\n",
              "      <th></th>\n",
              "      <th>Nombre</th>\n",
              "      <th>Edad</th>\n",
              "      <th>Trabajos</th>\n",
              "    </tr>\n",
              "  </thead>\n",
              "  <tbody>\n",
              "    <tr>\n",
              "      <th>0</th>\n",
              "      <td>Juan Valdez</td>\n",
              "      <td>55</td>\n",
              "      <td>[{'Inicio': 2010, 'Fin': '', 'Cargo': 'Arriero...</td>\n",
              "    </tr>\n",
              "    <tr>\n",
              "      <th>1</th>\n",
              "      <td>Álvaro Uribe Vélez</td>\n",
              "      <td>69</td>\n",
              "      <td>[{'Inicio': 2013, 'Fin': '2020', 'Cargo': 'Sen...</td>\n",
              "    </tr>\n",
              "  </tbody>\n",
              "</table>\n",
              "</div>"
            ],
            "text/plain": [
              "               Nombre  Edad                                           Trabajos\n",
              "0         Juan Valdez    55  [{'Inicio': 2010, 'Fin': '', 'Cargo': 'Arriero...\n",
              "1  Álvaro Uribe Vélez    69  [{'Inicio': 2013, 'Fin': '2020', 'Cargo': 'Sen..."
            ]
          },
          "metadata": {},
          "execution_count": 72
        }
      ]
    },
    {
      "cell_type": "markdown",
      "metadata": {
        "cell_id": "00165-b49cdbca-5db4-4a8c-9619-c6728a61eda4",
        "deepnote_cell_type": "markdown",
        "id": "Vt6oYNrZ7S80"
      },
      "source": [
        "### Actividad\n",
        "Obtenga el último trabajo de Álvaro Uribe Vélez"
      ]
    },
    {
      "cell_type": "code",
      "source": [
        "personajes[personajes['Nombre']=='Àvaro Uribe Vèlezz'].get('Trabajos')\n",
        "\n",
        "[d.get('Cargo') for x in l if not d.get('fin')=='']"
      ],
      "metadata": {
        "colab": {
          "base_uri": "https://localhost:8080/",
          "height": 209
        },
        "id": "B77uaZYadA9t",
        "outputId": "dfdeb7d7-59f5-4b92-f530-bf7aa3e95423"
      },
      "execution_count": null,
      "outputs": [
        {
          "output_type": "error",
          "ename": "NameError",
          "evalue": "ignored",
          "traceback": [
            "\u001b[0;31m---------------------------------------------------------------------------\u001b[0m",
            "\u001b[0;31mNameError\u001b[0m                                 Traceback (most recent call last)",
            "\u001b[0;32m<ipython-input-76-801548de2661>\u001b[0m in \u001b[0;36m<module>\u001b[0;34m()\u001b[0m\n\u001b[1;32m      1\u001b[0m \u001b[0mpersonajes\u001b[0m\u001b[0;34m[\u001b[0m\u001b[0mpersonajes\u001b[0m\u001b[0;34m[\u001b[0m\u001b[0;34m'Nombre'\u001b[0m\u001b[0;34m]\u001b[0m\u001b[0;34m==\u001b[0m\u001b[0;34m'Àvaro Uribe Vèlezz'\u001b[0m\u001b[0;34m]\u001b[0m\u001b[0;34m.\u001b[0m\u001b[0mget\u001b[0m\u001b[0;34m(\u001b[0m\u001b[0;34m'Trabajos'\u001b[0m\u001b[0;34m)\u001b[0m\u001b[0;34m\u001b[0m\u001b[0;34m\u001b[0m\u001b[0m\n\u001b[1;32m      2\u001b[0m \u001b[0;34m\u001b[0m\u001b[0m\n\u001b[0;32m----> 3\u001b[0;31m \u001b[0;34m[\u001b[0m\u001b[0md\u001b[0m\u001b[0;34m.\u001b[0m\u001b[0mget\u001b[0m\u001b[0;34m(\u001b[0m\u001b[0;34m'Cargo'\u001b[0m\u001b[0;34m)\u001b[0m \u001b[0;32mfor\u001b[0m \u001b[0mx\u001b[0m \u001b[0;32min\u001b[0m \u001b[0ml\u001b[0m \u001b[0;32mif\u001b[0m \u001b[0;32mnot\u001b[0m \u001b[0md\u001b[0m\u001b[0;34m.\u001b[0m\u001b[0mget\u001b[0m\u001b[0;34m(\u001b[0m\u001b[0;34m'fin'\u001b[0m\u001b[0;34m)\u001b[0m\u001b[0;34m==\u001b[0m\u001b[0;34m''\u001b[0m\u001b[0;34m]\u001b[0m\u001b[0;34m\u001b[0m\u001b[0;34m\u001b[0m\u001b[0m\n\u001b[0m",
            "\u001b[0;31mNameError\u001b[0m: name 'l' is not defined"
          ]
        }
      ]
    },
    {
      "cell_type": "code",
      "execution_count": null,
      "metadata": {
        "cell_id": "00166-c34e4a0e-1f4d-47ec-9583-552149e9c22e",
        "deepnote_cell_type": "code",
        "id": "eB98LVQQ7S80"
      },
      "outputs": [],
      "source": [
        "persona[persona['Nombre']=='Álvaro Uribe Vélez'\n",
        "       ].Trabajo.apply(\n",
        "        lambda l: [d.get('Cargo') for d in l ]).str[-1]"
      ]
    },
    {
      "cell_type": "markdown",
      "metadata": {
        "id": "niqxzvlL7S80"
      },
      "source": [
        ""
      ]
    },
    {
      "cell_type": "markdown",
      "metadata": {
        "cell_id": "00167-5961be8e-ed89-40b6-b41d-51c96c61be97",
        "deepnote_cell_type": "markdown",
        "id": "2NdcwWa5tuzv"
      },
      "source": [
        "We have shown that the simple two dimensional spreadsheets where each cell values is a simple type like string, integer, or float, can be represented as a dictionary of lists values or a list of dictionary column-value assignment. \n",
        "\n",
        "We can go further and allow to store in the value itself a more general data structure, like nested lists and dictionaries. This allows advanced data-analysis when the `apply` methos is used to operate inside the nested lists or dictionaries.\n",
        "\n",
        "See for example:\n"
      ]
    },
    {
      "cell_type": "markdown",
      "metadata": {
        "cell_id": "00168-eb357193-9719-4e73-b2f7-4f39b6bb9f06",
        "deepnote_cell_type": "markdown",
        "id": "wB4hBVkhoPwR"
      },
      "source": [
        "##  World wide web\n",
        "There are really three kinds of web\n",
        "* The normal web, \n",
        "* The deep web,\n",
        "* _The machine web_. The web for machine readable responses. It is served in `JSON` or `XML`  formats, which preserve programming objects."
      ]
    },
    {
      "cell_type": "markdown",
      "metadata": {
        "cell_id": "00169-83452998-c3f5-4934-af52-088d397ec467",
        "deepnote_cell_type": "markdown",
        "id": "SAN4CfR37S81"
      },
      "source": [
        "### Normal web"
      ]
    },
    {
      "cell_type": "code",
      "execution_count": null,
      "metadata": {
        "cell_id": "00170-e0b4c06a-4c1b-4744-95ad-6d44760e3be3",
        "deepnote_cell_type": "code",
        "id": "vrV5CV-I7S81",
        "outputId": "7afa540b-2b9c-41fc-a0dc-9c1dfaa1ad6f"
      },
      "outputs": [
        {
          "data": {
            "text/html": [
              "<div>\n",
              "<style scoped>\n",
              "    .dataframe tbody tr th:only-of-type {\n",
              "        vertical-align: middle;\n",
              "    }\n",
              "\n",
              "    .dataframe tbody tr th {\n",
              "        vertical-align: top;\n",
              "    }\n",
              "\n",
              "    .dataframe thead th {\n",
              "        text-align: right;\n",
              "    }\n",
              "</style>\n",
              "<table border=\"1\" class=\"dataframe\">\n",
              "  <thead>\n",
              "    <tr style=\"text-align: right;\">\n",
              "      <th></th>\n",
              "      <th>COVID-19 pandemic</th>\n",
              "      <th>COVID-19 pandemic.1</th>\n",
              "    </tr>\n",
              "  </thead>\n",
              "  <tbody>\n",
              "    <tr>\n",
              "      <th>1</th>\n",
              "      <td>Disease</td>\n",
              "      <td>COVID-19</td>\n",
              "    </tr>\n",
              "    <tr>\n",
              "      <th>2</th>\n",
              "      <td>Virus strain</td>\n",
              "      <td>SARS-CoV-2</td>\n",
              "    </tr>\n",
              "    <tr>\n",
              "      <th>3</th>\n",
              "      <td>Source</td>\n",
              "      <td>Probably bats, possibly via pangolins[1][2]</td>\n",
              "    </tr>\n",
              "    <tr>\n",
              "      <th>4</th>\n",
              "      <td>Location</td>\n",
              "      <td>Worldwide</td>\n",
              "    </tr>\n",
              "    <tr>\n",
              "      <th>5</th>\n",
              "      <td>First outbreak</td>\n",
              "      <td>Mainland China[3]</td>\n",
              "    </tr>\n",
              "    <tr>\n",
              "      <th>6</th>\n",
              "      <td>Index case</td>\n",
              "      <td>Wuhan, Hubei, China.mw-parser-output .geo-default,.mw-parser-output .geo-dms,.mw-parser-output .geo-dec{display:inline}.mw-parser-output .geo-nondefault,.mw-parser-output .geo-multi-punct{display:...</td>\n",
              "    </tr>\n",
              "    <tr>\n",
              "      <th>7</th>\n",
              "      <td>Date</td>\n",
              "      <td>1 December 2019[3] – present(1 year, 3 months, 3 weeks and 3 days)</td>\n",
              "    </tr>\n",
              "    <tr>\n",
              "      <th>8</th>\n",
              "      <td>Confirmed cases</td>\n",
              "      <td>124,971,776[4]</td>\n",
              "    </tr>\n",
              "    <tr>\n",
              "      <th>9</th>\n",
              "      <td>Active cases</td>\n",
              "      <td>51,331,455[4]</td>\n",
              "    </tr>\n",
              "    <tr>\n",
              "      <th>10</th>\n",
              "      <td>Recovered</td>\n",
              "      <td>70,893,740[4]</td>\n",
              "    </tr>\n",
              "    <tr>\n",
              "      <th>11</th>\n",
              "      <td>Deaths</td>\n",
              "      <td>2,746,581[4]</td>\n",
              "    </tr>\n",
              "    <tr>\n",
              "      <th>12</th>\n",
              "      <td>Territories</td>\n",
              "      <td>192[4]</td>\n",
              "    </tr>\n",
              "  </tbody>\n",
              "</table>\n",
              "</div>"
            ],
            "text/plain": [
              "   COVID-19 pandemic  \\\n",
              "1            Disease   \n",
              "2       Virus strain   \n",
              "3             Source   \n",
              "4           Location   \n",
              "5     First outbreak   \n",
              "6         Index case   \n",
              "7               Date   \n",
              "8    Confirmed cases   \n",
              "9       Active cases   \n",
              "10         Recovered   \n",
              "11            Deaths   \n",
              "12       Territories   \n",
              "\n",
              "                                                                                                                                                                                        COVID-19 pandemic.1  \n",
              "1                                                                                                                                                                                                  COVID-19  \n",
              "2                                                                                                                                                                                                SARS-CoV-2  \n",
              "3                                                                                                                                                               Probably bats, possibly via pangolins[1][2]  \n",
              "4                                                                                                                                                                                                 Worldwide  \n",
              "5                                                                                                                                                                                         Mainland China[3]  \n",
              "6   Wuhan, Hubei, China.mw-parser-output .geo-default,.mw-parser-output .geo-dms,.mw-parser-output .geo-dec{display:inline}.mw-parser-output .geo-nondefault,.mw-parser-output .geo-multi-punct{display:...  \n",
              "7                                                                                                                                        1 December 2019[3] – present(1 year, 3 months, 3 weeks and 3 days)  \n",
              "8                                                                                                                                                                                            124,971,776[4]  \n",
              "9                                                                                                                                                                                             51,331,455[4]  \n",
              "10                                                                                                                                                                                            70,893,740[4]  \n",
              "11                                                                                                                                                                                             2,746,581[4]  \n",
              "12                                                                                                                                                                                                   192[4]  "
            ]
          },
          "execution_count": 201,
          "metadata": {},
          "output_type": "execute_result"
        }
      ],
      "source": [
        "pd.read_html('https://en.wikipedia.org/wiki/COVID-19_pandemic_by_country_and_territory')[0][1:]"
      ]
    },
    {
      "cell_type": "markdown",
      "metadata": {
        "cell_id": "00171-4930bd6f-f022-4c0d-825a-c978307d6a96",
        "deepnote_cell_type": "markdown",
        "id": "roUWd7Uy7S81"
      },
      "source": [
        "Real world example: microsoft academics\n",
        "![img](https://docs.microsoft.com/en-us/academic-services/graph/media/erd/entity-relationship-diagram.png)"
      ]
    },
    {
      "cell_type": "markdown",
      "metadata": {
        "cell_id": "00172-d77428b0-8158-40df-a696-28018c73f4b3",
        "deepnote_cell_type": "markdown",
        "id": "Uop5k3wk7S81"
      },
      "source": [
        "### Machine web\n",
        "For example, consider the following normal web page:\n",
        "\n",
        "http://old.inspirehep.net/search?p=doi:10.1103/PhysRevLett.122.132001\n",
        "\n",
        "about a Scientific paper with people from the University of Antioquia. A _machine web_ version can be easily obtained in JSON just by attaching the extra parameter `&of=recjson`, and direcly loaded from Pandas, which works like a _browser for the third web_:"
      ]
    },
    {
      "cell_type": "code",
      "execution_count": null,
      "metadata": {
        "cell_id": "00173-73ec9ef2-d196-4a39-bd0d-64e4de85db70",
        "deepnote_cell_type": "code",
        "id": "u3JUGr7z7S81"
      },
      "outputs": [],
      "source": [
        "import pandas as pd"
      ]
    },
    {
      "cell_type": "code",
      "execution_count": null,
      "metadata": {
        "cell_id": "00174-c9b1fdd4-0927-465a-9e06-a54712ff98b5",
        "deepnote_cell_type": "code",
        "id": "-cg2w7wsoo7H"
      },
      "outputs": [],
      "source": [
        "df=pd.read_json('http://old.inspirehep.net/search?p=doi:10.1103/PhysRevLett.122.132001&of=recjson')"
      ]
    },
    {
      "cell_type": "code",
      "execution_count": null,
      "metadata": {
        "cell_id": "00175-483f18ee-8181-46cf-995b-4d1b5abd53b7",
        "colab": {
          "base_uri": "https://localhost:8080/",
          "height": 323
        },
        "deepnote_cell_type": "code",
        "id": "MPiuuciYo90S",
        "outputId": "5c049b40-16ec-45f4-cce3-158546834ea3"
      },
      "outputs": [
        {
          "data": {
            "text/html": [
              "<div>\n",
              "<style scoped>\n",
              "    .dataframe tbody tr th:only-of-type {\n",
              "        vertical-align: middle;\n",
              "    }\n",
              "\n",
              "    .dataframe tbody tr th {\n",
              "        vertical-align: top;\n",
              "    }\n",
              "\n",
              "    .dataframe thead th {\n",
              "        text-align: right;\n",
              "    }\n",
              "</style>\n",
              "<table border=\"1\" class=\"dataframe\">\n",
              "  <thead>\n",
              "    <tr style=\"text-align: right;\">\n",
              "      <th></th>\n",
              "      <th>comment</th>\n",
              "      <th>reference</th>\n",
              "      <th>abstract</th>\n",
              "      <th>creation_date</th>\n",
              "      <th>imprint</th>\n",
              "      <th>primary_report_number</th>\n",
              "      <th>keywords</th>\n",
              "      <th>publication_info</th>\n",
              "      <th>coyright</th>\n",
              "      <th>subject</th>\n",
              "      <th>...</th>\n",
              "      <th>number_of_authors</th>\n",
              "      <th>license</th>\n",
              "      <th>accelerator_experiment</th>\n",
              "      <th>number_of_comments</th>\n",
              "      <th>url</th>\n",
              "      <th>recid</th>\n",
              "      <th>collection</th>\n",
              "      <th>thesaurus_terms</th>\n",
              "      <th>filetypes</th>\n",
              "      <th>prepublication</th>\n",
              "    </tr>\n",
              "  </thead>\n",
              "  <tbody>\n",
              "    <tr>\n",
              "      <th>0</th>\n",
              "      <td>Submitted to Phys. Rev. Lett. All figures and tables can be found at http://cms-results.web.cern.ch/cms-results/public-results/publications/BPH-18-007 (CMS Public Pages). This version corrects the...</td>\n",
              "      <td>[{'title': 'Phys.Rev.Lett.,81,2432', 'year': '1998', 'doi': 'doi:10.1103/PhysRevLett.81.2432', 'order_number': '1', 'authors': 'F. Abe'}, {'title': 'Phys.Rev.,D49,5845', 'year': '1994', 'doi': 'do...</td>\n",
              "      <td>[{'number': 'arXiv', 'summary': 'Signals consistent with the B$^+_\\mathrm{c}$(2S) and B$^{*+}_\\mathrm{c}$(2S) states are observed in proton-proton collisions at $\\sqrt{s} =$ 13 TeV, in an event sa...</td>\n",
              "      <td>2019-02-05T04:03:36</td>\n",
              "      <td>{'date': '2019-04-03'}</td>\n",
              "      <td>[arXiv:1902.00571, None, CMS-BPH-18-007, CERN-EP-2019-014]</td>\n",
              "      <td>[{'institute': 'publisher', 'term': 'Elementary Particles and Fields'}]</td>\n",
              "      <td>{'volume': '122', 'pagination': '132001', 'title': 'Phys.Rev.Lett.', 'year': '2019'}</td>\n",
              "      <td>{'date': '2019', 'holder_contact': 'publication', 'holder': 'CERN'}</td>\n",
              "      <td>[{'source': 'INSPIRE', 'term': 'Experiment-HEP'}, {'source': 'arXiv', 'term': 'hep-ex'}, {'source': 'INSPIRE', 'term': 'Experiment-HEP'}]</td>\n",
              "      <td>...</td>\n",
              "      <td>2279</td>\n",
              "      <td>[{'url': 'http://creativecommons.org/licenses/by/4.0/', 'material': 'preprint', 'license': 'CC BY 4.0'}, {'imposing': 'APS', 'url': 'https://creativecommons.org/licenses/by/4.0/', 'license': 'Crea...</td>\n",
              "      <td>{'experiment': 'CERN-LHC-CMS'}</td>\n",
              "      <td>0</td>\n",
              "      <td>[{'url': 'http://inspirehep.net/record/1718338/files/Figure_001.png', 'description': '00002 Transitions between the lightest \\BC states, with solid and dashed lines indicating the emission of phot...</td>\n",
              "      <td>1718338</td>\n",
              "      <td>[{'primary': 'HEP'}, {'primary': 'Citeable'}, {'primary': 'CORE'}, {'primary': 'Fermilab'}, {'primary': 'Published'}]</td>\n",
              "      <td>[{'term': 'p p: scattering'}, {'term': 'p p: colliding beams'}, {'term': 'B/c+: hadroproduction'}, {'term': 'B/c: excited state'}, {'term': 'B/c+: hadronic decay'}, {'term': 'excited state: hadron...</td>\n",
              "      <td>[xml, pdf, pdf, pdf, png, png, png]</td>\n",
              "      <td>{'date': '2019-02-01'}</td>\n",
              "    </tr>\n",
              "  </tbody>\n",
              "</table>\n",
              "<p>1 rows × 36 columns</p>\n",
              "</div>"
            ],
            "text/plain": [
              "                                                                                                                                                                                                   comment  \\\n",
              "0  Submitted to Phys. Rev. Lett. All figures and tables can be found at http://cms-results.web.cern.ch/cms-results/public-results/publications/BPH-18-007 (CMS Public Pages). This version corrects the...   \n",
              "\n",
              "                                                                                                                                                                                                 reference  \\\n",
              "0  [{'title': 'Phys.Rev.Lett.,81,2432', 'year': '1998', 'doi': 'doi:10.1103/PhysRevLett.81.2432', 'order_number': '1', 'authors': 'F. Abe'}, {'title': 'Phys.Rev.,D49,5845', 'year': '1994', 'doi': 'do...   \n",
              "\n",
              "                                                                                                                                                                                                  abstract  \\\n",
              "0  [{'number': 'arXiv', 'summary': 'Signals consistent with the B$^+_\\mathrm{c}$(2S) and B$^{*+}_\\mathrm{c}$(2S) states are observed in proton-proton collisions at $\\sqrt{s} =$ 13 TeV, in an event sa...   \n",
              "\n",
              "         creation_date                 imprint  \\\n",
              "0  2019-02-05T04:03:36  {'date': '2019-04-03'}   \n",
              "\n",
              "                                        primary_report_number  \\\n",
              "0  [arXiv:1902.00571, None, CMS-BPH-18-007, CERN-EP-2019-014]   \n",
              "\n",
              "                                                                  keywords  \\\n",
              "0  [{'institute': 'publisher', 'term': 'Elementary Particles and Fields'}]   \n",
              "\n",
              "                                                                       publication_info  \\\n",
              "0  {'volume': '122', 'pagination': '132001', 'title': 'Phys.Rev.Lett.', 'year': '2019'}   \n",
              "\n",
              "                                                              coyright  \\\n",
              "0  {'date': '2019', 'holder_contact': 'publication', 'holder': 'CERN'}   \n",
              "\n",
              "                                                                                                                                     subject  \\\n",
              "0  [{'source': 'INSPIRE', 'term': 'Experiment-HEP'}, {'source': 'arXiv', 'term': 'hep-ex'}, {'source': 'INSPIRE', 'term': 'Experiment-HEP'}]   \n",
              "\n",
              "   ... number_of_authors  \\\n",
              "0  ...              2279   \n",
              "\n",
              "                                                                                                                                                                                                   license  \\\n",
              "0  [{'url': 'http://creativecommons.org/licenses/by/4.0/', 'material': 'preprint', 'license': 'CC BY 4.0'}, {'imposing': 'APS', 'url': 'https://creativecommons.org/licenses/by/4.0/', 'license': 'Crea...   \n",
              "\n",
              "           accelerator_experiment number_of_comments  \\\n",
              "0  {'experiment': 'CERN-LHC-CMS'}                  0   \n",
              "\n",
              "                                                                                                                                                                                                       url  \\\n",
              "0  [{'url': 'http://inspirehep.net/record/1718338/files/Figure_001.png', 'description': '00002 Transitions between the lightest \\BC states, with solid and dashed lines indicating the emission of phot...   \n",
              "\n",
              "     recid  \\\n",
              "0  1718338   \n",
              "\n",
              "                                                                                                              collection  \\\n",
              "0  [{'primary': 'HEP'}, {'primary': 'Citeable'}, {'primary': 'CORE'}, {'primary': 'Fermilab'}, {'primary': 'Published'}]   \n",
              "\n",
              "                                                                                                                                                                                           thesaurus_terms  \\\n",
              "0  [{'term': 'p p: scattering'}, {'term': 'p p: colliding beams'}, {'term': 'B/c+: hadroproduction'}, {'term': 'B/c: excited state'}, {'term': 'B/c+: hadronic decay'}, {'term': 'excited state: hadron...   \n",
              "\n",
              "                             filetypes          prepublication  \n",
              "0  [xml, pdf, pdf, pdf, png, png, png]  {'date': '2019-02-01'}  \n",
              "\n",
              "[1 rows x 36 columns]"
            ]
          },
          "execution_count": 204,
          "metadata": {},
          "output_type": "execute_result"
        }
      ],
      "source": [
        "df"
      ]
    },
    {
      "cell_type": "markdown",
      "metadata": {
        "cell_id": "00176-771f6078-2bd8-4b8c-bd1e-52d95359760b",
        "deepnote_cell_type": "markdown",
        "id": "SyVgDj1ApPtP"
      },
      "source": [
        "We can see that the column `authors` is quite nested: Is a list of dictionaries with the full information for each one of the authors of the article."
      ]
    },
    {
      "cell_type": "code",
      "execution_count": null,
      "metadata": {
        "cell_id": "00177-7be88c70-ca2b-4158-bab5-b53e0053f663",
        "deepnote_cell_type": "code",
        "id": "m15tz71a7S82",
        "outputId": "8d30431a-6522-451a-aba5-988151e732bf"
      },
      "outputs": [
        {
          "data": {
            "text/plain": [
              "Index(['comment', 'reference', 'abstract', 'creation_date', 'imprint',\n",
              "       'primary_report_number', 'keywords', 'publication_info', 'coyright',\n",
              "       'subject', 'cataloguer_info', 'physical_description',\n",
              "       'number_of_citations', 'other_report_number', 'title',\n",
              "       'persistent_identifiers_keys', 'corporate_name', 'files',\n",
              "       'system_control_number', 'filenames', 'source_of_acquisition',\n",
              "       'number_of_reviews', 'version_id', 'FIXME_OAI', 'authors', 'doi',\n",
              "       'number_of_authors', 'license', 'accelerator_experiment',\n",
              "       'number_of_comments', 'url', 'recid', 'collection', 'thesaurus_terms',\n",
              "       'filetypes', 'prepublication'],\n",
              "      dtype='object')"
            ]
          },
          "execution_count": 205,
          "metadata": {},
          "output_type": "execute_result"
        }
      ],
      "source": [
        "df.columns"
      ]
    },
    {
      "cell_type": "code",
      "execution_count": null,
      "metadata": {
        "cell_id": "00178-2f47e4be-8d74-44e2-bb4a-42747650380d",
        "deepnote_cell_type": "code",
        "id": "TJZKKWnj7S82",
        "outputId": "c17f5225-ca68-4fe8-f62a-692b1e2fe39f"
      },
      "outputs": [
        {
          "data": {
            "text/plain": [
              "0    2279\n",
              "Name: number_of_authors, dtype: int64"
            ]
          },
          "execution_count": 206,
          "metadata": {},
          "output_type": "execute_result"
        }
      ],
      "source": [
        "df.number_of_authors"
      ]
    },
    {
      "cell_type": "code",
      "execution_count": null,
      "metadata": {
        "cell_id": "00179-b30f7447-bb10-4fae-a63c-8b3e97fe860b",
        "colab": {
          "base_uri": "https://localhost:8080/",
          "height": 74
        },
        "deepnote_cell_type": "code",
        "id": "BybpMovNsB7N",
        "outputId": "1d8edd97-5ea8-4050-981e-5d469c9eb43a"
      },
      "outputs": [
        {
          "data": {
            "text/plain": [
              "0    [{'INSPIRE_number': 'INSPIRE-00312131', 'affiliation': 'Yerevan Phys. Inst.', 'first_name': 'Albert M', 'last_name': 'Sirunyan', 'full_name': 'Sirunyan, Albert M'}, {'INSPIRE_number': 'INSPIRE-001...\n",
              "Name: authors, dtype: object"
            ]
          },
          "execution_count": 207,
          "metadata": {},
          "output_type": "execute_result"
        }
      ],
      "source": [
        "df.authors"
      ]
    },
    {
      "cell_type": "markdown",
      "metadata": {
        "cell_id": "00180-df4514dc-1020-47a8-ae5b-9fa3fe83a913",
        "deepnote_cell_type": "markdown",
        "id": "8zr5Nsxwsikt"
      },
      "source": [
        "__Activity__: Check that the lenght of the auhors list coincides with the `number_of_authors` \n",
        "<!-- df.authors.apply(len),df.number_of_authors.values -->"
      ]
    },
    {
      "cell_type": "code",
      "execution_count": null,
      "metadata": {
        "cell_id": "00181-e6df8982-fca7-4ff2-a8e6-e57c2d3471ee",
        "deepnote_cell_type": "code",
        "id": "swbCIBbE7S83",
        "outputId": "583e924f-2b29-4a98-f2c8-87a1a907ae19"
      },
      "outputs": [
        {
          "data": {
            "text/plain": [
              "0    2279\n",
              "Name: authors, dtype: int64"
            ]
          },
          "execution_count": 209,
          "metadata": {},
          "output_type": "execute_result"
        }
      ],
      "source": [
        "df.authors.apply(len)"
      ]
    },
    {
      "cell_type": "code",
      "execution_count": null,
      "metadata": {
        "cell_id": "00182-cd1983d8-df1d-4250-84f8-d2d9d65bee72",
        "deepnote_cell_type": "code",
        "id": "I1IvH1K-s46d",
        "outputId": "c0f48998-b079-4a8b-ce2c-f5a27d3a61c9"
      },
      "outputs": [
        {
          "data": {
            "text/plain": [
              "{'INSPIRE_number': 'INSPIRE-00312131',\n",
              " 'affiliation': 'Yerevan Phys. Inst.',\n",
              " 'first_name': 'Albert M',\n",
              " 'last_name': 'Sirunyan',\n",
              " 'full_name': 'Sirunyan, Albert M'}"
            ]
          },
          "execution_count": 210,
          "metadata": {},
          "output_type": "execute_result"
        }
      ],
      "source": [
        "df.authors[0][0]"
      ]
    },
    {
      "cell_type": "markdown",
      "metadata": {
        "cell_id": "00183-b08b0eea-107b-49a8-8340-c12fcbc66e1d",
        "deepnote_cell_type": "markdown",
        "id": "i22ywhohsAVo"
      },
      "source": [
        " We can use all the previous methods to extract the authors from `'Antioquia U.'`:\n",
        " \n",
        " Note: For a dictionary, `d` is safer to use `d.get('key')` instead of just `d['key']` to obtain some `key`, because not error is generated if the requested `key` does not exists at all "
      ]
    },
    {
      "cell_type": "code",
      "execution_count": null,
      "metadata": {
        "cell_id": "00184-2fc88c7e-5d18-4932-a6f9-b7c2c0850fb3",
        "deepnote_cell_type": "code",
        "id": "nr_BOw397S84",
        "outputId": "e9a55288-3adc-4927-bafd-6504252b7865"
      },
      "outputs": [
        {
          "data": {
            "text/plain": [
              "[{'INSPIRE_number': 'INSPIRE-00343518',\n",
              "  'affiliation': 'Antioquia U.',\n",
              "  'first_name': 'Jhovanny',\n",
              "  'last_name': 'Mejia Guisao',\n",
              "  'full_name': 'Mejia Guisao, Jhovanny'},\n",
              " {'INSPIRE_number': 'INSPIRE-00355050',\n",
              "  'affiliation': 'Antioquia U.',\n",
              "  'first_name': 'José David',\n",
              "  'last_name': 'Ruiz Alvarez',\n",
              "  'full_name': 'Ruiz Alvarez, José David'}]"
            ]
          },
          "execution_count": 215,
          "metadata": {},
          "output_type": "execute_result"
        }
      ],
      "source": [
        "df.authors.apply(lambda l: [d for d in l if d.get('affiliation')=='Antioquia U.']).loc[0]"
      ]
    },
    {
      "cell_type": "markdown",
      "metadata": {
        "cell_id": "00185-afab64fd-fbca-4c15-b003-a9dae9871b1b",
        "deepnote_cell_type": "markdown",
        "id": "qJgenQno7S84"
      },
      "source": [
        "We also need use comprenhension list like in"
      ]
    },
    {
      "cell_type": "code",
      "execution_count": null,
      "metadata": {
        "cell_id": "00186-7a213a38-7d08-4ca8-997a-bb19f26debf8",
        "deepnote_cell_type": "code",
        "id": "MRXRt4FM7S84"
      },
      "outputs": [],
      "source": [
        "l=[1,2,3]"
      ]
    },
    {
      "cell_type": "code",
      "execution_count": null,
      "metadata": {
        "cell_id": "00187-6a433856-97a1-43c8-b7ff-1fb531b4d79a",
        "deepnote_cell_type": "code",
        "id": "vBL-QBAB7S84",
        "outputId": "d95dab75-b3f6-4322-ab03-0f88853a570b"
      },
      "outputs": [
        {
          "data": {
            "text/plain": [
              "[3, 2, 3]"
            ]
          },
          "execution_count": 63,
          "metadata": {},
          "output_type": "execute_result"
        }
      ],
      "source": [
        "[x if x>1 else 3 for x in l ]"
      ]
    },
    {
      "cell_type": "markdown",
      "metadata": {
        "cell_id": "00188-35f26f54-83d6-4764-9aa4-3098544da774",
        "deepnote_cell_type": "markdown",
        "id": "qwuW-yww7S85"
      },
      "source": [
        "Then the on-fly apply function to extract the authors with affiliation 'Antioquia U.' is"
      ]
    },
    {
      "cell_type": "code",
      "execution_count": null,
      "metadata": {
        "cell_id": "00189-3ff734da-a866-4d05-a7da-6ef6e4b58e7e",
        "colab": {
          "base_uri": "https://localhost:8080/",
          "height": 54
        },
        "deepnote_cell_type": "code",
        "id": "1cx7xy2rpOzg",
        "outputId": "e2a0b01a-7f8e-4f6f-848d-c15d53f44ae3"
      },
      "outputs": [
        {
          "data": {
            "text/plain": [
              "0    [Mejia Guisao, Jhovanny, Ruiz Alvarez, José David]\n",
              "Name: authors, dtype: object"
            ]
          },
          "execution_count": 65,
          "metadata": {},
          "output_type": "execute_result"
        }
      ],
      "source": [
        "df.authors.apply(lambda l:  #implicit function\n",
        "                           [ d.get('full_name') #safer way to obtain a `key` value\n",
        "                             for d in l   #comprehension list \n",
        "                              if isinstance(d,dict) and d.get('affiliation')=='Antioquia U.' #condition\n",
        "                           ] \n",
        "                             if isinstance(l,list) else None #  Be sure that cell have the proper format\n",
        "                 )"
      ]
    },
    {
      "cell_type": "markdown",
      "metadata": {
        "cell_id": "00190-726d62de-30f6-4fd1-920e-7726fbc7b2e0",
        "deepnote_cell_type": "markdown",
        "id": "-YpfjPAdu19J"
      },
      "source": [
        "A simpler version is possible,  but is more prompted to error when used through multiple column entries:"
      ]
    },
    {
      "cell_type": "code",
      "execution_count": null,
      "metadata": {
        "cell_id": "00191-ac02e2f2-11e0-4b44-893c-da34d6b699f5",
        "colab": {
          "base_uri": "https://localhost:8080/",
          "height": 54
        },
        "deepnote_cell_type": "code",
        "id": "oM80j8zdvAdq",
        "outputId": "0a5bc9e0-cd9e-44b0-86eb-b4f409298b8b"
      },
      "outputs": [
        {
          "data": {
            "text/plain": [
              "0    [Mejia Guisao, Jhovanny, Ruiz Alvarez, José David]\n",
              "Name: authors, dtype: object"
            ]
          },
          "execution_count": 64,
          "metadata": {},
          "output_type": "execute_result"
        }
      ],
      "source": [
        "df.authors.apply(lambda l: [ d['full_name'] for d in l   \n",
        "                              if d['affiliation']=='Antioquia U.'\n",
        "                           ] )"
      ]
    },
    {
      "cell_type": "markdown",
      "metadata": {
        "cell_id": "00192-fa68bd80-a348-41cb-ad3c-fb0a4cfdb0ae",
        "deepnote_cell_type": "markdown",
        "id": "1Z96Ju2gwQO0"
      },
      "source": [
        "For further details see: https://github.com/restrepo/inspire/blob/master/gfif.ipynb\n"
      ]
    },
    {
      "cell_type": "markdown",
      "metadata": {
        "cell_id": "00193-6e138922-01e4-4ecc-934a-06eee6670c8b",
        "deepnote_cell_type": "markdown",
        "id": "gB9ETv3b7S86"
      },
      "source": [
        "__Activity__: Repeat the same activity but using directly the JSON file"
      ]
    },
    {
      "cell_type": "markdown",
      "metadata": {
        "cell_id": "00194-9f0db7fb-edf7-47dd-a263-376e9628c8bc",
        "deepnote_cell_type": "markdown",
        "id": "VGJ6C4H77S86"
      },
      "source": [
        "__NOTE__: The same but with the new API"
      ]
    },
    {
      "cell_type": "code",
      "execution_count": null,
      "metadata": {
        "cell_id": "00195-da97f864-7b1d-4a98-a6d1-885056868278",
        "deepnote_cell_type": "code",
        "id": "Sr-s8rad7S86",
        "outputId": "3fdcbbb2-5aa0-4f5f-9e32-21ae4242ff71"
      },
      "outputs": [
        {
          "data": {
            "text/plain": [
              "['Mejia Guisao, Jhovanny', 'Ruiz Alvarez, José David']"
            ]
          },
          "execution_count": 25,
          "metadata": {},
          "output_type": "execute_result"
        }
      ],
      "source": [
        "#See: https://github.com/inspirehep/rest-api-doc/issues/4#issuecomment-645218074\n",
        "import requests                                                                                                                                                      \n",
        "response = requests.get('https://inspirehep.net/api/doi/10.1103/PhysRevLett.122.132001')                                                                              \n",
        "authors = response.json()['metadata']['authors']                                                                                                                     \n",
        "names = [author.get('full_name')\n",
        "              for author in authors \n",
        "               if any(aff.get('value') == 'Antioquia U.' for aff in author.get('affiliations'))]\n",
        "names"
      ]
    },
    {
      "cell_type": "markdown",
      "metadata": {
        "cell_id": "00196-e12c3e66-259a-44d2-988d-55ad5e2c68de",
        "deepnote_cell_type": "markdown",
        "id": "D7SNm2ABxE22"
      },
      "source": [
        "##  ACTIVITIES\n",
        "See:\n",
        "* https://github.com/ajcr/100-pandas-puzzles\n",
        "* https://github.com/guipsamora/pandas_exercises"
      ]
    },
    {
      "cell_type": "markdown",
      "metadata": {
        "cell_id": "00197-d4ddb4b1-754e-48ea-8b71-75d4272f816c",
        "deepnote_cell_type": "markdown",
        "id": "fWjYdB7LxE23"
      },
      "source": [
        "## Final remarks\n",
        "With basic scripting and Pandas we already have a solid environment to analyse data. We introduce the other libraries motivated with the extending the capabilities of Pandas"
      ]
    },
    {
      "cell_type": "code",
      "execution_count": null,
      "metadata": {
        "cell_id": "00198-34e40bd9-4143-4ae7-aac7-7ff4a1d98cdf",
        "deepnote_cell_type": "code",
        "id": "erRi7J01xE24"
      },
      "outputs": [],
      "source": [
        ""
      ]
    },
    {
      "cell_type": "markdown",
      "metadata": {
        "created_in_deepnote_cell": true,
        "deepnote_cell_type": "markdown",
        "tags": [],
        "id": "ACJS9jOZ7S87"
      },
      "source": [
        "<a style='text-decoration:none;line-height:16px;display:flex;color:#5B5B62;padding:10px;justify-content:end;' href='https://deepnote.com?utm_source=created-in-deepnote-cell&projectId=f91b818d-f536-4b8f-81de-61752e0979b7' target=\"_blank\">\n",
        "<img alt='Created in deepnote.com' style='display:inline;max-height:16px;margin:0px;margin-right:7.5px;' src='data:image/svg+xml;base64,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' > </img>\n",
        "Created in <span style='font-weight:600;margin-left:4px;'>Deepnote</span></a>"
      ]
    }
  ],
  "metadata": {
    "colab": {
      "name": "Pandas_2021-2.ipynb",
      "provenance": [],
      "collapsed_sections": []
    },
    "deepnote": {},
    "deepnote_execution_queue": [],
    "deepnote_notebook_id": "0a9be7a0-3db5-477d-bb7c-1755e22290d0",
    "kernelspec": {
      "display_name": "Python 3 (ipykernel)",
      "language": "python",
      "name": "python3"
    },
    "language_info": {
      "codemirror_mode": {
        "name": "ipython",
        "version": 3
      },
      "file_extension": ".py",
      "mimetype": "text/x-python",
      "name": "python",
      "nbconvert_exporter": "python",
      "pygments_lexer": "ipython3",
      "version": "3.7.3"
    },
    "toc": {
      "colors": {
        "hover_highlight": "#DAA520",
        "running_highlight": "#FF0000",
        "selected_highlight": "#FFD700"
      },
      "moveMenuLeft": true,
      "nav_menu": {},
      "navigate_menu": true,
      "number_sections": true,
      "sideBar": true,
      "threshold": 4,
      "toc_cell": false,
      "toc_section_display": "block",
      "toc_window_display": false
    }
  },
  "nbformat": 4,
  "nbformat_minor": 0
}