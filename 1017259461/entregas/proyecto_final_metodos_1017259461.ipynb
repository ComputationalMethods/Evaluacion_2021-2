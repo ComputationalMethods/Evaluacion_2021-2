{
  "nbformat": 4,
  "nbformat_minor": 0,
  "metadata": {
    "colab": {
      "name": "proyecto_final_metodos_1017259461.ipynb",
      "provenance": []
    },
    "kernelspec": {
      "name": "python3",
      "display_name": "Python 3"
    },
    "language_info": {
      "name": "python"
    }
  },
  "cells": [
    {
      "cell_type": "markdown",
      "source": [
        "<h1><center>DETERMINACIÓN DE LA INTESIDAD LUMINICA DE UN EMISOR DE LUZ\n",
        "EN FUNCIÓN DE LA DISTANCIA ENTRE LAS BOBINAS DE UN CIRCUITO\n",
        "DE TRANSFERENCIA INALAMBRICA DE ENERGÍA. </center></h1>"
      ],
      "metadata": {
        "id": "lVMaLEWUJgky"
      }
    },
    {
      "cell_type": "markdown",
      "source": [
        "#Resumen\n",
        "________________________________________________________________________________\n",
        "Se construyó un circuito conformado principalmente por dos bobinas de alambre de cobre por las cuales\n",
        "se hizo circular corriente electrica y, valiedose del fenomeno de inducción electromagnetica, se empleó un\n",
        "foto-diodo con el fin de medir la variación de la intensidad lumínica de este en función de la distancia entre\n",
        "las bobinas. Al concluir el procesamiento de los datos recolectados durante con el montaje experimental, se\n",
        "observó que al aumentar la distancia la variable exhibe en un comportamiento decreciente y no lineal. Lo\n",
        "anterior sugiere una relación inversamente propocional entre los dos parametros principales mencionados\n",
        "anteriormente, lo cual se ajusta a lo esperado teoricamente"
      ],
      "metadata": {
        "id": "_fuNp3I1L7z1"
      }
    },
    {
      "cell_type": "markdown",
      "source": [
        "#Introducción\n",
        "________________________________________________________________________________\n",
        "Michael Faraday, quien a día de hoy se le reconoce como uno de los mayores exponentes de la física por sus aportes a la teoría electromagnetica; condujo multiples experimentos para estudiar los fenomenos relacionados con esta, lo que lo llevo finalmente a descubrir la relación existente entre las corrientes electricas y campos magneticos cambiantes con el tiempo, lo que hoy en día se conoce como ley de inducción de Faraday (Wikipedia, 2022). Esta describe como las corrientes electricas producen campos magneticos y a su vez, como los campos magneticos variables con el tiempo inducen corrientes electricas (Lucas, 2022). Este hecho ha tenido gran impacto en la ciencia y tecnología, siendo buenos ejemplos de esto los transformadores empleados en fuentes de regulación de voltajes; necesarias para el funcionamiento de gran variedad de dispositivos electricos,  o mega proyectos como las centrales hidroelectricas que generan energía por medio de generadores electricos que se valen de esta ley (Wikipedia, 2022).\n",
        "\n",
        "Otra caracteristica importante a tener en cuenta en relación con los campos magneticos es su dependencia con la distancia. La teoría y la experimentación sugieren que la fuerza de estos decrece con la distancía y, debido a la naturaleza dipolar del de campo magnetico, el factor con el que decrecen en función del inverso del cubo de r, siendo r la distancia desde la fuente generadora (Wikipedia, 2022).\n",
        "\n",
        "Así, con la motivación de visualizar y entender mejor las propiedades anteriormente descritas, se realizó un montaje experimental que; por medio de la variación en la intensidad luminica de un foto-diodo unido a una bobina alimentada por una  corriente inducida, permite observar el debilitamiento del campo magnetico en función de la distancia. Lo anterior debido a que la intensidad del foto-diodo  es directamente proporcional al voltage que se le proporciona (King, 2008) y este ultimo a su vez lo es al cambio en el flujo del campo magnético (Lucas, 2022), por lo que en ultimas la intensidad lumínica del foto-diodo tambien debería mostrar un comportamiento inversamente proporcional al cubo de la distancia."
      ],
      "metadata": {
        "id": "nTCOJQ2YMPFX"
      }
    },
    {
      "cell_type": "markdown",
      "source": [
        "#Librerías a usar:\n",
        "________________________________________________________________________________\n",
        "Dado que el proyecto unicamente requiere la lectura, procesamiento, realización de calculos simples y analisis de datos (lo cual incluye un ajuste de ellos) se requieren un numero minimo de librerías, siendo estás las clasicas numpy, pandas, matplot y scypy."
      ],
      "metadata": {
        "id": "EED61nM9Mmze"
      }
    },
    {
      "cell_type": "code",
      "execution_count": null,
      "metadata": {
        "id": "UAhjNE3pKeWm"
      },
      "outputs": [],
      "source": [
        "import numpy as np                     #para calculos numericos\n",
        "import pandas as pd                    #para lectura y almancenamiento de datos\n",
        "import matplotlib.pyplot as plt        #para graficación de los datos\n",
        "from scipy.optimize import curve_fit   #Para ajustes en los datos"
      ]
    },
    {
      "cell_type": "markdown",
      "source": [
        "#Procedimiento y lectura de datos"
      ],
      "metadata": {
        "id": "spkLebw5Oz4U"
      }
    },
    {
      "cell_type": "markdown",
      "source": [
        "##Procedimiento\n",
        "________________________________________________________________________________\n",
        "El circuito está compuesto esencialmente por 2 bobinas, una con 28 vueltas, y otra con 14 vueltas, además de un LED. Una primera bobina (28 vueltas) funciona como emisor, la cual está conectada a una fuente de voltaje (en este montaje experimental fue usada una batería de 9.9V), un transistor y un resistor; estos dos ultimos tienen la función variar el voltage proporcionado por la fuente creando las condiciones necesarias para producir un campo magnético variable con el tiempo.\n",
        "\n",
        "La segunda bobina (14 vueltas) funciona como receptor en la cual, debido al flujo cambiante del campo producido por la primera bobina, es inducida con una corriente que permite la activación del LED."
      ],
      "metadata": {
        "id": "HfYRAlBZPBa9"
      }
    },
    {
      "cell_type": "markdown",
      "source": [
        "##Lectura de datos\n",
        "________________________________________________________________________________\n",
        "Una vez tomados los datos de intensidad luminica en 7 puntos distintos durante un perido de tiempo de 5 segundos, se guardan en archivos separados de formato csv para su posterior lectura, estos documentos son proporcionados con el presente notebook para su respectiva carga y lectura."
      ],
      "metadata": {
        "id": "az72AfLePJmX"
      }
    },
    {
      "cell_type": "code",
      "source": [
        "onlyfiles = ['datos_655.csv',\n",
        " 'datos_2745.csv',\n",
        " 'datos_1860.csv',\n",
        " 'datos_1070.csv',\n",
        " 'datos_530.csv',\n",
        " 'datos_375.csv',\n",
        " 'datos_3220.csv']"
      ],
      "metadata": {
        "id": "d0bHAXYAKo3X"
      },
      "execution_count": null,
      "outputs": []
    },
    {
      "cell_type": "markdown",
      "source": [
        "Dado que los datos tomados en cada posición corresponden a un intervalo de 5 segundos, durante la lectura de los datos es necesario sacar la media en cada uno de ellos para facilitar su analisis y comprensión."
      ],
      "metadata": {
        "id": "kAHRFkfZP1Fp"
      }
    },
    {
      "cell_type": "code",
      "source": [
        "data = [np.mean(pd.read_csv(str(i)).I) for i in onlyfiles]            #Extracion de la media de cada paquete de datos\n",
        "data = np.array(sorted(data)[::-1])                              #reordenamiento de los datos\n",
        "distance = np.array([3.75, 5.30,6.55,10.70,18.60, 27.45, 32.20]) #Distancias de medición"
      ],
      "metadata": {
        "id": "W9JxZnQYNT2X"
      },
      "execution_count": null,
      "outputs": []
    },
    {
      "cell_type": "markdown",
      "source": [
        "#Resultados\n"
      ],
      "metadata": {
        "id": "aNL3I1GpQv7z"
      }
    },
    {
      "cell_type": "markdown",
      "source": [
        "##Tabla de datos\n",
        "________________________________________________________________________________\n",
        "Debido a las condiciones en las que se realiza el experimento y las limitaciones de los instrumentos de medición el número de medidas fue limitado, en caso de replicar esta práctica se sugiere aumentar el numero datos a recolectar. En la tabla se registran los valores obtenidos, los valores de intensidad lumínica corresponden a la media de los datos recolectados a una misma distancia durante un intervalo de 5 segundos aproximadamente."
      ],
      "metadata": {
        "id": "pK4JeO-hREr_"
      }
    },
    {
      "cell_type": "code",
      "source": [
        "pd.DataFrame({'Distancia':distance, 'Intensidad lumínica':data})"
      ],
      "metadata": {
        "id": "2vhankSeRS5a",
        "colab": {
          "base_uri": "https://localhost:8080/",
          "height": 269
        },
        "outputId": "b9bca47a-8979-43dd-8549-a768851ea51e"
      },
      "execution_count": null,
      "outputs": [
        {
          "output_type": "execute_result",
          "data": {
            "text/plain": [
              "   Distancia  Intensidad lumínica\n",
              "0       3.75           110.710556\n",
              "1       5.30            96.087059\n",
              "2       6.55            89.220000\n",
              "3      10.70            79.190000\n",
              "4      18.60            78.205000\n",
              "5      27.45            58.245000\n",
              "6      32.20            56.391667"
            ],
            "text/html": [
              "\n",
              "  <div id=\"df-a4eb87e3-c1c1-4ceb-b85d-870c4179ce3d\">\n",
              "    <div class=\"colab-df-container\">\n",
              "      <div>\n",
              "<style scoped>\n",
              "    .dataframe tbody tr th:only-of-type {\n",
              "        vertical-align: middle;\n",
              "    }\n",
              "\n",
              "    .dataframe tbody tr th {\n",
              "        vertical-align: top;\n",
              "    }\n",
              "\n",
              "    .dataframe thead th {\n",
              "        text-align: right;\n",
              "    }\n",
              "</style>\n",
              "<table border=\"1\" class=\"dataframe\">\n",
              "  <thead>\n",
              "    <tr style=\"text-align: right;\">\n",
              "      <th></th>\n",
              "      <th>Distancia</th>\n",
              "      <th>Intensidad lumínica</th>\n",
              "    </tr>\n",
              "  </thead>\n",
              "  <tbody>\n",
              "    <tr>\n",
              "      <th>0</th>\n",
              "      <td>3.75</td>\n",
              "      <td>110.710556</td>\n",
              "    </tr>\n",
              "    <tr>\n",
              "      <th>1</th>\n",
              "      <td>5.30</td>\n",
              "      <td>96.087059</td>\n",
              "    </tr>\n",
              "    <tr>\n",
              "      <th>2</th>\n",
              "      <td>6.55</td>\n",
              "      <td>89.220000</td>\n",
              "    </tr>\n",
              "    <tr>\n",
              "      <th>3</th>\n",
              "      <td>10.70</td>\n",
              "      <td>79.190000</td>\n",
              "    </tr>\n",
              "    <tr>\n",
              "      <th>4</th>\n",
              "      <td>18.60</td>\n",
              "      <td>78.205000</td>\n",
              "    </tr>\n",
              "    <tr>\n",
              "      <th>5</th>\n",
              "      <td>27.45</td>\n",
              "      <td>58.245000</td>\n",
              "    </tr>\n",
              "    <tr>\n",
              "      <th>6</th>\n",
              "      <td>32.20</td>\n",
              "      <td>56.391667</td>\n",
              "    </tr>\n",
              "  </tbody>\n",
              "</table>\n",
              "</div>\n",
              "      <button class=\"colab-df-convert\" onclick=\"convertToInteractive('df-a4eb87e3-c1c1-4ceb-b85d-870c4179ce3d')\"\n",
              "              title=\"Convert this dataframe to an interactive table.\"\n",
              "              style=\"display:none;\">\n",
              "        \n",
              "  <svg xmlns=\"http://www.w3.org/2000/svg\" height=\"24px\"viewBox=\"0 0 24 24\"\n",
              "       width=\"24px\">\n",
              "    <path d=\"M0 0h24v24H0V0z\" fill=\"none\"/>\n",
              "    <path d=\"M18.56 5.44l.94 2.06.94-2.06 2.06-.94-2.06-.94-.94-2.06-.94 2.06-2.06.94zm-11 1L8.5 8.5l.94-2.06 2.06-.94-2.06-.94L8.5 2.5l-.94 2.06-2.06.94zm10 10l.94 2.06.94-2.06 2.06-.94-2.06-.94-.94-2.06-.94 2.06-2.06.94z\"/><path d=\"M17.41 7.96l-1.37-1.37c-.4-.4-.92-.59-1.43-.59-.52 0-1.04.2-1.43.59L10.3 9.45l-7.72 7.72c-.78.78-.78 2.05 0 2.83L4 21.41c.39.39.9.59 1.41.59.51 0 1.02-.2 1.41-.59l7.78-7.78 2.81-2.81c.8-.78.8-2.07 0-2.86zM5.41 20L4 18.59l7.72-7.72 1.47 1.35L5.41 20z\"/>\n",
              "  </svg>\n",
              "      </button>\n",
              "      \n",
              "  <style>\n",
              "    .colab-df-container {\n",
              "      display:flex;\n",
              "      flex-wrap:wrap;\n",
              "      gap: 12px;\n",
              "    }\n",
              "\n",
              "    .colab-df-convert {\n",
              "      background-color: #E8F0FE;\n",
              "      border: none;\n",
              "      border-radius: 50%;\n",
              "      cursor: pointer;\n",
              "      display: none;\n",
              "      fill: #1967D2;\n",
              "      height: 32px;\n",
              "      padding: 0 0 0 0;\n",
              "      width: 32px;\n",
              "    }\n",
              "\n",
              "    .colab-df-convert:hover {\n",
              "      background-color: #E2EBFA;\n",
              "      box-shadow: 0px 1px 2px rgba(60, 64, 67, 0.3), 0px 1px 3px 1px rgba(60, 64, 67, 0.15);\n",
              "      fill: #174EA6;\n",
              "    }\n",
              "\n",
              "    [theme=dark] .colab-df-convert {\n",
              "      background-color: #3B4455;\n",
              "      fill: #D2E3FC;\n",
              "    }\n",
              "\n",
              "    [theme=dark] .colab-df-convert:hover {\n",
              "      background-color: #434B5C;\n",
              "      box-shadow: 0px 1px 3px 1px rgba(0, 0, 0, 0.15);\n",
              "      filter: drop-shadow(0px 1px 2px rgba(0, 0, 0, 0.3));\n",
              "      fill: #FFFFFF;\n",
              "    }\n",
              "  </style>\n",
              "\n",
              "      <script>\n",
              "        const buttonEl =\n",
              "          document.querySelector('#df-a4eb87e3-c1c1-4ceb-b85d-870c4179ce3d button.colab-df-convert');\n",
              "        buttonEl.style.display =\n",
              "          google.colab.kernel.accessAllowed ? 'block' : 'none';\n",
              "\n",
              "        async function convertToInteractive(key) {\n",
              "          const element = document.querySelector('#df-a4eb87e3-c1c1-4ceb-b85d-870c4179ce3d');\n",
              "          const dataTable =\n",
              "            await google.colab.kernel.invokeFunction('convertToInteractive',\n",
              "                                                     [key], {});\n",
              "          if (!dataTable) return;\n",
              "\n",
              "          const docLinkHtml = 'Like what you see? Visit the ' +\n",
              "            '<a target=\"_blank\" href=https://colab.research.google.com/notebooks/data_table.ipynb>data table notebook</a>'\n",
              "            + ' to learn more about interactive tables.';\n",
              "          element.innerHTML = '';\n",
              "          dataTable['output_type'] = 'display_data';\n",
              "          await google.colab.output.renderOutput(dataTable, element);\n",
              "          const docLink = document.createElement('div');\n",
              "          docLink.innerHTML = docLinkHtml;\n",
              "          element.appendChild(docLink);\n",
              "        }\n",
              "      </script>\n",
              "    </div>\n",
              "  </div>\n",
              "  "
            ]
          },
          "metadata": {},
          "execution_count": 20
        }
      ]
    },
    {
      "cell_type": "markdown",
      "source": [
        "##Gráfico inicial\n",
        "________________________________________________________________________________\n",
        "Al realizar un analisis preliminar de los datos obtenidos se obtiene una gráfica con una tendencia notablemente decreciente y no lineal, lo que da indicios de la relación existente entre la luminosidad y la distancía.\n"
      ],
      "metadata": {
        "id": "L8NkgsTnRni7"
      }
    },
    {
      "cell_type": "code",
      "source": [
        "fig = plt.figure()\n",
        "ax = fig.add_subplot(111)\n",
        "ax.set_title('Intensidad lumínica en función de la distancia\\n')\n",
        "plt.xlabel('\\nDistancia entre bobinas [mm]')\n",
        "plt.ylabel('Intensidad lumínica [lux]\\n')\n",
        "ax.scatter(distance,data)"
      ],
      "metadata": {
        "colab": {
          "base_uri": "https://localhost:8080/",
          "height": 339
        },
        "id": "BvNINoA0OgaM",
        "outputId": "15cdac53-18fe-4a71-cff4-0399d2f9656e"
      },
      "execution_count": null,
      "outputs": [
        {
          "output_type": "execute_result",
          "data": {
            "text/plain": [
              "<matplotlib.collections.PathCollection at 0x7fad4c8ea850>"
            ]
          },
          "metadata": {},
          "execution_count": 21
        },
        {
          "output_type": "display_data",
          "data": {
            "text/plain": [
              "<Figure size 432x288 with 1 Axes>"
            ],
            "image/png": "[encoded data removed]"
          },
          "metadata": {
            "needs_background": "light"
          }
        }
      ]
    },
    {
      "cell_type": "markdown",
      "source": [
        "##Ajuste no lineal\n",
        "________________________________________________________________________________\n",
        "Debido a la naturaleza del campo magnetico discutida anteriormente, se optó por realizar un ajuste de los datos usando como curva base la funcion:\n",
        "\n",
        "\\begin{equation}\n",
        "\\frac{1}{r^3}\n",
        "\\end{equation}\n",
        "\n",
        "donde r corresponde a la distancia entre las bobinas. Al graficar la curva de ajuste, se observa de manera clara como la luminosidad tiende a cero a medida que se aumenta la distancia."
      ],
      "metadata": {
        "id": "TYX_bKRTR-eQ"
      }
    },
    {
      "cell_type": "code",
      "source": [
        "def inverse_cube(r,A):\n",
        "  return A*(1/r**3)\n",
        "\n",
        "poli = curve_fit(inverse_cube, distance,data)"
      ],
      "metadata": {
        "id": "oOh8zjiPEPwL"
      },
      "execution_count": null,
      "outputs": []
    },
    {
      "cell_type": "code",
      "source": [
        "fig2 = plt.figure()\n",
        "ax2 = fig2.add_subplot(111)\n",
        "ran = np.linspace(3.75,32.20,100)\n",
        "\n",
        "ax2.set_title('Intensidad lumínica en función de la distancia\\n')\n",
        "plt.xlabel('\\nDistancia entre bobinas [mm]')\n",
        "plt.ylabel('Intensidad lumínica [lux]\\n')\n",
        "ax2.plot(ran, inverse_cube(np.linspace(3.75,32.20,100), poli[0][0]))"
      ],
      "metadata": {
        "colab": {
          "base_uri": "https://localhost:8080/",
          "height": 339
        },
        "id": "CW_32x89FL8z",
        "outputId": "1defc88f-788a-4e85-cef4-cb19636896de"
      },
      "execution_count": null,
      "outputs": [
        {
          "output_type": "execute_result",
          "data": {
            "text/plain": [
              "[<matplotlib.lines.Line2D at 0x7fad4c8ea610>]"
            ]
          },
          "metadata": {},
          "execution_count": 23
        },
        {
          "output_type": "display_data",
          "data": {
            "text/plain": [
              "<Figure size 432x288 with 1 Axes>"
            ],
            "image/png": "[encoded data removed]"
          },
          "metadata": {
            "needs_background": "light"
          }
        }
      ]
    },
    {
      "cell_type": "markdown",
      "source": [
        "##Linealización\n",
        "________________________________________________________________________________\n",
        "No obstante, lo anterior aún no da resultados convincentes sobre la relación de proporcionalidad entre las dos variables, en este caso resulta util linealizar los datos iniciales y posteriormente realizar ajuste por medio de minimos cuadrados para observar el comportamiento de la recta resultante."
      ],
      "metadata": {
        "id": "tEmIQ_E4S3_7"
      }
    },
    {
      "cell_type": "code",
      "source": [
        "log_distance = np.log10(distance)\n",
        "log_data = np.log10(data)\n",
        "log_distance"
      ],
      "metadata": {
        "id": "pmosciwoFW1R",
        "colab": {
          "base_uri": "https://localhost:8080/"
        },
        "outputId": "37f5b5b6-cd71-433b-bd03-8a1056bef9de"
      },
      "execution_count": null,
      "outputs": [
        {
          "output_type": "execute_result",
          "data": {
            "text/plain": [
              "array([0.57403127, 0.72427587, 0.8162413 , 1.02938378, 1.26951294,\n",
              "       1.43854235, 1.50785587])"
            ]
          },
          "metadata": {},
          "execution_count": 24
        }
      ]
    },
    {
      "cell_type": "code",
      "source": [
        "def line(x,a,b):\n",
        "  return a*x + b\n",
        "\n",
        "poli2 = curve_fit(line, log_distance, log_data)\n",
        "a,b = poli2[0][0],poli2[0][1]"
      ],
      "metadata": {
        "id": "I7cV7XW9WJ68"
      },
      "execution_count": null,
      "outputs": []
    },
    {
      "cell_type": "code",
      "source": [
        "np.sqrt(np.diag(poli2[1]))"
      ],
      "metadata": {
        "colab": {
          "base_uri": "https://localhost:8080/"
        },
        "id": "byz2MbpMgq11",
        "outputId": "797d3793-8405-4dfe-d54f-77a009daa09f"
      },
      "execution_count": null,
      "outputs": [
        {
          "output_type": "execute_result",
          "data": {
            "text/plain": [
              "array([0.03357086, 0.03706864])"
            ]
          },
          "metadata": {},
          "execution_count": 26
        }
      ]
    },
    {
      "cell_type": "code",
      "source": [
        "fig3 = plt.figure()\n",
        "ax3 = fig3.add_subplot(111)\n",
        "ran2 = np.linspace(0.5,1.5,10)\n",
        "regression = line(ran2, a, b)\n",
        "ax3.set_title('Intensidad lumínica en función de la distancia\\n')\n",
        "plt.xlabel(\"\"\"\n",
        "Distancia entre bobinas [mm]\n",
        "             \n",
        "pendiente = -0.28 +- 0.03\n",
        "Intercepto = 2.20 +- 0.04 \"\"\")\n",
        "plt.ylabel('Intensidad lumínica [lux]\\n')\n",
        "ax3.scatter(log_distance,log_data)\n",
        "ax3.plot(ran2,regression)"
      ],
      "metadata": {
        "colab": {
          "base_uri": "https://localhost:8080/",
          "height": 374
        },
        "id": "uiwlofM8Vmd9",
        "outputId": "bb4763c7-bfc8-40bf-ae2e-0af5b3f828a0"
      },
      "execution_count": null,
      "outputs": [
        {
          "output_type": "execute_result",
          "data": {
            "text/plain": [
              "[<matplotlib.lines.Line2D at 0x7fad4a34bc50>]"
            ]
          },
          "metadata": {},
          "execution_count": 27
        },
        {
          "output_type": "display_data",
          "data": {
            "text/plain": [
              "<Figure size 432x288 with 1 Axes>"
            ],
            "image/png": "[encoded data removed]"
          },
          "metadata": {
            "needs_background": "light"
          }
        }
      ]
    },
    {
      "cell_type": "markdown",
      "source": [
        "La información aportada por este último paso proporciona datos concluyentes, pues se observa que la pendiente de la grafica es aproximadamente -0.3 (debería ser de -3, pero dadas las unidades de distancia usadas el resultado que en un orden de magnitud menor); lo que indica que en efecto, la relación entre la intensidad lumínica del LED disminuye (por lo menos aproximadamente) con el cubo de la distancia de separación entre las bobinas involucradas en el proceso de inducción electromagnética. No solo ello, sino que la gráfica provee además el valor aproximado de la luminosidad si la distancia entre bobinas se hiciese nula, medida que no se pudo tomar en la practica debido a las condiciones del montaje."
      ],
      "metadata": {
        "id": "bd9XqqBZTgQ6"
      }
    },
    {
      "cell_type": "markdown",
      "source": [
        "#Conclusiones\n",
        "\n",
        "1. Se puede concluir que la intensidad lumínica, es inversamente proporcional a cubo de la distancia entre las bobinas, lo cual era lo esperado desde un inicio.\n",
        "\n",
        "2. La intensidad máxima que se lograría si se pudiese hacer la distancia entre las bobinas infinitamente pequeña sería de 158 lux aproximadamente, dado el valor de intercepto en la linealización de 2.2.\n",
        "\n",
        "3. La intensidad del campo magnetico, dada su relación con la corriente inducida en la bobina secundaria y de esta ultima con la intensidad lumínica del LED, puede concluirse, varía de manera similar a como lo hace el LED.\n"
      ],
      "metadata": {
        "id": "jnF_CZqrT7yQ"
      }
    },
    {
      "cell_type": "markdown",
      "source": [
        "#Referencias\n",
        "________________________________________________________________________________\n",
        "1. Force between magnets (05 de febrero de 2022).En $wikipedia$. https://en.wikipedia.org/wiki/Force\\_between\\_magnets\n",
        "\n",
        "2. Jim, Lucas. (18 de febrero de 2022). What is Faraday's law of induction? .En $LiveScience$. https://www.livescience.com/53509-faradays-law-induction.html\n",
        "\n",
        "3. King, Sean. (junio de 2008). Luminous Intensity of an LED as a Function of Input Power."
      ],
      "metadata": {
        "id": "9zyjsv32YA-r"
      }
    }
  ]
}