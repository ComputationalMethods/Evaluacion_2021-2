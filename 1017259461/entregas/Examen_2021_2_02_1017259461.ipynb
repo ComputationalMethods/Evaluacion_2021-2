{
  "nbformat": 4,
  "nbformat_minor": 0,
  "metadata": {
    "colab": {
      "name": "Examen_2021_2_02_1017259461.ipynb",
      "provenance": []
    },
    "kernelspec": {
      "name": "python3",
      "display_name": "Python 3"
    },
    "language_info": {
      "name": "python"
    }
  },
  "cells": [
    {
      "cell_type": "code",
      "execution_count": 2,
      "metadata": {
        "id": "bTryImfz4Q9G"
      },
      "outputs": [],
      "source": [
        "import  numpy as np \n",
        "import matplotlib.pyplot as plt\n",
        "from scipy.misc import derivative \n",
        "from scipy.linalg import eigvals\n",
        "from scipy.integrate import quad\n",
        "import sympy as sp "
      ]
    },
    {
      "cell_type": "markdown",
      "source": [
        "# Definicion de la función"
      ],
      "metadata": {
        "id": "y7KWwQYT-5oM"
      }
    },
    {
      "cell_type": "code",
      "source": [
        "λ, x = sp.symbols('λ x')\n",
        "\n",
        "def func(λ):\n",
        "  A = sp.integrate(sp.sin(λ*x)/sp.exp(x), (x, 0, np.infty))\n",
        "  return A.args[0][0]\n",
        "\n",
        "f_λ = sp.lambdify(λ, func(λ), 'numpy')"
      ],
      "metadata": {
        "id": "75Xi3C0J4q_A"
      },
      "execution_count": 25,
      "outputs": []
    },
    {
      "cell_type": "markdown",
      "source": [
        "#Grafica de la función "
      ],
      "metadata": {
        "id": "ktqHDzI4NETg"
      }
    },
    {
      "cell_type": "code",
      "source": [
        "dom = np.linspace(1,100,100)\n",
        "ran = f_λ(dom)"
      ],
      "metadata": {
        "id": "GJBAj-Ym58TN"
      },
      "execution_count": 47,
      "outputs": []
    },
    {
      "cell_type": "code",
      "source": [
        "fig = plt.figure()\n",
        "ax = fig.add_subplot(111)\n",
        "ax.plot(dom, ran)"
      ],
      "metadata": {
        "colab": {
          "base_uri": "https://localhost:8080/",
          "height": 282
        },
        "id": "HUDELCld7hE1",
        "outputId": "29cbaede-d8b8-4082-aa75-8b33ab5c69fe"
      },
      "execution_count": 48,
      "outputs": [
        {
          "output_type": "execute_result",
          "data": {
            "text/plain": [
              "[<matplotlib.lines.Line2D at 0x7ffa749754d0>]"
            ]
          },
          "metadata": {},
          "execution_count": 48
        },
        {
          "output_type": "display_data",
          "data": {
            "text/plain": [
              "<Figure size 432x288 with 1 Axes>"
            ],
            "image/png": "[encoded data removed]"
          },
          "metadata": {
            "needs_background": "light"
          }
        }
      ]
    },
    {
      "cell_type": "markdown",
      "source": [
        "# Obtención de la derivada"
      ],
      "metadata": {
        "id": "Txj7uQcwNIUn"
      }
    },
    {
      "cell_type": "code",
      "source": [
        "def derr():\n",
        "  A = sp.diff(sp.integrate(sp.sin(λ*x)/sp.exp(x), (x, 0, np.infty)), λ)\n",
        "  return A.args[0][0]\n",
        "\n",
        "f_p = sp.lambdify(λ, derr(), 'numpy')"
      ],
      "metadata": {
        "id": "pOVK0RNwEJUY"
      },
      "execution_count": 39,
      "outputs": []
    },
    {
      "cell_type": "markdown",
      "source": [
        "# Grafica función y derivada"
      ],
      "metadata": {
        "id": "napQ1bgENK6k"
      }
    },
    {
      "cell_type": "code",
      "source": [
        "ran2 = f_p(dom)\n",
        "fig2 = plt.figure()\n",
        "ax2 = fig2.add_subplot(111)\n",
        "ax2.plot(dom,ran)\n",
        "ax2.plot(dom, ran2)"
      ],
      "metadata": {
        "colab": {
          "base_uri": "https://localhost:8080/",
          "height": 282
        },
        "id": "f2ONlDJlGp7o",
        "outputId": "af044a44-ca06-41cc-8f40-7f5f6c34fcb5"
      },
      "execution_count": 49,
      "outputs": [
        {
          "output_type": "execute_result",
          "data": {
            "text/plain": [
              "[<matplotlib.lines.Line2D at 0x7ffa74516b90>]"
            ]
          },
          "metadata": {},
          "execution_count": 49
        },
        {
          "output_type": "display_data",
          "data": {
            "text/plain": [
              "<Figure size 432x288 with 1 Axes>"
            ],
            "image/png": "[encoded data removed]"
          },
          "metadata": {
            "needs_background": "light"
          }
        }
      ]
    },
    {
      "cell_type": "markdown",
      "source": [
        "# Obtención de la matriz Y y su transpuesta"
      ],
      "metadata": {
        "id": "fDmXtP9-NmsE"
      }
    },
    {
      "cell_type": "code",
      "source": [
        "Y = np.random.randint(0,101,(3,3))\n",
        "Y_t = np.transpose(Y)\n",
        "Y, Y_t"
      ],
      "metadata": {
        "colab": {
          "base_uri": "https://localhost:8080/"
        },
        "id": "L-GJ4FAlK3p3",
        "outputId": "cc1f6c06-779c-44b6-bd4a-d4578072c97f"
      },
      "execution_count": 125,
      "outputs": [
        {
          "output_type": "execute_result",
          "data": {
            "text/plain": [
              "(array([[94, 37, 58],\n",
              "        [15, 40, 92],\n",
              "        [88, 84, 74]]), array([[94, 15, 88],\n",
              "        [37, 40, 84],\n",
              "        [58, 92, 74]]))"
            ]
          },
          "metadata": {},
          "execution_count": 125
        }
      ]
    },
    {
      "cell_type": "markdown",
      "source": [
        "# Producto matricial"
      ],
      "metadata": {
        "id": "2e9gBYiMNqOW"
      }
    },
    {
      "cell_type": "code",
      "source": [
        "A = np.dot(Y_t,Y)\n"
      ],
      "metadata": {
        "id": "2hIMqWKgK-fo"
      },
      "execution_count": 126,
      "outputs": []
    },
    {
      "cell_type": "markdown",
      "source": [
        "#Obtención de los eigenvalores"
      ],
      "metadata": {
        "id": "RGFaKiGsNtLI"
      }
    },
    {
      "cell_type": "code",
      "source": [
        "A_eig = abs(np.linalg.eig(A)[0])\n",
        "Y_eig = abs(np.linalg.eig(Y)[0])"
      ],
      "metadata": {
        "id": "681CHxnaLWMV"
      },
      "execution_count": 127,
      "outputs": []
    },
    {
      "cell_type": "markdown",
      "source": [
        "# Comparación"
      ],
      "metadata": {
        "id": "Dny2G17eNzj2"
      }
    },
    {
      "cell_type": "code",
      "source": [
        "A_eig"
      ],
      "metadata": {
        "colab": {
          "base_uri": "https://localhost:8080/"
        },
        "id": "khNDdbXqMKAa",
        "outputId": "6a325416-7d34-4bc3-a36b-90ec6dee2df9"
      },
      "execution_count": 128,
      "outputs": [
        {
          "output_type": "execute_result",
          "data": {
            "text/plain": [
              "array([39714.667919  ,  3723.43122411,   695.90085689])"
            ]
          },
          "metadata": {},
          "execution_count": 128
        }
      ]
    },
    {
      "cell_type": "code",
      "source": [
        "Y_eig"
      ],
      "metadata": {
        "colab": {
          "base_uri": "https://localhost:8080/"
        },
        "id": "-H0sWNMKMLS-",
        "outputId": "2eabf249-322a-49c1-e5d4-abd36389cbfb"
      },
      "execution_count": 131,
      "outputs": [
        {
          "output_type": "execute_result",
          "data": {
            "text/plain": [
              "array([198.39310751,  45.30053687,  35.69364439])"
            ]
          },
          "metadata": {},
          "execution_count": 131
        }
      ]
    },
    {
      "cell_type": "code",
      "source": [
        "abs(((A_eig**0.5-Y_eig)/A_eig**0.5)*100)"
      ],
      "metadata": {
        "colab": {
          "base_uri": "https://localhost:8080/"
        },
        "id": "w6eTkwqSMO05",
        "outputId": "189dc669-79bf-42b2-f5bd-6efa651910e8"
      },
      "execution_count": 130,
      "outputs": [
        {
          "output_type": "execute_result",
          "data": {
            "text/plain": [
              "array([ 0.44774261, 25.76107392, 35.30604721])"
            ]
          },
          "metadata": {},
          "execution_count": 130
        }
      ]
    },
    {
      "cell_type": "markdown",
      "source": [
        "No se obtuvieron los resultados esperados, cada valor obtuvo un margen de error variado para cada eigenvalor.\n",
        "\n",
        "Esto se debe a que dicho resultado solo es verdadero para matrices normales, esto es que (Y transpuesta * Y) == (Y * Y transpuesta.)"
      ],
      "metadata": {
        "id": "YovM3ch5N7BB"
      }
    },
    {
      "cell_type": "code",
      "source": [
        "np.dot(Y_t,Y) == np.dot(Y, Y_t)"
      ],
      "metadata": {
        "colab": {
          "base_uri": "https://localhost:8080/"
        },
        "id": "h6BGMUtRXwZw",
        "outputId": "11f4dab9-a7a0-4662-8eb2-2f846c2f4c68"
      },
      "execution_count": 132,
      "outputs": [
        {
          "output_type": "execute_result",
          "data": {
            "text/plain": [
              "array([[False, False, False],\n",
              "       [False, False, False],\n",
              "       [False, False, False]])"
            ]
          },
          "metadata": {},
          "execution_count": 132
        }
      ]
    },
    {
      "cell_type": "markdown",
      "source": [
        "Por lo tanto esto no funciona para matrices aleatorias, como es el caso de este ejercicio"
      ],
      "metadata": {
        "id": "3ltsU_IeYACG"
      }
    }
  ]
}