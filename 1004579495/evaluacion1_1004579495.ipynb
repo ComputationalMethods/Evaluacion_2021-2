{
 "cells": [
  {
   "cell_type": "markdown",
   "metadata": {},
   "source": [
    "Julian Francisco Pinchao Ortiz"
   ]
  },
  {
   "cell_type": "markdown",
   "metadata": {
    "id": "BmtszDtPpcXm"
   },
   "source": [
    "Los siguientes datos fueron extraidos de los datos para la cuarta ola de infecciones por millon de  habitantes (IPMH) de Colombia por la variante Omicrón del Coronavirus\n",
    "\n",
    "A) Genere un data frame de pandas y agregé una nueva columna de IPMH con una incertidubre del 2% aleatoria. Es decir, a cada IPMH sumarle o restarle un número aleatoria en el rango de su 2%\n",
    "\n",
    "B) Interprete los datos como un problema de caida libre y a partir del ajuste (fit) a la correspondiente ecuación de movimiento, determine (para la columna con incertidumbre)\n",
    "1. La velocidad inicial de IPMH  en `IPMH/día`\n",
    "1. La aceleración constante en `IPMH/día**2`\n",
    "1. El número máximo de IPMH que se alcanzaría\n",
    "1. El número de días en el que se alcanzaría dicho máximo\n",
    "1. Realice una gráfico que muestré el ajuste y la posición del máximo usando los estándares adecuados\n",
    "\n",
    "DATOS\n",
    "```python  \n",
    "[\n",
    "    {'día':1,'IPMH':464},\n",
    "    {'día':2,'IPMH':494},\n",
    "    {'día':3,'IPMH':532},\n",
    "    {'día':4,'IPMH':552},\n",
    "    {'día':5,'IPMH':576},\n",
    "    {'día':6,'IPMH':589}\n",
    "]\n",
    "```"
   ]
  },
  {
   "cell_type": "code",
   "execution_count": 1,
   "metadata": {},
   "outputs": [],
   "source": [
    "import pandas as pd\n",
    "#A\n",
    "datos=[\n",
    "    {'día':1,'IPMH':464},\n",
    "    {'día':2,'IPMH':494},\n",
    "    {'día':3,'IPMH':532},\n",
    "    {'día':4,'IPMH':552},\n",
    "    {'día':5,'IPMH':576},\n",
    "    {'día':6,'IPMH':589}\n",
    "]\n",
    "\n",
    "df=pd.DataFrame(datos)"
   ]
  },
  {
   "cell_type": "code",
   "execution_count": 2,
   "metadata": {},
   "outputs": [
    {
     "name": "stdout",
     "output_type": "stream",
     "text": [
      "   día  IPMH\n",
      "0    1   464\n",
      "1    2   494\n",
      "2    3   532\n",
      "3    4   552\n",
      "4    5   576\n",
      "5    6   589\n"
     ]
    }
   ],
   "source": [
    "print(df)"
   ]
  },
  {
   "cell_type": "code",
   "execution_count": 9,
   "metadata": {},
   "outputs": [
    {
     "data": {
      "text/html": [
       "<div>\n",
       "<style scoped>\n",
       "    .dataframe tbody tr th:only-of-type {\n",
       "        vertical-align: middle;\n",
       "    }\n",
       "\n",
       "    .dataframe tbody tr th {\n",
       "        vertical-align: top;\n",
       "    }\n",
       "\n",
       "    .dataframe thead th {\n",
       "        text-align: right;\n",
       "    }\n",
       "</style>\n",
       "<table border=\"1\" class=\"dataframe\">\n",
       "  <thead>\n",
       "    <tr style=\"text-align: right;\">\n",
       "      <th></th>\n",
       "      <th>día</th>\n",
       "      <th>IPMH</th>\n",
       "      <th>IPMH2</th>\n",
       "    </tr>\n",
       "  </thead>\n",
       "  <tbody>\n",
       "    <tr>\n",
       "      <th>0</th>\n",
       "      <td>1</td>\n",
       "      <td>464</td>\n",
       "      <td>463.072</td>\n",
       "    </tr>\n",
       "    <tr>\n",
       "      <th>1</th>\n",
       "      <td>2</td>\n",
       "      <td>494</td>\n",
       "      <td>493.012</td>\n",
       "    </tr>\n",
       "    <tr>\n",
       "      <th>2</th>\n",
       "      <td>3</td>\n",
       "      <td>532</td>\n",
       "      <td>530.936</td>\n",
       "    </tr>\n",
       "    <tr>\n",
       "      <th>3</th>\n",
       "      <td>4</td>\n",
       "      <td>552</td>\n",
       "      <td>550.896</td>\n",
       "    </tr>\n",
       "    <tr>\n",
       "      <th>4</th>\n",
       "      <td>5</td>\n",
       "      <td>576</td>\n",
       "      <td>574.848</td>\n",
       "    </tr>\n",
       "    <tr>\n",
       "      <th>5</th>\n",
       "      <td>6</td>\n",
       "      <td>589</td>\n",
       "      <td>587.822</td>\n",
       "    </tr>\n",
       "  </tbody>\n",
       "</table>\n",
       "</div>"
      ],
      "text/plain": [
       "   día  IPMH    IPMH2\n",
       "0    1   464  463.072\n",
       "1    2   494  493.012\n",
       "2    3   532  530.936\n",
       "3    4   552  550.896\n",
       "4    5   576  574.848\n",
       "5    6   589  587.822"
      ]
     },
     "execution_count": 9,
     "metadata": {},
     "output_type": "execute_result"
    }
   ],
   "source": [
    "df[\"IPMH2\"]=df[\"IPMH\"]-df[\"IPMH\"]*2/1000\n",
    "df"
   ]
  },
  {
   "cell_type": "code",
   "execution_count": 42,
   "metadata": {},
   "outputs": [
    {
     "name": "stdout",
     "output_type": "stream",
     "text": [
      "        2\n",
      "-2.513 d + 43 d + 421.1\n"
     ]
    }
   ],
   "source": [
    "import numpy as np\n",
    "\n",
    "'''\n",
    "B\n",
    "Polinomio por caida libre del data frame de los dias y el IPMH con incertidumbre del 2 por mil\n",
    "'''\n",
    "coeficientes=np.polyfit(df.día,df.IPMH2,deg=2)\n",
    "polinomio=np.poly1d(coeficientes,variable='d')\n",
    "print(polinomio)"
   ]
  },
  {
   "cell_type": "code",
   "execution_count": 43,
   "metadata": {},
   "outputs": [
    {
     "name": "stdout",
     "output_type": "stream",
     "text": [
      "La velocidad inicial del virus es 43.0 IPMH/dia\n"
     ]
    }
   ],
   "source": [
    "'''\n",
    "1\n",
    "La velocidad inicial la encontramos con la derivada y calculamos en 0\n",
    "'''\n",
    "v=polinomio.deriv()\n",
    "print(f'La velocidad inicial del virus es {round(v(0),2)} IPMH/dia')"
   ]
  },
  {
   "cell_type": "code",
   "execution_count": 44,
   "metadata": {},
   "outputs": [
    {
     "name": "stdout",
     "output_type": "stream",
     "text": [
      "La acelaración inicial del virus es -5.03 IPMH/dia^2\n"
     ]
    }
   ],
   "source": [
    "'''\n",
    "2\n",
    "La aceleración la encontramos con la derivada de la velocidad y calculamos en 0\n",
    "'''\n",
    "a=v.deriv()\n",
    "print(f'La acelaración inicial del virus es {round(a(0),2)} IPMH/dia^2')"
   ]
  },
  {
   "cell_type": "code",
   "execution_count": 74,
   "metadata": {},
   "outputs": [
    {
     "name": "stdout",
     "output_type": "stream",
     "text": [
      "La población maxima del virus es 604.98 IPMH\n",
      "La población maxima del virus llega a los 8.56 días\n"
     ]
    }
   ],
   "source": [
    "'''\n",
    "Para hallar el pico maximo, se debe buscar el tiempo cuando la velocidad es 0, se lo hace buscando la raiz en la derivada\n",
    "de la velocidad\n",
    "'''\n",
    "v_0=v.roots\n",
    "pmax=polinomio(v_0)\n",
    "print(f'La población maxima del virus es {round(pmax[0],2)} IPMH')\n",
    "print(f'La población maxima del virus llega a los {round(v_0[0],2)} días')"
   ]
  },
  {
   "cell_type": "code",
   "execution_count": 50,
   "metadata": {},
   "outputs": [
    {
     "data": {
      "text/plain": [
       "array([24.07165268, -6.96101438])"
      ]
     },
     "execution_count": 50,
     "metadata": {},
     "output_type": "execute_result"
    }
   ],
   "source": [
    "polinomio.roots"
   ]
  },
  {
   "cell_type": "code",
   "execution_count": 72,
   "metadata": {},
   "outputs": [
    {
     "data": {
      "image/png": "[encoded data removed]",
      "text/plain": [
       "<Figure size 432x288 with 1 Axes>"
      ]
     },
     "metadata": {
      "needs_background": "light"
     },
     "output_type": "display_data"
    }
   ],
   "source": [
    "import matplotlib.pyplot as plt\n",
    "x=np.linspace(0,24,100)\n",
    "plt.plot(df.día,df.IPMH2,'ro',label='Datos dados')\n",
    "plt.plot(x,polinomio(x),label=polinomio)\n",
    "plt.plot(v_0[0],pmax[0],'o',label='Pico maximo')\n",
    "plt.legend()\n",
    "plt.xlabel('Dias')\n",
    "plt.ylabel('IPMH')\n",
    "plt.title('Infecciones por millon de habitantes (IPMH) de Colombia por la variante Omicrón del Coronavirus')\n",
    "plt.grid()"
   ]
  },
  {
   "cell_type": "code",
   "execution_count": null,
   "metadata": {},
   "outputs": [],
   "source": []
  },
  {
   "cell_type": "code",
   "execution_count": null,
   "metadata": {},
   "outputs": [],
   "source": []
  }
 ],
 "metadata": {
  "colab": {
   "include_colab_link": true,
   "name": "Examen_2021_1_02_enunciado.ipynb",
   "provenance": []
  },
  "kernelspec": {
   "display_name": "Python 3 (ipykernel)",
   "language": "python",
   "name": "python3"
  },
  "language_info": {
   "codemirror_mode": {
    "name": "ipython",
    "version": 3
   },
   "file_extension": ".py",
   "mimetype": "text/x-python",
   "name": "python",
   "nbconvert_exporter": "python",
   "pygments_lexer": "ipython3",
   "version": "3.9.7"
  }
 },
 "nbformat": 4,
 "nbformat_minor": 4
}
