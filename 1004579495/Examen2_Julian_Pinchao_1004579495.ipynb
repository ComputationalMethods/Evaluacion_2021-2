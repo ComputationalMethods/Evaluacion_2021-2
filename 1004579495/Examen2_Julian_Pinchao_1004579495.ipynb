{
 "cells": [
  {
   "cell_type": "markdown",
   "id": "cbfe0407",
   "metadata": {},
   "source": [
    "Julian Francisco Pinchao Ortiz\n",
    "\n",
    "C.C 1004579495"
   ]
  },
  {
   "cell_type": "markdown",
   "id": "0949b7a5-6d81-4e98-adc7-a7a1867266a3",
   "metadata": {},
   "source": [
    "### Link a éste GitHub en classroom → ClassWork → Examenes\n",
    "\n",
    "A)\n",
    "1. Cree una función en Python que defina la función\n",
    "$$\n",
    "f(\\lambda)=\\int_0^\\infty \\frac{\\sin(\\lambda x)}{\\operatorname{e}^x}\\operatorname{d}x\n",
    "$$\n",
    "1. Gráfique dicha función para $\\lambda$ entre 0 y 100\n",
    "1. Haga un segundo gráfico añadiendo la derivada de la función\n",
    "\n",
    "Sugerencia: Ignore los \"WARNINGS\" de Scipy\n",
    "\n"
   ]
  },
  {
   "cell_type": "code",
   "execution_count": 75,
   "id": "62cbc669-9ed6-4f54-b4c9-5ac10f7c15d6",
   "metadata": {},
   "outputs": [
    {
     "name": "stderr",
     "output_type": "stream",
     "text": [
      "C:\\Users\\julip\\AppData\\Local\\Temp/ipykernel_16044/2286477814.py:26: RuntimeWarning: overflow encountered in exp\n",
      "  y=(integrate.quad(lambda x: np.sin(x*i)/np.exp(x),0,np.inf))[0]\n",
      "C:\\Users\\julip\\AppData\\Local\\Temp/ipykernel_16044/2286477814.py:26: IntegrationWarning: The maximum number of subdivisions (50) has been achieved.\n",
      "  If increasing the limit yields no improvement it is advised to analyze \n",
      "  the integrand in order to determine the difficulties.  If the position of a \n",
      "  local difficulty can be determined (singularity, discontinuity) one will \n",
      "  probably gain from splitting up the interval and calling the integrator \n",
      "  on the subranges.  Perhaps a special-purpose integrator should be used.\n",
      "  y=(integrate.quad(lambda x: np.sin(x*i)/np.exp(x),0,np.inf))[0]\n",
      "C:\\Users\\julip\\AppData\\Local\\Temp/ipykernel_16044/2286477814.py:26: IntegrationWarning: The integral is probably divergent, or slowly convergent.\n",
      "  y=(integrate.quad(lambda x: np.sin(x*i)/np.exp(x),0,np.inf))[0]\n"
     ]
    },
    {
     "data": {
      "text/plain": [
       "Text(0.5, 0, '$\\\\lambda$')"
      ]
     },
     "execution_count": 75,
     "metadata": {},
     "output_type": "execute_result"
    },
    {
     "data": {
      "image/png": "[encoded data removed]",
      "text/plain": [
       "<Figure size 432x288 with 1 Axes>"
      ]
     },
     "metadata": {
      "needs_background": "light"
     },
     "output_type": "display_data"
    }
   ],
   "source": [
    "import numpy as np\n",
    "import matplotlib.pyplot as plt\n",
    "import scipy.integrate as integrate\n",
    "from scipy import misc\n",
    "def derivate(func,x0,**kwargs):\n",
    "    '''\n",
    "    Vectorized replacement of scipy.misc derivative:\n",
    "        from scipy.misc import derivative\n",
    "    For usage check the derivative help, e.g, in jupyter: \n",
    "        from scipy.misc import derivative\n",
    "        derivative?\n",
    "    '''\n",
    "    try:\n",
    "        #x0: can be an array or a list  \n",
    "        nn=np.asarray(x0).shape[0] # force error if float is used \n",
    "        fp=np.vectorize(misc.derivative)\n",
    "    except IndexError:\n",
    "        fp=misc.derivative\n",
    "        \n",
    "    return fp(func,x0,**kwargs)\n",
    "\n",
    "l=np.linspace(0,100,100)\n",
    "f=[]\n",
    "for i in l:\n",
    "    i=i+1    \n",
    "    y=(integrate.quad(lambda x: np.sin(x*i)/np.exp(x),0,np.inf))[0]\n",
    "    f.append(y)\n",
    "\n",
    "fl=lambda s:integrate.quad(lambda x: np.sin(x*s)/np.exp(x),0,np.inf)[0]\n",
    "plt.plot(l,f,label='$f(\\lambda)$')\n",
    "plt.legend()\n",
    "plt.ylabel('$f(\\lambda)$')\n",
    "plt.xlabel('$\\lambda$')"
   ]
  },
  {
   "cell_type": "code",
   "execution_count": 74,
   "id": "ffb5bf7f",
   "metadata": {},
   "outputs": [
    {
     "name": "stderr",
     "output_type": "stream",
     "text": [
      "C:\\Users\\julip\\AppData\\Local\\Temp/ipykernel_16044/365257916.py:29: RuntimeWarning: overflow encountered in exp\n",
      "  fl=lambda s:integrate.quad(lambda x: np.sin(x*s)/np.exp(x),0,np.inf)[0]\n",
      "C:\\Users\\julip\\AppData\\Local\\Temp/ipykernel_16044/365257916.py:29: IntegrationWarning: The maximum number of subdivisions (50) has been achieved.\n",
      "  If increasing the limit yields no improvement it is advised to analyze \n",
      "  the integrand in order to determine the difficulties.  If the position of a \n",
      "  local difficulty can be determined (singularity, discontinuity) one will \n",
      "  probably gain from splitting up the interval and calling the integrator \n",
      "  on the subranges.  Perhaps a special-purpose integrator should be used.\n",
      "  fl=lambda s:integrate.quad(lambda x: np.sin(x*s)/np.exp(x),0,np.inf)[0]\n",
      "C:\\Users\\julip\\AppData\\Local\\Temp/ipykernel_16044/365257916.py:29: IntegrationWarning: The integral is probably divergent, or slowly convergent.\n",
      "  fl=lambda s:integrate.quad(lambda x: np.sin(x*s)/np.exp(x),0,np.inf)[0]\n"
     ]
    },
    {
     "data": {
      "text/plain": [
       "Text(0.5, 0, '$\\\\lambda$')"
      ]
     },
     "execution_count": 74,
     "metadata": {},
     "output_type": "execute_result"
    },
    {
     "data": {
      "image/png": "[encoded data removed]",
      "text/plain": [
       "<Figure size 432x288 with 1 Axes>"
      ]
     },
     "metadata": {
      "needs_background": "light"
     },
     "output_type": "display_data"
    }
   ],
   "source": [
    "plt.plot(l,f,label='$f(\\lambda)$')\n",
    "plt.plot(l,derivate(fl,l,dx=1E-2),label=\"$f'(\\lambda)$\")\n",
    "plt.legend()\n",
    "plt.ylabel('$f(\\lambda)$')\n",
    "plt.xlabel('$\\lambda$')"
   ]
  },
  {
   "cell_type": "markdown",
   "id": "7eea5885",
   "metadata": {},
   "source": [
    "B)\n",
    "Construya una matriz aleatoria $3\\times 3$ $\\boldsymbol{Y}$ y genere la matrix\n",
    "$$\n",
    "\\boldsymbol{A}=\\boldsymbol{Y}^{\\operatorname{T}}\\boldsymbol{Y}\n",
    "$$\n",
    "\n",
    "1. Obtenga los autovalores y autovectores de $\\boldsymbol{A}$ en orden ascendente en valor absoluto\n",
    "1. Compruebe que los atovalores de $\\boldsymbol{Y}$ corresponden a la raíz cuadrada de los autovalores de  $\\boldsymbol{A}$ y explique porqué"
   ]
  },
  {
   "cell_type": "code",
   "execution_count": 201,
   "id": "14309ef3",
   "metadata": {},
   "outputs": [],
   "source": [
    "Y = np.array( [[ 5 ,-4, 2],\n",
    "                [-4 , 7,-3],\n",
    "                [ 0 ,-3, 3]] )"
   ]
  },
  {
   "cell_type": "code",
   "execution_count": 202,
   "id": "0b53204c",
   "metadata": {},
   "outputs": [
    {
     "name": "stdout",
     "output_type": "stream",
     "text": [
      "Autovalores en orden ascendente[  1.09539931   9.34867479 126.5559259 ]\n",
      "Autovectores en orden ascedente en valor absoluto: [[0.80449397 0.27802962 0.52487045]\n",
      " [0.75855973 0.2939217  0.58154722]\n",
      " [0.38613229 0.51613903 0.76452754]]\n"
     ]
    }
   ],
   "source": [
    "A=Y.T@Y\n",
    "autovaloresA=np.linalg.eig(A)\n",
    "print(f'Autovalores en orden ascendente{np.abs(np.sort(autovaloresA[0]))}' )\n",
    "print(f'Autovectores en orden ascedente en valor absoluto: {np.abs(np.sort(autovaloresA[1]))}')"
   ]
  },
  {
   "cell_type": "code",
   "execution_count": 203,
   "id": "bc400083",
   "metadata": {},
   "outputs": [
    {
     "name": "stdout",
     "output_type": "stream",
     "text": [
      "[ 1.24881636  2.5806569  11.17052674]\n"
     ]
    }
   ],
   "source": [
    "autovaloresV=np.linalg.eig(Y)[0]\n",
    "print(np.sort(autovaloresV))"
   ]
  },
  {
   "cell_type": "markdown",
   "id": "1e13afd7",
   "metadata": {},
   "source": [
    "2. Compruebe que los atovalores de $\\boldsymbol{Y}$ corresponden a la raíz cuadrada de los autovalores de  $\\boldsymbol{A}$ y explique porqué"
   ]
  },
  {
   "cell_type": "code",
   "execution_count": 204,
   "id": "ac897abe",
   "metadata": {},
   "outputs": [
    {
     "data": {
      "text/plain": [
       "array([ True,  True,  True])"
      ]
     },
     "execution_count": 204,
     "metadata": {},
     "output_type": "execute_result"
    }
   ],
   "source": [
    "np.round(np.sort(np.sqrt(autovaloresA[0])))==np.round(np.sort(autovaloresV))\n"
   ]
  },
  {
   "cell_type": "markdown",
   "id": "a1f2c471",
   "metadata": {},
   "source": [
    "El enunciado es verdadero, ya que si calculamos la raiz del determinante de A, nos da el determinante de Y\n",
    "$$\n",
    "\\sqrt{det(A)}=det(\\boldsymbol{Y})\n",
    "$$\n"
   ]
  },
  {
   "cell_type": "code",
   "execution_count": 205,
   "id": "531a9c17",
   "metadata": {},
   "outputs": [
    {
     "data": {
      "text/plain": [
       "True"
      ]
     },
     "execution_count": 205,
     "metadata": {},
     "output_type": "execute_result"
    }
   ],
   "source": [
    "np.round(np.sqrt(np.linalg.det(A)),2)==np.round(np.linalg.det(Y),2)"
   ]
  },
  {
   "cell_type": "markdown",
   "id": "7abc40d9",
   "metadata": {},
   "source": [
    "O tambien si obtenemos el determinante de $\\boldsymbol{Y}^{\\operatorname{T}}\\boldsymbol{Y}$ nos da el determinate de $\\boldsymbol{A}$\n",
    "$$\n",
    "det(\\boldsymbol{A}=det(\\boldsymbol{Y}^{\\operatorname{T}}\\boldsymbol{Y})\n",
    "$$"
   ]
  },
  {
   "cell_type": "code",
   "execution_count": 214,
   "id": "cff48ce6",
   "metadata": {},
   "outputs": [
    {
     "data": {
      "text/plain": [
       "True"
      ]
     },
     "execution_count": 214,
     "metadata": {},
     "output_type": "execute_result"
    }
   ],
   "source": [
    "np.round(np.linalg.det(Y.T@Y),2)==np.round(np.linalg.det(A))"
   ]
  }
 ],
 "metadata": {
  "kernelspec": {
   "display_name": "Python 3 (ipykernel)",
   "language": "python",
   "name": "python3"
  },
  "language_info": {
   "codemirror_mode": {
    "name": "ipython",
    "version": 3
   },
   "file_extension": ".py",
   "mimetype": "text/x-python",
   "name": "python",
   "nbconvert_exporter": "python",
   "pygments_lexer": "ipython3",
   "version": "3.9.7"
  }
 },
 "nbformat": 4,
 "nbformat_minor": 5
}
