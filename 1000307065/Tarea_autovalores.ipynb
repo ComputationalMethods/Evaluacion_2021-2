{
  "nbformat": 4,
  "nbformat_minor": 0,
  "metadata": {
    "colab": {
      "name": "Tarea autovalores.ipynb",
      "provenance": []
    },
    "kernelspec": {
      "name": "python3",
      "display_name": "Python 3"
    },
    "language_info": {
      "name": "python"
    }
  },
  "cells": [
    {
      "cell_type": "code",
      "execution_count": 1,
      "metadata": {
        "id": "MuRFInxeUJur"
      },
      "outputs": [],
      "source": [
        "import numpy as np"
      ]
    },
    {
      "cell_type": "code",
      "source": [
        "def w(A):\n",
        "  '''\n",
        "  Ordena los autovalores de la matriz A en orden ascendente\n",
        "  '''\n",
        "  l,V=np.linalg.eig(A)\n",
        "  index=np.abs(l).argsort()\n",
        "  argl=np.sort(l)\n",
        "  argV=np.c_[tuple([np.c_[V[:,i]] for i in index])]\n",
        "\n",
        "  return argl, argV"
      ],
      "metadata": {
        "id": "A9jYpQWaVd0t"
      },
      "execution_count": 11,
      "outputs": []
    },
    {
      "cell_type": "code",
      "source": [
        "A=np.array([[5,-4,0],\n",
        "             [-4,7,-3],\n",
        "             [0,-3,5]])"
      ],
      "metadata": {
        "id": "DiuE1viOYAdi"
      },
      "execution_count": 12,
      "outputs": []
    },
    {
      "cell_type": "code",
      "source": [
        "A"
      ],
      "metadata": {
        "colab": {
          "base_uri": "https://localhost:8080/"
        },
        "id": "TW5gen6nYIn2",
        "outputId": "5ebc342a-44fa-47cf-f891-0c12e2520142"
      },
      "execution_count": 13,
      "outputs": [
        {
          "output_type": "execute_result",
          "data": {
            "text/plain": [
              "array([[ 5, -4,  0],\n",
              "       [-4,  7, -3],\n",
              "       [ 0, -3,  5]])"
            ]
          },
          "metadata": {},
          "execution_count": 13
        }
      ]
    },
    {
      "cell_type": "code",
      "source": [
        "w(A)"
      ],
      "metadata": {
        "colab": {
          "base_uri": "https://localhost:8080/"
        },
        "id": "BbzfXLbKYJaA",
        "outputId": "94582a76-c5eb-4163-a901-f3a05fe99f1b"
      },
      "execution_count": 14,
      "outputs": [
        {
          "output_type": "execute_result",
          "data": {
            "text/plain": [
              "(array([ 0.90098049,  5.        , 11.09901951]),\n",
              " array([[-6.18673713e-01, -6.00000000e-01, -5.07191124e-01],\n",
              "        [-6.33988906e-01,  1.91548674e-16,  7.73342141e-01],\n",
              "        [-4.64005285e-01,  8.00000000e-01, -3.80393343e-01]]))"
            ]
          },
          "metadata": {},
          "execution_count": 14
        }
      ]
    }
  ]
}