{
  "nbformat": 4,
  "nbformat_minor": 0,
  "metadata": {
    "colab": {
      "name": "Binario_to_float.ipynb",
      "provenance": []
    },
    "kernelspec": {
      "name": "python3",
      "display_name": "Python 3"
    },
    "language_info": {
      "name": "python"
    }
  },
  "cells": [
    {
      "cell_type": "code",
      "execution_count": 1,
      "metadata": {
        "id": "QXRoqDzZQviu"
      },
      "outputs": [],
      "source": [
        "import numpy as np"
      ]
    },
    {
      "cell_type": "code",
      "source": [
        "def btofloat( binario ):\n",
        "    binario = binario[::-1] #invierte la lista de numeros\n",
        "    s=binario[31]\n",
        "    #Parte decimal\n",
        "    dec = 1\n",
        "    for i in range(1,24):\n",
        "        dec += int(binario[23-i])*2**-i\n",
        "    #Parte del exponente\n",
        "    exp = 0\n",
        "    for i in range(0,8):\n",
        "        exp += int(binario[23+i])*2**i\n",
        "    #numero real\n",
        "    number =( (-1)**int(s)/2**(127-exp) )*dec\n",
        "    return number"
      ],
      "metadata": {
        "id": "yrBQSuqJKIIG"
      },
      "execution_count": 9,
      "outputs": []
    },
    {
      "cell_type": "code",
      "source": [
        "print(btofloat('00111111101011000010100011110100'))"
      ],
      "metadata": {
        "colab": {
          "base_uri": "https://localhost:8080/"
        },
        "id": "Vnxg-YWh6JFO",
        "outputId": "4513eca4-4585-4234-c91b-176d994be5c8"
      },
      "execution_count": 12,
      "outputs": [
        {
          "output_type": "stream",
          "name": "stdout",
          "text": [
            "1.3449997901916504\n"
          ]
        }
      ]
    }
  ]
}