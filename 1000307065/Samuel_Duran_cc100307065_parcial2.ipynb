{
  "cells": [
    {
      "cell_type": "markdown",
      "id": "0949b7a5-6d81-4e98-adc7-a7a1867266a3",
      "metadata": {
        "id": "0949b7a5-6d81-4e98-adc7-a7a1867266a3"
      },
      "source": [
        "### Link a éste GitHub en classroom → ClassWork → Examenes\n",
        "\n",
        "A)\n",
        "1. Cree una función en Python que defina la función\n",
        "$$\n",
        "f(\\lambda)=\\int_0^\\infty \\frac{\\sin(\\lambda x)}{\\operatorname{e}^x}\\operatorname{d}x\n",
        "$$\n",
        "1. Gráfique dicha función para $\\lambda$ entre 0 y 100\n",
        "1. Haga un segundo gráfico añadiendo la derivada de la función\n",
        "\n",
        "Sugerencia: Ignore los \"WARNINGS\" de Scipy\n",
        "\n",
        "B)\n",
        "Construya una matriz aleatoria $3\\times 3$ $\\boldsymbol{Y}$ y genere la matrix\n",
        "$$\n",
        "\\boldsymbol{A}=\\boldsymbol{Y}^{\\operatorname{T}}\\boldsymbol{Y}\n",
        "$$\n",
        "\n",
        "1. Obtenga los autovalores y autovectores de $\\boldsymbol{A}$ en orden ascendente en valor absoluto\n",
        "1. Compruebe que los atovalores de $\\boldsymbol{Y}$ corresponden a la raíz cuadrado de los autovalores de  $\\boldsymbol{A}$ y explique porqué"
      ]
    },
    {
      "cell_type": "markdown",
      "source": [
        "## A"
      ],
      "metadata": {
        "id": "Ta2PMSk16AAV"
      },
      "id": "Ta2PMSk16AAV"
    },
    {
      "cell_type": "code",
      "execution_count": 86,
      "id": "62cbc669-9ed6-4f54-b4c9-5ac10f7c15d6",
      "metadata": {
        "id": "62cbc669-9ed6-4f54-b4c9-5ac10f7c15d6"
      },
      "outputs": [],
      "source": [
        "import numpy as np\n",
        "import scipy.integrate as integrate\n",
        "import matplotlib.pyplot as plt\n",
        "from scipy import misc\n",
        "from scipy import linalg\n"
      ]
    },
    {
      "cell_type": "code",
      "source": [
        "I= lambda λ: integrate.quad(lambda x: np.sin(λ*x)/np.exp(x),0,np.infty)[0] "
      ],
      "metadata": {
        "id": "Orb67kka3vU5"
      },
      "id": "Orb67kka3vU5",
      "execution_count": 7,
      "outputs": []
    },
    {
      "cell_type": "code",
      "source": [
        "f=np.vectorize(I)"
      ],
      "metadata": {
        "id": "0w00YAFV4Njg"
      },
      "id": "0w00YAFV4Njg",
      "execution_count": 8,
      "outputs": []
    },
    {
      "cell_type": "code",
      "source": [
        "λ=np.linspace(0,100,100)\n",
        "f(λ)"
      ],
      "metadata": {
        "colab": {
          "base_uri": "https://localhost:8080/"
        },
        "id": "0WcUX3Y14TIb",
        "outputId": "de5bc97d-2036-473a-ee0f-17572967c563"
      },
      "id": "0WcUX3Y14TIb",
      "execution_count": 9,
      "outputs": [
        {
          "output_type": "stream",
          "name": "stderr",
          "text": [
            "/usr/local/lib/python3.7/dist-packages/ipykernel_launcher.py:1: RuntimeWarning: overflow encountered in exp\n",
            "  \"\"\"Entry point for launching an IPython kernel.\n",
            "/usr/local/lib/python3.7/dist-packages/ipykernel_launcher.py:1: IntegrationWarning: The maximum number of subdivisions (50) has been achieved.\n",
            "  If increasing the limit yields no improvement it is advised to analyze \n",
            "  the integrand in order to determine the difficulties.  If the position of a \n",
            "  local difficulty can be determined (singularity, discontinuity) one will \n",
            "  probably gain from splitting up the interval and calling the integrator \n",
            "  on the subranges.  Perhaps a special-purpose integrator should be used.\n",
            "  \"\"\"Entry point for launching an IPython kernel.\n"
          ]
        },
        {
          "output_type": "execute_result",
          "data": {
            "text/plain": [
              "array([0.        , 0.49997475, 0.39758238, 0.29759221, 0.23321417,\n",
              "       0.19053044, 0.16062693, 0.13865518, 0.12188347, 0.10868491,\n",
              "       0.09803912, 0.08927686, 0.08194228, 0.07571475, 0.07036244,\n",
              "       0.06571375, 0.06163901, 0.05803847, 0.05483413, 0.05196418,\n",
              "       0.04937901, 0.04703833, 0.04490907, 0.04296388, 0.04117993,\n",
              "       0.03953794, 0.03802186, 0.03661732, 0.03531304, 0.03409824,\n",
              "       0.03296381, 0.03190308, 0.03090808, 0.02997284, 0.02909258,\n",
              "       0.02826448, 0.02748037, 0.02673754, 0.02603498, 0.02536985,\n",
              "       0.02473711, 0.02413361, 0.02355945, 0.02301282, 0.02249016,\n",
              "       0.02197514, 0.02152198, 0.02104808, 0.02061341, 0.02020496,\n",
              "       0.01978503, 0.01942243, 0.01902355, 0.01864576, 0.018383  ,\n",
              "       0.01769064, 0.01763005, 0.01741756, 0.01705232, 0.01676169,\n",
              "       0.0163098 , 0.0161986 , 0.01596741, 0.01580668, 0.01558648,\n",
              "       0.01532912, 0.01552013, 0.01464742, 0.01456214, 0.0145353 ,\n",
              "       0.01414982, 0.01362283, 0.01323408, 0.01267766, 0.01255544,\n",
              "       0.01328285, 0.01266295, 0.01251487, 0.01244825, 0.01232724,\n",
              "       0.01191935, 0.01215126, 0.01110091, 0.01179952, 0.01180822,\n",
              "       0.01177178, 0.01201601, 0.01215106, 0.01243901, 0.01215446,\n",
              "       0.01136469, 0.01085778, 0.009785  , 0.00926821, 0.00910333,\n",
              "       0.00930231, 0.00976713, 0.01048449, 0.01197714, 0.01112055])"
            ]
          },
          "metadata": {},
          "execution_count": 9
        }
      ]
    },
    {
      "cell_type": "code",
      "source": [
        "plt.figure()\n",
        "plt.plot(λ,f(λ))\n",
        "plt.title(\"$\\lambda$ vs $f(\\lambda)$\")\n",
        "plt.xlabel(\"$\\lambda$\")\n",
        "plt.ylabel(\"$f(\\lambda)$\")\n",
        "plt.grid()\n",
        "plt.show()\n"
      ],
      "metadata": {
        "colab": {
          "base_uri": "https://localhost:8080/",
          "height": 455
        },
        "id": "m0ciiT3X4aeZ",
        "outputId": "5e9d210a-79ef-4368-d617-d91c44bb5f6e"
      },
      "id": "m0ciiT3X4aeZ",
      "execution_count": 13,
      "outputs": [
        {
          "output_type": "stream",
          "name": "stderr",
          "text": [
            "/usr/local/lib/python3.7/dist-packages/ipykernel_launcher.py:1: RuntimeWarning: overflow encountered in exp\n",
            "  \"\"\"Entry point for launching an IPython kernel.\n",
            "/usr/local/lib/python3.7/dist-packages/ipykernel_launcher.py:1: IntegrationWarning: The maximum number of subdivisions (50) has been achieved.\n",
            "  If increasing the limit yields no improvement it is advised to analyze \n",
            "  the integrand in order to determine the difficulties.  If the position of a \n",
            "  local difficulty can be determined (singularity, discontinuity) one will \n",
            "  probably gain from splitting up the interval and calling the integrator \n",
            "  on the subranges.  Perhaps a special-purpose integrator should be used.\n",
            "  \"\"\"Entry point for launching an IPython kernel.\n"
          ]
        },
        {
          "output_type": "display_data",
          "data": {
            "text/plain": [
              "<Figure size 432x288 with 1 Axes>"
            ],
            "image/png": "[encoded data removed]"
          },
          "metadata": {
            "needs_background": "light"
          }
        }
      ]
    },
    {
      "cell_type": "code",
      "source": [
        "#calculemos la derivada de la funcion\n",
        "fp=misc.derivative(f,λ)"
      ],
      "metadata": {
        "colab": {
          "base_uri": "https://localhost:8080/"
        },
        "id": "-stSL5Bs_iA-",
        "outputId": "d896e18d-19ef-471c-d778-60d8bf142151"
      },
      "id": "-stSL5Bs_iA-",
      "execution_count": 53,
      "outputs": [
        {
          "output_type": "stream",
          "name": "stderr",
          "text": [
            "/usr/local/lib/python3.7/dist-packages/ipykernel_launcher.py:1: RuntimeWarning: overflow encountered in exp\n",
            "  \"\"\"Entry point for launching an IPython kernel.\n",
            "/usr/local/lib/python3.7/dist-packages/ipykernel_launcher.py:1: IntegrationWarning: The maximum number of subdivisions (50) has been achieved.\n",
            "  If increasing the limit yields no improvement it is advised to analyze \n",
            "  the integrand in order to determine the difficulties.  If the position of a \n",
            "  local difficulty can be determined (singularity, discontinuity) one will \n",
            "  probably gain from splitting up the interval and calling the integrator \n",
            "  on the subranges.  Perhaps a special-purpose integrator should be used.\n",
            "  \"\"\"Entry point for launching an IPython kernel.\n",
            "/usr/local/lib/python3.7/dist-packages/ipykernel_launcher.py:1: IntegrationWarning: The integral is probably divergent, or slowly convergent.\n",
            "  \"\"\"Entry point for launching an IPython kernel.\n"
          ]
        }
      ]
    },
    {
      "cell_type": "code",
      "source": [
        "plt.figure()\n",
        "plt.plot(λ,f(λ),label=\"$f(\\lambda)$\")\n",
        "plt.plot(λ,fp,label=\"$f^{\\prime}(\\lambda)$\")\n",
        "plt.title(\"$\\lambda$ vs $f(\\lambda)$\")\n",
        "plt.xlabel(\"$\\lambda$\")\n",
        "plt.ylabel(\"$f(\\lambda)$\")\n",
        "plt.legend()\n",
        "plt.grid()\n",
        "plt.show()"
      ],
      "metadata": {
        "colab": {
          "base_uri": "https://localhost:8080/",
          "height": 455
        },
        "id": "q7RjCoMmAoLp",
        "outputId": "a6e85840-920e-40a4-c924-2f0361bf7da8"
      },
      "id": "q7RjCoMmAoLp",
      "execution_count": 63,
      "outputs": [
        {
          "output_type": "stream",
          "name": "stderr",
          "text": [
            "/usr/local/lib/python3.7/dist-packages/ipykernel_launcher.py:1: RuntimeWarning: overflow encountered in exp\n",
            "  \"\"\"Entry point for launching an IPython kernel.\n",
            "/usr/local/lib/python3.7/dist-packages/ipykernel_launcher.py:1: IntegrationWarning: The maximum number of subdivisions (50) has been achieved.\n",
            "  If increasing the limit yields no improvement it is advised to analyze \n",
            "  the integrand in order to determine the difficulties.  If the position of a \n",
            "  local difficulty can be determined (singularity, discontinuity) one will \n",
            "  probably gain from splitting up the interval and calling the integrator \n",
            "  on the subranges.  Perhaps a special-purpose integrator should be used.\n",
            "  \"\"\"Entry point for launching an IPython kernel.\n"
          ]
        },
        {
          "output_type": "display_data",
          "data": {
            "text/plain": [
              "<Figure size 432x288 with 1 Axes>"
            ],
            "image/png": "[encoded data removed]"
          },
          "metadata": {
            "needs_background": "light"
          }
        }
      ]
    },
    {
      "cell_type": "markdown",
      "source": [
        "##B"
      ],
      "metadata": {
        "id": "2MDtWf8z6Ey3"
      },
      "id": "2MDtWf8z6Ey3"
    },
    {
      "cell_type": "code",
      "source": [
        "np.random.seed(100000)\n",
        "Y=np.random.randint(0,10,size=(3,3))"
      ],
      "metadata": {
        "id": "yuYxPJ3L6Dui"
      },
      "id": "yuYxPJ3L6Dui",
      "execution_count": 73,
      "outputs": []
    },
    {
      "cell_type": "code",
      "source": [
        "Y"
      ],
      "metadata": {
        "colab": {
          "base_uri": "https://localhost:8080/"
        },
        "id": "2yK7N1Gv6KII",
        "outputId": "ade9cac9-db2c-46b5-855d-089dfef3ee10"
      },
      "id": "2yK7N1Gv6KII",
      "execution_count": 74,
      "outputs": [
        {
          "output_type": "execute_result",
          "data": {
            "text/plain": [
              "array([[9, 7, 5],\n",
              "       [4, 8, 4],\n",
              "       [1, 9, 0]])"
            ]
          },
          "metadata": {},
          "execution_count": 74
        }
      ]
    },
    {
      "cell_type": "code",
      "source": [
        "A=Y.transpose()@Y"
      ],
      "metadata": {
        "id": "2skGZ5tY6LuE"
      },
      "id": "2skGZ5tY6LuE",
      "execution_count": 75,
      "outputs": []
    },
    {
      "cell_type": "code",
      "source": [
        "A"
      ],
      "metadata": {
        "colab": {
          "base_uri": "https://localhost:8080/"
        },
        "id": "N4BzHEo9CDX5",
        "outputId": "c7510876-8977-4600-aa81-f0052156d01e"
      },
      "id": "N4BzHEo9CDX5",
      "execution_count": 76,
      "outputs": [
        {
          "output_type": "execute_result",
          "data": {
            "text/plain": [
              "array([[ 98, 104,  61],\n",
              "       [104, 194,  67],\n",
              "       [ 61,  67,  41]])"
            ]
          },
          "metadata": {},
          "execution_count": 76
        }
      ]
    },
    {
      "cell_type": "code",
      "source": [
        "def w(A):\n",
        "  '''\n",
        "  Ordena los autovalores y autovectores de la matriz A en orden ascendente\n",
        "  '''\n",
        "  l,V=np.linalg.eig(A)\n",
        "  index=np.abs(l).argsort()\n",
        "  argl=np.sort(l)\n",
        "  argV=np.c_[tuple([np.c_[V[:,i]] for i in index])]\n",
        "\n",
        "  return argl, argV"
      ],
      "metadata": {
        "id": "HZSqzEDQ6tle"
      },
      "id": "HZSqzEDQ6tle",
      "execution_count": 77,
      "outputs": []
    },
    {
      "cell_type": "code",
      "source": [
        "w(A)"
      ],
      "metadata": {
        "colab": {
          "base_uri": "https://localhost:8080/"
        },
        "id": "dQ4LY-KJ-DpO",
        "outputId": "e7f834df-e876-453f-eac4-206276daa484"
      },
      "id": "dQ4LY-KJ-DpO",
      "execution_count": 78,
      "outputs": [
        {
          "output_type": "execute_result",
          "data": {
            "text/plain": [
              "(array([  2.16477475,  38.44844192, 292.38678333]),\n",
              " array([[-0.53026849, -0.66642834, -0.52410744],\n",
              "        [-0.00862061,  0.62238144, -0.78266661],\n",
              "        [ 0.84778595, -0.41050532, -0.33577428]]))"
            ]
          },
          "metadata": {},
          "execution_count": 78
        }
      ]
    },
    {
      "cell_type": "code",
      "source": [
        "#autovalores de A\n",
        "w(A)[0]"
      ],
      "metadata": {
        "colab": {
          "base_uri": "https://localhost:8080/"
        },
        "id": "1krmkJPa-E1g",
        "outputId": "70235baf-36cb-451b-f4fd-af70d0bc702f"
      },
      "id": "1krmkJPa-E1g",
      "execution_count": 79,
      "outputs": [
        {
          "output_type": "execute_result",
          "data": {
            "text/plain": [
              "array([  2.16477475,  38.44844192, 292.38678333])"
            ]
          },
          "metadata": {},
          "execution_count": 79
        }
      ]
    },
    {
      "cell_type": "code",
      "source": [
        "#Como la matriz Y es una matriz arbitraria utilizamos otro metodo de diagonalizacion\n",
        "V,Adiag,Udagger=linalg.svd(Y)"
      ],
      "metadata": {
        "id": "gJ_weoHV-WQ8"
      },
      "id": "gJ_weoHV-WQ8",
      "execution_count": 92,
      "outputs": []
    },
    {
      "cell_type": "code",
      "source": [
        "Adiag"
      ],
      "metadata": {
        "colab": {
          "base_uri": "https://localhost:8080/"
        },
        "id": "Ncnv3ZosHlCk",
        "outputId": "e6d5e3d5-b29d-4c49-c50c-fca7bf4c1b10"
      },
      "id": "Ncnv3ZosHlCk",
      "execution_count": 93,
      "outputs": [
        {
          "output_type": "execute_result",
          "data": {
            "text/plain": [
              "array([17.09932114,  6.20068076,  1.47131735])"
            ]
          },
          "metadata": {},
          "execution_count": 93
        }
      ]
    },
    {
      "cell_type": "code",
      "source": [
        "#valores propios ordenados ascendentemente\n",
        "vp=np.sort(Adiag)"
      ],
      "metadata": {
        "id": "BiQPTwlKIRiP"
      },
      "id": "BiQPTwlKIRiP",
      "execution_count": 99,
      "outputs": []
    },
    {
      "cell_type": "code",
      "source": [
        "vp"
      ],
      "metadata": {
        "colab": {
          "base_uri": "https://localhost:8080/"
        },
        "id": "p5IvDluqJaUM",
        "outputId": "8d8bbdbf-6b11-4844-9042-ac13b831f0e9"
      },
      "id": "p5IvDluqJaUM",
      "execution_count": 100,
      "outputs": [
        {
          "output_type": "execute_result",
          "data": {
            "text/plain": [
              "array([ 1.47131735,  6.20068076, 17.09932114])"
            ]
          },
          "metadata": {},
          "execution_count": 100
        }
      ]
    },
    {
      "cell_type": "code",
      "source": [
        "print(f\"La raiz cuadrada de los autovalores de A son:{np.sqrt(w(A)[0])}\\n los autovalores de Y son:{vp}\")"
      ],
      "metadata": {
        "colab": {
          "base_uri": "https://localhost:8080/"
        },
        "id": "OTDW6bwOJa4h",
        "outputId": "2e40ca76-54c7-46c5-a9bd-184ec36c1672"
      },
      "id": "OTDW6bwOJa4h",
      "execution_count": 105,
      "outputs": [
        {
          "output_type": "stream",
          "name": "stdout",
          "text": [
            "La raiz cuadrada de los autovalores de A son:[ 1.47131735  6.20068076 17.09932114]\n",
            " los autovalores de Y son:[ 1.47131735  6.20068076 17.09932114]\n"
          ]
        }
      ]
    },
    {
      "cell_type": "markdown",
      "source": [
        "# Explicacion:\n",
        "\n",
        "Se puede construir una matriz $A$ $n\\times n$ simetrica con una matriz arbitraria $Y$, tal que:\n",
        "\n",
        "$$A=Y^{T} Y$$\n",
        "\n",
        "como $A$ es simetrica existen $U$ y $U^{T}$ tal que:\n",
        "\n",
        "$$U^{T} A U= U^{T} Y^{T} Y U= D_{\\lambda}$$\n",
        "\n",
        "donde $D_{\\lambda}$ es la matriz de diagonalizacion de A, entonces:\n",
        "\n",
        "$$Y^{T} Y= U^{T} D_{\\lambda} U=U^{T} D_{\\sqrt{\\lambda}}D_{\\sqrt{\\lambda}} U$$\n",
        "\n",
        "Existe una matriz ortogonal R tal que:\n",
        "$$Y^{T} Y= U^{T} D_{\\sqrt{\\lambda}} R^{T} R D_{\\sqrt{\\lambda}} U$$\n",
        "\n",
        "por lo que se puede parametrizar a $Y$ como:\n",
        "\n",
        "$$Y = R D_{\\sqrt{\\lambda}} U$$\n",
        "\n",
        "donde $D_{\\sqrt{\\lambda}}$ es la matriz diagonal cuyas entradas son los autovalores de $Y$, por lo que se puede concluir que los autovalores de $Y$ es igual a la raiz cuadrada de los autovalores de $A$"
      ],
      "metadata": {
        "id": "Nn60_k9zKaRG"
      },
      "id": "Nn60_k9zKaRG"
    }
  ],
  "metadata": {
    "kernelspec": {
      "display_name": "Python 3 (ipykernel)",
      "language": "python",
      "name": "python3"
    },
    "language_info": {
      "codemirror_mode": {
        "name": "ipython",
        "version": 3
      },
      "file_extension": ".py",
      "mimetype": "text/x-python",
      "name": "python",
      "nbconvert_exporter": "python",
      "pygments_lexer": "ipython3",
      "version": "3.9.2"
    },
    "colab": {
      "name": "Samuel_Duran_cc100307065_parcial2.ipynb",
      "provenance": []
    }
  },
  "nbformat": 4,
  "nbformat_minor": 5
}