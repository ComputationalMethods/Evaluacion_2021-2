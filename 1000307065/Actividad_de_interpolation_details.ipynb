{
  "cells": [
    {
      "cell_type": "markdown",
      "metadata": {
        "id": "DvZeftzu7RZN"
      },
      "source": [
        "# Appendix\n",
        "Thecnical details of interpolation functions: [interpolation_details.ipynb](./interpolation_details.ipynb)\n",
        "<a href=\"https://colab.research.google.com/github/restrepo/ComputationalMethods/blob/master/material/interpolation_details.ipynb\" target=\"_parent\"><img src=\"https://colab.research.google.com/assets/colab-badge.svg\" alt=\"Open In Colab\"/></a>"
      ]
    },
    {
      "cell_type": "markdown",
      "metadata": {
        "id": "dfAhai-EsSGu"
      },
      "source": [
        "## Bibligraphy\n",
        "* https://www.math.ust.hk/~mamu/courses/231/Slides/CH03_3A.pdf\n",
        "* Narváez, Diana Marcela Devia. \"Comparison between some techniques of interpolators: An application in engineering.\" Scientia et technica 24.1 (2019): 173-178. \n",
        "DOI: https://doi.org/10.22517/23447214.21341 (Open Access)\n",
        "* Atkinson, Kendall E. An introduction to numerical analysis. John wiley & sons, 2008. [PDF](https://drive.google.com/file/d/1OgHD9OSwtAbxYziokV5CincuJs16rM2V/view?usp=sharing)"
      ]
    },
    {
      "cell_type": "markdown",
      "metadata": {
        "id": "ha2aOzk_7RZO"
      },
      "source": [
        "# Divided Differences"
      ]
    },
    {
      "cell_type": "markdown",
      "metadata": {
        "id": "aUIEM074sSGx"
      },
      "source": [
        "In spite of the good precision achieved by the Lagrange interpolating polynomials, analytical manipulation of such an expressions is rather complicated. Furthermore, when applying other polynomials-based techniques like Hermite polynomials, the algorithms present very different ways to achieve the final interpolation, making a comparison unclear.\n",
        "\n",
        "Divided differences is a way to standardize the notation for interpolating polynomials. Suppose a polynomial $P_n(x)$ and write it in the next form:\n",
        "\n",
        "$$P_n(x) = a_0 + a_1(x-x_0)+ a_2 (x-x_0)(x-x_1)+\\cdots + a_n(x-x_0)\\cdots (x-x_{n-1})$$"
      ]
    },
    {
      "cell_type": "markdown",
      "metadata": {
        "id": "ZC9aCyPBsSGy"
      },
      "source": [
        "where $a_i$ are a set of constants to be determined from the given data $(x_i, y_i)$.\n",
        "\n",
        "* Obtain $a_0$ <br/>Note that due to the definition of an interpolant function, previous expression should satisfy:\n",
        "\n",
        "$$P_{n}\\left(x_{0}\\right)=a_{0}=f\\left(x_{0}\\right)=y_{0}$$\n",
        "\n",
        "* Obtain $a_1$\n",
        "$$\\frac{P_{n}(x)-a_{0}}{x-x_{0}}=\\frac{P_{n}(x)-y_{0}}{x-x_{0}}=a_{1}+a_{2}\\left(x-x_{1}\\right)+\\cdots+a_{n}\\left(x-x_{1}\\right) \\cdots\\left(x-x_{n}\\right)$$\n",
        "\n",
        "$$\\frac{P_{n}\\left(x_{1}\\right)-y_{0}}{x_1-x_{0}}=a_{1}=\\frac{y_{1}-y_{0}}{x_1-x_{0}}$$\n",
        "* Obtain $a_2$ $$\n",
        "\\frac{1}{x-x_{1}}\\left(\\frac{P_{n}(x)-y_{0}}{x-x_{0}}-\\frac{y_{1}-y_{0}}{x_{1}-x_{0}}\\right)=a_{2}+a_{3}\\left(x-x_{2}\\right)+\\cdots+a_{n}\\left(x-x_{2}\\right) \\cdots\\left(x-x_{n}\\right)$$ \n",
        "evaluating in $x=x_2$ $$\n",
        "a_{2}=\\frac{1}{x_{2}-x_{1}}\\left(\\frac{y_{2}-y_{0}}{x_{2}-x_{0}}-\\frac{y_{1}-y_{0}}{x_{1}-x_{0}}\\right),$$ \n",
        "that [we can rewrite like](https://bit.ly/3j018kH)\n",
        "$$a_{2}=\\frac{\\frac{y_{2}-y_{1}}{x_{2}-x_{1}}-\\frac{y_{1}-y_{0}}{x_{1}-x_{0}}}{x_{2}-x_{0}}.$$"
      ]
    },
    {
      "cell_type": "markdown",
      "metadata": {
        "id": "twpLt68AsSG0"
      },
      "source": [
        "In summary\n",
        "\\begin{align}\n",
        "a_{0}=& f\\left[x_{0}\\right] \\equiv y_{0} \\\\\n",
        "a_{1}=& f\\left[x_{0}, x_{1}\\right] \\equiv \\frac{y_{1}-y_{0}}{x_{1}-x_{0}}\\\\\n",
        "a_{2}=&f\\left[x_{0}, x_{1}, x_{2}\\right] \\equiv \\frac{\\frac{y_{2}-y_{1}}{x_{2}-x_{1}}-\\frac{y_{1}-y_{0}}{x_{1}-x_{0}}}{x_{2}-x_{0}}\n",
        "\\end{align}\n",
        "\n",
        "The key observation, by using the symmetry $f\\left[x_{0}, x_{1}\\right]=f\\left[x_{1}, x_{0}\\right]$, is\n",
        "$$f\\left[x_{0}, x_{1}, x_{2}\\right]=\\frac{f\\left[x_{1}, x_{2}\\right]-f\\left[x_{0}, x_{1}\\right]}{x_{2}-x_{0}}$$"
      ]
    },
    {
      "cell_type": "markdown",
      "metadata": {
        "id": "y4bon0dj7RZO"
      },
      "source": [
        "Allow us to definine the **zeroth divided difference**, $k=0$, of $x_i$ like\n",
        "\n",
        "$$D_0[x_i] \\equiv f[x_i] \\equiv f(x_i) = y_i$$\n",
        "\n",
        "the **first divided difference**, $k=1$ of $x_i$ like\n",
        "\n",
        "$$D_1[x_i] \\equiv f[x_i, x_{i+1}] \\equiv \\frac{f[x_{i+1}]-f[x_i]}{x_{i+1}-x_i}$$\n",
        "\n",
        "$$D_1[x_i] = \\frac{D_{0}[x_{i+1}]-D_{0}[x_{i}]}{x_{i+1}-x_i} $$\n",
        "\n",
        "the **second divided difference**, $k=2$ of $x_i$ like\n",
        "\n",
        "$$D_2[x_i]\\equiv f[x_i,x_{i+1},x_{i+2}] \\equiv \\frac{f[x_{i+1},x_{i+2}]-f[x_i,x_{i+1}]}{x_{i+2}-x_{i}}$$\n",
        "\n",
        "$$D_2[x_i]=\\frac{D_1[x_{i+1}]-D_1[x_i]}{x_{i+2}-x_{i}}$$\n",
        "\n",
        "successively until the **kth divided difference**\n",
        "\n",
        "$$D_k[x_i] \\equiv f[x_i, x_{i+1},\\cdots, x_{i+k-1},x_{i+k}] \\equiv \\frac{f[x_{i+1},x_{i+2}\\cdots, x_{i+k}]-f[x_i, x_{i+1},\\cdots, x_{i+k-1}]}{x_{i+k}-x_i}$$\n",
        "\n",
        "$$D_k[x_i] = \\frac{D_{k-1}[x_{i+1}]-D_{k-1}[x_{i}]}{x_{i+k}-x_i}$$\n",
        "\n",
        "These expressions are the fundamental bricks for any interpolating method."
      ]
    },
    {
      "cell_type": "code",
      "execution_count": null,
      "metadata": {
        "id": "0KeBPW9X7RZP"
      },
      "outputs": [],
      "source": [
        "#Construction of a kth divided difference (recursive code)\n",
        "def D( i, k, Xn, Yn ):\n",
        "    #If k+i>N\n",
        "    if i+k>=len(Xn):\n",
        "        return 0\n",
        "    #Zeroth divided difference\n",
        "    elif k == 0:\n",
        "        return Yn[i]\n",
        "    #If higher divided difference\n",
        "    else:\n",
        "        return (D(i+1, k-1, Xn, Yn)-D(i, k-1, Xn, Yn))/(Xn[i+k]-Xn[i])"
      ]
    },
    {
      "cell_type": "markdown",
      "metadata": {
        "id": "Gop6cDHi7RZS"
      },
      "source": [
        "## Example 2"
      ]
    },
    {
      "cell_type": "markdown",
      "metadata": {
        "id": "ZVFlECgl7RZT"
      },
      "source": [
        "As an example, Lagrange interpolation can be also derived by using divided differences, which is reached through the next equation:\n",
        "\n",
        "$$P_n(x) = D_0[x_0] + \\sum_{k=1}^n D_k[x_0] (x-x_0) \\cdots (x-x_{k-1})$$\n",
        "\n",
        "Note this expression is by far easier to be manipulated analytically as we can know the coefficients of each order."
      ]
    },
    {
      "cell_type": "markdown",
      "metadata": {
        "id": "awNSCSiI7RZT"
      },
      "source": [
        "## <span style=\"color:red\">Activity</span>     "
      ]
    },
    {
      "cell_type": "markdown",
      "metadata": {
        "id": "tRaDUpIL7RZU"
      },
      "source": [
        "<span style=\"color:red\">    \n",
        "Using the previous expression and the defined function for divided differences, show both methods to calculate Lagrange interpolators are equivalents.\n",
        "</span>     "
      ]
    },
    {
      "cell_type": "markdown",
      "metadata": {
        "id": "Oe3mZNvM7RZV"
      },
      "source": [
        "- - -"
      ]
    },
    {
      "cell_type": "markdown",
      "metadata": {
        "id": "n7_u1oPK7RZV"
      },
      "source": [
        "# Hermite Interpolation"
      ]
    },
    {
      "cell_type": "markdown",
      "metadata": {
        "id": "clDX2gV17RZW"
      },
      "source": [
        "From calculus we know that Taylor polynomials expand a function at a specific point $x_i$, being both functions (the original one and the Taylor function) exactly equal at any derivative-order at that point. Also, as mentioned before, a Lagrange polynomial, given a set of data points, passes through all those points at the same time. However if those points come from an unknown underlying function $f(x)$, the interpolant polynomial might (surely) differ from the real function at any superior derivative-order. So we have:\n",
        "\n",
        "- **Taylor polynomials** are exact at any order, but that only remains true at a specific point.\n",
        "\n",
        "- **Lagrange polynomials** pass through all points of a give dataset, but only at zeroth-order. Derivatives are not longer equal.\n",
        "\n",
        "Once established these differences, we can introduce Hermite polynomials just as a generalization of both, Taylor and Lagrange polynomials.\n",
        "\n",
        "At first, Hermite polynomials can be approximated at any desired order at all the points, as long as one has all these information. However, for the sake of simplicity and without loss of generality, we shall assume Hermite polynomials equal to the real function at zeroth and first-derivative order.\n",
        "\n",
        "Let's suppose a dataset $\\{x_i\\}_i$ for $i = 0,1,\\cdots,n$ with the respective values $\\{f(x_i)\\}_i$ and $\\{f'(x_i)\\}_i$. If we assume two different polynomials to fit each set of data, i.e. a polynomial for $\\{f(x_i)\\}_i$ and another for $\\{f'(x_i)\\}_i$, we obtain $2n+2$ coefficients, however zeroth-order coefficients can be put together so finally there are $2n+1$ independet coefficients to be determined. In this case, we assign the respective Hermite polynimial as $H_{2n+1}(x)$."
      ]
    },
    {
      "cell_type": "markdown",
      "metadata": {
        "id": "IwMAVO9g7RZW"
      },
      "source": [
        "## Derivation in terms of divided differences"
      ]
    },
    {
      "cell_type": "markdown",
      "metadata": {
        "id": "GGYB7YyI7RZX"
      },
      "source": [
        "Remembering the divided differences expression for a Lagrange polynomial\n",
        "\n",
        "$$P_n(x) = D_0[x_0] + \\sum_{k=1}^n D_k[x_0] (x-x_0) \\cdots (x-x_{k-1})$$\n",
        "\n",
        "and by defining a new sequence $\\{z_0, z_1, \\cdots, z_{2n+1}\\}$ such that\n",
        "\n",
        "For even $i$\n",
        "$$z_{2i} = x_i \\mbox{ for } i = 0,2,\\cdots$$\n",
        "while for odd $i$\n",
        "$$z_{2i+1} = x_i \\mbox{ for } i = 1,3,\\cdots$$\n",
        "\n",
        "However, divided differences has to be modified in order to include first-order derivatives:\n",
        "\n",
        "![](https://raw.githubusercontent.com/sbustamante/ComputationalMethods/master/material/figures/table_coefficients.png)\n",
        "\n",
        "Note that $f[z_0,z_1]$ sould be originally\n",
        "\n",
        "$$f[z_0,z_1] = \\frac{f[z_1]-f[z_0]}{z_1-z_0}$$\n",
        "\n",
        "but replacing $z_0 = z_1 = x_0$ this would lead an indetermination. In order to solve this issue, this indertemination can be readily approximated to the derivative at $x_0=z_0$, so\n",
        "\n",
        "$$f[z_0,z_1] = f'(x_0)$$\n",
        "\n",
        "or using the previously defined notation\n",
        "\n",
        "$$D_1[z_0] = f'(x_0)$$\n",
        "\n",
        "Generally, for first-order divided differences we will have\n",
        "\n",
        "even $i$\n",
        "$$D_1[z_{2i}] = f'(x_i)$$\n",
        "odd $i$\n",
        "$$D_1[z_{2i+1}] = f'(x_i)$$\n",
        "\n",
        "Higher order divided differences are calculated as usual:\n",
        "$$D_k[z_i] = \\frac{D_{k-1}[z_{i+1}]-D_{k-1}[z_{i}]}{z_{i+k}-z_i}$$\n",
        "\n",
        "Finally, the Hermite polynomial is built using the next expression\n",
        "\n",
        "* Order zero coefficient:\n",
        "$$D_0[z_0]$$\n",
        "\n",
        "* Hermite polynomials\n",
        "$$H_{2n+1}(x) = D_0[z_0] + \\sum_{k=1}^{2n+1} D_k[z_0] (x-z_0) \\cdots (x-z_{k-1})$$\n"
      ]
    },
    {
      "cell_type": "markdown",
      "metadata": {
        "id": "VFR4bCLU7RZX"
      },
      "source": [
        "## Example"
      ]
    },
    {
      "cell_type": "code",
      "execution_count": null,
      "metadata": {
        "id": "HK67T_MQ7RZY",
        "outputId": "128b6c05-59bc-4957-8bf4-10a9c15fd7dd",
        "colab": {
          "base_uri": "https://localhost:8080/"
        }
      },
      "outputs": [
        {
          "output_type": "stream",
          "name": "stdout",
          "text": [
            "Populating the interactive namespace from numpy and matplotlib\n"
          ]
        }
      ],
      "source": [
        "%pylab inline"
      ]
    },
    {
      "cell_type": "code",
      "execution_count": null,
      "metadata": {
        "id": "NWQ_ahRU7RZb"
      },
      "outputs": [],
      "source": [
        "import pandas as pd\n"
      ]
    },
    {
      "cell_type": "code",
      "execution_count": null,
      "metadata": {
        "id": "DZFaFH4-7RZd",
        "outputId": "1a999ad4-b163-4233-d905-4579a5899f40",
        "colab": {
          "base_uri": "https://localhost:8080/",
          "height": 143
        }
      },
      "outputs": [
        {
          "output_type": "execute_result",
          "data": {
            "text/html": [
              "\n",
              "  <div id=\"df-66c928ec-13c5-41df-89c6-14ed4c55dc72\">\n",
              "    <div class=\"colab-df-container\">\n",
              "      <div>\n",
              "<style scoped>\n",
              "    .dataframe tbody tr th:only-of-type {\n",
              "        vertical-align: middle;\n",
              "    }\n",
              "\n",
              "    .dataframe tbody tr th {\n",
              "        vertical-align: top;\n",
              "    }\n",
              "\n",
              "    .dataframe thead th {\n",
              "        text-align: right;\n",
              "    }\n",
              "</style>\n",
              "<table border=\"1\" class=\"dataframe\">\n",
              "  <thead>\n",
              "    <tr style=\"text-align: right;\">\n",
              "      <th></th>\n",
              "      <th>X</th>\n",
              "      <th>Y</th>\n",
              "    </tr>\n",
              "  </thead>\n",
              "  <tbody>\n",
              "    <tr>\n",
              "      <th>0</th>\n",
              "      <td>3.0</td>\n",
              "      <td>8.0</td>\n",
              "    </tr>\n",
              "    <tr>\n",
              "      <th>1</th>\n",
              "      <td>10.0</td>\n",
              "      <td>6.5</td>\n",
              "    </tr>\n",
              "    <tr>\n",
              "      <th>2</th>\n",
              "      <td>21.3</td>\n",
              "      <td>3.0</td>\n",
              "    </tr>\n",
              "  </tbody>\n",
              "</table>\n",
              "</div>\n",
              "      <button class=\"colab-df-convert\" onclick=\"convertToInteractive('df-66c928ec-13c5-41df-89c6-14ed4c55dc72')\"\n",
              "              title=\"Convert this dataframe to an interactive table.\"\n",
              "              style=\"display:none;\">\n",
              "        \n",
              "  <svg xmlns=\"http://www.w3.org/2000/svg\" height=\"24px\"viewBox=\"0 0 24 24\"\n",
              "       width=\"24px\">\n",
              "    <path d=\"M0 0h24v24H0V0z\" fill=\"none\"/>\n",
              "    <path d=\"M18.56 5.44l.94 2.06.94-2.06 2.06-.94-2.06-.94-.94-2.06-.94 2.06-2.06.94zm-11 1L8.5 8.5l.94-2.06 2.06-.94-2.06-.94L8.5 2.5l-.94 2.06-2.06.94zm10 10l.94 2.06.94-2.06 2.06-.94-2.06-.94-.94-2.06-.94 2.06-2.06.94z\"/><path d=\"M17.41 7.96l-1.37-1.37c-.4-.4-.92-.59-1.43-.59-.52 0-1.04.2-1.43.59L10.3 9.45l-7.72 7.72c-.78.78-.78 2.05 0 2.83L4 21.41c.39.39.9.59 1.41.59.51 0 1.02-.2 1.41-.59l7.78-7.78 2.81-2.81c.8-.78.8-2.07 0-2.86zM5.41 20L4 18.59l7.72-7.72 1.47 1.35L5.41 20z\"/>\n",
              "  </svg>\n",
              "      </button>\n",
              "      \n",
              "  <style>\n",
              "    .colab-df-container {\n",
              "      display:flex;\n",
              "      flex-wrap:wrap;\n",
              "      gap: 12px;\n",
              "    }\n",
              "\n",
              "    .colab-df-convert {\n",
              "      background-color: #E8F0FE;\n",
              "      border: none;\n",
              "      border-radius: 50%;\n",
              "      cursor: pointer;\n",
              "      display: none;\n",
              "      fill: #1967D2;\n",
              "      height: 32px;\n",
              "      padding: 0 0 0 0;\n",
              "      width: 32px;\n",
              "    }\n",
              "\n",
              "    .colab-df-convert:hover {\n",
              "      background-color: #E2EBFA;\n",
              "      box-shadow: 0px 1px 2px rgba(60, 64, 67, 0.3), 0px 1px 3px 1px rgba(60, 64, 67, 0.15);\n",
              "      fill: #174EA6;\n",
              "    }\n",
              "\n",
              "    [theme=dark] .colab-df-convert {\n",
              "      background-color: #3B4455;\n",
              "      fill: #D2E3FC;\n",
              "    }\n",
              "\n",
              "    [theme=dark] .colab-df-convert:hover {\n",
              "      background-color: #434B5C;\n",
              "      box-shadow: 0px 1px 3px 1px rgba(0, 0, 0, 0.15);\n",
              "      filter: drop-shadow(0px 1px 2px rgba(0, 0, 0, 0.3));\n",
              "      fill: #FFFFFF;\n",
              "    }\n",
              "  </style>\n",
              "\n",
              "      <script>\n",
              "        const buttonEl =\n",
              "          document.querySelector('#df-66c928ec-13c5-41df-89c6-14ed4c55dc72 button.colab-df-convert');\n",
              "        buttonEl.style.display =\n",
              "          google.colab.kernel.accessAllowed ? 'block' : 'none';\n",
              "\n",
              "        async function convertToInteractive(key) {\n",
              "          const element = document.querySelector('#df-66c928ec-13c5-41df-89c6-14ed4c55dc72');\n",
              "          const dataTable =\n",
              "            await google.colab.kernel.invokeFunction('convertToInteractive',\n",
              "                                                     [key], {});\n",
              "          if (!dataTable) return;\n",
              "\n",
              "          const docLinkHtml = 'Like what you see? Visit the ' +\n",
              "            '<a target=\"_blank\" href=https://colab.research.google.com/notebooks/data_table.ipynb>data table notebook</a>'\n",
              "            + ' to learn more about interactive tables.';\n",
              "          element.innerHTML = '';\n",
              "          dataTable['output_type'] = 'display_data';\n",
              "          await google.colab.output.renderOutput(dataTable, element);\n",
              "          const docLink = document.createElement('div');\n",
              "          docLink.innerHTML = docLinkHtml;\n",
              "          element.appendChild(docLink);\n",
              "        }\n",
              "      </script>\n",
              "    </div>\n",
              "  </div>\n",
              "  "
            ],
            "text/plain": [
              "      X    Y\n",
              "0   3.0  8.0\n",
              "1  10.0  6.5\n",
              "2  21.3  3.0"
            ]
          },
          "metadata": {},
          "execution_count": 4
        }
      ],
      "source": [
        "df=pd.read_csv('https://raw.githubusercontent.com/restrepo/ComputationalMethods/master/data/interpolation.csv')\n",
        "df"
      ]
    },
    {
      "cell_type": "markdown",
      "metadata": {
        "id": "QJUcwgS07RZg"
      },
      "source": [
        "### Hermite interpolation\n",
        "The recommend degree for the Hermite polynomial is $n-1$ where $n$ is the number of data points of the dataset"
      ]
    },
    {
      "cell_type": "code",
      "execution_count": null,
      "metadata": {
        "id": "2QIuLN4C7RZg",
        "outputId": "8970d3af-0773-4d70-a3d7-22e0fea7773d",
        "colab": {
          "base_uri": "https://localhost:8080/",
          "height": 166
        }
      },
      "outputs": [
        {
          "output_type": "error",
          "ename": "NameError",
          "evalue": "ignored",
          "traceback": [
            "\u001b[0;31m---------------------------------------------------------------------------\u001b[0m",
            "\u001b[0;31mNameError\u001b[0m                                 Traceback (most recent call last)",
            "\u001b[0;32m<ipython-input-5-f6b0ee9e9b20>\u001b[0m in \u001b[0;36m<module>\u001b[0;34m()\u001b[0m\n\u001b[0;32m----> 1\u001b[0;31m \u001b[0mH\u001b[0m\u001b[0;34m=\u001b[0m\u001b[0mnp\u001b[0m\u001b[0;34m.\u001b[0m\u001b[0mpolynomial\u001b[0m\u001b[0;34m.\u001b[0m\u001b[0mhermite\u001b[0m\u001b[0;34m.\u001b[0m\u001b[0mHermite\u001b[0m\u001b[0;34m.\u001b[0m\u001b[0mfit\u001b[0m\u001b[0;34m(\u001b[0m\u001b[0mtheta\u001b[0m\u001b[0;34m,\u001b[0m\u001b[0mR\u001b[0m\u001b[0;34m,\u001b[0m\u001b[0;36m5\u001b[0m\u001b[0;34m)\u001b[0m\u001b[0;34m\u001b[0m\u001b[0;34m\u001b[0m\u001b[0m\n\u001b[0m",
            "\u001b[0;31mNameError\u001b[0m: name 'theta' is not defined"
          ]
        }
      ],
      "source": [
        "H=np.polynomial.hermite.Hermite.fit(theta,R,5)"
      ]
    },
    {
      "cell_type": "code",
      "execution_count": null,
      "metadata": {
        "id": "znYI7BBJsSHB",
        "outputId": "98d26a3a-5c7a-4003-e7ff-e779256446dd",
        "colab": {
          "base_uri": "https://localhost:8080/",
          "height": 60
        }
      },
      "outputs": [
        {
          "output_type": "execute_result",
          "data": {
            "text/latex": "$x \\mapsto \\text{5.718339127686477}\\,{H}_{0}(\\text{-1.3278688524590163} + \\text{0.1092896174863388}x) - \\text{1.250000000000002}\\,{H}_{1}(\\text{-1.3278688524590163} + \\text{0.1092896174863388}x) - \\text{0.10916956384323467}\\,{H}_{2}(\\text{-1.3278688524590163} + \\text{0.1092896174863388}x)$",
            "text/plain": [
              "Hermite([ 5.71833913, -1.25      , -0.10916956], domain=[ 3. , 21.3], window=[-1.,  1.])"
            ]
          },
          "metadata": {},
          "execution_count": 6
        }
      ],
      "source": [
        "H"
      ]
    },
    {
      "cell_type": "code",
      "execution_count": null,
      "metadata": {
        "id": "KzhV5eJk7RZj",
        "outputId": "5b4cb8ed-616d-44e6-ae2c-4325679f87d2",
        "colab": {
          "base_uri": "https://localhost:8080/",
          "height": 302
        }
      },
      "outputs": [
        {
          "output_type": "execute_result",
          "data": {
            "text/plain": [
              "Text(0, 0.5, '$H(x)$')"
            ]
          },
          "metadata": {},
          "execution_count": 7
        },
        {
          "output_type": "display_data",
          "data": {
            "image/png": "[encoded data removed]",
            "text/plain": [
              "<Figure size 432x288 with 1 Axes>"
            ]
          },
          "metadata": {
            "needs_background": "light"
          }
        }
      ],
      "source": [
        "x=np.linspace(df.X.min(),df.X.max(),100)\n",
        "plt.plot(x,H(x))\n",
        "plt.plot(df.X,df.Y,'ro')\n",
        "plt.grid()\n",
        "plt.xlabel('$x$',size=15)\n",
        "plt.ylabel('$H(x)$',size=15)"
      ]
    },
    {
      "cell_type": "markdown",
      "metadata": {
        "id": "lprhbdIv7RZm"
      },
      "source": [
        "## Example 3"
      ]
    },
    {
      "cell_type": "markdown",
      "metadata": {
        "id": "WavZjzx07RZm"
      },
      "source": [
        "Define a routine to calculate divided differences for Hermite polynomials."
      ]
    },
    {
      "cell_type": "code",
      "execution_count": null,
      "metadata": {
        "id": "A2BTNAl27RZn"
      },
      "outputs": [],
      "source": [
        "#Construction of a kth divided difference for Hermite polynomials (recursive code)\n",
        "def Dh( j, k, Zn, Yn, Ypn ):\n",
        "    #If k+j>N\n",
        "    if j+k>=len(Zn):\n",
        "        return 0\n",
        "    #Zeroth divided difference\n",
        "    elif k == 0:\n",
        "        return Yn[j/2]\n",
        "    #First order divided difference (even indexes)\n",
        "    elif k == 1 and j%2 == 0:\n",
        "        return Ypn[j/2]\n",
        "    #If higher divided difference\n",
        "    else:\n",
        "        return (Dh(j+1, k-1, Zn, Yn, Ypn)-Dh(j, k-1, Zn, Yn, Ypn))/(Zn[j+k]-Zn[j])"
      ]
    },
    {
      "cell_type": "markdown",
      "metadata": {
        "id": "jsxCHrlg7RZp"
      },
      "source": [
        "## <font color='red'> **Activity** </font>"
      ]
    },
    {
      "cell_type": "markdown",
      "metadata": {
        "id": "E9-802hy7RZp"
      },
      "source": [
        "<font color='red'>    \n",
        "\n",
        "Calculate a routine, using the previous program for divided differences, that computes the Hermite polynomial given a dataset.\n",
        "\n",
        "Generate a set of $N$ points of the function $\\sin^2(x)$ between $0$ and $2\\pi$, including an array of $x$ positions, $y = f(x)$ and first derivative $y' = f'(x)$.\n",
        "\n",
        "Show which polynomial gives the best approximation to the real function, Hermite or Lagrange polynomial.\n",
        "\n",
        "</font>\n",
        "\n",
        "<font color='white'>\n",
        "Solution:\n",
        "\n",
        "nbviewer.ipython.org/github/sbustamante/ComputationalMethods/blob/master/activities/hermite-and-lagrange.ipynb\n",
        "</font>"
      ]
    },
    {
      "cell_type": "code",
      "source": [
        "def f(x):\n",
        "  return np.sin(x)**2"
      ],
      "metadata": {
        "id": "6H_5o0e9KNGl"
      },
      "execution_count": null,
      "outputs": []
    },
    {
      "cell_type": "code",
      "source": [
        "def fp(x):\n",
        "  return 2*np.sin(x)*np.cos(x)"
      ],
      "metadata": {
        "id": "_fwKs-bPKSMI"
      },
      "execution_count": null,
      "outputs": []
    },
    {
      "cell_type": "code",
      "source": [
        "x=np.linspace(0,2*np.pi,50)\n",
        "plt.figure()\n",
        "plt.plot(x,f(x),\"o\",label=\"f(x)\")\n",
        "plt.plot(x,fp(x),\".k\",label=\"$f^{\\prime}$(x)\")\n",
        "plt.legend()\n",
        "plt.grid()\n",
        "plt.show()"
      ],
      "metadata": {
        "colab": {
          "base_uri": "https://localhost:8080/",
          "height": 265
        },
        "id": "dNH_HYIgKi2F",
        "outputId": "ad95cb73-2ce0-40e6-d239-851f641d4aaa"
      },
      "execution_count": null,
      "outputs": [
        {
          "output_type": "display_data",
          "data": {
            "image/png": "[encoded data removed]",
            "text/plain": [
              "<Figure size 432x288 with 1 Axes>"
            ]
          },
          "metadata": {
            "needs_background": "light"
          }
        }
      ]
    },
    {
      "cell_type": "markdown",
      "metadata": {
        "id": "iC6eUA-Z7RZq"
      },
      "source": [
        "- - -"
      ]
    },
    {
      "cell_type": "code",
      "source": [
        "H=np.polynomial.hermite.Hermite.fit(x,f(x),10)"
      ],
      "metadata": {
        "id": "o_ZMZO-hPZ30"
      },
      "execution_count": null,
      "outputs": []
    },
    {
      "cell_type": "code",
      "source": [
        "print(H)"
      ],
      "metadata": {
        "colab": {
          "base_uri": "https://localhost:8080/"
        },
        "id": "SBwEWOWJPeIw",
        "outputId": "16c477f8-dcc1-4507-9958-055ac615c816"
      },
      "execution_count": null,
      "outputs": [
        {
          "output_type": "stream",
          "name": "stdout",
          "text": [
            "62.85168986278962 + 1.0645433972946401e-11·H₁(x) +\n",
            "183.72648921463858·H₂(x) + 7.228693815489144e-12·H₃(x) +\n",
            "72.74651410905241·H₄(x) + 1.0910557887628707e-12·H₅(x) +\n",
            "8.723638205607447·H₆(x) + 5.17644987980921e-14·H₇(x) +\n",
            "0.3781316102797703·H₈(x) + 7.289165264288183e-16·H₉(x) +\n",
            "0.005184545088440935·H₁₀(x)\n"
          ]
        }
      ]
    },
    {
      "cell_type": "code",
      "source": [
        "x=np.linspace(0,2*np.pi,50)\n",
        "plt.figure()\n",
        "plt.plot(x,f(x),\"o\",label=\"f(x)\")\n",
        "plt.plot(x,fp(x),\".k\",label=\"$f^{\\prime}$(x)\")\n",
        "plt.plot(x,H(x))\n",
        "plt.legend()\n",
        "plt.grid()\n",
        "plt.show()"
      ],
      "metadata": {
        "colab": {
          "base_uri": "https://localhost:8080/",
          "height": 265
        },
        "id": "N-uRN4UoPqFj",
        "outputId": "ad60ab7b-8d5b-4f51-a1b6-aae382f24a54"
      },
      "execution_count": null,
      "outputs": [
        {
          "output_type": "display_data",
          "data": {
            "image/png": "[encoded data removed]",
            "text/plain": [
              "<Figure size 432x288 with 1 Axes>"
            ]
          },
          "metadata": {
            "needs_background": "light"
          }
        }
      ]
    },
    {
      "cell_type": "code",
      "source": [
        ""
      ],
      "metadata": {
        "id": "4vXF8tNIP2nl"
      },
      "execution_count": null,
      "outputs": []
    }
  ],
  "metadata": {
    "colab": {
      "name": "Actividad de interpolation_details.ipynb",
      "provenance": []
    },
    "kernelspec": {
      "display_name": "Python 3 (ipykernel)",
      "language": "python",
      "name": "python3"
    },
    "language_info": {
      "codemirror_mode": {
        "name": "ipython",
        "version": 3
      },
      "file_extension": ".py",
      "mimetype": "text/x-python",
      "name": "python",
      "nbconvert_exporter": "python",
      "pygments_lexer": "ipython3",
      "version": "3.9.2"
    },
    "toc": {
      "colors": {
        "hover_highlight": "#DAA520",
        "running_highlight": "#FF0000",
        "selected_highlight": "#FFD700"
      },
      "moveMenuLeft": true,
      "nav_menu": {
        "height": "341px",
        "width": "252px"
      },
      "navigate_menu": true,
      "number_sections": true,
      "sideBar": true,
      "threshold": 4,
      "toc_cell": false,
      "toc_section_display": "block",
      "toc_window_display": false
    }
  },
  "nbformat": 4,
  "nbformat_minor": 0
}