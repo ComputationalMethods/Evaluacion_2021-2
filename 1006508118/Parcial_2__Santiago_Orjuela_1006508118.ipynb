{
  "nbformat": 4,
  "nbformat_minor": 0,
  "metadata": {
    "colab": {
      "name": "Parcial 2_ Santiago Orjuela_1006508118 ",
      "provenance": []
    },
    "kernelspec": {
      "name": "python3",
      "display_name": "Python 3"
    },
    "language_info": {
      "name": "python"
    }
  },
  "cells": [
    {
      "cell_type": "markdown",
      "source": [
        "# Parcial 2. Metodos Computacionales\n",
        "## Santiago Andres Orjuela Montealegre\n",
        "###1006508118"
      ],
      "metadata": {
        "id": "RjPI97uK2_QD"
      }
    },
    {
      "cell_type": "code",
      "source": [
        "import numpy as np\n",
        "import sympy as sp\n",
        "import matplotlib.pyplot as plt\n",
        "from scipy.misc import derivative\n",
        "from scipy import integrate"
      ],
      "metadata": {
        "id": "v1EC_K523TiG"
      },
      "execution_count": 90,
      "outputs": []
    },
    {
      "cell_type": "markdown",
      "source": [
        "### A."
      ],
      "metadata": {
        "id": "3d4TzY-13F85"
      }
    },
    {
      "cell_type": "code",
      "execution_count": 95,
      "metadata": {
        "colab": {
          "base_uri": "https://localhost:8080/",
          "height": 53
        },
        "id": "70b3PzNp2ywu",
        "outputId": "2f1d9f7f-8219-4c89-fd3d-a04ed8c61b10"
      },
      "outputs": [
        {
          "output_type": "execute_result",
          "data": {
            "text/plain": [
              "λ/(λ**2 + 1)"
            ],
            "text/latex": "$\\displaystyle \\frac{λ}{λ^{2} + 1}$"
          },
          "metadata": {},
          "execution_count": 95
        }
      ],
      "source": [
        "x = sp.symbols('x')\n",
        "λ = sp.symbols('λ')\n",
        "oo = sp.oo\n",
        "f = lambda x,λ: sp.sin(λ*x)*sp.exp(-x)\n",
        "def I(f):\n",
        "  return sp.integrate(f(x,λ),(x,0,oo),conds='none')\n",
        "I(f)"
      ]
    },
    {
      "cell_type": "code",
      "source": [
        "I1 = I(f)\n",
        "I = sp.lambdify([λ], I1, \"numpy\")\n",
        "λ_ = np.linspace(0,100,101)\n",
        "plt.plot(λ_,I(λ_),'r',label= r'$\\frac{λ}{λ^2) + 1}$')\n",
        "plt.grid()\n",
        "plt.ylabel(r'$f(λ)$')\n",
        "plt.xlabel(r'$λ$')\n",
        "plt.legend()\n",
        "plt.show()"
      ],
      "metadata": {
        "colab": {
          "base_uri": "https://localhost:8080/",
          "height": 281
        },
        "id": "SvshNPsD5VIi",
        "outputId": "d6a7694e-4ad7-44bf-88bb-f50cd328d8d2"
      },
      "execution_count": 96,
      "outputs": [
        {
          "output_type": "display_data",
          "data": {
            "text/plain": [
              "<Figure size 432x288 with 1 Axes>"
            ],
            "image/png": "[encoded data removed]"
          },
          "metadata": {
            "needs_background": "light"
          }
        }
      ]
    },
    {
      "cell_type": "code",
      "source": [
        "fp = sp.diff(I1,λ, 1)\n",
        "fp_ = sp.lambdify([λ], fp, \"numpy\")\n",
        "λ_ = np.linspace(0,100,101)\n",
        "plt.plot(λ_,I(λ_),'b',label= r'$\\frac{λ}{λ^2) + 1}$')\n",
        "plt.plot(λ_,fp_(λ_),'r',label= r'$-\\frac{2λ^2}{(λ^2+1)^2)}+\\frac{1}{λ^2+1}$')\n",
        "plt.grid()\n",
        "plt.ylim(-0.2,0.6)\n",
        "plt.ylabel(r'$f(λ),f^1(λ)$')\n",
        "plt.xlabel(r'$λ$')\n",
        "plt.legend()\n",
        "plt.show()"
      ],
      "metadata": {
        "id": "tumWLMrx5dVm",
        "colab": {
          "base_uri": "https://localhost:8080/",
          "height": 285
        },
        "outputId": "ea5b9b30-8ac0-4900-8307-f0b371dfae5a"
      },
      "execution_count": 109,
      "outputs": [
        {
          "output_type": "display_data",
          "data": {
            "text/plain": [
              "<Figure size 432x288 with 1 Axes>"
            ],
            "image/png": "[encoded data removed]"
          },
          "metadata": {
            "needs_background": "light"
          }
        }
      ]
    },
    {
      "cell_type": "markdown",
      "source": [
        "### B"
      ],
      "metadata": {
        "id": "1W_KywkAA--2"
      }
    },
    {
      "cell_type": "code",
      "source": [
        "Y = np.random.random((3,3))\n",
        "Y"
      ],
      "metadata": {
        "colab": {
          "base_uri": "https://localhost:8080/"
        },
        "id": "llgrxTlyAzgn",
        "outputId": "ee68763f-1875-48ef-85e0-d0095564c1d8"
      },
      "execution_count": 292,
      "outputs": [
        {
          "output_type": "execute_result",
          "data": {
            "text/plain": [
              "array([[0.10933533, 0.24207831, 0.20585549],\n",
              "       [0.97648447, 0.08757752, 0.39426641],\n",
              "       [0.5879548 , 0.30636302, 0.21098335]])"
            ]
          },
          "metadata": {},
          "execution_count": 292
        }
      ]
    },
    {
      "cell_type": "code",
      "source": [
        "A = Y.T@Y\n",
        "A"
      ],
      "metadata": {
        "colab": {
          "base_uri": "https://localhost:8080/"
        },
        "id": "61mw-orlBGfM",
        "outputId": "5d38a75e-c621-4d5b-93ba-17bfce210148"
      },
      "execution_count": 308,
      "outputs": [
        {
          "output_type": "execute_result",
          "data": {
            "text/plain": [
              "array([[1.31116698, 0.29211341, 0.53155098],\n",
              "       [0.29211341, 0.16013003, 0.14899952],\n",
              "       [0.53155098, 0.14899952, 0.24233646]])"
            ]
          },
          "metadata": {},
          "execution_count": 308
        }
      ]
    },
    {
      "cell_type": "code",
      "source": [
        "λA,V = np.linalg.eig(A)"
      ],
      "metadata": {
        "id": "4fRi_PRJCmyg"
      },
      "execution_count": 295,
      "outputs": []
    },
    {
      "cell_type": "code",
      "source": [
        "λA_ = np.abs(λA)\n",
        "λA_.sort()\n",
        "λA_"
      ],
      "metadata": {
        "colab": {
          "base_uri": "https://localhost:8080/"
        },
        "id": "rD12kIvoC_2I",
        "outputId": "fd22c41a-59fa-43cc-b515-426b333cac53"
      },
      "execution_count": 296,
      "outputs": [
        {
          "output_type": "execute_result",
          "data": {
            "text/plain": [
              "array([0.01386724, 0.09526812, 1.60449812])"
            ]
          },
          "metadata": {},
          "execution_count": 296
        }
      ]
    },
    {
      "cell_type": "code",
      "source": [
        "V_ = np.abs(V)\n",
        "V_.sort()\n",
        "V_"
      ],
      "metadata": {
        "colab": {
          "base_uri": "https://localhost:8080/"
        },
        "id": "Z1k4SAMaDGVR",
        "outputId": "fe51c84f-20cb-4943-cb63-cfd6703459a7"
      },
      "execution_count": 297,
      "outputs": [
        {
          "output_type": "execute_result",
          "data": {
            "text/plain": [
              "array([[0.29431591, 0.3210363 , 0.90017434],\n",
              "       [0.22078211, 0.32701875, 0.9188656 ],\n",
              "       [0.2293942 , 0.37542165, 0.89801831]])"
            ]
          },
          "metadata": {},
          "execution_count": 297
        }
      ]
    },
    {
      "cell_type": "code",
      "source": [
        "V0=V_[:,0] \n",
        "V1= V_[:,1] \n",
        "V2= V_[:,2]\n",
        "V0.sort() \n",
        "V1.sort()\n",
        "V2.sort()\n",
        "V0_ = np.c_[V0]\n",
        "V1_ = np.c_[V1]\n",
        "V2_ = np.c_[V2]\n",
        "print(f'V0 = {V0_}')\n",
        "print(f'V1 = {V1_}')\n",
        "print(f'V2 = {V2_}')"
      ],
      "metadata": {
        "colab": {
          "base_uri": "https://localhost:8080/"
        },
        "id": "c66NjK4cLCgF",
        "outputId": "5252b4f7-0d46-4776-a774-4b4a5c923587"
      },
      "execution_count": 298,
      "outputs": [
        {
          "output_type": "stream",
          "name": "stdout",
          "text": [
            "V0 = [[0.22078211]\n",
            " [0.2293942 ]\n",
            " [0.29431591]]\n",
            "V1 = [[0.3210363 ]\n",
            " [0.32701875]\n",
            " [0.37542165]]\n",
            "V2 = [[0.89801831]\n",
            " [0.90017434]\n",
            " [0.9188656 ]]\n"
          ]
        }
      ]
    },
    {
      "cell_type": "code",
      "source": [
        "#Autovalores de Y\n",
        "λY = np.linalg.eigvals(Y)\n",
        "np.abs(λY).round(2)"
      ],
      "metadata": {
        "colab": {
          "base_uri": "https://localhost:8080/"
        },
        "id": "tQY9yWHJD-aJ",
        "outputId": "c7523659-a022-411d-8ce8-8d4d4fce6941"
      },
      "execution_count": 305,
      "outputs": [
        {
          "output_type": "execute_result",
          "data": {
            "text/plain": [
              "array([0.92, 0.39, 0.13])"
            ]
          },
          "metadata": {},
          "execution_count": 305
        }
      ]
    },
    {
      "cell_type": "code",
      "source": [
        "# Raíz cuadrada de los autovalores de A\n",
        "λA = np.linalg.eigvals(A)\n",
        "np.sqrt(np.abs(λA)).round(2)"
      ],
      "metadata": {
        "colab": {
          "base_uri": "https://localhost:8080/"
        },
        "id": "zzxIp433EMRO",
        "outputId": "de37d670-d95f-46cd-c70c-8588771b6d73"
      },
      "execution_count": 306,
      "outputs": [
        {
          "output_type": "execute_result",
          "data": {
            "text/plain": [
              "array([1.27, 0.31, 0.12])"
            ]
          },
          "metadata": {},
          "execution_count": 306
        }
      ]
    },
    {
      "cell_type": "markdown",
      "source": [
        "Los autovalores son casi iguales, pero esto principalmente se debe a que A es una matriz simetrica producto de $Y^TY$ "
      ],
      "metadata": {
        "id": "rX4GHpOFOuO-"
      }
    }
  ]
}