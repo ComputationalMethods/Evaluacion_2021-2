{
  "nbformat": 4,
  "nbformat_minor": 0,
  "metadata": {
    "colab": {
      "name": "Binary float 32 to real",
      "provenance": []
    },
    "kernelspec": {
      "name": "python3",
      "display_name": "Python 3"
    },
    "language_info": {
      "name": "python"
    }
  },
  "cells": [
    {
      "cell_type": "code",
      "source": [
        "import numpy as np \n",
        "def float32_toreal(float32):\n",
        "    float32=float32[::-1]    \n",
        "    \n",
        "    sign=int(float32[31])   \n",
        "    exponent=np.array([i for i in float32[23:31]]).astype(float)   \n",
        "    fractional=np.array([i for i in float32[0:23]]).astype(float)  \n",
        "   \n",
        "    \n",
        "    sum_e=np.arange(8)   \n",
        "    sum_fract=np.arange(1,24)\n",
        "    \n",
        "    \n",
        "    e=np.sum(exponent*(2.0**sum_e))\n",
        "    b=np.sum(fractional[::-1]*2.0**(-sum_fract))\n",
        "    \n",
        "    \n",
        "    r=(-1.0)**sign*(1+b)*2.0**(e-127)\n",
        "    return r"
      ],
      "metadata": {
        "id": "TssJNPCP7hSl"
      },
      "execution_count": 1,
      "outputs": []
    },
    {
      "cell_type": "code",
      "source": [
        "a ='11000010100111111000000000000000'"
      ],
      "metadata": {
        "id": "bc_QQ3YBj1Mt"
      },
      "execution_count": 2,
      "outputs": []
    },
    {
      "cell_type": "code",
      "source": [
        "float32_toreal(a)"
      ],
      "metadata": {
        "colab": {
          "base_uri": "https://localhost:8080/"
        },
        "id": "G3_F9LcjjxIU",
        "outputId": "3d914d09-0abe-4d9c-8855-318c58b8ff9f"
      },
      "execution_count": 3,
      "outputs": [
        {
          "output_type": "execute_result",
          "data": {
            "text/plain": [
              "-79.75"
            ]
          },
          "metadata": {},
          "execution_count": 3
        }
      ]
    }
  ]
}