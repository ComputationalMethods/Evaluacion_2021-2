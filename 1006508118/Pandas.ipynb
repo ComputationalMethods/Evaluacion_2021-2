{
  "cells": [
    {
      "cell_type": "markdown",
      "metadata": {
        "cell_id": "00001-0bfa3d46-76d2-4b2c-ac43-a47b10e8dd42",
        "deepnote_cell_type": "markdown",
        "id": "d8BGX58hxE06"
      },
      "source": [
        "# Pandas\n",
        "<a href=\"https://colab.research.google.com/github/restrepo/ComputationalMethods/blob/master/material/Pandas.ipynb\" target=\"_parent\"><img src=\"https://colab.research.google.com/assets/colab-badge.svg\" alt=\"Open In Colab\"/></a>"
      ]
    },
    {
      "cell_type": "markdown",
      "metadata": {
        "cell_id": "00002-a39b4545-ea8c-4c33-9821-2e035ea68068",
        "deepnote_cell_type": "markdown",
        "id": "zm9tRsn7xE0_"
      },
      "source": [
        "From http://pandas.pydata.org/pandas-docs/stable/\n",
        "\n",
        "pandas is a Python package providing fast, flexible, and expressive data structures designed to make working with “relational” or “labeled” data both easy and intuitive. It aims to be the fundamental high-level building block for doing practical, real world data analysis in Python. Additionally, it has the broader goal of becoming the most powerful and flexible open source data analysis / manipulation tool available in any language. It is already well on its way toward this goal.\n",
        "\n",
        "See also:\n",
        "\n",
        "* https://github.com/restrepo/data-analysis\n",
        "  * https://classroom.github.com/g/sSMBdBqN\n",
        "  * https://classroom.github.com/a/PcbQBE7F\n",
        "* https://github.com/restrepo/PythonTipsAndTricks\n",
        "* https://pbpython.com/excel-pandas-comp.html [[archive.org](https://web.archive.org/web/20201126143453/https://pbpython.com/excel-pandas-comp.html)]"
      ]
    },
    {
      "cell_type": "markdown",
      "metadata": {
        "cell_id": "00003-eedb4370-f372-408b-9c5b-493892545a83",
        "deepnote_cell_type": "markdown",
        "id": "8SNaW4TYCnEO"
      },
      "source": [
        "A good and practice book about `Pandas` possibilities is:\n",
        "\n",
        "[__Python for Data Analysis__](https://drive.google.com/open?id=0BxoOXsn2EUNIWExXbVc4SDN0YTQ)<br/>\n",
        "Data Wrangling with Pandas, NumPy, and IPython<br/>\n",
        "_By William McKinney_\n",
        "\n",
        "\n",
        "This other is about aplications based on `Pandas`:\n",
        "![image.png](https://covers.oreillystatic.com/images/0636920030515/cat.gif) [Introduction to Machine Learning with Python](https://drive.google.com/open?id=0BxoOXsn2EUNISGhrdEZ3S29fS3M)<br/>\n",
        "A Guide for Data Scientists\n",
        "By Sarah Guido, Andreas Müller\n",
        "\n",
        "`Pandas` can be used in a similar way to `R`, which is based on similar data structures. `Pandas` also can replace the use of graphical interfaces to access spreadsheets like Excel. In particular, can be used in joint with the module [`xlsxwriter`](https://xlsxwriter.readthedocs.io/tutorial02.html) to produce professional Excel spreadsheets at the programatical level.\n",
        "\n",
        "The similar data structure in Wolfram Alpha and Mathematica is  the `Dataset`, in C++ is the ROOT framework, and in the old Fortran 77 was `paw`. In this way, a dictionary of equivalent commands can be stablished between the several frameworks"
      ]
    },
    {
      "cell_type": "markdown",
      "metadata": {
        "cell_id": "00004-3b86c23e-e896-4ea9-a25d-b66422b19630",
        "deepnote_cell_type": "markdown",
        "id": "zd4jo7KLxE1C"
      },
      "source": [
        "## Standard way to load the module"
      ]
    },
    {
      "cell_type": "code",
      "source": [
        "%pylab inline"
      ],
      "metadata": {
        "colab": {
          "base_uri": "https://localhost:8080/"
        },
        "id": "oggzR4j5D173",
        "outputId": "65a73d1b-3cc2-4549-b909-9ba8d1f3013b"
      },
      "execution_count": 3,
      "outputs": [
        {
          "output_type": "stream",
          "name": "stdout",
          "text": [
            "Populating the interactive namespace from numpy and matplotlib\n"
          ]
        }
      ]
    },
    {
      "cell_type": "code",
      "execution_count": 4,
      "metadata": {
        "cell_id": "00005-8f9079dd-73f3-4214-9b12-a007b2b221a9",
        "deepnote_cell_type": "code",
        "deepnote_to_be_reexecuted": false,
        "execution_start": 1627405767098,
        "id": "K3BSlyLBxE1E",
        "source_hash": "9b82ee11"
      },
      "outputs": [],
      "source": [
        "import pandas as pd"
      ]
    },
    {
      "cell_type": "markdown",
      "metadata": {
        "cell_id": "00006-934fccd7-fef5-46fb-aa5b-3763a9df25a2",
        "deepnote_cell_type": "markdown",
        "id": "I7Hbe9JEadOC"
      },
      "source": [
        "## Basic structure: DataFrame"
      ]
    },
    {
      "cell_type": "markdown",
      "metadata": {
        "cell_id": "00007-db7b469d-ba71-4e06-8bbd-d90e212a02d5",
        "deepnote_cell_type": "markdown",
        "id": "IE_Vzycqajls"
      },
      "source": [
        "An flat _spreadsheet_ can be seen in terms of the types of variables of `Python` just as dictionary of lists, where each column of the spreadsheet is a pair key-list of the dictionary \n",
        "\n",
        "|   |  A   |  B   |\n",
        "|---|:----:|:----:|\n",
        "| 1 | even | odd  |\n",
        "| 2 |   0  | 1    |\n",
        "| 3 |   2  | 3    |\n",
        "| 4 |   4  | 5    |\n",
        "| 5 |   6  | 7    |\n",
        "| 6 |   8  | 9    |"
      ]
    },
    {
      "cell_type": "code",
      "execution_count": 5,
      "metadata": {
        "cell_id": "00008-28de7f9e-e38f-489f-a753-c739eba5c428",
        "deepnote_cell_type": "code",
        "id": "lxEc0jlHauyc"
      },
      "outputs": [],
      "source": [
        "numbers={\"even\": [0,2,4,6,8],   #  First  key-list\n",
        "         \"odd\" : [1,3,5,7,9] }  #  Second key-list"
      ]
    },
    {
      "cell_type": "markdown",
      "metadata": {
        "cell_id": "00009-3837521f-1c26-475f-91f4-43151fde0224",
        "deepnote_cell_type": "markdown",
        "id": "HeN8rw1JxE1N"
      },
      "source": [
        "## Data structures"
      ]
    },
    {
      "cell_type": "markdown",
      "metadata": {
        "cell_id": "00010-1260af90-44ba-48f6-b514-529cb21a5dd8",
        "deepnote_cell_type": "markdown",
        "id": "UiL0O2SNcCfG"
      },
      "source": [
        "`Pandas` has two new data structures:\n",
        "1. `DataFrame` which are similar to numpy arrays but with some assigned key. For example, for the previous case\n",
        "```python\n",
        "import numpy as np\n",
        "np.array([[0,1],\n",
        "          [2,3],\n",
        "          [4,5],\n",
        "          [6,7],\n",
        "          [8,9] \n",
        "         ])\n",
        "```\n",
        "1. `Series` which are enriched  to dictionaries, as the ones defined for the rows of the previous example: `{'even':0,'odd':1}`.\n",
        "\n"
      ]
    },
    {
      "cell_type": "markdown",
      "metadata": {
        "cell_id": "00011-361a470d-c350-4bba-820a-01338fffcc89",
        "deepnote_cell_type": "markdown",
        "id": "jaWfZyimxE1O"
      },
      "source": [
        "\n",
        "The rows in a two-dimensional `DataFrame` corresponds to `Series` with similar keys, while the columns are also Series with the indices as keys. \n",
        "\n",
        "An example of a  `DataFrame` is a spreadsheet, as the one before."
      ]
    },
    {
      "cell_type": "markdown",
      "metadata": {
        "cell_id": "00012-fbda39d3-0cd0-48b0-ba40-4cfc129f8320",
        "deepnote_cell_type": "markdown",
        "id": "uRdBR4BXc8WY"
      },
      "source": [
        "### `DataFrame`\n",
        "`Pandas` can convert a dictionary of lists, like the `numbers` dictionary before, into a `DataFrame`, which is just an spreadsheet but interpreted at the programming level:\n",
        "\n"
      ]
    },
    {
      "cell_type": "code",
      "execution_count": 6,
      "metadata": {
        "cell_id": "00013-8aff6f6f-3fd7-4e99-89eb-ca977338a551",
        "deepnote_cell_type": "code",
        "id": "4HItBfd_CnEi",
        "outputId": "b3ab3f51-d737-4f13-8de0-644743c54e7c",
        "colab": {
          "base_uri": "https://localhost:8080/"
        }
      },
      "outputs": [
        {
          "output_type": "execute_result",
          "data": {
            "text/plain": [
              "{'even': [0, 2, 4, 6, 8], 'odd': [1, 3, 5, 7, 9]}"
            ]
          },
          "metadata": {},
          "execution_count": 6
        }
      ],
      "source": [
        "numbers"
      ]
    },
    {
      "cell_type": "code",
      "execution_count": 7,
      "metadata": {
        "cell_id": "00014-3e464053-625b-4ee3-b72c-578522966832",
        "colab": {
          "base_uri": "https://localhost:8080/",
          "height": 206
        },
        "deepnote_cell_type": "code",
        "id": "dC00VECAd_Dr",
        "outputId": "2a516088-e696-48c6-d159-00094be1e0f5"
      },
      "outputs": [
        {
          "output_type": "execute_result",
          "data": {
            "text/plain": [
              "   even  odd\n",
              "0     0    1\n",
              "1     2    3\n",
              "2     4    5\n",
              "3     6    7\n",
              "4     8    9"
            ],
            "text/html": [
              "\n",
              "  <div id=\"df-a18ba26b-9b58-414e-8170-50a13e0cb027\">\n",
              "    <div class=\"colab-df-container\">\n",
              "      <div>\n",
              "<style scoped>\n",
              "    .dataframe tbody tr th:only-of-type {\n",
              "        vertical-align: middle;\n",
              "    }\n",
              "\n",
              "    .dataframe tbody tr th {\n",
              "        vertical-align: top;\n",
              "    }\n",
              "\n",
              "    .dataframe thead th {\n",
              "        text-align: right;\n",
              "    }\n",
              "</style>\n",
              "<table border=\"1\" class=\"dataframe\">\n",
              "  <thead>\n",
              "    <tr style=\"text-align: right;\">\n",
              "      <th></th>\n",
              "      <th>even</th>\n",
              "      <th>odd</th>\n",
              "    </tr>\n",
              "  </thead>\n",
              "  <tbody>\n",
              "    <tr>\n",
              "      <th>0</th>\n",
              "      <td>0</td>\n",
              "      <td>1</td>\n",
              "    </tr>\n",
              "    <tr>\n",
              "      <th>1</th>\n",
              "      <td>2</td>\n",
              "      <td>3</td>\n",
              "    </tr>\n",
              "    <tr>\n",
              "      <th>2</th>\n",
              "      <td>4</td>\n",
              "      <td>5</td>\n",
              "    </tr>\n",
              "    <tr>\n",
              "      <th>3</th>\n",
              "      <td>6</td>\n",
              "      <td>7</td>\n",
              "    </tr>\n",
              "    <tr>\n",
              "      <th>4</th>\n",
              "      <td>8</td>\n",
              "      <td>9</td>\n",
              "    </tr>\n",
              "  </tbody>\n",
              "</table>\n",
              "</div>\n",
              "      <button class=\"colab-df-convert\" onclick=\"convertToInteractive('df-a18ba26b-9b58-414e-8170-50a13e0cb027')\"\n",
              "              title=\"Convert this dataframe to an interactive table.\"\n",
              "              style=\"display:none;\">\n",
              "        \n",
              "  <svg xmlns=\"http://www.w3.org/2000/svg\" height=\"24px\"viewBox=\"0 0 24 24\"\n",
              "       width=\"24px\">\n",
              "    <path d=\"M0 0h24v24H0V0z\" fill=\"none\"/>\n",
              "    <path d=\"M18.56 5.44l.94 2.06.94-2.06 2.06-.94-2.06-.94-.94-2.06-.94 2.06-2.06.94zm-11 1L8.5 8.5l.94-2.06 2.06-.94-2.06-.94L8.5 2.5l-.94 2.06-2.06.94zm10 10l.94 2.06.94-2.06 2.06-.94-2.06-.94-.94-2.06-.94 2.06-2.06.94z\"/><path d=\"M17.41 7.96l-1.37-1.37c-.4-.4-.92-.59-1.43-.59-.52 0-1.04.2-1.43.59L10.3 9.45l-7.72 7.72c-.78.78-.78 2.05 0 2.83L4 21.41c.39.39.9.59 1.41.59.51 0 1.02-.2 1.41-.59l7.78-7.78 2.81-2.81c.8-.78.8-2.07 0-2.86zM5.41 20L4 18.59l7.72-7.72 1.47 1.35L5.41 20z\"/>\n",
              "  </svg>\n",
              "      </button>\n",
              "      \n",
              "  <style>\n",
              "    .colab-df-container {\n",
              "      display:flex;\n",
              "      flex-wrap:wrap;\n",
              "      gap: 12px;\n",
              "    }\n",
              "\n",
              "    .colab-df-convert {\n",
              "      background-color: #E8F0FE;\n",
              "      border: none;\n",
              "      border-radius: 50%;\n",
              "      cursor: pointer;\n",
              "      display: none;\n",
              "      fill: #1967D2;\n",
              "      height: 32px;\n",
              "      padding: 0 0 0 0;\n",
              "      width: 32px;\n",
              "    }\n",
              "\n",
              "    .colab-df-convert:hover {\n",
              "      background-color: #E2EBFA;\n",
              "      box-shadow: 0px 1px 2px rgba(60, 64, 67, 0.3), 0px 1px 3px 1px rgba(60, 64, 67, 0.15);\n",
              "      fill: #174EA6;\n",
              "    }\n",
              "\n",
              "    [theme=dark] .colab-df-convert {\n",
              "      background-color: #3B4455;\n",
              "      fill: #D2E3FC;\n",
              "    }\n",
              "\n",
              "    [theme=dark] .colab-df-convert:hover {\n",
              "      background-color: #434B5C;\n",
              "      box-shadow: 0px 1px 3px 1px rgba(0, 0, 0, 0.15);\n",
              "      filter: drop-shadow(0px 1px 2px rgba(0, 0, 0, 0.3));\n",
              "      fill: #FFFFFF;\n",
              "    }\n",
              "  </style>\n",
              "\n",
              "      <script>\n",
              "        const buttonEl =\n",
              "          document.querySelector('#df-a18ba26b-9b58-414e-8170-50a13e0cb027 button.colab-df-convert');\n",
              "        buttonEl.style.display =\n",
              "          google.colab.kernel.accessAllowed ? 'block' : 'none';\n",
              "\n",
              "        async function convertToInteractive(key) {\n",
              "          const element = document.querySelector('#df-a18ba26b-9b58-414e-8170-50a13e0cb027');\n",
              "          const dataTable =\n",
              "            await google.colab.kernel.invokeFunction('convertToInteractive',\n",
              "                                                     [key], {});\n",
              "          if (!dataTable) return;\n",
              "\n",
              "          const docLinkHtml = 'Like what you see? Visit the ' +\n",
              "            '<a target=\"_blank\" href=https://colab.research.google.com/notebooks/data_table.ipynb>data table notebook</a>'\n",
              "            + ' to learn more about interactive tables.';\n",
              "          element.innerHTML = '';\n",
              "          dataTable['output_type'] = 'display_data';\n",
              "          await google.colab.output.renderOutput(dataTable, element);\n",
              "          const docLink = document.createElement('div');\n",
              "          docLink.innerHTML = docLinkHtml;\n",
              "          element.appendChild(docLink);\n",
              "        }\n",
              "      </script>\n",
              "    </div>\n",
              "  </div>\n",
              "  "
            ]
          },
          "metadata": {},
          "execution_count": 7
        }
      ],
      "source": [
        "import pandas as pd\n",
        "df=pd.DataFrame(numbers)\n",
        "df"
      ]
    },
    {
      "cell_type": "code",
      "execution_count": 8,
      "metadata": {
        "id": "ZRaFLLRoCnEm",
        "outputId": "bb88ae77-42ae-4aca-a740-6d66b244e035",
        "colab": {
          "base_uri": "https://localhost:8080/",
          "height": 282
        }
      },
      "outputs": [
        {
          "output_type": "execute_result",
          "data": {
            "text/plain": [
              "[<matplotlib.lines.Line2D at 0x7fb387ad4c90>]"
            ]
          },
          "metadata": {},
          "execution_count": 8
        },
        {
          "output_type": "display_data",
          "data": {
            "text/plain": [
              "<Figure size 432x288 with 1 Axes>"
            ],
            "image/png": "[encoded data removed]"
          },
          "metadata": {
            "needs_background": "light"
          }
        }
      ],
      "source": [
        "plt.plot(df['even'],df['odd'])"
      ]
    },
    {
      "cell_type": "markdown",
      "metadata": {
        "cell_id": "00015-744b2b59-2ebc-4539-9f00-75d4fa94325b",
        "deepnote_cell_type": "markdown",
        "id": "zUZ1BcuneYQf"
      },
      "source": [
        "It is equivalent to:"
      ]
    },
    {
      "cell_type": "code",
      "execution_count": 9,
      "metadata": {
        "cell_id": "00016-e9f7fa78-2c25-4132-862c-697bab37ff78",
        "deepnote_cell_type": "code",
        "id": "pGhwhEZcCnEn",
        "outputId": "7b337fa9-e68c-4b9e-8ab9-4c2dd03437f5",
        "colab": {
          "base_uri": "https://localhost:8080/"
        }
      },
      "outputs": [
        {
          "output_type": "execute_result",
          "data": {
            "text/plain": [
              "{'even': {0: 0, 1: 2, 2: 4, 3: 6, 4: 8}, 'odd': {0: 1, 1: 3, 2: 5, 3: 7, 4: 9}}"
            ]
          },
          "metadata": {},
          "execution_count": 9
        }
      ],
      "source": [
        "df.to_dict()"
      ]
    },
    {
      "cell_type": "code",
      "execution_count": 10,
      "metadata": {
        "cell_id": "00017-89105c36-dc20-4ee6-bcb9-f3394d551a6e",
        "deepnote_cell_type": "code",
        "id": "YeVxe-U8CnEo",
        "outputId": "a8880e4e-9a60-4b5a-9d84-80ae4e55d3db",
        "colab": {
          "base_uri": "https://localhost:8080/",
          "height": 206
        }
      },
      "outputs": [
        {
          "output_type": "execute_result",
          "data": {
            "text/plain": [
              "   even  odd\n",
              "0     0    1\n",
              "1     2    3\n",
              "2     4    5\n",
              "3     6    7\n",
              "4     8    9"
            ],
            "text/html": [
              "\n",
              "  <div id=\"df-1744cfb5-7748-42ab-8671-7eb2730714b2\">\n",
              "    <div class=\"colab-df-container\">\n",
              "      <div>\n",
              "<style scoped>\n",
              "    .dataframe tbody tr th:only-of-type {\n",
              "        vertical-align: middle;\n",
              "    }\n",
              "\n",
              "    .dataframe tbody tr th {\n",
              "        vertical-align: top;\n",
              "    }\n",
              "\n",
              "    .dataframe thead th {\n",
              "        text-align: right;\n",
              "    }\n",
              "</style>\n",
              "<table border=\"1\" class=\"dataframe\">\n",
              "  <thead>\n",
              "    <tr style=\"text-align: right;\">\n",
              "      <th></th>\n",
              "      <th>even</th>\n",
              "      <th>odd</th>\n",
              "    </tr>\n",
              "  </thead>\n",
              "  <tbody>\n",
              "    <tr>\n",
              "      <th>0</th>\n",
              "      <td>0</td>\n",
              "      <td>1</td>\n",
              "    </tr>\n",
              "    <tr>\n",
              "      <th>1</th>\n",
              "      <td>2</td>\n",
              "      <td>3</td>\n",
              "    </tr>\n",
              "    <tr>\n",
              "      <th>2</th>\n",
              "      <td>4</td>\n",
              "      <td>5</td>\n",
              "    </tr>\n",
              "    <tr>\n",
              "      <th>3</th>\n",
              "      <td>6</td>\n",
              "      <td>7</td>\n",
              "    </tr>\n",
              "    <tr>\n",
              "      <th>4</th>\n",
              "      <td>8</td>\n",
              "      <td>9</td>\n",
              "    </tr>\n",
              "  </tbody>\n",
              "</table>\n",
              "</div>\n",
              "      <button class=\"colab-df-convert\" onclick=\"convertToInteractive('df-1744cfb5-7748-42ab-8671-7eb2730714b2')\"\n",
              "              title=\"Convert this dataframe to an interactive table.\"\n",
              "              style=\"display:none;\">\n",
              "        \n",
              "  <svg xmlns=\"http://www.w3.org/2000/svg\" height=\"24px\"viewBox=\"0 0 24 24\"\n",
              "       width=\"24px\">\n",
              "    <path d=\"M0 0h24v24H0V0z\" fill=\"none\"/>\n",
              "    <path d=\"M18.56 5.44l.94 2.06.94-2.06 2.06-.94-2.06-.94-.94-2.06-.94 2.06-2.06.94zm-11 1L8.5 8.5l.94-2.06 2.06-.94-2.06-.94L8.5 2.5l-.94 2.06-2.06.94zm10 10l.94 2.06.94-2.06 2.06-.94-2.06-.94-.94-2.06-.94 2.06-2.06.94z\"/><path d=\"M17.41 7.96l-1.37-1.37c-.4-.4-.92-.59-1.43-.59-.52 0-1.04.2-1.43.59L10.3 9.45l-7.72 7.72c-.78.78-.78 2.05 0 2.83L4 21.41c.39.39.9.59 1.41.59.51 0 1.02-.2 1.41-.59l7.78-7.78 2.81-2.81c.8-.78.8-2.07 0-2.86zM5.41 20L4 18.59l7.72-7.72 1.47 1.35L5.41 20z\"/>\n",
              "  </svg>\n",
              "      </button>\n",
              "      \n",
              "  <style>\n",
              "    .colab-df-container {\n",
              "      display:flex;\n",
              "      flex-wrap:wrap;\n",
              "      gap: 12px;\n",
              "    }\n",
              "\n",
              "    .colab-df-convert {\n",
              "      background-color: #E8F0FE;\n",
              "      border: none;\n",
              "      border-radius: 50%;\n",
              "      cursor: pointer;\n",
              "      display: none;\n",
              "      fill: #1967D2;\n",
              "      height: 32px;\n",
              "      padding: 0 0 0 0;\n",
              "      width: 32px;\n",
              "    }\n",
              "\n",
              "    .colab-df-convert:hover {\n",
              "      background-color: #E2EBFA;\n",
              "      box-shadow: 0px 1px 2px rgba(60, 64, 67, 0.3), 0px 1px 3px 1px rgba(60, 64, 67, 0.15);\n",
              "      fill: #174EA6;\n",
              "    }\n",
              "\n",
              "    [theme=dark] .colab-df-convert {\n",
              "      background-color: #3B4455;\n",
              "      fill: #D2E3FC;\n",
              "    }\n",
              "\n",
              "    [theme=dark] .colab-df-convert:hover {\n",
              "      background-color: #434B5C;\n",
              "      box-shadow: 0px 1px 3px 1px rgba(0, 0, 0, 0.15);\n",
              "      filter: drop-shadow(0px 1px 2px rgba(0, 0, 0, 0.3));\n",
              "      fill: #FFFFFF;\n",
              "    }\n",
              "  </style>\n",
              "\n",
              "      <script>\n",
              "        const buttonEl =\n",
              "          document.querySelector('#df-1744cfb5-7748-42ab-8671-7eb2730714b2 button.colab-df-convert');\n",
              "        buttonEl.style.display =\n",
              "          google.colab.kernel.accessAllowed ? 'block' : 'none';\n",
              "\n",
              "        async function convertToInteractive(key) {\n",
              "          const element = document.querySelector('#df-1744cfb5-7748-42ab-8671-7eb2730714b2');\n",
              "          const dataTable =\n",
              "            await google.colab.kernel.invokeFunction('convertToInteractive',\n",
              "                                                     [key], {});\n",
              "          if (!dataTable) return;\n",
              "\n",
              "          const docLinkHtml = 'Like what you see? Visit the ' +\n",
              "            '<a target=\"_blank\" href=https://colab.research.google.com/notebooks/data_table.ipynb>data table notebook</a>'\n",
              "            + ' to learn more about interactive tables.';\n",
              "          element.innerHTML = '';\n",
              "          dataTable['output_type'] = 'display_data';\n",
              "          await google.colab.output.renderOutput(dataTable, element);\n",
              "          const docLink = document.createElement('div');\n",
              "          docLink.innerHTML = docLinkHtml;\n",
              "          element.appendChild(docLink);\n",
              "        }\n",
              "      </script>\n",
              "    </div>\n",
              "  </div>\n",
              "  "
            ]
          },
          "metadata": {},
          "execution_count": 10
        }
      ],
      "source": [
        "pd.DataFrame(  {'even': {0: 0, 1: 2, 2: 4, 3: 6, 4: 8}, 'odd': {0: 1, 1: 3, 2: 5, 3: 7, 4: 9}} )\n"
      ]
    },
    {
      "cell_type": "code",
      "execution_count": 11,
      "metadata": {
        "cell_id": "00018-81da3a42-7a39-457b-b8db-bac5c401d035",
        "colab": {
          "base_uri": "https://localhost:8080/",
          "height": 206
        },
        "deepnote_cell_type": "code",
        "id": "nqtL07nJecD6",
        "outputId": "b10d53da-7a7e-4bf8-954b-5f0691b0e39e"
      },
      "outputs": [
        {
          "output_type": "execute_result",
          "data": {
            "text/plain": [
              "   even  odd\n",
              "0     0    1\n",
              "1     2    3\n",
              "2     4    5\n",
              "3     6    7\n",
              "4     8    9"
            ],
            "text/html": [
              "\n",
              "  <div id=\"df-23d7e294-67df-4eec-9ac8-03e8d0e23981\">\n",
              "    <div class=\"colab-df-container\">\n",
              "      <div>\n",
              "<style scoped>\n",
              "    .dataframe tbody tr th:only-of-type {\n",
              "        vertical-align: middle;\n",
              "    }\n",
              "\n",
              "    .dataframe tbody tr th {\n",
              "        vertical-align: top;\n",
              "    }\n",
              "\n",
              "    .dataframe thead th {\n",
              "        text-align: right;\n",
              "    }\n",
              "</style>\n",
              "<table border=\"1\" class=\"dataframe\">\n",
              "  <thead>\n",
              "    <tr style=\"text-align: right;\">\n",
              "      <th></th>\n",
              "      <th>even</th>\n",
              "      <th>odd</th>\n",
              "    </tr>\n",
              "  </thead>\n",
              "  <tbody>\n",
              "    <tr>\n",
              "      <th>0</th>\n",
              "      <td>0</td>\n",
              "      <td>1</td>\n",
              "    </tr>\n",
              "    <tr>\n",
              "      <th>1</th>\n",
              "      <td>2</td>\n",
              "      <td>3</td>\n",
              "    </tr>\n",
              "    <tr>\n",
              "      <th>2</th>\n",
              "      <td>4</td>\n",
              "      <td>5</td>\n",
              "    </tr>\n",
              "    <tr>\n",
              "      <th>3</th>\n",
              "      <td>6</td>\n",
              "      <td>7</td>\n",
              "    </tr>\n",
              "    <tr>\n",
              "      <th>4</th>\n",
              "      <td>8</td>\n",
              "      <td>9</td>\n",
              "    </tr>\n",
              "  </tbody>\n",
              "</table>\n",
              "</div>\n",
              "      <button class=\"colab-df-convert\" onclick=\"convertToInteractive('df-23d7e294-67df-4eec-9ac8-03e8d0e23981')\"\n",
              "              title=\"Convert this dataframe to an interactive table.\"\n",
              "              style=\"display:none;\">\n",
              "        \n",
              "  <svg xmlns=\"http://www.w3.org/2000/svg\" height=\"24px\"viewBox=\"0 0 24 24\"\n",
              "       width=\"24px\">\n",
              "    <path d=\"M0 0h24v24H0V0z\" fill=\"none\"/>\n",
              "    <path d=\"M18.56 5.44l.94 2.06.94-2.06 2.06-.94-2.06-.94-.94-2.06-.94 2.06-2.06.94zm-11 1L8.5 8.5l.94-2.06 2.06-.94-2.06-.94L8.5 2.5l-.94 2.06-2.06.94zm10 10l.94 2.06.94-2.06 2.06-.94-2.06-.94-.94-2.06-.94 2.06-2.06.94z\"/><path d=\"M17.41 7.96l-1.37-1.37c-.4-.4-.92-.59-1.43-.59-.52 0-1.04.2-1.43.59L10.3 9.45l-7.72 7.72c-.78.78-.78 2.05 0 2.83L4 21.41c.39.39.9.59 1.41.59.51 0 1.02-.2 1.41-.59l7.78-7.78 2.81-2.81c.8-.78.8-2.07 0-2.86zM5.41 20L4 18.59l7.72-7.72 1.47 1.35L5.41 20z\"/>\n",
              "  </svg>\n",
              "      </button>\n",
              "      \n",
              "  <style>\n",
              "    .colab-df-container {\n",
              "      display:flex;\n",
              "      flex-wrap:wrap;\n",
              "      gap: 12px;\n",
              "    }\n",
              "\n",
              "    .colab-df-convert {\n",
              "      background-color: #E8F0FE;\n",
              "      border: none;\n",
              "      border-radius: 50%;\n",
              "      cursor: pointer;\n",
              "      display: none;\n",
              "      fill: #1967D2;\n",
              "      height: 32px;\n",
              "      padding: 0 0 0 0;\n",
              "      width: 32px;\n",
              "    }\n",
              "\n",
              "    .colab-df-convert:hover {\n",
              "      background-color: #E2EBFA;\n",
              "      box-shadow: 0px 1px 2px rgba(60, 64, 67, 0.3), 0px 1px 3px 1px rgba(60, 64, 67, 0.15);\n",
              "      fill: #174EA6;\n",
              "    }\n",
              "\n",
              "    [theme=dark] .colab-df-convert {\n",
              "      background-color: #3B4455;\n",
              "      fill: #D2E3FC;\n",
              "    }\n",
              "\n",
              "    [theme=dark] .colab-df-convert:hover {\n",
              "      background-color: #434B5C;\n",
              "      box-shadow: 0px 1px 3px 1px rgba(0, 0, 0, 0.15);\n",
              "      filter: drop-shadow(0px 1px 2px rgba(0, 0, 0, 0.3));\n",
              "      fill: #FFFFFF;\n",
              "    }\n",
              "  </style>\n",
              "\n",
              "      <script>\n",
              "        const buttonEl =\n",
              "          document.querySelector('#df-23d7e294-67df-4eec-9ac8-03e8d0e23981 button.colab-df-convert');\n",
              "        buttonEl.style.display =\n",
              "          google.colab.kernel.accessAllowed ? 'block' : 'none';\n",
              "\n",
              "        async function convertToInteractive(key) {\n",
              "          const element = document.querySelector('#df-23d7e294-67df-4eec-9ac8-03e8d0e23981');\n",
              "          const dataTable =\n",
              "            await google.colab.kernel.invokeFunction('convertToInteractive',\n",
              "                                                     [key], {});\n",
              "          if (!dataTable) return;\n",
              "\n",
              "          const docLinkHtml = 'Like what you see? Visit the ' +\n",
              "            '<a target=\"_blank\" href=https://colab.research.google.com/notebooks/data_table.ipynb>data table notebook</a>'\n",
              "            + ' to learn more about interactive tables.';\n",
              "          element.innerHTML = '';\n",
              "          dataTable['output_type'] = 'display_data';\n",
              "          await google.colab.output.renderOutput(dataTable, element);\n",
              "          const docLink = document.createElement('div');\n",
              "          docLink.innerHTML = docLinkHtml;\n",
              "          element.appendChild(docLink);\n",
              "        }\n",
              "      </script>\n",
              "    </div>\n",
              "  </div>\n",
              "  "
            ]
          },
          "metadata": {},
          "execution_count": 11
        }
      ],
      "source": [
        "pd.DataFrame.from_dict(numbers)"
      ]
    },
    {
      "cell_type": "markdown",
      "metadata": {
        "cell_id": "00019-e82851df-dc6e-44e5-baf1-f53490dc4a4f",
        "deepnote_cell_type": "markdown",
        "id": "1ftuPJd5eiu6"
      },
      "source": [
        "See below for other possibilities of [creating Pandas DataFrames from lists and dictionaries](https://fisica.udea.edu.co:4443/user/restrepo/notebooks/prog/cursos/data-analysis/Pandas.ipynb#Intialization-from-lists-and-dictionaries)"
      ]
    },
    {
      "cell_type": "markdown",
      "metadata": {
        "cell_id": "00020-7464d85a-cbe8-4ec3-939b-846f627fc238",
        "deepnote_cell_type": "markdown",
        "id": "myuwII1Ed9PE"
      },
      "source": [
        "The main advantage of the `DataFrame`, `df`, is that it can be managed without a graphical interface."
      ]
    },
    {
      "cell_type": "markdown",
      "metadata": {
        "cell_id": "00021-8888b732-743b-4a62-9560-33fac5c21a4b",
        "deepnote_cell_type": "markdown",
        "id": "5A0YScKRehta"
      },
      "source": [
        "We can check the shape of the `DataFrame`"
      ]
    },
    {
      "cell_type": "code",
      "execution_count": 12,
      "metadata": {
        "cell_id": "00022-25b27bf8-fc9d-4749-a5b1-c6cb7c67fef0",
        "colab": {
          "base_uri": "https://localhost:8080/"
        },
        "deepnote_cell_type": "code",
        "id": "RV-ivs5Weyzq",
        "outputId": "891e41a9-bad5-450b-b755-c60dcc2b49f6"
      },
      "outputs": [
        {
          "output_type": "execute_result",
          "data": {
            "text/plain": [
              "(5, 2)"
            ]
          },
          "metadata": {},
          "execution_count": 12
        }
      ],
      "source": [
        "df.shape"
      ]
    },
    {
      "cell_type": "markdown",
      "metadata": {
        "cell_id": "00023-90fd3ae8-8621-4469-8f9c-f89eb0c2bf00",
        "deepnote_cell_type": "markdown",
        "id": "ZMc0puXbe3nD"
      },
      "source": [
        "####  Export DataFrame to other formats\n",
        "* To export to excel:"
      ]
    },
    {
      "cell_type": "code",
      "execution_count": 34,
      "metadata": {
        "cell_id": "00024-4a17d6f4-9124-4228-ae9e-983b67419459",
        "deepnote_cell_type": "code",
        "id": "ioWKY1FAe-rK"
      },
      "outputs": [],
      "source": [
        "df.to_excel('example.xlsx',index=False)"
      ]
    },
    {
      "cell_type": "code",
      "execution_count": 35,
      "metadata": {
        "cell_id": "00025-0d0d4e5f-471c-4e95-8cc6-cd5b604408c2",
        "deepnote_cell_type": "code",
        "id": "jhZHPCv0CnEt",
        "outputId": "cd756825-2d60-42d2-a610-8f6deab4cfea",
        "colab": {
          "base_uri": "https://localhost:8080/",
          "height": 112
        }
      },
      "outputs": [
        {
          "output_type": "execute_result",
          "data": {
            "text/plain": [
              "               Nombre  Edad                Compañia\n",
              "0         Juan Valdez    32        Café de Colombia\n",
              "1  Álvaro Uribe Vélez    65  Senado de la República"
            ],
            "text/html": [
              "\n",
              "  <div id=\"df-605633d2-65af-488b-9f73-324b24c0e212\">\n",
              "    <div class=\"colab-df-container\">\n",
              "      <div>\n",
              "<style scoped>\n",
              "    .dataframe tbody tr th:only-of-type {\n",
              "        vertical-align: middle;\n",
              "    }\n",
              "\n",
              "    .dataframe tbody tr th {\n",
              "        vertical-align: top;\n",
              "    }\n",
              "\n",
              "    .dataframe thead th {\n",
              "        text-align: right;\n",
              "    }\n",
              "</style>\n",
              "<table border=\"1\" class=\"dataframe\">\n",
              "  <thead>\n",
              "    <tr style=\"text-align: right;\">\n",
              "      <th></th>\n",
              "      <th>Nombre</th>\n",
              "      <th>Edad</th>\n",
              "      <th>Compañia</th>\n",
              "    </tr>\n",
              "  </thead>\n",
              "  <tbody>\n",
              "    <tr>\n",
              "      <th>0</th>\n",
              "      <td>Juan Valdez</td>\n",
              "      <td>32</td>\n",
              "      <td>Café de Colombia</td>\n",
              "    </tr>\n",
              "    <tr>\n",
              "      <th>1</th>\n",
              "      <td>Álvaro Uribe Vélez</td>\n",
              "      <td>65</td>\n",
              "      <td>Senado de la República</td>\n",
              "    </tr>\n",
              "  </tbody>\n",
              "</table>\n",
              "</div>\n",
              "      <button class=\"colab-df-convert\" onclick=\"convertToInteractive('df-605633d2-65af-488b-9f73-324b24c0e212')\"\n",
              "              title=\"Convert this dataframe to an interactive table.\"\n",
              "              style=\"display:none;\">\n",
              "        \n",
              "  <svg xmlns=\"http://www.w3.org/2000/svg\" height=\"24px\"viewBox=\"0 0 24 24\"\n",
              "       width=\"24px\">\n",
              "    <path d=\"M0 0h24v24H0V0z\" fill=\"none\"/>\n",
              "    <path d=\"M18.56 5.44l.94 2.06.94-2.06 2.06-.94-2.06-.94-.94-2.06-.94 2.06-2.06.94zm-11 1L8.5 8.5l.94-2.06 2.06-.94-2.06-.94L8.5 2.5l-.94 2.06-2.06.94zm10 10l.94 2.06.94-2.06 2.06-.94-2.06-.94-.94-2.06-.94 2.06-2.06.94z\"/><path d=\"M17.41 7.96l-1.37-1.37c-.4-.4-.92-.59-1.43-.59-.52 0-1.04.2-1.43.59L10.3 9.45l-7.72 7.72c-.78.78-.78 2.05 0 2.83L4 21.41c.39.39.9.59 1.41.59.51 0 1.02-.2 1.41-.59l7.78-7.78 2.81-2.81c.8-.78.8-2.07 0-2.86zM5.41 20L4 18.59l7.72-7.72 1.47 1.35L5.41 20z\"/>\n",
              "  </svg>\n",
              "      </button>\n",
              "      \n",
              "  <style>\n",
              "    .colab-df-container {\n",
              "      display:flex;\n",
              "      flex-wrap:wrap;\n",
              "      gap: 12px;\n",
              "    }\n",
              "\n",
              "    .colab-df-convert {\n",
              "      background-color: #E8F0FE;\n",
              "      border: none;\n",
              "      border-radius: 50%;\n",
              "      cursor: pointer;\n",
              "      display: none;\n",
              "      fill: #1967D2;\n",
              "      height: 32px;\n",
              "      padding: 0 0 0 0;\n",
              "      width: 32px;\n",
              "    }\n",
              "\n",
              "    .colab-df-convert:hover {\n",
              "      background-color: #E2EBFA;\n",
              "      box-shadow: 0px 1px 2px rgba(60, 64, 67, 0.3), 0px 1px 3px 1px rgba(60, 64, 67, 0.15);\n",
              "      fill: #174EA6;\n",
              "    }\n",
              "\n",
              "    [theme=dark] .colab-df-convert {\n",
              "      background-color: #3B4455;\n",
              "      fill: #D2E3FC;\n",
              "    }\n",
              "\n",
              "    [theme=dark] .colab-df-convert:hover {\n",
              "      background-color: #434B5C;\n",
              "      box-shadow: 0px 1px 3px 1px rgba(0, 0, 0, 0.15);\n",
              "      filter: drop-shadow(0px 1px 2px rgba(0, 0, 0, 0.3));\n",
              "      fill: #FFFFFF;\n",
              "    }\n",
              "  </style>\n",
              "\n",
              "      <script>\n",
              "        const buttonEl =\n",
              "          document.querySelector('#df-605633d2-65af-488b-9f73-324b24c0e212 button.colab-df-convert');\n",
              "        buttonEl.style.display =\n",
              "          google.colab.kernel.accessAllowed ? 'block' : 'none';\n",
              "\n",
              "        async function convertToInteractive(key) {\n",
              "          const element = document.querySelector('#df-605633d2-65af-488b-9f73-324b24c0e212');\n",
              "          const dataTable =\n",
              "            await google.colab.kernel.invokeFunction('convertToInteractive',\n",
              "                                                     [key], {});\n",
              "          if (!dataTable) return;\n",
              "\n",
              "          const docLinkHtml = 'Like what you see? Visit the ' +\n",
              "            '<a target=\"_blank\" href=https://colab.research.google.com/notebooks/data_table.ipynb>data table notebook</a>'\n",
              "            + ' to learn more about interactive tables.';\n",
              "          element.innerHTML = '';\n",
              "          dataTable['output_type'] = 'display_data';\n",
              "          await google.colab.output.renderOutput(dataTable, element);\n",
              "          const docLink = document.createElement('div');\n",
              "          docLink.innerHTML = docLinkHtml;\n",
              "          element.appendChild(docLink);\n",
              "        }\n",
              "      </script>\n",
              "    </div>\n",
              "  </div>\n",
              "  "
            ]
          },
          "metadata": {},
          "execution_count": 35
        }
      ],
      "source": [
        "newdf=pd.read_excel('example.xlsx')\n",
        "newdf"
      ]
    },
    {
      "cell_type": "markdown",
      "metadata": {
        "cell_id": "00026-53b72290-ece9-47a0-bf74-45d0b5599a48",
        "deepnote_cell_type": "markdown",
        "id": "yIdeiNi_fBPJ"
      },
      "source": [
        "__Activity__: Open the resulting spreadsheet in Google Drive, publish it and open from the resulting link with Pandas in the next cell"
      ]
    },
    {
      "cell_type": "code",
      "execution_count": 36,
      "metadata": {
        "cell_id": "00027-afa925cb-92c5-4323-b67d-3fc9b7b06f3c",
        "deepnote_cell_type": "code",
        "id": "ZqIbSbLvf0wm",
        "colab": {
          "base_uri": "https://localhost:8080/",
          "height": 206
        },
        "outputId": "36e98362-f01c-4000-e5a5-01ab39d91bb5"
      },
      "outputs": [
        {
          "output_type": "execute_result",
          "data": {
            "text/plain": [
              "   even  odd\n",
              "0   0.0  1.0\n",
              "1   2.0  3.0\n",
              "2   4.0  5.0\n",
              "3   6.0  7.0\n",
              "4   8.0  9.0"
            ],
            "text/html": [
              "\n",
              "  <div id=\"df-afb28d2b-eb80-47a6-b9a0-db83ef50bed8\">\n",
              "    <div class=\"colab-df-container\">\n",
              "      <div>\n",
              "<style scoped>\n",
              "    .dataframe tbody tr th:only-of-type {\n",
              "        vertical-align: middle;\n",
              "    }\n",
              "\n",
              "    .dataframe tbody tr th {\n",
              "        vertical-align: top;\n",
              "    }\n",
              "\n",
              "    .dataframe thead th {\n",
              "        text-align: right;\n",
              "    }\n",
              "</style>\n",
              "<table border=\"1\" class=\"dataframe\">\n",
              "  <thead>\n",
              "    <tr style=\"text-align: right;\">\n",
              "      <th></th>\n",
              "      <th>even</th>\n",
              "      <th>odd</th>\n",
              "    </tr>\n",
              "  </thead>\n",
              "  <tbody>\n",
              "    <tr>\n",
              "      <th>0</th>\n",
              "      <td>0.0</td>\n",
              "      <td>1.0</td>\n",
              "    </tr>\n",
              "    <tr>\n",
              "      <th>1</th>\n",
              "      <td>2.0</td>\n",
              "      <td>3.0</td>\n",
              "    </tr>\n",
              "    <tr>\n",
              "      <th>2</th>\n",
              "      <td>4.0</td>\n",
              "      <td>5.0</td>\n",
              "    </tr>\n",
              "    <tr>\n",
              "      <th>3</th>\n",
              "      <td>6.0</td>\n",
              "      <td>7.0</td>\n",
              "    </tr>\n",
              "    <tr>\n",
              "      <th>4</th>\n",
              "      <td>8.0</td>\n",
              "      <td>9.0</td>\n",
              "    </tr>\n",
              "  </tbody>\n",
              "</table>\n",
              "</div>\n",
              "      <button class=\"colab-df-convert\" onclick=\"convertToInteractive('df-afb28d2b-eb80-47a6-b9a0-db83ef50bed8')\"\n",
              "              title=\"Convert this dataframe to an interactive table.\"\n",
              "              style=\"display:none;\">\n",
              "        \n",
              "  <svg xmlns=\"http://www.w3.org/2000/svg\" height=\"24px\"viewBox=\"0 0 24 24\"\n",
              "       width=\"24px\">\n",
              "    <path d=\"M0 0h24v24H0V0z\" fill=\"none\"/>\n",
              "    <path d=\"M18.56 5.44l.94 2.06.94-2.06 2.06-.94-2.06-.94-.94-2.06-.94 2.06-2.06.94zm-11 1L8.5 8.5l.94-2.06 2.06-.94-2.06-.94L8.5 2.5l-.94 2.06-2.06.94zm10 10l.94 2.06.94-2.06 2.06-.94-2.06-.94-.94-2.06-.94 2.06-2.06.94z\"/><path d=\"M17.41 7.96l-1.37-1.37c-.4-.4-.92-.59-1.43-.59-.52 0-1.04.2-1.43.59L10.3 9.45l-7.72 7.72c-.78.78-.78 2.05 0 2.83L4 21.41c.39.39.9.59 1.41.59.51 0 1.02-.2 1.41-.59l7.78-7.78 2.81-2.81c.8-.78.8-2.07 0-2.86zM5.41 20L4 18.59l7.72-7.72 1.47 1.35L5.41 20z\"/>\n",
              "  </svg>\n",
              "      </button>\n",
              "      \n",
              "  <style>\n",
              "    .colab-df-container {\n",
              "      display:flex;\n",
              "      flex-wrap:wrap;\n",
              "      gap: 12px;\n",
              "    }\n",
              "\n",
              "    .colab-df-convert {\n",
              "      background-color: #E8F0FE;\n",
              "      border: none;\n",
              "      border-radius: 50%;\n",
              "      cursor: pointer;\n",
              "      display: none;\n",
              "      fill: #1967D2;\n",
              "      height: 32px;\n",
              "      padding: 0 0 0 0;\n",
              "      width: 32px;\n",
              "    }\n",
              "\n",
              "    .colab-df-convert:hover {\n",
              "      background-color: #E2EBFA;\n",
              "      box-shadow: 0px 1px 2px rgba(60, 64, 67, 0.3), 0px 1px 3px 1px rgba(60, 64, 67, 0.15);\n",
              "      fill: #174EA6;\n",
              "    }\n",
              "\n",
              "    [theme=dark] .colab-df-convert {\n",
              "      background-color: #3B4455;\n",
              "      fill: #D2E3FC;\n",
              "    }\n",
              "\n",
              "    [theme=dark] .colab-df-convert:hover {\n",
              "      background-color: #434B5C;\n",
              "      box-shadow: 0px 1px 3px 1px rgba(0, 0, 0, 0.15);\n",
              "      filter: drop-shadow(0px 1px 2px rgba(0, 0, 0, 0.3));\n",
              "      fill: #FFFFFF;\n",
              "    }\n",
              "  </style>\n",
              "\n",
              "      <script>\n",
              "        const buttonEl =\n",
              "          document.querySelector('#df-afb28d2b-eb80-47a6-b9a0-db83ef50bed8 button.colab-df-convert');\n",
              "        buttonEl.style.display =\n",
              "          google.colab.kernel.accessAllowed ? 'block' : 'none';\n",
              "\n",
              "        async function convertToInteractive(key) {\n",
              "          const element = document.querySelector('#df-afb28d2b-eb80-47a6-b9a0-db83ef50bed8');\n",
              "          const dataTable =\n",
              "            await google.colab.kernel.invokeFunction('convertToInteractive',\n",
              "                                                     [key], {});\n",
              "          if (!dataTable) return;\n",
              "\n",
              "          const docLinkHtml = 'Like what you see? Visit the ' +\n",
              "            '<a target=\"_blank\" href=https://colab.research.google.com/notebooks/data_table.ipynb>data table notebook</a>'\n",
              "            + ' to learn more about interactive tables.';\n",
              "          element.innerHTML = '';\n",
              "          dataTable['output_type'] = 'display_data';\n",
              "          await google.colab.output.renderOutput(dataTable, element);\n",
              "          const docLink = document.createElement('div');\n",
              "          docLink.innerHTML = docLinkHtml;\n",
              "          element.appendChild(docLink);\n",
              "        }\n",
              "      </script>\n",
              "    </div>\n",
              "  </div>\n",
              "  "
            ]
          },
          "metadata": {},
          "execution_count": 36
        }
      ],
      "source": [
        "df=pd.read_excel('https://docs.google.com/spreadsheets/d/e/2PACX-1vTrN__P0I9fxuyTLtOZauwU6CZXZ_2GCZF5EcHckp1GT0BvXAm41ucAGtaUhhA7Ug/pub?output=xlsx')\n",
        "df"
      ]
    },
    {
      "cell_type": "markdown",
      "metadata": {
        "cell_id": "00028-ba1fbbbd-e5e4-45b9-bc04-2f23383ef2c5",
        "deepnote_cell_type": "markdown",
        "id": "c_bj3IfLxE1Q"
      },
      "source": [
        "### `Series`"
      ]
    },
    {
      "cell_type": "markdown",
      "metadata": {
        "cell_id": "00029-9fbc4d9c-20bd-486c-9b5b-352ee4e526ac",
        "deepnote_cell_type": "markdown",
        "id": "H2LIeZbCgoL5"
      },
      "source": [
        "Each column of the DataFrame is now an augmented dictionary called `Series`, with the indices as the keys of the `Series`"
      ]
    },
    {
      "cell_type": "markdown",
      "metadata": {
        "cell_id": "00030-6e557bb0-a47f-41c8-8790-5ba070bdfb86",
        "deepnote_cell_type": "markdown",
        "id": "klrbIsoGxE1R"
      },
      "source": [
        "A `Pandas` `Series` object can be just initialized from a `Python` dictionary:"
      ]
    },
    {
      "cell_type": "code",
      "execution_count": 16,
      "metadata": {
        "cell_id": "00031-15c221e5-71b6-497b-b552-d78f9fa5c5b4",
        "colab": {
          "base_uri": "https://localhost:8080/"
        },
        "deepnote_cell_type": "code",
        "id": "FoTT2jkqgrpR",
        "outputId": "84d7ddd9-647b-41aa-c669-44083107ef7e"
      },
      "outputs": [
        {
          "output_type": "execute_result",
          "data": {
            "text/plain": [
              "pandas.core.series.Series"
            ]
          },
          "metadata": {},
          "execution_count": 16
        }
      ],
      "source": [
        "type( df['even'] )"
      ]
    },
    {
      "cell_type": "markdown",
      "metadata": {
        "cell_id": "00032-5bcb5be5-166a-4dcc-a31e-92875d2f81a0",
        "deepnote_cell_type": "markdown",
        "id": "Iy8h3XICgz9w"
      },
      "source": [
        "The keys are the index of the `DataFrame`"
      ]
    },
    {
      "cell_type": "code",
      "execution_count": 17,
      "metadata": {
        "cell_id": "00033-000b6c1f-036e-43af-84c0-6dd4b76e7b58",
        "colab": {
          "base_uri": "https://localhost:8080/"
        },
        "deepnote_cell_type": "code",
        "id": "BTIxbKvhg6m2",
        "outputId": "25b80ee9-9b1e-4ff6-d57b-f89877fa6fcc"
      },
      "outputs": [
        {
          "output_type": "execute_result",
          "data": {
            "text/plain": [
              "8.0"
            ]
          },
          "metadata": {},
          "execution_count": 17
        }
      ],
      "source": [
        "#df['even']\n",
        "df.even[4]"
      ]
    },
    {
      "cell_type": "markdown",
      "metadata": {
        "cell_id": "00034-86d1564c-0818-420b-b920-2f004cfd5251",
        "deepnote_cell_type": "markdown",
        "id": "7MIKjfslg7Xx"
      },
      "source": [
        "Each row is also a series"
      ]
    },
    {
      "cell_type": "code",
      "execution_count": 18,
      "metadata": {
        "cell_id": "00035-efbe4343-8a4f-4efa-ba2d-7f88b7c8e82d",
        "colab": {
          "base_uri": "https://localhost:8080/"
        },
        "deepnote_cell_type": "code",
        "id": "rhiEFGhOg-kx",
        "outputId": "2c9607db-17db-4ad4-8a09-46cc74c2c370"
      },
      "outputs": [
        {
          "output_type": "execute_result",
          "data": {
            "text/plain": [
              "even    0.0\n",
              "odd     1.0\n",
              "Name: 0, dtype: float64"
            ]
          },
          "metadata": {},
          "execution_count": 18
        }
      ],
      "source": [
        "df.loc[0]"
      ]
    },
    {
      "cell_type": "markdown",
      "metadata": {
        "cell_id": "00036-c55a98ad-4590-4466-ab61-9f1a6ea49b83",
        "deepnote_cell_type": "markdown",
        "id": "ki2GW4yohKl5"
      },
      "source": [
        "with keys: `'even'` and `'odd'`"
      ]
    },
    {
      "cell_type": "code",
      "execution_count": 19,
      "metadata": {
        "cell_id": "00037-34730af6-4952-4ee0-8375-410cb4392c20",
        "colab": {
          "base_uri": "https://localhost:8080/"
        },
        "deepnote_cell_type": "code",
        "id": "JPLVdBrAhFCJ",
        "outputId": "3d864851-374c-4034-a7d5-2c2addd186ce"
      },
      "outputs": [
        {
          "output_type": "execute_result",
          "data": {
            "text/plain": [
              "0.0"
            ]
          },
          "metadata": {},
          "execution_count": 19
        }
      ],
      "source": [
        "df.loc[0]['even']"
      ]
    },
    {
      "cell_type": "markdown",
      "metadata": {
        "cell_id": "00038-3f514cb9-b08b-416d-9711-6654cb2e6caa",
        "deepnote_cell_type": "markdown",
        "id": "8NuiZ2NIhGjx"
      },
      "source": [
        "or attributes `even` and `odd`"
      ]
    },
    {
      "cell_type": "code",
      "execution_count": 20,
      "metadata": {
        "cell_id": "00039-cb23d640-f06f-446e-b942-8be58193f511",
        "colab": {
          "base_uri": "https://localhost:8080/"
        },
        "deepnote_cell_type": "code",
        "id": "KmY9Jrk_hZyx",
        "outputId": "95afd91e-e984-490a-8b80-b875fc872f7a"
      },
      "outputs": [
        {
          "output_type": "execute_result",
          "data": {
            "text/plain": [
              "1.0"
            ]
          },
          "metadata": {},
          "execution_count": 20
        }
      ],
      "source": [
        "df.loc[0].odd"
      ]
    },
    {
      "cell_type": "markdown",
      "metadata": {
        "cell_id": "00040-ac07d690-d4ce-4d3d-af39-c2bb5353c03d",
        "deepnote_cell_type": "markdown",
        "id": "vOxxMKJshhKJ"
      },
      "source": [
        "One specific cell value can be reached with the index and the key:"
      ]
    },
    {
      "cell_type": "code",
      "execution_count": 21,
      "metadata": {
        "cell_id": "00041-5ca70a4d-1891-4d24-9d37-f7533cc8e50b",
        "colab": {
          "base_uri": "https://localhost:8080/"
        },
        "deepnote_cell_type": "code",
        "id": "MexLUmZLhph5",
        "outputId": "693cd38a-a377-4af8-ab08-05e987a79031"
      },
      "outputs": [
        {
          "output_type": "execute_result",
          "data": {
            "text/plain": [
              "5.0"
            ]
          },
          "metadata": {},
          "execution_count": 21
        }
      ],
      "source": [
        "df.loc[2,'odd']"
      ]
    },
    {
      "cell_type": "code",
      "execution_count": 22,
      "metadata": {
        "cell_id": "00042-e8bd9a00-9b35-45d1-a4a3-72aee9572a2a",
        "deepnote_cell_type": "code",
        "id": "LrhKw9EQxE1T",
        "outputId": "52811fe1-26d1-4e46-eba6-8ef641ff0e05",
        "colab": {
          "base_uri": "https://localhost:8080/"
        }
      },
      "outputs": [
        {
          "output_type": "execute_result",
          "data": {
            "text/plain": [
              "Name           Juan Valdez\n",
              "Nacionality       Colombia\n",
              "Age                     23\n",
              "dtype: object"
            ]
          },
          "metadata": {},
          "execution_count": 22
        }
      ],
      "source": [
        "s=pd.Series({'Name':'Juan Valdez','Nacionality':'Colombia','Age':23})\n",
        "s"
      ]
    },
    {
      "cell_type": "markdown",
      "metadata": {
        "cell_id": "00043-63272df4-c2ec-42ce-bd0b-3af6c0ea4924",
        "deepnote_cell_type": "markdown",
        "id": "TzNtVUV6h36n"
      },
      "source": [
        "*Note* that the key name can be used also as an attribute.\n"
      ]
    },
    {
      "cell_type": "code",
      "execution_count": 23,
      "metadata": {
        "cell_id": "00044-32d4c04d-d660-48fd-ab2a-b2bd17ce5f27",
        "colab": {
          "base_uri": "https://localhost:8080/"
        },
        "deepnote_cell_type": "code",
        "id": "ip9ADEo7h5vA",
        "outputId": "2e3495d7-1050-498f-d252-53ffd09f0a02"
      },
      "outputs": [
        {
          "output_type": "execute_result",
          "data": {
            "text/plain": [
              "0    1.0\n",
              "1    3.0\n",
              "2    5.0\n",
              "3    7.0\n",
              "4    9.0\n",
              "Name: odd, dtype: float64"
            ]
          },
          "metadata": {},
          "execution_count": 23
        }
      ],
      "source": [
        "df.odd"
      ]
    },
    {
      "cell_type": "markdown",
      "metadata": {
        "cell_id": "00045-4cee4939-0326-4d1a-b481-409d3a73e6e8",
        "deepnote_cell_type": "markdown",
        "id": "z5JBXWlkh8Z3"
      },
      "source": [
        "> The __power__ of Pandas rely in that their main data structures: `DataFrames` and `Series`, are enriched with many useful methods and attributes.\n",
        "\n",
        "### [Official definition of Pandas](http://pandas.pydata.org/pandas-docs/stable/)\n",
        "\n",
        "> Pandas is a Python package providing __fast__, __flexible__, and __expressive__ _data structures_ designed to make working with “relational” or “labeled” data both easy and intuitive. It aims to be the fundamental high-level building block for doing practical, real world data analysis in Python. Additionally, it _has the broader goal of becoming the most powerful and flexible open source data analysis / manipulation tool_ available in any language. It is already well on its way toward this goal.\n",
        "\n",
        "* \"relational\": the list of data is identified with some unique index (like a `SQL` table)\n",
        "* \"labeled\": the list is identified with a key, like the previous `odd` or `even` keys.\n"
      ]
    },
    {
      "cell_type": "markdown",
      "metadata": {
        "cell_id": "00046-3daea1f4-914e-406e-a0e6-a12582c78615",
        "deepnote_cell_type": "markdown",
        "id": "sDC5HnPOicTg"
      },
      "source": [
        "For example. A double bracket `[[...]]`, can be used to filter data.\n",
        "\n",
        "A row in a two-dimensional `DataFrame` corresponds to `Series` with the same keys of the `DataFrame`, but with single values instead of a list "
      ]
    },
    {
      "cell_type": "code",
      "execution_count": 24,
      "metadata": {
        "cell_id": "00047-924b43dc-7ce3-4ff3-8be4-a21ebbbed12e",
        "colab": {
          "base_uri": "https://localhost:8080/",
          "height": 81
        },
        "deepnote_cell_type": "code",
        "id": "UfyqbhjXigZc",
        "outputId": "e45ca653-3124-4f42-a9d7-01dcdbbc3924"
      },
      "outputs": [
        {
          "output_type": "execute_result",
          "data": {
            "text/plain": [
              "   even  odd\n",
              "0   0.0  1.0"
            ],
            "text/html": [
              "\n",
              "  <div id=\"df-dfa41001-9199-4c22-bcef-e6dabc445967\">\n",
              "    <div class=\"colab-df-container\">\n",
              "      <div>\n",
              "<style scoped>\n",
              "    .dataframe tbody tr th:only-of-type {\n",
              "        vertical-align: middle;\n",
              "    }\n",
              "\n",
              "    .dataframe tbody tr th {\n",
              "        vertical-align: top;\n",
              "    }\n",
              "\n",
              "    .dataframe thead th {\n",
              "        text-align: right;\n",
              "    }\n",
              "</style>\n",
              "<table border=\"1\" class=\"dataframe\">\n",
              "  <thead>\n",
              "    <tr style=\"text-align: right;\">\n",
              "      <th></th>\n",
              "      <th>even</th>\n",
              "      <th>odd</th>\n",
              "    </tr>\n",
              "  </thead>\n",
              "  <tbody>\n",
              "    <tr>\n",
              "      <th>0</th>\n",
              "      <td>0.0</td>\n",
              "      <td>1.0</td>\n",
              "    </tr>\n",
              "  </tbody>\n",
              "</table>\n",
              "</div>\n",
              "      <button class=\"colab-df-convert\" onclick=\"convertToInteractive('df-dfa41001-9199-4c22-bcef-e6dabc445967')\"\n",
              "              title=\"Convert this dataframe to an interactive table.\"\n",
              "              style=\"display:none;\">\n",
              "        \n",
              "  <svg xmlns=\"http://www.w3.org/2000/svg\" height=\"24px\"viewBox=\"0 0 24 24\"\n",
              "       width=\"24px\">\n",
              "    <path d=\"M0 0h24v24H0V0z\" fill=\"none\"/>\n",
              "    <path d=\"M18.56 5.44l.94 2.06.94-2.06 2.06-.94-2.06-.94-.94-2.06-.94 2.06-2.06.94zm-11 1L8.5 8.5l.94-2.06 2.06-.94-2.06-.94L8.5 2.5l-.94 2.06-2.06.94zm10 10l.94 2.06.94-2.06 2.06-.94-2.06-.94-.94-2.06-.94 2.06-2.06.94z\"/><path d=\"M17.41 7.96l-1.37-1.37c-.4-.4-.92-.59-1.43-.59-.52 0-1.04.2-1.43.59L10.3 9.45l-7.72 7.72c-.78.78-.78 2.05 0 2.83L4 21.41c.39.39.9.59 1.41.59.51 0 1.02-.2 1.41-.59l7.78-7.78 2.81-2.81c.8-.78.8-2.07 0-2.86zM5.41 20L4 18.59l7.72-7.72 1.47 1.35L5.41 20z\"/>\n",
              "  </svg>\n",
              "      </button>\n",
              "      \n",
              "  <style>\n",
              "    .colab-df-container {\n",
              "      display:flex;\n",
              "      flex-wrap:wrap;\n",
              "      gap: 12px;\n",
              "    }\n",
              "\n",
              "    .colab-df-convert {\n",
              "      background-color: #E8F0FE;\n",
              "      border: none;\n",
              "      border-radius: 50%;\n",
              "      cursor: pointer;\n",
              "      display: none;\n",
              "      fill: #1967D2;\n",
              "      height: 32px;\n",
              "      padding: 0 0 0 0;\n",
              "      width: 32px;\n",
              "    }\n",
              "\n",
              "    .colab-df-convert:hover {\n",
              "      background-color: #E2EBFA;\n",
              "      box-shadow: 0px 1px 2px rgba(60, 64, 67, 0.3), 0px 1px 3px 1px rgba(60, 64, 67, 0.15);\n",
              "      fill: #174EA6;\n",
              "    }\n",
              "\n",
              "    [theme=dark] .colab-df-convert {\n",
              "      background-color: #3B4455;\n",
              "      fill: #D2E3FC;\n",
              "    }\n",
              "\n",
              "    [theme=dark] .colab-df-convert:hover {\n",
              "      background-color: #434B5C;\n",
              "      box-shadow: 0px 1px 3px 1px rgba(0, 0, 0, 0.15);\n",
              "      filter: drop-shadow(0px 1px 2px rgba(0, 0, 0, 0.3));\n",
              "      fill: #FFFFFF;\n",
              "    }\n",
              "  </style>\n",
              "\n",
              "      <script>\n",
              "        const buttonEl =\n",
              "          document.querySelector('#df-dfa41001-9199-4c22-bcef-e6dabc445967 button.colab-df-convert');\n",
              "        buttonEl.style.display =\n",
              "          google.colab.kernel.accessAllowed ? 'block' : 'none';\n",
              "\n",
              "        async function convertToInteractive(key) {\n",
              "          const element = document.querySelector('#df-dfa41001-9199-4c22-bcef-e6dabc445967');\n",
              "          const dataTable =\n",
              "            await google.colab.kernel.invokeFunction('convertToInteractive',\n",
              "                                                     [key], {});\n",
              "          if (!dataTable) return;\n",
              "\n",
              "          const docLinkHtml = 'Like what you see? Visit the ' +\n",
              "            '<a target=\"_blank\" href=https://colab.research.google.com/notebooks/data_table.ipynb>data table notebook</a>'\n",
              "            + ' to learn more about interactive tables.';\n",
              "          element.innerHTML = '';\n",
              "          dataTable['output_type'] = 'display_data';\n",
              "          await google.colab.output.renderOutput(dataTable, element);\n",
              "          const docLink = document.createElement('div');\n",
              "          docLink.innerHTML = docLinkHtml;\n",
              "          element.appendChild(docLink);\n",
              "        }\n",
              "      </script>\n",
              "    </div>\n",
              "  </div>\n",
              "  "
            ]
          },
          "metadata": {},
          "execution_count": 24
        }
      ],
      "source": [
        "df.loc[[0]]"
      ]
    },
    {
      "cell_type": "code",
      "execution_count": 25,
      "metadata": {
        "cell_id": "00048-e1f9e5dc-6bf0-41d4-b1a3-183192fa678e",
        "colab": {
          "base_uri": "https://localhost:8080/"
        },
        "deepnote_cell_type": "code",
        "id": "-dANKUEoi78M",
        "outputId": "9c38979d-3b1a-4094-d96c-31962f31903b"
      },
      "outputs": [
        {
          "output_type": "stream",
          "name": "stdout",
          "text": [
            "the row has\n",
            "                  keys: ['even', 'odd'] and values: [0. 1.]\n",
            "like the dictionay:\n",
            "                      { 'even' : 0, 'odd' : 1 }\n"
          ]
        }
      ],
      "source": [
        "print( 'the row has' )\n",
        "print( '                  keys: {} and values: {}'.format( list( df.loc[[0]].keys() ),df.loc[[0]].values[0]  ) )\n",
        "print( \"like the dictionay:\" )\n",
        "print( \"                      { 'even' : 0, 'odd' : 1 }\")"
      ]
    },
    {
      "cell_type": "markdown",
      "metadata": {
        "cell_id": "00049-04942039-b889-4baa-bb10-d3ac7651fbf7",
        "deepnote_cell_type": "markdown",
        "id": "p7MgQWMijI0W"
      },
      "source": [
        "To filter a column:"
      ]
    },
    {
      "cell_type": "code",
      "execution_count": 26,
      "metadata": {
        "cell_id": "00050-98830692-b564-4fec-b41d-c800e7ebed14",
        "colab": {
          "base_uri": "https://localhost:8080/",
          "height": 206
        },
        "deepnote_cell_type": "code",
        "id": "nT_SkKMIjMWY",
        "outputId": "729fe789-4863-4507-a691-c6024bd047b5"
      },
      "outputs": [
        {
          "output_type": "execute_result",
          "data": {
            "text/plain": [
              "   odd\n",
              "0  1.0\n",
              "1  3.0\n",
              "2  5.0\n",
              "3  7.0\n",
              "4  9.0"
            ],
            "text/html": [
              "\n",
              "  <div id=\"df-1d1f5cd9-c732-45ff-a3fc-43f27a0a1413\">\n",
              "    <div class=\"colab-df-container\">\n",
              "      <div>\n",
              "<style scoped>\n",
              "    .dataframe tbody tr th:only-of-type {\n",
              "        vertical-align: middle;\n",
              "    }\n",
              "\n",
              "    .dataframe tbody tr th {\n",
              "        vertical-align: top;\n",
              "    }\n",
              "\n",
              "    .dataframe thead th {\n",
              "        text-align: right;\n",
              "    }\n",
              "</style>\n",
              "<table border=\"1\" class=\"dataframe\">\n",
              "  <thead>\n",
              "    <tr style=\"text-align: right;\">\n",
              "      <th></th>\n",
              "      <th>odd</th>\n",
              "    </tr>\n",
              "  </thead>\n",
              "  <tbody>\n",
              "    <tr>\n",
              "      <th>0</th>\n",
              "      <td>1.0</td>\n",
              "    </tr>\n",
              "    <tr>\n",
              "      <th>1</th>\n",
              "      <td>3.0</td>\n",
              "    </tr>\n",
              "    <tr>\n",
              "      <th>2</th>\n",
              "      <td>5.0</td>\n",
              "    </tr>\n",
              "    <tr>\n",
              "      <th>3</th>\n",
              "      <td>7.0</td>\n",
              "    </tr>\n",
              "    <tr>\n",
              "      <th>4</th>\n",
              "      <td>9.0</td>\n",
              "    </tr>\n",
              "  </tbody>\n",
              "</table>\n",
              "</div>\n",
              "      <button class=\"colab-df-convert\" onclick=\"convertToInteractive('df-1d1f5cd9-c732-45ff-a3fc-43f27a0a1413')\"\n",
              "              title=\"Convert this dataframe to an interactive table.\"\n",
              "              style=\"display:none;\">\n",
              "        \n",
              "  <svg xmlns=\"http://www.w3.org/2000/svg\" height=\"24px\"viewBox=\"0 0 24 24\"\n",
              "       width=\"24px\">\n",
              "    <path d=\"M0 0h24v24H0V0z\" fill=\"none\"/>\n",
              "    <path d=\"M18.56 5.44l.94 2.06.94-2.06 2.06-.94-2.06-.94-.94-2.06-.94 2.06-2.06.94zm-11 1L8.5 8.5l.94-2.06 2.06-.94-2.06-.94L8.5 2.5l-.94 2.06-2.06.94zm10 10l.94 2.06.94-2.06 2.06-.94-2.06-.94-.94-2.06-.94 2.06-2.06.94z\"/><path d=\"M17.41 7.96l-1.37-1.37c-.4-.4-.92-.59-1.43-.59-.52 0-1.04.2-1.43.59L10.3 9.45l-7.72 7.72c-.78.78-.78 2.05 0 2.83L4 21.41c.39.39.9.59 1.41.59.51 0 1.02-.2 1.41-.59l7.78-7.78 2.81-2.81c.8-.78.8-2.07 0-2.86zM5.41 20L4 18.59l7.72-7.72 1.47 1.35L5.41 20z\"/>\n",
              "  </svg>\n",
              "      </button>\n",
              "      \n",
              "  <style>\n",
              "    .colab-df-container {\n",
              "      display:flex;\n",
              "      flex-wrap:wrap;\n",
              "      gap: 12px;\n",
              "    }\n",
              "\n",
              "    .colab-df-convert {\n",
              "      background-color: #E8F0FE;\n",
              "      border: none;\n",
              "      border-radius: 50%;\n",
              "      cursor: pointer;\n",
              "      display: none;\n",
              "      fill: #1967D2;\n",
              "      height: 32px;\n",
              "      padding: 0 0 0 0;\n",
              "      width: 32px;\n",
              "    }\n",
              "\n",
              "    .colab-df-convert:hover {\n",
              "      background-color: #E2EBFA;\n",
              "      box-shadow: 0px 1px 2px rgba(60, 64, 67, 0.3), 0px 1px 3px 1px rgba(60, 64, 67, 0.15);\n",
              "      fill: #174EA6;\n",
              "    }\n",
              "\n",
              "    [theme=dark] .colab-df-convert {\n",
              "      background-color: #3B4455;\n",
              "      fill: #D2E3FC;\n",
              "    }\n",
              "\n",
              "    [theme=dark] .colab-df-convert:hover {\n",
              "      background-color: #434B5C;\n",
              "      box-shadow: 0px 1px 3px 1px rgba(0, 0, 0, 0.15);\n",
              "      filter: drop-shadow(0px 1px 2px rgba(0, 0, 0, 0.3));\n",
              "      fill: #FFFFFF;\n",
              "    }\n",
              "  </style>\n",
              "\n",
              "      <script>\n",
              "        const buttonEl =\n",
              "          document.querySelector('#df-1d1f5cd9-c732-45ff-a3fc-43f27a0a1413 button.colab-df-convert');\n",
              "        buttonEl.style.display =\n",
              "          google.colab.kernel.accessAllowed ? 'block' : 'none';\n",
              "\n",
              "        async function convertToInteractive(key) {\n",
              "          const element = document.querySelector('#df-1d1f5cd9-c732-45ff-a3fc-43f27a0a1413');\n",
              "          const dataTable =\n",
              "            await google.colab.kernel.invokeFunction('convertToInteractive',\n",
              "                                                     [key], {});\n",
              "          if (!dataTable) return;\n",
              "\n",
              "          const docLinkHtml = 'Like what you see? Visit the ' +\n",
              "            '<a target=\"_blank\" href=https://colab.research.google.com/notebooks/data_table.ipynb>data table notebook</a>'\n",
              "            + ' to learn more about interactive tables.';\n",
              "          element.innerHTML = '';\n",
              "          dataTable['output_type'] = 'display_data';\n",
              "          await google.colab.output.renderOutput(dataTable, element);\n",
              "          const docLink = document.createElement('div');\n",
              "          docLink.innerHTML = docLinkHtml;\n",
              "          element.appendChild(docLink);\n",
              "        }\n",
              "      </script>\n",
              "    </div>\n",
              "  </div>\n",
              "  "
            ]
          },
          "metadata": {},
          "execution_count": 26
        }
      ],
      "source": [
        "df[['odd']]"
      ]
    },
    {
      "cell_type": "markdown",
      "metadata": {
        "cell_id": "00051-6b0ba5a7-4d42-4397-9f24-7d59a6795943",
        "deepnote_cell_type": "markdown",
        "id": "ElU5h9tnxE1Y"
      },
      "source": [
        "### More on `Series`"
      ]
    },
    {
      "cell_type": "markdown",
      "metadata": {
        "cell_id": "00052-58cd1675-c71a-4c71-b957-e25c8a6ab447",
        "deepnote_cell_type": "markdown",
        "id": "pg20NksOjdQW"
      },
      "source": [
        "A `Pandas` `Series` object can be just initialized from a `Python` dictionary:"
      ]
    },
    {
      "cell_type": "code",
      "execution_count": 27,
      "metadata": {
        "cell_id": "00053-5881d053-799d-4191-9112-4d49bf041fa0",
        "colab": {
          "base_uri": "https://localhost:8080/"
        },
        "deepnote_cell_type": "code",
        "id": "qjuk_nn0jgFH",
        "outputId": "018255a4-8908-4710-f437-822e6aa6330c"
      },
      "outputs": [
        {
          "output_type": "execute_result",
          "data": {
            "text/plain": [
              "Name           Juan Valdez\n",
              "Nacionality       Colombia\n",
              "Age                     23\n",
              "dtype: object"
            ]
          },
          "metadata": {},
          "execution_count": 27
        }
      ],
      "source": [
        "s=pd.Series({'Name':'Juan Valdez','Nacionality':'Colombia','Age':23})\n",
        "s"
      ]
    },
    {
      "cell_type": "code",
      "execution_count": 28,
      "metadata": {
        "cell_id": "00054-997dbe29-5415-4b33-a2c2-320979fb1dcb",
        "deepnote_cell_type": "code",
        "id": "pAtixllExE1Z",
        "outputId": "e1ca11f8-7a0e-4456-f903-f66cd8001aa9",
        "colab": {
          "base_uri": "https://localhost:8080/",
          "height": 35
        }
      },
      "outputs": [
        {
          "output_type": "execute_result",
          "data": {
            "text/plain": [
              "'Juan Valdez'"
            ],
            "application/vnd.google.colaboratory.intrinsic+json": {
              "type": "string"
            }
          },
          "metadata": {},
          "execution_count": 28
        }
      ],
      "source": [
        "s['Name']"
      ]
    },
    {
      "cell_type": "markdown",
      "metadata": {
        "cell_id": "00055-c9c53a1e-7e5c-4360-9714-10f042c7ab91",
        "deepnote_cell_type": "markdown",
        "id": "pYb112eqxE1e"
      },
      "source": [
        "but also as containers of name spaces!"
      ]
    },
    {
      "cell_type": "code",
      "execution_count": 29,
      "metadata": {
        "cell_id": "00056-c35a9e02-65ee-4089-8af1-da308c7c33c7",
        "deepnote_cell_type": "code",
        "id": "6_GfsFVwxE1f",
        "outputId": "6362fbd2-f9d7-4e72-8e05-252acf931e1c",
        "colab": {
          "base_uri": "https://localhost:8080/",
          "height": 35
        }
      },
      "outputs": [
        {
          "output_type": "execute_result",
          "data": {
            "text/plain": [
              "'Juan Valdez'"
            ],
            "application/vnd.google.colaboratory.intrinsic+json": {
              "type": "string"
            }
          },
          "metadata": {},
          "execution_count": 29
        }
      ],
      "source": [
        "s.Name"
      ]
    },
    {
      "cell_type": "markdown",
      "metadata": {
        "cell_id": "00057-25c85b9e-a98a-446e-a2ad-d21be1a344e4",
        "deepnote_cell_type": "markdown",
        "id": "Kab6pfyMxE1k"
      },
      "source": [
        "## `DataFrame` initialization"
      ]
    },
    {
      "cell_type": "markdown",
      "metadata": {
        "cell_id": "00058-c269e732-fb8b-4ffb-8ae1-3df99a8c229d",
        "deepnote_cell_type": "markdown",
        "id": "4zhJVNq1pTTe"
      },
      "source": [
        "### Initization from an existing spreadsheet. \n",
        "This can be locally in your computer o from some downloadable  link"
      ]
    },
    {
      "cell_type": "code",
      "execution_count": 30,
      "metadata": {
        "cell_id": "00059-a5e5f2ee-7ef0-4a15-8cf0-1bd63e03a10b",
        "colab": {
          "base_uri": "https://localhost:8080/",
          "height": 112
        },
        "deepnote_cell_type": "code",
        "id": "yM4oF9r-pWsw",
        "outputId": "dd0ecf9a-b929-450e-a10e-f51a2a35afad"
      },
      "outputs": [
        {
          "output_type": "execute_result",
          "data": {
            "text/plain": [
              "               Nombre  Edad                Compañia\n",
              "0         Juan Valdez  23.0        Café de Colombia\n",
              "1  Álvaro Uribe Vélez  65.0  Senado de la República"
            ],
            "text/html": [
              "\n",
              "  <div id=\"df-52300f89-de00-4957-b6ce-747819899754\">\n",
              "    <div class=\"colab-df-container\">\n",
              "      <div>\n",
              "<style scoped>\n",
              "    .dataframe tbody tr th:only-of-type {\n",
              "        vertical-align: middle;\n",
              "    }\n",
              "\n",
              "    .dataframe tbody tr th {\n",
              "        vertical-align: top;\n",
              "    }\n",
              "\n",
              "    .dataframe thead th {\n",
              "        text-align: right;\n",
              "    }\n",
              "</style>\n",
              "<table border=\"1\" class=\"dataframe\">\n",
              "  <thead>\n",
              "    <tr style=\"text-align: right;\">\n",
              "      <th></th>\n",
              "      <th>Nombre</th>\n",
              "      <th>Edad</th>\n",
              "      <th>Compañia</th>\n",
              "    </tr>\n",
              "  </thead>\n",
              "  <tbody>\n",
              "    <tr>\n",
              "      <th>0</th>\n",
              "      <td>Juan Valdez</td>\n",
              "      <td>23.0</td>\n",
              "      <td>Café de Colombia</td>\n",
              "    </tr>\n",
              "    <tr>\n",
              "      <th>1</th>\n",
              "      <td>Álvaro Uribe Vélez</td>\n",
              "      <td>65.0</td>\n",
              "      <td>Senado de la República</td>\n",
              "    </tr>\n",
              "  </tbody>\n",
              "</table>\n",
              "</div>\n",
              "      <button class=\"colab-df-convert\" onclick=\"convertToInteractive('df-52300f89-de00-4957-b6ce-747819899754')\"\n",
              "              title=\"Convert this dataframe to an interactive table.\"\n",
              "              style=\"display:none;\">\n",
              "        \n",
              "  <svg xmlns=\"http://www.w3.org/2000/svg\" height=\"24px\"viewBox=\"0 0 24 24\"\n",
              "       width=\"24px\">\n",
              "    <path d=\"M0 0h24v24H0V0z\" fill=\"none\"/>\n",
              "    <path d=\"M18.56 5.44l.94 2.06.94-2.06 2.06-.94-2.06-.94-.94-2.06-.94 2.06-2.06.94zm-11 1L8.5 8.5l.94-2.06 2.06-.94-2.06-.94L8.5 2.5l-.94 2.06-2.06.94zm10 10l.94 2.06.94-2.06 2.06-.94-2.06-.94-.94-2.06-.94 2.06-2.06.94z\"/><path d=\"M17.41 7.96l-1.37-1.37c-.4-.4-.92-.59-1.43-.59-.52 0-1.04.2-1.43.59L10.3 9.45l-7.72 7.72c-.78.78-.78 2.05 0 2.83L4 21.41c.39.39.9.59 1.41.59.51 0 1.02-.2 1.41-.59l7.78-7.78 2.81-2.81c.8-.78.8-2.07 0-2.86zM5.41 20L4 18.59l7.72-7.72 1.47 1.35L5.41 20z\"/>\n",
              "  </svg>\n",
              "      </button>\n",
              "      \n",
              "  <style>\n",
              "    .colab-df-container {\n",
              "      display:flex;\n",
              "      flex-wrap:wrap;\n",
              "      gap: 12px;\n",
              "    }\n",
              "\n",
              "    .colab-df-convert {\n",
              "      background-color: #E8F0FE;\n",
              "      border: none;\n",
              "      border-radius: 50%;\n",
              "      cursor: pointer;\n",
              "      display: none;\n",
              "      fill: #1967D2;\n",
              "      height: 32px;\n",
              "      padding: 0 0 0 0;\n",
              "      width: 32px;\n",
              "    }\n",
              "\n",
              "    .colab-df-convert:hover {\n",
              "      background-color: #E2EBFA;\n",
              "      box-shadow: 0px 1px 2px rgba(60, 64, 67, 0.3), 0px 1px 3px 1px rgba(60, 64, 67, 0.15);\n",
              "      fill: #174EA6;\n",
              "    }\n",
              "\n",
              "    [theme=dark] .colab-df-convert {\n",
              "      background-color: #3B4455;\n",
              "      fill: #D2E3FC;\n",
              "    }\n",
              "\n",
              "    [theme=dark] .colab-df-convert:hover {\n",
              "      background-color: #434B5C;\n",
              "      box-shadow: 0px 1px 3px 1px rgba(0, 0, 0, 0.15);\n",
              "      filter: drop-shadow(0px 1px 2px rgba(0, 0, 0, 0.3));\n",
              "      fill: #FFFFFF;\n",
              "    }\n",
              "  </style>\n",
              "\n",
              "      <script>\n",
              "        const buttonEl =\n",
              "          document.querySelector('#df-52300f89-de00-4957-b6ce-747819899754 button.colab-df-convert');\n",
              "        buttonEl.style.display =\n",
              "          google.colab.kernel.accessAllowed ? 'block' : 'none';\n",
              "\n",
              "        async function convertToInteractive(key) {\n",
              "          const element = document.querySelector('#df-52300f89-de00-4957-b6ce-747819899754');\n",
              "          const dataTable =\n",
              "            await google.colab.kernel.invokeFunction('convertToInteractive',\n",
              "                                                     [key], {});\n",
              "          if (!dataTable) return;\n",
              "\n",
              "          const docLinkHtml = 'Like what you see? Visit the ' +\n",
              "            '<a target=\"_blank\" href=https://colab.research.google.com/notebooks/data_table.ipynb>data table notebook</a>'\n",
              "            + ' to learn more about interactive tables.';\n",
              "          element.innerHTML = '';\n",
              "          dataTable['output_type'] = 'display_data';\n",
              "          await google.colab.output.renderOutput(dataTable, element);\n",
              "          const docLink = document.createElement('div');\n",
              "          docLink.innerHTML = docLinkHtml;\n",
              "          element.appendChild(docLink);\n",
              "        }\n",
              "      </script>\n",
              "    </div>\n",
              "  </div>\n",
              "  "
            ]
          },
          "metadata": {},
          "execution_count": 30
        }
      ],
      "source": [
        "df=pd.read_excel('http://bit.ly/spreadsheet_xlsx')\n",
        "df"
      ]
    },
    {
      "cell_type": "markdown",
      "metadata": {
        "cell_id": "00060-a55db9c7-27b6-41fe-ba0e-e41a1e68892e",
        "deepnote_cell_type": "markdown",
        "id": "QM4z4MoXpjLj"
      },
      "source": [
        "To make a downloadable link for any spread sheet in Google Drive, follow the sequence:\n",
        "```\n",
        "File → Publish to the web...→ Entire Document → Web page → Microsoft excel (xlsx)\n",
        "```\n",
        "as illustrated in the figure:\n",
        "![GS](https://github.com/restrepo/data-analysis/blob/master/img/img1.png?raw=1)"
      ]
    },
    {
      "cell_type": "code",
      "execution_count": 31,
      "metadata": {
        "cell_id": "00061-11ece2bc-94b9-4f70-b2cf-b55cd69a4f87",
        "colab": {
          "base_uri": "https://localhost:8080/",
          "height": 112
        },
        "deepnote_cell_type": "code",
        "id": "29uXQfWjpx66",
        "outputId": "e4be3ae4-6fb3-4f75-bc62-426598221cb8"
      },
      "outputs": [
        {
          "output_type": "execute_result",
          "data": {
            "text/plain": [
              "               Nombre  Edad                Compañia\n",
              "0         Juan Valdez  32.0        Café de Colombia\n",
              "1  Álvaro Uribe Vélez  65.0  Senado de la República"
            ],
            "text/html": [
              "\n",
              "  <div id=\"df-e10f715a-97ec-4fb0-b741-131c87c06697\">\n",
              "    <div class=\"colab-df-container\">\n",
              "      <div>\n",
              "<style scoped>\n",
              "    .dataframe tbody tr th:only-of-type {\n",
              "        vertical-align: middle;\n",
              "    }\n",
              "\n",
              "    .dataframe tbody tr th {\n",
              "        vertical-align: top;\n",
              "    }\n",
              "\n",
              "    .dataframe thead th {\n",
              "        text-align: right;\n",
              "    }\n",
              "</style>\n",
              "<table border=\"1\" class=\"dataframe\">\n",
              "  <thead>\n",
              "    <tr style=\"text-align: right;\">\n",
              "      <th></th>\n",
              "      <th>Nombre</th>\n",
              "      <th>Edad</th>\n",
              "      <th>Compañia</th>\n",
              "    </tr>\n",
              "  </thead>\n",
              "  <tbody>\n",
              "    <tr>\n",
              "      <th>0</th>\n",
              "      <td>Juan Valdez</td>\n",
              "      <td>32.0</td>\n",
              "      <td>Café de Colombia</td>\n",
              "    </tr>\n",
              "    <tr>\n",
              "      <th>1</th>\n",
              "      <td>Álvaro Uribe Vélez</td>\n",
              "      <td>65.0</td>\n",
              "      <td>Senado de la República</td>\n",
              "    </tr>\n",
              "  </tbody>\n",
              "</table>\n",
              "</div>\n",
              "      <button class=\"colab-df-convert\" onclick=\"convertToInteractive('df-e10f715a-97ec-4fb0-b741-131c87c06697')\"\n",
              "              title=\"Convert this dataframe to an interactive table.\"\n",
              "              style=\"display:none;\">\n",
              "        \n",
              "  <svg xmlns=\"http://www.w3.org/2000/svg\" height=\"24px\"viewBox=\"0 0 24 24\"\n",
              "       width=\"24px\">\n",
              "    <path d=\"M0 0h24v24H0V0z\" fill=\"none\"/>\n",
              "    <path d=\"M18.56 5.44l.94 2.06.94-2.06 2.06-.94-2.06-.94-.94-2.06-.94 2.06-2.06.94zm-11 1L8.5 8.5l.94-2.06 2.06-.94-2.06-.94L8.5 2.5l-.94 2.06-2.06.94zm10 10l.94 2.06.94-2.06 2.06-.94-2.06-.94-.94-2.06-.94 2.06-2.06.94z\"/><path d=\"M17.41 7.96l-1.37-1.37c-.4-.4-.92-.59-1.43-.59-.52 0-1.04.2-1.43.59L10.3 9.45l-7.72 7.72c-.78.78-.78 2.05 0 2.83L4 21.41c.39.39.9.59 1.41.59.51 0 1.02-.2 1.41-.59l7.78-7.78 2.81-2.81c.8-.78.8-2.07 0-2.86zM5.41 20L4 18.59l7.72-7.72 1.47 1.35L5.41 20z\"/>\n",
              "  </svg>\n",
              "      </button>\n",
              "      \n",
              "  <style>\n",
              "    .colab-df-container {\n",
              "      display:flex;\n",
              "      flex-wrap:wrap;\n",
              "      gap: 12px;\n",
              "    }\n",
              "\n",
              "    .colab-df-convert {\n",
              "      background-color: #E8F0FE;\n",
              "      border: none;\n",
              "      border-radius: 50%;\n",
              "      cursor: pointer;\n",
              "      display: none;\n",
              "      fill: #1967D2;\n",
              "      height: 32px;\n",
              "      padding: 0 0 0 0;\n",
              "      width: 32px;\n",
              "    }\n",
              "\n",
              "    .colab-df-convert:hover {\n",
              "      background-color: #E2EBFA;\n",
              "      box-shadow: 0px 1px 2px rgba(60, 64, 67, 0.3), 0px 1px 3px 1px rgba(60, 64, 67, 0.15);\n",
              "      fill: #174EA6;\n",
              "    }\n",
              "\n",
              "    [theme=dark] .colab-df-convert {\n",
              "      background-color: #3B4455;\n",
              "      fill: #D2E3FC;\n",
              "    }\n",
              "\n",
              "    [theme=dark] .colab-df-convert:hover {\n",
              "      background-color: #434B5C;\n",
              "      box-shadow: 0px 1px 3px 1px rgba(0, 0, 0, 0.15);\n",
              "      filter: drop-shadow(0px 1px 2px rgba(0, 0, 0, 0.3));\n",
              "      fill: #FFFFFF;\n",
              "    }\n",
              "  </style>\n",
              "\n",
              "      <script>\n",
              "        const buttonEl =\n",
              "          document.querySelector('#df-e10f715a-97ec-4fb0-b741-131c87c06697 button.colab-df-convert');\n",
              "        buttonEl.style.display =\n",
              "          google.colab.kernel.accessAllowed ? 'block' : 'none';\n",
              "\n",
              "        async function convertToInteractive(key) {\n",
              "          const element = document.querySelector('#df-e10f715a-97ec-4fb0-b741-131c87c06697');\n",
              "          const dataTable =\n",
              "            await google.colab.kernel.invokeFunction('convertToInteractive',\n",
              "                                                     [key], {});\n",
              "          if (!dataTable) return;\n",
              "\n",
              "          const docLinkHtml = 'Like what you see? Visit the ' +\n",
              "            '<a target=\"_blank\" href=https://colab.research.google.com/notebooks/data_table.ipynb>data table notebook</a>'\n",
              "            + ' to learn more about interactive tables.';\n",
              "          element.innerHTML = '';\n",
              "          dataTable['output_type'] = 'display_data';\n",
              "          await google.colab.output.renderOutput(dataTable, element);\n",
              "          const docLink = document.createElement('div');\n",
              "          docLink.innerHTML = docLinkHtml;\n",
              "          element.appendChild(docLink);\n",
              "        }\n",
              "      </script>\n",
              "    </div>\n",
              "  </div>\n",
              "  "
            ]
          },
          "metadata": {},
          "execution_count": 31
        }
      ],
      "source": [
        "df.loc[0,'Edad']=32\n",
        "#df.at[0,'Edad']=32\n",
        "df"
      ]
    },
    {
      "cell_type": "markdown",
      "metadata": {
        "cell_id": "00062-5be08fd6-94b8-4c55-b9f1-03c2ea1cef7b",
        "deepnote_cell_type": "markdown",
        "id": "eeZzLpDUpqbS"
      },
      "source": [
        "*After* some modification"
      ]
    },
    {
      "cell_type": "markdown",
      "metadata": {
        "cell_id": "00063-80bd419a-5bb8-42f6-9cf7-7a9508e7ef58",
        "deepnote_cell_type": "markdown",
        "id": "TRjW0Y4Rpv-i"
      },
      "source": [
        "it can be saved again as an `excel file` with the option to not create a column of indices: `index=False`"
      ]
    },
    {
      "cell_type": "markdown",
      "metadata": {
        "cell_id": "00064-5998e0ac-609c-4fba-b96e-53d70aef8ec5",
        "deepnote_cell_type": "markdown",
        "id": "QZUHeScjp6cC"
      },
      "source": [
        "### Intialization from lists and dictionaries"
      ]
    },
    {
      "cell_type": "markdown",
      "metadata": {
        "cell_id": "00065-e142101b-9b27-4ff5-a1c9-c0cdeab5cdb5",
        "deepnote_cell_type": "markdown",
        "id": "5ulKgKBRxE1m"
      },
      "source": [
        "#### Inizialization from Series\n",
        "We start with an empty `DataFrame`:"
      ]
    },
    {
      "cell_type": "markdown",
      "metadata": {
        "cell_id": "00066-77afb247-50a8-4b43-aabb-eb64da7d31e8",
        "deepnote_cell_type": "markdown",
        "id": "J-F92xHmp8v7"
      },
      "source": [
        "Creating Pandas DataFrame from list and dictionaries [offers many alternatives](http://pbpython.com/pandas-list-dict.html)\n",
        "\n",
        "![creating dataframes](http://pbpython.com/images/pandas-dataframe-shadow.png)\n",
        "\n",
        "#### Row oriented way\n",
        "* In addition to the dictionary of lists [already illustrated at the beginning]() that in this case corresponds to:"
      ]
    },
    {
      "cell_type": "code",
      "execution_count": 32,
      "metadata": {
        "cell_id": "00067-617526f9-d3a8-459c-8227-c831c7d13ef6",
        "colab": {
          "base_uri": "https://localhost:8080/",
          "height": 112
        },
        "deepnote_cell_type": "code",
        "id": "7IOuJCeMqBRj",
        "outputId": "ffc461d2-2dd6-4ad9-9122-46d593a43fbd"
      },
      "outputs": [
        {
          "output_type": "execute_result",
          "data": {
            "text/plain": [
              "               Nombre  Edad                Compañia\n",
              "0         Juan Valdez    32        Café de Colombia\n",
              "1  Álvaro Uribe Vélez    69  Senado de la República"
            ],
            "text/html": [
              "\n",
              "  <div id=\"df-78c26363-a42e-441c-b4ad-dfac9dd7dd11\">\n",
              "    <div class=\"colab-df-container\">\n",
              "      <div>\n",
              "<style scoped>\n",
              "    .dataframe tbody tr th:only-of-type {\n",
              "        vertical-align: middle;\n",
              "    }\n",
              "\n",
              "    .dataframe tbody tr th {\n",
              "        vertical-align: top;\n",
              "    }\n",
              "\n",
              "    .dataframe thead th {\n",
              "        text-align: right;\n",
              "    }\n",
              "</style>\n",
              "<table border=\"1\" class=\"dataframe\">\n",
              "  <thead>\n",
              "    <tr style=\"text-align: right;\">\n",
              "      <th></th>\n",
              "      <th>Nombre</th>\n",
              "      <th>Edad</th>\n",
              "      <th>Compañia</th>\n",
              "    </tr>\n",
              "  </thead>\n",
              "  <tbody>\n",
              "    <tr>\n",
              "      <th>0</th>\n",
              "      <td>Juan Valdez</td>\n",
              "      <td>32</td>\n",
              "      <td>Café de Colombia</td>\n",
              "    </tr>\n",
              "    <tr>\n",
              "      <th>1</th>\n",
              "      <td>Álvaro Uribe Vélez</td>\n",
              "      <td>69</td>\n",
              "      <td>Senado de la República</td>\n",
              "    </tr>\n",
              "  </tbody>\n",
              "</table>\n",
              "</div>\n",
              "      <button class=\"colab-df-convert\" onclick=\"convertToInteractive('df-78c26363-a42e-441c-b4ad-dfac9dd7dd11')\"\n",
              "              title=\"Convert this dataframe to an interactive table.\"\n",
              "              style=\"display:none;\">\n",
              "        \n",
              "  <svg xmlns=\"http://www.w3.org/2000/svg\" height=\"24px\"viewBox=\"0 0 24 24\"\n",
              "       width=\"24px\">\n",
              "    <path d=\"M0 0h24v24H0V0z\" fill=\"none\"/>\n",
              "    <path d=\"M18.56 5.44l.94 2.06.94-2.06 2.06-.94-2.06-.94-.94-2.06-.94 2.06-2.06.94zm-11 1L8.5 8.5l.94-2.06 2.06-.94-2.06-.94L8.5 2.5l-.94 2.06-2.06.94zm10 10l.94 2.06.94-2.06 2.06-.94-2.06-.94-.94-2.06-.94 2.06-2.06.94z\"/><path d=\"M17.41 7.96l-1.37-1.37c-.4-.4-.92-.59-1.43-.59-.52 0-1.04.2-1.43.59L10.3 9.45l-7.72 7.72c-.78.78-.78 2.05 0 2.83L4 21.41c.39.39.9.59 1.41.59.51 0 1.02-.2 1.41-.59l7.78-7.78 2.81-2.81c.8-.78.8-2.07 0-2.86zM5.41 20L4 18.59l7.72-7.72 1.47 1.35L5.41 20z\"/>\n",
              "  </svg>\n",
              "      </button>\n",
              "      \n",
              "  <style>\n",
              "    .colab-df-container {\n",
              "      display:flex;\n",
              "      flex-wrap:wrap;\n",
              "      gap: 12px;\n",
              "    }\n",
              "\n",
              "    .colab-df-convert {\n",
              "      background-color: #E8F0FE;\n",
              "      border: none;\n",
              "      border-radius: 50%;\n",
              "      cursor: pointer;\n",
              "      display: none;\n",
              "      fill: #1967D2;\n",
              "      height: 32px;\n",
              "      padding: 0 0 0 0;\n",
              "      width: 32px;\n",
              "    }\n",
              "\n",
              "    .colab-df-convert:hover {\n",
              "      background-color: #E2EBFA;\n",
              "      box-shadow: 0px 1px 2px rgba(60, 64, 67, 0.3), 0px 1px 3px 1px rgba(60, 64, 67, 0.15);\n",
              "      fill: #174EA6;\n",
              "    }\n",
              "\n",
              "    [theme=dark] .colab-df-convert {\n",
              "      background-color: #3B4455;\n",
              "      fill: #D2E3FC;\n",
              "    }\n",
              "\n",
              "    [theme=dark] .colab-df-convert:hover {\n",
              "      background-color: #434B5C;\n",
              "      box-shadow: 0px 1px 3px 1px rgba(0, 0, 0, 0.15);\n",
              "      filter: drop-shadow(0px 1px 2px rgba(0, 0, 0, 0.3));\n",
              "      fill: #FFFFFF;\n",
              "    }\n",
              "  </style>\n",
              "\n",
              "      <script>\n",
              "        const buttonEl =\n",
              "          document.querySelector('#df-78c26363-a42e-441c-b4ad-dfac9dd7dd11 button.colab-df-convert');\n",
              "        buttonEl.style.display =\n",
              "          google.colab.kernel.accessAllowed ? 'block' : 'none';\n",
              "\n",
              "        async function convertToInteractive(key) {\n",
              "          const element = document.querySelector('#df-78c26363-a42e-441c-b4ad-dfac9dd7dd11');\n",
              "          const dataTable =\n",
              "            await google.colab.kernel.invokeFunction('convertToInteractive',\n",
              "                                                     [key], {});\n",
              "          if (!dataTable) return;\n",
              "\n",
              "          const docLinkHtml = 'Like what you see? Visit the ' +\n",
              "            '<a target=\"_blank\" href=https://colab.research.google.com/notebooks/data_table.ipynb>data table notebook</a>'\n",
              "            + ' to learn more about interactive tables.';\n",
              "          element.innerHTML = '';\n",
              "          dataTable['output_type'] = 'display_data';\n",
              "          await google.colab.output.renderOutput(dataTable, element);\n",
              "          const docLink = document.createElement('div');\n",
              "          docLink.innerHTML = docLinkHtml;\n",
              "          element.appendChild(docLink);\n",
              "        }\n",
              "      </script>\n",
              "    </div>\n",
              "  </div>\n",
              "  "
            ]
          },
          "metadata": {},
          "execution_count": 32
        }
      ],
      "source": [
        "pd.DataFrame({'Nombre'   : ['Juan Valdez','Álvaro Uribe Vélez'],\n",
        "              'Edad'     : [32,            69                 ],\n",
        "              'Compañia' : ['Café de Colombia','Senado de la República']})"
      ]
    },
    {
      "cell_type": "markdown",
      "metadata": {
        "cell_id": "00068-f8c10978-b48d-44bd-8207-4330ae7f2280",
        "deepnote_cell_type": "markdown",
        "id": "nJLhj4G4qJZb"
      },
      "source": [
        "* We can obtain the DataFrame from list of items"
      ]
    },
    {
      "cell_type": "code",
      "execution_count": 33,
      "metadata": {
        "cell_id": "00069-48e62ebe-c8f3-48e5-9487-20975fa1cff7",
        "deepnote_cell_type": "code",
        "id": "p755U93VqKLC",
        "colab": {
          "base_uri": "https://localhost:8080/",
          "height": 200
        },
        "outputId": "b28f2b33-b7cd-4b6e-8f32-ace7eb97ab4d"
      },
      "outputs": [
        {
          "output_type": "error",
          "ename": "AttributeError",
          "evalue": "ignored",
          "traceback": [
            "\u001b[0;31m---------------------------------------------------------------------------\u001b[0m",
            "\u001b[0;31mAttributeError\u001b[0m                            Traceback (most recent call last)",
            "\u001b[0;32m<ipython-input-33-20afcb4a886b>\u001b[0m in \u001b[0;36m<module>\u001b[0;34m()\u001b[0m\n\u001b[0;32m----> 1\u001b[0;31m pd.DataFrame.from_items([ [ 'Nombre'  , ['Juan Valdez','Álvaro Uribe Vélez']],\n\u001b[0m\u001b[1;32m      2\u001b[0m                           \u001b[0;34m[\u001b[0m \u001b[0;34m'Edad'\u001b[0m    \u001b[0;34m,\u001b[0m \u001b[0;34m[\u001b[0m  \u001b[0;36m32\u001b[0m\u001b[0;34m,\u001b[0m            \u001b[0;36m65\u001b[0m               \u001b[0;34m]\u001b[0m\u001b[0;34m]\u001b[0m\u001b[0;34m,\u001b[0m\u001b[0;34m\u001b[0m\u001b[0;34m\u001b[0m\u001b[0m\n\u001b[1;32m      3\u001b[0m                           [ 'Compañia', ['Café de Colombia','Senado de la República']] ])\n",
            "\u001b[0;31mAttributeError\u001b[0m: type object 'DataFrame' has no attribute 'from_items'"
          ]
        }
      ],
      "source": [
        "pd.DataFrame.from_items([ [ 'Nombre'  , ['Juan Valdez','Álvaro Uribe Vélez']],\n",
        "                          [ 'Edad'    , [  32,            65               ]],\n",
        "                          [ 'Compañia', ['Café de Colombia','Senado de la República']] ])"
      ]
    },
    {
      "cell_type": "markdown",
      "metadata": {
        "cell_id": "00070-3da42af6-028d-4bd9-a93b-3b8266c62501",
        "deepnote_cell_type": "markdown",
        "id": "J6tp94TlqO_S"
      },
      "source": [
        "* We can obtain the `DataFrame` from dictionary"
      ]
    },
    {
      "cell_type": "code",
      "execution_count": 37,
      "metadata": {
        "cell_id": "00071-6f90ed3f-241c-497b-ac6d-da067e409361",
        "colab": {
          "base_uri": "https://localhost:8080/",
          "height": 112
        },
        "deepnote_cell_type": "code",
        "id": "wx-JJgqIqQAD",
        "outputId": "48e8fed5-f23a-4799-8c20-874c07866ed8"
      },
      "outputs": [
        {
          "output_type": "execute_result",
          "data": {
            "text/plain": [
              "               Nombre  Edad                Compañia\n",
              "0         Juan Valdez    32        Café de Colombia\n",
              "1  Álvaro Uribe Vélez    65  Senado de la República"
            ],
            "text/html": [
              "\n",
              "  <div id=\"df-5c0d5149-af38-48d1-aa04-d8e6785e28ba\">\n",
              "    <div class=\"colab-df-container\">\n",
              "      <div>\n",
              "<style scoped>\n",
              "    .dataframe tbody tr th:only-of-type {\n",
              "        vertical-align: middle;\n",
              "    }\n",
              "\n",
              "    .dataframe tbody tr th {\n",
              "        vertical-align: top;\n",
              "    }\n",
              "\n",
              "    .dataframe thead th {\n",
              "        text-align: right;\n",
              "    }\n",
              "</style>\n",
              "<table border=\"1\" class=\"dataframe\">\n",
              "  <thead>\n",
              "    <tr style=\"text-align: right;\">\n",
              "      <th></th>\n",
              "      <th>Nombre</th>\n",
              "      <th>Edad</th>\n",
              "      <th>Compañia</th>\n",
              "    </tr>\n",
              "  </thead>\n",
              "  <tbody>\n",
              "    <tr>\n",
              "      <th>0</th>\n",
              "      <td>Juan Valdez</td>\n",
              "      <td>32</td>\n",
              "      <td>Café de Colombia</td>\n",
              "    </tr>\n",
              "    <tr>\n",
              "      <th>1</th>\n",
              "      <td>Álvaro Uribe Vélez</td>\n",
              "      <td>65</td>\n",
              "      <td>Senado de la República</td>\n",
              "    </tr>\n",
              "  </tbody>\n",
              "</table>\n",
              "</div>\n",
              "      <button class=\"colab-df-convert\" onclick=\"convertToInteractive('df-5c0d5149-af38-48d1-aa04-d8e6785e28ba')\"\n",
              "              title=\"Convert this dataframe to an interactive table.\"\n",
              "              style=\"display:none;\">\n",
              "        \n",
              "  <svg xmlns=\"http://www.w3.org/2000/svg\" height=\"24px\"viewBox=\"0 0 24 24\"\n",
              "       width=\"24px\">\n",
              "    <path d=\"M0 0h24v24H0V0z\" fill=\"none\"/>\n",
              "    <path d=\"M18.56 5.44l.94 2.06.94-2.06 2.06-.94-2.06-.94-.94-2.06-.94 2.06-2.06.94zm-11 1L8.5 8.5l.94-2.06 2.06-.94-2.06-.94L8.5 2.5l-.94 2.06-2.06.94zm10 10l.94 2.06.94-2.06 2.06-.94-2.06-.94-.94-2.06-.94 2.06-2.06.94z\"/><path d=\"M17.41 7.96l-1.37-1.37c-.4-.4-.92-.59-1.43-.59-.52 0-1.04.2-1.43.59L10.3 9.45l-7.72 7.72c-.78.78-.78 2.05 0 2.83L4 21.41c.39.39.9.59 1.41.59.51 0 1.02-.2 1.41-.59l7.78-7.78 2.81-2.81c.8-.78.8-2.07 0-2.86zM5.41 20L4 18.59l7.72-7.72 1.47 1.35L5.41 20z\"/>\n",
              "  </svg>\n",
              "      </button>\n",
              "      \n",
              "  <style>\n",
              "    .colab-df-container {\n",
              "      display:flex;\n",
              "      flex-wrap:wrap;\n",
              "      gap: 12px;\n",
              "    }\n",
              "\n",
              "    .colab-df-convert {\n",
              "      background-color: #E8F0FE;\n",
              "      border: none;\n",
              "      border-radius: 50%;\n",
              "      cursor: pointer;\n",
              "      display: none;\n",
              "      fill: #1967D2;\n",
              "      height: 32px;\n",
              "      padding: 0 0 0 0;\n",
              "      width: 32px;\n",
              "    }\n",
              "\n",
              "    .colab-df-convert:hover {\n",
              "      background-color: #E2EBFA;\n",
              "      box-shadow: 0px 1px 2px rgba(60, 64, 67, 0.3), 0px 1px 3px 1px rgba(60, 64, 67, 0.15);\n",
              "      fill: #174EA6;\n",
              "    }\n",
              "\n",
              "    [theme=dark] .colab-df-convert {\n",
              "      background-color: #3B4455;\n",
              "      fill: #D2E3FC;\n",
              "    }\n",
              "\n",
              "    [theme=dark] .colab-df-convert:hover {\n",
              "      background-color: #434B5C;\n",
              "      box-shadow: 0px 1px 3px 1px rgba(0, 0, 0, 0.15);\n",
              "      filter: drop-shadow(0px 1px 2px rgba(0, 0, 0, 0.3));\n",
              "      fill: #FFFFFF;\n",
              "    }\n",
              "  </style>\n",
              "\n",
              "      <script>\n",
              "        const buttonEl =\n",
              "          document.querySelector('#df-5c0d5149-af38-48d1-aa04-d8e6785e28ba button.colab-df-convert');\n",
              "        buttonEl.style.display =\n",
              "          google.colab.kernel.accessAllowed ? 'block' : 'none';\n",
              "\n",
              "        async function convertToInteractive(key) {\n",
              "          const element = document.querySelector('#df-5c0d5149-af38-48d1-aa04-d8e6785e28ba');\n",
              "          const dataTable =\n",
              "            await google.colab.kernel.invokeFunction('convertToInteractive',\n",
              "                                                     [key], {});\n",
              "          if (!dataTable) return;\n",
              "\n",
              "          const docLinkHtml = 'Like what you see? Visit the ' +\n",
              "            '<a target=\"_blank\" href=https://colab.research.google.com/notebooks/data_table.ipynb>data table notebook</a>'\n",
              "            + ' to learn more about interactive tables.';\n",
              "          element.innerHTML = '';\n",
              "          dataTable['output_type'] = 'display_data';\n",
              "          await google.colab.output.renderOutput(dataTable, element);\n",
              "          const docLink = document.createElement('div');\n",
              "          docLink.innerHTML = docLinkHtml;\n",
              "          element.appendChild(docLink);\n",
              "        }\n",
              "      </script>\n",
              "    </div>\n",
              "  </div>\n",
              "  "
            ]
          },
          "metadata": {},
          "execution_count": 37
        }
      ],
      "source": [
        "pd.DataFrame( [{'Nombre':'Juan Valdez',        'Edad': 32   ,'Compañia':'Café de Colombia'      },\n",
        "              {'Nombre':'Álvaro Uribe Vélez', 'Edad': 65   ,'Compañia':'Senado de la República'}]\n",
        "            )"
      ]
    },
    {
      "cell_type": "code",
      "execution_count": 38,
      "metadata": {
        "cell_id": "00072-5dca2e57-28d1-4dee-8a8a-d451188f3084",
        "deepnote_cell_type": "code",
        "id": "jPsRspsXxE1n",
        "outputId": "31cc695c-cfb8-4cee-9fc5-42d5e79f0af5",
        "colab": {
          "base_uri": "https://localhost:8080/",
          "height": 49
        }
      },
      "outputs": [
        {
          "output_type": "execute_result",
          "data": {
            "text/plain": [
              "Empty DataFrame\n",
              "Columns: []\n",
              "Index: []"
            ],
            "text/html": [
              "\n",
              "  <div id=\"df-a044ad05-b890-4c1e-81f5-368181a9f30b\">\n",
              "    <div class=\"colab-df-container\">\n",
              "      <div>\n",
              "<style scoped>\n",
              "    .dataframe tbody tr th:only-of-type {\n",
              "        vertical-align: middle;\n",
              "    }\n",
              "\n",
              "    .dataframe tbody tr th {\n",
              "        vertical-align: top;\n",
              "    }\n",
              "\n",
              "    .dataframe thead th {\n",
              "        text-align: right;\n",
              "    }\n",
              "</style>\n",
              "<table border=\"1\" class=\"dataframe\">\n",
              "  <thead>\n",
              "    <tr style=\"text-align: right;\">\n",
              "      <th></th>\n",
              "    </tr>\n",
              "  </thead>\n",
              "  <tbody>\n",
              "  </tbody>\n",
              "</table>\n",
              "</div>\n",
              "      <button class=\"colab-df-convert\" onclick=\"convertToInteractive('df-a044ad05-b890-4c1e-81f5-368181a9f30b')\"\n",
              "              title=\"Convert this dataframe to an interactive table.\"\n",
              "              style=\"display:none;\">\n",
              "        \n",
              "  <svg xmlns=\"http://www.w3.org/2000/svg\" height=\"24px\"viewBox=\"0 0 24 24\"\n",
              "       width=\"24px\">\n",
              "    <path d=\"M0 0h24v24H0V0z\" fill=\"none\"/>\n",
              "    <path d=\"M18.56 5.44l.94 2.06.94-2.06 2.06-.94-2.06-.94-.94-2.06-.94 2.06-2.06.94zm-11 1L8.5 8.5l.94-2.06 2.06-.94-2.06-.94L8.5 2.5l-.94 2.06-2.06.94zm10 10l.94 2.06.94-2.06 2.06-.94-2.06-.94-.94-2.06-.94 2.06-2.06.94z\"/><path d=\"M17.41 7.96l-1.37-1.37c-.4-.4-.92-.59-1.43-.59-.52 0-1.04.2-1.43.59L10.3 9.45l-7.72 7.72c-.78.78-.78 2.05 0 2.83L4 21.41c.39.39.9.59 1.41.59.51 0 1.02-.2 1.41-.59l7.78-7.78 2.81-2.81c.8-.78.8-2.07 0-2.86zM5.41 20L4 18.59l7.72-7.72 1.47 1.35L5.41 20z\"/>\n",
              "  </svg>\n",
              "      </button>\n",
              "      \n",
              "  <style>\n",
              "    .colab-df-container {\n",
              "      display:flex;\n",
              "      flex-wrap:wrap;\n",
              "      gap: 12px;\n",
              "    }\n",
              "\n",
              "    .colab-df-convert {\n",
              "      background-color: #E8F0FE;\n",
              "      border: none;\n",
              "      border-radius: 50%;\n",
              "      cursor: pointer;\n",
              "      display: none;\n",
              "      fill: #1967D2;\n",
              "      height: 32px;\n",
              "      padding: 0 0 0 0;\n",
              "      width: 32px;\n",
              "    }\n",
              "\n",
              "    .colab-df-convert:hover {\n",
              "      background-color: #E2EBFA;\n",
              "      box-shadow: 0px 1px 2px rgba(60, 64, 67, 0.3), 0px 1px 3px 1px rgba(60, 64, 67, 0.15);\n",
              "      fill: #174EA6;\n",
              "    }\n",
              "\n",
              "    [theme=dark] .colab-df-convert {\n",
              "      background-color: #3B4455;\n",
              "      fill: #D2E3FC;\n",
              "    }\n",
              "\n",
              "    [theme=dark] .colab-df-convert:hover {\n",
              "      background-color: #434B5C;\n",
              "      box-shadow: 0px 1px 3px 1px rgba(0, 0, 0, 0.15);\n",
              "      filter: drop-shadow(0px 1px 2px rgba(0, 0, 0, 0.3));\n",
              "      fill: #FFFFFF;\n",
              "    }\n",
              "  </style>\n",
              "\n",
              "      <script>\n",
              "        const buttonEl =\n",
              "          document.querySelector('#df-a044ad05-b890-4c1e-81f5-368181a9f30b button.colab-df-convert');\n",
              "        buttonEl.style.display =\n",
              "          google.colab.kernel.accessAllowed ? 'block' : 'none';\n",
              "\n",
              "        async function convertToInteractive(key) {\n",
              "          const element = document.querySelector('#df-a044ad05-b890-4c1e-81f5-368181a9f30b');\n",
              "          const dataTable =\n",
              "            await google.colab.kernel.invokeFunction('convertToInteractive',\n",
              "                                                     [key], {});\n",
              "          if (!dataTable) return;\n",
              "\n",
              "          const docLinkHtml = 'Like what you see? Visit the ' +\n",
              "            '<a target=\"_blank\" href=https://colab.research.google.com/notebooks/data_table.ipynb>data table notebook</a>'\n",
              "            + ' to learn more about interactive tables.';\n",
              "          element.innerHTML = '';\n",
              "          dataTable['output_type'] = 'display_data';\n",
              "          await google.colab.output.renderOutput(dataTable, element);\n",
              "          const docLink = document.createElement('div');\n",
              "          docLink.innerHTML = docLinkHtml;\n",
              "          element.appendChild(docLink);\n",
              "        }\n",
              "      </script>\n",
              "    </div>\n",
              "  </div>\n",
              "  "
            ]
          },
          "metadata": {},
          "execution_count": 38
        }
      ],
      "source": [
        "df=pd.DataFrame()\n",
        "df\n"
      ]
    },
    {
      "cell_type": "markdown",
      "metadata": {
        "cell_id": "00073-0702057c-6782-455f-8481-441f2132c1b1",
        "deepnote_cell_type": "markdown",
        "id": "_ylhD2zjqdby"
      },
      "source": [
        "### Initialization from sequential rows as  Series\n",
        "We start with an empty `DataFrame`:"
      ]
    },
    {
      "cell_type": "code",
      "execution_count": 41,
      "metadata": {
        "cell_id": "00074-7ee7b66f-0813-4412-bf3d-2a26f5804cf6",
        "colab": {
          "base_uri": "https://localhost:8080/"
        },
        "deepnote_cell_type": "code",
        "id": "r6V0qilXqxBB",
        "outputId": "ca695dac-cbd4-4bed-b1ee-c689c477d189"
      },
      "outputs": [
        {
          "output_type": "execute_result",
          "data": {
            "text/plain": [
              "True"
            ]
          },
          "metadata": {},
          "execution_count": 41
        }
      ],
      "source": [
        "df=pd.DataFrame()\n",
        "df.empty"
      ]
    },
    {
      "cell_type": "markdown",
      "metadata": {
        "cell_id": "00075-51105264-c39a-4fbe-8543-f3b15fca495d",
        "deepnote_cell_type": "markdown",
        "id": "f0OJapjvxE1q"
      },
      "source": [
        "We can append a dictionary (or Series) as a row of the `DataFrame`, provided that we always use the option: `ignore_index=True`"
      ]
    },
    {
      "cell_type": "code",
      "execution_count": 42,
      "metadata": {
        "cell_id": "00076-422876c7-62e9-4f28-8ee0-a0b182cd2b02",
        "colab": {
          "base_uri": "https://localhost:8080/",
          "height": 81
        },
        "deepnote_cell_type": "code",
        "id": "AgR5uPbxrA6q",
        "outputId": "125f7cf9-1c1a-4314-8f2f-4a9cf272d396"
      },
      "outputs": [
        {
          "output_type": "execute_result",
          "data": {
            "text/plain": [
              "          Name Nacionality   Age\n",
              "0  Juan Valdez    Colombia  23.0"
            ],
            "text/html": [
              "\n",
              "  <div id=\"df-ecda3e1f-79bb-4c80-b12b-61359e027e5b\">\n",
              "    <div class=\"colab-df-container\">\n",
              "      <div>\n",
              "<style scoped>\n",
              "    .dataframe tbody tr th:only-of-type {\n",
              "        vertical-align: middle;\n",
              "    }\n",
              "\n",
              "    .dataframe tbody tr th {\n",
              "        vertical-align: top;\n",
              "    }\n",
              "\n",
              "    .dataframe thead th {\n",
              "        text-align: right;\n",
              "    }\n",
              "</style>\n",
              "<table border=\"1\" class=\"dataframe\">\n",
              "  <thead>\n",
              "    <tr style=\"text-align: right;\">\n",
              "      <th></th>\n",
              "      <th>Name</th>\n",
              "      <th>Nacionality</th>\n",
              "      <th>Age</th>\n",
              "    </tr>\n",
              "  </thead>\n",
              "  <tbody>\n",
              "    <tr>\n",
              "      <th>0</th>\n",
              "      <td>Juan Valdez</td>\n",
              "      <td>Colombia</td>\n",
              "      <td>23.0</td>\n",
              "    </tr>\n",
              "  </tbody>\n",
              "</table>\n",
              "</div>\n",
              "      <button class=\"colab-df-convert\" onclick=\"convertToInteractive('df-ecda3e1f-79bb-4c80-b12b-61359e027e5b')\"\n",
              "              title=\"Convert this dataframe to an interactive table.\"\n",
              "              style=\"display:none;\">\n",
              "        \n",
              "  <svg xmlns=\"http://www.w3.org/2000/svg\" height=\"24px\"viewBox=\"0 0 24 24\"\n",
              "       width=\"24px\">\n",
              "    <path d=\"M0 0h24v24H0V0z\" fill=\"none\"/>\n",
              "    <path d=\"M18.56 5.44l.94 2.06.94-2.06 2.06-.94-2.06-.94-.94-2.06-.94 2.06-2.06.94zm-11 1L8.5 8.5l.94-2.06 2.06-.94-2.06-.94L8.5 2.5l-.94 2.06-2.06.94zm10 10l.94 2.06.94-2.06 2.06-.94-2.06-.94-.94-2.06-.94 2.06-2.06.94z\"/><path d=\"M17.41 7.96l-1.37-1.37c-.4-.4-.92-.59-1.43-.59-.52 0-1.04.2-1.43.59L10.3 9.45l-7.72 7.72c-.78.78-.78 2.05 0 2.83L4 21.41c.39.39.9.59 1.41.59.51 0 1.02-.2 1.41-.59l7.78-7.78 2.81-2.81c.8-.78.8-2.07 0-2.86zM5.41 20L4 18.59l7.72-7.72 1.47 1.35L5.41 20z\"/>\n",
              "  </svg>\n",
              "      </button>\n",
              "      \n",
              "  <style>\n",
              "    .colab-df-container {\n",
              "      display:flex;\n",
              "      flex-wrap:wrap;\n",
              "      gap: 12px;\n",
              "    }\n",
              "\n",
              "    .colab-df-convert {\n",
              "      background-color: #E8F0FE;\n",
              "      border: none;\n",
              "      border-radius: 50%;\n",
              "      cursor: pointer;\n",
              "      display: none;\n",
              "      fill: #1967D2;\n",
              "      height: 32px;\n",
              "      padding: 0 0 0 0;\n",
              "      width: 32px;\n",
              "    }\n",
              "\n",
              "    .colab-df-convert:hover {\n",
              "      background-color: #E2EBFA;\n",
              "      box-shadow: 0px 1px 2px rgba(60, 64, 67, 0.3), 0px 1px 3px 1px rgba(60, 64, 67, 0.15);\n",
              "      fill: #174EA6;\n",
              "    }\n",
              "\n",
              "    [theme=dark] .colab-df-convert {\n",
              "      background-color: #3B4455;\n",
              "      fill: #D2E3FC;\n",
              "    }\n",
              "\n",
              "    [theme=dark] .colab-df-convert:hover {\n",
              "      background-color: #434B5C;\n",
              "      box-shadow: 0px 1px 3px 1px rgba(0, 0, 0, 0.15);\n",
              "      filter: drop-shadow(0px 1px 2px rgba(0, 0, 0, 0.3));\n",
              "      fill: #FFFFFF;\n",
              "    }\n",
              "  </style>\n",
              "\n",
              "      <script>\n",
              "        const buttonEl =\n",
              "          document.querySelector('#df-ecda3e1f-79bb-4c80-b12b-61359e027e5b button.colab-df-convert');\n",
              "        buttonEl.style.display =\n",
              "          google.colab.kernel.accessAllowed ? 'block' : 'none';\n",
              "\n",
              "        async function convertToInteractive(key) {\n",
              "          const element = document.querySelector('#df-ecda3e1f-79bb-4c80-b12b-61359e027e5b');\n",
              "          const dataTable =\n",
              "            await google.colab.kernel.invokeFunction('convertToInteractive',\n",
              "                                                     [key], {});\n",
              "          if (!dataTable) return;\n",
              "\n",
              "          const docLinkHtml = 'Like what you see? Visit the ' +\n",
              "            '<a target=\"_blank\" href=https://colab.research.google.com/notebooks/data_table.ipynb>data table notebook</a>'\n",
              "            + ' to learn more about interactive tables.';\n",
              "          element.innerHTML = '';\n",
              "          dataTable['output_type'] = 'display_data';\n",
              "          await google.colab.output.renderOutput(dataTable, element);\n",
              "          const docLink = document.createElement('div');\n",
              "          docLink.innerHTML = docLinkHtml;\n",
              "          element.appendChild(docLink);\n",
              "        }\n",
              "      </script>\n",
              "    </div>\n",
              "  </div>\n",
              "  "
            ]
          },
          "metadata": {},
          "execution_count": 42
        }
      ],
      "source": [
        "d={'Name':'Juan Valdez','Nacionality':'Colombia','Age':23}\n",
        "df=df.append(d,ignore_index=True)\n",
        "df"
      ]
    },
    {
      "cell_type": "markdown",
      "metadata": {
        "cell_id": "00077-f422375c-a5ad-46f7-b886-82ee1d38274a",
        "deepnote_cell_type": "markdown",
        "id": "32Oh_stDxE1w"
      },
      "source": [
        "We can fix the type of data of the `'Age'` column"
      ]
    },
    {
      "cell_type": "code",
      "execution_count": 43,
      "metadata": {
        "cell_id": "00078-d702437e-64eb-4fbd-aafb-649ed8015050",
        "colab": {
          "base_uri": "https://localhost:8080/"
        },
        "deepnote_cell_type": "code",
        "id": "-Jk5bSRGxE1y",
        "outputId": "2232405c-2a2a-4388-a0c5-1953c8f4176f"
      },
      "outputs": [
        {
          "output_type": "execute_result",
          "data": {
            "text/plain": [
              "numpy.float64"
            ]
          },
          "metadata": {},
          "execution_count": 43
        }
      ],
      "source": [
        "type(df.Age[0])"
      ]
    },
    {
      "cell_type": "code",
      "execution_count": 44,
      "metadata": {
        "cell_id": "00079-d433979a-54d3-44f9-9a56-068126712852",
        "colab": {
          "base_uri": "https://localhost:8080/",
          "height": 81
        },
        "deepnote_cell_type": "code",
        "id": "vl9RKEBXxE12",
        "outputId": "5787849f-9097-445b-ca0c-641c8ab147b0"
      },
      "outputs": [
        {
          "output_type": "execute_result",
          "data": {
            "text/plain": [
              "          Name Nacionality  Age\n",
              "0  Juan Valdez    Colombia   23"
            ],
            "text/html": [
              "\n",
              "  <div id=\"df-e7b9890a-eb23-4d43-97c5-b3e450264a77\">\n",
              "    <div class=\"colab-df-container\">\n",
              "      <div>\n",
              "<style scoped>\n",
              "    .dataframe tbody tr th:only-of-type {\n",
              "        vertical-align: middle;\n",
              "    }\n",
              "\n",
              "    .dataframe tbody tr th {\n",
              "        vertical-align: top;\n",
              "    }\n",
              "\n",
              "    .dataframe thead th {\n",
              "        text-align: right;\n",
              "    }\n",
              "</style>\n",
              "<table border=\"1\" class=\"dataframe\">\n",
              "  <thead>\n",
              "    <tr style=\"text-align: right;\">\n",
              "      <th></th>\n",
              "      <th>Name</th>\n",
              "      <th>Nacionality</th>\n",
              "      <th>Age</th>\n",
              "    </tr>\n",
              "  </thead>\n",
              "  <tbody>\n",
              "    <tr>\n",
              "      <th>0</th>\n",
              "      <td>Juan Valdez</td>\n",
              "      <td>Colombia</td>\n",
              "      <td>23</td>\n",
              "    </tr>\n",
              "  </tbody>\n",
              "</table>\n",
              "</div>\n",
              "      <button class=\"colab-df-convert\" onclick=\"convertToInteractive('df-e7b9890a-eb23-4d43-97c5-b3e450264a77')\"\n",
              "              title=\"Convert this dataframe to an interactive table.\"\n",
              "              style=\"display:none;\">\n",
              "        \n",
              "  <svg xmlns=\"http://www.w3.org/2000/svg\" height=\"24px\"viewBox=\"0 0 24 24\"\n",
              "       width=\"24px\">\n",
              "    <path d=\"M0 0h24v24H0V0z\" fill=\"none\"/>\n",
              "    <path d=\"M18.56 5.44l.94 2.06.94-2.06 2.06-.94-2.06-.94-.94-2.06-.94 2.06-2.06.94zm-11 1L8.5 8.5l.94-2.06 2.06-.94-2.06-.94L8.5 2.5l-.94 2.06-2.06.94zm10 10l.94 2.06.94-2.06 2.06-.94-2.06-.94-.94-2.06-.94 2.06-2.06.94z\"/><path d=\"M17.41 7.96l-1.37-1.37c-.4-.4-.92-.59-1.43-.59-.52 0-1.04.2-1.43.59L10.3 9.45l-7.72 7.72c-.78.78-.78 2.05 0 2.83L4 21.41c.39.39.9.59 1.41.59.51 0 1.02-.2 1.41-.59l7.78-7.78 2.81-2.81c.8-.78.8-2.07 0-2.86zM5.41 20L4 18.59l7.72-7.72 1.47 1.35L5.41 20z\"/>\n",
              "  </svg>\n",
              "      </button>\n",
              "      \n",
              "  <style>\n",
              "    .colab-df-container {\n",
              "      display:flex;\n",
              "      flex-wrap:wrap;\n",
              "      gap: 12px;\n",
              "    }\n",
              "\n",
              "    .colab-df-convert {\n",
              "      background-color: #E8F0FE;\n",
              "      border: none;\n",
              "      border-radius: 50%;\n",
              "      cursor: pointer;\n",
              "      display: none;\n",
              "      fill: #1967D2;\n",
              "      height: 32px;\n",
              "      padding: 0 0 0 0;\n",
              "      width: 32px;\n",
              "    }\n",
              "\n",
              "    .colab-df-convert:hover {\n",
              "      background-color: #E2EBFA;\n",
              "      box-shadow: 0px 1px 2px rgba(60, 64, 67, 0.3), 0px 1px 3px 1px rgba(60, 64, 67, 0.15);\n",
              "      fill: #174EA6;\n",
              "    }\n",
              "\n",
              "    [theme=dark] .colab-df-convert {\n",
              "      background-color: #3B4455;\n",
              "      fill: #D2E3FC;\n",
              "    }\n",
              "\n",
              "    [theme=dark] .colab-df-convert:hover {\n",
              "      background-color: #434B5C;\n",
              "      box-shadow: 0px 1px 3px 1px rgba(0, 0, 0, 0.15);\n",
              "      filter: drop-shadow(0px 1px 2px rgba(0, 0, 0, 0.3));\n",
              "      fill: #FFFFFF;\n",
              "    }\n",
              "  </style>\n",
              "\n",
              "      <script>\n",
              "        const buttonEl =\n",
              "          document.querySelector('#df-e7b9890a-eb23-4d43-97c5-b3e450264a77 button.colab-df-convert');\n",
              "        buttonEl.style.display =\n",
              "          google.colab.kernel.accessAllowed ? 'block' : 'none';\n",
              "\n",
              "        async function convertToInteractive(key) {\n",
              "          const element = document.querySelector('#df-e7b9890a-eb23-4d43-97c5-b3e450264a77');\n",
              "          const dataTable =\n",
              "            await google.colab.kernel.invokeFunction('convertToInteractive',\n",
              "                                                     [key], {});\n",
              "          if (!dataTable) return;\n",
              "\n",
              "          const docLinkHtml = 'Like what you see? Visit the ' +\n",
              "            '<a target=\"_blank\" href=https://colab.research.google.com/notebooks/data_table.ipynb>data table notebook</a>'\n",
              "            + ' to learn more about interactive tables.';\n",
              "          element.innerHTML = '';\n",
              "          dataTable['output_type'] = 'display_data';\n",
              "          await google.colab.output.renderOutput(dataTable, element);\n",
              "          const docLink = document.createElement('div');\n",
              "          docLink.innerHTML = docLinkHtml;\n",
              "          element.appendChild(docLink);\n",
              "        }\n",
              "      </script>\n",
              "    </div>\n",
              "  </div>\n",
              "  "
            ]
          },
          "metadata": {},
          "execution_count": 44
        }
      ],
      "source": [
        "df['Age']=df.Age.astype(int)\n",
        "df"
      ]
    },
    {
      "cell_type": "markdown",
      "metadata": {
        "cell_id": "00080-d1b64085-e8ea-45d1-ac27-443875bd044b",
        "deepnote_cell_type": "markdown",
        "id": "npH4wLrNxE17"
      },
      "source": [
        "To add a second file we build another `dict`"
      ]
    },
    {
      "cell_type": "code",
      "execution_count": 45,
      "metadata": {
        "cell_id": "00081-3c0893fe-aed8-4d42-8f05-5ce9bee9418f",
        "colab": {
          "base_uri": "https://localhost:8080/"
        },
        "deepnote_cell_type": "code",
        "id": "nTwRmub3xE18",
        "outputId": "72f6d66d-1202-4194-bb17-54886afdb8e6"
      },
      "outputs": [
        {
          "name": "stdout",
          "output_type": "stream",
          "text": [
            "Name:\n",
            "santiago\n",
            "Nacionality:\n",
            "colombia\n",
            "Age:\n",
            "19\n",
            "Company:\n",
            "UdeA\n"
          ]
        }
      ],
      "source": [
        "d={}\n",
        "for k in ['Name','Nacionality','Age','Company']:\n",
        "    var=input('{}:\\n'.format(k))\n",
        "    d[k]=var"
      ]
    },
    {
      "cell_type": "code",
      "execution_count": 46,
      "metadata": {
        "id": "5dImASxvCnFG",
        "outputId": "fd48ddbd-d1c7-465a-ae02-788f248b57e8",
        "colab": {
          "base_uri": "https://localhost:8080/"
        }
      },
      "outputs": [
        {
          "output_type": "execute_result",
          "data": {
            "text/plain": [
              "{'Age': '19', 'Company': 'UdeA', 'Nacionality': 'colombia', 'Name': 'santiago'}"
            ]
          },
          "metadata": {},
          "execution_count": 46
        }
      ],
      "source": [
        "d"
      ]
    },
    {
      "cell_type": "code",
      "execution_count": 47,
      "metadata": {
        "id": "NXaDwPahCnFH",
        "outputId": "6990db93-6af4-48d2-9eb7-938c4b01f264",
        "colab": {
          "base_uri": "https://localhost:8080/",
          "height": 112
        }
      },
      "outputs": [
        {
          "output_type": "execute_result",
          "data": {
            "text/plain": [
              "          Name Nacionality Age Company\n",
              "0  Juan Valdez    Colombia  23     NaN\n",
              "1     santiago    colombia  19    UdeA"
            ],
            "text/html": [
              "\n",
              "  <div id=\"df-518e94a5-1ba0-465f-83eb-574bbee045dc\">\n",
              "    <div class=\"colab-df-container\">\n",
              "      <div>\n",
              "<style scoped>\n",
              "    .dataframe tbody tr th:only-of-type {\n",
              "        vertical-align: middle;\n",
              "    }\n",
              "\n",
              "    .dataframe tbody tr th {\n",
              "        vertical-align: top;\n",
              "    }\n",
              "\n",
              "    .dataframe thead th {\n",
              "        text-align: right;\n",
              "    }\n",
              "</style>\n",
              "<table border=\"1\" class=\"dataframe\">\n",
              "  <thead>\n",
              "    <tr style=\"text-align: right;\">\n",
              "      <th></th>\n",
              "      <th>Name</th>\n",
              "      <th>Nacionality</th>\n",
              "      <th>Age</th>\n",
              "      <th>Company</th>\n",
              "    </tr>\n",
              "  </thead>\n",
              "  <tbody>\n",
              "    <tr>\n",
              "      <th>0</th>\n",
              "      <td>Juan Valdez</td>\n",
              "      <td>Colombia</td>\n",
              "      <td>23</td>\n",
              "      <td>NaN</td>\n",
              "    </tr>\n",
              "    <tr>\n",
              "      <th>1</th>\n",
              "      <td>santiago</td>\n",
              "      <td>colombia</td>\n",
              "      <td>19</td>\n",
              "      <td>UdeA</td>\n",
              "    </tr>\n",
              "  </tbody>\n",
              "</table>\n",
              "</div>\n",
              "      <button class=\"colab-df-convert\" onclick=\"convertToInteractive('df-518e94a5-1ba0-465f-83eb-574bbee045dc')\"\n",
              "              title=\"Convert this dataframe to an interactive table.\"\n",
              "              style=\"display:none;\">\n",
              "        \n",
              "  <svg xmlns=\"http://www.w3.org/2000/svg\" height=\"24px\"viewBox=\"0 0 24 24\"\n",
              "       width=\"24px\">\n",
              "    <path d=\"M0 0h24v24H0V0z\" fill=\"none\"/>\n",
              "    <path d=\"M18.56 5.44l.94 2.06.94-2.06 2.06-.94-2.06-.94-.94-2.06-.94 2.06-2.06.94zm-11 1L8.5 8.5l.94-2.06 2.06-.94-2.06-.94L8.5 2.5l-.94 2.06-2.06.94zm10 10l.94 2.06.94-2.06 2.06-.94-2.06-.94-.94-2.06-.94 2.06-2.06.94z\"/><path d=\"M17.41 7.96l-1.37-1.37c-.4-.4-.92-.59-1.43-.59-.52 0-1.04.2-1.43.59L10.3 9.45l-7.72 7.72c-.78.78-.78 2.05 0 2.83L4 21.41c.39.39.9.59 1.41.59.51 0 1.02-.2 1.41-.59l7.78-7.78 2.81-2.81c.8-.78.8-2.07 0-2.86zM5.41 20L4 18.59l7.72-7.72 1.47 1.35L5.41 20z\"/>\n",
              "  </svg>\n",
              "      </button>\n",
              "      \n",
              "  <style>\n",
              "    .colab-df-container {\n",
              "      display:flex;\n",
              "      flex-wrap:wrap;\n",
              "      gap: 12px;\n",
              "    }\n",
              "\n",
              "    .colab-df-convert {\n",
              "      background-color: #E8F0FE;\n",
              "      border: none;\n",
              "      border-radius: 50%;\n",
              "      cursor: pointer;\n",
              "      display: none;\n",
              "      fill: #1967D2;\n",
              "      height: 32px;\n",
              "      padding: 0 0 0 0;\n",
              "      width: 32px;\n",
              "    }\n",
              "\n",
              "    .colab-df-convert:hover {\n",
              "      background-color: #E2EBFA;\n",
              "      box-shadow: 0px 1px 2px rgba(60, 64, 67, 0.3), 0px 1px 3px 1px rgba(60, 64, 67, 0.15);\n",
              "      fill: #174EA6;\n",
              "    }\n",
              "\n",
              "    [theme=dark] .colab-df-convert {\n",
              "      background-color: #3B4455;\n",
              "      fill: #D2E3FC;\n",
              "    }\n",
              "\n",
              "    [theme=dark] .colab-df-convert:hover {\n",
              "      background-color: #434B5C;\n",
              "      box-shadow: 0px 1px 3px 1px rgba(0, 0, 0, 0.15);\n",
              "      filter: drop-shadow(0px 1px 2px rgba(0, 0, 0, 0.3));\n",
              "      fill: #FFFFFF;\n",
              "    }\n",
              "  </style>\n",
              "\n",
              "      <script>\n",
              "        const buttonEl =\n",
              "          document.querySelector('#df-518e94a5-1ba0-465f-83eb-574bbee045dc button.colab-df-convert');\n",
              "        buttonEl.style.display =\n",
              "          google.colab.kernel.accessAllowed ? 'block' : 'none';\n",
              "\n",
              "        async function convertToInteractive(key) {\n",
              "          const element = document.querySelector('#df-518e94a5-1ba0-465f-83eb-574bbee045dc');\n",
              "          const dataTable =\n",
              "            await google.colab.kernel.invokeFunction('convertToInteractive',\n",
              "                                                     [key], {});\n",
              "          if (!dataTable) return;\n",
              "\n",
              "          const docLinkHtml = 'Like what you see? Visit the ' +\n",
              "            '<a target=\"_blank\" href=https://colab.research.google.com/notebooks/data_table.ipynb>data table notebook</a>'\n",
              "            + ' to learn more about interactive tables.';\n",
              "          element.innerHTML = '';\n",
              "          dataTable['output_type'] = 'display_data';\n",
              "          await google.colab.output.renderOutput(dataTable, element);\n",
              "          const docLink = document.createElement('div');\n",
              "          docLink.innerHTML = docLinkHtml;\n",
              "          element.appendChild(docLink);\n",
              "        }\n",
              "      </script>\n",
              "    </div>\n",
              "  </div>\n",
              "  "
            ]
          },
          "metadata": {},
          "execution_count": 47
        }
      ],
      "source": [
        "df.append(d,ignore_index=True)"
      ]
    },
    {
      "cell_type": "markdown",
      "metadata": {
        "cell_id": "00082-21c2691e-ed50-43c3-a0a4-3cf199aa0775",
        "deepnote_cell_type": "markdown",
        "id": "t8Xzsb0qxE1-"
      },
      "source": [
        "#### Exercises\n",
        "* Display the resulting `Series` in the screen:"
      ]
    },
    {
      "cell_type": "code",
      "execution_count": 47,
      "metadata": {
        "cell_id": "00083-c166b04e-79e9-40ea-ae48-49965f6a1ca1",
        "deepnote_cell_type": "code",
        "id": "QL-kG1T9CnFI"
      },
      "outputs": [],
      "source": [
        ""
      ]
    },
    {
      "cell_type": "markdown",
      "metadata": {
        "cell_id": "00084-b681d4fc-73d5-46ee-bd43-bc82de198660",
        "deepnote_cell_type": "markdown",
        "id": "sSPUdkvtxE2C"
      },
      "source": [
        "* Append to the previous `DataFrame` and visualize it:"
      ]
    },
    {
      "cell_type": "code",
      "execution_count": 48,
      "metadata": {
        "cell_id": "00085-2a4e0b9c-c719-41d5-95bc-f277953e179c",
        "deepnote_cell_type": "code",
        "id": "vRRypFa_xE2D",
        "outputId": "d5c23390-8e2d-4374-c0a3-7e6015778792",
        "colab": {
          "base_uri": "https://localhost:8080/",
          "height": 112
        }
      },
      "outputs": [
        {
          "output_type": "execute_result",
          "data": {
            "text/plain": [
              "          Name Nacionality Age Company\n",
              "0  Juan Valdez    Colombia  23     NaN\n",
              "1     santiago    colombia  19    UdeA"
            ],
            "text/html": [
              "\n",
              "  <div id=\"df-877c564f-8cb7-409d-a012-779d7168c571\">\n",
              "    <div class=\"colab-df-container\">\n",
              "      <div>\n",
              "<style scoped>\n",
              "    .dataframe tbody tr th:only-of-type {\n",
              "        vertical-align: middle;\n",
              "    }\n",
              "\n",
              "    .dataframe tbody tr th {\n",
              "        vertical-align: top;\n",
              "    }\n",
              "\n",
              "    .dataframe thead th {\n",
              "        text-align: right;\n",
              "    }\n",
              "</style>\n",
              "<table border=\"1\" class=\"dataframe\">\n",
              "  <thead>\n",
              "    <tr style=\"text-align: right;\">\n",
              "      <th></th>\n",
              "      <th>Name</th>\n",
              "      <th>Nacionality</th>\n",
              "      <th>Age</th>\n",
              "      <th>Company</th>\n",
              "    </tr>\n",
              "  </thead>\n",
              "  <tbody>\n",
              "    <tr>\n",
              "      <th>0</th>\n",
              "      <td>Juan Valdez</td>\n",
              "      <td>Colombia</td>\n",
              "      <td>23</td>\n",
              "      <td>NaN</td>\n",
              "    </tr>\n",
              "    <tr>\n",
              "      <th>1</th>\n",
              "      <td>santiago</td>\n",
              "      <td>colombia</td>\n",
              "      <td>19</td>\n",
              "      <td>UdeA</td>\n",
              "    </tr>\n",
              "  </tbody>\n",
              "</table>\n",
              "</div>\n",
              "      <button class=\"colab-df-convert\" onclick=\"convertToInteractive('df-877c564f-8cb7-409d-a012-779d7168c571')\"\n",
              "              title=\"Convert this dataframe to an interactive table.\"\n",
              "              style=\"display:none;\">\n",
              "        \n",
              "  <svg xmlns=\"http://www.w3.org/2000/svg\" height=\"24px\"viewBox=\"0 0 24 24\"\n",
              "       width=\"24px\">\n",
              "    <path d=\"M0 0h24v24H0V0z\" fill=\"none\"/>\n",
              "    <path d=\"M18.56 5.44l.94 2.06.94-2.06 2.06-.94-2.06-.94-.94-2.06-.94 2.06-2.06.94zm-11 1L8.5 8.5l.94-2.06 2.06-.94-2.06-.94L8.5 2.5l-.94 2.06-2.06.94zm10 10l.94 2.06.94-2.06 2.06-.94-2.06-.94-.94-2.06-.94 2.06-2.06.94z\"/><path d=\"M17.41 7.96l-1.37-1.37c-.4-.4-.92-.59-1.43-.59-.52 0-1.04.2-1.43.59L10.3 9.45l-7.72 7.72c-.78.78-.78 2.05 0 2.83L4 21.41c.39.39.9.59 1.41.59.51 0 1.02-.2 1.41-.59l7.78-7.78 2.81-2.81c.8-.78.8-2.07 0-2.86zM5.41 20L4 18.59l7.72-7.72 1.47 1.35L5.41 20z\"/>\n",
              "  </svg>\n",
              "      </button>\n",
              "      \n",
              "  <style>\n",
              "    .colab-df-container {\n",
              "      display:flex;\n",
              "      flex-wrap:wrap;\n",
              "      gap: 12px;\n",
              "    }\n",
              "\n",
              "    .colab-df-convert {\n",
              "      background-color: #E8F0FE;\n",
              "      border: none;\n",
              "      border-radius: 50%;\n",
              "      cursor: pointer;\n",
              "      display: none;\n",
              "      fill: #1967D2;\n",
              "      height: 32px;\n",
              "      padding: 0 0 0 0;\n",
              "      width: 32px;\n",
              "    }\n",
              "\n",
              "    .colab-df-convert:hover {\n",
              "      background-color: #E2EBFA;\n",
              "      box-shadow: 0px 1px 2px rgba(60, 64, 67, 0.3), 0px 1px 3px 1px rgba(60, 64, 67, 0.15);\n",
              "      fill: #174EA6;\n",
              "    }\n",
              "\n",
              "    [theme=dark] .colab-df-convert {\n",
              "      background-color: #3B4455;\n",
              "      fill: #D2E3FC;\n",
              "    }\n",
              "\n",
              "    [theme=dark] .colab-df-convert:hover {\n",
              "      background-color: #434B5C;\n",
              "      box-shadow: 0px 1px 3px 1px rgba(0, 0, 0, 0.15);\n",
              "      filter: drop-shadow(0px 1px 2px rgba(0, 0, 0, 0.3));\n",
              "      fill: #FFFFFF;\n",
              "    }\n",
              "  </style>\n",
              "\n",
              "      <script>\n",
              "        const buttonEl =\n",
              "          document.querySelector('#df-877c564f-8cb7-409d-a012-779d7168c571 button.colab-df-convert');\n",
              "        buttonEl.style.display =\n",
              "          google.colab.kernel.accessAllowed ? 'block' : 'none';\n",
              "\n",
              "        async function convertToInteractive(key) {\n",
              "          const element = document.querySelector('#df-877c564f-8cb7-409d-a012-779d7168c571');\n",
              "          const dataTable =\n",
              "            await google.colab.kernel.invokeFunction('convertToInteractive',\n",
              "                                                     [key], {});\n",
              "          if (!dataTable) return;\n",
              "\n",
              "          const docLinkHtml = 'Like what you see? Visit the ' +\n",
              "            '<a target=\"_blank\" href=https://colab.research.google.com/notebooks/data_table.ipynb>data table notebook</a>'\n",
              "            + ' to learn more about interactive tables.';\n",
              "          element.innerHTML = '';\n",
              "          dataTable['output_type'] = 'display_data';\n",
              "          await google.colab.output.renderOutput(dataTable, element);\n",
              "          const docLink = document.createElement('div');\n",
              "          docLink.innerHTML = docLinkHtml;\n",
              "          element.appendChild(docLink);\n",
              "        }\n",
              "      </script>\n",
              "    </div>\n",
              "  </div>\n",
              "  "
            ]
          },
          "metadata": {},
          "execution_count": 48
        }
      ],
      "source": [
        "df=df.append(d,ignore_index=True)\n",
        "df"
      ]
    },
    {
      "cell_type": "markdown",
      "metadata": {
        "cell_id": "00086-e7522978-7107-452d-b697-fcdf7b8f948b",
        "deepnote_cell_type": "markdown",
        "id": "wLUED3NWxE2G"
      },
      "source": [
        "* Fill NaN with empty strings"
      ]
    },
    {
      "cell_type": "code",
      "execution_count": 49,
      "metadata": {
        "cell_id": "00087-97603f43-2420-46bf-8d24-182840f9b478",
        "deepnote_cell_type": "code",
        "id": "28rp4v3BxE2I"
      },
      "outputs": [],
      "source": [
        "df=df.fillna('')"
      ]
    },
    {
      "cell_type": "code",
      "execution_count": 50,
      "metadata": {
        "id": "uID7-2Q8CnFK",
        "outputId": "bcf730c4-2de5-471b-b25d-e61e49c57542",
        "colab": {
          "base_uri": "https://localhost:8080/",
          "height": 112
        }
      },
      "outputs": [
        {
          "output_type": "execute_result",
          "data": {
            "text/plain": [
              "          Name Nacionality Age Company\n",
              "0  Juan Valdez    Colombia  23        \n",
              "1     santiago    colombia  19    UdeA"
            ],
            "text/html": [
              "\n",
              "  <div id=\"df-f5f7d957-d18d-4db9-b427-58b440718cf2\">\n",
              "    <div class=\"colab-df-container\">\n",
              "      <div>\n",
              "<style scoped>\n",
              "    .dataframe tbody tr th:only-of-type {\n",
              "        vertical-align: middle;\n",
              "    }\n",
              "\n",
              "    .dataframe tbody tr th {\n",
              "        vertical-align: top;\n",
              "    }\n",
              "\n",
              "    .dataframe thead th {\n",
              "        text-align: right;\n",
              "    }\n",
              "</style>\n",
              "<table border=\"1\" class=\"dataframe\">\n",
              "  <thead>\n",
              "    <tr style=\"text-align: right;\">\n",
              "      <th></th>\n",
              "      <th>Name</th>\n",
              "      <th>Nacionality</th>\n",
              "      <th>Age</th>\n",
              "      <th>Company</th>\n",
              "    </tr>\n",
              "  </thead>\n",
              "  <tbody>\n",
              "    <tr>\n",
              "      <th>0</th>\n",
              "      <td>Juan Valdez</td>\n",
              "      <td>Colombia</td>\n",
              "      <td>23</td>\n",
              "      <td></td>\n",
              "    </tr>\n",
              "    <tr>\n",
              "      <th>1</th>\n",
              "      <td>santiago</td>\n",
              "      <td>colombia</td>\n",
              "      <td>19</td>\n",
              "      <td>UdeA</td>\n",
              "    </tr>\n",
              "  </tbody>\n",
              "</table>\n",
              "</div>\n",
              "      <button class=\"colab-df-convert\" onclick=\"convertToInteractive('df-f5f7d957-d18d-4db9-b427-58b440718cf2')\"\n",
              "              title=\"Convert this dataframe to an interactive table.\"\n",
              "              style=\"display:none;\">\n",
              "        \n",
              "  <svg xmlns=\"http://www.w3.org/2000/svg\" height=\"24px\"viewBox=\"0 0 24 24\"\n",
              "       width=\"24px\">\n",
              "    <path d=\"M0 0h24v24H0V0z\" fill=\"none\"/>\n",
              "    <path d=\"M18.56 5.44l.94 2.06.94-2.06 2.06-.94-2.06-.94-.94-2.06-.94 2.06-2.06.94zm-11 1L8.5 8.5l.94-2.06 2.06-.94-2.06-.94L8.5 2.5l-.94 2.06-2.06.94zm10 10l.94 2.06.94-2.06 2.06-.94-2.06-.94-.94-2.06-.94 2.06-2.06.94z\"/><path d=\"M17.41 7.96l-1.37-1.37c-.4-.4-.92-.59-1.43-.59-.52 0-1.04.2-1.43.59L10.3 9.45l-7.72 7.72c-.78.78-.78 2.05 0 2.83L4 21.41c.39.39.9.59 1.41.59.51 0 1.02-.2 1.41-.59l7.78-7.78 2.81-2.81c.8-.78.8-2.07 0-2.86zM5.41 20L4 18.59l7.72-7.72 1.47 1.35L5.41 20z\"/>\n",
              "  </svg>\n",
              "      </button>\n",
              "      \n",
              "  <style>\n",
              "    .colab-df-container {\n",
              "      display:flex;\n",
              "      flex-wrap:wrap;\n",
              "      gap: 12px;\n",
              "    }\n",
              "\n",
              "    .colab-df-convert {\n",
              "      background-color: #E8F0FE;\n",
              "      border: none;\n",
              "      border-radius: 50%;\n",
              "      cursor: pointer;\n",
              "      display: none;\n",
              "      fill: #1967D2;\n",
              "      height: 32px;\n",
              "      padding: 0 0 0 0;\n",
              "      width: 32px;\n",
              "    }\n",
              "\n",
              "    .colab-df-convert:hover {\n",
              "      background-color: #E2EBFA;\n",
              "      box-shadow: 0px 1px 2px rgba(60, 64, 67, 0.3), 0px 1px 3px 1px rgba(60, 64, 67, 0.15);\n",
              "      fill: #174EA6;\n",
              "    }\n",
              "\n",
              "    [theme=dark] .colab-df-convert {\n",
              "      background-color: #3B4455;\n",
              "      fill: #D2E3FC;\n",
              "    }\n",
              "\n",
              "    [theme=dark] .colab-df-convert:hover {\n",
              "      background-color: #434B5C;\n",
              "      box-shadow: 0px 1px 3px 1px rgba(0, 0, 0, 0.15);\n",
              "      filter: drop-shadow(0px 1px 2px rgba(0, 0, 0, 0.3));\n",
              "      fill: #FFFFFF;\n",
              "    }\n",
              "  </style>\n",
              "\n",
              "      <script>\n",
              "        const buttonEl =\n",
              "          document.querySelector('#df-f5f7d957-d18d-4db9-b427-58b440718cf2 button.colab-df-convert');\n",
              "        buttonEl.style.display =\n",
              "          google.colab.kernel.accessAllowed ? 'block' : 'none';\n",
              "\n",
              "        async function convertToInteractive(key) {\n",
              "          const element = document.querySelector('#df-f5f7d957-d18d-4db9-b427-58b440718cf2');\n",
              "          const dataTable =\n",
              "            await google.colab.kernel.invokeFunction('convertToInteractive',\n",
              "                                                     [key], {});\n",
              "          if (!dataTable) return;\n",
              "\n",
              "          const docLinkHtml = 'Like what you see? Visit the ' +\n",
              "            '<a target=\"_blank\" href=https://colab.research.google.com/notebooks/data_table.ipynb>data table notebook</a>'\n",
              "            + ' to learn more about interactive tables.';\n",
              "          element.innerHTML = '';\n",
              "          dataTable['output_type'] = 'display_data';\n",
              "          await google.colab.output.renderOutput(dataTable, element);\n",
              "          const docLink = document.createElement('div');\n",
              "          docLink.innerHTML = docLinkHtml;\n",
              "          element.appendChild(docLink);\n",
              "        }\n",
              "      </script>\n",
              "    </div>\n",
              "  </div>\n",
              "  "
            ]
          },
          "metadata": {},
          "execution_count": 50
        }
      ],
      "source": [
        "df"
      ]
    },
    {
      "cell_type": "markdown",
      "metadata": {
        "cell_id": "00088-e2c6349b-dfe0-4da6-b6fd-37d2abcfd9a8",
        "deepnote_cell_type": "markdown",
        "id": "K3feFAfYxE2K"
      },
      "source": [
        "* Save `Pandas` `DataFrame` as an Excel file"
      ]
    },
    {
      "cell_type": "code",
      "execution_count": 51,
      "metadata": {
        "cell_id": "00089-b9551acb-cdbd-4f31-a95b-24a0070287ea",
        "deepnote_cell_type": "code",
        "id": "fdxuA_FAxE2L"
      },
      "outputs": [],
      "source": [
        "df.to_excel('prof.xlsx',index=False)"
      ]
    },
    {
      "cell_type": "markdown",
      "metadata": {
        "cell_id": "00090-b34d21ca-a22d-42e0-9f5f-0a770830fedd",
        "deepnote_cell_type": "markdown",
        "id": "evWZKwEPxE2O"
      },
      "source": [
        "* Load pandas DataFrame from the saved file in Excel"
      ]
    },
    {
      "cell_type": "code",
      "execution_count": 52,
      "metadata": {
        "cell_id": "00091-23d2a6aa-c3bf-4b2c-9b78-7ebed3ae8ec6",
        "deepnote_cell_type": "code",
        "id": "xl7KUNVCxE2P",
        "outputId": "e5be9cfa-228e-4f67-b719-4fd74ecc73bf",
        "colab": {
          "base_uri": "https://localhost:8080/",
          "height": 112
        }
      },
      "outputs": [
        {
          "output_type": "execute_result",
          "data": {
            "text/plain": [
              "          Name Nacionality  Age Company\n",
              "0  Juan Valdez    Colombia   23     NaN\n",
              "1     santiago    colombia   19    UdeA"
            ],
            "text/html": [
              "\n",
              "  <div id=\"df-df6b23fb-839d-4e5c-8d98-4fd274906e75\">\n",
              "    <div class=\"colab-df-container\">\n",
              "      <div>\n",
              "<style scoped>\n",
              "    .dataframe tbody tr th:only-of-type {\n",
              "        vertical-align: middle;\n",
              "    }\n",
              "\n",
              "    .dataframe tbody tr th {\n",
              "        vertical-align: top;\n",
              "    }\n",
              "\n",
              "    .dataframe thead th {\n",
              "        text-align: right;\n",
              "    }\n",
              "</style>\n",
              "<table border=\"1\" class=\"dataframe\">\n",
              "  <thead>\n",
              "    <tr style=\"text-align: right;\">\n",
              "      <th></th>\n",
              "      <th>Name</th>\n",
              "      <th>Nacionality</th>\n",
              "      <th>Age</th>\n",
              "      <th>Company</th>\n",
              "    </tr>\n",
              "  </thead>\n",
              "  <tbody>\n",
              "    <tr>\n",
              "      <th>0</th>\n",
              "      <td>Juan Valdez</td>\n",
              "      <td>Colombia</td>\n",
              "      <td>23</td>\n",
              "      <td>NaN</td>\n",
              "    </tr>\n",
              "    <tr>\n",
              "      <th>1</th>\n",
              "      <td>santiago</td>\n",
              "      <td>colombia</td>\n",
              "      <td>19</td>\n",
              "      <td>UdeA</td>\n",
              "    </tr>\n",
              "  </tbody>\n",
              "</table>\n",
              "</div>\n",
              "      <button class=\"colab-df-convert\" onclick=\"convertToInteractive('df-df6b23fb-839d-4e5c-8d98-4fd274906e75')\"\n",
              "              title=\"Convert this dataframe to an interactive table.\"\n",
              "              style=\"display:none;\">\n",
              "        \n",
              "  <svg xmlns=\"http://www.w3.org/2000/svg\" height=\"24px\"viewBox=\"0 0 24 24\"\n",
              "       width=\"24px\">\n",
              "    <path d=\"M0 0h24v24H0V0z\" fill=\"none\"/>\n",
              "    <path d=\"M18.56 5.44l.94 2.06.94-2.06 2.06-.94-2.06-.94-.94-2.06-.94 2.06-2.06.94zm-11 1L8.5 8.5l.94-2.06 2.06-.94-2.06-.94L8.5 2.5l-.94 2.06-2.06.94zm10 10l.94 2.06.94-2.06 2.06-.94-2.06-.94-.94-2.06-.94 2.06-2.06.94z\"/><path d=\"M17.41 7.96l-1.37-1.37c-.4-.4-.92-.59-1.43-.59-.52 0-1.04.2-1.43.59L10.3 9.45l-7.72 7.72c-.78.78-.78 2.05 0 2.83L4 21.41c.39.39.9.59 1.41.59.51 0 1.02-.2 1.41-.59l7.78-7.78 2.81-2.81c.8-.78.8-2.07 0-2.86zM5.41 20L4 18.59l7.72-7.72 1.47 1.35L5.41 20z\"/>\n",
              "  </svg>\n",
              "      </button>\n",
              "      \n",
              "  <style>\n",
              "    .colab-df-container {\n",
              "      display:flex;\n",
              "      flex-wrap:wrap;\n",
              "      gap: 12px;\n",
              "    }\n",
              "\n",
              "    .colab-df-convert {\n",
              "      background-color: #E8F0FE;\n",
              "      border: none;\n",
              "      border-radius: 50%;\n",
              "      cursor: pointer;\n",
              "      display: none;\n",
              "      fill: #1967D2;\n",
              "      height: 32px;\n",
              "      padding: 0 0 0 0;\n",
              "      width: 32px;\n",
              "    }\n",
              "\n",
              "    .colab-df-convert:hover {\n",
              "      background-color: #E2EBFA;\n",
              "      box-shadow: 0px 1px 2px rgba(60, 64, 67, 0.3), 0px 1px 3px 1px rgba(60, 64, 67, 0.15);\n",
              "      fill: #174EA6;\n",
              "    }\n",
              "\n",
              "    [theme=dark] .colab-df-convert {\n",
              "      background-color: #3B4455;\n",
              "      fill: #D2E3FC;\n",
              "    }\n",
              "\n",
              "    [theme=dark] .colab-df-convert:hover {\n",
              "      background-color: #434B5C;\n",
              "      box-shadow: 0px 1px 3px 1px rgba(0, 0, 0, 0.15);\n",
              "      filter: drop-shadow(0px 1px 2px rgba(0, 0, 0, 0.3));\n",
              "      fill: #FFFFFF;\n",
              "    }\n",
              "  </style>\n",
              "\n",
              "      <script>\n",
              "        const buttonEl =\n",
              "          document.querySelector('#df-df6b23fb-839d-4e5c-8d98-4fd274906e75 button.colab-df-convert');\n",
              "        buttonEl.style.display =\n",
              "          google.colab.kernel.accessAllowed ? 'block' : 'none';\n",
              "\n",
              "        async function convertToInteractive(key) {\n",
              "          const element = document.querySelector('#df-df6b23fb-839d-4e5c-8d98-4fd274906e75');\n",
              "          const dataTable =\n",
              "            await google.colab.kernel.invokeFunction('convertToInteractive',\n",
              "                                                     [key], {});\n",
              "          if (!dataTable) return;\n",
              "\n",
              "          const docLinkHtml = 'Like what you see? Visit the ' +\n",
              "            '<a target=\"_blank\" href=https://colab.research.google.com/notebooks/data_table.ipynb>data table notebook</a>'\n",
              "            + ' to learn more about interactive tables.';\n",
              "          element.innerHTML = '';\n",
              "          dataTable['output_type'] = 'display_data';\n",
              "          await google.colab.output.renderOutput(dataTable, element);\n",
              "          const docLink = document.createElement('div');\n",
              "          docLink.innerHTML = docLinkHtml;\n",
              "          element.appendChild(docLink);\n",
              "        }\n",
              "      </script>\n",
              "    </div>\n",
              "  </div>\n",
              "  "
            ]
          },
          "metadata": {},
          "execution_count": 52
        }
      ],
      "source": [
        "pd.read_excel('prof.xlsx')"
      ]
    },
    {
      "cell_type": "markdown",
      "metadata": {
        "cell_id": "00092-bbceab54-8e2f-492b-aee9-374786bc9b58",
        "deepnote_cell_type": "markdown",
        "id": "pAZISlqKxE2T"
      },
      "source": [
        "### Common operations upon `DataFrames`\n",
        "See https://github.com/restrepo/PythonTipsAndTricks"
      ]
    },
    {
      "cell_type": "markdown",
      "metadata": {
        "cell_id": "00093-9da49b6e-ecfd-44e1-a27d-e131f56af8b1",
        "deepnote_cell_type": "markdown",
        "id": "IBgQ8cojxE2U"
      },
      "source": [
        "* __To fill a specific cell__"
      ]
    },
    {
      "cell_type": "code",
      "execution_count": 53,
      "metadata": {
        "cell_id": "00094-77f3f284-c87f-4cb4-b305-bfa683fe9c52",
        "deepnote_cell_type": "code",
        "id": "a00HZIQhxE2V"
      },
      "outputs": [],
      "source": [
        "df.at[0,'Company']='Federación de Caferos'"
      ]
    },
    {
      "cell_type": "code",
      "execution_count": 54,
      "metadata": {
        "cell_id": "00095-b9c2aeff-851c-4719-bb97-908e96da3f07",
        "deepnote_cell_type": "code",
        "id": "g6f2psm3xE2X",
        "outputId": "2b540e50-84a0-41fd-ef8c-be76d8d4a618",
        "colab": {
          "base_uri": "https://localhost:8080/",
          "height": 112
        }
      },
      "outputs": [
        {
          "output_type": "execute_result",
          "data": {
            "text/plain": [
              "          Name Nacionality Age                Company\n",
              "0  Juan Valdez    Colombia  23  Federación de Caferos\n",
              "1     santiago    colombia  19                   UdeA"
            ],
            "text/html": [
              "\n",
              "  <div id=\"df-b4d7db52-ac3b-4a9c-af1b-20c41aea66dc\">\n",
              "    <div class=\"colab-df-container\">\n",
              "      <div>\n",
              "<style scoped>\n",
              "    .dataframe tbody tr th:only-of-type {\n",
              "        vertical-align: middle;\n",
              "    }\n",
              "\n",
              "    .dataframe tbody tr th {\n",
              "        vertical-align: top;\n",
              "    }\n",
              "\n",
              "    .dataframe thead th {\n",
              "        text-align: right;\n",
              "    }\n",
              "</style>\n",
              "<table border=\"1\" class=\"dataframe\">\n",
              "  <thead>\n",
              "    <tr style=\"text-align: right;\">\n",
              "      <th></th>\n",
              "      <th>Name</th>\n",
              "      <th>Nacionality</th>\n",
              "      <th>Age</th>\n",
              "      <th>Company</th>\n",
              "    </tr>\n",
              "  </thead>\n",
              "  <tbody>\n",
              "    <tr>\n",
              "      <th>0</th>\n",
              "      <td>Juan Valdez</td>\n",
              "      <td>Colombia</td>\n",
              "      <td>23</td>\n",
              "      <td>Federación de Caferos</td>\n",
              "    </tr>\n",
              "    <tr>\n",
              "      <th>1</th>\n",
              "      <td>santiago</td>\n",
              "      <td>colombia</td>\n",
              "      <td>19</td>\n",
              "      <td>UdeA</td>\n",
              "    </tr>\n",
              "  </tbody>\n",
              "</table>\n",
              "</div>\n",
              "      <button class=\"colab-df-convert\" onclick=\"convertToInteractive('df-b4d7db52-ac3b-4a9c-af1b-20c41aea66dc')\"\n",
              "              title=\"Convert this dataframe to an interactive table.\"\n",
              "              style=\"display:none;\">\n",
              "        \n",
              "  <svg xmlns=\"http://www.w3.org/2000/svg\" height=\"24px\"viewBox=\"0 0 24 24\"\n",
              "       width=\"24px\">\n",
              "    <path d=\"M0 0h24v24H0V0z\" fill=\"none\"/>\n",
              "    <path d=\"M18.56 5.44l.94 2.06.94-2.06 2.06-.94-2.06-.94-.94-2.06-.94 2.06-2.06.94zm-11 1L8.5 8.5l.94-2.06 2.06-.94-2.06-.94L8.5 2.5l-.94 2.06-2.06.94zm10 10l.94 2.06.94-2.06 2.06-.94-2.06-.94-.94-2.06-.94 2.06-2.06.94z\"/><path d=\"M17.41 7.96l-1.37-1.37c-.4-.4-.92-.59-1.43-.59-.52 0-1.04.2-1.43.59L10.3 9.45l-7.72 7.72c-.78.78-.78 2.05 0 2.83L4 21.41c.39.39.9.59 1.41.59.51 0 1.02-.2 1.41-.59l7.78-7.78 2.81-2.81c.8-.78.8-2.07 0-2.86zM5.41 20L4 18.59l7.72-7.72 1.47 1.35L5.41 20z\"/>\n",
              "  </svg>\n",
              "      </button>\n",
              "      \n",
              "  <style>\n",
              "    .colab-df-container {\n",
              "      display:flex;\n",
              "      flex-wrap:wrap;\n",
              "      gap: 12px;\n",
              "    }\n",
              "\n",
              "    .colab-df-convert {\n",
              "      background-color: #E8F0FE;\n",
              "      border: none;\n",
              "      border-radius: 50%;\n",
              "      cursor: pointer;\n",
              "      display: none;\n",
              "      fill: #1967D2;\n",
              "      height: 32px;\n",
              "      padding: 0 0 0 0;\n",
              "      width: 32px;\n",
              "    }\n",
              "\n",
              "    .colab-df-convert:hover {\n",
              "      background-color: #E2EBFA;\n",
              "      box-shadow: 0px 1px 2px rgba(60, 64, 67, 0.3), 0px 1px 3px 1px rgba(60, 64, 67, 0.15);\n",
              "      fill: #174EA6;\n",
              "    }\n",
              "\n",
              "    [theme=dark] .colab-df-convert {\n",
              "      background-color: #3B4455;\n",
              "      fill: #D2E3FC;\n",
              "    }\n",
              "\n",
              "    [theme=dark] .colab-df-convert:hover {\n",
              "      background-color: #434B5C;\n",
              "      box-shadow: 0px 1px 3px 1px rgba(0, 0, 0, 0.15);\n",
              "      filter: drop-shadow(0px 1px 2px rgba(0, 0, 0, 0.3));\n",
              "      fill: #FFFFFF;\n",
              "    }\n",
              "  </style>\n",
              "\n",
              "      <script>\n",
              "        const buttonEl =\n",
              "          document.querySelector('#df-b4d7db52-ac3b-4a9c-af1b-20c41aea66dc button.colab-df-convert');\n",
              "        buttonEl.style.display =\n",
              "          google.colab.kernel.accessAllowed ? 'block' : 'none';\n",
              "\n",
              "        async function convertToInteractive(key) {\n",
              "          const element = document.querySelector('#df-b4d7db52-ac3b-4a9c-af1b-20c41aea66dc');\n",
              "          const dataTable =\n",
              "            await google.colab.kernel.invokeFunction('convertToInteractive',\n",
              "                                                     [key], {});\n",
              "          if (!dataTable) return;\n",
              "\n",
              "          const docLinkHtml = 'Like what you see? Visit the ' +\n",
              "            '<a target=\"_blank\" href=https://colab.research.google.com/notebooks/data_table.ipynb>data table notebook</a>'\n",
              "            + ' to learn more about interactive tables.';\n",
              "          element.innerHTML = '';\n",
              "          dataTable['output_type'] = 'display_data';\n",
              "          await google.colab.output.renderOutput(dataTable, element);\n",
              "          const docLink = document.createElement('div');\n",
              "          docLink.innerHTML = docLinkHtml;\n",
              "          element.appendChild(docLink);\n",
              "        }\n",
              "      </script>\n",
              "    </div>\n",
              "  </div>\n",
              "  "
            ]
          },
          "metadata": {},
          "execution_count": 54
        }
      ],
      "source": [
        "df"
      ]
    },
    {
      "cell_type": "markdown",
      "metadata": {
        "cell_id": "00096-34dbb8c6-f80d-4fdd-8b56-bd0fd1fdcd9d",
        "deepnote_cell_type": "markdown",
        "id": "rzAKwxQhxE2a"
      },
      "source": [
        "## Other formats to saving and read files\n",
        "We are interested in format which keeps the tags of the columns, like `'Nombre', 'Edad', 'Compañia'`"
      ]
    },
    {
      "cell_type": "code",
      "execution_count": 55,
      "metadata": {
        "cell_id": "00097-01b06192-00aa-4602-97bb-b72642398c6b",
        "colab": {
          "base_uri": "https://localhost:8080/",
          "height": 112
        },
        "deepnote_cell_type": "code",
        "id": "CbgkbfTKvIkO",
        "outputId": "9d6e504f-5918-422c-ce21-c1b930203795"
      },
      "outputs": [
        {
          "output_type": "execute_result",
          "data": {
            "text/plain": [
              "               Nombre  Edad                Compañia\n",
              "0         Juan Valdez  23.0        Café de Colombia\n",
              "1  Álvaro Uribe Vélez  65.0  Senado de la República"
            ],
            "text/html": [
              "\n",
              "  <div id=\"df-be9a1ff1-db48-430c-b3f2-56ca2d106fba\">\n",
              "    <div class=\"colab-df-container\">\n",
              "      <div>\n",
              "<style scoped>\n",
              "    .dataframe tbody tr th:only-of-type {\n",
              "        vertical-align: middle;\n",
              "    }\n",
              "\n",
              "    .dataframe tbody tr th {\n",
              "        vertical-align: top;\n",
              "    }\n",
              "\n",
              "    .dataframe thead th {\n",
              "        text-align: right;\n",
              "    }\n",
              "</style>\n",
              "<table border=\"1\" class=\"dataframe\">\n",
              "  <thead>\n",
              "    <tr style=\"text-align: right;\">\n",
              "      <th></th>\n",
              "      <th>Nombre</th>\n",
              "      <th>Edad</th>\n",
              "      <th>Compañia</th>\n",
              "    </tr>\n",
              "  </thead>\n",
              "  <tbody>\n",
              "    <tr>\n",
              "      <th>0</th>\n",
              "      <td>Juan Valdez</td>\n",
              "      <td>23.0</td>\n",
              "      <td>Café de Colombia</td>\n",
              "    </tr>\n",
              "    <tr>\n",
              "      <th>1</th>\n",
              "      <td>Álvaro Uribe Vélez</td>\n",
              "      <td>65.0</td>\n",
              "      <td>Senado de la República</td>\n",
              "    </tr>\n",
              "  </tbody>\n",
              "</table>\n",
              "</div>\n",
              "      <button class=\"colab-df-convert\" onclick=\"convertToInteractive('df-be9a1ff1-db48-430c-b3f2-56ca2d106fba')\"\n",
              "              title=\"Convert this dataframe to an interactive table.\"\n",
              "              style=\"display:none;\">\n",
              "        \n",
              "  <svg xmlns=\"http://www.w3.org/2000/svg\" height=\"24px\"viewBox=\"0 0 24 24\"\n",
              "       width=\"24px\">\n",
              "    <path d=\"M0 0h24v24H0V0z\" fill=\"none\"/>\n",
              "    <path d=\"M18.56 5.44l.94 2.06.94-2.06 2.06-.94-2.06-.94-.94-2.06-.94 2.06-2.06.94zm-11 1L8.5 8.5l.94-2.06 2.06-.94-2.06-.94L8.5 2.5l-.94 2.06-2.06.94zm10 10l.94 2.06.94-2.06 2.06-.94-2.06-.94-.94-2.06-.94 2.06-2.06.94z\"/><path d=\"M17.41 7.96l-1.37-1.37c-.4-.4-.92-.59-1.43-.59-.52 0-1.04.2-1.43.59L10.3 9.45l-7.72 7.72c-.78.78-.78 2.05 0 2.83L4 21.41c.39.39.9.59 1.41.59.51 0 1.02-.2 1.41-.59l7.78-7.78 2.81-2.81c.8-.78.8-2.07 0-2.86zM5.41 20L4 18.59l7.72-7.72 1.47 1.35L5.41 20z\"/>\n",
              "  </svg>\n",
              "      </button>\n",
              "      \n",
              "  <style>\n",
              "    .colab-df-container {\n",
              "      display:flex;\n",
              "      flex-wrap:wrap;\n",
              "      gap: 12px;\n",
              "    }\n",
              "\n",
              "    .colab-df-convert {\n",
              "      background-color: #E8F0FE;\n",
              "      border: none;\n",
              "      border-radius: 50%;\n",
              "      cursor: pointer;\n",
              "      display: none;\n",
              "      fill: #1967D2;\n",
              "      height: 32px;\n",
              "      padding: 0 0 0 0;\n",
              "      width: 32px;\n",
              "    }\n",
              "\n",
              "    .colab-df-convert:hover {\n",
              "      background-color: #E2EBFA;\n",
              "      box-shadow: 0px 1px 2px rgba(60, 64, 67, 0.3), 0px 1px 3px 1px rgba(60, 64, 67, 0.15);\n",
              "      fill: #174EA6;\n",
              "    }\n",
              "\n",
              "    [theme=dark] .colab-df-convert {\n",
              "      background-color: #3B4455;\n",
              "      fill: #D2E3FC;\n",
              "    }\n",
              "\n",
              "    [theme=dark] .colab-df-convert:hover {\n",
              "      background-color: #434B5C;\n",
              "      box-shadow: 0px 1px 3px 1px rgba(0, 0, 0, 0.15);\n",
              "      filter: drop-shadow(0px 1px 2px rgba(0, 0, 0, 0.3));\n",
              "      fill: #FFFFFF;\n",
              "    }\n",
              "  </style>\n",
              "\n",
              "      <script>\n",
              "        const buttonEl =\n",
              "          document.querySelector('#df-be9a1ff1-db48-430c-b3f2-56ca2d106fba button.colab-df-convert');\n",
              "        buttonEl.style.display =\n",
              "          google.colab.kernel.accessAllowed ? 'block' : 'none';\n",
              "\n",
              "        async function convertToInteractive(key) {\n",
              "          const element = document.querySelector('#df-be9a1ff1-db48-430c-b3f2-56ca2d106fba');\n",
              "          const dataTable =\n",
              "            await google.colab.kernel.invokeFunction('convertToInteractive',\n",
              "                                                     [key], {});\n",
              "          if (!dataTable) return;\n",
              "\n",
              "          const docLinkHtml = 'Like what you see? Visit the ' +\n",
              "            '<a target=\"_blank\" href=https://colab.research.google.com/notebooks/data_table.ipynb>data table notebook</a>'\n",
              "            + ' to learn more about interactive tables.';\n",
              "          element.innerHTML = '';\n",
              "          dataTable['output_type'] = 'display_data';\n",
              "          await google.colab.output.renderOutput(dataTable, element);\n",
              "          const docLink = document.createElement('div');\n",
              "          docLink.innerHTML = docLinkHtml;\n",
              "          element.appendChild(docLink);\n",
              "        }\n",
              "      </script>\n",
              "    </div>\n",
              "  </div>\n",
              "  "
            ]
          },
          "metadata": {},
          "execution_count": 55
        }
      ],
      "source": [
        "df=pd.read_excel('http://bit.ly/spreadsheet_xlsx')\n",
        "df"
      ]
    },
    {
      "cell_type": "code",
      "execution_count": 56,
      "metadata": {
        "cell_id": "00098-ac5ccf23-1ed0-4827-8156-2f01ab1e3810",
        "deepnote_cell_type": "code",
        "id": "rxsh3DXKCnFO",
        "outputId": "fdab8a86-9aca-4075-e7d0-dca3b13390ec",
        "colab": {
          "base_uri": "https://localhost:8080/"
        }
      },
      "outputs": [
        {
          "output_type": "execute_result",
          "data": {
            "text/plain": [
              "numpy.float64"
            ]
          },
          "metadata": {},
          "execution_count": 56
        }
      ],
      "source": [
        "type(df.loc[0,'Edad'])"
      ]
    },
    {
      "cell_type": "markdown",
      "metadata": {
        "cell_id": "00099-9ad55ba4-a969-4bc8-b406-22cd968a0805",
        "deepnote_cell_type": "markdown",
        "id": "w8hdIGOvu3Ee"
      },
      "source": [
        "#### CSV"
      ]
    },
    {
      "cell_type": "code",
      "execution_count": 57,
      "metadata": {
        "cell_id": "00100-fe200388-2002-436a-b819-745bad6fcfe0",
        "deepnote_cell_type": "code",
        "id": "90PSoWzUxE2b"
      },
      "outputs": [],
      "source": [
        "df.to_csv('hoja.csv',index=False)"
      ]
    },
    {
      "cell_type": "markdown",
      "metadata": {
        "cell_id": "00101-cc4612dc-38b1-4330-b264-1d48c027fbb0",
        "deepnote_cell_type": "markdown",
        "id": "ViJ62k6BxfOm"
      },
      "source": [
        "We can check the explicit file format with"
      ]
    },
    {
      "cell_type": "code",
      "execution_count": 58,
      "metadata": {
        "cell_id": "00102-5e45759b-2a49-45f9-bf6f-8989d7b9f3a9",
        "deepnote_cell_type": "code",
        "id": "LjkIWW53CnFT",
        "outputId": "429db35d-7dd0-4ede-abde-53627e35b5c7",
        "colab": {
          "base_uri": "https://localhost:8080/",
          "height": 35
        }
      },
      "outputs": [
        {
          "output_type": "execute_result",
          "data": {
            "text/plain": [
              "'Nombre,Edad,Compañia\\nJuan Valdez,23.0,Café de Colombia\\nÁlvaro Uribe Vélez,65.0,Senado de la República\\n'"
            ],
            "application/vnd.google.colaboratory.intrinsic+json": {
              "type": "string"
            }
          },
          "metadata": {},
          "execution_count": 58
        }
      ],
      "source": [
        "df.to_csv(None,index=False)"
      ]
    },
    {
      "cell_type": "code",
      "execution_count": 59,
      "metadata": {
        "cell_id": "00103-996b76be-2928-47dd-86d0-410595893d67",
        "colab": {
          "base_uri": "https://localhost:8080/"
        },
        "deepnote_cell_type": "code",
        "id": "fGmx6K8SxRB1",
        "outputId": "b88a4367-ad63-4747-c657-d4b6d8932986"
      },
      "outputs": [
        {
          "output_type": "stream",
          "name": "stdout",
          "text": [
            "Nombre,Edad,Compañia\n",
            "Juan Valdez,23.0,Café de Colombia\n",
            "Álvaro Uribe Vélez,65.0,Senado de la República\n",
            "\n"
          ]
        }
      ],
      "source": [
        "print(df.to_csv(None,index=False))"
      ]
    },
    {
      "cell_type": "code",
      "execution_count": 60,
      "metadata": {
        "cell_id": "00104-fbced017-69ab-46a2-9804-6fff4a406112",
        "deepnote_cell_type": "code",
        "id": "v_IuMvjQCnFT",
        "outputId": "09f8ef91-2118-4936-b39b-02c03c20c18b",
        "colab": {
          "base_uri": "https://localhost:8080/",
          "height": 112
        }
      },
      "outputs": [
        {
          "output_type": "execute_result",
          "data": {
            "text/plain": [
              "               Nombre  Edad                Compañia\n",
              "0         Juan Valdez  23.0        Café de Colombia\n",
              "1  Álvaro Uribe Vélez  65.0  Senado de la República"
            ],
            "text/html": [
              "\n",
              "  <div id=\"df-921cbfaf-79e9-4d6e-af71-4ec0c473fbbf\">\n",
              "    <div class=\"colab-df-container\">\n",
              "      <div>\n",
              "<style scoped>\n",
              "    .dataframe tbody tr th:only-of-type {\n",
              "        vertical-align: middle;\n",
              "    }\n",
              "\n",
              "    .dataframe tbody tr th {\n",
              "        vertical-align: top;\n",
              "    }\n",
              "\n",
              "    .dataframe thead th {\n",
              "        text-align: right;\n",
              "    }\n",
              "</style>\n",
              "<table border=\"1\" class=\"dataframe\">\n",
              "  <thead>\n",
              "    <tr style=\"text-align: right;\">\n",
              "      <th></th>\n",
              "      <th>Nombre</th>\n",
              "      <th>Edad</th>\n",
              "      <th>Compañia</th>\n",
              "    </tr>\n",
              "  </thead>\n",
              "  <tbody>\n",
              "    <tr>\n",
              "      <th>0</th>\n",
              "      <td>Juan Valdez</td>\n",
              "      <td>23.0</td>\n",
              "      <td>Café de Colombia</td>\n",
              "    </tr>\n",
              "    <tr>\n",
              "      <th>1</th>\n",
              "      <td>Álvaro Uribe Vélez</td>\n",
              "      <td>65.0</td>\n",
              "      <td>Senado de la República</td>\n",
              "    </tr>\n",
              "  </tbody>\n",
              "</table>\n",
              "</div>\n",
              "      <button class=\"colab-df-convert\" onclick=\"convertToInteractive('df-921cbfaf-79e9-4d6e-af71-4ec0c473fbbf')\"\n",
              "              title=\"Convert this dataframe to an interactive table.\"\n",
              "              style=\"display:none;\">\n",
              "        \n",
              "  <svg xmlns=\"http://www.w3.org/2000/svg\" height=\"24px\"viewBox=\"0 0 24 24\"\n",
              "       width=\"24px\">\n",
              "    <path d=\"M0 0h24v24H0V0z\" fill=\"none\"/>\n",
              "    <path d=\"M18.56 5.44l.94 2.06.94-2.06 2.06-.94-2.06-.94-.94-2.06-.94 2.06-2.06.94zm-11 1L8.5 8.5l.94-2.06 2.06-.94-2.06-.94L8.5 2.5l-.94 2.06-2.06.94zm10 10l.94 2.06.94-2.06 2.06-.94-2.06-.94-.94-2.06-.94 2.06-2.06.94z\"/><path d=\"M17.41 7.96l-1.37-1.37c-.4-.4-.92-.59-1.43-.59-.52 0-1.04.2-1.43.59L10.3 9.45l-7.72 7.72c-.78.78-.78 2.05 0 2.83L4 21.41c.39.39.9.59 1.41.59.51 0 1.02-.2 1.41-.59l7.78-7.78 2.81-2.81c.8-.78.8-2.07 0-2.86zM5.41 20L4 18.59l7.72-7.72 1.47 1.35L5.41 20z\"/>\n",
              "  </svg>\n",
              "      </button>\n",
              "      \n",
              "  <style>\n",
              "    .colab-df-container {\n",
              "      display:flex;\n",
              "      flex-wrap:wrap;\n",
              "      gap: 12px;\n",
              "    }\n",
              "\n",
              "    .colab-df-convert {\n",
              "      background-color: #E8F0FE;\n",
              "      border: none;\n",
              "      border-radius: 50%;\n",
              "      cursor: pointer;\n",
              "      display: none;\n",
              "      fill: #1967D2;\n",
              "      height: 32px;\n",
              "      padding: 0 0 0 0;\n",
              "      width: 32px;\n",
              "    }\n",
              "\n",
              "    .colab-df-convert:hover {\n",
              "      background-color: #E2EBFA;\n",
              "      box-shadow: 0px 1px 2px rgba(60, 64, 67, 0.3), 0px 1px 3px 1px rgba(60, 64, 67, 0.15);\n",
              "      fill: #174EA6;\n",
              "    }\n",
              "\n",
              "    [theme=dark] .colab-df-convert {\n",
              "      background-color: #3B4455;\n",
              "      fill: #D2E3FC;\n",
              "    }\n",
              "\n",
              "    [theme=dark] .colab-df-convert:hover {\n",
              "      background-color: #434B5C;\n",
              "      box-shadow: 0px 1px 3px 1px rgba(0, 0, 0, 0.15);\n",
              "      filter: drop-shadow(0px 1px 2px rgba(0, 0, 0, 0.3));\n",
              "      fill: #FFFFFF;\n",
              "    }\n",
              "  </style>\n",
              "\n",
              "      <script>\n",
              "        const buttonEl =\n",
              "          document.querySelector('#df-921cbfaf-79e9-4d6e-af71-4ec0c473fbbf button.colab-df-convert');\n",
              "        buttonEl.style.display =\n",
              "          google.colab.kernel.accessAllowed ? 'block' : 'none';\n",
              "\n",
              "        async function convertToInteractive(key) {\n",
              "          const element = document.querySelector('#df-921cbfaf-79e9-4d6e-af71-4ec0c473fbbf');\n",
              "          const dataTable =\n",
              "            await google.colab.kernel.invokeFunction('convertToInteractive',\n",
              "                                                     [key], {});\n",
              "          if (!dataTable) return;\n",
              "\n",
              "          const docLinkHtml = 'Like what you see? Visit the ' +\n",
              "            '<a target=\"_blank\" href=https://colab.research.google.com/notebooks/data_table.ipynb>data table notebook</a>'\n",
              "            + ' to learn more about interactive tables.';\n",
              "          element.innerHTML = '';\n",
              "          dataTable['output_type'] = 'display_data';\n",
              "          await google.colab.output.renderOutput(dataTable, element);\n",
              "          const docLink = document.createElement('div');\n",
              "          docLink.innerHTML = docLinkHtml;\n",
              "          element.appendChild(docLink);\n",
              "        }\n",
              "      </script>\n",
              "    </div>\n",
              "  </div>\n",
              "  "
            ]
          },
          "metadata": {},
          "execution_count": 60
        }
      ],
      "source": [
        "pd.read_csv('hoja.csv')"
      ]
    },
    {
      "cell_type": "markdown",
      "metadata": {
        "cell_id": "00105-5cd6423e-2654-439c-a4e9-943248c7b894",
        "deepnote_cell_type": "markdown",
        "id": "s1rbHbLmuv2g"
      },
      "source": [
        "#### JSON"
      ]
    },
    {
      "cell_type": "markdown",
      "metadata": {
        "cell_id": "00106-ee6abf2e-ef42-41b7-af5a-c98849c33e78",
        "deepnote_cell_type": "markdown",
        "id": "JwWj-SSVv6Aj"
      },
      "source": [
        "This format keeps the Python lists and dictionaries at the storage level"
      ]
    },
    {
      "cell_type": "code",
      "execution_count": 61,
      "metadata": {
        "cell_id": "00107-d18f5f63-2e23-4154-aaeb-d832bceaa1b4",
        "colab": {
          "base_uri": "https://localhost:8080/",
          "height": 112
        },
        "deepnote_cell_type": "code",
        "id": "OaMV4GdOwmBo",
        "outputId": "fe660a6f-e808-4728-de3c-b8029d432231"
      },
      "outputs": [
        {
          "output_type": "execute_result",
          "data": {
            "text/plain": [
              "           Name  Age\n",
              "0  Donald Trump   74\n",
              "1   Barak Obama   59"
            ],
            "text/html": [
              "\n",
              "  <div id=\"df-991ee26c-b0b9-48f7-adf6-611525d29ede\">\n",
              "    <div class=\"colab-df-container\">\n",
              "      <div>\n",
              "<style scoped>\n",
              "    .dataframe tbody tr th:only-of-type {\n",
              "        vertical-align: middle;\n",
              "    }\n",
              "\n",
              "    .dataframe tbody tr th {\n",
              "        vertical-align: top;\n",
              "    }\n",
              "\n",
              "    .dataframe thead th {\n",
              "        text-align: right;\n",
              "    }\n",
              "</style>\n",
              "<table border=\"1\" class=\"dataframe\">\n",
              "  <thead>\n",
              "    <tr style=\"text-align: right;\">\n",
              "      <th></th>\n",
              "      <th>Name</th>\n",
              "      <th>Age</th>\n",
              "    </tr>\n",
              "  </thead>\n",
              "  <tbody>\n",
              "    <tr>\n",
              "      <th>0</th>\n",
              "      <td>Donald Trump</td>\n",
              "      <td>74</td>\n",
              "    </tr>\n",
              "    <tr>\n",
              "      <th>1</th>\n",
              "      <td>Barak Obama</td>\n",
              "      <td>59</td>\n",
              "    </tr>\n",
              "  </tbody>\n",
              "</table>\n",
              "</div>\n",
              "      <button class=\"colab-df-convert\" onclick=\"convertToInteractive('df-991ee26c-b0b9-48f7-adf6-611525d29ede')\"\n",
              "              title=\"Convert this dataframe to an interactive table.\"\n",
              "              style=\"display:none;\">\n",
              "        \n",
              "  <svg xmlns=\"http://www.w3.org/2000/svg\" height=\"24px\"viewBox=\"0 0 24 24\"\n",
              "       width=\"24px\">\n",
              "    <path d=\"M0 0h24v24H0V0z\" fill=\"none\"/>\n",
              "    <path d=\"M18.56 5.44l.94 2.06.94-2.06 2.06-.94-2.06-.94-.94-2.06-.94 2.06-2.06.94zm-11 1L8.5 8.5l.94-2.06 2.06-.94-2.06-.94L8.5 2.5l-.94 2.06-2.06.94zm10 10l.94 2.06.94-2.06 2.06-.94-2.06-.94-.94-2.06-.94 2.06-2.06.94z\"/><path d=\"M17.41 7.96l-1.37-1.37c-.4-.4-.92-.59-1.43-.59-.52 0-1.04.2-1.43.59L10.3 9.45l-7.72 7.72c-.78.78-.78 2.05 0 2.83L4 21.41c.39.39.9.59 1.41.59.51 0 1.02-.2 1.41-.59l7.78-7.78 2.81-2.81c.8-.78.8-2.07 0-2.86zM5.41 20L4 18.59l7.72-7.72 1.47 1.35L5.41 20z\"/>\n",
              "  </svg>\n",
              "      </button>\n",
              "      \n",
              "  <style>\n",
              "    .colab-df-container {\n",
              "      display:flex;\n",
              "      flex-wrap:wrap;\n",
              "      gap: 12px;\n",
              "    }\n",
              "\n",
              "    .colab-df-convert {\n",
              "      background-color: #E8F0FE;\n",
              "      border: none;\n",
              "      border-radius: 50%;\n",
              "      cursor: pointer;\n",
              "      display: none;\n",
              "      fill: #1967D2;\n",
              "      height: 32px;\n",
              "      padding: 0 0 0 0;\n",
              "      width: 32px;\n",
              "    }\n",
              "\n",
              "    .colab-df-convert:hover {\n",
              "      background-color: #E2EBFA;\n",
              "      box-shadow: 0px 1px 2px rgba(60, 64, 67, 0.3), 0px 1px 3px 1px rgba(60, 64, 67, 0.15);\n",
              "      fill: #174EA6;\n",
              "    }\n",
              "\n",
              "    [theme=dark] .colab-df-convert {\n",
              "      background-color: #3B4455;\n",
              "      fill: #D2E3FC;\n",
              "    }\n",
              "\n",
              "    [theme=dark] .colab-df-convert:hover {\n",
              "      background-color: #434B5C;\n",
              "      box-shadow: 0px 1px 3px 1px rgba(0, 0, 0, 0.15);\n",
              "      filter: drop-shadow(0px 1px 2px rgba(0, 0, 0, 0.3));\n",
              "      fill: #FFFFFF;\n",
              "    }\n",
              "  </style>\n",
              "\n",
              "      <script>\n",
              "        const buttonEl =\n",
              "          document.querySelector('#df-991ee26c-b0b9-48f7-adf6-611525d29ede button.colab-df-convert');\n",
              "        buttonEl.style.display =\n",
              "          google.colab.kernel.accessAllowed ? 'block' : 'none';\n",
              "\n",
              "        async function convertToInteractive(key) {\n",
              "          const element = document.querySelector('#df-991ee26c-b0b9-48f7-adf6-611525d29ede');\n",
              "          const dataTable =\n",
              "            await google.colab.kernel.invokeFunction('convertToInteractive',\n",
              "                                                     [key], {});\n",
              "          if (!dataTable) return;\n",
              "\n",
              "          const docLinkHtml = 'Like what you see? Visit the ' +\n",
              "            '<a target=\"_blank\" href=https://colab.research.google.com/notebooks/data_table.ipynb>data table notebook</a>'\n",
              "            + ' to learn more about interactive tables.';\n",
              "          element.innerHTML = '';\n",
              "          dataTable['output_type'] = 'display_data';\n",
              "          await google.colab.output.renderOutput(dataTable, element);\n",
              "          const docLink = document.createElement('div');\n",
              "          docLink.innerHTML = docLinkHtml;\n",
              "          element.appendChild(docLink);\n",
              "        }\n",
              "      </script>\n",
              "    </div>\n",
              "  </div>\n",
              "  "
            ]
          },
          "metadata": {},
          "execution_count": 61
        }
      ],
      "source": [
        "df=pd.DataFrame([{\"Name\":\"Donald Trump\",\"Age\":74},\n",
        "                 {\"Name\":\"Barak Obama\", \"Age\":59}])\n",
        "df"
      ]
    },
    {
      "cell_type": "markdown",
      "metadata": {
        "cell_id": "00108-51aade1c-59de-4ab8-ab1b-cae65529ef6b",
        "deepnote_cell_type": "markdown",
        "id": "Ajc79wC9z2b0"
      },
      "source": [
        "This format allow us to keep exactly the very same list of dictionaries structure!"
      ]
    },
    {
      "cell_type": "code",
      "execution_count": 62,
      "metadata": {
        "cell_id": "00109-a06a153d-a096-4f43-b4fb-e493ef63cdc6",
        "colab": {
          "base_uri": "https://localhost:8080/"
        },
        "deepnote_cell_type": "code",
        "id": "00a9jBWAzg29",
        "outputId": "2f13a6cc-2b91-4c1c-bef3-528059aeea9b"
      },
      "outputs": [
        {
          "output_type": "stream",
          "name": "stdout",
          "text": [
            "[{\"Name\":\"Donald Trump\",\"Age\":74},{\"Name\":\"Barak Obama\",\"Age\":59}]\n"
          ]
        }
      ],
      "source": [
        "print(df.to_json(None,orient='records'))"
      ]
    },
    {
      "cell_type": "markdown",
      "metadata": {
        "cell_id": "00110-40dfa301-7ac0-4c9a-b94e-3a67bb4a5abb",
        "deepnote_cell_type": "markdown",
        "id": "xwPu1tn30hQ8"
      },
      "source": [
        "__Activity__: \n",
        "* Save to a file instead of `None` and open the file with some editor. "
      ]
    },
    {
      "cell_type": "code",
      "execution_count": 63,
      "metadata": {
        "cell_id": "00111-4cb060b6-5095-4bdc-9e15-2025f5da8f4d",
        "deepnote_cell_type": "code",
        "id": "KtKmXfQg1Z4z"
      },
      "outputs": [],
      "source": [
        "df.to_json('presidents.json',orient='records')"
      ]
    },
    {
      "cell_type": "code",
      "source": [
        "cat presidents.json"
      ],
      "metadata": {
        "colab": {
          "base_uri": "https://localhost:8080/"
        },
        "id": "8deMpRXqPvEz",
        "outputId": "23f9a689-fd78-4c65-c1b3-f6d57b18bfa0"
      },
      "execution_count": 64,
      "outputs": [
        {
          "output_type": "stream",
          "name": "stdout",
          "text": [
            "[{\"Name\":\"Donald Trump\",\"Age\":74},{\"Name\":\"Barak Obama\",\"Age\":59}]"
          ]
        }
      ]
    },
    {
      "cell_type": "markdown",
      "metadata": {
        "cell_id": "00112-156a13f9-d5a6-46ce-b2a5-49b78dc5ae44",
        "deepnote_cell_type": "markdown",
        "id": "5S7OR7X11acD"
      },
      "source": [
        "* Add a break-line at the end of the first dictionary and try to\n",
        "load the resulting file with `pd.read_json`"
      ]
    },
    {
      "cell_type": "code",
      "execution_count": 65,
      "metadata": {
        "cell_id": "00113-925db647-ab9d-46c1-ad47-35d873eeff39",
        "deepnote_cell_type": "code",
        "id": "xOaIuF_y1b5C",
        "outputId": "12042fc3-6d90-4cbf-bc68-2791a969b6d8",
        "colab": {
          "base_uri": "https://localhost:8080/",
          "height": 112
        }
      },
      "outputs": [
        {
          "output_type": "execute_result",
          "data": {
            "text/plain": [
              "           Name  Age\n",
              "0  Donald Trump   74\n",
              "1   Barak Obama   59"
            ],
            "text/html": [
              "\n",
              "  <div id=\"df-9b8cba34-43df-489a-9ef5-19d778eff627\">\n",
              "    <div class=\"colab-df-container\">\n",
              "      <div>\n",
              "<style scoped>\n",
              "    .dataframe tbody tr th:only-of-type {\n",
              "        vertical-align: middle;\n",
              "    }\n",
              "\n",
              "    .dataframe tbody tr th {\n",
              "        vertical-align: top;\n",
              "    }\n",
              "\n",
              "    .dataframe thead th {\n",
              "        text-align: right;\n",
              "    }\n",
              "</style>\n",
              "<table border=\"1\" class=\"dataframe\">\n",
              "  <thead>\n",
              "    <tr style=\"text-align: right;\">\n",
              "      <th></th>\n",
              "      <th>Name</th>\n",
              "      <th>Age</th>\n",
              "    </tr>\n",
              "  </thead>\n",
              "  <tbody>\n",
              "    <tr>\n",
              "      <th>0</th>\n",
              "      <td>Donald Trump</td>\n",
              "      <td>74</td>\n",
              "    </tr>\n",
              "    <tr>\n",
              "      <th>1</th>\n",
              "      <td>Barak Obama</td>\n",
              "      <td>59</td>\n",
              "    </tr>\n",
              "  </tbody>\n",
              "</table>\n",
              "</div>\n",
              "      <button class=\"colab-df-convert\" onclick=\"convertToInteractive('df-9b8cba34-43df-489a-9ef5-19d778eff627')\"\n",
              "              title=\"Convert this dataframe to an interactive table.\"\n",
              "              style=\"display:none;\">\n",
              "        \n",
              "  <svg xmlns=\"http://www.w3.org/2000/svg\" height=\"24px\"viewBox=\"0 0 24 24\"\n",
              "       width=\"24px\">\n",
              "    <path d=\"M0 0h24v24H0V0z\" fill=\"none\"/>\n",
              "    <path d=\"M18.56 5.44l.94 2.06.94-2.06 2.06-.94-2.06-.94-.94-2.06-.94 2.06-2.06.94zm-11 1L8.5 8.5l.94-2.06 2.06-.94-2.06-.94L8.5 2.5l-.94 2.06-2.06.94zm10 10l.94 2.06.94-2.06 2.06-.94-2.06-.94-.94-2.06-.94 2.06-2.06.94z\"/><path d=\"M17.41 7.96l-1.37-1.37c-.4-.4-.92-.59-1.43-.59-.52 0-1.04.2-1.43.59L10.3 9.45l-7.72 7.72c-.78.78-.78 2.05 0 2.83L4 21.41c.39.39.9.59 1.41.59.51 0 1.02-.2 1.41-.59l7.78-7.78 2.81-2.81c.8-.78.8-2.07 0-2.86zM5.41 20L4 18.59l7.72-7.72 1.47 1.35L5.41 20z\"/>\n",
              "  </svg>\n",
              "      </button>\n",
              "      \n",
              "  <style>\n",
              "    .colab-df-container {\n",
              "      display:flex;\n",
              "      flex-wrap:wrap;\n",
              "      gap: 12px;\n",
              "    }\n",
              "\n",
              "    .colab-df-convert {\n",
              "      background-color: #E8F0FE;\n",
              "      border: none;\n",
              "      border-radius: 50%;\n",
              "      cursor: pointer;\n",
              "      display: none;\n",
              "      fill: #1967D2;\n",
              "      height: 32px;\n",
              "      padding: 0 0 0 0;\n",
              "      width: 32px;\n",
              "    }\n",
              "\n",
              "    .colab-df-convert:hover {\n",
              "      background-color: #E2EBFA;\n",
              "      box-shadow: 0px 1px 2px rgba(60, 64, 67, 0.3), 0px 1px 3px 1px rgba(60, 64, 67, 0.15);\n",
              "      fill: #174EA6;\n",
              "    }\n",
              "\n",
              "    [theme=dark] .colab-df-convert {\n",
              "      background-color: #3B4455;\n",
              "      fill: #D2E3FC;\n",
              "    }\n",
              "\n",
              "    [theme=dark] .colab-df-convert:hover {\n",
              "      background-color: #434B5C;\n",
              "      box-shadow: 0px 1px 3px 1px rgba(0, 0, 0, 0.15);\n",
              "      filter: drop-shadow(0px 1px 2px rgba(0, 0, 0, 0.3));\n",
              "      fill: #FFFFFF;\n",
              "    }\n",
              "  </style>\n",
              "\n",
              "      <script>\n",
              "        const buttonEl =\n",
              "          document.querySelector('#df-9b8cba34-43df-489a-9ef5-19d778eff627 button.colab-df-convert');\n",
              "        buttonEl.style.display =\n",
              "          google.colab.kernel.accessAllowed ? 'block' : 'none';\n",
              "\n",
              "        async function convertToInteractive(key) {\n",
              "          const element = document.querySelector('#df-9b8cba34-43df-489a-9ef5-19d778eff627');\n",
              "          const dataTable =\n",
              "            await google.colab.kernel.invokeFunction('convertToInteractive',\n",
              "                                                     [key], {});\n",
              "          if (!dataTable) return;\n",
              "\n",
              "          const docLinkHtml = 'Like what you see? Visit the ' +\n",
              "            '<a target=\"_blank\" href=https://colab.research.google.com/notebooks/data_table.ipynb>data table notebook</a>'\n",
              "            + ' to learn more about interactive tables.';\n",
              "          element.innerHTML = '';\n",
              "          dataTable['output_type'] = 'display_data';\n",
              "          await google.colab.output.renderOutput(dataTable, element);\n",
              "          const docLink = document.createElement('div');\n",
              "          docLink.innerHTML = docLinkHtml;\n",
              "          element.appendChild(docLink);\n",
              "        }\n",
              "      </script>\n",
              "    </div>\n",
              "  </div>\n",
              "  "
            ]
          },
          "metadata": {},
          "execution_count": 65
        }
      ],
      "source": [
        "pd.read_json('presidents.json')"
      ]
    },
    {
      "cell_type": "code",
      "execution_count": 66,
      "metadata": {
        "id": "iRxJzQYoCnFW",
        "colab": {
          "base_uri": "https://localhost:8080/"
        },
        "outputId": "a402ee0f-43a9-4b7d-dc36-6adf64b5b6f1"
      },
      "outputs": [
        {
          "output_type": "execute_result",
          "data": {
            "text/plain": [
              "[{'Age': 74, 'Name': 'Donald Trump'}, {'Age': 59, 'Name': 'Barak Obama'}]"
            ]
          },
          "metadata": {},
          "execution_count": 66
        }
      ],
      "source": [
        "# %load presidents.json\n",
        "[{\"Name\":\"Donald Trump\",\"Age\":74},{\"Name\":\"Barak Obama\",\"Age\":59}]\n"
      ]
    },
    {
      "cell_type": "markdown",
      "metadata": {
        "cell_id": "00114-cabdfd59-d1aa-44c7-9859-f7590ff0bb9e",
        "deepnote_cell_type": "markdown",
        "id": "5vSq9daI0F7R"
      },
      "source": [
        "JSON allows for some flexibility in the break-lines structure:"
      ]
    },
    {
      "cell_type": "code",
      "execution_count": 67,
      "metadata": {
        "cell_id": "00115-935cc968-6583-4fad-9839-eabdae7a7016",
        "deepnote_cell_type": "code",
        "id": "yvNW4NBkCnFW"
      },
      "outputs": [],
      "source": [
        "hm='''\n",
        "hola\n",
        "mundo\n",
        "'''"
      ]
    },
    {
      "cell_type": "code",
      "execution_count": 68,
      "metadata": {
        "cell_id": "00116-f120fb15-040a-44e3-b1b1-0919e3c1d7d2",
        "deepnote_cell_type": "code",
        "id": "df4cARmbCnFX",
        "outputId": "fde1b9da-751b-4fb9-a05e-8a67a1fa7cf8",
        "colab": {
          "base_uri": "https://localhost:8080/",
          "height": 35
        }
      },
      "outputs": [
        {
          "output_type": "execute_result",
          "data": {
            "text/plain": [
              "'\\nhola\\nmundo\\n'"
            ],
            "application/vnd.google.colaboratory.intrinsic+json": {
              "type": "string"
            }
          },
          "metadata": {},
          "execution_count": 68
        }
      ],
      "source": [
        "hm"
      ]
    },
    {
      "cell_type": "code",
      "execution_count": 69,
      "metadata": {
        "cell_id": "00117-b3d11b0b-ffb3-4fa2-95f1-f1f3a009d9fc",
        "colab": {
          "base_uri": "https://localhost:8080/",
          "height": 112
        },
        "deepnote_cell_type": "code",
        "id": "qT8Lnlrgy0M9",
        "outputId": "5dd94f59-ab87-4ef0-e8c6-5682ae21d655"
      },
      "outputs": [
        {
          "output_type": "execute_result",
          "data": {
            "text/plain": [
              "           Name  Age\n",
              "0  Donald Trump   73\n",
              "1   Barak Obama   58"
            ],
            "text/html": [
              "\n",
              "  <div id=\"df-ebe0784c-faf6-44f4-98b8-c80d36cb5cd2\">\n",
              "    <div class=\"colab-df-container\">\n",
              "      <div>\n",
              "<style scoped>\n",
              "    .dataframe tbody tr th:only-of-type {\n",
              "        vertical-align: middle;\n",
              "    }\n",
              "\n",
              "    .dataframe tbody tr th {\n",
              "        vertical-align: top;\n",
              "    }\n",
              "\n",
              "    .dataframe thead th {\n",
              "        text-align: right;\n",
              "    }\n",
              "</style>\n",
              "<table border=\"1\" class=\"dataframe\">\n",
              "  <thead>\n",
              "    <tr style=\"text-align: right;\">\n",
              "      <th></th>\n",
              "      <th>Name</th>\n",
              "      <th>Age</th>\n",
              "    </tr>\n",
              "  </thead>\n",
              "  <tbody>\n",
              "    <tr>\n",
              "      <th>0</th>\n",
              "      <td>Donald Trump</td>\n",
              "      <td>73</td>\n",
              "    </tr>\n",
              "    <tr>\n",
              "      <th>1</th>\n",
              "      <td>Barak Obama</td>\n",
              "      <td>58</td>\n",
              "    </tr>\n",
              "  </tbody>\n",
              "</table>\n",
              "</div>\n",
              "      <button class=\"colab-df-convert\" onclick=\"convertToInteractive('df-ebe0784c-faf6-44f4-98b8-c80d36cb5cd2')\"\n",
              "              title=\"Convert this dataframe to an interactive table.\"\n",
              "              style=\"display:none;\">\n",
              "        \n",
              "  <svg xmlns=\"http://www.w3.org/2000/svg\" height=\"24px\"viewBox=\"0 0 24 24\"\n",
              "       width=\"24px\">\n",
              "    <path d=\"M0 0h24v24H0V0z\" fill=\"none\"/>\n",
              "    <path d=\"M18.56 5.44l.94 2.06.94-2.06 2.06-.94-2.06-.94-.94-2.06-.94 2.06-2.06.94zm-11 1L8.5 8.5l.94-2.06 2.06-.94-2.06-.94L8.5 2.5l-.94 2.06-2.06.94zm10 10l.94 2.06.94-2.06 2.06-.94-2.06-.94-.94-2.06-.94 2.06-2.06.94z\"/><path d=\"M17.41 7.96l-1.37-1.37c-.4-.4-.92-.59-1.43-.59-.52 0-1.04.2-1.43.59L10.3 9.45l-7.72 7.72c-.78.78-.78 2.05 0 2.83L4 21.41c.39.39.9.59 1.41.59.51 0 1.02-.2 1.41-.59l7.78-7.78 2.81-2.81c.8-.78.8-2.07 0-2.86zM5.41 20L4 18.59l7.72-7.72 1.47 1.35L5.41 20z\"/>\n",
              "  </svg>\n",
              "      </button>\n",
              "      \n",
              "  <style>\n",
              "    .colab-df-container {\n",
              "      display:flex;\n",
              "      flex-wrap:wrap;\n",
              "      gap: 12px;\n",
              "    }\n",
              "\n",
              "    .colab-df-convert {\n",
              "      background-color: #E8F0FE;\n",
              "      border: none;\n",
              "      border-radius: 50%;\n",
              "      cursor: pointer;\n",
              "      display: none;\n",
              "      fill: #1967D2;\n",
              "      height: 32px;\n",
              "      padding: 0 0 0 0;\n",
              "      width: 32px;\n",
              "    }\n",
              "\n",
              "    .colab-df-convert:hover {\n",
              "      background-color: #E2EBFA;\n",
              "      box-shadow: 0px 1px 2px rgba(60, 64, 67, 0.3), 0px 1px 3px 1px rgba(60, 64, 67, 0.15);\n",
              "      fill: #174EA6;\n",
              "    }\n",
              "\n",
              "    [theme=dark] .colab-df-convert {\n",
              "      background-color: #3B4455;\n",
              "      fill: #D2E3FC;\n",
              "    }\n",
              "\n",
              "    [theme=dark] .colab-df-convert:hover {\n",
              "      background-color: #434B5C;\n",
              "      box-shadow: 0px 1px 3px 1px rgba(0, 0, 0, 0.15);\n",
              "      filter: drop-shadow(0px 1px 2px rgba(0, 0, 0, 0.3));\n",
              "      fill: #FFFFFF;\n",
              "    }\n",
              "  </style>\n",
              "\n",
              "      <script>\n",
              "        const buttonEl =\n",
              "          document.querySelector('#df-ebe0784c-faf6-44f4-98b8-c80d36cb5cd2 button.colab-df-convert');\n",
              "        buttonEl.style.display =\n",
              "          google.colab.kernel.accessAllowed ? 'block' : 'none';\n",
              "\n",
              "        async function convertToInteractive(key) {\n",
              "          const element = document.querySelector('#df-ebe0784c-faf6-44f4-98b8-c80d36cb5cd2');\n",
              "          const dataTable =\n",
              "            await google.colab.kernel.invokeFunction('convertToInteractive',\n",
              "                                                     [key], {});\n",
              "          if (!dataTable) return;\n",
              "\n",
              "          const docLinkHtml = 'Like what you see? Visit the ' +\n",
              "            '<a target=\"_blank\" href=https://colab.research.google.com/notebooks/data_table.ipynb>data table notebook</a>'\n",
              "            + ' to learn more about interactive tables.';\n",
              "          element.innerHTML = '';\n",
              "          dataTable['output_type'] = 'display_data';\n",
              "          await google.colab.output.renderOutput(dataTable, element);\n",
              "          const docLink = document.createElement('div');\n",
              "          docLink.innerHTML = docLinkHtml;\n",
              "          element.appendChild(docLink);\n",
              "        }\n",
              "      </script>\n",
              "    </div>\n",
              "  </div>\n",
              "  "
            ]
          },
          "metadata": {},
          "execution_count": 69
        }
      ],
      "source": [
        "pd.read_json('''\n",
        "             [{\"Name\":\"Donald Trump\",\"Age\":73},\n",
        "              {\"Name\":\"Barak Obama\", \"Age\":58}]\n",
        "            ''')"
      ]
    },
    {
      "cell_type": "markdown",
      "metadata": {
        "cell_id": "00118-33431814-7e28-4599-988c-c692699cd502",
        "deepnote_cell_type": "markdown",
        "id": "w6PyR85f1mfD"
      },
      "source": [
        "For large databases it is convinient just to accumulate dictionaries in a sequential form:"
      ]
    },
    {
      "cell_type": "code",
      "execution_count": 70,
      "metadata": {
        "cell_id": "00119-84d25081-6867-41dd-8ba8-55ed6f8fc690",
        "colab": {
          "base_uri": "https://localhost:8080/"
        },
        "deepnote_cell_type": "code",
        "id": "y2f8y66fyC5S",
        "outputId": "40558862-9df2-4f0c-854c-dd46c10cb5a7"
      },
      "outputs": [
        {
          "output_type": "stream",
          "name": "stdout",
          "text": [
            "{\"Name\":\"Donald Trump\",\"Age\":74}\n",
            "{\"Name\":\"Barak Obama\",\"Age\":59}\n",
            "\n"
          ]
        }
      ],
      "source": [
        "print(df.to_json(None,orient='records',lines=True))"
      ]
    },
    {
      "cell_type": "code",
      "execution_count": 71,
      "metadata": {
        "cell_id": "00120-3df09295-8c42-4b2f-8190-bebc99a29fcd",
        "colab": {
          "base_uri": "https://localhost:8080/",
          "height": 112
        },
        "deepnote_cell_type": "code",
        "id": "Bvhzs_GRzNWM",
        "outputId": "4faf14a4-31b9-407c-feb3-485206f19602"
      },
      "outputs": [
        {
          "output_type": "execute_result",
          "data": {
            "text/plain": [
              "           Name  Age\n",
              "0  Donald Trump   73\n",
              "1   Barak Obama   58"
            ],
            "text/html": [
              "\n",
              "  <div id=\"df-31b94cff-d221-48e7-ac15-46b88f0db847\">\n",
              "    <div class=\"colab-df-container\">\n",
              "      <div>\n",
              "<style scoped>\n",
              "    .dataframe tbody tr th:only-of-type {\n",
              "        vertical-align: middle;\n",
              "    }\n",
              "\n",
              "    .dataframe tbody tr th {\n",
              "        vertical-align: top;\n",
              "    }\n",
              "\n",
              "    .dataframe thead th {\n",
              "        text-align: right;\n",
              "    }\n",
              "</style>\n",
              "<table border=\"1\" class=\"dataframe\">\n",
              "  <thead>\n",
              "    <tr style=\"text-align: right;\">\n",
              "      <th></th>\n",
              "      <th>Name</th>\n",
              "      <th>Age</th>\n",
              "    </tr>\n",
              "  </thead>\n",
              "  <tbody>\n",
              "    <tr>\n",
              "      <th>0</th>\n",
              "      <td>Donald Trump</td>\n",
              "      <td>73</td>\n",
              "    </tr>\n",
              "    <tr>\n",
              "      <th>1</th>\n",
              "      <td>Barak Obama</td>\n",
              "      <td>58</td>\n",
              "    </tr>\n",
              "  </tbody>\n",
              "</table>\n",
              "</div>\n",
              "      <button class=\"colab-df-convert\" onclick=\"convertToInteractive('df-31b94cff-d221-48e7-ac15-46b88f0db847')\"\n",
              "              title=\"Convert this dataframe to an interactive table.\"\n",
              "              style=\"display:none;\">\n",
              "        \n",
              "  <svg xmlns=\"http://www.w3.org/2000/svg\" height=\"24px\"viewBox=\"0 0 24 24\"\n",
              "       width=\"24px\">\n",
              "    <path d=\"M0 0h24v24H0V0z\" fill=\"none\"/>\n",
              "    <path d=\"M18.56 5.44l.94 2.06.94-2.06 2.06-.94-2.06-.94-.94-2.06-.94 2.06-2.06.94zm-11 1L8.5 8.5l.94-2.06 2.06-.94-2.06-.94L8.5 2.5l-.94 2.06-2.06.94zm10 10l.94 2.06.94-2.06 2.06-.94-2.06-.94-.94-2.06-.94 2.06-2.06.94z\"/><path d=\"M17.41 7.96l-1.37-1.37c-.4-.4-.92-.59-1.43-.59-.52 0-1.04.2-1.43.59L10.3 9.45l-7.72 7.72c-.78.78-.78 2.05 0 2.83L4 21.41c.39.39.9.59 1.41.59.51 0 1.02-.2 1.41-.59l7.78-7.78 2.81-2.81c.8-.78.8-2.07 0-2.86zM5.41 20L4 18.59l7.72-7.72 1.47 1.35L5.41 20z\"/>\n",
              "  </svg>\n",
              "      </button>\n",
              "      \n",
              "  <style>\n",
              "    .colab-df-container {\n",
              "      display:flex;\n",
              "      flex-wrap:wrap;\n",
              "      gap: 12px;\n",
              "    }\n",
              "\n",
              "    .colab-df-convert {\n",
              "      background-color: #E8F0FE;\n",
              "      border: none;\n",
              "      border-radius: 50%;\n",
              "      cursor: pointer;\n",
              "      display: none;\n",
              "      fill: #1967D2;\n",
              "      height: 32px;\n",
              "      padding: 0 0 0 0;\n",
              "      width: 32px;\n",
              "    }\n",
              "\n",
              "    .colab-df-convert:hover {\n",
              "      background-color: #E2EBFA;\n",
              "      box-shadow: 0px 1px 2px rgba(60, 64, 67, 0.3), 0px 1px 3px 1px rgba(60, 64, 67, 0.15);\n",
              "      fill: #174EA6;\n",
              "    }\n",
              "\n",
              "    [theme=dark] .colab-df-convert {\n",
              "      background-color: #3B4455;\n",
              "      fill: #D2E3FC;\n",
              "    }\n",
              "\n",
              "    [theme=dark] .colab-df-convert:hover {\n",
              "      background-color: #434B5C;\n",
              "      box-shadow: 0px 1px 3px 1px rgba(0, 0, 0, 0.15);\n",
              "      filter: drop-shadow(0px 1px 2px rgba(0, 0, 0, 0.3));\n",
              "      fill: #FFFFFF;\n",
              "    }\n",
              "  </style>\n",
              "\n",
              "      <script>\n",
              "        const buttonEl =\n",
              "          document.querySelector('#df-31b94cff-d221-48e7-ac15-46b88f0db847 button.colab-df-convert');\n",
              "        buttonEl.style.display =\n",
              "          google.colab.kernel.accessAllowed ? 'block' : 'none';\n",
              "\n",
              "        async function convertToInteractive(key) {\n",
              "          const element = document.querySelector('#df-31b94cff-d221-48e7-ac15-46b88f0db847');\n",
              "          const dataTable =\n",
              "            await google.colab.kernel.invokeFunction('convertToInteractive',\n",
              "                                                     [key], {});\n",
              "          if (!dataTable) return;\n",
              "\n",
              "          const docLinkHtml = 'Like what you see? Visit the ' +\n",
              "            '<a target=\"_blank\" href=https://colab.research.google.com/notebooks/data_table.ipynb>data table notebook</a>'\n",
              "            + ' to learn more about interactive tables.';\n",
              "          element.innerHTML = '';\n",
              "          dataTable['output_type'] = 'display_data';\n",
              "          await google.colab.output.renderOutput(dataTable, element);\n",
              "          const docLink = document.createElement('div');\n",
              "          docLink.innerHTML = docLinkHtml;\n",
              "          element.appendChild(docLink);\n",
              "        }\n",
              "      </script>\n",
              "    </div>\n",
              "  </div>\n",
              "  "
            ]
          },
          "metadata": {},
          "execution_count": 71
        }
      ],
      "source": [
        "pd.read_json('''\n",
        "             {\"Name\":\"Donald Trump\",\"Age\":73}\n",
        "             {\"Name\":\"Barak Obama\", \"Age\":58}\n",
        "            ''',orient='records',lines=True)"
      ]
    },
    {
      "cell_type": "markdown",
      "metadata": {
        "cell_id": "00121-1e35d05f-c794-4f1a-8008-f939e469ba6e",
        "deepnote_cell_type": "markdown",
        "id": "sYfWnw1e2wfi"
      },
      "source": [
        "__Activity__: \n",
        "* Save to a file instead of `None`, with options: `orient='records',lines=True`, and open the file with some editor. "
      ]
    },
    {
      "cell_type": "code",
      "execution_count": 72,
      "metadata": {
        "cell_id": "00122-4d55c964-e9b3-49e0-8f04-d008caafc148",
        "deepnote_cell_type": "code",
        "id": "S9wv93dM3KER"
      },
      "outputs": [],
      "source": [
        "df.to_json('presidents.json',orient='records',lines=True)"
      ]
    },
    {
      "cell_type": "code",
      "source": [
        "cat presidents.json"
      ],
      "metadata": {
        "colab": {
          "base_uri": "https://localhost:8080/"
        },
        "id": "bdvsTjQ5Sez2",
        "outputId": "dde80ade-4655-410d-c48d-6c180dd5413d"
      },
      "execution_count": 73,
      "outputs": [
        {
          "output_type": "stream",
          "name": "stdout",
          "text": [
            "{\"Name\":\"Donald Trump\",\"Age\":74}\n",
            "{\"Name\":\"Barak Obama\",\"Age\":59}\n"
          ]
        }
      ]
    },
    {
      "cell_type": "markdown",
      "metadata": {
        "cell_id": "00123-5793b240-c88d-4ed8-8a7a-7039b03bb45f",
        "deepnote_cell_type": "markdown",
        "id": "bGYW8Xl-3Kdi"
      },
      "source": [
        "* Add a similar dictionary in the next new line, and try to\n",
        "load the resulting file with `pd.read_json` with options: `orient='records',lines=True`. \n",
        "   * WARNING: Use doble-quotes `\"` to write the keys od the new\n",
        "dictionary"
      ]
    },
    {
      "cell_type": "code",
      "source": [
        "pd.read_json('''\n",
        "             {\"Name\":\"Donald Trump\",\"Age\":73}\n",
        "             {\"Name\":\"Barak Obama\", \"Age\":58}\n",
        "             {\"Name\":\"Geoge Bush\", \"Age\":100}\n",
        "            ''',orient='records',lines=True)"
      ],
      "metadata": {
        "colab": {
          "base_uri": "https://localhost:8080/",
          "height": 143
        },
        "id": "_ro19k9HWUvA",
        "outputId": "e8c04681-9805-4d06-d501-712343f2b4f6"
      },
      "execution_count": 74,
      "outputs": [
        {
          "output_type": "execute_result",
          "data": {
            "text/plain": [
              "           Name  Age\n",
              "0  Donald Trump   73\n",
              "1   Barak Obama   58\n",
              "2    Geoge Bush  100"
            ],
            "text/html": [
              "\n",
              "  <div id=\"df-13ddc09c-34cc-4e67-a3c3-e8289778e09c\">\n",
              "    <div class=\"colab-df-container\">\n",
              "      <div>\n",
              "<style scoped>\n",
              "    .dataframe tbody tr th:only-of-type {\n",
              "        vertical-align: middle;\n",
              "    }\n",
              "\n",
              "    .dataframe tbody tr th {\n",
              "        vertical-align: top;\n",
              "    }\n",
              "\n",
              "    .dataframe thead th {\n",
              "        text-align: right;\n",
              "    }\n",
              "</style>\n",
              "<table border=\"1\" class=\"dataframe\">\n",
              "  <thead>\n",
              "    <tr style=\"text-align: right;\">\n",
              "      <th></th>\n",
              "      <th>Name</th>\n",
              "      <th>Age</th>\n",
              "    </tr>\n",
              "  </thead>\n",
              "  <tbody>\n",
              "    <tr>\n",
              "      <th>0</th>\n",
              "      <td>Donald Trump</td>\n",
              "      <td>73</td>\n",
              "    </tr>\n",
              "    <tr>\n",
              "      <th>1</th>\n",
              "      <td>Barak Obama</td>\n",
              "      <td>58</td>\n",
              "    </tr>\n",
              "    <tr>\n",
              "      <th>2</th>\n",
              "      <td>Geoge Bush</td>\n",
              "      <td>100</td>\n",
              "    </tr>\n",
              "  </tbody>\n",
              "</table>\n",
              "</div>\n",
              "      <button class=\"colab-df-convert\" onclick=\"convertToInteractive('df-13ddc09c-34cc-4e67-a3c3-e8289778e09c')\"\n",
              "              title=\"Convert this dataframe to an interactive table.\"\n",
              "              style=\"display:none;\">\n",
              "        \n",
              "  <svg xmlns=\"http://www.w3.org/2000/svg\" height=\"24px\"viewBox=\"0 0 24 24\"\n",
              "       width=\"24px\">\n",
              "    <path d=\"M0 0h24v24H0V0z\" fill=\"none\"/>\n",
              "    <path d=\"M18.56 5.44l.94 2.06.94-2.06 2.06-.94-2.06-.94-.94-2.06-.94 2.06-2.06.94zm-11 1L8.5 8.5l.94-2.06 2.06-.94-2.06-.94L8.5 2.5l-.94 2.06-2.06.94zm10 10l.94 2.06.94-2.06 2.06-.94-2.06-.94-.94-2.06-.94 2.06-2.06.94z\"/><path d=\"M17.41 7.96l-1.37-1.37c-.4-.4-.92-.59-1.43-.59-.52 0-1.04.2-1.43.59L10.3 9.45l-7.72 7.72c-.78.78-.78 2.05 0 2.83L4 21.41c.39.39.9.59 1.41.59.51 0 1.02-.2 1.41-.59l7.78-7.78 2.81-2.81c.8-.78.8-2.07 0-2.86zM5.41 20L4 18.59l7.72-7.72 1.47 1.35L5.41 20z\"/>\n",
              "  </svg>\n",
              "      </button>\n",
              "      \n",
              "  <style>\n",
              "    .colab-df-container {\n",
              "      display:flex;\n",
              "      flex-wrap:wrap;\n",
              "      gap: 12px;\n",
              "    }\n",
              "\n",
              "    .colab-df-convert {\n",
              "      background-color: #E8F0FE;\n",
              "      border: none;\n",
              "      border-radius: 50%;\n",
              "      cursor: pointer;\n",
              "      display: none;\n",
              "      fill: #1967D2;\n",
              "      height: 32px;\n",
              "      padding: 0 0 0 0;\n",
              "      width: 32px;\n",
              "    }\n",
              "\n",
              "    .colab-df-convert:hover {\n",
              "      background-color: #E2EBFA;\n",
              "      box-shadow: 0px 1px 2px rgba(60, 64, 67, 0.3), 0px 1px 3px 1px rgba(60, 64, 67, 0.15);\n",
              "      fill: #174EA6;\n",
              "    }\n",
              "\n",
              "    [theme=dark] .colab-df-convert {\n",
              "      background-color: #3B4455;\n",
              "      fill: #D2E3FC;\n",
              "    }\n",
              "\n",
              "    [theme=dark] .colab-df-convert:hover {\n",
              "      background-color: #434B5C;\n",
              "      box-shadow: 0px 1px 3px 1px rgba(0, 0, 0, 0.15);\n",
              "      filter: drop-shadow(0px 1px 2px rgba(0, 0, 0, 0.3));\n",
              "      fill: #FFFFFF;\n",
              "    }\n",
              "  </style>\n",
              "\n",
              "      <script>\n",
              "        const buttonEl =\n",
              "          document.querySelector('#df-13ddc09c-34cc-4e67-a3c3-e8289778e09c button.colab-df-convert');\n",
              "        buttonEl.style.display =\n",
              "          google.colab.kernel.accessAllowed ? 'block' : 'none';\n",
              "\n",
              "        async function convertToInteractive(key) {\n",
              "          const element = document.querySelector('#df-13ddc09c-34cc-4e67-a3c3-e8289778e09c');\n",
              "          const dataTable =\n",
              "            await google.colab.kernel.invokeFunction('convertToInteractive',\n",
              "                                                     [key], {});\n",
              "          if (!dataTable) return;\n",
              "\n",
              "          const docLinkHtml = 'Like what you see? Visit the ' +\n",
              "            '<a target=\"_blank\" href=https://colab.research.google.com/notebooks/data_table.ipynb>data table notebook</a>'\n",
              "            + ' to learn more about interactive tables.';\n",
              "          element.innerHTML = '';\n",
              "          dataTable['output_type'] = 'display_data';\n",
              "          await google.colab.output.renderOutput(dataTable, element);\n",
              "          const docLink = document.createElement('div');\n",
              "          docLink.innerHTML = docLinkHtml;\n",
              "          element.appendChild(docLink);\n",
              "        }\n",
              "      </script>\n",
              "    </div>\n",
              "  </div>\n",
              "  "
            ]
          },
          "metadata": {},
          "execution_count": 74
        }
      ]
    },
    {
      "cell_type": "markdown",
      "metadata": {
        "cell_id": "00124-8fdef546-5acb-4662-a477-79e7e56b5ab0",
        "deepnote_cell_type": "markdown",
        "id": "icGCveT34HDA"
      },
      "source": [
        "Any Python string need to be converted first to double-quotes before to be used as JSON string.\n",
        "\n",
        "__Example__"
      ]
    },
    {
      "cell_type": "code",
      "execution_count": 75,
      "metadata": {
        "cell_id": "00125-8eb6882d-f964-487a-854a-5f26c07b1035",
        "deepnote_cell_type": "code",
        "id": "mPRCSHbG4dRx"
      },
      "outputs": [],
      "source": [
        "numbers={\"even\": [0,2,4,-6,8],   #  First  key-list\n",
        "         \"odd\" : [1,3,-5,7,9] }  #  Second key-list"
      ]
    },
    {
      "cell_type": "code",
      "execution_count": 76,
      "metadata": {
        "cell_id": "00126-8b43f478-80c5-4dde-90c1-56c760b3bbbf",
        "deepnote_cell_type": "code",
        "id": "HaCL2l3RCnFa",
        "outputId": "795857f8-7371-45d6-fc59-11bc758b02ea",
        "colab": {
          "base_uri": "https://localhost:8080/"
        }
      },
      "outputs": [
        {
          "output_type": "execute_result",
          "data": {
            "text/plain": [
              "{'even': [0, 2, 4, -6, 8], 'odd': [1, 3, -5, 7, 9]}"
            ]
          },
          "metadata": {},
          "execution_count": 76
        }
      ],
      "source": [
        "numbers"
      ]
    },
    {
      "cell_type": "code",
      "execution_count": 77,
      "metadata": {
        "cell_id": "00127-6eed42d7-e148-4fe2-a336-1020b086422d",
        "colab": {
          "base_uri": "https://localhost:8080/",
          "height": 35
        },
        "deepnote_cell_type": "code",
        "id": "An-yzTut4gtw",
        "outputId": "aeca13fc-8000-4baa-afbd-4df5313d4de3"
      },
      "outputs": [
        {
          "output_type": "execute_result",
          "data": {
            "text/plain": [
              "\"{'even': [0, 2, 4, -6, 8], 'odd': [1, 3, -5, 7, 9]}\""
            ],
            "application/vnd.google.colaboratory.intrinsic+json": {
              "type": "string"
            }
          },
          "metadata": {},
          "execution_count": 77
        }
      ],
      "source": [
        "str(numbers)"
      ]
    },
    {
      "cell_type": "markdown",
      "metadata": {
        "cell_id": "00128-88abc63b-351f-4fd8-98c0-10cb52230870",
        "deepnote_cell_type": "markdown",
        "id": "BFCE3Hq34ktw"
      },
      "source": [
        "This string can be writing in the `JSON` format by replacing the single quotes, ' , by  duoble quotes, \":"
      ]
    },
    {
      "cell_type": "code",
      "execution_count": 78,
      "metadata": {
        "cell_id": "00129-077cac5a-d328-436a-b590-181f5bc5a8d8",
        "colab": {
          "base_uri": "https://localhost:8080/",
          "height": 35
        },
        "deepnote_cell_type": "code",
        "id": "PJVD2Btc4nJx",
        "outputId": "9bbb6037-ffee-4032-f8b4-3f9ae8d97fb8"
      },
      "outputs": [
        {
          "output_type": "execute_result",
          "data": {
            "text/plain": [
              "'{\"even\": [0, 2, 4, -6, 8], \"odd\": [1, 3, -5, 7, 9]}'"
            ],
            "application/vnd.google.colaboratory.intrinsic+json": {
              "type": "string"
            }
          },
          "metadata": {},
          "execution_count": 78
        }
      ],
      "source": [
        "str(numbers).replace(\"'\",'\"')"
      ]
    },
    {
      "cell_type": "markdown",
      "metadata": {
        "cell_id": "00130-a2a20551-1d74-470a-9923-974394855938",
        "deepnote_cell_type": "markdown",
        "id": "zDssJstU45Qi"
      },
      "source": [
        "and now can be used as an JSON input"
      ]
    },
    {
      "cell_type": "code",
      "execution_count": 79,
      "metadata": {
        "cell_id": "00131-90d378ec-4eb8-4654-a447-0af782b2d942",
        "deepnote_cell_type": "code",
        "id": "HxbaP5T542_h",
        "outputId": "a650ab46-7b8e-4e7d-fba4-a8475c455ab4",
        "colab": {
          "base_uri": "https://localhost:8080/",
          "height": 206
        }
      },
      "outputs": [
        {
          "output_type": "execute_result",
          "data": {
            "text/plain": [
              "   even  odd\n",
              "0     0    1\n",
              "1     2    3\n",
              "2     4   -5\n",
              "3    -6    7\n",
              "4     8    9"
            ],
            "text/html": [
              "\n",
              "  <div id=\"df-2845ac9c-b1d1-4da7-b68f-fd698a15f2dc\">\n",
              "    <div class=\"colab-df-container\">\n",
              "      <div>\n",
              "<style scoped>\n",
              "    .dataframe tbody tr th:only-of-type {\n",
              "        vertical-align: middle;\n",
              "    }\n",
              "\n",
              "    .dataframe tbody tr th {\n",
              "        vertical-align: top;\n",
              "    }\n",
              "\n",
              "    .dataframe thead th {\n",
              "        text-align: right;\n",
              "    }\n",
              "</style>\n",
              "<table border=\"1\" class=\"dataframe\">\n",
              "  <thead>\n",
              "    <tr style=\"text-align: right;\">\n",
              "      <th></th>\n",
              "      <th>even</th>\n",
              "      <th>odd</th>\n",
              "    </tr>\n",
              "  </thead>\n",
              "  <tbody>\n",
              "    <tr>\n",
              "      <th>0</th>\n",
              "      <td>0</td>\n",
              "      <td>1</td>\n",
              "    </tr>\n",
              "    <tr>\n",
              "      <th>1</th>\n",
              "      <td>2</td>\n",
              "      <td>3</td>\n",
              "    </tr>\n",
              "    <tr>\n",
              "      <th>2</th>\n",
              "      <td>4</td>\n",
              "      <td>-5</td>\n",
              "    </tr>\n",
              "    <tr>\n",
              "      <th>3</th>\n",
              "      <td>-6</td>\n",
              "      <td>7</td>\n",
              "    </tr>\n",
              "    <tr>\n",
              "      <th>4</th>\n",
              "      <td>8</td>\n",
              "      <td>9</td>\n",
              "    </tr>\n",
              "  </tbody>\n",
              "</table>\n",
              "</div>\n",
              "      <button class=\"colab-df-convert\" onclick=\"convertToInteractive('df-2845ac9c-b1d1-4da7-b68f-fd698a15f2dc')\"\n",
              "              title=\"Convert this dataframe to an interactive table.\"\n",
              "              style=\"display:none;\">\n",
              "        \n",
              "  <svg xmlns=\"http://www.w3.org/2000/svg\" height=\"24px\"viewBox=\"0 0 24 24\"\n",
              "       width=\"24px\">\n",
              "    <path d=\"M0 0h24v24H0V0z\" fill=\"none\"/>\n",
              "    <path d=\"M18.56 5.44l.94 2.06.94-2.06 2.06-.94-2.06-.94-.94-2.06-.94 2.06-2.06.94zm-11 1L8.5 8.5l.94-2.06 2.06-.94-2.06-.94L8.5 2.5l-.94 2.06-2.06.94zm10 10l.94 2.06.94-2.06 2.06-.94-2.06-.94-.94-2.06-.94 2.06-2.06.94z\"/><path d=\"M17.41 7.96l-1.37-1.37c-.4-.4-.92-.59-1.43-.59-.52 0-1.04.2-1.43.59L10.3 9.45l-7.72 7.72c-.78.78-.78 2.05 0 2.83L4 21.41c.39.39.9.59 1.41.59.51 0 1.02-.2 1.41-.59l7.78-7.78 2.81-2.81c.8-.78.8-2.07 0-2.86zM5.41 20L4 18.59l7.72-7.72 1.47 1.35L5.41 20z\"/>\n",
              "  </svg>\n",
              "      </button>\n",
              "      \n",
              "  <style>\n",
              "    .colab-df-container {\n",
              "      display:flex;\n",
              "      flex-wrap:wrap;\n",
              "      gap: 12px;\n",
              "    }\n",
              "\n",
              "    .colab-df-convert {\n",
              "      background-color: #E8F0FE;\n",
              "      border: none;\n",
              "      border-radius: 50%;\n",
              "      cursor: pointer;\n",
              "      display: none;\n",
              "      fill: #1967D2;\n",
              "      height: 32px;\n",
              "      padding: 0 0 0 0;\n",
              "      width: 32px;\n",
              "    }\n",
              "\n",
              "    .colab-df-convert:hover {\n",
              "      background-color: #E2EBFA;\n",
              "      box-shadow: 0px 1px 2px rgba(60, 64, 67, 0.3), 0px 1px 3px 1px rgba(60, 64, 67, 0.15);\n",
              "      fill: #174EA6;\n",
              "    }\n",
              "\n",
              "    [theme=dark] .colab-df-convert {\n",
              "      background-color: #3B4455;\n",
              "      fill: #D2E3FC;\n",
              "    }\n",
              "\n",
              "    [theme=dark] .colab-df-convert:hover {\n",
              "      background-color: #434B5C;\n",
              "      box-shadow: 0px 1px 3px 1px rgba(0, 0, 0, 0.15);\n",
              "      filter: drop-shadow(0px 1px 2px rgba(0, 0, 0, 0.3));\n",
              "      fill: #FFFFFF;\n",
              "    }\n",
              "  </style>\n",
              "\n",
              "      <script>\n",
              "        const buttonEl =\n",
              "          document.querySelector('#df-2845ac9c-b1d1-4da7-b68f-fd698a15f2dc button.colab-df-convert');\n",
              "        buttonEl.style.display =\n",
              "          google.colab.kernel.accessAllowed ? 'block' : 'none';\n",
              "\n",
              "        async function convertToInteractive(key) {\n",
              "          const element = document.querySelector('#df-2845ac9c-b1d1-4da7-b68f-fd698a15f2dc');\n",
              "          const dataTable =\n",
              "            await google.colab.kernel.invokeFunction('convertToInteractive',\n",
              "                                                     [key], {});\n",
              "          if (!dataTable) return;\n",
              "\n",
              "          const docLinkHtml = 'Like what you see? Visit the ' +\n",
              "            '<a target=\"_blank\" href=https://colab.research.google.com/notebooks/data_table.ipynb>data table notebook</a>'\n",
              "            + ' to learn more about interactive tables.';\n",
              "          element.innerHTML = '';\n",
              "          dataTable['output_type'] = 'display_data';\n",
              "          await google.colab.output.renderOutput(dataTable, element);\n",
              "          const docLink = document.createElement('div');\n",
              "          docLink.innerHTML = docLinkHtml;\n",
              "          element.appendChild(docLink);\n",
              "        }\n",
              "      </script>\n",
              "    </div>\n",
              "  </div>\n",
              "  "
            ]
          },
          "metadata": {},
          "execution_count": 79
        }
      ],
      "source": [
        "df=pd.read_json(  str(numbers).replace(\"'\",'\"') )\n",
        "df"
      ]
    },
    {
      "cell_type": "markdown",
      "metadata": {
        "cell_id": "00132-b0810565-a22d-4f66-b020-f06993aaa79c",
        "deepnote_cell_type": "markdown",
        "id": "EtqUn4t85Hlp"
      },
      "source": [
        "__Activity__: Try to read the string as JSON without make the double-quote replacement"
      ]
    },
    {
      "cell_type": "markdown",
      "metadata": {
        "cell_id": "00133-38528865-2883-419d-a318-6739da40857a",
        "deepnote_cell_type": "markdown",
        "id": "s2uApSIi8PjI"
      },
      "source": [
        "## Filters\n",
        "The main application of labeled data for data analysis is the possibility to make filers, or cuts, to obtain specific reduced datasets to further analysis"
      ]
    },
    {
      "cell_type": "code",
      "execution_count": 84,
      "metadata": {
        "id": "19Q2rIdSCnFc"
      },
      "outputs": [],
      "source": [
        "import pandas as pd"
      ]
    },
    {
      "cell_type": "code",
      "execution_count": 85,
      "metadata": {
        "id": "8VB-8zeRCnFc"
      },
      "outputs": [],
      "source": [
        "numbers={\"even\": [0,2,4,-6,8],   #  First  key-list\n",
        "         \"odd\" : [1,3,-5,7,9] }  #  Second key-list"
      ]
    },
    {
      "cell_type": "code",
      "execution_count": 86,
      "metadata": {
        "id": "1CPlBLUlCnFc"
      },
      "outputs": [],
      "source": [
        "df=pd.DataFrame(numbers)"
      ]
    },
    {
      "cell_type": "code",
      "execution_count": 87,
      "metadata": {
        "cell_id": "00134-ef5b47b0-51cd-47bf-9b8a-19ab931a22e5",
        "deepnote_cell_type": "code",
        "id": "bMoBOJ6cCnFc",
        "outputId": "070eda31-1698-4599-d8e9-396603d9982d",
        "colab": {
          "base_uri": "https://localhost:8080/",
          "height": 206
        }
      },
      "outputs": [
        {
          "output_type": "execute_result",
          "data": {
            "text/plain": [
              "   even  odd\n",
              "0     0    1\n",
              "1     2    3\n",
              "2     4   -5\n",
              "3    -6    7\n",
              "4     8    9"
            ],
            "text/html": [
              "\n",
              "  <div id=\"df-af31f240-764d-4f34-94c1-54edc5412595\">\n",
              "    <div class=\"colab-df-container\">\n",
              "      <div>\n",
              "<style scoped>\n",
              "    .dataframe tbody tr th:only-of-type {\n",
              "        vertical-align: middle;\n",
              "    }\n",
              "\n",
              "    .dataframe tbody tr th {\n",
              "        vertical-align: top;\n",
              "    }\n",
              "\n",
              "    .dataframe thead th {\n",
              "        text-align: right;\n",
              "    }\n",
              "</style>\n",
              "<table border=\"1\" class=\"dataframe\">\n",
              "  <thead>\n",
              "    <tr style=\"text-align: right;\">\n",
              "      <th></th>\n",
              "      <th>even</th>\n",
              "      <th>odd</th>\n",
              "    </tr>\n",
              "  </thead>\n",
              "  <tbody>\n",
              "    <tr>\n",
              "      <th>0</th>\n",
              "      <td>0</td>\n",
              "      <td>1</td>\n",
              "    </tr>\n",
              "    <tr>\n",
              "      <th>1</th>\n",
              "      <td>2</td>\n",
              "      <td>3</td>\n",
              "    </tr>\n",
              "    <tr>\n",
              "      <th>2</th>\n",
              "      <td>4</td>\n",
              "      <td>-5</td>\n",
              "    </tr>\n",
              "    <tr>\n",
              "      <th>3</th>\n",
              "      <td>-6</td>\n",
              "      <td>7</td>\n",
              "    </tr>\n",
              "    <tr>\n",
              "      <th>4</th>\n",
              "      <td>8</td>\n",
              "      <td>9</td>\n",
              "    </tr>\n",
              "  </tbody>\n",
              "</table>\n",
              "</div>\n",
              "      <button class=\"colab-df-convert\" onclick=\"convertToInteractive('df-af31f240-764d-4f34-94c1-54edc5412595')\"\n",
              "              title=\"Convert this dataframe to an interactive table.\"\n",
              "              style=\"display:none;\">\n",
              "        \n",
              "  <svg xmlns=\"http://www.w3.org/2000/svg\" height=\"24px\"viewBox=\"0 0 24 24\"\n",
              "       width=\"24px\">\n",
              "    <path d=\"M0 0h24v24H0V0z\" fill=\"none\"/>\n",
              "    <path d=\"M18.56 5.44l.94 2.06.94-2.06 2.06-.94-2.06-.94-.94-2.06-.94 2.06-2.06.94zm-11 1L8.5 8.5l.94-2.06 2.06-.94-2.06-.94L8.5 2.5l-.94 2.06-2.06.94zm10 10l.94 2.06.94-2.06 2.06-.94-2.06-.94-.94-2.06-.94 2.06-2.06.94z\"/><path d=\"M17.41 7.96l-1.37-1.37c-.4-.4-.92-.59-1.43-.59-.52 0-1.04.2-1.43.59L10.3 9.45l-7.72 7.72c-.78.78-.78 2.05 0 2.83L4 21.41c.39.39.9.59 1.41.59.51 0 1.02-.2 1.41-.59l7.78-7.78 2.81-2.81c.8-.78.8-2.07 0-2.86zM5.41 20L4 18.59l7.72-7.72 1.47 1.35L5.41 20z\"/>\n",
              "  </svg>\n",
              "      </button>\n",
              "      \n",
              "  <style>\n",
              "    .colab-df-container {\n",
              "      display:flex;\n",
              "      flex-wrap:wrap;\n",
              "      gap: 12px;\n",
              "    }\n",
              "\n",
              "    .colab-df-convert {\n",
              "      background-color: #E8F0FE;\n",
              "      border: none;\n",
              "      border-radius: 50%;\n",
              "      cursor: pointer;\n",
              "      display: none;\n",
              "      fill: #1967D2;\n",
              "      height: 32px;\n",
              "      padding: 0 0 0 0;\n",
              "      width: 32px;\n",
              "    }\n",
              "\n",
              "    .colab-df-convert:hover {\n",
              "      background-color: #E2EBFA;\n",
              "      box-shadow: 0px 1px 2px rgba(60, 64, 67, 0.3), 0px 1px 3px 1px rgba(60, 64, 67, 0.15);\n",
              "      fill: #174EA6;\n",
              "    }\n",
              "\n",
              "    [theme=dark] .colab-df-convert {\n",
              "      background-color: #3B4455;\n",
              "      fill: #D2E3FC;\n",
              "    }\n",
              "\n",
              "    [theme=dark] .colab-df-convert:hover {\n",
              "      background-color: #434B5C;\n",
              "      box-shadow: 0px 1px 3px 1px rgba(0, 0, 0, 0.15);\n",
              "      filter: drop-shadow(0px 1px 2px rgba(0, 0, 0, 0.3));\n",
              "      fill: #FFFFFF;\n",
              "    }\n",
              "  </style>\n",
              "\n",
              "      <script>\n",
              "        const buttonEl =\n",
              "          document.querySelector('#df-af31f240-764d-4f34-94c1-54edc5412595 button.colab-df-convert');\n",
              "        buttonEl.style.display =\n",
              "          google.colab.kernel.accessAllowed ? 'block' : 'none';\n",
              "\n",
              "        async function convertToInteractive(key) {\n",
              "          const element = document.querySelector('#df-af31f240-764d-4f34-94c1-54edc5412595');\n",
              "          const dataTable =\n",
              "            await google.colab.kernel.invokeFunction('convertToInteractive',\n",
              "                                                     [key], {});\n",
              "          if (!dataTable) return;\n",
              "\n",
              "          const docLinkHtml = 'Like what you see? Visit the ' +\n",
              "            '<a target=\"_blank\" href=https://colab.research.google.com/notebooks/data_table.ipynb>data table notebook</a>'\n",
              "            + ' to learn more about interactive tables.';\n",
              "          element.innerHTML = '';\n",
              "          dataTable['output_type'] = 'display_data';\n",
              "          await google.colab.output.renderOutput(dataTable, element);\n",
              "          const docLink = document.createElement('div');\n",
              "          docLink.innerHTML = docLinkHtml;\n",
              "          element.appendChild(docLink);\n",
              "        }\n",
              "      </script>\n",
              "    </div>\n",
              "  </div>\n",
              "  "
            ]
          },
          "metadata": {},
          "execution_count": 87
        }
      ],
      "source": [
        "df"
      ]
    },
    {
      "cell_type": "markdown",
      "metadata": {
        "id": "4JaroSt_CnFc"
      },
      "source": [
        "A filter is a list of `True/False` values"
      ]
    },
    {
      "cell_type": "code",
      "execution_count": 88,
      "metadata": {
        "id": "OhGDF0zxCnFd",
        "outputId": "f01188bb-9a66-4b21-83b7-2f5448120de3",
        "colab": {
          "base_uri": "https://localhost:8080/"
        }
      },
      "outputs": [
        {
          "output_type": "execute_result",
          "data": {
            "text/plain": [
              "0    False\n",
              "1    False\n",
              "2    False\n",
              "3     True\n",
              "4     True\n",
              "Name: even, dtype: bool"
            ]
          },
          "metadata": {},
          "execution_count": 88
        }
      ],
      "source": [
        "df.even.abs()>4"
      ]
    },
    {
      "cell_type": "code",
      "execution_count": 89,
      "metadata": {
        "cell_id": "00135-26b7e2ad-8ed0-4c5c-a903-7dcc2a3d065d",
        "colab": {
          "base_uri": "https://localhost:8080/",
          "height": 112
        },
        "deepnote_cell_type": "code",
        "id": "zt2S0aln8_4s",
        "outputId": "9fe08832-45c9-447b-a548-f26b2b72a644"
      },
      "outputs": [
        {
          "output_type": "execute_result",
          "data": {
            "text/plain": [
              "   even  odd\n",
              "3    -6    7\n",
              "4     8    9"
            ],
            "text/html": [
              "\n",
              "  <div id=\"df-778b766e-cc72-433c-b274-e8be75481f4c\">\n",
              "    <div class=\"colab-df-container\">\n",
              "      <div>\n",
              "<style scoped>\n",
              "    .dataframe tbody tr th:only-of-type {\n",
              "        vertical-align: middle;\n",
              "    }\n",
              "\n",
              "    .dataframe tbody tr th {\n",
              "        vertical-align: top;\n",
              "    }\n",
              "\n",
              "    .dataframe thead th {\n",
              "        text-align: right;\n",
              "    }\n",
              "</style>\n",
              "<table border=\"1\" class=\"dataframe\">\n",
              "  <thead>\n",
              "    <tr style=\"text-align: right;\">\n",
              "      <th></th>\n",
              "      <th>even</th>\n",
              "      <th>odd</th>\n",
              "    </tr>\n",
              "  </thead>\n",
              "  <tbody>\n",
              "    <tr>\n",
              "      <th>3</th>\n",
              "      <td>-6</td>\n",
              "      <td>7</td>\n",
              "    </tr>\n",
              "    <tr>\n",
              "      <th>4</th>\n",
              "      <td>8</td>\n",
              "      <td>9</td>\n",
              "    </tr>\n",
              "  </tbody>\n",
              "</table>\n",
              "</div>\n",
              "      <button class=\"colab-df-convert\" onclick=\"convertToInteractive('df-778b766e-cc72-433c-b274-e8be75481f4c')\"\n",
              "              title=\"Convert this dataframe to an interactive table.\"\n",
              "              style=\"display:none;\">\n",
              "        \n",
              "  <svg xmlns=\"http://www.w3.org/2000/svg\" height=\"24px\"viewBox=\"0 0 24 24\"\n",
              "       width=\"24px\">\n",
              "    <path d=\"M0 0h24v24H0V0z\" fill=\"none\"/>\n",
              "    <path d=\"M18.56 5.44l.94 2.06.94-2.06 2.06-.94-2.06-.94-.94-2.06-.94 2.06-2.06.94zm-11 1L8.5 8.5l.94-2.06 2.06-.94-2.06-.94L8.5 2.5l-.94 2.06-2.06.94zm10 10l.94 2.06.94-2.06 2.06-.94-2.06-.94-.94-2.06-.94 2.06-2.06.94z\"/><path d=\"M17.41 7.96l-1.37-1.37c-.4-.4-.92-.59-1.43-.59-.52 0-1.04.2-1.43.59L10.3 9.45l-7.72 7.72c-.78.78-.78 2.05 0 2.83L4 21.41c.39.39.9.59 1.41.59.51 0 1.02-.2 1.41-.59l7.78-7.78 2.81-2.81c.8-.78.8-2.07 0-2.86zM5.41 20L4 18.59l7.72-7.72 1.47 1.35L5.41 20z\"/>\n",
              "  </svg>\n",
              "      </button>\n",
              "      \n",
              "  <style>\n",
              "    .colab-df-container {\n",
              "      display:flex;\n",
              "      flex-wrap:wrap;\n",
              "      gap: 12px;\n",
              "    }\n",
              "\n",
              "    .colab-df-convert {\n",
              "      background-color: #E8F0FE;\n",
              "      border: none;\n",
              "      border-radius: 50%;\n",
              "      cursor: pointer;\n",
              "      display: none;\n",
              "      fill: #1967D2;\n",
              "      height: 32px;\n",
              "      padding: 0 0 0 0;\n",
              "      width: 32px;\n",
              "    }\n",
              "\n",
              "    .colab-df-convert:hover {\n",
              "      background-color: #E2EBFA;\n",
              "      box-shadow: 0px 1px 2px rgba(60, 64, 67, 0.3), 0px 1px 3px 1px rgba(60, 64, 67, 0.15);\n",
              "      fill: #174EA6;\n",
              "    }\n",
              "\n",
              "    [theme=dark] .colab-df-convert {\n",
              "      background-color: #3B4455;\n",
              "      fill: #D2E3FC;\n",
              "    }\n",
              "\n",
              "    [theme=dark] .colab-df-convert:hover {\n",
              "      background-color: #434B5C;\n",
              "      box-shadow: 0px 1px 3px 1px rgba(0, 0, 0, 0.15);\n",
              "      filter: drop-shadow(0px 1px 2px rgba(0, 0, 0, 0.3));\n",
              "      fill: #FFFFFF;\n",
              "    }\n",
              "  </style>\n",
              "\n",
              "      <script>\n",
              "        const buttonEl =\n",
              "          document.querySelector('#df-778b766e-cc72-433c-b274-e8be75481f4c button.colab-df-convert');\n",
              "        buttonEl.style.display =\n",
              "          google.colab.kernel.accessAllowed ? 'block' : 'none';\n",
              "\n",
              "        async function convertToInteractive(key) {\n",
              "          const element = document.querySelector('#df-778b766e-cc72-433c-b274-e8be75481f4c');\n",
              "          const dataTable =\n",
              "            await google.colab.kernel.invokeFunction('convertToInteractive',\n",
              "                                                     [key], {});\n",
              "          if (!dataTable) return;\n",
              "\n",
              "          const docLinkHtml = 'Like what you see? Visit the ' +\n",
              "            '<a target=\"_blank\" href=https://colab.research.google.com/notebooks/data_table.ipynb>data table notebook</a>'\n",
              "            + ' to learn more about interactive tables.';\n",
              "          element.innerHTML = '';\n",
              "          dataTable['output_type'] = 'display_data';\n",
              "          await google.colab.output.renderOutput(dataTable, element);\n",
              "          const docLink = document.createElement('div');\n",
              "          docLink.innerHTML = docLinkHtml;\n",
              "          element.appendChild(docLink);\n",
              "        }\n",
              "      </script>\n",
              "    </div>\n",
              "  </div>\n",
              "  "
            ]
          },
          "metadata": {},
          "execution_count": 89
        }
      ],
      "source": [
        "df[df.even.abs()>4]"
      ]
    },
    {
      "cell_type": "code",
      "execution_count": 90,
      "metadata": {
        "cell_id": "00136-02a253ad-bdf0-4501-8cdd-552e09512321",
        "colab": {
          "base_uri": "https://localhost:8080/",
          "height": 81
        },
        "deepnote_cell_type": "code",
        "id": "eVSePCQB9GFe",
        "outputId": "5c08259f-d7c2-4998-a9fc-5206eab31b6d"
      },
      "outputs": [
        {
          "output_type": "execute_result",
          "data": {
            "text/plain": [
              "   even  odd\n",
              "2     4   -5"
            ],
            "text/html": [
              "\n",
              "  <div id=\"df-6345161a-6ad7-4af8-b0b3-ef45e1ca9d4c\">\n",
              "    <div class=\"colab-df-container\">\n",
              "      <div>\n",
              "<style scoped>\n",
              "    .dataframe tbody tr th:only-of-type {\n",
              "        vertical-align: middle;\n",
              "    }\n",
              "\n",
              "    .dataframe tbody tr th {\n",
              "        vertical-align: top;\n",
              "    }\n",
              "\n",
              "    .dataframe thead th {\n",
              "        text-align: right;\n",
              "    }\n",
              "</style>\n",
              "<table border=\"1\" class=\"dataframe\">\n",
              "  <thead>\n",
              "    <tr style=\"text-align: right;\">\n",
              "      <th></th>\n",
              "      <th>even</th>\n",
              "      <th>odd</th>\n",
              "    </tr>\n",
              "  </thead>\n",
              "  <tbody>\n",
              "    <tr>\n",
              "      <th>2</th>\n",
              "      <td>4</td>\n",
              "      <td>-5</td>\n",
              "    </tr>\n",
              "  </tbody>\n",
              "</table>\n",
              "</div>\n",
              "      <button class=\"colab-df-convert\" onclick=\"convertToInteractive('df-6345161a-6ad7-4af8-b0b3-ef45e1ca9d4c')\"\n",
              "              title=\"Convert this dataframe to an interactive table.\"\n",
              "              style=\"display:none;\">\n",
              "        \n",
              "  <svg xmlns=\"http://www.w3.org/2000/svg\" height=\"24px\"viewBox=\"0 0 24 24\"\n",
              "       width=\"24px\">\n",
              "    <path d=\"M0 0h24v24H0V0z\" fill=\"none\"/>\n",
              "    <path d=\"M18.56 5.44l.94 2.06.94-2.06 2.06-.94-2.06-.94-.94-2.06-.94 2.06-2.06.94zm-11 1L8.5 8.5l.94-2.06 2.06-.94-2.06-.94L8.5 2.5l-.94 2.06-2.06.94zm10 10l.94 2.06.94-2.06 2.06-.94-2.06-.94-.94-2.06-.94 2.06-2.06.94z\"/><path d=\"M17.41 7.96l-1.37-1.37c-.4-.4-.92-.59-1.43-.59-.52 0-1.04.2-1.43.59L10.3 9.45l-7.72 7.72c-.78.78-.78 2.05 0 2.83L4 21.41c.39.39.9.59 1.41.59.51 0 1.02-.2 1.41-.59l7.78-7.78 2.81-2.81c.8-.78.8-2.07 0-2.86zM5.41 20L4 18.59l7.72-7.72 1.47 1.35L5.41 20z\"/>\n",
              "  </svg>\n",
              "      </button>\n",
              "      \n",
              "  <style>\n",
              "    .colab-df-container {\n",
              "      display:flex;\n",
              "      flex-wrap:wrap;\n",
              "      gap: 12px;\n",
              "    }\n",
              "\n",
              "    .colab-df-convert {\n",
              "      background-color: #E8F0FE;\n",
              "      border: none;\n",
              "      border-radius: 50%;\n",
              "      cursor: pointer;\n",
              "      display: none;\n",
              "      fill: #1967D2;\n",
              "      height: 32px;\n",
              "      padding: 0 0 0 0;\n",
              "      width: 32px;\n",
              "    }\n",
              "\n",
              "    .colab-df-convert:hover {\n",
              "      background-color: #E2EBFA;\n",
              "      box-shadow: 0px 1px 2px rgba(60, 64, 67, 0.3), 0px 1px 3px 1px rgba(60, 64, 67, 0.15);\n",
              "      fill: #174EA6;\n",
              "    }\n",
              "\n",
              "    [theme=dark] .colab-df-convert {\n",
              "      background-color: #3B4455;\n",
              "      fill: #D2E3FC;\n",
              "    }\n",
              "\n",
              "    [theme=dark] .colab-df-convert:hover {\n",
              "      background-color: #434B5C;\n",
              "      box-shadow: 0px 1px 3px 1px rgba(0, 0, 0, 0.15);\n",
              "      filter: drop-shadow(0px 1px 2px rgba(0, 0, 0, 0.3));\n",
              "      fill: #FFFFFF;\n",
              "    }\n",
              "  </style>\n",
              "\n",
              "      <script>\n",
              "        const buttonEl =\n",
              "          document.querySelector('#df-6345161a-6ad7-4af8-b0b3-ef45e1ca9d4c button.colab-df-convert');\n",
              "        buttonEl.style.display =\n",
              "          google.colab.kernel.accessAllowed ? 'block' : 'none';\n",
              "\n",
              "        async function convertToInteractive(key) {\n",
              "          const element = document.querySelector('#df-6345161a-6ad7-4af8-b0b3-ef45e1ca9d4c');\n",
              "          const dataTable =\n",
              "            await google.colab.kernel.invokeFunction('convertToInteractive',\n",
              "                                                     [key], {});\n",
              "          if (!dataTable) return;\n",
              "\n",
              "          const docLinkHtml = 'Like what you see? Visit the ' +\n",
              "            '<a target=\"_blank\" href=https://colab.research.google.com/notebooks/data_table.ipynb>data table notebook</a>'\n",
              "            + ' to learn more about interactive tables.';\n",
              "          element.innerHTML = '';\n",
              "          dataTable['output_type'] = 'display_data';\n",
              "          await google.colab.output.renderOutput(dataTable, element);\n",
              "          const docLink = document.createElement('div');\n",
              "          docLink.innerHTML = docLinkHtml;\n",
              "          element.appendChild(docLink);\n",
              "        }\n",
              "      </script>\n",
              "    </div>\n",
              "  </div>\n",
              "  "
            ]
          },
          "metadata": {},
          "execution_count": 90
        }
      ],
      "source": [
        "#and\n",
        "df[(df.even>0) & (df.odd<0)]"
      ]
    },
    {
      "cell_type": "code",
      "execution_count": 91,
      "metadata": {
        "cell_id": "00137-922f9b25-8146-4da0-899c-3d49f450c068",
        "deepnote_cell_type": "code",
        "id": "sPKcXr5_CnFd",
        "outputId": "51a91d71-7ba3-4608-e675-c1e4697f040f",
        "colab": {
          "base_uri": "https://localhost:8080/",
          "height": 175
        }
      },
      "outputs": [
        {
          "output_type": "execute_result",
          "data": {
            "text/plain": [
              "   even  odd\n",
              "0     0    1\n",
              "1     2    3\n",
              "3    -6    7\n",
              "4     8    9"
            ],
            "text/html": [
              "\n",
              "  <div id=\"df-5e621816-07a2-404e-92bb-e04ee04a98a3\">\n",
              "    <div class=\"colab-df-container\">\n",
              "      <div>\n",
              "<style scoped>\n",
              "    .dataframe tbody tr th:only-of-type {\n",
              "        vertical-align: middle;\n",
              "    }\n",
              "\n",
              "    .dataframe tbody tr th {\n",
              "        vertical-align: top;\n",
              "    }\n",
              "\n",
              "    .dataframe thead th {\n",
              "        text-align: right;\n",
              "    }\n",
              "</style>\n",
              "<table border=\"1\" class=\"dataframe\">\n",
              "  <thead>\n",
              "    <tr style=\"text-align: right;\">\n",
              "      <th></th>\n",
              "      <th>even</th>\n",
              "      <th>odd</th>\n",
              "    </tr>\n",
              "  </thead>\n",
              "  <tbody>\n",
              "    <tr>\n",
              "      <th>0</th>\n",
              "      <td>0</td>\n",
              "      <td>1</td>\n",
              "    </tr>\n",
              "    <tr>\n",
              "      <th>1</th>\n",
              "      <td>2</td>\n",
              "      <td>3</td>\n",
              "    </tr>\n",
              "    <tr>\n",
              "      <th>3</th>\n",
              "      <td>-6</td>\n",
              "      <td>7</td>\n",
              "    </tr>\n",
              "    <tr>\n",
              "      <th>4</th>\n",
              "      <td>8</td>\n",
              "      <td>9</td>\n",
              "    </tr>\n",
              "  </tbody>\n",
              "</table>\n",
              "</div>\n",
              "      <button class=\"colab-df-convert\" onclick=\"convertToInteractive('df-5e621816-07a2-404e-92bb-e04ee04a98a3')\"\n",
              "              title=\"Convert this dataframe to an interactive table.\"\n",
              "              style=\"display:none;\">\n",
              "        \n",
              "  <svg xmlns=\"http://www.w3.org/2000/svg\" height=\"24px\"viewBox=\"0 0 24 24\"\n",
              "       width=\"24px\">\n",
              "    <path d=\"M0 0h24v24H0V0z\" fill=\"none\"/>\n",
              "    <path d=\"M18.56 5.44l.94 2.06.94-2.06 2.06-.94-2.06-.94-.94-2.06-.94 2.06-2.06.94zm-11 1L8.5 8.5l.94-2.06 2.06-.94-2.06-.94L8.5 2.5l-.94 2.06-2.06.94zm10 10l.94 2.06.94-2.06 2.06-.94-2.06-.94-.94-2.06-.94 2.06-2.06.94z\"/><path d=\"M17.41 7.96l-1.37-1.37c-.4-.4-.92-.59-1.43-.59-.52 0-1.04.2-1.43.59L10.3 9.45l-7.72 7.72c-.78.78-.78 2.05 0 2.83L4 21.41c.39.39.9.59 1.41.59.51 0 1.02-.2 1.41-.59l7.78-7.78 2.81-2.81c.8-.78.8-2.07 0-2.86zM5.41 20L4 18.59l7.72-7.72 1.47 1.35L5.41 20z\"/>\n",
              "  </svg>\n",
              "      </button>\n",
              "      \n",
              "  <style>\n",
              "    .colab-df-container {\n",
              "      display:flex;\n",
              "      flex-wrap:wrap;\n",
              "      gap: 12px;\n",
              "    }\n",
              "\n",
              "    .colab-df-convert {\n",
              "      background-color: #E8F0FE;\n",
              "      border: none;\n",
              "      border-radius: 50%;\n",
              "      cursor: pointer;\n",
              "      display: none;\n",
              "      fill: #1967D2;\n",
              "      height: 32px;\n",
              "      padding: 0 0 0 0;\n",
              "      width: 32px;\n",
              "    }\n",
              "\n",
              "    .colab-df-convert:hover {\n",
              "      background-color: #E2EBFA;\n",
              "      box-shadow: 0px 1px 2px rgba(60, 64, 67, 0.3), 0px 1px 3px 1px rgba(60, 64, 67, 0.15);\n",
              "      fill: #174EA6;\n",
              "    }\n",
              "\n",
              "    [theme=dark] .colab-df-convert {\n",
              "      background-color: #3B4455;\n",
              "      fill: #D2E3FC;\n",
              "    }\n",
              "\n",
              "    [theme=dark] .colab-df-convert:hover {\n",
              "      background-color: #434B5C;\n",
              "      box-shadow: 0px 1px 3px 1px rgba(0, 0, 0, 0.15);\n",
              "      filter: drop-shadow(0px 1px 2px rgba(0, 0, 0, 0.3));\n",
              "      fill: #FFFFFF;\n",
              "    }\n",
              "  </style>\n",
              "\n",
              "      <script>\n",
              "        const buttonEl =\n",
              "          document.querySelector('#df-5e621816-07a2-404e-92bb-e04ee04a98a3 button.colab-df-convert');\n",
              "        buttonEl.style.display =\n",
              "          google.colab.kernel.accessAllowed ? 'block' : 'none';\n",
              "\n",
              "        async function convertToInteractive(key) {\n",
              "          const element = document.querySelector('#df-5e621816-07a2-404e-92bb-e04ee04a98a3');\n",
              "          const dataTable =\n",
              "            await google.colab.kernel.invokeFunction('convertToInteractive',\n",
              "                                                     [key], {});\n",
              "          if (!dataTable) return;\n",
              "\n",
              "          const docLinkHtml = 'Like what you see? Visit the ' +\n",
              "            '<a target=\"_blank\" href=https://colab.research.google.com/notebooks/data_table.ipynb>data table notebook</a>'\n",
              "            + ' to learn more about interactive tables.';\n",
              "          element.innerHTML = '';\n",
              "          dataTable['output_type'] = 'display_data';\n",
              "          await google.colab.output.renderOutput(dataTable, element);\n",
              "          const docLink = document.createElement('div');\n",
              "          docLink.innerHTML = docLinkHtml;\n",
              "          element.appendChild(docLink);\n",
              "        }\n",
              "      </script>\n",
              "    </div>\n",
              "  </div>\n",
              "  "
            ]
          },
          "metadata": {},
          "execution_count": 91
        }
      ],
      "source": [
        "df[~((df.even>0) & (df.odd<0)) ]"
      ]
    },
    {
      "cell_type": "code",
      "execution_count": 92,
      "metadata": {
        "cell_id": "00138-ca349084-fa0c-4be5-839c-1eb00d5120e8",
        "colab": {
          "base_uri": "https://localhost:8080/",
          "height": 112
        },
        "deepnote_cell_type": "code",
        "id": "dVktA6ze9wI2",
        "outputId": "6c062354-6bc3-4123-a34e-1965a0858d0d"
      },
      "outputs": [
        {
          "output_type": "execute_result",
          "data": {
            "text/plain": [
              "   even  odd\n",
              "2     4   -5\n",
              "3    -6    7"
            ],
            "text/html": [
              "\n",
              "  <div id=\"df-62b25a14-5d13-401d-9a72-5c4e41c52ab9\">\n",
              "    <div class=\"colab-df-container\">\n",
              "      <div>\n",
              "<style scoped>\n",
              "    .dataframe tbody tr th:only-of-type {\n",
              "        vertical-align: middle;\n",
              "    }\n",
              "\n",
              "    .dataframe tbody tr th {\n",
              "        vertical-align: top;\n",
              "    }\n",
              "\n",
              "    .dataframe thead th {\n",
              "        text-align: right;\n",
              "    }\n",
              "</style>\n",
              "<table border=\"1\" class=\"dataframe\">\n",
              "  <thead>\n",
              "    <tr style=\"text-align: right;\">\n",
              "      <th></th>\n",
              "      <th>even</th>\n",
              "      <th>odd</th>\n",
              "    </tr>\n",
              "  </thead>\n",
              "  <tbody>\n",
              "    <tr>\n",
              "      <th>2</th>\n",
              "      <td>4</td>\n",
              "      <td>-5</td>\n",
              "    </tr>\n",
              "    <tr>\n",
              "      <th>3</th>\n",
              "      <td>-6</td>\n",
              "      <td>7</td>\n",
              "    </tr>\n",
              "  </tbody>\n",
              "</table>\n",
              "</div>\n",
              "      <button class=\"colab-df-convert\" onclick=\"convertToInteractive('df-62b25a14-5d13-401d-9a72-5c4e41c52ab9')\"\n",
              "              title=\"Convert this dataframe to an interactive table.\"\n",
              "              style=\"display:none;\">\n",
              "        \n",
              "  <svg xmlns=\"http://www.w3.org/2000/svg\" height=\"24px\"viewBox=\"0 0 24 24\"\n",
              "       width=\"24px\">\n",
              "    <path d=\"M0 0h24v24H0V0z\" fill=\"none\"/>\n",
              "    <path d=\"M18.56 5.44l.94 2.06.94-2.06 2.06-.94-2.06-.94-.94-2.06-.94 2.06-2.06.94zm-11 1L8.5 8.5l.94-2.06 2.06-.94-2.06-.94L8.5 2.5l-.94 2.06-2.06.94zm10 10l.94 2.06.94-2.06 2.06-.94-2.06-.94-.94-2.06-.94 2.06-2.06.94z\"/><path d=\"M17.41 7.96l-1.37-1.37c-.4-.4-.92-.59-1.43-.59-.52 0-1.04.2-1.43.59L10.3 9.45l-7.72 7.72c-.78.78-.78 2.05 0 2.83L4 21.41c.39.39.9.59 1.41.59.51 0 1.02-.2 1.41-.59l7.78-7.78 2.81-2.81c.8-.78.8-2.07 0-2.86zM5.41 20L4 18.59l7.72-7.72 1.47 1.35L5.41 20z\"/>\n",
              "  </svg>\n",
              "      </button>\n",
              "      \n",
              "  <style>\n",
              "    .colab-df-container {\n",
              "      display:flex;\n",
              "      flex-wrap:wrap;\n",
              "      gap: 12px;\n",
              "    }\n",
              "\n",
              "    .colab-df-convert {\n",
              "      background-color: #E8F0FE;\n",
              "      border: none;\n",
              "      border-radius: 50%;\n",
              "      cursor: pointer;\n",
              "      display: none;\n",
              "      fill: #1967D2;\n",
              "      height: 32px;\n",
              "      padding: 0 0 0 0;\n",
              "      width: 32px;\n",
              "    }\n",
              "\n",
              "    .colab-df-convert:hover {\n",
              "      background-color: #E2EBFA;\n",
              "      box-shadow: 0px 1px 2px rgba(60, 64, 67, 0.3), 0px 1px 3px 1px rgba(60, 64, 67, 0.15);\n",
              "      fill: #174EA6;\n",
              "    }\n",
              "\n",
              "    [theme=dark] .colab-df-convert {\n",
              "      background-color: #3B4455;\n",
              "      fill: #D2E3FC;\n",
              "    }\n",
              "\n",
              "    [theme=dark] .colab-df-convert:hover {\n",
              "      background-color: #434B5C;\n",
              "      box-shadow: 0px 1px 3px 1px rgba(0, 0, 0, 0.15);\n",
              "      filter: drop-shadow(0px 1px 2px rgba(0, 0, 0, 0.3));\n",
              "      fill: #FFFFFF;\n",
              "    }\n",
              "  </style>\n",
              "\n",
              "      <script>\n",
              "        const buttonEl =\n",
              "          document.querySelector('#df-62b25a14-5d13-401d-9a72-5c4e41c52ab9 button.colab-df-convert');\n",
              "        buttonEl.style.display =\n",
              "          google.colab.kernel.accessAllowed ? 'block' : 'none';\n",
              "\n",
              "        async function convertToInteractive(key) {\n",
              "          const element = document.querySelector('#df-62b25a14-5d13-401d-9a72-5c4e41c52ab9');\n",
              "          const dataTable =\n",
              "            await google.colab.kernel.invokeFunction('convertToInteractive',\n",
              "                                                     [key], {});\n",
              "          if (!dataTable) return;\n",
              "\n",
              "          const docLinkHtml = 'Like what you see? Visit the ' +\n",
              "            '<a target=\"_blank\" href=https://colab.research.google.com/notebooks/data_table.ipynb>data table notebook</a>'\n",
              "            + ' to learn more about interactive tables.';\n",
              "          element.innerHTML = '';\n",
              "          dataTable['output_type'] = 'display_data';\n",
              "          await google.colab.output.renderOutput(dataTable, element);\n",
              "          const docLink = document.createElement('div');\n",
              "          docLink.innerHTML = docLinkHtml;\n",
              "          element.appendChild(docLink);\n",
              "        }\n",
              "      </script>\n",
              "    </div>\n",
              "  </div>\n",
              "  "
            ]
          },
          "metadata": {},
          "execution_count": 92
        }
      ],
      "source": [
        "#or\n",
        "df[(df.even<0) | (df.odd<0)]"
      ]
    },
    {
      "cell_type": "markdown",
      "metadata": {
        "cell_id": "00139-ca62a80b-b815-4fd5-bbe8-2fccf72f6a3a",
        "deepnote_cell_type": "markdown",
        "id": "xHsCPml65i54"
      },
      "source": [
        "## The `apply` method\n",
        "The advantage of the spreadsheet paradigm is that the columns can be transformed with functions. All the typical functions avalaible for a spreadsheet are already implemented like the method `.abs()` used before, or the method: `.sum()`"
      ]
    },
    {
      "cell_type": "code",
      "execution_count": 93,
      "metadata": {
        "cell_id": "00140-5bd68707-f972-4a21-ad89-ffc17371d504",
        "colab": {
          "base_uri": "https://localhost:8080/"
        },
        "deepnote_cell_type": "code",
        "id": "pPLWFFLA6NX4",
        "outputId": "e4b4f1d6-93c2-44a7-fbdd-da09d25eb6f8"
      },
      "outputs": [
        {
          "output_type": "execute_result",
          "data": {
            "text/plain": [
              "8"
            ]
          },
          "metadata": {},
          "execution_count": 93
        }
      ],
      "source": [
        "df.even.sum()"
      ]
    },
    {
      "cell_type": "markdown",
      "metadata": {
        "cell_id": "00141-57b10a10-4de8-42f2-a94a-3013e9ef5af6",
        "deepnote_cell_type": "markdown",
        "id": "XCUwgF0f6WFP"
      },
      "source": [
        "__Activity__: Explore the avalaible methods by using the completion system of the notebook after the last semicolon of `df.even.`"
      ]
    },
    {
      "cell_type": "code",
      "execution_count": 99,
      "metadata": {
        "cell_id": "00142-50a685d2-4b25-40b1-9c45-7c9fbcc3875e",
        "deepnote_cell_type": "code",
        "id": "gzdGMtI9CnFe",
        "colab": {
          "base_uri": "https://localhost:8080/"
        },
        "outputId": "15e27afb-67f6-4834-aa7e-f7ea8e5b87cf"
      },
      "outputs": [
        {
          "output_type": "execute_result",
          "data": {
            "text/plain": [
              "(3, 2.0, 8)"
            ]
          },
          "metadata": {},
          "execution_count": 99
        }
      ],
      "source": [
        "df.even.argmin(),df.even.median(),df.even.max()"
      ]
    },
    {
      "cell_type": "markdown",
      "metadata": {
        "cell_id": "00143-62cf460c-f390-49a9-afb3-79a89a598209",
        "deepnote_cell_type": "markdown",
        "id": "JDqDXVoF6mOv"
      },
      "source": [
        "In addittion, for the `DataFrame` paradigm, we can easy implement any other function directly at the programming level either along the columns or along the rows"
      ]
    },
    {
      "cell_type": "markdown",
      "metadata": {
        "cell_id": "00144-aced47b4-60eb-4b3c-931e-d008d4e89f6d",
        "deepnote_cell_type": "markdown",
        "id": "378RNNb97OQs"
      },
      "source": [
        "### Column-level `apply`\n",
        "We just select the column and apply the direct or implicit function:\n",
        "* Pre-defined function"
      ]
    },
    {
      "cell_type": "code",
      "execution_count": 100,
      "metadata": {
        "cell_id": "00145-a74342d5-abd2-4958-8864-fc0db16f5c37",
        "colab": {
          "base_uri": "https://localhost:8080/"
        },
        "deepnote_cell_type": "code",
        "id": "L210XcRK7qYn",
        "outputId": "65624d1d-6b35-4504-f426-4c36f20c15da"
      },
      "outputs": [
        {
          "output_type": "execute_result",
          "data": {
            "text/plain": [
              "0    0\n",
              "1    2\n",
              "2    4\n",
              "3    6\n",
              "4    8\n",
              "Name: even, dtype: int64"
            ]
          },
          "metadata": {},
          "execution_count": 100
        }
      ],
      "source": [
        "df.even.apply(abs)"
      ]
    },
    {
      "cell_type": "markdown",
      "metadata": {
        "cell_id": "00146-27fa426d-132e-4721-a8bd-ce3d2cd52bcb",
        "deepnote_cell_type": "markdown",
        "id": "JX0nA6swDphj"
      },
      "source": [
        "* Implicit function"
      ]
    },
    {
      "cell_type": "code",
      "execution_count": 101,
      "metadata": {
        "cell_id": "00147-b381a3f1-17b5-4e0c-960b-4514c07a753d",
        "colab": {
          "base_uri": "https://localhost:8080/"
        },
        "deepnote_cell_type": "code",
        "id": "oGEcVFrA72LX",
        "outputId": "2c6603bc-23e7-4351-8967-eecc47450e69"
      },
      "outputs": [
        {
          "output_type": "execute_result",
          "data": {
            "text/plain": [
              "0    True\n",
              "1    True\n",
              "2    True\n",
              "3    True\n",
              "4    True\n",
              "Name: even, dtype: bool"
            ]
          },
          "metadata": {},
          "execution_count": 101
        }
      ],
      "source": [
        "df.even.apply(lambda n:isinstance(n,int))"
      ]
    },
    {
      "cell_type": "code",
      "execution_count": 102,
      "metadata": {
        "cell_id": "00148-2e4c0fd3-48e3-4c86-bc26-b51aab4a4efe",
        "deepnote_cell_type": "code",
        "id": "vNz5yEkpCnFf",
        "outputId": "3f6dd798-a6c0-4bf2-ec61-c4ba7b4ed9a5",
        "colab": {
          "base_uri": "https://localhost:8080/"
        }
      },
      "outputs": [
        {
          "output_type": "execute_result",
          "data": {
            "text/plain": [
              "0     0\n",
              "1     4\n",
              "2    16\n",
              "3    36\n",
              "4    64\n",
              "Name: even, dtype: int64"
            ]
          },
          "metadata": {},
          "execution_count": 102
        }
      ],
      "source": [
        "df.even.apply(lambda n: n**2)"
      ]
    },
    {
      "cell_type": "markdown",
      "metadata": {
        "cell_id": "00149-9f1c7206-da55-4ad4-b589-dc7022a7daba",
        "deepnote_cell_type": "markdown",
        "id": "8wFVd7Sk7irH"
      },
      "source": [
        "### Row-level apply\n",
        "The foll row is passed as dictionary to the explicit or implicit function when `apply` is used for the full `DataFrame` and the option `axis=1` is used at the end"
      ]
    },
    {
      "cell_type": "code",
      "execution_count": 103,
      "metadata": {
        "cell_id": "00150-082c7a02-aa1e-49cb-a4f3-1349b1550535",
        "deepnote_cell_type": "code",
        "id": "9ur9TAj3CnFg",
        "outputId": "c4ab5201-6e2e-46f9-8bb6-c2b87a39105e",
        "colab": {
          "base_uri": "https://localhost:8080/"
        }
      },
      "outputs": [
        {
          "output_type": "execute_result",
          "data": {
            "text/plain": [
              "0     1\n",
              "1     5\n",
              "2    -1\n",
              "3     1\n",
              "4    17\n",
              "dtype: int64"
            ]
          },
          "metadata": {},
          "execution_count": 103
        }
      ],
      "source": [
        "df['even']+df['odd']"
      ]
    },
    {
      "cell_type": "code",
      "execution_count": 104,
      "metadata": {
        "cell_id": "00151-abb73dae-6242-4c9c-84e4-303bdf29589d",
        "colab": {
          "base_uri": "https://localhost:8080/"
        },
        "deepnote_cell_type": "code",
        "id": "z6GLMMuEEUwB",
        "outputId": "eebd7197-8d65-4d7b-8ac5-e6207c1ebd08"
      },
      "outputs": [
        {
          "output_type": "execute_result",
          "data": {
            "text/plain": [
              "0     1\n",
              "1    11\n",
              "2    29\n",
              "3    43\n",
              "4    89\n",
              "dtype: int64"
            ]
          },
          "metadata": {},
          "execution_count": 104
        }
      ],
      "source": [
        "df.apply(lambda row: row['even']+row['odd']**2,axis='columns')"
      ]
    },
    {
      "cell_type": "markdown",
      "metadata": {
        "cell_id": "00152-09addc01-50ec-4b33-bb8b-0b7e3a0b8af5",
        "deepnote_cell_type": "markdown",
        "id": "lBj3d1yUCnFh"
      },
      "source": [
        "## Chain tools for data analysis\n",
        "There are several chain tools for data analyis like the\n",
        "* Spreadsheet based one, like Excel \n",
        "* Relational databases with the use of more advanced SQL tabular data with some data base software like MySQL\n",
        "* Non-relational databases (RAM) with Pandas, R,  Paw,... ( max ~ RAM/8) \n",
        "* Non-relational databases (Disk): Dask, ROOT, MongoDB,...\n",
        "\n",
        "Here we illustrate an example of use fo a non-relational database with Pandas"
      ]
    },
    {
      "cell_type": "markdown",
      "metadata": {
        "cell_id": "00153-31b6cb4c-2040-41f4-9b7d-e226df82dc37",
        "deepnote_cell_type": "markdown",
        "id": "Z80-hgnCCnFh"
      },
      "source": [
        "## Relational databases"
      ]
    },
    {
      "cell_type": "code",
      "execution_count": 116,
      "metadata": {
        "cell_id": "00154-21e06109-13d0-40f9-a9a6-1dec1358ab30",
        "deepnote_cell_type": "code",
        "id": "fuyqhtZSCnFi",
        "outputId": "5b0666fb-f2be-44ac-bc37-6387cb6eea4d",
        "colab": {
          "base_uri": "https://localhost:8080/",
          "height": 112
        }
      },
      "outputs": [
        {
          "output_type": "execute_result",
          "data": {
            "text/plain": [
              "               Nombre Fecha de Nacimiento   id\n",
              "0         Juan Valdez          1966-07-04  888\n",
              "1  Álvaro Uribe Vélez          1952-07-04  666"
            ],
            "text/html": [
              "\n",
              "  <div id=\"df-777fd1db-b089-403a-bbe0-c7fe92a1fa97\">\n",
              "    <div class=\"colab-df-container\">\n",
              "      <div>\n",
              "<style scoped>\n",
              "    .dataframe tbody tr th:only-of-type {\n",
              "        vertical-align: middle;\n",
              "    }\n",
              "\n",
              "    .dataframe tbody tr th {\n",
              "        vertical-align: top;\n",
              "    }\n",
              "\n",
              "    .dataframe thead th {\n",
              "        text-align: right;\n",
              "    }\n",
              "</style>\n",
              "<table border=\"1\" class=\"dataframe\">\n",
              "  <thead>\n",
              "    <tr style=\"text-align: right;\">\n",
              "      <th></th>\n",
              "      <th>Nombre</th>\n",
              "      <th>Fecha de Nacimiento</th>\n",
              "      <th>id</th>\n",
              "    </tr>\n",
              "  </thead>\n",
              "  <tbody>\n",
              "    <tr>\n",
              "      <th>0</th>\n",
              "      <td>Juan Valdez</td>\n",
              "      <td>1966-07-04</td>\n",
              "      <td>888</td>\n",
              "    </tr>\n",
              "    <tr>\n",
              "      <th>1</th>\n",
              "      <td>Álvaro Uribe Vélez</td>\n",
              "      <td>1952-07-04</td>\n",
              "      <td>666</td>\n",
              "    </tr>\n",
              "  </tbody>\n",
              "</table>\n",
              "</div>\n",
              "      <button class=\"colab-df-convert\" onclick=\"convertToInteractive('df-777fd1db-b089-403a-bbe0-c7fe92a1fa97')\"\n",
              "              title=\"Convert this dataframe to an interactive table.\"\n",
              "              style=\"display:none;\">\n",
              "        \n",
              "  <svg xmlns=\"http://www.w3.org/2000/svg\" height=\"24px\"viewBox=\"0 0 24 24\"\n",
              "       width=\"24px\">\n",
              "    <path d=\"M0 0h24v24H0V0z\" fill=\"none\"/>\n",
              "    <path d=\"M18.56 5.44l.94 2.06.94-2.06 2.06-.94-2.06-.94-.94-2.06-.94 2.06-2.06.94zm-11 1L8.5 8.5l.94-2.06 2.06-.94-2.06-.94L8.5 2.5l-.94 2.06-2.06.94zm10 10l.94 2.06.94-2.06 2.06-.94-2.06-.94-.94-2.06-.94 2.06-2.06.94z\"/><path d=\"M17.41 7.96l-1.37-1.37c-.4-.4-.92-.59-1.43-.59-.52 0-1.04.2-1.43.59L10.3 9.45l-7.72 7.72c-.78.78-.78 2.05 0 2.83L4 21.41c.39.39.9.59 1.41.59.51 0 1.02-.2 1.41-.59l7.78-7.78 2.81-2.81c.8-.78.8-2.07 0-2.86zM5.41 20L4 18.59l7.72-7.72 1.47 1.35L5.41 20z\"/>\n",
              "  </svg>\n",
              "      </button>\n",
              "      \n",
              "  <style>\n",
              "    .colab-df-container {\n",
              "      display:flex;\n",
              "      flex-wrap:wrap;\n",
              "      gap: 12px;\n",
              "    }\n",
              "\n",
              "    .colab-df-convert {\n",
              "      background-color: #E8F0FE;\n",
              "      border: none;\n",
              "      border-radius: 50%;\n",
              "      cursor: pointer;\n",
              "      display: none;\n",
              "      fill: #1967D2;\n",
              "      height: 32px;\n",
              "      padding: 0 0 0 0;\n",
              "      width: 32px;\n",
              "    }\n",
              "\n",
              "    .colab-df-convert:hover {\n",
              "      background-color: #E2EBFA;\n",
              "      box-shadow: 0px 1px 2px rgba(60, 64, 67, 0.3), 0px 1px 3px 1px rgba(60, 64, 67, 0.15);\n",
              "      fill: #174EA6;\n",
              "    }\n",
              "\n",
              "    [theme=dark] .colab-df-convert {\n",
              "      background-color: #3B4455;\n",
              "      fill: #D2E3FC;\n",
              "    }\n",
              "\n",
              "    [theme=dark] .colab-df-convert:hover {\n",
              "      background-color: #434B5C;\n",
              "      box-shadow: 0px 1px 3px 1px rgba(0, 0, 0, 0.15);\n",
              "      filter: drop-shadow(0px 1px 2px rgba(0, 0, 0, 0.3));\n",
              "      fill: #FFFFFF;\n",
              "    }\n",
              "  </style>\n",
              "\n",
              "      <script>\n",
              "        const buttonEl =\n",
              "          document.querySelector('#df-777fd1db-b089-403a-bbe0-c7fe92a1fa97 button.colab-df-convert');\n",
              "        buttonEl.style.display =\n",
              "          google.colab.kernel.accessAllowed ? 'block' : 'none';\n",
              "\n",
              "        async function convertToInteractive(key) {\n",
              "          const element = document.querySelector('#df-777fd1db-b089-403a-bbe0-c7fe92a1fa97');\n",
              "          const dataTable =\n",
              "            await google.colab.kernel.invokeFunction('convertToInteractive',\n",
              "                                                     [key], {});\n",
              "          if (!dataTable) return;\n",
              "\n",
              "          const docLinkHtml = 'Like what you see? Visit the ' +\n",
              "            '<a target=\"_blank\" href=https://colab.research.google.com/notebooks/data_table.ipynb>data table notebook</a>'\n",
              "            + ' to learn more about interactive tables.';\n",
              "          element.innerHTML = '';\n",
              "          dataTable['output_type'] = 'display_data';\n",
              "          await google.colab.output.renderOutput(dataTable, element);\n",
              "          const docLink = document.createElement('div');\n",
              "          docLink.innerHTML = docLinkHtml;\n",
              "          element.appendChild(docLink);\n",
              "        }\n",
              "      </script>\n",
              "    </div>\n",
              "  </div>\n",
              "  "
            ]
          },
          "metadata": {},
          "execution_count": 116
        }
      ],
      "source": [
        "personas=pd.read_csv('https://raw.githubusercontent.com/restrepo/ComputationalMethods/master/data/personas.csv')\n",
        "#personas=pd.read_csv('../data/personas.csv')\n",
        "personas"
      ]
    },
    {
      "cell_type": "code",
      "execution_count": 117,
      "metadata": {
        "cell_id": "00156-95466953-49eb-4a2b-bcce-483b72149659",
        "deepnote_cell_type": "code",
        "id": "-LUvrURzCnFi",
        "outputId": "2c688d97-84f4-4d6e-a97a-ed00703d9cb2",
        "colab": {
          "base_uri": "https://localhost:8080/",
          "height": 143
        }
      },
      "outputs": [
        {
          "output_type": "execute_result",
          "data": {
            "text/plain": [
              "    id  Inicio   Fin       Cargo                            Compañía\n",
              "0  888    2010           Arriero                    Café de Colombia\n",
              "1  666    2013  2020     Senador  Senado de la República de Colombia\n",
              "2  666    2020        Influencer                             Twitter"
            ],
            "text/html": [
              "\n",
              "  <div id=\"df-c3e6f714-d584-436e-820c-c8c61b7d88df\">\n",
              "    <div class=\"colab-df-container\">\n",
              "      <div>\n",
              "<style scoped>\n",
              "    .dataframe tbody tr th:only-of-type {\n",
              "        vertical-align: middle;\n",
              "    }\n",
              "\n",
              "    .dataframe tbody tr th {\n",
              "        vertical-align: top;\n",
              "    }\n",
              "\n",
              "    .dataframe thead th {\n",
              "        text-align: right;\n",
              "    }\n",
              "</style>\n",
              "<table border=\"1\" class=\"dataframe\">\n",
              "  <thead>\n",
              "    <tr style=\"text-align: right;\">\n",
              "      <th></th>\n",
              "      <th>id</th>\n",
              "      <th>Inicio</th>\n",
              "      <th>Fin</th>\n",
              "      <th>Cargo</th>\n",
              "      <th>Compañía</th>\n",
              "    </tr>\n",
              "  </thead>\n",
              "  <tbody>\n",
              "    <tr>\n",
              "      <th>0</th>\n",
              "      <td>888</td>\n",
              "      <td>2010</td>\n",
              "      <td></td>\n",
              "      <td>Arriero</td>\n",
              "      <td>Café de Colombia</td>\n",
              "    </tr>\n",
              "    <tr>\n",
              "      <th>1</th>\n",
              "      <td>666</td>\n",
              "      <td>2013</td>\n",
              "      <td>2020</td>\n",
              "      <td>Senador</td>\n",
              "      <td>Senado de la República de Colombia</td>\n",
              "    </tr>\n",
              "    <tr>\n",
              "      <th>2</th>\n",
              "      <td>666</td>\n",
              "      <td>2020</td>\n",
              "      <td></td>\n",
              "      <td>Influencer</td>\n",
              "      <td>Twitter</td>\n",
              "    </tr>\n",
              "  </tbody>\n",
              "</table>\n",
              "</div>\n",
              "      <button class=\"colab-df-convert\" onclick=\"convertToInteractive('df-c3e6f714-d584-436e-820c-c8c61b7d88df')\"\n",
              "              title=\"Convert this dataframe to an interactive table.\"\n",
              "              style=\"display:none;\">\n",
              "        \n",
              "  <svg xmlns=\"http://www.w3.org/2000/svg\" height=\"24px\"viewBox=\"0 0 24 24\"\n",
              "       width=\"24px\">\n",
              "    <path d=\"M0 0h24v24H0V0z\" fill=\"none\"/>\n",
              "    <path d=\"M18.56 5.44l.94 2.06.94-2.06 2.06-.94-2.06-.94-.94-2.06-.94 2.06-2.06.94zm-11 1L8.5 8.5l.94-2.06 2.06-.94-2.06-.94L8.5 2.5l-.94 2.06-2.06.94zm10 10l.94 2.06.94-2.06 2.06-.94-2.06-.94-.94-2.06-.94 2.06-2.06.94z\"/><path d=\"M17.41 7.96l-1.37-1.37c-.4-.4-.92-.59-1.43-.59-.52 0-1.04.2-1.43.59L10.3 9.45l-7.72 7.72c-.78.78-.78 2.05 0 2.83L4 21.41c.39.39.9.59 1.41.59.51 0 1.02-.2 1.41-.59l7.78-7.78 2.81-2.81c.8-.78.8-2.07 0-2.86zM5.41 20L4 18.59l7.72-7.72 1.47 1.35L5.41 20z\"/>\n",
              "  </svg>\n",
              "      </button>\n",
              "      \n",
              "  <style>\n",
              "    .colab-df-container {\n",
              "      display:flex;\n",
              "      flex-wrap:wrap;\n",
              "      gap: 12px;\n",
              "    }\n",
              "\n",
              "    .colab-df-convert {\n",
              "      background-color: #E8F0FE;\n",
              "      border: none;\n",
              "      border-radius: 50%;\n",
              "      cursor: pointer;\n",
              "      display: none;\n",
              "      fill: #1967D2;\n",
              "      height: 32px;\n",
              "      padding: 0 0 0 0;\n",
              "      width: 32px;\n",
              "    }\n",
              "\n",
              "    .colab-df-convert:hover {\n",
              "      background-color: #E2EBFA;\n",
              "      box-shadow: 0px 1px 2px rgba(60, 64, 67, 0.3), 0px 1px 3px 1px rgba(60, 64, 67, 0.15);\n",
              "      fill: #174EA6;\n",
              "    }\n",
              "\n",
              "    [theme=dark] .colab-df-convert {\n",
              "      background-color: #3B4455;\n",
              "      fill: #D2E3FC;\n",
              "    }\n",
              "\n",
              "    [theme=dark] .colab-df-convert:hover {\n",
              "      background-color: #434B5C;\n",
              "      box-shadow: 0px 1px 3px 1px rgba(0, 0, 0, 0.15);\n",
              "      filter: drop-shadow(0px 1px 2px rgba(0, 0, 0, 0.3));\n",
              "      fill: #FFFFFF;\n",
              "    }\n",
              "  </style>\n",
              "\n",
              "      <script>\n",
              "        const buttonEl =\n",
              "          document.querySelector('#df-c3e6f714-d584-436e-820c-c8c61b7d88df button.colab-df-convert');\n",
              "        buttonEl.style.display =\n",
              "          google.colab.kernel.accessAllowed ? 'block' : 'none';\n",
              "\n",
              "        async function convertToInteractive(key) {\n",
              "          const element = document.querySelector('#df-c3e6f714-d584-436e-820c-c8c61b7d88df');\n",
              "          const dataTable =\n",
              "            await google.colab.kernel.invokeFunction('convertToInteractive',\n",
              "                                                     [key], {});\n",
              "          if (!dataTable) return;\n",
              "\n",
              "          const docLinkHtml = 'Like what you see? Visit the ' +\n",
              "            '<a target=\"_blank\" href=https://colab.research.google.com/notebooks/data_table.ipynb>data table notebook</a>'\n",
              "            + ' to learn more about interactive tables.';\n",
              "          element.innerHTML = '';\n",
              "          dataTable['output_type'] = 'display_data';\n",
              "          await google.colab.output.renderOutput(dataTable, element);\n",
              "          const docLink = document.createElement('div');\n",
              "          docLink.innerHTML = docLinkHtml;\n",
              "          element.appendChild(docLink);\n",
              "        }\n",
              "      </script>\n",
              "    </div>\n",
              "  </div>\n",
              "  "
            ]
          },
          "metadata": {},
          "execution_count": 117
        }
      ],
      "source": [
        "trabajos=pd.read_csv('https://raw.githubusercontent.com/restrepo/ComputationalMethods/master/data/trabajos.csv',na_filter=False)\n",
        "#trabajos=pd.read_csv('../data/trabajos.csv',na_filter=False)\n",
        "trabajos"
      ]
    },
    {
      "cell_type": "markdown",
      "metadata": {
        "cell_id": "00157-6c56e4ac-c3b6-4cf0-9bd6-9812ee89832e",
        "deepnote_cell_type": "markdown",
        "id": "8rNrEpOECnFi"
      },
      "source": [
        "![img](https://raw.githubusercontent.com/restrepo/ComputationalMethods/master/material/figures/relation.svg)"
      ]
    },
    {
      "cell_type": "markdown",
      "metadata": {
        "cell_id": "00158-f3332d6e-f5e9-4383-9054-5cc67a0d42bc",
        "deepnote_cell_type": "markdown",
        "id": "nQYsJ8AICnFi"
      },
      "source": [
        "### Activity\n",
        "Obtain the current work of Álavro Uribe Vélez "
      ]
    },
    {
      "cell_type": "code",
      "execution_count": 118,
      "metadata": {
        "id": "cjoGBS_ICnFj",
        "outputId": "98073aea-7459-4f4a-87eb-fecd917ff93b",
        "colab": {
          "base_uri": "https://localhost:8080/",
          "height": 143
        }
      },
      "outputs": [
        {
          "output_type": "execute_result",
          "data": {
            "text/plain": [
              "    id  Inicio   Fin       Cargo                            Compañía\n",
              "0  888    2010           Arriero                    Café de Colombia\n",
              "1  666    2013  2020     Senador  Senado de la República de Colombia\n",
              "2  666    2020        Influencer                             Twitter"
            ],
            "text/html": [
              "\n",
              "  <div id=\"df-d1ba7a11-533c-4cac-beed-da544b95c8da\">\n",
              "    <div class=\"colab-df-container\">\n",
              "      <div>\n",
              "<style scoped>\n",
              "    .dataframe tbody tr th:only-of-type {\n",
              "        vertical-align: middle;\n",
              "    }\n",
              "\n",
              "    .dataframe tbody tr th {\n",
              "        vertical-align: top;\n",
              "    }\n",
              "\n",
              "    .dataframe thead th {\n",
              "        text-align: right;\n",
              "    }\n",
              "</style>\n",
              "<table border=\"1\" class=\"dataframe\">\n",
              "  <thead>\n",
              "    <tr style=\"text-align: right;\">\n",
              "      <th></th>\n",
              "      <th>id</th>\n",
              "      <th>Inicio</th>\n",
              "      <th>Fin</th>\n",
              "      <th>Cargo</th>\n",
              "      <th>Compañía</th>\n",
              "    </tr>\n",
              "  </thead>\n",
              "  <tbody>\n",
              "    <tr>\n",
              "      <th>0</th>\n",
              "      <td>888</td>\n",
              "      <td>2010</td>\n",
              "      <td></td>\n",
              "      <td>Arriero</td>\n",
              "      <td>Café de Colombia</td>\n",
              "    </tr>\n",
              "    <tr>\n",
              "      <th>1</th>\n",
              "      <td>666</td>\n",
              "      <td>2013</td>\n",
              "      <td>2020</td>\n",
              "      <td>Senador</td>\n",
              "      <td>Senado de la República de Colombia</td>\n",
              "    </tr>\n",
              "    <tr>\n",
              "      <th>2</th>\n",
              "      <td>666</td>\n",
              "      <td>2020</td>\n",
              "      <td></td>\n",
              "      <td>Influencer</td>\n",
              "      <td>Twitter</td>\n",
              "    </tr>\n",
              "  </tbody>\n",
              "</table>\n",
              "</div>\n",
              "      <button class=\"colab-df-convert\" onclick=\"convertToInteractive('df-d1ba7a11-533c-4cac-beed-da544b95c8da')\"\n",
              "              title=\"Convert this dataframe to an interactive table.\"\n",
              "              style=\"display:none;\">\n",
              "        \n",
              "  <svg xmlns=\"http://www.w3.org/2000/svg\" height=\"24px\"viewBox=\"0 0 24 24\"\n",
              "       width=\"24px\">\n",
              "    <path d=\"M0 0h24v24H0V0z\" fill=\"none\"/>\n",
              "    <path d=\"M18.56 5.44l.94 2.06.94-2.06 2.06-.94-2.06-.94-.94-2.06-.94 2.06-2.06.94zm-11 1L8.5 8.5l.94-2.06 2.06-.94-2.06-.94L8.5 2.5l-.94 2.06-2.06.94zm10 10l.94 2.06.94-2.06 2.06-.94-2.06-.94-.94-2.06-.94 2.06-2.06.94z\"/><path d=\"M17.41 7.96l-1.37-1.37c-.4-.4-.92-.59-1.43-.59-.52 0-1.04.2-1.43.59L10.3 9.45l-7.72 7.72c-.78.78-.78 2.05 0 2.83L4 21.41c.39.39.9.59 1.41.59.51 0 1.02-.2 1.41-.59l7.78-7.78 2.81-2.81c.8-.78.8-2.07 0-2.86zM5.41 20L4 18.59l7.72-7.72 1.47 1.35L5.41 20z\"/>\n",
              "  </svg>\n",
              "      </button>\n",
              "      \n",
              "  <style>\n",
              "    .colab-df-container {\n",
              "      display:flex;\n",
              "      flex-wrap:wrap;\n",
              "      gap: 12px;\n",
              "    }\n",
              "\n",
              "    .colab-df-convert {\n",
              "      background-color: #E8F0FE;\n",
              "      border: none;\n",
              "      border-radius: 50%;\n",
              "      cursor: pointer;\n",
              "      display: none;\n",
              "      fill: #1967D2;\n",
              "      height: 32px;\n",
              "      padding: 0 0 0 0;\n",
              "      width: 32px;\n",
              "    }\n",
              "\n",
              "    .colab-df-convert:hover {\n",
              "      background-color: #E2EBFA;\n",
              "      box-shadow: 0px 1px 2px rgba(60, 64, 67, 0.3), 0px 1px 3px 1px rgba(60, 64, 67, 0.15);\n",
              "      fill: #174EA6;\n",
              "    }\n",
              "\n",
              "    [theme=dark] .colab-df-convert {\n",
              "      background-color: #3B4455;\n",
              "      fill: #D2E3FC;\n",
              "    }\n",
              "\n",
              "    [theme=dark] .colab-df-convert:hover {\n",
              "      background-color: #434B5C;\n",
              "      box-shadow: 0px 1px 3px 1px rgba(0, 0, 0, 0.15);\n",
              "      filter: drop-shadow(0px 1px 2px rgba(0, 0, 0, 0.3));\n",
              "      fill: #FFFFFF;\n",
              "    }\n",
              "  </style>\n",
              "\n",
              "      <script>\n",
              "        const buttonEl =\n",
              "          document.querySelector('#df-d1ba7a11-533c-4cac-beed-da544b95c8da button.colab-df-convert');\n",
              "        buttonEl.style.display =\n",
              "          google.colab.kernel.accessAllowed ? 'block' : 'none';\n",
              "\n",
              "        async function convertToInteractive(key) {\n",
              "          const element = document.querySelector('#df-d1ba7a11-533c-4cac-beed-da544b95c8da');\n",
              "          const dataTable =\n",
              "            await google.colab.kernel.invokeFunction('convertToInteractive',\n",
              "                                                     [key], {});\n",
              "          if (!dataTable) return;\n",
              "\n",
              "          const docLinkHtml = 'Like what you see? Visit the ' +\n",
              "            '<a target=\"_blank\" href=https://colab.research.google.com/notebooks/data_table.ipynb>data table notebook</a>'\n",
              "            + ' to learn more about interactive tables.';\n",
              "          element.innerHTML = '';\n",
              "          dataTable['output_type'] = 'display_data';\n",
              "          await google.colab.output.renderOutput(dataTable, element);\n",
              "          const docLink = document.createElement('div');\n",
              "          docLink.innerHTML = docLinkHtml;\n",
              "          element.appendChild(docLink);\n",
              "        }\n",
              "      </script>\n",
              "    </div>\n",
              "  </div>\n",
              "  "
            ]
          },
          "metadata": {},
          "execution_count": 118
        }
      ],
      "source": [
        "trabajos"
      ]
    },
    {
      "cell_type": "code",
      "source": [
        "pip install unidecode"
      ],
      "metadata": {
        "colab": {
          "base_uri": "https://localhost:8080/"
        },
        "id": "VcftHOCwcFtL",
        "outputId": "4e9c0bd6-937a-4fcd-d11a-b18853b7ec63"
      },
      "execution_count": 119,
      "outputs": [
        {
          "output_type": "stream",
          "name": "stdout",
          "text": [
            "Collecting unidecode\n",
            "  Downloading Unidecode-1.3.4-py3-none-any.whl (235 kB)\n",
            "\u001b[?25l\r\u001b[K     |█▍                              | 10 kB 24.5 MB/s eta 0:00:01\r\u001b[K     |██▉                             | 20 kB 12.9 MB/s eta 0:00:01\r\u001b[K     |████▏                           | 30 kB 9.3 MB/s eta 0:00:01\r\u001b[K     |█████▋                          | 40 kB 8.5 MB/s eta 0:00:01\r\u001b[K     |███████                         | 51 kB 4.4 MB/s eta 0:00:01\r\u001b[K     |████████▍                       | 61 kB 5.2 MB/s eta 0:00:01\r\u001b[K     |█████████▊                      | 71 kB 5.6 MB/s eta 0:00:01\r\u001b[K     |███████████▏                    | 81 kB 5.7 MB/s eta 0:00:01\r\u001b[K     |████████████▌                   | 92 kB 6.3 MB/s eta 0:00:01\r\u001b[K     |██████████████                  | 102 kB 5.1 MB/s eta 0:00:01\r\u001b[K     |███████████████▎                | 112 kB 5.1 MB/s eta 0:00:01\r\u001b[K     |████████████████▊               | 122 kB 5.1 MB/s eta 0:00:01\r\u001b[K     |██████████████████              | 133 kB 5.1 MB/s eta 0:00:01\r\u001b[K     |███████████████████▌            | 143 kB 5.1 MB/s eta 0:00:01\r\u001b[K     |████████████████████▉           | 153 kB 5.1 MB/s eta 0:00:01\r\u001b[K     |██████████████████████▎         | 163 kB 5.1 MB/s eta 0:00:01\r\u001b[K     |███████████████████████▋        | 174 kB 5.1 MB/s eta 0:00:01\r\u001b[K     |█████████████████████████       | 184 kB 5.1 MB/s eta 0:00:01\r\u001b[K     |██████████████████████████▍     | 194 kB 5.1 MB/s eta 0:00:01\r\u001b[K     |███████████████████████████▉    | 204 kB 5.1 MB/s eta 0:00:01\r\u001b[K     |█████████████████████████████▏  | 215 kB 5.1 MB/s eta 0:00:01\r\u001b[K     |██████████████████████████████▋ | 225 kB 5.1 MB/s eta 0:00:01\r\u001b[K     |████████████████████████████████| 235 kB 5.1 MB/s eta 0:00:01\r\u001b[K     |████████████████████████████████| 235 kB 5.1 MB/s \n",
            "\u001b[?25hInstalling collected packages: unidecode\n",
            "Successfully installed unidecode-1.3.4\n"
          ]
        }
      ]
    },
    {
      "cell_type": "code",
      "source": [
        "import unidecode"
      ],
      "metadata": {
        "id": "_eO3tk8FcTFi"
      },
      "execution_count": 120,
      "outputs": []
    },
    {
      "cell_type": "code",
      "source": [
        "cc=personas[personas['Nombre'].str.lower().str.contains('álvaro uribe vélez')].iloc[0].get('id')\n",
        "t=trabajos[trabajos['id']==cc]\n",
        "t[t['Fin']==''].iloc[0]['Cargo']"
      ],
      "metadata": {
        "colab": {
          "base_uri": "https://localhost:8080/",
          "height": 35
        },
        "id": "OyN0zE7El8Ry",
        "outputId": "4fa1f2d4-26fb-4046-a042-408faefc8015"
      },
      "execution_count": 124,
      "outputs": [
        {
          "output_type": "execute_result",
          "data": {
            "text/plain": [
              "'Influencer'"
            ],
            "application/vnd.google.colaboratory.intrinsic+json": {
              "type": "string"
            }
          },
          "metadata": {},
          "execution_count": 124
        }
      ]
    },
    {
      "cell_type": "code",
      "source": [
        "personas[personas['Nombre'].str.lower().apply(unidecode.unidecode).str.contains('alvaro uribe velez')].iloc[0].get('id')"
      ],
      "metadata": {
        "colab": {
          "base_uri": "https://localhost:8080/"
        },
        "id": "EGI5mWjRblPC",
        "outputId": "00d7c86a-f863-4476-d0bc-ad73e802a124"
      },
      "execution_count": 121,
      "outputs": [
        {
          "output_type": "execute_result",
          "data": {
            "text/plain": [
              "666"
            ]
          },
          "metadata": {},
          "execution_count": 121
        }
      ]
    },
    {
      "cell_type": "code",
      "execution_count": 125,
      "metadata": {
        "cell_id": "00159-49df8e8f-1b26-4e1a-94d0-82d52a0b7436",
        "deepnote_cell_type": "code",
        "id": "x31HGAzcCnFj",
        "outputId": "3c3dd6e1-f7c4-4a40-e6d2-346d17b93fe5",
        "colab": {
          "base_uri": "https://localhost:8080/"
        }
      },
      "outputs": [
        {
          "output_type": "execute_result",
          "data": {
            "text/plain": [
              "['Senador', 'Influencer']"
            ]
          },
          "metadata": {},
          "execution_count": 125
        }
      ],
      "source": [
        "trabajos[trabajos.get('id')==cc]['Cargo'].to_list()\n"
      ]
    },
    {
      "cell_type": "markdown",
      "metadata": {
        "cell_id": "00160-db50187a-85fc-45f5-9b78-221f038e0794",
        "deepnote_cell_type": "markdown",
        "id": "z2NsLagWs-Jg"
      },
      "source": [
        "## Non-relational databases"
      ]
    },
    {
      "cell_type": "markdown",
      "metadata": {
        "id": "fxb1BG4aCnFk"
      },
      "source": [
        "Listas de diccionarios anidados con una esquema de datos definido\n",
        "\n",
        "![img](https://raw.githubusercontent.com/restrepo/ComputationalMethods/master/material/figures/personajes.svg)"
      ]
    },
    {
      "cell_type": "code",
      "execution_count": 126,
      "metadata": {
        "id": "EI0v0zRDCnFk"
      },
      "outputs": [],
      "source": [
        "personas['Fecha de Nacimiento']=pd.to_datetime( personas['Fecha de Nacimiento'] )"
      ]
    },
    {
      "cell_type": "code",
      "execution_count": 127,
      "metadata": {
        "id": "j37OQADgCnFl",
        "outputId": "ccdb8228-dc54-4518-f1d7-150fec5fe21d",
        "colab": {
          "base_uri": "https://localhost:8080/",
          "height": 112
        }
      },
      "outputs": [
        {
          "output_type": "execute_result",
          "data": {
            "text/plain": [
              "               Nombre Fecha de Nacimiento   id\n",
              "0         Juan Valdez          1966-07-04  888\n",
              "1  Álvaro Uribe Vélez          1952-07-04  666"
            ],
            "text/html": [
              "\n",
              "  <div id=\"df-33190e81-edcd-4d5a-b3c0-597b4a8b43d2\">\n",
              "    <div class=\"colab-df-container\">\n",
              "      <div>\n",
              "<style scoped>\n",
              "    .dataframe tbody tr th:only-of-type {\n",
              "        vertical-align: middle;\n",
              "    }\n",
              "\n",
              "    .dataframe tbody tr th {\n",
              "        vertical-align: top;\n",
              "    }\n",
              "\n",
              "    .dataframe thead th {\n",
              "        text-align: right;\n",
              "    }\n",
              "</style>\n",
              "<table border=\"1\" class=\"dataframe\">\n",
              "  <thead>\n",
              "    <tr style=\"text-align: right;\">\n",
              "      <th></th>\n",
              "      <th>Nombre</th>\n",
              "      <th>Fecha de Nacimiento</th>\n",
              "      <th>id</th>\n",
              "    </tr>\n",
              "  </thead>\n",
              "  <tbody>\n",
              "    <tr>\n",
              "      <th>0</th>\n",
              "      <td>Juan Valdez</td>\n",
              "      <td>1966-07-04</td>\n",
              "      <td>888</td>\n",
              "    </tr>\n",
              "    <tr>\n",
              "      <th>1</th>\n",
              "      <td>Álvaro Uribe Vélez</td>\n",
              "      <td>1952-07-04</td>\n",
              "      <td>666</td>\n",
              "    </tr>\n",
              "  </tbody>\n",
              "</table>\n",
              "</div>\n",
              "      <button class=\"colab-df-convert\" onclick=\"convertToInteractive('df-33190e81-edcd-4d5a-b3c0-597b4a8b43d2')\"\n",
              "              title=\"Convert this dataframe to an interactive table.\"\n",
              "              style=\"display:none;\">\n",
              "        \n",
              "  <svg xmlns=\"http://www.w3.org/2000/svg\" height=\"24px\"viewBox=\"0 0 24 24\"\n",
              "       width=\"24px\">\n",
              "    <path d=\"M0 0h24v24H0V0z\" fill=\"none\"/>\n",
              "    <path d=\"M18.56 5.44l.94 2.06.94-2.06 2.06-.94-2.06-.94-.94-2.06-.94 2.06-2.06.94zm-11 1L8.5 8.5l.94-2.06 2.06-.94-2.06-.94L8.5 2.5l-.94 2.06-2.06.94zm10 10l.94 2.06.94-2.06 2.06-.94-2.06-.94-.94-2.06-.94 2.06-2.06.94z\"/><path d=\"M17.41 7.96l-1.37-1.37c-.4-.4-.92-.59-1.43-.59-.52 0-1.04.2-1.43.59L10.3 9.45l-7.72 7.72c-.78.78-.78 2.05 0 2.83L4 21.41c.39.39.9.59 1.41.59.51 0 1.02-.2 1.41-.59l7.78-7.78 2.81-2.81c.8-.78.8-2.07 0-2.86zM5.41 20L4 18.59l7.72-7.72 1.47 1.35L5.41 20z\"/>\n",
              "  </svg>\n",
              "      </button>\n",
              "      \n",
              "  <style>\n",
              "    .colab-df-container {\n",
              "      display:flex;\n",
              "      flex-wrap:wrap;\n",
              "      gap: 12px;\n",
              "    }\n",
              "\n",
              "    .colab-df-convert {\n",
              "      background-color: #E8F0FE;\n",
              "      border: none;\n",
              "      border-radius: 50%;\n",
              "      cursor: pointer;\n",
              "      display: none;\n",
              "      fill: #1967D2;\n",
              "      height: 32px;\n",
              "      padding: 0 0 0 0;\n",
              "      width: 32px;\n",
              "    }\n",
              "\n",
              "    .colab-df-convert:hover {\n",
              "      background-color: #E2EBFA;\n",
              "      box-shadow: 0px 1px 2px rgba(60, 64, 67, 0.3), 0px 1px 3px 1px rgba(60, 64, 67, 0.15);\n",
              "      fill: #174EA6;\n",
              "    }\n",
              "\n",
              "    [theme=dark] .colab-df-convert {\n",
              "      background-color: #3B4455;\n",
              "      fill: #D2E3FC;\n",
              "    }\n",
              "\n",
              "    [theme=dark] .colab-df-convert:hover {\n",
              "      background-color: #434B5C;\n",
              "      box-shadow: 0px 1px 3px 1px rgba(0, 0, 0, 0.15);\n",
              "      filter: drop-shadow(0px 1px 2px rgba(0, 0, 0, 0.3));\n",
              "      fill: #FFFFFF;\n",
              "    }\n",
              "  </style>\n",
              "\n",
              "      <script>\n",
              "        const buttonEl =\n",
              "          document.querySelector('#df-33190e81-edcd-4d5a-b3c0-597b4a8b43d2 button.colab-df-convert');\n",
              "        buttonEl.style.display =\n",
              "          google.colab.kernel.accessAllowed ? 'block' : 'none';\n",
              "\n",
              "        async function convertToInteractive(key) {\n",
              "          const element = document.querySelector('#df-33190e81-edcd-4d5a-b3c0-597b4a8b43d2');\n",
              "          const dataTable =\n",
              "            await google.colab.kernel.invokeFunction('convertToInteractive',\n",
              "                                                     [key], {});\n",
              "          if (!dataTable) return;\n",
              "\n",
              "          const docLinkHtml = 'Like what you see? Visit the ' +\n",
              "            '<a target=\"_blank\" href=https://colab.research.google.com/notebooks/data_table.ipynb>data table notebook</a>'\n",
              "            + ' to learn more about interactive tables.';\n",
              "          element.innerHTML = '';\n",
              "          dataTable['output_type'] = 'display_data';\n",
              "          await google.colab.output.renderOutput(dataTable, element);\n",
              "          const docLink = document.createElement('div');\n",
              "          docLink.innerHTML = docLinkHtml;\n",
              "          element.appendChild(docLink);\n",
              "        }\n",
              "      </script>\n",
              "    </div>\n",
              "  </div>\n",
              "  "
            ]
          },
          "metadata": {},
          "execution_count": 127
        }
      ],
      "source": [
        "personas"
      ]
    },
    {
      "cell_type": "markdown",
      "metadata": {
        "id": "IDHJmvpqCnFl"
      },
      "source": [
        "Extract-Transform-Load: ETL"
      ]
    },
    {
      "cell_type": "code",
      "execution_count": 128,
      "metadata": {
        "id": "Byp3q2mKCnFm"
      },
      "outputs": [],
      "source": [
        "from dateutil.relativedelta import relativedelta"
      ]
    },
    {
      "cell_type": "code",
      "execution_count": 129,
      "metadata": {
        "id": "TwkIWcShCnFm"
      },
      "outputs": [],
      "source": [
        "personas['Edad']=personas['Fecha de Nacimiento'].apply(lambda t: \n",
        "                        relativedelta( pd.to_datetime('now'), t).years )"
      ]
    },
    {
      "cell_type": "code",
      "execution_count": 130,
      "metadata": {
        "id": "woiJiD_ACnFn",
        "outputId": "11c987ec-5775-47dc-d5eb-8b1ea8709c7f",
        "colab": {
          "base_uri": "https://localhost:8080/"
        }
      },
      "outputs": [
        {
          "output_type": "execute_result",
          "data": {
            "text/plain": [
              "[{'Cargo': 'Senador',\n",
              "  'Compañía': 'Senado de la República de Colombia',\n",
              "  'Fin': '2020',\n",
              "  'Inicio': 2013,\n",
              "  'id': 666},\n",
              " {'Cargo': 'Influencer',\n",
              "  'Compañía': 'Twitter',\n",
              "  'Fin': '',\n",
              "  'Inicio': 2020,\n",
              "  'id': 666}]"
            ]
          },
          "metadata": {},
          "execution_count": 130
        }
      ],
      "source": [
        "trabajos[trabajos['id']==666].to_dict(orient='records')"
      ]
    },
    {
      "cell_type": "code",
      "execution_count": 131,
      "metadata": {
        "id": "CEk65VcJCnFn"
      },
      "outputs": [],
      "source": [
        "personas['Trabajos']=personas['id'].apply(lambda i:  trabajos[trabajos['id']==i\n",
        "                                                             ][['Inicio','Fin','Cargo','Compañía']\n",
        "                                                              ].to_dict(orient='records') )"
      ]
    },
    {
      "cell_type": "code",
      "execution_count": 132,
      "metadata": {
        "id": "U2DWSbj3CnFn"
      },
      "outputs": [],
      "source": [
        "personajes=personas[['Nombre','Edad','Trabajos']]"
      ]
    },
    {
      "cell_type": "code",
      "execution_count": 133,
      "metadata": {
        "id": "e9YhjXMxCnFn",
        "outputId": "3463f4ac-3c03-48c3-f2de-0560935f3f50",
        "colab": {
          "base_uri": "https://localhost:8080/",
          "height": 112
        }
      },
      "outputs": [
        {
          "output_type": "execute_result",
          "data": {
            "text/plain": [
              "               Nombre  Edad                                           Trabajos\n",
              "0         Juan Valdez    55  [{'Inicio': 2010, 'Fin': '', 'Cargo': 'Arriero...\n",
              "1  Álvaro Uribe Vélez    69  [{'Inicio': 2013, 'Fin': '2020', 'Cargo': 'Sen..."
            ],
            "text/html": [
              "\n",
              "  <div id=\"df-334d9818-43d4-4e01-81ca-2b76079c9f29\">\n",
              "    <div class=\"colab-df-container\">\n",
              "      <div>\n",
              "<style scoped>\n",
              "    .dataframe tbody tr th:only-of-type {\n",
              "        vertical-align: middle;\n",
              "    }\n",
              "\n",
              "    .dataframe tbody tr th {\n",
              "        vertical-align: top;\n",
              "    }\n",
              "\n",
              "    .dataframe thead th {\n",
              "        text-align: right;\n",
              "    }\n",
              "</style>\n",
              "<table border=\"1\" class=\"dataframe\">\n",
              "  <thead>\n",
              "    <tr style=\"text-align: right;\">\n",
              "      <th></th>\n",
              "      <th>Nombre</th>\n",
              "      <th>Edad</th>\n",
              "      <th>Trabajos</th>\n",
              "    </tr>\n",
              "  </thead>\n",
              "  <tbody>\n",
              "    <tr>\n",
              "      <th>0</th>\n",
              "      <td>Juan Valdez</td>\n",
              "      <td>55</td>\n",
              "      <td>[{'Inicio': 2010, 'Fin': '', 'Cargo': 'Arriero...</td>\n",
              "    </tr>\n",
              "    <tr>\n",
              "      <th>1</th>\n",
              "      <td>Álvaro Uribe Vélez</td>\n",
              "      <td>69</td>\n",
              "      <td>[{'Inicio': 2013, 'Fin': '2020', 'Cargo': 'Sen...</td>\n",
              "    </tr>\n",
              "  </tbody>\n",
              "</table>\n",
              "</div>\n",
              "      <button class=\"colab-df-convert\" onclick=\"convertToInteractive('df-334d9818-43d4-4e01-81ca-2b76079c9f29')\"\n",
              "              title=\"Convert this dataframe to an interactive table.\"\n",
              "              style=\"display:none;\">\n",
              "        \n",
              "  <svg xmlns=\"http://www.w3.org/2000/svg\" height=\"24px\"viewBox=\"0 0 24 24\"\n",
              "       width=\"24px\">\n",
              "    <path d=\"M0 0h24v24H0V0z\" fill=\"none\"/>\n",
              "    <path d=\"M18.56 5.44l.94 2.06.94-2.06 2.06-.94-2.06-.94-.94-2.06-.94 2.06-2.06.94zm-11 1L8.5 8.5l.94-2.06 2.06-.94-2.06-.94L8.5 2.5l-.94 2.06-2.06.94zm10 10l.94 2.06.94-2.06 2.06-.94-2.06-.94-.94-2.06-.94 2.06-2.06.94z\"/><path d=\"M17.41 7.96l-1.37-1.37c-.4-.4-.92-.59-1.43-.59-.52 0-1.04.2-1.43.59L10.3 9.45l-7.72 7.72c-.78.78-.78 2.05 0 2.83L4 21.41c.39.39.9.59 1.41.59.51 0 1.02-.2 1.41-.59l7.78-7.78 2.81-2.81c.8-.78.8-2.07 0-2.86zM5.41 20L4 18.59l7.72-7.72 1.47 1.35L5.41 20z\"/>\n",
              "  </svg>\n",
              "      </button>\n",
              "      \n",
              "  <style>\n",
              "    .colab-df-container {\n",
              "      display:flex;\n",
              "      flex-wrap:wrap;\n",
              "      gap: 12px;\n",
              "    }\n",
              "\n",
              "    .colab-df-convert {\n",
              "      background-color: #E8F0FE;\n",
              "      border: none;\n",
              "      border-radius: 50%;\n",
              "      cursor: pointer;\n",
              "      display: none;\n",
              "      fill: #1967D2;\n",
              "      height: 32px;\n",
              "      padding: 0 0 0 0;\n",
              "      width: 32px;\n",
              "    }\n",
              "\n",
              "    .colab-df-convert:hover {\n",
              "      background-color: #E2EBFA;\n",
              "      box-shadow: 0px 1px 2px rgba(60, 64, 67, 0.3), 0px 1px 3px 1px rgba(60, 64, 67, 0.15);\n",
              "      fill: #174EA6;\n",
              "    }\n",
              "\n",
              "    [theme=dark] .colab-df-convert {\n",
              "      background-color: #3B4455;\n",
              "      fill: #D2E3FC;\n",
              "    }\n",
              "\n",
              "    [theme=dark] .colab-df-convert:hover {\n",
              "      background-color: #434B5C;\n",
              "      box-shadow: 0px 1px 3px 1px rgba(0, 0, 0, 0.15);\n",
              "      filter: drop-shadow(0px 1px 2px rgba(0, 0, 0, 0.3));\n",
              "      fill: #FFFFFF;\n",
              "    }\n",
              "  </style>\n",
              "\n",
              "      <script>\n",
              "        const buttonEl =\n",
              "          document.querySelector('#df-334d9818-43d4-4e01-81ca-2b76079c9f29 button.colab-df-convert');\n",
              "        buttonEl.style.display =\n",
              "          google.colab.kernel.accessAllowed ? 'block' : 'none';\n",
              "\n",
              "        async function convertToInteractive(key) {\n",
              "          const element = document.querySelector('#df-334d9818-43d4-4e01-81ca-2b76079c9f29');\n",
              "          const dataTable =\n",
              "            await google.colab.kernel.invokeFunction('convertToInteractive',\n",
              "                                                     [key], {});\n",
              "          if (!dataTable) return;\n",
              "\n",
              "          const docLinkHtml = 'Like what you see? Visit the ' +\n",
              "            '<a target=\"_blank\" href=https://colab.research.google.com/notebooks/data_table.ipynb>data table notebook</a>'\n",
              "            + ' to learn more about interactive tables.';\n",
              "          element.innerHTML = '';\n",
              "          dataTable['output_type'] = 'display_data';\n",
              "          await google.colab.output.renderOutput(dataTable, element);\n",
              "          const docLink = document.createElement('div');\n",
              "          docLink.innerHTML = docLinkHtml;\n",
              "          element.appendChild(docLink);\n",
              "        }\n",
              "      </script>\n",
              "    </div>\n",
              "  </div>\n",
              "  "
            ]
          },
          "metadata": {},
          "execution_count": 133
        }
      ],
      "source": [
        "personajes"
      ]
    },
    {
      "cell_type": "code",
      "execution_count": 134,
      "metadata": {
        "id": "HDHy6dJiCnFq"
      },
      "outputs": [],
      "source": [
        "from IPython.display import JSON"
      ]
    },
    {
      "cell_type": "code",
      "execution_count": 135,
      "metadata": {
        "cell_id": "00161-c9ac407c-7e37-4992-88ef-1de719aef0e3",
        "deepnote_cell_type": "code",
        "id": "_JMxDAhUCnFq",
        "outputId": "5cd72218-bd7a-480d-beb8-7dc3d1c241c6",
        "colab": {
          "base_uri": "https://localhost:8080/",
          "height": 34
        }
      },
      "outputs": [
        {
          "output_type": "execute_result",
          "data": {
            "text/plain": [
              "<IPython.core.display.JSON object>"
            ],
            "application/json": [
              {
                "Nombre": "Juan Valdez",
                "Edad": 55,
                "Trabajos": [
                  {
                    "Inicio": 2010,
                    "Fin": "",
                    "Cargo": "Arriero",
                    "Compañía": "Café de Colombia"
                  }
                ]
              },
              {
                "Nombre": "Álvaro Uribe Vélez",
                "Edad": 69,
                "Trabajos": [
                  {
                    "Inicio": 2013,
                    "Fin": "2020",
                    "Cargo": "Senador",
                    "Compañía": "Senado de la República de Colombia"
                  },
                  {
                    "Inicio": 2020,
                    "Fin": "",
                    "Cargo": "Influencer",
                    "Compañía": "Twitter"
                  }
                ]
              }
            ]
          },
          "metadata": {},
          "execution_count": 135
        }
      ],
      "source": [
        "JSON( personajes.to_dict(orient='records') )"
      ]
    },
    {
      "cell_type": "markdown",
      "metadata": {
        "cell_id": "00165-b49cdbca-5db4-4a8c-9619-c6728a61eda4",
        "deepnote_cell_type": "markdown",
        "id": "U8RvfpufCnFs"
      },
      "source": [
        "### Actividad\n",
        "Obtenga el último trabajo de Álvaro Uribe Vélez"
      ]
    },
    {
      "cell_type": "code",
      "source": [
        "l=personajes[personajes['Nombre']=='Álvaro Uribe Vélez'\n",
        "          ].get('Trabajos').iloc[0]\n",
        "[d.get('Cargo') for d in l if not d.get('Fin')]"
      ],
      "metadata": {
        "colab": {
          "base_uri": "https://localhost:8080/"
        },
        "id": "oghyEmOAhQaS",
        "outputId": "ffc69822-1b94-4de6-b2be-eefe79b5ba46"
      },
      "execution_count": 139,
      "outputs": [
        {
          "output_type": "execute_result",
          "data": {
            "text/plain": [
              "['Influencer']"
            ]
          },
          "metadata": {},
          "execution_count": 139
        }
      ]
    },
    {
      "cell_type": "markdown",
      "metadata": {
        "id": "-SJDzQc-CnFs"
      },
      "source": [
        ""
      ]
    },
    {
      "cell_type": "markdown",
      "metadata": {
        "cell_id": "00167-5961be8e-ed89-40b6-b41d-51c96c61be97",
        "deepnote_cell_type": "markdown",
        "id": "2NdcwWa5tuzv"
      },
      "source": [
        "We have shown that the simple two dimensional spreadsheets where each cell values is a simple type like string, integer, or float, can be represented as a dictionary of lists values or a list of dictionary column-value assignment. \n",
        "\n",
        "We can go further and allow to store in the value itself a more general data structure, like nested lists and dictionaries. This allows advanced data-analysis when the `apply` methos is used to operate inside the nested lists or dictionaries.\n",
        "\n",
        "See for example:\n"
      ]
    },
    {
      "cell_type": "markdown",
      "metadata": {
        "cell_id": "00168-eb357193-9719-4e73-b2f7-4f39b6bb9f06",
        "deepnote_cell_type": "markdown",
        "id": "wB4hBVkhoPwR"
      },
      "source": [
        "##  World wide web\n",
        "There are really three kinds of web\n",
        "* The normal web, \n",
        "* The deep web,\n",
        "* _The machine web_. The web for machine readable responses. It is served in `JSON` or `XML`  formats, which preserve programming objects."
      ]
    },
    {
      "cell_type": "markdown",
      "metadata": {
        "cell_id": "00169-83452998-c3f5-4934-af52-088d397ec467",
        "deepnote_cell_type": "markdown",
        "id": "g7OHiNkvCnFt"
      },
      "source": [
        "### Normal web"
      ]
    },
    {
      "cell_type": "code",
      "execution_count": 140,
      "metadata": {
        "cell_id": "00170-e0b4c06a-4c1b-4744-95ad-6d44760e3be3",
        "deepnote_cell_type": "code",
        "id": "ch203q6ACnFt",
        "outputId": "bc7002af-f553-45a5-cf68-f351f828654b",
        "colab": {
          "base_uri": "https://localhost:8080/",
          "height": 0
        }
      },
      "outputs": [
        {
          "output_type": "execute_result",
          "data": {
            "text/plain": [
              "   COVID-19 pandemic                                COVID-19 pandemic.1\n",
              "1            Disease                                           COVID-19\n",
              "2       Virus strain                                         SARS-CoV-2\n",
              "3             Source        Probably bats, possibly via pangolins[2][3]\n",
              "4           Location                                          Worldwide\n",
              "5     First outbreak                                           China[4]\n",
              "6         Index case  Wuhan, Hubei, China.mw-parser-output .geo-defa...\n",
              "7               Date  17 November 2019[4] – present(2 years, 4 month...\n",
              "8    Confirmed cases                                     495,130,920[5]\n",
              "9             Deaths                                       6,166,510[5]\n",
              "10      Vaccinations  5,093,730,671[5] (total vaccinated)4,584,534,2..."
            ],
            "text/html": [
              "\n",
              "  <div id=\"df-4e7281d2-9d1a-4fa1-8b05-ee81f5eac56f\">\n",
              "    <div class=\"colab-df-container\">\n",
              "      <div>\n",
              "<style scoped>\n",
              "    .dataframe tbody tr th:only-of-type {\n",
              "        vertical-align: middle;\n",
              "    }\n",
              "\n",
              "    .dataframe tbody tr th {\n",
              "        vertical-align: top;\n",
              "    }\n",
              "\n",
              "    .dataframe thead th {\n",
              "        text-align: right;\n",
              "    }\n",
              "</style>\n",
              "<table border=\"1\" class=\"dataframe\">\n",
              "  <thead>\n",
              "    <tr style=\"text-align: right;\">\n",
              "      <th></th>\n",
              "      <th>COVID-19 pandemic</th>\n",
              "      <th>COVID-19 pandemic.1</th>\n",
              "    </tr>\n",
              "  </thead>\n",
              "  <tbody>\n",
              "    <tr>\n",
              "      <th>1</th>\n",
              "      <td>Disease</td>\n",
              "      <td>COVID-19</td>\n",
              "    </tr>\n",
              "    <tr>\n",
              "      <th>2</th>\n",
              "      <td>Virus strain</td>\n",
              "      <td>SARS-CoV-2</td>\n",
              "    </tr>\n",
              "    <tr>\n",
              "      <th>3</th>\n",
              "      <td>Source</td>\n",
              "      <td>Probably bats, possibly via pangolins[2][3]</td>\n",
              "    </tr>\n",
              "    <tr>\n",
              "      <th>4</th>\n",
              "      <td>Location</td>\n",
              "      <td>Worldwide</td>\n",
              "    </tr>\n",
              "    <tr>\n",
              "      <th>5</th>\n",
              "      <td>First outbreak</td>\n",
              "      <td>China[4]</td>\n",
              "    </tr>\n",
              "    <tr>\n",
              "      <th>6</th>\n",
              "      <td>Index case</td>\n",
              "      <td>Wuhan, Hubei, China.mw-parser-output .geo-defa...</td>\n",
              "    </tr>\n",
              "    <tr>\n",
              "      <th>7</th>\n",
              "      <td>Date</td>\n",
              "      <td>17 November 2019[4] – present(2 years, 4 month...</td>\n",
              "    </tr>\n",
              "    <tr>\n",
              "      <th>8</th>\n",
              "      <td>Confirmed cases</td>\n",
              "      <td>495,130,920[5]</td>\n",
              "    </tr>\n",
              "    <tr>\n",
              "      <th>9</th>\n",
              "      <td>Deaths</td>\n",
              "      <td>6,166,510[5]</td>\n",
              "    </tr>\n",
              "    <tr>\n",
              "      <th>10</th>\n",
              "      <td>Vaccinations</td>\n",
              "      <td>5,093,730,671[5] (total vaccinated)4,584,534,2...</td>\n",
              "    </tr>\n",
              "  </tbody>\n",
              "</table>\n",
              "</div>\n",
              "      <button class=\"colab-df-convert\" onclick=\"convertToInteractive('df-4e7281d2-9d1a-4fa1-8b05-ee81f5eac56f')\"\n",
              "              title=\"Convert this dataframe to an interactive table.\"\n",
              "              style=\"display:none;\">\n",
              "        \n",
              "  <svg xmlns=\"http://www.w3.org/2000/svg\" height=\"24px\"viewBox=\"0 0 24 24\"\n",
              "       width=\"24px\">\n",
              "    <path d=\"M0 0h24v24H0V0z\" fill=\"none\"/>\n",
              "    <path d=\"M18.56 5.44l.94 2.06.94-2.06 2.06-.94-2.06-.94-.94-2.06-.94 2.06-2.06.94zm-11 1L8.5 8.5l.94-2.06 2.06-.94-2.06-.94L8.5 2.5l-.94 2.06-2.06.94zm10 10l.94 2.06.94-2.06 2.06-.94-2.06-.94-.94-2.06-.94 2.06-2.06.94z\"/><path d=\"M17.41 7.96l-1.37-1.37c-.4-.4-.92-.59-1.43-.59-.52 0-1.04.2-1.43.59L10.3 9.45l-7.72 7.72c-.78.78-.78 2.05 0 2.83L4 21.41c.39.39.9.59 1.41.59.51 0 1.02-.2 1.41-.59l7.78-7.78 2.81-2.81c.8-.78.8-2.07 0-2.86zM5.41 20L4 18.59l7.72-7.72 1.47 1.35L5.41 20z\"/>\n",
              "  </svg>\n",
              "      </button>\n",
              "      \n",
              "  <style>\n",
              "    .colab-df-container {\n",
              "      display:flex;\n",
              "      flex-wrap:wrap;\n",
              "      gap: 12px;\n",
              "    }\n",
              "\n",
              "    .colab-df-convert {\n",
              "      background-color: #E8F0FE;\n",
              "      border: none;\n",
              "      border-radius: 50%;\n",
              "      cursor: pointer;\n",
              "      display: none;\n",
              "      fill: #1967D2;\n",
              "      height: 32px;\n",
              "      padding: 0 0 0 0;\n",
              "      width: 32px;\n",
              "    }\n",
              "\n",
              "    .colab-df-convert:hover {\n",
              "      background-color: #E2EBFA;\n",
              "      box-shadow: 0px 1px 2px rgba(60, 64, 67, 0.3), 0px 1px 3px 1px rgba(60, 64, 67, 0.15);\n",
              "      fill: #174EA6;\n",
              "    }\n",
              "\n",
              "    [theme=dark] .colab-df-convert {\n",
              "      background-color: #3B4455;\n",
              "      fill: #D2E3FC;\n",
              "    }\n",
              "\n",
              "    [theme=dark] .colab-df-convert:hover {\n",
              "      background-color: #434B5C;\n",
              "      box-shadow: 0px 1px 3px 1px rgba(0, 0, 0, 0.15);\n",
              "      filter: drop-shadow(0px 1px 2px rgba(0, 0, 0, 0.3));\n",
              "      fill: #FFFFFF;\n",
              "    }\n",
              "  </style>\n",
              "\n",
              "      <script>\n",
              "        const buttonEl =\n",
              "          document.querySelector('#df-4e7281d2-9d1a-4fa1-8b05-ee81f5eac56f button.colab-df-convert');\n",
              "        buttonEl.style.display =\n",
              "          google.colab.kernel.accessAllowed ? 'block' : 'none';\n",
              "\n",
              "        async function convertToInteractive(key) {\n",
              "          const element = document.querySelector('#df-4e7281d2-9d1a-4fa1-8b05-ee81f5eac56f');\n",
              "          const dataTable =\n",
              "            await google.colab.kernel.invokeFunction('convertToInteractive',\n",
              "                                                     [key], {});\n",
              "          if (!dataTable) return;\n",
              "\n",
              "          const docLinkHtml = 'Like what you see? Visit the ' +\n",
              "            '<a target=\"_blank\" href=https://colab.research.google.com/notebooks/data_table.ipynb>data table notebook</a>'\n",
              "            + ' to learn more about interactive tables.';\n",
              "          element.innerHTML = '';\n",
              "          dataTable['output_type'] = 'display_data';\n",
              "          await google.colab.output.renderOutput(dataTable, element);\n",
              "          const docLink = document.createElement('div');\n",
              "          docLink.innerHTML = docLinkHtml;\n",
              "          element.appendChild(docLink);\n",
              "        }\n",
              "      </script>\n",
              "    </div>\n",
              "  </div>\n",
              "  "
            ]
          },
          "metadata": {},
          "execution_count": 140
        }
      ],
      "source": [
        "pd.read_html('https://en.wikipedia.org/wiki/COVID-19_pandemic_by_country_and_territory')[0][1:]"
      ]
    },
    {
      "cell_type": "markdown",
      "metadata": {
        "cell_id": "00171-4930bd6f-f022-4c0d-825a-c978307d6a96",
        "deepnote_cell_type": "markdown",
        "id": "X5zpeVpZCnFu"
      },
      "source": [
        "Real world example: microsoft academics\n",
        "![img](https://docs.microsoft.com/en-us/academic-services/graph/media/erd/entity-relationship-diagram.png)"
      ]
    },
    {
      "cell_type": "markdown",
      "metadata": {
        "cell_id": "00172-d77428b0-8158-40df-a696-28018c73f4b3",
        "deepnote_cell_type": "markdown",
        "id": "pzVw-borCnFu"
      },
      "source": [
        "### Machine web\n",
        "For example, consider the following normal web page:\n",
        "\n",
        "http://old.inspirehep.net/search?p=doi:10.1103/PhysRevLett.122.132001\n",
        "\n",
        "about a Scientific paper with people from the University of Antioquia. A _machine web_ version can be easily obtained in JSON just by attaching the extra parameter `&of=recjson`, and direcly loaded from Pandas, which works like a _browser for the third web_:"
      ]
    },
    {
      "cell_type": "code",
      "execution_count": 143,
      "metadata": {
        "cell_id": "00173-73ec9ef2-d196-4a39-bd0d-64e4de85db70",
        "deepnote_cell_type": "code",
        "id": "cXHJtV6ICnFu"
      },
      "outputs": [],
      "source": [
        "import pandas as pd"
      ]
    },
    {
      "cell_type": "code",
      "execution_count": 144,
      "metadata": {
        "cell_id": "00174-c9b1fdd4-0927-465a-9e06-a54712ff98b5",
        "deepnote_cell_type": "code",
        "id": "-cg2w7wsoo7H",
        "colab": {
          "base_uri": "https://localhost:8080/",
          "height": 432
        },
        "outputId": "9de886ac-6c23-431c-986a-b0f5e23a129a"
      },
      "outputs": [
        {
          "output_type": "error",
          "ename": "URLError",
          "evalue": "ignored",
          "traceback": [
            "\u001b[0;31m---------------------------------------------------------------------------\u001b[0m",
            "\u001b[0;31mgaierror\u001b[0m                                  Traceback (most recent call last)",
            "\u001b[0;32m/usr/lib/python3.7/urllib/request.py\u001b[0m in \u001b[0;36mdo_open\u001b[0;34m(self, http_class, req, **http_conn_args)\u001b[0m\n\u001b[1;32m   1349\u001b[0m                 h.request(req.get_method(), req.selector, req.data, headers,\n\u001b[0;32m-> 1350\u001b[0;31m                           encode_chunked=req.has_header('Transfer-encoding'))\n\u001b[0m\u001b[1;32m   1351\u001b[0m             \u001b[0;32mexcept\u001b[0m \u001b[0mOSError\u001b[0m \u001b[0;32mas\u001b[0m \u001b[0merr\u001b[0m\u001b[0;34m:\u001b[0m \u001b[0;31m# timeout error\u001b[0m\u001b[0;34m\u001b[0m\u001b[0;34m\u001b[0m\u001b[0m\n",
            "\u001b[0;32m/usr/lib/python3.7/http/client.py\u001b[0m in \u001b[0;36mrequest\u001b[0;34m(self, method, url, body, headers, encode_chunked)\u001b[0m\n\u001b[1;32m   1280\u001b[0m         \u001b[0;34m\"\"\"Send a complete request to the server.\"\"\"\u001b[0m\u001b[0;34m\u001b[0m\u001b[0;34m\u001b[0m\u001b[0m\n\u001b[0;32m-> 1281\u001b[0;31m         \u001b[0mself\u001b[0m\u001b[0;34m.\u001b[0m\u001b[0m_send_request\u001b[0m\u001b[0;34m(\u001b[0m\u001b[0mmethod\u001b[0m\u001b[0;34m,\u001b[0m \u001b[0murl\u001b[0m\u001b[0;34m,\u001b[0m \u001b[0mbody\u001b[0m\u001b[0;34m,\u001b[0m \u001b[0mheaders\u001b[0m\u001b[0;34m,\u001b[0m \u001b[0mencode_chunked\u001b[0m\u001b[0;34m)\u001b[0m\u001b[0;34m\u001b[0m\u001b[0;34m\u001b[0m\u001b[0m\n\u001b[0m\u001b[1;32m   1282\u001b[0m \u001b[0;34m\u001b[0m\u001b[0m\n",
            "\u001b[0;32m/usr/lib/python3.7/http/client.py\u001b[0m in \u001b[0;36m_send_request\u001b[0;34m(self, method, url, body, headers, encode_chunked)\u001b[0m\n\u001b[1;32m   1326\u001b[0m             \u001b[0mbody\u001b[0m \u001b[0;34m=\u001b[0m \u001b[0m_encode\u001b[0m\u001b[0;34m(\u001b[0m\u001b[0mbody\u001b[0m\u001b[0;34m,\u001b[0m \u001b[0;34m'body'\u001b[0m\u001b[0;34m)\u001b[0m\u001b[0;34m\u001b[0m\u001b[0;34m\u001b[0m\u001b[0m\n\u001b[0;32m-> 1327\u001b[0;31m         \u001b[0mself\u001b[0m\u001b[0;34m.\u001b[0m\u001b[0mendheaders\u001b[0m\u001b[0;34m(\u001b[0m\u001b[0mbody\u001b[0m\u001b[0;34m,\u001b[0m \u001b[0mencode_chunked\u001b[0m\u001b[0;34m=\u001b[0m\u001b[0mencode_chunked\u001b[0m\u001b[0;34m)\u001b[0m\u001b[0;34m\u001b[0m\u001b[0;34m\u001b[0m\u001b[0m\n\u001b[0m\u001b[1;32m   1328\u001b[0m \u001b[0;34m\u001b[0m\u001b[0m\n",
            "\u001b[0;32m/usr/lib/python3.7/http/client.py\u001b[0m in \u001b[0;36mendheaders\u001b[0;34m(self, message_body, encode_chunked)\u001b[0m\n\u001b[1;32m   1275\u001b[0m             \u001b[0;32mraise\u001b[0m \u001b[0mCannotSendHeader\u001b[0m\u001b[0;34m(\u001b[0m\u001b[0;34m)\u001b[0m\u001b[0;34m\u001b[0m\u001b[0;34m\u001b[0m\u001b[0m\n\u001b[0;32m-> 1276\u001b[0;31m         \u001b[0mself\u001b[0m\u001b[0;34m.\u001b[0m\u001b[0m_send_output\u001b[0m\u001b[0;34m(\u001b[0m\u001b[0mmessage_body\u001b[0m\u001b[0;34m,\u001b[0m \u001b[0mencode_chunked\u001b[0m\u001b[0;34m=\u001b[0m\u001b[0mencode_chunked\u001b[0m\u001b[0;34m)\u001b[0m\u001b[0;34m\u001b[0m\u001b[0;34m\u001b[0m\u001b[0m\n\u001b[0m\u001b[1;32m   1277\u001b[0m \u001b[0;34m\u001b[0m\u001b[0m\n",
            "\u001b[0;32m/usr/lib/python3.7/http/client.py\u001b[0m in \u001b[0;36m_send_output\u001b[0;34m(self, message_body, encode_chunked)\u001b[0m\n\u001b[1;32m   1035\u001b[0m         \u001b[0;32mdel\u001b[0m \u001b[0mself\u001b[0m\u001b[0;34m.\u001b[0m\u001b[0m_buffer\u001b[0m\u001b[0;34m[\u001b[0m\u001b[0;34m:\u001b[0m\u001b[0;34m]\u001b[0m\u001b[0;34m\u001b[0m\u001b[0;34m\u001b[0m\u001b[0m\n\u001b[0;32m-> 1036\u001b[0;31m         \u001b[0mself\u001b[0m\u001b[0;34m.\u001b[0m\u001b[0msend\u001b[0m\u001b[0;34m(\u001b[0m\u001b[0mmsg\u001b[0m\u001b[0;34m)\u001b[0m\u001b[0;34m\u001b[0m\u001b[0;34m\u001b[0m\u001b[0m\n\u001b[0m\u001b[1;32m   1037\u001b[0m \u001b[0;34m\u001b[0m\u001b[0m\n",
            "\u001b[0;32m/usr/lib/python3.7/http/client.py\u001b[0m in \u001b[0;36msend\u001b[0;34m(self, data)\u001b[0m\n\u001b[1;32m    975\u001b[0m             \u001b[0;32mif\u001b[0m \u001b[0mself\u001b[0m\u001b[0;34m.\u001b[0m\u001b[0mauto_open\u001b[0m\u001b[0;34m:\u001b[0m\u001b[0;34m\u001b[0m\u001b[0;34m\u001b[0m\u001b[0m\n\u001b[0;32m--> 976\u001b[0;31m                 \u001b[0mself\u001b[0m\u001b[0;34m.\u001b[0m\u001b[0mconnect\u001b[0m\u001b[0;34m(\u001b[0m\u001b[0;34m)\u001b[0m\u001b[0;34m\u001b[0m\u001b[0;34m\u001b[0m\u001b[0m\n\u001b[0m\u001b[1;32m    977\u001b[0m             \u001b[0;32melse\u001b[0m\u001b[0;34m:\u001b[0m\u001b[0;34m\u001b[0m\u001b[0;34m\u001b[0m\u001b[0m\n",
            "\u001b[0;32m/usr/lib/python3.7/http/client.py\u001b[0m in \u001b[0;36mconnect\u001b[0;34m(self)\u001b[0m\n\u001b[1;32m    947\u001b[0m         self.sock = self._create_connection(\n\u001b[0;32m--> 948\u001b[0;31m             (self.host,self.port), self.timeout, self.source_address)\n\u001b[0m\u001b[1;32m    949\u001b[0m         \u001b[0mself\u001b[0m\u001b[0;34m.\u001b[0m\u001b[0msock\u001b[0m\u001b[0;34m.\u001b[0m\u001b[0msetsockopt\u001b[0m\u001b[0;34m(\u001b[0m\u001b[0msocket\u001b[0m\u001b[0;34m.\u001b[0m\u001b[0mIPPROTO_TCP\u001b[0m\u001b[0;34m,\u001b[0m \u001b[0msocket\u001b[0m\u001b[0;34m.\u001b[0m\u001b[0mTCP_NODELAY\u001b[0m\u001b[0;34m,\u001b[0m \u001b[0;36m1\u001b[0m\u001b[0;34m)\u001b[0m\u001b[0;34m\u001b[0m\u001b[0;34m\u001b[0m\u001b[0m\n",
            "\u001b[0;32m/usr/lib/python3.7/socket.py\u001b[0m in \u001b[0;36mcreate_connection\u001b[0;34m(address, timeout, source_address)\u001b[0m\n\u001b[1;32m    706\u001b[0m     \u001b[0merr\u001b[0m \u001b[0;34m=\u001b[0m \u001b[0;32mNone\u001b[0m\u001b[0;34m\u001b[0m\u001b[0;34m\u001b[0m\u001b[0m\n\u001b[0;32m--> 707\u001b[0;31m     \u001b[0;32mfor\u001b[0m \u001b[0mres\u001b[0m \u001b[0;32min\u001b[0m \u001b[0mgetaddrinfo\u001b[0m\u001b[0;34m(\u001b[0m\u001b[0mhost\u001b[0m\u001b[0;34m,\u001b[0m \u001b[0mport\u001b[0m\u001b[0;34m,\u001b[0m \u001b[0;36m0\u001b[0m\u001b[0;34m,\u001b[0m \u001b[0mSOCK_STREAM\u001b[0m\u001b[0;34m)\u001b[0m\u001b[0;34m:\u001b[0m\u001b[0;34m\u001b[0m\u001b[0;34m\u001b[0m\u001b[0m\n\u001b[0m\u001b[1;32m    708\u001b[0m         \u001b[0maf\u001b[0m\u001b[0;34m,\u001b[0m \u001b[0msocktype\u001b[0m\u001b[0;34m,\u001b[0m \u001b[0mproto\u001b[0m\u001b[0;34m,\u001b[0m \u001b[0mcanonname\u001b[0m\u001b[0;34m,\u001b[0m \u001b[0msa\u001b[0m \u001b[0;34m=\u001b[0m \u001b[0mres\u001b[0m\u001b[0;34m\u001b[0m\u001b[0;34m\u001b[0m\u001b[0m\n",
            "\u001b[0;32m/usr/lib/python3.7/socket.py\u001b[0m in \u001b[0;36mgetaddrinfo\u001b[0;34m(host, port, family, type, proto, flags)\u001b[0m\n\u001b[1;32m    751\u001b[0m     \u001b[0maddrlist\u001b[0m \u001b[0;34m=\u001b[0m \u001b[0;34m[\u001b[0m\u001b[0;34m]\u001b[0m\u001b[0;34m\u001b[0m\u001b[0;34m\u001b[0m\u001b[0m\n\u001b[0;32m--> 752\u001b[0;31m     \u001b[0;32mfor\u001b[0m \u001b[0mres\u001b[0m \u001b[0;32min\u001b[0m \u001b[0m_socket\u001b[0m\u001b[0;34m.\u001b[0m\u001b[0mgetaddrinfo\u001b[0m\u001b[0;34m(\u001b[0m\u001b[0mhost\u001b[0m\u001b[0;34m,\u001b[0m \u001b[0mport\u001b[0m\u001b[0;34m,\u001b[0m \u001b[0mfamily\u001b[0m\u001b[0;34m,\u001b[0m \u001b[0mtype\u001b[0m\u001b[0;34m,\u001b[0m \u001b[0mproto\u001b[0m\u001b[0;34m,\u001b[0m \u001b[0mflags\u001b[0m\u001b[0;34m)\u001b[0m\u001b[0;34m:\u001b[0m\u001b[0;34m\u001b[0m\u001b[0;34m\u001b[0m\u001b[0m\n\u001b[0m\u001b[1;32m    753\u001b[0m         \u001b[0maf\u001b[0m\u001b[0;34m,\u001b[0m \u001b[0msocktype\u001b[0m\u001b[0;34m,\u001b[0m \u001b[0mproto\u001b[0m\u001b[0;34m,\u001b[0m \u001b[0mcanonname\u001b[0m\u001b[0;34m,\u001b[0m \u001b[0msa\u001b[0m \u001b[0;34m=\u001b[0m \u001b[0mres\u001b[0m\u001b[0;34m\u001b[0m\u001b[0;34m\u001b[0m\u001b[0m\n",
            "\u001b[0;31mgaierror\u001b[0m: [Errno -2] Name or service not known",
            "\nDuring handling of the above exception, another exception occurred:\n",
            "\u001b[0;31mURLError\u001b[0m                                  Traceback (most recent call last)",
            "\u001b[0;32m<ipython-input-144-8375a4b2f4d2>\u001b[0m in \u001b[0;36m<module>\u001b[0;34m()\u001b[0m\n\u001b[0;32m----> 1\u001b[0;31m \u001b[0mdf\u001b[0m\u001b[0;34m=\u001b[0m\u001b[0mpd\u001b[0m\u001b[0;34m.\u001b[0m\u001b[0mread_json\u001b[0m\u001b[0;34m(\u001b[0m\u001b[0;34m'http://old.inspirehep.net/search?p=doi:10.1103/PhysRevLett.122.132001&of=recjson'\u001b[0m\u001b[0;34m)\u001b[0m\u001b[0;34m\u001b[0m\u001b[0;34m\u001b[0m\u001b[0m\n\u001b[0m",
            "\u001b[0;32m/usr/local/lib/python3.7/dist-packages/pandas/util/_decorators.py\u001b[0m in \u001b[0;36mwrapper\u001b[0;34m(*args, **kwargs)\u001b[0m\n\u001b[1;32m    205\u001b[0m                 \u001b[0;32melse\u001b[0m\u001b[0;34m:\u001b[0m\u001b[0;34m\u001b[0m\u001b[0;34m\u001b[0m\u001b[0m\n\u001b[1;32m    206\u001b[0m                     \u001b[0mkwargs\u001b[0m\u001b[0;34m[\u001b[0m\u001b[0mnew_arg_name\u001b[0m\u001b[0;34m]\u001b[0m \u001b[0;34m=\u001b[0m \u001b[0mnew_arg_value\u001b[0m\u001b[0;34m\u001b[0m\u001b[0;34m\u001b[0m\u001b[0m\n\u001b[0;32m--> 207\u001b[0;31m             \u001b[0;32mreturn\u001b[0m \u001b[0mfunc\u001b[0m\u001b[0;34m(\u001b[0m\u001b[0;34m*\u001b[0m\u001b[0margs\u001b[0m\u001b[0;34m,\u001b[0m \u001b[0;34m**\u001b[0m\u001b[0mkwargs\u001b[0m\u001b[0;34m)\u001b[0m\u001b[0;34m\u001b[0m\u001b[0;34m\u001b[0m\u001b[0m\n\u001b[0m\u001b[1;32m    208\u001b[0m \u001b[0;34m\u001b[0m\u001b[0m\n\u001b[1;32m    209\u001b[0m         \u001b[0;32mreturn\u001b[0m \u001b[0mcast\u001b[0m\u001b[0;34m(\u001b[0m\u001b[0mF\u001b[0m\u001b[0;34m,\u001b[0m \u001b[0mwrapper\u001b[0m\u001b[0;34m)\u001b[0m\u001b[0;34m\u001b[0m\u001b[0;34m\u001b[0m\u001b[0m\n",
            "\u001b[0;32m/usr/local/lib/python3.7/dist-packages/pandas/util/_decorators.py\u001b[0m in \u001b[0;36mwrapper\u001b[0;34m(*args, **kwargs)\u001b[0m\n\u001b[1;32m    309\u001b[0m                     \u001b[0mstacklevel\u001b[0m\u001b[0;34m=\u001b[0m\u001b[0mstacklevel\u001b[0m\u001b[0;34m,\u001b[0m\u001b[0;34m\u001b[0m\u001b[0;34m\u001b[0m\u001b[0m\n\u001b[1;32m    310\u001b[0m                 )\n\u001b[0;32m--> 311\u001b[0;31m             \u001b[0;32mreturn\u001b[0m \u001b[0mfunc\u001b[0m\u001b[0;34m(\u001b[0m\u001b[0;34m*\u001b[0m\u001b[0margs\u001b[0m\u001b[0;34m,\u001b[0m \u001b[0;34m**\u001b[0m\u001b[0mkwargs\u001b[0m\u001b[0;34m)\u001b[0m\u001b[0;34m\u001b[0m\u001b[0;34m\u001b[0m\u001b[0m\n\u001b[0m\u001b[1;32m    312\u001b[0m \u001b[0;34m\u001b[0m\u001b[0m\n\u001b[1;32m    313\u001b[0m         \u001b[0;32mreturn\u001b[0m \u001b[0mwrapper\u001b[0m\u001b[0;34m\u001b[0m\u001b[0;34m\u001b[0m\u001b[0m\n",
            "\u001b[0;32m/usr/local/lib/python3.7/dist-packages/pandas/io/json/_json.py\u001b[0m in \u001b[0;36mread_json\u001b[0;34m(path_or_buf, orient, typ, dtype, convert_axes, convert_dates, keep_default_dates, numpy, precise_float, date_unit, encoding, encoding_errors, lines, chunksize, compression, nrows, storage_options)\u001b[0m\n\u001b[1;32m    605\u001b[0m         \u001b[0mnrows\u001b[0m\u001b[0;34m=\u001b[0m\u001b[0mnrows\u001b[0m\u001b[0;34m,\u001b[0m\u001b[0;34m\u001b[0m\u001b[0;34m\u001b[0m\u001b[0m\n\u001b[1;32m    606\u001b[0m         \u001b[0mstorage_options\u001b[0m\u001b[0;34m=\u001b[0m\u001b[0mstorage_options\u001b[0m\u001b[0;34m,\u001b[0m\u001b[0;34m\u001b[0m\u001b[0;34m\u001b[0m\u001b[0m\n\u001b[0;32m--> 607\u001b[0;31m         \u001b[0mencoding_errors\u001b[0m\u001b[0;34m=\u001b[0m\u001b[0mencoding_errors\u001b[0m\u001b[0;34m,\u001b[0m\u001b[0;34m\u001b[0m\u001b[0;34m\u001b[0m\u001b[0m\n\u001b[0m\u001b[1;32m    608\u001b[0m     )\n\u001b[1;32m    609\u001b[0m \u001b[0;34m\u001b[0m\u001b[0m\n",
            "\u001b[0;32m/usr/local/lib/python3.7/dist-packages/pandas/io/json/_json.py\u001b[0m in \u001b[0;36m__init__\u001b[0;34m(self, filepath_or_buffer, orient, typ, dtype, convert_axes, convert_dates, keep_default_dates, numpy, precise_float, date_unit, encoding, lines, chunksize, compression, nrows, storage_options, encoding_errors)\u001b[0m\n\u001b[1;32m    673\u001b[0m                 \u001b[0;32mraise\u001b[0m \u001b[0mValueError\u001b[0m\u001b[0;34m(\u001b[0m\u001b[0;34m\"nrows can only be passed if lines=True\"\u001b[0m\u001b[0;34m)\u001b[0m\u001b[0;34m\u001b[0m\u001b[0;34m\u001b[0m\u001b[0m\n\u001b[1;32m    674\u001b[0m \u001b[0;34m\u001b[0m\u001b[0m\n\u001b[0;32m--> 675\u001b[0;31m         \u001b[0mdata\u001b[0m \u001b[0;34m=\u001b[0m \u001b[0mself\u001b[0m\u001b[0;34m.\u001b[0m\u001b[0m_get_data_from_filepath\u001b[0m\u001b[0;34m(\u001b[0m\u001b[0mfilepath_or_buffer\u001b[0m\u001b[0;34m)\u001b[0m\u001b[0;34m\u001b[0m\u001b[0;34m\u001b[0m\u001b[0m\n\u001b[0m\u001b[1;32m    676\u001b[0m         \u001b[0mself\u001b[0m\u001b[0;34m.\u001b[0m\u001b[0mdata\u001b[0m \u001b[0;34m=\u001b[0m \u001b[0mself\u001b[0m\u001b[0;34m.\u001b[0m\u001b[0m_preprocess_data\u001b[0m\u001b[0;34m(\u001b[0m\u001b[0mdata\u001b[0m\u001b[0;34m)\u001b[0m\u001b[0;34m\u001b[0m\u001b[0;34m\u001b[0m\u001b[0m\n\u001b[1;32m    677\u001b[0m \u001b[0;34m\u001b[0m\u001b[0m\n",
            "\u001b[0;32m/usr/local/lib/python3.7/dist-packages/pandas/io/json/_json.py\u001b[0m in \u001b[0;36m_get_data_from_filepath\u001b[0;34m(self, filepath_or_buffer)\u001b[0m\n\u001b[1;32m    716\u001b[0m                 \u001b[0mcompression\u001b[0m\u001b[0;34m=\u001b[0m\u001b[0mself\u001b[0m\u001b[0;34m.\u001b[0m\u001b[0mcompression\u001b[0m\u001b[0;34m,\u001b[0m\u001b[0;34m\u001b[0m\u001b[0;34m\u001b[0m\u001b[0m\n\u001b[1;32m    717\u001b[0m                 \u001b[0mstorage_options\u001b[0m\u001b[0;34m=\u001b[0m\u001b[0mself\u001b[0m\u001b[0;34m.\u001b[0m\u001b[0mstorage_options\u001b[0m\u001b[0;34m,\u001b[0m\u001b[0;34m\u001b[0m\u001b[0;34m\u001b[0m\u001b[0m\n\u001b[0;32m--> 718\u001b[0;31m                 \u001b[0merrors\u001b[0m\u001b[0;34m=\u001b[0m\u001b[0mself\u001b[0m\u001b[0;34m.\u001b[0m\u001b[0mencoding_errors\u001b[0m\u001b[0;34m,\u001b[0m\u001b[0;34m\u001b[0m\u001b[0;34m\u001b[0m\u001b[0m\n\u001b[0m\u001b[1;32m    719\u001b[0m             )\n\u001b[1;32m    720\u001b[0m             \u001b[0mfilepath_or_buffer\u001b[0m \u001b[0;34m=\u001b[0m \u001b[0mself\u001b[0m\u001b[0;34m.\u001b[0m\u001b[0mhandles\u001b[0m\u001b[0;34m.\u001b[0m\u001b[0mhandle\u001b[0m\u001b[0;34m\u001b[0m\u001b[0;34m\u001b[0m\u001b[0m\n",
            "\u001b[0;32m/usr/local/lib/python3.7/dist-packages/pandas/io/common.py\u001b[0m in \u001b[0;36mget_handle\u001b[0;34m(path_or_buf, mode, encoding, compression, memory_map, is_text, errors, storage_options)\u001b[0m\n\u001b[1;32m    612\u001b[0m         \u001b[0mcompression\u001b[0m\u001b[0;34m=\u001b[0m\u001b[0mcompression\u001b[0m\u001b[0;34m,\u001b[0m\u001b[0;34m\u001b[0m\u001b[0;34m\u001b[0m\u001b[0m\n\u001b[1;32m    613\u001b[0m         \u001b[0mmode\u001b[0m\u001b[0;34m=\u001b[0m\u001b[0mmode\u001b[0m\u001b[0;34m,\u001b[0m\u001b[0;34m\u001b[0m\u001b[0;34m\u001b[0m\u001b[0m\n\u001b[0;32m--> 614\u001b[0;31m         \u001b[0mstorage_options\u001b[0m\u001b[0;34m=\u001b[0m\u001b[0mstorage_options\u001b[0m\u001b[0;34m,\u001b[0m\u001b[0;34m\u001b[0m\u001b[0;34m\u001b[0m\u001b[0m\n\u001b[0m\u001b[1;32m    615\u001b[0m     )\n\u001b[1;32m    616\u001b[0m \u001b[0;34m\u001b[0m\u001b[0m\n",
            "\u001b[0;32m/usr/local/lib/python3.7/dist-packages/pandas/io/common.py\u001b[0m in \u001b[0;36m_get_filepath_or_buffer\u001b[0;34m(filepath_or_buffer, encoding, compression, mode, storage_options)\u001b[0m\n\u001b[1;32m    310\u001b[0m         \u001b[0;31m# assuming storage_options is to be interpreted as headers\u001b[0m\u001b[0;34m\u001b[0m\u001b[0;34m\u001b[0m\u001b[0;34m\u001b[0m\u001b[0m\n\u001b[1;32m    311\u001b[0m         \u001b[0mreq_info\u001b[0m \u001b[0;34m=\u001b[0m \u001b[0murllib\u001b[0m\u001b[0;34m.\u001b[0m\u001b[0mrequest\u001b[0m\u001b[0;34m.\u001b[0m\u001b[0mRequest\u001b[0m\u001b[0;34m(\u001b[0m\u001b[0mfilepath_or_buffer\u001b[0m\u001b[0;34m,\u001b[0m \u001b[0mheaders\u001b[0m\u001b[0;34m=\u001b[0m\u001b[0mstorage_options\u001b[0m\u001b[0;34m)\u001b[0m\u001b[0;34m\u001b[0m\u001b[0;34m\u001b[0m\u001b[0m\n\u001b[0;32m--> 312\u001b[0;31m         \u001b[0;32mwith\u001b[0m \u001b[0murlopen\u001b[0m\u001b[0;34m(\u001b[0m\u001b[0mreq_info\u001b[0m\u001b[0;34m)\u001b[0m \u001b[0;32mas\u001b[0m \u001b[0mreq\u001b[0m\u001b[0;34m:\u001b[0m\u001b[0;34m\u001b[0m\u001b[0;34m\u001b[0m\u001b[0m\n\u001b[0m\u001b[1;32m    313\u001b[0m             \u001b[0mcontent_encoding\u001b[0m \u001b[0;34m=\u001b[0m \u001b[0mreq\u001b[0m\u001b[0;34m.\u001b[0m\u001b[0mheaders\u001b[0m\u001b[0;34m.\u001b[0m\u001b[0mget\u001b[0m\u001b[0;34m(\u001b[0m\u001b[0;34m\"Content-Encoding\"\u001b[0m\u001b[0;34m,\u001b[0m \u001b[0;32mNone\u001b[0m\u001b[0;34m)\u001b[0m\u001b[0;34m\u001b[0m\u001b[0;34m\u001b[0m\u001b[0m\n\u001b[1;32m    314\u001b[0m             \u001b[0;32mif\u001b[0m \u001b[0mcontent_encoding\u001b[0m \u001b[0;34m==\u001b[0m \u001b[0;34m\"gzip\"\u001b[0m\u001b[0;34m:\u001b[0m\u001b[0;34m\u001b[0m\u001b[0;34m\u001b[0m\u001b[0m\n",
            "\u001b[0;32m/usr/local/lib/python3.7/dist-packages/pandas/io/common.py\u001b[0m in \u001b[0;36murlopen\u001b[0;34m(*args, **kwargs)\u001b[0m\n\u001b[1;32m    210\u001b[0m     \u001b[0;32mimport\u001b[0m \u001b[0murllib\u001b[0m\u001b[0;34m.\u001b[0m\u001b[0mrequest\u001b[0m\u001b[0;34m\u001b[0m\u001b[0;34m\u001b[0m\u001b[0m\n\u001b[1;32m    211\u001b[0m \u001b[0;34m\u001b[0m\u001b[0m\n\u001b[0;32m--> 212\u001b[0;31m     \u001b[0;32mreturn\u001b[0m \u001b[0murllib\u001b[0m\u001b[0;34m.\u001b[0m\u001b[0mrequest\u001b[0m\u001b[0;34m.\u001b[0m\u001b[0murlopen\u001b[0m\u001b[0;34m(\u001b[0m\u001b[0;34m*\u001b[0m\u001b[0margs\u001b[0m\u001b[0;34m,\u001b[0m \u001b[0;34m**\u001b[0m\u001b[0mkwargs\u001b[0m\u001b[0;34m)\u001b[0m\u001b[0;34m\u001b[0m\u001b[0;34m\u001b[0m\u001b[0m\n\u001b[0m\u001b[1;32m    213\u001b[0m \u001b[0;34m\u001b[0m\u001b[0m\n\u001b[1;32m    214\u001b[0m \u001b[0;34m\u001b[0m\u001b[0m\n",
            "\u001b[0;32m/usr/lib/python3.7/urllib/request.py\u001b[0m in \u001b[0;36murlopen\u001b[0;34m(url, data, timeout, cafile, capath, cadefault, context)\u001b[0m\n\u001b[1;32m    220\u001b[0m     \u001b[0;32melse\u001b[0m\u001b[0;34m:\u001b[0m\u001b[0;34m\u001b[0m\u001b[0;34m\u001b[0m\u001b[0m\n\u001b[1;32m    221\u001b[0m         \u001b[0mopener\u001b[0m \u001b[0;34m=\u001b[0m \u001b[0m_opener\u001b[0m\u001b[0;34m\u001b[0m\u001b[0;34m\u001b[0m\u001b[0m\n\u001b[0;32m--> 222\u001b[0;31m     \u001b[0;32mreturn\u001b[0m \u001b[0mopener\u001b[0m\u001b[0;34m.\u001b[0m\u001b[0mopen\u001b[0m\u001b[0;34m(\u001b[0m\u001b[0murl\u001b[0m\u001b[0;34m,\u001b[0m \u001b[0mdata\u001b[0m\u001b[0;34m,\u001b[0m \u001b[0mtimeout\u001b[0m\u001b[0;34m)\u001b[0m\u001b[0;34m\u001b[0m\u001b[0;34m\u001b[0m\u001b[0m\n\u001b[0m\u001b[1;32m    223\u001b[0m \u001b[0;34m\u001b[0m\u001b[0m\n\u001b[1;32m    224\u001b[0m \u001b[0;32mdef\u001b[0m \u001b[0minstall_opener\u001b[0m\u001b[0;34m(\u001b[0m\u001b[0mopener\u001b[0m\u001b[0;34m)\u001b[0m\u001b[0;34m:\u001b[0m\u001b[0;34m\u001b[0m\u001b[0;34m\u001b[0m\u001b[0m\n",
            "\u001b[0;32m/usr/lib/python3.7/urllib/request.py\u001b[0m in \u001b[0;36mopen\u001b[0;34m(self, fullurl, data, timeout)\u001b[0m\n\u001b[1;32m    523\u001b[0m             \u001b[0mreq\u001b[0m \u001b[0;34m=\u001b[0m \u001b[0mmeth\u001b[0m\u001b[0;34m(\u001b[0m\u001b[0mreq\u001b[0m\u001b[0;34m)\u001b[0m\u001b[0;34m\u001b[0m\u001b[0;34m\u001b[0m\u001b[0m\n\u001b[1;32m    524\u001b[0m \u001b[0;34m\u001b[0m\u001b[0m\n\u001b[0;32m--> 525\u001b[0;31m         \u001b[0mresponse\u001b[0m \u001b[0;34m=\u001b[0m \u001b[0mself\u001b[0m\u001b[0;34m.\u001b[0m\u001b[0m_open\u001b[0m\u001b[0;34m(\u001b[0m\u001b[0mreq\u001b[0m\u001b[0;34m,\u001b[0m \u001b[0mdata\u001b[0m\u001b[0;34m)\u001b[0m\u001b[0;34m\u001b[0m\u001b[0;34m\u001b[0m\u001b[0m\n\u001b[0m\u001b[1;32m    526\u001b[0m \u001b[0;34m\u001b[0m\u001b[0m\n\u001b[1;32m    527\u001b[0m         \u001b[0;31m# post-process response\u001b[0m\u001b[0;34m\u001b[0m\u001b[0;34m\u001b[0m\u001b[0;34m\u001b[0m\u001b[0m\n",
            "\u001b[0;32m/usr/lib/python3.7/urllib/request.py\u001b[0m in \u001b[0;36m_open\u001b[0;34m(self, req, data)\u001b[0m\n\u001b[1;32m    541\u001b[0m         \u001b[0mprotocol\u001b[0m \u001b[0;34m=\u001b[0m \u001b[0mreq\u001b[0m\u001b[0;34m.\u001b[0m\u001b[0mtype\u001b[0m\u001b[0;34m\u001b[0m\u001b[0;34m\u001b[0m\u001b[0m\n\u001b[1;32m    542\u001b[0m         result = self._call_chain(self.handle_open, protocol, protocol +\n\u001b[0;32m--> 543\u001b[0;31m                                   '_open', req)\n\u001b[0m\u001b[1;32m    544\u001b[0m         \u001b[0;32mif\u001b[0m \u001b[0mresult\u001b[0m\u001b[0;34m:\u001b[0m\u001b[0;34m\u001b[0m\u001b[0;34m\u001b[0m\u001b[0m\n\u001b[1;32m    545\u001b[0m             \u001b[0;32mreturn\u001b[0m \u001b[0mresult\u001b[0m\u001b[0;34m\u001b[0m\u001b[0;34m\u001b[0m\u001b[0m\n",
            "\u001b[0;32m/usr/lib/python3.7/urllib/request.py\u001b[0m in \u001b[0;36m_call_chain\u001b[0;34m(self, chain, kind, meth_name, *args)\u001b[0m\n\u001b[1;32m    501\u001b[0m         \u001b[0;32mfor\u001b[0m \u001b[0mhandler\u001b[0m \u001b[0;32min\u001b[0m \u001b[0mhandlers\u001b[0m\u001b[0;34m:\u001b[0m\u001b[0;34m\u001b[0m\u001b[0;34m\u001b[0m\u001b[0m\n\u001b[1;32m    502\u001b[0m             \u001b[0mfunc\u001b[0m \u001b[0;34m=\u001b[0m \u001b[0mgetattr\u001b[0m\u001b[0;34m(\u001b[0m\u001b[0mhandler\u001b[0m\u001b[0;34m,\u001b[0m \u001b[0mmeth_name\u001b[0m\u001b[0;34m)\u001b[0m\u001b[0;34m\u001b[0m\u001b[0;34m\u001b[0m\u001b[0m\n\u001b[0;32m--> 503\u001b[0;31m             \u001b[0mresult\u001b[0m \u001b[0;34m=\u001b[0m \u001b[0mfunc\u001b[0m\u001b[0;34m(\u001b[0m\u001b[0;34m*\u001b[0m\u001b[0margs\u001b[0m\u001b[0;34m)\u001b[0m\u001b[0;34m\u001b[0m\u001b[0;34m\u001b[0m\u001b[0m\n\u001b[0m\u001b[1;32m    504\u001b[0m             \u001b[0;32mif\u001b[0m \u001b[0mresult\u001b[0m \u001b[0;32mis\u001b[0m \u001b[0;32mnot\u001b[0m \u001b[0;32mNone\u001b[0m\u001b[0;34m:\u001b[0m\u001b[0;34m\u001b[0m\u001b[0;34m\u001b[0m\u001b[0m\n\u001b[1;32m    505\u001b[0m                 \u001b[0;32mreturn\u001b[0m \u001b[0mresult\u001b[0m\u001b[0;34m\u001b[0m\u001b[0;34m\u001b[0m\u001b[0m\n",
            "\u001b[0;32m/usr/lib/python3.7/urllib/request.py\u001b[0m in \u001b[0;36mhttp_open\u001b[0;34m(self, req)\u001b[0m\n\u001b[1;32m   1376\u001b[0m \u001b[0;34m\u001b[0m\u001b[0m\n\u001b[1;32m   1377\u001b[0m     \u001b[0;32mdef\u001b[0m \u001b[0mhttp_open\u001b[0m\u001b[0;34m(\u001b[0m\u001b[0mself\u001b[0m\u001b[0;34m,\u001b[0m \u001b[0mreq\u001b[0m\u001b[0;34m)\u001b[0m\u001b[0;34m:\u001b[0m\u001b[0;34m\u001b[0m\u001b[0;34m\u001b[0m\u001b[0m\n\u001b[0;32m-> 1378\u001b[0;31m         \u001b[0;32mreturn\u001b[0m \u001b[0mself\u001b[0m\u001b[0;34m.\u001b[0m\u001b[0mdo_open\u001b[0m\u001b[0;34m(\u001b[0m\u001b[0mhttp\u001b[0m\u001b[0;34m.\u001b[0m\u001b[0mclient\u001b[0m\u001b[0;34m.\u001b[0m\u001b[0mHTTPConnection\u001b[0m\u001b[0;34m,\u001b[0m \u001b[0mreq\u001b[0m\u001b[0;34m)\u001b[0m\u001b[0;34m\u001b[0m\u001b[0;34m\u001b[0m\u001b[0m\n\u001b[0m\u001b[1;32m   1379\u001b[0m \u001b[0;34m\u001b[0m\u001b[0m\n\u001b[1;32m   1380\u001b[0m     \u001b[0mhttp_request\u001b[0m \u001b[0;34m=\u001b[0m \u001b[0mAbstractHTTPHandler\u001b[0m\u001b[0;34m.\u001b[0m\u001b[0mdo_request_\u001b[0m\u001b[0;34m\u001b[0m\u001b[0;34m\u001b[0m\u001b[0m\n",
            "\u001b[0;32m/usr/lib/python3.7/urllib/request.py\u001b[0m in \u001b[0;36mdo_open\u001b[0;34m(self, http_class, req, **http_conn_args)\u001b[0m\n\u001b[1;32m   1350\u001b[0m                           encode_chunked=req.has_header('Transfer-encoding'))\n\u001b[1;32m   1351\u001b[0m             \u001b[0;32mexcept\u001b[0m \u001b[0mOSError\u001b[0m \u001b[0;32mas\u001b[0m \u001b[0merr\u001b[0m\u001b[0;34m:\u001b[0m \u001b[0;31m# timeout error\u001b[0m\u001b[0;34m\u001b[0m\u001b[0;34m\u001b[0m\u001b[0m\n\u001b[0;32m-> 1352\u001b[0;31m                 \u001b[0;32mraise\u001b[0m \u001b[0mURLError\u001b[0m\u001b[0;34m(\u001b[0m\u001b[0merr\u001b[0m\u001b[0;34m)\u001b[0m\u001b[0;34m\u001b[0m\u001b[0;34m\u001b[0m\u001b[0m\n\u001b[0m\u001b[1;32m   1353\u001b[0m             \u001b[0mr\u001b[0m \u001b[0;34m=\u001b[0m \u001b[0mh\u001b[0m\u001b[0;34m.\u001b[0m\u001b[0mgetresponse\u001b[0m\u001b[0;34m(\u001b[0m\u001b[0;34m)\u001b[0m\u001b[0;34m\u001b[0m\u001b[0;34m\u001b[0m\u001b[0m\n\u001b[1;32m   1354\u001b[0m         \u001b[0;32mexcept\u001b[0m\u001b[0;34m:\u001b[0m\u001b[0;34m\u001b[0m\u001b[0;34m\u001b[0m\u001b[0m\n",
            "\u001b[0;31mURLError\u001b[0m: <urlopen error [Errno -2] Name or service not known>"
          ]
        }
      ],
      "source": [
        "df=pd.read_json('http://old.inspirehep.net/search?p=doi:10.1103/PhysRevLett.122.132001&of=recjson')"
      ]
    },
    {
      "cell_type": "code",
      "execution_count": null,
      "metadata": {
        "cell_id": "00175-483f18ee-8181-46cf-995b-4d1b5abd53b7",
        "deepnote_cell_type": "code",
        "id": "MPiuuciYo90S"
      },
      "outputs": [],
      "source": [
        "df"
      ]
    },
    {
      "cell_type": "markdown",
      "metadata": {
        "cell_id": "00176-771f6078-2bd8-4b8c-bd1e-52d95359760b",
        "deepnote_cell_type": "markdown",
        "id": "SyVgDj1ApPtP"
      },
      "source": [
        "We can see that the column `authors` is quite nested: Is a list of dictionaries with the full information for each one of the authors of the article."
      ]
    },
    {
      "cell_type": "code",
      "execution_count": null,
      "metadata": {
        "cell_id": "00177-7be88c70-ca2b-4158-bab5-b53e0053f663",
        "deepnote_cell_type": "code",
        "id": "92q3m4RpCnFv"
      },
      "outputs": [],
      "source": [
        "df.columns"
      ]
    },
    {
      "cell_type": "code",
      "execution_count": null,
      "metadata": {
        "cell_id": "00178-2f47e4be-8d74-44e2-bb4a-42747650380d",
        "deepnote_cell_type": "code",
        "id": "u5RAjppFCnFw"
      },
      "outputs": [],
      "source": [
        "df.number_of_authors"
      ]
    },
    {
      "cell_type": "code",
      "execution_count": null,
      "metadata": {
        "cell_id": "00179-b30f7447-bb10-4fae-a63c-8b3e97fe860b",
        "deepnote_cell_type": "code",
        "id": "BybpMovNsB7N"
      },
      "outputs": [],
      "source": [
        "df.authors"
      ]
    },
    {
      "cell_type": "markdown",
      "metadata": {
        "cell_id": "00180-df4514dc-1020-47a8-ae5b-9fa3fe83a913",
        "deepnote_cell_type": "markdown",
        "id": "8zr5Nsxwsikt"
      },
      "source": [
        "__Activity__: Check that the lenght of the auhors list coincides with the `number_of_authors` \n",
        "<!-- df.authors.apply(len),df.number_of_authors.values -->"
      ]
    },
    {
      "cell_type": "code",
      "execution_count": null,
      "metadata": {
        "cell_id": "00181-e6df8982-fca7-4ff2-a8e6-e57c2d3471ee",
        "deepnote_cell_type": "code",
        "id": "CrB8DLs9CnFx"
      },
      "outputs": [],
      "source": [
        "df.authors.apply(len)"
      ]
    },
    {
      "cell_type": "code",
      "execution_count": null,
      "metadata": {
        "cell_id": "00182-cd1983d8-df1d-4250-84f8-d2d9d65bee72",
        "deepnote_cell_type": "code",
        "id": "I1IvH1K-s46d"
      },
      "outputs": [],
      "source": [
        "df.authors[0][0]"
      ]
    },
    {
      "cell_type": "markdown",
      "metadata": {
        "cell_id": "00183-b08b0eea-107b-49a8-8340-c12fcbc66e1d",
        "deepnote_cell_type": "markdown",
        "id": "i22ywhohsAVo"
      },
      "source": [
        " We can use all the previous methods to extract the authors from `'Antioquia U.'`:\n",
        " \n",
        " Note: For a dictionary, `d` is safer to use `d.get('key')` instead of just `d['key']` to obtain some `key`, because not error is generated if the requested `key` does not exists at all "
      ]
    },
    {
      "cell_type": "code",
      "execution_count": null,
      "metadata": {
        "cell_id": "00184-2fc88c7e-5d18-4932-a6f9-b7c2c0850fb3",
        "deepnote_cell_type": "code",
        "id": "7ghvHgj6CnFx"
      },
      "outputs": [],
      "source": [
        "df.authors.apply(lambda l: [d for d in l if d.get('affiliation')=='Antioquia U.']).loc[0]"
      ]
    },
    {
      "cell_type": "markdown",
      "metadata": {
        "cell_id": "00185-afab64fd-fbca-4c15-b003-a9dae9871b1b",
        "deepnote_cell_type": "markdown",
        "id": "IpgcsMhFCnFy"
      },
      "source": [
        "We also need use comprenhension list like in"
      ]
    },
    {
      "cell_type": "code",
      "execution_count": null,
      "metadata": {
        "cell_id": "00186-7a213a38-7d08-4ca8-997a-bb19f26debf8",
        "deepnote_cell_type": "code",
        "id": "1xe4Cy2sCnFy"
      },
      "outputs": [],
      "source": [
        "l=[1,2,3]"
      ]
    },
    {
      "cell_type": "code",
      "execution_count": null,
      "metadata": {
        "cell_id": "00187-6a433856-97a1-43c8-b7ff-1fb531b4d79a",
        "deepnote_cell_type": "code",
        "id": "Delcng8tCnFy"
      },
      "outputs": [],
      "source": [
        "[x if x>1 else 3 for x in l ]"
      ]
    },
    {
      "cell_type": "markdown",
      "metadata": {
        "cell_id": "00188-35f26f54-83d6-4764-9aa4-3098544da774",
        "deepnote_cell_type": "markdown",
        "id": "l2WVn37SCnFz"
      },
      "source": [
        "Then the on-fly apply function to extract the authors with affiliation 'Antioquia U.' is"
      ]
    },
    {
      "cell_type": "code",
      "execution_count": null,
      "metadata": {
        "cell_id": "00189-3ff734da-a866-4d05-a7da-6ef6e4b58e7e",
        "deepnote_cell_type": "code",
        "id": "1cx7xy2rpOzg"
      },
      "outputs": [],
      "source": [
        "df.authors.apply(lambda l:  #implicit function\n",
        "                           [ d.get('full_name') #safer way to obtain a `key` value\n",
        "                             for d in l   #comprehension list \n",
        "                              if isinstance(d,dict) and d.get('affiliation')=='Antioquia U.' #condition\n",
        "                           ] \n",
        "                             if isinstance(l,list) else None #  Be sure that cell have the proper format\n",
        "                 )"
      ]
    },
    {
      "cell_type": "markdown",
      "metadata": {
        "cell_id": "00190-726d62de-30f6-4fd1-920e-7726fbc7b2e0",
        "deepnote_cell_type": "markdown",
        "id": "-YpfjPAdu19J"
      },
      "source": [
        "A simpler version is possible,  but is more prompted to error when used through multiple column entries:"
      ]
    },
    {
      "cell_type": "code",
      "execution_count": null,
      "metadata": {
        "cell_id": "00191-ac02e2f2-11e0-4b44-893c-da34d6b699f5",
        "deepnote_cell_type": "code",
        "id": "oM80j8zdvAdq"
      },
      "outputs": [],
      "source": [
        "df.authors.apply(lambda l: [ d['full_name'] for d in l   \n",
        "                              if d['affiliation']=='Antioquia U.'\n",
        "                           ] )"
      ]
    },
    {
      "cell_type": "markdown",
      "metadata": {
        "cell_id": "00192-fa68bd80-a348-41cb-ad3c-fb0a4cfdb0ae",
        "deepnote_cell_type": "markdown",
        "id": "1Z96Ju2gwQO0"
      },
      "source": [
        "For further details see: https://github.com/restrepo/inspire/blob/master/gfif.ipynb\n"
      ]
    },
    {
      "cell_type": "markdown",
      "metadata": {
        "cell_id": "00193-6e138922-01e4-4ecc-934a-06eee6670c8b",
        "deepnote_cell_type": "markdown",
        "id": "QLl5xUOgCnF1"
      },
      "source": [
        "__Activity__: Repeat the same activity but using directly the JSON file"
      ]
    },
    {
      "cell_type": "markdown",
      "metadata": {
        "cell_id": "00194-9f0db7fb-edf7-47dd-a263-376e9628c8bc",
        "deepnote_cell_type": "markdown",
        "id": "O1Iqsj0wCnF2"
      },
      "source": [
        "__NOTE__: The same but with the new API"
      ]
    },
    {
      "cell_type": "code",
      "execution_count": 147,
      "metadata": {
        "cell_id": "00195-da97f864-7b1d-4a98-a6d1-885056868278",
        "deepnote_cell_type": "code",
        "id": "lB5qbwLDCnF3",
        "outputId": "6cc420d7-1935-4f99-a7cc-f78bb5a0c62d",
        "colab": {
          "base_uri": "https://localhost:8080/"
        }
      },
      "outputs": [
        {
          "output_type": "execute_result",
          "data": {
            "text/plain": [
              "['Sirunyan, Albert M',\n",
              " 'Tumasyan, Armen',\n",
              " 'Adam, Wolfgang',\n",
              " 'Ambrogi, Federico',\n",
              " 'Bergauer, Thomas',\n",
              " 'Brandstetter, Johannes',\n",
              " 'Dragicevic, Marko',\n",
              " 'Erö, Janos',\n",
              " 'Escalante Del Valle, Alberto',\n",
              " 'Flechl, Martin',\n",
              " 'Fruehwirth, Rudolf',\n",
              " 'Jeitler, Manfred',\n",
              " 'Krammer, Natascha',\n",
              " 'Krätschmer, Ilse',\n",
              " 'Liko, Dietrich',\n",
              " 'Madlener, Thomas',\n",
              " 'Mikulec, Ivan',\n",
              " 'Rad, Navid',\n",
              " 'Schieck, Jochen',\n",
              " 'Schöfbeck, Robert',\n",
              " 'Spanring, Markus',\n",
              " 'Spitzbart, Daniel',\n",
              " 'Waltenberger, Wolfgang',\n",
              " 'Wittmann, Johannes',\n",
              " 'Wulz, Claudia-Elisabeth',\n",
              " 'Zarucki, Mateusz',\n",
              " 'Drugakov, Vladimir',\n",
              " 'Mossolov, Vladimir',\n",
              " 'Suarez Gonzalez, Juan',\n",
              " 'Darwish, Mohamed Rashad',\n",
              " 'De Wolf, Eddi A',\n",
              " 'Di Croce, Davide',\n",
              " 'Janssen, Xavier',\n",
              " 'Lauwers, Jasper',\n",
              " 'Lelek, Aleksandra',\n",
              " 'Pieters, Maxim',\n",
              " 'Van Haevermaet, Hans',\n",
              " 'Van Mechelen, Pierre',\n",
              " 'Van Remortel, Nick',\n",
              " 'Blekman, Freya',\n",
              " 'Bols, Emil Sørensen',\n",
              " 'Chhibra, Simranjit Singh',\n",
              " \"D'Hondt, Jorgen\",\n",
              " 'De Clercq, Jarne',\n",
              " 'Flouris, Giannis',\n",
              " 'Lontkovskyi, Denys',\n",
              " 'Lowette, Steven',\n",
              " 'Marchesini, Ivan',\n",
              " 'Moortgat, Seth',\n",
              " 'Moreels, Lieselotte',\n",
              " 'Python, Quentin',\n",
              " 'Skovpen, Kirill',\n",
              " 'Tavernier, Stefaan',\n",
              " 'Van Doninck, Walter',\n",
              " 'Van Mulders, Petra',\n",
              " 'Van Parijs, Isis',\n",
              " 'Beghin, Diego',\n",
              " 'Bilin, Bugra',\n",
              " 'Brun, Hugues',\n",
              " 'Clerbaux, Barbara',\n",
              " 'De Lentdecker, Gilles',\n",
              " 'Delannoy, Hugo',\n",
              " 'Dorney, Brian',\n",
              " 'Favart, Laurent',\n",
              " 'Grebenyuk, Anastasia',\n",
              " 'Kalsi, Amandeep Kaur',\n",
              " 'Luetic, Jelena',\n",
              " 'Popov, Andrey',\n",
              " 'Postiau, Nicolas',\n",
              " 'Starling, Elizabeth',\n",
              " 'Thomas, Laurent',\n",
              " 'Vander Velde, Catherine',\n",
              " 'Vanlaer, Pascal',\n",
              " 'Vannerom, David',\n",
              " 'Wang, Qun',\n",
              " 'Cornelis, Tom',\n",
              " 'Dobur, Didar',\n",
              " 'Fagot, Alexis',\n",
              " 'Gul, Muhammad',\n",
              " 'Khvastunov, Illia',\n",
              " 'Roskas, Christos',\n",
              " 'Trocino, Daniele',\n",
              " 'Tytgat, Michael',\n",
              " 'Verbeke, Willem',\n",
              " 'Vermassen, Basile',\n",
              " 'Vit, Martina',\n",
              " 'Zaganidis, Nicolas',\n",
              " 'Bondu, Olivier',\n",
              " 'Bruno, Giacomo',\n",
              " 'Caputo, Claudio',\n",
              " 'David, Pieter',\n",
              " 'Delaere, Christophe',\n",
              " 'Delcourt, Martin',\n",
              " 'Giammanco, Andrea',\n",
              " 'Krintiras, Georgios',\n",
              " 'Lemaitre, Vincent',\n",
              " 'Magitteri, Alessio',\n",
              " 'Piotrzkowski, Krzysztof',\n",
              " 'Prisciandaro, Jessica',\n",
              " 'Saggio, Alessia',\n",
              " 'Vidal Marono, Miguel',\n",
              " 'Vischia, Pietro',\n",
              " 'Zobec, Joze',\n",
              " 'Alves, Fábio Lúcio',\n",
              " 'Alves, Gilvan',\n",
              " 'Correia Silva, Gilson',\n",
              " 'Hensel, Carsten',\n",
              " 'Moraes, Arthur',\n",
              " 'Rebello Teles, Patricia',\n",
              " 'Belchior Batista Das Chagas, Ewerton',\n",
              " 'Carvalho, Wagner',\n",
              " 'Chinellato, Jose',\n",
              " 'Coelho, Eduardo',\n",
              " 'Melo Da Costa, Eliza',\n",
              " 'Da Silveira, Gustavo Gil',\n",
              " 'De Jesus Damiao, Dilson',\n",
              " 'Fonseca De Souza, Sandro',\n",
              " 'Huertas Guativa, Lina Milena',\n",
              " 'Malbouisson, Helena',\n",
              " 'Matos Figueiredo, Diego',\n",
              " 'Medina Jaime, Miguel',\n",
              " 'Melo De Almeida, Miqueias',\n",
              " 'Mora Herrera, Clemencia',\n",
              " 'Mundim, Luiz',\n",
              " 'Nogima, Helio',\n",
              " 'Sanchez Rosas, Luis Junior',\n",
              " 'Santoro, Alberto',\n",
              " 'Sznajder, Andre',\n",
              " 'Thiel, Mauricio',\n",
              " 'Tonelli Manganote, Edmilson José',\n",
              " 'Torres Da Silva De Araujo, Felipe',\n",
              " 'Vilela Pereira, Antonio',\n",
              " 'Ahuja, Sudha',\n",
              " 'Bernardes, Cesar Augusto',\n",
              " 'Calligaris, Luigi',\n",
              " 'De Souza Lemos, Dener',\n",
              " 'Tomei, Thiago',\n",
              " 'De Moraes Gregores, Eduardo',\n",
              " 'Mercadante, Pedro G',\n",
              " 'Novaes, Sergio F',\n",
              " 'Padula, Sandra',\n",
              " 'Aleksandrov, Aleksandar',\n",
              " 'Hadjiiska, Roumyana',\n",
              " 'Iaydjiev, Plamen',\n",
              " 'Marinov, Andrey',\n",
              " 'Misheva, Milena',\n",
              " 'Rodozov, Mircho',\n",
              " 'Shopova, Mariana',\n",
              " 'Sultanov, Georgi',\n",
              " 'Dimitrov, Anton',\n",
              " 'Litov, Leander',\n",
              " 'Pavlov, Borislav',\n",
              " 'Petkov, Peicho',\n",
              " 'Fang, Wenxing',\n",
              " 'Gao, Xuyang',\n",
              " 'Yuan, Li',\n",
              " 'Ahmad, Muhammad, 2',\n",
              " 'Chen, Guo-Ming',\n",
              " 'Chen, He-Sheng',\n",
              " 'Chen, Mingshui',\n",
              " 'Jiang, Chun-Hua',\n",
              " 'Leggat, Duncan',\n",
              " 'Liao, Hongbo',\n",
              " 'Liu, Zhenan',\n",
              " 'Shaheen, Sarmad Masood',\n",
              " 'Spiezia, Aniello',\n",
              " 'Tao, Junquan',\n",
              " 'Yazgan, Efe',\n",
              " 'Zhang, Huaqiao',\n",
              " 'Zhang, Sijing',\n",
              " 'Zhao, Jingzhou',\n",
              " 'Ban, Yong',\n",
              " 'Chen, Geng',\n",
              " 'Li, Jing',\n",
              " 'Li, Linwei',\n",
              " 'Li, Qiang',\n",
              " 'Mao, Yajun',\n",
              " 'Qian, Si-Jin',\n",
              " 'Wang, Dayong',\n",
              " 'Wang, Yi',\n",
              " 'Avila, Carlos',\n",
              " 'Cabrera, Andrés',\n",
              " 'Chaparro Sierra, Luisa Fernanda',\n",
              " 'Florez, Carlos',\n",
              " 'González Hernández, Carlos Felipe',\n",
              " 'Segura Delgado, Manuel Alejandro',\n",
              " 'Mejia Guisao, Jhovanny',\n",
              " 'Ruiz Alvarez, José David',\n",
              " 'Giljanović, Duje',\n",
              " 'Godinovic, Nikola',\n",
              " 'Lelas, Damir',\n",
              " 'Puljak, Ivica',\n",
              " 'Sculac, Toni',\n",
              " 'Antunovic, Zeljko',\n",
              " 'Kovac, Marko',\n",
              " 'Brigljevic, Vuko',\n",
              " 'Ferencek, Dinko',\n",
              " 'Kadija, Kreso',\n",
              " 'Mesic, Benjamin',\n",
              " 'Roguljic, Matej',\n",
              " 'Starodumov, Andrei',\n",
              " 'Susa, Tatjana',\n",
              " 'Ather, Mohsan Waseem',\n",
              " 'Attikis, Alexandros',\n",
              " 'Erodotou, Eleni',\n",
              " 'Ioannou, Aimilios',\n",
              " 'Kolosova, Marina',\n",
              " 'Konstantinou, Sotiroulla',\n",
              " 'Mavromanolakis, Georgios',\n",
              " 'Mousa, Jehad',\n",
              " 'Nicolaou, Charalambos',\n",
              " 'Ptochos, Fotios',\n",
              " 'Razis, Panos A',\n",
              " 'Rykaczewski, Hans',\n",
              " 'Tsiakkouri, Demetra',\n",
              " 'Finger, Miroslav',\n",
              " 'Finger Jr, Michael',\n",
              " 'Ayala, Edy',\n",
              " 'Carrera Jarrin, Edgar',\n",
              " 'Assran, Yasser',\n",
              " 'Elgammal, Sherif',\n",
              " 'Bhowmik, Sandeep',\n",
              " 'Carvalho Antunes De Oliveira, Alexandra',\n",
              " 'Dewanjee, Ram Krishna',\n",
              " 'Ehataht, Karl',\n",
              " 'Kadastik, Mario',\n",
              " 'Raidal, Martti',\n",
              " 'Veelken, Christian',\n",
              " 'Eerola, Paula',\n",
              " 'Kirschenmann, Henning',\n",
              " 'Pekkanen, Juska',\n",
              " 'Voutilainen, Mikko',\n",
              " 'Havukainen, Joona',\n",
              " 'Heikkilä, Jaana Kristiina',\n",
              " 'Jarvinen, Terhi',\n",
              " 'Karimäki, Veikko',\n",
              " 'Kinnunen, Ritva',\n",
              " 'Lampén, Tapio',\n",
              " 'Lassila-Perini, Kati',\n",
              " 'Laurila, Santeri',\n",
              " 'Lehti, Sami',\n",
              " 'Lindén, Tomas',\n",
              " 'Luukka, Panja-Riina',\n",
              " 'Mäenpää, Teppo',\n",
              " 'Siikonen, Hannu',\n",
              " 'Tuominen, Eija',\n",
              " 'Tuominiemi, Jorma',\n",
              " 'Tuuva, Tuure',\n",
              " 'Besancon, Marc',\n",
              " 'Couderc, Fabrice',\n",
              " 'Dejardin, Marc',\n",
              " 'Denegri, Daniel',\n",
              " 'Fabbro, Bernard',\n",
              " 'Faure, Jean-Louis',\n",
              " 'Ferri, Federico',\n",
              " 'Ganjour, Serguei',\n",
              " 'Givernaud, Alain',\n",
              " 'Gras, Philippe',\n",
              " 'Hamel de Monchenault, Gautier',\n",
              " 'Jarry, Patrick',\n",
              " 'Leloup, Clément',\n",
              " 'Locci, Elizabeth',\n",
              " 'Malcles, Julie',\n",
              " 'Rander, John',\n",
              " 'Rosowsky, André',\n",
              " 'Sahin, Mehmet Özgür',\n",
              " 'Savoy-Navarro, Aurore',\n",
              " 'Titov, Maksym',\n",
              " 'Amendola, Chiara',\n",
              " 'Beaudette, Florian',\n",
              " 'Busson, Philippe',\n",
              " 'Charlot, Claude',\n",
              " 'Diab, Batoul',\n",
              " 'Granier de Cassagnac, Raphael',\n",
              " 'Kucher, Inna',\n",
              " 'Lobanov, Artur',\n",
              " 'Martin Perez, Cristina',\n",
              " 'Nguyen, Matthew',\n",
              " 'Ochando, Christophe',\n",
              " 'Paganini, Pascal',\n",
              " 'Rembser, Jonas',\n",
              " 'Salerno, Roberto',\n",
              " 'Sauvan, Jean-Baptiste',\n",
              " 'Sirois, Yves',\n",
              " 'Zabi, Alexandre',\n",
              " 'Zghiche, Amina',\n",
              " 'Agram, Jean-Laurent',\n",
              " 'Andrea, Jeremy',\n",
              " 'Bloch, Daniel',\n",
              " 'Bourgatte, Guillaume',\n",
              " 'Brom, Jean-Marie',\n",
              " 'Chabert, Eric Christian',\n",
              " 'Collard, Caroline',\n",
              " 'Conte, Eric',\n",
              " 'Fontaine, Jean-Charles',\n",
              " 'Gelé, Denis',\n",
              " 'Goerlach, Ulrich',\n",
              " 'Jansová, Markéta',\n",
              " 'Le Bihan, Anne-Catherine',\n",
              " 'Tonon, Nicolas',\n",
              " 'Van Hove, Pierre',\n",
              " 'Gadrat, Sébastien',\n",
              " 'Beauceron, Stephanie',\n",
              " 'Bernet, Colin',\n",
              " 'Boudoul, Gaelle',\n",
              " 'Camen, Camille',\n",
              " 'Chanon, Nicolas',\n",
              " 'Chierici, Roberto',\n",
              " 'Contardo, Didier',\n",
              " 'Depasse, Pierre',\n",
              " 'El Mamouni, Houmani',\n",
              " 'Fay, Jean',\n",
              " 'Gascon, Susan',\n",
              " 'Gouzevitch, Maxime',\n",
              " 'Ille, Bernard',\n",
              " 'Lagarde, Francois',\n",
              " 'Laktineh, Imad Baptiste',\n",
              " 'Lattaud, Hugues',\n",
              " 'Lethuillier, Morgan',\n",
              " 'Mirabito, Laurent',\n",
              " 'Perries, Stephane',\n",
              " 'Sordini, Viola',\n",
              " 'Touquet, Gaël',\n",
              " 'Vander Donckt, Muriel',\n",
              " 'Viret, Sébastien',\n",
              " 'Toriashvili, Tengizi',\n",
              " 'Tsamalaidze, Zviad',\n",
              " 'Autermann, Christian',\n",
              " 'Feld, Lutz',\n",
              " 'Kiesel, Maximilian Knut',\n",
              " 'Klein, Katja',\n",
              " 'Lipinski, Martin',\n",
              " 'Meuser, Danilo',\n",
              " 'Pauls, Alexander',\n",
              " 'Preuten, Marius',\n",
              " 'Rauch, Max Philip',\n",
              " 'Schomakers, Christian',\n",
              " 'Teroerde, Marius',\n",
              " 'Wittmer, Bruno',\n",
              " 'Albert, Andreas',\n",
              " 'Erdmann, Martin',\n",
              " 'Erdweg, Sören',\n",
              " 'Esch, Thomas',\n",
              " 'Fischer, Benjamin',\n",
              " 'Fischer, Robert',\n",
              " 'Ghosh, Saranya',\n",
              " 'Hebbeker, Thomas',\n",
              " 'Hoepfner, Kerstin',\n",
              " 'Keller, Henning',\n",
              " 'Mastrolorenzo, Luca',\n",
              " 'Merschmeyer, Markus',\n",
              " 'Meyer, Arnd',\n",
              " 'Millet, Philipp',\n",
              " 'Mocellin, Giovanni',\n",
              " 'Mondal, Spandan',\n",
              " 'Mukherjee, Swagata',\n",
              " 'Noll, Dennis',\n",
              " 'Novak, Andrzej',\n",
              " 'Pook, Tobias',\n",
              " 'Pozdnyakov, Andrey',\n",
              " 'Quast, Thorben',\n",
              " 'Radziej, Markus',\n",
              " 'Rath, Yannik',\n",
              " 'Reithler, Hans',\n",
              " 'Rieger, Marcel',\n",
              " 'Schmidt, Alexander',\n",
              " 'Schuler, Simon Christoph',\n",
              " 'Sharma, Archana',\n",
              " 'Thüer, Sebastian',\n",
              " 'Wiedenbeck, Sebastian',\n",
              " 'Flügge, Günter',\n",
              " 'Hlushchenko, Olena',\n",
              " 'Kress, Thomas',\n",
              " 'Müller, Thomas',\n",
              " 'Nehrkorn, Alexander',\n",
              " 'Nowack, Andreas',\n",
              " 'Pistone, Claudia',\n",
              " 'Pooth, Oliver',\n",
              " 'Roy, Dennis',\n",
              " 'Sert, Hale',\n",
              " 'Stahl, Achim',\n",
              " 'Aldaya Martin, Maria',\n",
              " 'Asawatangtrakuldee, Chayanit',\n",
              " 'Asmuss, Paul',\n",
              " 'Babounikau, Illia',\n",
              " 'Bakhshiansohi, Hamed',\n",
              " 'Beernaert, Kelly',\n",
              " 'Behnke, Olaf',\n",
              " 'Behrens, Ulf',\n",
              " 'Bermúdez Martínez, Armando',\n",
              " 'Bertsche, David',\n",
              " 'Bin Anuar, Afiq Aizuddin',\n",
              " 'Borras, Kerstin',\n",
              " 'Botta, Valeria',\n",
              " 'Campbell, Alan',\n",
              " 'Cardini, Andrea',\n",
              " 'Connor, Patrick',\n",
              " 'Consuegra Rodríguez, Sandra',\n",
              " 'Contreras-Campana, Christian',\n",
              " 'Danilov, Vladyslav',\n",
              " 'De Wit, Adinda',\n",
              " 'Defranchis, Matteo Maria',\n",
              " 'Diez Pardos, Carmen',\n",
              " 'Domínguez Damiani, Daniela',\n",
              " 'Eckerlin, Guenter',\n",
              " 'Eckstein, Doris',\n",
              " 'Eichhorn, Thomas',\n",
              " 'Elwood, Adam',\n",
              " 'Eren, Engin',\n",
              " 'Gallo, Elisabetta',\n",
              " 'Geiser, Achim',\n",
              " 'Grados Luyando, Juan Manuel',\n",
              " 'Grohsjean, Alexander',\n",
              " 'Guthoff, Moritz',\n",
              " 'Haranko, Mykyta',\n",
              " 'Harb, Ali',\n",
              " 'Jomhari, Nur Zulaiha',\n",
              " 'Jung, Hannes',\n",
              " 'Mohamed, Ashraf',\n",
              " 'Kasemann, Matthias',\n",
              " 'Keaveney, James',\n",
              " 'Kleinwort, Claus',\n",
              " 'Knolle, Joscha',\n",
              " 'Krücker, Dirk',\n",
              " 'Lenz, Teresa',\n",
              " 'Leonard, Jessica',\n",
              " 'Lidrych, Jindrich',\n",
              " 'Lipka, Katerina',\n",
              " 'Lohmann, Wolfgang',\n",
              " 'Mankel, Rainer',\n",
              " 'Melzer-Pellmann, Isabell-Alissandra',\n",
              " 'Meyer, Andreas Bernhard',\n",
              " 'Meyer, Mareike',\n",
              " 'Missiroli, Marino',\n",
              " 'Mittag, Gregor',\n",
              " 'Mnich, Joachim',\n",
              " 'Mussgiller, Andreas',\n",
              " 'Myronenko, Volodymyr',\n",
              " 'Pérez Adán, Danyer',\n",
              " 'Pflitsch, Svenja Karen',\n",
              " 'Pitzl, Daniel',\n",
              " 'Raspereza, Alexei',\n",
              " 'Saibel, Andrej',\n",
              " 'Savitskyi, Mykola',\n",
              " 'Scheurer, Valerie',\n",
              " 'Schütze, Paul',\n",
              " 'Schwanenberger, Christian',\n",
              " 'Shevchenko, Rostyslav',\n",
              " 'Singh, Akshansh',\n",
              " 'Tholen, Heiner',\n",
              " 'Turkot, Oleksii',\n",
              " 'Vagnerini, Antonio',\n",
              " 'Van De Klundert, Merijn',\n",
              " 'Van Onsem, Gerrit Patrick',\n",
              " 'Walsh, Roberval',\n",
              " 'Wen, Yiwen',\n",
              " 'Wichmann, Katarzyna',\n",
              " 'Wissing, Christoph',\n",
              " 'Zenaiev, Oleksandr',\n",
              " 'Zlebcik, Radek',\n",
              " 'Aggleton, Robin',\n",
              " 'Bein, Samuel',\n",
              " 'Benato, Lisa',\n",
              " 'Benecke, Anna',\n",
              " 'Blobel, Volker',\n",
              " 'Dreyer, Torben',\n",
              " 'Ebrahimi, Aliakbar',\n",
              " 'Fröhlich, Alexander',\n",
              " 'Garbers, Christoph',\n",
              " 'Garutti, Erika',\n",
              " 'Gonzalez, Daniel',\n",
              " 'Gunnellini, Paolo',\n",
              " 'Haller, Johannes',\n",
              " 'Hinzmann, Andreas',\n",
              " 'Karavdina, Anastasia',\n",
              " 'Kasieczka, Gregor',\n",
              " 'Klanner, Robert',\n",
              " 'Kogler, Roman',\n",
              " 'Kovalchuk, Nataliia',\n",
              " 'Kurz, Simon',\n",
              " 'Kutzner, Viktor',\n",
              " 'Lange, Johannes',\n",
              " 'Lange, Torben',\n",
              " 'Malara, Andrea',\n",
              " 'Marconi, Daniele',\n",
              " 'Multhaup, Jens',\n",
              " 'Niedziela, Marek',\n",
              " 'Niemeyer, Caroline Elisabeth Niniane',\n",
              " 'Nowatschin, Dominik',\n",
              " 'Perieanu, Adrian',\n",
              " 'Reimers, Arne',\n",
              " 'Rieger, Oliver',\n",
              " 'Scharf, Christian',\n",
              " 'Schleper, Peter',\n",
              " 'Schumann, Svenja',\n",
              " 'Schwandt, Joern',\n",
              " 'Sonneveld, Jory',\n",
              " 'Stadie, Hartmut',\n",
              " 'Steinbrück, Georg',\n",
              " 'Stober, Fred-Markus Helmut',\n",
              " 'Stöver, Marc',\n",
              " 'Vormwald, Benedikt',\n",
              " 'Zoi, Irene',\n",
              " 'Akbiyik, Melike',\n",
              " 'Barth, Christian',\n",
              " 'Baselga, Marta',\n",
              " 'Baur, Sebastian',\n",
              " 'Berger, Thomas',\n",
              " 'Butz, Erik',\n",
              " 'Chwalek, Thorsten',\n",
              " 'De Boer, Wim',\n",
              " 'Dierlamm, Alexander',\n",
              " 'El Morabit, Karim',\n",
              " 'Giffels, Manuel',\n",
              " 'Goldenzweig, Pablo',\n",
              " 'Harrendorf, Marco Alexander',\n",
              " 'Hartmann, Frank',\n",
              " 'Husemann, Ulrich',\n",
              " 'Kudella, Simon',\n",
              " 'Mitra, Soureek',\n",
              " 'Mozer, Matthias Ulrich',\n",
              " 'Müller, Thomas',\n",
              " 'Musich, Marco',\n",
              " 'Nürnberg, Andreas',\n",
              " 'Quast, Gunter',\n",
              " 'Rabbertz, Klaus',\n",
              " 'Schröder, Matthias',\n",
              " 'Shvetsov, Ivan',\n",
              " 'Simonis, Hans-Jürgen',\n",
              " 'Ulrich, Ralf',\n",
              " 'Weber, Marc',\n",
              " 'Wöhrmann, Clemens',\n",
              " 'Wolf, Roger',\n",
              " 'Anagnostou, Georgios',\n",
              " 'Asenov, Patrick',\n",
              " 'Daskalakis, Georgios',\n",
              " 'Geralis, Theodoros',\n",
              " 'Kyriakis, Aristotelis',\n",
              " 'Loukas, Demetrios',\n",
              " 'Paspalaki, Garyfallia',\n",
              " 'Diamantopoulou, Magda',\n",
              " 'Karathanasis, George',\n",
              " 'Kontaxakis, Pantelis',\n",
              " 'Panagiotou, Apostolos',\n",
              " 'Papavergou, Ioanna',\n",
              " 'Saoulidou, Niki',\n",
              " 'Theofilatos, Konstantinos',\n",
              " 'Vellidis, Konstantinos',\n",
              " 'Bakas, Georgios',\n",
              " 'Kousouris, Konstantinos',\n",
              " 'Papakrivopoulos, Ioannis',\n",
              " 'Tsipolitis, Georgios',\n",
              " 'Evangelou, Ioannis',\n",
              " 'Foudas, Costas',\n",
              " 'Gianneios, Paraskevas',\n",
              " 'Katsoulis, Panagiotis',\n",
              " 'Kokkas, Panagiotis',\n",
              " 'Mallios, Stavros',\n",
              " 'Manitara, Kalliopi',\n",
              " 'Manthos, Nikolaos',\n",
              " 'Papadopoulos, Ioannis',\n",
              " 'Paradas, Evangelos',\n",
              " 'Strologas, John',\n",
              " 'Triantis, Frixos A',\n",
              " 'Tsitsonis, Dimitrios',\n",
              " 'Bartók, Márton',\n",
              " 'Csanad, Mate',\n",
              " 'Major, Péter',\n",
              " 'Mandal, Koushik',\n",
              " 'Mehta, Ankita',\n",
              " 'Nagy, Marton Imre',\n",
              " 'Pasztor, Gabriella',\n",
              " 'Surányi, Olivér',\n",
              " 'Veres, Gabor Istvan',\n",
              " 'Bencze, Gyorgy',\n",
              " 'Hajdu, Csaba',\n",
              " 'Horvath, Dezso',\n",
              " 'Hunyadi, Ádám',\n",
              " 'Sikler, Ferenc',\n",
              " 'Vámi, Tamás Álmos',\n",
              " 'Veszpremi, Viktor',\n",
              " 'Vesztergombi, Gyorgy',\n",
              " 'Beni, Noemi',\n",
              " 'Czellar, Sandor',\n",
              " 'Karancsi, János',\n",
              " 'Makovec, Alajos',\n",
              " 'Molnar, Jozsef',\n",
              " 'Szillasi, Zoltan',\n",
              " 'Raics, Peter',\n",
              " 'Teyssier, Daniel',\n",
              " 'Trocsanyi, Zoltan Laszlo',\n",
              " 'Ujvari, Balazs',\n",
              " 'Choudhury, Somnath',\n",
              " 'Komaragiri, Jyothsna Rani',\n",
              " 'Tiwari, Praveen Chandra',\n",
              " 'Bahinipati, Seema',\n",
              " 'Kar, Chandiprasad',\n",
              " 'Mal, Prolay',\n",
              " 'Muraleedharan Nair Bindhu, Vinaya Krishnan',\n",
              " 'Nayak, Aruna',\n",
              " 'Roy Chowdhury, Suvankar',\n",
              " 'Sahoo, Deepak Kumar',\n",
              " 'Swain, Sanjay Kumar',\n",
              " 'Bansal, Sunil',\n",
              " 'Bhatnagar, Vipin',\n",
              " 'Chauhan, Sushil',\n",
              " 'Chawla, Ridhi',\n",
              " 'Dhingra, Nitish',\n",
              " 'Gupta, Rajat',\n",
              " 'Kaur, Anterpreet',\n",
              " 'Kaur, Manjit',\n",
              " 'Kaur, Sandeep',\n",
              " 'Kumari, Priyanka',\n",
              " 'Lohan, Manisha',\n",
              " 'Meena, Meena',\n",
              " 'Sandeep, Kaur',\n",
              " 'Sharma, Sandeep',\n",
              " 'Singh, Jasbir',\n",
              " 'Kaur, Amandeep',\n",
              " 'Walia, Genius',\n",
              " 'Bhardwaj, Ashutosh',\n",
              " 'Choudhary, Brajesh C',\n",
              " 'Garg, Rocky Bala',\n",
              " 'Gola, Mohit',\n",
              " 'Keshri, Sumit',\n",
              " 'Kumar, Ashok',\n",
              " 'Malhotra, Shivali',\n",
              " 'Naimuddin, Md',\n",
              " 'Priyanka, Priyanka',\n",
              " 'Ranjan, Kirti',\n",
              " 'Shah, Aashaq',\n",
              " 'Sharma, Ramkrishna',\n",
              " 'Bhardwaj, Rishika',\n",
              " 'Bharti, Monika',\n",
              " 'Bhattacharya, Rajarshi',\n",
              " 'Bhattacharya, Satyaki',\n",
              " 'Bhawandeep, Bhawandeep',\n",
              " 'Bhowmik, Debabrata',\n",
              " 'Dey, Sourav',\n",
              " 'Dutta, Suchandra',\n",
              " 'Ghosh, Shamik',\n",
              " 'Maity, Manas',\n",
              " 'Mondal, Kuntal',\n",
              " 'Nandan, Saswati',\n",
              " 'Purohit, Arnab',\n",
              " 'Rout, Prasant Kumar',\n",
              " 'Roy, Ashim',\n",
              " 'Saha, Gourab',\n",
              " 'Sarkar, Subir',\n",
              " 'Sarkar, Tanmay',\n",
              " 'Sharan, Manoj',\n",
              " 'Singh, Bipen',\n",
              " 'Thakur, Shalini',\n",
              " 'Behera, Prafulla Kumar',\n",
              " 'Muhammad, Alibordi',\n",
              " 'Chudasama, Ruchi',\n",
              " 'Dutta, Dipanwita',\n",
              " 'Jha, Vishwajeet',\n",
              " 'Kumar, Vineet',\n",
              " 'Mishra, Dipak Kumar',\n",
              " 'Netrakanti, Pawan Kumar',\n",
              " 'Pant, Lalit Mohan',\n",
              " 'Shukla, Prashant',\n",
              " 'Aziz, Tariq',\n",
              " 'Bhat, Muzamil Ahmad',\n",
              " 'Dugad, Shashikant',\n",
              " 'Mohanty, Gagan Bihari',\n",
              " 'Sur, Nairit',\n",
              " 'Ravindra Kumar Verma, Ravindra',\n",
              " 'Banerjee, Sudeshna',\n",
              " 'Bhattacharya, Soham',\n",
              " 'Chatterjee, Suman',\n",
              " 'Das, Pallabi',\n",
              " 'Guchait, Monoranjan',\n",
              " 'Karmakar, Saikat',\n",
              " 'Kumar, Sanjeev',\n",
              " 'Majumder, Gobinda',\n",
              " 'Mazumdar, Kajari',\n",
              " 'Sawant, Siddhesh',\n",
              " 'Chauhan, Shubhanshu',\n",
              " 'Dube, Sourabh',\n",
              " 'Hegde, Vinay',\n",
              " 'Kapoor, Anshul',\n",
              " 'Kothekar, Kunal',\n",
              " 'Pandey, Shubham',\n",
              " 'Rane, Aditee',\n",
              " 'Rastogi, Angira',\n",
              " 'Sharma, Seema',\n",
              " 'Chenarani, Shirin',\n",
              " 'Eskandari Tadavani, Esmaeel',\n",
              " 'Etesami, Seyed Mohsen',\n",
              " 'Khakzad, Mohsen',\n",
              " 'Mohammadi Najafabadi, Mojtaba',\n",
              " 'Naseri, Mohsen',\n",
              " 'Rezaei Hosseinabadi, Ferdos',\n",
              " 'Safarzadeh, Batool',\n",
              " 'Felcini, Marta',\n",
              " 'Grunewald, Martin',\n",
              " 'Abbrescia, Marcello',\n",
              " 'Calabria, Cesare',\n",
              " 'Colaleo, Anna',\n",
              " 'Creanza, Donato',\n",
              " 'Cristella, Leonardo',\n",
              " 'De Filippis, Nicola',\n",
              " 'De Palma, Mauro',\n",
              " 'Di Florio, Adriano',\n",
              " 'Fiore, Luigi',\n",
              " 'Gelmi, Andrea',\n",
              " 'Iaselli, Giuseppe',\n",
              " 'Ince, Merve',\n",
              " 'Lezki, Samet',\n",
              " 'Maggi, Giorgio',\n",
              " 'Maggi, Marcello',\n",
              " 'Miniello, Giorgia',\n",
              " 'My, Salvatore',\n",
              " 'Nuzzo, Salvatore',\n",
              " 'Pompili, Alexis',\n",
              " 'Pugliese, Gabriella',\n",
              " 'Ranieri, Antonio',\n",
              " 'Selvaggi, Giovanna',\n",
              " 'Silvestris, Lucia',\n",
              " 'Venditti, Rosamaria',\n",
              " 'Verwilligen, Piet',\n",
              " 'Abbiendi, Giovanni',\n",
              " 'Battilana, Carlo',\n",
              " 'Bonacorsi, Daniele',\n",
              " 'Borgonovi, Lisa',\n",
              " 'Braibant-Giacomelli, Sylvie',\n",
              " 'Campanini, Renato',\n",
              " 'Capiluppi, Paolo',\n",
              " 'Castro, Andrea',\n",
              " 'Cavallo, Francesca Romana',\n",
              " 'Ciocca, Claudia',\n",
              " 'Cuffiani, Marco',\n",
              " 'Dallavalle, Gaetano-Marco',\n",
              " 'Fabbri, Fabrizio',\n",
              " 'Fanfani, Alessandra',\n",
              " 'Fontanesi, Elisa',\n",
              " 'Giacomelli, Paolo',\n",
              " 'Grandi, Claudio',\n",
              " 'Guiducci, Luigi',\n",
              " 'Iemmi, Fabio',\n",
              " 'Lo Meo, Sergio',\n",
              " 'Marcellini, Stefano',\n",
              " 'Masetti, Gianni',\n",
              " 'Navarria, Francesco',\n",
              " 'Perrotta, Andrea',\n",
              " 'Primavera, Federica',\n",
              " 'Rossi, Antonio',\n",
              " 'Rovelli, Tiziano',\n",
              " 'Siroli, Gian Piero',\n",
              " 'Tosi, Nicolò',\n",
              " 'Albergo, Sebastiano',\n",
              " 'Costa, Salvatore',\n",
              " 'Di Mattia, Alessandro',\n",
              " 'Potenza, Renato',\n",
              " 'Tricomi, Alessia',\n",
              " 'Tuve, Cristina',\n",
              " 'Barbagli, Giuseppe',\n",
              " 'Ceccarelli, Rudy',\n",
              " 'Chatterjee, Kalyanmoy',\n",
              " 'Ciulli, Vitaliano',\n",
              " 'Civinini, Carlo',\n",
              " \"D'Alessandro, Raffaello\",\n",
              " 'Focardi, Ettore',\n",
              " 'Latino, Giuseppe',\n",
              " 'Lenzi, Piergiulio',\n",
              " 'Meschini, Marco',\n",
              " 'Paoletti, Simone',\n",
              " 'Russo, Lorenzo',\n",
              " 'Sguazzoni, Giacomo',\n",
              " 'Strom, Derek',\n",
              " 'Viliani, Lorenzo',\n",
              " 'Benussi, Luigi',\n",
              " 'Bianco, Stefano',\n",
              " 'Fabbri, Franco',\n",
              " 'Piccolo, Davide',\n",
              " 'Ferro, Fabrizio',\n",
              " 'Mulargia, Roberto',\n",
              " 'Robutti, Enrico',\n",
              " 'Tosi, Silvano',\n",
              " 'Benaglia, Andrea',\n",
              " 'Beschi, Andrea',\n",
              " 'Brivio, Francesco',\n",
              " 'Ciriolo, Vincenzo',\n",
              " 'Di Guida, Salvatore',\n",
              " 'Dinardo, Mauro Emanuele',\n",
              " 'Dini, Paolo',\n",
              " 'Fiorendi, Sara',\n",
              " 'Gennai, Simone',\n",
              " 'Ghezzi, Alessio',\n",
              " 'Govoni, Pietro',\n",
              " 'Malberti, Martina',\n",
              " 'Malvezzi, Sandra',\n",
              " 'Menasce, Dario',\n",
              " 'Monti, Fabio',\n",
              " 'Moroni, Luigi',\n",
              " 'Ortona, Giacomo',\n",
              " 'Paganoni, Marco',\n",
              " 'Pedrini, Daniele',\n",
              " 'Ragazzi, Stefano',\n",
              " 'Tabarelli de Fatis, Tommaso',\n",
              " 'Zuolo, Davide',\n",
              " 'Buontempo, Salvatore',\n",
              " 'Cavallo, Nicola',\n",
              " 'De Iorio, Agostino',\n",
              " 'Di Crescenzo, Antonia',\n",
              " 'Fabozzi, Francesco',\n",
              " 'Fienga, Francesco',\n",
              " 'Iorio, Alberto Orso Maria',\n",
              " 'Lista, Luca',\n",
              " 'Meola, Sabino',\n",
              " 'Paolucci, Pierluigi',\n",
              " 'Rossi, Biagio',\n",
              " 'Sciacca, Crisostomo',\n",
              " 'Voevodina, Elena',\n",
              " 'Azzi, Patrizia',\n",
              " 'Bacchetta, Nicola',\n",
              " 'Bisello, Dario',\n",
              " 'Boletti, Alessio',\n",
              " 'Bragagnolo, Alberto',\n",
              " 'Carlin, Roberto',\n",
              " 'Checchia, Paolo',\n",
              " \"Dall'Osso, Martino\",\n",
              " 'De Castro Manzano, Pablo',\n",
              " 'Dorigo, Tommaso',\n",
              " 'Dosselli, Umberto',\n",
              " 'Gasparini, Fabrizio',\n",
              " 'Gasparini, Ugo',\n",
              " 'Gozzelino, Andrea',\n",
              " 'Hoh, Siew Yan',\n",
              " 'Lujan, Paul',\n",
              " 'Margoni, Martino',\n",
              " 'Meneguzzo, Anna Teresa',\n",
              " 'Pazzini, Jacopo',\n",
              " 'Presilla, Matteo',\n",
              " 'Ronchese, Paolo',\n",
              " 'Rossin, Roberto',\n",
              " 'Simonetto, Franco',\n",
              " 'Tiko, Andres',\n",
              " 'Tosi, Mia',\n",
              " 'Zanetti, Marco',\n",
              " 'Zotto, Pierluigi',\n",
              " 'Zumerle, Gianni',\n",
              " 'Braghieri, Alessandro',\n",
              " 'Montagna, Paolo',\n",
              " 'Ratti, Sergio P',\n",
              " 'Re, Valerio',\n",
              " 'Ressegotti, Martina',\n",
              " 'Riccardi, Cristina',\n",
              " 'Salvini, Paola',\n",
              " 'Vitulo, Paolo',\n",
              " 'Biasini, Maurizio',\n",
              " 'Bilei, Gian Mario',\n",
              " 'Cecchi, Claudia',\n",
              " 'Ciangottini, Diego',\n",
              " 'Fanò, Livio',\n",
              " 'Lariccia, Paolo',\n",
              " 'Leonardi, Roberto',\n",
              " 'Manoni, Elisa',\n",
              " 'Mantovani, Giancarlo',\n",
              " 'Mariani, Valentina',\n",
              " 'Menichelli, Mauro',\n",
              " 'Rossi, Alessandro',\n",
              " 'Santocchia, Attilio',\n",
              " 'Spiga, Daniele',\n",
              " 'Androsov, Konstantin',\n",
              " 'Azzurri, Paolo',\n",
              " 'Bagliesi, Giuseppe',\n",
              " 'Bertacchi, Valerio',\n",
              " 'Bianchini, Lorenzo',\n",
              " 'Boccali, Tommaso',\n",
              " 'Castaldi, Rino',\n",
              " 'Ciocci, Maria Agnese',\n",
              " \"Dell'Orso, Roberto\",\n",
              " 'Fedi, Giacomo',\n",
              " 'Fiori, Francesco',\n",
              " 'Giannini, Leonardo',\n",
              " 'Giassi, Alessandro',\n",
              " 'Grippo, Maria Teresa',\n",
              " 'Ligabue, Franco',\n",
              " 'Manca, Elisabetta',\n",
              " 'Mandorli, Giulio',\n",
              " 'Messineo, Alberto',\n",
              " 'Palla, Fabrizio',\n",
              " 'Rizzi, Andrea',\n",
              " 'Rolandi, Gigi',\n",
              " 'Scribano, A',\n",
              " 'Spagnolo, Paolo',\n",
              " 'Tenchini, Roberto',\n",
              " 'Tonelli, Guido',\n",
              " 'Venturi, Andrea',\n",
              " 'Verdini, Piero Giorgio',\n",
              " 'Cavallari, Francesca',\n",
              " 'Cipriani, Marco',\n",
              " 'Del Re, Daniele',\n",
              " 'Di Marco, Emanuele',\n",
              " 'Diemoz, Marcella',\n",
              " 'Gelli, Simone',\n",
              " 'Longo, Egidio',\n",
              " 'Marzocchi, Badder',\n",
              " 'Meridiani, Paolo',\n",
              " 'Organtini, Giovanni',\n",
              " 'Pandolfi, Francesco',\n",
              " 'Paramatti, Riccardo',\n",
              " 'Preiato, Federico',\n",
              " 'Quaranta, Claudio',\n",
              " 'Rahatlou, Shahram',\n",
              " 'Rovelli, Chiara',\n",
              " 'Santanastasio, Francesco',\n",
              " 'Amapane, Nicola',\n",
              " 'Arcidiacono, Roberta',\n",
              " 'Argiro, Stefano',\n",
              " 'Arneodo, Michele',\n",
              " 'Bartosik, Nazar',\n",
              " 'Bellan, Riccardo',\n",
              " 'Biino, Cristina',\n",
              " 'Cappati, Alessandra',\n",
              " 'Cartiglia, Nicolo',\n",
              " 'Cenna, Francesca',\n",
              " 'Cometti, Simona',\n",
              " 'Costa, Marco',\n",
              " 'Covarelli, Roberto',\n",
              " 'Demaria, Natale',\n",
              " 'Kiani, Bilal',\n",
              " 'Mariotti, Chiara',\n",
              " 'Maselli, Silvia',\n",
              " 'Migliore, Ernesto',\n",
              " 'Monaco, Vincenzo',\n",
              " 'Monteil, Ennio',\n",
              " 'Monteno, Marco',\n",
              " 'Obertino, Maria Margherita',\n",
              " 'Pacher, Luca',\n",
              " 'Pastrone, Nadia',\n",
              " 'Pelliccioni, Mario',\n",
              " 'Pinna Angioni, Gian Luca',\n",
              " 'Romero, Alessandra',\n",
              " 'Ruspa, Marta',\n",
              " 'Sacchi, Roberto',\n",
              " 'Salvatico, Riccardo',\n",
              " 'Shchelina, Ksenia',\n",
              " 'Sola, Valentina',\n",
              " 'Solano, Ada',\n",
              " 'Soldi, Dario',\n",
              " 'Staiano, Amedeo',\n",
              " 'Belforte, Stefano',\n",
              " 'Candelise, Vieri',\n",
              " 'Casarsa, Massimo',\n",
              " 'Cossutti, Fabio',\n",
              " 'Da Rold, Alessandro',\n",
              " 'Della Ricca, Giuseppe',\n",
              " 'Vazzoler, Federico',\n",
              " 'Kim, Bobae',\n",
              " 'Kim, Dong Hee',\n",
              " 'Kim, Gui Nyun',\n",
              " 'Kim, Min Suk',\n",
              " 'Lee, Jeongeun',\n",
              " 'Lee, Seh Wook',\n",
              " 'Moon, Chang-Seong',\n",
              " 'Oh, Young Do',\n",
              " 'Pak, Sang Il',\n",
              " 'Sekmen, Sezen',\n",
              " 'Son, Dong-Chul',\n",
              " 'Yang, Yu Chul',\n",
              " 'Kim, Hyunchul',\n",
              " 'Moon, Dong Ho',\n",
              " 'Oh, Geonhee',\n",
              " 'Francois, Brieuc',\n",
              " 'Kim, Tae Jeong',\n",
              " 'Park, Jiwon',\n",
              " 'Cho, Sungwoong',\n",
              " 'Choi, Suyong',\n",
              " 'Go, Yeonju',\n",
              " 'Gyun, Dooyeon',\n",
              " 'Ha, Seungkyu',\n",
              " 'Hong, Byung-Sik',\n",
              " 'Jo, Youngkwon',\n",
              " 'Lee, Kisoo',\n",
              " 'Lee, Kyong Sei',\n",
              " 'Lee, Songkyo',\n",
              " 'Lim, Jaehoon',\n",
              " 'Park, Jaebeom',\n",
              " 'Park, Sung Keun',\n",
              " 'Roh, Youn',\n",
              " 'Goh, Junghwan',\n",
              " 'Kim, Hyunsoo',\n",
              " 'Almond, John',\n",
              " 'Bhyun, Ji Hwan',\n",
              " 'Choi, Junho',\n",
              " 'Jeon, Sihyun',\n",
              " 'Kim, Junho',\n",
              " 'Kim, Jae Sung',\n",
              " 'Lee, Haneol',\n",
              " 'Lee, Kyeongpil',\n",
              " 'Lee, Sangeun',\n",
              " 'Nam, Kyungwook',\n",
              " 'Oh, Sung Bin',\n",
              " 'Radburn-Smith, Benjamin Charles',\n",
              " 'Seo, Seon-hee',\n",
              " 'Yang, Unki',\n",
              " ...]"
            ]
          },
          "metadata": {},
          "execution_count": 147
        }
      ],
      "source": [
        "#See: https://github.com/inspirehep/rest-api-doc/issues/4#issuecomment-645218074\n",
        "import requests                                                                                                                                                      \n",
        "response = requests.get('https://inspirehep.net/api/doi/10.1103/PhysRevLett.122.132001')                                                                              \n",
        "authors = response.json()['metadata']['authors']                                                                                                                     \n",
        "names = [author.get('full_name')\n",
        "              for author in authors \n",
        "               if any(aff.get('value') == 'Antioquia U.' for aff in author.get('affiliations'))]\n",
        "names"
      ]
    },
    {
      "cell_type": "markdown",
      "metadata": {
        "cell_id": "00196-e12c3e66-259a-44d2-988d-55ad5e2c68de",
        "deepnote_cell_type": "markdown",
        "id": "D7SNm2ABxE22"
      },
      "source": [
        "##  ACTIVITIES\n",
        "See:\n",
        "* https://github.com/ajcr/100-pandas-puzzles\n",
        "* https://github.com/guipsamora/pandas_exercises"
      ]
    },
    {
      "cell_type": "markdown",
      "metadata": {
        "cell_id": "00197-d4ddb4b1-754e-48ea-8b71-75d4272f816c",
        "deepnote_cell_type": "markdown",
        "id": "fWjYdB7LxE23"
      },
      "source": [
        "## Final remarks\n",
        "With basic scripting and Pandas we already have a solid environment to analyse data. We introduce the other libraries motivated with the extending the capabilities of Pandas"
      ]
    },
    {
      "cell_type": "code",
      "execution_count": null,
      "metadata": {
        "cell_id": "00198-34e40bd9-4143-4ae7-aac7-7ff4a1d98cdf",
        "deepnote_cell_type": "code",
        "id": "erRi7J01xE24"
      },
      "outputs": [],
      "source": [
        ""
      ]
    },
    {
      "cell_type": "markdown",
      "metadata": {
        "created_in_deepnote_cell": true,
        "deepnote_cell_type": "markdown",
        "tags": [],
        "id": "KcSgR14yCnF4"
      },
      "source": [
        "<a style='text-decoration:none;line-height:16px;display:flex;color:#5B5B62;padding:10px;justify-content:end;' href='https://deepnote.com?utm_source=created-in-deepnote-cell&projectId=f91b818d-f536-4b8f-81de-61752e0979b7' target=\"_blank\">\n",
        "<img alt='Created in deepnote.com' style='display:inline;max-height:16px;margin:0px;margin-right:7.5px;' src='data:image/svg+xml;base64,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' > </img>\n",
        "Created in <span style='font-weight:600;margin-left:4px;'>Deepnote</span></a>"
      ]
    }
  ],
  "metadata": {
    "colab": {
      "name": "Pandas.ipynb",
      "provenance": []
    },
    "deepnote": {},
    "deepnote_execution_queue": [],
    "deepnote_notebook_id": "0a9be7a0-3db5-477d-bb7c-1755e22290d0",
    "kernelspec": {
      "display_name": "Python 3 (ipykernel)",
      "language": "python",
      "name": "python3"
    },
    "language_info": {
      "codemirror_mode": {
        "name": "ipython",
        "version": 3
      },
      "file_extension": ".py",
      "mimetype": "text/x-python",
      "name": "python",
      "nbconvert_exporter": "python",
      "pygments_lexer": "ipython3",
      "version": "3.7.3"
    },
    "toc": {
      "colors": {
        "hover_highlight": "#DAA520",
        "running_highlight": "#FF0000",
        "selected_highlight": "#FFD700"
      },
      "moveMenuLeft": true,
      "nav_menu": {},
      "navigate_menu": true,
      "number_sections": true,
      "sideBar": true,
      "threshold": 4,
      "toc_cell": false,
      "toc_section_display": "block",
      "toc_window_display": false
    }
  },
  "nbformat": 4,
  "nbformat_minor": 0
}