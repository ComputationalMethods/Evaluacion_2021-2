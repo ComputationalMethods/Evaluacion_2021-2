{
 "cells": [
  {
   "cell_type": "markdown",
   "id": "b2cbeb81",
   "metadata": {},
   "source": [
    "Punto 1:"
   ]
  },
  {
   "cell_type": "markdown",
   "id": "2f7718c6",
   "metadata": {},
   "source": [
    "Para definir nuestra función y luego buscar su derivada y su integral, debemos importar las librerías adecuadas, en este caso, numpy y scipy son imprescindibles"
   ]
  },
  {
   "cell_type": "code",
   "execution_count": 8,
   "id": "8e1a84f4",
   "metadata": {},
   "outputs": [],
   "source": [
    "import numpy as np\n",
    "import scipy as sp\n",
    "import pylab as plt\n",
    "from scipy import integrate"
   ]
  },
  {
   "cell_type": "markdown",
   "id": "509a9831",
   "metadata": {},
   "source": [
    "Definimos la función:"
   ]
  },
  {
   "cell_type": "code",
   "execution_count": 14,
   "id": "6b4824f4",
   "metadata": {},
   "outputs": [],
   "source": [
    "f=lambda λ: sp.integrate.quad(lambda x: np.sin(λ*x)/np.exp(x),0,np.inf,limit=100)[0]"
   ]
  },
  {
   "cell_type": "code",
   "execution_count": 15,
   "id": "9518d0e8",
   "metadata": {},
   "outputs": [
    {
     "name": "stderr",
     "output_type": "stream",
     "text": [
      "C:\\Users\\Arturo\\AppData\\Local\\Temp/ipykernel_13180/1958542971.py:1: RuntimeWarning: overflow encountered in exp\n",
      "  f=lambda λ: sp.integrate.quad(lambda x: np.sin(λ*x)/np.exp(x),0,np.inf,limit=100)[0]\n",
      "C:\\Users\\Arturo\\AppData\\Local\\Temp/ipykernel_13180/1958542971.py:1: IntegrationWarning: The maximum number of subdivisions (100) has been achieved.\n",
      "  If increasing the limit yields no improvement it is advised to analyze \n",
      "  the integrand in order to determine the difficulties.  If the position of a \n",
      "  local difficulty can be determined (singularity, discontinuity) one will \n",
      "  probably gain from splitting up the interval and calling the integrator \n",
      "  on the subranges.  Perhaps a special-purpose integrator should be used.\n",
      "  f=lambda λ: sp.integrate.quad(lambda x: np.sin(λ*x)/np.exp(x),0,np.inf,limit=100)[0]\n"
     ]
    },
    {
     "data": {
      "text/plain": [
       "[<matplotlib.lines.Line2D at 0x1bfb5f329a0>]"
      ]
     },
     "execution_count": 15,
     "metadata": {},
     "output_type": "execute_result"
    },
    {
     "data": {
      "image/png": "[encoded data removed]",
      "text/plain": [
       "<Figure size 432x288 with 1 Axes>"
      ]
     },
     "metadata": {
      "needs_background": "light"
     },
     "output_type": "display_data"
    }
   ],
   "source": [
    "x=np.arange(0,100,0.01)\n",
    "y=np.zeros(len(x))\n",
    "for i in range(len(x)):\n",
    "    y[i]=f(x[i])\n",
    "plt.plot(x,y)"
   ]
  },
  {
   "cell_type": "markdown",
   "id": "dc15436c",
   "metadata": {},
   "source": [
    "ahora, podemos usar la el método de diferencias centrales con scipy para hallar la derivada de esta función numéricamente:"
   ]
  },
  {
   "cell_type": "code",
   "execution_count": 16,
   "id": "c34c22b7",
   "metadata": {},
   "outputs": [
    {
     "name": "stderr",
     "output_type": "stream",
     "text": [
      "C:\\Users\\Arturo\\AppData\\Local\\Temp/ipykernel_13180/1958542971.py:1: RuntimeWarning: overflow encountered in exp\n",
      "  f=lambda λ: sp.integrate.quad(lambda x: np.sin(λ*x)/np.exp(x),0,np.inf,limit=100)[0]\n",
      "C:\\Users\\Arturo\\AppData\\Local\\Temp/ipykernel_13180/1958542971.py:1: IntegrationWarning: The maximum number of subdivisions (100) has been achieved.\n",
      "  If increasing the limit yields no improvement it is advised to analyze \n",
      "  the integrand in order to determine the difficulties.  If the position of a \n",
      "  local difficulty can be determined (singularity, discontinuity) one will \n",
      "  probably gain from splitting up the interval and calling the integrator \n",
      "  on the subranges.  Perhaps a special-purpose integrator should be used.\n",
      "  f=lambda λ: sp.integrate.quad(lambda x: np.sin(λ*x)/np.exp(x),0,np.inf,limit=100)[0]\n"
     ]
    },
    {
     "data": {
      "text/plain": [
       "[<matplotlib.lines.Line2D at 0x1bfb5f9f610>]"
      ]
     },
     "execution_count": 16,
     "metadata": {},
     "output_type": "execute_result"
    },
    {
     "data": {
      "image/png": "[encoded data removed]",
      "text/plain": [
       "<Figure size 432x288 with 1 Axes>"
      ]
     },
     "metadata": {
      "needs_background": "light"
     },
     "output_type": "display_data"
    }
   ],
   "source": [
    "from scipy.misc import derivative\n",
    "h=lambda x: derivative(f,x,0.01)\n",
    "y1=np.zeros(len(x))\n",
    "for i in range(len(x)):\n",
    "    y1[i]=h(x[i])\n",
    "plt.plot(x,y)\n",
    "plt.plot(x,y1)"
   ]
  },
  {
   "cell_type": "markdown",
   "id": "b30e9e42",
   "metadata": {},
   "source": [
    "Ahore generemos una matriz 3x3 con índices aleatorios, para esto es útil la librería numpy.random"
   ]
  },
  {
   "cell_type": "code",
   "execution_count": 118,
   "id": "c8b36faa",
   "metadata": {},
   "outputs": [
    {
     "data": {
      "text/plain": [
       "array([[0.22199317, 0.87073231, 0.20671916],\n",
       "       [0.91861091, 0.48841119, 0.61174386],\n",
       "       [0.76590786, 0.51841799, 0.2968005 ]])"
      ]
     },
     "execution_count": 118,
     "metadata": {},
     "output_type": "execute_result"
    }
   ],
   "source": [
    "np.random.seed(5)\n",
    "Y=np.random.uniform(0,1,size=(3,3))\n",
    "Yt=np.transpose(Y)\n",
    "Y"
   ]
  },
  {
   "cell_type": "markdown",
   "id": "6c2e01e6",
   "metadata": {},
   "source": [
    "Ahora generamos la matriz A que es la multiplicación entre Y transpuesta y Y"
   ]
  },
  {
   "cell_type": "code",
   "execution_count": 119,
   "id": "0af82e33",
   "metadata": {},
   "outputs": [
    {
     "data": {
      "text/plain": [
       "array([[1.47974181, 1.03901688, 0.83516666],\n",
       "       [1.03901688, 1.26547745, 0.63264631],\n",
       "       [0.83516666, 0.63264631, 0.5050539 ]])"
      ]
     },
     "execution_count": 119,
     "metadata": {},
     "output_type": "execute_result"
    }
   ],
   "source": [
    "A=Yt@Y\n",
    "A"
   ]
  },
  {
   "cell_type": "markdown",
   "id": "28f4e330",
   "metadata": {},
   "source": [
    "Ahora con scipy podemos hallar los autovalores y autovectores de A"
   ]
  },
  {
   "cell_type": "code",
   "execution_count": 120,
   "id": "5cb810a9",
   "metadata": {},
   "outputs": [],
   "source": [
    "Aei=sp.linalg.eig(A)"
   ]
  },
  {
   "cell_type": "code",
   "execution_count": 121,
   "id": "109cd1d8",
   "metadata": {},
   "outputs": [
    {
     "name": "stdout",
     "output_type": "stream",
     "text": [
      "Los autovalores de A son [2.87713176+0.j 0.34973568+0.j 0.02340572+0.j]\n"
     ]
    }
   ],
   "source": [
    "print(\"Los autovalores de A son\",Aei[0])"
   ]
  },
  {
   "cell_type": "code",
   "execution_count": 122,
   "id": "0bda80c6",
   "metadata": {},
   "outputs": [
    {
     "name": "stdout",
     "output_type": "stream",
     "text": [
      "Los autovectores de A son: [[-0.68887974 -0.55931069 -0.4611033 ]\n",
      " [-0.60238876  0.79554937 -0.06503068]\n",
      " [-0.40320279 -0.23296513  0.88496031]]\n"
     ]
    }
   ],
   "source": [
    "print(\"Los autovectores de A son:\",Aei[1])"
   ]
  },
  {
   "cell_type": "markdown",
   "id": "20e313af",
   "metadata": {},
   "source": [
    "Hacemos lo mismo con Y"
   ]
  },
  {
   "cell_type": "code",
   "execution_count": 123,
   "id": "9cfb1cec",
   "metadata": {},
   "outputs": [],
   "source": [
    "Yei=sp.linalg.eig(Y)"
   ]
  },
  {
   "cell_type": "code",
   "execution_count": 124,
   "id": "d2dde83e",
   "metadata": {},
   "outputs": [
    {
     "name": "stdout",
     "output_type": "stream",
     "text": [
      "Los autovalores de Y son [1.64507601 0.410762   0.22710915]\n"
     ]
    }
   ],
   "source": [
    "print(\"Los autovalores de Y son\",abs(Yei[0]))"
   ]
  },
  {
   "cell_type": "code",
   "execution_count": 125,
   "id": "49324dfe",
   "metadata": {},
   "outputs": [
    {
     "name": "stdout",
     "output_type": "stream",
     "text": [
      "Los autovectores de Y son: [[-0.4944609  -0.75235324 -0.62071789]\n",
      " [-0.67941798  0.42779998  0.13687313]\n",
      " [-0.5421251   0.50095088  0.7719942 ]]\n"
     ]
    }
   ],
   "source": [
    "print(\"Los autovectores de Y son:\",Yei[1])"
   ]
  },
  {
   "cell_type": "markdown",
   "id": "ffbae304",
   "metadata": {},
   "source": [
    "Veamos si la raiz cuadrada de los autovalores de A son igual a los autovalores de Y"
   ]
  },
  {
   "cell_type": "code",
   "execution_count": 127,
   "id": "42113dc4",
   "metadata": {},
   "outputs": [
    {
     "data": {
      "text/plain": [
       "array([1.696211  +0.j, 0.59138455+0.j, 0.15298929+0.j])"
      ]
     },
     "execution_count": 127,
     "metadata": {},
     "output_type": "execute_result"
    }
   ],
   "source": [
    "Aei[0]**0.5"
   ]
  },
  {
   "cell_type": "markdown",
   "id": "8aee78ed",
   "metadata": {},
   "source": [
    "Los arreglos nos dan valores muy parecidos entre la raiz cuadrada de los autovalores de A y los autovalores de Y"
   ]
  },
  {
   "cell_type": "code",
   "execution_count": null,
   "id": "590552b8",
   "metadata": {},
   "outputs": [],
   "source": []
  }
 ],
 "metadata": {
  "kernelspec": {
   "display_name": "Python 3 (ipykernel)",
   "language": "python",
   "name": "python3"
  },
  "language_info": {
   "codemirror_mode": {
    "name": "ipython",
    "version": 3
   },
   "file_extension": ".py",
   "mimetype": "text/x-python",
   "name": "python",
   "nbconvert_exporter": "python",
   "pygments_lexer": "ipython3",
   "version": "3.9.7"
  }
 },
 "nbformat": 4,
 "nbformat_minor": 5
}
