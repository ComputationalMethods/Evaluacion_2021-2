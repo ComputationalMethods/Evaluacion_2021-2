{
 "cells": [
  {
   "cell_type": "markdown",
   "id": "33025762",
   "metadata": {},
   "source": [
    "# Examen 1 solución: David García Gómez. 1000439477"
   ]
  },
  {
   "cell_type": "markdown",
   "id": "cce01c05",
   "metadata": {},
   "source": [
    "## Punto A):"
   ]
  },
  {
   "cell_type": "markdown",
   "id": "8593b4ca",
   "metadata": {},
   "source": [
    "Definimos dos dataframes iguales, uno para guardarlo como el original y otro como la copia que debemos manipular"
   ]
  },
  {
   "cell_type": "code",
   "execution_count": 53,
   "id": "18735e52",
   "metadata": {},
   "outputs": [
    {
     "data": {
      "text/html": [
       "<div>\n",
       "<style scoped>\n",
       "    .dataframe tbody tr th:only-of-type {\n",
       "        vertical-align: middle;\n",
       "    }\n",
       "\n",
       "    .dataframe tbody tr th {\n",
       "        vertical-align: top;\n",
       "    }\n",
       "\n",
       "    .dataframe thead th {\n",
       "        text-align: right;\n",
       "    }\n",
       "</style>\n",
       "<table border=\"1\" class=\"dataframe\">\n",
       "  <thead>\n",
       "    <tr style=\"text-align: right;\">\n",
       "      <th></th>\n",
       "      <th>día</th>\n",
       "      <th>IPMH</th>\n",
       "    </tr>\n",
       "  </thead>\n",
       "  <tbody>\n",
       "    <tr>\n",
       "      <th>0</th>\n",
       "      <td>1</td>\n",
       "      <td>464.0</td>\n",
       "    </tr>\n",
       "    <tr>\n",
       "      <th>1</th>\n",
       "      <td>2</td>\n",
       "      <td>469.0</td>\n",
       "    </tr>\n",
       "    <tr>\n",
       "      <th>2</th>\n",
       "      <td>3</td>\n",
       "      <td>532.0</td>\n",
       "    </tr>\n",
       "    <tr>\n",
       "      <th>3</th>\n",
       "      <td>4</td>\n",
       "      <td>552.0</td>\n",
       "    </tr>\n",
       "    <tr>\n",
       "      <th>4</th>\n",
       "      <td>5</td>\n",
       "      <td>576.0</td>\n",
       "    </tr>\n",
       "    <tr>\n",
       "      <th>5</th>\n",
       "      <td>6</td>\n",
       "      <td>589.0</td>\n",
       "    </tr>\n",
       "  </tbody>\n",
       "</table>\n",
       "</div>"
      ],
      "text/plain": [
       "   día   IPMH\n",
       "0    1  464.0\n",
       "1    2  469.0\n",
       "2    3  532.0\n",
       "3    4  552.0\n",
       "4    5  576.0\n",
       "5    6  589.0"
      ]
     },
     "execution_count": 53,
     "metadata": {},
     "output_type": "execute_result"
    }
   ],
   "source": [
    "import pandas as pd\n",
    "import numpy as np\n",
    "import pylab as plt\n",
    "\n",
    "A=[1,2,3,4,5,6]\n",
    "B=np.array([464.,469.,532.,552.,576.,589.])\n",
    "d={\"día\":A, \"IPMH\":B}\n",
    "df1=pd.DataFrame.from_dict(d)\n",
    "df2=pd.DataFrame.from_dict(d)\n",
    "df1"
   ]
  },
  {
   "cell_type": "markdown",
   "id": "92564dc3",
   "metadata": {},
   "source": [
    "Editamos nuestro dataframe manipulable \"df2\" para que el IPMH tenga una incertidumbre del 2 por mil en cada dato. Esto se hace usando la función np.random.uniform, que nos permite crear un número aleatorio entre un intervalo (a,b), en nuestro caso, para cada dato, el número aleatorio a elegir será uno entre el intervalo $+-\\frac{2}{1000}df2[i]$ con i variando entre 1 y 6"
   ]
  },
  {
   "cell_type": "code",
   "execution_count": 19,
   "id": "96631b99",
   "metadata": {},
   "outputs": [
    {
     "name": "stderr",
     "output_type": "stream",
     "text": [
      "C:\\Users\\DAVIDG~1\\AppData\\Local\\Temp/ipykernel_10352/2179858376.py:4: SettingWithCopyWarning: \n",
      "A value is trying to be set on a copy of a slice from a DataFrame\n",
      "\n",
      "See the caveats in the documentation: https://pandas.pydata.org/pandas-docs/stable/user_guide/indexing.html#returning-a-view-versus-a-copy\n",
      "  df2.IPMH[i]+=np.random.uniform(-k,k)\n"
     ]
    },
    {
     "data": {
      "text/html": [
       "<div>\n",
       "<style scoped>\n",
       "    .dataframe tbody tr th:only-of-type {\n",
       "        vertical-align: middle;\n",
       "    }\n",
       "\n",
       "    .dataframe tbody tr th {\n",
       "        vertical-align: top;\n",
       "    }\n",
       "\n",
       "    .dataframe thead th {\n",
       "        text-align: right;\n",
       "    }\n",
       "</style>\n",
       "<table border=\"1\" class=\"dataframe\">\n",
       "  <thead>\n",
       "    <tr style=\"text-align: right;\">\n",
       "      <th></th>\n",
       "      <th>día</th>\n",
       "      <th>IPMH</th>\n",
       "    </tr>\n",
       "  </thead>\n",
       "  <tbody>\n",
       "    <tr>\n",
       "      <th>0</th>\n",
       "      <td>1</td>\n",
       "      <td>463.881207</td>\n",
       "    </tr>\n",
       "    <tr>\n",
       "      <th>1</th>\n",
       "      <td>2</td>\n",
       "      <td>468.110638</td>\n",
       "    </tr>\n",
       "    <tr>\n",
       "      <th>2</th>\n",
       "      <td>3</td>\n",
       "      <td>532.105682</td>\n",
       "    </tr>\n",
       "    <tr>\n",
       "      <th>3</th>\n",
       "      <td>4</td>\n",
       "      <td>551.857192</td>\n",
       "    </tr>\n",
       "    <tr>\n",
       "      <th>4</th>\n",
       "      <td>5</td>\n",
       "      <td>575.816527</td>\n",
       "    </tr>\n",
       "    <tr>\n",
       "      <th>5</th>\n",
       "      <td>6</td>\n",
       "      <td>588.600269</td>\n",
       "    </tr>\n",
       "  </tbody>\n",
       "</table>\n",
       "</div>"
      ],
      "text/plain": [
       "   día        IPMH\n",
       "0    1  463.881207\n",
       "1    2  468.110638\n",
       "2    3  532.105682\n",
       "3    4  551.857192\n",
       "4    5  575.816527\n",
       "5    6  588.600269"
      ]
     },
     "execution_count": 19,
     "metadata": {},
     "output_type": "execute_result"
    }
   ],
   "source": [
    "np.random.seed(2)\n",
    "for i in range(0,6):\n",
    "    k=df2.IPMH[i]*0.002  #Hallar el 2% del valor\n",
    "    df2.IPMH[i]+=np.random.uniform(-k,k)\n",
    "df2"
   ]
  },
  {
   "cell_type": "markdown",
   "id": "7b56a9bc",
   "metadata": {},
   "source": [
    "Así creamos nuestro nuevo dataframe \"df2\" con una incertidumbre del 2 por mil en la columna IPMH\n",
    "\n",
    "\n",
    "Veamos los puntos en una gráfica:"
   ]
  },
  {
   "cell_type": "code",
   "execution_count": 54,
   "id": "bffd89bf",
   "metadata": {},
   "outputs": [
    {
     "data": {
      "image/png": "[encoded data removed]",
      "text/plain": [
       "<Figure size 432x288 with 1 Axes>"
      ]
     },
     "metadata": {
      "needs_background": "light"
     },
     "output_type": "display_data"
    }
   ],
   "source": [
    "import pylab as plt\n",
    "plt.plot(df2.día,df2.IPMH,\"o--\")\n",
    "plt.xlabel(\"Día\")\n",
    "plt.ylabel(\"IPMH\")\n",
    "plt.grid()\n",
    "plt.show()"
   ]
  },
  {
   "cell_type": "markdown",
   "id": "5774f6b8",
   "metadata": {},
   "source": [
    "Ahora hagamos un fit de los puntos con un polinomio de grado dos con la función np.polyfit"
   ]
  },
  {
   "cell_type": "code",
   "execution_count": 55,
   "id": "b53f1753",
   "metadata": {},
   "outputs": [],
   "source": [
    "g=np.polyfit(df2.día,df2.IPMH,2)\n",
    "f1=lambda x: g[0]*(x**2)+g[1]*x+g[2] #función que ajusta nuestros puntos del df\n",
    "#f1(0.5)"
   ]
  },
  {
   "cell_type": "markdown",
   "id": "12a99e33",
   "metadata": {},
   "source": [
    "Ahora comparemos el ajuste con nuestros puntos para ver si sí funciona bien"
   ]
  },
  {
   "cell_type": "code",
   "execution_count": 57,
   "id": "0bd0bbc7",
   "metadata": {},
   "outputs": [
    {
     "data": {
      "image/png": "[encoded data removed]",
      "text/plain": [
       "<Figure size 432x288 with 1 Axes>"
      ]
     },
     "metadata": {
      "needs_background": "light"
     },
     "output_type": "display_data"
    }
   ],
   "source": [
    "x1=np.arange(1,6,0.1)\n",
    "y1=f1(x1)\n",
    "plt.plot(x1,y1,label=\"ajuste\")\n",
    "plt.plot(df2.día,df2.IPMH,\"o--\",label=\"Puntos reales\")\n",
    "plt.legend()\n",
    "plt.grid()\n",
    "plt.xlabel(\"Día\")\n",
    "plt.ylabel(\"IPMH\")\n",
    "plt.show()"
   ]
  },
  {
   "cell_type": "markdown",
   "id": "db879bde",
   "metadata": {},
   "source": [
    "Como nuestra función es un polinomio de grado 2, podemos hallar analíticamente su derivada (Velocidad) y su segunda derivada (Aceleración). \n",
    "\n",
    "Vamos a definirlas:"
   ]
  },
  {
   "cell_type": "code",
   "execution_count": 39,
   "id": "ba6642b5",
   "metadata": {},
   "outputs": [],
   "source": [
    "f11=lambda x: 2*x*g[0]+g[1] #Primera derivada aceleración\n",
    "f12=2*g[0]           # Segunda derivada"
   ]
  },
  {
   "cell_type": "markdown",
   "id": "6adb55c2",
   "metadata": {},
   "source": [
    "Teniendo la derivada del fit, podemos hallar la velocidad inicial, evaluando x=1 en la derivada, ya que 1 es el día de inicio de nuestro dataframe."
   ]
  },
  {
   "cell_type": "code",
   "execution_count": 47,
   "id": "b1b00463",
   "metadata": {},
   "outputs": [
    {
     "name": "stdout",
     "output_type": "stream",
     "text": [
      "La velocidad es 37.9571428571431 IPMH/Día\n",
      "La aceleración es -4.142857142857236 IPMH/Dia**2\n"
     ]
    }
   ],
   "source": [
    "print(\"La velocidad es\",f11(1), \"IPMH/Día\")\n",
    "print(\"La aceleración es\", f12, \"IPMH/Dia**2\")"
   ]
  },
  {
   "cell_type": "markdown",
   "id": "56595ccd",
   "metadata": {},
   "source": [
    "Para hallar el máximo debemos encontrar un valor para el que la velocidad sea 0, o sea resolver la ecuación f'(x)=0 y ese x será el valor del día donde el valor del IPMH es máximo\n",
    "\n",
    "Usemos el método de newton de scipy"
   ]
  },
  {
   "cell_type": "code",
   "execution_count": 62,
   "id": "823bb45d",
   "metadata": {},
   "outputs": [
    {
     "name": "stdout",
     "output_type": "stream",
     "text": [
      "el día en el que el IPMH alcanza el valor máximo es el día: 10.162068965517095\n"
     ]
    }
   ],
   "source": [
    "import scipy as sp\n",
    "from scipy import optimize\n",
    "m=sp.optimize.newton(f11,1)\n",
    "print(\"el día en el que el IPMH alcanza el valor máximo es el día:\", m)"
   ]
  },
  {
   "cell_type": "markdown",
   "id": "b060cfef",
   "metadata": {},
   "source": [
    "Esto nos dice que en el 10mo día más o menos, el IPMH debe tener valor máximo porque la segunda derivada es negativa, o sea que es cóncava hacia abajo. \n",
    "\n",
    "Ahora veámoslo en una gráfica:"
   ]
  },
  {
   "cell_type": "code",
   "execution_count": 60,
   "id": "73ff852b",
   "metadata": {},
   "outputs": [
    {
     "data": {
      "image/png": "[encoded data removed]",
      "text/plain": [
       "<Figure size 432x288 with 1 Axes>"
      ]
     },
     "metadata": {
      "needs_background": "light"
     },
     "output_type": "display_data"
    }
   ],
   "source": [
    "x2=np.arange(0,15,0.1)\n",
    "y2=f1(x2)\n",
    "plt.plot(x2,y2,label=\"Curva de ajuste\")    #Gráfica de la función fit de nuestro dataframe\n",
    "plt.plot(10.162068965517095,f1(10.162068965517095),\"o\",label=\"Maximo\") #Máximo\n",
    "plt.xlabel(\"Día\")\n",
    "plt.ylabel(\"IPMH\")\n",
    "plt.grid()\n",
    "plt.legend()\n",
    "plt.show()"
   ]
  },
  {
   "cell_type": "code",
   "execution_count": null,
   "id": "3c63647a",
   "metadata": {},
   "outputs": [],
   "source": []
  }
 ],
 "metadata": {
  "kernelspec": {
   "display_name": "Python 3 (ipykernel)",
   "language": "python",
   "name": "python3"
  },
  "language_info": {
   "codemirror_mode": {
    "name": "ipython",
    "version": 3
   },
   "file_extension": ".py",
   "mimetype": "text/x-python",
   "name": "python",
   "nbconvert_exporter": "python",
   "pygments_lexer": "ipython3",
   "version": "3.9.7"
  }
 },
 "nbformat": 4,
 "nbformat_minor": 5
}
