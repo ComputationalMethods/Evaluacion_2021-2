{
  "cells": [
    {
      "cell_type": "markdown",
      "metadata": {
        "id": "view-in-github",
        "colab_type": "text"
      },
      "source": [
        "<a href=\"https://colab.research.google.com/github/MateoPatinoRios/MateoPati-o/blob/main/Parcial1_1007362148.ipynb\" target=\"_parent\"><img src=\"https://colab.research.google.com/assets/colab-badge.svg\" alt=\"Open In Colab\"/></a>"
      ]
    },
    {
      "cell_type": "code",
      "execution_count": null,
      "metadata": {
        "id": "a0ay6mDM5Lag",
        "outputId": "42a29582-37a0-4d76-bd8e-7fa98b774cd6"
      },
      "outputs": [
        {
          "data": {
            "text/html": [
              "<div>\n",
              "<style scoped>\n",
              "    .dataframe tbody tr th:only-of-type {\n",
              "        vertical-align: middle;\n",
              "    }\n",
              "\n",
              "    .dataframe tbody tr th {\n",
              "        vertical-align: top;\n",
              "    }\n",
              "\n",
              "    .dataframe thead th {\n",
              "        text-align: right;\n",
              "    }\n",
              "</style>\n",
              "<table border=\"1\" class=\"dataframe\">\n",
              "  <thead>\n",
              "    <tr style=\"text-align: right;\">\n",
              "      <th></th>\n",
              "      <th>día</th>\n",
              "      <th>IPMH</th>\n",
              "    </tr>\n",
              "  </thead>\n",
              "  <tbody>\n",
              "    <tr>\n",
              "      <th>0</th>\n",
              "      <td>1</td>\n",
              "      <td>463</td>\n",
              "    </tr>\n",
              "    <tr>\n",
              "      <th>1</th>\n",
              "      <td>2</td>\n",
              "      <td>494</td>\n",
              "    </tr>\n",
              "    <tr>\n",
              "      <th>2</th>\n",
              "      <td>3</td>\n",
              "      <td>531</td>\n",
              "    </tr>\n",
              "    <tr>\n",
              "      <th>3</th>\n",
              "      <td>4</td>\n",
              "      <td>551</td>\n",
              "    </tr>\n",
              "    <tr>\n",
              "      <th>4</th>\n",
              "      <td>5</td>\n",
              "      <td>575</td>\n",
              "    </tr>\n",
              "    <tr>\n",
              "      <th>5</th>\n",
              "      <td>6</td>\n",
              "      <td>589</td>\n",
              "    </tr>\n",
              "  </tbody>\n",
              "</table>\n",
              "</div>"
            ],
            "text/plain": [
              "   día  IPMH\n",
              "0    1   463\n",
              "1    2   494\n",
              "2    3   531\n",
              "3    4   551\n",
              "4    5   575\n",
              "5    6   589"
            ]
          },
          "execution_count": 21,
          "metadata": {},
          "output_type": "execute_result"
        }
      ],
      "source": [
        "import numpy as np\n",
        "from scipy import optimize, interpolate\n",
        "import pandas as pd\n",
        "df=pd.DataFrame({'día':[1,2,3,4,5,6],'IPMH':[int(464*np.random.uniform(99.8,100.2)/100),int(494*np.random.uniform(99.8,100.2)/100),int(532*np.random.uniform(99.8,100.2)/100),int(552*np.random.uniform(99.8,100.2)/100),int(576*np.random.uniform(99.8,100.2)/100),int(589*np.random.uniform(99.8,100.2)/100)]})\n",
        "df"
      ]
    },
    {
      "cell_type": "markdown",
      "metadata": {
        "id": "jDYKu4ED5Lao"
      },
      "source": [
        "La ecuación de cinemática para un cuerpo que describe una trayectoria en caída libre es: $$y(t)=\\frac{-g}{2}t^2+v_{0}t+y_{0}$$\n",
        "Se va ajustar los datos anteriores a un polinomio de grado dos:"
      ]
    },
    {
      "cell_type": "code",
      "execution_count": null,
      "metadata": {
        "id": "_W_FECxe5Lar",
        "outputId": "22c95089-bdbb-497d-ddbf-f227766f0c5c"
      },
      "outputs": [
        {
          "name": "stdout",
          "output_type": "stream",
          "text": [
            "        2\n",
            "-2.446 t + 42.64 t + 421.7\n"
          ]
        }
      ],
      "source": [
        "P=np.polyfit(df['día'],df['IPMH'],deg=2) #Polinomio que minimiza la distancia del punto a la gráfica\n",
        "P=np.poly1d(P,variable='t')\n",
        "print(P)"
      ]
    },
    {
      "cell_type": "markdown",
      "metadata": {
        "id": "T8OvceDF5Las"
      },
      "source": [
        "Tal y cómo se manifiesta en la ecuación anterior:"
      ]
    },
    {
      "cell_type": "code",
      "execution_count": null,
      "metadata": {
        "id": "53T150KT5Lat",
        "outputId": "ed2bdea3-614f-411a-da8a-eacf0217a0c7"
      },
      "outputs": [
        {
          "name": "stdout",
          "output_type": "stream",
          "text": [
            "Velocidad inicial es: 42.63928571428609 IPMH/día\n",
            "La aceleración constante es: 4.892857142857242 IPMH/día^2\n"
          ]
        }
      ],
      "source": [
        "print(f'Velocidad inicial es: {P[1]} IPMH/día')\n",
        "print(f'La aceleración constante es: {-2*P[2]} IPMH/día^2')"
      ]
    },
    {
      "cell_type": "markdown",
      "metadata": {
        "id": "bhwgnRNP5Lav"
      },
      "source": [
        "**Para hallar el máximo de infectados con este ajuste se puede derivar el polinomio y hallar su raíz.**"
      ]
    },
    {
      "cell_type": "code",
      "execution_count": null,
      "metadata": {
        "id": "wn7rcMZO5Law",
        "outputId": "75c27474-047e-4bc8-8ba3-3e3bf56c4d92"
      },
      "outputs": [
        {
          "name": "stdout",
          "output_type": "stream",
          "text": [
            " \n",
            "-4.893 t + 42.64\n"
          ]
        }
      ],
      "source": [
        "Pp=P.deriv()\n",
        "Pp=np.poly1d(Pp.coef,variable='t')\n",
        "print(Pp)"
      ]
    },
    {
      "cell_type": "markdown",
      "metadata": {
        "id": "TZQT9dlA5Lax"
      },
      "source": [
        "Hallando la raíz de Pp que es la derivada del polinomio de ajuste"
      ]
    },
    {
      "cell_type": "code",
      "execution_count": null,
      "metadata": {
        "id": "T-xvJEQK5Lay",
        "outputId": "e86cb0df-23c5-4cde-e78e-9d9a69b0fec3"
      },
      "outputs": [
        {
          "name": "stdout",
          "output_type": "stream",
          "text": [
            "La derivada del polinomio de ajuste se hace 0 en 8.714598540145886 días\n",
            "Esto quiere decir que la cantidad máxima de IPMH es: 607.4921285192898\n"
          ]
        }
      ],
      "source": [
        "Imax=Pp.roots\n",
        "print(f'La derivada del polinomio de ajuste se hace 0 en {float(Imax)} días')\n",
        "print(f'Esto quiere decir que la cantidad máxima de IPMH es: {float(P(Imax))}')"
      ]
    },
    {
      "cell_type": "markdown",
      "metadata": {
        "id": "FAKAk5W85La0"
      },
      "source": [
        "También se podría hallar dicha raíz mediante el método de la secante:"
      ]
    },
    {
      "cell_type": "code",
      "execution_count": null,
      "metadata": {
        "id": "MaTo3vty5La1",
        "outputId": "f29540a8-64c4-472e-ac96-cd7542ef65f6"
      },
      "outputs": [
        {
          "name": "stdout",
          "output_type": "stream",
          "text": [
            "El máximo de IPMH se halla a los 8.714598540145886 días\n"
          ]
        }
      ],
      "source": [
        "Imax=optimize.newton(P.deriv(),8)\n",
        "print(f'El máximo de IPMH se halla a los {Imax} días')"
      ]
    },
    {
      "cell_type": "code",
      "execution_count": null,
      "metadata": {
        "id": "ZemMmQUT5La2",
        "outputId": "ef25e38d-874e-4b3a-b862-9ca828835435"
      },
      "outputs": [
        {
          "data": {
            "image/png": "[encoded data removed]",
            "text/plain": [
              "<Figure size 864x576 with 1 Axes>"
            ]
          },
          "metadata": {
            "needs_background": "light"
          },
          "output_type": "display_data"
        }
      ],
      "source": [
        "import matplotlib.pylab as plt\n",
        "t=np.linspace(0,12,1000)\n",
        "plt.figure(figsize=(12,8))\n",
        "plt.scatter(df['día'],df['IPMH'],c='#FF2929')\n",
        "plt.plot(t,P(t))\n",
        "plt.scatter(Imax,P(Imax),c='#FFC500',marker='*',s=(178))\n",
        "plt.title('IPMH vs. Día',size=22)\n",
        "plt.legend(['Polinomio de ajuste','Puntos de ajuste',f'Máximo de IPMH alcanzado a los {round(Imax,2)} días'])\n",
        "plt.xlabel('Días')\n",
        "plt.ylabel('IPMH')\n",
        "plt.grid()"
      ]
    }
  ],
  "metadata": {
    "kernelspec": {
      "display_name": "Python 3",
      "language": "python",
      "name": "python3"
    },
    "language_info": {
      "codemirror_mode": {
        "name": "ipython",
        "version": 3
      },
      "file_extension": ".py",
      "mimetype": "text/x-python",
      "name": "python",
      "nbconvert_exporter": "python",
      "pygments_lexer": "ipython3",
      "version": "3.7.6"
    },
    "colab": {
      "name": "Parcial1_1007362148.ipynb",
      "provenance": [],
      "include_colab_link": true
    }
  },
  "nbformat": 4,
  "nbformat_minor": 0
}
