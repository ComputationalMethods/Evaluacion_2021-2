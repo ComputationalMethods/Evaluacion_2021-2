{
  "cells": [
    {
      "cell_type": "markdown",
      "source": [
        "#**Parcial 2**\n",
        "**Nombre** : Jerónimo López Gómez\n",
        "\n",
        "**C.C.** : 1.001.735.333\n"
      ],
      "metadata": {
        "id": "9AN4sq0p4fXg"
      },
      "id": "9AN4sq0p4fXg"
    },
    {
      "cell_type": "markdown",
      "id": "0949b7a5-6d81-4e98-adc7-a7a1867266a3",
      "metadata": {
        "id": "0949b7a5-6d81-4e98-adc7-a7a1867266a3"
      },
      "source": [
        "### Link a éste GitHub en classroom → ClassWork → Examenes\n",
        "\n",
        "A)\n",
        "1. Cree una función en Python que defina la función\n",
        "$$\n",
        "f(\\lambda)=\\int_0^\\infty \\frac{\\sin(\\lambda x)}{\\operatorname{e}^x}\\operatorname{d}x\n",
        "$$\n",
        "1. Gráfique dicha función para $\\lambda$ entre 0 y 100\n",
        "1. Haga un segundo gráfico añadiendo la derivada de la función\n",
        "\n",
        "Sugerencia: Ignore los \"WARNINGS\" de Scipy\n",
        "\n"
      ]
    },
    {
      "cell_type": "code",
      "source": [
        "#@markdown **Libs**\n",
        "import numpy as np\n",
        "import sympy as sp\n",
        "from scipy import integrate\n",
        "import pandas as pd\n",
        "import matplotlib.pyplot as plt"
      ],
      "metadata": {
        "cellView": "form",
        "id": "c6m3g4Vq5Z-e"
      },
      "id": "c6m3g4Vq5Z-e",
      "execution_count": 55,
      "outputs": []
    },
    {
      "cell_type": "code",
      "source": [
        "#@markdown Función $F(\\lambda)$\n",
        "def int_F(λ):\n",
        "  g = lambda x, a : np.sin(a*x)/np.exp(x)\n",
        "  I = integrate.quad(g, 0, np.inf, args=(λ))\n",
        "  return I[0]"
      ],
      "metadata": {
        "cellView": "form",
        "id": "hIeGr3Hy5Ll2"
      },
      "id": "hIeGr3Hy5Ll2",
      "execution_count": 34,
      "outputs": []
    },
    {
      "cell_type": "code",
      "source": [
        "λ = np.arange(0, 100, 0.1)\n",
        "y = []\n",
        "for i in λ:\n",
        "  I = int_F(i)\n",
        "  y.append(I)"
      ],
      "metadata": {
        "id": "3XIsptjN_P_5"
      },
      "id": "3XIsptjN_P_5",
      "execution_count": null,
      "outputs": []
    },
    {
      "cell_type": "code",
      "source": [
        "a, x = sp.symbols('a'), sp.symbols('x')\n",
        "D = sp.lambdify(x, sp.diff(x/(x**2+1),x), 'numpy')"
      ],
      "metadata": {
        "id": "tJMjlVCAHKC5"
      },
      "id": "tJMjlVCAHKC5",
      "execution_count": 77,
      "outputs": []
    },
    {
      "cell_type": "code",
      "source": [
        "plt.figure(figsize=(12,6))\n",
        "plt.plot(λ, y, label = 'F(λ)')\n",
        "plt.plot(λ, D(λ), label = '$D_λ[F(λ)]$')\n",
        "plt.title(\"F(λ)\")\n",
        "plt.xlabel('λ')\n",
        "plt.ylabel('F')\n",
        "plt.legend()\n",
        "plt.grid()\n",
        "plt.show()"
      ],
      "metadata": {
        "colab": {
          "base_uri": "https://localhost:8080/",
          "height": 404
        },
        "id": "oG6U5sh6GWxI",
        "outputId": "d6058cf4-fa4e-4472-c99e-ff6ae61137eb"
      },
      "id": "oG6U5sh6GWxI",
      "execution_count": 83,
      "outputs": [
        {
          "output_type": "display_data",
          "data": {
            "text/plain": [
              "<Figure size 864x432 with 1 Axes>"
            ],
            "image/png": "[encoded data removed]"
          },
          "metadata": {
            "needs_background": "light"
          }
        }
      ]
    },
    {
      "cell_type": "markdown",
      "source": [
        "B)\n",
        "Construya una matriz aleatoria $3\\times 3$ $\\boldsymbol{Y}$ y genere la matrix\n",
        "$$\n",
        "\\boldsymbol{A}=\\boldsymbol{Y}^{\\operatorname{T}}\\boldsymbol{Y}\n",
        "$$\n",
        "\n",
        "1. Obtenga los autovalores y autovectores de $\\boldsymbol{A}$ en orden ascendente en valor absoluto\n",
        "1. Compruebe que los atovalores de $\\boldsymbol{Y}$ corresponden a la raíz cuadrado de los autovalores de  $\\boldsymbol{A}$ y explique porqué"
      ],
      "metadata": {
        "id": "TV6BkHoi5Kem"
      },
      "id": "TV6BkHoi5Kem"
    },
    {
      "cell_type": "code",
      "execution_count": 95,
      "id": "62cbc669-9ed6-4f54-b4c9-5ac10f7c15d6",
      "metadata": {
        "colab": {
          "base_uri": "https://localhost:8080/",
          "height": 78
        },
        "id": "62cbc669-9ed6-4f54-b4c9-5ac10f7c15d6",
        "outputId": "9afd9628-e8c6-436c-ba02-287ba2376681"
      },
      "outputs": [
        {
          "output_type": "execute_result",
          "data": {
            "text/plain": [
              "Matrix([\n",
              "[2294, 1621, 982],\n",
              "[1621, 1262, 558],\n",
              "[ 982,  558, 579]])"
            ],
            "text/latex": "$\\displaystyle \\left[\\begin{matrix}2294 & 1621 & 982\\\\1621 & 1262 & 558\\\\982 & 558 & 579\\end{matrix}\\right]$"
          },
          "metadata": {},
          "execution_count": 95
        }
      ],
      "source": [
        "np.random.seed(1001735333)\n",
        "Y = np.random.randint(0, 50, (3,3))\n",
        "A = Y.transpose()@Y\n",
        "sp.Matrix(A)"
      ]
    },
    {
      "cell_type": "code",
      "source": [
        "autval_A, autvec_A = np.linalg.eig(A)"
      ],
      "metadata": {
        "id": "SDnUnSXgLDir"
      },
      "id": "SDnUnSXgLDir",
      "execution_count": 107,
      "outputs": []
    },
    {
      "cell_type": "code",
      "source": [
        "autval_A, autvec_A = np.sort(abs(autval_A), axis=None), np.sort(abs(autvec_A), axis=None)"
      ],
      "metadata": {
        "id": "rQQ1TruMMJEB"
      },
      "id": "rQQ1TruMMJEB",
      "execution_count": null,
      "outputs": []
    },
    {
      "cell_type": "code",
      "source": [
        "autval_Y, autvec_Y = np.linalg.eig(Y)"
      ],
      "metadata": {
        "id": "d1pvTKklNY3i"
      },
      "id": "d1pvTKklNY3i",
      "execution_count": null,
      "outputs": []
    },
    {
      "cell_type": "code",
      "source": [
        "#@markdown Comprobación \n",
        "(np.sort(abs(autval_Y), axis=None) == np.sort(np.sqrt(abs(autval_A)), axis=None))"
      ],
      "metadata": {
        "colab": {
          "base_uri": "https://localhost:8080/"
        },
        "cellView": "form",
        "id": "y1JzcTGzNnFK",
        "outputId": "cf05f209-b8a4-4ac0-cdc7-427a1e77d263"
      },
      "id": "y1JzcTGzNnFK",
      "execution_count": 128,
      "outputs": [
        {
          "output_type": "execute_result",
          "data": {
            "text/plain": [
              "array([False, False, False])"
            ]
          },
          "metadata": {},
          "execution_count": 128
        }
      ]
    }
  ],
  "metadata": {
    "kernelspec": {
      "display_name": "Python 3 (ipykernel)",
      "language": "python",
      "name": "python3"
    },
    "language_info": {
      "codemirror_mode": {
        "name": "ipython",
        "version": 3
      },
      "file_extension": ".py",
      "mimetype": "text/x-python",
      "name": "python",
      "nbconvert_exporter": "python",
      "pygments_lexer": "ipython3",
      "version": "3.9.2"
    },
    "colab": {
      "name": "Examen_2021_2_02_Lopez333.ipynb",
      "provenance": []
    }
  },
  "nbformat": 4,
  "nbformat_minor": 5
}