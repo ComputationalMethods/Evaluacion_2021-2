{
  "cells": [
    {
      "cell_type": "markdown",
      "metadata": {
        "id": "XGh1ScX5EZVp"
      },
      "source": [
        "# Interpolation Methods\n",
        "<a href=\"https://colab.research.google.com/github/restrepo/ComputationalMethods/blob/master/material/interpolation.ipynb\" target=\"_parent\"><img src=\"https://colab.research.google.com/assets/colab-badge.svg\" alt=\"Open In Colab\"/></a>"
      ]
    },
    {
      "cell_type": "markdown",
      "metadata": {
        "id": "b9K_MnFJEZVr"
      },
      "source": [
        "Due to the discrete, and sometimes sparse, nature of experiments and observations, data taking procedures will always produce discrete data as well. Even, as we have seen before, information only can be discretely presented into a computer due to the binary representation. However, when we are dealing with physical models, continuous and smooth properties are of course preferred. Interpolation techniques allow then to recover a continuous field from sparse datasets. Throughout this section we shall cover some of these interpolation methods.\n",
        "\n",
        "---\n",
        "\n",
        "<!-- __Homework__: https://classroom.github.com/a/SB94rDVJ -->\n",
        "## Bibliography: \n",
        "[1a] Gonzalo Galiano Casas, Esperanza García Gonzalo [Numerical Computation](https://www.unioviedo.es/compnum/expositive/handbook/metnum.pdf) - [GD](https://drive.google.com/file/d/1gwHYLx5aBf3oXRhmGeG-n1toTtAUhvfX/view?usp=sharing) - [Web page with notebooks](https://www.unioviedo.es/compnum/index.php/english-menu)<br/>\n",
        "[1g] Mo Mu, [MATH 3311: Introduction to Numerical Methods](https://www.math.ust.hk/~mamu/courses/230/course.htm) [GD](https://drive.google.com/drive/folders/1vv38SS7Zpw8mOHG7Kq_3lZr6o9H4xOYP?usp=sharing) - [Demostration Error in Lagrange Polynomials](https://www.math.ust.hk/~mamu/courses/231/Slides/CH03_1B.pdf)<br/>\n",
        "[1h] Zhiliang Xu, [ACMS 40390: Fall 2016 - Numerical Analysis](https://www3.nd.edu/~zxu2/ACMS40390-F16.html) [GD](https://drive.google.com/drive/folders/1Z9Fws1v34PuPdGAp_mBCWmTvZM_Qd6Xk?usp=sharing)</br>\n",
        "\n",
        "\n",
        "https://github.com/restrepo/Calculus/blob/master/Differential_Calculus.ipynb\n"
      ]
    },
    {
      "cell_type": "markdown",
      "metadata": {
        "id": "ooE-OhsOEZVs"
      },
      "source": [
        "- - -\n",
        "- [NumPy polynomials](#NumPy-Polynomials)\n",
        "- [Linear Interpolation](#Linear-Interpolation)\n",
        "    - [Steps](#Steps-LI)\n",
        "    - [Example 1](#Example-1)\n",
        "- [Lagrange Polynomial](#Lagrange-Polynomial)\n",
        "    - [Derivation](#Derivation)\n",
        "    - [Steps](#Steps-LP)\n",
        "    - [Activity](#Activity-LP)\n",
        "- [Divided Differences](#Divided-Differences)\n",
        "    - [Example 2](#Example-2)\n",
        "- [Hermite Interpolation](#Hermite-Interpolation)\n",
        "    - [Derivation in terms of divided differences](#Derivation-in-terms-of-divided-differences)\n",
        "    - [Example 3](#Example-3)\n",
        "- - -"
      ]
    },
    {
      "cell_type": "code",
      "execution_count": null,
      "metadata": {
        "colab": {
          "base_uri": "https://localhost:8080/"
        },
        "id": "8BwVVom3EZVu",
        "outputId": "83a17aef-8aaf-47fa-e85e-d4c871ba79cf"
      },
      "outputs": [
        {
          "output_type": "stream",
          "name": "stdout",
          "text": [
            "Populating the interactive namespace from numpy and matplotlib\n"
          ]
        }
      ],
      "source": [
        "%pylab inline"
      ]
    },
    {
      "cell_type": "code",
      "execution_count": null,
      "metadata": {
        "id": "jLrHQj5MEZV0"
      },
      "outputs": [],
      "source": [
        "from IPython.display import display, Markdown, Latex, Image \n",
        "import pandas as pd"
      ]
    },
    {
      "cell_type": "code",
      "execution_count": null,
      "metadata": {
        "id": "qA6vPaJBEZV2"
      },
      "outputs": [],
      "source": [
        "from scipy import interpolate"
      ]
    },
    {
      "cell_type": "code",
      "execution_count": null,
      "metadata": {
        "id": "rIsrgFTCEZV4"
      },
      "outputs": [],
      "source": [
        "import numpy as np\n",
        "# JSAnimation import available at https://github.com/jakevdp/JSAnimation\n",
        "#from JSAnimation import IPython_display\n",
        "from matplotlib import animation\n",
        "from IPython.core.display import Image "
      ]
    },
    {
      "cell_type": "markdown",
      "metadata": {
        "id": "izA9D35WdJjg"
      },
      "source": [
        "Pretty print inside colaboratory"
      ]
    },
    {
      "cell_type": "code",
      "execution_count": null,
      "metadata": {
        "id": "vU_ALGnRhKna"
      },
      "outputs": [],
      "source": [
        "import IPython\n",
        "\n",
        "def setup_typeset():\n",
        "  \"\"\"MathJax initialization for the current cell.\n",
        "  \n",
        "  This installs and configures MathJax for the current output.\n",
        "  \"\"\"\n",
        "  IPython.display.display(IPython.display.HTML('''\n",
        "      <script src=\"https://www.gstatic.com/external_hosted/mathjax/latest/MathJax.js?config=TeX-AMS_HTML-full,Safe&delayStartupUntil=configured\"></script>\n",
        "      <script>\n",
        "        (() => {\n",
        "          const mathjax = window.MathJax;\n",
        "          mathjax.Hub.Config({\n",
        "          'tex2jax': {\n",
        "            'inlineMath': [['$', '$'], ['\\\\(', '\\\\)']],\n",
        "            'displayMath': [['$$', '$$'], ['\\\\[', '\\\\]']],\n",
        "            'processEscapes': true,\n",
        "            'processEnvironments': true,\n",
        "            'skipTags': ['script', 'noscript', 'style', 'textarea', 'code'],\n",
        "            'displayAlign': 'center',\n",
        "          },\n",
        "          'HTML-CSS': {\n",
        "            'styles': {'.MathJax_Display': {'margin': 0}},\n",
        "            'linebreaks': {'automatic': true},\n",
        "            // Disable to prevent OTF font loading, which aren't part of our\n",
        "            // distribution.\n",
        "            'imageFont': null,\n",
        "          },\n",
        "          'messageStyle': 'none'\n",
        "        });\n",
        "        mathjax.Hub.Configured();\n",
        "      })();\n",
        "      </script>\n",
        "      '''))\n",
        "    \n",
        "def Polynomial_to_LaTeX(p):\n",
        "    \"\"\" Small function to print nicely the polynomial p as we write it in maths, in LaTeX code.\"\"\"\n",
        "    coefs = p.coef[::-1]  # List of coefficient, sorted by increasing degrees\n",
        "    res = \"\"  # The resulting string\n",
        "    for i, a in enumerate(coefs):\n",
        "        if int(a) == a:  # Remove the trailing .0\n",
        "            a = int(a)\n",
        "        if i == 0:  # First coefficient, no need for X\n",
        "            if a > 0:\n",
        "                res += \"{a} + \".format(a=a)\n",
        "            elif a < 0:  # Negative a is printed like (a)\n",
        "                res += \"({a}) + \".format(a=a)\n",
        "            # a = 0 is not displayed \n",
        "        elif i == 1:  # Second coefficient, only X and not X**i\n",
        "            if a == 1:  # a = 1 does not need to be displayed\n",
        "                res += \"x + \"\n",
        "            elif a > 0:\n",
        "                res += \"{a} \\;x + \".format(a=a)\n",
        "            elif a < 0:\n",
        "                res += \"({a}) \\;x + \".format(a=a)\n",
        "        else:\n",
        "            if a == 1:\n",
        "                # A special care needs to be addressed to put the exponent in {..} in LaTeX\n",
        "                res += \"x^{i} + \".format(i=\"{%d}\" % i)\n",
        "            elif a > 0:\n",
        "                res += \"{a} \\;x^{i} + \".format(a=a, i=\"{%d}\" % i)\n",
        "            elif a < 0:\n",
        "                res += \"({a}) \\;x^{i} + \".format(a=a, i=\"{%d}\" % i)\n",
        "    return \"$\" + res[:-3] + \"$\" if res else \"\"    "
      ]
    },
    {
      "cell_type": "markdown",
      "metadata": {
        "id": "udTzmy-CEZV7"
      },
      "source": [
        "- - -"
      ]
    },
    {
      "cell_type": "markdown",
      "metadata": {
        "id": "Z-txzMoJEZV7"
      },
      "source": [
        "# NumPy Polynomials"
      ]
    },
    {
      "cell_type": "markdown",
      "metadata": {
        "id": "bA0x7_nCEZV9"
      },
      "source": [
        "In Numpy there is an implementation of Polynomials. The object is initialized giving the polynomial coefficients: \n",
        "\n",
        "More information about this\n",
        "* [LaTeX print](https://perso.crans.org/besson/publis/notebooks/Demonstration%20of%20numpy.polynomial.Polynomial%20and%20nice%20display%20with%20LaTeX%20and%20MathJax%20(python3).html): "
      ]
    },
    {
      "cell_type": "code",
      "execution_count": null,
      "metadata": {
        "colab": {
          "base_uri": "https://localhost:8080/"
        },
        "id": "OEDBQReUEZV9",
        "outputId": "2a9d4f2e-c9b0-4873-8fe7-f4c815087a57"
      },
      "outputs": [
        {
          "output_type": "stream",
          "name": "stdout",
          "text": [
            "   2\n",
            "1 x + 2 x - 3\n"
          ]
        }
      ],
      "source": [
        "p = np.poly1d([1, 2, -3])\n",
        "print(p)"
      ]
    },
    {
      "cell_type": "code",
      "execution_count": null,
      "metadata": {
        "id": "bAPgVdDUO41c",
        "outputId": "f27ef21f-8cd6-41d9-9a64-38d2875d1293",
        "colab": {
          "base_uri": "https://localhost:8080/"
        }
      },
      "outputs": [
        {
          "output_type": "stream",
          "name": "stdout",
          "text": [
            "\thola\n",
            "mundo\\\n"
          ]
        }
      ],
      "source": [
        "print('\\thola\\nmundo\\\\')"
      ]
    },
    {
      "cell_type": "code",
      "execution_count": null,
      "metadata": {
        "id": "fPtLbTeYO41d",
        "outputId": "7856a0ea-fa49-47d1-f9ac-2e537306053f",
        "colab": {
          "base_uri": "https://localhost:8080/",
          "height": 35
        }
      },
      "outputs": [
        {
          "output_type": "execute_result",
          "data": {
            "application/vnd.google.colaboratory.intrinsic+json": {
              "type": "string"
            },
            "text/plain": [
              "'$(-3) + 2 \\\\;x + x^{2}$'"
            ]
          },
          "metadata": {},
          "execution_count": 88
        }
      ],
      "source": [
        "Polynomial_to_LaTeX(p)"
      ]
    },
    {
      "cell_type": "markdown",
      "metadata": {
        "id": "-IWo_TxmO41d"
      },
      "source": [
        "Copy an Paster in a MarkDown cell: $(-3) + 2 \\;x + x^{2}$"
      ]
    },
    {
      "cell_type": "code",
      "execution_count": null,
      "metadata": {
        "id": "991OaqcIO41e",
        "outputId": "be9d10e0-162f-4afc-e557-27094098d7a5",
        "colab": {
          "base_uri": "https://localhost:8080/",
          "height": 38
        }
      },
      "outputs": [
        {
          "output_type": "execute_result",
          "data": {
            "text/latex": "$(-3) + 2 \\;x + x^{2}$",
            "text/plain": [
              "<IPython.core.display.Latex object>"
            ]
          },
          "metadata": {},
          "execution_count": 89
        }
      ],
      "source": [
        "Latex(Polynomial_to_LaTeX(p))"
      ]
    },
    {
      "cell_type": "markdown",
      "metadata": {
        "id": "AVB5ORK8O41e"
      },
      "source": [
        "The numpy polynomial is automatically a function of its variable $x$"
      ]
    },
    {
      "cell_type": "code",
      "execution_count": null,
      "metadata": {
        "id": "-AFl-FC7O41f",
        "outputId": "c5a25e2f-4b26-4042-faf9-36b54ad72d2d",
        "colab": {
          "base_uri": "https://localhost:8080/"
        }
      },
      "outputs": [
        {
          "output_type": "execute_result",
          "data": {
            "text/plain": [
              "1.29"
            ]
          },
          "metadata": {},
          "execution_count": 90
        }
      ],
      "source": [
        "p(1.3)"
      ]
    },
    {
      "cell_type": "markdown",
      "metadata": {
        "id": "HuqkJBhWEZV_"
      },
      "source": [
        "By default, the assigned the attribute `variable` is `x`:"
      ]
    },
    {
      "cell_type": "code",
      "execution_count": null,
      "metadata": {
        "colab": {
          "base_uri": "https://localhost:8080/",
          "height": 35
        },
        "id": "jT6FBw47EZWA",
        "outputId": "bddb530b-9fde-4f00-a3f3-71dc8f5afa83"
      },
      "outputs": [
        {
          "output_type": "execute_result",
          "data": {
            "application/vnd.google.colaboratory.intrinsic+json": {
              "type": "string"
            },
            "text/plain": [
              "'x'"
            ]
          },
          "metadata": {},
          "execution_count": 91
        }
      ],
      "source": [
        "p.variable #Atributo del objeto "
      ]
    },
    {
      "cell_type": "markdown",
      "metadata": {
        "id": "x-7Tef0-EZWC"
      },
      "source": [
        "which can be assigned at initialization "
      ]
    },
    {
      "cell_type": "code",
      "execution_count": null,
      "metadata": {
        "colab": {
          "base_uri": "https://localhost:8080/"
        },
        "id": "A8ZMzlaTEZWD",
        "outputId": "f74c4dc4-a3cc-470b-f28f-94fac83f4742"
      },
      "outputs": [
        {
          "output_type": "stream",
          "name": "stdout",
          "text": [
            "   2\n",
            "1 t + 2 t - 3\n"
          ]
        }
      ],
      "source": [
        "q = np.poly1d([1, 2, -3],variable='t')\n",
        "print(q)"
      ]
    },
    {
      "cell_type": "markdown",
      "metadata": {
        "id": "rdTyEbJvO41h"
      },
      "source": [
        "Change of variable"
      ]
    },
    {
      "cell_type": "code",
      "execution_count": null,
      "metadata": {
        "id": "EJYTw_00O41i",
        "outputId": "f10798b3-571c-4e58-90f0-ee6349ae8ab3",
        "colab": {
          "base_uri": "https://localhost:8080/"
        }
      },
      "outputs": [
        {
          "output_type": "stream",
          "name": "stdout",
          "text": [
            "   2\n",
            "1 x + 2 x - 3\n"
          ]
        }
      ],
      "source": [
        "p = np.poly1d([1, 2, -3])\n",
        "print(p)"
      ]
    },
    {
      "cell_type": "code",
      "execution_count": null,
      "metadata": {
        "id": "XwY59fYvO41i",
        "outputId": "b63db07a-7a01-4ade-e289-8f230c36cf3d",
        "colab": {
          "base_uri": "https://localhost:8080/"
        }
      },
      "outputs": [
        {
          "output_type": "execute_result",
          "data": {
            "text/plain": [
              "array([ 1,  2, -3])"
            ]
          },
          "metadata": {},
          "execution_count": 94
        }
      ],
      "source": [
        "p.coef"
      ]
    },
    {
      "cell_type": "code",
      "execution_count": null,
      "metadata": {
        "id": "ogAHVjdJO41j",
        "outputId": "4c64aed4-7c83-43bc-9ca2-fbdab196c038",
        "colab": {
          "base_uri": "https://localhost:8080/"
        }
      },
      "outputs": [
        {
          "output_type": "stream",
          "name": "stdout",
          "text": [
            "   2\n",
            "1 t + 2 t - 3\n"
          ]
        }
      ],
      "source": [
        "pp=np.poly1d(p.coef,variable='t')\n",
        "print(pp)"
      ]
    },
    {
      "cell_type": "markdown",
      "metadata": {
        "id": "nU9YfizFO41j"
      },
      "source": [
        "Polynomial can be added but not multiplied, simplified or expanded"
      ]
    },
    {
      "cell_type": "code",
      "execution_count": null,
      "metadata": {
        "id": "VKHBxeU9O41j",
        "outputId": "08575da5-87a9-4168-ea76-5f3fb4935b27",
        "colab": {
          "base_uri": "https://localhost:8080/"
        }
      },
      "outputs": [
        {
          "output_type": "stream",
          "name": "stdout",
          "text": [
            "p1(x)= \n",
            "1 x + 1\n",
            "********************\n",
            "p2(x)= \n",
            "-1 x + 1\n",
            "********************\n",
            "p1(x)+p2(x)= \n",
            "2\n"
          ]
        }
      ],
      "source": [
        "p1=np.poly1d([1,1]) #Sólo es posible sumar polinomios\n",
        "print('p1(x)={}'.format(p1))\n",
        "print('*'*20)\n",
        "p2=np.poly1d([-1,1])\n",
        "print('p2(x)={}'.format(p2))\n",
        "print('*'*20)\n",
        "print('p1(x)+p2(x)={}'.format(p1+p2))"
      ]
    },
    {
      "cell_type": "code",
      "execution_count": null,
      "metadata": {
        "id": "KxJhSST_O41k",
        "outputId": "f0c22734-7c93-4b37-e0e8-cc8e7d050a68",
        "colab": {
          "base_uri": "https://localhost:8080/"
        }
      },
      "outputs": [
        {
          "output_type": "execute_result",
          "data": {
            "text/plain": [
              "poly1d([2])"
            ]
          },
          "metadata": {},
          "execution_count": 97
        }
      ],
      "source": [
        "p1+p2"
      ]
    },
    {
      "cell_type": "code",
      "execution_count": null,
      "metadata": {
        "id": "mgYPPqMnO41k",
        "outputId": "7ceda19c-4063-4f45-bea3-ccb460dd6846",
        "colab": {
          "base_uri": "https://localhost:8080/"
        }
      },
      "outputs": [
        {
          "output_type": "stream",
          "name": "stdout",
          "text": [
            " \n",
            "2\n"
          ]
        }
      ],
      "source": [
        "print(p1+p2)"
      ]
    },
    {
      "cell_type": "markdown",
      "metadata": {
        "id": "hDgtm5VCEZWF"
      },
      "source": [
        "The object have in particular methods for <br/>\n",
        "__Integration__:"
      ]
    },
    {
      "cell_type": "code",
      "execution_count": null,
      "metadata": {
        "id": "wHG00VVEO41l",
        "outputId": "259c2f15-618c-42a1-caa5-921596084a89",
        "colab": {
          "base_uri": "https://localhost:8080/"
        }
      },
      "outputs": [
        {
          "output_type": "stream",
          "name": "stdout",
          "text": [
            "   2\n",
            "1 x + 2 x - 3\n"
          ]
        }
      ],
      "source": [
        "print(p)"
      ]
    },
    {
      "cell_type": "code",
      "execution_count": null,
      "metadata": {
        "colab": {
          "base_uri": "https://localhost:8080/"
        },
        "id": "nMJq0CrOEZWG",
        "outputId": "2d05ef24-07d7-41d7-a05a-cc9ae027a89c"
      },
      "outputs": [
        {
          "output_type": "stream",
          "name": "stdout",
          "text": [
            "        3     2\n",
            "0.3333 x + 1 x - 3 x\n"
          ]
        }
      ],
      "source": [
        "p = np.poly1d([1, 2, -3])\n",
        "print( p.integ() )"
      ]
    },
    {
      "cell_type": "code",
      "execution_count": null,
      "metadata": {
        "id": "faMXmdyAO41l",
        "outputId": "6bf0a4d6-2a44-4d71-b9d2-a89ceca38542",
        "colab": {
          "base_uri": "https://localhost:8080/"
        }
      },
      "outputs": [
        {
          "output_type": "execute_result",
          "data": {
            "text/plain": [
              "array([ 0.33333333,  1.        , -3.        ,  0.        ])"
            ]
          },
          "metadata": {},
          "execution_count": 101
        }
      ],
      "source": [
        "p.integ().coef"
      ]
    },
    {
      "cell_type": "markdown",
      "metadata": {
        "id": "JVolgx0wEZWI"
      },
      "source": [
        "__Derivatives__"
      ]
    },
    {
      "cell_type": "code",
      "source": [
        "print(p)"
      ],
      "metadata": {
        "colab": {
          "base_uri": "https://localhost:8080/"
        },
        "id": "S3csybAtQ2Mk",
        "outputId": "c3756f70-521f-41a9-cab3-38b3a162e142"
      },
      "execution_count": null,
      "outputs": [
        {
          "output_type": "stream",
          "name": "stdout",
          "text": [
            "   2\n",
            "1 x + 2 x - 3\n"
          ]
        }
      ]
    },
    {
      "cell_type": "code",
      "execution_count": null,
      "metadata": {
        "colab": {
          "base_uri": "https://localhost:8080/"
        },
        "id": "fVS5U1bBEZWJ",
        "outputId": "87ebde44-a916-4277-a7eb-6475e1a2a165"
      },
      "outputs": [
        {
          "output_type": "stream",
          "name": "stdout",
          "text": [
            " \n",
            "2 x + 2\n"
          ]
        }
      ],
      "source": [
        "print( p.deriv() )"
      ]
    },
    {
      "cell_type": "markdown",
      "metadata": {
        "id": "R8f3r0yOEZWN"
      },
      "source": [
        "__roots__:"
      ]
    },
    {
      "cell_type": "code",
      "execution_count": null,
      "metadata": {
        "colab": {
          "base_uri": "https://localhost:8080/"
        },
        "id": "Md4Q2gmNEZWO",
        "outputId": "5ff5aeed-dbcb-46ff-eac8-17c689c49b28"
      },
      "outputs": [
        {
          "output_type": "stream",
          "name": "stdout",
          "text": [
            "[-3.  1.]\n"
          ]
        }
      ],
      "source": [
        "#setup_typeset() #active colab pretty print\n",
        "print(p.roots)"
      ]
    },
    {
      "cell_type": "code",
      "source": [
        "p(-3)"
      ],
      "metadata": {
        "colab": {
          "base_uri": "https://localhost:8080/"
        },
        "id": "numFY27kREJW",
        "outputId": "33dd4fe2-b16f-47db-a311-9e0f9d545683"
      },
      "execution_count": null,
      "outputs": [
        {
          "output_type": "execute_result",
          "data": {
            "text/plain": [
              "0"
            ]
          },
          "metadata": {},
          "execution_count": 105
        }
      ]
    },
    {
      "cell_type": "code",
      "source": [
        "p(1)"
      ],
      "metadata": {
        "colab": {
          "base_uri": "https://localhost:8080/"
        },
        "id": "9HBGhj9FRGoI",
        "outputId": "0f648906-6687-43d5-859f-e8410666494f"
      },
      "execution_count": null,
      "outputs": [
        {
          "output_type": "execute_result",
          "data": {
            "text/plain": [
              "0"
            ]
          },
          "metadata": {},
          "execution_count": 106
        }
      ]
    },
    {
      "cell_type": "code",
      "execution_count": null,
      "metadata": {
        "id": "f5NIEFHpO41n",
        "outputId": "5065f94c-8a46-4b7a-c42f-fc8e4febbc5b",
        "colab": {
          "base_uri": "https://localhost:8080/",
          "height": 34
        }
      },
      "outputs": [
        {
          "output_type": "execute_result",
          "data": {
            "text/latex": "$p(-3.0)$=1.7763568394002505e-15",
            "text/plain": [
              "<IPython.core.display.Latex object>"
            ]
          },
          "metadata": {},
          "execution_count": 107
        }
      ],
      "source": [
        "Latex( '$p({})$={}'.format(round(p.roots[0],1),\n",
        "                                      p((p.roots[0] )  ) ) )"
      ]
    },
    {
      "cell_type": "code",
      "execution_count": null,
      "metadata": {
        "id": "paiE6fBpO41n",
        "outputId": "d4bb187c-227b-48bd-d183-c170b751d0b3",
        "colab": {
          "base_uri": "https://localhost:8080/",
          "height": 34
        }
      },
      "outputs": [
        {
          "output_type": "execute_result",
          "data": {
            "text/latex": "$p(-3.0)$=1.7763568394002505e-15",
            "text/plain": [
              "<IPython.core.display.Latex object>"
            ]
          },
          "metadata": {},
          "execution_count": 108
        }
      ],
      "source": [
        "Latex( f'$p({round(p.roots[0],0)})$={p(p.roots[0])}' )\n",
        "                                    "
      ]
    },
    {
      "cell_type": "markdown",
      "metadata": {
        "id": "1NLa6wh1EZWQ"
      },
      "source": [
        " It is possible to define polynomial by given the list of roots and "
      ]
    },
    {
      "cell_type": "code",
      "execution_count": null,
      "metadata": {
        "colab": {
          "base_uri": "https://localhost:8080/"
        },
        "id": "E67K42bQEZWR",
        "outputId": "bcb7fa51-5e25-4e15-a219-43734e203eb1"
      },
      "outputs": [
        {
          "output_type": "stream",
          "name": "stdout",
          "text": [
            "   4             2\n",
            "1 x - 6.221e+04 x + 9.698e+07\n"
          ]
        }
      ],
      "source": [
        "p=np.poly1d([-246.2,-40,40,246.2],r=True) #Genera un pilonomio dadas sus raices\n",
        "print(p)"
      ]
    },
    {
      "cell_type": "code",
      "execution_count": null,
      "metadata": {
        "id": "J7v522AyO41o",
        "outputId": "1b165ec2-334e-4ad1-c234-7ea6576eb2e4",
        "colab": {
          "base_uri": "https://localhost:8080/"
        }
      },
      "outputs": [
        {
          "output_type": "execute_result",
          "data": {
            "text/plain": [
              "1.4901161193847656e-08"
            ]
          },
          "metadata": {},
          "execution_count": 110
        }
      ],
      "source": [
        "p(-40)"
      ]
    },
    {
      "cell_type": "code",
      "source": [
        "p.roots"
      ],
      "metadata": {
        "colab": {
          "base_uri": "https://localhost:8080/"
        },
        "id": "CX5UyjtmRdAK",
        "outputId": "a800b2f5-d9ef-4e0a-ea18-2d948cb46f85"
      },
      "execution_count": null,
      "outputs": [
        {
          "output_type": "execute_result",
          "data": {
            "text/plain": [
              "array([ 246.2, -246.2,  -40. ,   40. ])"
            ]
          },
          "metadata": {},
          "execution_count": 111
        }
      ]
    },
    {
      "cell_type": "markdown",
      "metadata": {
        "id": "GSuuNnvMEZWU"
      },
      "source": [
        "For further details check the official help:"
      ]
    },
    {
      "cell_type": "code",
      "execution_count": null,
      "metadata": {
        "id": "n5GOuKoeEZWV"
      },
      "outputs": [],
      "source": [
        "np.poly1d?"
      ]
    },
    {
      "cell_type": "markdown",
      "metadata": {
        "id": "3cs7-2egEZWW"
      },
      "source": [
        "__Activity__:  Movement with uniform acceleration\n",
        "1. Define a polynomial for the movement with uniform acceleration:\n",
        "\\begin{align}\n",
        "x(t)=x_0+v_0 (t-t_0)+\\tfrac{1}{2} a (t-t_0)^2 \\,,\n",
        "\\end{align}\n",
        "2. Use the previous formula expressed as polynomial of degree 2, to solve the following problem with `np.poly1d`: \n",
        "    * A car departs from rest with a constant acceleration of $6ms^{-2}$ \n",
        "\n",
        "and travels through a flat and straight road. 10 seconds later a second pass for the same starting point and in the same direction with an initial speed of $10~\\text{m}\\cdot\\text{s}^{-1}$ and a constant acelleration of $10~\\text{m}\\cdot\\text{s}^{-2}$. Find the time and distance at which the two cars meet.\n",
        "    \n",
        "_Hint_. \n",
        "\\begin{align}\n",
        "x(t)=x_0-v_0t_0+\\frac{1}{2}at_0^2 +(v_0-at_0)t+\\tfrac{1}{2} a t^2 \n",
        "\\end{align}\n"
      ]
    },
    {
      "cell_type": "code",
      "execution_count": null,
      "metadata": {
        "id": "uLa5tIPeO41p"
      },
      "outputs": [],
      "source": [
        "x0=0\n",
        "t0=0\n",
        "v0=0\n",
        "a=6 #m/s^2\n",
        "x_1=np.poly1d([0.5*a,v0-a*t0,x0-v0*t0+0.5*a*t0**2],variable='t') #El polinomio empieza definiendose desde el coeficiente mayor\n",
        "x0=0\n",
        "t0=10 #s\n",
        "v0=10 #m/s\n",
        "a=10 #m/s^2\n",
        "x_2=np.poly1d([0.5*a,v0-a*t0,x0-v0*t0+0.5*a*t0**2],variable='t')"
      ]
    },
    {
      "cell_type": "code",
      "execution_count": null,
      "metadata": {
        "id": "3LmQ1FuyO41q",
        "outputId": "db663014-9c55-414d-bad2-322e6eff3184",
        "colab": {
          "base_uri": "https://localhost:8080/"
        }
      },
      "outputs": [
        {
          "output_type": "stream",
          "name": "stdout",
          "text": [
            "   2\n",
            "3 t\n"
          ]
        }
      ],
      "source": [
        "print(x_1)"
      ]
    },
    {
      "cell_type": "code",
      "execution_count": null,
      "metadata": {
        "id": "Zfc8RlgsO41q",
        "outputId": "45a3494a-4ff2-477c-b555-743c172f61af",
        "colab": {
          "base_uri": "https://localhost:8080/"
        }
      },
      "outputs": [
        {
          "output_type": "stream",
          "name": "stdout",
          "text": [
            "   2\n",
            "5 t - 90 t + 400\n"
          ]
        }
      ],
      "source": [
        "print(x_2)"
      ]
    },
    {
      "cell_type": "markdown",
      "metadata": {
        "id": "smN1y6pyEZWX"
      },
      "source": [
        "<!-- ### <font color=red>Solution</font>\n",
        "setup_typeset() #active colab pretty print\n",
        "def x(x0,t0,v0,a):\n",
        "    return np.poly1d( [0.5*a,v0-a*t0,x0-v0*t0+0.5*a*t0**2],\n",
        "                     variable='t'  )\n",
        "x1=x(0,0,0,6)\n",
        "x2=x(0,10,10,10)\n",
        "display(Latex('$x_1(t)=$'))\n",
        "print(x1) \n",
        "display(Latex('$x_2(t)=$'))\n",
        "print(x2)\n",
        "t=np.linspace(0,45,100)\n",
        "plt.plot(t,x2(t)-x1(t))\n",
        "plt.grid()\n",
        "#plt.plot(t,(x2-x1)(t))\n",
        "#plt.grid()\n",
        "#Physica solution is the one after 10s\n",
        "Latex(r'meeting time $t_{\\rm end}=$ %g s; meeting point $x_{\\rm end}=$ %g m' \n",
        "          %(  (x2-x1).r[0]  ,  x2(  (x2-x1).r[0]  )   )) \n",
        "#plt.plot(t,x2(t),'ro')\n",
        "#plt.plot(t,x2(t),'k-')\n",
        "#plt.xlim(10,15)\n",
        "#plt.ylim(0,200)          \n",
        "          -->"
      ]
    },
    {
      "cell_type": "markdown",
      "metadata": {
        "id": "a4NLSv3wO41r"
      },
      "source": [
        "Sea el tiempo de encuentro definido $t_e$\n",
        "$$x_1(t_e)=x_2(t_e)\\,,$$\n",
        "que se interpreta como\n",
        "$$x_1(t_e)-x_2(t_e)=0\\,,$$\n",
        "Puedo definir un nuevo polinomio\n",
        "$$\n",
        "x(t)=x_1(t)-x_2(t)\n",
        "$$\n",
        "Entonces $t_e$, es la raíz del polinomio $x(t)$\n"
      ]
    },
    {
      "cell_type": "code",
      "execution_count": null,
      "metadata": {
        "id": "Vej7LjjdO41r",
        "outputId": "c61f4e10-2808-43ad-f2d9-2dbcbe9c97b6",
        "colab": {
          "base_uri": "https://localhost:8080/"
        }
      },
      "outputs": [
        {
          "output_type": "stream",
          "name": "stdout",
          "text": [
            "    2\n",
            "-2 x + 90 x - 400\n"
          ]
        }
      ],
      "source": [
        "x=x_1-x_2\n",
        "print(x)"
      ]
    },
    {
      "cell_type": "code",
      "execution_count": null,
      "metadata": {
        "id": "N4UMDtGrO41r",
        "outputId": "dccebe0b-8528-46a4-f673-bc3fe600b896",
        "colab": {
          "base_uri": "https://localhost:8080/"
        }
      },
      "outputs": [
        {
          "output_type": "execute_result",
          "data": {
            "text/plain": [
              "array([40.,  5.])"
            ]
          },
          "metadata": {},
          "execution_count": 117
        }
      ],
      "source": [
        "x.roots"
      ]
    },
    {
      "cell_type": "markdown",
      "metadata": {
        "id": "nBi_kk3yO41r"
      },
      "source": [
        "La raíz 5 no es física porque el tiempo incial para el segundo carro es 10 "
      ]
    },
    {
      "cell_type": "code",
      "execution_count": null,
      "metadata": {
        "id": "8raokk1cO41s",
        "outputId": "8d3b9828-716d-4359-d6af-f0d0cb5d331c",
        "colab": {
          "base_uri": "https://localhost:8080/"
        }
      },
      "outputs": [
        {
          "output_type": "execute_result",
          "data": {
            "text/plain": [
              "4800.0"
            ]
          },
          "metadata": {},
          "execution_count": 118
        }
      ],
      "source": [
        "x_1(40)"
      ]
    },
    {
      "cell_type": "code",
      "execution_count": null,
      "metadata": {
        "id": "jymyGiOPO41s",
        "outputId": "64a80bdf-9490-4701-eaf0-5770eacd2e1a",
        "colab": {
          "base_uri": "https://localhost:8080/"
        }
      },
      "outputs": [
        {
          "output_type": "execute_result",
          "data": {
            "text/plain": [
              "4800.0"
            ]
          },
          "metadata": {},
          "execution_count": 119
        }
      ],
      "source": [
        "x_2(40)"
      ]
    },
    {
      "cell_type": "code",
      "execution_count": null,
      "metadata": {
        "id": "D-h5kcwhO41s",
        "outputId": "f9e2ff79-288b-4bdf-b108-06409288441c",
        "colab": {
          "base_uri": "https://localhost:8080/",
          "height": 410
        }
      },
      "outputs": [
        {
          "output_type": "display_data",
          "data": {
            "text/html": [
              "\n",
              "      <script src=\"https://www.gstatic.com/external_hosted/mathjax/latest/MathJax.js?config=TeX-AMS_HTML-full,Safe&delayStartupUntil=configured\"></script>\n",
              "      <script>\n",
              "        (() => {\n",
              "          const mathjax = window.MathJax;\n",
              "          mathjax.Hub.Config({\n",
              "          'tex2jax': {\n",
              "            'inlineMath': [['$', '$'], ['\\(', '\\)']],\n",
              "            'displayMath': [['$$', '$$'], ['\\[', '\\]']],\n",
              "            'processEscapes': true,\n",
              "            'processEnvironments': true,\n",
              "            'skipTags': ['script', 'noscript', 'style', 'textarea', 'code'],\n",
              "            'displayAlign': 'center',\n",
              "          },\n",
              "          'HTML-CSS': {\n",
              "            'styles': {'.MathJax_Display': {'margin': 0}},\n",
              "            'linebreaks': {'automatic': true},\n",
              "            // Disable to prevent OTF font loading, which aren't part of our\n",
              "            // distribution.\n",
              "            'imageFont': null,\n",
              "          },\n",
              "          'messageStyle': 'none'\n",
              "        });\n",
              "        mathjax.Hub.Configured();\n",
              "      })();\n",
              "      </script>\n",
              "      "
            ],
            "text/plain": [
              "<IPython.core.display.HTML object>"
            ]
          },
          "metadata": {}
        },
        {
          "output_type": "display_data",
          "data": {
            "text/latex": "$x_1(t)=$",
            "text/plain": [
              "<IPython.core.display.Latex object>"
            ]
          },
          "metadata": {}
        },
        {
          "output_type": "stream",
          "name": "stdout",
          "text": [
            "   2\n",
            "3 t\n"
          ]
        },
        {
          "output_type": "display_data",
          "data": {
            "text/latex": "$x_2(t)=$",
            "text/plain": [
              "<IPython.core.display.Latex object>"
            ]
          },
          "metadata": {}
        },
        {
          "output_type": "stream",
          "name": "stdout",
          "text": [
            "   2\n",
            "5 t - 90 t + 400\n"
          ]
        },
        {
          "output_type": "execute_result",
          "data": {
            "text/latex": "meeting time $t_{\\rm end}=$ 40 s; meeting point $x_{\\rm end}=$ 4800 m",
            "text/plain": [
              "<IPython.core.display.Latex object>"
            ]
          },
          "metadata": {},
          "execution_count": 120
        },
        {
          "output_type": "display_data",
          "data": {
            "image/png": "[encoded data removed]",
            "text/plain": [
              "<Figure size 432x288 with 1 Axes>"
            ]
          },
          "metadata": {
            "needs_background": "light"
          }
        }
      ],
      "source": [
        "setup_typeset() #active colab pretty print\n",
        "def x(x0,t0,v0,a):\n",
        "    return np.poly1d( [0.5*a,v0-a*t0,x0-v0*t0+0.5*a*t0**2],\n",
        "                     variable='t'  )\n",
        "x1=x(0,0,0,6)\n",
        "x2=x(0,10,10,10)\n",
        "display(Latex('$x_1(t)=$'))\n",
        "print(x1) \n",
        "display(Latex('$x_2(t)=$'))\n",
        "print(x2)\n",
        "t=np.linspace(0,45,100)\n",
        "plt.plot(t,x2(t)-x1(t))\n",
        "plt.xlabel('$t$ [s]')\n",
        "plt.ylabel('$x_2(t)-x_1(t)$ [m]')\n",
        "plt.grid()\n",
        "#plt.plot(t,(x2-x1)(t))\n",
        "#plt.grid()\n",
        "#Physica solution is the one after 10s\n",
        "Latex(r'meeting time $t_{\\rm end}=$ %g s; meeting point $x_{\\rm end}=$ %g m' \n",
        "          %(  (x2-x1).r[0]  ,  x2(  (x2-x1).r[0]  )   )) \n",
        "#plt.plot(t,x2(t),'ro')\n",
        "#plt.plot(t,x2(t),'k-')\n",
        "#plt.xlim(10,15)\n",
        "#plt.ylim(0,200)          "
      ]
    },
    {
      "cell_type": "code",
      "execution_count": null,
      "metadata": {
        "id": "8i6nRoXmO41t",
        "outputId": "21ea5f9f-f132-497a-9238-5e6afdad2815",
        "colab": {
          "base_uri": "https://localhost:8080/"
        }
      },
      "outputs": [
        {
          "output_type": "stream",
          "name": "stdout",
          "text": [
            " \n",
            "10 x - 90\n"
          ]
        }
      ],
      "source": [
        "v=x_2.deriv()\n",
        "print(v)"
      ]
    },
    {
      "cell_type": "code",
      "execution_count": null,
      "metadata": {
        "id": "_kl1xjZ2O41t",
        "outputId": "8d4bcb93-6746-466b-8ac3-e04759b26cae",
        "colab": {
          "base_uri": "https://localhost:8080/"
        }
      },
      "outputs": [
        {
          "output_type": "stream",
          "name": "stdout",
          "text": [
            " \n",
            "10\n"
          ]
        }
      ],
      "source": [
        "print(v.deriv())"
      ]
    },
    {
      "cell_type": "markdown",
      "metadata": {
        "id": "vWJZfq_YEZWe"
      },
      "source": [
        "# Linear Interpolation"
      ]
    },
    {
      "cell_type": "markdown",
      "metadata": {
        "id": "wGj1U7PmEZWe"
      },
      "source": [
        "When we have a set of discrete points of the form $(x_i, y_i)$ for $1\\leq i \\leq N$, the most natural way to obtain (approximate) any intermediate value is assuming points connected by lines. Let's assume a set of points $(x_i, y_i)$ such that $y_i = f(x_i)$ for an unknown function $f(x)$, if we want to approximate the value $f(x)$ for $x_i\\leq x \\leq x_{i+1}$, we construct an equation of a line passing through $(x_i,y_i)$ and $(x_{i+1},y_{i+1})$.\n",
        "\n",
        "The linear equation is\n",
        "\n",
        "$$y=mx+b$$\n",
        "\n",
        "where\n",
        "\n",
        "$$m=\\frac{y_{i+1}-y_i}{x_{i+1}-x_i} $$\n",
        "\n",
        "and $b$ is obtained by evaluating with either $(x_i,y_i)$ or $(x_{i+1},y_{i+1})$\n",
        "\n",
        "$$y=\\frac{y_{i+1}-y_i}{x_{i+1}-x_i}x+b$$\n",
        "\n",
        "$$b=y_i-\\frac{y_{i+1}-y_i}{x_{i+1}-x_i}x_i$$\n",
        "\n",
        "\n",
        "\\begin{align}\n",
        "%$$  \n",
        "f(x)\\approx y = &\\frac{y_{i+1}-y_i}{x_{i+1}-x_i}(x-x_i) + y_i \\\\\n",
        "=&\\frac{y_{i+1}-y_i}{x_{i+1}-x_i}x+\\left[y_i-\\frac{y_{i+1}-y_i}{x_{i+1}-x_i}x_i\\right] \\\\\n",
        "%$$\n",
        "\\end{align}\n",
        "\n",
        "and this can be applied for any $x$ such that $x_0\\leq x \\leq x_N$ and where it has been assumed an ordered set $\\left\\{x_i\\right\\}_i$."
      ]
    },
    {
      "cell_type": "markdown",
      "metadata": {
        "id": "WsnL9PoDEZWi"
      },
      "source": [
        "## Steps LI"
      ]
    },
    {
      "cell_type": "markdown",
      "metadata": {
        "id": "w4MSYnO6EZWi"
      },
      "source": [
        "Once defined the mathematical basis behind linear interpolation, we proceed to establish the algorithmic steps for an implementation.\n",
        "\n",
        "1. Establish the dataset you want to interpolate, i.e. you must provide a set of the form $(x_i,y_i)$.\n",
        "2. Give the value $x$ where you want to approximate the value $f(x)$.\n",
        "3. Find the interval $[x_i, x_{i+1}]$ in which $x$ is embedded.\n",
        "4. Use the above expression in order to find $y=f(x)$."
      ]
    },
    {
      "cell_type": "markdown",
      "metadata": {
        "id": "0Gmn6NAdjz1W"
      },
      "source": [
        "To make the linear interpolation we will use"
      ]
    },
    {
      "cell_type": "code",
      "execution_count": null,
      "metadata": {
        "id": "bzCHHksPEZWn"
      },
      "outputs": [],
      "source": [
        "import scipy as sp\n",
        "sp.interpolate.interp1d?"
      ]
    },
    {
      "cell_type": "code",
      "source": [
        "from scipy import interpolate "
      ],
      "metadata": {
        "id": "Q9tBadqwXmq6"
      },
      "execution_count": null,
      "outputs": []
    },
    {
      "cell_type": "markdown",
      "metadata": {
        "id": "epbBukAVjz1Z"
      },
      "source": [
        "The option `kind` specifies the kind of interpolation: \n",
        "* `'linear', 'nearest', 'zero', 'slinear', 'quadratic', 'cubic'`,\n",
        "    where `'zero', 'slinear', 'quadratic' and 'cubic'` refer to a spline\n",
        "    interpolation of zeroth, first, second or third order) \n",
        "* or as an\n",
        "    integer specifying the order of the spline interpolator to use.\n",
        "\n",
        "Default is `'linear'` correponding to integer 1."
      ]
    },
    {
      "cell_type": "markdown",
      "metadata": {
        "id": "OZXQtU4WEZWj"
      },
      "source": [
        "## Example 1"
      ]
    },
    {
      "cell_type": "markdown",
      "metadata": {
        "id": "Jb7eChUUEZWk"
      },
      "source": [
        "Sample the function $f(x) = \\sin(x)$ between $0$ and $10$ using $N=10$ points (9 intervals). Plot both, the interpolation and the original function."
      ]
    },
    {
      "cell_type": "code",
      "execution_count": null,
      "metadata": {
        "id": "5G1t56pnjz1a"
      },
      "outputs": [],
      "source": [
        "import scipy as sp\n",
        "from scipy import interpolate "
      ]
    },
    {
      "cell_type": "markdown",
      "metadata": {
        "id": "A0mxSeRjk1T6"
      },
      "source": [
        "`sp` reemplaza completamente a numpy con `np`"
      ]
    },
    {
      "cell_type": "markdown",
      "metadata": {
        "id": "sB0lNqKIEZWn"
      },
      "source": [
        "Interpolation with 9 equal intervals"
      ]
    },
    {
      "cell_type": "code",
      "execution_count": null,
      "metadata": {
        "id": "BaCvQYBoEZWp"
      },
      "outputs": [],
      "source": [
        "n_points = 10\n",
        "x=np.linspace(0, 2*np.pi, n_points)\n",
        "f=interpolate.interp1d( x,np.sin(x),kind='linear' )"
      ]
    },
    {
      "cell_type": "markdown",
      "metadata": {
        "id": "IFSu7iE6jz1g"
      },
      "source": [
        "Plotting the results adding the real function with enough points"
      ]
    },
    {
      "cell_type": "code",
      "execution_count": null,
      "metadata": {
        "colab": {
          "base_uri": "https://localhost:8080/",
          "height": 411
        },
        "id": "3Ggn5WacEZWq",
        "outputId": "17971086-2621-4f0b-a0b6-8e5525c180da"
      },
      "outputs": [
        {
          "output_type": "display_data",
          "data": {
            "image/png": "[encoded data removed]",
            "text/plain": [
              "<Figure size 864x432 with 1 Axes>"
            ]
          },
          "metadata": {
            "needs_background": "light"
          }
        }
      ],
      "source": [
        "Ninter = 100\n",
        "X=np.linspace(0, 2*np.pi, Ninter)\n",
        "plt.figure( figsize=(12,6) )\n",
        "plt.plot(x,f(x),'ro',label='Data')\n",
        "plt.plot(X,f(X),'k-',lw=3,label='linear interpolation')\n",
        "plt.plot(X,np.sin(X),'c-',label='real function')\n",
        "\n",
        "#Formatting\n",
        "plt.plot(2.35,f(2.35),'y*',markersize=10,label='sample point')\n",
        "plt.title( \"Linear interpolation of $\\sin(x)$\" )\n",
        "plt.legend()\n",
        "plt.xlabel( \"$x$\",size=15 )\n",
        "plt.ylabel( \"$y$\",size=15 )\n",
        "plt.grid()"
      ]
    },
    {
      "cell_type": "markdown",
      "metadata": {
        "id": "QeCb12m0jz1j"
      },
      "source": [
        "Other `kind` values: 0,1,2"
      ]
    },
    {
      "cell_type": "code",
      "execution_count": null,
      "metadata": {
        "colab": {
          "base_uri": "https://localhost:8080/"
        },
        "id": "yPis66gEmHSY",
        "outputId": "165a1bf3-9b8f-4b69-9df4-89ad71f03d2a"
      },
      "outputs": [
        {
          "output_type": "stream",
          "name": "stdout",
          "text": [
            "Populating the interactive namespace from numpy and matplotlib\n"
          ]
        },
        {
          "output_type": "stream",
          "name": "stderr",
          "text": [
            "/usr/local/lib/python3.7/dist-packages/IPython/core/magics/pylab.py:161: UserWarning: pylab import has clobbered these variables: ['f']\n",
            "`%matplotlib` prevents importing * from pylab and numpy\n",
            "  \"\\n`%matplotlib` prevents importing * from pylab and numpy\"\n"
          ]
        }
      ],
      "source": [
        "%pylab inline"
      ]
    },
    {
      "cell_type": "code",
      "source": [
        "import matplotlib.pyplot as plt\n"
      ],
      "metadata": {
        "id": "z3uejCv2aKNn"
      },
      "execution_count": null,
      "outputs": []
    },
    {
      "cell_type": "code",
      "execution_count": null,
      "metadata": {
        "colab": {
          "base_uri": "https://localhost:8080/",
          "height": 411
        },
        "id": "pvnSUdF8jz1k",
        "outputId": "92281c0e-5726-4b87-af71-9d9b80ae7c22"
      },
      "outputs": [
        {
          "output_type": "display_data",
          "data": {
            "image/png": "[encoded data removed]",
            "text/plain": [
              "<Figure size 864x432 with 1 Axes>"
            ]
          },
          "metadata": {
            "needs_background": "light"
          }
        }
      ],
      "source": [
        "n_points = 10\n",
        "x=np.linspace(0, 2*np.pi, n_points)\n",
        "Ninter = 100\n",
        "X=np.linspace(0, 2*np.pi, Ninter)\n",
        "plt.figure( figsize=(12,6) )\n",
        "plt.plot(x,np.sin(x),'ro',label='Data')\n",
        "plt.plot(X,np.sin(X),'c-',label='real function')\n",
        "\n",
        "plt.plot(X,interpolate.interp1d( x,np.sin(x),kind=0)(X), #kind=0 interpolación con líneas horizontales y verticales\n",
        "         'g--',lw=1,label='interpolation with horizontal lines')\n",
        "plt.plot(X,interpolate.interp1d( x,np.sin(x),kind=1)(X),   #kind=1 interpolación con líneas rectas\n",
        "         'k-',lw=1,label='linear interpolation')\n",
        "plt.plot(X,interpolate.interp1d( x,np.sin(x),kind=2)(X),  #kind=2 interpolación con polinomios de grado 2\n",
        "         'r:',lw=1,label='quadratic interpolation')\n",
        "plt.plot(X,interpolate.interp1d( x,np.sin(x),kind=3)(X),\n",
        "         'k:',lw=1,label='quadratic interpolation')\n",
        "\n",
        "#Formatting\n",
        "plt.plot(2.35,f(2.35),'y*',markersize=10,label='sample point')\n",
        "plt.title( \"Linear interpolation of $\\sin(x)$\" )\n",
        "plt.legend()\n",
        "plt.xlabel( \"$x$\",size=15 )\n",
        "plt.ylabel( \"$y$\",size=15 )\n",
        "\n",
        "#Formatting\n",
        "plt.title( \"Linear interpolation of $\\sin(x)$\" )\n",
        "plt.legend()\n",
        "plt.xlabel( \"$x$\",size=15 )\n",
        "plt.ylabel( \"$y$\",size=15 )\n",
        "plt.grid()"
      ]
    },
    {
      "cell_type": "markdown",
      "metadata": {
        "id": "AyEnMaaqjz1m"
      },
      "source": [
        "We can see that the data poinst are just joined by straight lines:"
      ]
    },
    {
      "cell_type": "code",
      "execution_count": null,
      "metadata": {
        "colab": {
          "base_uri": "https://localhost:8080/"
        },
        "id": "g7QLUR5MEZWs",
        "outputId": "5ed93191-034c-4df8-d780-955b8ab52d78"
      },
      "outputs": [
        {
          "output_type": "execute_result",
          "data": {
            "text/plain": [
              "(array(0.67417291), 0.7114733527908443)"
            ]
          },
          "metadata": {},
          "execution_count": 139
        }
      ],
      "source": [
        "f(2.35),np.sin(2.35)"
      ]
    },
    {
      "cell_type": "markdown",
      "metadata": {
        "id": "Gn2sL8iZEZWu"
      },
      "source": [
        "However, the object `f` behaves like a function. For example. We can evaluate both the real and the interpolated function in $x_0=3$"
      ]
    },
    {
      "cell_type": "code",
      "execution_count": null,
      "metadata": {
        "colab": {
          "base_uri": "https://localhost:8080/"
        },
        "id": "c0Hix__AEZWu",
        "outputId": "a62b9311-188c-4d0f-cc22-fc2fbcd5b5ee"
      },
      "outputs": [
        {
          "output_type": "execute_result",
          "data": {
            "text/plain": [
              "0.1411200080598672"
            ]
          },
          "metadata": {},
          "execution_count": 140
        }
      ],
      "source": [
        "np.sin(3)"
      ]
    },
    {
      "cell_type": "code",
      "execution_count": null,
      "metadata": {
        "colab": {
          "base_uri": "https://localhost:8080/"
        },
        "id": "-skeqhluEZWx",
        "outputId": "55e781d7-718c-48e2-ca0d-cf153f30b64e"
      },
      "outputs": [
        {
          "output_type": "execute_result",
          "data": {
            "text/plain": [
              "array(0.13873468)"
            ]
          },
          "metadata": {},
          "execution_count": 141
        }
      ],
      "source": [
        "f(3)"
      ]
    },
    {
      "cell_type": "markdown",
      "metadata": {
        "id": "fv_29O5rEZW2"
      },
      "source": [
        "**Activity**   \n",
        "    \n",
        "Use the previous code and explore the behaviour of the Linear Interpolation algorithm when varying the number of data used."
      ]
    },
    {
      "cell_type": "markdown",
      "metadata": {
        "id": "CPc-9Ql1EZW3"
      },
      "source": [
        "<!--\n",
        "N=20\n",
        "x=np.linspace(0,6,N)\n",
        "f=interpolate.interp1d( x,np.sin(x) )\n",
        "X=np.linspace(0,6,100)\n",
        "plt.plot(x,f(x),'ro')\n",
        "plt.plot(x,f(x),'k-',lw=3)\n",
        "plt.plot(X,np.sin(X),'c-')\n",
        "plt.plot(2.35,f(2.35),'y*',markersize=10)\n",
        "-->"
      ]
    },
    {
      "cell_type": "code",
      "source": [
        "import scipy as sp\n",
        "from scipy import interpolate\n",
        "n_points = 20\n",
        "x=np.linspace(0, 2*np.pi, n_points)\n",
        "f=interpolate.interp1d( x,np.sin(x),kind='linear' )"
      ],
      "metadata": {
        "id": "cKJsw5CBcFD6"
      },
      "execution_count": null,
      "outputs": []
    },
    {
      "cell_type": "code",
      "source": [
        "f(2.35),np.sin(2.35)"
      ],
      "metadata": {
        "colab": {
          "base_uri": "https://localhost:8080/"
        },
        "id": "nlg_bbHZcKWa",
        "outputId": "406e7cbc-dd43-4ff1-907a-323314e79959"
      },
      "execution_count": null,
      "outputs": [
        {
          "output_type": "execute_result",
          "data": {
            "text/plain": [
              "(array(0.70811793), 0.7114733527908443)"
            ]
          },
          "metadata": {},
          "execution_count": 154
        }
      ]
    },
    {
      "cell_type": "code",
      "source": [
        "#Cuántos puntos se necesitan para tener las 3 primeras cifrasdecimasles correctas\n",
        "import scipy as sp\n",
        "from scipy import interpolate\n",
        "n_points = 60\n",
        "x=np.linspace(0, 2*np.pi, n_points)\n",
        "f=interpolate.interp1d( x,np.sin(x),kind='linear' )"
      ],
      "metadata": {
        "id": "vqj3WnzGcyCR"
      },
      "execution_count": null,
      "outputs": []
    },
    {
      "cell_type": "code",
      "source": [
        "f(2.35),np.sin(2.35)"
      ],
      "metadata": {
        "colab": {
          "base_uri": "https://localhost:8080/"
        },
        "id": "w6jAsYu-dBHZ",
        "outputId": "04659700-9b77-44b6-b7c0-fe10ff2b4c5d"
      },
      "execution_count": null,
      "outputs": [
        {
          "output_type": "execute_result",
          "data": {
            "text/plain": [
              "(array(0.71057297), 0.7114733527908443)"
            ]
          },
          "metadata": {},
          "execution_count": 159
        }
      ]
    },
    {
      "cell_type": "markdown",
      "metadata": {
        "id": "3SGRypgREZW5"
      },
      "source": [
        "- - -"
      ]
    },
    {
      "cell_type": "markdown",
      "metadata": {
        "id": "3Zgj3wv8EZW6"
      },
      "source": [
        "## Example: \n",
        "Generate three points that do not lie upon a stright line, and try to make a manual interpolation with a polynomial of degree two."
      ]
    },
    {
      "cell_type": "code",
      "execution_count": null,
      "metadata": {
        "id": "S6UxbvTtEZW7"
      },
      "outputs": [],
      "source": [
        "import pandas as pd\n",
        "df=pd.DataFrame({ 'X':[-2.4,3,21.3],\n",
        "                  'Y':[-10.,8.,3.]\n",
        "                 }  \n",
        "                )"
      ]
    },
    {
      "cell_type": "code",
      "execution_count": null,
      "metadata": {
        "colab": {
          "base_uri": "https://localhost:8080/",
          "height": 169
        },
        "id": "9souHyUYEZW9",
        "outputId": "9b24f8a6-95f4-46ad-b909-295966a6e786"
      },
      "outputs": [
        {
          "output_type": "execute_result",
          "data": {
            "text/html": [
              "\n",
              "  <div id=\"df-2b5d2744-5230-480d-8b8d-e84cb0c8c3a2\">\n",
              "    <div class=\"colab-df-container\">\n",
              "      <div>\n",
              "<style scoped>\n",
              "    .dataframe tbody tr th:only-of-type {\n",
              "        vertical-align: middle;\n",
              "    }\n",
              "\n",
              "    .dataframe tbody tr th {\n",
              "        vertical-align: top;\n",
              "    }\n",
              "\n",
              "    .dataframe thead th {\n",
              "        text-align: right;\n",
              "    }\n",
              "</style>\n",
              "<table border=\"1\" class=\"dataframe\">\n",
              "  <thead>\n",
              "    <tr style=\"text-align: right;\">\n",
              "      <th></th>\n",
              "      <th>X</th>\n",
              "      <th>Y</th>\n",
              "    </tr>\n",
              "  </thead>\n",
              "  <tbody>\n",
              "    <tr>\n",
              "      <th>0</th>\n",
              "      <td>-2.4</td>\n",
              "      <td>-10.0</td>\n",
              "    </tr>\n",
              "    <tr>\n",
              "      <th>1</th>\n",
              "      <td>3.0</td>\n",
              "      <td>8.0</td>\n",
              "    </tr>\n",
              "    <tr>\n",
              "      <th>2</th>\n",
              "      <td>21.3</td>\n",
              "      <td>3.0</td>\n",
              "    </tr>\n",
              "  </tbody>\n",
              "</table>\n",
              "</div>\n",
              "      <button class=\"colab-df-convert\" onclick=\"convertToInteractive('df-2b5d2744-5230-480d-8b8d-e84cb0c8c3a2')\"\n",
              "              title=\"Convert this dataframe to an interactive table.\"\n",
              "              style=\"display:none;\">\n",
              "        \n",
              "  <svg xmlns=\"http://www.w3.org/2000/svg\" height=\"24px\"viewBox=\"0 0 24 24\"\n",
              "       width=\"24px\">\n",
              "    <path d=\"M0 0h24v24H0V0z\" fill=\"none\"/>\n",
              "    <path d=\"M18.56 5.44l.94 2.06.94-2.06 2.06-.94-2.06-.94-.94-2.06-.94 2.06-2.06.94zm-11 1L8.5 8.5l.94-2.06 2.06-.94-2.06-.94L8.5 2.5l-.94 2.06-2.06.94zm10 10l.94 2.06.94-2.06 2.06-.94-2.06-.94-.94-2.06-.94 2.06-2.06.94z\"/><path d=\"M17.41 7.96l-1.37-1.37c-.4-.4-.92-.59-1.43-.59-.52 0-1.04.2-1.43.59L10.3 9.45l-7.72 7.72c-.78.78-.78 2.05 0 2.83L4 21.41c.39.39.9.59 1.41.59.51 0 1.02-.2 1.41-.59l7.78-7.78 2.81-2.81c.8-.78.8-2.07 0-2.86zM5.41 20L4 18.59l7.72-7.72 1.47 1.35L5.41 20z\"/>\n",
              "  </svg>\n",
              "      </button>\n",
              "      \n",
              "  <style>\n",
              "    .colab-df-container {\n",
              "      display:flex;\n",
              "      flex-wrap:wrap;\n",
              "      gap: 12px;\n",
              "    }\n",
              "\n",
              "    .colab-df-convert {\n",
              "      background-color: #E8F0FE;\n",
              "      border: none;\n",
              "      border-radius: 50%;\n",
              "      cursor: pointer;\n",
              "      display: none;\n",
              "      fill: #1967D2;\n",
              "      height: 32px;\n",
              "      padding: 0 0 0 0;\n",
              "      width: 32px;\n",
              "    }\n",
              "\n",
              "    .colab-df-convert:hover {\n",
              "      background-color: #E2EBFA;\n",
              "      box-shadow: 0px 1px 2px rgba(60, 64, 67, 0.3), 0px 1px 3px 1px rgba(60, 64, 67, 0.15);\n",
              "      fill: #174EA6;\n",
              "    }\n",
              "\n",
              "    [theme=dark] .colab-df-convert {\n",
              "      background-color: #3B4455;\n",
              "      fill: #D2E3FC;\n",
              "    }\n",
              "\n",
              "    [theme=dark] .colab-df-convert:hover {\n",
              "      background-color: #434B5C;\n",
              "      box-shadow: 0px 1px 3px 1px rgba(0, 0, 0, 0.15);\n",
              "      filter: drop-shadow(0px 1px 2px rgba(0, 0, 0, 0.3));\n",
              "      fill: #FFFFFF;\n",
              "    }\n",
              "  </style>\n",
              "\n",
              "      <script>\n",
              "        const buttonEl =\n",
              "          document.querySelector('#df-2b5d2744-5230-480d-8b8d-e84cb0c8c3a2 button.colab-df-convert');\n",
              "        buttonEl.style.display =\n",
              "          google.colab.kernel.accessAllowed ? 'block' : 'none';\n",
              "\n",
              "        async function convertToInteractive(key) {\n",
              "          const element = document.querySelector('#df-2b5d2744-5230-480d-8b8d-e84cb0c8c3a2');\n",
              "          const dataTable =\n",
              "            await google.colab.kernel.invokeFunction('convertToInteractive',\n",
              "                                                     [key], {});\n",
              "          if (!dataTable) return;\n",
              "\n",
              "          const docLinkHtml = 'Like what you see? Visit the ' +\n",
              "            '<a target=\"_blank\" href=https://colab.research.google.com/notebooks/data_table.ipynb>data table notebook</a>'\n",
              "            + ' to learn more about interactive tables.';\n",
              "          element.innerHTML = '';\n",
              "          dataTable['output_type'] = 'display_data';\n",
              "          await google.colab.output.renderOutput(dataTable, element);\n",
              "          const docLink = document.createElement('div');\n",
              "          docLink.innerHTML = docLinkHtml;\n",
              "          element.appendChild(docLink);\n",
              "        }\n",
              "      </script>\n",
              "    </div>\n",
              "  </div>\n",
              "  "
            ],
            "text/plain": [
              "      X     Y\n",
              "0  -2.4 -10.0\n",
              "1   3.0   8.0\n",
              "2  21.3   3.0"
            ]
          },
          "metadata": {},
          "execution_count": 157
        }
      ],
      "source": [
        "df"
      ]
    },
    {
      "cell_type": "code",
      "execution_count": null,
      "metadata": {
        "colab": {
          "base_uri": "https://localhost:8080/",
          "height": 265
        },
        "id": "efE3I3CCEZW_",
        "outputId": "7febccfe-fb05-4945-eb00-04b44ad3e576"
      },
      "outputs": [
        {
          "output_type": "display_data",
          "data": {
            "image/png": "[encoded data removed]",
            "text/plain": [
              "<Figure size 432x288 with 1 Axes>"
            ]
          },
          "metadata": {
            "needs_background": "light"
          }
        }
      ],
      "source": [
        "plt.plot(df.X,df.Y,'ro')\n",
        "plt.grid()"
      ]
    },
    {
      "cell_type": "code",
      "execution_count": null,
      "metadata": {
        "id": "0m16sF4hO411"
      },
      "outputs": [],
      "source": [
        "import scipy as sp"
      ]
    },
    {
      "cell_type": "code",
      "execution_count": null,
      "metadata": {
        "id": "gMncmDM0jz16"
      },
      "outputs": [],
      "source": [
        "f=sp.interpolate.interp1d(df.X,df.Y)"
      ]
    },
    {
      "cell_type": "code",
      "execution_count": null,
      "metadata": {
        "id": "Ll6whf9SO411",
        "outputId": "e24c19c8-18c1-4e15-9631-8aa8795330d5",
        "colab": {
          "base_uri": "https://localhost:8080/"
        }
      },
      "outputs": [
        {
          "output_type": "execute_result",
          "data": {
            "text/plain": [
              "array(-2.)"
            ]
          },
          "metadata": {},
          "execution_count": 164
        }
      ],
      "source": [
        "f(0)"
      ]
    },
    {
      "cell_type": "code",
      "execution_count": null,
      "metadata": {
        "id": "RzXk7bvbO412",
        "outputId": "418be16b-0bb9-481a-e9e5-ff8b32043607",
        "colab": {
          "base_uri": "https://localhost:8080/",
          "height": 265
        }
      },
      "outputs": [
        {
          "output_type": "display_data",
          "data": {
            "image/png": "[encoded data removed]",
            "text/plain": [
              "<Figure size 432x288 with 1 Axes>"
            ]
          },
          "metadata": {
            "needs_background": "light"
          }
        }
      ],
      "source": [
        "plt.plot(df.X,df.Y,'ro')\n",
        "plt.plot(df.X,f(df.X),'b-')\n",
        "plt.plot(5,f(5),'y*')\n",
        "plt.grid()"
      ]
    },
    {
      "cell_type": "code",
      "source": [
        "f=sp.interpolate.interp1d(df.X,df.Y,kind=2)\n",
        "plt.plot(df.X,df.Y,'ro')\n",
        "plt.plot(df.X,f(df.X),'b-')\n",
        "plt.plot(5,f(5),'y*')\n",
        "plt.grid()"
      ],
      "metadata": {
        "colab": {
          "base_uri": "https://localhost:8080/",
          "height": 265
        },
        "id": "J1pdtAVhe15C",
        "outputId": "4cf1ebe5-a805-4b5b-e6a9-aa8856864ebf"
      },
      "execution_count": null,
      "outputs": [
        {
          "output_type": "display_data",
          "data": {
            "image/png": "[encoded data removed]",
            "text/plain": [
              "<Figure size 432x288 with 1 Axes>"
            ]
          },
          "metadata": {
            "needs_background": "light"
          }
        }
      ]
    },
    {
      "cell_type": "markdown",
      "metadata": {
        "id": "BP0sX_6fEZXA"
      },
      "source": [
        "### Polynomial object in `numpy`\n",
        "In `numpy` it is possible to define polynomials friom either its coefficients o its roots with `np.poly1d`"
      ]
    },
    {
      "cell_type": "markdown",
      "metadata": {
        "id": "yKOPE5AcEZXC"
      },
      "source": [
        "Define a two degree polynomial from its roots:"
      ]
    },
    {
      "cell_type": "code",
      "execution_count": null,
      "metadata": {
        "id": "S_V2zHPnjz19"
      },
      "outputs": [],
      "source": [
        "import numpy as np"
      ]
    },
    {
      "cell_type": "markdown",
      "metadata": {
        "id": "l-sKCHWojz2A"
      },
      "source": [
        "We try to make a fit by using an inverted parabola passing trough the tree points and using the roots as a guess.\n",
        "In fact, we can try with a polynomial of degree two with roots at 1 and 22.\n",
        "\n",
        "With $k$ we can flip the curve and reduce the maximum without change the roots"
      ]
    },
    {
      "cell_type": "code",
      "execution_count": null,
      "metadata": {
        "id": "uV6xujqPEZXC"
      },
      "outputs": [],
      "source": [
        "k=-0.1\n",
        "P=k*np.poly1d([0,23],r=True)"
      ]
    },
    {
      "cell_type": "code",
      "execution_count": null,
      "metadata": {
        "colab": {
          "base_uri": "https://localhost:8080/"
        },
        "id": "9ztBor9-EZXE",
        "outputId": "25731c5a-00c2-42c8-d9cf-0705e790a422"
      },
      "outputs": [
        {
          "output_type": "stream",
          "name": "stdout",
          "text": [
            "      2\n",
            "-0.1 x + 2.3 x - 0\n"
          ]
        }
      ],
      "source": [
        "print(P)"
      ]
    },
    {
      "cell_type": "code",
      "execution_count": null,
      "metadata": {
        "colab": {
          "base_uri": "https://localhost:8080/"
        },
        "id": "oGBYy5vAm6LU",
        "outputId": "e33ce07c-adcf-4a57-a26c-69cf13992c69"
      },
      "outputs": [
        {
          "output_type": "execute_result",
          "data": {
            "text/plain": [
              "array([23.,  0.])"
            ]
          },
          "metadata": {},
          "execution_count": 169
        }
      ],
      "source": [
        "P.roots"
      ]
    },
    {
      "cell_type": "code",
      "execution_count": null,
      "metadata": {
        "colab": {
          "base_uri": "https://localhost:8080/",
          "height": 286
        },
        "id": "PUM8A4EmEZXG",
        "outputId": "122e5984-2371-40b8-9aff-ec2cd878a3ec"
      },
      "outputs": [
        {
          "output_type": "execute_result",
          "data": {
            "text/plain": [
              "(-15.0, 20.0)"
            ]
          },
          "metadata": {},
          "execution_count": 170
        },
        {
          "output_type": "display_data",
          "data": {
            "image/png": "[encoded data removed]",
            "text/plain": [
              "<Figure size 432x288 with 1 Axes>"
            ]
          },
          "metadata": {
            "needs_background": "light"
          }
        }
      ],
      "source": [
        "plt.plot(df.X,df.Y,'ro')\n",
        "x=np.linspace(-8,30)\n",
        "plt.plot(x,P( x),'b-')\n",
        "plt.grid()\n",
        "plt.xlim(-8,30)\n",
        "plt.ylim(-15,20)"
      ]
    },
    {
      "cell_type": "markdown",
      "metadata": {
        "id": "tlOZC1tQEZXM"
      },
      "source": [
        "__Activity__: Scipy interpolation.\n",
        "\n",
        "Define an interplation function which passes throgh the three points by using `interp1D` of Scipy with several linear and quadratic curves between the points."
      ]
    },
    {
      "cell_type": "markdown",
      "metadata": {
        "id": "QCe6jFV_jz2M"
      },
      "source": [
        "<!-- \n",
        "plt.plot(df.X,df.Y,'ro')\n",
        "x=sp.linspace(df.X.min(),df.X.max() )\n",
        "plt.plot(x, sp.interpolate.interp1d(df.X,df.Y,kind=1)(x),label='linear')\n",
        "plt.plot(x, sp.interpolate.interp1d(df.X,df.Y,kind=2)(x),label='qudratic')\n",
        "plt.legend()\n",
        "plt.grid()\n",
        "plt.xlabel( \"$x$\",size=15 )\n",
        "plt.ylabel( \"$y$\",size=15 )\n",
        "plt.xlim(-8,30)\n",
        "plt.ylim(-15,20)\n",
        "-->"
      ]
    },
    {
      "cell_type": "markdown",
      "metadata": {
        "id": "473B0wvREZXN"
      },
      "source": [
        "### Interpolation with `numpy`\n",
        "`numpy` already include an interpolation function with polynomials called `np.polyfit`\n",
        "\n",
        "Ajuste "
      ]
    },
    {
      "cell_type": "code",
      "metadata": {
        "id": "7Y1-HKaFEZXN",
        "colab": {
          "base_uri": "https://localhost:8080/",
          "height": 129
        },
        "outputId": "b79d9ccb-465c-4868-ffbd-42871928a8eb"
      },
      "source": [
        "```python\n",
        "np.polyfit(x, y, deg, rcond=None, full=False, w=None, cov=False)\n",
        "```\n",
        "\n",
        "Least squares polynomial fit.\n",
        "\n",
        "Fit a polynomial ``p(x) = p[0] * x**deg + ... + p[deg]`` of degree `deg`\n",
        "to points `(x, y)`. Returns a vector of coefficients `p` that minimises\n",
        "the squared error."
      ],
      "execution_count": null,
      "outputs": [
        {
          "output_type": "error",
          "ename": "SyntaxError",
          "evalue": "ignored",
          "traceback": [
            "\u001b[0;36m  File \u001b[0;32m\"<ipython-input-171-928875ba7e12>\"\u001b[0;36m, line \u001b[0;32m1\u001b[0m\n\u001b[0;31m    ```python\u001b[0m\n\u001b[0m    ^\u001b[0m\n\u001b[0;31mSyntaxError\u001b[0m\u001b[0;31m:\u001b[0m invalid syntax\n"
          ]
        }
      ]
    },
    {
      "cell_type": "markdown",
      "metadata": {
        "id": "YqD87C61jz2P"
      },
      "source": [
        "To fit a set of `x` and `y` we need to specify the degree of the polynial to make the fit with the madatory argument: `deg`"
      ]
    },
    {
      "cell_type": "markdown",
      "metadata": {
        "id": "a8l2s1ZDjz2Q"
      },
      "source": [
        "__Example__: fit the points of the previous DataFrame with a polynomial of degree 3"
      ]
    },
    {
      "cell_type": "code",
      "execution_count": null,
      "metadata": {
        "id": "fk00t2uDEZXP"
      },
      "outputs": [],
      "source": [
        "coeffs=np.polyfit(df.X,df.Y,deg=2)"
      ]
    },
    {
      "cell_type": "code",
      "execution_count": null,
      "metadata": {
        "id": "fsXi70bVO416",
        "outputId": "2c56c2df-f24c-4525-90e7-aabef97e248b",
        "colab": {
          "base_uri": "https://localhost:8080/"
        }
      },
      "outputs": [
        {
          "output_type": "execute_result",
          "data": {
            "text/plain": [
              "array([-0.15217542,  3.42463858, -0.904337  ])"
            ]
          },
          "metadata": {},
          "execution_count": 175
        }
      ],
      "source": [
        "coeffs"
      ]
    },
    {
      "cell_type": "code",
      "execution_count": null,
      "metadata": {
        "colab": {
          "base_uri": "https://localhost:8080/"
        },
        "id": "Jjo6Xezsjz2U",
        "outputId": "115fabdf-0e99-4d9c-ac1d-3b20545b8cfc"
      },
      "outputs": [
        {
          "output_type": "execute_result",
          "data": {
            "text/plain": [
              "array([22.2373041 ,  0.26724135])"
            ]
          },
          "metadata": {},
          "execution_count": 176
        }
      ],
      "source": [
        "np.poly1d(coeffs).roots"
      ]
    },
    {
      "cell_type": "code",
      "execution_count": null,
      "metadata": {
        "colab": {
          "base_uri": "https://localhost:8080/"
        },
        "id": "bmIVN0hzEZXQ",
        "outputId": "ab8bce01-9067-424c-8884-0acc8e502740"
      },
      "outputs": [
        {
          "output_type": "stream",
          "name": "stdout",
          "text": [
            "         2\n",
            "-0.1522 x + 3.425 x - 0.9043\n"
          ]
        }
      ],
      "source": [
        "print(np.poly1d(coeffs))"
      ]
    },
    {
      "cell_type": "code",
      "execution_count": null,
      "metadata": {
        "colab": {
          "base_uri": "https://localhost:8080/",
          "height": 286
        },
        "id": "O8F-k_NxEZXT",
        "outputId": "b89a0e10-582d-4640-eee8-79eda89d9115"
      },
      "outputs": [
        {
          "output_type": "execute_result",
          "data": {
            "text/plain": [
              "(-20.0, 20.0)"
            ]
          },
          "metadata": {},
          "execution_count": 181
        },
        {
          "output_type": "display_data",
          "data": {
            "image/png": "[encoded data removed]",
            "text/plain": [
              "<Figure size 432x288 with 1 Axes>"
            ]
          },
          "metadata": {
            "needs_background": "light"
          }
        }
      ],
      "source": [
        "coeffs=np.polyfit(df.X,df.Y,deg=2)\n",
        "P=np.poly1d(coeffs)\n",
        "plt.plot(df.X,df.Y,'ro')\n",
        "x=np.linspace(-8,30,100)\n",
        "plt.plot(x,P( x),'b-')\n",
        "plt.grid()\n",
        "plt.ylim(-20,20)"
      ]
    },
    {
      "cell_type": "markdown",
      "metadata": {
        "id": "63FIku-BEZXX"
      },
      "source": [
        "## Example: Least action\n",
        "see Least action Notebook: [[local]](./least_action.ipynb) [[GitHub]](https://github.com/restrepo/ComputationalMethods/blob/master/material/least_action.ipynb) "
      ]
    },
    {
      "cell_type": "code",
      "execution_count": null,
      "metadata": {
        "id": "uFPhevxyEZXY"
      },
      "outputs": [],
      "source": [
        "#np.poly1d?"
      ]
    },
    {
      "cell_type": "markdown",
      "metadata": {
        "id": "oKqUP0SaEZXZ"
      },
      "source": [
        "# Lagrange Polynomial"
      ]
    },
    {
      "cell_type": "markdown",
      "metadata": {
        "id": "P09CyJ2SEZXa"
      },
      "source": [
        "Algebraic polynomials are very special functions as they have properties like differentiability (unlike linear interpolation) and continuity that make them useful for approximations like interpolation. A Polynomial is defined as a function given by the general expression:\n",
        "\n",
        "$$P_n(x) = a_nx^n + a_{n-1}x^{n-1} + \\cdots + a_1 x + a_0$$\n",
        "\n",
        "where $n$ is the polynomial degree.\n",
        "\n",
        "Another important property of polynomials is given by the [Weierstrass Approximation Theorem](http://en.wikipedia.org/wiki/Stone%E2%80%93Weierstrass_theorem), which states given a continuous function $f$ defined on a interval $[a,b]$, for all $\\epsilon >0$, there exits a polynomial $P(x)$ such that\n",
        "\n",
        "$$|f(x) - P(x)|<\\epsilon\\ \\ \\ \\ \\  \\mbox{for all }\\ x\\ \\mbox{ in }\\ [a,b].$$\n",
        "\n",
        "This theorem guarantees the existence of such a polynomial, however it is necessary to propose a scheme to build it."
      ]
    },
    {
      "cell_type": "code",
      "execution_count": null,
      "metadata": {
        "colab": {
          "base_uri": "https://localhost:8080/",
          "height": 111
        },
        "id": "X8U0VfLjEZXa",
        "outputId": "c9644468-8726-4515-f7f9-dc107d2b6a04"
      },
      "outputs": [
        {
          "output_type": "execute_result",
          "data": {
            "text/html": [
              "\n",
              "  <div id=\"df-7feb8e65-33c4-4f48-9ffe-44a2203735f7\">\n",
              "    <div class=\"colab-df-container\">\n",
              "      <div>\n",
              "<style scoped>\n",
              "    .dataframe tbody tr th:only-of-type {\n",
              "        vertical-align: middle;\n",
              "    }\n",
              "\n",
              "    .dataframe tbody tr th {\n",
              "        vertical-align: top;\n",
              "    }\n",
              "\n",
              "    .dataframe thead th {\n",
              "        text-align: right;\n",
              "    }\n",
              "</style>\n",
              "<table border=\"1\" class=\"dataframe\">\n",
              "  <thead>\n",
              "    <tr style=\"text-align: right;\">\n",
              "      <th></th>\n",
              "      <th>X</th>\n",
              "      <th>Y</th>\n",
              "    </tr>\n",
              "  </thead>\n",
              "  <tbody>\n",
              "    <tr>\n",
              "      <th>0</th>\n",
              "      <td>3.0</td>\n",
              "      <td>8.0</td>\n",
              "    </tr>\n",
              "    <tr>\n",
              "      <th>1</th>\n",
              "      <td>21.3</td>\n",
              "      <td>3.0</td>\n",
              "    </tr>\n",
              "  </tbody>\n",
              "</table>\n",
              "</div>\n",
              "      <button class=\"colab-df-convert\" onclick=\"convertToInteractive('df-7feb8e65-33c4-4f48-9ffe-44a2203735f7')\"\n",
              "              title=\"Convert this dataframe to an interactive table.\"\n",
              "              style=\"display:none;\">\n",
              "        \n",
              "  <svg xmlns=\"http://www.w3.org/2000/svg\" height=\"24px\"viewBox=\"0 0 24 24\"\n",
              "       width=\"24px\">\n",
              "    <path d=\"M0 0h24v24H0V0z\" fill=\"none\"/>\n",
              "    <path d=\"M18.56 5.44l.94 2.06.94-2.06 2.06-.94-2.06-.94-.94-2.06-.94 2.06-2.06.94zm-11 1L8.5 8.5l.94-2.06 2.06-.94-2.06-.94L8.5 2.5l-.94 2.06-2.06.94zm10 10l.94 2.06.94-2.06 2.06-.94-2.06-.94-.94-2.06-.94 2.06-2.06.94z\"/><path d=\"M17.41 7.96l-1.37-1.37c-.4-.4-.92-.59-1.43-.59-.52 0-1.04.2-1.43.59L10.3 9.45l-7.72 7.72c-.78.78-.78 2.05 0 2.83L4 21.41c.39.39.9.59 1.41.59.51 0 1.02-.2 1.41-.59l7.78-7.78 2.81-2.81c.8-.78.8-2.07 0-2.86zM5.41 20L4 18.59l7.72-7.72 1.47 1.35L5.41 20z\"/>\n",
              "  </svg>\n",
              "      </button>\n",
              "      \n",
              "  <style>\n",
              "    .colab-df-container {\n",
              "      display:flex;\n",
              "      flex-wrap:wrap;\n",
              "      gap: 12px;\n",
              "    }\n",
              "\n",
              "    .colab-df-convert {\n",
              "      background-color: #E8F0FE;\n",
              "      border: none;\n",
              "      border-radius: 50%;\n",
              "      cursor: pointer;\n",
              "      display: none;\n",
              "      fill: #1967D2;\n",
              "      height: 32px;\n",
              "      padding: 0 0 0 0;\n",
              "      width: 32px;\n",
              "    }\n",
              "\n",
              "    .colab-df-convert:hover {\n",
              "      background-color: #E2EBFA;\n",
              "      box-shadow: 0px 1px 2px rgba(60, 64, 67, 0.3), 0px 1px 3px 1px rgba(60, 64, 67, 0.15);\n",
              "      fill: #174EA6;\n",
              "    }\n",
              "\n",
              "    [theme=dark] .colab-df-convert {\n",
              "      background-color: #3B4455;\n",
              "      fill: #D2E3FC;\n",
              "    }\n",
              "\n",
              "    [theme=dark] .colab-df-convert:hover {\n",
              "      background-color: #434B5C;\n",
              "      box-shadow: 0px 1px 3px 1px rgba(0, 0, 0, 0.15);\n",
              "      filter: drop-shadow(0px 1px 2px rgba(0, 0, 0, 0.3));\n",
              "      fill: #FFFFFF;\n",
              "    }\n",
              "  </style>\n",
              "\n",
              "      <script>\n",
              "        const buttonEl =\n",
              "          document.querySelector('#df-7feb8e65-33c4-4f48-9ffe-44a2203735f7 button.colab-df-convert');\n",
              "        buttonEl.style.display =\n",
              "          google.colab.kernel.accessAllowed ? 'block' : 'none';\n",
              "\n",
              "        async function convertToInteractive(key) {\n",
              "          const element = document.querySelector('#df-7feb8e65-33c4-4f48-9ffe-44a2203735f7');\n",
              "          const dataTable =\n",
              "            await google.colab.kernel.invokeFunction('convertToInteractive',\n",
              "                                                     [key], {});\n",
              "          if (!dataTable) return;\n",
              "\n",
              "          const docLinkHtml = 'Like what you see? Visit the ' +\n",
              "            '<a target=\"_blank\" href=https://colab.research.google.com/notebooks/data_table.ipynb>data table notebook</a>'\n",
              "            + ' to learn more about interactive tables.';\n",
              "          element.innerHTML = '';\n",
              "          dataTable['output_type'] = 'display_data';\n",
              "          await google.colab.output.renderOutput(dataTable, element);\n",
              "          const docLink = document.createElement('div');\n",
              "          docLink.innerHTML = docLinkHtml;\n",
              "          element.appendChild(docLink);\n",
              "        }\n",
              "      </script>\n",
              "    </div>\n",
              "  </div>\n",
              "  "
            ],
            "text/plain": [
              "      X    Y\n",
              "0   3.0  8.0\n",
              "1  21.3  3.0"
            ]
          },
          "metadata": {},
          "execution_count": 195
        }
      ],
      "source": [
        "import pandas as pd\n",
        "df=pd.DataFrame({ 'X':[3,21.3],\n",
        "                  'Y':[8.,3.]\n",
        "                 }  \n",
        "                )\n",
        "df"
      ]
    },
    {
      "cell_type": "code",
      "execution_count": null,
      "metadata": {
        "colab": {
          "base_uri": "https://localhost:8080/",
          "height": 265
        },
        "id": "qS_89FJWEZXd",
        "outputId": "1ebf2641-313a-435a-c1f6-5fe08d1cc67e"
      },
      "outputs": [
        {
          "output_type": "display_data",
          "data": {
            "image/png": "[encoded data removed]",
            "text/plain": [
              "<Figure size 432x288 with 1 Axes>"
            ]
          },
          "metadata": {
            "needs_background": "light"
          }
        }
      ],
      "source": [
        "plt.plot(df.X,df.Y,'ro')\n",
        "plt.grid()"
      ]
    },
    {
      "cell_type": "markdown",
      "metadata": {
        "id": "1Kv8QCJpEZXf"
      },
      "source": [
        "Polinomio de interp. de grado <font color=\"blue\">0</font>"
      ]
    },
    {
      "cell_type": "code",
      "execution_count": null,
      "metadata": {
        "colab": {
          "base_uri": "https://localhost:8080/",
          "height": 303
        },
        "id": "vDmLxerpEZXf",
        "outputId": "41dcbf92-e800-40da-8068-57d6f92ae50b"
      },
      "outputs": [
        {
          "output_type": "stream",
          "name": "stdout",
          "text": [
            " \n",
            "5.5\n"
          ]
        },
        {
          "output_type": "display_data",
          "data": {
            "image/png": "[encoded data removed]",
            "text/plain": [
              "<Figure size 432x288 with 1 Axes>"
            ]
          },
          "metadata": {
            "needs_background": "light"
          }
        }
      ],
      "source": [
        "coeffs=np.polyfit(df.X,df.Y,deg=0)\n",
        "\n",
        "P=np.poly1d(coeffs)\n",
        "plt.plot(df.X,df.Y,'ro')\n",
        "x=np.linspace(-8,30)\n",
        "plt.plot(x,P( x),'b-')\n",
        "plt.grid()\n",
        "plt.ylim(0,12)\n",
        "\n",
        "print(np.poly1d(coeffs))"
      ]
    },
    {
      "cell_type": "markdown",
      "metadata": {
        "id": "7Sh-xNwBEZXg"
      },
      "source": [
        "Polinomio de interp. de grado <font color=\"blue\">1</font>"
      ]
    },
    {
      "cell_type": "code",
      "execution_count": null,
      "metadata": {
        "colab": {
          "base_uri": "https://localhost:8080/",
          "height": 303
        },
        "id": "3GUuXGJDEZXh",
        "outputId": "8d30f676-6202-43f7-bd2e-9a59d1b694f8"
      },
      "outputs": [
        {
          "output_type": "stream",
          "name": "stdout",
          "text": [
            " \n",
            "-0.2732 x + 8.82\n"
          ]
        },
        {
          "output_type": "display_data",
          "data": {
            "image/png": "[encoded data removed]",
            "text/plain": [
              "<Figure size 432x288 with 1 Axes>"
            ]
          },
          "metadata": {
            "needs_background": "light"
          }
        }
      ],
      "source": [
        "coeffs=np.polyfit(df.X,df.Y,deg=1)\n",
        "\n",
        "P=np.poly1d(coeffs)\n",
        "plt.plot(df.X,df.Y,'ro')\n",
        "x=np.linspace(-8,30)\n",
        "plt.plot(x,P( x),'b-')\n",
        "plt.grid()\n",
        "plt.ylim(0,12)\n",
        "\n",
        "print(np.poly1d(coeffs))"
      ]
    },
    {
      "cell_type": "markdown",
      "metadata": {
        "id": "3XW4YY3_EZXk"
      },
      "source": [
        "Polinomio de interp. de grado <font color=\"blue\">2</font>"
      ]
    },
    {
      "cell_type": "code",
      "execution_count": null,
      "metadata": {
        "colab": {
          "base_uri": "https://localhost:8080/",
          "height": 337
        },
        "id": "-B1dOzcAEZXl",
        "outputId": "09d54045-ba31-4c10-cf11-710a33c0a19e"
      },
      "outputs": [
        {
          "output_type": "stream",
          "name": "stdout",
          "text": [
            "           2\n",
            "-0.008617 x - 0.06383 x + 8.269\n"
          ]
        },
        {
          "output_type": "stream",
          "name": "stderr",
          "text": [
            "/usr/local/lib/python3.7/dist-packages/IPython/core/interactiveshell.py:2882: RankWarning: Polyfit may be poorly conditioned\n",
            "  exec(code_obj, self.user_global_ns, self.user_ns)\n"
          ]
        },
        {
          "output_type": "display_data",
          "data": {
            "image/png": "[encoded data removed]",
            "text/plain": [
              "<Figure size 432x288 with 1 Axes>"
            ]
          },
          "metadata": {
            "needs_background": "light"
          }
        }
      ],
      "source": [
        "coeffs=np.polyfit(df.X,df.Y,deg=2)\n",
        "\n",
        "P=np.poly1d(coeffs)\n",
        "plt.plot(df.X,df.Y,'ro')\n",
        "x=np.linspace(-8,30)\n",
        "plt.plot(x,P( x),'b-')\n",
        "plt.grid()\n",
        "plt.ylim(0,12)\n",
        "\n",
        "print(np.poly1d(coeffs))"
      ]
    },
    {
      "cell_type": "code",
      "execution_count": null,
      "metadata": {
        "colab": {
          "base_uri": "https://localhost:8080/",
          "height": 340
        },
        "id": "bVUgkRx8EZXn",
        "outputId": "25971f5a-def5-432b-e176-991e99b79128"
      },
      "outputs": [
        {
          "output_type": "error",
          "ename": "FileNotFoundError",
          "evalue": "ignored",
          "traceback": [
            "\u001b[0;31m---------------------------------------------------------------------------\u001b[0m",
            "\u001b[0;31mFileNotFoundError\u001b[0m                         Traceback (most recent call last)",
            "\u001b[0;32m<ipython-input-200-aa64d235fb69>\u001b[0m in \u001b[0;36m<module>\u001b[0;34m()\u001b[0m\n\u001b[1;32m      1\u001b[0m \u001b[0mdf\u001b[0m\u001b[0;34m=\u001b[0m\u001b[0mdf\u001b[0m\u001b[0;34m.\u001b[0m\u001b[0mappend\u001b[0m\u001b[0;34m(\u001b[0m\u001b[0;34m{\u001b[0m\u001b[0;34m'X'\u001b[0m\u001b[0;34m:\u001b[0m\u001b[0;36m10\u001b[0m\u001b[0;34m,\u001b[0m\u001b[0;34m'Y'\u001b[0m\u001b[0;34m:\u001b[0m\u001b[0;36m6.5\u001b[0m\u001b[0;34m}\u001b[0m\u001b[0;34m,\u001b[0m\u001b[0mignore_index\u001b[0m\u001b[0;34m=\u001b[0m\u001b[0;32mTrue\u001b[0m\u001b[0;34m)\u001b[0m\u001b[0;34m.\u001b[0m\u001b[0msort_values\u001b[0m\u001b[0;34m(\u001b[0m\u001b[0;34m'X'\u001b[0m\u001b[0;34m)\u001b[0m\u001b[0;34m\u001b[0m\u001b[0;34m\u001b[0m\u001b[0m\n\u001b[0;32m----> 2\u001b[0;31m \u001b[0mdf\u001b[0m\u001b[0;34m.\u001b[0m\u001b[0mto_csv\u001b[0m\u001b[0;34m(\u001b[0m\u001b[0;34m'../data/interpolation.csv'\u001b[0m\u001b[0;34m,\u001b[0m\u001b[0mindex\u001b[0m\u001b[0;34m=\u001b[0m\u001b[0;32mFalse\u001b[0m\u001b[0;34m)\u001b[0m\u001b[0;34m\u001b[0m\u001b[0;34m\u001b[0m\u001b[0m\n\u001b[0m\u001b[1;32m      3\u001b[0m \u001b[0mdf\u001b[0m\u001b[0;34m\u001b[0m\u001b[0;34m\u001b[0m\u001b[0m\n",
            "\u001b[0;32m/usr/local/lib/python3.7/dist-packages/pandas/core/generic.py\u001b[0m in \u001b[0;36mto_csv\u001b[0;34m(self, path_or_buf, sep, na_rep, float_format, columns, header, index, index_label, mode, encoding, compression, quoting, quotechar, line_terminator, chunksize, date_format, doublequote, escapechar, decimal, errors)\u001b[0m\n\u001b[1;32m   3168\u001b[0m             \u001b[0mdecimal\u001b[0m\u001b[0;34m=\u001b[0m\u001b[0mdecimal\u001b[0m\u001b[0;34m,\u001b[0m\u001b[0;34m\u001b[0m\u001b[0;34m\u001b[0m\u001b[0m\n\u001b[1;32m   3169\u001b[0m         )\n\u001b[0;32m-> 3170\u001b[0;31m         \u001b[0mformatter\u001b[0m\u001b[0;34m.\u001b[0m\u001b[0msave\u001b[0m\u001b[0;34m(\u001b[0m\u001b[0;34m)\u001b[0m\u001b[0;34m\u001b[0m\u001b[0;34m\u001b[0m\u001b[0m\n\u001b[0m\u001b[1;32m   3171\u001b[0m \u001b[0;34m\u001b[0m\u001b[0m\n\u001b[1;32m   3172\u001b[0m         \u001b[0;32mif\u001b[0m \u001b[0mpath_or_buf\u001b[0m \u001b[0;32mis\u001b[0m \u001b[0;32mNone\u001b[0m\u001b[0;34m:\u001b[0m\u001b[0;34m\u001b[0m\u001b[0;34m\u001b[0m\u001b[0m\n",
            "\u001b[0;32m/usr/local/lib/python3.7/dist-packages/pandas/io/formats/csvs.py\u001b[0m in \u001b[0;36msave\u001b[0;34m(self)\u001b[0m\n\u001b[1;32m    188\u001b[0m                 \u001b[0mencoding\u001b[0m\u001b[0;34m=\u001b[0m\u001b[0mself\u001b[0m\u001b[0;34m.\u001b[0m\u001b[0mencoding\u001b[0m\u001b[0;34m,\u001b[0m\u001b[0;34m\u001b[0m\u001b[0;34m\u001b[0m\u001b[0m\n\u001b[1;32m    189\u001b[0m                 \u001b[0merrors\u001b[0m\u001b[0;34m=\u001b[0m\u001b[0mself\u001b[0m\u001b[0;34m.\u001b[0m\u001b[0merrors\u001b[0m\u001b[0;34m,\u001b[0m\u001b[0;34m\u001b[0m\u001b[0;34m\u001b[0m\u001b[0m\n\u001b[0;32m--> 190\u001b[0;31m                 \u001b[0mcompression\u001b[0m\u001b[0;34m=\u001b[0m\u001b[0mdict\u001b[0m\u001b[0;34m(\u001b[0m\u001b[0mself\u001b[0m\u001b[0;34m.\u001b[0m\u001b[0mcompression_args\u001b[0m\u001b[0;34m,\u001b[0m \u001b[0mmethod\u001b[0m\u001b[0;34m=\u001b[0m\u001b[0mself\u001b[0m\u001b[0;34m.\u001b[0m\u001b[0mcompression\u001b[0m\u001b[0;34m)\u001b[0m\u001b[0;34m,\u001b[0m\u001b[0;34m\u001b[0m\u001b[0;34m\u001b[0m\u001b[0m\n\u001b[0m\u001b[1;32m    191\u001b[0m             )\n\u001b[1;32m    192\u001b[0m             \u001b[0mclose\u001b[0m \u001b[0;34m=\u001b[0m \u001b[0;32mTrue\u001b[0m\u001b[0;34m\u001b[0m\u001b[0;34m\u001b[0m\u001b[0m\n",
            "\u001b[0;32m/usr/local/lib/python3.7/dist-packages/pandas/io/common.py\u001b[0m in \u001b[0;36mget_handle\u001b[0;34m(path_or_buf, mode, encoding, compression, memory_map, is_text, errors)\u001b[0m\n\u001b[1;32m    491\u001b[0m         \u001b[0;32mif\u001b[0m \u001b[0mencoding\u001b[0m\u001b[0;34m:\u001b[0m\u001b[0;34m\u001b[0m\u001b[0;34m\u001b[0m\u001b[0m\n\u001b[1;32m    492\u001b[0m             \u001b[0;31m# Encoding\u001b[0m\u001b[0;34m\u001b[0m\u001b[0;34m\u001b[0m\u001b[0;34m\u001b[0m\u001b[0m\n\u001b[0;32m--> 493\u001b[0;31m             \u001b[0mf\u001b[0m \u001b[0;34m=\u001b[0m \u001b[0mopen\u001b[0m\u001b[0;34m(\u001b[0m\u001b[0mpath_or_buf\u001b[0m\u001b[0;34m,\u001b[0m \u001b[0mmode\u001b[0m\u001b[0;34m,\u001b[0m \u001b[0mencoding\u001b[0m\u001b[0;34m=\u001b[0m\u001b[0mencoding\u001b[0m\u001b[0;34m,\u001b[0m \u001b[0merrors\u001b[0m\u001b[0;34m=\u001b[0m\u001b[0merrors\u001b[0m\u001b[0;34m,\u001b[0m \u001b[0mnewline\u001b[0m\u001b[0;34m=\u001b[0m\u001b[0;34m\"\"\u001b[0m\u001b[0;34m)\u001b[0m\u001b[0;34m\u001b[0m\u001b[0;34m\u001b[0m\u001b[0m\n\u001b[0m\u001b[1;32m    494\u001b[0m         \u001b[0;32melif\u001b[0m \u001b[0mis_text\u001b[0m\u001b[0;34m:\u001b[0m\u001b[0;34m\u001b[0m\u001b[0;34m\u001b[0m\u001b[0m\n\u001b[1;32m    495\u001b[0m             \u001b[0;31m# No explicit encoding\u001b[0m\u001b[0;34m\u001b[0m\u001b[0;34m\u001b[0m\u001b[0;34m\u001b[0m\u001b[0m\n",
            "\u001b[0;31mFileNotFoundError\u001b[0m: [Errno 2] No such file or directory: '../data/interpolation.csv'"
          ]
        }
      ],
      "source": [
        "df=df.append({'X':10,'Y':6.5},ignore_index=True).sort_values('X')\n",
        "df.to_csv('../data/interpolation.csv',index=False)\n",
        "df"
      ]
    },
    {
      "cell_type": "code",
      "execution_count": null,
      "metadata": {
        "id": "MGNua9-REZXo"
      },
      "outputs": [],
      "source": [
        "coeffs=np.polyfit(df.X,df.Y,deg=2)\n",
        "\n",
        "P=np.poly1d(coeffs)\n",
        "plt.plot(df.X,df.Y,'ro')\n",
        "x=np.linspace(-8,30)\n",
        "plt.plot(x,P( x),'b-')\n",
        "plt.grid()\n",
        "plt.ylim(0,12)\n",
        "\n",
        "print(np.poly1d(coeffs))"
      ]
    },
    {
      "cell_type": "code",
      "execution_count": null,
      "metadata": {
        "id": "XqX2NSmUEZXq"
      },
      "outputs": [],
      "source": [
        "print(np.poly1d(coeffs))"
      ]
    },
    {
      "cell_type": "markdown",
      "metadata": {
        "id": "jN_ZqgxNEZXs"
      },
      "source": [
        "## Derivation"
      ]
    },
    {
      "cell_type": "markdown",
      "metadata": {
        "id": "d2qULdqzEZXt"
      },
      "source": [
        "Let's suppose a well-behaved yet unknown function $f$ and two points $(x_0,y_0)$ and $(x_1,y_1)$ for which $f(x_0) = y_0$ and $f(x_1) = y_1$. With this information we can build a first-degree polynomial that passes through both points by using the last equation in sec. [Linear Interpolation](interpolation.ipynb#Linear-Interpolation), we have\n",
        "\n",
        "$$P_1(x) = \\left[ \\frac{y_{1}-y_0}{x_{1}-x_0} \\right]x + \\left[ y_0 - \\frac{y_{1}-y_0}{x_{1}-x_0}x_0 \\right]$$\n",
        "\n",
        "We can readily rewrite this expression like:\n",
        "\\begin{align}\n",
        "P_1(x) =& \\frac{y_{1}}{x_{1}-x_0} x- \\frac{y_0}{x_{1}-x_0} x + y_0 -\\frac{y_{1}}{x_{1}-x_0}x_0 +  \\frac{y_0}{x_{1}-x_0}x_0 \\nonumber\\\\\n",
        "=& \\left[1 - \\frac{x}{x_{1}-x_0}  +  \\frac{x_0}{x_{1}-x_0}\\right]y_0+\n",
        "\\left[\\frac{x}{x_{1}-x_0}  -\\frac{x_0}{x_{1}-x_0}\\right]y_1    \\nonumber\\\\\n",
        " =& \\left[\\frac{x_1-x_0}{x_{1}-x_0} - \\frac{x}{x_{1}-x_0}  +  \\frac{x_0}{x_{1}-x_0}\\right]y_0+\n",
        "\\left[\\frac{x}{x_{1}-x_0}  -\\frac{x_0}{x_{1}-x_0}\\right]y_1    \\nonumber\\\\\n",
        "=& \\left[\\frac{x_1-x}{x_{1}-x_0}\\right]y_0+\n",
        "\\left[\\frac{x-x_0}{x_{1}-x_0}\\right]y_1    \\,.\n",
        "\\end{align}\n",
        "In this way\n",
        "$$P_1(x) = L_0(x)f(x_0) + L_1(x)f(x_1)$$\n",
        "\n",
        "where we define the functions $L_0(x)$ and $L_1(x)$ as:\n",
        "\n",
        "$$L_0(x) = \\frac{x-x_1}{x_0-x_1} \\mbox{ and } L_1(x) = \\frac{x-x_0}{x_1-x_0}$$\n",
        "\n",
        "Note that\n",
        "\n",
        "$$L_0(x_0) = 1,\\ \\ \\ L_0(x_1) = 0,\\ \\ \\ L_1(x_0) = 0,\\ \\ \\ L_1(x_1) = 1$$\n",
        "\n",
        "implying:\n",
        "\n",
        "$$P_1(x_0) = f(x_0) = y_0$$\n",
        "\n",
        "$$P_1(x_1) = f(x_1) = y_1$$\n",
        "\n",
        "Although all this procedure may seem unnecessary for a polynomial of degree 1, a generalization to polynomials of larger degrees is now possible."
      ]
    },
    {
      "cell_type": "markdown",
      "metadata": {
        "id": "t5benGvIEZXt"
      },
      "source": [
        "## General case\n",
        "Let's assume again a well-behaved and unknown function $f$ sampled by using a set of $n+1$ data $(x_m,y_m)$ ($0\\leq m \\leq n$).\n",
        "We call the set of $[x_0,x_1,\\ldots,x_n]$ as the _node_ points of the _interpolation polynomial in the Lagrange form_, $P_n(x)$, where:\n",
        "$$f(x)\\approx P_n(x)\\,,$$\n",
        "\n",
        "$$P_n(x) = \\sum_{i=0}^n f(x_i)L_{n,i}(x) = \\sum_{i=0}^n y_iL_{n,i}(x)$$\n",
        "\n",
        "Such that\n",
        "$$f(x_i)= P_n(x_i)\\,,$$\n",
        "\n",
        "We need to find the _Lagrange polynomials_,  $L_{n,i}(x)$, such that \n",
        "$$L_{n,i}(x_i) = 1\\,,\\qquad\\text{and}\\,,\\qquad L_{n,i}(x_j) = 0\\quad\\text{for $i\\neq j$}$$ \n",
        "A function that satisfies this criterion is\n",
        "\n",
        "$$L_{n,i}(x) = \\prod_{\\begin{smallmatrix}m=0\\\\ m\\neq i\\end{smallmatrix}}^n \\frac{x-x_m}{x_i-x_m} =\\frac{(x-x_0)}{(x_i-x_0)}\\frac{(x-x_1)}{(x_i-x_1)}\\cdots \\frac{(x-x_{i-1})}{(x_i-x_{i-1})}\\underbrace{\\frac{}{}}_{m\\ne i}\n",
        "\\frac{(x-x_{i+1})}{(x_i-x_{i+1})} \\cdots \\frac{(x-x_{n-1})}{(x_i-x_{n-1})}\\frac{(x-x_n)}{(x_i-x_n)}  $$\n",
        "Please note that in the expansion the term $(x-x_i)$ does not appears in both the numerator and the denominator as stablished in the productory condition $m\\neq i$.\n",
        "\n",
        "Moreower\n",
        "$$L_{n,i}(x_i) = \\prod_{\\begin{smallmatrix}m=0\\\\ m\\neq i\\end{smallmatrix}}^n \\frac{x_i-x_m}{x_i-x_m} =1$$\n",
        "and, for $j\\ne i$\n",
        "$$L_{n,i}(x_j) = \\prod_{\\begin{smallmatrix}m=0\\\\ m\\neq i\\end{smallmatrix}}^n \\frac{x_j-x_m}{x_i-x_m} =\\frac{(x_j-x_0)}{(x_i-x_0)}\\cdots \\frac{(\\boldsymbol{x_j}-\\boldsymbol{x_j})}{(x_i-x_j)}\\cdots\\frac{(x_j-x_n)}{(x_i-x_n)}=0.$$\n",
        "\n",
        "\n",
        "Then, the polynomial of $n$th-degree $P_n(x)$ will satisfy the definitory property for a interpolating polynomial, i.e. $P_n(x_i) = y_i$ for any $i$ and it is called the _interpolation Polynomial in the Lagrange form_.\n",
        "\n",
        "Check [this implementation in sympy](./LagrangePoly.ipynb) [[View in Colaboratory](https://colab.research.google.com/github/restrepo/ComputationalMethods/blob/master/material/LagrangePoly.ipynb)] where both the interpolating polynomial and the Lagrange polynomials are defined."
      ]
    },
    {
      "cell_type": "markdown",
      "metadata": {
        "id": "tqObehX6O42J"
      },
      "source": [
        "**Further details at:**\n",
        "[Wikipedia](https://en.wikipedia.org/wiki/Lagrange_polynomial)"
      ]
    },
    {
      "cell_type": "markdown",
      "metadata": {
        "id": "HAld-e8YEZXu"
      },
      "source": [
        "### Example:\n",
        "Obtain the Lagrange Polynomials for a Interpolation polynomial of degree 1."
      ]
    },
    {
      "cell_type": "markdown",
      "metadata": {
        "id": "9WWq5hcOEZXu"
      },
      "source": [
        "$i=0$, $n=1$\n",
        "$$ L_{1,0}=\\prod_{\\begin{smallmatrix}m=0\\\\ m\\neq 0\\end{smallmatrix}}^1 \\frac{x-x_m}{x_i-x_m}=\\prod_{\\begin{smallmatrix}m=1\\end{smallmatrix}}^1 \\frac{x-x_m}{x_0-x_m}=\\frac{x-x_1}{x_0-x_1}$$\n",
        "$i=1$, $n=1$\n",
        "$$ L_{1,1}=\\prod_{\\begin{smallmatrix}m=0\\\\ m\\neq 1\\end{smallmatrix}}^1 \\frac{x-x_m}{x_i-x_m}=\\prod_{\\begin{smallmatrix}m=0\\end{smallmatrix}}^0 \\frac{x-x_m}{x_1-x_m}=\\frac{x-x_0}{x_1-x_0}$$"
      ]
    },
    {
      "cell_type": "markdown",
      "metadata": {
        "id": "I-NxbJv0O42K"
      },
      "source": [
        "Until now we can only guarantee that $P_n(x_i)=f(x_i)$. To calculate the function from any $x$ in the interpolation interval we have the following Theorem (See [here](https://www3.nd.edu/~zxu2/acms40390F12/Lec-3.1.pdf))\n",
        "## Theorem\n",
        "Suppose $X_0,\\ldots,x_n$ are distinct numbers in the interval $[a,b]$ and $f\\in[a,b]$.Then for each $x$ in $[a,b]$, a number $\\xi(x)$ between $x_0,\\ldots,x_n$, and hence in $[a,b]$, exists with\n",
        "$$\n",
        "f(x)=P_n(x)+E_n(x)\\,,\\qquad \\text{such that } E_n(x_i)=0\\,,\n",
        "$$\n",
        "where the formula for the error bound is given by\n",
        "$$\n",
        "E_n(x) = {f^{n+1}(\\xi(x)) \\over (n+1)!} \\cdot \\prod_{i=0}^{n}\\left(x-x_{i}\\right)\\,,\n",
        "$$\n",
        "$f^{(n+1)}$ is the $n+1$ derivative of $f$\n",
        "\n",
        "For a demostration see [1d] → https://www.math.ust.hk/~mamu/courses/231/Slides/CH03_1B.pdf\n",
        "\n",
        "The specific calculation of the bounded error is to find the $\\xi$ and $x$ such that\n",
        "$$\n",
        "\\left|f(x)-P(x)\\right| \\leq \\max_{\\xi\\in[a,b]}\\left|\\frac{f^{(n+1)}(\\xi)}{(n+1) !}\\right| \\cdot \\max_{x\\in[a,b]}\\left|\\prod_{i=0}^{n}\\left(x-x_{i}\\right)\\right|\n",
        "$$"
      ]
    },
    {
      "cell_type": "markdown",
      "metadata": {
        "id": "me-qxh8sEZXv"
      },
      "source": [
        "### Exercise-interpolation\n",
        "Obtain the Lagrange Polynomials for a Interpolation polynomial of degree 2."
      ]
    },
    {
      "cell_type": "markdown",
      "metadata": {
        "id": "QrN1hmlnEZXv"
      },
      "source": [
        "### Implementation in Scipy"
      ]
    },
    {
      "cell_type": "code",
      "execution_count": null,
      "metadata": {
        "id": "IRQNq9xrEZXw"
      },
      "outputs": [],
      "source": [
        "from scipy import interpolate"
      ]
    },
    {
      "cell_type": "code",
      "execution_count": null,
      "metadata": {
        "id": "SP7TER3gEZXy"
      },
      "outputs": [],
      "source": [
        "#interpolate.lagrange?"
      ]
    },
    {
      "cell_type": "code",
      "execution_count": null,
      "metadata": {
        "colab": {
          "base_uri": "https://localhost:8080/",
          "height": 142
        },
        "id": "-p_85Kiz5Xi-",
        "outputId": "4b903707-378b-460d-ba72-4abfe071c0fb"
      },
      "outputs": [
        {
          "output_type": "execute_result",
          "data": {
            "text/html": [
              "\n",
              "  <div id=\"df-0bd1efbb-2de0-44f1-ae84-67ac9d432523\">\n",
              "    <div class=\"colab-df-container\">\n",
              "      <div>\n",
              "<style scoped>\n",
              "    .dataframe tbody tr th:only-of-type {\n",
              "        vertical-align: middle;\n",
              "    }\n",
              "\n",
              "    .dataframe tbody tr th {\n",
              "        vertical-align: top;\n",
              "    }\n",
              "\n",
              "    .dataframe thead th {\n",
              "        text-align: right;\n",
              "    }\n",
              "</style>\n",
              "<table border=\"1\" class=\"dataframe\">\n",
              "  <thead>\n",
              "    <tr style=\"text-align: right;\">\n",
              "      <th></th>\n",
              "      <th>X</th>\n",
              "      <th>Y</th>\n",
              "    </tr>\n",
              "  </thead>\n",
              "  <tbody>\n",
              "    <tr>\n",
              "      <th>0</th>\n",
              "      <td>3.0</td>\n",
              "      <td>8.0</td>\n",
              "    </tr>\n",
              "    <tr>\n",
              "      <th>2</th>\n",
              "      <td>10.0</td>\n",
              "      <td>6.5</td>\n",
              "    </tr>\n",
              "    <tr>\n",
              "      <th>1</th>\n",
              "      <td>21.3</td>\n",
              "      <td>3.0</td>\n",
              "    </tr>\n",
              "  </tbody>\n",
              "</table>\n",
              "</div>\n",
              "      <button class=\"colab-df-convert\" onclick=\"convertToInteractive('df-0bd1efbb-2de0-44f1-ae84-67ac9d432523')\"\n",
              "              title=\"Convert this dataframe to an interactive table.\"\n",
              "              style=\"display:none;\">\n",
              "        \n",
              "  <svg xmlns=\"http://www.w3.org/2000/svg\" height=\"24px\"viewBox=\"0 0 24 24\"\n",
              "       width=\"24px\">\n",
              "    <path d=\"M0 0h24v24H0V0z\" fill=\"none\"/>\n",
              "    <path d=\"M18.56 5.44l.94 2.06.94-2.06 2.06-.94-2.06-.94-.94-2.06-.94 2.06-2.06.94zm-11 1L8.5 8.5l.94-2.06 2.06-.94-2.06-.94L8.5 2.5l-.94 2.06-2.06.94zm10 10l.94 2.06.94-2.06 2.06-.94-2.06-.94-.94-2.06-.94 2.06-2.06.94z\"/><path d=\"M17.41 7.96l-1.37-1.37c-.4-.4-.92-.59-1.43-.59-.52 0-1.04.2-1.43.59L10.3 9.45l-7.72 7.72c-.78.78-.78 2.05 0 2.83L4 21.41c.39.39.9.59 1.41.59.51 0 1.02-.2 1.41-.59l7.78-7.78 2.81-2.81c.8-.78.8-2.07 0-2.86zM5.41 20L4 18.59l7.72-7.72 1.47 1.35L5.41 20z\"/>\n",
              "  </svg>\n",
              "      </button>\n",
              "      \n",
              "  <style>\n",
              "    .colab-df-container {\n",
              "      display:flex;\n",
              "      flex-wrap:wrap;\n",
              "      gap: 12px;\n",
              "    }\n",
              "\n",
              "    .colab-df-convert {\n",
              "      background-color: #E8F0FE;\n",
              "      border: none;\n",
              "      border-radius: 50%;\n",
              "      cursor: pointer;\n",
              "      display: none;\n",
              "      fill: #1967D2;\n",
              "      height: 32px;\n",
              "      padding: 0 0 0 0;\n",
              "      width: 32px;\n",
              "    }\n",
              "\n",
              "    .colab-df-convert:hover {\n",
              "      background-color: #E2EBFA;\n",
              "      box-shadow: 0px 1px 2px rgba(60, 64, 67, 0.3), 0px 1px 3px 1px rgba(60, 64, 67, 0.15);\n",
              "      fill: #174EA6;\n",
              "    }\n",
              "\n",
              "    [theme=dark] .colab-df-convert {\n",
              "      background-color: #3B4455;\n",
              "      fill: #D2E3FC;\n",
              "    }\n",
              "\n",
              "    [theme=dark] .colab-df-convert:hover {\n",
              "      background-color: #434B5C;\n",
              "      box-shadow: 0px 1px 3px 1px rgba(0, 0, 0, 0.15);\n",
              "      filter: drop-shadow(0px 1px 2px rgba(0, 0, 0, 0.3));\n",
              "      fill: #FFFFFF;\n",
              "    }\n",
              "  </style>\n",
              "\n",
              "      <script>\n",
              "        const buttonEl =\n",
              "          document.querySelector('#df-0bd1efbb-2de0-44f1-ae84-67ac9d432523 button.colab-df-convert');\n",
              "        buttonEl.style.display =\n",
              "          google.colab.kernel.accessAllowed ? 'block' : 'none';\n",
              "\n",
              "        async function convertToInteractive(key) {\n",
              "          const element = document.querySelector('#df-0bd1efbb-2de0-44f1-ae84-67ac9d432523');\n",
              "          const dataTable =\n",
              "            await google.colab.kernel.invokeFunction('convertToInteractive',\n",
              "                                                     [key], {});\n",
              "          if (!dataTable) return;\n",
              "\n",
              "          const docLinkHtml = 'Like what you see? Visit the ' +\n",
              "            '<a target=\"_blank\" href=https://colab.research.google.com/notebooks/data_table.ipynb>data table notebook</a>'\n",
              "            + ' to learn more about interactive tables.';\n",
              "          element.innerHTML = '';\n",
              "          dataTable['output_type'] = 'display_data';\n",
              "          await google.colab.output.renderOutput(dataTable, element);\n",
              "          const docLink = document.createElement('div');\n",
              "          docLink.innerHTML = docLinkHtml;\n",
              "          element.appendChild(docLink);\n",
              "        }\n",
              "      </script>\n",
              "    </div>\n",
              "  </div>\n",
              "  "
            ],
            "text/plain": [
              "      X    Y\n",
              "0   3.0  8.0\n",
              "2  10.0  6.5\n",
              "1  21.3  3.0"
            ]
          },
          "metadata": {},
          "execution_count": 203
        }
      ],
      "source": [
        "df"
      ]
    },
    {
      "cell_type": "code",
      "execution_count": null,
      "metadata": {
        "colab": {
          "base_uri": "https://localhost:8080/"
        },
        "id": "YkHQHYglEZXz",
        "outputId": "475482df-1161-403f-d1c2-d3342402c4c0"
      },
      "outputs": [
        {
          "output_type": "stream",
          "name": "stdout",
          "text": [
            "           2\n",
            "-0.005216 x - 0.1465 x + 8.486\n"
          ]
        }
      ],
      "source": [
        "P=interpolate.lagrange(df.X,df.Y)\n",
        "print(P)"
      ]
    },
    {
      "cell_type": "code",
      "execution_count": null,
      "metadata": {
        "id": "7Tyn6kv0EZX0",
        "outputId": "c27ed729-cc00-4922-b4e3-5cdd0b010e87",
        "colab": {
          "base_uri": "https://localhost:8080/",
          "height": 286
        }
      },
      "outputs": [
        {
          "output_type": "execute_result",
          "data": {
            "text/plain": [
              "(0.0, 12.0)"
            ]
          },
          "metadata": {},
          "execution_count": 205
        },
        {
          "output_type": "display_data",
          "data": {
            "image/png": "[encoded data removed]",
            "text/plain": [
              "<Figure size 432x288 with 1 Axes>"
            ]
          },
          "metadata": {
            "needs_background": "light"
          }
        }
      ],
      "source": [
        "plt.plot(df.X,df.Y,'ro')\n",
        "x=np.linspace(-8,30)\n",
        "plt.plot(x,P( x),'b-')\n",
        "plt.grid()\n",
        "plt.ylim(0,12)"
      ]
    },
    {
      "cell_type": "markdown",
      "metadata": {
        "id": "rUWy88RxO42N"
      },
      "source": [
        "### Example of error calculation\n",
        "See details [here](https://math.stackexchange.com/a/1151599/790274)\n",
        "\n",
        "Consider $f(x) = \\operatorname{e}^{2x} - x$ interpolation in the interval $[1,1.6]$ \n",
        "\n",
        "1. Construct the Lagrange Polynomial for the points $x_0=1$, $x_1=1.25$, $x_2=1.6$. \n",
        "1. Find the approximate value at $f(1.5)$ and the error bound for the approximation"
      ]
    },
    {
      "cell_type": "markdown",
      "metadata": {
        "id": "T5bvs7rvO42O"
      },
      "source": [
        "1. We start by defining the function\n",
        "\n",
        "Be sure that the function input will be an array"
      ]
    },
    {
      "cell_type": "code",
      "execution_count": null,
      "metadata": {
        "id": "82j4iG8UO42O",
        "outputId": "53986a86-329d-482b-ed1b-2fa3091ff822",
        "colab": {
          "base_uri": "https://localhost:8080/"
        }
      },
      "outputs": [
        {
          "output_type": "execute_result",
          "data": {
            "text/plain": [
              "array([2.71828183, 3.49034296, 4.95303242, 2.71828183, 3.49034296,\n",
              "       4.95303242])"
            ]
          },
          "metadata": {},
          "execution_count": 206
        }
      ],
      "source": [
        "#Wrong result for a list\n",
        "x=[1,1.25,1.6]\n",
        "np.exp(2*x)"
      ]
    },
    {
      "cell_type": "code",
      "execution_count": null,
      "metadata": {
        "id": "SOmkYfR3O42O",
        "outputId": "d4255325-6b9f-44e4-ec06-ea31f401ef40",
        "colab": {
          "base_uri": "https://localhost:8080/"
        }
      },
      "outputs": [
        {
          "output_type": "execute_result",
          "data": {
            "text/plain": [
              "[1, 1.25, 1.6, 1, 1.25, 1.6]"
            ]
          },
          "metadata": {},
          "execution_count": 207
        }
      ],
      "source": [
        "x+x"
      ]
    },
    {
      "cell_type": "code",
      "execution_count": null,
      "metadata": {
        "id": "2RET-a6ZO42O",
        "outputId": "4c256264-7a0f-4e74-d50c-019a29883138",
        "colab": {
          "base_uri": "https://localhost:8080/"
        }
      },
      "outputs": [
        {
          "output_type": "execute_result",
          "data": {
            "text/plain": [
              "[1, 1.25, 1.6, 1, 1.25, 1.6]"
            ]
          },
          "metadata": {},
          "execution_count": 208
        }
      ],
      "source": [
        "2*x"
      ]
    },
    {
      "cell_type": "code",
      "execution_count": null,
      "metadata": {
        "id": "2sUUt0nQO42P",
        "outputId": "9b6162bc-0298-4a36-de0f-6820c52069b1",
        "colab": {
          "base_uri": "https://localhost:8080/"
        }
      },
      "outputs": [
        {
          "output_type": "execute_result",
          "data": {
            "text/plain": [
              "array([ 7.3890561 , 12.18249396, 24.5325302 ])"
            ]
          },
          "metadata": {},
          "execution_count": 209
        }
      ],
      "source": [
        "np.exp(2*np.array(x))"
      ]
    },
    {
      "cell_type": "code",
      "execution_count": null,
      "metadata": {
        "id": "ITCykZANO42P",
        "outputId": "6ae953d1-3366-4743-e6aa-75cf42ccffcf",
        "colab": {
          "base_uri": "https://localhost:8080/",
          "height": 180
        }
      },
      "outputs": [
        {
          "output_type": "error",
          "ename": "TypeError",
          "evalue": "ignored",
          "traceback": [
            "\u001b[0;31m---------------------------------------------------------------------------\u001b[0m",
            "\u001b[0;31mTypeError\u001b[0m                                 Traceback (most recent call last)",
            "\u001b[0;32m<ipython-input-210-641c9f212de0>\u001b[0m in \u001b[0;36m<module>\u001b[0;34m()\u001b[0m\n\u001b[1;32m      1\u001b[0m \u001b[0;31m#List operations are not well defined in general\u001b[0m\u001b[0;34m\u001b[0m\u001b[0;34m\u001b[0m\u001b[0;34m\u001b[0m\u001b[0m\n\u001b[0;32m----> 2\u001b[0;31m \u001b[0;34m[\u001b[0m\u001b[0;36m1\u001b[0m\u001b[0;34m,\u001b[0m\u001b[0;36m2\u001b[0m\u001b[0;34m,\u001b[0m\u001b[0;36m4\u001b[0m\u001b[0;34m]\u001b[0m\u001b[0;34m-\u001b[0m\u001b[0;34m[\u001b[0m\u001b[0;36m1\u001b[0m\u001b[0;34m,\u001b[0m\u001b[0;36m5\u001b[0m\u001b[0;34m,\u001b[0m\u001b[0;36m6\u001b[0m\u001b[0;34m]\u001b[0m\u001b[0;34m\u001b[0m\u001b[0;34m\u001b[0m\u001b[0m\n\u001b[0m",
            "\u001b[0;31mTypeError\u001b[0m: unsupported operand type(s) for -: 'list' and 'list'"
          ]
        }
      ],
      "source": [
        "#List operations are not well defined in general\n",
        "[1,2,4]-[1,5,6]"
      ]
    },
    {
      "cell_type": "code",
      "execution_count": null,
      "metadata": {
        "id": "hN6o18xaO42P"
      },
      "outputs": [],
      "source": [
        "def f(x):\n",
        "    '''\n",
        "    WARNING: all the parts of the function must be \n",
        "    numpy arrays in order to get the element by element sum.\n",
        "    '''\n",
        "    x=np.asarray(x) # Force x → array\n",
        "    return np.exp(2*x)-x"
      ]
    },
    {
      "cell_type": "markdown",
      "metadata": {
        "id": "TzxEH5GhO42Q"
      },
      "source": [
        "The interpolation polynomial is"
      ]
    },
    {
      "cell_type": "code",
      "execution_count": null,
      "metadata": {
        "id": "q0iGSF2XO42Q"
      },
      "outputs": [],
      "source": [
        "x=[1,1.25,1.6]\n",
        "P_2=interpolate.lagrange(x,f(x))\n",
        "print(P_2)"
      ]
    },
    {
      "cell_type": "markdown",
      "metadata": {
        "id": "2CrHF5eIO42Q"
      },
      "source": [
        "Test interpolation with one of the three points"
      ]
    },
    {
      "cell_type": "code",
      "execution_count": null,
      "metadata": {
        "id": "1Gk0bt5QO42R"
      },
      "outputs": [],
      "source": [
        "P_2(x[1]),f(x[1])"
      ]
    },
    {
      "cell_type": "markdown",
      "metadata": {
        "id": "q3ds_CLxO42R"
      },
      "source": [
        "For the bounded error we start with the left part\n",
        "$$\n",
        "\\max_{\\xi\\in[1,1.6]}\\left|\\frac{f'''(\\xi)}{(3)!}\\right| \n",
        "$$\n",
        "where\n",
        "$$f'(x)=2\\operatorname{e}^{2x}-1$$\n",
        "$$f''(x)=4\\operatorname{e}^{2x}$$\n",
        "$$f'''(x)=8\\operatorname{e}^{2x}$$\n",
        "The maximum is obtained for the last point $x_2$"
      ]
    },
    {
      "cell_type": "code",
      "execution_count": null,
      "metadata": {
        "id": "juoXdqh6O42R"
      },
      "outputs": [],
      "source": [
        "fppp=8*np.exp(2*x[2])\n",
        "fppp"
      ]
    },
    {
      "cell_type": "markdown",
      "metadata": {
        "id": "XRDOMLEnO42S"
      },
      "source": [
        "For the right part \n",
        "$$\n",
        "\\max_{x\\in[a,b]}\\left|\\prod_{i=0}^{2}\\left(x-x_{i}\\right)\\right|=\n",
        "$$\n",
        "we need just to build the numpy polynomial with roots at $(x_0,x_1,x_2)$\n",
        "$$\n",
        "p_e(x)=(x-x_0)(x-x_1)(x-x_2)\\,,\n",
        "$$"
      ]
    },
    {
      "cell_type": "code",
      "execution_count": null,
      "metadata": {
        "id": "DEIufXZqO42S"
      },
      "outputs": [],
      "source": [
        "p_e=np.poly1d(x,r=True)"
      ]
    },
    {
      "cell_type": "code",
      "execution_count": null,
      "metadata": {
        "id": "WuPCdGVsO42S"
      },
      "outputs": [],
      "source": [
        "X=np.linspace( x[0],x[-1]  )\n",
        "plt.plot(X,p_e(X))\n",
        "plt.plot(X,p_e.deriv()(X))\n",
        "plt.ylim(-0.02,0.01)\n",
        "plt.grid()"
      ]
    },
    {
      "cell_type": "markdown",
      "metadata": {
        "id": "MD1cDJzUO42T"
      },
      "source": [
        "And find the maximun of the absolute value of the critical points"
      ]
    },
    {
      "cell_type": "code",
      "execution_count": null,
      "metadata": {
        "id": "gJo7cwxcO42T"
      },
      "outputs": [],
      "source": [
        "p_e.deriv().roots"
      ]
    },
    {
      "cell_type": "markdown",
      "metadata": {
        "id": "uNIcpBEmO42T"
      },
      "source": [
        "The point in the interval $[1,1.6]$ for which $|p_e(x)|$ is maximum corresponds to the root"
      ]
    },
    {
      "cell_type": "code",
      "execution_count": null,
      "metadata": {
        "id": "Bc73YNblO42T"
      },
      "outputs": [],
      "source": [
        "xmax=p_e.deriv().roots[0]\n",
        "xmax"
      ]
    },
    {
      "cell_type": "code",
      "execution_count": null,
      "metadata": {
        "id": "6H_q0QYjO42U"
      },
      "outputs": [],
      "source": [
        "np.abs(p_e(xmax))"
      ]
    },
    {
      "cell_type": "markdown",
      "metadata": {
        "id": "UiCxqSE6O42U"
      },
      "source": [
        "Or"
      ]
    },
    {
      "cell_type": "code",
      "execution_count": null,
      "metadata": {
        "id": "-byEUvBpO42U"
      },
      "outputs": [],
      "source": [
        "p_emax=np.abs( p_e(p_e.deriv().roots) ).max()"
      ]
    },
    {
      "cell_type": "code",
      "execution_count": null,
      "metadata": {
        "id": "11AZnKkQO42U"
      },
      "outputs": [],
      "source": [
        "p_emax"
      ]
    },
    {
      "cell_type": "markdown",
      "metadata": {
        "id": "A_lZ3K1OO42V"
      },
      "source": [
        "In this way, the maximum error for $p(x)$ is expected for $x_{\\text{max}}=1.45733844$"
      ]
    },
    {
      "cell_type": "markdown",
      "metadata": {
        "id": "fyAorsTqO42V"
      },
      "source": [
        "The bounded error is then\n",
        "$$\n",
        "E_2(x)=\\max_{\\xi\\in[1,1.6]}\\left|\\frac{f'''(\\xi)}{(3)!}\\right|\\cdot\\max_{x\\in[a,b]}\\left|\\prod_{i=0}^{2}\\left(x-x_{i}\\right)\\right|\n",
        "$$"
      ]
    },
    {
      "cell_type": "code",
      "execution_count": null,
      "metadata": {
        "id": "gCGaO0ylO42V"
      },
      "outputs": [],
      "source": [
        "E_2=fppp/(2*3)*p_emax\n",
        "E_2"
      ]
    },
    {
      "cell_type": "code",
      "execution_count": null,
      "metadata": {
        "id": "por4VpY6O42W"
      },
      "outputs": [],
      "source": [
        "X=1.5\n",
        "f(X)"
      ]
    },
    {
      "cell_type": "code",
      "execution_count": null,
      "metadata": {
        "id": "ImPejyCJO42W"
      },
      "outputs": [],
      "source": [
        "P_2(X)"
      ]
    },
    {
      "cell_type": "code",
      "execution_count": null,
      "metadata": {
        "id": "TZj0N1ZOO42W"
      },
      "outputs": [],
      "source": [
        "P_2(X)-f(X)"
      ]
    },
    {
      "cell_type": "markdown",
      "metadata": {
        "id": "ig69eSfsO42X"
      },
      "source": [
        "The real bounded error is"
      ]
    },
    {
      "cell_type": "code",
      "execution_count": null,
      "metadata": {
        "id": "aqUuQVgcO42X"
      },
      "outputs": [],
      "source": [
        "xlin=np.linspace(x[0],x[-1],100)\n",
        "np.abs(P_2(xlin)-f(xlin)).max()"
      ]
    },
    {
      "cell_type": "code",
      "execution_count": null,
      "metadata": {
        "id": "6es0CB2SO42Y"
      },
      "outputs": [],
      "source": [
        "plt.plot(X,f(X),label='$f(x)$')\n",
        "plt.plot(X,P_2(X),label='$P_2(x)$')\n",
        "plt.grid()\n",
        "plt.xlabel('$x$',size=12)\n",
        "plt.legend()"
      ]
    },
    {
      "cell_type": "code",
      "execution_count": null,
      "metadata": {
        "id": "f-dGXtEIO42Z"
      },
      "outputs": [],
      "source": [
        "plt.plot(X,np.abs(P_2(X)-f(X) ))\n",
        "plt.grid()"
      ]
    },
    {
      "cell_type": "markdown",
      "metadata": {
        "id": "WSrNnaKcEZX2"
      },
      "source": [
        "### Implementation in `sympy`\n",
        "For details see [here](./LagrangePoly.ipynb)"
      ]
    },
    {
      "cell_type": "code",
      "execution_count": null,
      "metadata": {
        "id": "JLkzFjKWO42Z"
      },
      "outputs": [],
      "source": [
        "%pylab inline"
      ]
    },
    {
      "cell_type": "code",
      "execution_count": null,
      "metadata": {
        "id": "a_-vCDA_O42a"
      },
      "outputs": [],
      "source": [
        "df=pd.read_csv('https://github.com/restrepo/ComputationalMethods/raw/master/data/interpolation.csv')"
      ]
    },
    {
      "cell_type": "code",
      "execution_count": null,
      "metadata": {
        "id": "eXg7UygaO42a"
      },
      "outputs": [],
      "source": [
        "df"
      ]
    },
    {
      "cell_type": "code",
      "execution_count": null,
      "metadata": {
        "id": "0VOIS4fJEZX3"
      },
      "outputs": [],
      "source": [
        "import LagrangePolynomial as LP\n",
        "LP.lagrangePolynomial(df.X,df.Y)"
      ]
    },
    {
      "cell_type": "markdown",
      "metadata": {
        "id": "2_6up-MlEZX6"
      },
      "source": [
        "$$P_n(x) =  \\sum_{i=0}^n L_{n,i}(x) \\, y_i$$"
      ]
    },
    {
      "cell_type": "code",
      "execution_count": null,
      "metadata": {
        "id": "mh1rbre7EZX6"
      },
      "outputs": [],
      "source": [
        "LP.polyL( df.X,0)*df.Y[0]+LP.polyL( df.X,1)*df.Y[1]+LP.polyL( df.X,2)*df.Y[2]"
      ]
    },
    {
      "cell_type": "code",
      "execution_count": null,
      "metadata": {
        "id": "u6yTjAlVO42c"
      },
      "outputs": [],
      "source": [
        "df"
      ]
    },
    {
      "cell_type": "code",
      "execution_count": null,
      "metadata": {
        "id": "9eFDtBs6O42c"
      },
      "outputs": [],
      "source": [
        "df.X[0]"
      ]
    },
    {
      "cell_type": "markdown",
      "metadata": {
        "id": "FEj64uDmEZX8"
      },
      "source": [
        "## Steps LP"
      ]
    },
    {
      "cell_type": "markdown",
      "metadata": {
        "id": "t6ks3grEEZX8"
      },
      "source": [
        "Once defined the formal procedure for constructing a Lagrange Polynomial, we proceed to describe the explicit algorithm:\n",
        "\n",
        "1. Give the working dataset $(x_i, y_i)$ and stablish how many points you have.\n",
        "2. Define the functions $L_{n,i}(x)$ in a general way.\n",
        "3. Add each of those terms as shown in last expression.\n",
        "4. Evaluate your result wherever you want."
      ]
    },
    {
      "cell_type": "markdown",
      "metadata": {
        "id": "FbuCBnS4EZX9"
      },
      "source": [
        "**Activity**\n",
        "\n",
        "Along with the professor, write an implementation of the previous algorithm during classtime."
      ]
    },
    {
      "cell_type": "markdown",
      "metadata": {
        "id": "-1r8xBk8EZX9"
      },
      "source": [
        "## Activity LP"
      ]
    },
    {
      "cell_type": "markdown",
      "metadata": {
        "id": "ZkuEZPFTEZX-"
      },
      "source": [
        "<div style=\"float: right;\" markdown=\"1\">\n",
        "    <img src=\"http://universe-review.ca/I05-28-NGC7331.jpg\">\n",
        "</div>\n",
        "\n",
        "One of the very first evidences of the existence of dark matter was the flat rotation curves of spiral galaxies. If we assume the total budget of mass of a galaxy is entirely made of luminous matter, the orbital circular velocity of stars around the galaxy plane should decay according to a keplerian potential. However this is not the case and the circular velocity barely decreases at larger radius, thus indicating the presence of a new non-visible matter component (dark matter). When it is necessary to determine how massive is the dark matter halo embedding a galaxy, an integration of the circular velocity is required. Nevertheless, due to the finite array of a CCD camera, only a discrete set of velocities can be measured and interpolation techniques are required.\n",
        "\n",
        "\n",
        "In this activity we will take a discrete dataset of the circular velocity as a function of the radius for the galaxy [NGC 7331](http://es.wikipedia.org/wiki/NGC_7331) and perform both, a linear and a Lagrange interpolation. You can download the dataset from this [link](https://raw.githubusercontent.com/sbustamante/ComputationalMethods/master/data/NGC7331.dat).\n"
      ]
    },
    {
      "cell_type": "markdown",
      "metadata": {
        "id": "6BmEFS28EZX_"
      },
      "source": [
        "[Video](https://upload.wikimedia.org/wikipedia/commons/transcoded/3/33/Galaxy_rotation_under_the_influence_of_dark_matter.ogv/Galaxy_rotation_under_the_influence_of_dark_matter.ogv.360p.webm)"
      ]
    },
    {
      "cell_type": "markdown",
      "metadata": {
        "id": "fseOFy-DEZX_"
      },
      "source": [
        "<font color='blue'>\n",
        "**TRIVIA**<br/> \n",
        "To which of two curves the real data approach better?\n",
        "</font>"
      ]
    },
    {
      "cell_type": "markdown",
      "metadata": {
        "id": "XaM0WuPQEZX_"
      },
      "source": [
        "import os\n",
        "os.remove('trivia_results.txt')"
      ]
    },
    {
      "cell_type": "code",
      "execution_count": null,
      "metadata": {
        "id": "pcbVK4pkEZX_"
      },
      "outputs": [],
      "source": [
        "f=open('trivia_results.txt','a')\n",
        "AB=input(r'''A: to the curve \"velocity goes to zero when distance goes to infinity\"\n",
        "B: to the curve \"velocity goes to high constant when distance goes to infinity\"\n",
        "''')\n",
        "f.write( '{}\\n'.format(AB) )\n",
        "f.close()"
      ]
    },
    {
      "cell_type": "code",
      "execution_count": null,
      "metadata": {
        "id": "xQ1a6G2ZEZYB"
      },
      "outputs": [],
      "source": [
        "fr=open('trivia_results.txt')\n",
        "print( fr.read())\n",
        "fr.close()"
      ]
    },
    {
      "cell_type": "markdown",
      "metadata": {
        "id": "WsMD7hIjEZYD"
      },
      "source": [
        "os.remove('trivia_results.txt')"
      ]
    },
    {
      "cell_type": "markdown",
      "metadata": {
        "id": "IAYkvn-_EZYD"
      },
      "source": [
        "### Lets us check! "
      ]
    },
    {
      "cell_type": "code",
      "execution_count": null,
      "metadata": {
        "id": "JiCl9H_TEZYE"
      },
      "outputs": [],
      "source": [
        "#DATA URL: \n",
        "url='https://raw.githubusercontent.com/restrepo/ComputationalMethods/master/data/NGC7331.csv'\n",
        "df=pd.read_csv(url)\n",
        "df[0:5]"
      ]
    },
    {
      "cell_type": "code",
      "execution_count": null,
      "metadata": {
        "id": "fFkFQPAwO42g"
      },
      "outputs": [],
      "source": [
        "df.shape"
      ]
    },
    {
      "cell_type": "code",
      "execution_count": null,
      "metadata": {
        "id": "HUVw9xGgEZYL"
      },
      "outputs": [],
      "source": [
        "plt.plot(df.r,df.v,'r.')\n",
        "plt.xlabel('$r$ [pc]',size=12 )\n",
        "plt.ylabel('$v$ [km/s]',size=12 )"
      ]
    },
    {
      "cell_type": "markdown",
      "metadata": {
        "id": "by-IQm0uEZYO"
      },
      "source": [
        "Build expected data"
      ]
    },
    {
      "cell_type": "code",
      "execution_count": null,
      "metadata": {
        "id": "Hq31R98xEZYP"
      },
      "outputs": [],
      "source": [
        "dff=df[:60]\n",
        "#dff=dff.append(pd.DataFrame( {'r':[5,10],'v':[60,20]} )).reset_index(drop=True) # ,15,20,25,30 ,120,105,100,98\n",
        "#dff=dff.append(pd.DataFrame( {'r':[3.5,4,10],'v':[230,200,20]} )).reset_index(drop=True) # ,15,20,25,30 ,120,105,100,98\n",
        "dff=dff.append(pd.DataFrame( {'r':[3.5,4,9],'v':[230,200,22]} )).reset_index(drop=True) # ,15,20,25,30 ,120,105,100,98"
      ]
    },
    {
      "cell_type": "code",
      "execution_count": null,
      "metadata": {
        "id": "ioCe6gC6EZYQ"
      },
      "outputs": [],
      "source": [
        "plt.plot(df['r'],df['v'],'r-')\n",
        "plt.plot(dff.r, dff.v,'b.')"
      ]
    },
    {
      "cell_type": "code",
      "execution_count": null,
      "metadata": {
        "id": "CRQDSzoyEZYU"
      },
      "outputs": [],
      "source": [
        "plt.plot(df['r'],1./df['v'],'r-')\n",
        "plt.plot(dff['r'],1./dff['v'],'b.')"
      ]
    },
    {
      "cell_type": "code",
      "execution_count": null,
      "metadata": {
        "id": "fA6q4n5XEZYX"
      },
      "outputs": [],
      "source": [
        "coeff=np.polyfit(dff['r'],1./dff['v'],2)\n",
        "P=poly1d(coeff,variable='r')\n",
        "print(P)"
      ]
    },
    {
      "cell_type": "code",
      "execution_count": null,
      "metadata": {
        "id": "d0ctfSJmEZYa"
      },
      "outputs": [],
      "source": [
        "r=np.logspace( np.log10(0.001),np.log10(30 ),100 )\n",
        "plt.plot(dff['r'],1./dff['v'],'b.')\n",
        "plt.plot(r,P(r),'k-')"
      ]
    },
    {
      "cell_type": "code",
      "execution_count": null,
      "metadata": {
        "id": "efFbUfhoEZYe"
      },
      "outputs": [],
      "source": [
        "plt.plot(df['r'],df['v'],'r-')\n",
        "plt.plot(dff['r'],dff['v'],'b.')\n",
        "plt.plot(r,1/P(r),'k-')"
      ]
    },
    {
      "cell_type": "markdown",
      "metadata": {
        "id": "1la5ZCwrEZYh"
      },
      "source": [
        "- - -"
      ]
    },
    {
      "cell_type": "code",
      "execution_count": null,
      "metadata": {
        "id": "yHx9Utbqjz3i"
      },
      "outputs": [],
      "source": [
        "np.log(2)/0.105"
      ]
    },
    {
      "cell_type": "markdown",
      "metadata": {
        "id": "BR6smicNjz3k"
      },
      "source": [
        "###  Logarithmic interpolation\n",
        "See: https://stackoverflow.com/a/29359275/2268280"
      ]
    },
    {
      "cell_type": "markdown",
      "metadata": {
        "id": "VSYozPLFEZYl"
      },
      "source": [
        "# Appendix\n",
        "Thecnical details of interpolation functions: [interpolation_details.ipynb](./interpolation_details.ipynb)"
      ]
    },
    {
      "cell_type": "markdown",
      "metadata": {
        "id": "AgI5Gpb-O42k"
      },
      "source": [
        "<span style=\"color:blue\">some *blue* text</span>.\n",
        "\n",
        "Hola"
      ]
    },
    {
      "cell_type": "code",
      "execution_count": null,
      "metadata": {
        "id": "SeIUdGlsO42k"
      },
      "outputs": [],
      "source": [
        ""
      ]
    }
  ],
  "metadata": {
    "colab": {
      "collapsed_sections": [
        "HAld-e8YEZXu",
        "me-qxh8sEZXv",
        "QrN1hmlnEZXv",
        "WSrNnaKcEZX2",
        "FEj64uDmEZX8",
        "XFqacQP6EZX8",
        "-1r8xBk8EZX9",
        "IAYkvn-_EZYD"
      ],
      "name": "Interpolation_DayanaHenao_1001469185.ipynb",
      "provenance": []
    },
    "deepnote_notebook_id": "a29db036-b736-44e2-9604-7aba7d48298f",
    "kernelspec": {
      "display_name": "Python 3 (ipykernel)",
      "language": "python",
      "name": "python3"
    },
    "language_info": {
      "codemirror_mode": {
        "name": "ipython",
        "version": 3
      },
      "file_extension": ".py",
      "mimetype": "text/x-python",
      "name": "python",
      "nbconvert_exporter": "python",
      "pygments_lexer": "ipython3",
      "version": "3.7.3"
    }
  },
  "nbformat": 4,
  "nbformat_minor": 0
}