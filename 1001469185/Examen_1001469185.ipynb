{
  "cells": [
    {
      "cell_type": "markdown",
      "source": [
        "**Nombre:** Dayana Andrea Henao Arbeláez\n",
        "\n",
        "**Cédula:** 1001469185"
      ],
      "metadata": {
        "id": "iea0kabtrkl_"
      }
    },
    {
      "cell_type": "markdown",
      "metadata": {
        "id": "BmtszDtPpcXm"
      },
      "source": [
        "Los siguientes datos fueron extraidos de los datos para la cuarta ola de infecciones por millon de  habitantes (IPMH) de Colombia por la variante Omicrón del Coronavirus\n",
        "\n",
        "A) Genere un data frame de pandas y agregé una nueva columna de IPMH con una incertidubre del 2 por mil aleatoria. Es decir, a cada IPMH sumarle o restarle un número aleatoria en el rango de su 2 por mil\n",
        "\n",
        "B) Interprete los datos como un problema de caida libre y a partir del ajuste (fit) a la correspondiente ecuación de movimiento, determine (para la columna con incertidumbre)\n",
        "1. La velocidad inicial de IPMH  en `IPMH/día`\n",
        "1. La aceleración constante en `IPMH/día**2`\n",
        "1. El número máximo de IPMH que se alcanzaría\n",
        "1. El número de días en el que se alcanzaría dicho máximo\n",
        "1. Realice una gráfico que muestré el ajuste y la posición del máximo usando los estándares adecuados\n",
        "\n",
        "DATOS\n",
        "```python  \n",
        "[\n",
        "    {'día':1,'IPMH':464},\n",
        "    {'día':2,'IPMH':494},\n",
        "    {'día':3,'IPMH':532},\n",
        "    {'día':4,'IPMH':552},\n",
        "    {'día':5,'IPMH':576},\n",
        "    {'día':6,'IPMH':589}\n",
        "]\n",
        "```"
      ]
    },
    {
      "cell_type": "markdown",
      "source": [
        "# Primer punto"
      ],
      "metadata": {
        "id": "7PDXUxlkxEYT"
      }
    },
    {
      "cell_type": "code",
      "execution_count": 191,
      "metadata": {
        "id": "aVWwlvc5rjO1"
      },
      "outputs": [],
      "source": [
        "import numpy as np\n",
        "import pandas as pd\n",
        "from scipy import optimize\n",
        "from scipy import interpolate\n",
        "import matplotlib.pyplot as plt"
      ]
    },
    {
      "cell_type": "code",
      "source": [
        "df=pd.DataFrame({'día':[1,2,3,4,5,6], 'IPMH':[464,494,532,552,576,589]})"
      ],
      "metadata": {
        "id": "z3pwby0JsPnc"
      },
      "execution_count": 192,
      "outputs": []
    },
    {
      "cell_type": "code",
      "source": [
        "# Dataframe con los datos de los días y el IPMH \n",
        "df"
      ],
      "metadata": {
        "colab": {
          "base_uri": "https://localhost:8080/",
          "height": 238
        },
        "id": "ezgp-UcMszCd",
        "outputId": "7ae2987b-eaa2-465a-a2f6-0c424123991f"
      },
      "execution_count": 193,
      "outputs": [
        {
          "output_type": "execute_result",
          "data": {
            "text/html": [
              "\n",
              "  <div id=\"df-a574310f-73b3-476e-b9f8-c904cebe67b6\">\n",
              "    <div class=\"colab-df-container\">\n",
              "      <div>\n",
              "<style scoped>\n",
              "    .dataframe tbody tr th:only-of-type {\n",
              "        vertical-align: middle;\n",
              "    }\n",
              "\n",
              "    .dataframe tbody tr th {\n",
              "        vertical-align: top;\n",
              "    }\n",
              "\n",
              "    .dataframe thead th {\n",
              "        text-align: right;\n",
              "    }\n",
              "</style>\n",
              "<table border=\"1\" class=\"dataframe\">\n",
              "  <thead>\n",
              "    <tr style=\"text-align: right;\">\n",
              "      <th></th>\n",
              "      <th>día</th>\n",
              "      <th>IPMH</th>\n",
              "    </tr>\n",
              "  </thead>\n",
              "  <tbody>\n",
              "    <tr>\n",
              "      <th>0</th>\n",
              "      <td>1</td>\n",
              "      <td>464</td>\n",
              "    </tr>\n",
              "    <tr>\n",
              "      <th>1</th>\n",
              "      <td>2</td>\n",
              "      <td>494</td>\n",
              "    </tr>\n",
              "    <tr>\n",
              "      <th>2</th>\n",
              "      <td>3</td>\n",
              "      <td>532</td>\n",
              "    </tr>\n",
              "    <tr>\n",
              "      <th>3</th>\n",
              "      <td>4</td>\n",
              "      <td>552</td>\n",
              "    </tr>\n",
              "    <tr>\n",
              "      <th>4</th>\n",
              "      <td>5</td>\n",
              "      <td>576</td>\n",
              "    </tr>\n",
              "    <tr>\n",
              "      <th>5</th>\n",
              "      <td>6</td>\n",
              "      <td>589</td>\n",
              "    </tr>\n",
              "  </tbody>\n",
              "</table>\n",
              "</div>\n",
              "      <button class=\"colab-df-convert\" onclick=\"convertToInteractive('df-a574310f-73b3-476e-b9f8-c904cebe67b6')\"\n",
              "              title=\"Convert this dataframe to an interactive table.\"\n",
              "              style=\"display:none;\">\n",
              "        \n",
              "  <svg xmlns=\"http://www.w3.org/2000/svg\" height=\"24px\"viewBox=\"0 0 24 24\"\n",
              "       width=\"24px\">\n",
              "    <path d=\"M0 0h24v24H0V0z\" fill=\"none\"/>\n",
              "    <path d=\"M18.56 5.44l.94 2.06.94-2.06 2.06-.94-2.06-.94-.94-2.06-.94 2.06-2.06.94zm-11 1L8.5 8.5l.94-2.06 2.06-.94-2.06-.94L8.5 2.5l-.94 2.06-2.06.94zm10 10l.94 2.06.94-2.06 2.06-.94-2.06-.94-.94-2.06-.94 2.06-2.06.94z\"/><path d=\"M17.41 7.96l-1.37-1.37c-.4-.4-.92-.59-1.43-.59-.52 0-1.04.2-1.43.59L10.3 9.45l-7.72 7.72c-.78.78-.78 2.05 0 2.83L4 21.41c.39.39.9.59 1.41.59.51 0 1.02-.2 1.41-.59l7.78-7.78 2.81-2.81c.8-.78.8-2.07 0-2.86zM5.41 20L4 18.59l7.72-7.72 1.47 1.35L5.41 20z\"/>\n",
              "  </svg>\n",
              "      </button>\n",
              "      \n",
              "  <style>\n",
              "    .colab-df-container {\n",
              "      display:flex;\n",
              "      flex-wrap:wrap;\n",
              "      gap: 12px;\n",
              "    }\n",
              "\n",
              "    .colab-df-convert {\n",
              "      background-color: #E8F0FE;\n",
              "      border: none;\n",
              "      border-radius: 50%;\n",
              "      cursor: pointer;\n",
              "      display: none;\n",
              "      fill: #1967D2;\n",
              "      height: 32px;\n",
              "      padding: 0 0 0 0;\n",
              "      width: 32px;\n",
              "    }\n",
              "\n",
              "    .colab-df-convert:hover {\n",
              "      background-color: #E2EBFA;\n",
              "      box-shadow: 0px 1px 2px rgba(60, 64, 67, 0.3), 0px 1px 3px 1px rgba(60, 64, 67, 0.15);\n",
              "      fill: #174EA6;\n",
              "    }\n",
              "\n",
              "    [theme=dark] .colab-df-convert {\n",
              "      background-color: #3B4455;\n",
              "      fill: #D2E3FC;\n",
              "    }\n",
              "\n",
              "    [theme=dark] .colab-df-convert:hover {\n",
              "      background-color: #434B5C;\n",
              "      box-shadow: 0px 1px 3px 1px rgba(0, 0, 0, 0.15);\n",
              "      filter: drop-shadow(0px 1px 2px rgba(0, 0, 0, 0.3));\n",
              "      fill: #FFFFFF;\n",
              "    }\n",
              "  </style>\n",
              "\n",
              "      <script>\n",
              "        const buttonEl =\n",
              "          document.querySelector('#df-a574310f-73b3-476e-b9f8-c904cebe67b6 button.colab-df-convert');\n",
              "        buttonEl.style.display =\n",
              "          google.colab.kernel.accessAllowed ? 'block' : 'none';\n",
              "\n",
              "        async function convertToInteractive(key) {\n",
              "          const element = document.querySelector('#df-a574310f-73b3-476e-b9f8-c904cebe67b6');\n",
              "          const dataTable =\n",
              "            await google.colab.kernel.invokeFunction('convertToInteractive',\n",
              "                                                     [key], {});\n",
              "          if (!dataTable) return;\n",
              "\n",
              "          const docLinkHtml = 'Like what you see? Visit the ' +\n",
              "            '<a target=\"_blank\" href=https://colab.research.google.com/notebooks/data_table.ipynb>data table notebook</a>'\n",
              "            + ' to learn more about interactive tables.';\n",
              "          element.innerHTML = '';\n",
              "          dataTable['output_type'] = 'display_data';\n",
              "          await google.colab.output.renderOutput(dataTable, element);\n",
              "          const docLink = document.createElement('div');\n",
              "          docLink.innerHTML = docLinkHtml;\n",
              "          element.appendChild(docLink);\n",
              "        }\n",
              "      </script>\n",
              "    </div>\n",
              "  </div>\n",
              "  "
            ],
            "text/plain": [
              "   día  IPMH\n",
              "0    1   464\n",
              "1    2   494\n",
              "2    3   532\n",
              "3    4   552\n",
              "4    5   576\n",
              "5    6   589"
            ]
          },
          "metadata": {},
          "execution_count": 193
        }
      ]
    },
    {
      "cell_type": "code",
      "source": [
        "np.random.seed(1) # Pone una semilla para que los números aleatorios sean los mismos cada vez que se corra el código\n",
        "inc=[] \n",
        "for i in df.IPMH: \n",
        "  inc.append(np.random.uniform(-0.002*i,0.002*i)) # Genera un número aleatorio entre el rango de incertidumbre de cada valor y lo agrega a una lista.  "
      ],
      "metadata": {
        "id": "CFWg0584t3rc"
      },
      "execution_count": 194,
      "outputs": []
    },
    {
      "cell_type": "code",
      "source": [
        "# Lista de las incertidumbres\n",
        "inc\n"
      ],
      "metadata": {
        "colab": {
          "base_uri": "https://localhost:8080/"
        },
        "id": "_ahGN3wWvfl-",
        "outputId": "0585e19a-6dd9-47b4-f6b1-c8994675b327"
      },
      "execution_count": 195,
      "outputs": [
        {
          "output_type": "execute_result",
          "data": {
            "text/plain": [
              "[-0.1540071592720227,\n",
              " 0.43536119904170434,\n",
              " -1.0637566103886902,\n",
              " -0.4364496796288978,\n",
              " -0.8138744275573717,\n",
              " -0.9604502707247123]"
            ]
          },
          "metadata": {},
          "execution_count": 195
        }
      ]
    },
    {
      "cell_type": "code",
      "source": [
        "# Lista de los IPMH\n",
        "IPMH=[464,494,532,552,576,589]"
      ],
      "metadata": {
        "id": "Bk63k1Z9wf7q"
      },
      "execution_count": 196,
      "outputs": []
    },
    {
      "cell_type": "code",
      "source": [
        "# Para calcular la incertidumbre que se va a poner en el DataFrame, sumo las listas anteriores. \n",
        "incertidumbre = []\n",
        "\n",
        "for i, w in enumerate(inc):\n",
        "    incertidumbre.append(inc[i] + IPMH[i])\n",
        "\n",
        "print(incertidumbre)"
      ],
      "metadata": {
        "colab": {
          "base_uri": "https://localhost:8080/"
        },
        "id": "s3r9qJcGwUmQ",
        "outputId": "535aaca9-f6bc-447e-b72f-f92eb7871359"
      },
      "execution_count": 197,
      "outputs": [
        {
          "output_type": "stream",
          "name": "stdout",
          "text": [
            "[463.845992840728, 494.4353611990417, 530.9362433896113, 551.5635503203711, 575.1861255724426, 588.0395497292753]\n"
          ]
        }
      ]
    },
    {
      "cell_type": "markdown",
      "source": [
        "*DataFrame con las incertidumbres del IPMH*"
      ],
      "metadata": {
        "id": "KoAiaqQe_Tmh"
      }
    },
    {
      "cell_type": "code",
      "source": [
        "df['Incertidumbre']=incertidumbre\n",
        "df"
      ],
      "metadata": {
        "colab": {
          "base_uri": "https://localhost:8080/",
          "height": 238
        },
        "id": "1UnvVx8Uw1tM",
        "outputId": "70286a66-d316-4e5b-88ea-b6937bdbee6c"
      },
      "execution_count": 198,
      "outputs": [
        {
          "output_type": "execute_result",
          "data": {
            "text/html": [
              "\n",
              "  <div id=\"df-4542e608-1cd9-4aa5-8da9-2879c3279446\">\n",
              "    <div class=\"colab-df-container\">\n",
              "      <div>\n",
              "<style scoped>\n",
              "    .dataframe tbody tr th:only-of-type {\n",
              "        vertical-align: middle;\n",
              "    }\n",
              "\n",
              "    .dataframe tbody tr th {\n",
              "        vertical-align: top;\n",
              "    }\n",
              "\n",
              "    .dataframe thead th {\n",
              "        text-align: right;\n",
              "    }\n",
              "</style>\n",
              "<table border=\"1\" class=\"dataframe\">\n",
              "  <thead>\n",
              "    <tr style=\"text-align: right;\">\n",
              "      <th></th>\n",
              "      <th>día</th>\n",
              "      <th>IPMH</th>\n",
              "      <th>Incertidumbre</th>\n",
              "    </tr>\n",
              "  </thead>\n",
              "  <tbody>\n",
              "    <tr>\n",
              "      <th>0</th>\n",
              "      <td>1</td>\n",
              "      <td>464</td>\n",
              "      <td>463.845993</td>\n",
              "    </tr>\n",
              "    <tr>\n",
              "      <th>1</th>\n",
              "      <td>2</td>\n",
              "      <td>494</td>\n",
              "      <td>494.435361</td>\n",
              "    </tr>\n",
              "    <tr>\n",
              "      <th>2</th>\n",
              "      <td>3</td>\n",
              "      <td>532</td>\n",
              "      <td>530.936243</td>\n",
              "    </tr>\n",
              "    <tr>\n",
              "      <th>3</th>\n",
              "      <td>4</td>\n",
              "      <td>552</td>\n",
              "      <td>551.563550</td>\n",
              "    </tr>\n",
              "    <tr>\n",
              "      <th>4</th>\n",
              "      <td>5</td>\n",
              "      <td>576</td>\n",
              "      <td>575.186126</td>\n",
              "    </tr>\n",
              "    <tr>\n",
              "      <th>5</th>\n",
              "      <td>6</td>\n",
              "      <td>589</td>\n",
              "      <td>588.039550</td>\n",
              "    </tr>\n",
              "  </tbody>\n",
              "</table>\n",
              "</div>\n",
              "      <button class=\"colab-df-convert\" onclick=\"convertToInteractive('df-4542e608-1cd9-4aa5-8da9-2879c3279446')\"\n",
              "              title=\"Convert this dataframe to an interactive table.\"\n",
              "              style=\"display:none;\">\n",
              "        \n",
              "  <svg xmlns=\"http://www.w3.org/2000/svg\" height=\"24px\"viewBox=\"0 0 24 24\"\n",
              "       width=\"24px\">\n",
              "    <path d=\"M0 0h24v24H0V0z\" fill=\"none\"/>\n",
              "    <path d=\"M18.56 5.44l.94 2.06.94-2.06 2.06-.94-2.06-.94-.94-2.06-.94 2.06-2.06.94zm-11 1L8.5 8.5l.94-2.06 2.06-.94-2.06-.94L8.5 2.5l-.94 2.06-2.06.94zm10 10l.94 2.06.94-2.06 2.06-.94-2.06-.94-.94-2.06-.94 2.06-2.06.94z\"/><path d=\"M17.41 7.96l-1.37-1.37c-.4-.4-.92-.59-1.43-.59-.52 0-1.04.2-1.43.59L10.3 9.45l-7.72 7.72c-.78.78-.78 2.05 0 2.83L4 21.41c.39.39.9.59 1.41.59.51 0 1.02-.2 1.41-.59l7.78-7.78 2.81-2.81c.8-.78.8-2.07 0-2.86zM5.41 20L4 18.59l7.72-7.72 1.47 1.35L5.41 20z\"/>\n",
              "  </svg>\n",
              "      </button>\n",
              "      \n",
              "  <style>\n",
              "    .colab-df-container {\n",
              "      display:flex;\n",
              "      flex-wrap:wrap;\n",
              "      gap: 12px;\n",
              "    }\n",
              "\n",
              "    .colab-df-convert {\n",
              "      background-color: #E8F0FE;\n",
              "      border: none;\n",
              "      border-radius: 50%;\n",
              "      cursor: pointer;\n",
              "      display: none;\n",
              "      fill: #1967D2;\n",
              "      height: 32px;\n",
              "      padding: 0 0 0 0;\n",
              "      width: 32px;\n",
              "    }\n",
              "\n",
              "    .colab-df-convert:hover {\n",
              "      background-color: #E2EBFA;\n",
              "      box-shadow: 0px 1px 2px rgba(60, 64, 67, 0.3), 0px 1px 3px 1px rgba(60, 64, 67, 0.15);\n",
              "      fill: #174EA6;\n",
              "    }\n",
              "\n",
              "    [theme=dark] .colab-df-convert {\n",
              "      background-color: #3B4455;\n",
              "      fill: #D2E3FC;\n",
              "    }\n",
              "\n",
              "    [theme=dark] .colab-df-convert:hover {\n",
              "      background-color: #434B5C;\n",
              "      box-shadow: 0px 1px 3px 1px rgba(0, 0, 0, 0.15);\n",
              "      filter: drop-shadow(0px 1px 2px rgba(0, 0, 0, 0.3));\n",
              "      fill: #FFFFFF;\n",
              "    }\n",
              "  </style>\n",
              "\n",
              "      <script>\n",
              "        const buttonEl =\n",
              "          document.querySelector('#df-4542e608-1cd9-4aa5-8da9-2879c3279446 button.colab-df-convert');\n",
              "        buttonEl.style.display =\n",
              "          google.colab.kernel.accessAllowed ? 'block' : 'none';\n",
              "\n",
              "        async function convertToInteractive(key) {\n",
              "          const element = document.querySelector('#df-4542e608-1cd9-4aa5-8da9-2879c3279446');\n",
              "          const dataTable =\n",
              "            await google.colab.kernel.invokeFunction('convertToInteractive',\n",
              "                                                     [key], {});\n",
              "          if (!dataTable) return;\n",
              "\n",
              "          const docLinkHtml = 'Like what you see? Visit the ' +\n",
              "            '<a target=\"_blank\" href=https://colab.research.google.com/notebooks/data_table.ipynb>data table notebook</a>'\n",
              "            + ' to learn more about interactive tables.';\n",
              "          element.innerHTML = '';\n",
              "          dataTable['output_type'] = 'display_data';\n",
              "          await google.colab.output.renderOutput(dataTable, element);\n",
              "          const docLink = document.createElement('div');\n",
              "          docLink.innerHTML = docLinkHtml;\n",
              "          element.appendChild(docLink);\n",
              "        }\n",
              "      </script>\n",
              "    </div>\n",
              "  </div>\n",
              "  "
            ],
            "text/plain": [
              "   día  IPMH  Incertidumbre\n",
              "0    1   464     463.845993\n",
              "1    2   494     494.435361\n",
              "2    3   532     530.936243\n",
              "3    4   552     551.563550\n",
              "4    5   576     575.186126\n",
              "5    6   589     588.039550"
            ]
          },
          "metadata": {},
          "execution_count": 198
        }
      ]
    },
    {
      "cell_type": "markdown",
      "source": [
        "# Segundo punto"
      ],
      "metadata": {
        "id": "sG_eFzuHxKqd"
      }
    },
    {
      "cell_type": "code",
      "source": [
        "# Defino los datos que voy a utilizar\n",
        "T=df.día\n",
        "y=df.Incertidumbre"
      ],
      "metadata": {
        "id": "aqaO6CqpxKQ7"
      },
      "execution_count": 199,
      "outputs": []
    },
    {
      "cell_type": "code",
      "source": [
        "# Genera los coeficientes del polinomio que me ajusta los datos\n",
        "coeficientes=np.polyfit(T,y, deg=2)"
      ],
      "metadata": {
        "id": "VToutVmmxtiL"
      },
      "execution_count": 200,
      "outputs": []
    },
    {
      "cell_type": "code",
      "source": [
        "# Polinomio que me ajusta los datos\n",
        "P=np.poly1d(coeficientes, variable='t')\n",
        "print(P)\n"
      ],
      "metadata": {
        "colab": {
          "base_uri": "https://localhost:8080/"
        },
        "id": "-MakBHwQyOqq",
        "outputId": "368e351a-e639-48ce-fcdd-6e253173014a"
      },
      "execution_count": 201,
      "outputs": [
        {
          "output_type": "stream",
          "name": "stdout",
          "text": [
            "        2\n",
            "-2.503 t + 42.78 t + 422.3\n"
          ]
        }
      ]
    },
    {
      "cell_type": "markdown",
      "source": [
        "El polinomio hallado anteriormente en analogía con una caída libre sería de posición, para encontrar la velocidad inicial, se deriva el polinomio y se evalúa en 0, y para hallar la aceleración el poliniomio se debe derivar 2 veces."
      ],
      "metadata": {
        "id": "FuG37pngzblZ"
      }
    },
    {
      "cell_type": "code",
      "source": [
        "# Para calcular la velocidad\n",
        "v=P.deriv()\n",
        "v=np.poly1d(v.coef,variable='t')\n",
        "print(v)"
      ],
      "metadata": {
        "colab": {
          "base_uri": "https://localhost:8080/"
        },
        "id": "MJCVAXZHzZvm",
        "outputId": "5fe9b562-5ec7-4fbb-9436-b6daec9a3192"
      },
      "execution_count": 202,
      "outputs": [
        {
          "output_type": "stream",
          "name": "stdout",
          "text": [
            " \n",
            "-5.007 t + 42.78\n"
          ]
        }
      ]
    },
    {
      "cell_type": "code",
      "source": [
        "# Velocidad inicial\n",
        "v_0=v(0)\n",
        "v_0"
      ],
      "metadata": {
        "colab": {
          "base_uri": "https://localhost:8080/"
        },
        "id": "v9chrJnSz53u",
        "outputId": "1e766ff4-158e-4fdf-8192-5f1296f03f56"
      },
      "execution_count": 203,
      "outputs": [
        {
          "output_type": "execute_result",
          "data": {
            "text/plain": [
              "42.77690100928055"
            ]
          },
          "metadata": {},
          "execution_count": 203
        }
      ]
    },
    {
      "cell_type": "markdown",
      "source": [
        "1) La velocidad inicial de IPMH es 42.8 IPMH/día"
      ],
      "metadata": {
        "id": "SWtudum-Av-D"
      }
    },
    {
      "cell_type": "code",
      "source": [
        "a=v.deriv()\n",
        "print(a)"
      ],
      "metadata": {
        "colab": {
          "base_uri": "https://localhost:8080/"
        },
        "id": "u0bAFhmf0AEy",
        "outputId": "6284fc83-82fd-4c89-f742-780174236e10"
      },
      "execution_count": 204,
      "outputs": [
        {
          "output_type": "stream",
          "name": "stdout",
          "text": [
            " \n",
            "-5.007\n"
          ]
        }
      ]
    },
    {
      "cell_type": "markdown",
      "source": [
        "2) La aceleración constante es -5 IPMH/día**2"
      ],
      "metadata": {
        "id": "GOcVN2BfBEyE"
      }
    },
    {
      "cell_type": "markdown",
      "source": [
        "Para hallar el número de días en el que se alcanza el número máximo de IPMH, se debe hallar el cero de la derivada del polinomio (optimización)\n",
        "\n",
        "$ v= v0+at=0$"
      ],
      "metadata": {
        "id": "WmhlBBUO1y4T"
      }
    },
    {
      "cell_type": "markdown",
      "source": [
        "4) Número de días en el que se alcanza el IPMH máximo --- 8 Días"
      ],
      "metadata": {
        "id": "qcTYqE1yCgAY"
      }
    },
    {
      "cell_type": "code",
      "source": [
        "# Halla el cero de la función \n",
        "root=optimize.newton(v,1)\n",
        "print(root)"
      ],
      "metadata": {
        "colab": {
          "base_uri": "https://localhost:8080/"
        },
        "id": "4lgI7ors2roZ",
        "outputId": "b07aca13-d9af-4091-d3ae-760e73cefd85"
      },
      "execution_count": 205,
      "outputs": [
        {
          "output_type": "stream",
          "name": "stdout",
          "text": [
            "8.543605358486055\n"
          ]
        }
      ]
    },
    {
      "cell_type": "markdown",
      "source": [
        "3) El número máximo de IPMH que alcanza es 604 aproximadamente."
      ],
      "metadata": {
        "id": "-LdJsp8PCR6X"
      }
    },
    {
      "cell_type": "code",
      "source": [
        "#IPBM máximo\n",
        "P(root)"
      ],
      "metadata": {
        "colab": {
          "base_uri": "https://localhost:8080/"
        },
        "id": "gmTzxIT93m2r",
        "outputId": "cc57235e-f059-4c03-e51d-17e9aeadd282"
      },
      "execution_count": 206,
      "outputs": [
        {
          "output_type": "execute_result",
          "data": {
            "text/plain": [
              "604.9853876068003"
            ]
          },
          "metadata": {},
          "execution_count": 206
        }
      ]
    },
    {
      "cell_type": "markdown",
      "source": [
        "5) Gráfico"
      ],
      "metadata": {
        "id": "iaRBrxoOCu1s"
      }
    },
    {
      "cell_type": "code",
      "source": [
        "t=np.linspace(0,11,100)\n",
        "plt.figure(figsize=(8,5))\n",
        "plt.plot(T,y,'ro', label='Datos con incertidumbre')\n",
        "plt.plot(t,P(t), label='Polinomio de ajuste', color='blueviolet')\n",
        "plt.plot(root,P(root),'*',label='IPMH máximo', markersize=12)\n",
        "plt.title('Gráfico del IPMH en función del tiempo', fontsize=14)\n",
        "plt.xlabel('Tiempo (Días)', fontsize=12)\n",
        "plt.ylabel('IPMH', fontsize=12)\n",
        "plt.grid()\n",
        "plt.legend()"
      ],
      "metadata": {
        "colab": {
          "base_uri": "https://localhost:8080/",
          "height": 371
        },
        "id": "Rlhstxwu4VR8",
        "outputId": "e38c7bef-5baf-4812-91ec-7d62c1fa6b0d"
      },
      "execution_count": 207,
      "outputs": [
        {
          "output_type": "execute_result",
          "data": {
            "text/plain": [
              "<matplotlib.legend.Legend at 0x7fd3b6401d90>"
            ]
          },
          "metadata": {},
          "execution_count": 207
        },
        {
          "output_type": "display_data",
          "data": {
            "image/png": "[encoded data removed]",
            "text/plain": [
              "<Figure size 576x360 with 1 Axes>"
            ]
          },
          "metadata": {
            "needs_background": "light"
          }
        }
      ]
    }
  ],
  "metadata": {
    "colab": {
      "name": "Examen_1001469185.ipynb",
      "provenance": []
    },
    "kernelspec": {
      "display_name": "Python 3 (ipykernel)",
      "language": "python",
      "name": "python3"
    },
    "language_info": {
      "codemirror_mode": {
        "name": "ipython",
        "version": 3
      },
      "file_extension": ".py",
      "mimetype": "text/x-python",
      "name": "python",
      "nbconvert_exporter": "python",
      "pygments_lexer": "ipython3",
      "version": "3.9.2"
    }
  },
  "nbformat": 4,
  "nbformat_minor": 0
}