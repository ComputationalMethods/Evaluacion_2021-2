{
  "cells": [
    {
      "cell_type": "markdown",
      "source": [
        "<a href=\"https://colab.research.google.com/github/restrepo/ComputationalMethods/blob/master/material/one-variable-equations.ipynb\" target=\"_parent\"><img src=\"https://colab.research.google.com/assets/colab-badge.svg\" alt=\"Open In Colab\"/></a>\n",
        "\n",
        "# One Variable Equations\n",
        "<a href=\"https://colab.research.google.com/github/restrepo/ComputationalMethods/blob/master/material/one-variable-equations.ipynb\" target=\"_parent\"><img src=\"https://colab.research.google.com/assets/colab-badge.svg\" alt=\"Open In Colab\"/></a>\n",
        "\n",
        "Throughout this section and the next ones we shall cover the topic of solutions to one variable equations. Many different problems in physics and astronomy require the use of complex expressions, even with implicit dependence of variables. When it is necessary to solve for one of those variable, an analytical approach is not usually the best solution, because of its complexity or even because it does not exist at all. Different approaches for dealing with this comprehend series expansions and numerical solutions. Among the most widely used numerical approaches are the Bisection or Binary-search method, fixed-point iteration, Newton's methods.\n",
        "\n",
        "For further details see for example Chap. 5 of Ref. ([1](../index.ipynb#Bibliography)) or Chap. 4 of Ref. ([3](../index.ipynb#Bibliography))\n"
      ],
      "metadata": {
        "id": "cx_2LAjUw7VH",
        "cell_id": "00000-2303c462-3a38-4984-a18b-ad0743709cb9",
        "deepnote_cell_type": "markdown"
      }
    },
    {
      "cell_type": "markdown",
      "source": [
        "- - -\n",
        "- [Bisection Method](#Bisection-Method) \n",
        "    - [Steps](#Steps-BM)\n",
        "    - [Stop condition](#Stop-condition-BM)\n",
        "    - [Error analysis](#Error-analysis-BM)\n",
        "    - [Example 1](#Example-1)\n",
        "    - [Example 2](#Example-2)\n",
        "- [Fixed-point Iteration](./one-variable-equations-fixed-point.ipynb#Fixed-point-Iteration)\n",
        "    - [Steps](./one-variable-equations-fixed-point.ipynb#Steps-FP)\n",
        "    - [Example 3](./one-variable-equations-fixed-point.ipynb#Example-3)\n",
        "    - [Stop condition](./one-variable-equations-fixed-point.ipynb#Stop-condition-FP)\n",
        "    - [Example 4](./one-variable-equations-fixed-point.ipynb#Example-4)\n",
        "    - [Activity](./one-variable-equations-fixed-point.ipynb#ACTIVITY-FP)\n",
        "- [Newton-Raphson Method](./one-variable-equations-fixed-point.ipynb#Newton-Raphson-Method)\n",
        "    - [Derivation](./one-variable-equations-fixed-point.ipynb#Derivation-NM)\n",
        "    - [Steps](./one-variable-equations-fixed-point.ipynb#Steps-NM)\n",
        "    - [Example 5](./one-variable-equations-fixed-point.ipynb#Example-5)\n",
        "    - [Stop condition](./one-variable-equations-fixed-point.ipynb#Stop-condition-NM)\n",
        "    - [Convergence](./one-variable-equations-fixed-point.ipynb#Convergence-NM)\n",
        "- [Secant Method](./one-variable-equations-fixed-point.ipynb#Secant-Method)\n",
        "    - [Derivation](./one-variable-equations-fixed-point.ipynb#Derivation-SM)\n",
        "    - [Steps](./one-variable-equations-fixed-point.ipynb#Steps-SM)\n",
        "\n",
        "- - -\n",
        "## Bibliography\n",
        "[1] [Kiusalaas, Numerical Methods in Engineering with Python](https://drive.google.com/file/d/0BxoOXsn2EUNIQUdFVkctR2xWRUk/view?usp=sharing)<br/>\n",
        "[2] [Jensen, Computational_Physics](https://drive.google.com/file/d/0BxoOXsn2EUNIekRUMFVPYXVsSTg/view?usp=sharing).  Companion repos: https://github.com/mhjensen [Web page](http://compphysics.github.io/ComputationalPhysics/doc/web/course)  <br/>\n",
        "[3] E. Ayres, [Computational Physics With Python](http://bit.ly/CPwPython)<br/>\n"
      ],
      "metadata": {
        "id": "sExxbMPEw7VM",
        "cell_id": "00001-9b5c5089-cfa0-452e-9212-f426a9b2eab6",
        "deepnote_cell_type": "markdown"
      }
    },
    {
      "cell_type": "code",
      "metadata": {
        "id": "GD4z2RTZw7VN",
        "outputId": "2780c361-b150-411f-b8ac-88567710c34f",
        "cell_id": "00002-49209fff-523b-4f09-a260-8afe344a3a8f",
        "deepnote_cell_type": "code"
      },
      "source": [
        "%pylab inline\n",
        "rc('animation', html='jshtml')"
      ],
      "execution_count": null,
      "outputs": [
        {
          "name": "stdout",
          "output_type": "stream",
          "text": "Populating the interactive namespace from numpy and matplotlib\n"
        }
      ]
    },
    {
      "cell_type": "markdown",
      "source": [
        "JSAnimation import available at https://github.com/jakevdp/JSAnimation"
      ],
      "metadata": {
        "id": "FY0-QkUnw7VS",
        "cell_id": "00003-8734dc8e-26e8-48ae-b4bf-33ecdf4eff54",
        "deepnote_cell_type": "markdown"
      }
    },
    {
      "cell_type": "code",
      "metadata": {
        "id": "5rHmuj6mw7VT",
        "cell_id": "00004-e90f9125-dcd9-4194-bce3-7cce10378e9a",
        "deepnote_cell_type": "code"
      },
      "source": [
        "#from JSAnimation import IPython_display\n",
        "from matplotlib import animation"
      ],
      "execution_count": null,
      "outputs": []
    },
    {
      "cell_type": "code",
      "metadata": {
        "id": "zM--Q1_nw7VX",
        "cell_id": "00005-0a61ac2b-4f46-44ea-8318-57348dcc3944",
        "deepnote_cell_type": "code"
      },
      "source": [
        "import numpy as np\n",
        "from scipy import integrate #Importa el módulo de integración\n",
        "from scipy import optimize  #Importa el módulo de optimización"
      ],
      "execution_count": null,
      "outputs": []
    },
    {
      "cell_type": "markdown",
      "source": [
        "# Bisection Method"
      ],
      "metadata": {
        "id": "RNEo8n--w7Vc",
        "cell_id": "00006-3bad2fa9-b3cf-46d5-9042-1f7768cc9854",
        "deepnote_cell_type": "markdown"
      }
    },
    {
      "cell_type": "markdown",
      "source": [
        "The Bisection method exploits the [intermediate value theorem](http://en.wikipedia.org/wiki/Intermediate_value_theorem), where a continuous and differentiable function $f$ must have a zero between an interval $[a,b]$ such that $f(a)f(b)<0$, or equivalently, there must be a value $p\\in[a,b]$ such that $f(p)=0$. Below the algorithmm is stated explicitly."
      ],
      "metadata": {
        "id": "2ZgAUxxyw7Vf",
        "cell_id": "00007-840214c8-76fc-4a9e-ae73-d63aa27a597e",
        "deepnote_cell_type": "markdown"
      }
    },
    {
      "cell_type": "code",
      "source": [
        "#Método de bisección se utiliza para encontrar las raíces de una función "
      ],
      "metadata": {
        "id": "enTzFphVQ1te"
      },
      "execution_count": null,
      "outputs": []
    },
    {
      "cell_type": "markdown",
      "source": [
        "## Steps BM"
      ],
      "metadata": {
        "id": "tCrKSgUrw7Vh",
        "cell_id": "00008-c9bd9d87-c169-4d2d-95f0-9cea2e1f4b1d",
        "deepnote_cell_type": "markdown"
      }
    },
    {
      "cell_type": "markdown",
      "source": [
        "<div style=\"float: right;\" markdown=\"1\">\n",
        "    <img src=\"http://upload.wikimedia.org/wikipedia/commons/thumb/8/8c/Bisection_method.svg/300px-Bisection_method.svg.png\">\n",
        "</div>\n",
        "\n",
        "\n",
        "1. There must be selected two values $a$ and $b$ such that $f(a)f(b)<0$ and $p\\in[a,b]$ where $f(p)=0$. In other words, though we do not know the value of the root, we must know that there is at least one within the selected interval.\n",
        "\n",
        "2. To begin, it must be set $a_1=a$ and $b_1=b$.\n",
        "\n",
        "3. Calculate the mid-point $p_1$ as\n",
        "\n",
        "    $$p_1 = a_1 + \\frac{b_1-a_1}{2} = \\frac{a_1+b_1}{2}$$\n",
        "\n",
        "4. Evaluate the function in $p_1$, if the [stop condition](#Stop-Condition) is true, go to step 6.\n",
        "\n",
        "5. If the [stop condition](#Stop-Condition) is not satisfied, then:\n",
        "\n",
        "    1. If $f(p_1)f(a_1) > 0$, $p\\in(p_1,b_1)$. Then set $a_2=p_1$ and $b_2=b_1$\n",
        "\n",
        "    2. If $f(p_1)f(a_1) < 0$, $p\\in(a_1,p_1)$. Then set $a_2=a_1$ and $b_2=p_1$\n",
        "\n",
        "    3. Go to step 3 using $p_2$, $a_2$ and $b_2$ instead of $p_1$, $a_1$ and $b_1$. For next iterations the index increases until the [stop condition](#Stop-Condition) is reached.\n",
        "\n",
        "6. The End!"
      ],
      "metadata": {
        "id": "8uRIVSQOw7Vj",
        "cell_id": "00009-4c1446e1-f7d5-4e2d-918a-a6e3520086d1",
        "deepnote_cell_type": "markdown"
      }
    },
    {
      "cell_type": "code",
      "source": [
        "#Para usar este método se debe conocer el intervalo en el cuál se encuentra la raíz. [a,b]\n",
        "#Se calcula el punto medio (p) entre los extremos del intervalo.\n",
        "#Si f(p)=0 entonces se para el algoritmo. -Precisión <10-3\n",
        "#Si luego de determinados pasos no logro encontrar la raíz, debo tener un freno de emergencia. \n"
      ],
      "metadata": {
        "id": "BNV2UjnYRQFq"
      },
      "execution_count": null,
      "outputs": []
    },
    {
      "cell_type": "markdown",
      "source": [
        "## Stop condition BM"
      ],
      "metadata": {
        "id": "7uoUfZn9w7Vk",
        "cell_id": "00010-843ff3e7-0e10-4488-9518-08a92129fcd5",
        "deepnote_cell_type": "markdown"
      }
    },
    {
      "cell_type": "markdown",
      "source": [
        "There are several different stop conditions for this algorithm. The most used are stated below:\n",
        "\n",
        "* A fixed distance between the last two steps (absolute convergence): → `xtol`\n",
        "\n",
        "    $$|p_i - p_{i-1}|<\\epsilon$$\n",
        "\n",
        "* A fixed relative distance between the last two steps (relative convergence): → `rtol`\n",
        "\n",
        "    $$\\frac{|p_i - p_{i-1}|}{|p_i|}<\\epsilon\\ \\ \\ \\ \\ p_i \\neq 0$$\n",
        "\n",
        "* Function tolerance:\n",
        "\n",
        "    $$f(p_i)< \\epsilon$$\n",
        "\n",
        "All these conditions should lead to a desired convergence expressed by the $\\epsilon$ value. However, the first and the third conditions present some problems when the function has a derivative very large or close to $0$ as evaluated in the root value. When the function is very inclined, the first condition fails as a convergence in the $x$ axis does not guarantee a convergence in the $y$ axis, so the found root $p$ may be far from the real value. When the function is very flat ($dF/dx\\rightarrow 0$), the third condition fails due to an analogous reason.\n",
        "\n",
        "A final stop condition which does not have mathematical motivation but a computational one, is a maximum number of allowed iterations. This condition should be used not only for this algorithm but for all iteration-based numerical methods. This condition guarantees a finite computing time and prevents undesired infinite bucles.\n",
        "\n",
        "* If $N>N_{max}$, stop!"
      ],
      "metadata": {
        "id": "qtHv5IGIw7Vl",
        "cell_id": "00011-b90552b0-1873-490e-ba4a-8972b4b03191",
        "deepnote_cell_type": "markdown"
      }
    },
    {
      "cell_type": "markdown",
      "source": [
        "## Error analysis BM"
      ],
      "metadata": {
        "id": "nBQBHO23w7Vm",
        "cell_id": "00012-ff797fa2-7ac6-4758-babd-e6465b4c2cf0",
        "deepnote_cell_type": "markdown"
      }
    },
    {
      "cell_type": "markdown",
      "source": [
        "If we suppose $f\\in C[a,b]$ and $f(a)f(b)<0$, the Bisection method generates a sequence of numbers $\\left\\{p_i\\right\\}_{i=1}^\\infty$ approximating a root $p$ of $f$ as:\n",
        "\n",
        "$$|p_i-p|\\leq \\frac{b-a}{2^n},\\ \\ \\ \\ \\ i\\geq 1$$\n",
        "\n",
        "From this, we can conclude the convergence rate of the method is\n",
        "\n",
        "$$p_i = p + \\mathcal{O}\\left( \\frac{1}{2^i} \\right)$$\n",
        "\n",
        "This expression allows us to estimate the maximum number of required iterations for achieving a desired precision. The next figure sketches the number of iterations required for some precision."
      ],
      "metadata": {
        "id": "2u-a2qPOw7Vn",
        "cell_id": "00013-bb303a1e-05d9-45b4-b2ac-16526adafb23",
        "deepnote_cell_type": "markdown"
      }
    },
    {
      "cell_type": "code",
      "source": [
        "# i es el número de pasos que utilicé"
      ],
      "metadata": {
        "id": "ynLquph0T0Tr"
      },
      "execution_count": null,
      "outputs": []
    },
    {
      "cell_type": "code",
      "metadata": {
        "id": "OsQu8x8Jw7Vo",
        "cell_id": "00014-56003021-94d2-44cf-8c2e-9c6836b21333",
        "deepnote_cell_type": "code"
      },
      "source": [
        "import time"
      ],
      "execution_count": null,
      "outputs": []
    },
    {
      "cell_type": "code",
      "metadata": {
        "id": "NRO_1bQGw7Vt",
        "outputId": "2010ffde-f3a9-4e33-86ca-cf0b82000fc9",
        "cell_id": "00015-07db623f-b3fd-4fd8-98ec-8aac5df309a9",
        "deepnote_cell_type": "code",
        "colab": {
          "base_uri": "https://localhost:8080/"
        }
      },
      "source": [
        "i=np.arange( 1, 100)\n",
        "i[:3]"
      ],
      "execution_count": null,
      "outputs": [
        {
          "output_type": "execute_result",
          "data": {
            "text/plain": [
              "array([1, 2, 3])"
            ]
          },
          "metadata": {},
          "execution_count": 4
        }
      ]
    },
    {
      "cell_type": "code",
      "source": [
        "i[-1]"
      ],
      "metadata": {
        "colab": {
          "base_uri": "https://localhost:8080/"
        },
        "id": "V1aYB0p3UCfe",
        "outputId": "b12f5829-9295-432e-eccf-87d5c02ce111"
      },
      "execution_count": null,
      "outputs": [
        {
          "output_type": "execute_result",
          "data": {
            "text/plain": [
              "99"
            ]
          },
          "metadata": {},
          "execution_count": 5
        }
      ]
    },
    {
      "cell_type": "code",
      "metadata": {
        "id": "Uf5JCpRuw7Vy",
        "cell_id": "00016-640c5d09-ab51-456b-8c03-c0b3998c7022",
        "deepnote_cell_type": "code"
      },
      "source": [
        "# plt.plot( x,y  ) # points joined with straight lines \n",
        "import matplotlib.pyplot as plt\n"
      ],
      "execution_count": null,
      "outputs": []
    },
    {
      "cell_type": "code",
      "metadata": {
        "id": "j02SkcI1w7V4",
        "outputId": "f6416722-b0c8-4885-b6da-a14152b00aab",
        "cell_id": "00017-6ca8417b-1bcd-4a50-8698-2c4ba327f63d",
        "deepnote_cell_type": "code",
        "colab": {
          "base_uri": "https://localhost:8080/",
          "height": 282
        }
      },
      "source": [
        "# 1/2**i → exp2(-i)\n",
        "plt.plot(i,np.exp2(-i)) #exp2(exponencial de 2)"
      ],
      "execution_count": null,
      "outputs": [
        {
          "output_type": "execute_result",
          "data": {
            "text/plain": [
              "[<matplotlib.lines.Line2D at 0x7f49fd4ec710>]"
            ]
          },
          "metadata": {},
          "execution_count": 11
        },
        {
          "output_type": "display_data",
          "data": {
            "image/png": "[encoded data removed]",
            "text/plain": [
              "<Figure size 432x288 with 1 Axes>"
            ]
          },
          "metadata": {
            "needs_background": "light"
          }
        }
      ]
    },
    {
      "cell_type": "code",
      "source": [
        "plt.semilogy(i,np.exp2(-i))\n",
        "plt.grid()"
      ],
      "metadata": {
        "colab": {
          "base_uri": "https://localhost:8080/",
          "height": 265
        },
        "id": "p1YrsiDuUaxK",
        "outputId": "d19f591e-d414-4e8f-8025-6b0f3bba90eb"
      },
      "execution_count": null,
      "outputs": [
        {
          "output_type": "display_data",
          "data": {
            "image/png": "[encoded data removed]",
            "text/plain": [
              "<Figure size 432x288 with 1 Axes>"
            ]
          },
          "metadata": {
            "needs_background": "light"
          }
        }
      ]
    },
    {
      "cell_type": "code",
      "metadata": {
        "id": "_Eye-yOJw7V7",
        "outputId": "f83011e3-ca2f-438b-c6e7-280f27334322",
        "cell_id": "00018-e8d4f228-6cce-4727-9bf2-f0768560ba70",
        "deepnote_cell_type": "code"
      },
      "source": [
        "s=time.time()\n",
        "#Array of iterations\n",
        "Niter = np.arange( 1, 100 )\n",
        "\n",
        "plt.figure( figsize=(6,6) )\n",
        "#plt.semilogy( Niter, 2.0**-Niter, color=\"green\", lw = 2 )\n",
        "plt.semilogy( Niter, np.exp2(-Niter), color=\"green\", lw = 2 )\n",
        "plt.grid(True)\n",
        "plt.xlabel(\"Number of Iterations\",size=15)\n",
        "plt.ylabel(\"Absolute Error $|p_n-p|$\",size=15)\n",
        "f=time.time()-s"
      ],
      "execution_count": null,
      "outputs": [
        {
          "data": {
            "image/png": "[encoded data removed]",
            "text/plain": "<Figure size 432x432 with 1 Axes>"
          },
          "metadata": {
            "needs_background": "light",
            "image/png": {
              "width": 409,
              "height": 376
            }
          },
          "output_type": "display_data"
        }
      ]
    },
    {
      "cell_type": "markdown",
      "source": [
        "## Example 1"
      ],
      "metadata": {
        "id": "pd9PwTe1w7V-",
        "cell_id": "00019-b2770622-2ad4-402d-a96e-536b3ad56f04",
        "deepnote_cell_type": "markdown"
      }
    },
    {
      "cell_type": "code",
      "source": [
        "#Encontrar las raíces de f"
      ],
      "metadata": {
        "id": "u53yblW2U-bm"
      },
      "execution_count": null,
      "outputs": []
    },
    {
      "cell_type": "markdown",
      "source": [
        "Find the root of the function $f$\n",
        "\n",
        "$f(x) = x^3 - 2$\n",
        "\n",
        "for $20$ iterations, show the result and the relative error in each iteration."
      ],
      "metadata": {
        "id": "vlEpT9Sjw7V_",
        "cell_id": "00020-b74fc684-6ecc-47f5-9692-7bc288468de2",
        "deepnote_cell_type": "markdown"
      }
    },
    {
      "cell_type": "code",
      "source": [
        "2**(1/3)"
      ],
      "metadata": {
        "colab": {
          "base_uri": "https://localhost:8080/"
        },
        "id": "LcmQheaTVRot",
        "outputId": "7a4eb615-830c-44d9-e4fb-4162aa37521c"
      },
      "execution_count": null,
      "outputs": [
        {
          "output_type": "execute_result",
          "data": {
            "text/plain": [
              "1.2599210498948732"
            ]
          },
          "metadata": {},
          "execution_count": 15
        }
      ]
    },
    {
      "cell_type": "code",
      "source": [
        "raise Exception(\"Error, f(a) and f(b) should have opposite signs\")"
      ],
      "metadata": {
        "colab": {
          "base_uri": "https://localhost:8080/",
          "height": 165
        },
        "id": "aodFJ35EXha-",
        "outputId": "4d081054-b167-48d5-f58f-e1022ea467cb"
      },
      "execution_count": null,
      "outputs": [
        {
          "output_type": "error",
          "ename": "Exception",
          "evalue": "ignored",
          "traceback": [
            "\u001b[0;31m---------------------------------------------------------------------------\u001b[0m",
            "\u001b[0;31mException\u001b[0m                                 Traceback (most recent call last)",
            "\u001b[0;32m<ipython-input-21-ed48e9a056eb>\u001b[0m in \u001b[0;36m<module>\u001b[0;34m()\u001b[0m\n\u001b[0;32m----> 1\u001b[0;31m \u001b[0;32mraise\u001b[0m \u001b[0mException\u001b[0m\u001b[0;34m(\u001b[0m\u001b[0;34m\"Error, f(a) and f(b) should have opposite signs\"\u001b[0m\u001b[0;34m)\u001b[0m\u001b[0;34m\u001b[0m\u001b[0;34m\u001b[0m\u001b[0m\n\u001b[0m",
            "\u001b[0;31mException\u001b[0m: Error, f(a) and f(b) should have opposite signs"
          ]
        }
      ]
    },
    {
      "cell_type": "code",
      "metadata": {
        "id": "GpdA20yow7WB",
        "cell_id": "00021-b8212579-3028-497b-9892-c66c38ac1ec8",
        "deepnote_cell_type": "code"
      },
      "source": [
        "#Defining Bisection function\n",
        "def Bisection( f, a, b, Nmax, printer=False ):\n",
        "    \"\"\" \n",
        "    Find the root of function f between a and b\n",
        "    \n",
        "    f: function\n",
        "    a,b: the initial interval\n",
        "    Nmax: Nmax de interations\n",
        "    printer: bool, to print internal steps \n",
        "    \"\"\"\n",
        "    #Ayuda de la función \"\"\"\"         \"\"\"\"\n",
        "\n",
        "    #verifying the STEP1, a and b with different signs\n",
        "    import sys\n",
        "    if f(a)*f(b)>0:  #Si múltiplico f(a)*f(b) y da un número positivo, en mi intervalo no está contenida la raíz\n",
        "        sys.exit(\"Error, f(a) and f(b) should have opposite signs\") #sys retorna un error. Otra forma de generar un error es con raise Exception\n",
        "        return False\n",
        "    #Assigning the current extreme values, STEP2\n",
        "    ai = a\n",
        "    bi = b\n",
        "    #Iterations\n",
        "    n = 1\n",
        "    while n<=Nmax:\n",
        "        #Bisection, STEP3\n",
        "        pi = (ai+bi)/2.0\n",
        "        #Evaluating function in pi, STEP4 and STEP5\n",
        "        if printer:\n",
        "            print( \"Value for {} iterations: {}\".format(n,pi) )\n",
        "        #Condition A\n",
        "        if f(pi)*f(ai)>0:\n",
        "            ai = pi\n",
        "        #Condition B\n",
        "        elif f(pi)*f(ai)<0:\n",
        "            bi = pi\n",
        "        #Condition C: repeat the cycle\n",
        "        n+=1\n",
        "    #Final result\n",
        "    return pi"
      ],
      "execution_count": null,
      "outputs": []
    },
    {
      "cell_type": "markdown",
      "source": [
        "Defining function"
      ],
      "metadata": {
        "id": "Z1XWelBgw7WJ",
        "cell_id": "00022-67251c83-642f-4f07-9fce-0f5b8de62694",
        "deepnote_cell_type": "markdown"
      }
    },
    {
      "cell_type": "code",
      "metadata": {
        "id": "0Vd7ahTbw7WK",
        "cell_id": "00023-2c8a0a16-ef64-4440-9965-c4baa27f7f20",
        "deepnote_cell_type": "code"
      },
      "source": [
        "def function(x):\n",
        "    return x**3.0 - 2.0"
      ],
      "execution_count": null,
      "outputs": []
    },
    {
      "cell_type": "markdown",
      "source": [
        "Finding the root of the function. The real root is $\\sqrt[3]{2}$, so `a` and `b` should enclose this value"
      ],
      "metadata": {
        "id": "Cy9OT7XDw7WN",
        "cell_id": "00024-cda4b3e4-5d95-489e-b7cc-903a1a562024",
        "deepnote_cell_type": "markdown"
      }
    },
    {
      "cell_type": "code",
      "source": [
        "Bisection(function,0.0,5.0,56,True)"
      ],
      "metadata": {
        "colab": {
          "base_uri": "https://localhost:8080/"
        },
        "id": "0i8zH2zHY9BV",
        "outputId": "18308317-2b07-433b-f826-edf358368301"
      },
      "execution_count": null,
      "outputs": [
        {
          "output_type": "stream",
          "name": "stdout",
          "text": [
            "Value for 1 iterations: 2.5\n",
            "Value for 2 iterations: 1.25\n",
            "Value for 3 iterations: 1.875\n",
            "Value for 4 iterations: 1.5625\n",
            "Value for 5 iterations: 1.40625\n",
            "Value for 6 iterations: 1.328125\n",
            "Value for 7 iterations: 1.2890625\n",
            "Value for 8 iterations: 1.26953125\n",
            "Value for 9 iterations: 1.259765625\n",
            "Value for 10 iterations: 1.2646484375\n",
            "Value for 11 iterations: 1.26220703125\n",
            "Value for 12 iterations: 1.260986328125\n",
            "Value for 13 iterations: 1.2603759765625\n",
            "Value for 14 iterations: 1.26007080078125\n",
            "Value for 15 iterations: 1.259918212890625\n",
            "Value for 16 iterations: 1.2599945068359375\n",
            "Value for 17 iterations: 1.2599563598632812\n",
            "Value for 18 iterations: 1.2599372863769531\n",
            "Value for 19 iterations: 1.259927749633789\n",
            "Value for 20 iterations: 1.259922981262207\n",
            "Value for 21 iterations: 1.259920597076416\n",
            "Value for 22 iterations: 1.2599217891693115\n",
            "Value for 23 iterations: 1.2599211931228638\n",
            "Value for 24 iterations: 1.25992089509964\n",
            "Value for 25 iterations: 1.2599210441112518\n",
            "Value for 26 iterations: 1.2599211186170578\n",
            "Value for 27 iterations: 1.2599210813641548\n",
            "Value for 28 iterations: 1.2599210627377033\n",
            "Value for 29 iterations: 1.2599210534244776\n",
            "Value for 30 iterations: 1.2599210487678647\n",
            "Value for 31 iterations: 1.2599210510961711\n",
            "Value for 32 iterations: 1.259921049932018\n",
            "Value for 33 iterations: 1.2599210493499413\n",
            "Value for 34 iterations: 1.2599210496409796\n",
            "Value for 35 iterations: 1.2599210497864988\n",
            "Value for 36 iterations: 1.2599210498592583\n",
            "Value for 37 iterations: 1.2599210498956381\n",
            "Value for 38 iterations: 1.2599210498774482\n",
            "Value for 39 iterations: 1.2599210498865432\n",
            "Value for 40 iterations: 1.2599210498910907\n",
            "Value for 41 iterations: 1.2599210498933644\n",
            "Value for 42 iterations: 1.2599210498945013\n",
            "Value for 43 iterations: 1.2599210498950697\n",
            "Value for 44 iterations: 1.2599210498947855\n",
            "Value for 45 iterations: 1.2599210498949276\n",
            "Value for 46 iterations: 1.2599210498948565\n",
            "Value for 47 iterations: 1.259921049894892\n",
            "Value for 48 iterations: 1.2599210498948743\n",
            "Value for 49 iterations: 1.2599210498948654\n",
            "Value for 50 iterations: 1.2599210498948699\n",
            "Value for 51 iterations: 1.259921049894872\n",
            "Value for 52 iterations: 1.2599210498948732\n",
            "Value for 53 iterations: 1.2599210498948732\n",
            "Value for 54 iterations: 1.2599210498948732\n",
            "Value for 55 iterations: 1.2599210498948732\n",
            "Value for 56 iterations: 1.2599210498948732\n"
          ]
        },
        {
          "output_type": "execute_result",
          "data": {
            "text/plain": [
              "1.2599210498948732"
            ]
          },
          "metadata": {},
          "execution_count": 25
        }
      ]
    },
    {
      "cell_type": "code",
      "metadata": {
        "id": "pvl1fZSKw7WO",
        "outputId": "cabd84aa-58e7-4779-9fea-ef8f1be5c188",
        "cell_id": "00025-245deaf7-fc02-41aa-bb3c-198220f3026e",
        "deepnote_cell_type": "code",
        "colab": {
          "base_uri": "https://localhost:8080/"
        }
      },
      "source": [
        "#Defining a and b\n",
        "a = 0.0\n",
        "b = 2.0\n",
        "Nmax = 20\n",
        "result = Bisection(function, a, b, Nmax, printer=True)\n",
        "print ( \"Real value:\", 2**(1/3))\n",
        "print ( \"Absolute error\", abs((2**(1/3)-result)) )"
      ],
      "execution_count": null,
      "outputs": [
        {
          "output_type": "stream",
          "name": "stdout",
          "text": [
            "Value for 1 iterations: 1.0\n",
            "Value for 2 iterations: 1.5\n",
            "Value for 3 iterations: 1.25\n",
            "Value for 4 iterations: 1.375\n",
            "Value for 5 iterations: 1.3125\n",
            "Value for 6 iterations: 1.28125\n",
            "Value for 7 iterations: 1.265625\n",
            "Value for 8 iterations: 1.2578125\n",
            "Value for 9 iterations: 1.26171875\n",
            "Value for 10 iterations: 1.259765625\n",
            "Value for 11 iterations: 1.2607421875\n",
            "Value for 12 iterations: 1.26025390625\n",
            "Value for 13 iterations: 1.260009765625\n",
            "Value for 14 iterations: 1.2598876953125\n",
            "Value for 15 iterations: 1.25994873046875\n",
            "Value for 16 iterations: 1.259918212890625\n",
            "Value for 17 iterations: 1.2599334716796875\n",
            "Value for 18 iterations: 1.2599258422851562\n",
            "Value for 19 iterations: 1.2599220275878906\n",
            "Value for 20 iterations: 1.2599201202392578\n",
            "Real value: 1.2599210498948732\n",
            "Absolute error 9.296556153781665e-07\n"
          ]
        }
      ]
    },
    {
      "cell_type": "markdown",
      "source": [
        "Using the error analysis, we can predict the produced error at $20$ iterations by computing:\n",
        "\n",
        "$$ \\left( \\frac{1}{2^{20}}\\right) \\approx 9.53674316\\times 10^{-7} $$\n",
        "\n",
        "This value is very close to the obtained relative error.\n",
        "\n",
        "If we were interested in a double precision, i.e. $\\epsilon \\sim 10^{-17}$, the number of required iterations would be:\n",
        "\n",
        "$$ 10^{-17} = \\left( \\frac{1}{2^{N}}\\right) \\longrightarrow N = \\frac{17}{\\log_{10}(2)} \\approx 56 $$"
      ],
      "metadata": {
        "id": "CmP1u-lPw7WQ",
        "cell_id": "00026-fdc43ff7-e829-4000-9ebf-f75e1ee04c29",
        "deepnote_cell_type": "markdown"
      }
    },
    {
      "cell_type": "markdown",
      "source": [
        "Now the same but using scipy implementation"
      ],
      "metadata": {
        "id": "p2lZUHGSw7WR",
        "cell_id": "00027-54ddeed1-55b9-4a2a-9ad7-d35b738d3e52",
        "deepnote_cell_type": "markdown"
      }
    },
    {
      "cell_type": "code",
      "metadata": {
        "id": "LKwXO9vfw7WS",
        "cell_id": "00028-c539015e-ae21-43d8-89d6-8cc433cb4a58",
        "deepnote_cell_type": "code"
      },
      "source": [
        "from scipy import optimize "
      ],
      "execution_count": null,
      "outputs": []
    },
    {
      "cell_type": "markdown",
      "source": [
        "See help with `optimize?:`"
      ],
      "metadata": {
        "id": "x92AU0K6w7WV",
        "cell_id": "00029-fb204e73-8727-4e9c-b600-2eedd82dbf10",
        "deepnote_cell_type": "markdown"
      }
    },
    {
      "cell_type": "code",
      "source": [
        "optimize.bisect?"
      ],
      "metadata": {
        "id": "przAVqRNa1NI"
      },
      "execution_count": null,
      "outputs": []
    },
    {
      "cell_type": "code",
      "source": [
        "Bisection?"
      ],
      "metadata": {
        "id": "llT2rIZJa6e5"
      },
      "execution_count": null,
      "outputs": []
    },
    {
      "cell_type": "code",
      "source": [
        "# ?? muestra el código de las funciones. "
      ],
      "metadata": {
        "id": "ljVGnDphbUri"
      },
      "execution_count": null,
      "outputs": []
    },
    {
      "cell_type": "markdown",
      "source": [
        "Check the help: See [here](https://docs.scipy.org/doc/scipy/reference/generated/scipy.optimize.bisect.html)"
      ],
      "metadata": {
        "id": "VqmyDCFIw7Wa",
        "cell_id": "00031-9ab1181b-ca31-446a-a0d0-72406b969751",
        "deepnote_cell_type": "markdown"
      }
    },
    {
      "cell_type": "code",
      "metadata": {
        "cell_id": "00032-bdb45b3c-df79-4fd2-80b6-21dce8364047",
        "deepnote_cell_type": "code",
        "id": "VXCSijCyQD1e"
      },
      "source": [
        "def f(x,n,c=2):\n",
        "    return x**n-c"
      ],
      "execution_count": null,
      "outputs": []
    },
    {
      "cell_type": "code",
      "metadata": {
        "cell_id": "00033-45328d77-7f76-4020-9989-5b17b34ab3c9",
        "deepnote_cell_type": "code",
        "id": "PsiRZDxMQD1f",
        "outputId": "995ec400-6b3d-42d2-94f2-bf40234e9202",
        "colab": {
          "base_uri": "https://localhost:8080/"
        }
      },
      "source": [
        "optimize.bisect(f,0,2,args=(3,)) #args argumentos extras de la función. Cómo es una tupla se debe poner (3,)"
      ],
      "execution_count": null,
      "outputs": [
        {
          "output_type": "execute_result",
          "data": {
            "text/plain": [
              "1.2599210498938191"
            ]
          },
          "metadata": {},
          "execution_count": 39
        }
      ]
    },
    {
      "cell_type": "code",
      "metadata": {
        "cell_id": "00034-2564a11e-2fcf-4694-914e-0eb3dcd04c2f",
        "deepnote_cell_type": "code",
        "id": "taTMv1VdQD1f",
        "outputId": "92f14443-aff5-4bf5-e8a4-bebd7a342f95",
        "colab": {
          "base_uri": "https://localhost:8080/"
        }
      },
      "source": [
        "optimize.bisect(lambda x: f(x,3),0,2)"
      ],
      "execution_count": null,
      "outputs": [
        {
          "output_type": "execute_result",
          "data": {
            "text/plain": [
              "1.2599210498938191"
            ]
          },
          "metadata": {},
          "execution_count": 40
        }
      ]
    },
    {
      "cell_type": "code",
      "metadata": {
        "colab": {
          "base_uri": "https://localhost:8080/",
          "height": 1000
        },
        "id": "s7ZzL1BEw7Wa",
        "outputId": "7b4af95b-ae70-4a02-e3ea-eb5ad062a87f",
        "cell_id": "00035-36235759-01d1-457e-9607-c28caae798f1",
        "deepnote_cell_type": "code"
      },
      "source": [
        "help(optimize.bisect)"
      ],
      "execution_count": null,
      "outputs": [
        {
          "name": "stdout",
          "output_type": "stream",
          "text": "Help on function bisect in module scipy.optimize.zeros:\n\nbisect(f, a, b, args=(), xtol=2e-12, rtol=8.881784197001252e-16, maxiter=100, full_output=False, disp=True)\n    Find root of a function within an interval using bisection.\n    \n    Basic bisection routine to find a zero of the function `f` between the\n    arguments `a` and `b`. `f(a)` and `f(b)` cannot have the same signs.\n    Slow but sure.\n    \n    Parameters\n    ----------\n    f : function\n        Python function returning a number.  `f` must be continuous, and\n        f(a) and f(b) must have opposite signs.\n    a : scalar\n        One end of the bracketing interval [a,b].\n    b : scalar\n        The other end of the bracketing interval [a,b].\n    xtol : number, optional\n        The computed root ``x0`` will satisfy ``np.allclose(x, x0,\n        atol=xtol, rtol=rtol)``, where ``x`` is the exact root. The\n        parameter must be nonnegative.\n    rtol : number, optional\n        The computed root ``x0`` will satisfy ``np.allclose(x, x0,\n        atol=xtol, rtol=rtol)``, where ``x`` is the exact root. The\n        parameter cannot be smaller than its default value of\n        ``4*np.finfo(float).eps``.\n    maxiter : int, optional\n        If convergence is not achieved in `maxiter` iterations, an error is\n        raised. Must be >= 0.\n    args : tuple, optional\n        Containing extra arguments for the function `f`.\n        `f` is called by ``apply(f, (x)+args)``.\n    full_output : bool, optional\n        If `full_output` is False, the root is returned. If `full_output` is\n        True, the return value is ``(x, r)``, where x is the root, and r is\n        a `RootResults` object.\n    disp : bool, optional\n        If True, raise RuntimeError if the algorithm didn't converge.\n        Otherwise, the convergence status is recorded in a `RootResults`\n        return object.\n    \n    Returns\n    -------\n    x0 : float\n        Zero of `f` between `a` and `b`.\n    r : `RootResults` (present if ``full_output = True``)\n        Object containing information about the convergence. In particular,\n        ``r.converged`` is True if the routine converged.\n    \n    Examples\n    --------\n    \n    >>> def f(x):\n    ...     return (x**2 - 1)\n    \n    >>> from scipy import optimize\n    \n    >>> root = optimize.bisect(f, 0, 2)\n    >>> root\n    1.0\n    \n    >>> root = optimize.bisect(f, -2, 0)\n    >>> root\n    -1.0\n    \n    See Also\n    --------\n    brentq, brenth, bisect, newton\n    fixed_point : scalar fixed-point finder\n    fsolve : n-dimensional root-finding\n\n"
        }
      ]
    },
    {
      "cell_type": "markdown",
      "source": [
        "## General arguments and options of a SciPy function"
      ],
      "metadata": {
        "id": "yC9nyRCwGJaw",
        "cell_id": "00036-c0648f60-b13b-4d60-b251-69523c1d13fb",
        "deepnote_cell_type": "markdown"
      }
    },
    {
      "cell_type": "markdown",
      "source": [
        "Let define a general multiparameter \n",
        "* `f`\n",
        "with a mandatory parameter and two optional parameters, corresponding to a straight line with the slope and the intercept as parameters\n",
        "$$\n",
        "f(x)=mx+b\\,,\n",
        "$$"
      ],
      "metadata": {
        "id": "B-D9tsnEGTHD",
        "cell_id": "00037-dfcd6c0d-7ec6-4552-8d7e-e190ec9d4259",
        "deepnote_cell_type": "markdown"
      }
    },
    {
      "cell_type": "code",
      "metadata": {
        "id": "3Jxl8Cyx4J32",
        "cell_id": "00038-f34d5918-9956-40d0-a4f7-7579a531398a",
        "deepnote_cell_type": "code"
      },
      "source": [
        "def f(x,m=3,b=-2):\n",
        "    return m*x+b"
      ],
      "execution_count": null,
      "outputs": []
    },
    {
      "cell_type": "code",
      "metadata": {
        "colab": {
          "base_uri": "https://localhost:8080/",
          "height": 35
        },
        "id": "WrYXrulI44Ij",
        "outputId": "b5bb125b-60da-4edc-fc0b-0249f80b66ca",
        "cell_id": "00039-615aaa9e-ef2b-44a3-948a-6a7f0c842e04",
        "deepnote_cell_type": "code"
      },
      "source": [
        "f(0.66666666666666666,-3,2)"
      ],
      "execution_count": null,
      "outputs": [
        {
          "data": {
            "text/plain": "0.0"
          },
          "execution_count": 45,
          "metadata": {},
          "output_type": "execute_result"
        }
      ]
    },
    {
      "cell_type": "markdown",
      "source": [
        "We have at least three ways to use a multiparameter function, the first two with the implicit `lambda` function"
      ],
      "metadata": {
        "cell_id": "00040-520dc43c-1a90-4944-b852-d236ef814bfd",
        "deepnote_cell_type": "markdown",
        "id": "Auvc1W9XQD1h"
      }
    },
    {
      "cell_type": "code",
      "metadata": {
        "colab": {
          "base_uri": "https://localhost:8080/",
          "height": 35
        },
        "id": "R6ihC-WN4ZUR",
        "outputId": "9d5a4737-95fe-4940-e9bc-f4dee796793c",
        "cell_id": "00041-a764ed04-9dfd-4083-9143-ead7816985a0",
        "deepnote_cell_type": "code"
      },
      "source": [
        "optimize.bisect(lambda x: -3*x+2,-10,10)"
      ],
      "execution_count": null,
      "outputs": [
        {
          "data": {
            "text/plain": "0.6666666666671972"
          },
          "execution_count": 46,
          "metadata": {},
          "output_type": "execute_result"
        }
      ]
    },
    {
      "cell_type": "code",
      "metadata": {
        "colab": {
          "base_uri": "https://localhost:8080/",
          "height": 35
        },
        "id": "iZHq9BrU4xFh",
        "outputId": "1a105e92-22a5-47e6-873b-6f17d8f6a412",
        "cell_id": "00042-de8c5d98-e2b0-4246-ae5c-3f99002ad753",
        "deepnote_cell_type": "code"
      },
      "source": [
        "optimize.bisect(lambda x: f(x,-3,2),-10,10,)"
      ],
      "execution_count": null,
      "outputs": [
        {
          "data": {
            "text/plain": "0.6666666666671972"
          },
          "execution_count": 47,
          "metadata": {},
          "output_type": "execute_result"
        }
      ]
    },
    {
      "cell_type": "markdown",
      "source": [
        "and the recommended way to used the designed implementation in Scipy through the `args` parameter which is common to many methods "
      ],
      "metadata": {
        "cell_id": "00043-86e4bf79-9a0c-4739-bde6-7bf886e7c524",
        "deepnote_cell_type": "markdown",
        "id": "ahGXVuKDQD1i"
      }
    },
    {
      "cell_type": "code",
      "metadata": {
        "colab": {
          "base_uri": "https://localhost:8080/",
          "height": 35
        },
        "id": "ojivSEZh5YLx",
        "outputId": "ed0c6690-c165-43d1-8e8e-4251fe0ea33b",
        "cell_id": "00044-68c0ee1a-085a-4429-b1b2-4225957cb1b1",
        "deepnote_cell_type": "code"
      },
      "source": [
        "optimize.bisect(f,-10,10,args=(-3,2))"
      ],
      "execution_count": null,
      "outputs": [
        {
          "data": {
            "text/plain": "0.6666666666671972"
          },
          "execution_count": 48,
          "metadata": {},
          "output_type": "execute_result"
        }
      ]
    },
    {
      "cell_type": "markdown",
      "source": [
        "* `xtol`"
      ],
      "metadata": {
        "id": "7wLEoVWK8FqU",
        "cell_id": "00045-d4261383-c2e7-4949-917a-8b3a5ac9bd1f",
        "deepnote_cell_type": "markdown"
      }
    },
    {
      "cell_type": "code",
      "metadata": {
        "colab": {
          "base_uri": "https://localhost:8080/",
          "height": 35
        },
        "id": "1UyHY0m76fIk",
        "outputId": "2b172be2-43dd-4940-ba04-75659bda3d83",
        "cell_id": "00046-3410e4a9-1d40-4862-8921-54aad836246f",
        "deepnote_cell_type": "code"
      },
      "source": [
        "optimize.bisect(f,-10,10,args=(-3,2),xtol=1E-17)"
      ],
      "execution_count": null,
      "outputs": [
        {
          "data": {
            "text/plain": "0.6666666666666671"
          },
          "execution_count": 49,
          "metadata": {},
          "output_type": "execute_result"
        }
      ]
    },
    {
      "cell_type": "markdown",
      "source": [
        "* `maxiter`"
      ],
      "metadata": {
        "id": "yjQIGQ5fGpIU",
        "cell_id": "00047-56cf8e40-248f-444e-86ad-1eb9bc97a9f2",
        "deepnote_cell_type": "markdown"
      }
    },
    {
      "cell_type": "code",
      "metadata": {
        "colab": {
          "base_uri": "https://localhost:8080/",
          "height": 35
        },
        "id": "xyyTsH7L7R-E",
        "outputId": "bc87c14b-b6a1-4c22-b68f-bef351841a12",
        "cell_id": "00048-aeba2fbd-eff7-4719-951b-56237027be40",
        "deepnote_cell_type": "code"
      },
      "source": [
        "optimize.bisect(f,-10,10,args=(-3,2),xtol=1E-17,maxiter=10000)"
      ],
      "execution_count": null,
      "outputs": [
        {
          "data": {
            "text/plain": "0.6666666666666671"
          },
          "execution_count": 50,
          "metadata": {},
          "output_type": "execute_result"
        }
      ]
    },
    {
      "cell_type": "code",
      "metadata": {
        "cell_id": "00049-323945d2-f445-4c73-a03b-7cf551a293c7",
        "deepnote_cell_type": "code",
        "id": "mUysmucTQD1k",
        "outputId": "f2341d8b-a2a2-4158-b60a-373efae6cef6"
      },
      "source": [
        "optimize.bisect(f,-10,10,args=(-3,2),xtol=1E-17,rtol=1E-15,maxiter=10000)"
      ],
      "execution_count": null,
      "outputs": [
        {
          "data": {
            "text/plain": "0.6666666666666671"
          },
          "execution_count": 51,
          "metadata": {},
          "output_type": "execute_result"
        }
      ]
    },
    {
      "cell_type": "markdown",
      "source": [
        "* `full_output`"
      ],
      "metadata": {
        "id": "FiXdFcKEGuIU",
        "cell_id": "00050-c2807d89-4849-4822-a64c-29a46d6a4a7d",
        "deepnote_cell_type": "markdown"
      }
    },
    {
      "cell_type": "code",
      "metadata": {
        "id": "tQnA1hbu7vYE",
        "cell_id": "00051-fc299f20-d410-4146-abb2-8300637e6ebd",
        "deepnote_cell_type": "code"
      },
      "source": [
        "x0,r=optimize.bisect(f,-10,10,args=(-3,2),xtol=1E-17,full_output=True)"
      ],
      "execution_count": null,
      "outputs": []
    },
    {
      "cell_type": "code",
      "metadata": {
        "cell_id": "00052-3c1b9419-4a40-42bc-bc2f-a9a1b669af4e",
        "deepnote_cell_type": "code",
        "id": "vkiuDAWuQD1k",
        "outputId": "266224ba-1d73-4fb8-e1d7-72d5dc1dcbff"
      },
      "source": [
        "x0"
      ],
      "execution_count": null,
      "outputs": [
        {
          "data": {
            "text/plain": "0.6666666666666671"
          },
          "execution_count": 62,
          "metadata": {},
          "output_type": "execute_result"
        }
      ]
    },
    {
      "cell_type": "code",
      "metadata": {
        "colab": {
          "base_uri": "https://localhost:8080/",
          "height": 35
        },
        "id": "YIE2XkN68Bfg",
        "outputId": "4f964c0f-7ebb-488a-fe1a-084f6629647f",
        "cell_id": "00053-9299c6e3-46eb-45f5-8cbf-8876ec77ecc1",
        "deepnote_cell_type": "code"
      },
      "source": [
        "type(r)"
      ],
      "execution_count": null,
      "outputs": [
        {
          "data": {
            "text/plain": "scipy.optimize.zeros.RootResults"
          },
          "execution_count": 61,
          "metadata": {},
          "output_type": "execute_result"
        }
      ]
    },
    {
      "cell_type": "markdown",
      "source": [
        "Check the code"
      ],
      "metadata": {
        "id": "QmSG5wGKw7We",
        "cell_id": "00054-ea09397a-105a-44c7-8649-b1a8501965fd",
        "deepnote_cell_type": "markdown"
      }
    },
    {
      "cell_type": "code",
      "metadata": {
        "colab": {
          "base_uri": "https://localhost:8080/",
          "height": 35
        },
        "id": "jBi0uZeE8NGk",
        "outputId": "aacf42d1-5bb2-4028-bbdc-e4ae465ff554",
        "cell_id": "00055-5293ed38-736c-4ebe-a108-315ccf0f95b3",
        "deepnote_cell_type": "code"
      },
      "source": [
        "r.root"
      ],
      "execution_count": null,
      "outputs": [
        {
          "data": {
            "text/plain": "0.6666666666666671"
          },
          "execution_count": 67,
          "metadata": {},
          "output_type": "execute_result"
        }
      ]
    },
    {
      "cell_type": "markdown",
      "source": [
        "The help of the function is write directly in the code of the Scipy method `bisect`"
      ],
      "metadata": {
        "cell_id": "00056-c437f4a1-6b36-4ba1-bd74-250c0e273414",
        "deepnote_cell_type": "markdown",
        "id": "_9jZAP0PQD1m"
      }
    },
    {
      "cell_type": "code",
      "metadata": {
        "id": "csnji5Tsw7Wf",
        "cell_id": "00057-23e6e725-6f8f-44ba-b401-6ecdc26281f2",
        "deepnote_cell_type": "code"
      },
      "source": [
        "optimize.bisect??"
      ],
      "execution_count": null,
      "outputs": []
    },
    {
      "cell_type": "markdown",
      "source": [
        "Check the internal referenced code"
      ],
      "metadata": {
        "id": "6_7lOL6Ww7Wj",
        "cell_id": "00058-31c575e2-f31a-49bc-afe7-75efb1cd75d8",
        "deepnote_cell_type": "markdown"
      }
    },
    {
      "cell_type": "code",
      "metadata": {
        "id": "Qh9fqUvgw7Wk",
        "cell_id": "00059-b095ae37-c407-4598-ab47-e48d54e37419",
        "deepnote_cell_type": "code",
        "outputId": "c8649312-b6c5-4284-e6e8-76b3ead93c88"
      },
      "source": [
        "optimize._zeros??"
      ],
      "execution_count": null,
      "outputs": [
        {
          "data": {
            "text/plain": "\u001b[0;31mType:\u001b[0m        module\n\u001b[0;31mString form:\u001b[0m <module 'scipy.optimize._zeros' from '/usr/local/lib/python3.7/dist-packages/scipy/optimize/_zeros.cpython-37m-x86_64-linux-gnu.so'>\n\u001b[0;31mFile:\u001b[0m        /usr/local/lib/python3.7/dist-packages/scipy/optimize/_zeros.cpython-37m-x86_64-linux-gnu.so\n"
          },
          "metadata": {},
          "output_type": "display_data"
        }
      ]
    },
    {
      "cell_type": "markdown",
      "source": [
        "### Example\n",
        "Find the roots of\n",
        "$$x^3=2$$"
      ],
      "metadata": {
        "id": "IJIfqraOG_fz",
        "cell_id": "00060-7cfe2241-3f28-42a9-bddf-0e04f4537090",
        "deepnote_cell_type": "markdown"
      }
    },
    {
      "cell_type": "code",
      "metadata": {
        "id": "O1E6o0IRw7Wo",
        "cell_id": "00061-002ecac9-390d-4f4c-8656-292e9927b2a5",
        "deepnote_cell_type": "code"
      },
      "source": [
        "def function(x):\n",
        "    return x**3.0 - 2.0"
      ],
      "execution_count": null,
      "outputs": []
    },
    {
      "cell_type": "code",
      "metadata": {
        "cell_id": "00062-e91c31ee-715e-4f6d-a409-1cc8fdd80883",
        "deepnote_cell_type": "code",
        "id": "CcLGLG0wQD1n"
      },
      "source": [
        "todo=optimize.bisect(function,a,b,full_output=True)"
      ],
      "execution_count": null,
      "outputs": []
    },
    {
      "cell_type": "code",
      "metadata": {
        "cell_id": "00063-b14fbdeb-bf0d-4ad2-9e13-9d2607a28e8a",
        "deepnote_cell_type": "code",
        "id": "RDplBu1UQD1n",
        "outputId": "4c344ec2-3c06-4205-c65a-52066563fade"
      },
      "source": [
        "type(todo)"
      ],
      "execution_count": null,
      "outputs": [
        {
          "data": {
            "text/plain": "tuple"
          },
          "execution_count": 73,
          "metadata": {},
          "output_type": "execute_result"
        }
      ]
    },
    {
      "cell_type": "code",
      "metadata": {
        "cell_id": "00064-f1e070b4-f3fd-46c8-b9f7-cb183c9037ef",
        "deepnote_cell_type": "code",
        "id": "k8rzrYCNQD1o",
        "outputId": "7ff4be4c-d97c-45c9-e4be-3b3060cb8d2f"
      },
      "source": [
        "len(todo)"
      ],
      "execution_count": null,
      "outputs": [
        {
          "data": {
            "text/plain": "2"
          },
          "execution_count": 74,
          "metadata": {},
          "output_type": "execute_result"
        }
      ]
    },
    {
      "cell_type": "code",
      "metadata": {
        "cell_id": "00065-242e95c6-c8a9-4dee-80f1-19430fab181f",
        "deepnote_cell_type": "code",
        "id": "is9W0d1WQD1o",
        "outputId": "000577a3-e6dc-4e37-fe03-00530fbdeeaa"
      },
      "source": [
        "result=todo[0]\n",
        "result"
      ],
      "execution_count": null,
      "outputs": [
        {
          "data": {
            "text/plain": "1.2599210498938191"
          },
          "execution_count": 75,
          "metadata": {},
          "output_type": "execute_result"
        }
      ]
    },
    {
      "cell_type": "code",
      "metadata": {
        "cell_id": "00066-415dd707-ea15-4ba2-bda9-9ab1b47031f1",
        "deepnote_cell_type": "code",
        "id": "qsEmA5PbQD1o",
        "outputId": "e07e5982-be11-4fde-bb70-a20dc0012617"
      },
      "source": [
        "r=todo[1]\n",
        "r"
      ],
      "execution_count": null,
      "outputs": [
        {
          "data": {
            "text/plain": "      converged: True\n           flag: 'converged'\n function_calls: 42\n     iterations: 40\n           root: 1.2599210498938191"
          },
          "execution_count": 76,
          "metadata": {},
          "output_type": "execute_result"
        }
      ]
    },
    {
      "cell_type": "code",
      "metadata": {
        "cell_id": "00067-a527be75-2a66-434d-b67c-faa705eb776c",
        "deepnote_cell_type": "code",
        "id": "b0BIXQTfQD1o",
        "outputId": "a697bbd5-eebf-4496-ffd9-15441d0fbbf4"
      },
      "source": [
        "type(r)"
      ],
      "execution_count": null,
      "outputs": [
        {
          "data": {
            "text/plain": "scipy.optimize.zeros.RootResults"
          },
          "execution_count": 138,
          "metadata": {},
          "output_type": "execute_result"
        }
      ]
    },
    {
      "cell_type": "code",
      "metadata": {
        "cell_id": "00068-89541b5a-6813-45e9-83a2-9f331abb7af9",
        "deepnote_cell_type": "code",
        "id": "CxcyQ6k0QD1p",
        "outputId": "1a260f27-9d23-48b8-d724-419ac170fdea"
      },
      "source": [
        "r.iterations"
      ],
      "execution_count": null,
      "outputs": [
        {
          "data": {
            "text/plain": "40"
          },
          "execution_count": 131,
          "metadata": {},
          "output_type": "execute_result"
        }
      ]
    },
    {
      "cell_type": "code",
      "metadata": {
        "cell_id": "00069-9ef2c972-7d32-4f42-9324-82b31f965bd5",
        "deepnote_cell_type": "code",
        "id": "AU2RdtpDQD1q"
      },
      "source": [
        "todo=optimize.bisect(function,a,b,full_output=False)"
      ],
      "execution_count": null,
      "outputs": []
    },
    {
      "cell_type": "code",
      "metadata": {
        "cell_id": "00070-53f7d183-2b5c-4a51-aadd-797bcd559dd3",
        "deepnote_cell_type": "code",
        "id": "8_mmjQjGQD1q",
        "outputId": "d316b521-106b-4148-a0ce-f54224773a9d"
      },
      "source": [
        "type(todo)"
      ],
      "execution_count": null,
      "outputs": [
        {
          "data": {
            "text/plain": "float"
          },
          "execution_count": 79,
          "metadata": {},
          "output_type": "execute_result"
        }
      ]
    },
    {
      "cell_type": "code",
      "metadata": {
        "id": "kABWCrNcw7Wq",
        "cell_id": "00071-25c9a171-1542-459f-90bf-525f7917f52d",
        "deepnote_cell_type": "code"
      },
      "source": [
        "a = 0.0\n",
        "b = 2.0\n",
        "\n",
        "result,r=optimize.bisect(function,a,b,full_output=True)"
      ],
      "execution_count": null,
      "outputs": []
    },
    {
      "cell_type": "code",
      "metadata": {
        "colab": {
          "base_uri": "https://localhost:8080/",
          "height": 35
        },
        "id": "nlxlkNYyw7Wt",
        "outputId": "1ca5ef81-e255-4df2-fe73-ebff00268deb",
        "cell_id": "00072-4d7e471e-09f6-4637-b351-24166e731076",
        "deepnote_cell_type": "code"
      },
      "source": [
        "result"
      ],
      "execution_count": null,
      "outputs": [
        {
          "data": {
            "text/plain": "1.2599210498938191"
          },
          "execution_count": 81,
          "metadata": {},
          "output_type": "execute_result"
        }
      ]
    },
    {
      "cell_type": "code",
      "metadata": {
        "colab": {
          "base_uri": "https://localhost:8080/",
          "height": 35
        },
        "id": "L3HyS2OGw7Wv",
        "outputId": "d0094839-53ce-43cc-ab3b-c276f0275ff3",
        "cell_id": "00073-e7c8de5c-de2c-4abe-813d-1379bc7f3dd5",
        "deepnote_cell_type": "code"
      },
      "source": [
        "2**(1/3.0)"
      ],
      "execution_count": null,
      "outputs": [
        {
          "data": {
            "text/plain": "1.2599210498948732"
          },
          "execution_count": 82,
          "metadata": {},
          "output_type": "execute_result"
        }
      ]
    },
    {
      "cell_type": "markdown",
      "source": [
        "Check `r` object by using the `<TAB>` key next"
      ],
      "metadata": {
        "id": "TKlBRLXUw7Wy",
        "cell_id": "00074-de669b29-3f1d-47ba-b3e2-91eeb44f1a96",
        "deepnote_cell_type": "markdown"
      }
    },
    {
      "cell_type": "code",
      "metadata": {
        "colab": {
          "base_uri": "https://localhost:8080/",
          "height": 35
        },
        "id": "TkfTsXumw7Wz",
        "outputId": "d618fc43-05eb-4e22-de7e-4db81ad77435",
        "cell_id": "00075-5ba7bdc2-e19e-4a3b-9ea6-6bcfa0d668e3",
        "deepnote_cell_type": "code"
      },
      "source": [
        "r.iterations"
      ],
      "execution_count": null,
      "outputs": [
        {
          "data": {
            "text/plain": "40"
          },
          "execution_count": 122,
          "metadata": {},
          "output_type": "execute_result"
        }
      ]
    },
    {
      "cell_type": "code",
      "metadata": {
        "cell_id": "00076-9e9de48b-551d-47e0-bc7b-952db24db485",
        "deepnote_cell_type": "code",
        "id": "ASDUqZ6bQD1s",
        "outputId": "fb5aa1dc-b37b-438f-eda3-fb8b5799f547"
      },
      "source": [
        "r.function_calls"
      ],
      "execution_count": null,
      "outputs": [
        {
          "data": {
            "text/plain": "42"
          },
          "execution_count": 123,
          "metadata": {},
          "output_type": "execute_result"
        }
      ]
    },
    {
      "cell_type": "code",
      "metadata": {
        "colab": {
          "base_uri": "https://localhost:8080/",
          "height": 35
        },
        "id": "HpBNHlWDw7W3",
        "outputId": "25eb56bd-9ec6-4c4f-9a08-b3035ac7260c",
        "cell_id": "00077-2d6988f0-e37b-4d62-b418-1b2964a9d409",
        "deepnote_cell_type": "code"
      },
      "source": [
        "2**(-r.iterations)"
      ],
      "execution_count": null,
      "outputs": [
        {
          "data": {
            "text/plain": "9.094947017729282e-13"
          },
          "execution_count": 74,
          "metadata": {},
          "output_type": "execute_result"
        }
      ]
    },
    {
      "cell_type": "code",
      "metadata": {
        "colab": {
          "base_uri": "https://localhost:8080/",
          "height": 35
        },
        "id": "tvkJ0Jy5w7W6",
        "outputId": "c9d1ebf4-0f00-4992-c901-562c1ae6dfde",
        "cell_id": "00078-1beba11e-b7dc-43a4-a5c2-81c77a882086",
        "deepnote_cell_type": "code"
      },
      "source": [
        "abs((2**(1/3.0)-result))"
      ],
      "execution_count": null,
      "outputs": [
        {
          "data": {
            "text/plain": "1.0540457395791236e-12"
          },
          "execution_count": 75,
          "metadata": {},
          "output_type": "execute_result"
        }
      ]
    },
    {
      "cell_type": "code",
      "metadata": {
        "colab": {
          "base_uri": "https://localhost:8080/",
          "height": 35
        },
        "id": "4m6VCcpiw7W8",
        "outputId": "8229c9e2-8cb1-4a0c-a2e1-51f77ae36dc4",
        "cell_id": "00079-d30fe040-6a03-44e0-8f2f-504565fb9a97",
        "deepnote_cell_type": "code"
      },
      "source": [
        "r.converged"
      ],
      "execution_count": null,
      "outputs": [
        {
          "data": {
            "text/plain": "True"
          },
          "execution_count": 76,
          "metadata": {},
          "output_type": "execute_result"
        }
      ]
    },
    {
      "cell_type": "code",
      "metadata": {
        "id": "7bp9qun4w7W_",
        "cell_id": "00080-0cd89992-2a5e-4f13-900f-69d39f2c8d91",
        "deepnote_cell_type": "code"
      },
      "source": [
        "result,r=optimize.bisect(function,a,b,xtol=1E-17,full_output=True)"
      ],
      "execution_count": null,
      "outputs": []
    },
    {
      "cell_type": "code",
      "metadata": {
        "colab": {
          "base_uri": "https://localhost:8080/",
          "height": 35
        },
        "id": "kmUCIBwlw7XB",
        "outputId": "70a1d062-9ec4-4082-afbc-4056962e0d46",
        "cell_id": "00081-8788695c-7a8e-4f56-b96a-3606127a2750",
        "deepnote_cell_type": "code"
      },
      "source": [
        "r.iterations"
      ],
      "execution_count": null,
      "outputs": [
        {
          "data": {
            "text/plain": "51"
          },
          "execution_count": 78,
          "metadata": {},
          "output_type": "execute_result"
        }
      ]
    },
    {
      "cell_type": "code",
      "metadata": {
        "colab": {
          "base_uri": "https://localhost:8080/",
          "height": 35
        },
        "id": "zQTyAChgw7XE",
        "outputId": "c1a5a72d-53f8-4f53-ef5c-26ef8fcd2305",
        "cell_id": "00082-5dd094e4-636b-4826-b41e-f9f0abb5a298",
        "deepnote_cell_type": "code"
      },
      "source": [
        "abs((2**(1/3.0)-result))"
      ],
      "execution_count": null,
      "outputs": [
        {
          "data": {
            "text/plain": "2.220446049250313e-16"
          },
          "execution_count": 79,
          "metadata": {},
          "output_type": "execute_result"
        }
      ]
    },
    {
      "cell_type": "code",
      "metadata": {
        "colab": {
          "base_uri": "https://localhost:8080/",
          "height": 35
        },
        "id": "eXvvDw-4EZr-",
        "outputId": "bb036e6a-67cb-4b17-b1db-8f1fe1e38021",
        "cell_id": "00083-059b3bf7-9af3-4004-8cfd-979ed9009fad",
        "deepnote_cell_type": "code"
      },
      "source": [
        "2**(-r.iterations)"
      ],
      "execution_count": null,
      "outputs": [
        {
          "data": {
            "text/plain": "4.440892098500626e-16"
          },
          "execution_count": 80,
          "metadata": {},
          "output_type": "execute_result"
        }
      ]
    },
    {
      "cell_type": "markdown",
      "source": [
        "### <font color='red'> ACTIVITY </font>"
      ],
      "metadata": {
        "id": "Mf8r3RfJw7XG",
        "cell_id": "00084-2c87b9b5-238e-4d1e-833f-9fd2332a8f6c",
        "deepnote_cell_type": "markdown"
      }
    },
    {
      "cell_type": "markdown",
      "source": [
        "<font color='red'>\n",
        "In an IPython notebook, use the scipy implementation and find the first solution to the equation\n",
        "    \n",
        "$ 7 = \\sqrt{x^2+1}+e^x\\sin x $\n",
        "    \n",
        "CLUE: Check graphically (with matplotlib) that the solution is within the interval $[0,2]$.\n",
        "</font>"
      ],
      "metadata": {
        "id": "gDKsdwSZw7XH",
        "cell_id": "00085-e99f02c8-9220-4cc8-a9a4-42fa0b50a329",
        "deepnote_cell_type": "markdown"
      }
    },
    {
      "cell_type": "code",
      "source": [
        "import numpy as np\n",
        "from scipy import optimize\n",
        "import matplotlib.pylab as plt"
      ],
      "metadata": {
        "id": "g2HXJMUBdTjR"
      },
      "execution_count": 7,
      "outputs": []
    },
    {
      "cell_type": "code",
      "source": [
        "def f(x):\n",
        "  return 7-np.sqrt(x**2+1)-np.exp(x)*np.sin(x)"
      ],
      "metadata": {
        "id": "VnW0X6bpdo2d"
      },
      "execution_count": 8,
      "outputs": []
    },
    {
      "cell_type": "code",
      "source": [
        "x=np.linspace(0,2,50)\n",
        "plt.plot(x,f(x), 'g.-')\n",
        "plt.xlabel('x')\n",
        "plt.ylabel('f(x)')\n",
        "plt.title('Grafica de la función')\n",
        "plt.grid()"
      ],
      "metadata": {
        "colab": {
          "base_uri": "https://localhost:8080/",
          "height": 295
        },
        "id": "MSvT6e9ueFdm",
        "outputId": "fa569324-5af5-4e6e-f0bb-0951e9a3e194"
      },
      "execution_count": 18,
      "outputs": [
        {
          "output_type": "display_data",
          "data": {
            "image/png": "[encoded data removed]",
            "text/plain": [
              "<Figure size 432x288 with 1 Axes>"
            ]
          },
          "metadata": {
            "needs_background": "light"
          }
        }
      ]
    },
    {
      "cell_type": "code",
      "source": [
        "from scipy import optimize"
      ],
      "metadata": {
        "id": "qI17oxDxeaRA"
      },
      "execution_count": 10,
      "outputs": []
    },
    {
      "cell_type": "code",
      "source": [
        "optimize.bisect(f,0,2)"
      ],
      "metadata": {
        "colab": {
          "base_uri": "https://localhost:8080/"
        },
        "id": "SqyTTUDieg_u",
        "outputId": "3d16cc07-faed-445f-ed1d-0c772f815311"
      },
      "execution_count": 11,
      "outputs": [
        {
          "output_type": "execute_result",
          "data": {
            "text/plain": [
              "1.628718494926943"
            ]
          },
          "metadata": {},
          "execution_count": 11
        }
      ]
    },
    {
      "cell_type": "markdown",
      "source": [
        "[solution](./solutions/sltn_bisect.ipynb)"
      ],
      "metadata": {
        "id": "3Sr162oVw7XI",
        "cell_id": "00086-92f77970-8631-4dca-b7ab-ae74f1c42d56",
        "deepnote_cell_type": "markdown"
      }
    },
    {
      "cell_type": "code",
      "metadata": {
        "id": "e5at_XXzHSlk",
        "cell_id": "00087-964a4748-9da4-4939-be15-755aa1713103",
        "deepnote_cell_type": "code"
      },
      "source": [
        "a,b,c=(2,3,4)"
      ],
      "execution_count": null,
      "outputs": []
    },
    {
      "cell_type": "code",
      "metadata": {
        "colab": {
          "base_uri": "https://localhost:8080/",
          "height": 35
        },
        "id": "geD3ecfDHXFE",
        "outputId": "e823e103-fbd6-461d-c9ed-82c11a9c5d28",
        "cell_id": "00088-6ace9e02-7b44-451a-bc75-cfc036b3ca60",
        "deepnote_cell_type": "code"
      },
      "source": [
        "c"
      ],
      "execution_count": null,
      "outputs": [
        {
          "data": {
            "text/plain": "4"
          },
          "execution_count": 39,
          "metadata": {},
          "output_type": "execute_result"
        }
      ]
    },
    {
      "cell_type": "code",
      "metadata": {
        "id": "zrY4Rc19E_zC",
        "cell_id": "00089-2a25631d-85d7-4206-958d-3d532c3a40d7",
        "deepnote_cell_type": "code"
      },
      "source": [
        "import numpy as np"
      ],
      "execution_count": null,
      "outputs": []
    },
    {
      "cell_type": "code",
      "metadata": {
        "colab": {
          "base_uri": "https://localhost:8080/",
          "height": 35
        },
        "id": "SZhTQgvLFDmg",
        "outputId": "51f03fe3-2248-4cd6-832e-0f4ecebc3059",
        "cell_id": "00090-fd1017c0-95b8-4254-b587-6d468a2c4785",
        "deepnote_cell_type": "code"
      },
      "source": [
        "# Solo usar para constante\n",
        "np.e"
      ],
      "execution_count": null,
      "outputs": [
        {
          "data": {
            "text/plain": "2.718281828459045"
          },
          "execution_count": 41,
          "metadata": {},
          "output_type": "execute_result"
        }
      ]
    },
    {
      "cell_type": "code",
      "metadata": {
        "colab": {
          "base_uri": "https://localhost:8080/",
          "height": 35
        },
        "id": "ela6ZuPcFGPQ",
        "outputId": "9237d95b-cf27-43b2-aab8-242954b8ec85",
        "cell_id": "00091-3c32f057-2093-4e45-ae31-3efe926363c4",
        "deepnote_cell_type": "code"
      },
      "source": [
        "np.exp(1)"
      ],
      "execution_count": null,
      "outputs": [
        {
          "data": {
            "text/plain": "2.718281828459045"
          },
          "execution_count": 42,
          "metadata": {},
          "output_type": "execute_result"
        }
      ]
    },
    {
      "cell_type": "markdown",
      "source": [
        "## Example 2"
      ],
      "metadata": {
        "id": "hBSyBUNrw7XJ",
        "cell_id": "00092-16a277e5-2710-41fa-8654-b258dc4899c3",
        "deepnote_cell_type": "markdown"
      }
    },
    {
      "cell_type": "markdown",
      "source": [
        "In orbital mechanics, when solving the central-force problem it becomes necessary to solve the Kepler's equation. This is a transcendental equation that relates the orbital parameters of the trajectory.\n",
        "\n",
        "*Kepler equation:* $M = E - \\epsilon \\sin E$\n",
        "\n",
        "where $M$ is the mean anomaly, $E$ the eccentric anomaly and $\\epsilon$ the eccentricity. The mean anomaly can be computed with the expression\n",
        "\n",
        "$$M = n\\ t = \\sqrt{ \\frac{GM}{a^3} } t$$\n",
        "\n",
        "where $n$ is the mean motion, $G$ the gravitational constant, $M$ the mass of the central body and $a$ the semi-major axis. $t$ is the time where the position in the trajectory will be computed.\n",
        "\n",
        "The coordinates $x$ and $y$ as time functions can be recovered by means of the next expressions\n",
        "\n",
        "$$x(t) = a(\\cos E - \\epsilon)$$\n",
        "\n",
        "$$y(t) = b\\sin E$$\n",
        "\n",
        "where $b = a \\sqrt{1-\\epsilon^2}$ is the semi-minor axis of the orbit and the implicit time-dependence of the eccentric anomaly $E$ is computed through the Kepler's equation."
      ],
      "metadata": {
        "id": "qpIK0RxFw7XK",
        "cell_id": "00093-5f93b55d-57e1-47c9-8ef7-ca48489465a2",
        "deepnote_cell_type": "markdown"
      }
    },
    {
      "cell_type": "markdown",
      "source": [
        "**Problem:**\n",
        "\n",
        "For a stallite orbiting the earth in a equatorial trajectory with eccentricity $\\epsilon = 0.5$ at a geostationary distance for the semi-major axis, tabulate the positions $x$ and $y$ within the orbital plane in intervals of $15$ min during $5$ hours.\n",
        "\n",
        "**Parameters:**\n",
        "\n",
        "- $\\epsilon = 0.5$\n",
        "\n",
        "- $a = 35900$ km\n",
        "\n",
        "- $G = 6.67384 \\times 10^{-11}$ m$^3$ kg$^{-1}$ s$^{-2}$\n",
        "\n",
        "- $M_{\\oplus} = 5.972\\times 10^{24}$ kg"
      ],
      "metadata": {
        "id": "FlKupbitw7XL",
        "cell_id": "00094-d03c5ad9-4375-4392-813c-5324ba26d2cd",
        "deepnote_cell_type": "markdown"
      }
    },
    {
      "cell_type": "code",
      "metadata": {
        "id": "URwGARM5w7XL",
        "cell_id": "00095-42d0cae2-815b-4a70-a287-262d37a0119a",
        "deepnote_cell_type": "code"
      },
      "source": [
        "#====================================================================\n",
        "#Parameters\n",
        "#====================================================================\n",
        "#Eccentricity\n",
        "eps = 0.5\n",
        "#Semi-major axis    [m]\n",
        "a = 35900e3\n",
        "#Gravitational constant    [m3kg-1s-2]\n",
        "GC = 6.67384e-11\n",
        "#Earth mass    [kg]\n",
        "Me = 5.972e24\n",
        "\n",
        "#Semi-minor axis    [m]\n",
        "b = a*(1-eps**2.0)**0.5\n",
        "#Mean motion\n",
        "n = ( GC*Me/a**3.0 )**0.5\n",
        "\n",
        "#Hour to Second\n",
        "HR2SC = 3600.\n",
        "#Initial time    [hr]\n",
        "t0 = 0*HR2SC\n",
        "#Final time    [hr]\n",
        "tf = 5*HR2SC\n",
        "#Time step    [hr]\n",
        "tstep = 0.25*HR2SC\n",
        "#Number of maxim iterations\n",
        "Niter = 56\n",
        "#Root interval\n",
        "a0 = -10\n",
        "b0 = 10\n",
        "\n",
        "#====================================================================\n",
        "#Kepler Function\n",
        "#====================================================================\n",
        "def kepler( E ):\n",
        "    func = E - eps*np.sin(E) - n*t\n",
        "    return func\n",
        "\n",
        "#====================================================================\n",
        "#Position function\n",
        "#====================================================================\n",
        "def r(E):\n",
        "    x = a*(np.cos(E)-eps)\n",
        "    y = b*np.sin(E)\n",
        "    return [x/1.e3, y/1.e3]"
      ],
      "execution_count": null,
      "outputs": []
    },
    {
      "cell_type": "code",
      "metadata": {
        "id": "z4PZbsmIw7XQ",
        "outputId": "bb53b14d-8d19-459f-ecf6-4e9d8988266d",
        "cell_id": "00096-922ad7be-f5db-47f8-ab75-c3ff9d860122",
        "deepnote_cell_type": "code"
      },
      "source": [
        "#====================================================================\n",
        "#Solving for different times\n",
        "#====================================================================\n",
        "#Time array\n",
        "times = np.arange( t0, tf, tstep )\n",
        "\n",
        "rpos = []\n",
        "for t in times:\n",
        "    #Finding the new eccentric anomaly\n",
        "    E = optimize.bisect( kepler, a0, b0 )\n",
        "    #Computing coordinates at this time\n",
        "    ri = r(E)\n",
        "    print (\"In %f hours, the satellite is located at (%f,%f) km\"%(t/HR2SC, ri[0], ri[1]) )\n",
        "    rpos.append( ri )\n",
        "rpos = np.array(rpos)    \n",
        "\n",
        "#Plotting\n",
        "plt.plot( rpos[:,0], rpos[:,1], \"o-\", color=\"red\", lw = 2 )\n",
        "plt.grid(True)\n",
        "plt.xlabel(\"$x$ coordinate [km]\")\n",
        "plt.ylabel(\"$y$ coordinate [km]\")"
      ],
      "execution_count": null,
      "outputs": [
        {
          "name": "stdout",
          "output_type": "stream",
          "text": "In 0.000000 hours, the satellite is located at (17950.000000,0.000000) km\nIn 0.250000 hours, the satellite is located at (17454.741542,5146.426647) km\nIn 0.500000 hours, the satellite is located at (16033.097675,10023.437750) km\nIn 0.750000 hours, the satellite is located at (13848.847528,14430.262364) km\nIn 1.000000 hours, the satellite is located at (11104.379909,18261.701894) km\nIn 1.250000 hours, the satellite is located at (7989.437466,21493.410338) km\nIn 1.500000 hours, the satellite is located at (4657.168469,24151.489610) km\nIn 1.750000 hours, the satellite is located at (1221.066166,26286.121177) km\nIn 2.000000 hours, the satellite is located at (-2238.747501,27954.872718) km\nIn 2.250000 hours, the satellite is located at (-5667.264143,29214.008624) km\nIn 2.500000 hours, the satellite is located at (-9027.373695,30114.739827) km\nIn 2.750000 hours, the satellite is located at (-12294.392344,30702.085866) km\nIn 3.000000 hours, the satellite is located at (-15452.164136,31014.965936) km\nIn 3.250000 hours, the satellite is located at (-18490.361033,31086.789919) km\nIn 3.500000 hours, the satellite is located at (-21402.633716,30946.195086) km\nIn 3.750000 hours, the satellite is located at (-24185.347784,30617.769816) km\nIn 4.000000 hours, the satellite is located at (-26836.717825,30122.702148) km\nIn 4.250000 hours, the satellite is located at (-29356.211228,29479.336137) km\nIn 4.500000 hours, the satellite is located at (-31744.135350,28703.638662) km\nIn 4.750000 hours, the satellite is located at (-34001.350021,27809.586870) km\n"
        },
        {
          "data": {
            "text/plain": "Text(0, 0.5, '$y$ coordinate [km]')"
          },
          "execution_count": 45,
          "metadata": {},
          "output_type": "execute_result"
        },
        {
          "data": {
            "image/png": "[encoded data removed]",
            "text/plain": "<Figure size 432x288 with 1 Axes>"
          },
          "metadata": {
            "needs_background": "light",
            "image/png": {
              "width": 418,
              "height": 266
            }
          },
          "output_type": "display_data"
        }
      ]
    },
    {
      "cell_type": "markdown",
      "source": [
        "- - - "
      ],
      "metadata": {
        "id": "RJlKLGjww7XU",
        "cell_id": "00097-c6e00802-c115-4c54-bfb2-da772f8eff96",
        "deepnote_cell_type": "markdown"
      }
    },
    {
      "cell_type": "markdown",
      "source": [
        "<a style='text-decoration:none;line-height:16px;display:flex;color:#5B5B62;padding:10px;justify-content:end;' href='https://deepnote.com?utm_source=created-in-deepnote-cell&projectId=f91b818d-f536-4b8f-81de-61752e0979b7' target=\"_blank\">\n",
        "<img alt='Created in deepnote.com' style='display:inline;max-height:16px;margin:0px;margin-right:7.5px;' src='data:image/svg+xml;base64,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' > </img>\n",
        "Created in <span style='font-weight:600;margin-left:4px;'>Deepnote</span></a>"
      ],
      "metadata": {
        "tags": [],
        "created_in_deepnote_cell": true,
        "deepnote_cell_type": "markdown",
        "id": "4HwmuCFlQD1z"
      }
    }
  ],
  "nbformat": 4,
  "nbformat_minor": 0,
  "metadata": {
    "colab": {
      "name": "One-variable-equations_DayanaHenao_1001469185.ipynb",
      "provenance": []
    },
    "kernelspec": {
      "display_name": "Python 3",
      "language": "python",
      "name": "python3"
    },
    "language_info": {
      "codemirror_mode": {
        "name": "ipython",
        "version": 3
      },
      "file_extension": ".py",
      "mimetype": "text/x-python",
      "name": "python",
      "nbconvert_exporter": "python",
      "pygments_lexer": "ipython3",
      "version": "3.7.3"
    },
    "toc": {
      "colors": {
        "hover_highlight": "#DAA520",
        "running_highlight": "#FF0000",
        "selected_highlight": "#FFD700"
      },
      "moveMenuLeft": true,
      "nav_menu": {
        "height": "426px",
        "width": "252px"
      },
      "navigate_menu": true,
      "number_sections": true,
      "sideBar": true,
      "threshold": 4,
      "toc_cell": false,
      "toc_section_display": "block",
      "toc_window_display": false
    },
    "deepnote_notebook_id": "568ec0db-8924-4d77-814a-ffc3d2455285",
    "deepnote": {},
    "deepnote_execution_queue": []
  }
}