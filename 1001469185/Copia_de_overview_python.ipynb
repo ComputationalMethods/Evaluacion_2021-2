{
  "nbformat": 4,
  "nbformat_minor": 0,
  "metadata": {
    "celltoolbar": "Slideshow",
    "colab": {
      "name": "Copia de overview-python.ipynb",
      "provenance": [],
      "collapsed_sections": [
        "2iWjCW7tF_zF"
      ]
    },
    "deepnote": {},
    "deepnote_execution_queue": [],
    "deepnote_notebook_id": "c3dc6802-2cbf-4afc-85fa-c70d967f9c3a",
    "kernelspec": {
      "display_name": "Python 3 (ipykernel)",
      "language": "python",
      "name": "python3"
    },
    "language_info": {
      "codemirror_mode": {
        "name": "ipython",
        "version": 3
      },
      "file_extension": ".py",
      "mimetype": "text/x-python",
      "name": "python",
      "nbconvert_exporter": "python",
      "pygments_lexer": "ipython3",
      "version": "3.7.3"
    },
    "toc": {
      "colors": {
        "hover_highlight": "#DAA520",
        "running_highlight": "#FF0000",
        "selected_highlight": "#FFD700"
      },
      "moveMenuLeft": true,
      "nav_menu": {
        "height": "390px",
        "width": "252px"
      },
      "navigate_menu": true,
      "number_sections": true,
      "sideBar": true,
      "threshold": 4,
      "toc_cell": false,
      "toc_section_display": "block",
      "toc_window_display": false
    },
    "widgets": {
      "application/vnd.jupyter.widget-state+json": {
        "b7051b9522874b10bfc35f60fd684ff1": {
          "model_module": "@jupyter-widgets/controls",
          "model_name": "VBoxModel",
          "model_module_version": "1.5.0",
          "state": {
            "_view_name": "VBoxView",
            "_dom_classes": [
              "widget-interact"
            ],
            "_model_name": "VBoxModel",
            "_view_module": "@jupyter-widgets/controls",
            "_model_module_version": "1.5.0",
            "_view_count": null,
            "_view_module_version": "1.5.0",
            "box_style": "",
            "layout": "IPY_MODEL_fda48469b1ce4e0584f2ecf6eff520b2",
            "_model_module": "@jupyter-widgets/controls",
            "children": [
              "IPY_MODEL_94b5640896a84039ac6e30547c9d709f",
              "IPY_MODEL_b13a52e5804c4fe881cb42bbdb8f8977"
            ]
          }
        },
        "fda48469b1ce4e0584f2ecf6eff520b2": {
          "model_module": "@jupyter-widgets/base",
          "model_name": "LayoutModel",
          "model_module_version": "1.2.0",
          "state": {
            "_view_name": "LayoutView",
            "grid_template_rows": null,
            "right": null,
            "justify_content": null,
            "_view_module": "@jupyter-widgets/base",
            "overflow": null,
            "_model_module_version": "1.2.0",
            "_view_count": null,
            "flex_flow": null,
            "width": null,
            "min_width": null,
            "border": null,
            "align_items": null,
            "bottom": null,
            "_model_module": "@jupyter-widgets/base",
            "top": null,
            "grid_column": null,
            "overflow_y": null,
            "overflow_x": null,
            "grid_auto_flow": null,
            "grid_area": null,
            "grid_template_columns": null,
            "flex": null,
            "_model_name": "LayoutModel",
            "justify_items": null,
            "grid_row": null,
            "max_height": null,
            "align_content": null,
            "visibility": null,
            "align_self": null,
            "height": null,
            "min_height": null,
            "padding": null,
            "grid_auto_rows": null,
            "grid_gap": null,
            "max_width": null,
            "order": null,
            "_view_module_version": "1.2.0",
            "grid_template_areas": null,
            "object_position": null,
            "object_fit": null,
            "grid_auto_columns": null,
            "margin": null,
            "display": null,
            "left": null
          }
        },
        "94b5640896a84039ac6e30547c9d709f": {
          "model_module": "@jupyter-widgets/controls",
          "model_name": "IntSliderModel",
          "model_module_version": "1.5.0",
          "state": {
            "_view_name": "IntSliderView",
            "style": "IPY_MODEL_efa56c8e3f024e33a5a633790fb1a111",
            "_dom_classes": [],
            "description": "x",
            "step": 1,
            "_model_name": "IntSliderModel",
            "orientation": "horizontal",
            "max": 2,
            "_view_module": "@jupyter-widgets/controls",
            "_model_module_version": "1.5.0",
            "value": 1,
            "_view_count": null,
            "disabled": false,
            "_view_module_version": "1.5.0",
            "min": 0,
            "continuous_update": true,
            "readout_format": "d",
            "description_tooltip": null,
            "readout": true,
            "_model_module": "@jupyter-widgets/controls",
            "layout": "IPY_MODEL_59c226fe6eea43d58c0220a604211096"
          }
        },
        "b13a52e5804c4fe881cb42bbdb8f8977": {
          "model_module": "@jupyter-widgets/output",
          "model_name": "OutputModel",
          "model_module_version": "1.0.0",
          "state": {
            "_view_name": "OutputView",
            "msg_id": "",
            "_dom_classes": [],
            "_model_name": "OutputModel",
            "outputs": [
              {
                "output_type": "stream",
                "name": "stdout",
                "text": [
                  "1.5707963267948966\n"
                ]
              }
            ],
            "_view_module": "@jupyter-widgets/output",
            "_model_module_version": "1.0.0",
            "_view_count": null,
            "_view_module_version": "1.0.0",
            "layout": "IPY_MODEL_cfd477c9ff10497ba394c4b60640f71e",
            "_model_module": "@jupyter-widgets/output"
          }
        },
        "efa56c8e3f024e33a5a633790fb1a111": {
          "model_module": "@jupyter-widgets/controls",
          "model_name": "SliderStyleModel",
          "model_module_version": "1.5.0",
          "state": {
            "_view_name": "StyleView",
            "handle_color": null,
            "_model_name": "SliderStyleModel",
            "description_width": "",
            "_view_module": "@jupyter-widgets/base",
            "_model_module_version": "1.5.0",
            "_view_count": null,
            "_view_module_version": "1.2.0",
            "_model_module": "@jupyter-widgets/controls"
          }
        },
        "59c226fe6eea43d58c0220a604211096": {
          "model_module": "@jupyter-widgets/base",
          "model_name": "LayoutModel",
          "model_module_version": "1.2.0",
          "state": {
            "_view_name": "LayoutView",
            "grid_template_rows": null,
            "right": null,
            "justify_content": null,
            "_view_module": "@jupyter-widgets/base",
            "overflow": null,
            "_model_module_version": "1.2.0",
            "_view_count": null,
            "flex_flow": null,
            "width": null,
            "min_width": null,
            "border": null,
            "align_items": null,
            "bottom": null,
            "_model_module": "@jupyter-widgets/base",
            "top": null,
            "grid_column": null,
            "overflow_y": null,
            "overflow_x": null,
            "grid_auto_flow": null,
            "grid_area": null,
            "grid_template_columns": null,
            "flex": null,
            "_model_name": "LayoutModel",
            "justify_items": null,
            "grid_row": null,
            "max_height": null,
            "align_content": null,
            "visibility": null,
            "align_self": null,
            "height": null,
            "min_height": null,
            "padding": null,
            "grid_auto_rows": null,
            "grid_gap": null,
            "max_width": null,
            "order": null,
            "_view_module_version": "1.2.0",
            "grid_template_areas": null,
            "object_position": null,
            "object_fit": null,
            "grid_auto_columns": null,
            "margin": null,
            "display": null,
            "left": null
          }
        },
        "cfd477c9ff10497ba394c4b60640f71e": {
          "model_module": "@jupyter-widgets/base",
          "model_name": "LayoutModel",
          "model_module_version": "1.2.0",
          "state": {
            "_view_name": "LayoutView",
            "grid_template_rows": null,
            "right": null,
            "justify_content": null,
            "_view_module": "@jupyter-widgets/base",
            "overflow": null,
            "_model_module_version": "1.2.0",
            "_view_count": null,
            "flex_flow": null,
            "width": null,
            "min_width": null,
            "border": null,
            "align_items": null,
            "bottom": null,
            "_model_module": "@jupyter-widgets/base",
            "top": null,
            "grid_column": null,
            "overflow_y": null,
            "overflow_x": null,
            "grid_auto_flow": null,
            "grid_area": null,
            "grid_template_columns": null,
            "flex": null,
            "_model_name": "LayoutModel",
            "justify_items": null,
            "grid_row": null,
            "max_height": null,
            "align_content": null,
            "visibility": null,
            "align_self": null,
            "height": null,
            "min_height": null,
            "padding": null,
            "grid_auto_rows": null,
            "grid_gap": null,
            "max_width": null,
            "order": null,
            "_view_module_version": "1.2.0",
            "grid_template_areas": null,
            "object_position": null,
            "object_fit": null,
            "grid_auto_columns": null,
            "margin": null,
            "display": null,
            "left": null
          }
        }
      }
    }
  },
  "cells": [
    {
      "cell_type": "markdown",
      "metadata": {
        "cell_id": "00001-34c40f61-06ce-4418-bbce-e2ce90ce485d",
        "deepnote_cell_type": "markdown",
        "id": "QC4VVNb6F_yr"
      },
      "source": [
        "<div style=\"float: right;\" markdown=\"1\">\n",
        "    <img src=\"https://www.python.org/static/community_logos/python-logo-master-v3-TM.png\">\n",
        "</div>\n",
        "\n",
        "PYTHON\n",
        "==\n",
        "<a href=\"https://colab.research.google.com/github/restrepo/ComputationalMethods/blob/master/material/overview-python.ipynb\" target=\"_parent\"><img src=\"https://colab.research.google.com/assets/colab-badge.svg\" alt=\"Open In Colab\"/></a>\n",
        "\n",
        "Python is an interpreted programming language oriented to easy-readable coding, unlike compiled languages like C/C++ and Fortran, where the syntax usually does not favor the readability. This feature makes Python very interesting when we want to focus on something different than the program structure itself, e.g. on Computational Methods, thereby allowing to optimize our time, to debug syntax errors easily, etc.\n",
        "\n",
        "\n",
        "[Official page](https://www.python.org/)\n",
        "\n",
        "[Wikipedia](http://en.wikipedia.org/wiki/Python)\n",
        "\n",
        "Python Philosophy\n",
        "--\n",
        "1. Beautiful is better than ugly.\n",
        "2. Explicit is better than implicit.\n",
        "3. Simple is better than complex.\n",
        "4. Complex is better than complicated.\n",
        "5. Flat is better than nested.\n",
        "6. Sparse is better than dense.\n",
        "7. Readability counts.\n",
        "8. Special cases aren't special enough to break the rules. (Although practicality beats purity)\n",
        "9. Errors should never pass silently. (Unless explicitly silenced)\n",
        "10. In the face of ambiguity, refuse the temptation to guess.\n",
        "11. There should be one-- and preferably only one --obvious way to do it. (Although that way may not be obvious at first unless you're Dutch)\n",
        "12. Now is better than never. (Although never is often better than right now)\n",
        "13. If the implementation is hard to explain, it's a bad idea.\n",
        "14. If the implementation is easy to explain, it may be a good idea.\n",
        "15. NameSpaces are one honking great idea -- let's do more of those!"
      ]
    },
    {
      "cell_type": "markdown",
      "metadata": {
        "cell_id": "00002-31d14584-489a-45c7-91b3-23805b9a7676",
        "deepnote_cell_type": "markdown",
        "id": "PsvrRJSXF_yt"
      },
      "source": [
        "- - - "
      ]
    },
    {
      "cell_type": "markdown",
      "metadata": {
        "cell_id": "00003-0e2a09eb-5786-4a95-8200-d83226d3ffb8",
        "deepnote_cell_type": "markdown",
        "id": "rnVM9axRF_yu"
      },
      "source": [
        "- [String, Integer, Float](#String,-Integer,-Float)\n",
        "- [Functions I](#Functions-I) \n",
        "- [Hello World!](#Hello-World!) \n",
        "- [Arithmetics](#Arithmetics)\n",
        "- [Lists, Tuples and Dictionaries](#Lists,-Tuples-and-Dictionaries)\n",
        "- [Bucles and Conditionals](#Bucles-and-Conditionals)\n",
        "- [Functions II](#Functions-II)\n",
        "\n",
        "## Biblography\n",
        "[1f] Ani Adhikari and John DeNero, [Computational and Inferential Thinking](https://www.inferentialthinking.com/chapters/intro.html)<br/>"
      ]
    },
    {
      "cell_type": "markdown",
      "metadata": {
        "cell_id": "00004-81e7146e-c6ee-4365-bf24-e91f88b7ecf8",
        "deepnote_cell_type": "markdown",
        "id": "ru2dYuqiF_yu"
      },
      "source": [
        "- - - "
      ]
    },
    {
      "cell_type": "markdown",
      "metadata": {
        "cell_id": "00005-13c84412-9812-4fbe-91e9-226f0e561b93",
        "deepnote_cell_type": "markdown",
        "id": "hbVuNve0Lp_-"
      },
      "source": [
        "# String, Integer, Float\n",
        "The basic types of variables in Python are:\n"
      ]
    },
    {
      "cell_type": "markdown",
      "metadata": {
        "cell_id": "00006-65a6724f-f322-49ed-9e09-6bcbf9457264",
        "deepnote_cell_type": "markdown",
        "id": "oO8rcC_aMYXO"
      },
      "source": [
        "`str`:"
      ]
    },
    {
      "cell_type": "markdown",
      "metadata": {
        "cell_id": "00007-e253803b-ed4b-4907-9356-4a83b0039b30",
        "deepnote_cell_type": "markdown",
        "id": "POJ9rA7A40WK",
        "tags": [
          "popout"
        ]
      },
      "source": [
        "Illustrated with the `hello world` standard"
      ]
    },
    {
      "cell_type": "code",
      "metadata": {
        "cell_id": "00008-91be0a32-abda-4520-a914-714ff10afa93",
        "deepnote_cell_type": "code",
        "id": "5_KEVfViMOZC"
      },
      "source": [
        "#Strings\n",
        "hello='hola'"
      ],
      "execution_count": 1,
      "outputs": []
    },
    {
      "cell_type": "markdown",
      "metadata": {
        "cell_id": "00009-969a988b-eb14-46a7-816d-4e848b57ed69",
        "deepnote_cell_type": "markdown",
        "id": "n6ff3fKrMdHF"
      },
      "source": [
        "`int`"
      ]
    },
    {
      "cell_type": "code",
      "metadata": {
        "cell_id": "00010-c92b506d-2fe8-417d-bb15-d35301b5e4b3",
        "deepnote_cell_type": "code",
        "id": "Bm-RxdlxMVGU"
      },
      "source": [
        "#Integer\n",
        "n=3"
      ],
      "execution_count": 2,
      "outputs": []
    },
    {
      "cell_type": "markdown",
      "metadata": {
        "cell_id": "00011-2853f608-5fe9-4ee1-81b5-22c17a614390",
        "deepnote_cell_type": "markdown",
        "id": "P6JSYRm_Mh41"
      },
      "source": [
        "`float`"
      ]
    },
    {
      "cell_type": "code",
      "metadata": {
        "cell_id": "00012-bb0745de-12de-47dc-9a3b-3019d0034d3f",
        "deepnote_cell_type": "code",
        "id": "XJF1vwxJMlyl"
      },
      "source": [
        "x=3.5"
      ],
      "execution_count": 3,
      "outputs": []
    },
    {
      "cell_type": "markdown",
      "metadata": {
        "cell_id": "00013-41c6f7d2-9e69-4116-9779-197608446a46",
        "deepnote_cell_type": "markdown",
        "id": "wTzMkndjJFZp"
      },
      "source": [
        "# Functions I\n",
        "Python includes a battery of predefined functions which takes an input and generates an output. For example, to check the type of variable we can used the\n",
        "predefined function\n",
        "## `isinistance`:"
      ]
    },
    {
      "cell_type": "code",
      "metadata": {
        "cell_id": "00014-d3d484c8-fe92-4249-823b-33b8cfb50f67",
        "colab": {
          "base_uri": "https://localhost:8080/",
          "height": 35
        },
        "deepnote_cell_type": "code",
        "id": "4K96FCuENYCd",
        "outputId": "2da1940e-179b-4722-c6a2-cdd8e210686c"
      },
      "source": [
        "isinstance(hello,str)"
      ],
      "execution_count": null,
      "outputs": [
        {
          "data": {
            "text/plain": [
              "True"
            ]
          },
          "execution_count": 5,
          "metadata": {},
          "output_type": "execute_result"
        }
      ]
    },
    {
      "cell_type": "markdown",
      "metadata": {
        "cell_id": "00015-51d87b6c-cae5-4fe5-adac-13c50bea1679",
        "deepnote_cell_type": "markdown",
        "id": "YeFccBUZNggD"
      },
      "source": [
        "**Activity**: In the next cell check if `n`  is a `float` type of variable"
      ]
    },
    {
      "cell_type": "code",
      "metadata": {
        "cell_id": "00016-72e793a7-fa96-46d6-b80d-6cb00842b564",
        "deepnote_cell_type": "code",
        "id": "x3mFZU1aNu-U",
        "colab": {
          "base_uri": "https://localhost:8080/"
        },
        "outputId": "0dc6f44b-c21a-4a51-e0e3-5fa3186e7c39"
      },
      "source": [
        "isinstance(n,float)"
      ],
      "execution_count": 4,
      "outputs": [
        {
          "output_type": "execute_result",
          "data": {
            "text/plain": [
              "False"
            ]
          },
          "metadata": {},
          "execution_count": 4
        }
      ]
    },
    {
      "cell_type": "markdown",
      "metadata": {
        "cell_id": "00017-787585d6-0d9d-4993-9a1e-77f716393cc8",
        "deepnote_cell_type": "markdown",
        "id": "RQJLzZTxNxGb"
      },
      "source": [
        "## `print`"
      ]
    },
    {
      "cell_type": "markdown",
      "metadata": {
        "cell_id": "00018-12f271e5-3695-44c1-8ddb-3dcf95f8c75d",
        "deepnote_cell_type": "markdown",
        "id": "N7GTR9AiM5Xm"
      },
      "source": [
        "See: https://pyformat.info/\n",
        "\n",
        "To write the _Hello world_ program in python we must first introduce the concept of function. It is the same in mathematics, were something called function receives a number and return back another number. For example, the function to square a number is\n",
        "\\begin{equation}\n",
        "f(x)=x^2\\,,\n",
        "\\end{equation}\n",
        "$x$ is called the argument of the function $f$, and the _returned_ value is the evaluation of $f(x)$.\n",
        "\n",
        "In `Python` there are a lot of such a functions.\n",
        "In particular there is a function called `print` which takes strings (see below) as input and return the same string as output. In this way, the __hello world__ program in Python is one of the most simple between all the programming languages:"
      ]
    },
    {
      "cell_type": "markdown",
      "metadata": {
        "cell_id": "00019-517c05f6-21d9-426a-a296-d9dde08cab22",
        "deepnote_cell_type": "markdown",
        "id": "PJOXAlbAF_yv"
      },
      "source": [
        "# Hello World!"
      ]
    },
    {
      "cell_type": "code",
      "metadata": {
        "cell_id": "00020-16a2021c-4785-4ccb-863f-7df6efc8aeae",
        "colab": {
          "base_uri": "https://localhost:8080/"
        },
        "deepnote_cell_type": "code",
        "id": "Cmd-Wx7oF_yw",
        "outputId": "f0f454b9-6a54-40ba-d2cf-f63a432d791b"
      },
      "source": [
        "print('Hello World!')"
      ],
      "execution_count": 8,
      "outputs": [
        {
          "output_type": "stream",
          "name": "stdout",
          "text": [
            "Hello World!\n"
          ]
        }
      ]
    },
    {
      "cell_type": "markdown",
      "metadata": {
        "cell_id": "00021-28b16aec-3e64-4af4-84d5-78267d544c8c",
        "deepnote_cell_type": "markdown",
        "id": "_WerUXfIF_y0"
      },
      "source": [
        "And also allows scripting: *(This code should be copied on a file 'hello.py')*"
      ]
    },
    {
      "cell_type": "code",
      "metadata": {
        "cell_id": "00022-a1283afa-00ff-4c65-9fad-59500a590fd6",
        "colab": {
          "base_uri": "https://localhost:8080/"
        },
        "deepnote_cell_type": "code",
        "id": "WTvsRsI_F_y1",
        "outputId": "ffee4182-ebd2-4948-bb97-bbf1f0a88e27"
      },
      "source": [
        "#! /usr/bin/python\n",
        "\n",
        "#This is a comment\n",
        "print('Hello World!')"
      ],
      "execution_count": 9,
      "outputs": [
        {
          "output_type": "stream",
          "name": "stdout",
          "text": [
            "Hello World!\n"
          ]
        }
      ]
    },
    {
      "cell_type": "markdown",
      "metadata": {
        "cell_id": "00023-13a8d280-1ab3-4b2d-b467-abcbaafbc948",
        "deepnote_cell_type": "markdown",
        "id": "cvkfIERrN6GT"
      },
      "source": [
        "The recommended way to print a variable in Python is to use the `.format` _method_ of the function `print` by preceding the sring with the letter `f`. Inside the string any variable between curly brackets, `{variable}`, can be used"
      ]
    },
    {
      "cell_type": "code",
      "metadata": {
        "cell_id": "00024-811d5082-ffdd-42f4-92fd-53ae42eb27da",
        "colab": {
          "base_uri": "https://localhost:8080/"
        },
        "deepnote_cell_type": "code",
        "deepnote_to_be_reexecuted": false,
        "execution_millis": 10,
        "execution_start": 1626453090430,
        "id": "4iiFnX3GOSix",
        "source_hash": "3e036be2",
        "outputId": "3f16b07e-3d2c-4693-8ef7-f8627489be4b"
      },
      "source": [
        "hello='Hello World!'\n",
        "print(f'{hello}')"
      ],
      "execution_count": 10,
      "outputs": [
        {
          "output_type": "stream",
          "name": "stdout",
          "text": [
            "Hello World!\n"
          ]
        }
      ]
    },
    {
      "cell_type": "markdown",
      "metadata": {
        "cell_id": "00025-1bac035d-fc1f-4347-a35b-7ed20fd9e7da",
        "deepnote_cell_type": "markdown",
        "id": "mAOFOHQtOlYD"
      },
      "source": [
        "__Activity__: Change the values of the previous string variables to print `Hello World!` in Spanish "
      ]
    },
    {
      "cell_type": "code",
      "metadata": {
        "cell_id": "00026-4805810c-5c15-4710-8026-bae638fb8f8c",
        "deepnote_cell_type": "markdown",
        "id": "lckGJ4UsPBSR",
        "colab": {
          "base_uri": "https://localhost:8080/"
        },
        "outputId": "fda0fd38-f8a6-4bac-d60e-3bc8c57284fa"
      },
      "source": [
        "hello= 'Hola Mundo!'\n",
        "print(f'{hello}')"
      ],
      "execution_count": 32,
      "outputs": [
        {
          "output_type": "stream",
          "name": "stdout",
          "text": [
            "Hola Mundo!\n"
          ]
        }
      ]
    },
    {
      "cell_type": "markdown",
      "metadata": {
        "cell_id": "00027-592d06b0-4e0f-433a-bdeb-a29ddc6ac39d",
        "deepnote_cell_type": "markdown",
        "id": "KJTsJ2exKcSQ"
      },
      "source": [
        "In `Python` it is possible also to create new [functions](https://en.wikibooks.org/wiki/Python_Programming/Functions). We illustrate the format to define a function in `Python` with the implementation of the function $f(x)=x^2$, where to write an exponent: ${}^2$, in Python we must use the format: `**2`."
      ]
    },
    {
      "cell_type": "markdown",
      "metadata": {
        "cell_id": "00028-7b74f015-b720-4b86-b279-41314b94db49",
        "deepnote_cell_type": "markdown",
        "id": "InUXOsa8EbLx"
      },
      "source": [
        "## Implicit functions"
      ]
    },
    {
      "cell_type": "code",
      "metadata": {
        "cell_id": "00029-d7d95097-f42c-415b-a1bd-9c7704717b9d",
        "deepnote_cell_type": "code",
        "id": "SLI_RmTIKr_2"
      },
      "source": [
        "f=lambda x:x**2"
      ],
      "execution_count": 33,
      "outputs": []
    },
    {
      "cell_type": "code",
      "metadata": {
        "cell_id": "00030-26b39a17-b613-4fc8-94f0-5e6c89e2f50d",
        "deepnote_cell_type": "code",
        "id": "CEtQvvZfEbLy",
        "colab": {
          "base_uri": "https://localhost:8080/"
        },
        "outputId": "9e53a985-665f-41c4-8f2f-cdc5087b16ff"
      },
      "source": [
        "isinstance(f,str)"
      ],
      "execution_count": 34,
      "outputs": [
        {
          "output_type": "execute_result",
          "data": {
            "text/plain": [
              "False"
            ]
          },
          "metadata": {},
          "execution_count": 34
        }
      ]
    },
    {
      "cell_type": "code",
      "metadata": {
        "cell_id": "00031-79297844-077e-4635-8e17-58b38e1e0ce2",
        "deepnote_cell_type": "code",
        "id": "tuDoYY2gEbLy",
        "colab": {
          "base_uri": "https://localhost:8080/"
        },
        "outputId": "51b9f764-b50b-4aa1-9a68-ca8e672c9a33"
      },
      "source": [
        "type(f)"
      ],
      "execution_count": 35,
      "outputs": [
        {
          "output_type": "execute_result",
          "data": {
            "text/plain": [
              "function"
            ]
          },
          "metadata": {},
          "execution_count": 35
        }
      ]
    },
    {
      "cell_type": "code",
      "metadata": {
        "cell_id": "00032-98229684-c9cb-4db0-8998-ca3a47b7de9d",
        "colab": {
          "base_uri": "https://localhost:8080/"
        },
        "deepnote_cell_type": "code",
        "id": "kSBRdi67dfD1",
        "outputId": "23bf2d3d-3574-4ded-8557-a6cb475266d6"
      },
      "source": [
        "f(3)"
      ],
      "execution_count": 36,
      "outputs": [
        {
          "output_type": "execute_result",
          "data": {
            "text/plain": [
              "9"
            ]
          },
          "metadata": {},
          "execution_count": 36
        }
      ]
    },
    {
      "cell_type": "markdown",
      "metadata": {
        "cell_id": "00033-61dd30ec-2a6d-4012-b387-d080d1fd8989",
        "deepnote_cell_type": "markdown",
        "id": "R3j70bwqF_1Y"
      },
      "source": [
        "## Explicit functions"
      ]
    },
    {
      "cell_type": "markdown",
      "metadata": {
        "cell_id": "00034-fb1ab9ee-21c4-4421-8b9b-5c48a4c8b7e2",
        "deepnote_cell_type": "markdown",
        "id": "I1Ikhe8CEbL1"
      },
      "source": [
        "The standard function build may include the help for the function"
      ]
    },
    {
      "cell_type": "code",
      "metadata": {
        "cell_id": "00035-e180aab0-ab38-489f-ba08-34be6332faa2",
        "deepnote_cell_type": "code",
        "id": "fF2yw1ibEbL2"
      },
      "source": [
        "def f(x):\n",
        "    '''\n",
        "    Calculates the square of `x`\n",
        "    '''\n",
        "    return x**2"
      ],
      "execution_count": 37,
      "outputs": []
    },
    {
      "cell_type": "markdown",
      "metadata": {
        "cell_id": "00036-c65adff0-6b70-4d2c-a011-8fca30c55934",
        "deepnote_cell_type": "markdown",
        "id": "bmFa7oXOEbL2"
      },
      "source": [
        "f(5)"
      ]
    },
    {
      "cell_type": "code",
      "metadata": {
        "cell_id": "00037-38b7a17c-cd1d-48fe-b1ea-5a5072610698",
        "deepnote_cell_type": "code",
        "id": "jsIPqyGkEbL3",
        "colab": {
          "base_uri": "https://localhost:8080/"
        },
        "outputId": "675bfe22-8ee4-458e-a1a4-6e67c5e94619"
      },
      "source": [
        "help(f)"
      ],
      "execution_count": 38,
      "outputs": [
        {
          "output_type": "stream",
          "name": "stdout",
          "text": [
            "Help on function f in module __main__:\n",
            "\n",
            "f(x)\n",
            "    Calculates the square of `x`\n",
            "\n"
          ]
        }
      ]
    },
    {
      "cell_type": "markdown",
      "metadata": {
        "cell_id": "00038-462d3558-b374-4618-bd59-a80b2d0b111c",
        "deepnote_cell_type": "markdown",
        "id": "DJwBYqi440XD"
      },
      "source": [
        "The full list of built-in functions is in https://docs.python.org/3/library/functions.html and the specific help for a function, for example `print` can be checked with https://docs.python.org/3/library/functions.html#print"
      ]
    },
    {
      "cell_type": "code",
      "metadata": {
        "cell_id": "00039-22606d64-26bf-44cb-8348-1d4b575937b5",
        "colab": {
          "base_uri": "https://localhost:8080/"
        },
        "deepnote_cell_type": "code",
        "id": "z3IAaPwJF_1Z",
        "outputId": "06dd83ba-8d27-4fdc-bb05-dff973f894d7"
      },
      "source": [
        "def f(x,y):\n",
        "    '''\n",
        "    Multiply two numbers\n",
        "    '''\n",
        "    return x*y\n",
        "f(3,2)"
      ],
      "execution_count": 39,
      "outputs": [
        {
          "output_type": "execute_result",
          "data": {
            "text/plain": [
              "6"
            ]
          },
          "metadata": {},
          "execution_count": 39
        }
      ]
    },
    {
      "cell_type": "code",
      "metadata": {
        "cell_id": "00040-961f1860-4b88-4d6f-9e2c-dfadf8d90088",
        "colab": {
          "base_uri": "https://localhost:8080/"
        },
        "deepnote_cell_type": "code",
        "id": "hMkLVbRRF_1a",
        "outputId": "72f52d33-b2d3-43bb-82b5-322407d6ac36"
      },
      "source": [
        "#It is possible to assign default arguments\n",
        "def f(x,y=2):\n",
        "    '''\n",
        "    Multiply two numbers. By default the second is 2\n",
        "    '''    \n",
        "    return x*y\n",
        "#When evaluating, we can omit the default argument\n",
        "f(3)"
      ],
      "execution_count": 40,
      "outputs": [
        {
          "output_type": "execute_result",
          "data": {
            "text/plain": [
              "6"
            ]
          },
          "metadata": {},
          "execution_count": 40
        }
      ]
    },
    {
      "cell_type": "code",
      "metadata": {
        "cell_id": "00041-1fd18671-3f9e-4952-9858-17084a1d1a7e",
        "colab": {
          "base_uri": "https://localhost:8080/"
        },
        "deepnote_cell_type": "code",
        "id": "Ee_8WkNdnnaj",
        "outputId": "3ceaca7e-e6a8-4fe5-990c-51c6b8eff0e2"
      },
      "source": [
        "f(2,3)"
      ],
      "execution_count": 41,
      "outputs": [
        {
          "output_type": "execute_result",
          "data": {
            "text/plain": [
              "6"
            ]
          },
          "metadata": {},
          "execution_count": 41
        }
      ]
    },
    {
      "cell_type": "code",
      "metadata": {
        "cell_id": "00042-61782059-8e73-432a-8637-7ac4f91820d2",
        "colab": {
          "base_uri": "https://localhost:8080/"
        },
        "deepnote_cell_type": "code",
        "id": "uCLluCGVnqWj",
        "outputId": "f35e8800-5281-42a8-c3bd-d4e288d295d3"
      },
      "source": [
        "f(2,y=5)"
      ],
      "execution_count": 42,
      "outputs": [
        {
          "output_type": "execute_result",
          "data": {
            "text/plain": [
              "10"
            ]
          },
          "metadata": {},
          "execution_count": 42
        }
      ]
    },
    {
      "cell_type": "code",
      "metadata": {
        "cell_id": "00043-0d8d6730-9581-4ed8-b5b9-ee99fe9e7713",
        "colab": {
          "base_uri": "https://localhost:8080/"
        },
        "deepnote_cell_type": "code",
        "id": "Eh6jou-TF_1c",
        "outputId": "b16c8010-b425-46f3-cd1c-7ab82cdf18a3"
      },
      "source": [
        "#It is possible to specify explicitly the order of the arguments\n",
        "def f(x,y):\n",
        "    '''\n",
        "    evaluates x to the power y\n",
        "    '''    \n",
        "    return x**y\n",
        "print( 'f(1,2)=',f(1,2) )\n",
        "print( 'f(2,1)=',f(y=1,x=2) )"
      ],
      "execution_count": 43,
      "outputs": [
        {
          "output_type": "stream",
          "name": "stdout",
          "text": [
            "f(1,2)= 1\n",
            "f(2,1)= 2\n"
          ]
        }
      ]
    },
    {
      "cell_type": "markdown",
      "metadata": {
        "cell_id": "00044-b18eb58e-48c1-4974-834a-5360ab115abc",
        "deepnote_cell_type": "markdown",
        "id": "PYyDcKZ5F_1e"
      },
      "source": [
        "## Implicit functions of several arguments"
      ]
    },
    {
      "cell_type": "markdown",
      "metadata": {
        "cell_id": "00045-b10fb053-57c3-4fba-be8d-f163bf0cf2a9",
        "deepnote_cell_type": "markdown",
        "id": "-suvy_mEF_1e"
      },
      "source": [
        "Implicit functions are usdeful when we want to use a function once."
      ]
    },
    {
      "cell_type": "code",
      "metadata": {
        "cell_id": "00046-76cd6d35-3e2b-47a0-9edb-5f9a8dc2cb2e",
        "colab": {
          "base_uri": "https://localhost:8080/"
        },
        "deepnote_cell_type": "code",
        "id": "FMTOmWFYF_1f",
        "outputId": "5a33c40c-61f0-4ba8-c5b9-08cb92a5e8ee"
      },
      "source": [
        "f = lambda x,y: x**y\n",
        "f(3,2)"
      ],
      "execution_count": 44,
      "outputs": [
        {
          "output_type": "execute_result",
          "data": {
            "text/plain": [
              "9"
            ]
          },
          "metadata": {},
          "execution_count": 44
        }
      ]
    },
    {
      "cell_type": "markdown",
      "metadata": {
        "id": "K9Xw63OcEbL6"
      },
      "source": [
        "## Nested functions"
      ]
    },
    {
      "cell_type": "code",
      "metadata": {
        "cell_id": "00047-126140fa-fc08-4d74-874a-d90d37dd86da",
        "colab": {
          "base_uri": "https://localhost:8080/"
        },
        "deepnote_cell_type": "code",
        "id": "mWGO2OHrF_1g",
        "outputId": "41b02ad8-6f20-4e05-cd3d-0d1a9f478811"
      },
      "source": [
        "#It is possible to pass functions as arguments of other function\n",
        "def f2( f, x ):\n",
        "    return f(x)**2\n",
        "\n",
        "#We can define a new function explicitly\n",
        "def f(x):\n",
        "    return x+2\n",
        "\n",
        "print(f(2))\n",
        "print(f2(f,2))\n",
        "\n",
        "\n",
        "#Or define the function implicitly\n",
        "print (\"Implicit: f(2)^2 =\", f2(lambda x:x+2,2) )"
      ],
      "execution_count": 24,
      "outputs": [
        {
          "output_type": "stream",
          "name": "stdout",
          "text": [
            "4\n",
            "16\n",
            "Implicit: f(2)^2 = 16\n"
          ]
        }
      ]
    },
    {
      "cell_type": "markdown",
      "metadata": {
        "id": "PUnoiosLEbL6"
      },
      "source": [
        "## Inner functions with returned internal function"
      ]
    },
    {
      "cell_type": "code",
      "metadata": {
        "cell_id": "00048-66af3fe0-dd06-4063-aece-2a26de1531db",
        "deepnote_cell_type": "code",
        "id": "xq9QLNHiEbL6"
      },
      "source": [
        "def hola(func):\n",
        "    def function_wrapper(x):\n",
        "        res = 'hola mundo '+str(func(x))\n",
        "        return res\n",
        "    return function_wrapper\n",
        "\n",
        "def mundo(n):\n",
        "    return n+' y despiadado'"
      ],
      "execution_count": 25,
      "outputs": []
    },
    {
      "cell_type": "code",
      "metadata": {
        "id": "j1GyPr9_EbL7",
        "colab": {
          "base_uri": "https://localhost:8080/",
          "height": 35
        },
        "outputId": "089ed6af-5be2-4f43-c9f5-1619ca6fd924"
      },
      "source": [
        "foo=hola(mundo)\n",
        "foo('cruel')"
      ],
      "execution_count": 26,
      "outputs": [
        {
          "output_type": "execute_result",
          "data": {
            "application/vnd.google.colaboratory.intrinsic+json": {
              "type": "string"
            },
            "text/plain": [
              "'hola mundo cruel y despiadado'"
            ]
          },
          "metadata": {},
          "execution_count": 26
        }
      ]
    },
    {
      "cell_type": "markdown",
      "metadata": {
        "id": "NIhN1KGEEbL7"
      },
      "source": [
        "or just"
      ]
    },
    {
      "cell_type": "code",
      "metadata": {
        "id": "p-nDcuQhEbL7",
        "colab": {
          "base_uri": "https://localhost:8080/",
          "height": 35
        },
        "outputId": "929ebce9-bfa3-427b-fc76-96bf043ee1b7"
      },
      "source": [
        "hola(mundo)('cruel')"
      ],
      "execution_count": 27,
      "outputs": [
        {
          "output_type": "execute_result",
          "data": {
            "application/vnd.google.colaboratory.intrinsic+json": {
              "type": "string"
            },
            "text/plain": [
              "'hola mundo cruel y despiadado'"
            ]
          },
          "metadata": {},
          "execution_count": 27
        }
      ]
    },
    {
      "cell_type": "markdown",
      "metadata": {
        "id": "y4s8oc-6EbL7"
      },
      "source": [
        "## Decorators\n",
        "From: [[@]](https://realpython.com/primer-on-python-decorators/) https://realpython.com/primer-on-python-decorators/\n",
        "> By definition, a decorator is a function that takes another function and extends the behavior of the latter function without explicitly modifying it.\n",
        "\n",
        "See also: https://www.python-course.eu/python3_decorators.php.\n",
        "\n",
        "The previos function `hola` can be used as a decorator, in a such way that it is not necesary to call it directly but only to call its argument"
      ]
    },
    {
      "cell_type": "code",
      "metadata": {
        "id": "hh1RH04zEbL7"
      },
      "source": [
        "@hola\n",
        "def mundano(n):\n",
        "    return n+' y despiadado'\n",
        "\n",
        "@hola\n",
        "def mundito(n):\n",
        "    return n+' y floreciente'"
      ],
      "execution_count": 45,
      "outputs": []
    },
    {
      "cell_type": "markdown",
      "metadata": {
        "id": "esKdP4WQEbL8"
      },
      "source": [
        "Instead `of hola(mundano)('cruel')` we can just use directly the new decorated function:"
      ]
    },
    {
      "cell_type": "code",
      "metadata": {
        "id": "uMlkk-7HEbL8",
        "colab": {
          "base_uri": "https://localhost:8080/",
          "height": 35
        },
        "outputId": "1bb15eca-2e7b-4574-bb1a-d91b51a4df02"
      },
      "source": [
        "mundano('cruel')"
      ],
      "execution_count": 46,
      "outputs": [
        {
          "output_type": "execute_result",
          "data": {
            "application/vnd.google.colaboratory.intrinsic+json": {
              "type": "string"
            },
            "text/plain": [
              "'hola mundo cruel y despiadado'"
            ]
          },
          "metadata": {},
          "execution_count": 46
        }
      ]
    },
    {
      "cell_type": "code",
      "metadata": {
        "id": "MngFAKssEbL8",
        "colab": {
          "base_uri": "https://localhost:8080/",
          "height": 35
        },
        "outputId": "3c89c3fc-ef16-4d20-fee1-e8c90f18de71"
      },
      "source": [
        "mundito('brillante')"
      ],
      "execution_count": 47,
      "outputs": [
        {
          "output_type": "execute_result",
          "data": {
            "application/vnd.google.colaboratory.intrinsic+json": {
              "type": "string"
            },
            "text/plain": [
              "'hola mundo brillante y floreciente'"
            ]
          },
          "metadata": {},
          "execution_count": 47
        }
      ]
    },
    {
      "cell_type": "markdown",
      "metadata": {
        "id": "hbFdjunWEbL9"
      },
      "source": [
        "[[@]](https://realpython.com/primer-on-python-decorators/):\n",
        "> Put simply: __decorators wrap a function, modifying its behavior.__"
      ]
    },
    {
      "cell_type": "markdown",
      "metadata": {
        "cell_id": "00049-e128fdf5-6d40-4e6d-a8a2-25bd944de81c",
        "deepnote_cell_type": "markdown",
        "id": "tmc45kxUF_y4"
      },
      "source": [
        "# Arithmetics"
      ]
    },
    {
      "cell_type": "markdown",
      "metadata": {
        "cell_id": "00050-56a76643-a756-4bd2-946f-8dbd126ebf74",
        "deepnote_cell_type": "markdown",
        "id": "ozwFot0rF_y4"
      },
      "source": [
        "## Sum"
      ]
    },
    {
      "cell_type": "code",
      "metadata": {
        "cell_id": "00051-74b45186-581d-46f3-be38-38b781b27e99",
        "colab": {
          "base_uri": "https://localhost:8080/"
        },
        "deepnote_cell_type": "code",
        "id": "URMyrhmqF_y5",
        "outputId": "6bdf0f0e-29fe-41fa-94e1-7bb2b1e48d70"
      },
      "source": [
        "5.89+4.89"
      ],
      "execution_count": 48,
      "outputs": [
        {
          "output_type": "execute_result",
          "data": {
            "text/plain": [
              "10.78"
            ]
          },
          "metadata": {},
          "execution_count": 48
        }
      ]
    },
    {
      "cell_type": "markdown",
      "metadata": {
        "cell_id": "00052-7b94f9d9-d4e1-4a12-a5b9-14142d764d39",
        "deepnote_cell_type": "markdown",
        "id": "0DNu3gWKdwIy"
      },
      "source": [
        "**Activity**: Sum strings:\n",
        "Hint: use `+' '+`"
      ]
    },
    {
      "cell_type": "code",
      "metadata": {
        "cell_id": "00053-04becf08-bc65-42cb-b09f-5d7896e58c9a",
        "deepnote_cell_type": "code",
        "id": "68e7G-PRd86Q"
      },
      "source": [
        ""
      ],
      "execution_count": 48,
      "outputs": []
    },
    {
      "cell_type": "markdown",
      "metadata": {
        "cell_id": "00054-6e9b2fb1-ad02-44da-a1fc-78acf7f739ee",
        "deepnote_cell_type": "markdown",
        "id": "1dE0l0jyd9wJ"
      },
      "source": [
        "**Activity**: Sum integers"
      ]
    },
    {
      "cell_type": "code",
      "metadata": {
        "cell_id": "00055-358e4396-8a80-47d3-ac09-2f7596fd02ed",
        "deepnote_cell_type": "code",
        "id": "TAYYWZwveGfR",
        "colab": {
          "base_uri": "https://localhost:8080/"
        },
        "outputId": "f37bb81f-2eac-4593-a248-652c9aee860b"
      },
      "source": [
        "2+3"
      ],
      "execution_count": 49,
      "outputs": [
        {
          "output_type": "execute_result",
          "data": {
            "text/plain": [
              "5"
            ]
          },
          "metadata": {},
          "execution_count": 49
        }
      ]
    },
    {
      "cell_type": "markdown",
      "metadata": {
        "cell_id": "00056-229969a9-1a88-4bfa-94eb-0315f479314a",
        "deepnote_cell_type": "markdown",
        "id": "AK5CSon3PDnW"
      },
      "source": [
        "**Example**"
      ]
    },
    {
      "cell_type": "code",
      "metadata": {
        "cell_id": "00057-9868f3b3-c5f8-41b4-a512-2cb6379346f5",
        "colab": {
          "base_uri": "https://localhost:8080/"
        },
        "deepnote_cell_type": "code",
        "id": "WI8fn1qdeWvG",
        "outputId": "035c10a4-9db6-4b75-c322-293023a17bfb"
      },
      "source": [
        "print('hello'+' '+'world'+'!')"
      ],
      "execution_count": 53,
      "outputs": [
        {
          "output_type": "stream",
          "name": "stdout",
          "text": [
            "hello world!\n"
          ]
        }
      ]
    },
    {
      "cell_type": "markdown",
      "metadata": {
        "cell_id": "00058-51897368-a994-44cc-bbac-d59edcaf405d",
        "deepnote_cell_type": "markdown",
        "id": "-fCXEiSsF_y8"
      },
      "source": [
        "## Multiplication"
      ]
    },
    {
      "cell_type": "code",
      "metadata": {
        "cell_id": "00059-9fb7b1b4-9f96-40f2-b98b-70e101a3eb5c",
        "deepnote_cell_type": "code",
        "id": "vu7SzdLjF_y9",
        "colab": {
          "base_uri": "https://localhost:8080/"
        },
        "outputId": "1a854111-c566-494e-c54d-38be25c66694"
      },
      "source": [
        "120*4.5"
      ],
      "execution_count": 54,
      "outputs": [
        {
          "output_type": "execute_result",
          "data": {
            "text/plain": [
              "540.0"
            ]
          },
          "metadata": {},
          "execution_count": 54
        }
      ]
    },
    {
      "cell_type": "markdown",
      "metadata": {
        "cell_id": "00060-da533ec0-10e7-4d04-ba30-cf5e014fe793",
        "deepnote_cell_type": "markdown",
        "id": "wC3Jfp4tPR2a"
      },
      "source": [
        "**Example** String multiplied by integer:"
      ]
    },
    {
      "cell_type": "code",
      "metadata": {
        "cell_id": "00061-c262fd98-8a47-4c8a-85bd-583b5c2ffba5",
        "colab": {
          "base_uri": "https://localhost:8080/"
        },
        "deepnote_cell_type": "code",
        "id": "U6X_16Bpelup",
        "outputId": "0eb8190d-d25f-4d47-fca6-d17222bc3344"
      },
      "source": [
        "print('='*80)"
      ],
      "execution_count": 55,
      "outputs": [
        {
          "output_type": "stream",
          "name": "stdout",
          "text": [
            "================================================================================\n"
          ]
        }
      ]
    },
    {
      "cell_type": "markdown",
      "metadata": {
        "cell_id": "00062-85e7cd59-82e0-4a8f-927e-8c4de20890bf",
        "deepnote_cell_type": "markdown",
        "id": "jtskAuqQF_zA"
      },
      "source": [
        "## **Division**"
      ]
    },
    {
      "cell_type": "code",
      "metadata": {
        "cell_id": "00063-eaf6081c-d23e-41a3-b7b0-9b9fc661fa2c",
        "colab": {
          "base_uri": "https://localhost:8080/"
        },
        "deepnote_cell_type": "code",
        "id": "QsCpsAd8F_zA",
        "outputId": "392da47b-53ba-4ff7-9d2e-6976de7963ff"
      },
      "source": [
        "#Python 3 does support complete division\n",
        "100/3"
      ],
      "execution_count": 56,
      "outputs": [
        {
          "output_type": "execute_result",
          "data": {
            "text/plain": [
              "33.333333333333336"
            ]
          },
          "metadata": {},
          "execution_count": 56
        }
      ]
    },
    {
      "cell_type": "code",
      "metadata": {
        "cell_id": "00064-04572ec2-eccf-49da-b738-3d5dfb1a641f",
        "deepnote_cell_type": "code",
        "id": "_4K2vuGqF_zD",
        "colab": {
          "base_uri": "https://localhost:8080/"
        },
        "outputId": "692d3c84-1ca2-4b7f-d6bd-3356bb5e2104"
      },
      "source": [
        "100/3."
      ],
      "execution_count": 57,
      "outputs": [
        {
          "output_type": "execute_result",
          "data": {
            "text/plain": [
              "33.333333333333336"
            ]
          },
          "metadata": {},
          "execution_count": 57
        }
      ]
    },
    {
      "cell_type": "markdown",
      "metadata": {
        "cell_id": "00065-b9748840-0fa4-4767-ae5f-9ae17ffd2ceb",
        "deepnote_cell_type": "markdown",
        "id": "F6k8vh2bEbL_"
      },
      "source": [
        "Force integer division"
      ]
    },
    {
      "cell_type": "code",
      "metadata": {
        "cell_id": "00066-418e827f-e17d-475a-ad48-8c1f159c63cf",
        "deepnote_cell_type": "code",
        "id": "LPUqGlzdEbL_",
        "colab": {
          "base_uri": "https://localhost:8080/"
        },
        "outputId": "7375462a-d11b-495d-97f6-7870a72da925"
      },
      "source": [
        "100//3"
      ],
      "execution_count": 58,
      "outputs": [
        {
          "output_type": "execute_result",
          "data": {
            "text/plain": [
              "33"
            ]
          },
          "metadata": {},
          "execution_count": 58
        }
      ]
    },
    {
      "cell_type": "markdown",
      "metadata": {
        "cell_id": "00067-a2553e7c-3180-49bd-ae9d-b91598376b9b",
        "deepnote_cell_type": "markdown",
        "id": "x7xHh9tjF_zJ"
      },
      "source": [
        "## **Module**"
      ]
    },
    {
      "cell_type": "code",
      "metadata": {
        "cell_id": "00068-739595f2-6f11-4c01-8325-7937294b615f",
        "deepnote_cell_type": "code",
        "id": "R4a7H6dmF_zJ",
        "colab": {
          "base_uri": "https://localhost:8080/"
        },
        "outputId": "a1bc1d58-5f75-4703-cc86-e1c7aa3fb452"
      },
      "source": [
        "10%2"
      ],
      "execution_count": 59,
      "outputs": [
        {
          "output_type": "execute_result",
          "data": {
            "text/plain": [
              "0"
            ]
          },
          "metadata": {},
          "execution_count": 59
        }
      ]
    },
    {
      "cell_type": "code",
      "metadata": {
        "cell_id": "00069-8542809a-a3a8-4011-976f-cba20d0c8d2c",
        "deepnote_cell_type": "code",
        "id": "Z9ST9W04F_zM",
        "colab": {
          "base_uri": "https://localhost:8080/"
        },
        "outputId": "b57b9618-f9a6-48c3-9813-fb330ff9eabc"
      },
      "source": [
        "20%3"
      ],
      "execution_count": 60,
      "outputs": [
        {
          "output_type": "execute_result",
          "data": {
            "text/plain": [
              "2"
            ]
          },
          "metadata": {},
          "execution_count": 60
        }
      ]
    },
    {
      "cell_type": "markdown",
      "metadata": {
        "cell_id": "00070-8ad8abec-b278-45e3-b3a4-aafc43b797cf",
        "deepnote_cell_type": "markdown",
        "id": "2iWjCW7tF_zF"
      },
      "source": [
        "## **Power**"
      ]
    },
    {
      "cell_type": "code",
      "metadata": {
        "cell_id": "00071-67f91ae1-5f80-47a8-9283-001b5c4ea750",
        "deepnote_cell_type": "code",
        "id": "ShgiDMOaF_zG",
        "colab": {
          "base_uri": "https://localhost:8080/"
        },
        "outputId": "cc014ceb-c6d3-4236-e2f2-33b915152904"
      },
      "source": [
        "2**6"
      ],
      "execution_count": 61,
      "outputs": [
        {
          "output_type": "execute_result",
          "data": {
            "text/plain": [
              "64"
            ]
          },
          "metadata": {},
          "execution_count": 61
        }
      ]
    },
    {
      "cell_type": "markdown",
      "metadata": {
        "cell_id": "00072-40ada915-f658-4795-8cdb-481dc6f2b7d7",
        "deepnote_cell_type": "markdown",
        "id": "8_EWbqIzF_zQ"
      },
      "source": [
        "## **Scientific notation**"
      ]
    },
    {
      "cell_type": "markdown",
      "metadata": {
        "cell_id": "00073-6fb987c1-e3be-48c1-aa88-8642ff00bf3c",
        "deepnote_cell_type": "markdown",
        "id": "-_LMrB9ZEbMB"
      },
      "source": [
        "$1\\times 10^3=10^3=1000$"
      ]
    },
    {
      "cell_type": "code",
      "metadata": {
        "cell_id": "00074-3150bb4a-fa4a-44b5-8950-948a88aed8a5",
        "deepnote_cell_type": "code",
        "id": "zV6IBduQEbMB",
        "colab": {
          "base_uri": "https://localhost:8080/"
        },
        "outputId": "9d92826d-cf9c-41e2-f9e9-ad5f2e91c244"
      },
      "source": [
        "1E3"
      ],
      "execution_count": 62,
      "outputs": [
        {
          "output_type": "execute_result",
          "data": {
            "text/plain": [
              "1000.0"
            ]
          },
          "metadata": {},
          "execution_count": 62
        }
      ]
    },
    {
      "cell_type": "markdown",
      "metadata": {
        "cell_id": "00075-004b6451-067c-4c99-8a72-c0dcd2f58abe",
        "deepnote_cell_type": "markdown",
        "id": "_Q5ysNl2EbMB"
      },
      "source": [
        "$2\\times 10^3=2000$"
      ]
    },
    {
      "cell_type": "code",
      "metadata": {
        "cell_id": "00076-fcd6409c-7f6f-401c-8956-e8c1d42b9344",
        "deepnote_cell_type": "code",
        "id": "QpmxIH7AEbMB",
        "colab": {
          "base_uri": "https://localhost:8080/"
        },
        "outputId": "08c654dc-005a-4d2c-941e-e817b3be0048"
      },
      "source": [
        "2E3"
      ],
      "execution_count": 63,
      "outputs": [
        {
          "output_type": "execute_result",
          "data": {
            "text/plain": [
              "2000.0"
            ]
          },
          "metadata": {},
          "execution_count": 63
        }
      ]
    },
    {
      "cell_type": "markdown",
      "metadata": {
        "cell_id": "00077-75a926f3-b216-4e39-9895-8b62d2e07a49",
        "deepnote_cell_type": "markdown",
        "id": "zWCLz5D6EbMB"
      },
      "source": [
        "$$\\frac{ \\dfrac{10^{24}}{3}+2.9\\times 10^{23}}{10^2}$$"
      ]
    },
    {
      "cell_type": "code",
      "metadata": {
        "cell_id": "00078-3b709032-f2e1-4d3d-b08e-2458850c2ab2",
        "deepnote_cell_type": "code",
        "id": "1rf2SYTRF_zR",
        "colab": {
          "base_uri": "https://localhost:8080/"
        },
        "outputId": "b1ec6a6f-5002-461f-8ddb-249216734124"
      },
      "source": [
        "(1.0e24/3. + 2.9e23)/1e-2"
      ],
      "execution_count": 64,
      "outputs": [
        {
          "output_type": "execute_result",
          "data": {
            "text/plain": [
              "6.233333333333333e+25"
            ]
          },
          "metadata": {},
          "execution_count": 64
        }
      ]
    },
    {
      "cell_type": "code",
      "metadata": {
        "cell_id": "00079-829fc58e-d927-4e10-9ffe-acca3f536cbc",
        "deepnote_cell_type": "code",
        "deepnote_to_be_reexecuted": false,
        "execution_millis": 4,
        "execution_start": 1626454198013,
        "id": "K0H39NBm40Xz",
        "source_hash": "1abb969e"
      },
      "source": [
        "sin=0.3"
      ],
      "execution_count": 65,
      "outputs": []
    },
    {
      "cell_type": "code",
      "metadata": {
        "cell_id": "00080-29f9ddf2-f106-4b9e-af07-9a32efcbb972",
        "deepnote_cell_type": "code",
        "deepnote_to_be_reexecuted": false,
        "execution_millis": 15,
        "execution_start": 1626454198619,
        "source_hash": "662fdaec",
        "tags": [],
        "id": "l1OxS8WmEbMC",
        "colab": {
          "base_uri": "https://localhost:8080/"
        },
        "outputId": "fcc9bbdc-02eb-40dd-f307-1464e2cd2e6a"
      },
      "source": [
        "isinstance(sin,float)"
      ],
      "execution_count": 66,
      "outputs": [
        {
          "output_type": "execute_result",
          "data": {
            "text/plain": [
              "True"
            ]
          },
          "metadata": {},
          "execution_count": 66
        }
      ]
    },
    {
      "cell_type": "code",
      "metadata": {
        "cell_id": "00080-cc0e2648-3bac-448d-befc-5f0a4e900a88",
        "deepnote_cell_type": "code",
        "deepnote_to_be_reexecuted": false,
        "execution_millis": 1,
        "execution_start": 1626454747098,
        "id": "vWOkR85240X2",
        "source_hash": "b00e867f"
      },
      "source": [
        "from math import *"
      ],
      "execution_count": 67,
      "outputs": []
    },
    {
      "cell_type": "markdown",
      "metadata": {
        "cell_id": "00082-99e102f2-5b26-479a-8cfc-0c7346f024b5",
        "deepnote_cell_type": "markdown",
        "id": "R7w8hun2EbMC"
      },
      "source": [
        "Keep the name space"
      ]
    },
    {
      "cell_type": "markdown",
      "metadata": {
        "cell_id": "00083-70b46540-3ac9-4cf3-8270-e51d30c34423",
        "deepnote_cell_type": "markdown",
        "id": "fM4aR06nEbMC"
      },
      "source": [
        "Use `name.last_name`"
      ]
    },
    {
      "cell_type": "code",
      "metadata": {
        "cell_id": "00084-39000ce2-90d5-4536-969e-cb0a66d97e85",
        "deepnote_cell_type": "code",
        "deepnote_to_be_reexecuted": false,
        "execution_millis": 13,
        "execution_start": 1626454762697,
        "source_hash": "662fdaec",
        "id": "wGomNMBGEbMC",
        "colab": {
          "base_uri": "https://localhost:8080/"
        },
        "outputId": "adf9c49e-6a8a-4346-96b3-59e5b2611f52"
      },
      "source": [
        "isinstance(sin,float)"
      ],
      "execution_count": 68,
      "outputs": [
        {
          "output_type": "execute_result",
          "data": {
            "text/plain": [
              "False"
            ]
          },
          "metadata": {},
          "execution_count": 68
        }
      ]
    },
    {
      "cell_type": "code",
      "metadata": {
        "cell_id": "00085-40c2fbb5-7a0e-4fac-b422-98b2d7bef868",
        "deepnote_cell_type": "code",
        "deepnote_to_be_reexecuted": false,
        "execution_millis": 15,
        "execution_start": 1626454752505,
        "source_hash": "2ceac8dc",
        "tags": [],
        "id": "gKkXmI_qEbMC",
        "colab": {
          "base_uri": "https://localhost:8080/"
        },
        "outputId": "d213c769-5b64-4c83-c2ca-72ada050765b"
      },
      "source": [
        "sin"
      ],
      "execution_count": 69,
      "outputs": [
        {
          "output_type": "execute_result",
          "data": {
            "text/plain": [
              "<function math.sin>"
            ]
          },
          "metadata": {},
          "execution_count": 69
        }
      ]
    },
    {
      "cell_type": "code",
      "metadata": {
        "cell_id": "00085-4dd1c9e8-27bb-46c8-a193-9febc40c815b",
        "deepnote_cell_type": "code",
        "id": "yfYz0zLKNqA4"
      },
      "source": [
        "import math as m\n",
        "import cmath as cm\n",
        "import numpy as np\n",
        "#Recommended option:\n",
        "import numpy.lib.scimath as sc"
      ],
      "execution_count": 70,
      "outputs": []
    },
    {
      "cell_type": "code",
      "metadata": {
        "cell_id": "00086-66781195-0577-4bcd-9717-cbbd5ef49e12",
        "deepnote_cell_type": "code",
        "id": "b4YI-Ac9EbMD",
        "colab": {
          "base_uri": "https://localhost:8080/"
        },
        "outputId": "d4ad488b-275f-4dd8-df3b-a40e86498488"
      },
      "source": [
        "isinstance(sin,float)"
      ],
      "execution_count": 71,
      "outputs": [
        {
          "output_type": "execute_result",
          "data": {
            "text/plain": [
              "False"
            ]
          },
          "metadata": {},
          "execution_count": 71
        }
      ]
    },
    {
      "cell_type": "code",
      "metadata": {
        "cell_id": "00087-1507b2ca-4e3a-40b9-851f-370969c6ebcd",
        "deepnote_cell_type": "code",
        "id": "eCIV8qx7EbMD",
        "colab": {
          "base_uri": "https://localhost:8080/"
        },
        "outputId": "964f7cfd-b9da-4397-cc88-8f8a27d4c9d4"
      },
      "source": [
        "m.sin(0.5)"
      ],
      "execution_count": 72,
      "outputs": [
        {
          "output_type": "execute_result",
          "data": {
            "text/plain": [
              "0.479425538604203"
            ]
          },
          "metadata": {},
          "execution_count": 72
        }
      ]
    },
    {
      "cell_type": "code",
      "metadata": {
        "cell_id": "00088-01566e4d-82a9-4db8-8efa-40b4829006bb",
        "deepnote_cell_type": "code",
        "id": "50G1mfFgEbMD",
        "colab": {
          "base_uri": "https://localhost:8080/"
        },
        "outputId": "419724f4-a6aa-412d-b07d-14c0bed7dd73"
      },
      "source": [
        "cm.sin(0.5)"
      ],
      "execution_count": 73,
      "outputs": [
        {
          "output_type": "execute_result",
          "data": {
            "text/plain": [
              "(0.479425538604203+0j)"
            ]
          },
          "metadata": {},
          "execution_count": 73
        }
      ]
    },
    {
      "cell_type": "code",
      "metadata": {
        "cell_id": "00089-859202c9-64eb-46c0-983f-a87880c0fb3c",
        "deepnote_cell_type": "code",
        "id": "bhAzoU6hEbMD",
        "colab": {
          "base_uri": "https://localhost:8080/"
        },
        "outputId": "e5896331-ab0c-45d2-a166-39e33ca84967"
      },
      "source": [
        "np.sin(0.5)"
      ],
      "execution_count": 74,
      "outputs": [
        {
          "output_type": "execute_result",
          "data": {
            "text/plain": [
              "0.479425538604203"
            ]
          },
          "metadata": {},
          "execution_count": 74
        }
      ]
    },
    {
      "cell_type": "code",
      "metadata": {
        "cell_id": "00090-c84c0fbe-64ce-4eab-8c36-e31213a5207b",
        "deepnote_cell_type": "code",
        "id": "PXm-H8w6EbMD",
        "colab": {
          "base_uri": "https://localhost:8080/",
          "height": 171
        },
        "outputId": "74def383-b50b-4c2b-dc84-a543fa57feb6"
      },
      "source": [
        "sc.sin(0.5) #scimath no tiene seno"
      ],
      "execution_count": 77,
      "outputs": [
        {
          "output_type": "error",
          "ename": "AttributeError",
          "evalue": "ignored",
          "traceback": [
            "\u001b[0;31m---------------------------------------------------------------------------\u001b[0m",
            "\u001b[0;31mAttributeError\u001b[0m                            Traceback (most recent call last)",
            "\u001b[0;32m<ipython-input-77-b1ed142e0355>\u001b[0m in \u001b[0;36m<module>\u001b[0;34m()\u001b[0m\n\u001b[0;32m----> 1\u001b[0;31m \u001b[0msc\u001b[0m\u001b[0;34m.\u001b[0m\u001b[0msin\u001b[0m\u001b[0;34m(\u001b[0m\u001b[0;36m0.5\u001b[0m\u001b[0;34m)\u001b[0m\u001b[0;34m\u001b[0m\u001b[0;34m\u001b[0m\u001b[0m\n\u001b[0m",
            "\u001b[0;31mAttributeError\u001b[0m: module 'numpy.lib.scimath' has no attribute 'sin'"
          ]
        }
      ]
    },
    {
      "cell_type": "markdown",
      "metadata": {
        "cell_id": "00091-d49ebd94-56ff-4f1f-a968-52e4efe9dad3",
        "deepnote_cell_type": "markdown",
        "id": "rf3I0p_lnix5"
      },
      "source": [
        "## Complex numbers"
      ]
    },
    {
      "cell_type": "code",
      "metadata": {
        "cell_id": "00092-b3263a70-7d32-4852-a5d6-7877f102554d",
        "deepnote_cell_type": "code",
        "id": "w2cOR6nLEbME",
        "colab": {
          "base_uri": "https://localhost:8080/"
        },
        "outputId": "3a6b2511-99f7-477f-94eb-276598443bff"
      },
      "source": [
        "1j**2"
      ],
      "execution_count": 78,
      "outputs": [
        {
          "output_type": "execute_result",
          "data": {
            "text/plain": [
              "(-1+0j)"
            ]
          },
          "metadata": {},
          "execution_count": 78
        }
      ]
    },
    {
      "cell_type": "code",
      "metadata": {
        "cell_id": "00093-1a722771-b290-4e56-9e93-97420e2432e6",
        "deepnote_cell_type": "code",
        "id": "FV8LAGKJNqA7"
      },
      "source": [
        "z=2+3.2j"
      ],
      "execution_count": 79,
      "outputs": []
    },
    {
      "cell_type": "code",
      "metadata": {
        "cell_id": "00094-3d02d79e-c217-43fd-a8f4-c03e9b6d89b7",
        "deepnote_cell_type": "code",
        "id": "pNOydNUO40YE",
        "colab": {
          "base_uri": "https://localhost:8080/"
        },
        "outputId": "0ebb8605-b393-4cc3-b20d-54381df5ad10"
      },
      "source": [
        "isinstance(z,complex)"
      ],
      "execution_count": 80,
      "outputs": [
        {
          "output_type": "execute_result",
          "data": {
            "text/plain": [
              "True"
            ]
          },
          "metadata": {},
          "execution_count": 80
        }
      ]
    },
    {
      "cell_type": "markdown",
      "metadata": {
        "cell_id": "00095-f5a5c7b6-4ad5-49c8-b8d4-730479bec16e",
        "deepnote_cell_type": "markdown",
        "id": "y9HbGaRenix8"
      },
      "source": [
        "Attributes and methods:"
      ]
    },
    {
      "cell_type": "code",
      "metadata": {
        "cell_id": "00096-07b4ca2c-9701-4486-8424-bd8ec52a8c20",
        "colab": {
          "base_uri": "https://localhost:8080/"
        },
        "deepnote_cell_type": "code",
        "id": "5nHDx7wLNqA9",
        "outputId": "c09c5b19-dc4b-40bb-e899-2830b2061a54"
      },
      "source": [
        "z.real,z.imag,z.conjugate()"
      ],
      "execution_count": 81,
      "outputs": [
        {
          "output_type": "execute_result",
          "data": {
            "text/plain": [
              "(2.0, 3.2, (2-3.2j))"
            ]
          },
          "metadata": {},
          "execution_count": 81
        }
      ]
    },
    {
      "cell_type": "code",
      "metadata": {
        "cell_id": "00097-d50da332-4aec-4410-a0db-cf58ae5caf27",
        "colab": {
          "base_uri": "https://localhost:8080/"
        },
        "deepnote_cell_type": "code",
        "id": "WVfLo4mINqBA",
        "outputId": "83d806fe-eebe-445a-d1bc-31f82e857407"
      },
      "source": [
        "z+3*z"
      ],
      "execution_count": 82,
      "outputs": [
        {
          "output_type": "execute_result",
          "data": {
            "text/plain": [
              "(8+12.8j)"
            ]
          },
          "metadata": {},
          "execution_count": 82
        }
      ]
    },
    {
      "cell_type": "code",
      "metadata": {
        "cell_id": "00098-58b18cb4-21e6-48f4-9086-6fb8795770fa",
        "colab": {
          "base_uri": "https://localhost:8080/"
        },
        "deepnote_cell_type": "code",
        "id": "cDLf56VpNqBE",
        "outputId": "06557439-3ab2-46ba-f094-a1e2b1c9b768"
      },
      "source": [
        "z*z"
      ],
      "execution_count": 83,
      "outputs": [
        {
          "output_type": "execute_result",
          "data": {
            "text/plain": [
              "(-6.240000000000002+12.8j)"
            ]
          },
          "metadata": {},
          "execution_count": 83
        }
      ]
    },
    {
      "cell_type": "code",
      "metadata": {
        "cell_id": "00099-07cadcdf-0781-4f96-9efa-3c753e2fd6d5",
        "colab": {
          "base_uri": "https://localhost:8080/"
        },
        "deepnote_cell_type": "code",
        "id": "TAZa5L1RNqBG",
        "outputId": "2de76b51-dd0c-4079-e043-3b5b99d5a65f"
      },
      "source": [
        "z*z.conjugate()"
      ],
      "execution_count": 84,
      "outputs": [
        {
          "output_type": "execute_result",
          "data": {
            "text/plain": [
              "(14.240000000000002+0j)"
            ]
          },
          "metadata": {},
          "execution_count": 84
        }
      ]
    },
    {
      "cell_type": "code",
      "metadata": {
        "cell_id": "00100-faa6110d-55de-40a1-86c8-56ce8aa5aa9d",
        "deepnote_cell_type": "markdown",
        "id": "nK4EI5bH40YX",
        "colab": {
          "base_uri": "https://localhost:8080/",
          "height": 35
        },
        "outputId": "855733d0-0f1c-40b1-a69c-cadb646c7c7a"
      },
      "source": [
        "'math does not work with complex numbers'"
      ],
      "execution_count": 87,
      "outputs": [
        {
          "output_type": "execute_result",
          "data": {
            "application/vnd.google.colaboratory.intrinsic+json": {
              "type": "string"
            },
            "text/plain": [
              "'math does not work with complex numbers'"
            ]
          },
          "metadata": {},
          "execution_count": 87
        }
      ]
    },
    {
      "cell_type": "code",
      "metadata": {
        "cell_id": "00101-c9775239-ca6d-42ab-b7fa-7f9189334d40",
        "colab": {
          "base_uri": "https://localhost:8080/",
          "height": 171
        },
        "deepnote_cell_type": "code",
        "id": "sPxDr2BSNqBK",
        "outputId": "358e0aca-c887-4d22-d5c4-f88dd50a7a9e"
      },
      "source": [
        "m.asin(2+0j)"
      ],
      "execution_count": 88,
      "outputs": [
        {
          "output_type": "error",
          "ename": "TypeError",
          "evalue": "ignored",
          "traceback": [
            "\u001b[0;31m---------------------------------------------------------------------------\u001b[0m",
            "\u001b[0;31mTypeError\u001b[0m                                 Traceback (most recent call last)",
            "\u001b[0;32m<ipython-input-88-1385535d58fd>\u001b[0m in \u001b[0;36m<module>\u001b[0;34m()\u001b[0m\n\u001b[0;32m----> 1\u001b[0;31m \u001b[0mm\u001b[0m\u001b[0;34m.\u001b[0m\u001b[0masin\u001b[0m\u001b[0;34m(\u001b[0m\u001b[0;36m2\u001b[0m\u001b[0;34m+\u001b[0m\u001b[0;36m0j\u001b[0m\u001b[0;34m)\u001b[0m\u001b[0;34m\u001b[0m\u001b[0;34m\u001b[0m\u001b[0m\n\u001b[0m",
            "\u001b[0;31mTypeError\u001b[0m: can't convert complex to float"
          ]
        }
      ]
    },
    {
      "cell_type": "code",
      "metadata": {
        "cell_id": "00102-cbbdaece-e706-4de6-98bd-8f43d8d35739",
        "colab": {
          "base_uri": "https://localhost:8080/"
        },
        "deepnote_cell_type": "code",
        "id": "tb5p6SxcNqBO",
        "outputId": "09d0a104-9c1b-403e-8815-161726a6fe89"
      },
      "source": [
        "cm.asin(2)"
      ],
      "execution_count": 89,
      "outputs": [
        {
          "output_type": "execute_result",
          "data": {
            "text/plain": [
              "(1.5707963267948966+1.3169578969248166j)"
            ]
          },
          "metadata": {},
          "execution_count": 89
        }
      ]
    },
    {
      "cell_type": "markdown",
      "metadata": {
        "cell_id": "00103-746e65d9-8d08-4878-b80f-087e11660d00",
        "deepnote_cell_type": "markdown",
        "id": "WDJy8b9BEbMJ"
      },
      "source": [
        "`numpy` requires proper input"
      ]
    },
    {
      "cell_type": "code",
      "metadata": {
        "cell_id": "00104-7d842a7e-551f-4b86-8cda-aaf9002436d9",
        "colab": {
          "base_uri": "https://localhost:8080/"
        },
        "deepnote_cell_type": "code",
        "id": "CrFG7Wkko2ry",
        "outputId": "af171114-4f7c-417f-9cca-099626615e10"
      },
      "source": [
        "np.arcsin(2)"
      ],
      "execution_count": 90,
      "outputs": [
        {
          "output_type": "stream",
          "name": "stderr",
          "text": [
            "/usr/local/lib/python3.7/dist-packages/ipykernel_launcher.py:1: RuntimeWarning: invalid value encountered in arcsin\n",
            "  \"\"\"Entry point for launching an IPython kernel.\n"
          ]
        },
        {
          "output_type": "execute_result",
          "data": {
            "text/plain": [
              "nan"
            ]
          },
          "metadata": {},
          "execution_count": 90
        }
      ]
    },
    {
      "cell_type": "code",
      "metadata": {
        "cell_id": "00105-068cb2e2-67f6-4789-8aa9-8df6cb73f631",
        "colab": {
          "base_uri": "https://localhost:8080/"
        },
        "deepnote_cell_type": "code",
        "id": "kzkODWkAsUGH",
        "outputId": "58b464df-3e11-4ad9-e0bc-95ebc05942e7"
      },
      "source": [
        "np.arcsin(2+0j)"
      ],
      "execution_count": 91,
      "outputs": [
        {
          "output_type": "execute_result",
          "data": {
            "text/plain": [
              "(1.5707963267948966+1.3169578969248166j)"
            ]
          },
          "metadata": {},
          "execution_count": 91
        }
      ]
    },
    {
      "cell_type": "markdown",
      "metadata": {
        "cell_id": "00106-6259c1ee-9808-4b0a-ac5d-28c2a35c0c03",
        "deepnote_cell_type": "markdown",
        "id": "1CCDk_m0sSH5"
      },
      "source": [
        "`numpy.lib.scimath` imported as `sc` here, is from `sc?`:\n",
        "> Wrapper functions to more user-friendly calling of certain math functions\n",
        "whose output data-type is different than the input data-type in certain\n",
        "domains of the input.\n",
        "Function with some parts of its domain in the complex plane like, `sqrt`, `log`, `log2`, `logn`, `log10`, `power`, `arccos`, `arcsin`, and `arctanh`."
      ]
    },
    {
      "cell_type": "code",
      "metadata": {
        "cell_id": "00107-d4582586-7946-48c2-b2a1-4e57643deb70",
        "deepnote_cell_type": "code",
        "id": "ujaLOBc440Yt"
      },
      "source": [
        "np.lib.scimath.arcsin(2)"
      ],
      "execution_count": null,
      "outputs": []
    },
    {
      "cell_type": "code",
      "metadata": {
        "cell_id": "00108-21fe7bc7-b62e-419e-8f4a-77c5fcb3eeef",
        "deepnote_cell_type": "code",
        "id": "ll6dm1OGEbMK",
        "colab": {
          "base_uri": "https://localhost:8080/"
        },
        "outputId": "f1ede8ac-8abb-45bb-ac8e-8f7d4da48399"
      },
      "source": [
        "sc.arcsin(2)"
      ],
      "execution_count": 93,
      "outputs": [
        {
          "output_type": "execute_result",
          "data": {
            "text/plain": [
              "(1.5707963267948966+1.3169578969248166j)"
            ]
          },
          "metadata": {},
          "execution_count": 93
        }
      ]
    },
    {
      "cell_type": "code",
      "metadata": {
        "cell_id": "00109-fa35b372-96f9-4949-acbd-3e1dd8b97d6e",
        "deepnote_cell_type": "code",
        "id": "148M2gp0ul3b"
      },
      "source": [
        "import ipywidgets as widgets"
      ],
      "execution_count": 94,
      "outputs": []
    },
    {
      "cell_type": "code",
      "metadata": {
        "cell_id": "00110-28966f91-cbf3-4e57-9037-3909018ee925",
        "deepnote_cell_type": "code",
        "id": "OgpSHexV40Y0",
        "tags": [
          "interactive"
        ],
        "colab": {
          "base_uri": "https://localhost:8080/",
          "height": 67,
          "referenced_widgets": [
            "b7051b9522874b10bfc35f60fd684ff1",
            "fda48469b1ce4e0584f2ecf6eff520b2",
            "94b5640896a84039ac6e30547c9d709f",
            "b13a52e5804c4fe881cb42bbdb8f8977",
            "efa56c8e3f024e33a5a633790fb1a111",
            "59c226fe6eea43d58c0220a604211096",
            "cfd477c9ff10497ba394c4b60640f71e"
          ]
        },
        "outputId": "fc09cc69-b908-49a0-d7c2-4452842106ce"
      },
      "source": [
        "@widgets.interact\n",
        "def f(x=(0,2)):\n",
        "    print(np.abs(sc.arcsin(x)))"
      ],
      "execution_count": 95,
      "outputs": [
        {
          "output_type": "display_data",
          "data": {
            "application/vnd.jupyter.widget-view+json": {
              "model_id": "b7051b9522874b10bfc35f60fd684ff1",
              "version_minor": 0,
              "version_major": 2
            },
            "text/plain": [
              "interactive(children=(IntSlider(value=1, description='x', max=2), Output()), _dom_classes=('widget-interact',)…"
            ]
          },
          "metadata": {}
        }
      ]
    },
    {
      "cell_type": "code",
      "metadata": {
        "cell_id": "00111-65b42516-574d-47e8-98f2-bb422c3e958a",
        "colab": {
          "base_uri": "https://localhost:8080/"
        },
        "deepnote_cell_type": "code",
        "id": "3tptBZcLNqBT",
        "outputId": "23c0f406-253e-454c-a911-81b5df4adb4f"
      },
      "source": [
        "sc.arcsin([2,3])"
      ],
      "execution_count": 96,
      "outputs": [
        {
          "output_type": "execute_result",
          "data": {
            "text/plain": [
              "array([1.57079633+1.3169579j , 1.57079633+1.76274717j])"
            ]
          },
          "metadata": {},
          "execution_count": 96
        }
      ]
    },
    {
      "cell_type": "markdown",
      "metadata": {
        "cell_id": "00112-16b90e2f-1770-4f84-b1fd-e1197c7da6ac",
        "deepnote_cell_type": "markdown",
        "id": "WNGKkoW4F_zT"
      },
      "source": [
        "# Lists, Tuples, Dictionaries and Sets"
      ]
    },
    {
      "cell_type": "markdown",
      "metadata": {
        "cell_id": "00113-6ca5b993-d2b8-48df-95e5-92e102a819fc",
        "deepnote_cell_type": "markdown",
        "id": "ACaVyEIMF_zU"
      },
      "source": [
        "## Lists"
      ]
    },
    {
      "cell_type": "markdown",
      "metadata": {
        "cell_id": "00114-8627121b-1169-43dc-8a80-c2b50bc7bc23",
        "deepnote_cell_type": "markdown",
        "id": "8bU3iP8xF_zV"
      },
      "source": [
        "Lists are useful when you want to store and manipulate a set of elements (even of different types)."
      ]
    },
    {
      "cell_type": "code",
      "metadata": {
        "cell_id": "00115-43993951-a96b-45f5-9aa6-218250de2875",
        "colab": {
          "base_uri": "https://localhost:8080/"
        },
        "deepnote_cell_type": "code",
        "deepnote_to_be_reexecuted": false,
        "execution_millis": 19,
        "execution_start": 1627053894891,
        "id": "xWUtR9EUF_zW",
        "source_hash": "f35af975",
        "outputId": "0ac311ab-2ee0-4764-99b5-174ba5233580"
      },
      "source": [
        "#A list is declared using [] and may content different type of objects\n",
        "lista = [\"abc\", 42, 3.1415]\n",
        "lista"
      ],
      "execution_count": 137,
      "outputs": [
        {
          "output_type": "execute_result",
          "data": {
            "text/plain": [
              "['abc', 42, 3.1415]"
            ]
          },
          "metadata": {},
          "execution_count": 137
        }
      ]
    },
    {
      "cell_type": "code",
      "metadata": {
        "cell_id": "00116-f1ac2a71-cd80-4bdf-b55a-36c96d210522",
        "colab": {
          "base_uri": "https://localhost:8080/",
          "height": 35
        },
        "deepnote_cell_type": "code",
        "deepnote_to_be_reexecuted": false,
        "execution_millis": 12,
        "execution_start": 1627053528338,
        "id": "HF_XL0MWF_zY",
        "source_hash": "a16ca4d8",
        "outputId": "216a4700-70ff-4d5a-e9b3-faa554ca0f99"
      },
      "source": [
        "#First element of the list\n",
        "lista[0]"
      ],
      "execution_count": 138,
      "outputs": [
        {
          "output_type": "execute_result",
          "data": {
            "application/vnd.google.colaboratory.intrinsic+json": {
              "type": "string"
            },
            "text/plain": [
              "'abc'"
            ]
          },
          "metadata": {},
          "execution_count": 138
        }
      ]
    },
    {
      "cell_type": "code",
      "metadata": {
        "cell_id": "00117-9bee40ba-69b5-45ad-ac99-ded3cebca55a",
        "colab": {
          "base_uri": "https://localhost:8080/"
        },
        "deepnote_cell_type": "code",
        "deepnote_to_be_reexecuted": false,
        "execution_millis": 58,
        "execution_start": 1627053562906,
        "id": "wAPJeJnIF_za",
        "source_hash": "b4dd55f4",
        "outputId": "41d90e48-0be9-46be-ad17-7ec6feef60cb"
      },
      "source": [
        "#Last element of the list\n",
        "lista[-1]"
      ],
      "execution_count": 139,
      "outputs": [
        {
          "output_type": "execute_result",
          "data": {
            "text/plain": [
              "3.1415"
            ]
          },
          "metadata": {},
          "execution_count": 139
        }
      ]
    },
    {
      "cell_type": "code",
      "metadata": {
        "cell_id": "00119-4ee37b8f-4184-4968-9344-ce71d1e7bc47",
        "colab": {
          "base_uri": "https://localhost:8080/"
        },
        "deepnote_cell_type": "code",
        "deepnote_to_be_reexecuted": false,
        "execution_millis": 18,
        "execution_start": 1627053898484,
        "id": "Nl-dVEMRF_zc",
        "source_hash": "3d493445",
        "outputId": "11f05694-1082-4496-cd13-a41908a3003b"
      },
      "source": [
        "#Adding a new element (boolean element)\n",
        "lista.append(True)\n",
        "lista"
      ],
      "execution_count": 140,
      "outputs": [
        {
          "output_type": "execute_result",
          "data": {
            "text/plain": [
              "['abc', 42, 3.1415, True]"
            ]
          },
          "metadata": {},
          "execution_count": 140
        }
      ]
    },
    {
      "cell_type": "markdown",
      "metadata": {
        "cell_id": "00120-a12d4510-740e-497c-b699-ffd41b801f67",
        "deepnote_cell_type": "markdown",
        "tags": [],
        "id": "rA8IlkHHEbMN"
      },
      "source": [
        "WARNING:"
      ]
    },
    {
      "cell_type": "code",
      "metadata": {
        "cell_id": "00120-d1e762c2-34ba-43de-807e-59500bcab8ef",
        "deepnote_cell_type": "code",
        "deepnote_to_be_reexecuted": false,
        "execution_millis": 14,
        "execution_start": 1627053918373,
        "source_hash": "b1a5bc03",
        "tags": [],
        "colab": {
          "base_uri": "https://localhost:8080/"
        },
        "id": "CXEROuDVEbMN",
        "outputId": "8a24e624-54fe-4b40-ba43-d547933021c5"
      },
      "source": [
        "newlista=lista.copy() #Copy crea un nuevo espacio de memoria\n",
        "#newlista=newlista.append(5)\n",
        "print(newlista)"
      ],
      "execution_count": 141,
      "outputs": [
        {
          "output_type": "stream",
          "name": "stdout",
          "text": [
            "['abc', 42, 3.1415, True]\n"
          ]
        }
      ]
    },
    {
      "cell_type": "code",
      "metadata": {
        "colab": {
          "base_uri": "https://localhost:8080/"
        },
        "id": "BLpE088UFvaH",
        "outputId": "4e278ee5-eb0e-4d92-df50-fb7183f79c0b"
      },
      "source": [
        "newlista=lista.copy() #Copy crea un nuevo espacio de memoria\n",
        "newlista=newlista.append(5) # No entendí lo del igual (asesoría)\n",
        "print(newlista)"
      ],
      "execution_count": 142,
      "outputs": [
        {
          "output_type": "stream",
          "name": "stdout",
          "text": [
            "None\n"
          ]
        }
      ]
    },
    {
      "cell_type": "code",
      "metadata": {
        "cell_id": "00120-b066d01c-cfd2-4b88-b396-acaa67bae085",
        "colab": {
          "base_uri": "https://localhost:8080/"
        },
        "deepnote_cell_type": "code",
        "deepnote_to_be_reexecuted": false,
        "execution_millis": 13,
        "execution_start": 1627053977167,
        "id": "SevBLsrgF_ze",
        "source_hash": "9186f96e",
        "outputId": "cd8651a1-128e-4df4-d9f3-4b6d185f039b"
      },
      "source": [
        "#Inserting a new second element \n",
        "lista.insert(1, \"I am second\")\n",
        "lista"
      ],
      "execution_count": 143,
      "outputs": [
        {
          "output_type": "execute_result",
          "data": {
            "text/plain": [
              "['abc', 'I am second', 42, 3.1415, True]"
            ]
          },
          "metadata": {},
          "execution_count": 143
        }
      ]
    },
    {
      "cell_type": "code",
      "metadata": {
        "cell_id": "00121-8b9c757b-9fb4-4610-b94e-ac2f7ae4e869",
        "colab": {
          "base_uri": "https://localhost:8080/"
        },
        "deepnote_cell_type": "code",
        "deepnote_to_be_reexecuted": false,
        "execution_millis": 10,
        "execution_start": 1627054016142,
        "id": "nSHDnC2AF_zg",
        "source_hash": "8aee6b76",
        "outputId": "82c9293d-88f4-4bfb-d30b-69433b69951c"
      },
      "source": [
        "#Deleting the third element of the list\n",
        "del lista[3] #del borra elementos de la lista\n",
        "lista"
      ],
      "execution_count": 144,
      "outputs": [
        {
          "output_type": "execute_result",
          "data": {
            "text/plain": [
              "['abc', 'I am second', 42, True]"
            ]
          },
          "metadata": {},
          "execution_count": 144
        }
      ]
    },
    {
      "cell_type": "code",
      "metadata": {
        "cell_id": "00122-ffe7df5c-b2da-45ce-bb94-f432ea290b6d",
        "colab": {
          "base_uri": "https://localhost:8080/"
        },
        "deepnote_cell_type": "code",
        "deepnote_to_be_reexecuted": false,
        "execution_millis": 39,
        "execution_start": 1627054037210,
        "id": "vlX6FjRkF_zj",
        "source_hash": "b6a109d0",
        "outputId": "d8117e99-0a67-4fb6-b07e-bee7e4545cdd"
      },
      "source": [
        "#Reassign the first element of the list\n",
        "lista[0] = \"xyz\"\n",
        "lista"
      ],
      "execution_count": 145,
      "outputs": [
        {
          "output_type": "execute_result",
          "data": {
            "text/plain": [
              "['xyz', 'I am second', 42, True]"
            ]
          },
          "metadata": {},
          "execution_count": 145
        }
      ]
    },
    {
      "cell_type": "markdown",
      "metadata": {
        "cell_id": "00123-57f91b00-6a13-4568-a840-c95e04b50c68",
        "deepnote_cell_type": "markdown",
        "id": "pfNBq-Bj40ZQ"
      },
      "source": [
        "### Slicing: \n",
        "Extract elements from a list, `l` from one given index to another given index. We pass slice instead of index like this: \n",
        "```python3\n",
        "l[start:end]\n",
        "```\n",
        "We can also define the step, like this: \n",
        "```python3\n",
        "l[start:end:step]\n",
        "```\n",
        "If `start` is not passed it is considered 0. If `end` is not passed it is considered length of array in that dimension. The `end` can given in reverse order by assigning a minus signus to the index. For example `-1` means the last element, while `-2` means the penultimate, and so on and so forth."
      ]
    },
    {
      "cell_type": "code",
      "metadata": {
        "cell_id": "00124-4673fb4b-69a6-44c5-b553-b29ecda18ed3",
        "colab": {
          "base_uri": "https://localhost:8080/"
        },
        "deepnote_cell_type": "code",
        "deepnote_to_be_reexecuted": false,
        "execution_millis": 9,
        "execution_start": 1627054210718,
        "id": "rCgwPFIgF_zl",
        "source_hash": "5d30bd51",
        "outputId": "a0080783-127b-42cb-e11e-1259f4af41ec"
      },
      "source": [
        "#Showing the elements from 0 to 2\n",
        "lista[0:3]"
      ],
      "execution_count": 146,
      "outputs": [
        {
          "output_type": "execute_result",
          "data": {
            "text/plain": [
              "['xyz', 'I am second', 42]"
            ]
          },
          "metadata": {},
          "execution_count": 146
        }
      ]
    },
    {
      "cell_type": "code",
      "metadata": {
        "cell_id": "00125-f058494c-bb47-4974-93c6-7cb70b3650c3",
        "colab": {
          "base_uri": "https://localhost:8080/"
        },
        "deepnote_cell_type": "code",
        "deepnote_to_be_reexecuted": false,
        "execution_millis": 25,
        "execution_start": 1627054240750,
        "id": "7EnY5Z_A40ZT",
        "source_hash": "d90acb3b",
        "outputId": "aa3f43ae-8e8a-4ce7-aa3b-8580b122fd45"
      },
      "source": [
        "#Showing the last two elements\n",
        "lista[-2:]"
      ],
      "execution_count": 147,
      "outputs": [
        {
          "output_type": "execute_result",
          "data": {
            "text/plain": [
              "[42, True]"
            ]
          },
          "metadata": {},
          "execution_count": 147
        }
      ]
    },
    {
      "cell_type": "code",
      "metadata": {
        "cell_id": "00126-2c6edb8f-e21a-4c78-bbf8-911ef5d1be11",
        "colab": {
          "base_uri": "https://localhost:8080/"
        },
        "deepnote_cell_type": "code",
        "deepnote_to_be_reexecuted": false,
        "execution_millis": 10,
        "execution_start": 1627054255404,
        "id": "hFTEHeueF_zn",
        "source_hash": "8f046dad",
        "outputId": "3f114b0c-a9eb-493e-d8ba-b57af3218c79"
      },
      "source": [
        "#Showing elements two by two\n",
        "lista[::2]"
      ],
      "execution_count": 148,
      "outputs": [
        {
          "output_type": "execute_result",
          "data": {
            "text/plain": [
              "['xyz', 42]"
            ]
          },
          "metadata": {},
          "execution_count": 148
        }
      ]
    },
    {
      "cell_type": "code",
      "metadata": {
        "cell_id": "00127-088529a1-cdd2-4f2c-a55f-97c24a554d43",
        "colab": {
          "base_uri": "https://localhost:8080/"
        },
        "deepnote_cell_type": "code",
        "deepnote_to_be_reexecuted": false,
        "execution_millis": 57,
        "execution_start": 1627054269516,
        "id": "AmtfO6SE40Zb",
        "source_hash": "9349264f",
        "outputId": "7bf66af3-8773-47ec-b701-8daeb47cfc75"
      },
      "source": [
        "#Reverse order\n",
        "lista[::-1]"
      ],
      "execution_count": 149,
      "outputs": [
        {
          "output_type": "execute_result",
          "data": {
            "text/plain": [
              "[True, 42, 'I am second', 'xyz']"
            ]
          },
          "metadata": {},
          "execution_count": 149
        }
      ]
    },
    {
      "cell_type": "code",
      "metadata": {
        "cell_id": "00128-f3e96f1b-30fb-4dc6-8cf5-10f8c0a3bdac",
        "deepnote_cell_type": "code",
        "deepnote_to_be_reexecuted": false,
        "execution_millis": 14,
        "execution_start": 1627054333990,
        "source_hash": "8a17b22b",
        "colab": {
          "base_uri": "https://localhost:8080/"
        },
        "id": "mAKyHpA_EbMP",
        "outputId": "d3dad506-3840-48cb-ecf9-5b25fa89bf9e"
      },
      "source": [
        "lista"
      ],
      "execution_count": 150,
      "outputs": [
        {
          "output_type": "execute_result",
          "data": {
            "text/plain": [
              "['xyz', 'I am second', 42, True]"
            ]
          },
          "metadata": {},
          "execution_count": 150
        }
      ]
    },
    {
      "cell_type": "code",
      "metadata": {
        "cell_id": "00129-d0c2f7e2-f0b2-492e-9204-dc38f3b0c8d7",
        "colab": {
          "base_uri": "https://localhost:8080/"
        },
        "deepnote_cell_type": "code",
        "deepnote_to_be_reexecuted": false,
        "execution_millis": 10,
        "execution_start": 1627054348910,
        "id": "JtdcF2L540Ze",
        "source_hash": "871441e4",
        "outputId": "dc146af4-f78f-4cb3-fd13-4fc78f50d48b"
      },
      "source": [
        "#also as\n",
        "lista.reverse() #Cambia el orden de la lista definitivamente\n",
        "lista"
      ],
      "execution_count": 151,
      "outputs": [
        {
          "output_type": "execute_result",
          "data": {
            "text/plain": [
              "[True, 42, 'I am second', 'xyz']"
            ]
          },
          "metadata": {},
          "execution_count": 151
        }
      ]
    },
    {
      "cell_type": "markdown",
      "metadata": {
        "cell_id": "00130-1315bac9-04c4-4e12-bd71-e54c9c188e09",
        "deepnote_cell_type": "markdown",
        "id": "-nwqd5OH40Zh"
      },
      "source": [
        "### Embedded lists"
      ]
    },
    {
      "cell_type": "code",
      "metadata": {
        "cell_id": "00131-aaab6b1e-dcd6-448d-9c9c-c58f8a2df353",
        "colab": {
          "base_uri": "https://localhost:8080/"
        },
        "deepnote_cell_type": "code",
        "deepnote_to_be_reexecuted": false,
        "execution_millis": 10,
        "execution_start": 1627054580810,
        "id": "FZOAGZujF_zp",
        "source_hash": "a0121d4d",
        "outputId": "ca132c5f-a2c1-4009-ed19-fe06cc0e6fc4"
      },
      "source": [
        "#It is possible to embed a list\n",
        "embedded_list = [lista, [True, 42]]\n",
        "embedded_list"
      ],
      "execution_count": 152,
      "outputs": [
        {
          "output_type": "execute_result",
          "data": {
            "text/plain": [
              "[[True, 42, 'I am second', 'xyz'], [True, 42]]"
            ]
          },
          "metadata": {},
          "execution_count": 152
        }
      ]
    },
    {
      "cell_type": "code",
      "metadata": {
        "cell_id": "00132-57f0bd10-d081-42bd-992b-712686faa210",
        "colab": {
          "base_uri": "https://localhost:8080/"
        },
        "deepnote_cell_type": "code",
        "deepnote_to_be_reexecuted": false,
        "execution_millis": 12,
        "execution_start": 1627054613548,
        "id": "jYQgFdOYF_zr",
        "source_hash": "693c0cdf",
        "outputId": "efd12e19-9dfa-456a-9011-a027e87c5e1f"
      },
      "source": [
        "#Second element of the first list\n",
        "embedded_list[0][1] # el primer corchete es posición de la Lista que necesito y el segundo el elemento. "
      ],
      "execution_count": 153,
      "outputs": [
        {
          "output_type": "execute_result",
          "data": {
            "text/plain": [
              "42"
            ]
          },
          "metadata": {},
          "execution_count": 153
        }
      ]
    },
    {
      "cell_type": "code",
      "metadata": {
        "cell_id": "00133-9df3b1ce-f6c3-4be5-b737-949607db44c0",
        "colab": {
          "base_uri": "https://localhost:8080/"
        },
        "deepnote_cell_type": "code",
        "deepnote_to_be_reexecuted": false,
        "execution_millis": 14,
        "execution_start": 1627055234675,
        "id": "uyw-E8VoF_zt",
        "source_hash": "d11f70fc",
        "outputId": "ca85445e-418c-4cd2-8f61-917b4c5a6043"
      },
      "source": [
        "#A matrix as a list of embedded lists\n",
        "A = [ [1,2], [3,4] ]\n",
        "A"
      ],
      "execution_count": 154,
      "outputs": [
        {
          "output_type": "execute_result",
          "data": {
            "text/plain": [
              "[[1, 2], [3, 4]]"
            ]
          },
          "metadata": {},
          "execution_count": 154
        }
      ]
    },
    {
      "cell_type": "markdown",
      "metadata": {
        "cell_id": "00134-e1d5ee2c-0fe9-46c2-85ce-0762e05611bc",
        "deepnote_cell_type": "markdown",
        "id": "BYpSrRqlgX6j"
      },
      "source": [
        "**Activity**: Obtain entry $A_{01}$ of the previous matrix, where\n",
        "$$\n",
        "A=\\begin{pmatrix}\n",
        "A_{00} & A_{01}\\\\\n",
        "A_{10} & A_{11}\\\\\n",
        "\\end{pmatrix}\n",
        "$$"
      ]
    },
    {
      "cell_type": "code",
      "metadata": {
        "cell_id": "00135-f5b3c211-9abc-4c21-8806-2f1c4a1e2b14",
        "colab": {
          "base_uri": "https://localhost:8080/"
        },
        "deepnote_cell_type": "code",
        "deepnote_to_be_reexecuted": false,
        "execution_millis": 0,
        "execution_start": 1627060206310,
        "id": "jisAwrcf40Zq",
        "source_hash": "b623e53d",
        "outputId": "d88d0331-c4a4-4709-f3a2-04e2112a922f"
      },
      "source": [
        "A[0][1]"
      ],
      "execution_count": 155,
      "outputs": [
        {
          "output_type": "execute_result",
          "data": {
            "text/plain": [
              "2"
            ]
          },
          "metadata": {},
          "execution_count": 155
        }
      ]
    },
    {
      "cell_type": "markdown",
      "metadata": {
        "cell_id": "00136-243850cf-39b5-4c5d-842f-72e235c72269",
        "deepnote_cell_type": "markdown",
        "id": "xou55DH140Zs"
      },
      "source": [
        "### Sum of lists"
      ]
    },
    {
      "cell_type": "code",
      "metadata": {
        "cell_id": "00137-d0e5120c-94d6-40e3-8979-a9bdb0bf0794",
        "colab": {
          "base_uri": "https://localhost:8080/"
        },
        "deepnote_cell_type": "code",
        "id": "DDYA-n0pF_zv",
        "outputId": "c1430406-4c79-437a-ca11-24257643ec6f"
      },
      "source": [
        "#When two list are added, the result is a new concatenated list\n",
        "[1,2,\"ab\",True,[1,2]] + [3.1415,\"Pi\",\"circle\"]"
      ],
      "execution_count": 156,
      "outputs": [
        {
          "output_type": "execute_result",
          "data": {
            "text/plain": [
              "[1, 2, 'ab', True, [1, 2], 3.1415, 'Pi', 'circle']"
            ]
          },
          "metadata": {},
          "execution_count": 156
        }
      ]
    },
    {
      "cell_type": "markdown",
      "metadata": {
        "cell_id": "00138-dc6980e6-fb8f-4a83-b98f-9bc41e9fa01d",
        "deepnote_cell_type": "markdown",
        "id": "mnXJphqAhSpu"
      },
      "source": [
        "**Activity** Add a third row with integer values to the previous $A$ matrix\n",
        "<!-- Answer: A=A+[[5,6]] -->"
      ]
    },
    {
      "cell_type": "code",
      "metadata": {
        "cell_id": "00139-5b796ccf-fa09-400b-91e8-ef347d747586",
        "colab": {
          "base_uri": "https://localhost:8080/"
        },
        "deepnote_cell_type": "code",
        "deepnote_to_be_reexecuted": false,
        "execution_millis": 0,
        "execution_start": 1627060219998,
        "id": "cDjXm_LthoWk",
        "source_hash": "b623e53d",
        "outputId": "e210771f-b88d-46fc-94b5-dd47907d3b94"
      },
      "source": [
        "A=[[1, 2], [3, 4], [20, 10]]\n",
        "A"
      ],
      "execution_count": 157,
      "outputs": [
        {
          "output_type": "execute_result",
          "data": {
            "text/plain": [
              "[[1, 2], [3, 4], [20, 10]]"
            ]
          },
          "metadata": {},
          "execution_count": 157
        }
      ]
    },
    {
      "cell_type": "code",
      "metadata": {
        "colab": {
          "base_uri": "https://localhost:8080/"
        },
        "id": "fZLMmNrWJ7x9",
        "outputId": "e1bda0aa-664e-4046-a341-3f5695d09b43"
      },
      "source": [
        "B=A+[[4,5]]\n",
        "B"
      ],
      "execution_count": 158,
      "outputs": [
        {
          "output_type": "execute_result",
          "data": {
            "text/plain": [
              "[[1, 2], [3, 4], [20, 10], [4, 5]]"
            ]
          },
          "metadata": {},
          "execution_count": 158
        }
      ]
    },
    {
      "cell_type": "markdown",
      "metadata": {
        "cell_id": "00140-ede7d349-571e-42fe-b4f5-0963810a6e95",
        "deepnote_cell_type": "markdown",
        "id": "7QgsQSv2F_zy"
      },
      "source": [
        "An additional ingredient is the `append` method of a Python list. It update the elements of the list without update explicitly the variable with some equal reasignment."
      ]
    },
    {
      "cell_type": "code",
      "metadata": {
        "cell_id": "00141-cd443c5b-58be-4308-8fd1-7c9c87b2ba35",
        "colab": {
          "base_uri": "https://localhost:8080/"
        },
        "deepnote_cell_type": "code",
        "deepnote_to_be_reexecuted": false,
        "execution_millis": 1,
        "execution_start": 1627055372390,
        "id": "ZxLgIuS7F_zy",
        "source_hash": "a8e6b8c3",
        "outputId": "4d233dea-667e-4f2e-da86-5dfbbb7f29fb"
      },
      "source": [
        "y=[]\n",
        "y.append(2)\n",
        "print(f'after append 2 to [] : {y}')\n",
        "y.append(5)\n",
        "print(f'after append 5 to [2]: {y}')"
      ],
      "execution_count": 159,
      "outputs": [
        {
          "output_type": "stream",
          "name": "stdout",
          "text": [
            "after append 2 to [] : [2]\n",
            "after append 5 to [2]: [2, 5]\n"
          ]
        }
      ]
    },
    {
      "cell_type": "markdown",
      "metadata": {
        "cell_id": "00144-953af19d-ca28-4a4e-bee2-d74b5a2ed2bc",
        "deepnote_cell_type": "markdown",
        "tags": [],
        "id": "SJIKwWb0EbMS"
      },
      "source": [
        "functions to generate iterators:\n",
        "* `range`\n"
      ]
    },
    {
      "cell_type": "code",
      "metadata": {
        "cell_id": "00145-0c5d3016-156c-451f-932f-8f9f85498c7c",
        "deepnote_cell_type": "code",
        "deepnote_to_be_reexecuted": false,
        "execution_millis": 16,
        "execution_start": 1627055526138,
        "source_hash": "f94a8b9f",
        "tags": [],
        "colab": {
          "base_uri": "https://localhost:8080/"
        },
        "id": "dUpywJArEbMS",
        "outputId": "dd8430e0-1636-4be0-fda4-f1e65a608950"
      },
      "source": [
        "list(range(3)) #Convierte un iterador en una litsa"
      ],
      "execution_count": 160,
      "outputs": [
        {
          "output_type": "execute_result",
          "data": {
            "text/plain": [
              "[0, 1, 2]"
            ]
          },
          "metadata": {},
          "execution_count": 160
        }
      ]
    },
    {
      "cell_type": "markdown",
      "metadata": {
        "cell_id": "00146-849cc4fe-5da8-4d42-90c7-a9af3c9a6bf3",
        "deepnote_cell_type": "markdown",
        "tags": [],
        "id": "ZFnHNtbOEbMS"
      },
      "source": [
        "Conditional in lists:\n",
        "* `in`\n",
        "* `any`\n",
        "* `all`"
      ]
    },
    {
      "cell_type": "code",
      "metadata": {
        "cell_id": "00147-8be3f9a4-90f7-4d7d-8f26-0d2ed226b968",
        "deepnote_cell_type": "code",
        "deepnote_to_be_reexecuted": false,
        "execution_millis": 37,
        "execution_start": 1627060569158,
        "source_hash": "fffd76d",
        "tags": [],
        "colab": {
          "base_uri": "https://localhost:8080/"
        },
        "id": "tqGJEgJbEbMS",
        "outputId": "c19a04f3-4a3a-483a-dce8-f5075e592a2a"
      },
      "source": [
        "3 in [4,5,6] #pregunta si un elemento está en la lista."
      ],
      "execution_count": 161,
      "outputs": [
        {
          "output_type": "execute_result",
          "data": {
            "text/plain": [
              "False"
            ]
          },
          "metadata": {},
          "execution_count": 161
        }
      ]
    },
    {
      "cell_type": "code",
      "metadata": {
        "cell_id": "00148-c0099d37-13a9-4cd4-956f-615e5ec21d29",
        "deepnote_cell_type": "code",
        "deepnote_to_be_reexecuted": false,
        "execution_millis": 30,
        "execution_start": 1627061227281,
        "source_hash": "f97063ef",
        "tags": [],
        "colab": {
          "base_uri": "https://localhost:8080/"
        },
        "id": "6mlgtCczEbMT",
        "outputId": "d687e6a6-bb34-4699-b89b-17e32f082738"
      },
      "source": [
        "any([False,False,False]) #pregunta si hay algún un elemento verdadero"
      ],
      "execution_count": 162,
      "outputs": [
        {
          "output_type": "execute_result",
          "data": {
            "text/plain": [
              "False"
            ]
          },
          "metadata": {},
          "execution_count": 162
        }
      ]
    },
    {
      "cell_type": "code",
      "metadata": {
        "cell_id": "00149-722ef06e-9a14-499f-b6a5-0327a0f3b25f",
        "deepnote_cell_type": "code",
        "deepnote_to_be_reexecuted": false,
        "execution_millis": 27,
        "execution_start": 1627061259749,
        "source_hash": "95cdbf30",
        "tags": [],
        "colab": {
          "base_uri": "https://localhost:8080/"
        },
        "id": "oAjWS-21EbMT",
        "outputId": "ecd8c341-efc8-48d7-82e9-6164a358e7a8"
      },
      "source": [
        "any([False,False,True])"
      ],
      "execution_count": 163,
      "outputs": [
        {
          "output_type": "execute_result",
          "data": {
            "text/plain": [
              "True"
            ]
          },
          "metadata": {},
          "execution_count": 163
        }
      ]
    },
    {
      "cell_type": "code",
      "metadata": {
        "cell_id": "00150-457d1a36-ff2e-4536-9ed8-93f5a576d699",
        "deepnote_cell_type": "code",
        "deepnote_to_be_reexecuted": false,
        "execution_millis": 42,
        "execution_start": 1627061327173,
        "source_hash": "53e77c51",
        "tags": [],
        "colab": {
          "base_uri": "https://localhost:8080/"
        },
        "id": "-WctZPR2EbMT",
        "outputId": "6bf1a245-b0d8-4d33-f156-3bca9b0cb267"
      },
      "source": [
        "all([False,False,True]) #Pregunta si todos los elementos son falsos"
      ],
      "execution_count": 164,
      "outputs": [
        {
          "output_type": "execute_result",
          "data": {
            "text/plain": [
              "False"
            ]
          },
          "metadata": {},
          "execution_count": 164
        }
      ]
    },
    {
      "cell_type": "code",
      "metadata": {
        "cell_id": "00151-c4913ce3-2f69-403f-bfcb-ae8ad7b6bcdb",
        "deepnote_cell_type": "code",
        "deepnote_to_be_reexecuted": false,
        "execution_millis": 83,
        "execution_start": 1627061347380,
        "source_hash": "2b9de73e",
        "tags": [],
        "colab": {
          "base_uri": "https://localhost:8080/"
        },
        "id": "FBFh0CSiEbMV",
        "outputId": "5e0a981a-a6ef-4e7d-acf8-06f1fc48e574"
      },
      "source": [
        "all([True,True,True])"
      ],
      "execution_count": 165,
      "outputs": [
        {
          "output_type": "execute_result",
          "data": {
            "text/plain": [
              "True"
            ]
          },
          "metadata": {},
          "execution_count": 165
        }
      ]
    },
    {
      "cell_type": "markdown",
      "metadata": {
        "cell_id": "00142-f1e3f95e-52a8-4546-9dfb-e628aee03dad",
        "deepnote_cell_type": "markdown",
        "id": "n5PCnFO3F_z1"
      },
      "source": [
        "### List Comprehensions"
      ]
    },
    {
      "cell_type": "markdown",
      "metadata": {
        "cell_id": "00143-cd725699-69ce-4b14-9331-fc3e1b984d0e",
        "deepnote_cell_type": "markdown",
        "id": "mels66d2F_z2"
      },
      "source": [
        "Taken from [here](https://docs.python.org/3/tutorial/datastructures.html#list-comprehensions): List comprehensions provide a concise way to create lists. Common applications are to make new lists where each element is the result of some operations applied to each member of another sequence or iterable, or to create a subsequence of those elements that satisfy a certain condition."
      ]
    },
    {
      "cell_type": "code",
      "metadata": {
        "cell_id": "00144-d03421d8-09dd-4c54-95fc-ff2e296eb5d3",
        "colab": {
          "base_uri": "https://localhost:8080/"
        },
        "deepnote_cell_type": "code",
        "deepnote_to_be_reexecuted": false,
        "execution_millis": 12,
        "execution_start": 1627055611742,
        "id": "o0BpeNa0F_z3",
        "source_hash": "53b8c8a9",
        "outputId": "ac23b9bd-f469-49cf-8a1c-3d0715afd123"
      },
      "source": [
        "[x**2 for x in range(10)]"
      ],
      "execution_count": 166,
      "outputs": [
        {
          "output_type": "execute_result",
          "data": {
            "text/plain": [
              "[0, 1, 4, 9, 16, 25, 36, 49, 64, 81]"
            ]
          },
          "metadata": {},
          "execution_count": 166
        }
      ]
    },
    {
      "cell_type": "code",
      "metadata": {
        "cell_id": "00149-1607ced4-e77c-40b9-b275-24353bfaf291",
        "deepnote_cell_type": "code",
        "deepnote_to_be_reexecuted": false,
        "execution_millis": 11,
        "execution_start": 1627056290818,
        "source_hash": "b593dd3d",
        "tags": [],
        "colab": {
          "base_uri": "https://localhost:8080/"
        },
        "id": "X5Th6hQYEbMX",
        "outputId": "6e0b559d-911b-427a-e93c-2ccb36031a5e"
      },
      "source": [
        "[x**2 for x in range(2,10,2)]"
      ],
      "execution_count": 167,
      "outputs": [
        {
          "output_type": "execute_result",
          "data": {
            "text/plain": [
              "[4, 16, 36, 64]"
            ]
          },
          "metadata": {},
          "execution_count": 167
        }
      ]
    },
    {
      "cell_type": "code",
      "metadata": {
        "cell_id": "00145-27cc9103-afe6-4897-ab89-e7e1d0f34741",
        "colab": {
          "base_uri": "https://localhost:8080/"
        },
        "deepnote_cell_type": "code",
        "deepnote_to_be_reexecuted": false,
        "execution_millis": 21,
        "execution_start": 1627055632524,
        "id": "AQW_kdviF_z5",
        "source_hash": "ffd3f664",
        "outputId": "6d9777e9-4270-43ed-c9c1-cff4d37c1021"
      },
      "source": [
        "[[x, y] for x in [1,2,3] for y in [3,1,4] if x != y] #Intentar para estadística "
      ],
      "execution_count": 168,
      "outputs": [
        {
          "output_type": "execute_result",
          "data": {
            "text/plain": [
              "[[1, 3], [1, 4], [2, 3], [2, 1], [2, 4], [3, 1], [3, 4]]"
            ]
          },
          "metadata": {},
          "execution_count": 168
        }
      ]
    },
    {
      "cell_type": "markdown",
      "metadata": {
        "id": "wpYuG7xRMxJm"
      },
      "source": [
        "_Activity_: Change the condition with different and ordered integers:\n",
        "[[1, 3], [1, 4], [2, 3], [2, 1], [2, 4], [3, 4]]"
      ]
    },
    {
      "cell_type": "code",
      "metadata": {
        "colab": {
          "base_uri": "https://localhost:8080/"
        },
        "id": "IdwlOAJkMwdK",
        "outputId": "cee20bef-3dc7-4444-d02e-2fd21f7d5c40"
      },
      "source": [
        "[[x, y] for x in [1,2,3] for y in [3,1,4] if x < y ]"
      ],
      "execution_count": 169,
      "outputs": [
        {
          "output_type": "execute_result",
          "data": {
            "text/plain": [
              "[[1, 3], [1, 4], [2, 3], [2, 4], [3, 4]]"
            ]
          },
          "metadata": {},
          "execution_count": 169
        }
      ]
    },
    {
      "cell_type": "code",
      "metadata": {
        "cell_id": "00146-be9ef7b8-23ce-4681-94cb-53e349445bb7",
        "deepnote_cell_type": "code",
        "deepnote_to_be_reexecuted": false,
        "execution_millis": 6,
        "execution_start": 1627055660948,
        "id": "2Zl1DwNy40Z7",
        "source_hash": "2b33c16d"
      },
      "source": [
        "l=[ ['A','B','C'],['D','E','F'],['G','H','I']  ]"
      ],
      "execution_count": 170,
      "outputs": []
    },
    {
      "cell_type": "markdown",
      "metadata": {
        "cell_id": "00147-e91196c0-77fc-4b30-a17c-9617e71f5937",
        "deepnote_cell_type": "markdown",
        "id": "MMPgcuo_40Z-"
      },
      "source": [
        "we can extract the list that contains `'H'`"
      ]
    },
    {
      "cell_type": "code",
      "metadata": {
        "cell_id": "00153-0cf5909e-7024-4676-a97b-770f9e396b18",
        "deepnote_cell_type": "code",
        "deepnote_to_be_reexecuted": false,
        "execution_millis": 14,
        "execution_start": 1627055872147,
        "source_hash": "8e79fb42",
        "tags": [],
        "colab": {
          "base_uri": "https://localhost:8080/"
        },
        "id": "q1e1JCQvEbMZ",
        "outputId": "1adaffe6-94a6-43e6-e803-65f322d56d66"
      },
      "source": [
        "[ll for ll in l if 'H' in ll]"
      ],
      "execution_count": 171,
      "outputs": [
        {
          "output_type": "execute_result",
          "data": {
            "text/plain": [
              "[['G', 'H', 'I']]"
            ]
          },
          "metadata": {},
          "execution_count": 171
        }
      ]
    },
    {
      "cell_type": "code",
      "metadata": {
        "cell_id": "00154-b8a38b7b-ceca-4e7b-9251-b920e7ba902c",
        "deepnote_cell_type": "code",
        "deepnote_to_be_reexecuted": false,
        "execution_millis": 10,
        "execution_start": 1627055957594,
        "source_hash": "7a5cfca9",
        "tags": [],
        "colab": {
          "base_uri": "https://localhost:8080/"
        },
        "id": "YMdsS5oREbMZ",
        "outputId": "cdf7a6c0-f33d-405c-9d9f-0965a3a1f61c"
      },
      "source": [
        "'H' in l"
      ],
      "execution_count": 172,
      "outputs": [
        {
          "output_type": "execute_result",
          "data": {
            "text/plain": [
              "False"
            ]
          },
          "metadata": {},
          "execution_count": 172
        }
      ]
    },
    {
      "cell_type": "code",
      "metadata": {
        "cell_id": "00154-592b9433-ca61-4ddc-b70d-23fab88c4d11",
        "deepnote_cell_type": "code",
        "deepnote_to_be_reexecuted": false,
        "execution_millis": 14,
        "execution_start": 1627055938471,
        "source_hash": "c3ba2c1d",
        "tags": [],
        "colab": {
          "base_uri": "https://localhost:8080/"
        },
        "id": "vMNEKt1REbMZ",
        "outputId": "16726d21-5d6e-4a43-c544-8904206e8a75"
      },
      "source": [
        "['G','H','I'] in l"
      ],
      "execution_count": 173,
      "outputs": [
        {
          "output_type": "execute_result",
          "data": {
            "text/plain": [
              "True"
            ]
          },
          "metadata": {},
          "execution_count": 173
        }
      ]
    },
    {
      "cell_type": "markdown",
      "metadata": {
        "cell_id": "00149-ba2b3d50-e292-42a0-b183-849aad668e48",
        "deepnote_cell_type": "markdown",
        "id": "J0-SP0qP40aB"
      },
      "source": [
        "### Reversed comprehension\n",
        "We can use the method `reversed(...)` to generate an iterator with the revesersed list so that the original list is kept."
      ]
    },
    {
      "cell_type": "code",
      "metadata": {
        "cell_id": "00150-a8e26da0-94cf-4991-8a4a-f7ed1dd218d2",
        "deepnote_cell_type": "code",
        "deepnote_to_be_reexecuted": false,
        "execution_millis": 15,
        "execution_start": 1627056013024,
        "source_hash": "8a17b22b",
        "colab": {
          "base_uri": "https://localhost:8080/"
        },
        "id": "GgKySj8REbMa",
        "outputId": "baf59c03-b020-4b8f-895e-58886dddc5c7"
      },
      "source": [
        "lista"
      ],
      "execution_count": 174,
      "outputs": [
        {
          "output_type": "execute_result",
          "data": {
            "text/plain": [
              "[True, 42, 'I am second', 'xyz']"
            ]
          },
          "metadata": {},
          "execution_count": 174
        }
      ]
    },
    {
      "cell_type": "code",
      "metadata": {
        "cell_id": "00151-c5f30d41-9775-4dbb-a741-bd2947f8f444",
        "colab": {
          "base_uri": "https://localhost:8080/"
        },
        "deepnote_cell_type": "code",
        "deepnote_to_be_reexecuted": false,
        "execution_millis": 0,
        "execution_start": 1627056026414,
        "id": "1XNRSTG040aF",
        "source_hash": "ec1b4107",
        "outputId": "3819c71e-230c-46a9-84d5-14612a7c0ea8"
      },
      "source": [
        "print('reversed: {}'.format( list(reversed(lista)) ))\n",
        "print('original: {}'.format(lista))"
      ],
      "execution_count": 175,
      "outputs": [
        {
          "output_type": "stream",
          "name": "stdout",
          "text": [
            "reversed: ['xyz', 'I am second', 42, True]\n",
            "original: [True, 42, 'I am second', 'xyz']\n"
          ]
        }
      ]
    },
    {
      "cell_type": "code",
      "metadata": {
        "cell_id": "00152-794b53b9-d350-4b65-857c-d49bb9da22f0",
        "deepnote_cell_type": "code",
        "id": "6HxZreij_5tu"
      },
      "source": [
        ""
      ],
      "execution_count": 175,
      "outputs": []
    },
    {
      "cell_type": "markdown",
      "metadata": {
        "cell_id": "00153-98fee61f-e155-45ea-ae9a-59845ba49a0a",
        "deepnote_cell_type": "markdown",
        "id": "txgjCoaIF_z7"
      },
      "source": [
        "## Tuples"
      ]
    },
    {
      "cell_type": "markdown",
      "metadata": {
        "cell_id": "00154-5a0084bd-f33e-47e1-a5a1-3e513e36368a",
        "deepnote_cell_type": "markdown",
        "id": "OtJzxOFtF_z8"
      },
      "source": [
        "A tuple is almost equal to a list, except that once declared its elements, it is not possible to modify them. Therefore, tuples are useful only when you want to store some elements but not modify them."
      ]
    },
    {
      "cell_type": "code",
      "metadata": {
        "cell_id": "00155-256f5c89-6a1b-474d-91c2-982e7bb4f433",
        "colab": {
          "base_uri": "https://localhost:8080/"
        },
        "deepnote_cell_type": "code",
        "id": "f3skilG2F_z8",
        "outputId": "8b7275b9-04b6-42d6-ae0e-9709ca9ade5e"
      },
      "source": [
        "#A tuple is declared using ()\n",
        "tupla = (\"abc\", 42, 3.1415)\n",
        "tupla"
      ],
      "execution_count": 176,
      "outputs": [
        {
          "output_type": "execute_result",
          "data": {
            "text/plain": [
              "('abc', 42, 3.1415)"
            ]
          },
          "metadata": {},
          "execution_count": 176
        }
      ]
    },
    {
      "cell_type": "code",
      "metadata": {
        "colab": {
          "base_uri": "https://localhost:8080/"
        },
        "id": "wl3M4P_XO3Jk",
        "outputId": "853d77ea-9609-45ed-e5af-0a508e514d96"
      },
      "source": [
        "# Para crear una tupla vacia \n",
        "s=()\n",
        "print(type(s))\n",
        "len(s)"
      ],
      "execution_count": 177,
      "outputs": [
        {
          "output_type": "stream",
          "name": "stdout",
          "text": [
            "<class 'tuple'>\n"
          ]
        },
        {
          "output_type": "execute_result",
          "data": {
            "text/plain": [
              "0"
            ]
          },
          "metadata": {},
          "execution_count": 177
        }
      ]
    },
    {
      "cell_type": "markdown",
      "metadata": {
        "cell_id": "00156-44f08913-fa8d-45ad-b1b7-29bfec4bcdd6",
        "deepnote_cell_type": "markdown",
        "id": "uhv7dS2Q-2uh"
      },
      "source": [
        "Note: single element tuple"
      ]
    },
    {
      "cell_type": "code",
      "metadata": {
        "cell_id": "00157-0bf093c5-fcd7-4037-bebf-e6da8d4a84c6",
        "deepnote_cell_type": "code",
        "deepnote_to_be_reexecuted": false,
        "execution_millis": 1,
        "execution_start": 1627056061261,
        "source_hash": "36ea1d96",
        "colab": {
          "base_uri": "https://localhost:8080/"
        },
        "id": "yMpRSIAmEbMb",
        "outputId": "4a694b5b-411f-4a4a-c5ca-e0cf862f9127"
      },
      "source": [
        "(2) #equivalent to 2"
      ],
      "execution_count": 178,
      "outputs": [
        {
          "output_type": "execute_result",
          "data": {
            "text/plain": [
              "2"
            ]
          },
          "metadata": {},
          "execution_count": 178
        }
      ]
    },
    {
      "cell_type": "code",
      "metadata": {
        "cell_id": "00158-e728a1f9-7751-45e2-8143-436b36f676b8",
        "deepnote_cell_type": "code",
        "deepnote_to_be_reexecuted": false,
        "execution_millis": 4,
        "execution_start": 1627056074298,
        "id": "gZlzseaI-8Xm",
        "source_hash": "fc89a494"
      },
      "source": [
        "t=(2,) # Tupla con un único elemento\n"
      ],
      "execution_count": 179,
      "outputs": []
    },
    {
      "cell_type": "code",
      "metadata": {
        "colab": {
          "base_uri": "https://localhost:8080/"
        },
        "id": "J9YEFvYpPDkM",
        "outputId": "9e89c3f8-8481-4be6-a168-45c71f57ec6c"
      },
      "source": [
        "len(t)"
      ],
      "execution_count": 180,
      "outputs": [
        {
          "output_type": "execute_result",
          "data": {
            "text/plain": [
              "1"
            ]
          },
          "metadata": {},
          "execution_count": 180
        }
      ]
    },
    {
      "cell_type": "code",
      "metadata": {
        "cell_id": "00159-ad542ff7-19c9-4aff-99a3-baac96e5ecb1",
        "colab": {
          "base_uri": "https://localhost:8080/"
        },
        "deepnote_cell_type": "code",
        "id": "Fu11CK1L_TYA",
        "outputId": "c7a756d7-d85c-41ec-e001-89073891958e"
      },
      "source": [
        "len(t)"
      ],
      "execution_count": 181,
      "outputs": [
        {
          "output_type": "execute_result",
          "data": {
            "text/plain": [
              "1"
            ]
          },
          "metadata": {},
          "execution_count": 181
        }
      ]
    },
    {
      "cell_type": "code",
      "metadata": {
        "cell_id": "00160-b811c8ab-f84a-46b9-bc19-fb607985fbfc",
        "colab": {
          "base_uri": "https://localhost:8080/"
        },
        "deepnote_cell_type": "code",
        "deepnote_to_be_reexecuted": false,
        "execution_millis": 18,
        "execution_start": 1627056079374,
        "id": "slJ7Lrfh_XAb",
        "source_hash": "5a4849fa",
        "outputId": "e95fcc55-facf-44e8-f611-9ca902527a8c"
      },
      "source": [
        "t[0]"
      ],
      "execution_count": 182,
      "outputs": [
        {
          "output_type": "execute_result",
          "data": {
            "text/plain": [
              "2"
            ]
          },
          "metadata": {},
          "execution_count": 182
        }
      ]
    },
    {
      "cell_type": "markdown",
      "metadata": {
        "cell_id": "00161-3f420b93-2467-4cd1-a97b-15b274dcc657",
        "deepnote_cell_type": "markdown",
        "id": "x3M6C67140aW"
      },
      "source": [
        "The comprenhension tuple also works"
      ]
    },
    {
      "cell_type": "code",
      "metadata": {
        "cell_id": "00162-a415fe35-389c-414c-a715-b680e65d3f41",
        "colab": {
          "base_uri": "https://localhost:8080/"
        },
        "deepnote_cell_type": "code",
        "id": "PYlzClDB40aX",
        "outputId": "0d5ba611-3300-4314-da3f-327b539e2000"
      },
      "source": [
        "tuple( (t for t in tupla)  )"
      ],
      "execution_count": 183,
      "outputs": [
        {
          "output_type": "execute_result",
          "data": {
            "text/plain": [
              "('abc', 42, 3.1415)"
            ]
          },
          "metadata": {},
          "execution_count": 183
        }
      ]
    },
    {
      "cell_type": "markdown",
      "metadata": {
        "cell_id": "00163-6ec69b7f-7fc2-451e-9672-7a13487adb97",
        "deepnote_cell_type": "markdown",
        "id": "gh7KXCGH40aa"
      },
      "source": [
        "`any` can extract a true value from a comprension tuple (see also `all`: https://docs.python.org/3/library/functions.html#all). \n",
        "In fact, for the following nested list:"
      ]
    },
    {
      "cell_type": "code",
      "metadata": {
        "cell_id": "00164-358dc760-b8e8-4585-bfcd-93d6241b7144",
        "deepnote_cell_type": "code",
        "id": "gM2YlwEF40aa"
      },
      "source": [
        "l=[ ['A','B','C'],['D','E','F'],['G','H','I']   ]"
      ],
      "execution_count": 184,
      "outputs": []
    },
    {
      "cell_type": "markdown",
      "metadata": {
        "cell_id": "00165-7820b06a-4910-4efd-90d2-37e9738bbef6",
        "deepnote_cell_type": "markdown",
        "id": "-3ZrGX6K40ac"
      },
      "source": [
        "we can extract the list that contains `'H'` more easily"
      ]
    },
    {
      "cell_type": "code",
      "metadata": {
        "cell_id": "00166-1f463c7a-074e-42be-ae04-2d4f44be198d",
        "deepnote_cell_type": "code",
        "colab": {
          "base_uri": "https://localhost:8080/"
        },
        "id": "36ox1kNYEbMd",
        "outputId": "814c9f1e-85d4-4d50-c079-da1e4350ac6a"
      },
      "source": [
        "[ll for ll in l]"
      ],
      "execution_count": 185,
      "outputs": [
        {
          "output_type": "execute_result",
          "data": {
            "text/plain": [
              "[['A', 'B', 'C'], ['D', 'E', 'F'], ['G', 'H', 'I']]"
            ]
          },
          "metadata": {},
          "execution_count": 185
        }
      ]
    },
    {
      "cell_type": "code",
      "metadata": {
        "cell_id": "00167-0a3f82b7-bcab-4f03-ae92-8a3f1a450853",
        "deepnote_cell_type": "code",
        "colab": {
          "base_uri": "https://localhost:8080/"
        },
        "id": "VAUajIqWEbMe",
        "outputId": "51a2f33f-b909-4b16-d1c4-186eb282a8f2"
      },
      "source": [
        "any((s=='L' for s in ['G', 'H', 'I']))"
      ],
      "execution_count": 186,
      "outputs": [
        {
          "output_type": "execute_result",
          "data": {
            "text/plain": [
              "False"
            ]
          },
          "metadata": {},
          "execution_count": 186
        }
      ]
    },
    {
      "cell_type": "code",
      "metadata": {
        "cell_id": "00168-14ee9a7d-a062-410d-b932-0eab109beac8",
        "colab": {
          "base_uri": "https://localhost:8080/"
        },
        "deepnote_cell_type": "code",
        "id": "_ltlDGMz40ad",
        "outputId": "229433cf-5dfd-481d-ddef-5188de868d9a"
      },
      "source": [
        "[ll for ll in l if any( s=='H' for s in ll  ) ]"
      ],
      "execution_count": 187,
      "outputs": [
        {
          "output_type": "execute_result",
          "data": {
            "text/plain": [
              "[['G', 'H', 'I']]"
            ]
          },
          "metadata": {},
          "execution_count": 187
        }
      ]
    },
    {
      "cell_type": "markdown",
      "metadata": {
        "cell_id": "00169-803fda79-7313-4eaa-b867-b4748e3bb3b1",
        "deepnote_cell_type": "markdown",
        "id": "J9rPXb0a40ag"
      },
      "source": [
        "With the function `zip` we can generate dictionary-like tuple from two lists:"
      ]
    },
    {
      "cell_type": "code",
      "metadata": {
        "cell_id": "00170-3a093a73-05f4-40ee-82b8-8bc36637618b",
        "colab": {
          "base_uri": "https://localhost:8080/"
        },
        "deepnote_cell_type": "code",
        "id": "13619Vve_qNE",
        "outputId": "7011a906-fab2-4035-bb63-e1d3c3fb9649"
      },
      "source": [
        "list(zip( ['A','B','C'],[1,2,3]  ))"
      ],
      "execution_count": 188,
      "outputs": [
        {
          "output_type": "execute_result",
          "data": {
            "text/plain": [
              "[('A', 1), ('B', 2), ('C', 3)]"
            ]
          },
          "metadata": {},
          "execution_count": 188
        }
      ]
    },
    {
      "cell_type": "code",
      "metadata": {
        "cell_id": "00171-0474af69-315e-402d-8775-19f56274b0ef",
        "colab": {
          "base_uri": "https://localhost:8080/"
        },
        "deepnote_cell_type": "code",
        "id": "qVT1k-en40ag",
        "outputId": "61766072-96f2-4e8f-ab90-cf97b7ec1318"
      },
      "source": [
        "list(zip( ['A','B','C'],[1,2,3]  )) #Crea tuplas con elementos asociados a pares de listas"
      ],
      "execution_count": 189,
      "outputs": [
        {
          "output_type": "execute_result",
          "data": {
            "text/plain": [
              "[('A', 1), ('B', 2), ('C', 3)]"
            ]
          },
          "metadata": {},
          "execution_count": 189
        }
      ]
    },
    {
      "cell_type": "code",
      "metadata": {
        "cell_id": "00172-928ae2c5-c92b-4ec5-b7ff-d3c8195dc2f9",
        "colab": {
          "base_uri": "https://localhost:8080/",
          "height": 190
        },
        "deepnote_cell_type": "code",
        "id": "uAiixodKF_z-",
        "outputId": "a728b515-91ec-46f4-be75-d75048e2998a"
      },
      "source": [
        "#It is not possible to add more elements\n",
        "tupla.append(\"xy\")"
      ],
      "execution_count": 190,
      "outputs": [
        {
          "output_type": "error",
          "ename": "AttributeError",
          "evalue": "ignored",
          "traceback": [
            "\u001b[0;31m---------------------------------------------------------------------------\u001b[0m",
            "\u001b[0;31mAttributeError\u001b[0m                            Traceback (most recent call last)",
            "\u001b[0;32m<ipython-input-190-4cc56b436273>\u001b[0m in \u001b[0;36m<module>\u001b[0;34m()\u001b[0m\n\u001b[1;32m      1\u001b[0m \u001b[0;31m#It is not possible to add more elements\u001b[0m\u001b[0;34m\u001b[0m\u001b[0;34m\u001b[0m\u001b[0;34m\u001b[0m\u001b[0m\n\u001b[0;32m----> 2\u001b[0;31m \u001b[0mtupla\u001b[0m\u001b[0;34m.\u001b[0m\u001b[0mappend\u001b[0m\u001b[0;34m(\u001b[0m\u001b[0;34m\"xy\"\u001b[0m\u001b[0;34m)\u001b[0m\u001b[0;34m\u001b[0m\u001b[0;34m\u001b[0m\u001b[0m\n\u001b[0m",
            "\u001b[0;31mAttributeError\u001b[0m: 'tuple' object has no attribute 'append'"
          ]
        }
      ]
    },
    {
      "cell_type": "code",
      "metadata": {
        "cell_id": "00173-b004a635-74e6-4739-88a8-ffab9d845090",
        "deepnote_cell_type": "code",
        "id": "GiY-kyfHF_0A"
      },
      "source": [
        "#It is not possible to delete an element\n",
        "del tupla[0]"
      ],
      "execution_count": null,
      "outputs": []
    },
    {
      "cell_type": "code",
      "metadata": {
        "cell_id": "00174-30f10522-e562-422a-af00-376cce233822",
        "deepnote_cell_type": "code",
        "id": "jwJPysSkF_0D"
      },
      "source": [
        "#It is not possible to modify an existing element\n",
        "tupla[0] = \"xy\""
      ],
      "execution_count": null,
      "outputs": []
    },
    {
      "cell_type": "markdown",
      "metadata": {
        "cell_id": "00175-acb86315-216f-43fd-b3f1-6b1d62f8e1ee",
        "deepnote_cell_type": "markdown",
        "id": "rafwug2SF_0F"
      },
      "source": [
        "## Dictionaries"
      ]
    },
    {
      "cell_type": "markdown",
      "metadata": {
        "cell_id": "00176-0dee92e2-0919-4509-ab7b-8c4ae026afe2",
        "deepnote_cell_type": "markdown",
        "id": "7vlLjdVRF_0G"
      },
      "source": [
        "Dictionaries are labeled lists: with keys and values. They are extremely useful when manipulating complex data. In Wolfram Alpha the equivalent object is called [Associations](https://reference.wolfram.com/language/guide/Associations.html)"
      ]
    },
    {
      "cell_type": "code",
      "metadata": {
        "cell_id": "00177-2aad3f22-aeba-4264-9e09-82f40f9a9052",
        "colab": {
          "base_uri": "https://localhost:8080/"
        },
        "deepnote_cell_type": "code",
        "deepnote_to_be_reexecuted": false,
        "execution_millis": 10,
        "execution_start": 1628262626619,
        "id": "vUXMEigkF_0G",
        "source_hash": "7abfe7bf",
        "outputId": "67455450-2b66-490d-ee6c-8f11719e0b05"
      },
      "source": [
        "#A dictionary is declared using {}, and specifying the name of the component, then the character : followed by the element to store.\n",
        "dictionary={ 'Kenia'         :'Nairobi',\n",
        "             'Noruega'       :'Oslo',\n",
        "             'Finlandia'     :'Helsinski',\n",
        "             'Rusia'         :'Moscú',\n",
        "             'Rio de Janeiro':'Rio',\n",
        "             'Japón'         :'Tokio',\n",
        "             'Colorado'      :'Denver',\n",
        "             'Alemania'      :'Berlin',\n",
        "             'Colombia'      :'Bogotá'}\n",
        "print(dictionary)\n",
        "#Note the order in a dictionary does not matter as one identifies a single element through a string, not a number"
      ],
      "execution_count": 218,
      "outputs": [
        {
          "output_type": "stream",
          "name": "stdout",
          "text": [
            "{'Kenia': 'Nairobi', 'Noruega': 'Oslo', 'Finlandia': 'Helsinski', 'Rusia': 'Moscú', 'Rio de Janeiro': 'Rio', 'Japón': 'Tokio', 'Colorado': 'Denver', 'Alemania': 'Berlin', 'Colombia': 'Bogotá'}\n"
          ]
        }
      ]
    },
    {
      "cell_type": "markdown",
      "metadata": {
        "cell_id": "00178-f0530215-2bee-40ff-b000-f658b73c3fa9",
        "deepnote_cell_type": "markdown",
        "id": "IWoHFWTx40av"
      },
      "source": [
        "Instead of a number, an element of a dictionary is accessed with the key of the component"
      ]
    },
    {
      "cell_type": "code",
      "metadata": {
        "cell_id": "00179-cf329bd3-ad70-480b-bbad-53f885000c47",
        "deepnote_cell_type": "code",
        "deepnote_to_be_reexecuted": false,
        "execution_millis": 17,
        "execution_start": 1628262629960,
        "source_hash": "1dd6b4f7",
        "colab": {
          "base_uri": "https://localhost:8080/"
        },
        "id": "1MZZ_oO7EbMi",
        "outputId": "10756413-9780-4b7d-cbce-4a11f533f79a"
      },
      "source": [
        "dictionary"
      ],
      "execution_count": 219,
      "outputs": [
        {
          "output_type": "execute_result",
          "data": {
            "text/plain": [
              "{'Alemania': 'Berlin',\n",
              " 'Colombia': 'Bogotá',\n",
              " 'Colorado': 'Denver',\n",
              " 'Finlandia': 'Helsinski',\n",
              " 'Japón': 'Tokio',\n",
              " 'Kenia': 'Nairobi',\n",
              " 'Noruega': 'Oslo',\n",
              " 'Rio de Janeiro': 'Rio',\n",
              " 'Rusia': 'Moscú'}"
            ]
          },
          "metadata": {},
          "execution_count": 219
        }
      ]
    },
    {
      "cell_type": "code",
      "metadata": {
        "cell_id": "00180-03d84b01-c18b-4ff8-ba65-fab7292576b3",
        "colab": {
          "base_uri": "https://localhost:8080/"
        },
        "deepnote_cell_type": "code",
        "id": "bVHKdCigF_0K",
        "outputId": "15c8928a-59b8-44b0-d2d4-ad8a656005e3"
      },
      "source": [
        "print('{} ♥ {}'.format( dictionary['Japón'], dictionary['Rio de Janeiro']) )\n",
        "#A partir de una clave conocer un valor"
      ],
      "execution_count": 220,
      "outputs": [
        {
          "output_type": "stream",
          "name": "stdout",
          "text": [
            "Tokio ♥ Rio\n"
          ]
        }
      ]
    },
    {
      "cell_type": "code",
      "metadata": {
        "cell_id": "00181-721e1c8d-559d-4dec-9f51-16f1b699838c",
        "colab": {
          "base_uri": "https://localhost:8080/"
        },
        "deepnote_cell_type": "code",
        "deepnote_to_be_reexecuted": false,
        "execution_millis": 54,
        "execution_start": 1628262732927,
        "id": "QK-1FnAnF_0M",
        "source_hash": "e6b0b2a6",
        "outputId": "bdbb87f7-1c69-471e-a6a5-10e5072ce568"
      },
      "source": [
        "#The elements of the dictionary may be of any type\n",
        "dictionary2 = { \"Enteros\":[1,2,3,4,5], \n",
        "                \"Ciudad\" :\"Medellin\", \n",
        "                \"Cédula\" :1128400433, \n",
        "                \"Colores\":[\"Amarillo\", \"Azul\", \"Rojo\"] }\n",
        "print(dictionary2[\"Colores\"][1])"
      ],
      "execution_count": 221,
      "outputs": [
        {
          "output_type": "stream",
          "name": "stdout",
          "text": [
            "Azul\n"
          ]
        }
      ]
    },
    {
      "cell_type": "code",
      "metadata": {
        "cell_id": "00182-b05c88f3-8661-4d19-8786-4b6480f96ffb",
        "colab": {
          "base_uri": "https://localhost:8080/"
        },
        "deepnote_cell_type": "code",
        "deepnote_to_be_reexecuted": false,
        "execution_start": 1628262776687,
        "id": "j5epa2zcF_05",
        "source_hash": "7b0dd9f0",
        "outputId": "08eb7abc-5141-4d02-f30e-8224dd630b03"
      },
      "source": [
        "#The elements of the dictionary can be modified only by changing directly such an element\n",
        "dictionary2[\"Ciudad\"] = \"Bogota\"\n",
        "print(dictionary2)"
      ],
      "execution_count": 222,
      "outputs": [
        {
          "output_type": "stream",
          "name": "stdout",
          "text": [
            "{'Enteros': [1, 2, 3, 4, 5], 'Ciudad': 'Bogota', 'Cédula': 1128400433, 'Colores': ['Amarillo', 'Azul', 'Rojo']}\n"
          ]
        }
      ]
    },
    {
      "cell_type": "code",
      "metadata": {
        "cell_id": "00183-98bdbade-02ef-4c96-9274-7cdf846e87a9",
        "colab": {
          "base_uri": "https://localhost:8080/"
        },
        "deepnote_cell_type": "code",
        "deepnote_to_be_reexecuted": false,
        "execution_millis": 0,
        "execution_start": 1628262810808,
        "id": "fTtrGPXsF_08",
        "source_hash": "bb0e866d",
        "outputId": "bf5e5afc-2151-4c6a-982d-04681099b4a2"
      },
      "source": [
        "#Adding a new element is possible by only defining the new component\n",
        "dictionary2[\"Pais\"] = \"Colombia\"\n",
        "dictionary2[\"País\"] = \"Chile\"\n",
        "print( dictionary2 )"
      ],
      "execution_count": 223,
      "outputs": [
        {
          "output_type": "stream",
          "name": "stdout",
          "text": [
            "{'Enteros': [1, 2, 3, 4, 5], 'Ciudad': 'Bogota', 'Cédula': 1128400433, 'Colores': ['Amarillo', 'Azul', 'Rojo'], 'Pais': 'Colombia', 'País': 'Chile'}\n"
          ]
        }
      ]
    },
    {
      "cell_type": "code",
      "metadata": {
        "cell_id": "00184-4935b754-28ed-45b9-bfbf-4d87d820ddd9",
        "deepnote_cell_type": "code",
        "id": "qhMqpewqkxaF"
      },
      "source": [
        "#dictionary2.update({'Pais':'Colombia'})"
      ],
      "execution_count": 224,
      "outputs": []
    },
    {
      "cell_type": "markdown",
      "metadata": {
        "cell_id": "00198-08eff87f-6fa8-44b6-be20-20e993a3bb7e",
        "deepnote_cell_type": "markdown",
        "tags": [],
        "id": "mYwbRJriEbMk"
      },
      "source": [
        "List-like dictionary"
      ]
    },
    {
      "cell_type": "code",
      "metadata": {
        "cell_id": "00199-79ff680b-ea8f-4894-903f-1e662b463163",
        "deepnote_cell_type": "code",
        "deepnote_to_be_reexecuted": false,
        "execution_millis": 13,
        "execution_start": 1628262965489,
        "source_hash": "63b2cce9",
        "tags": [],
        "colab": {
          "base_uri": "https://localhost:8080/"
        },
        "id": "iww9QZNEEbMk",
        "outputId": "7cd60368-469e-498c-a41b-825824a7c581"
      },
      "source": [
        "l={0:45,1:345,2:987}\n",
        "l[0]"
      ],
      "execution_count": 225,
      "outputs": [
        {
          "output_type": "execute_result",
          "data": {
            "text/plain": [
              "45"
            ]
          },
          "metadata": {},
          "execution_count": 225
        }
      ]
    },
    {
      "cell_type": "code",
      "metadata": {
        "cell_id": "00200-12fd4aac-1894-4ddb-a7fc-4df171c6deef",
        "deepnote_cell_type": "code",
        "deepnote_to_be_reexecuted": false,
        "execution_millis": 5,
        "execution_start": 1628263125325,
        "source_hash": "b7fc3f07",
        "tags": [],
        "id": "XRNBSYlNEbMk"
      },
      "source": [
        "l={0.3:45}"
      ],
      "execution_count": 226,
      "outputs": []
    },
    {
      "cell_type": "code",
      "metadata": {
        "cell_id": "00201-7e3b1869-8cd3-4be6-b7b4-c660839ad1ac",
        "deepnote_cell_type": "code",
        "deepnote_to_be_reexecuted": false,
        "execution_millis": 13,
        "execution_start": 1628263144179,
        "source_hash": "662f52b",
        "tags": [],
        "colab": {
          "base_uri": "https://localhost:8080/"
        },
        "id": "uqZjq3vDEbMk",
        "outputId": "1b09235d-b80c-48de-d846-c42c526ba175"
      },
      "source": [
        "l[0.3]"
      ],
      "execution_count": 227,
      "outputs": [
        {
          "output_type": "execute_result",
          "data": {
            "text/plain": [
              "45"
            ]
          },
          "metadata": {},
          "execution_count": 227
        }
      ]
    },
    {
      "cell_type": "code",
      "metadata": {
        "cell_id": "00202-43aafd17-e1b3-4041-968f-5c5aac384a40",
        "deepnote_cell_type": "code",
        "deepnote_to_be_reexecuted": false,
        "execution_millis": 14,
        "execution_start": 1628263189146,
        "source_hash": "7217c2d4",
        "tags": [],
        "colab": {
          "base_uri": "https://localhost:8080/",
          "height": 35
        },
        "id": "TJ1oLJzEEbMk",
        "outputId": "91b90e6d-bb01-45a4-a1e2-233b35a76244"
      },
      "source": [
        "d={True:'Verdadero'}\n",
        "d[True]"
      ],
      "execution_count": 228,
      "outputs": [
        {
          "output_type": "execute_result",
          "data": {
            "application/vnd.google.colaboratory.intrinsic+json": {
              "type": "string"
            },
            "text/plain": [
              "'Verdadero'"
            ]
          },
          "metadata": {},
          "execution_count": 228
        }
      ]
    },
    {
      "cell_type": "code",
      "metadata": {
        "cell_id": "00185-dd7f8b7a-a84c-43cc-94bf-920eff10ceed",
        "colab": {
          "base_uri": "https://localhost:8080/"
        },
        "deepnote_cell_type": "code",
        "deepnote_to_be_reexecuted": false,
        "execution_millis": 10,
        "execution_start": 1628263226763,
        "id": "X3Knds5oF_0_",
        "source_hash": "1bb3d1ae",
        "outputId": "1b9bfe73-ade4-4e9d-b1a3-67981751dcb6"
      },
      "source": [
        "#The command del can be also used for deleting an element, as a list\n",
        "del dictionary2[\"Pais\"]\n",
        "print(dictionary2)"
      ],
      "execution_count": 229,
      "outputs": [
        {
          "output_type": "stream",
          "name": "stdout",
          "text": [
            "{'Enteros': [1, 2, 3, 4, 5], 'Ciudad': 'Bogota', 'Cédula': 1128400433, 'Colores': ['Amarillo', 'Azul', 'Rojo'], 'País': 'Chile'}\n"
          ]
        }
      ]
    },
    {
      "cell_type": "markdown",
      "metadata": {
        "cell_id": "00186-8e520c46-2726-484a-84d8-e27f8d5b912f",
        "deepnote_cell_type": "markdown",
        "id": "U51G2o8M40a7"
      },
      "source": [
        "With the previous `zip` function to create tuples from lists, we can create a dictionary from the two lists:"
      ]
    },
    {
      "cell_type": "code",
      "metadata": {
        "cell_id": "00205-ad5efcef-41d1-4613-8439-a0b2ee077304",
        "deepnote_cell_type": "code",
        "deepnote_to_be_reexecuted": false,
        "execution_millis": 13,
        "execution_start": 1628263341184,
        "source_hash": "27b839db",
        "tags": [],
        "colab": {
          "base_uri": "https://localhost:8080/"
        },
        "id": "J4f8mxNHEbMl",
        "outputId": "8b2ebd2b-4471-4985-bcc3-858b67e883aa"
      },
      "source": [
        "list(zip( ['A','B','C'],[1,2,3]  )) #Crea diccionarios automáticamente"
      ],
      "execution_count": 230,
      "outputs": [
        {
          "output_type": "execute_result",
          "data": {
            "text/plain": [
              "[('A', 1), ('B', 2), ('C', 3)]"
            ]
          },
          "metadata": {},
          "execution_count": 230
        }
      ]
    },
    {
      "cell_type": "code",
      "metadata": {
        "cell_id": "00187-ac485a4d-8749-4147-9498-5b3df3fdeb78",
        "colab": {
          "base_uri": "https://localhost:8080/"
        },
        "deepnote_cell_type": "code",
        "deepnote_to_be_reexecuted": false,
        "execution_millis": 21,
        "execution_start": 1628263330801,
        "id": "h_mODhqZ40a7",
        "source_hash": "98167189",
        "outputId": "b92b496b-3992-4be6-edcd-c83b3c26258c"
      },
      "source": [
        "dict(zip( ['A','B','C'],[1,2,3]  ))"
      ],
      "execution_count": 231,
      "outputs": [
        {
          "output_type": "execute_result",
          "data": {
            "text/plain": [
              "{'A': 1, 'B': 2, 'C': 3}"
            ]
          },
          "metadata": {},
          "execution_count": 231
        }
      ]
    },
    {
      "cell_type": "markdown",
      "metadata": {
        "cell_id": "00188-7ad8d760-6220-48a9-bcff-9e5a1b3535bd",
        "deepnote_cell_type": "markdown",
        "id": "LxMk7Iq3kAJm"
      },
      "source": [
        "**Activity**: Creates a diccionary for the values: `['xyz',3,4.5]` with integer keys starting with zero. In this way, the dictionary could behave as list"
      ]
    },
    {
      "cell_type": "code",
      "metadata": {
        "colab": {
          "base_uri": "https://localhost:8080/"
        },
        "id": "lZWH3LMIR1dQ",
        "outputId": "6ba95462-f05f-4a2d-96ab-b5532304ffbb"
      },
      "source": [
        "list(zip([0,1,2],['xyz',3,3.45] ))"
      ],
      "execution_count": 232,
      "outputs": [
        {
          "output_type": "execute_result",
          "data": {
            "text/plain": [
              "[(0, 'xyz'), (1, 3), (2, 3.45)]"
            ]
          },
          "metadata": {},
          "execution_count": 232
        }
      ]
    },
    {
      "cell_type": "code",
      "metadata": {
        "cell_id": "00189-3ef32f75-5897-4dc1-872a-d7815babd6bb",
        "deepnote_cell_type": "code",
        "deepnote_to_be_reexecuted": false,
        "execution_millis": 5,
        "execution_start": 1628263759228,
        "id": "UKRSPIQe40a9",
        "source_hash": "84df6609"
      },
      "source": [
        "l={}\n",
        "l[0]='xyz'\n",
        "l[1]=3\n",
        "l[2]=4.5"
      ],
      "execution_count": 233,
      "outputs": []
    },
    {
      "cell_type": "code",
      "metadata": {
        "cell_id": "00190-08da3f14-2724-4e9a-b9a9-ef38ce793782",
        "deepnote_cell_type": "code",
        "deepnote_to_be_reexecuted": false,
        "execution_millis": 11,
        "execution_start": 1628263387141,
        "source_hash": "66e02963",
        "colab": {
          "base_uri": "https://localhost:8080/"
        },
        "id": "7AZWYoLkEbMl",
        "outputId": "dcc6f4f9-b7a3-4d07-e1e8-89973e02d10e"
      },
      "source": [
        "l"
      ],
      "execution_count": 234,
      "outputs": [
        {
          "output_type": "execute_result",
          "data": {
            "text/plain": [
              "{0: 'xyz', 1: 3, 2: 4.5}"
            ]
          },
          "metadata": {},
          "execution_count": 234
        }
      ]
    },
    {
      "cell_type": "code",
      "metadata": {
        "cell_id": "00191-01697720-d3a4-40af-9ad9-db96ad98c5cf",
        "deepnote_cell_type": "code",
        "deepnote_to_be_reexecuted": false,
        "execution_millis": 15,
        "execution_start": 1628263800144,
        "source_hash": "6920433c",
        "colab": {
          "base_uri": "https://localhost:8080/",
          "height": 35
        },
        "id": "Z91EK8YbEbMm",
        "outputId": "8b585da6-c4e6-4019-a5f2-a5404c03d576"
      },
      "source": [
        "l[0]"
      ],
      "execution_count": 235,
      "outputs": [
        {
          "output_type": "execute_result",
          "data": {
            "application/vnd.google.colaboratory.intrinsic+json": {
              "type": "string"
            },
            "text/plain": [
              "'xyz'"
            ]
          },
          "metadata": {},
          "execution_count": 235
        }
      ]
    },
    {
      "cell_type": "code",
      "metadata": {
        "cell_id": "00211-57a55c71-25d6-45f4-acd2-a9ebb5986e2a",
        "deepnote_cell_type": "code",
        "deepnote_to_be_reexecuted": false,
        "execution_millis": 3,
        "execution_start": 1628263803460,
        "source_hash": "1d408dfc",
        "tags": [],
        "id": "aFsfqxH0EbMm"
      },
      "source": [
        "l.get(3)"
      ],
      "execution_count": 236,
      "outputs": []
    },
    {
      "cell_type": "markdown",
      "metadata": {
        "cell_id": "00206-924ed65c-1523-4caa-a508-2189973fbfb5",
        "deepnote_cell_type": "markdown",
        "tags": [],
        "id": "AEibORqdEbMm"
      },
      "source": [
        "### Non-relational databases\n",
        "A list of dictionaries is simple example of a non-relational database. Their main advantage is that with the proper glosary for the keys of the dictionaries the data analysis is well expressed through the impledmented code"
      ]
    },
    {
      "cell_type": "code",
      "metadata": {
        "cell_id": "00207-42f59028-7745-4a48-8040-90954edb5d78",
        "deepnote_cell_type": "code",
        "deepnote_to_be_reexecuted": false,
        "execution_millis": 1,
        "execution_start": 1628263979443,
        "source_hash": "1bba42f3",
        "tags": [],
        "id": "DJBi3F3IEbMm"
      },
      "source": [
        "people=[{'name':'Juan',  'last_name':'Valdez','age':25},\n",
        "        {'name':'Álvaro','last_name':'Uribe', 'age':69}\n",
        "       ] #Estructuta de datos"
      ],
      "execution_count": 245,
      "outputs": []
    },
    {
      "cell_type": "markdown",
      "metadata": {
        "cell_id": "00208-faf835dd-994f-497c-8138-61e65fe4c29f",
        "deepnote_cell_type": "markdown",
        "tags": [],
        "id": "Ht3uXg0TEbMm"
      },
      "source": [
        "Extract the last names from the `people` data base (Note the very expressive sintaxis!)"
      ]
    },
    {
      "cell_type": "code",
      "metadata": {
        "cell_id": "00209-2a51149d-f947-4107-bbd9-6afa6881ecd9",
        "deepnote_cell_type": "code",
        "deepnote_to_be_reexecuted": false,
        "execution_millis": 14,
        "execution_start": 1628263982113,
        "source_hash": "2606fa3f",
        "tags": [],
        "colab": {
          "base_uri": "https://localhost:8080/"
        },
        "id": "C4YKS-nkEbMm",
        "outputId": "e458ec75-afd4-4198-990f-d96b6fbea5f1"
      },
      "source": [
        "[d.get('last_name') for d in people] #get no escribe un valor si falta"
      ],
      "execution_count": 246,
      "outputs": [
        {
          "output_type": "execute_result",
          "data": {
            "text/plain": [
              "['Valdez', 'Uribe']"
            ]
          },
          "metadata": {},
          "execution_count": 246
        }
      ]
    },
    {
      "cell_type": "markdown",
      "metadata": {
        "cell_id": "00210-46baa099-4abe-486c-8b35-8bc442826702",
        "deepnote_cell_type": "markdown",
        "tags": [],
        "id": "H8e0BNshEbMm"
      },
      "source": [
        "Sum the ages"
      ]
    },
    {
      "cell_type": "code",
      "metadata": {
        "cell_id": "00211-cb9b466e-e45a-4de4-b98b-8f313026df6a",
        "deepnote_cell_type": "code",
        "deepnote_to_be_reexecuted": false,
        "execution_millis": 55,
        "execution_start": 1627063246851,
        "source_hash": "dc263bbf",
        "tags": [],
        "colab": {
          "base_uri": "https://localhost:8080/"
        },
        "id": "FX1mrvtiEbMm",
        "outputId": "d241c01e-af56-41f4-bbf1-66847afc9ea4"
      },
      "source": [
        "sum([d.get('age') for d in people]) #Suma las edades de ambos personajes"
      ],
      "execution_count": 247,
      "outputs": [
        {
          "output_type": "execute_result",
          "data": {
            "text/plain": [
              "94"
            ]
          },
          "metadata": {},
          "execution_count": 247
        }
      ]
    },
    {
      "cell_type": "markdown",
      "metadata": {
        "cell_id": "00194-4b3af145-7feb-45c8-8c51-c7ffa719210f",
        "deepnote_cell_type": "markdown",
        "tags": [],
        "id": "pWlvaaH6EbMn"
      },
      "source": [
        "### Sets"
      ]
    },
    {
      "cell_type": "code",
      "metadata": {
        "cell_id": "00195-591e8c38-1833-4206-96c8-f0c6d9b7a54f",
        "deepnote_cell_type": "code",
        "deepnote_to_be_reexecuted": false,
        "execution_millis": 10,
        "execution_start": 1628264118499,
        "source_hash": "c59caa7b",
        "tags": [],
        "colab": {
          "base_uri": "https://localhost:8080/"
        },
        "id": "OB85K-dnEbMn",
        "outputId": "9b365e25-727a-40fc-8477-5f8ea3e41bff"
      },
      "source": [
        "Z2={0,1} #conjuntos\n",
        "Z3={0,1,2}\n",
        "Z2.intersection(Z3)"
      ],
      "execution_count": 240,
      "outputs": [
        {
          "output_type": "execute_result",
          "data": {
            "text/plain": [
              "{0, 1}"
            ]
          },
          "metadata": {},
          "execution_count": 240
        }
      ]
    },
    {
      "cell_type": "code",
      "metadata": {
        "cell_id": "00196-fd5bfdda-5af2-4faf-bd13-bca4b6bbde32",
        "deepnote_cell_type": "code",
        "deepnote_to_be_reexecuted": false,
        "execution_millis": 16,
        "execution_start": 1628264138245,
        "source_hash": "ce4b41e8",
        "tags": [],
        "colab": {
          "base_uri": "https://localhost:8080/"
        },
        "id": "rR7J9G1DEbMn",
        "outputId": "17906fc8-cbb9-4143-88cd-cc1186a50bf6"
      },
      "source": [
        "Z2.union(Z3)"
      ],
      "execution_count": 241,
      "outputs": [
        {
          "output_type": "execute_result",
          "data": {
            "text/plain": [
              "{0, 1, 2}"
            ]
          },
          "metadata": {},
          "execution_count": 241
        }
      ]
    },
    {
      "cell_type": "code",
      "metadata": {
        "cell_id": "00197-6ba20ea9-c862-4182-886e-4a76eeb25a27",
        "deepnote_cell_type": "code",
        "deepnote_to_be_reexecuted": false,
        "execution_millis": 15,
        "execution_start": 1628264144436,
        "source_hash": "fef88faf",
        "tags": [],
        "colab": {
          "base_uri": "https://localhost:8080/"
        },
        "id": "bQdQ8_tBEbMn",
        "outputId": "62e8577b-ff24-4c94-bb46-9b5dcf05bc19"
      },
      "source": [
        "Z2.issubset(Z3)"
      ],
      "execution_count": 242,
      "outputs": [
        {
          "output_type": "execute_result",
          "data": {
            "text/plain": [
              "True"
            ]
          },
          "metadata": {},
          "execution_count": 242
        }
      ]
    },
    {
      "cell_type": "markdown",
      "metadata": {
        "cell_id": "00198-43b77bb5-1850-4a49-b697-3968c1701891",
        "deepnote_cell_type": "markdown",
        "tags": [],
        "id": "V-I3qQC8EbMn"
      },
      "source": [
        "The elements of the set must be unique and sorted"
      ]
    },
    {
      "cell_type": "code",
      "metadata": {
        "cell_id": "00199-43c0fa17-d593-4a45-a5f8-d8677893d730",
        "deepnote_cell_type": "code",
        "deepnote_to_be_reexecuted": false,
        "execution_millis": 19,
        "execution_start": 1628264176162,
        "source_hash": "8a290927",
        "tags": [],
        "colab": {
          "base_uri": "https://localhost:8080/"
        },
        "id": "wkHltnA0EbMo",
        "outputId": "88e05f0e-a2b3-4609-9766-116c74e154c9"
      },
      "source": [
        "U={1,2,2,2,4,4,-2}\n",
        "U"
      ],
      "execution_count": 243,
      "outputs": [
        {
          "output_type": "execute_result",
          "data": {
            "text/plain": [
              "{-2, 1, 2, 4}"
            ]
          },
          "metadata": {},
          "execution_count": 243
        }
      ]
    },
    {
      "cell_type": "markdown",
      "metadata": {
        "cell_id": "00224-b4f9c550-357a-460a-a61a-e739edb86a3c",
        "deepnote_cell_type": "markdown",
        "tags": [],
        "id": "YonmNN25EbMp"
      },
      "source": [
        "Aplicación: Obtenga los elementos únicos de una lista"
      ]
    },
    {
      "cell_type": "code",
      "metadata": {
        "cell_id": "00224-4fc00209-be18-4234-b674-fad7a3b729a5",
        "deepnote_cell_type": "code",
        "deepnote_to_be_reexecuted": false,
        "execution_millis": 10,
        "execution_start": 1628264330405,
        "source_hash": "edbb9604",
        "tags": [],
        "colab": {
          "base_uri": "https://localhost:8080/"
        },
        "id": "RxSHWIvMEbMq",
        "outputId": "4b2d4086-d996-4859-a8b1-bb876a356cd3"
      },
      "source": [
        "l=[3,7,1,9,4,6,6]\n",
        "list(set(l))    #los unicos elementos de la lista "
      ],
      "execution_count": 244,
      "outputs": [
        {
          "output_type": "execute_result",
          "data": {
            "text/plain": [
              "[1, 3, 4, 6, 7, 9]"
            ]
          },
          "metadata": {},
          "execution_count": 244
        }
      ]
    },
    {
      "cell_type": "markdown",
      "metadata": {
        "cell_id": "00193-7e91df8a-eda1-4c27-81f3-31632f1f9d02",
        "deepnote_cell_type": "markdown",
        "id": "oMhSjbqYF_1C"
      },
      "source": [
        "# Conditionals"
      ]
    },
    {
      "cell_type": "markdown",
      "metadata": {
        "cell_id": "00194-ccd82614-c309-4aae-888a-0699cfc1f46f",
        "deepnote_cell_type": "markdown",
        "id": "JRx2uDsXF_1C"
      },
      "source": [
        "## if"
      ]
    },
    {
      "cell_type": "markdown",
      "metadata": {
        "cell_id": "00195-1c81bf06-b638-401d-812d-b79c9171eaa1",
        "deepnote_cell_type": "markdown",
        "id": "lOnnZSRpF_1D"
      },
      "source": [
        "Conditionals are useful when we want to check some condition.\n",
        "The statements `elif` and `else` can be used when more than one condition need to be used, or when there is something to do when some condition is not fulfilled."
      ]
    },
    {
      "cell_type": "code",
      "metadata": {
        "cell_id": "00196-034330d1-5b3b-4539-86db-8350e8778936",
        "colab": {
          "base_uri": "https://localhost:8080/"
        },
        "deepnote_cell_type": "code",
        "deepnote_to_be_reexecuted": false,
        "execution_millis": 10,
        "execution_start": 1628265146080,
        "id": "RLzAJUYrF_1D",
        "source_hash": "f31783ce",
        "outputId": "c0f8838a-404c-4f85-b277-d890655ce421"
      },
      "source": [
        "x = 10\n",
        "y = 2\n",
        "if x > 5 and y==2:\n",
        "    print( \"True\" )"
      ],
      "execution_count": 248,
      "outputs": [
        {
          "output_type": "stream",
          "name": "stdout",
          "text": [
            "True\n"
          ]
        }
      ]
    },
    {
      "cell_type": "code",
      "metadata": {
        "cell_id": "00197-bd759858-0df5-4352-ab75-f1c10c129b36",
        "colab": {
          "base_uri": "https://localhost:8080/"
        },
        "deepnote_cell_type": "code",
        "deepnote_to_be_reexecuted": false,
        "execution_millis": 12,
        "execution_start": 1628265185707,
        "id": "Ec7sFHSmF_1H",
        "source_hash": "a3b20567",
        "outputId": "79e6d1e4-5fdf-4c17-b96d-8de78c036efd"
      },
      "source": [
        "x = 4\n",
        "y = 3\n",
        "if x>5 or y<2:\n",
        "    print( \"True 1\" )\n",
        "elif x==4:\n",
        "    print( \"True 2\" )\n",
        "else:\n",
        "    print( \"False\" )"
      ],
      "execution_count": 249,
      "outputs": [
        {
          "output_type": "stream",
          "name": "stdout",
          "text": [
            "True 2\n"
          ]
        }
      ]
    },
    {
      "cell_type": "markdown",
      "metadata": {
        "cell_id": "00205-8a1bdbef-3870-4272-a37f-797627cd74e5",
        "deepnote_cell_type": "markdown",
        "tags": [],
        "id": "e9HjgtKLEbMr"
      },
      "source": [
        "# Loops"
      ]
    },
    {
      "cell_type": "markdown",
      "metadata": {
        "cell_id": "00198-ed773f4e-f08e-43d6-970f-7c4e7019a757",
        "deepnote_cell_type": "markdown",
        "id": "RKDoomeWF_1J"
      },
      "source": [
        "## for"
      ]
    },
    {
      "cell_type": "markdown",
      "metadata": {
        "cell_id": "00199-b44658ce-9e0d-4402-adee-82a657d3411f",
        "deepnote_cell_type": "markdown",
        "id": "8MS64bApF_1J"
      },
      "source": [
        "`For` cycles are specially useful when we want to sweep a set of elements with a known size."
      ]
    },
    {
      "cell_type": "code",
      "metadata": {
        "cell_id": "00200-6566e5ac-b506-4fb4-a8ed-503ef2f5591b",
        "colab": {
          "base_uri": "https://localhost:8080/"
        },
        "deepnote_cell_type": "code",
        "deepnote_to_be_reexecuted": false,
        "execution_millis": 18,
        "execution_start": 1628265210358,
        "id": "BGnKwruIF_1K",
        "source_hash": "183ce532",
        "outputId": "701f2279-1b3c-44bf-94cd-62e94551624c"
      },
      "source": [
        "for i in range(0,5,1):\n",
        "    print( i, i**2)"
      ],
      "execution_count": 250,
      "outputs": [
        {
          "output_type": "stream",
          "name": "stdout",
          "text": [
            "0 0\n",
            "1 1\n",
            "2 4\n",
            "3 9\n",
            "4 16\n"
          ]
        }
      ]
    },
    {
      "cell_type": "markdown",
      "metadata": {
        "cell_id": "00201-848f61f8-1f0f-4b60-ba67-52f8c6c0f914",
        "deepnote_cell_type": "markdown",
        "id": "77PbzyH9EW_J"
      },
      "source": [
        "__Activity__: change print with format"
      ]
    },
    {
      "cell_type": "code",
      "metadata": {
        "cell_id": "00202-2c2be090-0f25-4d95-b790-b0f637d79d6f",
        "deepnote_cell_type": "code",
        "id": "CEj1vWu_ElkK",
        "colab": {
          "base_uri": "https://localhost:8080/"
        },
        "outputId": "27801378-c2f3-476c-d513-6f7da91fa9ed"
      },
      "source": [
        "for i in range(0,5,1):\n",
        "    print( f\"{i} {i**2}\") #Se deben poner cada una de las variables dentro de llaves"
      ],
      "execution_count": 251,
      "outputs": [
        {
          "output_type": "stream",
          "name": "stdout",
          "text": [
            "0 0\n",
            "1 1\n",
            "2 4\n",
            "3 9\n",
            "4 16\n"
          ]
        }
      ]
    },
    {
      "cell_type": "code",
      "metadata": {
        "cell_id": "00203-fe979c0c-86a7-4d7e-856c-e04e71e11d84",
        "colab": {
          "base_uri": "https://localhost:8080/"
        },
        "deepnote_cell_type": "code",
        "deepnote_to_be_reexecuted": false,
        "execution_millis": 13,
        "execution_start": 1628265363274,
        "id": "haLnqdCZF_1N",
        "source_hash": "804b79d9",
        "outputId": "71860c6f-e9b9-4c73-d557-6498aa4a9a33"
      },
      "source": [
        "suma = 0\n",
        "for i in range(10):\n",
        "    suma += i**2 # suma = suma + i**2\n",
        "print ( f\"The result is {suma}\" )"
      ],
      "execution_count": 252,
      "outputs": [
        {
          "output_type": "stream",
          "name": "stdout",
          "text": [
            "The result is 285\n"
          ]
        }
      ]
    },
    {
      "cell_type": "code",
      "metadata": {
        "colab": {
          "base_uri": "https://localhost:8080/"
        },
        "id": "5KmwC9qQ7M30",
        "outputId": "179c690e-9c89-4a96-feb5-7100a0ffdec7"
      },
      "source": [
        "i = 0\n",
        "for i in range(1,5):\n",
        "  i=i*4\n",
        "  print(i)"
      ],
      "execution_count": 253,
      "outputs": [
        {
          "output_type": "stream",
          "name": "stdout",
          "text": [
            "4\n",
            "8\n",
            "12\n",
            "16\n"
          ]
        }
      ]
    },
    {
      "cell_type": "code",
      "metadata": {
        "colab": {
          "base_uri": "https://localhost:8080/"
        },
        "id": "ljGkuHh77kGe",
        "outputId": "b6ccd939-f6ad-4bb2-f8cf-563bdb194c60"
      },
      "source": [
        "i=0\n",
        "for i in range (10): #Suma el anterior número con 1 \n",
        "  i=i+1\n",
        "  print(i)"
      ],
      "execution_count": 254,
      "outputs": [
        {
          "output_type": "stream",
          "name": "stdout",
          "text": [
            "1\n",
            "2\n",
            "3\n",
            "4\n",
            "5\n",
            "6\n",
            "7\n",
            "8\n",
            "9\n",
            "10\n"
          ]
        }
      ]
    },
    {
      "cell_type": "code",
      "metadata": {
        "cell_id": "00204-04d50356-3b05-44ab-b8da-c2038d6a5b0d",
        "colab": {
          "base_uri": "https://localhost:8080/"
        },
        "deepnote_cell_type": "code",
        "id": "QmjcgnNbF_1P",
        "outputId": "7727d184-3935-44c3-a7ca-5fbc482d186d"
      },
      "source": [
        "for language in ['Python', 'C', 'C++', 'Ruby', 'Java']:\n",
        "    print ( language )"
      ],
      "execution_count": 255,
      "outputs": [
        {
          "output_type": "stream",
          "name": "stdout",
          "text": [
            "Python\n",
            "C\n",
            "C++\n",
            "Ruby\n",
            "Java\n"
          ]
        }
      ]
    },
    {
      "cell_type": "markdown",
      "metadata": {
        "cell_id": "00205-5ad00505-214e-479e-a2f8-1466c27b9fad",
        "deepnote_cell_type": "markdown",
        "id": "C48dKFMC40bN"
      },
      "source": [
        "As we see before, `for` can be used to build comprenhension lists"
      ]
    },
    {
      "cell_type": "code",
      "metadata": {
        "cell_id": "00206-06d3ac31-79de-4718-9d7f-524115f21017",
        "colab": {
          "base_uri": "https://localhost:8080/"
        },
        "deepnote_cell_type": "code",
        "id": "lrkdxlQdF_1R",
        "outputId": "e83128e2-a716-4719-e58b-66839c3c55cb"
      },
      "source": [
        "serie = [ i**2 for i in range(1,10) ]\n",
        "print( serie )\n",
        "sum(serie)"
      ],
      "execution_count": 256,
      "outputs": [
        {
          "output_type": "stream",
          "name": "stdout",
          "text": [
            "[1, 4, 9, 16, 25, 36, 49, 64, 81]\n"
          ]
        },
        {
          "output_type": "execute_result",
          "data": {
            "text/plain": [
              "285"
            ]
          },
          "metadata": {},
          "execution_count": 256
        }
      ]
    },
    {
      "cell_type": "markdown",
      "metadata": {
        "cell_id": "00207-40757f14-9255-462c-b874-9aaab23a721d",
        "deepnote_cell_type": "markdown",
        "id": "Vk6CUxqjF_1S"
      },
      "source": [
        "## while"
      ]
    },
    {
      "cell_type": "markdown",
      "metadata": {
        "cell_id": "00208-4de1938d-8c8b-424d-93cc-760a1599630f",
        "deepnote_cell_type": "markdown",
        "id": "kys-BDH-F_1T"
      },
      "source": [
        "`While` cycles are specially useful when we want to sweep a set of elements with an  unknown size."
      ]
    },
    {
      "cell_type": "markdown",
      "metadata": {
        "cell_id": "00209-46a116c6-c95f-4c88-b54b-12323ddf1b8f",
        "deepnote_cell_type": "markdown",
        "id": "IPqtiPZwEbMt"
      },
      "source": [
        "Before we check the functions `input` and `int` of Python"
      ]
    },
    {
      "cell_type": "code",
      "metadata": {
        "cell_id": "00210-7d5f306b-eadb-41c8-a7a5-8620a9911e9c",
        "deepnote_cell_type": "code",
        "deepnote_to_be_reexecuted": false,
        "execution_millis": 4472,
        "execution_start": 1628265392026,
        "source_hash": "ea774bd8",
        "id": "rUnRRfywEbMt",
        "colab": {
          "base_uri": "https://localhost:8080/"
        },
        "outputId": "ae491903-22d7-4e1f-f68f-e44c3da0a9f6"
      },
      "source": [
        "edad=input('¿What is your age, Jesus?:\\n')"
      ],
      "execution_count": 257,
      "outputs": [
        {
          "name": "stdout",
          "output_type": "stream",
          "text": [
            "¿What is your age, Jesus?:\n",
            "33\n"
          ]
        }
      ]
    },
    {
      "cell_type": "code",
      "metadata": {
        "cell_id": "00211-445d9a7e-1813-495e-ac39-78c7ffdb3a06",
        "deepnote_cell_type": "code",
        "deepnote_to_be_reexecuted": false,
        "execution_millis": 13,
        "execution_start": 1628265412246,
        "source_hash": "99514191",
        "id": "ZdADWUoDEbMt",
        "colab": {
          "base_uri": "https://localhost:8080/"
        },
        "outputId": "70b17279-c790-4c24-96ca-74859faec699"
      },
      "source": [
        "int(edad)"
      ],
      "execution_count": 258,
      "outputs": [
        {
          "output_type": "execute_result",
          "data": {
            "text/plain": [
              "33"
            ]
          },
          "metadata": {},
          "execution_count": 258
        }
      ]
    },
    {
      "cell_type": "markdown",
      "metadata": {
        "cell_id": "00212-a1f22d10-3b95-4b8b-9346-b872991e56c2",
        "deepnote_cell_type": "markdown",
        "id": "SYhNz0o4EbMt"
      },
      "source": [
        "Bonus: some time the input must be hidden"
      ]
    },
    {
      "cell_type": "code",
      "metadata": {
        "cell_id": "00213-b115e9d4-16aa-4611-833a-bdbc56c614ea",
        "deepnote_cell_type": "code",
        "deepnote_to_be_reexecuted": false,
        "execution_millis": 0,
        "execution_start": 1628265423279,
        "source_hash": "60de103a",
        "id": "UlDnC2FGEbMt"
      },
      "source": [
        "import getpass #Para que no se vea en pantalla lo que estoy escribiendo"
      ],
      "execution_count": 259,
      "outputs": []
    },
    {
      "cell_type": "code",
      "metadata": {
        "cell_id": "00214-e953a155-b8d1-4805-8c7d-f12307d109cc",
        "deepnote_cell_type": "code",
        "deepnote_to_be_reexecuted": false,
        "execution_millis": 8198,
        "execution_start": 1628265432333,
        "source_hash": "3329a22",
        "id": "EnLt1uTiEbMu",
        "colab": {
          "base_uri": "https://localhost:8080/"
        },
        "outputId": "a0af76b9-82e7-4587-9a0b-5726b7335fe2"
      },
      "source": [
        "c=getpass.getpass('Contraseña')"
      ],
      "execution_count": 260,
      "outputs": [
        {
          "name": "stdout",
          "output_type": "stream",
          "text": [
            "Contraseña··········\n"
          ]
        }
      ]
    },
    {
      "cell_type": "code",
      "metadata": {
        "cell_id": "00215-667d4637-b341-4aeb-bfa6-5490014d13ca",
        "deepnote_cell_type": "code",
        "deepnote_to_be_reexecuted": false,
        "execution_millis": 28,
        "execution_start": 1628265452887,
        "source_hash": "957caa7e",
        "id": "7MlbOZ2wEbMu",
        "colab": {
          "base_uri": "https://localhost:8080/",
          "height": 35
        },
        "outputId": "7c4f59ef-d5fc-4b76-a6f7-762f7f40b77f"
      },
      "source": [
        "c"
      ],
      "execution_count": 261,
      "outputs": [
        {
          "output_type": "execute_result",
          "data": {
            "application/vnd.google.colaboratory.intrinsic+json": {
              "type": "string"
            },
            "text/plain": [
              "'12345'"
            ]
          },
          "metadata": {},
          "execution_count": 261
        }
      ]
    },
    {
      "cell_type": "markdown",
      "metadata": {
        "cell_id": "00216-d72e43af-8ec6-4ded-b701-72f337954cea",
        "deepnote_cell_type": "markdown",
        "id": "aWBD-j2pEbMu"
      },
      "source": [
        "Now the `while` examples"
      ]
    },
    {
      "cell_type": "code",
      "metadata": {
        "cell_id": "00217-eee4cc13-f730-43a2-8649-dc08b7c92874",
        "colab": {
          "base_uri": "https://localhost:8080/"
        },
        "deepnote_cell_type": "code",
        "deepnote_to_be_reexecuted": false,
        "execution_millis": 16758,
        "execution_start": 1628265490576,
        "id": "7n0eZTTGF_1T",
        "source_hash": "3a149021",
        "outputId": "e15ee16a-5f98-465f-e0a6-d460edca2a3a"
      },
      "source": [
        "#! /usr/bin/python\n",
        "number = int(input(\"Write a negative number: \"))\n",
        "while number > 0:\n",
        "    print(\"You wrote a positive number. Do it again\")\n",
        "    number = int(input(\"Write a negative number: \"))\n",
        "print(\"Thank you!\")"
      ],
      "execution_count": 262,
      "outputs": [
        {
          "output_type": "stream",
          "name": "stdout",
          "text": [
            "Write a negative number: -9\n",
            "Thank you!\n"
          ]
        }
      ]
    },
    {
      "cell_type": "code",
      "metadata": {
        "cell_id": "00218-3d0f8da9-272b-4f29-8dc4-a879189eabd9",
        "colab": {
          "base_uri": "https://localhost:8080/"
        },
        "deepnote_cell_type": "code",
        "deepnote_to_be_reexecuted": false,
        "execution_millis": 3,
        "execution_start": 1628265574287,
        "id": "qB2KXTVwF_1W",
        "source_hash": "bfa297c2",
        "outputId": "090f6250-530e-4d0c-bcf4-af995fbe1d3a"
      },
      "source": [
        "import random\n",
        "x = 0\n",
        "while x<0.9:\n",
        "  i+=5\n",
        "  x = random.random()\n",
        "  print( x )\n",
        "  if i>5:\n",
        "    print('Demasiados intentos')\n",
        "    break\n",
        "print (\"The selected number was\", x )"
      ],
      "execution_count": 263,
      "outputs": [
        {
          "output_type": "stream",
          "name": "stdout",
          "text": [
            "0.43146795989311626\n",
            "Demasiados intentos\n",
            "The selected number was 0.43146795989311626\n"
          ]
        }
      ]
    },
    {
      "cell_type": "markdown",
      "metadata": {
        "cell_id": "00219-7c989cbb-908a-46ad-948f-2e7ad27c80c1",
        "deepnote_cell_type": "markdown",
        "id": "MpuXWP76PRkT"
      },
      "source": [
        "# Methods and attributes of objects in Python\n",
        "All the objects in `Python`, including the function and variable types discussed here, are enhanced with special functions called _methods_, which are implemented after a point of the name of the variable, in the format:\n",
        "```python\n",
        "variable.method()\n",
        "```\n",
        "Some times, the method can even accept some arguments. \n",
        "\n",
        "The objects have also attributes which describe some property of the object. They do not end up with parenthesis:\n",
        "```python\n",
        "variable.attribute\n",
        "```"
      ]
    },
    {
      "cell_type": "markdown",
      "metadata": {
        "cell_id": "00220-5bbd289e-7ad7-4874-b6bc-3be16881cfcd",
        "deepnote_cell_type": "markdown",
        "id": "999oCdgfPZOM"
      },
      "source": [
        "### Methods\n",
        "For example. The method `.keys()` of a variable dictionary allows to obtain the list of keys of the dictionary. For example"
      ]
    },
    {
      "cell_type": "code",
      "metadata": {
        "cell_id": "00221-45c8146f-c770-45d5-8eb3-8b192124fe7a",
        "colab": {
          "base_uri": "https://localhost:8080/"
        },
        "deepnote_cell_type": "code",
        "deepnote_to_be_reexecuted": false,
        "execution_millis": 11,
        "execution_start": 1628265625027,
        "id": "nJZOnhPfPb8b",
        "source_hash": "b6ec19fd",
        "outputId": "97711b1f-fee8-4168-8ffb-ea1fa31a3fa8"
      },
      "source": [
        "dictionary.keys()"
      ],
      "execution_count": 264,
      "outputs": [
        {
          "output_type": "execute_result",
          "data": {
            "text/plain": [
              "dict_keys(['Kenia', 'Noruega', 'Finlandia', 'Rusia', 'Rio de Janeiro', 'Japón', 'Colorado', 'Alemania', 'Colombia'])"
            ]
          },
          "metadata": {},
          "execution_count": 264
        }
      ]
    },
    {
      "cell_type": "markdown",
      "metadata": {
        "cell_id": "00222-bff0bb8f-70c0-4128-9671-42b03bb292e4",
        "deepnote_cell_type": "markdown",
        "id": "4gvGokFJPejs"
      },
      "source": [
        "And the list of values:"
      ]
    },
    {
      "cell_type": "code",
      "metadata": {
        "cell_id": "00223-76ea55a3-546d-40a4-83dc-d6d59b51fecd",
        "colab": {
          "base_uri": "https://localhost:8080/"
        },
        "deepnote_cell_type": "code",
        "deepnote_to_be_reexecuted": false,
        "execution_millis": 23,
        "execution_start": 1628265634377,
        "id": "KcWbTzfjPiKL",
        "source_hash": "296aa203",
        "outputId": "53b0a6be-ca15-42ff-805f-879e160cdc13"
      },
      "source": [
        "dictionary.values()"
      ],
      "execution_count": 265,
      "outputs": [
        {
          "output_type": "execute_result",
          "data": {
            "text/plain": [
              "dict_values(['Nairobi', 'Oslo', 'Helsinski', 'Moscú', 'Rio', 'Tokio', 'Denver', 'Berlin', 'Bogotá'])"
            ]
          },
          "metadata": {},
          "execution_count": 265
        }
      ]
    },
    {
      "cell_type": "markdown",
      "metadata": {
        "cell_id": "00224-9ebc6649-40f0-4730-877f-77db92a215cd",
        "deepnote_cell_type": "markdown",
        "id": "op4UiMHFPkek"
      },
      "source": [
        "For strings we have for example the conversion to lower case"
      ]
    },
    {
      "cell_type": "code",
      "metadata": {
        "cell_id": "00225-5dde53e2-d039-4597-9d7d-974a3e815cb7",
        "colab": {
          "base_uri": "https://localhost:8080/",
          "height": 35
        },
        "deepnote_cell_type": "code",
        "deepnote_to_be_reexecuted": false,
        "execution_millis": 0,
        "execution_start": 1628265681193,
        "id": "yMXxDJymPsi7",
        "source_hash": "cd9af8b1",
        "outputId": "a1a6f67b-9478-41c1-ba07-6c8b6983e7b8"
      },
      "source": [
        "s=\"Juan Valdez\"\n",
        "s.lower()"
      ],
      "execution_count": 266,
      "outputs": [
        {
          "output_type": "execute_result",
          "data": {
            "application/vnd.google.colaboratory.intrinsic+json": {
              "type": "string"
            },
            "text/plain": [
              "'juan valdez'"
            ]
          },
          "metadata": {},
          "execution_count": 266
        }
      ]
    },
    {
      "cell_type": "code",
      "metadata": {
        "cell_id": "00226-04aecf5a-3a55-4557-aee7-620233fab762",
        "deepnote_cell_type": "code",
        "deepnote_to_be_reexecuted": false,
        "execution_millis": 14,
        "execution_start": 1628265692276,
        "source_hash": "6a1e684f",
        "id": "2Jj4Y995EbMw",
        "colab": {
          "base_uri": "https://localhost:8080/",
          "height": 35
        },
        "outputId": "efefd6d6-9483-42c5-94bd-916e53bfc3c6"
      },
      "source": [
        "\"juan valdez\".title()"
      ],
      "execution_count": 267,
      "outputs": [
        {
          "output_type": "execute_result",
          "data": {
            "application/vnd.google.colaboratory.intrinsic+json": {
              "type": "string"
            },
            "text/plain": [
              "'Juan Valdez'"
            ]
          },
          "metadata": {},
          "execution_count": 267
        }
      ]
    },
    {
      "cell_type": "code",
      "metadata": {
        "cell_id": "00227-71f0c11e-b4d8-4ade-ac9b-12db09299a3f",
        "deepnote_cell_type": "code",
        "id": "5q_8RblfEbMw",
        "colab": {
          "base_uri": "https://localhost:8080/",
          "height": 35
        },
        "outputId": "60435e3f-f9a3-448f-9159-3459c878e21f"
      },
      "source": [
        "\"juan valdez\".upper()"
      ],
      "execution_count": 268,
      "outputs": [
        {
          "output_type": "execute_result",
          "data": {
            "application/vnd.google.colaboratory.intrinsic+json": {
              "type": "string"
            },
            "text/plain": [
              "'JUAN VALDEZ'"
            ]
          },
          "metadata": {},
          "execution_count": 268
        }
      ]
    },
    {
      "cell_type": "code",
      "metadata": {
        "colab": {
          "base_uri": "https://localhost:8080/",
          "height": 35
        },
        "id": "jXrMDKmdCn3N",
        "outputId": "22c0c234-33bd-46d4-834b-3f37d36551d5"
      },
      "source": [
        "# Una cadena de caracteres es automáticamente una lita \n",
        "s= 'Juan Valdez'\n",
        "s[0]"
      ],
      "execution_count": 269,
      "outputs": [
        {
          "output_type": "execute_result",
          "data": {
            "application/vnd.google.colaboratory.intrinsic+json": {
              "type": "string"
            },
            "text/plain": [
              "'J'"
            ]
          },
          "metadata": {},
          "execution_count": 269
        }
      ]
    },
    {
      "cell_type": "markdown",
      "metadata": {
        "cell_id": "00228-1201df6f-5487-4fb1-a596-4b1a123eae7f",
        "deepnote_cell_type": "markdown",
        "id": "NaWNpAh8PtAD"
      },
      "source": [
        "### Attributes"
      ]
    },
    {
      "cell_type": "code",
      "metadata": {
        "cell_id": "00229-2bc92544-1312-423e-ab22-712683d1e348",
        "deepnote_cell_type": "code",
        "deepnote_to_be_reexecuted": false,
        "execution_millis": 0,
        "execution_start": 1628265704401,
        "id": "yWVg_HMVP4li",
        "source_hash": "b3c0e02"
      },
      "source": [
        "a=1j"
      ],
      "execution_count": 278,
      "outputs": []
    },
    {
      "cell_type": "code",
      "metadata": {
        "cell_id": "00230-c21184cd-2172-45ed-9b28-244db6ef4d53",
        "colab": {
          "base_uri": "https://localhost:8080/"
        },
        "deepnote_cell_type": "code",
        "deepnote_to_be_reexecuted": false,
        "execution_millis": 16,
        "execution_start": 1628265708612,
        "id": "TZLoLjFKP6gT",
        "source_hash": "899b6bb5",
        "outputId": "93c57111-6b56-437a-a365-d9670912af02"
      },
      "source": [
        "a.imag"
      ],
      "execution_count": 279,
      "outputs": [
        {
          "output_type": "execute_result",
          "data": {
            "text/plain": [
              "1.0"
            ]
          },
          "metadata": {},
          "execution_count": 279
        }
      ]
    },
    {
      "cell_type": "code",
      "metadata": {
        "cell_id": "00231-95095040-ece2-48db-a372-8a310f6fc62a",
        "deepnote_cell_type": "code",
        "deepnote_to_be_reexecuted": false,
        "execution_millis": 14,
        "execution_start": 1628265712855,
        "source_hash": "eb5812a6",
        "id": "m4HsH9gCEbMw",
        "colab": {
          "base_uri": "https://localhost:8080/"
        },
        "outputId": "6dd65017-b2a0-44af-b423-c73067b67776"
      },
      "source": [
        "a.real"
      ],
      "execution_count": 280,
      "outputs": [
        {
          "output_type": "execute_result",
          "data": {
            "text/plain": [
              "0.0"
            ]
          },
          "metadata": {},
          "execution_count": 280
        }
      ]
    },
    {
      "cell_type": "code",
      "metadata": {
        "cell_id": "00232-d9027365-efdb-4ce2-993b-b10a4030bffe",
        "deepnote_cell_type": "code",
        "deepnote_to_be_reexecuted": false,
        "execution_millis": 1,
        "execution_start": 1628265724255,
        "id": "4YDuZvgbqQTh",
        "source_hash": "f331e88a"
      },
      "source": [
        "z=3+5j"
      ],
      "execution_count": 281,
      "outputs": []
    },
    {
      "cell_type": "markdown",
      "metadata": {
        "cell_id": "00233-e9601ee1-45fd-4eb1-b2d8-fd3cb23fa5f6",
        "deepnote_cell_type": "markdown",
        "id": "bwin2MdGRGI5"
      },
      "source": [
        "with attributes"
      ]
    },
    {
      "cell_type": "code",
      "metadata": {
        "cell_id": "00234-39ca7c2d-fd8a-4105-95ad-ec463a38dbb5",
        "colab": {
          "base_uri": "https://localhost:8080/"
        },
        "deepnote_cell_type": "code",
        "deepnote_to_be_reexecuted": false,
        "execution_millis": 13,
        "execution_start": 1628265725782,
        "id": "vXiWuELxqS-u",
        "source_hash": "91d63406",
        "outputId": "9782e4d3-33b8-4097-e60f-1921731183f4"
      },
      "source": [
        "z.real"
      ],
      "execution_count": 282,
      "outputs": [
        {
          "output_type": "execute_result",
          "data": {
            "text/plain": [
              "3.0"
            ]
          },
          "metadata": {},
          "execution_count": 282
        }
      ]
    },
    {
      "cell_type": "code",
      "metadata": {
        "cell_id": "00235-0407aed1-af85-4a4c-9910-a8c1e0a5462b",
        "colab": {
          "base_uri": "https://localhost:8080/"
        },
        "deepnote_cell_type": "code",
        "deepnote_to_be_reexecuted": false,
        "execution_millis": 15,
        "execution_start": 1628265726560,
        "id": "twft_75iqUXd",
        "source_hash": "a3b5f781",
        "outputId": "5dc7e406-3f98-4228-fae4-32879bf928af"
      },
      "source": [
        "z.imag"
      ],
      "execution_count": 283,
      "outputs": [
        {
          "output_type": "execute_result",
          "data": {
            "text/plain": [
              "5.0"
            ]
          },
          "metadata": {},
          "execution_count": 283
        }
      ]
    },
    {
      "cell_type": "markdown",
      "metadata": {
        "cell_id": "00236-10a55c4e-8019-48c7-836c-d27ad9f2962c",
        "deepnote_cell_type": "markdown",
        "id": "3S4SCByKRInH"
      },
      "source": [
        "and the method:"
      ]
    },
    {
      "cell_type": "code",
      "metadata": {
        "cell_id": "00237-de90673c-4803-426b-8c12-185c54ad9294",
        "colab": {
          "base_uri": "https://localhost:8080/"
        },
        "deepnote_cell_type": "code",
        "deepnote_to_be_reexecuted": false,
        "execution_millis": 10,
        "execution_start": 1628265731069,
        "id": "FtsN8LmERK8_",
        "source_hash": "a7c71621",
        "outputId": "d967a513-84a7-45f5-9e87-92a71c362bba"
      },
      "source": [
        "z.conjugate()"
      ],
      "execution_count": 284,
      "outputs": [
        {
          "output_type": "execute_result",
          "data": {
            "text/plain": [
              "(3-5j)"
            ]
          },
          "metadata": {},
          "execution_count": 284
        }
      ]
    },
    {
      "cell_type": "markdown",
      "metadata": {
        "cell_id": "00238-c110becb-a3b2-4f5a-8adf-cf0b68e9e9c4",
        "deepnote_cell_type": "markdown",
        "id": "mqPXQ2THP-Kz"
      },
      "source": [
        "In the notebook, All the methods and attributes of an object can be accessed by using the `<TAB>` key after write down the point:\n",
        "```python\n",
        "variable.<TAB>\n",
        "```"
      ]
    },
    {
      "cell_type": "code",
      "metadata": {
        "colab": {
          "base_uri": "https://localhost:8080/"
        },
        "id": "9LthKquBEKOe",
        "outputId": "a0414d6b-84ec-483a-f5b7-0d7acb23e2b5"
      },
      "source": [
        "z.conjugate"
      ],
      "execution_count": 285,
      "outputs": [
        {
          "output_type": "execute_result",
          "data": {
            "text/plain": [
              "<function complex.conjugate>"
            ]
          },
          "metadata": {},
          "execution_count": 285
        }
      ]
    },
    {
      "cell_type": "markdown",
      "metadata": {
        "cell_id": "00240-095cdf89-d7a1-4e9d-ae28-7f7499718117",
        "deepnote_cell_type": "markdown",
        "id": "iBQGxzuFQCID"
      },
      "source": [
        "__Activity__: Check the methods and attributes of the dictionary `dictonary`. HINT: Check the help for some of them by using a question mark, \"?\", at the end:\n",
        "```\n",
        "variable.method?\n",
        "```"
      ]
    },
    {
      "cell_type": "markdown",
      "metadata": {
        "cell_id": "00241-8546677a-b493-4719-a269-af0277736ecb",
        "deepnote_cell_type": "markdown",
        "id": "xJBhkIFf40bz"
      },
      "source": [
        "## Unicode\n",
        "Is an standard to encode characters. In Python 3, around  [120.000 characters](https://stackoverflow.com/a/17043983) can be used to define variables. For example, one right to left arabic variable can be defined as"
      ]
    },
    {
      "cell_type": "code",
      "metadata": {
        "cell_id": "00242-a2d5676f-9e67-445a-838c-128e2dc6249e",
        "colab": {
          "base_uri": "https://localhost:8080/"
        },
        "deepnote_cell_type": "code",
        "id": "E2GeG8HZ40bz",
        "outputId": "d32d6355-48f9-416d-97b3-dfd7c6d87e1e"
      },
      "source": [
        "ࢶ=2\n",
        "print('Arabic character values is: {}'.format(ࢶ))"
      ],
      "execution_count": 286,
      "outputs": [
        {
          "output_type": "stream",
          "name": "stdout",
          "text": [
            "Arabic character values is: 2\n"
          ]
        }
      ]
    },
    {
      "cell_type": "markdown",
      "metadata": {
        "cell_id": "00243-997768d1-b304-4300-b5cc-d0cb595f6dc2",
        "deepnote_cell_type": "markdown",
        "id": "sdVB50fe40b0"
      },
      "source": [
        "Spanish example"
      ]
    },
    {
      "cell_type": "code",
      "metadata": {
        "cell_id": "00244-b53637d7-91bd-4f03-bc28-8ac9ec50515f",
        "deepnote_cell_type": "code",
        "id": "DznrKWaDjv8W"
      },
      "source": [
        "mamá='Lola'"
      ],
      "execution_count": 287,
      "outputs": []
    },
    {
      "cell_type": "markdown",
      "metadata": {
        "cell_id": "00245-b9eb3447-2fb3-47bb-9c5f-8abe85ef4f62",
        "deepnote_cell_type": "markdown",
        "id": "PftXYj-K40b2"
      },
      "source": [
        "In Jupyter lab greek symbols can be accessed by using its LaTeX command follow by the `<TAB>` key. \n",
        "\n",
        "`\\alpha+<TAB>=0.5` could convert on the fly to "
      ]
    },
    {
      "cell_type": "code",
      "metadata": {
        "cell_id": "00246-7e355b2b-397d-4174-aa93-2ad6e1981a74",
        "deepnote_cell_type": "code",
        "id": "s-HaoMaN40b2"
      },
      "source": [
        "α=0.5"
      ],
      "execution_count": 288,
      "outputs": []
    },
    {
      "cell_type": "code",
      "metadata": {
        "cell_id": "00247-82438024-40c5-455b-b423-9f19cdfef009",
        "deepnote_cell_type": "code",
        "id": "-FDXnyJD40b3",
        "colab": {
          "base_uri": "https://localhost:8080/"
        },
        "outputId": "5430618e-38fb-4f69-9814-f66548b96cc5"
      },
      "source": [
        "print(α)"
      ],
      "execution_count": 289,
      "outputs": [
        {
          "output_type": "stream",
          "name": "stdout",
          "text": [
            "0.5\n"
          ]
        }
      ]
    },
    {
      "cell_type": "markdown",
      "metadata": {
        "cell_id": "00248-7cd60ec8-729d-4af2-8a95-600cc07c3785",
        "deepnote_cell_type": "markdown",
        "id": "7NgyW2Sv40b4"
      },
      "source": [
        "Alternatively yuo can copy the character from some list of unicode symbols, like [this one](https://en.wikipedia.org/wiki/List_of_Unicode_characters#Greek_and_Coptic).\n",
        "\n",
        "__Activity__: Define a Greek variable by using a symbol from the previous list"
      ]
    },
    {
      "cell_type": "code",
      "metadata": {
        "id": "M50YzCHKGT5p"
      },
      "source": [
        "import numpy as np\n",
        "pi=np.pi\n"
      ],
      "execution_count": 290,
      "outputs": []
    },
    {
      "cell_type": "markdown",
      "metadata": {
        "id": "yI1AX86lEbM3"
      },
      "source": [
        "## Stop exection\n",
        "Stop the program if a condition is not satisfied\n",
        "\n",
        "See: https://realpython.com/python-exceptions/"
      ]
    },
    {
      "cell_type": "code",
      "metadata": {
        "cell_id": "00249-85eb53c1-6765-4d62-b074-52bf7af37cab",
        "deepnote_cell_type": "code",
        "id": "Ym0NpCWxKJQB",
        "colab": {
          "base_uri": "https://localhost:8080/",
          "height": 245
        },
        "outputId": "0b3cd600-0aa2-4930-e9fd-ee79f61b8ba9"
      },
      "source": [
        "x = 6\n",
        "if x > 5:\n",
        "    raise Exception('x should not exceed 5. The value of x was: {}'.format(x))\n",
        "\n",
        "print(f'codo continues here: {x}<=5')"
      ],
      "execution_count": 291,
      "outputs": [
        {
          "output_type": "error",
          "ename": "Exception",
          "evalue": "ignored",
          "traceback": [
            "\u001b[0;31m---------------------------------------------------------------------------\u001b[0m",
            "\u001b[0;31mException\u001b[0m                                 Traceback (most recent call last)",
            "\u001b[0;32m<ipython-input-291-46931dc09ee3>\u001b[0m in \u001b[0;36m<module>\u001b[0;34m()\u001b[0m\n\u001b[1;32m      1\u001b[0m \u001b[0mx\u001b[0m \u001b[0;34m=\u001b[0m \u001b[0;36m6\u001b[0m\u001b[0;34m\u001b[0m\u001b[0;34m\u001b[0m\u001b[0m\n\u001b[1;32m      2\u001b[0m \u001b[0;32mif\u001b[0m \u001b[0mx\u001b[0m \u001b[0;34m>\u001b[0m \u001b[0;36m5\u001b[0m\u001b[0;34m:\u001b[0m\u001b[0;34m\u001b[0m\u001b[0;34m\u001b[0m\u001b[0m\n\u001b[0;32m----> 3\u001b[0;31m     \u001b[0;32mraise\u001b[0m \u001b[0mException\u001b[0m\u001b[0;34m(\u001b[0m\u001b[0;34m'x should not exceed 5. The value of x was: {}'\u001b[0m\u001b[0;34m.\u001b[0m\u001b[0mformat\u001b[0m\u001b[0;34m(\u001b[0m\u001b[0mx\u001b[0m\u001b[0;34m)\u001b[0m\u001b[0;34m)\u001b[0m\u001b[0;34m\u001b[0m\u001b[0;34m\u001b[0m\u001b[0m\n\u001b[0m\u001b[1;32m      4\u001b[0m \u001b[0;34m\u001b[0m\u001b[0m\n\u001b[1;32m      5\u001b[0m \u001b[0mprint\u001b[0m\u001b[0;34m(\u001b[0m\u001b[0;34mf'codo continues here: {x}<=5'\u001b[0m\u001b[0;34m)\u001b[0m\u001b[0;34m\u001b[0m\u001b[0;34m\u001b[0m\u001b[0m\n",
            "\u001b[0;31mException\u001b[0m: x should not exceed 5. The value of x was: 6"
          ]
        }
      ]
    },
    {
      "cell_type": "markdown",
      "metadata": {
        "cell_id": "00250-278fdad9-ce65-4221-89fb-ade632e04fc3",
        "deepnote_cell_type": "markdown",
        "id": "9MgMakz7jhml"
      },
      "source": [
        "## Final remarks\n",
        "Make your google Python questions in English and check specially the https://stackoverflow.com/ results.\n",
        "\n",
        "__Activity__: Make some Python query in Google and paste the example code below"
      ]
    },
    {
      "cell_type": "code",
      "metadata": {
        "cell_id": "00251-7f042922-3e62-4e71-809f-26bc971c1edf",
        "deepnote_cell_type": "code",
        "id": "iEtlCAbZ40b6",
        "colab": {
          "base_uri": "https://localhost:8080/",
          "height": 72
        },
        "outputId": "fd885ac1-a37d-440f-eb3e-b2a46296c528"
      },
      "source": [
        "input('What was the Google query that you ask?:\\n')"
      ],
      "execution_count": 292,
      "outputs": [
        {
          "name": "stdout",
          "output_type": "stream",
          "text": [
            "What was the Google query that you ask?:\n",
            "how to plot a histogram in python\n"
          ]
        },
        {
          "output_type": "execute_result",
          "data": {
            "application/vnd.google.colaboratory.intrinsic+json": {
              "type": "string"
            },
            "text/plain": [
              "'how to plot a histogram in python'"
            ]
          },
          "metadata": {},
          "execution_count": 292
        }
      ]
    },
    {
      "cell_type": "markdown",
      "metadata": {
        "cell_id": "00253-27ad1dc9-d0c4-4c8c-9d2b-2c6a404419d3",
        "deepnote_cell_type": "markdown",
        "id": "_fIw7E_a40b7"
      },
      "source": [
        "Sample code:"
      ]
    },
    {
      "cell_type": "markdown",
      "metadata": {
        "cell_id": "00254-2ad05951-d3e8-4ca1-a8f1-ab7cd8194550",
        "deepnote_cell_type": "markdown",
        "id": "NuX3zpuSEbM6"
      },
      "source": [
        "## Parallel\n",
        "```python\n",
        "foo(x) → delayed(foo)(x)\n",
        "```"
      ]
    },
    {
      "cell_type": "code",
      "metadata": {
        "cell_id": "00255-3b6d8bea-7285-4f2c-b484-4fe59b794fc3",
        "deepnote_cell_type": "code",
        "id": "mkYfIwFoEbM6",
        "colab": {
          "base_uri": "https://localhost:8080/"
        },
        "outputId": "4b5041ec-c3b0-42eb-8027-adf95ae8f6f3"
      },
      "source": [
        ">>> from joblib import Parallel, delayed\n",
        ">>> from math import sqrt\n",
        ">>> Parallel(n_jobs=8)(delayed(sqrt)(i**2) for i in range(10))"
      ],
      "execution_count": null,
      "outputs": [
        {
          "output_type": "execute_result",
          "data": {
            "text/plain": [
              "[0.0, 1.0, 2.0, 3.0, 4.0, 5.0, 6.0, 7.0, 8.0, 9.0]"
            ]
          },
          "metadata": {},
          "execution_count": 71
        }
      ]
    },
    {
      "cell_type": "markdown",
      "metadata": {
        "cell_id": "00256-175d7309-fc80-45cb-9898-fa05efbdeb88",
        "deepnote_cell_type": "markdown",
        "id": "C4QS178IEbM7"
      },
      "source": [
        "See also: https://docs.python.org/3/library/multiprocessing.html"
      ]
    },
    {
      "cell_type": "markdown",
      "metadata": {
        "created_in_deepnote_cell": true,
        "deepnote_cell_type": "markdown",
        "tags": [],
        "id": "1TGjZ-XREbM7"
      },
      "source": [
        "<a style='text-decoration:none;line-height:16px;display:flex;color:#5B5B62;padding:10px;justify-content:end;' href='https://deepnote.com?utm_source=created-in-deepnote-cell&projectId=f91b818d-f536-4b8f-81de-61752e0979b7' target=\"_blank\">\n",
        "<img alt='Created in deepnote.com' style='display:inline;max-height:16px;margin:0px;margin-right:7.5px;' src='data:image/svg+xml;base64,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' > </img>\n",
        "Created in <span style='font-weight:600;margin-left:4px;'>Deepnote</span></a>"
      ]
    }
  ]
}