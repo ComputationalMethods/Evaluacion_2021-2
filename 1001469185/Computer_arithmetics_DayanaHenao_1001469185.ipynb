{
  "cells": [
    {
      "cell_type": "markdown",
      "metadata": {
        "id": "K-Y40d7IekWU"
      },
      "source": [
        "<a href=\"https://colab.research.google.com/github/restrepo/ComputationalMethods/blob/master/material/computer-arithmetics.ipynb\" target=\"_parent\"><img src=\"https://colab.research.google.com/assets/colab-badge.svg\" alt=\"Open In Colab\"/></a>\n",
        "\n",
        "# Computer Arithmetics and Round-off Methods\n",
        "\n",
        "Actividades: https://classroom.github.com/a/2v-HnNqn\n",
        "\n",
        "In a symbolic computation programs, implemented in SymPy or Mathematica for example, operatios like $1/3+4/3=5/3$, $2\\times 3/4 = 3/2$, $(\\sqrt{2})^2 = 2$ are unambiguously defined, However, when one numerical programming languages are used to represent numbers in a computer, this is no longer true. The main reason of this is the so-called *finite arithmetic*, what is the way in which a numerical computer programs performs basic operations. Some features of *finite arithmetic* are stated below:"
      ]
    },
    {
      "cell_type": "markdown",
      "metadata": {
        "id": "cDGwlBnNOPOm"
      },
      "source": [
        "- Only integer and rational numbers can be exactly represented.\n",
        "- The elements of the set in which arithmetic is performed is necessarily finite.\n",
        "- Any arithmetic operation between two or more numbers of this set should be another element of the set.\n",
        "- Non-representable numbers like irrational numbers are approximated to the closest rational number within the defined set.\n",
        "- Extremely large numbers produce overflows and extremely small numbers produce underflows, which are taken as null.\n",
        "- Operations over non-representable numbers are not exact.\n",
        "\n",
        "In spite of this, defining adequately the set of elements in which our computer will operate, round-off methods can be systematically neglected, yielding correct results within reasonable error margins. In some pathological cases, when massive iterations are required, these errors must be taken into account more seriously.\n",
        "\n",
        "- - - \n",
        "\n",
        "- [Binary machine numbers](#Binary-machine-numbers)\n",
        "    - [Single-precision numbers](#Single-precision-numbers)\n",
        "    - [Double-precision numbers](#Double-precision-numbers)\n",
        "- [Finite Arithmetic](#Finite-Arithmetic)\n",
        "    - [Addition](#Addition)\n",
        "    - [Multiplication](#Multiplication)\n",
        "\n",
        "- - - "
      ]
    },
    {
      "cell_type": "markdown",
      "metadata": {
        "id": "zWdWva3aOPOn"
      },
      "source": [
        "## More About Float Values \n",
        "See also [here](https://www.inferentialthinking.com/chapters/04/1/Numbers.html)\n",
        "\n",
        "In Python a float only represents 15 or 16 significant digits for any number; the remaining precision is lost. This limited precision is enough for the vast majority of applications.\n",
        "\n",
        "In the next evaluation extra digits are discarded before any arithmetic is carried out."
      ]
    },
    {
      "cell_type": "code",
      "execution_count": null,
      "metadata": {
        "id": "c_J3_peYOPOp",
        "outputId": "5357329e-317f-4660-ab7d-300d39c65818"
      },
      "outputs": [
        {
          "data": {
            "text/plain": [
              "0.0"
            ]
          },
          "execution_count": 38,
          "metadata": {},
          "output_type": "execute_result"
        }
      ],
      "source": [
        "0.6666666666666666 - 0.6666666666666666123456789"
      ]
    },
    {
      "cell_type": "markdown",
      "metadata": {
        "id": "h8cFN_tUOPOr"
      },
      "source": [
        "After combining float values with arithmetic, the last few digits may be incorrect. Small rounding errors are often confusing when first encountered. For example, the expression `2**0.5` computes the square root of `2`, but squaring this value does not exactly recover `2`."
      ]
    },
    {
      "cell_type": "code",
      "execution_count": null,
      "metadata": {
        "id": "cOGO36G6OPOt",
        "outputId": "14327f7a-5bd9-4c80-e030-1a7c79bc6c2a"
      },
      "outputs": [
        {
          "data": {
            "text/plain": [
              "1.4142135623730951"
            ]
          },
          "execution_count": 39,
          "metadata": {},
          "output_type": "execute_result"
        }
      ],
      "source": [
        "2**0.5"
      ]
    },
    {
      "cell_type": "code",
      "execution_count": null,
      "metadata": {
        "id": "4ueh3INUOPOu",
        "outputId": "8f15c1a0-2eb1-40a7-f8f8-b18c9a199559"
      },
      "outputs": [
        {
          "data": {
            "text/plain": [
              "2.0000000000000004"
            ]
          },
          "execution_count": 40,
          "metadata": {},
          "output_type": "execute_result"
        }
      ],
      "source": [
        "(2**0.5)**2"
      ]
    },
    {
      "cell_type": "code",
      "execution_count": null,
      "metadata": {
        "id": "iQZbnlWNOPOv",
        "outputId": "a917aa2c-e583-4eaf-ab61-a2e6f58e5a65"
      },
      "outputs": [
        {
          "data": {
            "text/plain": [
              "4.440892098500626e-16"
            ]
          },
          "execution_count": 41,
          "metadata": {},
          "output_type": "execute_result"
        }
      ],
      "source": [
        "(2**0.5)**2 - 2"
      ]
    },
    {
      "cell_type": "markdown",
      "metadata": {
        "id": "oqZtWoT7jolm"
      },
      "source": [
        "## Binary machine numbers"
      ]
    },
    {
      "cell_type": "markdown",
      "metadata": {
        "id": "7z0MWgOrjuO2"
      },
      "source": [
        "We will obtain the general algorithm to obtain the binary r"
      ]
    },
    {
      "cell_type": "markdown",
      "metadata": {
        "id": "6YcTBJivis_R"
      },
      "source": [
        "### Integers"
      ]
    },
    {
      "cell_type": "markdown",
      "metadata": {
        "id": "74bewmHTixif"
      },
      "source": [
        "From [here](https://www.techcareerbooster.com/blog/binary-representation-of-an-integer): If you recall your mathematics, then it will be easy for you to find out how we turn an integer number to its binary representation. Let's take for example the number 47. (see '//' operator [here](https://stackoverflow.com/a/1535601))\n",
        "\n",
        "\n",
        "1. We divide 47 by 2. The quotient is `int(47//2) → 23` and the remainder is `47%2 → 1`\n",
        "2. We divide the quotient of the previous step by 2. The new quotient is `int(23//2) → 11` and the remainder is `23%2 → 1`.\n",
        "3. We divide the quotient of the previous step by 2. The new quotient is `int(11/2) → 5` and the remainder is `11%2 → 1`.\n",
        "5. We divide the quotient of the previous step by 2. The new quotient is `int(5//2) → 2` and the remainder is `5%2 → 1`.\n",
        "6. We divide the quotient of the previous step by 2. The new quotient is `int(2//2) → 1` and the remainder is `2%2 → 0`.\n",
        "7. We divide the quotient of the previous step by 2. The new quotient is `int(1//2) → 0` and the remainder is `1%2 → 1`\n",
        "8. We stop here, when the last quotient is `1//2→0`.\n",
        "\n",
        "Then, the binary representation is the series of __1__s and __0__s of the remainders, taken in reverse order to the one produced, from latest to earliest: __101111__.\n",
        "<!-- https://www.geeksforgeeks.org/bin-in-python/ -->"
      ]
    },
    {
      "cell_type": "markdown",
      "metadata": {
        "id": "NieG9Hn5lp0v"
      },
      "source": [
        "__Activity__: Implement a function that get the binary representation of an integer. "
      ]
    },
    {
      "cell_type": "markdown",
      "source": [
        "**Código para pasar de decimal a binario**"
      ],
      "metadata": {
        "id": "JVu0WgOMg1hN"
      }
    },
    {
      "cell_type": "code",
      "source": [
        "#Prueba del código\n",
        "x=47\n",
        "a=[x]\n",
        "while x//2!=1:\n",
        "  x=x//2\n",
        "  a.append(x)\n",
        "a.append(1)\n",
        "\n",
        "for i in a:\n",
        "  if i%2==0:\n",
        "    print('0')\n",
        "  else:\n",
        "    print('1')\n",
        "\n",
        "print('↑')\n"
      ],
      "metadata": {
        "id": "8w6EdjV4iPRC"
      },
      "execution_count": null,
      "outputs": []
    },
    {
      "cell_type": "markdown",
      "source": [
        "Función para pasar de decimal a binario"
      ],
      "metadata": {
        "id": "Q-ClXs3SiU-t"
      }
    },
    {
      "cell_type": "code",
      "source": [
        "def binario(x):\n",
        "  a=[x]\n",
        "  while x//2!=1:\n",
        "    x=x//2\n",
        "    a.append(x)\n",
        "  a.append(1)\n",
        "  \n",
        "  for i in a:\n",
        "    if i%2==0:\n",
        "      print('0')\n",
        "    else:\n",
        "      print('1')\n",
        "\n",
        "  print('↑')\n",
        "  print('Se debe leer de abajo para arriba')"
      ],
      "metadata": {
        "id": "WpNgyKLacuGg"
      },
      "execution_count": 4,
      "outputs": []
    },
    {
      "cell_type": "code",
      "source": [
        "binario(47)"
      ],
      "metadata": {
        "colab": {
          "base_uri": "https://localhost:8080/"
        },
        "id": "1lEYlkaTdS8g",
        "outputId": "88125aea-51d5-4ebe-8493-9c5370f96ab9"
      },
      "execution_count": 5,
      "outputs": [
        {
          "output_type": "stream",
          "name": "stdout",
          "text": [
            "1\n",
            "1\n",
            "1\n",
            "1\n",
            "0\n",
            "1\n",
            "↑\n",
            "Se debe leer de abajo para arriba\n"
          ]
        }
      ]
    },
    {
      "cell_type": "code",
      "source": [
        "bin(47)[2:]"
      ],
      "metadata": {
        "colab": {
          "base_uri": "https://localhost:8080/",
          "height": 35
        },
        "id": "kEUOrzJEZe0P",
        "outputId": "435291b5-57b7-4215-dc3b-b50e2a635a8d"
      },
      "execution_count": null,
      "outputs": [
        {
          "output_type": "execute_result",
          "data": {
            "application/vnd.google.colaboratory.intrinsic+json": {
              "type": "string"
            },
            "text/plain": [
              "'101111'"
            ]
          },
          "metadata": {},
          "execution_count": 4
        }
      ]
    },
    {
      "cell_type": "markdown",
      "source": [
        "**Código para pasar de binario a decimal**"
      ],
      "metadata": {
        "id": "yHkV1SARg_l6"
      }
    },
    {
      "cell_type": "code",
      "source": [
        "# Prueba del código\n",
        "\n",
        "binario = '101111'\n",
        "ndecimal = 0\n",
        "for i, j in enumerate(binario[::-1]):\n",
        "\tndecimal += int(j) * 2 ** i\n",
        "\n",
        "print(f'El número binario {binario} en decimal es {ndecimal}')"
      ],
      "metadata": {
        "colab": {
          "base_uri": "https://localhost:8080/"
        },
        "id": "pvYJ7I2zhFIe",
        "outputId": "bb27df27-915e-4190-98cd-ca504823f464"
      },
      "execution_count": 16,
      "outputs": [
        {
          "output_type": "stream",
          "name": "stdout",
          "text": [
            "El número binario 101111 en decimal es 47\n"
          ]
        }
      ]
    },
    {
      "cell_type": "markdown",
      "source": [
        "Función para pasar de binario a decimal"
      ],
      "metadata": {
        "id": "EpoJLM2Ki4U-"
      }
    },
    {
      "cell_type": "code",
      "source": [
        "def decimal(y):\n",
        "  binario=str(y)\n",
        "  ndecimal = 0\n",
        "  for i, j in enumerate(binario[::-1]):\n",
        "\t  ndecimal += int(j) * 2 ** i\n",
        "\n",
        "  print(f'El número binario {y} en decimal es {ndecimal}')"
      ],
      "metadata": {
        "id": "U7FACc6mi70K"
      },
      "execution_count": 32,
      "outputs": []
    },
    {
      "cell_type": "code",
      "source": [
        "decimal(101111)"
      ],
      "metadata": {
        "colab": {
          "base_uri": "https://localhost:8080/"
        },
        "id": "CG0ioBRTjIai",
        "outputId": "2e0a807c-4e2b-4863-e3db-553c0ae5bc95"
      },
      "execution_count": 33,
      "outputs": [
        {
          "output_type": "stream",
          "name": "stdout",
          "text": [
            "El número binario 101111 en decimal es 47\n"
          ]
        }
      ]
    },
    {
      "cell_type": "markdown",
      "metadata": {
        "id": "Vn7Cusk5orMc"
      },
      "source": [
        "__Activity__: Return as a string with 8 charactes completed with leading zeroes. Use the string method: `.rjust(8,\"0\")`"
      ]
    },
    {
      "cell_type": "code",
      "source": [
        "''.rjust(8,'0')"
      ],
      "metadata": {
        "colab": {
          "base_uri": "https://localhost:8080/",
          "height": 35
        },
        "id": "Dl9ytfOenn5l",
        "outputId": "fbd6e0f8-7a86-4a61-e651-e24c2e8740cf"
      },
      "execution_count": null,
      "outputs": [
        {
          "output_type": "execute_result",
          "data": {
            "application/vnd.google.colaboratory.intrinsic+json": {
              "type": "string"
            },
            "text/plain": [
              "'00000000'"
            ]
          },
          "metadata": {},
          "execution_count": 28
        }
      ]
    },
    {
      "cell_type": "markdown",
      "metadata": {
        "id": "WCU8B-h1A2Pq"
      },
      "source": [
        "__Activity__ Write your function in the following format"
      ]
    },
    {
      "cell_type": "code",
      "execution_count": null,
      "metadata": {
        "colab": {
          "base_uri": "https://localhost:8080/"
        },
        "id": "aP1xnAWrBfRp",
        "outputId": "04562e0e-85d5-4eeb-ab99-ef71c795392e"
      },
      "outputs": [
        {
          "output_type": "stream",
          "name": "stdout",
          "text": [
            "Escriba un entero:\n",
            "47\n",
            "__name__ = __main__\n",
            "Su representación binaria es: 00101111\n"
          ]
        }
      ],
      "source": [
        "#!/usr/bin/env python3\n",
        "def mybin(x):\n",
        "    print('__name__ = {}'.format(__name__))\n",
        "    #Write your code here and change the next line as required\n",
        "    return bin(x)[2:].rjust(8, \"0\")\n",
        "if __name__=='__main__':\n",
        "    n=input('Escriba un entero:\\n')\n",
        "    b=mybin(int(n))\n",
        "    print('Su representación binaria es: {}'.format(b))"
      ]
    },
    {
      "cell_type": "markdown",
      "metadata": {
        "id": "C9-H4KqgBpg2"
      },
      "source": [
        "The advantage of this standard format is that can be used directly as a python module, because in that case the variable `__name__` evaluates to the name\n",
        "of the function. To check this, we first use a cell of the notebook just as a editor with the Jupyter magic function `%%writefile`"
      ]
    },
    {
      "cell_type": "code",
      "execution_count": null,
      "metadata": {
        "colab": {
          "base_uri": "https://localhost:8080/"
        },
        "id": "ZVgjNnOfSDp0",
        "outputId": "044c4bb9-e84d-43e6-cd3e-b7c4587bc27b"
      },
      "outputs": [
        {
          "output_type": "stream",
          "name": "stdout",
          "text": [
            "Writing mybin.py\n"
          ]
        }
      ],
      "source": [
        "%%writefile mybin.py\n",
        "#!/usr/bin/env python3\n",
        "def mybin(x):\n",
        "    print('__name__ = {}'.format(__name__))\n",
        "    return bin(x)[2:].rjust(8, \"0\")\n",
        "if __name__=='__main__':\n",
        "    n=input('Escriba un entero;\\n')\n",
        "    b=mybin(int(n))\n",
        "    print('Su representación binaria es: {}'.format(b))\n"
      ]
    },
    {
      "cell_type": "markdown",
      "metadata": {
        "id": "8F0OTamOSLfO"
      },
      "source": [
        "We now can use the full contents of the file as an usual python module, it it is\n",
        "in the working directory"
      ]
    },
    {
      "cell_type": "code",
      "execution_count": null,
      "metadata": {
        "colab": {
          "base_uri": "https://localhost:8080/",
          "height": 53
        },
        "id": "bXohCqmKSY7r",
        "outputId": "2f1eb2e1-0615-445e-b563-c40c50f1d12b"
      },
      "outputs": [
        {
          "output_type": "stream",
          "name": "stdout",
          "text": [
            "__name__ = mybin\n"
          ]
        },
        {
          "output_type": "execute_result",
          "data": {
            "application/vnd.google.colaboratory.intrinsic+json": {
              "type": "string"
            },
            "text/plain": [
              "'00101101'"
            ]
          },
          "metadata": {},
          "execution_count": 34
        }
      ],
      "source": [
        "import mybin as my\n",
        "my.mybin(45)"
      ]
    },
    {
      "cell_type": "code",
      "source": [
        "my.mybin(47)"
      ],
      "metadata": {
        "colab": {
          "base_uri": "https://localhost:8080/",
          "height": 53
        },
        "id": "bb-Sdpp9o9TV",
        "outputId": "1792bd64-7d11-4fd9-8eb7-25d06095f7b1"
      },
      "execution_count": null,
      "outputs": [
        {
          "output_type": "stream",
          "name": "stdout",
          "text": [
            "__name__ = mybin\n"
          ]
        },
        {
          "output_type": "execute_result",
          "data": {
            "application/vnd.google.colaboratory.intrinsic+json": {
              "type": "string"
            },
            "text/plain": [
              "'00101111'"
            ]
          },
          "metadata": {},
          "execution_count": 35
        }
      ]
    },
    {
      "cell_type": "code",
      "source": [
        "while here, or in a terminal:"
      ],
      "metadata": {
        "id": "G8ub4YLqpeA_"
      },
      "execution_count": null,
      "outputs": []
    },
    {
      "cell_type": "code",
      "execution_count": null,
      "metadata": {
        "id": "2xUSDhO6OPO7",
        "outputId": "1a15e5a5-fecd-4823-a706-214b6f3e49c5",
        "colab": {
          "base_uri": "https://localhost:8080/",
          "height": 35
        }
      },
      "outputs": [
        {
          "output_type": "execute_result",
          "data": {
            "application/vnd.google.colaboratory.intrinsic+json": {
              "type": "string"
            },
            "text/plain": [
              "'__main__'"
            ]
          },
          "metadata": {},
          "execution_count": 39
        }
      ],
      "source": [
        "__name__"
      ]
    },
    {
      "cell_type": "markdown",
      "metadata": {
        "id": "kWhR37BchYaJ"
      },
      "source": [
        "Check with `bin`"
      ]
    },
    {
      "cell_type": "markdown",
      "metadata": {
        "id": "nJiWGP8AgX27"
      },
      "source": [
        "The binary representation of a float in 32 bits done by the following steps"
      ]
    },
    {
      "cell_type": "code",
      "execution_count": null,
      "metadata": {
        "colab": {
          "base_uri": "https://localhost:8080/",
          "height": 35
        },
        "id": "YbrDjH0-hEhp",
        "outputId": "9d6ca2dc-862d-4c57-92d1-c3c3de1df268"
      },
      "outputs": [
        {
          "output_type": "execute_result",
          "data": {
            "application/vnd.google.colaboratory.intrinsic+json": {
              "type": "string"
            },
            "text/plain": [
              "'0b101111'"
            ]
          },
          "metadata": {},
          "execution_count": 43
        }
      ],
      "source": [
        "bin(47)"
      ]
    },
    {
      "cell_type": "markdown",
      "metadata": {
        "id": "5eDFv2B2u_ME"
      },
      "source": [
        "The format is not the standard one. We need drop the first '0b'"
      ]
    },
    {
      "cell_type": "code",
      "execution_count": null,
      "metadata": {
        "colab": {
          "base_uri": "https://localhost:8080/",
          "height": 35
        },
        "id": "vumsZnjDvV9Y",
        "outputId": "d8890582-e1ed-49d9-80ff-86fec234cac6"
      },
      "outputs": [
        {
          "output_type": "execute_result",
          "data": {
            "application/vnd.google.colaboratory.intrinsic+json": {
              "type": "string"
            },
            "text/plain": [
              "'101111'"
            ]
          },
          "metadata": {},
          "execution_count": 44
        }
      ],
      "source": [
        "bin(47)[2:]"
      ]
    },
    {
      "cell_type": "code",
      "source": [
        "bin(37)[2:]"
      ],
      "metadata": {
        "colab": {
          "base_uri": "https://localhost:8080/",
          "height": 35
        },
        "id": "jh4SCNLcppKu",
        "outputId": "5077f4f4-3af4-494c-c8a9-39932aef263d"
      },
      "execution_count": null,
      "outputs": [
        {
          "output_type": "execute_result",
          "data": {
            "application/vnd.google.colaboratory.intrinsic+json": {
              "type": "string"
            },
            "text/plain": [
              "'100101'"
            ]
          },
          "metadata": {},
          "execution_count": 46
        }
      ]
    },
    {
      "cell_type": "markdown",
      "metadata": {
        "id": "wp2bXTD8vfKo"
      },
      "source": [
        "We must enforce the 8 bits representation by padding any additional leading zeroes"
      ]
    },
    {
      "cell_type": "code",
      "execution_count": null,
      "metadata": {
        "colab": {
          "base_uri": "https://localhost:8080/",
          "height": 34
        },
        "id": "uVJtGrt2v61F",
        "outputId": "8bcd1b63-d9a5-43ed-8cd6-c2137c488e20"
      },
      "outputs": [
        {
          "data": {
            "text/plain": [
              "'00101111'"
            ]
          },
          "execution_count": 57,
          "metadata": {},
          "output_type": "execute_result"
        }
      ],
      "source": [
        "bin(47)[2:].rjust(8, '0')"
      ]
    },
    {
      "cell_type": "markdown",
      "metadata": {
        "id": "_MAeRxAGwCA1"
      },
      "source": [
        "To convert a binary into the integer we can use the `int` function with `base=0` upont the proper Python formatted string, starting with: <font color='red'>`0b`</font>"
      ]
    },
    {
      "cell_type": "code",
      "execution_count": null,
      "metadata": {
        "colab": {
          "base_uri": "https://localhost:8080/",
          "height": 34
        },
        "id": "uw7yxC8HwNqV",
        "outputId": "79e18d0f-36eb-4b3a-d867-51d996f712b1"
      },
      "outputs": [
        {
          "data": {
            "text/plain": [
              "47"
            ]
          },
          "execution_count": 58,
          "metadata": {},
          "output_type": "execute_result"
        }
      ],
      "source": [
        "int('0b101111',base=0)"
      ]
    },
    {
      "cell_type": "markdown",
      "metadata": {
        "id": "bN5y4Kinw-eY"
      },
      "source": [
        "or with any number of padding zeroes in between"
      ]
    },
    {
      "cell_type": "code",
      "execution_count": null,
      "metadata": {
        "colab": {
          "base_uri": "https://localhost:8080/",
          "height": 34
        },
        "id": "9iQptjEnwigI",
        "outputId": "d1373bb9-fe07-480a-cbb4-04617c1eb85d"
      },
      "outputs": [
        {
          "data": {
            "text/plain": [
              "47"
            ]
          },
          "execution_count": 9,
          "metadata": {},
          "output_type": "execute_result"
        }
      ],
      "source": [
        "int('0b0000000101111',base=0)"
      ]
    },
    {
      "cell_type": "code",
      "source": [
        "int('0b1011', base=0)"
      ],
      "metadata": {
        "colab": {
          "base_uri": "https://localhost:8080/"
        },
        "id": "pX7U3EPIcLmC",
        "outputId": "f541b8fc-1069-4312-e9ea-703767c4a8f4"
      },
      "execution_count": null,
      "outputs": [
        {
          "output_type": "execute_result",
          "data": {
            "text/plain": [
              "11"
            ]
          },
          "metadata": {},
          "execution_count": 17
        }
      ]
    },
    {
      "cell_type": "code",
      "source": [
        "bin(11)[2:]"
      ],
      "metadata": {
        "colab": {
          "base_uri": "https://localhost:8080/",
          "height": 35
        },
        "id": "_ciF4kiSf7bx",
        "outputId": "9c9e91ca-62e6-4c57-c4d1-1b932c5e093d"
      },
      "execution_count": null,
      "outputs": [
        {
          "output_type": "execute_result",
          "data": {
            "application/vnd.google.colaboratory.intrinsic+json": {
              "type": "string"
            },
            "text/plain": [
              "'1011'"
            ]
          },
          "metadata": {},
          "execution_count": 24
        }
      ]
    },
    {
      "cell_type": "markdown",
      "metadata": {
        "id": "GlLaeJuYekWV"
      },
      "source": [
        "### Floats\n",
        "Floats in 32 bits are representated trough 4 8-bit integers.\n",
        "\n",
        "The processes of obtain the binary representation for a float can be complicated because the design used to really  store the number  in one specific programming language like Python. In fact, from https://stackoverflow.com/a/16444778/2268280:"
      ]
    },
    {
      "cell_type": "markdown",
      "metadata": {
        "id": "yg8dpA8M0X_o"
      },
      "source": [
        "* To obtain the four integers associated to a real number we need first to ask for the packed structure : `'!'`, in 32 bits: `'f'`, with the full string `'!f'` as"
      ]
    },
    {
      "cell_type": "code",
      "execution_count": null,
      "metadata": {
        "colab": {
          "base_uri": "https://localhost:8080/"
        },
        "id": "JFXl8fYT0m5f",
        "outputId": "4a53a800-5f04-4d1d-cb70-76f1ff3f53cf"
      },
      "outputs": [
        {
          "output_type": "execute_result",
          "data": {
            "text/plain": [
              "b'> \\x00\\x00'"
            ]
          },
          "metadata": {},
          "execution_count": 47
        }
      ],
      "source": [
        "import struct\n",
        "packed=struct.pack('!f',0.15625)\n",
        "packed"
      ]
    },
    {
      "cell_type": "code",
      "execution_count": null,
      "metadata": {
        "id": "vZPs4fFqOPPA",
        "outputId": "34718f3b-5fd5-4181-d440-6307862713b2",
        "colab": {
          "base_uri": "https://localhost:8080/"
        }
      },
      "outputs": [
        {
          "output_type": "execute_result",
          "data": {
            "text/plain": [
              "bytes"
            ]
          },
          "metadata": {},
          "execution_count": 48
        }
      ],
      "source": [
        "type(packed)"
      ]
    },
    {
      "cell_type": "markdown",
      "metadata": {
        "id": "DF1X9-Q_1jj0"
      },
      "source": [
        "This is a packed Python list with the four integers inside"
      ]
    },
    {
      "cell_type": "code",
      "execution_count": null,
      "metadata": {
        "colab": {
          "base_uri": "https://localhost:8080/"
        },
        "id": "gLnTvnAQ1riZ",
        "outputId": "216b49a5-0c06-46bf-ad1f-b4fd1a2fe778"
      },
      "outputs": [
        {
          "output_type": "execute_result",
          "data": {
            "text/plain": [
              "[62, 32, 0, 0]"
            ]
          },
          "metadata": {},
          "execution_count": 49
        }
      ],
      "source": [
        "[n for n in packed]"
      ]
    },
    {
      "cell_type": "markdown",
      "metadata": {
        "id": "fUv2SZWO14nY"
      },
      "source": [
        "Using the previous function to convert into a list of 8-bit strings"
      ]
    },
    {
      "cell_type": "code",
      "execution_count": null,
      "metadata": {
        "colab": {
          "base_uri": "https://localhost:8080/"
        },
        "id": "7Sd2oDWN7V2v",
        "outputId": "f7320ec3-702b-4c42-c536-7630291fb0d1"
      },
      "outputs": [
        {
          "output_type": "stream",
          "name": "stdout",
          "text": [
            "__name__ = __main__\n",
            "__name__ = __main__\n",
            "__name__ = __main__\n",
            "__name__ = __main__\n"
          ]
        },
        {
          "output_type": "execute_result",
          "data": {
            "text/plain": [
              "[None, None, None, None]"
            ]
          },
          "metadata": {},
          "execution_count": 52
        }
      ],
      "source": [
        "lb=[ mybin(n) for n in packed]\n",
        "lb"
      ]
    },
    {
      "cell_type": "markdown",
      "metadata": {
        "id": "VxjOcP8A-eK4"
      },
      "source": [
        "The float representation is just the string formed with the four binaries"
      ]
    },
    {
      "cell_type": "code",
      "source": [
        "''.join(lb)"
      ],
      "metadata": {
        "id": "FYNyFQYtqZmu"
      },
      "execution_count": null,
      "outputs": []
    },
    {
      "cell_type": "markdown",
      "metadata": {
        "id": "eptuC0Nk_qXZ"
      },
      "source": [
        "![32-bits](http://upload.wikimedia.org/wikipedia/commons/thumb/d/d2/Float_example.svg/590px-Float_example.svg.png)"
      ]
    },
    {
      "cell_type": "markdown",
      "metadata": {
        "id": "KL8J_d0y7jNI"
      },
      "source": [
        "#### Full implementation"
      ]
    },
    {
      "cell_type": "code",
      "execution_count": null,
      "metadata": {
        "id": "JaBoHSiAekWW"
      },
      "outputs": [],
      "source": [
        "import struct\n",
        "\n",
        "def binary(num):\n",
        "#num=3\n",
        "#if True:\n",
        "    # Struct can provide us with the float packed into bytes. The '!' ensures that\n",
        "    # it's in network byte order (big-endian) and the 'f' says that it should be\n",
        "    # packed as a float: 32 bites. Alternatively, for double-precision, you could use 'd'.\n",
        "    packed = struct.pack('!f', num)\n",
        "    print( 'Packed: %s' % repr(packed))\n",
        "\n",
        "    # For each character in the returned string, we'll turn it into its corresponding\n",
        "    # integer code point\n",
        "    # \n",
        "    integers = [c for c in packed]\n",
        "    print( 'Integers: %s' % integers)\n",
        "\n",
        "    # For each integer, we'll convert it to its binary representation.\n",
        "    binaries = [bin(i) for i in integers]\n",
        "    print( 'Binaries: %s' % binaries)\n",
        "\n",
        "    # Now strip off the '0b' from each of these\n",
        "    stripped_binaries = [s.replace('0b', '') for s in binaries]\n",
        "    print( 'Stripped: %s' % stripped_binaries)\n",
        "\n",
        "    # Pad each byte's binary representation's with 0's to make sure it has all 8 bits:\n",
        "    #\n",
        "    # ['00111110', '10100011', '11010111', '00001010']\n",
        "    padded = [s.rjust(8, '0') for s in stripped_binaries]\n",
        "    print( 'Padded: %s' % padded)\n",
        "\n",
        "    # At this point, we have each of the bytes for the network byte ordered float\n",
        "    # in an array as binary strings. Now we just concatenate them to get the total\n",
        "    # representation of the float:\n",
        "    return ''.join(padded)"
      ]
    },
    {
      "cell_type": "code",
      "execution_count": null,
      "metadata": {
        "colab": {
          "base_uri": "https://localhost:8080/",
          "height": 126
        },
        "id": "Og6bGmhVekWZ",
        "outputId": "059605fc-be6d-479b-8f2e-45ba989fb38c"
      },
      "outputs": [
        {
          "name": "stdout",
          "output_type": "stream",
          "text": [
            "Packed: b'> \\x00\\x00'\n",
            "Integers: [62, 32, 0, 0]\n",
            "Binaries: ['0b111110', '0b100000', '0b0', '0b0']\n",
            "Stripped: ['111110', '100000', '0', '0']\n",
            "Padded: ['00111110', '00100000', '00000000', '00000000']\n"
          ]
        },
        {
          "data": {
            "text/plain": [
              "'00111110001000000000000000000000'"
            ]
          },
          "execution_count": 66,
          "metadata": {},
          "output_type": "execute_result"
        }
      ],
      "source": [
        "BIN=binary(0.15625)\n",
        "BIN"
      ]
    },
    {
      "cell_type": "markdown",
      "metadata": {
        "id": "G6Nycj-cekWc"
      },
      "source": [
        "![32-bits](http://upload.wikimedia.org/wikipedia/commons/thumb/d/d2/Float_example.svg/590px-Float_example.svg.png)"
      ]
    },
    {
      "cell_type": "code",
      "execution_count": null,
      "metadata": {
        "colab": {
          "base_uri": "https://localhost:8080/",
          "height": 35
        },
        "id": "KqAdhGWWekWd",
        "outputId": "b15caac7-38d8-4412-a683-09cf532a0f30"
      },
      "outputs": [
        {
          "data": {
            "text/plain": [
              "'00000000000000000000010001111100'"
            ]
          },
          "execution_count": 17,
          "metadata": {},
          "output_type": "execute_result"
        }
      ],
      "source": [
        "''.join( list(BIN)[::-1] ) #inverted list joined into a string"
      ]
    },
    {
      "cell_type": "markdown",
      "metadata": {
        "id": "siRJmwCAekWg"
      },
      "source": [
        "## Binary machine numbers    "
      ]
    },
    {
      "cell_type": "markdown",
      "metadata": {
        "id": "9gyrlmVDekWh"
      },
      "source": [
        "As everyone knows, the base of the modern computation is the binary numbers. The binary base or base-2 numeral system is the simplest one among the existing numeral bases. As every electronic devices are based on logic circuits (circuits operating with [logic gates](#LogicGates)), the implementation of a binary base is straightforward, besides, any other numeral system can be reduced to a binary representation.\n",
        "\n",
        "![LogicGates](http://www.ee.surrey.ac.uk/Projects/CAL/digital-logic/gatesfunc/graphics/symtab.gif)\n",
        "\n",
        "According to the standard [IEEE 754-2008](http://en.wikipedia.org/wiki/IEEE_floating_point), representation of real numbers can be done in several ways, [single-precision](http://en.wikipedia.org/wiki/Single-precision_floating-point_format) and [double precision](http://en.wikipedia.org/wiki/Double-precision_floating-point_format) are the most used ones."
      ]
    },
    {
      "cell_type": "markdown",
      "metadata": {
        "id": "mTaL_rTLekWh"
      },
      "source": [
        "### Single-precision numbers"
      ]
    },
    {
      "cell_type": "markdown",
      "metadata": {
        "id": "i0TqQpJuekWi"
      },
      "source": [
        "Single-precision numbers are used when one does not need very accurate results and/or need to save memory. These numbers are represented by a **32-bits** (Binary digIT) lenght binary number, where the real number is stored following the next rules:\n",
        "\n",
        "![32-bits](http://upload.wikimedia.org/wikipedia/commons/thumb/d/d2/Float_example.svg/590px-Float_example.svg.png)\n",
        "\n",
        "1. The fist digit (called *s*) indicates the sign of the number (s=0 means a positive number, s=1 a negative one).\n",
        "2. The next 8 bits represent the exponent of the number.\n",
        "3. The last 23 bits represent the fractional part of the number.\n",
        "\n",
        "The formula for recovering the real number is then given by:\n",
        "\n",
        "$$r = \\frac{(-1)^s}{2^{127-e}} \\left( 1 + \\sum_{i=0}^{22}\\frac{b_{i}}{2^{23-i}} \\right)$$\n",
        "\n",
        "where $s$ is the sign, $b_{23-i}$ the fraction bits and $e$ is given by:\n",
        "\n",
        "$$e = \\sum_{i=0}^7 b_{23+i}2^i$$\n",
        "\n",
        "Next, it is shown a little routine for calculating the value of the represented 32-bits number"
      ]
    },
    {
      "cell_type": "markdown",
      "metadata": {
        "id": "2ycxeSJCekWj"
      },
      "source": [
        "### ACTIVITY\n",
        "With the binary representation please try to implement the formula to recover the number.\n",
        "\n",
        "__Hint__: Use as input the binary representation as a string and invert its order"
      ]
    },
    {
      "cell_type": "markdown",
      "metadata": {
        "id": "sjxwZuwYekWk"
      },
      "source": [
        "__SOLUTION__:"
      ]
    },
    {
      "cell_type": "markdown",
      "metadata": {
        "id": "gDTO3_OqekWl"
      },
      "source": [
        "The goal of this course is try to implement all the algorithms in terms of array operations, instead of use the loops of Pyhton like the `for` loop.\n",
        "\n",
        "In this way, we need to interpret the formula in terms of  arrays operations. If we manage to achieve that, then NumPy will be take care of the internal loops, which are much faster than the Python loops. As a bonus, the code is more compact and readable.\n",
        "\n",
        "For example:\n",
        "\n",
        "\\begin{align}\n",
        "\\sum_{i=0}^{22}\\frac{b_{i}}{2^{23-i}}=&\\frac{b[0]}{2^{23}}+\\frac{b[1]}{2^{22}}\n",
        " +\\cdots +\\frac{b[21]}{2^2}+\\frac{b[22]}{2^1}\\nonumber\\\\\n",
        "=&\\frac{b}{2^{[23,22,...,1]}}.\\operatorname{sum()}\\nonumber\\\\\n",
        "=&\\frac{b}{2^{[1,2,...,23][::-1]}}.\\operatorname{sum()}\n",
        "\\end{align}\n",
        "\n",
        "To implement the full formula:\n",
        "$$r = \\frac{(-1)^s}{2^{127-e}} \\left( 1 + \\sum_{i=0}^{22}\\frac{b_{i}}{2^{23-i}} \\right)$$\n",
        "with \n",
        "$$e = \\sum_{i=0}^7 b_{23+i}2^i$$\n",
        "\n",
        "$$e_{\\text{max}} = \\sum_{i=0}^7 2^i$$\n",
        "\n",
        "Note that \n",
        "we have"
      ]
    },
    {
      "cell_type": "code",
      "execution_count": null,
      "metadata": {
        "id": "4FfRykO2ekWm"
      },
      "outputs": [],
      "source": [
        "import numpy as np\n",
        "def number32(BIN):\n",
        "#if True:\n",
        "    #BIN='00111110001000000000000000000000'\n",
        "    #Inverting binary string\n",
        "    b_inverted=np.array(list(BIN)[::-1]).astype(int)\n",
        "    \n",
        "    s=b_inverted[31]\n",
        "    #Exponent part\n",
        "    be=b_inverted[23:31]\n",
        "    i=np.arange(be.size)\n",
        "    e=(be*(2**i)).sum()\n",
        "    \n",
        "    bf=b_inverted[0:23]\n",
        "    i_inverted=np.arange(1,bf.size+1)[::-1]\n",
        "\n",
        "\n",
        "    numero=( (-1)**s/2**(127-e)  )*( 1 + (bf/2**i_inverted).sum() ) \n",
        "    return numero"
      ]
    },
    {
      "cell_type": "code",
      "execution_count": null,
      "metadata": {
        "id": "mWbfh4NbekWo",
        "outputId": "1cc2c76a-c08f-4807-d4b2-b61e89422f85",
        "scrolled": true,
        "colab": {
          "base_uri": "https://localhost:8080/"
        }
      },
      "outputs": [
        {
          "output_type": "stream",
          "name": "stdout",
          "text": [
            "0.15625\n"
          ]
        }
      ],
      "source": [
        "print(number32('00111110001000000000000000000000'))"
      ]
    },
    {
      "cell_type": "markdown",
      "metadata": {
        "id": "9psQnJf6ekWq"
      },
      "source": [
        "Check aginst the implementation with `for`'s"
      ]
    },
    {
      "cell_type": "code",
      "execution_count": null,
      "metadata": {
        "id": "ANxSuuvyekWr"
      },
      "outputs": [],
      "source": [
        "# %load numtobin.py\n",
        "def num32( binary ):\n",
        "    #Inverting binary string\n",
        "    binary = binary[::-1]\n",
        "    s=binary[31]\n",
        "    #Decimal part\n",
        "    dec = 1\n",
        "    for i in range(1,24):\n",
        "        dec += int(binary[23-i])*2**-i\n",
        "    #Exponent part\n",
        "    exp = 0\n",
        "    for i in range(0,8):\n",
        "        exp += int(binary[23+i])*2**i\n",
        "    #Total number\n",
        "    number =( (-1)**int(s)/2**(127-exp) )*dec\n",
        "    return number"
      ]
    },
    {
      "cell_type": "code",
      "execution_count": null,
      "metadata": {
        "id": "IUlLc8yjekWu",
        "outputId": "a7708d76-57a1-4bde-b201-02355da9bdb9"
      },
      "outputs": [
        {
          "name": "stdout",
          "output_type": "stream",
          "text": [
            "0.15625\n"
          ]
        }
      ],
      "source": [
        "print(num32('00111110001000000000000000000000'))"
      ]
    },
    {
      "cell_type": "markdown",
      "metadata": {
        "id": "_XvzBid9ekWw"
      },
      "source": [
        "%load sln.py"
      ]
    },
    {
      "cell_type": "markdown",
      "metadata": {
        "id": "WJr54n_TekWx"
      },
      "source": [
        "Single-precision system can represent real numbers within the interval $\\pm 10^{-38} \\cdots 10^{38}$, with $7-8$ decimal digits."
      ]
    },
    {
      "cell_type": "code",
      "execution_count": null,
      "metadata": {
        "colab": {
          "base_uri": "https://localhost:8080/",
          "height": 163
        },
        "id": "rFsolRCzekWx",
        "outputId": "185b8e85-53a6-4c2f-8c35-0f219d19a6b3"
      },
      "outputs": [
        {
          "name": "stdout",
          "output_type": "stream",
          "text": [
            "\n",
            "\n",
            "Decimal digits contributions for single precision number\n",
            "1.1920928955078125e-07 3.0517578125e-05 0.03125 \n",
            "\n",
            "Largest and smallest exponent for single precision number\n",
            "3.402823669209385e+38 5.877471754111438e-39 \n",
            "\n"
          ]
        }
      ],
      "source": [
        "#Decimal digits \n",
        "print(\"\\n\")\n",
        "print( \"Decimal digits contributions for single precision number\")\n",
        "print( 2**-23., 2**-15., 2**-5. , \"\\n\")\n",
        "\n",
        "#Largest and smallest exponent  \n",
        "emax = 0 \n",
        "for i in range(0,8):\n",
        "    emax += 2**i\n",
        "print( \"Largest and smallest exponent for single precision number\" )\n",
        "print( 2**(emax-127.), 2**(-127.),\"\\n\" )"
      ]
    },
    {
      "cell_type": "markdown",
      "metadata": {
        "id": "8qJB0mI5ekW0"
      },
      "source": [
        "### Double-precision numbers"
      ]
    },
    {
      "cell_type": "markdown",
      "metadata": {
        "id": "Dvz9JGLvekW0"
      },
      "source": [
        "Double-precision numbers are used when high accuracy is required. These numbers are represented by a **64-bits** (Binary digIT) lenght binary number, where the real number is stored following the next rules:\n",
        "\n",
        "![64-bits](http://upload.wikimedia.org/wikipedia/commons/thumb/a/a9/IEEE_754_Double_Floating_Point_Format.svg/618px-IEEE_754_Double_Floating_Point_Format.svg.png)\n",
        "\n",
        "1. The fist digit (called *s*) indicates the sign of the number (s=0 means a positive number, s=1 a negative one).\n",
        "2. The next 11 bits represent the exponent of the number.\n",
        "3. The last  bits represent the fractional part of the number.\n",
        "\n",
        "The formula for recovering the real number is then given by:\n",
        "\n",
        "$$r = (-1)^s\\times \\left( 1 + \\sum_{i=1}^{52}b_{52-i}2^{-i} \\right)\\times 2^{e-1023}$$\n",
        "\n",
        "where $s$ is the sign, $b_{23-i}$ the fraction bits and $e$ is given by:\n",
        "\n",
        "$$e = \\sum_{i=0}^{10} b_{52+i}2^i$$\n",
        "\n",
        "Double-precision system can represent real numbers within the interval $\\pm 10^{-308} \\cdots 10^{308}$, with $16-17$ decimal digits."
      ]
    },
    {
      "cell_type": "code",
      "execution_count": null,
      "metadata": {
        "id": "Zkn1HxzqOPPL",
        "outputId": "b52b1b93-8b96-4e75-9f0c-98abb1f68e69"
      },
      "outputs": [
        {
          "data": {
            "text/plain": [
              "1e+308"
            ]
          },
          "execution_count": 70,
          "metadata": {},
          "output_type": "execute_result"
        }
      ],
      "source": [
        "1e307 * 10"
      ]
    },
    {
      "cell_type": "code",
      "execution_count": null,
      "metadata": {
        "id": "O4cF4VDLOPPL",
        "outputId": "d7673d60-574c-4a86-adc5-62407e19ed4a"
      },
      "outputs": [
        {
          "data": {
            "text/plain": [
              "inf"
            ]
          },
          "execution_count": 71,
          "metadata": {},
          "output_type": "execute_result"
        }
      ],
      "source": [
        "1e307 * 20"
      ]
    },
    {
      "cell_type": "code",
      "execution_count": null,
      "metadata": {
        "id": "-R4rwlqbOPPM",
        "outputId": "7d2a3ceb-aa2e-4f72-9ff8-8bf9f10e4de9"
      },
      "outputs": [
        {
          "data": {
            "text/plain": [
              "1e-323"
            ]
          },
          "execution_count": 72,
          "metadata": {},
          "output_type": "execute_result"
        }
      ],
      "source": [
        "1e-323"
      ]
    },
    {
      "cell_type": "code",
      "execution_count": null,
      "metadata": {
        "id": "c7FsM0RHOPPM",
        "outputId": "f76e236f-7846-4fde-b324-d2187ec50205"
      },
      "outputs": [
        {
          "data": {
            "text/plain": [
              "0.0"
            ]
          },
          "execution_count": 73,
          "metadata": {},
          "output_type": "execute_result"
        }
      ],
      "source": [
        "1e-324"
      ]
    },
    {
      "cell_type": "markdown",
      "metadata": {
        "id": "Frp255HEekW1"
      },
      "source": [
        "### **ACTIVITY**\n",
        "\n",
        "**1.** Write a python script that calculates the double precision number represented by a 64-bits binary.\n",
        "\n",
        "    \n",
        "**2.** What is the number represented by:\n",
        "\n",
        "0 10000000011 1011100100001111111111111111111111111111111111111111\n",
        "\n",
        "<font color='white'>\n",
        "    **ANSWER:**  27.56640625"
      ]
    },
    {
      "cell_type": "markdown",
      "metadata": {
        "id": "PuIokoT9ekW2"
      },
      "source": [
        "## Finite Arithmetic"
      ]
    },
    {
      "cell_type": "markdown",
      "metadata": {
        "id": "4W64J6WhekW2"
      },
      "source": [
        "The most basic arithmetic operations are addition and multiplication. Further operations such as subtraction, division and power are secondary as they can be reached by iteratively use the latter ones."
      ]
    },
    {
      "cell_type": "markdown",
      "metadata": {
        "id": "EMlWF2h_ekW3"
      },
      "source": [
        "### Addition"
      ]
    },
    {
      "cell_type": "markdown",
      "metadata": {
        "id": "BXt1BtnPekW4"
      },
      "source": [
        "<!-- As mentioned before, arithmetic operations are not exact in a computer due to the inherent limitations in number representing. Even when adding two already approximate numbers, say a single-precision couple of numbers, the result may not be a representable number, being necessary to apply approximation rules.\n",
        "```python\n",
        "N = 9\n",
        "xe=0; x = 0; \n",
        "for i in range(N):\n",
        "    xe += np.float(1.0/N)\n",
        "    x += np.float16(1.0/N)\n",
        "print('expected: {}; obtained: {}'.format(xe,x))\n",
        "xe\n",
        "```\n",
        "Note that the sucessive application of rounded-off numbers produces a final result less precise.\n",
        "```python\n",
        "print( \"5/7\".format( np.float32(5/7.) ) )\n",
        "print( \"1/3\", np.float32(1/3.) )\n",
        "print( np.float32(5/7.+1/3.), 22/21. )\n",
        "```\n",
        "-->"
      ]
    },
    {
      "cell_type": "code",
      "execution_count": null,
      "metadata": {
        "colab": {
          "base_uri": "https://localhost:8080/",
          "height": 35
        },
        "id": "scamzqF1UiO-",
        "outputId": "97a18d7d-b5a4-42dd-a2fc-97185eee043c"
      },
      "outputs": [
        {
          "name": "stdout",
          "output_type": "stream",
          "text": [
            "Error: 5.676632830464712e-08\n"
          ]
        }
      ],
      "source": [
        "import numpy as np\n",
        "print(\"Error:\", np.float32(5/7.+1/3.)-22/21.)"
      ]
    },
    {
      "cell_type": "markdown",
      "metadata": {
        "id": "yJUY315tUjn-"
      },
      "source": [
        "Therefore, at the numerical computation level we must be aware that an expected \n",
        "zero result is really\n",
        "$$0\\approx 10^{-16}$$\n"
      ]
    },
    {
      "cell_type": "markdown",
      "metadata": {
        "id": "vdb_-iBaekW_"
      },
      "source": [
        "### Multiplication"
      ]
    },
    {
      "cell_type": "markdown",
      "metadata": {
        "id": "FY_9Ec5VekXA"
      },
      "source": [
        "For multiplication it is applied the same round-off rules as the addition, however, be aware that multiplicative errors propagate more quickly than additive errors."
      ]
    },
    {
      "cell_type": "code",
      "execution_count": null,
      "metadata": {
        "colab": {
          "base_uri": "https://localhost:8080/",
          "height": 35
        },
        "id": "Sj_QSq39ekXA",
        "outputId": "c8cc779b-b7d7-4f80-dc04-75e795eff040",
        "scrolled": true
      },
      "outputs": [
        {
          "name": "stdout",
          "output_type": "stream",
          "text": [
            "expected: 2.000000000000003; obtained: 1.9958053041750938\n"
          ]
        }
      ],
      "source": [
        "N = 20\n",
        "xe=1; x = 1\n",
        "for i in range(N):\n",
        "    xe *= float(2.0**(1.0/N))\n",
        "    x *= np.float16(2.0**(1.0/N))\n",
        "print('expected: {}; obtained: {}'.format(xe,x))"
      ]
    },
    {
      "cell_type": "code",
      "execution_count": null,
      "metadata": {
        "id": "xYyfjPVNXfdM"
      },
      "outputs": [],
      "source": [
        "N = 20\n",
        "xe=1; x = 1\n",
        "for i in range(N):\n",
        "    xe *= 2.0**(1.0/N)"
      ]
    },
    {
      "cell_type": "code",
      "execution_count": null,
      "metadata": {
        "colab": {
          "base_uri": "https://localhost:8080/",
          "height": 35
        },
        "id": "Q8j81laNZQf7",
        "outputId": "1a6b37cf-3f62-479c-e55a-98a0a5ace425"
      },
      "outputs": [
        {
          "data": {
            "text/plain": [
              "3.14"
            ]
          },
          "execution_count": 77,
          "metadata": {},
          "output_type": "execute_result"
        }
      ],
      "source": [
        "np.float16(3.1415926535897932384626433832795028841971)"
      ]
    },
    {
      "cell_type": "code",
      "execution_count": null,
      "metadata": {
        "colab": {
          "base_uri": "https://localhost:8080/",
          "height": 35
        },
        "id": "0A-QGfXKZAAj",
        "outputId": "7857977b-4b31-4d4c-a492-20fce75cab80"
      },
      "outputs": [
        {
          "data": {
            "text/plain": [
              "3.1415927"
            ]
          },
          "execution_count": 78,
          "metadata": {},
          "output_type": "execute_result"
        }
      ],
      "source": [
        "np.float32(3.1415926535897932384626433832795028841971)"
      ]
    },
    {
      "cell_type": "code",
      "execution_count": null,
      "metadata": {
        "colab": {
          "base_uri": "https://localhost:8080/",
          "height": 35
        },
        "id": "eZSEwotrZqNK",
        "outputId": "3fbeb6c1-d2f0-4a60-c674-7786a6d04c97"
      },
      "outputs": [
        {
          "data": {
            "text/plain": [
              "3.141592653589793"
            ]
          },
          "execution_count": 79,
          "metadata": {},
          "output_type": "execute_result"
        }
      ],
      "source": [
        "float(3.1415926535897932384626433832795028841971)"
      ]
    },
    {
      "cell_type": "code",
      "execution_count": null,
      "metadata": {
        "colab": {
          "base_uri": "https://localhost:8080/",
          "height": 35
        },
        "id": "yMgja3peZJIb",
        "outputId": "f63bfb3c-d4aa-49c2-c8f8-f32300f020cb"
      },
      "outputs": [
        {
          "data": {
            "text/plain": [
              "3.141592653589793"
            ]
          },
          "execution_count": 80,
          "metadata": {},
          "output_type": "execute_result"
        }
      ],
      "source": [
        "np.float64(3.1415926535897932384626433832795028841971)"
      ]
    },
    {
      "cell_type": "code",
      "execution_count": null,
      "metadata": {
        "colab": {
          "base_uri": "https://localhost:8080/",
          "height": 35
        },
        "id": "V6iuTVtpYx0z",
        "outputId": "b7e66df6-48ed-4483-9e00-039f96c7b748"
      },
      "outputs": [
        {
          "data": {
            "text/plain": [
              "3.141592653589793116"
            ]
          },
          "execution_count": 81,
          "metadata": {},
          "output_type": "execute_result"
        }
      ],
      "source": [
        "np.float128(3.1415926535897932384626433832795028841971)"
      ]
    },
    {
      "cell_type": "markdown",
      "metadata": {
        "id": "F21OUbxcekXD"
      },
      "source": [
        "The final result has an error at the third decimal digit, one more than the case of addition."
      ]
    },
    {
      "cell_type": "markdown",
      "metadata": {
        "id": "uvZ8RXy6ekXE"
      },
      "source": [
        "**ACTIVITY**\n",
        "\n",
        "Find the error associated to the finite representation in the next operations \n",
        "\n",
        "\n",
        "\n",
        "$$\n",
        "x-u, \\frac{x-u}{w}, (x-u)*v, u+v \n",
        "$$\n",
        "\n",
        "considering the values \n",
        "\n",
        "$$\n",
        "x = \\frac{5}{7}, y = \\frac{1}{3}, u = 0.71425\n",
        "$$\n",
        "\n",
        "\n",
        "\n",
        "$$\n",
        "v = 0.98765\\times 10^5, w = 0.111111\\times 10^{-4}\n",
        "$$\n"
      ]
    }
  ],
  "metadata": {
    "celltoolbar": "Slideshow",
    "colab": {
      "name": "Computer-arithmetics_DayanaHenao_1001469185.ipynb",
      "provenance": [],
      "collapsed_sections": [
        "8qJB0mI5ekW0",
        "EMlWF2h_ekW3",
        "vdb_-iBaekW_"
      ]
    },
    "kernelspec": {
      "display_name": "Python 3 (ipykernel)",
      "language": "python",
      "name": "python3"
    },
    "language_info": {
      "codemirror_mode": {
        "name": "ipython",
        "version": 3
      },
      "file_extension": ".py",
      "mimetype": "text/x-python",
      "name": "python",
      "nbconvert_exporter": "python",
      "pygments_lexer": "ipython3",
      "version": "3.9.2"
    },
    "toc": {
      "colors": {
        "hover_highlight": "#DAA520",
        "running_highlight": "#FF0000",
        "selected_highlight": "#FFD700"
      },
      "moveMenuLeft": true,
      "nav_menu": {
        "height": "189px",
        "width": "252px"
      },
      "navigate_menu": true,
      "number_sections": true,
      "sideBar": true,
      "threshold": 4,
      "toc_cell": false,
      "toc_section_display": "block",
      "toc_window_display": false
    }
  },
  "nbformat": 4,
  "nbformat_minor": 0
}