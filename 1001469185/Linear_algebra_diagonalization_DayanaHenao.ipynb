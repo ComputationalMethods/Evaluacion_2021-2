{
  "cells": [
    {
      "cell_type": "markdown",
      "metadata": {
        "id": "I-46MAJZImXY"
      },
      "source": [
        "# Matrix diagonalization\n",
        "<a href=\"https://colab.research.google.com/github/restrepo/ComputationalMethods/blob/master/material/linear-algebra-diagonalization.ipynb\" target=\"_parent\"><img src=\"https://colab.research.google.com/assets/colab-badge.svg\" alt=\"Open In Colab\"/></a>"
      ]
    },
    {
      "cell_type": "markdown",
      "metadata": {
        "id": "pIgzdPuQZOZ1"
      },
      "source": [
        "## Ortogonal matrices\n",
        "![alt](https://github.com/restrepo/ComputationalMethods/blob/master/material/figures/so2.svg?raw=1)\n",
        "\n",
        "\\begin{align}\n",
        "  x'=&x\\cos\\theta+y\\sin\\theta \\nonumber\\\\\n",
        "  y'=&y\\cos\\theta-x\\sin\\theta\\,.\n",
        "\\end{align}\n",
        "En forma matricial, la transformación del sistema de coordenas inicial al sistema de coordenados rotado por un ángulo $\\theta$ está dado por\n",
        "\\begin{align}\n",
        "  \\begin{pmatrix}\n",
        "    x'\\\\\n",
        "    y'\\\\\n",
        "  \\end{pmatrix}=\n",
        "  \\begin{pmatrix}\n",
        "    \\cos\\theta & \\sin\\theta\\\\\n",
        "    -\\sin\\theta& \\cos\\theta\\\\\n",
        "  \\end{pmatrix}\n",
        "  \\begin{pmatrix}\n",
        "    x\\\\\n",
        "    y\\\\\n",
        "  \\end{pmatrix}.\n",
        "\\end{align}"
      ]
    },
    {
      "cell_type": "code",
      "source": [
        "# Matrices ortogonales. La transpuesta es igual a la inversa de la matriz."
      ],
      "metadata": {
        "id": "S9FjCf6DZvPf"
      },
      "execution_count": null,
      "outputs": []
    },
    {
      "cell_type": "markdown",
      "source": [
        " Hermítica conjugada. La conjugada y la transpuesta dan la misma matriz."
      ],
      "metadata": {
        "id": "X-yaNJb8Z-rY"
      }
    },
    {
      "cell_type": "markdown",
      "metadata": {
        "id": "40WhQJy2EWqx"
      },
      "source": [
        "## Theorem 1\n",
        "\n",
        "If $\\boldsymbol{A}$ is Hermitic, e.g:\n",
        "\\begin{align}\n",
        "\\boldsymbol{A}^\\dagger =\\boldsymbol{A}\\,,\n",
        "\\end{align}\n",
        "Then exists an _unitary  matrix_ $\\boldsymbol{V}$ e.g:\n",
        "\\begin{align}\n",
        "\\boldsymbol{V}^{\\ -1}=\\boldsymbol{V}^\\dagger \\,,\n",
        "\\end{align}\n",
        "such that\n",
        "\\begin{equation}\n",
        "  \\boldsymbol{V}^\\dagger\\boldsymbol{A}\\,\\boldsymbol{V}=\\boldsymbol{A}_{\\text{diag}}\\,,\n",
        "\\end{equation}\n",
        "where \n",
        "$\\boldsymbol{A}_{\\text{diag}}=\\operatorname{diag}(\\lambda_1,\\lambda_2,\\ldots \\lambda_n)$ is the diagonalized mass matrix."
      ]
    },
    {
      "cell_type": "markdown",
      "metadata": {
        "id": "QousO-tmLx5e"
      },
      "source": [
        "### Corollary 1\n",
        "\n",
        "If $\\boldsymbol{A}$ is symmetric, e.g:\n",
        "\\begin{align}\n",
        "\\boldsymbol{A}^{\\operatorname{T}} =\\boldsymbol{A}\\,,\n",
        "\\end{align}\n",
        "Then exists an _ortogonal matrix_ $\\boldsymbol{V}$, e.g:\n",
        "\\begin{align}\n",
        "\\boldsymbol{V}^{-1}=\\boldsymbol{V}^{\\operatorname{T}} \\,,\n",
        "\\end{align}\n",
        "such that\n",
        "\\begin{equation}\n",
        "  \\boldsymbol{V}^{\\operatorname{T}}\\boldsymbol{A}\\,\\boldsymbol{V}=\\boldsymbol{A}_{\\text{diag}}\\,,\n",
        "\\end{equation}\n",
        "where \n",
        "$\\boldsymbol{A}_{\\text{diag}}=\\operatorname{diag}(\\lambda_1,\\lambda_2,\\ldots \\lambda_n)$ is the diagonalized mass matrix."
      ]
    },
    {
      "cell_type": "code",
      "source": [
        "# Cada uno de los autovalores está asociado a una columna de la matriz."
      ],
      "metadata": {
        "id": "Wc88_i_talh1"
      },
      "execution_count": null,
      "outputs": []
    },
    {
      "cell_type": "code",
      "source": [
        "# Cada autovalor está asociado a un autovector. El orden del autovalor y del autovector deben coincidir. "
      ],
      "metadata": {
        "id": "mEv2Hf3-bQHZ"
      },
      "execution_count": null,
      "outputs": []
    },
    {
      "cell_type": "markdown",
      "metadata": {
        "id": "azbM-1PNZOZ6"
      },
      "source": [
        "____"
      ]
    },
    {
      "cell_type": "markdown",
      "metadata": {
        "id": "Czn5t78GZepT"
      },
      "source": [
        "### Eigenvector problem\n",
        "Note that each eigenvector, corresponding to each column of the matrix, is associated to each eigenvalue\n",
        "$$\n",
        "\\boldsymbol{V}=\\begin{bmatrix}\n",
        "\\boldsymbol{V}_1 \\vdots \\boldsymbol{V}_2\\cdots \\vdots \\boldsymbol{V}_i \\vdots \\boldsymbol{V}_j\\vdots\\cdots \\vdots \\boldsymbol{V}_n \n",
        "\\end{bmatrix}.\n",
        "$$\n",
        "where $\\boldsymbol{V}_i$ is the $i$-th column of the matrix  $\\boldsymbol{V}$.\n",
        "\n",
        "In this way, if we interchange the $i\\leftrightarrow j$ columns of the diagonalization matrix $\\boldsymbol{V}$, the order of the eigenvalues also change\n",
        "$$\n",
        "\\begin{bmatrix}\n",
        "\\boldsymbol{V}_1 \\vdots \\boldsymbol{V}_2\\cdots \\vdots \\boldsymbol{V}_j \\vdots \\boldsymbol{V}_i\\vdots\\cdots \\vdots \\boldsymbol{V}_n \n",
        "\\end{bmatrix}^\\dagger \\boldsymbol{A} \\begin{bmatrix}\n",
        "\\boldsymbol{V}_1 \\vdots \\boldsymbol{V}_2\\cdots \\vdots \\boldsymbol{V}_j \\vdots \\boldsymbol{V}_i\\vdots\\cdots \\vdots \\boldsymbol{V}_n \n",
        "\\end{bmatrix}=\\operatorname{diag}(\\lambda_1,\\lambda_2,\\ldots,\\lambda_j,\\lambda_i,\\ldots \\lambda_n).\n",
        "$$\n",
        "This property is very important because usually the diagonalizationn alghoritm gives not the desired ordering of the eigenvalues and eigenvectors. It is recommended to use the `np.c_` method for the eigenvector reoirdering\n",
        "\n",
        "However, the __Theorem__ only guarantees existence. Tor really calculate the diagonalization matrix we must establish the eigenvector problem:\n",
        "\n",
        "We can use the unitary propery to write\n",
        "\\begin{align}\n",
        "  \\boldsymbol{V}\\boldsymbol{V}^\\dagger\\boldsymbol{A}\\,\\boldsymbol{V}=&\\boldsymbol{V}\\boldsymbol{A}_{\\text{diag}}\\\\\n",
        "\\boldsymbol{A}\\,\\boldsymbol{V}=&\\boldsymbol{V}\\boldsymbol{A}_{\\text{diag}}\\,,\n",
        "\\end{align}\n",
        "or\n",
        "$$\n",
        "\\boldsymbol{A}\\begin{bmatrix}\n",
        "\\boldsymbol{V}_1 \\vdots \\boldsymbol{V}_2\\cdots \\vdots \\boldsymbol{V}_n \n",
        "\\end{bmatrix} =\\operatorname{diag}(\\lambda_1,\\lambda_2\\ldots,\\lambda_n)\\begin{bmatrix}\n",
        "\\boldsymbol{V}_1 \\vdots \\boldsymbol{V}_2\\cdots  \\vdots \\boldsymbol{V}_n \n",
        "\\end{bmatrix}.\n",
        "$$\n",
        "Therefore, the eigenvalue equation is just:\n",
        "\\begin{align}\n",
        "%$$\n",
        "  \\boldsymbol{A}\\,\\boldsymbol{V}_i=&\\lambda_i\\boldsymbol{V}_i \\nonumber\\\\\n",
        "  \\boldsymbol{A}\\,\\boldsymbol{V}_i-\\lambda_i\\boldsymbol{V}_i=&\\boldsymbol{0} \\nonumber\\\\\n",
        "  (\\boldsymbol{A}-\\lambda_i \\,\\boldsymbol{I})\\boldsymbol{V}_i=&\\boldsymbol{0}\\,,\n",
        "%$$\n",
        "\\end{align}\n",
        "where $\\boldsymbol{V}_i$ is the $i$-th column of the matrix  $\\boldsymbol{V}$, and $\\boldsymbol{I}$ is the identity matrix. \n",
        "\n",
        "To avoid the trivial solution $\\boldsymbol{V}_i=\\boldsymbol{0}$, we require that $\\boldsymbol{A}-\\lambda_i\\, \\boldsymbol{I}$\n",
        "does not have an inverse, or equivalently\n",
        "$$\\det( \\boldsymbol{A}-\\lambda_i\\, \\boldsymbol{I})=0\\,.$$"
      ]
    },
    {
      "cell_type": "markdown",
      "metadata": {
        "id": "ntNWmtOmZOZ9"
      },
      "source": [
        "### Example\n",
        "From [arXiv:2010.06458](https://arxiv.org/pdf/2010.06458.pdf):\n",
        "\n",
        "> In the three flavor neutrino oscillation, the neutrino flavor states $\\left|\\nu_{\\alpha}\\right\\rangle(\\alpha=e, \\mu, \\tau)$ are linear superposition of mass eigenstates $\\left|\\nu_{j}\\right\\rangle(j=1,2,3):\\left|\\nu_{\\alpha}\\right\\rangle=\\Sigma_{j} U_{\\alpha j}\\left|\\nu_{j}\\right\\rangle,$ where $U_{\\alpha j}$ are the elements of the lepton mixing matrix known as PMNS (Pontecorvo-Maki-Nakagawa-Sakita) matrix such that\n",
        "$$\n",
        "\\left(\\begin{array}{l}\n",
        "\\left|\\nu_{e}\\right\\rangle \\\\\n",
        "\\left|\\nu_{\\mu}\\right\\rangle \\\\\n",
        "\\left|\\nu_{\\tau}\\right\\rangle\n",
        "\\end{array}\\right)=\\left(\\begin{array}{lll}\n",
        "U_{e 1} & U_{e 2} & U_{e 3} \\\\\n",
        "U_{\\mu 1} & U_{\\mu 2} & U_{\\mu 3} \\\\\n",
        "U_{\\tau 1} & U_{\\tau 2} & U_{\\tau 3}\n",
        "\\end{array}\\right)\\left(\\begin{array}{l}\n",
        "\\left|\\nu_{1}\\right\\rangle \\\\\n",
        "\\left|\\nu_{2}\\right\\rangle \\\\\n",
        "\\left|\\nu_{3}\\right\\rangle\n",
        "\\end{array}\\right)\n",
        "$$\n",
        "The time evolution follows $\\left|\\nu_{\\alpha}(t)\\right\\rangle=\\Sigma_{j} e^{-i E_{j} t} U_{\\alpha j}\\left|\\nu_{j}\\right\\rangle,$ where $E_{j}$ is the energy associated with the mass eigenstates $\\left|\\nu_{i}\\right\\rangle$ This is a superposition state. \n",
        "\n",
        "The observables associated to the three neutrinos are the entries of the $3\\times 3$ unitary matrix $\\boldsymbol{U}=\\begin{pmatrix}\\boldsymbol{U}_1\\vdots\\boldsymbol{U}_2\\vdots\\boldsymbol{U}_3\\end{pmatrix}$, and the eigenvalues associated to each eigenvector $\\boldsymbol{U}_1\\to  m_1$, $\\boldsymbol{U}_2\\to m_2$, $\\boldsymbol{U}_3\\to m_3$. The normal ordering is $m_1<m_2<m_3$. The unitary matrix can be parameterized in terms of three mixing angles, $\\theta_{23}$ $\\theta_{13}$, $\\theta_{12}$, and a complex phase, $\\delta_{\\text{CP}}$, such that\n",
        "$$\n",
        "\\boldsymbol{U}=\\left(\\begin{array}{ccc}\n",
        "1 & 0 & 0 \\\\\n",
        "0 & c_{23} & s_{23} \\\\\n",
        "0 & -s_{23} & c_{23}\n",
        "\\end{array}\\right) \\cdot\\left(\\begin{array}{ccc}\n",
        "c_{13} & 0 & s_{13} e^{-i \\delta_{\\mathrm{CP}}} \\\\\n",
        "0 & 1 & 0 \\\\\n",
        "-s_{13} e^{i \\delta_{\\mathrm{CP}}} & 0 & c_{13}\n",
        "\\end{array}\\right) \\cdot\\left(\\begin{array}{ccc}\n",
        "c_{12} & s_{12} & 0 \\\\\n",
        "-s_{12} & c_{12} & 0 \\\\\n",
        "0 & 0 & 1\n",
        "\\end{array}\\right),\n",
        "$$\n",
        "where $c_{i j} \\equiv \\cos \\theta_{i j}$ and $s_{i j} \\equiv \\sin \\theta_{i j}$. Thus, we can write $\\boldsymbol{U}$ as\n",
        "$$\n",
        "\\boldsymbol{U}=\\left(\\begin{array}{ccc}c_{12} c_{13} & s_{12} c_{13} & s_{13} e^{-i \\delta_{\\mathrm{CP}}} \\\\ -s_{12} c_{23}-c_{12} s_{13} s_{23} e^{i \\delta_{\\mathrm{CP}}} & c_{12} c_{23}-s_{12} s_{13} s_{23} e^{i \\delta_{\\mathrm{CP}}} & c_{13} s_{23} \\\\ s_{12} s_{23}-c_{12} s_{13} c_{23} e^{i \\delta_{\\mathrm{CP}}} & -c_{12} s_{23}-s_{12} s_{13} c_{23} e^{i \\delta_{\\mathrm{CP}}} & c_{13} c_{23}\\end{array}\\right)\n",
        "$$\n",
        "so that\n",
        "$$\n",
        "\\boldsymbol{U}_1=\\begin{pmatrix}U_{e1}\\\\ U_{\\mu 1}\\\\ U_{\\tau 1}\\end{pmatrix}=\\begin{pmatrix}\n",
        "c_{12} c_{13} \\\\\n",
        "-s_{12} c_{23}-c_{12} s_{13} s_{23} e^{i \\delta_{\\mathrm{CP}}} \\\\\n",
        "s_{12} s_{23}-c_{12} s_{13} c_{23} e^{i \\delta_{\\mathrm{CP}}}\n",
        "\\end{pmatrix},\\qquad \n",
        "\\boldsymbol{U}_2=\\begin{pmatrix}U_{e2}\\\\ U_{\\mu 2}\\\\ U_{\\tau 2}\\end{pmatrix}=\\begin{pmatrix}\n",
        "s_{12} c_{13} \\\\\n",
        "c_{12} c_{23}-s_{12} s_{13} s_{23} e^{i \\delta_{\\mathrm{CP}}} \\\\\n",
        "-c_{12} s_{23}-s_{12} s_{13} c_{23} e^{i \\delta_{\\mathrm{CP}}}\n",
        "\\end{pmatrix},\\qquad\n",
        "\\boldsymbol{U}_3=\\begin{pmatrix}U_{e3}\\\\ U_{\\mu 3}\\\\ U_{\\tau 3}\\end{pmatrix}=\\begin{pmatrix}\n",
        "s_{13} e^{-i \\delta_{\\mathrm{CP}}} \\\\\n",
        "c_{13} s_{23} \\\\\n",
        "c_{13} c_{23}\n",
        "\\end{pmatrix}\n",
        "$$\n",
        "\n",
        "After decades of experimental efforts with thousands of millions of dollars in investment and two recent Nobel prizes, most of the parameters are already measured (see [PDG22020](https://pdg.lbl.gov/2018/reviews/rpp2018-rev-neutrino-mixing.pdf) ):\n",
        "\n",
        "![IMAGE](https://github.com/restrepo/ComputationalMethods/raw/master/material/figures/nu.png)\n",
        "\n",
        "where $\\Delta m^2_{ij}=m^2_i-m^2_j$ is the squared mass difference between eigenvalues $i$ and $j$; and $\\text{eV}$ is really $\\text{eV}/c^2$ where $c$ is the speed of light  in vacuum in natural units with $c=1$, and $1\\ \\text{eV}=1.602\\,176\\,6208(98)\\times 10^{-19}\\ \\text{J}$.\n"
      ]
    },
    {
      "cell_type": "markdown",
      "metadata": {
        "id": "fOu1N4W7ZOaC"
      },
      "source": [
        "To a better measurement of $\\delta_{CP}$ for example, a new large experiment called [DUNE](https://www.dunescience.org/), and with a cost of around [$\\$1\\,500$ million of dollars](https://web.fnal.gov/organization/OPSS/Projects/LBNFDUNE/LBNF%20APM%20Jul%202015/Review%20Documents/LBNF%20DUNE%20ICR_Final%20Report.pdf), is in construction in the United States\n",
        "![IMAGE](https://www.dunescience.org/wp-content/uploads/2016/12/LBNE_Graphic_061615_2016.jpg)"
      ]
    },
    {
      "cell_type": "markdown",
      "metadata": {
        "id": "pCSR2TVCHRwa"
      },
      "source": [
        "## Theorem 2: Singular value decomposition (SVD)\n",
        "See [SVD](https://en.wikipedia.org/wiki/Singular_value_decomposition) (where the  Hermetique-conjugate is denoted with \"*\" instead that with \"\")\n",
        "\n",
        "A general complex matrix $\\boldsymbol{A}$  can be diagonalized by a bi-diagonal transformation such that\n",
        "\\begin{equation}\n",
        "  \\boldsymbol{V}^\\dagger\\boldsymbol{A}\\,\\boldsymbol{U}=\\boldsymbol{A}_{\\text{diag}}\\,,\n",
        "\\end{equation}\n",
        "where \n",
        "$\\boldsymbol{A}_{\\text{diag}}=\\operatorname{diag}(\\lambda_1,\\lambda_2,\\ldots \\lambda_n)$ is the diagonalized mass matrix.\n",
        "\n",
        "### Demostration\n",
        "\\begin{align}\n",
        "  \\boldsymbol{A}_{\\text{diag}}=&\\boldsymbol{V}^\\dagger\\boldsymbol{A}\\,\\boldsymbol{U}\\\\\n",
        "  \\boldsymbol{A}_{\\text{diag}}\\boldsymbol{A}_{\\text{diag}}^\\dagger=&\\boldsymbol{V}^\\dagger\\boldsymbol{A}\\,\\boldsymbol{U}\n",
        "  \\left(\\boldsymbol{V}^\\dagger\\boldsymbol{A}\\,\\boldsymbol{U}\\right)^\\dagger\\\\\n",
        "  =&\\boldsymbol{V}^\\dagger\\boldsymbol{A}\\,\\boldsymbol{U}\n",
        "  \\left(   \\boldsymbol{U}^\\dagger \\boldsymbol{A}^\\dagger\\,\\boldsymbol{V}\\right)\\\\\n",
        "  =&\\boldsymbol{V}^\\dagger\n",
        "  \\left( \\boldsymbol{A}  \\boldsymbol{A}^\\dagger\\,\\right) \\boldsymbol{V}\\,.\\\\\n",
        "\\end{align}\n",
        "Since $\\boldsymbol{A}  \\boldsymbol{A}^\\dagger$ is hermitic and $\\boldsymbol{A}  \\boldsymbol{A}^\\dagger$ is diagonal, then in fact there exists an unitary matrix $\\boldsymbol{V}$.  Similarly there exists an unitary matrix $\\boldsymbol{U}$ which diagonalizes  $\\boldsymbol{A}^\\dagger  \\boldsymbol{A}$"
      ]
    },
    {
      "cell_type": "markdown",
      "metadata": {
        "id": "84gCEANmZOaE"
      },
      "source": [
        "### Scipy implementation\n",
        "The implementation in scipy is based in the inverted relation \n",
        "\\begin{align}\n",
        "  \\boldsymbol{V}^\\dagger\\boldsymbol{A}\\,\\boldsymbol{U}=&\\boldsymbol{A}_{\\text{diag}}\\\\\n",
        "  \\boldsymbol{V}\\boldsymbol{V}^\\dagger\\boldsymbol{A}\\,\\boldsymbol{U}\\boldsymbol{U}^\\dagger=&\\boldsymbol{V}\\boldsymbol{A}_{\\text{diag}}\\boldsymbol{U}^\\dagger\\\\\n",
        "  \\boldsymbol{A}=&\\boldsymbol{V}\\boldsymbol{A}_{\\text{diag}}\\boldsymbol{U}^\\dagger\\,.\n",
        "\\end{align}\n",
        "\n",
        "The implementation is trough the module `scipy.linalg.svd`:\n",
        "```bash\n",
        "V,Adiag,Udagger=linalg.svd(A)\n",
        "```\n"
      ]
    },
    {
      "cell_type": "markdown",
      "metadata": {
        "id": "osxweeQvZeoY"
      },
      "source": [
        "### Eigenvectors and eigenvalues\n",
        "If we make\n",
        "$$ \\boldsymbol{U}=[\\boldsymbol{U}_1\\vdots\\boldsymbol{U}_2\\vdots\\cdots\\vdots\\boldsymbol{U}_n], \\qquad \\boldsymbol{V}=[\\boldsymbol{V}_1\\vdots\\boldsymbol{V}_2\\vdots\\cdots\\vdots\\boldsymbol{V}_n] $$\n",
        "\n",
        "We know that there exists a bi-diagonal transformación such that\n",
        "\\begin{equation}\n",
        "%$$\n",
        "  \\boldsymbol{A}\\,\\boldsymbol{U}=\\boldsymbol{V}\\boldsymbol{A}_{\\text{diag}}\n",
        "\\end{equation}\n",
        "\\begin{equation}\n",
        "  \\boldsymbol{A}\\,\\boldsymbol{U}_i=\\lambda_i\\boldsymbol{V}_i\n",
        "%$$\n",
        "\\end{equation}\n",
        "not sum upon $i$. Here \n",
        "* $\\lambda_i$ are called eigenvalues\n",
        "* $V_i$ and $U_i$ are the eigenvectors"
      ]
    },
    {
      "cell_type": "markdown",
      "metadata": {
        "id": "KzphXQAeZeoY"
      },
      "source": [
        "We can use this to check the proper order of the eigenvalues"
      ]
    },
    {
      "cell_type": "markdown",
      "metadata": {
        "id": "A1iOYehvZeoK"
      },
      "source": [
        "### Transformation of a linear system\n",
        "We start again with the matrix equation, capitol bold letters denotes matrices\n",
        "\\begin{equation}\n",
        "  \\boldsymbol{A}\\boldsymbol{X}=\\boldsymbol{B}\\,,\n",
        "\\end{equation}\n",
        "where $\\boldsymbol{A}$ is an $n \\times n$ matrix.\n",
        "\n",
        "We know that there exists a bi-diagonal transformación such that\n",
        "\\begin{equation}\n",
        "  \\boldsymbol{V}^\\dagger\\boldsymbol{A}\\,\\boldsymbol{U}=\\boldsymbol{A}_{\\text{diag}}\n",
        "\\end{equation}\n",
        "So, by doing standard operations we have\n",
        "\\begin{align}\n",
        "  \\boldsymbol{V}^\\dagger \\boldsymbol{A} \\boldsymbol{U} \\boldsymbol{U}^\\dagger \\boldsymbol{X}=& \\boldsymbol{V}^\\dagger \\boldsymbol{B}\\\\\n",
        "   \\left( \\boldsymbol{V}^\\dagger \\boldsymbol{A} \\boldsymbol{U} \\right) \n",
        "   \\left( \\boldsymbol{U}^\\dagger \\boldsymbol{X}\\right)=& \\boldsymbol{V}^\\dagger \\boldsymbol{B}\\\\\n",
        "  \\boldsymbol{A}_{\\text{diag}} \\boldsymbol{X}'=&\\boldsymbol{B}'\\,,      \n",
        "\\end{align}\n",
        "where\n",
        "\\begin{align}\n",
        "  \\boldsymbol{X}'=& \\boldsymbol{U}^\\dagger \\boldsymbol{X}\\,, &    \\boldsymbol{B}'=& \\boldsymbol{V}^\\dagger \\boldsymbol{B}\\,,\n",
        "\\end{align}\n",
        "or\n",
        "\\begin{align}\n",
        "  \\boldsymbol{X}=& \\boldsymbol{U}\\boldsymbol{X}'\\,, &    \\boldsymbol{B}=& \\boldsymbol{V}\\boldsymbol{B}'\\,.\n",
        "\\end{align}\n",
        "\n",
        "If $\\boldsymbol{A}_{\\text{diag}}=\\operatorname{diag}(\\lambda_1,\\lambda_2,\\ldots \\lambda_n)$, $\\boldsymbol{X}=\\begin{pmatrix}x_1 & x_2 &\\cdots & x_n\\end{pmatrix}^{\\operatorname{T}}$ and $\\boldsymbol{B}=\\begin{pmatrix}b_1& b_2 &\\cdots & b_n\\end{pmatrix}^{\\operatorname{T}}$,\n",
        "the solution of the system is given by\n",
        "\\begin{equation}\n",
        "\\lambda_i x'_i=b_i'\\,.\n",
        "\\end{equation}\n",
        "\n",
        "Note that\n",
        "\\begin{align}\n",
        "   \\boldsymbol{X}'=&\\boldsymbol{A}_{\\text{diag}}^{-1}\\boldsymbol{B}'\\,,      \n",
        "\\end{align}\n",
        "and the final solution is\n",
        "\\begin{align}\n",
        "   \\boldsymbol{X}=&U \\boldsymbol{X}'\\\\ \n",
        "               =&U\\boldsymbol{A}_{\\text{diag}}^{-1}V^\\dagger \\boldsymbol{B}\\,,      \n",
        "\\end{align}\n",
        "Therefore\n",
        "$$\\boldsymbol{A}^{-1}=U\\boldsymbol{A}_{\\text{diag}}^{-1}V^\\dagger$$"
      ]
    },
    {
      "cell_type": "markdown",
      "metadata": {
        "id": "4Cvjb8GR7YAl"
      },
      "source": [
        "### Example"
      ]
    },
    {
      "cell_type": "markdown",
      "metadata": {
        "id": "1gnmh6-0ZeoK"
      },
      "source": [
        " A suitable way to introduce this method is applying it to some basic problem. To do so, let's take the result of the [Example 1](#Example-1):\n",
        "\n",
        "$$ \\begin{bmatrix}\n",
        "5 & -4 & 0 \\\\\n",
        "-4 & 7 & -3 \\\\ \n",
        "0 & -3 & 5\n",
        "\\end{bmatrix}\n",
        "\\begin{bmatrix}\n",
        "x_{1} \\\\\n",
        "x_{2} \\\\\n",
        "x_{3} \n",
        "\\end{bmatrix}  =\n",
        "\\begin{bmatrix}\n",
        "1 \\\\\n",
        "0 \\\\\n",
        "-2\n",
        "\\end{bmatrix}\n",
        "$$\n",
        "As the matrix is symmetric $\\boldsymbol{U}=\\boldsymbol{V}$ and $\\boldsymbol{V}^\\dagger=\\boldsymbol{V}^{\\operatorname{T}}$ "
      ]
    },
    {
      "cell_type": "code",
      "execution_count": 2,
      "metadata": {
        "id": "k_IF3zsKZOaf"
      },
      "outputs": [],
      "source": [
        "import numpy as np"
      ]
    },
    {
      "cell_type": "code",
      "execution_count": null,
      "metadata": {
        "id": "mIm4WqinUMlv"
      },
      "outputs": [],
      "source": [
        "M1=np.array([[5,-4,0],\n",
        "             [-4,7,-3],\n",
        "             [0,-3,5]])"
      ]
    },
    {
      "cell_type": "code",
      "execution_count": null,
      "metadata": {
        "colab": {
          "base_uri": "https://localhost:8080/"
        },
        "id": "YUHs_HgxZeoL",
        "outputId": "3e0032d2-61e1-452b-a2d1-ead64a6fad55"
      },
      "outputs": [
        {
          "output_type": "execute_result",
          "data": {
            "text/plain": [
              "array([[ 5, -4,  0],\n",
              "       [-4,  7, -3],\n",
              "       [ 0, -3,  5]])"
            ]
          },
          "metadata": {},
          "execution_count": 3
        }
      ],
      "source": [
        "A=M1\n",
        "A"
      ]
    },
    {
      "cell_type": "markdown",
      "metadata": {
        "id": "wPaMSVoVUZWm"
      },
      "source": [
        "Check if all eigenvalues are different from zero:"
      ]
    },
    {
      "cell_type": "code",
      "execution_count": null,
      "metadata": {
        "colab": {
          "base_uri": "https://localhost:8080/"
        },
        "id": "TSE7tFaFUjhF",
        "outputId": "0b647988-fb4b-4aaf-828a-6cf49e96e9a9"
      },
      "outputs": [
        {
          "output_type": "execute_result",
          "data": {
            "text/plain": [
              "49.99999999999999"
            ]
          },
          "metadata": {},
          "execution_count": 4
        }
      ],
      "source": [
        "np.linalg.det(A)"
      ]
    },
    {
      "cell_type": "code",
      "execution_count": null,
      "metadata": {
        "colab": {
          "base_uri": "https://localhost:8080/"
        },
        "id": "JDFWE3CDUp7c",
        "outputId": "5225b732-496a-4f7a-f462-a2e3c8cc3602"
      },
      "outputs": [
        {
          "output_type": "execute_result",
          "data": {
            "text/plain": [
              "array([[ 1],\n",
              "       [ 0],\n",
              "       [-2]])"
            ]
          },
          "metadata": {},
          "execution_count": 5
        }
      ],
      "source": [
        "B=np.c_[ [1,0,-2]  ]\n",
        "B"
      ]
    },
    {
      "cell_type": "markdown",
      "metadata": {
        "id": "VzE6Z0THVAXa"
      },
      "source": [
        "Also as \n",
        "```python\n",
        "B=np.array([[1],[0],[-2]])\n",
        "#or\n",
        "B=np.reshape(  [1,0,-2],(3,1) )\n",
        "```"
      ]
    },
    {
      "cell_type": "markdown",
      "metadata": {
        "id": "k9LnLRiIZOal"
      },
      "source": [
        "### Theorem 1 in `numpy`"
      ]
    },
    {
      "cell_type": "code",
      "source": [
        "# Sólo funciona para matrices hermíticas o simétricas"
      ],
      "metadata": {
        "id": "O3Lxyfu9mCQI"
      },
      "execution_count": null,
      "outputs": []
    },
    {
      "cell_type": "code",
      "execution_count": null,
      "metadata": {
        "id": "7iQkosR8ZeoQ"
      },
      "outputs": [],
      "source": [
        "λ,V=np.linalg.eig( A )"
      ]
    },
    {
      "cell_type": "code",
      "execution_count": null,
      "metadata": {
        "colab": {
          "base_uri": "https://localhost:8080/"
        },
        "id": "oRoNMFvLZeoS",
        "outputId": "50f24396-b00c-49d6-f431-8fe20c05a8d7"
      },
      "outputs": [
        {
          "output_type": "execute_result",
          "data": {
            "text/plain": [
              "array([[11.09901951,  0.        ,  0.        ],\n",
              "       [ 0.        ,  0.90098049,  0.        ],\n",
              "       [ 0.        ,  0.        ,  5.        ]])"
            ]
          },
          "metadata": {},
          "execution_count": 10
        }
      ],
      "source": [
        "A_diag=np.diag(λ)\n",
        "A_diag"
      ]
    },
    {
      "cell_type": "code",
      "source": [
        "λ"
      ],
      "metadata": {
        "colab": {
          "base_uri": "https://localhost:8080/"
        },
        "id": "S2BeOXWIaW9c",
        "outputId": "2af1fe7a-ac01-4081-a931-2b9ceda6ab68"
      },
      "execution_count": null,
      "outputs": [
        {
          "output_type": "execute_result",
          "data": {
            "text/plain": [
              "array([11.09901951,  0.90098049,  5.        ])"
            ]
          },
          "metadata": {},
          "execution_count": 11
        }
      ]
    },
    {
      "cell_type": "code",
      "execution_count": null,
      "metadata": {
        "colab": {
          "base_uri": "https://localhost:8080/"
        },
        "id": "81EhmwnPZeoU",
        "outputId": "ec8dfd71-562d-4198-d290-d1eb4275fbfc"
      },
      "outputs": [
        {
          "output_type": "execute_result",
          "data": {
            "text/plain": [
              "array([[-5.07191124e-01, -6.18673713e-01, -6.00000000e-01],\n",
              "       [ 7.73342141e-01, -6.33988906e-01,  1.91548674e-16],\n",
              "       [-3.80393343e-01, -4.64005285e-01,  8.00000000e-01]])"
            ]
          },
          "metadata": {},
          "execution_count": 8
        }
      ],
      "source": [
        "V"
      ]
    },
    {
      "cell_type": "code",
      "source": [
        "(V@V.transpose()).round(15).astype(int)"
      ],
      "metadata": {
        "colab": {
          "base_uri": "https://localhost:8080/"
        },
        "id": "QJCVvMJEmiyg",
        "outputId": "2db5aca8-3eb9-4589-b3a0-88cdf8a4edfe"
      },
      "execution_count": null,
      "outputs": [
        {
          "output_type": "execute_result",
          "data": {
            "text/plain": [
              "array([[1, 0, 0],\n",
              "       [0, 1, 0],\n",
              "       [0, 0, 1]])"
            ]
          },
          "metadata": {},
          "execution_count": 12
        }
      ]
    },
    {
      "cell_type": "code",
      "execution_count": null,
      "metadata": {
        "id": "T28mzi4BZOau",
        "outputId": "ebc69c88-00be-4600-cf1c-0e6667104119",
        "colab": {
          "base_uri": "https://localhost:8080/"
        }
      },
      "outputs": [
        {
          "output_type": "execute_result",
          "data": {
            "text/plain": [
              "array([[1, 0, 0],\n",
              "       [0, 1, 0],\n",
              "       [0, 0, 1]])"
            ]
          },
          "metadata": {},
          "execution_count": 13
        }
      ],
      "source": [
        "V.dot(V.transpose()).round(15).astype(int)"
      ]
    },
    {
      "cell_type": "markdown",
      "metadata": {
        "id": "oQMyx6oAZeoW"
      },
      "source": [
        "We first check the proper order of the diagonalization"
      ]
    },
    {
      "cell_type": "code",
      "execution_count": null,
      "metadata": {
        "colab": {
          "base_uri": "https://localhost:8080/"
        },
        "id": "vYFqc13bZeoW",
        "outputId": "0693d1db-ada8-492b-93fc-a5ccab56ee9e"
      },
      "outputs": [
        {
          "output_type": "execute_result",
          "data": {
            "text/plain": [
              "array([[11.09901951,  0.        ,  0.        ],\n",
              "       [ 0.        ,  0.90098049,  0.        ],\n",
              "       [ 0.        ,  0.        ,  5.        ]])"
            ]
          },
          "metadata": {},
          "execution_count": 13
        }
      ],
      "source": [
        "np.dot(  np.dot( V.transpose(),A  ), V).round(14)"
      ]
    },
    {
      "cell_type": "code",
      "execution_count": null,
      "metadata": {
        "id": "WFPxbzR6ZOaw",
        "outputId": "a9e4c91f-fc6a-4d8c-c06a-7f5eff968857",
        "colab": {
          "base_uri": "https://localhost:8080/"
        }
      },
      "outputs": [
        {
          "output_type": "execute_result",
          "data": {
            "text/plain": [
              "array([[11.09901951,  0.        ,  0.        ],\n",
              "       [ 0.        ,  0.90098049,  0.        ],\n",
              "       [ 0.        ,  0.        ,  5.        ]])"
            ]
          },
          "metadata": {},
          "execution_count": 14
        }
      ],
      "source": [
        "(V.transpose().dot(A)).dot(V).round(14)"
      ]
    },
    {
      "cell_type": "markdown",
      "metadata": {
        "id": "njiAE4b4ZeoZ"
      },
      "source": [
        "Since"
      ]
    },
    {
      "cell_type": "code",
      "execution_count": null,
      "metadata": {
        "id": "RQ2mx4eIZeoa",
        "outputId": "072d03f9-ece3-4b4f-e3ae-6531f1b33ffe",
        "colab": {
          "base_uri": "https://localhost:8080/"
        }
      },
      "outputs": [
        {
          "output_type": "execute_result",
          "data": {
            "text/plain": [
              "array([[-5.07191124e-01, -6.18673713e-01, -6.00000000e-01],\n",
              "       [ 7.73342141e-01, -6.33988906e-01,  1.91548674e-16],\n",
              "       [-3.80393343e-01, -4.64005285e-01,  8.00000000e-01]])"
            ]
          },
          "metadata": {},
          "execution_count": 15
        }
      ],
      "source": [
        "V"
      ]
    },
    {
      "cell_type": "markdown",
      "metadata": {
        "id": "JkZI2pTNZeoc"
      },
      "source": [
        "The final solution is:"
      ]
    },
    {
      "cell_type": "code",
      "execution_count": null,
      "metadata": {
        "colab": {
          "base_uri": "https://localhost:8080/"
        },
        "id": "dfsG88C5VqvK",
        "outputId": "bb1583b2-4125-4a18-fc2d-429c929cb7eb"
      },
      "outputs": [
        {
          "output_type": "execute_result",
          "data": {
            "text/plain": [
              "array([[0.09009805, 0.        , 0.        ],\n",
              "       [0.        , 1.10990195, 0.        ],\n",
              "       [0.        , 0.        , 0.2       ]])"
            ]
          },
          "metadata": {},
          "execution_count": 16
        }
      ],
      "source": [
        "A_diag_inv=np.diag(1/λ)\n",
        "A_diag_inv"
      ]
    },
    {
      "cell_type": "markdown",
      "metadata": {
        "id": "ai04_rhhV7g4"
      },
      "source": [
        "check with `np.linalg.inv(A_diag)`"
      ]
    },
    {
      "cell_type": "code",
      "execution_count": null,
      "metadata": {
        "colab": {
          "base_uri": "https://localhost:8080/"
        },
        "id": "bldXFh02Zeoc",
        "outputId": "83b28807-1d06-4d8d-fb99-44c2f5422c41"
      },
      "outputs": [
        {
          "output_type": "execute_result",
          "data": {
            "text/plain": [
              "array([[ 0.04],\n",
              "       [-0.2 ],\n",
              "       [-0.52]])"
            ]
          },
          "metadata": {},
          "execution_count": 17
        }
      ],
      "source": [
        "X=np.dot( np.dot( np.dot( V, A_diag_inv ),V.transpose() ),B)\n",
        "X"
      ]
    },
    {
      "cell_type": "markdown",
      "metadata": {
        "id": "xEtpogskWT5H"
      },
      "source": [
        "__<font color=\"red\">Activity</font>__: Usar np.lingalg.solve"
      ]
    },
    {
      "cell_type": "code",
      "execution_count": null,
      "metadata": {
        "colab": {
          "base_uri": "https://localhost:8080/"
        },
        "id": "FbDQyS3_Wi-f",
        "outputId": "1582ec28-5b38-4e5e-fef0-95d151c593e7"
      },
      "outputs": [
        {
          "output_type": "execute_result",
          "data": {
            "text/plain": [
              "array([[ 0.04],\n",
              "       [-0.2 ],\n",
              "       [-0.52]])"
            ]
          },
          "metadata": {},
          "execution_count": 18
        }
      ],
      "source": [
        "np.linalg.solve(A,B)"
      ]
    },
    {
      "cell_type": "code",
      "source": [
        "b=np.array([[1],[0],[-2]])\n",
        "\n",
        "A=np.array([[5, -4,0],\n",
        "           [-4,7,-3],\n",
        "           [0, -3,5]])\n",
        "\n",
        "print('\\nA=\\n',A)\n",
        "print('\\nb=\\n',b)\n",
        "x=np.linalg.solve(A,b)\n",
        "print('\\n x= \\n',x)\n"
      ],
      "metadata": {
        "colab": {
          "base_uri": "https://localhost:8080/"
        },
        "id": "x54WY57HiZl5",
        "outputId": "9dcf18bc-3786-4b23-979d-a152af4c1291"
      },
      "execution_count": 4,
      "outputs": [
        {
          "output_type": "stream",
          "name": "stdout",
          "text": [
            "\n",
            "A=\n",
            " [[ 5 -4  0]\n",
            " [-4  7 -3]\n",
            " [ 0 -3  5]]\n",
            "\n",
            "b=\n",
            " [[ 1]\n",
            " [ 0]\n",
            " [-2]]\n",
            "\n",
            " x= \n",
            " [[ 0.04]\n",
            " [-0.2 ]\n",
            " [-0.52]]\n"
          ]
        }
      ]
    },
    {
      "cell_type": "markdown",
      "metadata": {
        "id": "agZ-WPWgZeoe"
      },
      "source": [
        "We can now check some properties.\n",
        "* Obtain $\\theta_{12}$ for $\\lambda_1<\\lambda_2<\\lambda_3$"
      ]
    },
    {
      "cell_type": "code",
      "execution_count": null,
      "metadata": {
        "colab": {
          "base_uri": "https://localhost:8080/"
        },
        "id": "KAruEyXoZeoe",
        "outputId": "d7b3ecea-53ed-499e-db92-1950805e060e"
      },
      "outputs": [
        {
          "output_type": "execute_result",
          "data": {
            "text/plain": [
              "array([[-5.07191124e-01, -6.18673713e-01, -6.00000000e-01],\n",
              "       [ 7.73342141e-01, -6.33988906e-01,  1.91548674e-16],\n",
              "       [-3.80393343e-01, -4.64005285e-01,  8.00000000e-01]])"
            ]
          },
          "metadata": {},
          "execution_count": 19
        }
      ],
      "source": [
        "V"
      ]
    },
    {
      "cell_type": "code",
      "execution_count": null,
      "metadata": {
        "colab": {
          "base_uri": "https://localhost:8080/"
        },
        "id": "Lg_7lshmZeoh",
        "outputId": "1728df49-4390-4232-c6c9-3a20a7ca6a01"
      },
      "outputs": [
        {
          "output_type": "execute_result",
          "data": {
            "text/plain": [
              "array([[-0.50719112],\n",
              "       [ 0.77334214],\n",
              "       [-0.38039334]])"
            ]
          },
          "metadata": {},
          "execution_count": 20
        }
      ],
      "source": [
        "np.c_[ V[: ,0] ]"
      ]
    },
    {
      "cell_type": "code",
      "execution_count": null,
      "metadata": {
        "colab": {
          "base_uri": "https://localhost:8080/"
        },
        "id": "VAFBe0g_Zeok",
        "outputId": "2cbfe04e-7605-480a-8a08-1cc95ef7083e"
      },
      "outputs": [
        {
          "output_type": "execute_result",
          "data": {
            "text/plain": [
              "(11.099019513592784, 11.099019513592784)"
            ]
          },
          "metadata": {},
          "execution_count": 21
        }
      ],
      "source": [
        "A_diag[0,0],λ[0]"
      ]
    },
    {
      "cell_type": "markdown",
      "metadata": {
        "id": "utMR7eiOZeom"
      },
      "source": [
        "We define the eigenvector $V_i$ as"
      ]
    },
    {
      "cell_type": "code",
      "execution_count": null,
      "metadata": {
        "id": "lh-ZrpWvZOa1",
        "outputId": "34701a5b-f045-4f8d-e121-203aa7fe525e"
      },
      "outputs": [
        {
          "data": {
            "text/plain": [
              "array([-0.50719112,  0.77334214, -0.38039334])"
            ]
          },
          "execution_count": 14,
          "metadata": {},
          "output_type": "execute_result"
        }
      ],
      "source": [
        "V[:,0]"
      ]
    },
    {
      "cell_type": "code",
      "execution_count": null,
      "metadata": {
        "colab": {
          "base_uri": "https://localhost:8080/",
          "height": 179
        },
        "id": "ButZ6c29Zeom",
        "outputId": "bb46e578-01a6-42d1-b495-aa9853a12df4"
      },
      "outputs": [
        {
          "data": {
            "text/plain": [
              "array([[-0.50719112],\n",
              "       [ 0.77334214],\n",
              "       [-0.38039334]])"
            ]
          },
          "metadata": {},
          "output_type": "display_data"
        },
        {
          "data": {
            "text/plain": [
              "array([[-0.61867371],\n",
              "       [-0.63398891],\n",
              "       [-0.46400528]])"
            ]
          },
          "metadata": {},
          "output_type": "display_data"
        },
        {
          "data": {
            "text/plain": [
              "array([[-6.00000000e-01],\n",
              "       [ 1.91548674e-16],\n",
              "       [ 8.00000000e-01]])"
            ]
          },
          "execution_count": 13,
          "metadata": {},
          "output_type": "execute_result"
        }
      ],
      "source": [
        "V0=np.c_[ V[:,0] ]\n",
        "V1=np.c_[ V[:,1] ]\n",
        "V2=np.c_[ V[:,2] ]\n",
        "display(V0)\n",
        "display(V1)\n",
        "V2"
      ]
    },
    {
      "cell_type": "code",
      "execution_count": null,
      "metadata": {
        "colab": {
          "base_uri": "https://localhost:8080/",
          "height": 125
        },
        "id": "MkfNpMwbZeow",
        "outputId": "7759c6fb-c985-435d-9a3c-5e0a22487e26"
      },
      "outputs": [
        {
          "name": "stdout",
          "output_type": "stream",
          "text": [
            "[[-5.62932419]\n",
            " [ 8.58333952]\n",
            " [-4.22199314]] =\n",
            "[[-5.62932419]\n",
            " [ 8.58333952]\n",
            " [-4.22199314]]\n"
          ]
        }
      ],
      "source": [
        "print('{} =\\n{}'.format( np.dot(A,V0),λ[0]*V0 ) )"
      ]
    },
    {
      "cell_type": "markdown",
      "metadata": {
        "id": "2gSZQGhwZMbU"
      },
      "source": [
        "Check: $ A V_i=\\lambda_i V_i$\n",
        "\n",
        "Which means the eigenvalue associated to the \"operator\" $A$ acting on the eigenvector $V_1$"
      ]
    },
    {
      "cell_type": "code",
      "execution_count": null,
      "metadata": {
        "colab": {
          "base_uri": "https://localhost:8080/",
          "height": 125
        },
        "id": "N7rTShl9Zeoz",
        "outputId": "e2cc0abe-6639-4789-f7ba-4957ea65c6e3"
      },
      "outputs": [
        {
          "name": "stdout",
          "output_type": "stream",
          "text": [
            "[[-0.55741294]\n",
            " [-0.57121163]\n",
            " [-0.41805971]] =\n",
            "[[-0.55741294]\n",
            " [-0.57121163]\n",
            " [-0.41805971]]\n"
          ]
        }
      ],
      "source": [
        "print('{} =\\n{}'.format( np.dot(A,V1),λ[1]*V1 ) )"
      ]
    },
    {
      "cell_type": "code",
      "execution_count": null,
      "metadata": {
        "colab": {
          "base_uri": "https://localhost:8080/",
          "height": 125
        },
        "id": "zRu4zQHKZeo2",
        "outputId": "b123d387-d8da-43db-808e-0600748ceb2d"
      },
      "outputs": [
        {
          "name": "stdout",
          "output_type": "stream",
          "text": [
            "[[-3.]\n",
            " [ 0.]\n",
            " [ 4.]] =\n",
            "[[-3.]\n",
            " [ 0.]\n",
            " [ 4.]]\n"
          ]
        }
      ],
      "source": [
        "print('{} =\\n{}'.format( np.dot(A,V2).round(14),\n",
        "                         (λ[2]*V2).round(14) ) )"
      ]
    },
    {
      "cell_type": "markdown",
      "metadata": {
        "id": "wmszgFZdZeo5"
      },
      "source": [
        "The diagonalization matrix can be rebuild from the eigenvectors"
      ]
    },
    {
      "cell_type": "code",
      "execution_count": null,
      "metadata": {
        "colab": {
          "base_uri": "https://localhost:8080/",
          "height": 71
        },
        "id": "2uAsu7Bgarxo",
        "outputId": "3ea7390e-f31b-494e-c759-27544186198a"
      },
      "outputs": [
        {
          "data": {
            "text/plain": [
              "array([[-5.07191124e-01, -6.18673713e-01, -6.00000000e-01],\n",
              "       [ 7.73342141e-01, -6.33988906e-01,  1.91548674e-16],\n",
              "       [-3.80393343e-01, -4.64005285e-01,  8.00000000e-01]])"
            ]
          },
          "execution_count": 25,
          "metadata": {},
          "output_type": "execute_result"
        }
      ],
      "source": [
        "V"
      ]
    },
    {
      "cell_type": "markdown",
      "metadata": {
        "id": "_AjDSlz3bIPW"
      },
      "source": [
        "is rebuild with"
      ]
    },
    {
      "cell_type": "code",
      "execution_count": null,
      "metadata": {
        "id": "5Q0PN44GavcA"
      },
      "outputs": [],
      "source": [
        "U=np.c_[ V0,V1,V2]"
      ]
    },
    {
      "cell_type": "markdown",
      "metadata": {
        "id": "E_TOP-rdZeo5"
      },
      "source": [
        "or with: `np.hstack((V0,V1,V2))`"
      ]
    },
    {
      "cell_type": "markdown",
      "metadata": {
        "id": "DCtb9CaiZOa3"
      },
      "source": [
        "Note that a sign of an egigenvalues can be changed:"
      ]
    },
    {
      "cell_type": "code",
      "execution_count": null,
      "metadata": {
        "id": "FKn5IrtuZOa3",
        "outputId": "b90ad2b7-a064-402c-a561-8a4b090fb02d"
      },
      "outputs": [
        {
          "data": {
            "text/plain": [
              "array([[11.09901951,  0.        ,  0.        ],\n",
              "       [ 0.        ,  0.90098049,  0.        ],\n",
              "       [ 0.        ,  0.        ,  5.        ]])"
            ]
          },
          "execution_count": 19,
          "metadata": {},
          "output_type": "execute_result"
        }
      ],
      "source": [
        "np.dot(  np.dot( U.transpose(),A  ), U).round(14)"
      ]
    },
    {
      "cell_type": "code",
      "execution_count": null,
      "metadata": {
        "id": "v3fpdiS4ZOa4"
      },
      "outputs": [],
      "source": [
        "U=np.c_[ V0,-V1,V2]"
      ]
    },
    {
      "cell_type": "code",
      "execution_count": null,
      "metadata": {
        "colab": {
          "base_uri": "https://localhost:8080/",
          "height": 71
        },
        "id": "-Vc63b8TZeo7",
        "outputId": "b7851c5c-8e95-42b5-b6df-27bf584494b4"
      },
      "outputs": [
        {
          "data": {
            "text/plain": [
              "array([[11.09901951, -0.        ,  0.        ],\n",
              "       [-0.        ,  0.90098049, -0.        ],\n",
              "       [ 0.        , -0.        ,  5.        ]])"
            ]
          },
          "execution_count": 21,
          "metadata": {},
          "output_type": "execute_result"
        }
      ],
      "source": [
        "np.dot(  np.dot( U.transpose(),A  ), U).round(14)"
      ]
    },
    {
      "cell_type": "markdown",
      "metadata": {
        "id": "9bls0mm5Zeo9"
      },
      "source": [
        "### Eigenvector reordering"
      ]
    },
    {
      "cell_type": "markdown",
      "metadata": {
        "id": "hZaB1kAlZOa5"
      },
      "source": [
        "<span style=\"color:red\">__Activity__</span>: https://beta.deepnote.com/project/17b487c8-b092-4032-94f5-438ba4eeb1e9"
      ]
    },
    {
      "cell_type": "markdown",
      "metadata": {
        "id": "DOBPvoJ1Zeo-"
      },
      "source": [
        "We can use this to check the proper order of the eigenvalues"
      ]
    },
    {
      "cell_type": "code",
      "execution_count": null,
      "metadata": {
        "colab": {
          "base_uri": "https://localhost:8080/",
          "height": 71
        },
        "id": "QE3H4w64bopE",
        "outputId": "532bdd2e-d2d2-4b9f-f1ff-8e3a74b6b42f"
      },
      "outputs": [
        {
          "data": {
            "text/plain": [
              "array([[ 0.90098049,  0.        ,  0.        ],\n",
              "       [ 0.        ,  5.        ,  0.        ],\n",
              "       [ 0.        ,  0.        , 11.09901951]])"
            ]
          },
          "execution_count": 22,
          "metadata": {},
          "output_type": "execute_result"
        }
      ],
      "source": [
        "U=np.c_[ V1,V2,V0]\n",
        "np.dot(  np.dot( U.transpose(),A  ), U).round(14)"
      ]
    },
    {
      "cell_type": "markdown",
      "metadata": {
        "id": "m6PMCrJlZeo-"
      },
      "source": [
        "The order of eigenvalues can now be changed by changing the order of the eigenvectors and redifining the diagonalization matrix. For example, from small to large. We define first the eigenvalues"
      ]
    },
    {
      "cell_type": "code",
      "execution_count": null,
      "metadata": {
        "id": "-duNLmxIZOa_",
        "outputId": "f588ac84-e5b7-456d-aef7-f5f93d041260"
      },
      "outputs": [
        {
          "data": {
            "text/plain": [
              "array([[-6.18673713e-01, -6.00000000e-01, -5.07191124e-01],\n",
              "       [-6.33988906e-01,  1.91548674e-16,  7.73342141e-01],\n",
              "       [-4.64005285e-01,  8.00000000e-01, -3.80393343e-01]])"
            ]
          },
          "execution_count": 23,
          "metadata": {},
          "output_type": "execute_result"
        }
      ],
      "source": [
        "U"
      ]
    },
    {
      "cell_type": "code",
      "execution_count": null,
      "metadata": {
        "id": "sA8gZe3WZOa_"
      },
      "outputs": [],
      "source": [
        "θ_12=np.arctan( U[0,1]/U[0,0] )"
      ]
    },
    {
      "cell_type": "code",
      "execution_count": null,
      "metadata": {
        "id": "_01PTIXcZOa_",
        "outputId": "f6f6bcbc-b008-48ab-df53-0b20debbc979"
      },
      "outputs": [
        {
          "data": {
            "text/plain": [
              "(0.7700763823614476, 44.122126612013574)"
            ]
          },
          "execution_count": 25,
          "metadata": {},
          "output_type": "execute_result"
        }
      ],
      "source": [
        "θ_12, θ_12*180/np.pi"
      ]
    },
    {
      "cell_type": "markdown",
      "metadata": {
        "id": "c3tNSLGrZOa_"
      },
      "source": [
        "Generalization of the reordering"
      ]
    },
    {
      "cell_type": "code",
      "execution_count": null,
      "metadata": {
        "id": "HTWgBePpZeo_"
      },
      "outputs": [],
      "source": [
        "np.sort?"
      ]
    },
    {
      "cell_type": "code",
      "execution_count": null,
      "metadata": {
        "colab": {
          "base_uri": "https://localhost:8080/",
          "height": 35
        },
        "id": "pixl0cvzZepB",
        "outputId": "b913c528-c7f8-413f-ab91-f36c0bdd36f1"
      },
      "outputs": [
        {
          "data": {
            "text/plain": [
              "array([ 0.90098049,  5.        , 11.09901951])"
            ]
          },
          "execution_count": 26,
          "metadata": {},
          "output_type": "execute_result"
        }
      ],
      "source": [
        "np.sort( λ)"
      ]
    },
    {
      "cell_type": "markdown",
      "metadata": {
        "id": "pZbAW-34cs7I"
      },
      "source": [
        "To reverse the order"
      ]
    },
    {
      "cell_type": "code",
      "execution_count": null,
      "metadata": {
        "colab": {
          "base_uri": "https://localhost:8080/",
          "height": 35
        },
        "id": "L3Qi31TkZepG",
        "outputId": "9058d74b-f071-48b2-aee1-14cbed77ba5e"
      },
      "outputs": [
        {
          "data": {
            "text/plain": [
              "array([11.09901951,  5.        ,  0.90098049])"
            ]
          },
          "execution_count": 27,
          "metadata": {},
          "output_type": "execute_result"
        }
      ],
      "source": [
        "np.sort( λ)[::-1]"
      ]
    },
    {
      "cell_type": "code",
      "execution_count": null,
      "metadata": {
        "id": "aYaYHJ2wZepJ",
        "outputId": "d2041162-e2cc-47f6-ad98-e201e6924677"
      },
      "outputs": [
        {
          "data": {
            "text/plain": [
              "array([11.09901951,  0.90098049,  5.        ])"
            ]
          },
          "execution_count": 28,
          "metadata": {},
          "output_type": "execute_result"
        }
      ],
      "source": [
        "λ"
      ]
    },
    {
      "cell_type": "code",
      "execution_count": null,
      "metadata": {
        "colab": {
          "base_uri": "https://localhost:8080/",
          "height": 35
        },
        "id": "DeIj8z5kZepL",
        "outputId": "90606a4c-6f6a-4709-ebd9-4a5141f75ee4"
      },
      "outputs": [
        {
          "data": {
            "text/plain": [
              "array([1, 2, 0])"
            ]
          },
          "execution_count": 29,
          "metadata": {},
          "output_type": "execute_result"
        }
      ],
      "source": [
        "index=np.abs(λ).argsort()\n",
        "index"
      ]
    },
    {
      "cell_type": "markdown",
      "metadata": {
        "id": "v5Mhuh-QZepP"
      },
      "source": [
        "can be implemented in general with a _comprehensive_ list"
      ]
    },
    {
      "cell_type": "code",
      "execution_count": null,
      "metadata": {
        "colab": {
          "base_uri": "https://localhost:8080/",
          "height": 71
        },
        "id": "iWvRFdz9etKa",
        "outputId": "ac48d6bf-e16f-4056-9ead-ccb31362f3c8"
      },
      "outputs": [
        {
          "data": {
            "text/plain": [
              "array([[-5.07191124e-01, -6.18673713e-01, -6.00000000e-01],\n",
              "       [ 7.73342141e-01, -6.33988906e-01,  1.91548674e-16],\n",
              "       [-3.80393343e-01, -4.64005285e-01,  8.00000000e-01]])"
            ]
          },
          "execution_count": 30,
          "metadata": {},
          "output_type": "execute_result"
        }
      ],
      "source": [
        "V"
      ]
    },
    {
      "cell_type": "code",
      "execution_count": null,
      "metadata": {
        "id": "9VfghZTbZObI",
        "outputId": "e5faf65d-018f-4956-a156-f2f9fc036439"
      },
      "outputs": [
        {
          "data": {
            "text/plain": [
              "[array([[-0.50719112],\n",
              "        [ 0.77334214],\n",
              "        [-0.38039334]]),\n",
              " array([[-0.61867371],\n",
              "        [-0.63398891],\n",
              "        [-0.46400528]]),\n",
              " array([[-6.00000000e-01],\n",
              "        [ 1.91548674e-16],\n",
              "        [ 8.00000000e-01]])]"
            ]
          },
          "execution_count": 34,
          "metadata": {},
          "output_type": "execute_result"
        }
      ],
      "source": [
        "[ np.c_[V[:,i]]    for i in range(3) ]"
      ]
    },
    {
      "cell_type": "code",
      "execution_count": null,
      "metadata": {
        "colab": {
          "base_uri": "https://localhost:8080/",
          "height": 71
        },
        "id": "UeBueRxbfeUc",
        "outputId": "0b497826-0400-4b28-9291-149f038b47c1"
      },
      "outputs": [
        {
          "data": {
            "text/plain": [
              "array([[-5.07191124e-01, -6.18673713e-01, -6.00000000e-01],\n",
              "       [ 7.73342141e-01, -6.33988906e-01,  1.91548674e-16],\n",
              "       [-3.80393343e-01, -4.64005285e-01,  8.00000000e-01]])"
            ]
          },
          "execution_count": 35,
          "metadata": {},
          "output_type": "execute_result"
        }
      ],
      "source": [
        "np.c_[ tuple( [ np.c_[V[:,i]]    for i in range(3) ] ) ]"
      ]
    },
    {
      "cell_type": "markdown",
      "metadata": {
        "id": "WwokXTJ-elVp"
      },
      "source": [
        "Changing the order to `index`"
      ]
    },
    {
      "cell_type": "code",
      "execution_count": null,
      "metadata": {
        "colab": {
          "base_uri": "https://localhost:8080/",
          "height": 71
        },
        "id": "wObPrmb4dgrs",
        "outputId": "8b850a8f-89b5-4e48-b587-7c298651f085"
      },
      "outputs": [
        {
          "data": {
            "text/plain": [
              "array([[-6.18673713e-01, -6.00000000e-01, -5.07191124e-01],\n",
              "       [-6.33988906e-01,  1.91548674e-16,  7.73342141e-01],\n",
              "       [-4.64005285e-01,  8.00000000e-01, -3.80393343e-01]])"
            ]
          },
          "execution_count": 36,
          "metadata": {},
          "output_type": "execute_result"
        }
      ],
      "source": [
        "U=np.c_[ tuple( [ np.c_[V[:,i]]    for i in np.abs(λ).argsort() ] ) ]\n",
        "U"
      ]
    },
    {
      "cell_type": "markdown",
      "metadata": {
        "id": "u0PoVQJshW8A"
      },
      "source": [
        "or: \n",
        "```python\n",
        "n=3\n",
        "U=np.hstack( [ np.reshape( V[:,i], (n,1) ) for i in index   ] )\n",
        "```"
      ]
    },
    {
      "cell_type": "code",
      "execution_count": null,
      "metadata": {
        "colab": {
          "base_uri": "https://localhost:8080/",
          "height": 71
        },
        "id": "2_A609DeZepR",
        "outputId": "d10f93b9-2dc0-4e95-ee4f-86cc1c7cc751"
      },
      "outputs": [
        {
          "data": {
            "text/plain": [
              "array([[ 0.90098049,  0.        ,  0.        ],\n",
              "       [ 0.        ,  5.        ,  0.        ],\n",
              "       [ 0.        ,  0.        , 11.09901951]])"
            ]
          },
          "execution_count": 43,
          "metadata": {},
          "output_type": "execute_result"
        }
      ],
      "source": [
        "np.dot(  np.dot( U.transpose(),A  ), U).round(14)"
      ]
    },
    {
      "cell_type": "markdown",
      "metadata": {
        "id": "ryPEhIWgiE-O"
      },
      "source": [
        "<font color=\"red\">__Activity__</font>:  Build a function that diagonalize with increasing order in the eigenvalues as a replacement of `np.linalg.eig`\n",
        "```python\n",
        "def argeig(A):\n",
        "    l,V=np.linalg.eig(A)\n",
        "    ....\n",
        "    return argl, argV\n",
        "```\n",
        "\n"
      ]
    },
    {
      "cell_type": "code",
      "execution_count": null,
      "metadata": {
        "id": "HkDWxctEZObO"
      },
      "outputs": [],
      "source": [
        "def argeig(A):\n",
        "    λ,V=np.linalg.eig(A)\n",
        "    λ=np.array([λ[i] for i in np.abs(λ).argsort()])\n",
        "    V=np.c_[ tuple( [ np.c_[V[:,i]]    for i in np.abs(λ).argsort() ] ) ]\n",
        "    return λ,V"
      ]
    },
    {
      "cell_type": "code",
      "metadata": {
        "id": "1VNLtnpSlEU9"
      },
      "source": [
        "\n",
        "def argeig(a):\n",
        "    \"\"\"\n",
        "    Diagonalize with increasing order in the eigenvalues.\n",
        "  \n",
        "    See help(np.linalg.eig)\n",
        "    \"\"\"\n",
        "    l,V=np.linalg.eig(a)\n",
        "    index=np.abs(l).argsort()\n",
        "    argl= np.sort( l)\n",
        "    argV=np.c_[ tuple([ np.c_[ V[:,i]] for i in index   ]) ]\n",
        "    return argl, argV\n"
      ],
      "execution_count": null,
      "outputs": []
    },
    {
      "cell_type": "code",
      "execution_count": null,
      "metadata": {
        "id": "u6PJiFwWZObP",
        "outputId": "267df7fd-56fb-4cc8-f114-431021c3eb3f",
        "colab": {
          "base_uri": "https://localhost:8080/"
        }
      },
      "outputs": [
        {
          "output_type": "execute_result",
          "data": {
            "text/plain": [
              "(array([ 0.90098049,  5.        , 11.09901951]),\n",
              " array([[-6.18673713e-01, -6.00000000e-01, -5.07191124e-01],\n",
              "        [-6.33988906e-01,  1.91548674e-16,  7.73342141e-01],\n",
              "        [-4.64005285e-01,  8.00000000e-01, -3.80393343e-01]]))"
            ]
          },
          "metadata": {},
          "execution_count": 17
        }
      ],
      "source": [
        "λ,V=argeig(A)\n",
        "λ,V"
      ]
    },
    {
      "cell_type": "code",
      "metadata": {
        "id": "94ZHLjM0l-vS",
        "colab": {
          "base_uri": "https://localhost:8080/"
        },
        "outputId": "9ce8f533-17e8-43a5-8938-cee739698f25"
      },
      "source": [
        "\n",
        "#1.\n",
        "λ,V=argeig(A)\n",
        "λ,V\n",
        "(np.array([ 0.90098049,  5.        , 11.09901951]),\n",
        " np.array([[-6.18673713e-01, -6.00000000e-01, -5.07191124e-01],\n",
        "        [-6.33988906e-01,  1.91548674e-16,  7.73342141e-01],\n",
        "        [-4.64005285e-01,  8.00000000e-01, -3.80393343e-01]]))   "
      ],
      "execution_count": null,
      "outputs": [
        {
          "output_type": "execute_result",
          "data": {
            "text/plain": [
              "(array([ 0.90098049,  5.        , 11.09901951]),\n",
              " array([[-6.18673713e-01, -6.00000000e-01, -5.07191124e-01],\n",
              "        [-6.33988906e-01,  1.91548674e-16,  7.73342141e-01],\n",
              "        [-4.64005285e-01,  8.00000000e-01, -3.80393343e-01]]))"
            ]
          },
          "metadata": {},
          "execution_count": 19
        }
      ]
    },
    {
      "cell_type": "code",
      "metadata": {
        "id": "SqxnBdaDmBXq",
        "colab": {
          "base_uri": "https://localhost:8080/"
        },
        "outputId": "e38e1395-67f0-4c95-a2cf-3203c62a4718"
      },
      "source": [
        "#2.\n",
        "np.dot(  np.dot( V.transpose(),A  ), V).round(14)\n",
        "np.array([[ 0.90098049,  0.        ,  0.        ],\n",
        "       [ 0.        ,  5.        ,  0.        ],\n",
        "       [ 0.        ,  0.        , 11.09901951]])\n"
      ],
      "execution_count": null,
      "outputs": [
        {
          "output_type": "execute_result",
          "data": {
            "text/plain": [
              "array([[ 0.90098049,  0.        ,  0.        ],\n",
              "       [ 0.        ,  5.        ,  0.        ],\n",
              "       [ 0.        ,  0.        , 11.09901951]])"
            ]
          },
          "metadata": {},
          "execution_count": 20
        }
      ]
    },
    {
      "cell_type": "code",
      "metadata": {
        "id": "CFemQeVVZepT",
        "colab": {
          "base_uri": "https://localhost:8080/"
        },
        "outputId": "5b5e0adb-234f-411d-def6-440dbe4afa96"
      },
      "source": [
        "\n",
        "#3.\n",
        "print( np.linalg.det(A- λ[0]*np.identity(3) ) )\n",
        "print( np.linalg.det(A- λ[1]*np.identity(3) ) )\n",
        "np.linalg.det(A- λ[2]*np.identity(3) )\n"
      ],
      "execution_count": null,
      "outputs": [
        {
          "output_type": "stream",
          "name": "stdout",
          "text": [
            "1.6382973032562733e-14\n",
            "0.0\n"
          ]
        },
        {
          "output_type": "execute_result",
          "data": {
            "text/plain": [
              "2.4376578809863825e-14"
            ]
          },
          "metadata": {},
          "execution_count": 21
        }
      ]
    },
    {
      "cell_type": "code",
      "execution_count": null,
      "metadata": {
        "id": "EgB-bL7sZObQ"
      },
      "outputs": [],
      "source": [
        "def argeig(A):\n",
        "    λ,V=np.linalg.eig(A)\n",
        "    V=np.c_[ tuple( [ np.c_[V[:,i]]    for i in np.abs(λ).argsort() ] ) ]\n",
        "    λ=[ λ[i] for i in  np.abs(λ).argsort() ]\n",
        "    return λ,V"
      ]
    },
    {
      "cell_type": "code",
      "execution_count": null,
      "metadata": {
        "id": "u1OmKkWNZObQ",
        "outputId": "a429e6a1-fe19-485e-96b6-fa36ee9578b1",
        "colab": {
          "base_uri": "https://localhost:8080/"
        }
      },
      "outputs": [
        {
          "output_type": "execute_result",
          "data": {
            "text/plain": [
              "([0.9009804864072147, 5.0, 11.099019513592784],\n",
              " array([[-6.18673713e-01, -6.00000000e-01, -5.07191124e-01],\n",
              "        [-6.33988906e-01,  1.91548674e-16,  7.73342141e-01],\n",
              "        [-4.64005285e-01,  8.00000000e-01, -3.80393343e-01]]))"
            ]
          },
          "metadata": {},
          "execution_count": 23
        }
      ],
      "source": [
        "argeig(A)"
      ]
    },
    {
      "cell_type": "markdown",
      "source": [
        "**Para ordenar los autovalores de mayor a menor**"
      ],
      "metadata": {
        "id": "5JDBNoZhcw9K"
      }
    },
    {
      "cell_type": "code",
      "source": [
        "def mayormenor(A):\n",
        "    λ,V=np.linalg.eig(A)\n",
        "    V=np.c_[ tuple( [ np.c_[V[:,i]]    for i in np.abs(λ).argsort()[::-1] ] ) ]\n",
        "    λ=[ λ[i] for i in  np.abs(λ).argsort()[::-1] ]\n",
        "    return λ,V"
      ],
      "metadata": {
        "id": "a1Lwk27rcwj0"
      },
      "execution_count": null,
      "outputs": []
    },
    {
      "cell_type": "code",
      "source": [
        "mayormenor(A)"
      ],
      "metadata": {
        "colab": {
          "base_uri": "https://localhost:8080/"
        },
        "id": "-wW7FUnidZO4",
        "outputId": "69a644b9-cc6c-4730-d6b7-28ea1046636a"
      },
      "execution_count": null,
      "outputs": [
        {
          "output_type": "execute_result",
          "data": {
            "text/plain": [
              "([11.099019513592784, 5.0, 0.9009804864072147],\n",
              " array([[-5.07191124e-01, -6.00000000e-01, -6.18673713e-01],\n",
              "        [ 7.73342141e-01,  1.91548674e-16, -6.33988906e-01],\n",
              "        [-3.80393343e-01,  8.00000000e-01, -4.64005285e-01]]))"
            ]
          },
          "metadata": {},
          "execution_count": 29
        }
      ]
    },
    {
      "cell_type": "code",
      "source": [
        "w=np.array([[0,1,-1],[1,0,2],[-1,2,1]])\n",
        "w"
      ],
      "metadata": {
        "colab": {
          "base_uri": "https://localhost:8080/"
        },
        "id": "sDE-jFhjfl75",
        "outputId": "5e7aa26a-edc1-48aa-d047-27d350fdf169"
      },
      "execution_count": null,
      "outputs": [
        {
          "output_type": "execute_result",
          "data": {
            "text/plain": [
              "array([[ 0,  1, -1],\n",
              "       [ 1,  0,  2],\n",
              "       [-1,  2,  1]])"
            ]
          },
          "metadata": {},
          "execution_count": 32
        }
      ]
    },
    {
      "cell_type": "markdown",
      "metadata": {
        "id": "QLp5N41JZepX"
      },
      "source": [
        "### General matrix"
      ]
    },
    {
      "cell_type": "code",
      "execution_count": 7,
      "metadata": {
        "id": "HqobvxtCZObQ"
      },
      "outputs": [],
      "source": [
        "import numpy as np\n",
        "from scipy import linalg"
      ]
    },
    {
      "cell_type": "markdown",
      "metadata": {
        "id": "wju26jOpZObR"
      },
      "source": [
        "__Example__:"
      ]
    },
    {
      "cell_type": "code",
      "execution_count": null,
      "metadata": {
        "id": "vKZANQUqZObR"
      },
      "outputs": [],
      "source": [
        "#A=np.array([[ 2.5       ,  6.92820323],\n",
        "#            [-4.33012702,  4.        ]])"
      ]
    },
    {
      "cell_type": "code",
      "execution_count": 5,
      "metadata": {
        "id": "TGnc3-mZZObR"
      },
      "outputs": [],
      "source": [
        "A=np.array([[ 6.66674644,  3.13121253],\n",
        "            [-0.23343505,  5.8902893 ]])"
      ]
    },
    {
      "cell_type": "code",
      "execution_count": null,
      "metadata": {
        "id": "1-zxvynsZObR"
      },
      "outputs": [],
      "source": [
        "from scipy import linalg"
      ]
    },
    {
      "cell_type": "code",
      "execution_count": null,
      "metadata": {
        "id": "PDH6QdvNZObR",
        "colab": {
          "base_uri": "https://localhost:8080/"
        },
        "outputId": "7b63ea38-48e4-4683-df40-9d886e9d87f0"
      },
      "outputs": [
        {
          "output_type": "execute_result",
          "data": {
            "text/plain": [
              "array([[-0.8660254, -0.5      ],\n",
              "       [-0.5      ,  0.8660254]])"
            ]
          },
          "metadata": {},
          "execution_count": 6
        }
      ],
      "source": [
        "V,diag,Udagger=linalg.svd(A)\n",
        "V"
      ]
    },
    {
      "cell_type": "code",
      "execution_count": null,
      "metadata": {
        "id": "YWtZmOVNZObR",
        "colab": {
          "base_uri": "https://localhost:8080/"
        },
        "outputId": "d4c0871c-12e2-41b6-f2bd-7542fbf58ee4"
      },
      "outputs": [
        {
          "output_type": "execute_result",
          "data": {
            "text/plain": [
              "array([[-0.70710678, -0.70710678],\n",
              "       [-0.70710678,  0.70710678]])"
            ]
          },
          "metadata": {},
          "execution_count": 7
        }
      ],
      "source": [
        "U=Udagger.transpose().conjugate()\n",
        "U"
      ]
    },
    {
      "cell_type": "code",
      "execution_count": null,
      "metadata": {
        "id": "8JV_1e2kZObS",
        "outputId": "c7470ea9-6410-489e-c938-433364899960",
        "colab": {
          "base_uri": "https://localhost:8080/"
        }
      },
      "outputs": [
        {
          "output_type": "execute_result",
          "data": {
            "text/plain": [
              "array([[8., 0.],\n",
              "       [0., 5.]])"
            ]
          },
          "metadata": {},
          "execution_count": 8
        }
      ],
      "source": [
        "np.dot( np.dot( V.transpose().conjugate(),A    ), U).round(14)"
      ]
    },
    {
      "cell_type": "markdown",
      "metadata": {
        "id": "w38G5KxsZObS"
      },
      "source": [
        "This is important to stablish that the eigenvectors are determined until ordering and permutations"
      ]
    },
    {
      "cell_type": "code",
      "execution_count": null,
      "metadata": {
        "id": "NUBCCf8zZObS",
        "outputId": "c0589e7a-3f79-435e-ea50-28c676e1506e"
      },
      "outputs": [
        {
          "data": {
            "text/plain": [
              "array([[-0.8660254, -0.5      ],\n",
              "       [-0.5      ,  0.8660254]])"
            ]
          },
          "execution_count": 48,
          "metadata": {},
          "output_type": "execute_result"
        }
      ],
      "source": [
        "V"
      ]
    },
    {
      "cell_type": "code",
      "execution_count": null,
      "metadata": {
        "id": "UNgmNoO0ZObS",
        "outputId": "96f1dabe-3ec6-46cf-d3e5-c64018cbdb15"
      },
      "outputs": [
        {
          "data": {
            "text/plain": [
              "array([[-0.70710678, -0.70710678],\n",
              "       [-0.70710678,  0.70710678]])"
            ]
          },
          "execution_count": 49,
          "metadata": {},
          "output_type": "execute_result"
        }
      ],
      "source": [
        "U"
      ]
    },
    {
      "cell_type": "code",
      "execution_count": null,
      "metadata": {
        "id": "xVQaJOwgZObS",
        "outputId": "683d7736-817d-42a3-beca-86ad9154fc1f"
      },
      "outputs": [
        {
          "data": {
            "text/plain": [
              "array([[ 1., -0.],\n",
              "       [-0.,  1.]])"
            ]
          },
          "execution_count": 50,
          "metadata": {},
          "output_type": "execute_result"
        }
      ],
      "source": [
        "np.dot( np.transpose(U),U ).round(14)"
      ]
    },
    {
      "cell_type": "code",
      "execution_count": null,
      "metadata": {
        "id": "CzOD7DagZObT"
      },
      "outputs": [],
      "source": [
        "def orthogonal(θ):\n",
        "    return np.array( [[np.cos(θ) ,np.sin(θ)],\n",
        "                      [-np.sin(θ),np.cos(θ)]]   )"
      ]
    },
    {
      "cell_type": "code",
      "execution_count": null,
      "metadata": {
        "id": "nkNwheXrZObT",
        "outputId": "e17b86d4-1c68-4a5a-ec66-418564b158c7"
      },
      "outputs": [
        {
          "data": {
            "text/plain": [
              "array([[ 0.5      ,  0.8660254],\n",
              "       [-0.8660254,  0.5      ]])"
            ]
          },
          "execution_count": 54,
          "metadata": {},
          "output_type": "execute_result"
        }
      ],
      "source": [
        "Vp=orthogonal(np.pi/3)\n",
        "Vp"
      ]
    },
    {
      "cell_type": "code",
      "execution_count": null,
      "metadata": {
        "id": "UIeUSxVBZObT",
        "outputId": "9e839202-7ae3-40d4-f9f0-e527fdece482"
      },
      "outputs": [
        {
          "data": {
            "text/plain": [
              "array([[ 0.5      ,  0.8660254],\n",
              "       [-0.8660254,  0.5      ]])"
            ]
          },
          "execution_count": 56,
          "metadata": {},
          "output_type": "execute_result"
        }
      ],
      "source": [
        "VV=np.c_[ -V[:,1],-V[:,0]  ]\n",
        "VV"
      ]
    },
    {
      "cell_type": "code",
      "execution_count": null,
      "metadata": {
        "id": "AgsexXBdZObT",
        "outputId": "d505c59c-e767-4cfc-eeaf-3d29f12f056b"
      },
      "outputs": [
        {
          "data": {
            "text/plain": [
              "array([[ 0.70710678,  0.70710678],\n",
              "       [-0.70710678,  0.70710678]])"
            ]
          },
          "execution_count": 57,
          "metadata": {},
          "output_type": "execute_result"
        }
      ],
      "source": [
        "Up=orthogonal(np.pi/4)\n",
        "Up"
      ]
    },
    {
      "cell_type": "code",
      "execution_count": null,
      "metadata": {
        "id": "lk-972maZObU",
        "outputId": "196a4262-e563-46f0-a19a-613d66030a05"
      },
      "outputs": [
        {
          "data": {
            "text/plain": [
              "array([[ 0.70710678,  0.70710678],\n",
              "       [-0.70710678,  0.70710678]])"
            ]
          },
          "execution_count": 58,
          "metadata": {},
          "output_type": "execute_result"
        }
      ],
      "source": [
        "UU=np.c_[ -U[:,1],-U[:,0]  ]\n",
        "UU"
      ]
    },
    {
      "cell_type": "code",
      "execution_count": null,
      "metadata": {
        "id": "uctQAMHjZObU",
        "outputId": "2ed2c636-a782-46a3-fff0-8d5ebb3c766f"
      },
      "outputs": [
        {
          "data": {
            "text/plain": [
              "array([[5., 0.],\n",
              "       [0., 8.]])"
            ]
          },
          "execution_count": 59,
          "metadata": {},
          "output_type": "execute_result"
        }
      ],
      "source": [
        "np.dot( np.dot( VV.transpose().conjugate(),A    ), UU).round(14)"
      ]
    },
    {
      "cell_type": "markdown",
      "metadata": {
        "id": "TPGhDg-TZObU"
      },
      "source": [
        "<span style=\"color:red\">__Activity__</span>: https://beta.deepnote.com/project/17b487c8-b092-4032-94f5-438ba4eeb1e9"
      ]
    },
    {
      "cell_type": "markdown",
      "metadata": {
        "id": "cyrQWEljZObU"
      },
      "source": [
        "<font color=\"red\">__Activity__</font>: Solve the system\n",
        "$$ \\boldsymbol{A} \\boldsymbol{x}=\\boldsymbol{B}$$\n",
        "for the previous $ \\boldsymbol{A}$ matrix and\n",
        "$$\\boldsymbol{B}=\\begin{bmatrix}\n",
        "   1\\\\\n",
        "   -4\\\\\n",
        "   \\end{bmatrix}$$"
      ]
    },
    {
      "cell_type": "code",
      "source": [
        "import sympy"
      ],
      "metadata": {
        "id": "nqGbVJoAn2nB"
      },
      "execution_count": 15,
      "outputs": []
    },
    {
      "cell_type": "code",
      "source": [
        "A=np.array([[ 6.66674644,  3.13121253],\n",
        "            [-0.23343505,  5.8902893 ]])"
      ],
      "metadata": {
        "id": "YULnrP6jm2-v"
      },
      "execution_count": 16,
      "outputs": []
    },
    {
      "cell_type": "code",
      "source": [
        "A_=np.linalg.inv(A)"
      ],
      "metadata": {
        "id": "_O1dNzW1naIv"
      },
      "execution_count": 18,
      "outputs": []
    },
    {
      "cell_type": "code",
      "source": [
        "B=np.c_[[1,-4]]"
      ],
      "metadata": {
        "id": "eF9c5KbOn6N-"
      },
      "execution_count": 19,
      "outputs": []
    },
    {
      "cell_type": "code",
      "source": [
        "sympy.Matrix(A_@B)"
      ],
      "metadata": {
        "colab": {
          "base_uri": "https://localhost:8080/",
          "height": 58
        },
        "id": "ZhZKVOz_oD7b",
        "outputId": "998fc7ac-f902-47a4-b148-3e84505ff9a2"
      },
      "execution_count": 20,
      "outputs": [
        {
          "output_type": "execute_result",
          "data": {
            "text/plain": [
              "Matrix([\n",
              "[ 0.460378485789506],\n",
              "[-0.660838768165564]])"
            ],
            "text/latex": "$\\displaystyle \\left[\\begin{matrix}0.460378485789506\\\\-0.660838768165564\\end{matrix}\\right]$"
          },
          "metadata": {},
          "execution_count": 20
        }
      ]
    },
    {
      "cell_type": "code",
      "source": [
        "np.linalg.solve(A,B)"
      ],
      "metadata": {
        "colab": {
          "base_uri": "https://localhost:8080/"
        },
        "id": "GpSEv6Z1ohK8",
        "outputId": "50e3ae69-a582-4dd6-9caf-33ab13a7e02d"
      },
      "execution_count": 21,
      "outputs": [
        {
          "output_type": "execute_result",
          "data": {
            "text/plain": [
              "array([[ 0.46037849],\n",
              "       [-0.66083877]])"
            ]
          },
          "metadata": {},
          "execution_count": 21
        }
      ]
    },
    {
      "cell_type": "markdown",
      "metadata": {
        "id": "8-wZrJvyZObU"
      },
      "source": [
        "### Interpretations of Theorem 2"
      ]
    },
    {
      "cell_type": "markdown",
      "metadata": {
        "id": "6zWrkKVwZObV"
      },
      "source": [
        "#### Single Diagonalization matrix\n",
        "In Theorem 2 establishes a unique set of a matrices: $A$ with its eigenvalues matrix, $A_{\\rm diag}$, and their eigenvectors matrices $U$ and $V$. However, for a fixed set of eigenvalues and eigenvectors we can have several possibilities of $A'$ matrices. For example, if we fix $U'=\\boldsymbol{1}$ \n",
        "\\begin{equation}\n",
        "  {V'}^\\dagger \\boldsymbol{A'}=\\boldsymbol{A}_{\\text{diag}}\\,,\n",
        "\\end{equation}\n",
        "so that\n",
        "\\begin{equation}\n",
        "  \\boldsymbol{A}'=V'\\boldsymbol{A}_{\\text{diag}}\n",
        "\\end{equation}\n",
        "\n",
        "Therefore: Under this conditions, for a fixed set of eigenvalues and eigenvectors (associated to the matrix $V'$) there is a unique $A'$ matrix\n",
        "\n",
        "__Example__\n",
        "Let $V'=U^{\\operatorname{T}} V$ in the previous example. Find the matrix $A'$ which gives rise to the same eigenvalues"
      ]
    },
    {
      "cell_type": "code",
      "execution_count": null,
      "metadata": {
        "id": "nRNg2Y2oZObV"
      },
      "outputs": [],
      "source": [
        "Adiag=np.array( [[5,0],\n",
        "                 [0,8]] )"
      ]
    },
    {
      "cell_type": "code",
      "execution_count": null,
      "metadata": {
        "id": "9astlI0bZObV",
        "outputId": "81fd3b2c-632c-4888-8c3c-cb024b2a8cd4"
      },
      "outputs": [
        {
          "data": {
            "text/plain": [
              "array([[ 0.96592583,  0.25881905],\n",
              "       [-0.25881905,  0.96592583]])"
            ]
          },
          "execution_count": 61,
          "metadata": {},
          "output_type": "execute_result"
        }
      ],
      "source": [
        "Vp=np.dot( orthogonal(np.pi/4).transpose(),orthogonal(np.pi/3) )\n",
        "Vp"
      ]
    },
    {
      "cell_type": "code",
      "execution_count": null,
      "metadata": {
        "id": "hgbmlq5ZZObV",
        "outputId": "e511a891-b657-426e-aa3d-11337c3fc69a"
      },
      "outputs": [
        {
          "data": {
            "text/plain": [
              "array([[ 4.82962913,  2.07055236],\n",
              "       [-1.29409523,  7.72740661]])"
            ]
          },
          "execution_count": 62,
          "metadata": {},
          "output_type": "execute_result"
        }
      ],
      "source": [
        "Ap=np.dot( Vp,np.array( Adiag ) )\n",
        "Ap"
      ]
    },
    {
      "cell_type": "code",
      "execution_count": null,
      "metadata": {
        "id": "HCVVo_8xZObV",
        "outputId": "91ff16e6-612c-403a-ff05-87eb3ada722c"
      },
      "outputs": [
        {
          "data": {
            "text/plain": [
              "array([[5., 0.],\n",
              "       [0., 8.]])"
            ]
          },
          "execution_count": 71,
          "metadata": {},
          "output_type": "execute_result"
        }
      ],
      "source": [
        "np.dot( Vp.transpose(),Ap).round(14)"
      ]
    },
    {
      "cell_type": "markdown",
      "metadata": {
        "id": "HFI5UzFDZObW"
      },
      "source": [
        "Finally, we can use the full procedure of hermitic matrices to obtain the bidiagonal matrices $U,V$\n",
        "\n",
        "__Example__:\n",
        "Diagonalize the matrix $A$ by using the Theorem 1 instead"
      ]
    },
    {
      "cell_type": "code",
      "execution_count": null,
      "metadata": {
        "id": "3PJ5my8-ZObW"
      },
      "outputs": [],
      "source": [
        "A=np.array([[ 6.66674644,  3.13121253],\n",
        "            [-0.23343505,  5.8902893 ]])"
      ]
    },
    {
      "cell_type": "code",
      "execution_count": null,
      "metadata": {
        "id": "-L6zDONBZObX",
        "outputId": "00f8197e-14ec-4f36-b484-3b4dcb7fd8b8"
      },
      "outputs": [
        {
          "data": {
            "text/plain": [
              "array([[54.25      , 16.88749537],\n",
              "       [16.88749537, 34.74999996]])"
            ]
          },
          "execution_count": 52,
          "metadata": {},
          "output_type": "execute_result"
        }
      ],
      "source": [
        "np.dot( A,A.transpose() )"
      ]
    },
    {
      "cell_type": "code",
      "execution_count": null,
      "metadata": {
        "id": "56QAA5iFZObX",
        "outputId": "0eb751f3-48a9-485d-f398-82efd143d2e2"
      },
      "outputs": [
        {
          "data": {
            "text/plain": [
              "array([[44.50000002, 19.50000001],\n",
              "       [19.50000001, 44.49999995]])"
            ]
          },
          "execution_count": 53,
          "metadata": {},
          "output_type": "execute_result"
        }
      ],
      "source": [
        "np.dot( A.transpose(),A )"
      ]
    },
    {
      "cell_type": "markdown",
      "metadata": {
        "id": "oVptdDNGZObY"
      },
      "source": [
        "→ is obtained with `<ALT GR>+i` or, similarly: ↓←"
      ]
    },
    {
      "cell_type": "code",
      "execution_count": null,
      "metadata": {
        "id": "vWpFzkJ7ZObY",
        "outputId": "60afa828-e958-418a-a9f6-402c2af9659a"
      },
      "outputs": [
        {
          "name": "stdout",
          "output_type": "stream",
          "text": [
            "[63.99999999 24.99999997] → [8. 5.]\n"
          ]
        },
        {
          "data": {
            "text/plain": [
              "array([[ 0.8660254, -0.5      ],\n",
              "       [ 0.5      ,  0.8660254]])"
            ]
          },
          "execution_count": 54,
          "metadata": {},
          "output_type": "execute_result"
        }
      ],
      "source": [
        "λ2,V=np.linalg.eig( np.dot( A,A.transpose() ) )\n",
        "print(λ2,'→',np.sqrt(λ2))\n",
        "#V=np.c_[ -V[:,0],V[:,0]  ]\n",
        "V"
      ]
    },
    {
      "cell_type": "code",
      "execution_count": null,
      "metadata": {
        "id": "uNR2y-GjZObY",
        "outputId": "6298d064-ffc1-484f-95bc-897446ef3f85"
      },
      "outputs": [
        {
          "name": "stdout",
          "output_type": "stream",
          "text": [
            "[8. 5.]\n"
          ]
        },
        {
          "data": {
            "text/plain": [
              "array([[ 0.70710678, -0.70710678],\n",
              "       [ 0.70710678,  0.70710678]])"
            ]
          },
          "execution_count": 55,
          "metadata": {},
          "output_type": "execute_result"
        }
      ],
      "source": [
        "λ2p,U=np.linalg.eig( np.dot( A.transpose(),A ) )\n",
        "print(np.sqrt(λ2))\n",
        "U"
      ]
    },
    {
      "cell_type": "code",
      "execution_count": null,
      "metadata": {
        "id": "RaWWrGE0ZObZ",
        "outputId": "b3d10326-073f-4d3b-a39c-4ae21b1946b3"
      },
      "outputs": [
        {
          "data": {
            "text/plain": [
              "array([[ 8., -0.],\n",
              "       [ 0.,  5.]])"
            ]
          },
          "execution_count": 56,
          "metadata": {},
          "output_type": "execute_result"
        }
      ],
      "source": [
        "np.dot( np.dot( V.transpose(),A ), U ).round(14)"
      ]
    },
    {
      "cell_type": "markdown",
      "metadata": {
        "id": "o0V4LMahZObZ"
      },
      "source": [
        "<span style=\"color:red\">__Actividad:__</span> cambiar el orden de los autovectores para obtener un orden ascendente en los autovalores"
      ]
    },
    {
      "cell_type": "code",
      "source": [
        "A=np.array([[ 6.66674644,  3.13121253],\n",
        "            [-0.23343505,  5.8902893 ]])\n",
        "\n",
        "evalues, evectors = np.linalg.eig(A)\n",
        "print(A)\n",
        "print(evalues)\n",
        "print('\\n')\n",
        "print(evectors)\n",
        "\n",
        "V_1 = evectors[:,0:1]\n",
        "V_2 = evectors[:,1:2]\n",
        "\n",
        "E_1 = evalues[0]\n",
        "E_2 = evalues[1]\n"
      ],
      "metadata": {
        "colab": {
          "base_uri": "https://localhost:8080/"
        },
        "id": "9TL5jSUYuzcS",
        "outputId": "aed71d17-4916-4c9e-ae47-5026a5e6cc09"
      },
      "execution_count": 26,
      "outputs": [
        {
          "output_type": "stream",
          "name": "stdout",
          "text": [
            "[[ 6.66674644  3.13121253]\n",
            " [-0.23343505  5.8902893 ]]\n",
            "[6.27851787+0.76171736j 6.27851787-0.76171736j]\n",
            "\n",
            "\n",
            "[[ 0.96468712+0.j          0.96468712-0.j        ]\n",
            " [-0.11960833+0.23467552j -0.11960833-0.23467552j]]\n"
          ]
        }
      ]
    },
    {
      "cell_type": "markdown",
      "metadata": {
        "id": "G3mK6HiSZObZ"
      },
      "source": [
        "## Mixed terms"
      ]
    },
    {
      "cell_type": "markdown",
      "metadata": {
        "id": "5Lb4VeamZObZ"
      },
      "source": [
        "Let:\n",
        "\\begin{align}\n",
        "X' = \n",
        "\\begin{bmatrix}\n",
        "B \\\\ \n",
        "W \\\\\n",
        "\\end{bmatrix}\n",
        "\\end{align}\n",
        "\n",
        "Consider  the quadratic equation \n",
        "\\begin{align}\n",
        "X^{\\prime\\operatorname{T}} M X^\\prime=& \\begin{bmatrix}\n",
        "B & W \n",
        "\\end{bmatrix}\n",
        "\\begin{bmatrix}\n",
        "M_{11} & M_{12} \\\\\n",
        "M_{12} & M_{22} \\\\\n",
        "\\end{bmatrix}\n",
        "\\begin{bmatrix}\n",
        "B \\\\ \n",
        "W \\\\\n",
        "\\end{bmatrix}\\\\\n",
        "=& \n",
        "\\begin{bmatrix}\n",
        "B & W \n",
        "\\end{bmatrix}\n",
        "\\begin{bmatrix}\n",
        "M_{11}B + M_{12}W \\\\\n",
        "M_{12}B + M_{22}W \\\\\n",
        "\\end{bmatrix}\\\\\n",
        "=& \n",
        "B( M_{11}B + M_{12}W)+  W ( M_{12}B + M_{22}W )\\\\\n",
        "=&M_{11} B^2 + 2M_{12} BW+ M_{22} W^2\\,. \n",
        "\\end{align}\n",
        "The quadratic equation is in terms of: $M_{11}$, $M_{12}$ y $M_{22}$\n",
        "\n",
        "We can simplify this expression if we change to a new basis \n",
        "$$\n",
        "X=\\begin{bmatrix}\n",
        "A\\\\\n",
        "Z\n",
        "\\end{bmatrix}\n",
        "$$\n",
        "in which $M$ is diagonal, in such a case the crossed term would disappear. \n",
        "The rotation from $X'\\to X$ is defined by\n",
        "\\begin{align}\n",
        "X'=\n",
        "\\begin{bmatrix}\n",
        "B\\\\\n",
        "W\n",
        "\\end{bmatrix}\\equiv\n",
        "\\begin{bmatrix}\n",
        "\\cos\\theta & \\sin\\theta\\\\\n",
        "-\\sin\\theta & \\cos\\theta\n",
        "\\end{bmatrix}\n",
        "\\begin{bmatrix}\n",
        "A\\\\\n",
        "Z\n",
        "\\end{bmatrix}=\n",
        "V X \n",
        "\\end{align}\n",
        "where $V$ is the rotation matrix\n",
        "$$\n",
        "V=\\begin{bmatrix}\n",
        "\\cos\\theta & \\sin\\theta\\\\\n",
        "-\\sin\\theta & \\cos\\theta\n",
        "\\end{bmatrix}.\n",
        "$$\n",
        "Therefore\n",
        "\\begin{align}\n",
        "X\\equiv\n",
        "\\begin{bmatrix}\n",
        "A\\\\\n",
        "Z\n",
        "\\end{bmatrix}=V^{\\operatorname{T}} X' \\to X^{\\operatorname{T}}= X^{\\prime\\operatorname{T}} V\\,,\n",
        "\\end{align}\n",
        "\n",
        "\n",
        "\n",
        "In the new basis\n",
        "\\begin{align}\n",
        "X^{\\prime\\operatorname{T}} M X^\\prime=&X^{\\prime\\operatorname{T}}V V^{\\operatorname{T}} M V V^{\\operatorname{T}} X^\\prime\\\\\n",
        "=&(X^{\\prime\\operatorname{T}}V) (V^{\\operatorname{T}} M V) (V^{\\operatorname{T}} X^\\prime)\\\\\n",
        "=& X^{\\operatorname{T}} M_{\\text{diag}} X \\\\\n",
        "=&  \\lambda_1 A^2+\\lambda_2 Z^2\\,.\n",
        "\\end{align}"
      ]
    },
    {
      "cell_type": "markdown",
      "metadata": {
        "id": "x-uXhjZPZOba"
      },
      "source": [
        "such that $|\\lambda_1|\\le|\\lambda_2|$, where\n",
        "\\begin{align}\n",
        "M_{\\text{diag}}\\equiv V^{\\operatorname{T}} M V=\\begin{bmatrix}\n",
        "\\lambda_1 & 0 \\\\ \n",
        "0 & \\lambda_2 \\\\\n",
        "\\end{bmatrix}\\,,\n",
        "\\end{align}\n",
        "\n",
        "In this basis, the quadratic equation is in terms of eigenvalues and mixing angle, $\\theta$.\n",
        "Therefore, there are not longer mixed terms.\n",
        "\n",
        "The diagonalization of quadratic equations can be straightforwardly  generalized to $n$-th degree equations in terms of $n\\times n$ matrices\n"
      ]
    },
    {
      "cell_type": "code",
      "execution_count": null,
      "metadata": {
        "hide_input": true,
        "id": "-n5dl4OAZObd"
      },
      "outputs": [],
      "source": [
        "import numpy as np\n",
        "g =0.64996\n",
        "gp=0.35523\n",
        "v=246.22046 #GeV"
      ]
    },
    {
      "cell_type": "markdown",
      "metadata": {
        "id": "BjECMqFVZObg"
      },
      "source": [
        "### Example: Electroweak interactions\n",
        "To understand the electromagnetic and weak fundamental interactions, the mathematical formulation need to be done in one basis where the photon field, denoted with a symbol $A$, is still not well defined. Instead, the field $B$, the precursor of $A$, appears along with the weak field $W$, the precursor of the electroweak field $Z$. In the _mathematical_ basis we have then\n",
        "\\begin{align}\n",
        "X' = \n",
        "\\begin{bmatrix}\n",
        "B \\\\ \n",
        "W \\\\\n",
        "\\end{bmatrix},\n",
        "\\end{align}\n",
        "and there, the symmetric mass matrix is calculated as (Details here: [PDF](https://github.com/restrepo/TCC/releases/latest))"
      ]
    },
    {
      "cell_type": "markdown",
      "metadata": {
        "id": "sctDfLVSZObg"
      },
      "source": [
        "<!-- \n",
        "sin2θ=0.23\n",
        "θ=np.arcsin( np.sqrt(sin2θ)  )\n",
        "print(θ)\n",
        "MZ=91.1876\n",
        "GF=1.166371E-5\n",
        "v=1/np.sqrt(np.sqrt(2)*GF)\n",
        "g=2*MZ*np.cos(θ)/v\n",
        "gp=g*np.tan(θ)\n",
        "gp\n",
        "-->"
      ]
    },
    {
      "cell_type": "code",
      "execution_count": null,
      "metadata": {
        "id": "ZJFQwqVbZObg"
      },
      "outputs": [],
      "source": [
        "M=(v**2/4)*np.array([[gp**2,-g*gp],\n",
        "                     [-g*gp, g**2]])"
      ]
    },
    {
      "cell_type": "code",
      "execution_count": null,
      "metadata": {
        "id": "-j-XUKakZObh",
        "outputId": "b230c258-7859-4528-802d-00de92161dc6"
      },
      "outputs": [
        {
          "data": {
            "text/plain": [
              "array([[ 1912.52692086, -3499.32718938],\n",
              "       [-3499.32718938,  6402.67629426]])"
            ]
          },
          "execution_count": 66,
          "metadata": {},
          "output_type": "execute_result"
        }
      ],
      "source": [
        "M"
      ]
    },
    {
      "cell_type": "markdown",
      "metadata": {
        "id": "7vaYMX-2ZObh"
      },
      "source": [
        "Checking that the determinant is zero"
      ]
    },
    {
      "cell_type": "code",
      "execution_count": null,
      "metadata": {
        "id": "FdpaKPYHZObh",
        "outputId": "eaf0c144-2213-4c7d-9fa2-a143f8bb2203"
      },
      "outputs": [
        {
          "data": {
            "text/plain": [
              "0.0"
            ]
          },
          "execution_count": 67,
          "metadata": {},
          "output_type": "execute_result"
        }
      ],
      "source": [
        "np.linalg.det(M).round(8)"
      ]
    },
    {
      "cell_type": "markdown",
      "metadata": {
        "id": "vI_BbCvnZObh"
      },
      "source": [
        "This imply that one egivanlue is zero"
      ]
    },
    {
      "cell_type": "code",
      "execution_count": null,
      "metadata": {
        "id": "lA2MWJXTZObh",
        "outputId": "c92cbbfd-ac56-4ad4-bdbb-d3e114f2a1c1"
      },
      "outputs": [
        {
          "data": {
            "text/plain": [
              "array([   0.        , 8315.20321512])"
            ]
          },
          "execution_count": 69,
          "metadata": {},
          "output_type": "execute_result"
        }
      ],
      "source": [
        "np.linalg.eigvals(M).round(12)"
      ]
    },
    {
      "cell_type": "markdown",
      "metadata": {
        "id": "GDPjUxy5ZObi"
      },
      "source": [
        "which means that the matrix rank, the number of non-zero eigenvalues, is 1"
      ]
    },
    {
      "cell_type": "code",
      "execution_count": null,
      "metadata": {
        "id": "H09j8dCPZObi",
        "outputId": "9c37b430-bcf6-46ac-e066-8625c05019d4"
      },
      "outputs": [
        {
          "data": {
            "text/plain": [
              "1"
            ]
          },
          "execution_count": 70,
          "metadata": {},
          "output_type": "execute_result"
        }
      ],
      "source": [
        "np.linalg.matrix_rank(M) #Número de autovalores de una matriz diferentes de cero"
      ]
    },
    {
      "cell_type": "markdown",
      "metadata": {
        "id": "d8rOgy0-ZObi"
      },
      "source": [
        "To make the change to the _phyisical_ basis,\n",
        "$$\n",
        "X=\\begin{bmatrix}\n",
        "A\\\\\n",
        "Z\n",
        "\\end{bmatrix}\n",
        "$$\n",
        "through the rotation matrix\n",
        "$$\n",
        "V=\\begin{bmatrix}\n",
        "\\cos\\theta_W & \\sin\\theta_W\\\\\n",
        "-\\sin\\theta_W & \\cos\\theta_W\n",
        "\\end{bmatrix},\n",
        "$$\n",
        "the following transformation need to be established\n",
        "\\begin{align}\n",
        "X'=\n",
        "\\begin{bmatrix}\n",
        "B\\\\\n",
        "W\n",
        "\\end{bmatrix}\\equiv\n",
        "\\begin{bmatrix}\n",
        "\\cos\\theta_W & \\sin\\theta_W\\\\\n",
        "-\\sin\\theta_W & \\cos\\theta_W\n",
        "\\end{bmatrix}\n",
        "\\begin{bmatrix}\n",
        "A\\\\\n",
        "Z\n",
        "\\end{bmatrix}=\n",
        "V X\\,,\n",
        "\\end{align}\n",
        "such that $V$ is the diagonalization matrix of $M$"
      ]
    },
    {
      "cell_type": "markdown",
      "metadata": {
        "id": "zN1KzakEZObi"
      },
      "source": [
        "$$M_{\\text{diag}}=V^{\\operatorname{T}} M V$$\n",
        "with the normal ordering: $|\\lambda_1|\\le|\\lambda_2|$, and"
      ]
    },
    {
      "cell_type": "markdown",
      "metadata": {
        "id": "JqxF1YMHZObj"
      },
      "source": [
        "* $V$ → Diagonalization matrix\n",
        "* $V$ → Ortogonal matrix\n",
        "* $V$ → Rotation matrix\n",
        "\n",
        "To obtain the eigensystem, we use"
      ]
    },
    {
      "cell_type": "code",
      "execution_count": null,
      "metadata": {
        "id": "sNOegH5HZObj"
      },
      "outputs": [],
      "source": [
        "λ,V=np.linalg.eig(M)"
      ]
    },
    {
      "cell_type": "markdown",
      "metadata": {
        "id": "6M9DIAlNZObj"
      },
      "source": [
        "which in fact satisfy"
      ]
    },
    {
      "cell_type": "code",
      "execution_count": null,
      "metadata": {
        "id": "MIkHW2KoZObj",
        "outputId": "b54799e6-2f22-4858-f675-ecea0f8f60ce"
      },
      "outputs": [
        {
          "data": {
            "text/plain": [
              "array([[  -0.        ,    0.        ],\n",
              "       [  -0.        , 8315.20321512]])"
            ]
          },
          "execution_count": 72,
          "metadata": {},
          "output_type": "execute_result"
        }
      ],
      "source": [
        "np.dot( np.dot(V.transpose(),M) , V).round(12)"
      ]
    },
    {
      "cell_type": "markdown",
      "metadata": {
        "id": "A6qy9d9rZObj"
      },
      "source": [
        "Since the first (zero) eigenvalue is the one associated to $A$, we can interpret directly the rotation matrix without changing the order of the eigenvectors"
      ]
    },
    {
      "cell_type": "code",
      "execution_count": null,
      "metadata": {
        "id": "3aqFs18aZObj",
        "outputId": "a2c5471e-b57a-4330-93e1-c70236a320cf"
      },
      "outputs": [
        {
          "data": {
            "text/plain": [
              "array([[-0.87749437,  0.47958694],\n",
              "       [-0.47958694, -0.87749437]])"
            ]
          },
          "execution_count": 73,
          "metadata": {},
          "output_type": "execute_result"
        }
      ],
      "source": [
        "V"
      ]
    },
    {
      "cell_type": "markdown",
      "metadata": {
        "id": "L4pFSZydZObk"
      },
      "source": [
        "Note that in fact, the absolute value of the first element of the first eigenvector is the larger one and corresponds to the component along the $B$-axis."
      ]
    },
    {
      "cell_type": "markdown",
      "metadata": {
        "id": "obLmOGzwZObk"
      },
      "source": [
        "Therefore"
      ]
    },
    {
      "cell_type": "code",
      "execution_count": null,
      "metadata": {
        "id": "rCsDnvDFZObk",
        "outputId": "e2b2607c-ac00-4100-84e5-82e33941e1e1"
      },
      "outputs": [
        {
          "data": {
            "text/plain": [
              "0.5001839211647364"
            ]
          },
          "execution_count": 74,
          "metadata": {},
          "output_type": "execute_result"
        }
      ],
      "source": [
        "θ_W=np.arcsin( V[0,1] )\n",
        "θ_W"
      ]
    },
    {
      "cell_type": "markdown",
      "metadata": {
        "id": "y5qGcqF2ZObl"
      },
      "source": [
        "The eigenvalue associated to $Z$ is"
      ]
    },
    {
      "cell_type": "code",
      "execution_count": null,
      "metadata": {
        "id": "MflmhrOWZObl",
        "outputId": "9857d833-e157-46b3-f83f-d03a127ecce5"
      },
      "outputs": [
        {
          "data": {
            "text/plain": [
              "91.18773610041056"
            ]
          },
          "execution_count": 75,
          "metadata": {},
          "output_type": "execute_result"
        }
      ],
      "source": [
        "mZ=np.sqrt(λ[1])\n",
        "mZ #GeV"
      ]
    },
    {
      "cell_type": "markdown",
      "metadata": {
        "id": "o74tcnZRZObm"
      },
      "source": [
        "corresponding to the  $Z$ mass in units of $\\text{GeV}/c^2$. As a reference, the proton mass is approximately $1\\ \\text{GeV}/c^2$\n",
        "\n",
        "The physical observable associated to the _weak mixing angle_, $\\theta_W$, is (see [PDF](https://pdg.lbl.gov/2019/reviews/rpp2018-rev-phys-constants.pdf), along with the $Z^0$ _boson mass_, $m_Z$)"
      ]
    },
    {
      "cell_type": "code",
      "execution_count": null,
      "metadata": {
        "id": "fAkvzetpZObm",
        "outputId": "f64f95d4-f4cc-4c5d-f4cc-6ccfcf326e36"
      },
      "outputs": [
        {
          "data": {
            "text/plain": [
              "0.23000362966286086"
            ]
          },
          "execution_count": 76,
          "metadata": {},
          "output_type": "execute_result"
        }
      ],
      "source": [
        "np.sin(θ_W)**2"
      ]
    },
    {
      "cell_type": "markdown",
      "metadata": {
        "id": "l_AzOjujZObn"
      },
      "source": [
        "## Corolary 1 Theorem II\n",
        "For a unique unitary $n\\times n$ matrix $\\boldsymbol{V}$ and a set of unique of eigenvalues $\\lambda_1,\\lambda_2,\\ldots\\lambda_n$ there exists an infite set of mass matrices $\\boldsymbol{A}$, associated to the infinite sets of matrices $\\boldsymbol{U}$, such that\n",
        "$$  \\boldsymbol{V}^\\dagger\\boldsymbol{A}\\,\\boldsymbol{U}=\\boldsymbol{A}_{\\text{diag}}\\,, $$\n",
        "where \n",
        "$\\boldsymbol{A}_{\\text{diag}}=\\operatorname{diag}(\\lambda_1,\\lambda_2,\\ldots \\lambda_n)$ is the diagonalized mass matrix. In particular, if $\\boldsymbol{A}$ is hermitic then there is only one possibility for $\\boldsymbol{U}=\\boldsymbol{V}$ and therefore $\\boldsymbol{A}$ is unique.\n",
        "\n",
        "## Corolary 2 Theorem II\n",
        "An unique hermitic mass matrix, $\\boldsymbol{A}$, can be generated from an infinite set of arbitrary matrices $\\boldsymbol{Y}$, such that\n",
        "$\\boldsymbol{A}=\\boldsymbol{Y}^{\\dagger}\\boldsymbol{Y}$"
      ]
    },
    {
      "cell_type": "markdown",
      "metadata": {
        "id": "nHukH5OUZObn"
      },
      "source": [
        "### Example: Neutrino mass matrix\n",
        "Returning back to the neutrino mixing discussion, it is worth noticing that in the mathematical basis\n",
        "$$\n",
        "N=\\left(\\begin{array}{l}\n",
        "\\left|\\nu_{e}\\right\\rangle \\\\\n",
        "\\left|\\nu_{\\mu}\\right\\rangle \\\\\n",
        "\\left|\\nu_{\\tau}\\right\\rangle\n",
        "\\end{array}\\right)\n",
        "$$\n",
        "the mass matrix, $\\mathcal{M}_\\nu$ is non-diagonal. However, if we assume that it is hermitic, then an unitary tranformation (rotation in the symmetric case), $\\boldsymbol{U}$ ,can be defined to diagonal basis as\n",
        "$$\n",
        "\\left(\\begin{array}{l}\n",
        "\\left|\\nu_{e}\\right\\rangle \\\\\n",
        "\\left|\\nu_{\\mu}\\right\\rangle \\\\\n",
        "\\left|\\nu_{\\tau}\\right\\rangle\n",
        "\\end{array}\\right)= \\boldsymbol{U}\\left(\\begin{array}{l}\n",
        "\\left|\\nu_{1}\\right\\rangle \\\\\n",
        "\\left|\\nu_{2}\\right\\rangle \\\\\n",
        "\\left|\\nu_{3}\\right\\rangle\n",
        "\\end{array}\\right),\n",
        "$$\n",
        "which is identified as the diagonalization matrix\n",
        "$$\n",
        "\\boldsymbol{U}^\\dagger \\mathcal{M}_\\nu \\boldsymbol{U}=\\operatorname{diag}(m_1,m_2,m_3).\n",
        "$$\n",
        "\n",
        "According to the corrolary there is a set of infinite matrices complatible with an unique $\\boldsymbol{U}$ and the eigenvalues $m_1,m_2,m_3$"
      ]
    },
    {
      "cell_type": "markdown",
      "metadata": {
        "id": "nQnGjHMrZObn"
      },
      "source": [
        "### Casas-Ibarra parameterization\n",
        "Consider a $n\\times n$ symmetric matrix $A$. We can assumme without lost of generality that this can be generated from a matrix $Y$ such that\n",
        "$$\n",
        "A=Y^{\\operatorname{T}}Y\n",
        "$$\n",
        "Theorem 1 gurantees that exists an ortogonal matrix $U$ such that\n",
        "$$\n",
        "U^{\\operatorname{T}} A U=U^{\\operatorname{T}} Y^{\\operatorname{T}}Y U=D_\\lambda\n",
        "$$\n",
        "where\n",
        "$$\n",
        "D_{\\lambda}=A_{\\text{diag}}=\\operatorname{diag}\\left(\\lambda_1,\\lambda_2,\\ldots,\\lambda_n\\right)\n",
        "$$\n",
        "where $\\lambda_i$ are the eigenvalues of $A$. Therefore\n",
        "\\begin{align}\n",
        " Y^{\\operatorname{T}}Y =&U D_\\lambda U^{\\operatorname{T}}\\\\\n",
        " =&U D_{\\sqrt{\\lambda}} D_{\\sqrt{\\lambda}} U^{\\operatorname{T}}\\\\\n",
        "\\end{align}\n",
        "where\n",
        "$$\n",
        "D_{\\sqrt{\\lambda}}=\\operatorname{diag}\\left(\\sqrt{\\lambda_1},\\sqrt{\\lambda_2},\\ldots \\sqrt{\\lambda_n}\\right)\n",
        "$$\n",
        "Therefore, exists an ortogonal arbitrary matrix $R$, such that\n",
        "$$\n",
        " Y^{\\operatorname{T}}Y =U D_{\\sqrt{\\lambda}}R^{\\operatorname{T}}R D_{\\sqrt{\\lambda}} U^{\\operatorname{T}}\\\\\n",
        "$$\n",
        "\n",
        "In this way, the matrix $Y$ can be parameterized in terms of $R$ as\n",
        "$$\n",
        "Y=R D_{\\sqrt{\\lambda}} U^{\\operatorname{T}}\n",
        "$$\n",
        "\n",
        "\n",
        "1) By using the previous equations, build a $2\\times 2$  $Y$ matrix  with the following conditions\n",
        "* $R$ is an orthogonal matrix with a rotation angle as a random number between $(0,2\\pi)$. Use your identification number as the seed of the random number generator.\n",
        "* The eigenvalues are $\\lambda_1=2$ and $\\lambda_2=4$. \n",
        "* $U$ is a diagonalization matrix with mixing angle $\\pi/4$\n",
        "\n",
        "2) Build the matrix $A$ and check that has the proper eigenvalues and eigenvectors"
      ]
    },
    {
      "cell_type": "markdown",
      "metadata": {
        "id": "dKgIb6uHZObo"
      },
      "source": [
        "1)"
      ]
    },
    {
      "cell_type": "code",
      "execution_count": null,
      "metadata": {
        "id": "UF8VoG0wZObo"
      },
      "outputs": [],
      "source": [
        "import numpy as np\n",
        "\n",
        "#np.random.seed(98554575)\n",
        "\n",
        "θ=np.random.uniform(0,2*np.pi)\n",
        "\n",
        "def orthogonal(θ):\n",
        "    return np.array( [[ np.cos(θ),  np.sin(θ)],\n",
        "                      [ -np.sin(θ), np.cos(θ) ]]    )"
      ]
    },
    {
      "cell_type": "code",
      "execution_count": null,
      "metadata": {
        "id": "SquqxZqFZObp",
        "outputId": "b22b82d2-67ac-4727-d20f-10c781aeb0b1"
      },
      "outputs": [
        {
          "name": "stdout",
          "output_type": "stream",
          "text": [
            "R=\n"
          ]
        },
        {
          "data": {
            "text/plain": [
              "array([[-0.58653755,  0.80992203],\n",
              "       [-0.80992203, -0.58653755]])"
            ]
          },
          "execution_count": 88,
          "metadata": {},
          "output_type": "execute_result"
        }
      ],
      "source": [
        "λ1=2; λ2=4\n",
        "R=orthogonal(θ)\n",
        "U=orthogonal(np.pi/4)\n",
        "D_sqrtλ=np.diag( np.sqrt([λ1,λ2]) )\n",
        "print('R=')\n",
        "R"
      ]
    },
    {
      "cell_type": "markdown",
      "metadata": {
        "id": "LS_souEFZObq"
      },
      "source": [
        "From the equation for $Y$"
      ]
    },
    {
      "cell_type": "code",
      "execution_count": null,
      "metadata": {
        "id": "ZRKBY4DMZObq",
        "outputId": "1c649f72-c6fc-4fdd-99d4-c89987face17"
      },
      "outputs": [
        {
          "data": {
            "text/plain": [
              "array([[ 0.55886517,  1.73194028],\n",
              "       [-1.6394114 , -0.01956733]])"
            ]
          },
          "execution_count": 89,
          "metadata": {},
          "output_type": "execute_result"
        }
      ],
      "source": [
        "Y=np.dot( np.dot( R,D_sqrtλ), U.transpose() )\n",
        "Y"
      ]
    },
    {
      "cell_type": "markdown",
      "metadata": {
        "id": "6aH7oVVGZObq"
      },
      "source": [
        "The symmetric matrix is"
      ]
    },
    {
      "cell_type": "code",
      "execution_count": null,
      "metadata": {
        "id": "sLfQ3jE2ZObq",
        "outputId": "c12c3f62-ab72-4fb6-8680-c4574f275171"
      },
      "outputs": [
        {
          "data": {
            "text/plain": [
              "array([[3., 1.],\n",
              "       [1., 3.]])"
            ]
          },
          "execution_count": 90,
          "metadata": {},
          "output_type": "execute_result"
        }
      ],
      "source": [
        "#Unique mass matrix\n",
        "A=np.dot( Y.transpose(), Y)\n",
        "A"
      ]
    },
    {
      "cell_type": "markdown",
      "metadata": {
        "id": "4ICDgG0OZObq"
      },
      "source": [
        "2)"
      ]
    },
    {
      "cell_type": "code",
      "execution_count": null,
      "metadata": {
        "id": "Zy-4MuAbZObr",
        "outputId": "e1c5e5af-e288-478a-b479-b95edad290de"
      },
      "outputs": [
        {
          "name": "stdout",
          "output_type": "stream",
          "text": [
            "Eigenvalues=[2. 4.]\n",
            "U=\n"
          ]
        },
        {
          "data": {
            "text/plain": [
              "array([[-0.70710678, -0.70710678],\n",
              "       [ 0.70710678, -0.70710678]])"
            ]
          },
          "execution_count": 91,
          "metadata": {},
          "output_type": "execute_result"
        }
      ],
      "source": [
        "λ,Unew=np.linalg.eig(A)\n",
        "print('Eigenvalues={}'.format(λ))\n",
        "print('U=')\n",
        "Unew"
      ]
    },
    {
      "cell_type": "markdown",
      "metadata": {
        "id": "VSO88HSZZObs"
      },
      "source": [
        "After the reordering of the eigenvalues, we would obtain the original $U$ and therefore"
      ]
    },
    {
      "cell_type": "code",
      "execution_count": null,
      "metadata": {
        "id": "c5Kj4kDPZObt",
        "outputId": "88f46e66-a958-4554-c961-868d370b0d9a"
      },
      "outputs": [
        {
          "data": {
            "text/plain": [
              "array([[ 2.,  0.],\n",
              "       [-0.,  4.]])"
            ]
          },
          "execution_count": 92,
          "metadata": {},
          "output_type": "execute_result"
        }
      ],
      "source": [
        "np.dot( np.dot( U.transpose(),A ), U).round(15)"
      ]
    },
    {
      "cell_type": "markdown",
      "metadata": {
        "id": "WwZJGIJcZObu"
      },
      "source": [
        "In this way, there is an infinity set of symmetric matrices $A$ which have the same eigenvalues and eigenvectors"
      ]
    },
    {
      "cell_type": "markdown",
      "metadata": {
        "id": "zA9gwfoKZObu"
      },
      "source": [
        "### THDM CP-even masses and mixing\n",
        "Some times, the convention to identify the large projections in the non-diagonal basis.\n",
        "\n",
        "In this case we have the rotation between an interaction basis and a physical basis defined as\n",
        "$$\n",
        "\\begin{pmatrix}\n",
        "R_1\\\\\n",
        "R_2\\\\\n",
        "\\end{pmatrix}=\n",
        "\\begin{pmatrix}\n",
        "\\cos\\alpha & -\\sin\\alpha \\\\\n",
        "\\sin\\alpha & \\cos\\alpha \\\\\n",
        "\\end{pmatrix}\n",
        "\\begin{pmatrix}\n",
        "H\\\\\n",
        "h\\\\\n",
        "\\end{pmatrix}.\n",
        "$$\n",
        "Since the diagonalization of a symmetric $2\\times 2$ matrix can be obtained analitically,\n",
        "here we build a $2\\times 2$ symmetric matrix from the eigenvalues, $m_H$ and $m_h$, and the rotation angle, $\\alpha$, and check with the numerical results by using a benchmark point:\n",
        "\n",
        "→ [Benchmark point BP9](https://twiki.cern.ch/twiki/pub/LHCPhysics/LHCHXSWG3Benchmarks2HDM/Exotic_Benchmarks.pdf)\n",
        "\n",
        "Here, the eigenvalue $m_h$ is defined as the one with the eigenvector with the larger projection upon $R_2$"
      ]
    },
    {
      "cell_type": "code",
      "execution_count": null,
      "metadata": {
        "id": "5HnvEArkZObu"
      },
      "outputs": [],
      "source": [
        "import numpy as np\n",
        "from scipy import optimize\n",
        "G_F=1.1663787E-5 #GeV^-2\n",
        "v=1/np.sqrt(np.sqrt(2.)*G_F) # GeV\n",
        "\n",
        "#*********  BP9 ************\n",
        "tanβ=2\n",
        "sinβ_α=0.6   # sin(β-α)\n",
        "m_h = 125    # GeV/c^2 (c→1)\n",
        "m_H = 300    # GeV/c^2 \n",
        "m_A = 300    # GeV/c^2\n",
        "m_Hp= 400    # GeV/c^2\n",
        "m2_12=100**2 # (GeV/c^2)^2\n",
        "#***********************"
      ]
    },
    {
      "cell_type": "markdown",
      "metadata": {
        "id": "1f8HFkgcZObv"
      },
      "source": [
        "The formula for the mass matrix in terms of the previous parameters can be found in [[hep-ph/0207010](https://arxiv.org/pdf/hep-ph/0207010.pdf),[arXiv:1507.00933](https://arxiv.org/pdf/1507.00933.pdf)]. We assumme here that $\\lambda_6=\\lambda_7=0$. See Appendix D of  [[hep-ph/0207010](https://arxiv.org/pdf/hep-ph/0207010.pdf)] for full formulas"
      ]
    },
    {
      "cell_type": "code",
      "execution_count": null,
      "metadata": {
        "id": "lStNSp6dZObv",
        "outputId": "1a6106ee-0177-4f9c-aea5-5590b146b01a"
      },
      "outputs": [
        {
          "name": "stdout",
          "output_type": "stream",
          "text": [
            "α= 0.46364760900080604\n"
          ]
        },
        {
          "data": {
            "text/plain": [
              "1.63919914780058"
            ]
          },
          "execution_count": 94,
          "metadata": {},
          "output_type": "execute_result"
        }
      ],
      "source": [
        "β=np.arctan(tanβ)\n",
        "α=β-np.arcsin(sinβ_α) # <= np.pi/2~1.57\n",
        "print('α=',α)\n",
        "λ1  =(m_H**2*np.cos(α)**2+m_h**2*np.sin(α)**2-m2_12*np.tan(β))/(v**2*np.cos(β)**2)\n",
        "λ_2 =(m_H**2*np.sin(α)**2+m_h**2*np.cos(α)**2-m2_12/np.tan(β))/(v**2*np.sin(β)**2)\n",
        "λ3  =((m_H**2-m_h**2)*np.cos(α)*np.sin(α)+2*m_Hp**2*np.sin(β)*np.cos(β)-m2_12)/(v**2*np.sin(β)*np.cos(β))\n",
        "λ4  =((m_A**2-2*m_Hp**2)*np.sin(β)*np.cos(β)+m2_12)/(v**2*np.sin(β)*np.cos(β))\n",
        "λ5  =(m2_12-m_A**2*np.sin(β)*np.cos(β))/(v**2*np.sin(β)*np.cos(β))\n",
        "λ345=λ3+λ4+λ5\n",
        "λ345"
      ]
    },
    {
      "cell_type": "code",
      "execution_count": null,
      "metadata": {
        "id": "Ef7JKQqNZObv"
      },
      "outputs": [],
      "source": [
        "def M2(β,λ1,λ_2,λ5,λ345,m2_12,v=246.2):\n",
        "    mA2=m2_12/(np.sin(β)*np.cos(β))-λ5*v**2\n",
        "    M11=λ1*v**2*np.cos(β)**2+(mA2+λ5*v**2)*np.sin(β)**2\n",
        "    M12=(λ345*v**2-(mA2+λ5*v**2))*np.sin(β)*np.cos(β)\n",
        "    M22=λ_2*v**2*np.sin(β)**2+(mA2+λ5*v**2)*np.cos(β)**2\n",
        "    return np.array( [[M11, M12],\n",
        "                      [M12, M22]])"
      ]
    },
    {
      "cell_type": "markdown",
      "metadata": {
        "id": "AjMrf8vXZObw"
      },
      "source": [
        "In this way, from the BP point, we can build the $2\\times2$ symmetric mass $\\mathcal{M}$:"
      ]
    },
    {
      "cell_type": "code",
      "execution_count": null,
      "metadata": {
        "id": "hnr4pjOxZObw",
        "outputId": "47b8fe46-b50e-46f2-d940-b63e41b915ab"
      },
      "outputs": [
        {
          "data": {
            "text/plain": [
              "array([[75125., 29750.],\n",
              "       [29750., 30500.]])"
            ]
          },
          "execution_count": 96,
          "metadata": {},
          "output_type": "execute_result"
        }
      ],
      "source": [
        "ℳ2=M2(β,λ1,λ_2,λ5,λ345,m2_12,v=v)\n",
        "ℳ2"
      ]
    },
    {
      "cell_type": "code",
      "execution_count": null,
      "metadata": {
        "id": "sOrbHLclZObw"
      },
      "outputs": [],
      "source": [
        "m2,V=np.linalg.eig(ℳ2)"
      ]
    },
    {
      "cell_type": "markdown",
      "metadata": {
        "id": "xTgD5prZZObw"
      },
      "source": [
        "By using the proper basis\n",
        "$$\n",
        "\\left(\\begin{array}{cc}\n",
        "m_{H}^{2} & 0 \\\\\n",
        "0 & m_{h}^{2}\n",
        "\\end{array}\\right)=\\left(\\begin{array}{rr}\n",
        "\\cos{\\alpha} & \\sin{\\alpha} \\\\\n",
        "-\\sin{\\alpha} & \\cos{\\alpha}\n",
        "\\end{array}\\right)\\left(\\begin{array}{ll}\n",
        "\\mathcal{M}_{11}^{2} & \\mathcal{M}_{12}^{2} \\\\\n",
        "\\mathcal{M}_{12}^{2} & \\mathcal{M}_{22}^{2}\n",
        "\\end{array}\\right)\\left(\\begin{array}{lr}\n",
        "\\cos{\\alpha} & -\\sin{\\alpha} \\\\\n",
        "\\sin{\\alpha} & \\cos{\\alpha}\n",
        "\\end{array}\\right).\n",
        "$$\n",
        "Therefore\n",
        "$$\n",
        "U=\\left(\\begin{array}{lr}\n",
        "\\cos{\\alpha} & -\\sin{\\alpha} \\\\\n",
        "\\sin{\\alpha} & \\cos{\\alpha}\n",
        "\\end{array}\\right).\n",
        "$$\n",
        "Since $-\\pi/2\\le\\alpha\\le\\pi/2$ then $\\cos\\alpha\\ge 0$. In this way, we must obtain $\\alpha$ from $\\tan\\alpha$  to avoid ambiguities with a global sign in the second eigenvector \n",
        "$$\n",
        "\\tan\\alpha=\\frac{\\sin\\alpha}{\\cos\\alpha}=-\\frac{U_{01}}{U_{11}}\\,.\n",
        "$$\n",
        "\n",
        "The eigenvector with large projection in the second component along $R_2$ ( Interaction basis $(R_1,R_2)$  → Mass basis $(H^0,h^0)$) is the associated with the standard model Higgs mass, $m_h$"
      ]
    },
    {
      "cell_type": "code",
      "execution_count": null,
      "metadata": {
        "id": "OHfrKqFlZObw",
        "outputId": "e33a33b6-eb9e-4aa7-f0b2-84849652b05e"
      },
      "outputs": [
        {
          "data": {
            "text/plain": [
              "array([[ 0.89442719, -0.4472136 ],\n",
              "       [ 0.4472136 ,  0.89442719]])"
            ]
          },
          "execution_count": 98,
          "metadata": {},
          "output_type": "execute_result"
        }
      ],
      "source": [
        "V"
      ]
    },
    {
      "cell_type": "code",
      "execution_count": null,
      "metadata": {
        "id": "dYM2TYnyZObx",
        "outputId": "96d3e5a5-ae1c-4652-bca3-13efce73df5e"
      },
      "outputs": [
        {
          "data": {
            "text/plain": [
              "(0, 1)"
            ]
          },
          "execution_count": 99,
          "metadata": {},
          "output_type": "execute_result"
        }
      ],
      "source": [
        "if np.abs(V[0,1])<=np.abs(V[1,1]):\n",
        "    H=0; h=1\n",
        "else:\n",
        "    H=1; h=0\n",
        "(H,h)"
      ]
    },
    {
      "cell_type": "code",
      "execution_count": null,
      "metadata": {
        "id": "phujmZ8yZObx",
        "outputId": "6fbdff79-830d-47d2-fc49-6a3da98d84c3"
      },
      "outputs": [
        {
          "data": {
            "text/plain": [
              "array([[ 0.89442719, -0.4472136 ],\n",
              "       [ 0.4472136 ,  0.89442719]])"
            ]
          },
          "execution_count": 100,
          "metadata": {},
          "output_type": "execute_result"
        }
      ],
      "source": [
        "U=np.c_[ V[:,H],V[:,h]  ]\n",
        "U"
      ]
    },
    {
      "cell_type": "code",
      "execution_count": null,
      "metadata": {
        "id": "WxqYFntrZObx",
        "outputId": "380faa97-c9b0-406a-b8ce-a36a1e80240f"
      },
      "outputs": [
        {
          "data": {
            "text/plain": [
              "(300.0, 125.0)"
            ]
          },
          "execution_count": 101,
          "metadata": {},
          "output_type": "execute_result"
        }
      ],
      "source": [
        "M2diag=np.dot( np.dot( U.transpose(),ℳ2), U).round(9)\n",
        "mH,mh=np.sqrt(M2diag[0,0]),np.sqrt(M2diag[1,1])\n",
        "mH,mh"
      ]
    },
    {
      "cell_type": "code",
      "execution_count": null,
      "metadata": {
        "id": "uwM07rgdZObx",
        "outputId": "505ace03-2151-48b9-c664-48514ae37169"
      },
      "outputs": [
        {
          "name": "stdout",
          "output_type": "stream",
          "text": [
            "0.4636476090008061\n"
          ]
        }
      ],
      "source": [
        "tanα=-U[0,1]/U[1,1]\n",
        "\n",
        "α=np.arctan(tanα)\n",
        "if α>=-np.pi/2 and α<=np.pi/2:\n",
        "    print(α)\n",
        "else:\n",
        "    print('Bad α range')"
      ]
    },
    {
      "cell_type": "code",
      "execution_count": null,
      "metadata": {
        "id": "Wv-UkB56ZOby",
        "outputId": "1b318ec6-2323-4f75-99a1-eaafc43a23ca"
      },
      "outputs": [
        {
          "data": {
            "text/plain": [
              "0.8"
            ]
          },
          "execution_count": 103,
          "metadata": {},
          "output_type": "execute_result"
        }
      ],
      "source": [
        "np.cos(β-α)"
      ]
    },
    {
      "cell_type": "code",
      "execution_count": null,
      "metadata": {
        "id": "Ovloi5HDZOby",
        "outputId": "96413f44-446f-4475-8dd5-0738792b1c17"
      },
      "outputs": [
        {
          "data": {
            "text/plain": [
              "0.5999999999999999"
            ]
          },
          "execution_count": 104,
          "metadata": {},
          "output_type": "execute_result"
        }
      ],
      "source": [
        "np.sin(β-α)"
      ]
    },
    {
      "cell_type": "markdown",
      "metadata": {
        "id": "rAav6SGVZOby"
      },
      "source": [
        "Analytical diagonalization from [[arXiv:1507.00933](https://arxiv.org/pdf/1507.00933.pdf)]"
      ]
    },
    {
      "cell_type": "code",
      "execution_count": null,
      "metadata": {
        "id": "Z1MtPBINZOby"
      },
      "outputs": [],
      "source": [
        "Δ=np.sqrt(  (ℳ2[0,0]-ℳ2[1,1])**2+4*ℳ2[0,1]**2 )"
      ]
    },
    {
      "cell_type": "code",
      "execution_count": null,
      "metadata": {
        "id": "sj5ENImAZOby",
        "outputId": "8103a56a-7cb3-4b21-edd4-b274cdf6f969"
      },
      "outputs": [
        {
          "data": {
            "text/plain": [
              "array([300., 125.])"
            ]
          },
          "execution_count": 106,
          "metadata": {},
          "output_type": "execute_result"
        }
      ],
      "source": [
        "np.sqrt( [0.5*( ℳ2[0,0]+ℳ2[1,1]+Δ ),\n",
        "          0.5*( ℳ2[0,0]+ℳ2[1,1]-Δ ) ])"
      ]
    },
    {
      "cell_type": "code",
      "execution_count": null,
      "metadata": {
        "id": "vht1Q8mmZObz",
        "outputId": "928aecb5-4a3a-4a10-91bf-97f53664e355"
      },
      "outputs": [
        {
          "name": "stdout",
          "output_type": "stream",
          "text": [
            "U=\n"
          ]
        },
        {
          "data": {
            "text/plain": [
              "array([[ 0.89442719, -0.4472136 ],\n",
              "       [ 0.4472136 ,  0.89442719]])"
            ]
          },
          "execution_count": 107,
          "metadata": {},
          "output_type": "execute_result"
        }
      ],
      "source": [
        "Cosα,Sinα=( np.sqrt((Δ+ℳ2[0,0]-ℳ2[1,1])/(2*Δ)),\n",
        "            np.sqrt(2)*ℳ2[0,1]/np.sqrt(Δ*(Δ+ℳ2[0,0]-ℳ2[1,1])) )\n",
        "print('U=')\n",
        "np.array([[Cosα,-Sinα],[Sinα,Cosα]])"
      ]
    },
    {
      "cell_type": "code",
      "execution_count": null,
      "metadata": {
        "id": "0Gf2mpDXZOb0",
        "outputId": "17823427-492c-41c2-d6c0-1c54b993d722"
      },
      "outputs": [
        {
          "name": "stdout",
          "output_type": "stream",
          "text": [
            "cos(β-α)=0.8\n"
          ]
        }
      ],
      "source": [
        "print('cos(β-α)={}'.format(np.cos( β- np.arctan( Sinα/Cosα) )))"
      ]
    },
    {
      "cell_type": "markdown",
      "metadata": {
        "id": "M0XJAD2wZOb1"
      },
      "source": [
        "## Activity\n",
        "Let\n",
        "$$\n",
        "\\boldsymbol{M}=\\begin{bmatrix}\n",
        "1 & 2\\\\\n",
        "3 & 4\\\\\n",
        "\\end{bmatrix}\n",
        "$$\n",
        "Choose the diagonalization method (A/B)\n",
        "* A: \n",
        "```python\n",
        "np.linalg.eig(M)\n",
        "```\n",
        "* B:\n",
        "```python\n",
        "from scipy import linalg\n",
        "linalg.svd(M)\n",
        "```"
      ]
    },
    {
      "cell_type": "code",
      "source": [
        "A=np.array([[1,2],\n",
        "            [3,4]])\n",
        "\n",
        "detA=np.linalg.det(A)\n",
        "evalues, evectors = np.linalg.eig(A)\n"
      ],
      "metadata": {
        "id": "Y2x4e4fyrroE"
      },
      "execution_count": 22,
      "outputs": []
    },
    {
      "cell_type": "code",
      "source": [
        "P = evectors\n",
        "Pinv=np.linalg.inv(P)\n",
        "\n",
        "D = np.zeros((2,2))\n",
        "for i in range(2):\n",
        "    D[i,i] = evalues[i]\n",
        "\n",
        "Dinv=np.linalg.inv(D)\n",
        "print('D=\\n',D)"
      ],
      "metadata": {
        "colab": {
          "base_uri": "https://localhost:8080/"
        },
        "id": "k8_pvKHPr83P",
        "outputId": "48a8b886-65d1-4c13-bf89-62dbc91a217b"
      },
      "execution_count": 25,
      "outputs": [
        {
          "output_type": "stream",
          "name": "stdout",
          "text": [
            "D=\n",
            " [[-0.37228132  0.        ]\n",
            " [ 0.          5.37228132]]\n"
          ]
        }
      ]
    }
  ],
  "metadata": {
    "kernelspec": {
      "display_name": "Python 3 (ipykernel)",
      "language": "python",
      "name": "python3"
    },
    "language_info": {
      "codemirror_mode": {
        "name": "ipython",
        "version": 3
      },
      "file_extension": ".py",
      "mimetype": "text/x-python",
      "name": "python",
      "nbconvert_exporter": "python",
      "pygments_lexer": "ipython3",
      "version": "3.7.3"
    },
    "colab": {
      "name": "Linear-algebra-diagonalization.DayanaHenao.ipynb",
      "provenance": [],
      "collapsed_sections": [
        "A1iOYehvZeoK",
        "nHukH5OUZObn"
      ]
    }
  },
  "nbformat": 4,
  "nbformat_minor": 0
}