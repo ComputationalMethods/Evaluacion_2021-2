{
  "cells": [
    {
      "cell_type": "markdown",
      "source": [
        "**Segundo parcial. Métodos computacionales.**\n",
        "\n",
        "Dayana Andrea Henao Arbelaéz.\n",
        "\n",
        "1001469185"
      ],
      "metadata": {
        "id": "W2a2Phi7-FdV"
      },
      "id": "W2a2Phi7-FdV"
    },
    {
      "cell_type": "markdown",
      "id": "0949b7a5-6d81-4e98-adc7-a7a1867266a3",
      "metadata": {
        "id": "0949b7a5-6d81-4e98-adc7-a7a1867266a3"
      },
      "source": [
        "### Link a éste GitHub en classroom → ClassWork → Examenes\n",
        "\n",
        "A)\n",
        "1. Cree una función en Python que defina la función\n",
        "$$\n",
        "f(\\lambda)=\\int_0^\\infty \\frac{\\sin(\\lambda x)}{\\operatorname{e}^x}\\operatorname{d}x\n",
        "$$\n",
        "1. Gráfique dicha función para $\\lambda$ entre 0 y 100\n",
        "1. Haga un segundo gráfico añadiendo la derivada de la función\n",
        "\n",
        "Sugerencia: Ignore los \"WARNINGS\" de Scipy\n",
        "\n",
        "B)\n",
        "Construya una matriz aleatoria $3\\times 3$ $\\boldsymbol{Y}$ y genere la matrix\n",
        "$$\n",
        "\\boldsymbol{A}=\\boldsymbol{Y}^{\\operatorname{T}}\\boldsymbol{Y}\n",
        "$$\n",
        "\n",
        "1. Obtenga los autovalores y autovectores de $\\boldsymbol{A}$ en orden ascendente en valor absoluto\n",
        "1. Compruebe que los atovalores de $\\boldsymbol{Y}$ corresponden a la raíz cuadrado de los autovalores de  $\\boldsymbol{A}$ y explique porqué"
      ]
    },
    {
      "cell_type": "code",
      "execution_count": 549,
      "id": "62cbc669-9ed6-4f54-b4c9-5ac10f7c15d6",
      "metadata": {
        "id": "62cbc669-9ed6-4f54-b4c9-5ac10f7c15d6"
      },
      "outputs": [],
      "source": [
        "#Importo las librerias que voy a utilizar\n",
        "import scipy.integrate as integrate\n",
        "import numpy as np\n",
        "import matplotlib.pyplot as plt\n",
        "from scipy import misc\n",
        "import scipy\n",
        "import sympy"
      ]
    },
    {
      "cell_type": "markdown",
      "source": [
        "**Primer punto**"
      ],
      "metadata": {
        "id": "LUbyyb7NQa6o"
      },
      "id": "LUbyyb7NQa6o"
    },
    {
      "cell_type": "markdown",
      "source": [
        "1) Crear la función"
      ],
      "metadata": {
        "id": "NKHuG44aKD91"
      },
      "id": "NKHuG44aKD91"
    },
    {
      "cell_type": "code",
      "source": [
        "#Defino la función f(λ)\n",
        "def f(λ):\n",
        "  return integrate.quad(lambda x:(np.sin(λ*x))/(np.exp(x)),0,np.inf)[0]"
      ],
      "metadata": {
        "id": "tjyFGFfp52m0"
      },
      "id": "tjyFGFfp52m0",
      "execution_count": 550,
      "outputs": []
    },
    {
      "cell_type": "code",
      "source": [
        "#Vectorizo la función para que pueda evaluar varios valores a la vez\n",
        "fv=np.vectorize(f)"
      ],
      "metadata": {
        "id": "i7Z-4_zSK7eY"
      },
      "id": "i7Z-4_zSK7eY",
      "execution_count": 551,
      "outputs": []
    },
    {
      "cell_type": "markdown",
      "source": [
        "2) Gráfica de la función"
      ],
      "metadata": {
        "id": "reaE4NyJKG5g"
      },
      "id": "reaE4NyJKG5g"
    },
    {
      "cell_type": "code",
      "source": [
        "#Grafico la función \n",
        "λ=np.linspace(0,100,100)\n",
        "plt.figure(figsize=(8,6))\n",
        "plt.plot(λ,fv(λ), label='$f(\\lambda)$',linewidth = 2, color='lime')\n",
        "plt.title('Gráfica de la función', size=16)\n",
        "plt.xlabel('λ',size=14)\n",
        "plt.ylabel('f(λ)', size=14)\n",
        "plt.legend()\n",
        "plt.grid()"
      ],
      "metadata": {
        "colab": {
          "base_uri": "https://localhost:8080/",
          "height": 566
        },
        "id": "3oXPYlHC7ENP",
        "outputId": "79acc5b1-2342-4c87-e831-03c585cf3aa5"
      },
      "id": "3oXPYlHC7ENP",
      "execution_count": 552,
      "outputs": [
        {
          "output_type": "stream",
          "name": "stderr",
          "text": [
            "/usr/local/lib/python3.7/dist-packages/ipykernel_launcher.py:3: RuntimeWarning: overflow encountered in exp\n",
            "  This is separate from the ipykernel package so we can avoid doing imports until\n",
            "/usr/local/lib/python3.7/dist-packages/ipykernel_launcher.py:3: IntegrationWarning: The maximum number of subdivisions (50) has been achieved.\n",
            "  If increasing the limit yields no improvement it is advised to analyze \n",
            "  the integrand in order to determine the difficulties.  If the position of a \n",
            "  local difficulty can be determined (singularity, discontinuity) one will \n",
            "  probably gain from splitting up the interval and calling the integrator \n",
            "  on the subranges.  Perhaps a special-purpose integrator should be used.\n",
            "  This is separate from the ipykernel package so we can avoid doing imports until\n"
          ]
        },
        {
          "output_type": "display_data",
          "data": {
            "text/plain": [
              "<Figure size 576x432 with 1 Axes>"
            ],
            "image/png": "[encoded data removed]"
          },
          "metadata": {
            "needs_background": "light"
          }
        }
      ]
    },
    {
      "cell_type": "code",
      "source": [
        "#Derivo la función\n",
        "def df(x):\n",
        "  return misc.derivative(fv,λ)"
      ],
      "metadata": {
        "id": "WSHQvRy38Nhc"
      },
      "id": "WSHQvRy38Nhc",
      "execution_count": 553,
      "outputs": []
    },
    {
      "cell_type": "code",
      "source": [
        "#Grafico la derivada y la función\n",
        "plt.figure(figsize=(8,6))\n",
        "plt.plot(λ,fv(λ), label='$f(\\lambda)$', color='lime')\n",
        "plt.plot(λ,df(λ), label='Derivada')\n",
        "plt.title('Gráfica de la función y de su derivada', size=16)\n",
        "plt.xlabel('λ',size=14)\n",
        "plt.ylabel('f(λ)', size=14)\n",
        "plt.legend()\n",
        "plt.grid()"
      ],
      "metadata": {
        "colab": {
          "base_uri": "https://localhost:8080/",
          "height": 758
        },
        "id": "9XxjlHSP86uh",
        "outputId": "8dbfba81-838c-4949-ee80-da8231c4ac18"
      },
      "id": "9XxjlHSP86uh",
      "execution_count": 554,
      "outputs": [
        {
          "output_type": "stream",
          "name": "stderr",
          "text": [
            "/usr/local/lib/python3.7/dist-packages/ipykernel_launcher.py:3: RuntimeWarning: overflow encountered in exp\n",
            "  This is separate from the ipykernel package so we can avoid doing imports until\n",
            "/usr/local/lib/python3.7/dist-packages/ipykernel_launcher.py:3: IntegrationWarning: The maximum number of subdivisions (50) has been achieved.\n",
            "  If increasing the limit yields no improvement it is advised to analyze \n",
            "  the integrand in order to determine the difficulties.  If the position of a \n",
            "  local difficulty can be determined (singularity, discontinuity) one will \n",
            "  probably gain from splitting up the interval and calling the integrator \n",
            "  on the subranges.  Perhaps a special-purpose integrator should be used.\n",
            "  This is separate from the ipykernel package so we can avoid doing imports until\n",
            "/usr/local/lib/python3.7/dist-packages/ipykernel_launcher.py:3: RuntimeWarning: overflow encountered in exp\n",
            "  This is separate from the ipykernel package so we can avoid doing imports until\n",
            "/usr/local/lib/python3.7/dist-packages/ipykernel_launcher.py:3: IntegrationWarning: The maximum number of subdivisions (50) has been achieved.\n",
            "  If increasing the limit yields no improvement it is advised to analyze \n",
            "  the integrand in order to determine the difficulties.  If the position of a \n",
            "  local difficulty can be determined (singularity, discontinuity) one will \n",
            "  probably gain from splitting up the interval and calling the integrator \n",
            "  on the subranges.  Perhaps a special-purpose integrator should be used.\n",
            "  This is separate from the ipykernel package so we can avoid doing imports until\n",
            "/usr/local/lib/python3.7/dist-packages/ipykernel_launcher.py:3: IntegrationWarning: The integral is probably divergent, or slowly convergent.\n",
            "  This is separate from the ipykernel package so we can avoid doing imports until\n"
          ]
        },
        {
          "output_type": "display_data",
          "data": {
            "text/plain": [
              "<Figure size 576x432 with 1 Axes>"
            ],
            "image/png": "[encoded data removed]"
          },
          "metadata": {
            "needs_background": "light"
          }
        }
      ]
    },
    {
      "cell_type": "markdown",
      "source": [
        "**Segundo punto**"
      ],
      "metadata": {
        "id": "qzwIhdLo9_eO"
      },
      "id": "qzwIhdLo9_eO"
    },
    {
      "cell_type": "code",
      "source": [
        "#Matriz Y\n",
        "np.random.seed(1001469185)\n",
        "Y=np.random.uniform(0,1,(3,3))\n",
        "sympy.Matrix(Y)"
      ],
      "metadata": {
        "colab": {
          "base_uri": "https://localhost:8080/",
          "height": 78
        },
        "id": "u4Cuas9d-EN0",
        "outputId": "7be39949-e993-4057-f346-d70ff8770deb"
      },
      "id": "u4Cuas9d-EN0",
      "execution_count": 555,
      "outputs": [
        {
          "output_type": "execute_result",
          "data": {
            "text/plain": [
              "Matrix([\n",
              "[0.0523826111408197, 0.477206322747497, 0.393536734338643],\n",
              "[0.0597272198082208, 0.338216487391589, 0.111706778042222],\n",
              "[  0.43780128061137,  0.19753672180593, 0.391624524087487]])"
            ],
            "text/latex": "$\\displaystyle \\left[\\begin{matrix}0.0523826111408197 & 0.477206322747497 & 0.393536734338643\\\\0.0597272198082208 & 0.338216487391589 & 0.111706778042222\\\\0.43780128061137 & 0.19753672180593 & 0.391624524087487\\end{matrix}\\right]$"
          },
          "metadata": {},
          "execution_count": 555
        }
      ]
    },
    {
      "cell_type": "code",
      "source": [
        "#Matriz Y transpuesta\n",
        "Yt=Y.transpose()\n",
        "sympy.Matrix(Yt)"
      ],
      "metadata": {
        "colab": {
          "base_uri": "https://localhost:8080/",
          "height": 78
        },
        "id": "CsoY66gT--Cv",
        "outputId": "b4219185-d0d9-4016-b908-604d238e83bc"
      },
      "id": "CsoY66gT--Cv",
      "execution_count": 556,
      "outputs": [
        {
          "output_type": "execute_result",
          "data": {
            "text/plain": [
              "Matrix([\n",
              "[0.0523826111408197, 0.0597272198082208,  0.43780128061137],\n",
              "[ 0.477206322747497,  0.338216487391589,  0.19753672180593],\n",
              "[ 0.393536734338643,  0.111706778042222, 0.391624524087487]])"
            ],
            "text/latex": "$\\displaystyle \\left[\\begin{matrix}0.0523826111408197 & 0.0597272198082208 & 0.43780128061137\\\\0.477206322747497 & 0.338216487391589 & 0.19753672180593\\\\0.393536734338643 & 0.111706778042222 & 0.391624524087487\\end{matrix}\\right]$"
          },
          "metadata": {},
          "execution_count": 556
        }
      ]
    },
    {
      "cell_type": "code",
      "source": [
        "#Matriz A\n",
        "A=Yt@Y\n",
        "sympy.Matrix(A)"
      ],
      "metadata": {
        "colab": {
          "base_uri": "https://localhost:8080/",
          "height": 78
        },
        "id": "RZVMdFiY_RkE",
        "outputId": "1fce53c2-b9b6-4568-f6f3-e17065d6bc17"
      },
      "id": "RZVMdFiY_RkE",
      "execution_count": 557,
      "outputs": [
        {
          "output_type": "execute_result",
          "data": {
            "text/plain": [
              "Matrix([\n",
              "[0.197981240040905, 0.131679873498033, 0.198740135175005],\n",
              "[0.131679873498033, 0.381137023275526, 0.302939516614124],\n",
              "[0.198740135175005, 0.302939516614124, 0.320719333401249]])"
            ],
            "text/latex": "$\\displaystyle \\left[\\begin{matrix}0.197981240040905 & 0.131679873498033 & 0.198740135175005\\\\0.131679873498033 & 0.381137023275526 & 0.302939516614124\\\\0.198740135175005 & 0.302939516614124 & 0.320719333401249\\end{matrix}\\right]$"
          },
          "metadata": {},
          "execution_count": 557
        }
      ]
    },
    {
      "cell_type": "markdown",
      "source": [
        "1) Autovalores y autovectores de A en orden ascendente"
      ],
      "metadata": {
        "id": "OIsckdZXDZFh"
      },
      "id": "OIsckdZXDZFh"
    },
    {
      "cell_type": "code",
      "source": [
        "Λ,V=np.linalg.eig(A)\n",
        "Λ=np.array([Λ[i] for i in np.abs(Λ).argsort()])\n",
        "V=np.c_[ tuple( [ np.c_[V[:,i]]    for i in np.abs(Λ).argsort() ] ) ]"
      ],
      "metadata": {
        "id": "3mQ4Ww9zCNPp"
      },
      "id": "3mQ4Ww9zCNPp",
      "execution_count": 558,
      "outputs": []
    },
    {
      "cell_type": "code",
      "source": [
        "Λ"
      ],
      "metadata": {
        "colab": {
          "base_uri": "https://localhost:8080/"
        },
        "id": "RTskTGHTDgIO",
        "outputId": "c96db76b-af1b-4304-8e4b-218d8bac1dfc"
      },
      "id": "RTskTGHTDgIO",
      "execution_count": 559,
      "outputs": [
        {
          "output_type": "execute_result",
          "data": {
            "text/plain": [
              "array([0.01254127, 0.13482994, 0.75246638])"
            ]
          },
          "metadata": {},
          "execution_count": 559
        }
      ]
    },
    {
      "cell_type": "code",
      "source": [
        "V"
      ],
      "metadata": {
        "colab": {
          "base_uri": "https://localhost:8080/"
        },
        "id": "uZ_D9rbJDhju",
        "outputId": "45d4d627-d789-40b7-b155-d4d47a620685"
      },
      "id": "uZ_D9rbJDhju",
      "execution_count": 560,
      "outputs": [
        {
          "output_type": "execute_result",
          "data": {
            "text/plain": [
              "array([[-0.3872907 , -0.78028904, -0.49107528],\n",
              "       [-0.66137186,  0.60623124, -0.44166836],\n",
              "       [-0.64233416, -0.15372932,  0.75084893]])"
            ]
          },
          "metadata": {},
          "execution_count": 560
        }
      ]
    },
    {
      "cell_type": "markdown",
      "source": [
        "b) Comprobación"
      ],
      "metadata": {
        "id": "eAA58hbqENxg"
      },
      "id": "eAA58hbqENxg"
    },
    {
      "cell_type": "code",
      "source": [
        "#Autovalores de A\n",
        "ΛA=scipy.linalg.svd(A)[1]\n",
        "ΛA"
      ],
      "metadata": {
        "colab": {
          "base_uri": "https://localhost:8080/"
        },
        "id": "wekaWdMHH4R8",
        "outputId": "4335b1df-b3ef-4476-d9ce-caf69bead1d7"
      },
      "id": "wekaWdMHH4R8",
      "execution_count": 561,
      "outputs": [
        {
          "output_type": "execute_result",
          "data": {
            "text/plain": [
              "array([0.75246638, 0.13482994, 0.01254127])"
            ]
          },
          "metadata": {},
          "execution_count": 561
        }
      ]
    },
    {
      "cell_type": "code",
      "source": [
        "#Autovalores de Y\n",
        "ΛY=scipy.linalg.svd(Y)[1]\n",
        "ΛY"
      ],
      "metadata": {
        "colab": {
          "base_uri": "https://localhost:8080/"
        },
        "id": "h-ljo_imENBR",
        "outputId": "17af052b-9da0-46f1-f453-296a94f546b5"
      },
      "id": "h-ljo_imENBR",
      "execution_count": 562,
      "outputs": [
        {
          "output_type": "execute_result",
          "data": {
            "text/plain": [
              "array([0.8674482 , 0.36719197, 0.11198782])"
            ]
          },
          "metadata": {},
          "execution_count": 562
        }
      ]
    },
    {
      "cell_type": "code",
      "source": [
        "lista=[]\n",
        "for i in ΛA:\n",
        "  lista.append(np.sqrt(i))\n",
        "  "
      ],
      "metadata": {
        "id": "AJgp9DNfIgnI"
      },
      "id": "AJgp9DNfIgnI",
      "execution_count": 563,
      "outputs": []
    },
    {
      "cell_type": "code",
      "source": [
        "print(lista)"
      ],
      "metadata": {
        "colab": {
          "base_uri": "https://localhost:8080/"
        },
        "id": "BdoJgmhsI2Bg",
        "outputId": "92229987-d713-4864-e23a-3b9fec01c195"
      },
      "id": "BdoJgmhsI2Bg",
      "execution_count": 564,
      "outputs": [
        {
          "output_type": "stream",
          "name": "stdout",
          "text": [
            "[0.8674482023326039, 0.3671919668385546, 0.11198782289538528]\n"
          ]
        }
      ]
    },
    {
      "cell_type": "markdown",
      "source": [
        "Se puede notar que los autovalores de la matriz **Y** corresponden a la raíz cuadrada de los autovalores de **A**"
      ],
      "metadata": {
        "id": "GFXG6y8pQoqQ"
      },
      "id": "GFXG6y8pQoqQ"
    },
    {
      "cell_type": "markdown",
      "source": [
        "Esto se debe a que una matriz **A** puede ser formada por la multiplicación de una matriz cuadrada **Y** y su transpuesta. Por teorema se garantiza que hay una matriz ortogonal **U** tal que $$\n",
        "U^{\\operatorname{T}} A U=U^{\\operatorname{T}} Y^{\\operatorname{T}}Y U=D_\\lambda\n",
        "$$\n",
        "donde $$D_{\\lambda}$$ Es la diagonal de la matriz **A** compuesta por sus autovalores.\n",
        "Por propiedades del álgebra de matrices se puede concluir que:\n",
        "$$\n",
        "\\begin{align}\n",
        " Y^{\\operatorname{T}}Y =&U D_\\lambda U^{\\operatorname{T}}\\\\\n",
        " =&U D_{\\sqrt{\\lambda}} D_{\\sqrt{\\lambda}} U^{\\operatorname{T}}\\\\\n",
        "\\end{align}\n",
        "$$\n",
        "donde\n",
        "$$\n",
        "D_{\\sqrt{\\lambda}}$$ Es la diagonal de la matriz **Y** compuesta por sus autovalores. Estos corresponden a la raíz cuadrada de los autovalores de la matriz **A**"
      ],
      "metadata": {
        "id": "9qopfyKQTjYg"
      },
      "id": "9qopfyKQTjYg"
    }
  ],
  "metadata": {
    "kernelspec": {
      "display_name": "Python 3 (ipykernel)",
      "language": "python",
      "name": "python3"
    },
    "language_info": {
      "codemirror_mode": {
        "name": "ipython",
        "version": 3
      },
      "file_extension": ".py",
      "mimetype": "text/x-python",
      "name": "python",
      "nbconvert_exporter": "python",
      "pygments_lexer": "ipython3",
      "version": "3.9.2"
    },
    "colab": {
      "name": "Parcial2_DayanaHenao_1001469185ipynb",
      "provenance": [],
      "collapsed_sections": []
    }
  },
  "nbformat": 4,
  "nbformat_minor": 5
}