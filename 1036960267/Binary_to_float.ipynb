{
 "cells": [
  {
   "cell_type": "markdown",
   "metadata": {},
   "source": [
    "# Vamos a implementar dos funciones para pasar de binario a float de 32 y 64 bits respectivamente, usando el formato visto en clase que corresponde al estandar IEEE_745"
   ]
  },
  {
   "cell_type": "code",
   "execution_count": 2,
   "metadata": {},
   "outputs": [],
   "source": [
    "import numpy as np\n",
    "def IEEE_745(num):\n",
    "    \n",
    "    if len(num) == 32:\n",
    "        print('Archivo en formato IEEE_745 de 32 bits, procediendo a convertir a decimal')\n",
    "    \n",
    "        # obtenemos el signo, la mantisa y el exponente y los convertimos a entero\n",
    "    \n",
    "        signo = int(num[0],2)\n",
    "        exponente = int(num[1:9],2)\n",
    "        mantisa = int(\"1\" + num[9:],2)\n",
    "        mantisa1 = int(num[9:],2)\n",
    "    \n",
    "        \n",
    "        # Calculamos el valor del num en decimal\n",
    "        if   0<exponente<255: \n",
    "            base10 = (-1)**signo * (mantisa/( 1<<( len(num)-9 - (exponente-127) )))\n",
    "            return base10\n",
    "        \n",
    "        # programamos los casos especiales\n",
    "        \n",
    "        if (exponente==0 and mantisa1==0):\n",
    "            return 0\n",
    "        \n",
    "        if (exponente==255 and mantisa1==0):\n",
    "            if signo==1:\n",
    "                print('La representación del número es -infinito')\n",
    "            if signo==0:\n",
    "                print('La representación del número es infinito')\n",
    "        \n",
    "        if (exponente==255 and mantisa1!=0):\n",
    "            print('La representacion es NaN')\n",
    "        \n",
    "\n",
    "    elif len(num)==64:\n",
    "        print('Archivo en formato IEEE_745 de 64 bits, procediendo a convertir a decimal')\n",
    "        \n",
    "        signo = int(num[0],2)\n",
    "        exponente = int(num[1:12],2)\n",
    "        mantisa = int(\"1\" + num[12:],2)\n",
    "        mantisa1 = int(num[12:],2)\n",
    "        \n",
    "\n",
    "        if   0<exponente<2047: \n",
    "            base10 = (-1)**signo * (mantisa/( 1<<( len(num)-12 - (exponente-1023) )))\n",
    "            return base10\n",
    "        \n",
    "        if (exponente==0 and mantisa1==0):\n",
    "            return 0\n",
    "        \n",
    "        if (exponente==2047 and mantisa1==0):\n",
    "            if signo==1:\n",
    "                print('La representación del número es -infinito')\n",
    "            if signo==0:\n",
    "                print('La representación del número es infinito')\n",
    "        \n",
    "        if (exponente==2047 and mantisa1!=0):\n",
    "            print('La representacion es NaN')\n",
    "        \n",
    "    else: \n",
    "        print(\"El número no está en el formato requerido\")\n",
    "            "
   ]
  },
  {
   "cell_type": "markdown",
   "metadata": {},
   "source": [
    "### Ahora comprobemos el funcionamiento del código para los dos números que estan en el notebook de Computer Arithmetics and Round-off Methods: "
   ]
  },
  {
   "cell_type": "code",
   "execution_count": 3,
   "metadata": {},
   "outputs": [
    {
     "name": "stdout",
     "output_type": "stream",
     "text": [
      "Archivo en formato IEEE_745 de 32 bits, procediendo a convertir a decimal\n"
     ]
    },
    {
     "data": {
      "text/plain": [
       "0.15625"
      ]
     },
     "execution_count": 3,
     "metadata": {},
     "output_type": "execute_result"
    }
   ],
   "source": [
    "IEEE_745('00111110001000000000000000000000')"
   ]
  },
  {
   "cell_type": "code",
   "execution_count": 5,
   "metadata": {},
   "outputs": [
    {
     "name": "stdout",
     "output_type": "stream",
     "text": [
      "Archivo en formato IEEE_745 de 64 bits, procediendo a convertir a decimal\n"
     ]
    },
    {
     "data": {
      "text/plain": [
       "27.566406249999996"
      ]
     },
     "execution_count": 5,
     "metadata": {},
     "output_type": "execute_result"
    }
   ],
   "source": [
    "IEEE_745('0100000000111011100100001111111111111111111111111111111111111111')"
   ]
  },
  {
   "cell_type": "code",
   "execution_count": null,
   "metadata": {},
   "outputs": [],
   "source": []
  }
 ],
 "metadata": {
  "kernelspec": {
   "display_name": "Python 3",
   "language": "python",
   "name": "python3"
  },
  "language_info": {
   "codemirror_mode": {
    "name": "ipython",
    "version": 3
   },
   "file_extension": ".py",
   "mimetype": "text/x-python",
   "name": "python",
   "nbconvert_exporter": "python",
   "pygments_lexer": "ipython3",
   "version": "3.7.3"
  }
 },
 "nbformat": 4,
 "nbformat_minor": 2
}
