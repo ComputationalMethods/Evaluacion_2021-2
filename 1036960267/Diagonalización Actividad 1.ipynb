{
 "cells": [
  {
   "cell_type": "markdown",
   "metadata": {},
   "source": [
    "### Build a function that diagonalize symmetric matrices with the eigenvalues in increasing order in the eigenvalues as a replacement of np.linalg.eig\n"
   ]
  },
  {
   "cell_type": "markdown",
   "metadata": {},
   "source": [
    "Primero vamos a reescribir el algoritmo visto en clase para ordenar los autovalores en orden creciente. "
   ]
  },
  {
   "cell_type": "code",
   "execution_count": 135,
   "metadata": {},
   "outputs": [],
   "source": [
    "import numpy as np \n",
    "import sympy as sp\n",
    "\n",
    "def argeig(A: 'numpy array or matrix'):\n",
    "    \n",
    "    def is_simetric(A: 'Numpy array or matrix'):\n",
    "        return (A == A.T).all()\n",
    "    \n",
    "    if is_simetric(A) == True:\n",
    "        λ,V=np.linalg.eig(A)\n",
    "        index = np.abs(λ).argsort()[::-1]\n",
    "        λ = np.array([λ[i] for i in index])\n",
    "        V = np.array([V[:,i] for i in index]).T\n",
    "    \n",
    "        return λ,V\n",
    "    else:\n",
    "        print('La matriz no es simétrica, no podemos aplicar el teorema')\n",
    "        return np.nan,np.nan"
   ]
  },
  {
   "cell_type": "markdown",
   "metadata": {},
   "source": [
    "Comprobamos que el método efectivamente funciona: "
   ]
  },
  {
   "cell_type": "code",
   "execution_count": 142,
   "metadata": {},
   "outputs": [
    {
     "data": {
      "text/latex": [
       "$\\displaystyle \\left[\\begin{matrix}11.09902\\\\0.90098\\\\5.0\\end{matrix}\\right]$"
      ],
      "text/plain": [
       "Matrix([\n",
       "[11.09902],\n",
       "[ 0.90098],\n",
       "[     5.0]])"
      ]
     },
     "execution_count": 142,
     "metadata": {},
     "output_type": "execute_result"
    }
   ],
   "source": [
    "A=np.array( [[5,-4,0],\n",
    "             [-4,7,-3],\n",
    "             [0,-3,5]])\n",
    "λ,V = np.linalg.eig(A)\n",
    "sp.Matrix(λ.round(5))"
   ]
  },
  {
   "cell_type": "code",
   "execution_count": 137,
   "metadata": {},
   "outputs": [
    {
     "data": {
      "text/latex": [
       "$\\displaystyle \\left[\\begin{matrix}-0.50719 & -0.61867 & -0.6\\\\0.77334 & -0.63399 & 0\\\\-0.38039 & -0.46401 & 0.8\\end{matrix}\\right]$"
      ],
      "text/plain": [
       "Matrix([\n",
       "[-0.50719, -0.61867, -0.6],\n",
       "[ 0.77334, -0.63399,    0],\n",
       "[-0.38039, -0.46401,  0.8]])"
      ]
     },
     "execution_count": 137,
     "metadata": {},
     "output_type": "execute_result"
    }
   ],
   "source": [
    "sp.Matrix(V.round(5))"
   ]
  },
  {
   "cell_type": "markdown",
   "metadata": {},
   "source": [
    "Ahora veamos como el algoritmo los ordena de mayor a menor, teniendo en cuenta el valor absoluto de los autovalores:"
   ]
  },
  {
   "cell_type": "code",
   "execution_count": 138,
   "metadata": {},
   "outputs": [],
   "source": [
    "λ_m,V_m = argeig(A)"
   ]
  },
  {
   "cell_type": "code",
   "execution_count": 139,
   "metadata": {},
   "outputs": [
    {
     "data": {
      "text/latex": [
       "$\\displaystyle \\left[\\begin{matrix}11.09902\\\\5.0\\\\0.90098\\end{matrix}\\right]$"
      ],
      "text/plain": [
       "Matrix([\n",
       "[11.09902],\n",
       "[     5.0],\n",
       "[ 0.90098]])"
      ]
     },
     "execution_count": 139,
     "metadata": {},
     "output_type": "execute_result"
    }
   ],
   "source": [
    "sp.Matrix(λ_m.round(5))"
   ]
  },
  {
   "cell_type": "code",
   "execution_count": 140,
   "metadata": {},
   "outputs": [
    {
     "data": {
      "text/latex": [
       "$\\displaystyle \\left[\\begin{matrix}-0.50719 & -0.6 & -0.61867\\\\0.77334 & 0 & -0.63399\\\\-0.38039 & 0.8 & -0.46401\\end{matrix}\\right]$"
      ],
      "text/plain": [
       "Matrix([\n",
       "[-0.50719, -0.6, -0.61867],\n",
       "[ 0.77334,    0, -0.63399],\n",
       "[-0.38039,  0.8, -0.46401]])"
      ]
     },
     "execution_count": 140,
     "metadata": {},
     "output_type": "execute_result"
    }
   ],
   "source": [
    "sp.Matrix(V_m.round(5))"
   ]
  },
  {
   "cell_type": "code",
   "execution_count": 141,
   "metadata": {},
   "outputs": [
    {
     "name": "stdout",
     "output_type": "stream",
     "text": [
      "La matriz no es simétrica, no podemos aplicar el teorema\n"
     ]
    }
   ],
   "source": [
    "# Para una matriz no simétrica\n",
    "A=np.array([[5,0,0],\n",
    "             [-4,1,-3],\n",
    "             [0,5,5]])\n",
    "λ_m,V_m = argeig(A)"
   ]
  }
 ],
 "metadata": {
  "kernelspec": {
   "display_name": "Python 3",
   "language": "python",
   "name": "python3"
  },
  "language_info": {
   "codemirror_mode": {
    "name": "ipython",
    "version": 3
   },
   "file_extension": ".py",
   "mimetype": "text/x-python",
   "name": "python",
   "nbconvert_exporter": "python",
   "pygments_lexer": "ipython3",
   "version": "3.7.3"
  }
 },
 "nbformat": 4,
 "nbformat_minor": 2
}
