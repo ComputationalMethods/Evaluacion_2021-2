{
 "cells": [
  {
   "cell_type": "markdown",
   "metadata": {},
   "source": [
    "### Parcial 1: Jaider Stiven Rincón Gallego - 1036960267"
   ]
  },
  {
   "cell_type": "markdown",
   "metadata": {},
   "source": [
    "Los siguientes datos fueron extraidos de los datos para la cuarta ola de infecciones por millon de habitantes (IPMH) de Colombia por la variante Omicrón del Coronavirus\n",
    "\n",
    "A) Genere un data frame de pandas y agregé una nueva columna de IPMH con una incertidubre del 2 POR MIL aleatoria. Es decir, a cada IPMH sumarle o restarle un número aleatoria en el rango de su 2 POR MIL\n",
    "\n",
    "B) Interprete los datos como un problema de caida libre y a partir del ajuste (fit) a la correspondiente ecuación de movimiento, determine (para la columna con incertidumbre)\n",
    "\n",
    "    1.La velocidad inicial de IPMH en IPMH/día\n",
    "    2.La aceleración constante en IPMH/día**2\n",
    "    3.El número máximo de IPMH que se alcanzaría\n",
    "    4.El número de días en el que se alcanzaría dicho máximo\n",
    "    5.Realice una gráfico que muestré el ajuste y la posición del máximo usando los estándares adecuados\n",
    "    \n",
    " DATOS\n",
    "\n",
    "    {'día':1,'IPMH':464},\n",
    "    {'día':2,'IPMH':494},\n",
    "    {'día':3,'IPMH':532},\n",
    "    {'día':4,'IPMH':552},\n",
    "    {'día':5,'IPMH':576},\n",
    "    {'día':6,'IPMH':589}\n",
    "\n"
   ]
  },
  {
   "cell_type": "markdown",
   "metadata": {},
   "source": [
    "# A."
   ]
  },
  {
   "cell_type": "code",
   "execution_count": 182,
   "metadata": {},
   "outputs": [],
   "source": [
    "import pandas as pd\n",
    "import numpy as np\n",
    "from matplotlib import pyplot as plt\n",
    "from scipy import optimize\n",
    "\n",
    "datos = pd.DataFrame({'día': [1,2,3,4,5,6], 'IPMH': [464,494,532,552,576,589]})"
   ]
  },
  {
   "cell_type": "code",
   "execution_count": 183,
   "metadata": {},
   "outputs": [
    {
     "data": {
      "text/html": [
       "<div>\n",
       "<style scoped>\n",
       "    .dataframe tbody tr th:only-of-type {\n",
       "        vertical-align: middle;\n",
       "    }\n",
       "\n",
       "    .dataframe tbody tr th {\n",
       "        vertical-align: top;\n",
       "    }\n",
       "\n",
       "    .dataframe thead th {\n",
       "        text-align: right;\n",
       "    }\n",
       "</style>\n",
       "<table border=\"1\" class=\"dataframe\">\n",
       "  <thead>\n",
       "    <tr style=\"text-align: right;\">\n",
       "      <th></th>\n",
       "      <th>día</th>\n",
       "      <th>IPMH</th>\n",
       "    </tr>\n",
       "  </thead>\n",
       "  <tbody>\n",
       "    <tr>\n",
       "      <th>0</th>\n",
       "      <td>1</td>\n",
       "      <td>464</td>\n",
       "    </tr>\n",
       "    <tr>\n",
       "      <th>1</th>\n",
       "      <td>2</td>\n",
       "      <td>494</td>\n",
       "    </tr>\n",
       "    <tr>\n",
       "      <th>2</th>\n",
       "      <td>3</td>\n",
       "      <td>532</td>\n",
       "    </tr>\n",
       "    <tr>\n",
       "      <th>3</th>\n",
       "      <td>4</td>\n",
       "      <td>552</td>\n",
       "    </tr>\n",
       "    <tr>\n",
       "      <th>4</th>\n",
       "      <td>5</td>\n",
       "      <td>576</td>\n",
       "    </tr>\n",
       "    <tr>\n",
       "      <th>5</th>\n",
       "      <td>6</td>\n",
       "      <td>589</td>\n",
       "    </tr>\n",
       "  </tbody>\n",
       "</table>\n",
       "</div>"
      ],
      "text/plain": [
       "   día  IPMH\n",
       "0    1   464\n",
       "1    2   494\n",
       "2    3   532\n",
       "3    4   552\n",
       "4    5   576\n",
       "5    6   589"
      ]
     },
     "execution_count": 183,
     "metadata": {},
     "output_type": "execute_result"
    }
   ],
   "source": [
    "datos"
   ]
  },
  {
   "cell_type": "code",
   "execution_count": 184,
   "metadata": {},
   "outputs": [
    {
     "data": {
      "text/plain": [
       "0    463.421241\n",
       "1    494.597083\n",
       "2    532.296133\n",
       "3    551.755199\n",
       "4    576.412275\n",
       "5    588.143147\n",
       "Name: IPMH, dtype: float64"
      ]
     },
     "execution_count": 184,
     "metadata": {},
     "output_type": "execute_result"
    }
   ],
   "source": [
    "new_column = np.random.uniform(low=-0.002*datos.IPMH, high=0.002*datos.IPMH) + datos.IPMH\n",
    "new_column"
   ]
  },
  {
   "cell_type": "code",
   "execution_count": 186,
   "metadata": {},
   "outputs": [
    {
     "data": {
      "text/html": [
       "<div>\n",
       "<style scoped>\n",
       "    .dataframe tbody tr th:only-of-type {\n",
       "        vertical-align: middle;\n",
       "    }\n",
       "\n",
       "    .dataframe tbody tr th {\n",
       "        vertical-align: top;\n",
       "    }\n",
       "\n",
       "    .dataframe thead th {\n",
       "        text-align: right;\n",
       "    }\n",
       "</style>\n",
       "<table border=\"1\" class=\"dataframe\">\n",
       "  <thead>\n",
       "    <tr style=\"text-align: right;\">\n",
       "      <th></th>\n",
       "      <th>día</th>\n",
       "      <th>IPMH</th>\n",
       "      <th>New_IPMH</th>\n",
       "    </tr>\n",
       "  </thead>\n",
       "  <tbody>\n",
       "    <tr>\n",
       "      <th>0</th>\n",
       "      <td>1</td>\n",
       "      <td>464</td>\n",
       "      <td>463.421241</td>\n",
       "    </tr>\n",
       "    <tr>\n",
       "      <th>1</th>\n",
       "      <td>2</td>\n",
       "      <td>494</td>\n",
       "      <td>494.597083</td>\n",
       "    </tr>\n",
       "    <tr>\n",
       "      <th>2</th>\n",
       "      <td>3</td>\n",
       "      <td>532</td>\n",
       "      <td>532.296133</td>\n",
       "    </tr>\n",
       "    <tr>\n",
       "      <th>3</th>\n",
       "      <td>4</td>\n",
       "      <td>552</td>\n",
       "      <td>551.755199</td>\n",
       "    </tr>\n",
       "    <tr>\n",
       "      <th>4</th>\n",
       "      <td>5</td>\n",
       "      <td>576</td>\n",
       "      <td>576.412275</td>\n",
       "    </tr>\n",
       "    <tr>\n",
       "      <th>5</th>\n",
       "      <td>6</td>\n",
       "      <td>589</td>\n",
       "      <td>588.143147</td>\n",
       "    </tr>\n",
       "  </tbody>\n",
       "</table>\n",
       "</div>"
      ],
      "text/plain": [
       "   día  IPMH    New_IPMH\n",
       "0    1   464  463.421241\n",
       "1    2   494  494.597083\n",
       "2    3   532  532.296133\n",
       "3    4   552  551.755199\n",
       "4    5   576  576.412275\n",
       "5    6   589  588.143147"
      ]
     },
     "execution_count": 186,
     "metadata": {},
     "output_type": "execute_result"
    }
   ],
   "source": [
    "datos = datos.assign(New_IPMH = new_column)\n",
    "datos"
   ]
  },
  {
   "cell_type": "markdown",
   "metadata": {},
   "source": [
    "# B.  \n",
    "\n",
    "Primero se realiza el correspondiente ajuste fit con np.polyfit\n",
    "\n",
    "\n",
    "Como se considera un movimiento de caída libre la ecuación que rigue este movimiento es: \n",
    "\n",
    "\n",
    "$ x =  v_{0}t - \\frac{1}{2} g t^{2} + x_{0}$\n",
    "\n",
    "Pero en este caso para nuestro problema: \n",
    "\n",
    "$ IPMH =  v_{0}días - \\frac{1}{2} (cte) (días^{2}) + IPMH_{0}$\n",
    "\n",
    "\n"
   ]
  },
  {
   "cell_type": "code",
   "execution_count": 191,
   "metadata": {},
   "outputs": [
    {
     "data": {
      "text/plain": [
       "array([ -2.6677276 ,  44.06021228, 420.68730511])"
      ]
     },
     "execution_count": 191,
     "metadata": {},
     "output_type": "execute_result"
    }
   ],
   "source": [
    "Fit = np.polyfit(datos.día, datos.New_IPMH, 2)\n",
    "Fit"
   ]
  },
  {
   "cell_type": "markdown",
   "metadata": {},
   "source": [
    "### 1.La velocidad inicial de IPMH en IPMH/día\n",
    "\n",
    "la velocidad inicial es el coeficiente que acompaña al término de grado 1 en el anterior polinomio, es decir: \n",
    "\n",
    "$v_{0} = 44.06021228 \\frac{IPMH}{día}$\n",
    "\n",
    "Sin embargo podemos calcularla por otro método gracias a los métodos de los polinomios en python, si derivamos la ecuación de IPMH obtenemos la ecuación de velocidad. Si evaluamos esto en días = 0, obtenemos la velocidad inicial: \n",
    "\n",
    "$v = v_{0} +  (cte) (días) $"
   ]
  },
  {
   "cell_type": "code",
   "execution_count": 192,
   "metadata": {},
   "outputs": [
    {
     "data": {
      "text/plain": [
       "array([-5.33545519, 44.06021228])"
      ]
     },
     "execution_count": 192,
     "metadata": {},
     "output_type": "execute_result"
    }
   ],
   "source": [
    "v = np.polyder(Fit,1)\n",
    "v"
   ]
  },
  {
   "cell_type": "code",
   "execution_count": 193,
   "metadata": {},
   "outputs": [
    {
     "data": {
      "text/plain": [
       "44.060212281109685"
      ]
     },
     "execution_count": 193,
     "metadata": {},
     "output_type": "execute_result"
    }
   ],
   "source": [
    "np.polyval(v,0)"
   ]
  },
  {
   "cell_type": "markdown",
   "metadata": {},
   "source": [
    "Se observa que obtenemos el mismo valor. "
   ]
  },
  {
   "cell_type": "markdown",
   "metadata": {},
   "source": [
    "### 2.La aceleración constante en IPMH/día**2"
   ]
  },
  {
   "cell_type": "markdown",
   "metadata": {},
   "source": [
    "En este caso, la aceleración es el termino que acompaña al tiempo en la ecuación de velocidad, es decir, la aceleración es el término que llamamos como $cte$. En este caso: \n",
    "\n",
    "$cte = a = -5.33545519 \\frac{IPMH}{día^{2}}$\n",
    "\n",
    "De nuevo podemos verificar este resultado por los métodos de polinomios de numpy, derivando la expresión que obtuvimos para la velocidad, vemos que coincide con nuestro resultado.\n",
    "\n",
    "$a = cte$\n",
    "\n"
   ]
  },
  {
   "cell_type": "code",
   "execution_count": 196,
   "metadata": {},
   "outputs": [
    {
     "data": {
      "text/plain": [
       "array([-5.33545519])"
      ]
     },
     "execution_count": 196,
     "metadata": {},
     "output_type": "execute_result"
    }
   ],
   "source": [
    "a = np.polyder(v,1)\n",
    "a"
   ]
  },
  {
   "cell_type": "markdown",
   "metadata": {},
   "source": [
    "### 3.El número máximo de IPMH que se alcanzaría  y  4.El número de días en el que se alcanzaría dicho máximo\n",
    "\n",
    "En este caso, el número máximo se alcanza cuando la velocidad es 0, es decir, podemos usar la ecuación del polynomio que obtuvimos en los puntos anteriores y usar un método como newton rapson o los métodos propios de numpy para encontrar la raiz: \n",
    "\n",
    "$v = 0 = v_{0} +  (cte) (días) $\n",
    "\n",
    "En este caso encontramos el tiempo en el que IPMH es máximo, si reemplazamos este tiempo en el polinomio de ajuste, obtenemos el máximo IPMH "
   ]
  },
  {
   "cell_type": "code",
   "execution_count": 197,
   "metadata": {},
   "outputs": [
    {
     "data": {
      "text/plain": [
       "array([8.25800437])"
      ]
     },
     "execution_count": 197,
     "metadata": {},
     "output_type": "execute_result"
    }
   ],
   "source": [
    "t_max = np.roots(v)\n",
    "t_max"
   ]
  },
  {
   "cell_type": "markdown",
   "metadata": {},
   "source": [
    "$t_{max} = 8.25800437 días$"
   ]
  },
  {
   "cell_type": "markdown",
   "metadata": {},
   "source": [
    "Usando el método de Newton nos a el mismo valor:"
   ]
  },
  {
   "cell_type": "code",
   "execution_count": 198,
   "metadata": {},
   "outputs": [
    {
     "data": {
      "text/plain": [
       "array([8.25800437])"
      ]
     },
     "execution_count": 198,
     "metadata": {},
     "output_type": "execute_result"
    }
   ],
   "source": [
    "optimize.newton(lambda t: v[1] + a*t,7) "
   ]
  },
  {
   "cell_type": "markdown",
   "metadata": {},
   "source": [
    "Sustituyendo el $t_{max}$ en la ecuación del fit obtenemos el IPMH maximo: \n"
   ]
  },
  {
   "cell_type": "code",
   "execution_count": 199,
   "metadata": {},
   "outputs": [
    {
     "data": {
      "text/plain": [
       "array([602.61201784])"
      ]
     },
     "execution_count": 199,
     "metadata": {},
     "output_type": "execute_result"
    }
   ],
   "source": [
    "I_max = np.polyval(Fit,t_max)\n",
    "I_max"
   ]
  },
  {
   "cell_type": "markdown",
   "metadata": {},
   "source": [
    "$IPMH_{max} = 602.61201784$"
   ]
  },
  {
   "cell_type": "markdown",
   "metadata": {},
   "source": [
    "### 5.Realice una gráfico que muestré el ajuste y la posición del máximo usando los estándares adecuados"
   ]
  },
  {
   "cell_type": "code",
   "execution_count": 200,
   "metadata": {},
   "outputs": [
    {
     "data": {
      "text/plain": [
       "<matplotlib.legend.Legend at 0x2247fc257f0>"
      ]
     },
     "execution_count": 200,
     "metadata": {},
     "output_type": "execute_result"
    },
    {
     "data": {
      "image/png": "[encoded data removed]",
      "text/plain": [
       "<Figure size 432x288 with 1 Axes>"
      ]
     },
     "metadata": {
      "needs_background": "light"
     },
     "output_type": "display_data"
    }
   ],
   "source": [
    "d = np.linspace(0,17,100)\n",
    "plt.plot(datos.día,datos.New_IPMH,'o',label='Datos')\n",
    "plt.plot(d,np.polyval(Fit,d),label='Fit')\n",
    "plt.plot(t_max,I_max,'o', markersize=9, label = 'IMPH max.')\n",
    "plt.xlabel('t [días]', size = 15)\n",
    "plt.ylabel('IPMH',size = 15)\n",
    "plt.title('IMPH vs Días',size=20)\n",
    "plt.legend()"
   ]
  }
 ],
 "metadata": {
  "kernelspec": {
   "display_name": "Python 3",
   "language": "python",
   "name": "python3"
  },
  "language_info": {
   "codemirror_mode": {
    "name": "ipython",
    "version": 3
   },
   "file_extension": ".py",
   "mimetype": "text/x-python",
   "name": "python",
   "nbconvert_exporter": "python",
   "pygments_lexer": "ipython3",
   "version": "3.7.3"
  }
 },
 "nbformat": 4,
 "nbformat_minor": 2
}
