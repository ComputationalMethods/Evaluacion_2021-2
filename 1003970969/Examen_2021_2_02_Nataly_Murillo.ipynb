{
  "nbformat": 4,
  "nbformat_minor": 0,
  "metadata": {
    "colab": {
      "name": "Examen_2021_2_02_Nataly_Murillo.ipynb",
      "provenance": [],
      "collapsed_sections": []
    },
    "kernelspec": {
      "name": "python3",
      "display_name": "Python 3"
    },
    "language_info": {
      "name": "python"
    }
  },
  "cells": [
    {
      "cell_type": "markdown",
      "source": [
        "***Alumna:*** Nataly Lucía Murillo Mosquera\n",
        "\n",
        "***Cédula:*** 1003970969"
      ],
      "metadata": {
        "id": "hmt0g1tJz9v1"
      }
    },
    {
      "cell_type": "markdown",
      "source": [
        "# Punto A"
      ],
      "metadata": {
        "id": "BYTXhqwM2sq7"
      }
    },
    {
      "cell_type": "code",
      "execution_count": 152,
      "metadata": {
        "id": "Pv6t-JQIzh51"
      },
      "outputs": [],
      "source": [
        "# Librerías\n",
        "import numpy as np\n",
        "import sympy as sp\n",
        "import scipy as sc\n",
        "from scipy import misc\n",
        "from scipy.misc import derivative\n",
        "import scipy.integrate as integrate\n",
        "import matplotlib.pyplot as plt"
      ]
    },
    {
      "cell_type": "code",
      "source": [
        "# Integral de la función\n",
        "\n",
        "λ = sp.symbols('λ')\n",
        "x = sp. symbols('x')\n",
        "\n",
        "def funcion(λ):\n",
        "  f = sp.integrate((sp.sin(λ*x))/(sp.exp(x)), (x,0,np.inf))\n",
        "  return f.args[0][0]"
      ],
      "metadata": {
        "id": "Q0WYpSJB9pe-"
      },
      "execution_count": 145,
      "outputs": []
    },
    {
      "cell_type": "code",
      "source": [
        "# Gráfica de la integral\n",
        "\n",
        "λλ = np.linspace(0,100, 100)\n",
        "λf = sp.lambdify(λ, funcion(λ), 'numpy')\n",
        "integ = plt.figure()\n",
        "plt.plot(λλ, λf(λλ))\n",
        "plt.grid()\n",
        "plt.show()"
      ],
      "metadata": {
        "colab": {
          "base_uri": "https://localhost:8080/",
          "height": 265
        },
        "id": "BvkAwpMRE2el",
        "outputId": "4f25bddc-f040-468c-a374-8b1edf46db54"
      },
      "execution_count": 147,
      "outputs": [
        {
          "output_type": "display_data",
          "data": {
            "text/plain": [
              "<Figure size 432x288 with 1 Axes>"
            ],
            "image/png": "[encoded data removed]"
          },
          "metadata": {
            "needs_background": "light"
          }
        }
      ]
    },
    {
      "cell_type": "code",
      "source": [
        "# Derivada de la función\n",
        "\n",
        "λ = sp.symbols('λ')\n",
        "x = sp. symbols('x')\n",
        "\n",
        "def derivada():\n",
        "  f = sp.diff(sp.integrate((sp.sin(λ*x))/(sp.exp(x)), (x,0,np.inf)))\n",
        "  return f.args[0][0]"
      ],
      "metadata": {
        "id": "QbVHuwU0WDJ1"
      },
      "execution_count": 148,
      "outputs": []
    },
    {
      "cell_type": "code",
      "source": [
        "# Gráfica de la derivada\n",
        "\n",
        "λf_2 = sp.lambdify(λ, derivada(), 'numpy')\n",
        "plt.plot(λλ, λf_2(λλ_2))\n",
        "plt.grid()\n",
        "plt.show()"
      ],
      "metadata": {
        "colab": {
          "base_uri": "https://localhost:8080/",
          "height": 265
        },
        "id": "Avnwuun1WOru",
        "outputId": "a2ea2742-bd48-40b3-c67a-bb8110df7242"
      },
      "execution_count": 149,
      "outputs": [
        {
          "output_type": "display_data",
          "data": {
            "text/plain": [
              "<Figure size 432x288 with 1 Axes>"
            ],
            "image/png": "[encoded data removed]"
          },
          "metadata": {
            "needs_background": "light"
          }
        }
      ]
    },
    {
      "cell_type": "code",
      "source": [
        "# Gráfica de la integral y derivada juntas\n",
        "\n",
        "deriv = plt.figure()\n",
        "a = plt.plot(λλ, λf(λλ))\n",
        "b = plt.plot(λλ, λf_2(λλ))\n",
        "plt.grid()\n",
        "plt.show"
      ],
      "metadata": {
        "colab": {
          "base_uri": "https://localhost:8080/",
          "height": 282
        },
        "id": "o28tIY_qW9Ra",
        "outputId": "d3b44cc6-5d43-48a3-bd2e-df237b11307d"
      },
      "execution_count": 150,
      "outputs": [
        {
          "output_type": "execute_result",
          "data": {
            "text/plain": [
              "<function matplotlib.pyplot.show>"
            ]
          },
          "metadata": {},
          "execution_count": 150
        },
        {
          "output_type": "display_data",
          "data": {
            "text/plain": [
              "<Figure size 432x288 with 1 Axes>"
            ],
            "image/png": "[encoded data removed]"
          },
          "metadata": {
            "needs_background": "light"
          }
        }
      ]
    },
    {
      "cell_type": "markdown",
      "source": [
        "# Punto B"
      ],
      "metadata": {
        "id": "0jQkTCzqSDeP"
      }
    },
    {
      "cell_type": "code",
      "source": [
        "# Librería\n",
        "from numpy import random\n",
        "from random import uniform"
      ],
      "metadata": {
        "id": "JAN8ksbCJ_5O"
      },
      "execution_count": 194,
      "outputs": []
    },
    {
      "cell_type": "code",
      "source": [
        "Y = np.random.uniform(0,1,(3,3))\n",
        "Y_trans = Y.transpose()\n",
        "\n",
        "# La matriz A aleatoria sería:\n",
        "A = Y_trans@Y"
      ],
      "metadata": {
        "id": "EAxJxzEudIZ1"
      },
      "execution_count": 195,
      "outputs": []
    },
    {
      "cell_type": "code",
      "source": [
        "# Autovalores y autovectores de A en forma ascendente\n",
        "m,n = np.linalg.eig(A)\n",
        "m = np.array([m[i] for i in np.absolute])\n",
        "n = np.c_[tuple(np.c_[n[:,i]])]"
      ],
      "metadata": {
        "colab": {
          "base_uri": "https://localhost:8080/",
          "height": 217
        },
        "id": "4DEKyFG0eQXs",
        "outputId": "81fea97f-9f98-460a-aa89-7f93b7e7cfe2"
      },
      "execution_count": 200,
      "outputs": [
        {
          "output_type": "error",
          "ename": "TypeError",
          "evalue": "ignored",
          "traceback": [
            "\u001b[0;31m---------------------------------------------------------------------------\u001b[0m",
            "\u001b[0;31mTypeError\u001b[0m                                 Traceback (most recent call last)",
            "\u001b[0;32m<ipython-input-200-e75ca9119b76>\u001b[0m in \u001b[0;36m<module>\u001b[0;34m()\u001b[0m\n\u001b[1;32m      1\u001b[0m \u001b[0;31m# Autovalores y autovectores de A en forma ascendente\u001b[0m\u001b[0;34m\u001b[0m\u001b[0;34m\u001b[0m\u001b[0;34m\u001b[0m\u001b[0m\n\u001b[1;32m      2\u001b[0m \u001b[0mm\u001b[0m\u001b[0;34m,\u001b[0m\u001b[0mn\u001b[0m \u001b[0;34m=\u001b[0m \u001b[0mnp\u001b[0m\u001b[0;34m.\u001b[0m\u001b[0mlinalg\u001b[0m\u001b[0;34m.\u001b[0m\u001b[0meig\u001b[0m\u001b[0;34m(\u001b[0m\u001b[0mA\u001b[0m\u001b[0;34m)\u001b[0m\u001b[0;34m\u001b[0m\u001b[0;34m\u001b[0m\u001b[0m\n\u001b[0;32m----> 3\u001b[0;31m \u001b[0mm\u001b[0m \u001b[0;34m=\u001b[0m \u001b[0mnp\u001b[0m\u001b[0;34m.\u001b[0m\u001b[0marray\u001b[0m\u001b[0;34m(\u001b[0m\u001b[0;34m[\u001b[0m\u001b[0mm\u001b[0m\u001b[0;34m[\u001b[0m\u001b[0mi\u001b[0m\u001b[0;34m]\u001b[0m \u001b[0;32mfor\u001b[0m \u001b[0mi\u001b[0m \u001b[0;32min\u001b[0m \u001b[0mnp\u001b[0m\u001b[0;34m.\u001b[0m\u001b[0mabsolute\u001b[0m\u001b[0;34m]\u001b[0m\u001b[0;34m)\u001b[0m\u001b[0;34m\u001b[0m\u001b[0;34m\u001b[0m\u001b[0m\n\u001b[0m\u001b[1;32m      4\u001b[0m \u001b[0mn\u001b[0m \u001b[0;34m=\u001b[0m \u001b[0mnp\u001b[0m\u001b[0;34m.\u001b[0m\u001b[0mc_\u001b[0m\u001b[0;34m[\u001b[0m\u001b[0mtuple\u001b[0m\u001b[0;34m(\u001b[0m\u001b[0mnp\u001b[0m\u001b[0;34m.\u001b[0m\u001b[0mc_\u001b[0m\u001b[0;34m[\u001b[0m\u001b[0mn\u001b[0m\u001b[0;34m[\u001b[0m\u001b[0;34m:\u001b[0m\u001b[0;34m,\u001b[0m\u001b[0mi\u001b[0m\u001b[0;34m]\u001b[0m\u001b[0;34m]\u001b[0m\u001b[0;34m)\u001b[0m\u001b[0;34m]\u001b[0m\u001b[0;34m\u001b[0m\u001b[0;34m\u001b[0m\u001b[0m\n",
            "\u001b[0;31mTypeError\u001b[0m: 'numpy.ufunc' object is not iterable"
          ]
        }
      ]
    },
    {
      "cell_type": "code",
      "source": [
        "mA = sc.linalg.svd(A)[1]\n",
        "mA"
      ],
      "metadata": {
        "colab": {
          "base_uri": "https://localhost:8080/"
        },
        "id": "0yoldQvmhcfM",
        "outputId": "7075aca2-c606-4124-8d8e-b2d76af8db99"
      },
      "execution_count": 201,
      "outputs": [
        {
          "output_type": "execute_result",
          "data": {
            "text/plain": [
              "array([3.84575127e+00, 1.73364685e-01, 1.15393653e-03])"
            ]
          },
          "metadata": {},
          "execution_count": 201
        }
      ]
    },
    {
      "cell_type": "code",
      "source": [
        "mY = sc.linalg.svd(Y)[1]\n",
        "mY"
      ],
      "metadata": {
        "colab": {
          "base_uri": "https://localhost:8080/"
        },
        "id": "d8Wv3ziwkZlE",
        "outputId": "5d945dfe-81a8-40a0-e0eb-e7d34b8178f7"
      },
      "execution_count": 202,
      "outputs": [
        {
          "output_type": "execute_result",
          "data": {
            "text/plain": [
              "array([1.96105871, 0.41637085, 0.03396964])"
            ]
          },
          "metadata": {},
          "execution_count": 202
        }
      ]
    },
    {
      "cell_type": "code",
      "source": [
        "l =[]\n",
        "for i in mA:\n",
        "  l.append(np.sqrt(i))\n",
        "\n",
        "l"
      ],
      "metadata": {
        "colab": {
          "base_uri": "https://localhost:8080/"
        },
        "id": "M6qb7NZBftCj",
        "outputId": "bec27c86-499e-447b-ce26-3de0a7242469"
      },
      "execution_count": 203,
      "outputs": [
        {
          "output_type": "execute_result",
          "data": {
            "text/plain": [
              "[1.961058711244925, 0.4163708500226391, 0.033969641232337186]"
            ]
          },
          "metadata": {},
          "execution_count": 203
        }
      ]
    },
    {
      "cell_type": "markdown",
      "source": [
        "Se comprueba que los autovalores de Y corresponden a la raíz cuadrada de los autovalores de A.\n"
      ],
      "metadata": {
        "id": "9nQAQ5NcjhN7"
      }
    }
  ]
}