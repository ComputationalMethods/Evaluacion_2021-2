{
  "nbformat": 4,
  "nbformat_minor": 0,
  "metadata": {
    "colab": {
      "name": "Examen 2021_1_02_Nataly Murillo.ipynb",
      "provenance": [],
      "collapsed_sections": []
    },
    "kernelspec": {
      "name": "python3",
      "display_name": "Python 3"
    },
    "language_info": {
      "name": "python"
    }
  },
  "cells": [
    {
      "cell_type": "markdown",
      "source": [
        "***Alumna:*** Nataly Lucía Murillo Mosquera\n",
        "\n",
        "***Cédula:*** 1003970969"
      ],
      "metadata": {
        "id": "4DymbfkmqXAn"
      }
    },
    {
      "cell_type": "markdown",
      "source": [
        "# *Punto A*"
      ],
      "metadata": {
        "id": "1iV6CYeacX8s"
      }
    },
    {
      "cell_type": "code",
      "execution_count": null,
      "metadata": {
        "id": "63xrNyNnp529"
      },
      "outputs": [],
      "source": [
        "#Librerías\n",
        "\n",
        "import numpy as np\n",
        "import pandas as pd\n",
        "import random\n",
        "import matplotlib.pyplot as plt\n"
      ]
    },
    {
      "cell_type": "code",
      "source": [
        "#Creación del Dataframe\n",
        "\n",
        "datos = [\n",
        "    {'Días': 1, 'IPMH': 464}, \n",
        "    {'Días': 2, 'IPMH': 494},\n",
        "    {'Días': 3, 'IPMH': 532},\n",
        "    {'Días': 4, 'IPMH': 552},\n",
        "    {'Días': 5, 'IPMH': 576},\n",
        "    {'Días': 6, 'IPMH': 589}    \n",
        "]\n",
        "\n",
        "df = pd.DataFrame(datos)\n",
        "print(df)"
      ],
      "metadata": {
        "colab": {
          "base_uri": "https://localhost:8080/"
        },
        "id": "vlfVKHDntL6V",
        "outputId": "9a9c9d83-245b-4c90-b9e3-8ba8c2ad039c"
      },
      "execution_count": null,
      "outputs": [
        {
          "output_type": "stream",
          "name": "stdout",
          "text": [
            "   Días  IPMH\n",
            "0     1   464\n",
            "1     2   494\n",
            "2     3   532\n",
            "3     4   552\n",
            "4     5   576\n",
            "5     6   589\n"
          ]
        }
      ]
    },
    {
      "cell_type": "code",
      "source": [
        "#Poducto de cada elemento de la columna IPMH por 0.002\n",
        "\n",
        "error = [464*0.002, 494*0.002, 532*0.002, 552*0.002, 576*0.002, 589*0.002]"
      ],
      "metadata": {
        "id": "-IGlHoTY4_AA"
      },
      "execution_count": null,
      "outputs": []
    },
    {
      "cell_type": "code",
      "source": [
        "#Número aleatorio del rango 2 por mil\n",
        "\n",
        "a = np.random.uniform(low = -0.928, high = 0.928)\n",
        "b = np.random.uniform(low = -0.988, high = 0.988)\n",
        "c = np.random.uniform(low = -1.064, high = 1.064)\n",
        "d = np.random.uniform(low = -1.104, high = 1.104)\n",
        "e = np.random.uniform(low = -1.152, high = 1.152)\n",
        "f = np.random.uniform(low = -1.178, high = 1.178)"
      ],
      "metadata": {
        "id": "Az82JSzD-Bzs"
      },
      "execution_count": null,
      "outputs": []
    },
    {
      "cell_type": "code",
      "source": [
        "#Suma de columna del IPMH y los números aleatorios\n",
        "\n",
        "m = np.array([a,b,c,d,e,f])\n",
        "suma_columns = df['IPMH'] + m\n",
        "suma_columns"
      ],
      "metadata": {
        "id": "zsjsPUT6K03d",
        "colab": {
          "base_uri": "https://localhost:8080/"
        },
        "outputId": "e7080769-a2cb-426b-ce6b-0dac3dea8c31"
      },
      "execution_count": null,
      "outputs": [
        {
          "output_type": "execute_result",
          "data": {
            "text/plain": [
              "0    463.898736\n",
              "1    493.315070\n",
              "2    531.482212\n",
              "3    551.027506\n",
              "4    576.618680\n",
              "5    589.322500\n",
              "Name: IPMH, dtype: float64"
            ]
          },
          "metadata": {},
          "execution_count": 20
        }
      ]
    },
    {
      "cell_type": "code",
      "source": [
        "Incertidumbre = [463.898736, 493.315070, 531.482212, 551.027506, 576.618680, 589.322500]\n",
        "\n",
        "df['Incertidumbre_IPMH'] = Incertidumbre"
      ],
      "metadata": {
        "id": "p4D0qH5Jaf6p"
      },
      "execution_count": null,
      "outputs": []
    },
    {
      "cell_type": "code",
      "source": [
        "#Como por el paso anterior se crearon columnas de más, son eliminadas y luego se visualiza el DataFrame con una nueva columna\n",
        "\n",
        "data = df.drop(columns = [463.8987361571023, 493.31506988464014, 531.4822118988114, 551.0275063789893, 576.6186802675817, 589.3225001108823, 'Incertidumbre'])\n",
        "data"
      ],
      "metadata": {
        "colab": {
          "base_uri": "https://localhost:8080/",
          "height": 238
        },
        "id": "wYmxRj27bXM9",
        "outputId": "b40acf4f-47cb-4b9d-b68a-a9a514613d8b"
      },
      "execution_count": null,
      "outputs": [
        {
          "output_type": "execute_result",
          "data": {
            "text/html": [
              "\n",
              "  <div id=\"df-872f9f20-7266-4827-a61f-bff1a67b0bee\">\n",
              "    <div class=\"colab-df-container\">\n",
              "      <div>\n",
              "<style scoped>\n",
              "    .dataframe tbody tr th:only-of-type {\n",
              "        vertical-align: middle;\n",
              "    }\n",
              "\n",
              "    .dataframe tbody tr th {\n",
              "        vertical-align: top;\n",
              "    }\n",
              "\n",
              "    .dataframe thead th {\n",
              "        text-align: right;\n",
              "    }\n",
              "</style>\n",
              "<table border=\"1\" class=\"dataframe\">\n",
              "  <thead>\n",
              "    <tr style=\"text-align: right;\">\n",
              "      <th></th>\n",
              "      <th>Días</th>\n",
              "      <th>IPMH</th>\n",
              "      <th>Incertidumbre_IPMH</th>\n",
              "    </tr>\n",
              "  </thead>\n",
              "  <tbody>\n",
              "    <tr>\n",
              "      <th>0</th>\n",
              "      <td>1</td>\n",
              "      <td>464</td>\n",
              "      <td>463.898736</td>\n",
              "    </tr>\n",
              "    <tr>\n",
              "      <th>1</th>\n",
              "      <td>2</td>\n",
              "      <td>494</td>\n",
              "      <td>493.315070</td>\n",
              "    </tr>\n",
              "    <tr>\n",
              "      <th>2</th>\n",
              "      <td>3</td>\n",
              "      <td>532</td>\n",
              "      <td>531.482212</td>\n",
              "    </tr>\n",
              "    <tr>\n",
              "      <th>3</th>\n",
              "      <td>4</td>\n",
              "      <td>552</td>\n",
              "      <td>551.027506</td>\n",
              "    </tr>\n",
              "    <tr>\n",
              "      <th>4</th>\n",
              "      <td>5</td>\n",
              "      <td>576</td>\n",
              "      <td>576.618680</td>\n",
              "    </tr>\n",
              "    <tr>\n",
              "      <th>5</th>\n",
              "      <td>6</td>\n",
              "      <td>589</td>\n",
              "      <td>589.322500</td>\n",
              "    </tr>\n",
              "  </tbody>\n",
              "</table>\n",
              "</div>\n",
              "      <button class=\"colab-df-convert\" onclick=\"convertToInteractive('df-872f9f20-7266-4827-a61f-bff1a67b0bee')\"\n",
              "              title=\"Convert this dataframe to an interactive table.\"\n",
              "              style=\"display:none;\">\n",
              "        \n",
              "  <svg xmlns=\"http://www.w3.org/2000/svg\" height=\"24px\"viewBox=\"0 0 24 24\"\n",
              "       width=\"24px\">\n",
              "    <path d=\"M0 0h24v24H0V0z\" fill=\"none\"/>\n",
              "    <path d=\"M18.56 5.44l.94 2.06.94-2.06 2.06-.94-2.06-.94-.94-2.06-.94 2.06-2.06.94zm-11 1L8.5 8.5l.94-2.06 2.06-.94-2.06-.94L8.5 2.5l-.94 2.06-2.06.94zm10 10l.94 2.06.94-2.06 2.06-.94-2.06-.94-.94-2.06-.94 2.06-2.06.94z\"/><path d=\"M17.41 7.96l-1.37-1.37c-.4-.4-.92-.59-1.43-.59-.52 0-1.04.2-1.43.59L10.3 9.45l-7.72 7.72c-.78.78-.78 2.05 0 2.83L4 21.41c.39.39.9.59 1.41.59.51 0 1.02-.2 1.41-.59l7.78-7.78 2.81-2.81c.8-.78.8-2.07 0-2.86zM5.41 20L4 18.59l7.72-7.72 1.47 1.35L5.41 20z\"/>\n",
              "  </svg>\n",
              "      </button>\n",
              "      \n",
              "  <style>\n",
              "    .colab-df-container {\n",
              "      display:flex;\n",
              "      flex-wrap:wrap;\n",
              "      gap: 12px;\n",
              "    }\n",
              "\n",
              "    .colab-df-convert {\n",
              "      background-color: #E8F0FE;\n",
              "      border: none;\n",
              "      border-radius: 50%;\n",
              "      cursor: pointer;\n",
              "      display: none;\n",
              "      fill: #1967D2;\n",
              "      height: 32px;\n",
              "      padding: 0 0 0 0;\n",
              "      width: 32px;\n",
              "    }\n",
              "\n",
              "    .colab-df-convert:hover {\n",
              "      background-color: #E2EBFA;\n",
              "      box-shadow: 0px 1px 2px rgba(60, 64, 67, 0.3), 0px 1px 3px 1px rgba(60, 64, 67, 0.15);\n",
              "      fill: #174EA6;\n",
              "    }\n",
              "\n",
              "    [theme=dark] .colab-df-convert {\n",
              "      background-color: #3B4455;\n",
              "      fill: #D2E3FC;\n",
              "    }\n",
              "\n",
              "    [theme=dark] .colab-df-convert:hover {\n",
              "      background-color: #434B5C;\n",
              "      box-shadow: 0px 1px 3px 1px rgba(0, 0, 0, 0.15);\n",
              "      filter: drop-shadow(0px 1px 2px rgba(0, 0, 0, 0.3));\n",
              "      fill: #FFFFFF;\n",
              "    }\n",
              "  </style>\n",
              "\n",
              "      <script>\n",
              "        const buttonEl =\n",
              "          document.querySelector('#df-872f9f20-7266-4827-a61f-bff1a67b0bee button.colab-df-convert');\n",
              "        buttonEl.style.display =\n",
              "          google.colab.kernel.accessAllowed ? 'block' : 'none';\n",
              "\n",
              "        async function convertToInteractive(key) {\n",
              "          const element = document.querySelector('#df-872f9f20-7266-4827-a61f-bff1a67b0bee');\n",
              "          const dataTable =\n",
              "            await google.colab.kernel.invokeFunction('convertToInteractive',\n",
              "                                                     [key], {});\n",
              "          if (!dataTable) return;\n",
              "\n",
              "          const docLinkHtml = 'Like what you see? Visit the ' +\n",
              "            '<a target=\"_blank\" href=https://colab.research.google.com/notebooks/data_table.ipynb>data table notebook</a>'\n",
              "            + ' to learn more about interactive tables.';\n",
              "          element.innerHTML = '';\n",
              "          dataTable['output_type'] = 'display_data';\n",
              "          await google.colab.output.renderOutput(dataTable, element);\n",
              "          const docLink = document.createElement('div');\n",
              "          docLink.innerHTML = docLinkHtml;\n",
              "          element.appendChild(docLink);\n",
              "        }\n",
              "      </script>\n",
              "    </div>\n",
              "  </div>\n",
              "  "
            ],
            "text/plain": [
              "   Días  IPMH  Incertidumbre_IPMH\n",
              "0     1   464          463.898736\n",
              "1     2   494          493.315070\n",
              "2     3   532          531.482212\n",
              "3     4   552          551.027506\n",
              "4     5   576          576.618680\n",
              "5     6   589          589.322500"
            ]
          },
          "metadata": {},
          "execution_count": 31
        }
      ]
    },
    {
      "cell_type": "markdown",
      "source": [
        "# *Punto B*"
      ],
      "metadata": {
        "id": "FUJulzILcvWE"
      }
    },
    {
      "cell_type": "code",
      "source": [
        "# Se crea un diagrama de dispersión Día vs IPMH(incertidumbre)\n",
        "y = data['Días']\n",
        "x = data['Incertidumbre_IPMH']\n",
        "\n",
        "plt.scatter(x,y,color='red')\n",
        "plt.xlabel('Días')\n",
        "plt.ylabel('Incertidumbre_IPMH')"
      ],
      "metadata": {
        "id": "7DNET8G4cyLQ",
        "colab": {
          "base_uri": "https://localhost:8080/",
          "height": 296
        },
        "outputId": "a824f6c5-b646-468a-8d6e-a30d19168a67"
      },
      "execution_count": 55,
      "outputs": [
        {
          "output_type": "execute_result",
          "data": {
            "text/plain": [
              "Text(0, 0.5, 'Incertidumbre_IPMH')"
            ]
          },
          "metadata": {},
          "execution_count": 55
        },
        {
          "output_type": "display_data",
          "data": {
            "image/png": "[encoded data removed]",
            "text/plain": [
              "<Figure size 432x288 with 1 Axes>"
            ]
          },
          "metadata": {
            "needs_background": "light"
          }
        }
      ]
    },
    {
      "cell_type": "code",
      "source": [
        "# Ajuste en varias curvas hasta un polinomio de grado 2\n",
        "modelo1 = np.poly1d(np.polyfit(x, y, 1))\n",
        "modelo2 = np.poly1d(np.polyfit(x, y, 2))\n",
        "\n",
        "polyline = np.linspace(460, 600, 580)\n",
        "plt.scatter(x,y,color='red')\n",
        "\n",
        "# Líneas polinomiales \n",
        "plt.plot (polyline, modelo1(polyline), color = 'green')\n",
        "plt.plot (polyline, modelo2(polyline), color = 'yellow')\n",
        "\n",
        "plt.xlabel('Incertidumbre_IPMH')\n",
        "plt.ylabel('Días')\n",
        "\n",
        "plt.show()\n",
        "\n",
        "#Esto se hace con el objetivo de ver qué curva se ajusta mejor a la dispersión"
      ],
      "metadata": {
        "colab": {
          "base_uri": "https://localhost:8080/",
          "height": 280
        },
        "id": "gKOcpRwEtzdD",
        "outputId": "4b1df5e1-267f-4798-a12a-974a2a3ebcae"
      },
      "execution_count": 79,
      "outputs": [
        {
          "output_type": "display_data",
          "data": {
            "image/png": "[encoded data removed]",
            "text/plain": [
              "<Figure size 432x288 with 1 Axes>"
            ]
          },
          "metadata": {
            "needs_background": "light"
          }
        }
      ]
    },
    {
      "cell_type": "code",
      "source": [
        "# Define la función para calcular el ajuste de la definición de r^2\n",
        "def ajustado (x, y, grado):\n",
        "    resultados = {}\n",
        "    coef = np. polyfit (x, y, grado)\n",
        "    p = np.poly1d(coef)\n",
        "    yhat = p(x)\n",
        "    ybar = np.sum(y) / len (y)\n",
        "    ssreg = np.sum((yhat-ybar)**2)\n",
        "    sstot = np.sum((y - ybar)**2)\n",
        "    resultados ['r_al cuadrado'] = 1 - (((1- (ssreg/sstot)) * (len (y) - 1)) / (len (y) - grado - 1))\n",
        "    return resultados\n",
        "\n",
        "# R-cuadrado ajustado calculado de cada modelo\n",
        "ajustado (x, y, 1)\n",
        "ajustado (x, y, 2)"
      ],
      "metadata": {
        "colab": {
          "base_uri": "https://localhost:8080/"
        },
        "id": "zOC6DhjyuHr5",
        "outputId": "f04ae5a1-6a75-40bf-b931-2d138f1ab034"
      },
      "execution_count": 60,
      "outputs": [
        {
          "output_type": "execute_result",
          "data": {
            "text/plain": [
              "{'r_al cuadrado': 0.9894869770072218}"
            ]
          },
          "metadata": {},
          "execution_count": 60
        }
      ]
    },
    {
      "cell_type": "code",
      "source": [
        "# Diagrama de dispersión con curva de modelo de polinomio de segundo grado\n",
        "grado2 = np.poly1d(np.polyfit(x, y, 2))\n",
        "\n",
        "polyline = np. linspace(460, 600, 580)\n",
        "plt.scatter(x, y, color = 'red')\n",
        "\n",
        "# Curva polinomial ajustada al diagrama de dispersión\n",
        "plt.plot (polyline, modelo2 (polyline), color = 'yellow')\n",
        "plt.show()"
      ],
      "metadata": {
        "colab": {
          "base_uri": "https://localhost:8080/",
          "height": 265
        },
        "id": "ZgVk7gsfvh7U",
        "outputId": "71976a25-80eb-4578-b083-7b7373ea9d27"
      },
      "execution_count": 73,
      "outputs": [
        {
          "output_type": "display_data",
          "data": {
            "image/png": "[encoded data removed]",
            "text/plain": [
              "<Figure size 432x288 with 1 Axes>"
            ]
          },
          "metadata": {
            "needs_background": "light"
          }
        }
      ]
    },
    {
      "cell_type": "code",
      "source": [
        "# Ecuación de la curva amarilla\n",
        "\n",
        "print(modelo2)"
      ],
      "metadata": {
        "colab": {
          "base_uri": "https://localhost:8080/"
        },
        "id": "Dne59_dRxgIW",
        "outputId": "fcd92ac8-85ff-4a7e-9dae-b3742328060c"
      },
      "execution_count": 78,
      "outputs": [
        {
          "output_type": "stream",
          "name": "stdout",
          "text": [
            "           2\n",
            "0.0001383 x - 0.1076 x + 21.24\n"
          ]
        }
      ]
    },
    {
      "cell_type": "markdown",
      "source": [
        "La ecuación es: 0.0001383x^2 - 0.1076x + 21.24\n"
      ],
      "metadata": {
        "id": "yC6xbfb_yu5_"
      }
    }
  ]
}