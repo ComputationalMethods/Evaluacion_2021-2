{
  "nbformat": 4,
  "nbformat_minor": 0,
  "metadata": {
    "colab": {
      "name": "Parcial1MateoBustamante.ipynb",
      "provenance": []
    },
    "kernelspec": {
      "name": "python3",
      "display_name": "Python 3"
    },
    "language_info": {
      "name": "python"
    }
  },
  "cells": [
    {
      "cell_type": "code",
      "execution_count": 32,
      "metadata": {
        "colab": {
          "base_uri": "https://localhost:8080/",
          "height": 664
        },
        "id": "ntfGP4Xcre_q",
        "outputId": "a0c28f2d-0f1a-4c2b-dded-046028b56d5f"
      },
      "outputs": [
        {
          "output_type": "stream",
          "name": "stdout",
          "text": [
            "   día  IPMH       IPMH2\n",
            "0    1   464  464.920743\n",
            "1    2   494  494.980274\n",
            "2    3   532  533.055680\n",
            "3    4   552  553.095367\n",
            "4    5   576  577.142992\n",
            "5    6   589  590.168788\n",
            "[[  1.         464.         464.92074327]\n",
            " [  2.         494.         494.98027409]\n",
            " [  3.         532.         533.05567979]\n",
            " [  4.         552.         553.09536699]\n",
            " [  5.         576.         577.14299165]\n",
            " [  6.         589.         590.16878833]]\n",
            "[[  1.         464.92074327]\n",
            " [  2.         494.98027409]\n",
            " [  3.         533.05567979]\n",
            " [  4.         553.09536699]\n",
            " [  5.         577.14299165]\n",
            " [  6.         590.16878833]]\n",
            "        2\n",
            "-2.523 x + 43.17 x + 422.7\n",
            "La velocidad inicial de IPMH en IPMH/día; 43.16763335960477\n",
            "La aceleración constante en IPMH/día**2: -5.045706958222913\n"
          ]
        },
        {
          "output_type": "display_data",
          "data": {
            "image/png": "[encoded data removed]",
            "text/plain": [
              "<Figure size 432x288 with 1 Axes>"
            ]
          },
          "metadata": {
            "needs_background": "light"
          }
        }
      ],
      "source": [
        "import pandas as pd\n",
        "import random as rd\n",
        "import numpy as np\n",
        "import matplotlib.pyplot as plt\n",
        "\n",
        "\n",
        "datos=[{'día':1,'IPMH':464},\n",
        "    {'día':2,'IPMH':494},\n",
        "    {'día':3,'IPMH':532},\n",
        "    {'día':4,'IPMH':552},\n",
        "    {'día':5,'IPMH':576},\n",
        "    {'día':6,'IPMH':589}]\n",
        "\n",
        "\n",
        "df=pd.DataFrame(datos)\n",
        "\n",
        "\n",
        "new_df=df.assign(IPMH2=lambda x: x.IPMH + rd.uniform(-0.002*x.IPMH,0.002*x.IPMH))\n",
        "print(new_df)\n",
        "\n",
        "new_dfnp=new_df.to_numpy()\n",
        "print(new_dfnp)\n",
        "\n",
        "new_dfnpdelete=np.delete(new_dfnp,1,axis=1)\n",
        "\n",
        "print(new_dfnpdelete)\n",
        "\n",
        "x1=new_dfnpdelete[:,0]\n",
        "y1=new_dfnpdelete[:,1]\n",
        "\n",
        "plt.plot(x1,y1,'.')\n",
        "\n",
        "pol=np.polyfit(x1,y1,2)\n",
        "\n",
        "ecu=np.poly1d(pol)\n",
        "print(ecu)\n",
        "\n",
        "range=np.linspace(1,6,100)\n",
        "plt.plot(range,ecu(range))\n",
        "\n",
        "print(\"La velocidad inicial de IPMH en IPMH/día;\",ecu[1])\n",
        "print(\"La aceleración constante en IPMH/día**2:\",2*ecu[2])\n",
        "#print(\"El número máximo de IPMH que se alcanzaría:\",\n",
        "#El número de días en el que se alcanzaría dicho máximo\n",
        "#Realice una gráfico que muestré el ajuste y la posición del máximo usando los estándares adecuados\n",
        "#tiempo :(\n",
        "\n"
      ]
    }
  ]
}