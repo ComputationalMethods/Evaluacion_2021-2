{
 "cells": [
  {
   "cell_type": "markdown",
   "id": "0949b7a5-6d81-4e98-adc7-a7a1867266a3",
   "metadata": {},
   "source": [
    "A)\n",
    "1. Cree una función en Python que defina la función\n",
    "$$\n",
    "f(\\lambda)=\\int_0^\\infty \\frac{\\sin(\\lambda x)}{\\operatorname{e}^x}\\operatorname{d}x\n",
    "$$\n",
    "1. Gráfique dicha función en 0 y 100\n",
    "1. Haga un segundo gráfico añadiendo la derivada de la función\n",
    "\n",
    "B)\n",
    "Construya una matriz aleatoria $3\\times 3$ $\\boldsymbol{Y}$ y genere la matrix\n",
    "$$\n",
    "\\boldsymbol{A}=\\boldsymbol{Y}^{\\operatorname{T}}\\boldsymbol{Y}\n",
    "$$\n",
    "\n",
    "1. Obtenga los autovalores y autovectores de $\\boldsymbol{A}$ en orden ascendente en valor absoluto\n",
    "1. Compruebe que los atovalores de $\\boldsymbol{Y}$ corresponden a la raíz cuadrado de los autovalores de  $\\boldsymbol{A}$ y explique porqué"
   ]
  },
  {
   "cell_type": "code",
   "execution_count": 20,
   "id": "590940de-3170-467e-b666-fad4737b5d40",
   "metadata": {},
   "outputs": [
    {
     "name": "stdout",
     "output_type": "stream",
     "text": [
      "Populating the interactive namespace from numpy and matplotlib\n"
     ]
    }
   ],
   "source": [
    "%pylab inline"
   ]
  },
  {
   "cell_type": "code",
   "execution_count": 2,
   "id": "db95b836-75ae-489d-ba0f-ee9f09f8c847",
   "metadata": {},
   "outputs": [],
   "source": [
    "import numpy as np"
   ]
  },
  {
   "cell_type": "code",
   "execution_count": 1,
   "id": "7fb6c869-3c22-4413-b09f-a52cee9d7b37",
   "metadata": {},
   "outputs": [],
   "source": [
    "from scipy import integrate"
   ]
  },
  {
   "cell_type": "code",
   "execution_count": 17,
   "id": "92baf438-7c72-4ea2-872d-db8ae151f977",
   "metadata": {},
   "outputs": [
    {
     "name": "stderr",
     "output_type": "stream",
     "text": [
      "/tmp/ipykernel_58673/2174608147.py:4: RuntimeWarning: overflow encountered in exp\n",
      "  I.append(integrate.quad(lambda x: np.sin(λ*x)/np.exp(x),0,np.inf)[0])\n",
      "/tmp/ipykernel_58673/2174608147.py:4: IntegrationWarning: The maximum number of subdivisions (50) has been achieved.\n",
      "  If increasing the limit yields no improvement it is advised to analyze \n",
      "  the integrand in order to determine the difficulties.  If the position of a \n",
      "  local difficulty can be determined (singularity, discontinuity) one will \n",
      "  probably gain from splitting up the interval and calling the integrator \n",
      "  on the subranges.  Perhaps a special-purpose integrator should be used.\n",
      "  I.append(integrate.quad(lambda x: np.sin(λ*x)/np.exp(x),0,np.inf)[0])\n"
     ]
    }
   ],
   "source": [
    "λs=np.linspace(0,100)\n",
    "I=[]\n",
    "for λ in λs:\n",
    "    I.append(integrate.quad(lambda x: np.sin(λ*x)/np.exp(x),0,np.inf)[0])"
   ]
  },
  {
   "cell_type": "code",
   "execution_count": 28,
   "id": "cf97367b-98e7-4634-bba8-5a3acbeaae11",
   "metadata": {},
   "outputs": [
    {
     "data": {
      "text/plain": [
       "[<matplotlib.lines.Line2D at 0x7fc0dcbc3610>]"
      ]
     },
     "execution_count": 28,
     "metadata": {},
     "output_type": "execute_result"
    },
    {
     "data": {
      "image/png": "[encoded data removed]",
      "text/plain": [
       "<Figure size 432x288 with 1 Axes>"
      ]
     },
     "metadata": {
      "needs_background": "light"
     },
     "output_type": "display_data"
    }
   ],
   "source": [
    "plt.plot(λs,I,'c-',lw=4)\n",
    "plt.plot(λs,λs/(1+λs**2),'k:')"
   ]
  },
  {
   "cell_type": "code",
   "execution_count": 23,
   "id": "be97c313-b0bd-441a-a8d0-a7efa25ffdc6",
   "metadata": {},
   "outputs": [
    {
     "data": {
      "text/plain": [
       "array([0.        , 0.39512943, 0.23112662, 0.15908919, 0.12068891,\n",
       "       0.09706776, 0.0811256 , 0.06965867, 0.06102108, 0.05428354,\n",
       "       0.04888263, 0.04445724, 0.04076536, 0.03763883, 0.03495718,\n",
       "       0.03263184, 0.0305963 , 0.0287996 , 0.02720206, 0.02577233,\n",
       "       0.0244853 , 0.02332064, 0.02226168, 0.02129468, 0.02040816,\n",
       "       0.01959247, 0.01883946, 0.01814217, 0.01749464, 0.01689173,\n",
       "       0.01632898, 0.0158025 , 0.01530891, 0.01484521, 0.01440877,\n",
       "       0.01399726, 0.01360859, 0.01324092, 0.01289259, 0.01256212,\n",
       "       0.01224816, 0.01194951, 0.01166508, 0.01139387, 0.01113498,\n",
       "       0.0108876 , 0.01065097, 0.0104244 , 0.01020727, 0.009999  ])"
      ]
     },
     "execution_count": 23,
     "metadata": {},
     "output_type": "execute_result"
    }
   ],
   "source": []
  },
  {
   "cell_type": "code",
   "execution_count": null,
   "id": "62cbc669-9ed6-4f54-b4c9-5ac10f7c15d6",
   "metadata": {},
   "outputs": [],
   "source": []
  }
 ],
 "metadata": {
  "kernelspec": {
   "display_name": "Python 3 (ipykernel)",
   "language": "python",
   "name": "python3"
  },
  "language_info": {
   "codemirror_mode": {
    "name": "ipython",
    "version": 3
   },
   "file_extension": ".py",
   "mimetype": "text/x-python",
   "name": "python",
   "nbconvert_exporter": "python",
   "pygments_lexer": "ipython3",
   "version": "3.9.2"
  }
 },
 "nbformat": 4,
 "nbformat_minor": 5
}
