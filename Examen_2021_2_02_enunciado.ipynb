{
 "cells": [
  {
   "cell_type": "markdown",
   "id": "0949b7a5-6d81-4e98-adc7-a7a1867266a3",
   "metadata": {},
   "source": [
    "### Link a éste GitHub en classroom → ClassWork → Examenes\n",
    "\n",
    "A)\n",
    "1. Cree una función en Python que defina la función\n",
    "$$\n",
    "f(\\lambda)=\\int_0^\\infty \\frac{\\sin(\\lambda x)}{\\operatorname{e}^x}\\operatorname{d}x\n",
    "$$\n",
    "1. Gráfique dicha función para $\\lambda$ entre 0 y 100\n",
    "1. Haga un segundo gráfico añadiendo la derivada de la función\n",
    "\n",
    "Sugerencia: Ignore los \"WARNINGS\" de Scipy\n",
    "\n",
    "B)\n",
    "Construya una matriz aleatoria $3\\times 3$ $\\boldsymbol{Y}$ y genere la matrix\n",
    "$$\n",
    "\\boldsymbol{A}=\\boldsymbol{Y}^{\\operatorname{T}}\\boldsymbol{Y}\n",
    "$$\n",
    "\n",
    "1. Obtenga los autovalores y autovectores de $\\boldsymbol{A}$ en orden ascendente en valor absoluto\n",
    "1. Compruebe que los atovalores de $\\boldsymbol{Y}$ corresponden a la raíz cuadrado de los autovalores de  $\\boldsymbol{A}$ y explique porqué"
   ]
  },
  {
   "cell_type": "code",
   "execution_count": null,
   "id": "62cbc669-9ed6-4f54-b4c9-5ac10f7c15d6",
   "metadata": {},
   "outputs": [],
   "source": []
  }
 ],
 "metadata": {
  "kernelspec": {
   "display_name": "Python 3 (ipykernel)",
   "language": "python",
   "name": "python3"
  },
  "language_info": {
   "codemirror_mode": {
    "name": "ipython",
    "version": 3
   },
   "file_extension": ".py",
   "mimetype": "text/x-python",
   "name": "python",
   "nbconvert_exporter": "python",
   "pygments_lexer": "ipython3",
   "version": "3.9.2"
  }
 },
 "nbformat": 4,
 "nbformat_minor": 5
}
