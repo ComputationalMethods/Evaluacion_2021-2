{
 "cells": [
  {
   "cell_type": "markdown",
   "metadata": {
    "colab_type": "text",
    "id": "view-in-github"
   },
   "source": [
    "<a href=\"https://colab.research.google.com/github/ComputationalMethods/Evaluacion_2021-1/blob/main/Examen_2021_1_03_enunciado.ipynb\" target=\"_parent\"><img src=\"https://colab.research.google.com/assets/colab-badge.svg\" alt=\"Open In Colab\"/></a>"
   ]
  },
  {
   "cell_type": "markdown",
   "metadata": {
    "id": "40WhQJy2EWqx"
   },
   "source": [
    "# Casas-Ibarra\n",
    "Let $\\boldsymbol{A}$ $3\\times3$ a symmetric non-diagonal matrix with the following set of eigenvalues and eigenvectors:\n"
   ]
  },
  {
   "cell_type": "markdown",
   "metadata": {
    "id": "cwKjVMtNvgl0"
   },
   "source": [
    "____"
   ]
  },
  {
   "cell_type": "markdown",
   "metadata": {
    "id": "G-uQDCOkvgl0"
   },
   "source": [
    "### Eigenvalues\n",
    "The normal ordering of the absolute value of the eigenvalues is $m_1<m_2<m_3$. Each eigenvalue is expressed in units of eV, which is just an energy unit.\n",
    "### Eigenvectors\n",
    "The eigenvectors in the normal ordering are defined by\n",
    "$$\n",
    "\\boldsymbol{U}^T \\boldsymbol{A} \\boldsymbol{U}=\n",
    "\\begin{pmatrix}\n",
    "m_1& 0 & 0\\\\\n",
    "0 & m_2& 0\\\\\n",
    "0 & 0 & m_3\\\\\n",
    "\\end{pmatrix}.\n",
    "$$\n",
    "The orthogonal matrix can be parameterized in terms of three mixing angles, $\\theta_{23}$ $\\theta_{13}$, $\\theta_{12}$, such that\n",
    "$$\n",
    "\\boldsymbol{U}=\\left(\\begin{array}{ccc}\n",
    "1 & 0 & 0 \\\\\n",
    "0 & c_{23} & s_{23} \\\\\n",
    "0 & -s_{23} & c_{23}\n",
    "\\end{array}\\right) \\cdot\\left(\\begin{array}{ccc}\n",
    "c_{13} & 0 & s_{13}  \\\\\n",
    "0 & 1 & 0 \\\\\n",
    "-s_{13}  & 0 & c_{13}\n",
    "\\end{array}\\right) \\cdot\\left(\\begin{array}{ccc}\n",
    "c_{12} & s_{12} & 0 \\\\\n",
    "-s_{12} & c_{12} & 0 \\\\\n",
    "0 & 0 & 1\n",
    "\\end{array}\\right),\n",
    "$$\n",
    "where $c_{i j} \\equiv \\cos \\theta_{i j}$ and $s_{i j} \\equiv \\sin \\theta_{i j}$. Thus, we can write $\\boldsymbol{U}$ as\n",
    "$$\n",
    "\\boldsymbol{U}=\\left(\\begin{array}{ccc}c_{12} c_{13} & s_{12} c_{13} & s_{13}  \\\\ -s_{12} c_{23}-c_{12} s_{13} s_{23}& c_{12} c_{23}-s_{12} s_{13} s_{23}  & c_{13} s_{23} \\\\ s_{12} s_{23}-c_{12} s_{13} c_{23} & -c_{12} s_{23}-s_{12} s_{13} c_{23}  & c_{13} c_{23}\\end{array}\\right)\n",
    "$$\n",
    "so that\n",
    "$$\n",
    "\\boldsymbol{U}_1=\\begin{pmatrix}U_{e1}\\\\ U_{\\mu 1}\\\\ U_{\\tau 1}\\end{pmatrix}=\\begin{pmatrix}\n",
    "c_{12} c_{13} \\\\\n",
    "-s_{12} c_{23}-c_{12} s_{13} s_{23}  \\\\\n",
    "s_{12} s_{23}-c_{12} s_{13} c_{23} \n",
    "\\end{pmatrix},\\qquad \n",
    "\\boldsymbol{U}_2=\\begin{pmatrix}U_{e2}\\\\ U_{\\mu 2}\\\\ U_{\\tau 2}\\end{pmatrix}=\\begin{pmatrix}\n",
    "s_{12} c_{13} \\\\\n",
    "c_{12} c_{23}-s_{12} s_{13} s_{23}  \\\\\n",
    "-c_{12} s_{23}-s_{12} s_{13} c_{23} \n",
    "\\end{pmatrix},\\qquad\n",
    "\\boldsymbol{U}_3=\\begin{pmatrix}U_{e3}\\\\ U_{\\mu 3}\\\\ U_{\\tau 3}\\end{pmatrix}=\\begin{pmatrix}\n",
    "s_{13}  \\\\\n",
    "c_{13} s_{23} \\\\\n",
    "c_{13} c_{23}\n",
    "\\end{pmatrix}\n",
    "$$\n",
    "\n",
    "### Data\n",
    "Use the _central values_  of the following table but ignoring $\\delta_{CP}$ (In the previous equations was fixed to $\\delta_{CP}=0$). __Hint__: take care of the denominator in the first colum.\n",
    "\n",
    "![IMAGE](https://github.com/restrepo/ComputationalMethods/raw/master/material/figures/nu.png)\n",
    "\n",
    "where $\\Delta m^2_{ij}=m^2_i-m^2_j$ is the squared mass difference between eigenvalues $i$ and $j$; in units of $\\text{eV}^2$.\n"
   ]
  },
  {
   "cell_type": "markdown",
   "metadata": {
    "id": "bnSCrqmSvgl1"
   },
   "source": [
    "### Casas-Ibarra parameterization\n",
    "We can assumme without lost of generality that $\\boldsymbol{A}$ can be generated from a matrix $\\boldsymbol{Y}$ such that\n",
    "$$\n",
    "\\boldsymbol{A}=\\boldsymbol{Y}^{\\operatorname{T}}\\boldsymbol{Y}\n",
    "$$\n",
    "\n",
    "The matrix $\\boldsymbol{Y}$ can be parameterized in terms of an arbitray orthogonal $3\\times 3$ matrix, $\\boldsymbol{R}$, as\n",
    "$$\n",
    "\\boldsymbol{Y}=\\boldsymbol{R} \\boldsymbol{D}_{\\sqrt{m}} \\boldsymbol{U}^{\\operatorname{T}}\n",
    "$$\n",
    "\n",
    "\n",
    "* $R$ is an orthogonal $3\\times 3$ matrix, with three rotation angles $\\alpha_{ij}$ between $(0,2\\pi)$\n",
    "$$\n",
    "\\boldsymbol{R}=\\left(\\begin{array}{ccc}c^\\alpha_{12} c^\\alpha_{13} & s^\\alpha_{12} c^\\alpha_{13} & s^\\alpha_{13}  \\\\ -s^\\alpha_{12} c^\\alpha_{23}-c^\\alpha_{12} s^\\alpha_{13} s^\\alpha_{23}& c^\\alpha_{12} c^\\alpha_{23}-s^\\alpha_{12} s^\\alpha_{13} s^\\alpha_{23}  & c^\\alpha_{13} s^\\alpha_{23} \\\\ s^\\alpha_{12} s^\\alpha_{23}-c^\\alpha_{12} s^\\alpha_{13} c^\\alpha_{23} & -c^\\alpha_{12} s^\\alpha_{23}-s^\\alpha_{12} s^\\alpha_{13} c^\\alpha_{23}  & c^\\alpha_{13} c^\\alpha_{23}\\end{array}\\right)\n",
    "$$\n",
    "where $c^\\alpha_{i j} \\equiv \\cos \\alpha_{i j}$ and $s^\\alpha_{i j} \\equiv \\sin \\alpha_{i j}$.\n",
    "\n",
    "* $$\n",
    " \\boldsymbol{D}_{\\sqrt{m}}=\\operatorname{diag}\\left(\\sqrt{m_1},\\sqrt{m_2},\\sqrt{m_3}\\right)\n",
    "$$"
   ]
  },
  {
   "cell_type": "markdown",
   "metadata": {
    "id": "Iqj7EWSPvgl3"
   },
   "source": [
    "### Problem\n",
    "1. Choose a random value for $m_1$ between $10^{-9}\\ \\text{eV}$ and $10^{-4}\\ \\text{eV}$. Note that because of the wide range, the random variation  must be in the exponents. Obtain the corresponding $m_2$ and $m_3$ with the proper normal ordering.\n",
    "1. Choose random values for $\\alpha_{ij}$  between $(0,2\\pi)$\n",
    "1. Obtain $\\boldsymbol{Y}$\n",
    "1. Check that the generated $\\boldsymbol{A}$ has the proper eigenvalues and eigenvectors\n",
    "1. Check that the eigenvalues of $\\boldsymbol{Y}$ correspond to the square root of the eigenvalues of $\\boldsymbol{A}$ and explain why."
   ]
  },
  {
   "cell_type": "code",
   "execution_count": null,
   "metadata": {
    "id": "2J0n-8Rfvqks"
   },
   "outputs": [],
   "source": []
  }
 ],
 "metadata": {
  "colab": {
   "include_colab_link": true,
   "name": "Examen_2021_1_03_enunciado.ipynb",
   "provenance": []
  },
  "kernelspec": {
   "display_name": "Python 3 (ipykernel)",
   "language": "python",
   "name": "python3"
  },
  "language_info": {
   "codemirror_mode": {
    "name": "ipython",
    "version": 3
   },
   "file_extension": ".py",
   "mimetype": "text/x-python",
   "name": "python",
   "nbconvert_exporter": "python",
   "pygments_lexer": "ipython3",
   "version": "3.9.2"
  }
 },
 "nbformat": 4,
 "nbformat_minor": 4
}
