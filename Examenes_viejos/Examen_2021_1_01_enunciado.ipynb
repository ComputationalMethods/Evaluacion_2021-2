{
 "cells": [
  {
   "cell_type": "markdown",
   "metadata": {
    "colab_type": "text",
    "id": "view-in-github"
   },
   "source": [
    "<a href=\"https://colab.research.google.com/github/ComputationalMethods/Evaluacion_2021-1/blob/main/Examen_2021_1_01_enunciado.ipynb\" target=\"_parent\"><img src=\"https://colab.research.google.com/assets/colab-badge.svg\" alt=\"Open In Colab\"/></a>"
   ]
  },
  {
   "cell_type": "markdown",
   "metadata": {
    "id": "bWVchymOoRBb"
   },
   "source": [
    "# Primer Examen 15%"
   ]
  },
  {
   "cell_type": "markdown",
   "metadata": {
    "id": "vge3gzjNXPJh"
   },
   "source": [
    "A) Cargando el archivo JSON: \n",
    "* https://github.com/restrepo/anomaly/raw/main/solutions.json.gz\n",
    "\n",
    "en Pandas\n",
    "\n",
    "1) Adicione una columna nueva `'smax'` con el valor máximo en valor absoluto de la lista de enteros de la correspondiente entrada en la columna '`solution`'\n",
    "\n",
    "2) Adicione dos columnas nuevas: `'sum_s'` (`sum_s³`) con el resultado de la suma (al cubo) de todos los números de la lista de enteros de la correspondiente entrada en la columna '`solution`'. \n",
    "Note que al final el DataFrame debe quedar con tres columnas adicionales\n",
    "\n",
    "3) Usando como semilla el número de su cédula, genere un número entero de forma aleatoria entre 0 y 390073. Seleccione la fila con el índice correspondiente a ese número entero  y con base en la columna '`solution`': construya un polinomio con esa lista de enteros como coeficientes. Encuentre las raices reales de ese polinomio y realice el correspondiente gráfico incluyendo: \n",
    "* el polinomio generado, sus raices (como puntos en el gráfico) y la derivada del polinomio. \n",
    "* Optimize el rango de valores en el eje $x$ y en el eje $y$ del gráfico, de manera que el polinomio y sus raices se visualicen de la mejor forma posible. (Sugerencia → use: `plt.ylim(ymin,ymax)` ). \n",
    "* Se tendrá en cuenta la estética del gráfico presentado incluyendo la rotulación adecuada del mismo\n"
   ]
  },
  {
   "cell_type": "markdown",
   "metadata": {
    "id": "SCYzhddbXPJi"
   },
   "source": [
    "B)\n",
    "\n",
    "I) Usando como semilla el número de su cédula, genere de forma aletoria un número entero entre 1 y 4\n",
    "\n",
    "II) De acuerdo al entero obtenido, escoja una de las siguientes cinco funciones \n",
    "1. $$x\\operatorname{e}^x=p\\,, $$\n",
    "2. $$\\frac{\\sin x}{x}=+p\\,,$$\n",
    "3. $$\\frac{\\cos x}{x}=+p\\,,$$\n",
    "4. $$\\frac{\\cos x}{x}=-p\\,,$$\n",
    "\n",
    "III) Genere un número aleatorio entre 0 y 1 y asignelo al valor de $p$\n",
    "\n",
    "IV) Encuentre las soluciones a la ecuación trascendental para el intervalo $x$ entre -10 y 10 y gráfique la correspondiente función trascendental y las correspondientes soluciones. Se tendrá en cuenta la estética del gráfico presentado incluyendo la rotulación adecuada del mismo.\n",
    "\n",
    "A modo de nota curiosa: estas ecuaciones trascendentales están asociadas a soluciones de la ecuación de Schödinger en mecánica cuántica: https://doi.org/10.1080/14786435.2015.1081425"
   ]
  },
  {
   "cell_type": "code",
   "execution_count": null,
   "metadata": {
    "id": "snkfIJe2b5LO"
   },
   "outputs": [],
   "source": []
  }
 ],
 "metadata": {
  "colab": {
   "include_colab_link": true,
   "name": "Examen_2020_1_01_enunciado.ipynb",
   "provenance": []
  },
  "kernelspec": {
   "display_name": "Python 3 (ipykernel)",
   "language": "python",
   "name": "python3"
  },
  "language_info": {
   "codemirror_mode": {
    "name": "ipython",
    "version": 3
   },
   "file_extension": ".py",
   "mimetype": "text/x-python",
   "name": "python",
   "nbconvert_exporter": "python",
   "pygments_lexer": "ipython3",
   "version": "3.9.2"
  },
  "toc": {
   "colors": {
    "hover_highlight": "#DAA520",
    "running_highlight": "#FF0000",
    "selected_highlight": "#FFD700"
   },
   "moveMenuLeft": true,
   "nav_menu": {
    "height": "30px",
    "width": "252px"
   },
   "navigate_menu": true,
   "number_sections": true,
   "sideBar": true,
   "threshold": 4,
   "toc_cell": false,
   "toc_section_display": "block",
   "toc_window_display": false
  }
 },
 "nbformat": 4,
 "nbformat_minor": 4
}
